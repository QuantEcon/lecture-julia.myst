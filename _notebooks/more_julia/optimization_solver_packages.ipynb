{
 "cells": [
  {
   "cell_type": "markdown",
   "id": "5cdd4b96",
   "metadata": {},
   "source": [
    "\n",
    "<a id='optimization-solver-packages'></a>"
   ]
  },
  {
   "cell_type": "markdown",
   "id": "05fb3cfa",
   "metadata": {},
   "source": [
    "# Solvers, Optimizers, and Automatic Differentiation"
   ]
  },
  {
   "cell_type": "markdown",
   "id": "6632ca2c",
   "metadata": {},
   "source": [
    "## Contents\n",
    "\n",
    "- [Solvers, Optimizers, and Automatic Differentiation](#Solvers,-Optimizers,-and-Automatic-Differentiation)  \n",
    "  - [Overview](#Overview)  \n",
    "  - [Introduction to Differentiable Programming](#Introduction-to-Differentiable-Programming)  \n",
    "  - [Optimization](#Optimization)  \n",
    "  - [Systems of Equations and Least Squares](#Systems-of-Equations-and-Least-Squares)  \n",
    "  - [LeastSquaresOptim.jl](#LeastSquaresOptim.jl)  \n",
    "  - [Additional Notes](#Additional-Notes)  \n",
    "  - [Exercises](#Exercises)  "
   ]
  },
  {
   "cell_type": "markdown",
   "id": "d4deb3b7",
   "metadata": {},
   "source": [
    "## Overview\n",
    "\n",
    "In this lecture we introduce a few of the Julia libraries that we’ve found particularly useful for quantitative work in economics."
   ]
  },
  {
   "cell_type": "code",
   "execution_count": null,
   "id": "0b04cbc9",
   "metadata": {
    "hide-output": false
   },
   "outputs": [],
   "source": [
    "using LinearAlgebra, Statistics\n",
    "using ForwardDiff, Zygote, Optim, JuMP, Ipopt, BlackBoxOptim, Roots, NLsolve, LeastSquaresOptim\n",
    "using Optim: converged, maximum, maximizer, minimizer, iterations #some extra functions"
   ]
  },
  {
   "cell_type": "markdown",
   "id": "161a8f7f",
   "metadata": {},
   "source": [
    "## Introduction to Differentiable Programming\n",
    "\n",
    "The promise of differentiable programming is that we can move towards taking the derivatives of almost arbitrarily\n",
    "complicated computer programs, rather than simply thinking about the derivatives of mathematical functions.  Differentiable\n",
    "programming is the natural evolution of automatic differentiation (AD, sometimes called algorithmic differentiation).\n",
    "\n",
    "Stepping back, there are three ways to calculate the gradient or Jacobian\n",
    "\n",
    "- Analytic derivatives / Symbolic differentiation  \n",
    "  - You can sometimes calculate the derivative on pen-and-paper, and potentially simplify the expression.  \n",
    "  - In effect, repeated applications of the chain rule, product rule, etc.  \n",
    "  - It is sometimes, though not always, the most accurate and fastest option if there are algebraic simplifications.  \n",
    "  - Sometimes symbolic integration on the computer a good solution, if the package can handle your functions. Doing algebra by hand is tedious and error-prone, but\n",
    "    is sometimes invaluable.  \n",
    "- Finite differences  \n",
    "  - Evaluate the function at least $ N+1 $ times to get the gradient – Jacobians are even worse.  \n",
    "  - Large $ \\Delta $ is numerically stable but inaccurate, too small of $ \\Delta $ is numerically unstable but more accurate.  \n",
    "  - Choosing the $ \\Delta $ is hard, so use packages such as [DiffEqDiffTools.jl](https://github.com/JuliaDiffEq/DiffEqDiffTools.jl).  \n",
    "  - If a function is $ R^N \\to R $ for a large $ N $, this requires $ O(N) $ function evaluations.  \n",
    "\n",
    "\n",
    "$$\n",
    "\\partial_{x_i}f(x_1,\\ldots x_N) \\approx \\frac{f(x_1,\\ldots x_i + \\Delta,\\ldots x_N) - f(x_1,\\ldots x_i,\\ldots x_N)}{\\Delta}\n",
    "$$\n",
    "\n",
    "- Automatic Differentiation  \n",
    "  - The same as analytic/symbolic differentiation, but where the **chain rule** is calculated **numerically** rather than symbolically.  \n",
    "  - Just as with analytic derivatives, can establish rules for the derivatives of individual functions (e.g. $ d\\left(sin(x)\\right) $ to $ cos(x) dx $) for intrinsic derivatives.  \n",
    "\n",
    "\n",
    "AD has two basic approaches, which are variations on the order of evaluating the chain rule: reverse and forward mode (although mixed mode is possible).\n",
    "\n",
    "1. If a function is $ R^N \\to R $, then **reverse-mode** AD can find the gradient in $ O(1) $ sweep (where a “sweep” is $ O(1) $ function evaluations).  \n",
    "1. If a function is $ R \\to R^N $, then **forward-mode** AD can find the jacobian in $ O(1) $ sweeps.  \n",
    "\n",
    "\n",
    "We will explore two types of automatic differentiation in Julia (and discuss a few packages which implement them).  For both, remember the [chain rule](https://en.wikipedia.org/wiki/Chain_rule)\n",
    "\n",
    "$$\n",
    "\\frac{dy}{dx} = \\frac{dy}{dw} \\cdot \\frac{dw}{dx}\n",
    "$$\n",
    "\n",
    "Forward-mode starts the calculation from the left with $ \\frac{dy}{dw} $ first, which then calculates the product with $ \\frac{dw}{dx} $.  On the other hand, reverse mode starts on the right hand side with $ \\frac{dw}{dx} $ and works backwards.\n",
    "\n",
    "Take an example a function with fundamental operations and known analytical derivatives\n",
    "\n",
    "$$\n",
    "f(x_1, x_2) = x_1 x_2 + \\sin(x_1)\n",
    "$$\n",
    "\n",
    "And rewrite this as a function which contains a sequence of simple operations and temporaries."
   ]
  },
  {
   "cell_type": "code",
   "execution_count": null,
   "id": "62148362",
   "metadata": {
    "hide-output": false
   },
   "outputs": [],
   "source": [
    "function f(x_1, x_2)\n",
    "    w_1 = x_1\n",
    "    w_2 = x_2\n",
    "    w_3 = w_1 * w_2\n",
    "    w_4 = sin(w_1)\n",
    "    w_5 = w_3 + w_4\n",
    "    return w_5\n",
    "end"
   ]
  },
  {
   "cell_type": "markdown",
   "id": "3129b9c3",
   "metadata": {},
   "source": [
    "Here we can identify all of the underlying functions (`*, sin, +`), and see if each has an\n",
    "intrinsic derivative.  While these are obvious, with Julia we could come up with all sorts of differentiation rules for arbitrarily\n",
    "complicated combinations and compositions of intrinsic operations.  In fact, there is even [a package](https://github.com/JuliaDiff/ChainRules.jl) for registering more."
   ]
  },
  {
   "cell_type": "markdown",
   "id": "5f8516ec",
   "metadata": {},
   "source": [
    "### Forward-Mode Automatic Differentiation\n",
    "\n",
    "In forward-mode AD, you first fix the variable you are interested in (called “seeding”), and then evaluate the chain rule in left-to-right order.\n",
    "\n",
    "For example, with our $ f(x_1, f_2) $ example above, if we wanted to calculate the derivative with respect to $ x_1 $ then\n",
    "we can seed the setup accordingly.  $ \\frac{\\partial  w_1}{\\partial  x_1} = 1 $ since we are taking the derivative of it, while $ \\frac{\\partial  w_1}{\\partial  x_1} = 0 $.\n",
    "\n",
    "Following through with these, redo all of the calculations for the derivative in parallel with the function itself.\n",
    "\n",
    "$$\n",
    "\\begin{array}{l|l}\n",
    "f(x_1, x_2) &\n",
    "\\frac{\\partial f(x_1,x_2)}{\\partial x_1}\n",
    "\\\\\n",
    "\\hline\n",
    "w_1 = x_1 &\n",
    "\\frac{\\partial  w_1}{\\partial  x_1} = 1 \\text{ (seed)}\\\\\n",
    "w_2 = x_2 &\n",
    "\\frac{\\partial   w_2}{\\partial  x_1} = 0 \\text{ (seed)}\n",
    "\\\\\n",
    "w_3 = w_1 \\cdot w_2 &\n",
    "\\frac{\\partial  w_3}{\\partial x_1} = w_2 \\cdot \\frac{\\partial   w_1}{\\partial  x_1} + w_1 \\cdot \\frac{\\partial   w_2}{\\partial  x_1}\n",
    "\\\\\n",
    "w_4 = \\sin w_1 &\n",
    "\\frac{\\partial   w_4}{\\partial x_1} = \\cos w_1 \\cdot \\frac{\\partial  w_1}{\\partial x_1}\n",
    "\\\\\n",
    "w_5 = w_3 + w_4 &\n",
    "\\frac{\\partial  w_5}{\\partial x_1} = \\frac{\\partial  w_3}{\\partial x_1} + \\frac{\\partial  w_4}{\\partial x_1}\n",
    "\\end{array}\n",
    "$$\n",
    "\n",
    "Since these two could be done at the same time, we say there is “one pass” required for this calculation.\n",
    "\n",
    "Generalizing a little, if the function was vector-valued, then that single pass would get the entire row of the Jacobian in that single pass.  Hence for a $ R^N \\to R^M $ function, requires $ N $ passes to get a dense Jacobian using forward-mode AD.\n",
    "\n",
    "How can you implement forward-mode AD?  It turns out to be fairly easy with a generic programming language to make a simple example (while the devil is in the details for\n",
    "a high-performance implementation)."
   ]
  },
  {
   "cell_type": "markdown",
   "id": "164bee32",
   "metadata": {},
   "source": [
    "### Forward-Mode with Dual Numbers\n",
    "\n",
    "One way to implement forward-mode AD is to use [dual numbers](https://en.wikipedia.org/wiki/Dual_number).\n",
    "\n",
    "Instead of working with just a real number, e.g. $ x $, we will augment each with an infinitesimal $ \\epsilon $ and use $ x + \\epsilon $.\n",
    "\n",
    "From Taylor’s theorem,\n",
    "\n",
    "$$\n",
    "f(x + \\epsilon) = f(x) + f'(x)\\epsilon + O(\\epsilon^2)\n",
    "$$\n",
    "\n",
    "where we will define the infinitesimal such that $ \\epsilon^2 = 0 $.\n",
    "\n",
    "With this definition, we can write a general rule for differentiation of $ g(x,y) $ as the chain rule for the total derivative\n",
    "\n",
    "$$\n",
    "g(x + \\epsilon, y + \\epsilon) = g(x, y) + (\\partial_x g(x,y) + \\partial_y g(x,y))\\epsilon\n",
    "$$\n",
    "\n",
    "But, note that if we keep track of the constant in front of the $ \\epsilon $ terms (e.g. a $ x' $ and $ y' $)\n",
    "\n",
    "$$\n",
    "g(x + x'\\epsilon, y + y'\\epsilon) = g(x, y) + (\\partial_x g(x,y)x' + \\partial_y g(x,y)y')\\epsilon\n",
    "$$\n",
    "\n",
    "This is simply the chain rule.  A few more examples\n",
    "\n",
    "$$\n",
    "\\begin{aligned}\n",
    "        (x + x'\\epsilon) + (y + y'\\epsilon) &= (x + y) + (x' + y')\\epsilon\\\\\n",
    "(x + x'\\epsilon)\\times(y + y'\\epsilon) &= (xy) + (x'y + y'x)\\epsilon\\\\\n",
    "\\exp(x + x'\\epsilon) &= \\exp(x) + (x'\\exp(x))\\epsilon\\\\\n",
    "        \\end{aligned}\n",
    "$$\n",
    "\n",
    "Using the generic programming in Julia, it is easy to define a new dual number type which can encapsulate the pair $ (x, x') $ and provide a definitions for\n",
    "all of the basic operations.  Each definition then has the chain-rule built into it.\n",
    "\n",
    "With this approach, the “seed” process is simple the creation of the $ \\epsilon $ for the underlying variable.\n",
    "\n",
    "So if we have the function $ f(x_1, x_2) $ and we wanted to find the derivative $ \\partial_{x_1} f(3.8, 6.9) $ then then we would seed them with the dual numbers $ x_1 \\to (3.8, 1) $ and $ x_2 \\to (6.9, 0) $.\n",
    "\n",
    "If you then follow all of the same scalar operations above with a seeded dual number, it will calculate both the function value and the derivative in a single “sweep” and without modifying any of your (generic) code."
   ]
  },
  {
   "cell_type": "markdown",
   "id": "4d2ed208",
   "metadata": {},
   "source": [
    "### ForwardDiff.jl\n",
    "\n",
    "Dual-numbers are at the heart of one of the AD packages we have already seen."
   ]
  },
  {
   "cell_type": "code",
   "execution_count": null,
   "id": "54d2886f",
   "metadata": {
    "hide-output": false
   },
   "outputs": [],
   "source": [
    "using ForwardDiff\n",
    "h(x) = sin(x[1]) + x[1] * x[2] + sinh(x[1] * x[2]) # multivariate.\n",
    "x = [1.4 2.2]\n",
    "@show ForwardDiff.gradient(h,x) # use AD, seeds from x\n",
    "\n",
    "#Or, can use complicated functions of many variables\n",
    "f(x) = sum(sin, x) + prod(tan, x) * sum(sqrt, x)\n",
    "g = (x) -> ForwardDiff.gradient(f, x); # g() is now the gradient\n",
    "g(rand(5)) # gradient at a random point\n",
    "# ForwardDiff.hessian(f,x') # or the hessian"
   ]
  },
  {
   "cell_type": "markdown",
   "id": "09c31943",
   "metadata": {},
   "source": [
    "We can even auto-differentiate complicated functions with embedded iterations."
   ]
  },
  {
   "cell_type": "code",
   "execution_count": null,
   "id": "13fa84d1",
   "metadata": {
    "hide-output": false
   },
   "outputs": [],
   "source": [
    "function squareroot(x) #pretending we don't know sqrt()\n",
    "    z = copy(x) # Initial starting point for Newton’s method\n",
    "    while abs(z*z - x) > 1e-13\n",
    "        z = z - (z*z-x)/(2z)\n",
    "    end\n",
    "    return z\n",
    "end\n",
    "squareroot(2.0)"
   ]
  },
  {
   "cell_type": "code",
   "execution_count": null,
   "id": "348e4576",
   "metadata": {
    "hide-output": false
   },
   "outputs": [],
   "source": [
    "using ForwardDiff\n",
    "dsqrt(x) = ForwardDiff.derivative(squareroot, x)\n",
    "dsqrt(2.0)"
   ]
  },
  {
   "cell_type": "markdown",
   "id": "b916de29",
   "metadata": {},
   "source": [
    "### Zygote.jl\n",
    "\n",
    "Unlike forward-mode auto-differentiation, reverse-mode is very difficult to implement efficiently, and there are many variations on the best approach.\n",
    "\n",
    "Many reverse-mode packages are connected to machine-learning packages, since the efficient gradients of $ R^N \\to R $ loss functions are necessary for the gradient descent optimization algorithms used in machine learning.\n",
    "\n",
    "One recent package is [Zygote.jl](https://github.com/FluxML/Zygote.jl), which is used in the Flux.jl framework."
   ]
  },
  {
   "cell_type": "code",
   "execution_count": null,
   "id": "93555cce",
   "metadata": {
    "hide-output": false
   },
   "outputs": [],
   "source": [
    "using Zygote\n",
    "\n",
    "h(x, y) = 3x^2 + 2x + 1 + y*x - y\n",
    "gradient(h, 3.0, 5.0)"
   ]
  },
  {
   "cell_type": "markdown",
   "id": "2cab12f9",
   "metadata": {},
   "source": [
    "Here we see that Zygote has a gradient function as the interface, which returns a tuple.\n",
    "\n",
    "You could create this as an operator if you wanted to.,"
   ]
  },
  {
   "cell_type": "code",
   "execution_count": null,
   "id": "d09236d1",
   "metadata": {
    "hide-output": false
   },
   "outputs": [],
   "source": [
    "D(f) = x-> gradient(f, x)[1]  # returns first in tuple\n",
    "\n",
    "D_sin = D(sin)\n",
    "D_sin(4.0)"
   ]
  },
  {
   "cell_type": "markdown",
   "id": "a2c47a8a",
   "metadata": {},
   "source": [
    "For functions of one (Julia) variable, we can find the by simply using the `'` after a function name"
   ]
  },
  {
   "cell_type": "code",
   "execution_count": null,
   "id": "21d8f100",
   "metadata": {
    "hide-output": false
   },
   "outputs": [],
   "source": [
    "using Statistics\n",
    "p(x) = mean(abs, x)\n",
    "p'([1.0, 3.0, -2.0])"
   ]
  },
  {
   "cell_type": "markdown",
   "id": "c5b8992c",
   "metadata": {},
   "source": [
    "Or, using the complicated iterative function we defined for the squareroot,"
   ]
  },
  {
   "cell_type": "code",
   "execution_count": null,
   "id": "1029651b",
   "metadata": {
    "hide-output": false
   },
   "outputs": [],
   "source": [
    "squareroot'(2.0)"
   ]
  },
  {
   "cell_type": "markdown",
   "id": "4ef357f4",
   "metadata": {},
   "source": [
    "Zygote supports combinations of vectors and scalars as the function parameters."
   ]
  },
  {
   "cell_type": "code",
   "execution_count": null,
   "id": "1839db6f",
   "metadata": {
    "hide-output": false
   },
   "outputs": [],
   "source": [
    "h(x,n) = (sum(x.^n))^(1/n)\n",
    "gradient(h, [1.0, 4.0, 6.0], 2.0)"
   ]
  },
  {
   "cell_type": "markdown",
   "id": "4589c96d",
   "metadata": {},
   "source": [
    "The gradients can be very high dimensional.  For example, to do a simple nonlinear optimization problem\n",
    "with 1 million dimensions, solved in a few seconds."
   ]
  },
  {
   "cell_type": "code",
   "execution_count": null,
   "id": "b92de4b5",
   "metadata": {
    "hide-output": false
   },
   "outputs": [],
   "source": [
    "using Optim, LinearAlgebra\n",
    "N = 1000000\n",
    "y = rand(N)\n",
    "λ = 0.01\n",
    "obj(x) = sum((x .- y).^2) + λ*norm(x)\n",
    "\n",
    "x_iv = rand(N)\n",
    "function g!(G, x)\n",
    "    G .=  obj'(x)\n",
    "end\n",
    "\n",
    "results = optimize(obj, g!, x_iv, LBFGS()) # or ConjugateGradient()\n",
    "println(\"minimum = $(results.minimum) with in \"*\n",
    "\"$(results.iterations) iterations\")"
   ]
  },
  {
   "cell_type": "markdown",
   "id": "9fcd292b",
   "metadata": {},
   "source": [
    "Caution: while Zygote is the most exciting reverse-mode AD implementation in Julia, it has many rough edges.\n",
    "\n",
    "- If you write a function, take its gradient, and then modify the function, you need to call `Zygote.refresh()` or else the gradient will be out of sync.  This may not apply for Julia 1.3+.  \n",
    "- It provides no features for getting Jacobians, so you would have to ask for each row of the Jacobian separately.  That said, you\n",
    "  probably want to use  `ForwardDiff.jl` for Jacobians if the dimension of the output is similar to the dimension of the input.  \n",
    "- You cannot, in the current release, use mutating functions (e.g. modify a value in an array/etc.) although that feature is in progress.  \n",
    "- Compiling can be very slow for complicated functions.  "
   ]
  },
  {
   "cell_type": "markdown",
   "id": "5b316575",
   "metadata": {},
   "source": [
    "## Optimization\n",
    "\n",
    "There are a large number of packages intended to be used for optimization in Julia.\n",
    "\n",
    "Part of the reason for the diversity of options is that Julia makes it possible to efficiently implement a large number of variations on optimization routines.\n",
    "\n",
    "The other reason is that different types of optimization problems require different algorithms."
   ]
  },
  {
   "cell_type": "markdown",
   "id": "e74531ba",
   "metadata": {},
   "source": [
    "### Optim.jl\n",
    "\n",
    "A good pure-Julia solution for the (unconstrained or box-bounded) optimization of\n",
    "univariate and multivariate function is the [Optim.jl](https://github.com/JuliaNLSolvers/Optim.jl) package.\n",
    "\n",
    "By default, the algorithms in `Optim.jl` target minimization rather than\n",
    "maximization, so if a function is called `optimize` it will mean minimization."
   ]
  },
  {
   "cell_type": "markdown",
   "id": "73c53a80",
   "metadata": {},
   "source": [
    "#### Univariate Functions on Bounded Intervals\n",
    "\n",
    "[Univariate optimization](http://julianlsolvers.github.io/Optim.jl/stable/user/minimization/#minimizing-a-univariate-function-on-a-bounded-interval)\n",
    "defaults to a robust hybrid optimization routine called [Brent’s method](https://en.wikipedia.org/wiki/Brent%27s_method)."
   ]
  },
  {
   "cell_type": "code",
   "execution_count": null,
   "id": "fbfab289",
   "metadata": {
    "hide-output": false
   },
   "outputs": [],
   "source": [
    "using Optim\n",
    "using Optim: converged, maximum, maximizer, minimizer, iterations #some extra functions\n",
    "\n",
    "result = optimize(x-> x^2, -2.0, 1.0)"
   ]
  },
  {
   "cell_type": "markdown",
   "id": "d20d078c",
   "metadata": {},
   "source": [
    "Always check if the results converged, and throw errors otherwise"
   ]
  },
  {
   "cell_type": "code",
   "execution_count": null,
   "id": "0c3e5d47",
   "metadata": {
    "hide-output": false
   },
   "outputs": [],
   "source": [
    "converged(result) || error(\"Failed to converge in $(iterations(result)) iterations\")\n",
    "xmin = result.minimizer\n",
    "result.minimum"
   ]
  },
  {
   "cell_type": "markdown",
   "id": "d1714be3",
   "metadata": {},
   "source": [
    "The first line is a logical OR between `converged(result)` and `error(\"...\")`.\n",
    "\n",
    "If the convergence check passes, the logical sentence is true, and it will proceed to the next line; if not, it will throw the error.\n",
    "\n",
    "Or to maximize"
   ]
  },
  {
   "cell_type": "code",
   "execution_count": null,
   "id": "f987b78e",
   "metadata": {
    "hide-output": false
   },
   "outputs": [],
   "source": [
    "f(x) = -x^2\n",
    "result = maximize(f, -2.0, 1.0)\n",
    "converged(result) || error(\"Failed to converge in $(iterations(result)) iterations\")\n",
    "xmin = maximizer(result)\n",
    "fmax = maximum(result)"
   ]
  },
  {
   "cell_type": "markdown",
   "id": "524e99b8",
   "metadata": {},
   "source": [
    "**Note:** Notice that we call `optimize` results using `result.minimizer`, and `maximize` results using `maximizer(result)`."
   ]
  },
  {
   "cell_type": "markdown",
   "id": "3c91e288",
   "metadata": {},
   "source": [
    "#### Unconstrained Multivariate Optimization\n",
    "\n",
    "There are a variety of [algorithms and options](http://julianlsolvers.github.io/Optim.jl/stable/user/minimization/#_top) for multivariate optimization.\n",
    "\n",
    "From the documentation, the simplest version is"
   ]
  },
  {
   "cell_type": "code",
   "execution_count": null,
   "id": "4accb9bd",
   "metadata": {
    "hide-output": false
   },
   "outputs": [],
   "source": [
    "f(x) = (1.0 - x[1])^2 + 100.0 * (x[2] - x[1]^2)^2\n",
    "x_iv = [0.0, 0.0]\n",
    "results = optimize(f, x_iv) # i.e. optimize(f, x_iv, NelderMead())"
   ]
  },
  {
   "cell_type": "markdown",
   "id": "c0f73685",
   "metadata": {},
   "source": [
    "The default algorithm in `NelderMead`, which is derivative-free and hence requires many function evaluations.\n",
    "\n",
    "To change the algorithm type to [L-BFGS](http://julianlsolvers.github.io/Optim.jl/stable/algo/lbfgs/)"
   ]
  },
  {
   "cell_type": "code",
   "execution_count": null,
   "id": "dda8e465",
   "metadata": {
    "hide-output": false
   },
   "outputs": [],
   "source": [
    "results = optimize(f, x_iv, LBFGS())\n",
    "println(\"minimum = $(results.minimum) with argmin = $(results.minimizer) in \"*\n",
    "\"$(results.iterations) iterations\")"
   ]
  },
  {
   "cell_type": "markdown",
   "id": "da987d8e",
   "metadata": {},
   "source": [
    "Note that this has fewer iterations.\n",
    "\n",
    "As no derivative was given, it used [finite differences](https://en.wikipedia.org/wiki/Finite_difference) to approximate the gradient of `f(x)`.\n",
    "\n",
    "However, since most of the algorithms require derivatives, you will often want to use auto differentiation or pass analytical gradients if possible."
   ]
  },
  {
   "cell_type": "code",
   "execution_count": null,
   "id": "7671dc5b",
   "metadata": {
    "hide-output": false
   },
   "outputs": [],
   "source": [
    "f(x) = (1.0 - x[1])^2 + 100.0 * (x[2] - x[1]^2)^2\n",
    "x_iv = [0.0, 0.0]\n",
    "results = optimize(f, x_iv, LBFGS(), autodiff=:forward) # i.e. use ForwardDiff.jl\n",
    "println(\"minimum = $(results.minimum) with argmin = $(results.minimizer) in \"*\n",
    "\"$(results.iterations) iterations\")"
   ]
  },
  {
   "cell_type": "markdown",
   "id": "61140594",
   "metadata": {},
   "source": [
    "Note that we did not need to use `ForwardDiff.jl` directly, as long as our `f(x)` function was written to be generic (see the [generic programming lecture](https://julia.quantecon.org/generic_programming.html) ).\n",
    "\n",
    "Alternatively, with an analytical gradient"
   ]
  },
  {
   "cell_type": "code",
   "execution_count": null,
   "id": "4f24a817",
   "metadata": {
    "hide-output": false
   },
   "outputs": [],
   "source": [
    "f(x) = (1.0 - x[1])^2 + 100.0 * (x[2] - x[1]^2)^2\n",
    "x_iv = [0.0, 0.0]\n",
    "function g!(G, x)\n",
    "    G[1] = -2.0 * (1.0 - x[1]) - 400.0 * (x[2] - x[1]^2) * x[1]\n",
    "    G[2] = 200.0 * (x[2] - x[1]^2)\n",
    "end\n",
    "\n",
    "results = optimize(f, g!, x_iv, LBFGS()) # or ConjugateGradient()\n",
    "println(\"minimum = $(results.minimum) with argmin = $(results.minimizer) in \"*\n",
    "\"$(results.iterations) iterations\")"
   ]
  },
  {
   "cell_type": "markdown",
   "id": "d61e19ec",
   "metadata": {},
   "source": [
    "For derivative-free methods, you can change the algorithm – and have no need to provide a gradient"
   ]
  },
  {
   "cell_type": "code",
   "execution_count": null,
   "id": "c1613b36",
   "metadata": {
    "hide-output": false
   },
   "outputs": [],
   "source": [
    "f(x) = (1.0 - x[1])^2 + 100.0 * (x[2] - x[1]^2)^2\n",
    "x_iv = [0.0, 0.0]\n",
    "results = optimize(f, x_iv, SimulatedAnnealing()) # or ParticleSwarm() or NelderMead()"
   ]
  },
  {
   "cell_type": "markdown",
   "id": "9926f03d",
   "metadata": {},
   "source": [
    "However, you will note that this did not converge, as stochastic methods typically require many more iterations as a tradeoff for their global-convergence properties.\n",
    "\n",
    "See the [maximum likelihood](http://julianlsolvers.github.io/Optim.jl/stable/examples/generated/maxlikenlm/)\n",
    "example and the accompanying [Jupyter notebook](https://nbviewer.jupyter.org/github/JuliaNLSolvers/Optim.jl/blob/gh-pages/v0.15.3/examples/generated/maxlikenlm.ipynb)."
   ]
  },
  {
   "cell_type": "markdown",
   "id": "57589f2b",
   "metadata": {},
   "source": [
    "### JuMP.jl\n",
    "\n",
    "The [JuMP.jl](https://github.com/JuliaOpt/JuMP.jl) package is an ambitious implementation of a modelling language for optimization problems in Julia.\n",
    "\n",
    "In that sense, it is more like an AMPL (or Pyomo) built on top of the Julia\n",
    "language with macros, and able to use a variety of different commerical and open source solvers.\n",
    "\n",
    "If you have a linear, quadratic, conic, mixed-integer linear, etc. problem then this will likely be the ideal “meta-package” for calling various solvers.\n",
    "\n",
    "For nonlinear problems, the modelling language may make things difficult for complicated functions (as it is not designed to be used as a general-purpose nonlinear optimizer).\n",
    "\n",
    "See the [quick start guide](http://www.juliaopt.org/JuMP.jl/0.18/quickstart.html) for more details on all of the options.\n",
    "\n",
    "The following is an example of calling a linear objective with a nonlinear constraint (provided by an external function).\n",
    "\n",
    "Here `Ipopt` stands for `Interior Point OPTimizer`, a [nonlinear solver](https://github.com/JuliaOpt/Ipopt.jl) in Julia"
   ]
  },
  {
   "cell_type": "code",
   "execution_count": null,
   "id": "70b29318",
   "metadata": {
    "hide-output": false
   },
   "outputs": [],
   "source": [
    "using JuMP, Ipopt\n",
    "# solve\n",
    "# max( x[1] + x[2] )\n",
    "# st sqrt(x[1]^2 + x[2]^2) <= 1\n",
    "\n",
    "function squareroot(x) # pretending we don't know sqrt()\n",
    "    z = x # Initial starting point for Newton’s method\n",
    "    while abs(z*z - x) > 1e-13\n",
    "        z = z - (z*z-x)/(2z)\n",
    "    end\n",
    "    return z\n",
    "end\n",
    "m = Model(with_optimizer(Ipopt.Optimizer))\n",
    "# need to register user defined functions for AD\n",
    "JuMP.register(m,:squareroot, 1, squareroot, autodiff=true)\n",
    "\n",
    "@variable(m, x[1:2], start=0.5) # start is the initial condition\n",
    "@objective(m, Max, sum(x))\n",
    "@NLconstraint(m, squareroot(x[1]^2+x[2]^2) <= 1)\n",
    "@show JuMP.optimize!(m)"
   ]
  },
  {
   "cell_type": "markdown",
   "id": "5788942f",
   "metadata": {},
   "source": [
    "And this is an example of a quadratic objective"
   ]
  },
  {
   "cell_type": "code",
   "execution_count": null,
   "id": "1cee1b21",
   "metadata": {
    "hide-output": false
   },
   "outputs": [],
   "source": [
    "# solve\n",
    "# min (1-x)^2 + 100(y-x^2)^2)\n",
    "# st x + y >= 10\n",
    "\n",
    "using JuMP,Ipopt\n",
    "m = Model(with_optimizer(Ipopt.Optimizer)) # settings for the solver\n",
    "@variable(m, x, start = 0.0)\n",
    "@variable(m, y, start = 0.0)\n",
    "\n",
    "@NLobjective(m, Min, (1-x)^2 + 100(y-x^2)^2)\n",
    "\n",
    "JuMP.optimize!(m)\n",
    "println(\"x = \", value(x), \" y = \", value(y))\n",
    "\n",
    "# adding a (linear) constraint\n",
    "@constraint(m, x + y == 10)\n",
    "JuMP.optimize!(m)\n",
    "println(\"x = \", value(x), \" y = \", value(y))"
   ]
  },
  {
   "cell_type": "markdown",
   "id": "5796528b",
   "metadata": {},
   "source": [
    "### BlackBoxOptim.jl\n",
    "\n",
    "Another package for doing global optimization without derivatives is [BlackBoxOptim.jl](https://github.com/robertfeldt/BlackBoxOptim.jl).\n",
    "\n",
    "To see an example from the documentation"
   ]
  },
  {
   "cell_type": "code",
   "execution_count": null,
   "id": "1335175f",
   "metadata": {
    "hide-output": false
   },
   "outputs": [],
   "source": [
    "using BlackBoxOptim\n",
    "\n",
    "function rosenbrock2d(x)\n",
    "return (1.0 - x[1])^2 + 100.0 * (x[2] - x[1]^2)^2\n",
    "end\n",
    "\n",
    "results = bboptimize(rosenbrock2d; SearchRange = (-5.0, 5.0), NumDimensions = 2);"
   ]
  },
  {
   "cell_type": "markdown",
   "id": "c1af77d2",
   "metadata": {},
   "source": [
    "An example for [parallel execution](https://github.com/robertfeldt/BlackBoxOptim.jl/blob/master/examples/rosenbrock_parallel.jl) of the objective is provided."
   ]
  },
  {
   "cell_type": "markdown",
   "id": "5caff9a4",
   "metadata": {},
   "source": [
    "## Systems of Equations and Least Squares"
   ]
  },
  {
   "cell_type": "markdown",
   "id": "21825508",
   "metadata": {},
   "source": [
    "### Roots.jl\n",
    "\n",
    "A root of a real function $ f $ on $ [a,b] $ is an $ x \\in [a, b] $ such that $ f(x)=0 $.\n",
    "\n",
    "For example, if we plot the function\n",
    "\n",
    "\n",
    "<a id='equation-root-f'></a>\n",
    "$$\n",
    "f(x) = \\sin(4 (x - 1/4)) + x + x^{20} - 1 \\tag{9.1}\n",
    "$$\n",
    "\n",
    "with $ x \\in [0,1] $ we get\n",
    "\n",
    "![https://julia.quantecon.org/_static/figures/sine-screenshot-2.png](https://julia.quantecon.org/_static/figures/sine-screenshot-2.png)\n",
    "\n",
    "  \n",
    "The unique root is approximately 0.408.\n",
    "\n",
    "The [Roots.jl](https://github.com/JuliaLang/Roots.jl) package offers `fzero()` to find roots"
   ]
  },
  {
   "cell_type": "code",
   "execution_count": null,
   "id": "669be1e2",
   "metadata": {
    "hide-output": false
   },
   "outputs": [],
   "source": [
    "using Roots\n",
    "f(x) = sin(4 * (x - 1/4)) + x + x^20 - 1\n",
    "fzero(f, 0, 1)"
   ]
  },
  {
   "cell_type": "markdown",
   "id": "ebc336c7",
   "metadata": {},
   "source": [
    "### NLsolve.jl\n",
    "\n",
    "The [NLsolve.jl](https://github.com/JuliaNLSolvers/NLsolve.jl/) package provides functions to solve for multivariate systems of equations and fixed points.\n",
    "\n",
    "From the documentation, to solve for a system of equations without providing a Jacobian"
   ]
  },
  {
   "cell_type": "code",
   "execution_count": null,
   "id": "bcd18092",
   "metadata": {
    "hide-output": false
   },
   "outputs": [],
   "source": [
    "using NLsolve\n",
    "\n",
    "f(x) = [(x[1]+3)*(x[2]^3-7)+18\n",
    "        sin(x[2]*exp(x[1])-1)] # returns an array\n",
    "\n",
    "results = nlsolve(f, [ 0.1; 1.2])"
   ]
  },
  {
   "cell_type": "markdown",
   "id": "f51674f6",
   "metadata": {},
   "source": [
    "In the above case, the algorithm used finite differences to calculate the Jacobian.\n",
    "\n",
    "Alternatively, if `f(x)` is written generically, you can use auto-differentiation with a single setting."
   ]
  },
  {
   "cell_type": "code",
   "execution_count": null,
   "id": "cbed9f72",
   "metadata": {
    "hide-output": false
   },
   "outputs": [],
   "source": [
    "results = nlsolve(f, [ 0.1; 1.2], autodiff=:forward)\n",
    "\n",
    "println(\"converged=$(NLsolve.converged(results)) at root=$(results.zero) in \"*\n",
    "\"$(results.iterations) iterations and $(results.f_calls) function calls\")"
   ]
  },
  {
   "cell_type": "markdown",
   "id": "b1672212",
   "metadata": {},
   "source": [
    "Providing a function which operates inplace (i.e., modifies an argument) may help performance for large systems of equations (and hurt it for small ones)."
   ]
  },
  {
   "cell_type": "code",
   "execution_count": null,
   "id": "3daf8920",
   "metadata": {
    "hide-output": false
   },
   "outputs": [],
   "source": [
    "function f!(F, x) # modifies the first argument\n",
    "    F[1] = (x[1]+3)*(x[2]^3-7)+18\n",
    "    F[2] = sin(x[2]*exp(x[1])-1)\n",
    "end\n",
    "\n",
    "results = nlsolve(f!, [ 0.1; 1.2], autodiff=:forward)\n",
    "\n",
    "println(\"converged=$(NLsolve.converged(results)) at root=$(results.zero) in \"*\n",
    "\"$(results.iterations) iterations and $(results.f_calls) function calls\")"
   ]
  },
  {
   "cell_type": "markdown",
   "id": "e7265188",
   "metadata": {},
   "source": [
    "## LeastSquaresOptim.jl\n",
    "\n",
    "Many optimization problems can be solved using linear or nonlinear least squares.\n",
    "\n",
    "Let $ x \\in R^N $ and $ F(x) : R^N \\to R^M $ with $ M \\geq N $, then the nonlinear least squares problem is\n",
    "\n",
    "$$\n",
    "\\min_x F(x)^T F(x)\n",
    "$$\n",
    "\n",
    "While $ F(x)^T F(x) \\to R $, and hence this problem could technically use any nonlinear optimizer, it is useful to exploit the structure of the problem.\n",
    "\n",
    "In particular, the Jacobian of $ F(x) $, can be used to approximate the Hessian of the objective.\n",
    "\n",
    "As with most nonlinear optimization problems, the benefits will typically become evident only when analytical or automatic differentiation is possible.\n",
    "\n",
    "If $ M = N $ and we know a root $ F(x^*) = 0 $ to the system of equations exists, then NLS is the defacto method for solving large **systems of equations**.\n",
    "\n",
    "An implementation of NLS is given in [LeastSquaresOptim.jl](https://github.com/matthieugomez/LeastSquaresOptim.jl).\n",
    "\n",
    "From the documentation"
   ]
  },
  {
   "cell_type": "code",
   "execution_count": null,
   "id": "59bd7acb",
   "metadata": {
    "hide-output": false
   },
   "outputs": [],
   "source": [
    "using LeastSquaresOptim\n",
    "function rosenbrock(x)\n",
    "    [1 - x[1], 100 * (x[2]-x[1]^2)]\n",
    "end\n",
    "LeastSquaresOptim.optimize(rosenbrock, zeros(2), Dogleg())"
   ]
  },
  {
   "cell_type": "markdown",
   "id": "0f019fcf",
   "metadata": {},
   "source": [
    "**Note:** Because there is a name clash between `Optim.jl` and this package, to use both we need to qualify the use of the `optimize` function (i.e. `LeastSquaresOptim.optimize`).\n",
    "\n",
    "Here, by default it will use AD with `ForwardDiff.jl` to calculate the Jacobian,\n",
    "but you could also provide your own calculation of the Jacobian (analytical or using finite differences) and/or calculate the function inplace."
   ]
  },
  {
   "cell_type": "code",
   "execution_count": null,
   "id": "cb99f27b",
   "metadata": {
    "hide-output": false
   },
   "outputs": [],
   "source": [
    "function rosenbrock_f!(out, x)\n",
    "    out[1] = 1 - x[1]\n",
    "    out[2] = 100 * (x[2]-x[1]^2)\n",
    "end\n",
    "LeastSquaresOptim.optimize!(LeastSquaresProblem(x = zeros(2),\n",
    "                                f! = rosenbrock_f!, output_length = 2))\n",
    "\n",
    "# if you want to use gradient\n",
    "function rosenbrock_g!(J, x)\n",
    "    J[1, 1] = -1\n",
    "    J[1, 2] = 0\n",
    "    J[2, 1] = -200 * x[1]\n",
    "    J[2, 2] = 100\n",
    "end\n",
    "LeastSquaresOptim.optimize!(LeastSquaresProblem(x = zeros(2),\n",
    "                                f! = rosenbrock_f!, g! = rosenbrock_g!, output_length = 2))"
   ]
  },
  {
   "cell_type": "markdown",
   "id": "9b56e568",
   "metadata": {},
   "source": [
    "## Additional Notes\n",
    "\n",
    "Watch [this video](https://www.youtube.com/watch?v=vAp6nUMrKYg&feature=youtu.be) from one of Julia’s creators on automatic differentiation."
   ]
  },
  {
   "cell_type": "markdown",
   "id": "49fc6866",
   "metadata": {},
   "source": [
    "## Exercises"
   ]
  },
  {
   "cell_type": "markdown",
   "id": "c0639645",
   "metadata": {},
   "source": [
    "### Exercise 1\n",
    "\n",
    "Doing a simple implementation of forward-mode auto-differentiation is very easy in Julia since it is generic.  In this exercise, you\n",
    "will fill in a few of the operations required for a simple AD implementation.\n",
    "\n",
    "First, we need to provide a type to hold the dual."
   ]
  },
  {
   "cell_type": "code",
   "execution_count": null,
   "id": "41bd98f9",
   "metadata": {
    "hide-output": false
   },
   "outputs": [],
   "source": [
    "struct DualNumber{T} <: Real\n",
    "    val::T\n",
    "    ϵ::T\n",
    "end"
   ]
  },
  {
   "cell_type": "markdown",
   "id": "b439fa72",
   "metadata": {},
   "source": [
    "Here we have made it a subtype of `Real` so that it can pass through functions expecting Reals.\n",
    "\n",
    "We can add on a variety of chain rule definitions by importing in the appropriate functions and adding DualNumber versions.  For example"
   ]
  },
  {
   "cell_type": "code",
   "execution_count": null,
   "id": "5d3e4ec7",
   "metadata": {
    "hide-output": false
   },
   "outputs": [],
   "source": [
    "import Base: +, *, -, ^, exp\n",
    "+(x::DualNumber, y::DualNumber) = DualNumber(x.val + y.val, x.ϵ + y.ϵ)  # dual addition\n",
    "+(x::DualNumber, a::Number) = DualNumber(x.val + a, x.ϵ)  # i.e. scalar addition, not dual\n",
    "+(a::Number, x::DualNumber) = DualNumber(x.val + a, x.ϵ)  # i.e. scalar addition, not dual"
   ]
  },
  {
   "cell_type": "markdown",
   "id": "15ebb67d",
   "metadata": {},
   "source": [
    "With that, we can seed a dual number and find simple derivatives,"
   ]
  },
  {
   "cell_type": "code",
   "execution_count": null,
   "id": "63258cd5",
   "metadata": {
    "hide-output": false
   },
   "outputs": [],
   "source": [
    "f(x, y) = 3.0 + x + y\n",
    "\n",
    "x = DualNumber(2.0, 1.0)  # x -> 2.0 + 1.0\\epsilon\n",
    "y = DualNumber(3.0, 0.0)  # i.e. y = 3.0, no derivative\n",
    "\n",
    "\n",
    "# seeded calculates both teh function and the d/dx gradient!\n",
    "f(x,y)"
   ]
  },
  {
   "cell_type": "markdown",
   "id": "23375d9a",
   "metadata": {},
   "source": [
    "For this assignment:\n",
    "\n",
    "1. Add in AD rules for the other operations: `*, -, ^, exp`.  \n",
    "1. Come up with some examples of univariate and multivariate functions combining those operations and use your AD implementation to find the derivatives.  "
   ]
  }
 ],
 "metadata": {
  "date": 1643875379.5071366,
  "filename": "optimization_solver_packages.md",
  "kernelspec": {
   "display_name": "Julia",
   "language": "julia",
   "name": "julia-1.7"
  },
  "title": "Solvers, Optimizers, and Automatic Differentiation"
 },
 "nbformat": 4,
 "nbformat_minor": 5
}