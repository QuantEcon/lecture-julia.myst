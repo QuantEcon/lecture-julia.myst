{
 "cells": [
  {
   "cell_type": "markdown",
   "id": "30ade9c7",
   "metadata": {},
   "source": [
    "\n",
    "<a id='scalar-dynam'></a>"
   ]
  },
  {
   "cell_type": "markdown",
   "id": "eb2bd866",
   "metadata": {},
   "source": [
    "# Dynamics in One Dimension"
   ]
  },
  {
   "cell_type": "markdown",
   "id": "5f840eb9",
   "metadata": {},
   "source": [
    "## Contents\n",
    "\n",
    "- [Dynamics in One Dimension](#Dynamics-in-One-Dimension)  \n",
    "  - [Overview](#Overview)  \n",
    "  - [Some Definitions](#Some-Definitions)  \n",
    "  - [Graphical Analysis](#Graphical-Analysis)  \n",
    "  - [Exercises](#Exercises)  \n",
    "  - [Solutions](#Solutions)  "
   ]
  },
  {
   "cell_type": "markdown",
   "id": "a4f4cfb8",
   "metadata": {},
   "source": [
    "## Overview\n",
    "\n",
    "In this lecture we give a quick introduction to discrete time dynamics in one\n",
    "dimension.\n",
    "\n",
    "In one-dimensional models, the state of the system is described by a single variable.\n",
    "\n",
    "Although most interesting dynamic models have two or more state variables, the\n",
    "one-dimensional setting is a good place to learn the foundations of dynamics and build\n",
    "intuition.\n",
    "\n",
    "We’ll use the following packages:"
   ]
  },
  {
   "cell_type": "code",
   "execution_count": null,
   "id": "a52acb8c",
   "metadata": {
    "hide-output": false
   },
   "outputs": [],
   "source": [
    "using LaTeXStrings, LinearAlgebra, Plots"
   ]
  },
  {
   "cell_type": "markdown",
   "id": "74799a63",
   "metadata": {},
   "source": [
    "## Some Definitions\n",
    "\n",
    "This section sets out the objects of interest and the kinds of properties we study."
   ]
  },
  {
   "cell_type": "markdown",
   "id": "d0c17e39",
   "metadata": {},
   "source": [
    "### Difference Equations\n",
    "\n",
    "A **time homogeneous first order difference equation** is an equation of the\n",
    "form\n",
    "\n",
    "\n",
    "<a id='equation-sdsod'></a>\n",
    "$$\n",
    "x_{t+1} = g(x_t) \\tag{21.1}\n",
    "$$\n",
    "\n",
    "where $ g $ is a function from some subset $ S $ of $ \\mathbb R $ to itself.\n",
    "\n",
    "Here $ S $ is called the **state space** and $ x $ is called the **state variable**.\n",
    "\n",
    "In the definition,\n",
    "\n",
    "- time homogeneity means that $ g $ is the same at each time $ t $  \n",
    "- first order means dependence on only one lag (i.e., earlier states such as $ x_{t-1} $ do not enter into [(21.1)](#equation-sdsod)).  \n",
    "\n",
    "\n",
    "If $ x_0 \\in S $ is given, then [(21.1)](#equation-sdsod) recursively defines the sequence\n",
    "\n",
    "\n",
    "<a id='equation-sdstraj'></a>\n",
    "$$\n",
    "x_0, \\quad\n",
    "x_1 = g(x_0), \\quad\n",
    "x_2 = g(x_1) = g(g(x_0)), \\quad \\text{etc.} \\tag{21.2}\n",
    "$$\n",
    "\n",
    "This sequence is called the **trajectory** of $ x_0 $ under $ g $.\n",
    "\n",
    "If we define $ g^n $ to be $ n $ compositions of $ g $ with itself, then we can write the trajectory more simply as $ x_t = g^t(x_0) $ for $ t \\geq 0 $."
   ]
  },
  {
   "cell_type": "markdown",
   "id": "0c2bfd31",
   "metadata": {},
   "source": [
    "### Example: A Linear Model\n",
    "\n",
    "One simple example is the **linear difference equation**\n",
    "\n",
    "$$\n",
    "x_{t+1} = a x_t + b, \\qquad S = \\mathbb R\n",
    "$$\n",
    "\n",
    "where $ a, b $ are fixed constants.\n",
    "\n",
    "In this case, given $ x_0 $, the trajectory [(21.2)](#equation-sdstraj) is\n",
    "\n",
    "\n",
    "<a id='equation-sdslinmodpath'></a>\n",
    "$$\n",
    "x_0, \\quad\n",
    "a x_0 + b, \\quad\n",
    "a^2 x_0 + a b + b, \\quad \\text{etc.} \\tag{21.3}\n",
    "$$\n",
    "\n",
    "Continuing in this way, and using our knowledge of [geometric series](https://julia.quantecon.org/../tools_and_techniques/geom_series.html), we find that, for any $ t \\geq 0 $,\n",
    "\n",
    "\n",
    "<a id='equation-sdslinmod'></a>\n",
    "$$\n",
    "x_t = a^t x_0 + b \\frac{1 - a^t}{1 - a} \\tag{21.4}\n",
    "$$\n",
    "\n",
    "This is about all we need to know about the linear model.\n",
    "\n",
    "We have an exact expression for $ x_t $ for all $ t $ and hence a full\n",
    "understanding of the dynamics.\n",
    "\n",
    "Notice in particular that $ |a| < 1 $, then, by [(21.4)](#equation-sdslinmod), we have\n",
    "\n",
    "\n",
    "<a id='equation-sdslinmodc'></a>\n",
    "$$\n",
    "x_t \\to  \\frac{b}{1 - a} \\text{ as } t \\to \\infty \\tag{21.5}\n",
    "$$\n",
    "\n",
    "regardless of $ x_0 $\n",
    "\n",
    "This is an example of what is called global stability, a topic we return to\n",
    "below."
   ]
  },
  {
   "cell_type": "markdown",
   "id": "5cc5dbb9",
   "metadata": {},
   "source": [
    "### Example: A Nonlinear Model\n",
    "\n",
    "In the linear example above, we obtained an exact analytical expression for $ x_t $\n",
    "in terms of arbitrary $ t $ and $ x_0 $.\n",
    "\n",
    "This made analysis of dynamics very easy.\n",
    "\n",
    "When models are nonlinear, however, the situation can be quite different.\n",
    "\n",
    "For example, consider the law of motion for the Solow growth model, a simplified version of which is\n",
    "\n",
    "\n",
    "<a id='equation-solow-lom2'></a>\n",
    "$$\n",
    "k_{t+1} = s z k_t^{\\alpha} + (1 - \\delta) k_t \\tag{21.6}\n",
    "$$\n",
    "\n",
    "Here $ k $ is capital stock and $ s, z, \\alpha, \\delta $ are positive\n",
    "parameters with $ 0 < \\alpha, \\delta < 1 $.\n",
    "\n",
    "If you try to iterate like we did in [(21.3)](#equation-sdslinmodpath), you will find that\n",
    "the algebra gets messy quickly.\n",
    "\n",
    "Analyzing the dynamics of this model requires a different method (see below)."
   ]
  },
  {
   "cell_type": "markdown",
   "id": "cb52fea9",
   "metadata": {},
   "source": [
    "### Stability\n",
    "\n",
    "A **steady state** of the difference equation $ x_{t+1} = g(x_t) $ is a\n",
    "point $ x^* $ in $ S $ such that $ x^* = g(x^*) $.\n",
    "\n",
    "In other words, $ x^* $ is a **fixed point** of the function $ g $ in\n",
    "$ S $.\n",
    "\n",
    "For example, for the linear model $ x_{t+1} = a x_t + b $, you can use the\n",
    "definition to check that\n",
    "\n",
    "- $ x^* := b/(1-a) $ is a steady state whenever $ a \\not= 1 $.  \n",
    "- if $ a = 1 $ and $ b=0 $, then every $ x \\in \\mathbb R $ is a\n",
    "  steady state.  \n",
    "- if $ a = 1 $ and $ b \\not= 0 $, then the linear model has no steady\n",
    "  state in $ \\mathbb R $.  \n",
    "\n",
    "\n",
    "A steady state $ x^* $ of $ x_{t+1} = g(x_t) $ is called\n",
    "**globally stable** if, for all $ x_0 \\in S $,\n",
    "\n",
    "$$\n",
    "x_t = g^t(x_0) \\to x^* \\text{ as } t \\to \\infty\n",
    "$$\n",
    "\n",
    "For example, in the linear model $ x_{t+1} = a x_t + b $ with $ a\n",
    "\\not= 1 $, the steady state $ x^* $\n",
    "\n",
    "- is globally stable if $ |a| < 1 $ and  \n",
    "- fails to be globally stable otherwise.  \n",
    "\n",
    "\n",
    "This follows directly from [(21.4)](#equation-sdslinmod).\n",
    "\n",
    "A steady state $ x^* $ of $ x_{t+1} = g(x_t) $ is called\n",
    "**locally stable** if there exists an $ \\epsilon > 0 $ such that\n",
    "\n",
    "$$\n",
    "| x_0 - x^* | < \\epsilon\n",
    "\\; \\implies \\;\n",
    "x_t = g^t(x_0) \\to x^* \\text{ as } t \\to \\infty\n",
    "$$\n",
    "\n",
    "Obviously every globally stable steady state is also locally stable.\n",
    "\n",
    "We will see examples below where the converse is not true."
   ]
  },
  {
   "cell_type": "markdown",
   "id": "01fefc91",
   "metadata": {},
   "source": [
    "## Graphical Analysis\n",
    "\n",
    "As we saw above, analyzing the dynamics for nonlinear models is nontrivial.\n",
    "\n",
    "There is no single way to tackle all nonlinear models.\n",
    "\n",
    "However, there is one technique for one-dimensional models that provides a\n",
    "great deal of intuition.\n",
    "\n",
    "This is a graphical approach based on **45 degree diagrams**.\n",
    "\n",
    "Let’s look at an example: the Solow model with dynamics given in [(21.6)](#equation-solow-lom2).\n",
    "\n",
    "We begin with some plotting code that you can ignore at first reading.\n",
    "\n",
    "The function of the code is to produce 45 degree diagrams and time series\n",
    "plots."
   ]
  },
  {
   "cell_type": "code",
   "execution_count": null,
   "id": "f4b036bd",
   "metadata": {
    "hide-output": false
   },
   "outputs": [],
   "source": [
    "# Iterates a function from an initial condition \n",
    "function iterate_map(f, x0, T)\n",
    "    x = zeros(T + 1)\n",
    "    x[1] = x0\n",
    "    for t in 2:(T + 1)\n",
    "        x[t] = f(x[t - 1])\n",
    "    end\n",
    "    return x\n",
    "end\n",
    "\n",
    "function plot45(f, xmin, xmax, x0, T; num_points = 100, label = L\"g(k)\",\n",
    "                xlabel = \"k\")\n",
    "    # Plot the function and the 45 degree line\n",
    "    x_grid = range(xmin, xmax, num_points)\n",
    "    plt = plot(x_grid, f.(x_grid); xlim = (xmin, xmax), ylim = (xmin, xmax),\n",
    "               linecolor = :black, lw = 2, label)\n",
    "    plot!(x_grid, x_grid; linecolor = :blue, lw = 2, label = nothing)\n",
    "\n",
    "    # Iterate map and add ticks\n",
    "    x = iterate_map(f, x0, T)\n",
    "    xticks!(x, [L\"%$(xlabel)_{%$i}\" for i in 0:T])\n",
    "    yticks!(x, [L\"%$(xlabel)_{%$i}\" for i in 0:T])\n",
    "\n",
    "    # Plot arrows and dashes\n",
    "    for i in 1:T\n",
    "        plot!([x[i], x[i]], [x[i], x[i + 1]], arrow = :closed, linecolor = :black,\n",
    "              alpha = 0.5, label = nothing)\n",
    "        plot!([x[i], x[i + 1]], [x[i + 1], x[i + 1]], arrow = :closed,\n",
    "              linecolor = :black, alpha = 0.5, label = nothing)\n",
    "        plot!([x[i + 1], x[i + 1]], [0, x[i + 1]], linestyle = :dash,\n",
    "              linecolor = :black, alpha = 0.5, label = nothing)\n",
    "    end\n",
    "    plot!([x[1], x[1]], [0, x[1]], linestyle = :dash, linecolor = :black,\n",
    "          alpha = 0.5, label = nothing)\n",
    "end\n",
    "\n",
    "function ts_plot(f, x0, T; xlabel = L\"t\", label = L\"k_t\")\n",
    "    x = iterate_map(f, x0, T)\n",
    "    plot(0:T, x; xlabel, label)\n",
    "    plot!(0:T, x; seriestype = :scatter, mc = :blue, alpha = 0.7, label = nothing)\n",
    "end"
   ]
  },
  {
   "cell_type": "markdown",
   "id": "8bd572da",
   "metadata": {},
   "source": [
    "Let’s create a 45 degree diagram for the Solow model with a fixed set of\n",
    "parameters"
   ]
  },
  {
   "cell_type": "code",
   "execution_count": null,
   "id": "e1c11e53",
   "metadata": {
    "hide-output": false
   },
   "outputs": [],
   "source": [
    "p = (A = 2, s = 0.3, alpha = 0.3, delta = 0.4, xmin = 0, xmax = 4)"
   ]
  },
  {
   "cell_type": "markdown",
   "id": "a10c16b5",
   "metadata": {},
   "source": [
    "Here’s the update function corresponding to the model."
   ]
  },
  {
   "cell_type": "code",
   "execution_count": null,
   "id": "be79b7f0",
   "metadata": {
    "hide-output": false
   },
   "outputs": [],
   "source": [
    "g(k; p) = p.A * p.s * k^p.alpha + (1 - p.delta) * k"
   ]
  },
  {
   "cell_type": "markdown",
   "id": "7ce7350d",
   "metadata": {},
   "source": [
    "Here is the 45 degree plot."
   ]
  },
  {
   "cell_type": "code",
   "execution_count": null,
   "id": "a90a975b",
   "metadata": {
    "hide-output": false
   },
   "outputs": [],
   "source": [
    "plot45(k -> g(k; p), p.xmin, p.xmax, 0, 6)"
   ]
  },
  {
   "cell_type": "markdown",
   "id": "92be7cb9",
   "metadata": {},
   "source": [
    "The plot shows the function $ g $ and the 45 degree line.\n",
    "\n",
    "Think of $ k_t $ as a value on the horizontal axis.\n",
    "\n",
    "To calculate $ k_{t+1} $, we can use the graph of $ g $ to see its\n",
    "value on the vertical axis.\n",
    "\n",
    "Clearly,\n",
    "\n",
    "- If $ g $ lies above the 45 degree line at this point, then we have $ k_{t+1} > k_t $.  \n",
    "- If $ g $ lies below the 45 degree line at this point, then we have $ k_{t+1} < k_t $.  \n",
    "- If $ g $ hits the 45 degree line at this point, then we have $ k_{t+1} = k_t $, so $ k_t $ is a steady state.  \n",
    "\n",
    "\n",
    "For the Solow model, there are two steady states when $ S = \\mathbb R_+ =\n",
    "[0, \\infty) $.\n",
    "\n",
    "- the origin $ k=0 $  \n",
    "- the unique positive number such that $ k = s z k^{\\alpha} + (1 - \\delta) k $.  \n",
    "\n",
    "\n",
    "By using some algebra, we can show that in the second case, the steady state is\n",
    "\n",
    "$$\n",
    "k^* = \\left( \\frac{sz}{\\delta} \\right)^{1/(1-\\alpha)}\n",
    "$$"
   ]
  },
  {
   "cell_type": "markdown",
   "id": "483c7172",
   "metadata": {},
   "source": [
    "### Trajectories\n",
    "\n",
    "By the preceding discussion, in regions where $ g $ lies above the 45 degree line, we know that the trajectory is increasing.\n",
    "\n",
    "The next figure traces out a trajectory in such a region so we can see this more clearly.\n",
    "\n",
    "The initial condition is $ k_0 = 0.25 $."
   ]
  },
  {
   "cell_type": "code",
   "execution_count": null,
   "id": "b4be5487",
   "metadata": {
    "hide-output": false
   },
   "outputs": [],
   "source": [
    "k0 = 0.25\n",
    "plot45(k -> g(k; p), p.xmin, p.xmax, k0, 5)"
   ]
  },
  {
   "cell_type": "markdown",
   "id": "3f843e5a",
   "metadata": {},
   "source": [
    "We can plot the time series of capital corresponding to the figure above as\n",
    "follows:"
   ]
  },
  {
   "cell_type": "code",
   "execution_count": null,
   "id": "a97afaf9",
   "metadata": {
    "hide-output": false
   },
   "outputs": [],
   "source": [
    "ts_plot(k -> g(k; p), k0, 5)"
   ]
  },
  {
   "cell_type": "markdown",
   "id": "9155068f",
   "metadata": {},
   "source": [
    "Here’s a somewhat longer view:"
   ]
  },
  {
   "cell_type": "code",
   "execution_count": null,
   "id": "29a510be",
   "metadata": {
    "hide-output": false
   },
   "outputs": [],
   "source": [
    "ts_plot(k -> g(k; p), k0, 20)"
   ]
  },
  {
   "cell_type": "markdown",
   "id": "7a4e9803",
   "metadata": {},
   "source": [
    "When capital stock is higher than the unique positive steady state, we see that\n",
    "it declines:"
   ]
  },
  {
   "cell_type": "code",
   "execution_count": null,
   "id": "5fb1dda6",
   "metadata": {
    "hide-output": false
   },
   "outputs": [],
   "source": [
    "k0 = 2.95\n",
    "plot45(k -> g(k; p), p.xmin, p.xmax, k0, 5)"
   ]
  },
  {
   "cell_type": "markdown",
   "id": "185b5bdc",
   "metadata": {},
   "source": [
    "Here is the time series:"
   ]
  },
  {
   "cell_type": "code",
   "execution_count": null,
   "id": "77be2700",
   "metadata": {
    "hide-output": false
   },
   "outputs": [],
   "source": [
    "ts_plot(k -> g(k; p), k0, 8)"
   ]
  },
  {
   "cell_type": "markdown",
   "id": "21ad9ae1",
   "metadata": {},
   "source": [
    "### Complex Dynamics\n",
    "\n",
    "The Solow model is nonlinear but still generates very regular dynamics.\n",
    "\n",
    "One model that generates irregular dynamics is the **quadratic map**\n",
    "\n",
    "$$\n",
    "g(x) = 4 x (1 - x),\n",
    "\\qquad x \\in [0, 1]\n",
    "$$\n",
    "\n",
    "Let’s have a look at the 45 degree diagram."
   ]
  },
  {
   "cell_type": "code",
   "execution_count": null,
   "id": "e0fe0952",
   "metadata": {
    "hide-output": false
   },
   "outputs": [],
   "source": [
    "xmin, xmax = 0, 1\n",
    "g(k) = 4 * k * (1 - k)\n",
    "x0 = 0.3\n",
    "plot45(g, xmin, xmax, 0.1, 0)"
   ]
  },
  {
   "cell_type": "markdown",
   "id": "96dd8448",
   "metadata": {},
   "source": [
    "Now let’s look at a typical trajectory."
   ]
  },
  {
   "cell_type": "code",
   "execution_count": null,
   "id": "d65a5750",
   "metadata": {
    "hide-output": false
   },
   "outputs": [],
   "source": [
    "plot45(g, xmin, xmax, 0.1, 6)"
   ]
  },
  {
   "cell_type": "markdown",
   "id": "ba4d9646",
   "metadata": {},
   "source": [
    "Notice how irregular it is.\n",
    "\n",
    "Here is the corresponding time series plot."
   ]
  },
  {
   "cell_type": "code",
   "execution_count": null,
   "id": "d6d0ce20",
   "metadata": {
    "hide-output": false
   },
   "outputs": [],
   "source": [
    "ts_plot(g, x0, 6)"
   ]
  },
  {
   "cell_type": "markdown",
   "id": "cd1ec91d",
   "metadata": {},
   "source": [
    "The irregularity is even clearer over a longer time horizon:"
   ]
  },
  {
   "cell_type": "code",
   "execution_count": null,
   "id": "dde37e83",
   "metadata": {
    "hide-output": false
   },
   "outputs": [],
   "source": [
    "ts_plot(g, x0, 20)"
   ]
  },
  {
   "cell_type": "markdown",
   "id": "7920f505",
   "metadata": {},
   "source": [
    "## Exercises"
   ]
  },
  {
   "cell_type": "markdown",
   "id": "e3c7bbd6",
   "metadata": {},
   "source": [
    "### Exercise 1\n",
    "\n",
    "Consider again the linear model $ x_{t+1} = a x_t + b $ with $ a\n",
    "\\not=1 $.\n",
    "\n",
    "The unique steady state is $ b / (1 - a) $.\n",
    "\n",
    "The steady state is globally stable if $ |a| < 1 $.\n",
    "\n",
    "Try to illustrate this graphically by looking at a range of initial conditions.\n",
    "\n",
    "What differences do you notice in the cases $ a \\in (-1, 0) $ and $ a\n",
    "\\in (0, 1) $?\n",
    "\n",
    "Use $ a=0.5 $ and then $ a=-0.5 $ and study the trajectories\n",
    "\n",
    "Set $ b=1 $ throughout."
   ]
  },
  {
   "cell_type": "markdown",
   "id": "93954f83",
   "metadata": {},
   "source": [
    "## Solutions"
   ]
  },
  {
   "cell_type": "markdown",
   "id": "bbd7da3f",
   "metadata": {},
   "source": [
    "### Exercise 1\n",
    "\n",
    "We will start with the case $ a=0.5 $.\n",
    "\n",
    "Let’s set up the model and plotting region:"
   ]
  },
  {
   "cell_type": "code",
   "execution_count": null,
   "id": "150d3059",
   "metadata": {
    "hide-output": false
   },
   "outputs": [],
   "source": [
    "q = (a = 0.5, b = 1, xmin = -1, xmax = 3)\n",
    "g(k; q) = q.a * k + q.b"
   ]
  },
  {
   "cell_type": "markdown",
   "id": "c5a0dc3f",
   "metadata": {},
   "source": [
    "Now let’s plot a trajectory:"
   ]
  },
  {
   "cell_type": "code",
   "execution_count": null,
   "id": "2d20d0fb",
   "metadata": {
    "hide-output": false
   },
   "outputs": [],
   "source": [
    "x0 = -0.5\n",
    "plot45(k -> g(k; q), q.xmin, q.xmax, x0, 5)"
   ]
  },
  {
   "cell_type": "markdown",
   "id": "e4640050",
   "metadata": {},
   "source": [
    "Here is the corresponding time series, which converges towards the steady\n",
    "state."
   ]
  },
  {
   "cell_type": "code",
   "execution_count": null,
   "id": "a658dcbf",
   "metadata": {
    "hide-output": false
   },
   "outputs": [],
   "source": [
    "ts_plot(k -> g(k; q), x0, 10)"
   ]
  },
  {
   "cell_type": "markdown",
   "id": "4abf1051",
   "metadata": {},
   "source": [
    "Now let’s try $ a=-0.5 $ and see what differences we observe.\n",
    "\n",
    "Let’s set up the model and plotting region:"
   ]
  },
  {
   "cell_type": "code",
   "execution_count": null,
   "id": "6b7e792f",
   "metadata": {
    "hide-output": false
   },
   "outputs": [],
   "source": [
    "r = (a = -0.5, b = 1, xmin = -1, xmax = 3)\n",
    "g(k; r) = r.a * k + r.b"
   ]
  },
  {
   "cell_type": "markdown",
   "id": "145df54f",
   "metadata": {},
   "source": [
    "Now let’s plot a trajectory:"
   ]
  },
  {
   "cell_type": "code",
   "execution_count": null,
   "id": "96e4d6e4",
   "metadata": {
    "hide-output": false
   },
   "outputs": [],
   "source": [
    "x0 = -0.5\n",
    "plot45(k -> g(k; r), r.xmin, r.xmax, x0, 5)"
   ]
  },
  {
   "cell_type": "markdown",
   "id": "160585f2",
   "metadata": {},
   "source": [
    "Here is the corresponding time series, which converges towards the steady\n",
    "state."
   ]
  },
  {
   "cell_type": "code",
   "execution_count": null,
   "id": "69ce0216",
   "metadata": {
    "hide-output": false
   },
   "outputs": [],
   "source": [
    "ts_plot(k -> g(k; r), x0, 10)"
   ]
  },
  {
   "cell_type": "markdown",
   "id": "59b0ec4b",
   "metadata": {},
   "source": [
    "Once again, we have convergence to the steady state but the nature of\n",
    "convergence differs.\n",
    "\n",
    "In particular, the time series jumps from above the steady state to below it\n",
    "and back again.\n",
    "\n",
    "In the current context, the series is said to exhibit **damped oscillations**."
   ]
  }
 ],
 "metadata": {
  "date": 1732137475.3132641,
  "filename": "scalar_dynam.md",
  "kernelspec": {
   "display_name": "Julia",
   "language": "julia",
   "name": "julia-1.11"
  },
  "title": "Dynamics in One Dimension"
 },
 "nbformat": 4,
 "nbformat_minor": 5
}