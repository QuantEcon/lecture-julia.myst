{
 "cells": [
  {
   "cell_type": "markdown",
   "id": "7d95b0c0",
   "metadata": {},
   "source": [
    "\n",
    "<a id='wd'></a>"
   ]
  },
  {
   "cell_type": "markdown",
   "id": "3e3f8b76",
   "metadata": {},
   "source": [
    "# Wealth Distribution Dynamics"
   ]
  },
  {
   "cell_type": "markdown",
   "id": "23803519",
   "metadata": {},
   "source": [
    "## Contents\n",
    "\n",
    "- [Wealth Distribution Dynamics](#Wealth-Distribution-Dynamics)  \n",
    "  - [Overview](#Overview)  \n",
    "  - [Lorenz Curves and the Gini Coefficient](#Lorenz-Curves-and-the-Gini-Coefficient)  \n",
    "  - [A Model of Wealth Dynamics](#A-Model-of-Wealth-Dynamics)  \n",
    "  - [Implementation](#Implementation)  \n",
    "  - [Simulating Wealth Dynamics](#Simulating-Wealth-Dynamics)  \n",
    "  - [Inequality Measures](#Inequality-Measures)  "
   ]
  },
  {
   "cell_type": "markdown",
   "id": "2ee64c32",
   "metadata": {},
   "source": [
    "## Overview\n",
    "\n",
    "This notebook gives an introduction to wealth distribution dynamics, with a\n",
    "focus on\n",
    "\n",
    "- modeling and computing the wealth distribution via simulation,  \n",
    "- measures of inequality such as the Lorenz curve and Gini coefficient, and  \n",
    "- how inequality is affected by the properties of wage income and returns on assets.  \n",
    "\n",
    "\n",
    "One interesting property of the wealth distribution we discuss is Pareto\n",
    "tails.\n",
    "\n",
    "The wealth distribution in many countries exhibits a Pareto tail\n",
    "\n",
    "- The [Pareto Distribution](https://en.wikipedia.org/wiki/Pareto_distribution) is a canonical example of a [heavy-tailed distribution](https://en.wikipedia.org/wiki/Heavy-tailed_distribution).  \n",
    "- See [here](https://python.quantecon.org/heavy_tails.html) for a lecture on heavy-tailed distributions using Python.  \n",
    "- For a review of the empirical evidence on the wealth distribution, see, for example, [[BB18](https://julia.quantecon.org/../zreferences.html#id50)].  \n",
    "- See [[Gab09](https://julia.quantecon.org/../zreferences.html#id58)] for a review of the theory and empirics of power-laws and Kesten Processes.  \n",
    "\n",
    "\n",
    "This is consistent with high concentration of wealth amongst the richest households.\n",
    "\n",
    "It also gives us a way to quantify such concentration, in terms of the tail index.\n",
    "\n",
    "One question of interest is whether or not we can replicate Pareto tails from a relatively simple model."
   ]
  },
  {
   "cell_type": "markdown",
   "id": "d387ad0c",
   "metadata": {},
   "source": [
    "### A Note on Assumptions\n",
    "\n",
    "The evolution of wealth for any given household depends on their\n",
    "savings behavior.\n",
    "\n",
    "Modeling such behavior will form an important part of this lecture series.\n",
    "\n",
    "However, in this particular lecture, we will be content with rather ad hoc (but plausible) savings rules.\n",
    "\n",
    "We do this to more easily explore the implications of different specifications of income dynamics and investment returns.\n",
    "\n",
    "At the same time, all of the techniques discussed here can be plugged into models that use optimization to obtain savings rules."
   ]
  },
  {
   "cell_type": "code",
   "execution_count": null,
   "id": "3786417c",
   "metadata": {
    "hide-output": false
   },
   "outputs": [],
   "source": [
    "using Distributions, Plots, LaTeXStrings, LinearAlgebra, BenchmarkTools\n",
    "using LoopVectorization"
   ]
  },
  {
   "cell_type": "markdown",
   "id": "c49d9d96",
   "metadata": {},
   "source": [
    "## Lorenz Curves and the Gini Coefficient\n",
    "\n",
    "Before we investigate wealth dynamics, we briefly review some measures of\n",
    "inequality."
   ]
  },
  {
   "cell_type": "markdown",
   "id": "48f5d0db",
   "metadata": {},
   "source": [
    "### Lorenz Curves\n",
    "\n",
    "One popular graphical measure of inequality is the [Lorenz curve](https://en.wikipedia.org/wiki/Lorenz_curve).\n",
    "\n",
    "Since we are using an unweighted Lorenz curve, we can write an efficient version ourselves which implements the simple case of [the definition](https://en.wikipedia.org/wiki/Lorenz_curve#Definition_and_calculation) with equal probabilities and assumes the input vector is already sorted.\n",
    "\n",
    "The package [Inequality.jl](https://github.com/JosepER/Inequality.jl) can be used for fancier and more general cases.\n",
    "\n",
    "To illustrate, suppose that"
   ]
  },
  {
   "cell_type": "code",
   "execution_count": null,
   "id": "e5479f5c",
   "metadata": {
    "hide-output": false
   },
   "outputs": [],
   "source": [
    "n = 10_000\n",
    "w = sort(exp.(randn(n)));  # lognormal draws"
   ]
  },
  {
   "cell_type": "markdown",
   "id": "309662cc",
   "metadata": {},
   "source": [
    "is data representing the wealth of 10,000 households.\n",
    "\n",
    "We can compute the Lorenz curve using the [simple, unweighted definition](https://en.wikipedia.org/wiki/Lorenz_curve#Definition_and_calculation):"
   ]
  },
  {
   "cell_type": "code",
   "execution_count": null,
   "id": "4ab421a2",
   "metadata": {
    "hide-output": false
   },
   "outputs": [],
   "source": [
    "function lorenz(v)  # assumed sorted vector\n",
    "    S = cumsum(v)  # cumulative sums: [v[1], v[1] + v[2], ... ]\n",
    "    F = (1:length(v)) / length(v)\n",
    "    L = S ./ S[end]\n",
    "    return (; F, L) # returns named tuple\n",
    "end"
   ]
  },
  {
   "cell_type": "markdown",
   "id": "85d293a0",
   "metadata": {},
   "source": [
    "where:\n",
    "\n",
    "$$\n",
    "S = [\\sum_{j = 1}^1 v_1, \\sum_{j = 1}^2 v_2, \\dots, \\sum_{j = 1}^n v_n]\n",
    "$$\n",
    "\n",
    "$$\n",
    "F = [\\frac{1}{n}, \\frac{2}{n}, \\dots, \\frac{n}{n}]\n",
    "$$\n",
    "\n",
    "$$\n",
    "L = [\\frac{S_1}{S_n}, \\frac{S_2}{S_n}, \\dots, \\frac{S_n}{S_n}]\n",
    "$$\n",
    "\n",
    "We can then plot the curve:"
   ]
  },
  {
   "cell_type": "code",
   "execution_count": null,
   "id": "7bd79f7b",
   "metadata": {
    "hide-output": false
   },
   "outputs": [],
   "source": [
    "(; F, L) = lorenz(w)\n",
    "plot(F, L, label = \"Lorenz curve, lognormal sample\", legend = :topleft)\n",
    "plot!(F, F, label = \"Lorenz curve, equality\")"
   ]
  },
  {
   "cell_type": "markdown",
   "id": "5ae4a4c7",
   "metadata": {},
   "source": [
    "This curve can be understood as follows: if point $ (x,y) $ lies on the curve, it means that, collectively, the bottom $ (100x)\\% $ of the population holds $ (100y)\\% $ of the wealth.\n",
    "\n",
    "The “equality” line is the 45 degree line (which might not be exactly 45\n",
    "degrees in the figure, depending on the aspect ratio).\n",
    "\n",
    "A sample that produces this line exhibits perfect equality.\n",
    "\n",
    "The other line in the figure is the Lorenz curve for the lognormal sample, which deviates significantly from perfect equality.\n",
    "\n",
    "For example, the bottom 80% of the population holds around 40% of total wealth.\n",
    "\n",
    "Here is another example, which shows how the Lorenz curve shifts as the\n",
    "underlying distribution changes.\n",
    "\n",
    "We generate 10,000 observations using the Pareto distribution with a range of\n",
    "parameters, and then compute the Lorenz curve corresponding to each set of\n",
    "observations."
   ]
  },
  {
   "cell_type": "code",
   "execution_count": null,
   "id": "d74da33d",
   "metadata": {
    "hide-output": false
   },
   "outputs": [],
   "source": [
    "a_vals = (1, 2, 5)\n",
    "n = 10_000\n",
    "plt = plot(F, F, label = \"equality\", legend = :topleft)\n",
    "for a in a_vals\n",
    "    u = rand(n)\n",
    "    y = sort(u.^(-1/a))  # distributed as Pareto with tail index a\n",
    "    (; F, L) = lorenz(y)\n",
    "    plot!(plt, F, L, label = L\"a = %$a\")\n",
    "end\n",
    "plt"
   ]
  },
  {
   "cell_type": "markdown",
   "id": "5504dab1",
   "metadata": {},
   "source": [
    "You can see that, as the tail parameter of the Pareto distribution increases, inequality decreases.\n",
    "\n",
    "This is to be expected, because a higher tail index implies less weight in the tail of the Pareto distribution."
   ]
  },
  {
   "cell_type": "markdown",
   "id": "1c2a0c9e",
   "metadata": {},
   "source": [
    "### The Gini Coefficient\n",
    "\n",
    "The definition and interpretation of the Gini coefficient can be found on the corresponding [Wikipedia page](https://en.wikipedia.org/wiki/Gini_coefficient).\n",
    "\n",
    "A value of 0 indicates perfect equality (corresponding the case where the\n",
    "Lorenz curve matches the 45 degree line) and a value of 1 indicates complete\n",
    "inequality (all wealth held by the richest household).\n",
    "\n",
    "Since we are using an unweighted Gini coefficient, we can write an efficient version ourselves using a [simplification](https://en.wikipedia.org/wiki/Gini_coefficient#Alternative_expressions) and assuming the input vector is already sorted.\n",
    "\n",
    "The [Inequality.jl](https://github.com/JosepER/Inequality.jl) package can be used for a more complete implementation, including weighted Gini indices.\n",
    "\n",
    "We can test it on the Weibull distribution with parameter $ a $, where the Gini coefficient is known to be\n",
    "\n",
    "$$\n",
    "G = 1 - 2^{-1/a}\n",
    "$$\n",
    "\n",
    "Let’s see if the Gini coefficient computed from a simulated sample matches\n",
    "this at each fixed value of $ a $."
   ]
  },
  {
   "cell_type": "code",
   "execution_count": null,
   "id": "aa72c27f",
   "metadata": {
    "hide-output": false
   },
   "outputs": [],
   "source": [
    "gini(v) = (2 * sum(i * y for (i,y) in enumerate(v))/sum(v)\n",
    "           - (length(v) + 1))/length(v)\n",
    "\n",
    "a_vals = 1:19\n",
    "n = 100\n",
    "ginis = [gini(sort(rand(Weibull(a), n))) for a in a_vals]\n",
    "ginis_theoretical = [1 - 2^(-1/a) for a in a_vals]\n",
    "\n",
    "plot(a_vals, ginis, label = \"estimated gini coefficient\",\n",
    "     xlabel = L\"Weibull parameter $a$\", ylabel = \"Gini coefficient\")\n",
    "plot!(a_vals, ginis_theoretical, label = \"theoretical gini coefficient\")"
   ]
  },
  {
   "cell_type": "markdown",
   "id": "0f711359",
   "metadata": {},
   "source": [
    "The simulation shows that the fit is good."
   ]
  },
  {
   "cell_type": "markdown",
   "id": "e017e40d",
   "metadata": {},
   "source": [
    "### In-place Functions, Preallocation, and Performance\n",
    "\n",
    "When working with large vectors and matrices, a performance advantage of Julia is its ability to manage allocations and perform in-place operations.\n",
    "\n",
    "As always, don’t prematurely optimize your code - but in cases where the datastructures are large and the code is of equivalent complexity, don’t be afraid to use in-place operations.\n",
    "\n",
    "To demonstrate this, we will compare an inplace Lorenz calculation with the one above.\n",
    "\n",
    "The convention in Julia is to use `!` to denote a function which mutates its arguments and to put any arguments that will be modified first.\n",
    "\n",
    "In the following case, the `L` is pre-allocated and will be overwritten."
   ]
  },
  {
   "cell_type": "code",
   "execution_count": null,
   "id": "38092065",
   "metadata": {
    "hide-output": false
   },
   "outputs": [],
   "source": [
    "function lorenz!(L, v)\n",
    "   # cumulative sum but inplace: [v[1], v[1] + v[2], ... ]\n",
    "    cumsum!(L, v)    \n",
    "    L ./= L[end]  # inplace division to normalize\n",
    "    F = (1:length(v)) / length(v) # doesn't allocate since F is a range\n",
    "    return F, L # using inplace we can still return the L vector\n",
    "end"
   ]
  },
  {
   "cell_type": "markdown",
   "id": "41cc5df1",
   "metadata": {},
   "source": [
    "### Performance benchmarking\n",
    "\n",
    "For performance comparisons, always use the [BenchmarkTools.jl](https://github.com/JuliaCI/BenchmarkTools.jl).  Whenever passing in arguments that are not scalars, you typically want to [interpolate](https://juliaci.github.io/BenchmarkTools.jl/stable/manual/#Interpolating-values-into-benchmark-expressions) by prepending with the `\\$` (e.g., `@btime lorenz(\\$v)` rather than `@btime lorenz(v)`) or else it may treat the value as a global variable and gives distorted performance results.\n",
    "\n",
    "For more detailed results, replace `@btime` with `@benchmark`."
   ]
  },
  {
   "cell_type": "code",
   "execution_count": null,
   "id": "6c2bec18",
   "metadata": {
    "hide-output": false
   },
   "outputs": [],
   "source": [
    "using BenchmarkTools\n",
    "n = 1_000_000\n",
    "a = 2\n",
    "u = rand(n)\n",
    "v = sort(u.^(-1/a))\n",
    "@btime lorenz($v); # performance with out-of-place"
   ]
  },
  {
   "cell_type": "markdown",
   "id": "4f5c24ef",
   "metadata": {},
   "source": [
    "Note the speed and allocations.  Next use the inplace version"
   ]
  },
  {
   "cell_type": "code",
   "execution_count": null,
   "id": "501d207f",
   "metadata": {
    "hide-output": false
   },
   "outputs": [],
   "source": [
    "L = similar(v) # preallocate of same type, size\n",
    "@btime lorenz!($L, $v);"
   ]
  },
  {
   "cell_type": "markdown",
   "id": "99a50d6c",
   "metadata": {},
   "source": [
    "Depending on your system, this should be perhaps twice as fast but have no allocations.\n",
    "\n",
    "On the other hand, if we use a smaller vector such as `n=1000` above, then the performance difference is much smaller - perhaps only 30% improvement.\n",
    "\n",
    "Furthermore, this benefit is only felt if we are reusing the same `L` in repeated calls.  If we need to allocate (e.g. a `L = similar(v)`) each time, then there is no benefit.\n",
    "\n",
    "This provides a common and cautionary lesson: for some algorithms, avoiding allocations does not have a significant difference and may not be worth the trouble.\n",
    "\n",
    "This all depends on the steps of the underlying algorithm.  In the case above, the `cumsum` is significantly more expensive than the data allocation.\n",
    "\n",
    "In other cases, such as those in large-scale difference or differential equations, in-place operations can have an enormous impact."
   ]
  },
  {
   "cell_type": "markdown",
   "id": "19193ff7",
   "metadata": {},
   "source": [
    "## A Model of Wealth Dynamics\n",
    "\n",
    "Having discussed inequality measures, let us now turn to wealth dynamics.\n",
    "\n",
    "The model we will study is\n",
    "\n",
    "\n",
    "<a id='equation-wealth-dynam-ah'></a>\n",
    "$$\n",
    "w_{t+1} = (1 + r_{t+1}) s(w_t) + y_{t+1} \\tag{25.1}\n",
    "$$\n",
    "\n",
    "where\n",
    "\n",
    "- $ w_t $ is wealth at time $ t $ for a given household,  \n",
    "- $ r_t $ is the rate of return of financial assets,  \n",
    "- $ y_t $ is current non-financial (e.g., labor) income and  \n",
    "- $ s(w_t) $ is current wealth net of consumption  \n",
    "\n",
    "\n",
    "Letting $ \\{z_t\\} $ be a correlated state process of the form\n",
    "\n",
    "$$\n",
    "z_{t+1} = a z_t + b + \\sigma_z \\epsilon_{t+1}\n",
    "$$\n",
    "\n",
    "we’ll assume that\n",
    "\n",
    "$$\n",
    "R_t := 1 + r_t = c_r \\exp(z_t) + \\exp(\\mu_r + \\sigma_r \\xi_t)\n",
    "$$\n",
    "\n",
    "and\n",
    "\n",
    "$$\n",
    "y_t = c_y \\exp(z_t) + \\exp(\\mu_y + \\sigma_y \\zeta_t)\n",
    "$$\n",
    "\n",
    "Here $ \\{ (\\epsilon_t, \\xi_t, \\zeta_t) \\} $ is IID and standard\n",
    "normal in $ \\mathbb R^3 $.\n",
    "\n",
    "The value of $ c_r $ should be close to zero, since rates of return\n",
    "on assets do not exhibit large trends.\n",
    "\n",
    "When we simulate a population of households, we will assume all shocks are idiosyncratic (i.e.,  specific to individual households and independent across them).\n",
    "\n",
    "Regarding the savings function $ s $, our default model will be\n",
    "\n",
    "\n",
    "<a id='equation-sav-ah'></a>\n",
    "$$\n",
    "s(w) = s_0 w \\cdot \\mathbb 1\\{w \\geq \\hat w\\} \\tag{25.2}\n",
    "$$\n",
    "\n",
    "where $ s_0 $ is a positive constant.\n",
    "\n",
    "Thus, for $ w < \\hat w $, the household saves nothing. For\n",
    "$ w \\geq \\bar w $, the household saves a fraction $ s_0 $ of\n",
    "their wealth.\n",
    "\n",
    "We are using something akin to a fixed savings rate model, while\n",
    "acknowledging that low wealth households tend to save very little."
   ]
  },
  {
   "cell_type": "markdown",
   "id": "fe969b95",
   "metadata": {},
   "source": [
    "## Implementation\n",
    "\n",
    "First, we will write a function which collects all of the parameters into a named tuple.  While we could also use a Julia `struct` (see [creating new types](https://julia.quantecon.org/../getting_started_julia/introduction_to_types.html)) they tend to be more difficult to use properly."
   ]
  },
  {
   "cell_type": "code",
   "execution_count": null,
   "id": "45c26e6b",
   "metadata": {
    "hide-output": false
   },
   "outputs": [],
   "source": [
    "function wealth_dynamics_model(; # all named arguments\n",
    "                 w_hat=1.0, # savings parameter\n",
    "                 s_0=0.75, # savings parameter\n",
    "                 c_y=1.0, # labor income parameter\n",
    "                 μ_y=1.0, # labor income parameter\n",
    "                 σ_y=0.2, # labor income parameter\n",
    "                 c_r=0.05, # rate of return parameter\n",
    "                 μ_r=0.1, # rate of return parameter\n",
    "                 σ_r=0.5, # rate of return parameter\n",
    "                 a=0.5, # aggregate shock parameter\n",
    "                 b=0.0, # aggregate shock parameter\n",
    "                 σ_z=0.1 # aggregate shock parameter\n",
    "                 )\n",
    "    z_mean = b / (1 - a)\n",
    "    z_var = σ_z^2 / (1 - a^2)\n",
    "    exp_z_mean = exp(z_mean + z_var / 2)\n",
    "    R_mean = c_r * exp_z_mean + exp(μ_r + σ_r^2 / 2)\n",
    "    y_mean = c_y * exp_z_mean + exp(μ_y + σ_y^2 / 2)\n",
    "    α = R_mean * s_0\n",
    "\n",
    "    # Distributions\n",
    "    z_stationary_dist = Normal(z_mean, sqrt(z_var))\n",
    "\n",
    "    @assert α <= 1 # check stability condition that wealth does not diverge\n",
    "    return (;w_hat, s_0, c_y, μ_y, σ_y, c_r, μ_r, σ_r, a, b, σ_z, z_mean,\n",
    "             z_var,z_stationary_dist, exp_z_mean, R_mean, y_mean, α)\n",
    "end"
   ]
  },
  {
   "cell_type": "markdown",
   "id": "51b98e8b",
   "metadata": {},
   "source": [
    "## Simulating Wealth Dynamics\n",
    "\n",
    "To implement this process, we will write a function which simulates an entire path for an agent or the wealth distribution.\n",
    "\n",
    "The `p` argument is a named-tuple or struct consist with the `wealth_dynamics_model` function above."
   ]
  },
  {
   "cell_type": "code",
   "execution_count": null,
   "id": "aa1a9035",
   "metadata": {
    "hide-output": false
   },
   "outputs": [],
   "source": [
    "function simulate_wealth_dynamics(w_0, z_0, T, params)\n",
    "    (;w_hat, s_0, c_y, μ_y, σ_y, c_r, μ_r, σ_r, a, b, σ_z) = params # unpack\n",
    "    w = zeros(T+1)\n",
    "    z = zeros(T+1)\n",
    "    w[1] = w_0\n",
    "    z[1] = z_0\n",
    "\n",
    "    for t = 2:T+1\n",
    "        z[t] = a*z[t-1] + b + σ_z * randn()\n",
    "        y = c_y*exp(z[t]) + exp(μ_y + σ_y*randn())\n",
    "        w[t] = y # income goes to next periods wealth\n",
    "        if w[t-1] >= w_hat # if above minimum wealth level, add savings\n",
    "            R = c_r * exp(z[t]) + exp(μ_r + σ_r*randn())\n",
    "            w[t] += R * s_0 * w[t-1]\n",
    "        end\n",
    "    end    \n",
    "    return w, z\n",
    "end"
   ]
  },
  {
   "cell_type": "markdown",
   "id": "1d83d313",
   "metadata": {},
   "source": [
    "Let’s look at the wealth dynamics of an individual household."
   ]
  },
  {
   "cell_type": "code",
   "execution_count": null,
   "id": "66336f4e",
   "metadata": {
    "hide-output": false
   },
   "outputs": [],
   "source": [
    "p = wealth_dynamics_model()  # all defaults\n",
    "y_0 = p.y_mean\n",
    "z_0 = rand(p.z_stationary_dist)\n",
    "T = 200\n",
    "w, z = simulate_wealth_dynamics(y_0, z_0, T, p)\n",
    "\n",
    "plot(w, caption = \"Wealth simulation\", xlabel=\"t\", label=L\"w(t)\")"
   ]
  },
  {
   "cell_type": "markdown",
   "id": "49877e4e",
   "metadata": {},
   "source": [
    "Notice the large spikes in wealth over time.\n",
    "\n",
    "Such spikes are similar to what is observed in a time series with a Kesten process.  See [Kesten Processes and Firm Dynamics](https://python.quantecon.org/kesten_processes.html) for a lecture introducing these with Python."
   ]
  },
  {
   "cell_type": "markdown",
   "id": "85b7ddad",
   "metadata": {},
   "source": [
    "## Inequality Measures\n",
    "\n",
    "Let’s look at how inequality varies with returns on financial assets\n",
    "\n",
    "The code above could be used to simulate a number of different households, but it would be relatively slow if the number of households becomes large.\n",
    "\n",
    "One change which will help with efficiency is to replace the check on `w >= w_hat` with the [ternary operator](https://docs.julialang.org/en/v1/manual/control-flow/#man-conditional-evaluation).\n",
    "\n",
    "The syntax is `a ? b : c` where if the expression `a` is true it returns the evaluation of expression `b`, and it returns `c` if false.\n",
    "\n",
    "To see this in practice, note the following three are equivalent."
   ]
  },
  {
   "cell_type": "code",
   "execution_count": null,
   "id": "db8bcf02",
   "metadata": {
    "hide-output": false
   },
   "outputs": [],
   "source": [
    "function f1(x)\n",
    "    val = 2.0\n",
    "    if x >= 0.0\n",
    "        val += x\n",
    "    else\n",
    "        val -= x\n",
    "    end\n",
    "    return val\n",
    "end\n",
    "function f2(x)\n",
    "    val = 2.0\n",
    "    temp = (x >= 0.0) ? x : -x\n",
    "    return val + temp\n",
    "end\n",
    "f3(x) = 2.0 + ( (x >= 0.0) ? x : -x)\n",
    "@show f1(0.8), f2(0.8), f3(0.8)\n",
    "@show f1(1.8), f2(1.8), f3(1.8);"
   ]
  },
  {
   "cell_type": "markdown",
   "id": "bb1402a1",
   "metadata": {},
   "source": [
    "Using this, lets rewrite our code to simplify the conditional and otherwise simulate multiple agents."
   ]
  },
  {
   "cell_type": "code",
   "execution_count": null,
   "id": "be8e10b1",
   "metadata": {
    "hide-output": false
   },
   "outputs": [],
   "source": [
    "function simulate_panel(N, T, p)\n",
    "    (;w_hat, s_0, c_y, μ_y, σ_y, c_r, μ_r, σ_r, a, b, σ_z) = p\n",
    "    w = p.y_mean * ones(N) # start at the mean of y\n",
    "    z = rand(p.z_stationary_dist, N)\n",
    "    \n",
    "    # Preallocate next period states and R intermediate\n",
    "    zp = similar(z)\n",
    "    wp = similar(w)\n",
    "    R = similar(w)\n",
    "\n",
    "    for t in 1:T\n",
    "        z_shock = randn(N)\n",
    "        R_shock = randn(N)\n",
    "        w_shock = randn(N)\n",
    "        @turbo for i in 1:N\n",
    "            zp[i] = a*z[i] + b + σ_z*z_shock[i]\n",
    "            R[i] = (w[i] >= w_hat) ? c_r*exp(zp[i]) + exp(μ_r + σ_r*R_shock[i]) : 0.0\n",
    "            wp[i] = c_y*exp(zp[i]) + exp(μ_y + σ_y*w_shock[i]) + R[i]*s_0*w[i]            \n",
    "        end\n",
    "        # Step forward\n",
    "        w .= wp\n",
    "        z .= zp\n",
    "    end    \n",
    "    sort!(w) # sorts the wealth so we can calculate gini/lorenz        \n",
    "    F, L = lorenz(w)\n",
    "    return (;w, F, L, gini = gini(w))\n",
    "end"
   ]
  },
  {
   "cell_type": "markdown",
   "id": "7755b004",
   "metadata": {},
   "source": [
    "We have used a look with a few modifications to help with efficiency.  To summarize, we have\n",
    "\n",
    "- replaced the `if` with the ternary interface  \n",
    "- preallocated a `zp, wp, R` to store intermediate values for the calculations.  \n",
    "- swapped the `w, z` and `wp, zp` to step forward each period rather than savings all of the simulation paths.  This is sufficient since we will only plot statistics of the terminal distribution rather than in the transition.  \n",
    "- annotated with the `@turbo` macro  uses a package to speed up the inner loop.  This is discussed in more detail below.  \n",
    "- replaced the `randn()` at each simulation step with a draw of random values for all agents, i.e. `z_shock, R_shock, w_shock`.  This will make parallelization with `@turbo` possible.  \n",
    "\n",
    "\n",
    "To use this function, we pass in parameters and can access the resulting wealth distribution and inequality measures."
   ]
  },
  {
   "cell_type": "code",
   "execution_count": null,
   "id": "a5b1268d",
   "metadata": {
    "hide-output": false
   },
   "outputs": [],
   "source": [
    "p = wealth_dynamics_model()\n",
    "N = 100_000\n",
    "T = 500\n",
    "res = simulate_panel(N, T, p)\n",
    "@show median(res.w)\n",
    "@show res.gini;"
   ]
  },
  {
   "cell_type": "markdown",
   "id": "97704248",
   "metadata": {},
   "source": [
    "Now we investigate how the Lorenz curves associated with the wealth distribution change as return to savings varies.\n",
    "\n",
    "The code below simulates the wealth distribution, Lorenz curve, and gini for multiple values of $ \\mu_r $."
   ]
  },
  {
   "cell_type": "code",
   "execution_count": null,
   "id": "bb191b96",
   "metadata": {
    "hide-output": false
   },
   "outputs": [],
   "source": [
    "μ_r_vals = range(0.0, 0.075, 5)\n",
    "results = map(μ_r -> simulate_panel(N, T, wealth_dynamics_model(;μ_r)),\n",
    "              μ_r_vals);"
   ]
  },
  {
   "cell_type": "markdown",
   "id": "c8796b10",
   "metadata": {},
   "source": [
    "Using these results, we can plot the Lorenz curves for each value of $ \\mu_r $ and compare to perfect equality."
   ]
  },
  {
   "cell_type": "code",
   "execution_count": null,
   "id": "6816d3f2",
   "metadata": {
    "hide-output": false
   },
   "outputs": [],
   "source": [
    "plt = plot(results[1].F, results[1].F, label = \"equality\", legend = :topleft,\n",
    "           ylabel=\"Lorenz Curve\")\n",
    "[plot!(plt, res.F, res.L, label = L\"\\psi^*, \\mu_r = %$μ_r\") \n",
    " for (μ_r, res) in zip(μ_r_vals, results)]\n",
    "plt"
   ]
  },
  {
   "cell_type": "markdown",
   "id": "c3eb2dcd",
   "metadata": {},
   "source": [
    "The Lorenz curve shifts downwards as returns on financial income rise, indicating a rise in inequality.\n",
    "\n",
    "Now let’s check the Gini coefficient."
   ]
  },
  {
   "cell_type": "code",
   "execution_count": null,
   "id": "8e69fdc3",
   "metadata": {
    "hide-output": false
   },
   "outputs": [],
   "source": [
    "ginis = [res.gini for res in results]\n",
    "plot(μ_r_vals, ginis, label = \"Gini coefficient\", xlabel = L\"\\mu_r\")"
   ]
  },
  {
   "cell_type": "markdown",
   "id": "87d75f02",
   "metadata": {},
   "source": [
    "Once again, we see that inequality increases as returns on financial income rise, and the relationship is roughly linear.\n",
    "\n",
    "Let’s finish this section by investigating what happens when we change the\n",
    "volatility term $ \\sigma_r $ in financial returns."
   ]
  },
  {
   "cell_type": "code",
   "execution_count": null,
   "id": "3735e6ce",
   "metadata": {
    "hide-output": false
   },
   "outputs": [],
   "source": [
    "σ_r_vals = range(0.35, 0.53, 5)\n",
    "results = map(σ_r -> simulate_panel(N, T, wealth_dynamics_model(;σ_r)),\n",
    "              σ_r_vals);\n",
    "plt = plot(results[1].F, results[1].F, label = \"equality\", legend = :topleft,\n",
    "           ylabel=\"Lorenz Curve\")\n",
    "[plot!(plt, res.F, res.L, label = L\"\\psi^*, \\sigma_r = %$σ_r\")\n",
    " for (σ_r, res) in zip(σ_r_vals, results)]\n",
    "plt"
   ]
  },
  {
   "cell_type": "markdown",
   "id": "e4a1b5da",
   "metadata": {},
   "source": [
    "We see that greater volatility has the effect of increasing inequality in this model."
   ]
  },
  {
   "cell_type": "code",
   "execution_count": null,
   "id": "fda41c1c",
   "metadata": {
    "hide-output": false
   },
   "outputs": [],
   "source": [
    "ginis = [res.gini for res in results]\n",
    "plot(σ_r_vals, ginis, label = \"Gini coefficient\", xlabel = L\"\\sigma_r\")"
   ]
  },
  {
   "cell_type": "markdown",
   "id": "444c42a5",
   "metadata": {},
   "source": [
    "Similarly, the Gini coefficient shows that greater volatility increases inequality and approaches a Gini of 1 (i.e., perfect inequality) as the volatility increases where a $ \\sigma_r \\approx 0.53 $ is close to the maximum value fixing the other parameters at their default values.\n",
    "\n",
    "In this case, the divergence occurs as the $ \\alpha < 1 $ condition begins to fail because high volatility increases mean rate of return, leading to explosive savings behavior."
   ]
  },
  {
   "cell_type": "markdown",
   "id": "529cd6fc",
   "metadata": {},
   "source": [
    "### Parallelization and Vectorization\n",
    "\n",
    "Note that the simulation above is written in a loop rather than vectorized in a Matlab or Python style.  Loops are perfectly fine, and often have higher-performance, in Julia and other compiled languages.\n",
    "\n",
    "One advantage of loops in these cases is that it can exploit different sorts of parallelization and is amenable to compiler optimizations.\n",
    "\n",
    "A common approach to this is to use macros which transform the code into a form more amenable to parallelization before handing the code off to the compiler.  One of the most standard packages for this is [LoopVectorization.jl](https://github.com/JuliaSIMD/LoopVectorization.jl) - a dependency in already included in many high-performance libraries in Julia.\n",
    "\n",
    "Note that in the above version with `@turbo` if we instead of using `randn(N)` to preallocate the shocks before the loop, we left in the `randn()`, the code gives the wrong answer.  The details are subtle, but in all likelihood it is because the macro assumes all functions are pure (i.e., that `randn()` would return the same value within the loop and can then be cached and reused).\n",
    "\n",
    "This is part of a broader caution of using fancy macros to speed up code."
   ]
  },
  {
   "cell_type": "markdown",
   "id": "ac49c1c4",
   "metadata": {},
   "source": [
    "### Caution with loop optimizations\n",
    "\n",
    "The `@turbo`, `@inbounds` and other macros can be useful but can lead to subtle bugs - so only use after ensuring correctness of your methods without the accelerations.  See [the warnings](https://github.com/JuliaSIMD/LoopVectorization.jl#warning) associated with the package.  In addition, by skipping bounds checking you may corrupt memory and crash Julia if there are bugs in your code - whereas otherwise it would simply report back an error to help with debugging.\n",
    "\n",
    "Lets write a version without the macro.  In that case, we do not need to allocate the entire sequences of shocks beforehand"
   ]
  },
  {
   "cell_type": "code",
   "execution_count": null,
   "id": "ab5d9a8e",
   "metadata": {
    "hide-output": false
   },
   "outputs": [],
   "source": [
    "function simulate_panel_no_turbo(N, T, p)\n",
    "    (;w_hat, s_0, c_y, μ_y, σ_y, c_r, μ_r, σ_r, a, b, σ_z) = p\n",
    "    w = p.y_mean * ones(N) # start at the mean of y\n",
    "    z = rand(p.z_stationary_dist, N)\n",
    "    \n",
    "    # Preallocate next period states and R intermediate\n",
    "    zp = similar(z)\n",
    "    wp = similar(w)\n",
    "    R = similar(w)\n",
    "\n",
    "    for t in 1:T\n",
    "        @inbounds for i in 1:N\n",
    "            zp[i] = a*z[i] + b + σ_z * randn()\n",
    "            R[i] = (w[i] >= w_hat) ? c_r * exp(zp[i]) + exp(μ_r + σ_r*randn()) : 0.0\n",
    "            wp[i] = c_y*exp(zp[i]) + exp(μ_y + σ_y*randn()) + R[i] * s_0*w[i]            \n",
    "        end\n",
    "        # Step forward\n",
    "        w .= wp\n",
    "        z .= zp\n",
    "    end    \n",
    "    sort!(w) # sorts the wealth so we can calculate gini/lorenz        \n",
    "    F, L = lorenz(w)\n",
    "    return (;w, F, L, gini = gini(w))\n",
    "end"
   ]
  },
  {
   "cell_type": "markdown",
   "id": "9ce1c489",
   "metadata": {},
   "source": [
    "The `@inbounds` macro ignore bounds checking to gain a few percent increase in speed but is not essential otherwise.\n",
    "\n",
    "Finally, to see the comparison to a vectorized approach in the style of matlab or numpy,"
   ]
  },
  {
   "cell_type": "code",
   "execution_count": null,
   "id": "f7441083",
   "metadata": {
    "hide-output": false
   },
   "outputs": [],
   "source": [
    "function step_wealth_vectorized(w, z, p)\n",
    "    N = length(w) # panel size    \n",
    "    (;w_hat, s_0, c_y, μ_y, σ_y, c_r, μ_r, σ_r, a, b, σ_z) = p\n",
    "    zp = a*z .+ b .+ σ_z * randn(N) # vectorized\n",
    "    y = c_y*exp.(zp) .+ exp.(μ_y .+ σ_y*randn(N))\n",
    "\n",
    "    # return set to zero if no savings, simplifies vectorization\n",
    "    R = (w .> w_hat).*(c_r*exp.(zp) .+ exp.(μ_r .+ σ_r*randn(N)))\n",
    "    wp = y .+ s_0*R.*w # note R = 0 if not saving since w < w_hat\n",
    "    return wp, zp\n",
    "end\n",
    "function simulate_panel_vectorized(N, T, p)\n",
    "    y_0 = p.y_mean * ones(N) # start at the mean\n",
    "    z_0 = rand(p.z_stationary_dist, N)\n",
    "\n",
    "    # iterate forward from initial condition\n",
    "    w = y_0 # start at mean of income process\n",
    "    z = z_0\n",
    "    for t in 1:T\n",
    "        w, z = step_wealth_vectorized(w, z, p) # steps forward\n",
    "    end\n",
    "    sort!(w) # sorts the wealth so we can calculate gini/lorenz        \n",
    "    F, L = lorenz(w)\n",
    "    return (;w, F, L, gini = gini(w))\n",
    "end"
   ]
  },
  {
   "cell_type": "markdown",
   "id": "b3663749",
   "metadata": {},
   "source": [
    "We can then compare the performance of these versions."
   ]
  },
  {
   "cell_type": "code",
   "execution_count": null,
   "id": "bf6938d9",
   "metadata": {
    "hide-output": false
   },
   "outputs": [],
   "source": [
    "N = 100_000\n",
    "T = 200\n",
    "@btime simulate_panel(N, T, $p)\n",
    "@btime simulate_panel_no_turbo(N, T, $p)\n",
    "@btime simulate_panel_vectorized(N, T, $p);"
   ]
  },
  {
   "cell_type": "markdown",
   "id": "e3b5143f",
   "metadata": {},
   "source": [
    "The results displayed above are done with the server compiling these notes, and may not be representative.  The performance will depend on the availability of [SIMD](https://en.wikipedia.org/wiki/Single_instruction,_multiple_data) and [AVX512](https://en.wikipedia.org/wiki/AVX-512) on your processor.\n",
    "\n",
    "[LoopVectorization.jl](https://github.com/JuliaSIMD/LoopVectorization.jl) can also parallelize over threads and multiple processes by replacing with the [`@tturbo`](https://juliasimd.github.io/LoopVectorization.jl/latest/examples/multithreading/) macro, but this does not seem to significantly improve performance in this case."
   ]
  }
 ],
 "metadata": {
  "date": 1672949736.8769653,
  "filename": "wealth_dynamics.md",
  "kernelspec": {
   "display_name": "Julia",
   "language": "julia",
   "name": "julia-1.8"
  },
  "title": "Wealth Distribution Dynamics"
 },
 "nbformat": 4,
 "nbformat_minor": 5
}