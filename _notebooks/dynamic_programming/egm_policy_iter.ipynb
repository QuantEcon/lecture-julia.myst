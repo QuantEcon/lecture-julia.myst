{
 "cells": [
  {
   "cell_type": "markdown",
   "id": "e416e986",
   "metadata": {},
   "source": [
    "\n",
    "<a id='egm-policy-iter'></a>"
   ]
  },
  {
   "cell_type": "markdown",
   "id": "a3744fe9",
   "metadata": {},
   "source": [
    "# Optimal Growth III: The Endogenous Grid Method"
   ]
  },
  {
   "cell_type": "markdown",
   "id": "d193255a",
   "metadata": {},
   "source": [
    "## Contents\n",
    "\n",
    "- [Optimal Growth III: The Endogenous Grid Method](#Optimal-Growth-III:-The-Endogenous-Grid-Method)  \n",
    "  - [Overview](#Overview)  \n",
    "  - [Key Idea](#Key-Idea)  \n",
    "  - [Implementation](#Implementation)  \n",
    "  - [Speed](#Speed)  "
   ]
  },
  {
   "cell_type": "markdown",
   "id": "cc051c3b",
   "metadata": {},
   "source": [
    "## Overview\n",
    "\n",
    "We solved the stochastic optimal growth model using\n",
    "\n",
    "1. [value function iteration](https://julia.quantecon.org/optgrowth.html)  \n",
    "1. [Euler equation based time iteration](https://julia.quantecon.org/coleman_policy_iter.html)  \n",
    "\n",
    "\n",
    "We found time iteration to be significantly more accurate at each step.\n",
    "\n",
    "In this lecture we’ll look at an ingenious twist on the time iteration technique called the **endogenous grid method** (EGM).\n",
    "\n",
    "EGM is a numerical method for implementing policy iteration invented by [Chris Carroll](http://www.econ2.jhu.edu/people/ccarroll/).\n",
    "\n",
    "It is a good example of how a clever algorithm can save a massive amount of computer time.\n",
    "\n",
    "(Massive when we multiply saved CPU cycles on each implementation times the number of implementations worldwide)\n",
    "\n",
    "The original reference is [[Car06](https://julia.quantecon.org/../zreferences.html#id70)]."
   ]
  },
  {
   "cell_type": "markdown",
   "id": "ae4408d7",
   "metadata": {},
   "source": [
    "## Key Idea\n",
    "\n",
    "Let’s start by reminding ourselves of the theory and then see how the numerics fit in."
   ]
  },
  {
   "cell_type": "markdown",
   "id": "b0dcdaf0",
   "metadata": {},
   "source": [
    "### Theory\n",
    "\n",
    "Take the model set out in [the time iteration lecture](https://julia.quantecon.org/coleman_policy_iter.html), following the same terminology and notation.\n",
    "\n",
    "The Euler equation is\n",
    "\n",
    "\n",
    "<a id='equation-egm-euler'></a>\n",
    "$$\n",
    "(u'\\circ c^*)(y)\n",
    "= \\beta \\int (u'\\circ c^*)(f(y - c^*(y)) z) f'(y - c^*(y)) z \\phi(dz) \\tag{36.1}\n",
    "$$\n",
    "\n",
    "As we saw, the Coleman operator is a nonlinear operator $ K $ engineered so that $ c^* $ is a fixed point of $ K $.\n",
    "\n",
    "It takes as its argument a continuous strictly increasing consumption policy $ g \\in \\Sigma $.\n",
    "\n",
    "It returns a new function $ Kg $,  where $ (Kg)(y) $ is the $ c \\in (0, \\infty) $ that solves\n",
    "\n",
    "\n",
    "<a id='equation-egm-coledef'></a>\n",
    "$$\n",
    "u'(c)\n",
    "= \\beta \\int (u' \\circ g) (f(y - c) z ) f'(y - c) z \\phi(dz) \\tag{36.2}\n",
    "$$"
   ]
  },
  {
   "cell_type": "markdown",
   "id": "8afee8ce",
   "metadata": {},
   "source": [
    "### Exogenous Grid\n",
    "\n",
    "As discussed in [the lecture on time iteration](https://julia.quantecon.org/coleman_policy_iter.html), to implement the method on a computer we need numerical approximation.\n",
    "\n",
    "In particular, we represent a policy function by a set of values on a finite grid.\n",
    "\n",
    "The function itself is reconstructed from this representation when necessary, using interpolation or some other method.\n",
    "\n",
    "[Previously](https://julia.quantecon.org/coleman_policy_iter.html), to obtain a finite representation of an updated consumption policy we\n",
    "\n",
    "- fixed a grid of income points $ \\{y_i\\} $  \n",
    "- calculated the consumption value $ c_i $ corresponding to each\n",
    "  $ y_i $ using [(36.2)](#equation-egm-coledef) and a root finding routine  \n",
    "\n",
    "\n",
    "Each $ c_i $ is then interpreted as the value of the function $ K g $ at $ y_i $.\n",
    "\n",
    "Thus, with the points $ \\{y_i, c_i\\} $ in hand, we can reconstruct $ Kg $ via approximation.\n",
    "\n",
    "Iteration then continues…"
   ]
  },
  {
   "cell_type": "markdown",
   "id": "0174a09f",
   "metadata": {},
   "source": [
    "### Endogenous Grid\n",
    "\n",
    "The method discussed above requires a root finding routine to find the\n",
    "$ c_i $ corresponding to a given income value $ y_i $.\n",
    "\n",
    "Root finding is costly because it typically involves a significant number of\n",
    "function evaluations.\n",
    "\n",
    "As pointed out by Carroll [[Car06](https://julia.quantecon.org/../zreferences.html#id70)], we can avoid this if\n",
    "$ y_i $ is chosen endogenously.\n",
    "\n",
    "The only assumption required is that $ u' $ is invertible on $ (0, \\infty) $.\n",
    "\n",
    "The idea is this:\n",
    "\n",
    "First we fix an *exogenous* grid $ \\{k_i\\} $ for capital ($ k = y - c $).\n",
    "\n",
    "Then we obtain  $ c_i $ via\n",
    "\n",
    "\n",
    "<a id='equation-egm-getc'></a>\n",
    "$$\n",
    "c_i =\n",
    "(u')^{-1}\n",
    "\\left\\{\n",
    "    \\beta \\int (u' \\circ g) (f(k_i) z ) \\, f'(k_i) \\, z \\, \\phi(dz)\n",
    "\\right\\} \\tag{36.3}\n",
    "$$\n",
    "\n",
    "where $ (u')^{-1} $ is the inverse function of $ u' $.\n",
    "\n",
    "Finally, for each $ c_i $ we set $ y_i = c_i + k_i $.\n",
    "\n",
    "It is clear that each $ (y_i, c_i) $ pair constructed in this manner satisfies [(36.2)](#equation-egm-coledef).\n",
    "\n",
    "With the points $ \\{y_i, c_i\\} $ in hand, we can reconstruct $ Kg $ via approximation as before.\n",
    "\n",
    "The name EGM comes from the fact that the grid $ \\{y_i\\} $ is  determined **endogenously**."
   ]
  },
  {
   "cell_type": "markdown",
   "id": "a5d7b0ce",
   "metadata": {},
   "source": [
    "## Implementation\n",
    "\n",
    "Let’s implement this version of the Coleman operator and see how it performs."
   ]
  },
  {
   "cell_type": "markdown",
   "id": "9c7d8d8c",
   "metadata": {},
   "source": [
    "### The Operator\n",
    "\n",
    "Here’s an implementation of $ K $ using EGM as described above."
   ]
  },
  {
   "cell_type": "code",
   "execution_count": null,
   "id": "e0c28d54",
   "metadata": {
    "hide-output": false
   },
   "outputs": [],
   "source": [
    "using LinearAlgebra, Statistics\n",
    "using BenchmarkTools, Interpolations, LaTeXStrings, Plots, Random, Roots"
   ]
  },
  {
   "cell_type": "code",
   "execution_count": null,
   "id": "0d76ee42",
   "metadata": {
    "hide-output": false
   },
   "outputs": [],
   "source": [
    "function coleman_egm(g, k_grid, beta, u_prime, u_prime_inv, f, f_prime, shocks)\n",
    "\n",
    "    # Allocate memory for value of consumption on endogenous grid points\n",
    "    c = similar(k_grid)\n",
    "\n",
    "    # Solve for updated consumption value\n",
    "    for (i, k) in enumerate(k_grid)\n",
    "        vals = u_prime.(g.(f(k) * shocks)) .* f_prime(k) .* shocks\n",
    "        c[i] = u_prime_inv(beta * mean(vals))\n",
    "    end\n",
    "\n",
    "    # Determine endogenous grid\n",
    "    y = k_grid + c  # y_i = k_i + c_i\n",
    "\n",
    "    # Update policy function and return\n",
    "    Kg = LinearInterpolation(y, c, extrapolation_bc = Line())\n",
    "    Kg_f(x) = Kg(x)\n",
    "    return Kg_f\n",
    "end"
   ]
  },
  {
   "cell_type": "markdown",
   "id": "0647e347",
   "metadata": {},
   "source": [
    "Note the lack of any root finding algorithm.\n",
    "\n",
    "We’ll also run our original implementation, which uses an exogenous grid and requires root finding, so we can perform some comparisons"
   ]
  },
  {
   "cell_type": "code",
   "execution_count": null,
   "id": "9ea41509",
   "metadata": {
    "hide-output": false
   },
   "outputs": [],
   "source": [
    "function K!(Kg, g, grid, beta, u_prime, f, f_prime, shocks)\n",
    "\n",
    "    # This function requires the container of the output value as argument Kg\n",
    "\n",
    "    # Construct linear interpolation object #\n",
    "    g_func = LinearInterpolation(grid, g, extrapolation_bc = Line())\n",
    "\n",
    "    # solve for updated consumption value #\n",
    "    for (i, y) in enumerate(grid)\n",
    "        function h(c)\n",
    "            vals = u_prime.(g_func.(f(y - c) * shocks)) .* f_prime(y - c) .*\n",
    "                   shocks\n",
    "            return u_prime(c) - beta * mean(vals)\n",
    "        end\n",
    "        Kg[i] = find_zero(h, (1e-10, y - 1e-10))\n",
    "    end\n",
    "    return Kg\n",
    "end\n",
    "\n",
    "# The following function does NOT require the container of the output value as argument\n",
    "function K(g, grid, beta, u_prime, f, f_prime, shocks)\n",
    "    K!(similar(g), g, grid, beta, u_prime, f, f_prime, shocks)\n",
    "end"
   ]
  },
  {
   "cell_type": "markdown",
   "id": "5121a31d",
   "metadata": {},
   "source": [
    "Let’s test out the code above on some example parameterizations, after the following imports."
   ]
  },
  {
   "cell_type": "markdown",
   "id": "11f6f86f",
   "metadata": {},
   "source": [
    "### Testing on the Log / Cobb–Douglas case\n",
    "\n",
    "As we [did for value function iteration](https://julia.quantecon.org/optgrowth.html) and [time iteration](https://julia.quantecon.org/coleman_policy_iter.html), let’s start by testing our method with the log-linear benchmark.\n",
    "\n",
    "The first step is to bring in the model that we used in the [Coleman policy function iteration](https://julia.quantecon.org/coleman_policy_iter.html)"
   ]
  },
  {
   "cell_type": "code",
   "execution_count": null,
   "id": "feea75fb",
   "metadata": {
    "hide-output": false
   },
   "outputs": [],
   "source": [
    "# model\n",
    "\n",
    "function Model(; alpha = 0.65, # productivity parameter\n",
    "               beta = 0.95, # discount factor\n",
    "               gamma = 1.0,  # risk aversion\n",
    "               mu = 0.0,  # lognorm(mu, sigma)\n",
    "               s = 0.1,  # lognorm(mu, sigma)\n",
    "               grid_min = 1e-6, # smallest grid point\n",
    "               grid_max = 4.0,  # largest grid point\n",
    "               grid_size = 200, # grid size\n",
    "               u = gamma == 1 ? log : c -> (c^(1 - gamma) - 1) / (1 - gamma), # utility function\n",
    "               u_prime = c -> c^(-gamma), # u'\n",
    "               f = k -> k^alpha, # production function\n",
    "               f_prime = k -> alpha * k^(alpha - 1), # f'\n",
    "               grid = range(grid_min, grid_max, length = grid_size)) # grid\n",
    "    return (; alpha, beta, gamma, mu, s, grid_min, grid_max, grid_size, u,\n",
    "            u_prime,\n",
    "            f, f_prime, grid)\n",
    "end"
   ]
  },
  {
   "cell_type": "markdown",
   "id": "fb2d4816",
   "metadata": {},
   "source": [
    "Next we generate an instance"
   ]
  },
  {
   "cell_type": "code",
   "execution_count": null,
   "id": "75d5c872",
   "metadata": {
    "hide-output": false
   },
   "outputs": [],
   "source": [
    "mlog = Model(); # Log Linear model"
   ]
  },
  {
   "cell_type": "markdown",
   "id": "7a1faf7e",
   "metadata": {},
   "source": [
    "We also need some shock draws for Monte Carlo integration"
   ]
  },
  {
   "cell_type": "code",
   "execution_count": null,
   "id": "b4bb0cb9",
   "metadata": {
    "hide-output": false
   },
   "outputs": [],
   "source": [
    "Random.seed!(42); # For reproducible behavior.\n",
    "\n",
    "shock_size = 250     # Number of shock draws in Monte Carlo integral\n",
    "shocks = exp.(mlog.mu .+ mlog.s * randn(shock_size));"
   ]
  },
  {
   "cell_type": "markdown",
   "id": "253c2862",
   "metadata": {},
   "source": [
    "As a preliminary test, let’s see if $ K c^* = c^* $, as implied by the theory"
   ]
  },
  {
   "cell_type": "code",
   "execution_count": null,
   "id": "91603b93",
   "metadata": {
    "hide-output": false
   },
   "outputs": [],
   "source": [
    "c_star(y) = (1 - mlog.alpha * mlog.beta) * y\n",
    "\n",
    "# some useful constants\n",
    "ab = mlog.alpha * mlog.beta\n",
    "c1 = log(1 - ab) / (1 - mlog.beta)\n",
    "c2 = (mlog.mu + mlog.alpha * log(ab)) / (1 - mlog.alpha)\n",
    "c3 = 1 / (1 - mlog.beta)\n",
    "c4 = 1 / (1 - ab)\n",
    "\n",
    "v_star(y) = c1 + c2 * (c3 - c4) + c4 * log(y)"
   ]
  },
  {
   "cell_type": "code",
   "execution_count": null,
   "id": "87968acb",
   "metadata": {
    "hide-output": false
   },
   "outputs": [],
   "source": [
    "function verify_true_policy(m, shocks, c_star)\n",
    "    k_grid = m.grid\n",
    "    c_star_new = coleman_egm(c_star, k_grid, m.beta, m.u_prime, m.u_prime, m.f,\n",
    "                             m.f_prime, shocks)\n",
    "\n",
    "    plt = plot()\n",
    "    plot!(plt, k_grid, c_star.(k_grid), lw = 2, label = L\"optimal policy $c^*$\")\n",
    "    plot!(plt, k_grid, c_star_new.(k_grid), lw = 2, label = L\"Kc^*\")\n",
    "    plot!(plt, legend = :topleft)\n",
    "end"
   ]
  },
  {
   "cell_type": "code",
   "execution_count": null,
   "id": "a2dc645f",
   "metadata": {
    "hide-output": false
   },
   "outputs": [],
   "source": [
    "verify_true_policy(mlog, shocks, c_star)"
   ]
  },
  {
   "cell_type": "markdown",
   "id": "5d2e8f1f",
   "metadata": {},
   "source": [
    "Notice that we’re passing u_prime to coleman_egm twice.\n",
    "\n",
    "The reason is that, in the case of log utility, $ u'(c) = (u')^{-1}(c) = 1/c $.\n",
    "\n",
    "Hence u_prime and u_prime_inv are the same.\n",
    "\n",
    "We can’t really distinguish the two plots.\n",
    "\n",
    "In fact it’s easy to see that the difference is essentially zero:"
   ]
  },
  {
   "cell_type": "code",
   "execution_count": null,
   "id": "bb7ba22d",
   "metadata": {
    "hide-output": false
   },
   "outputs": [],
   "source": [
    "c_star_new = coleman_egm(c_star, mlog.grid, mlog.beta, mlog.u_prime,\n",
    "                         mlog.u_prime, mlog.f, mlog.f_prime, shocks)\n",
    "maximum(abs(c_star_new(g) - c_star(g)) for g in mlog.grid)"
   ]
  },
  {
   "cell_type": "markdown",
   "id": "cfa0ffe5",
   "metadata": {},
   "source": [
    "Next let’s try iterating from an arbitrary initial condition and see if we\n",
    "converge towards $ c^* $.\n",
    "\n",
    "Let’s start from the consumption policy that eats the whole pie: $ c(y) = y $"
   ]
  },
  {
   "cell_type": "code",
   "execution_count": null,
   "id": "1955afb5",
   "metadata": {
    "hide-output": false
   },
   "outputs": [],
   "source": [
    "n = 15\n",
    "function check_convergence(m, shocks, c_star, g_init, n_iter)\n",
    "    k_grid = m.grid\n",
    "    g = g_init\n",
    "    plt = plot()\n",
    "    plot!(plt, m.grid, g.(m.grid),\n",
    "          color = RGBA(0, 0, 0, 1), lw = 2, alpha = 0.6,\n",
    "          label = L\"initial condition $c(y) = y$\")\n",
    "    for i in 1:n_iter\n",
    "        new_g = coleman_egm(g, k_grid, m.beta, m.u_prime, m.u_prime, m.f,\n",
    "                            m.f_prime,\n",
    "                            shocks)\n",
    "        g = new_g\n",
    "        plot!(plt, k_grid, new_g.(k_grid), alpha = 0.6,\n",
    "              color = RGBA(0, 0, (i / n_iter), 1),\n",
    "              lw = 2, label = \"\")\n",
    "    end\n",
    "\n",
    "    plot!(plt, k_grid, c_star.(k_grid),\n",
    "          color = :black, lw = 2, alpha = 0.8,\n",
    "          label = L\"true policy function $c^*$\")\n",
    "    plot!(plt, legend = :topleft)\n",
    "end"
   ]
  },
  {
   "cell_type": "code",
   "execution_count": null,
   "id": "0f1c12c0",
   "metadata": {
    "hide-output": false
   },
   "outputs": [],
   "source": [
    "check_convergence(mlog, shocks, c_star, identity, n)"
   ]
  },
  {
   "cell_type": "markdown",
   "id": "81f35f75",
   "metadata": {},
   "source": [
    "We see that the policy has converged nicely, in only a few steps."
   ]
  },
  {
   "cell_type": "markdown",
   "id": "ce99b1bc",
   "metadata": {},
   "source": [
    "## Speed\n",
    "\n",
    "Now let’s compare the clock times per iteration for the standard Coleman\n",
    "operator (with exogenous grid) and the EGM version.\n",
    "\n",
    "We’ll do so using the CRRA model adopted in the exercises of the [Euler equation time iteration lecture](https://julia.quantecon.org/coleman_policy_iter.html).\n",
    "\n",
    "Here’s the model and some convenient functions"
   ]
  },
  {
   "cell_type": "code",
   "execution_count": null,
   "id": "828a8157",
   "metadata": {
    "hide-output": false
   },
   "outputs": [],
   "source": [
    "mcrra = Model(alpha = 0.65, beta = 0.95, gamma = 1.5)\n",
    "u_prime_inv(c) = c^(-1 / mcrra.gamma)"
   ]
  },
  {
   "cell_type": "markdown",
   "id": "20342f00",
   "metadata": {},
   "source": [
    "Here’s the result"
   ]
  },
  {
   "cell_type": "code",
   "execution_count": null,
   "id": "054dd9f9",
   "metadata": {
    "hide-output": false
   },
   "outputs": [],
   "source": [
    "function crra_coleman(g, m, shocks)\n",
    "    K(g, m.grid, m.beta, m.u_prime, m.f, m.f_prime, shocks)\n",
    "end\n",
    "function crra_coleman_egm(g, m, shocks)\n",
    "    coleman_egm(g, m.grid, m.beta, m.u_prime,\n",
    "                u_prime_inv, m.f, m.f_prime, shocks)\n",
    "end\n",
    "function coleman(m = m, shocks = shocks; sim_length = 20)\n",
    "    g = m.grid\n",
    "    for i in 1:sim_length\n",
    "        g = crra_coleman(g, m, shocks)\n",
    "    end\n",
    "    return g\n",
    "end\n",
    "function egm(m, g = identity, shocks = shocks; sim_length = 20)\n",
    "    for i in 1:sim_length\n",
    "        g = crra_coleman_egm(g, m, shocks)\n",
    "    end\n",
    "    return g.(m.grid)\n",
    "end"
   ]
  },
  {
   "cell_type": "code",
   "execution_count": null,
   "id": "bcf13044",
   "metadata": {
    "hide-output": false
   },
   "outputs": [],
   "source": [
    "@benchmark coleman($mcrra)"
   ]
  },
  {
   "cell_type": "code",
   "execution_count": null,
   "id": "853fb79c",
   "metadata": {
    "hide-output": false
   },
   "outputs": [],
   "source": [
    "@benchmark egm($mcrra)"
   ]
  },
  {
   "cell_type": "markdown",
   "id": "bcfdb903",
   "metadata": {},
   "source": [
    "We see that the EGM version is about 30 times faster.\n",
    "\n",
    "At the same time, the absence of numerical root finding means that it is\n",
    "typically more accurate at each step as well."
   ]
  }
 ],
 "metadata": {
  "date": 1732137472.9258332,
  "filename": "egm_policy_iter.md",
  "kernelspec": {
   "display_name": "Julia",
   "language": "julia",
   "name": "julia-1.11"
  },
  "title": "Optimal Growth III: The Endogenous Grid Method"
 },
 "nbformat": 4,
 "nbformat_minor": 5
}