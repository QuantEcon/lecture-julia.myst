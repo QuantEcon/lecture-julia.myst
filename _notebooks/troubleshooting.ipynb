{
 "cells": [
  {
   "cell_type": "markdown",
   "id": "4b017333",
   "metadata": {},
   "source": [
    "\n",
    "<a id='troubleshooting'></a>"
   ]
  },
  {
   "cell_type": "markdown",
   "id": "3264c653",
   "metadata": {},
   "source": [
    "# Troubleshooting"
   ]
  },
  {
   "cell_type": "markdown",
   "id": "0c1e0b56",
   "metadata": {},
   "source": [
    "## Contents\n",
    "\n",
    "- [Troubleshooting](#Troubleshooting)  \n",
    "  - [Resetting your Lectures](#Resetting-your-Lectures)  \n",
    "  - [Fixing Your Local Environment](#Fixing-Your-Local-Environment)  \n",
    "  - [Upgrading Julia](#Upgrading-Julia)  \n",
    "  - [Reporting an Issue](#Reporting-an-Issue)  "
   ]
  },
  {
   "cell_type": "markdown",
   "id": "5716f73a",
   "metadata": {},
   "source": [
    "This troubleshooting page is to help ensure you software environment is setup correctly\n",
    "to run this lecture set locally on your machine."
   ]
  },
  {
   "cell_type": "markdown",
   "id": "07847613",
   "metadata": {},
   "source": [
    "## Resetting your Lectures\n",
    "\n",
    "Using VS Code, you can easily revert back individual lectures, all of the lectures, or get updated versions of the lecture notes.\n",
    "\n",
    "See the lecture on [setting up your environment](https://julia.quantecon.org/getting_started_julia/getting_started.html#reset-notebooks) for more.\n",
    "\n",
    "If the `Project.toml` or `Manifest.toml` files are modified, then you may want to redo the [instantiation](https://julia.quantecon.org/getting_started_julia/getting_started.html#install-packages) step to ensure you have the correct versions.\n",
    "\n",
    "\n",
    "<a id='reset-julia'></a>"
   ]
  },
  {
   "cell_type": "markdown",
   "id": "c5f8778a",
   "metadata": {},
   "source": [
    "## Fixing Your Local Environment\n",
    "\n",
    "If packages are misbehaving, you may want to simply [reset the lectures](https://julia.quantecon.org/getting_started_julia/getting_started.html#reset-notebooks) or at least the `Project.toml` and `Manifest.toml` files from the lecture notes, and then redo the [instantiation](https://julia.quantecon.org/getting_started_julia/getting_started.html#install-packages) step  This will fix nearly every problem.\n",
    "\n",
    "However, if you are still having issues you could delete the entire `.julia` directory for your users, and then redo the installation of packages as well as `] add IJulia`.  It is fast for recent versions of Julia.\n",
    "\n",
    "The directory  is located in your user directory (e.g. `~/.julia` on MacOS and Linux, and `C:\\Users\\YOURUSERNAME\\.julia` on Windows) or you can find this directory by running `DEPOT_PATH[1]` in a Julia REPL."
   ]
  },
  {
   "cell_type": "markdown",
   "id": "20ce7ef7",
   "metadata": {},
   "source": [
    "## Upgrading Julia\n",
    "\n",
    "You should be able to upgrade Julia by simply\n",
    "\n",
    "- Installing the latest release from the [Julia website](https://julialang.org/downloads/).  \n",
    "- Uninstalling your old release (so that the VS Code extension only uses the newest version)  \n",
    "- And, finally, you will need to redo the `] add IJulia` [installation step](https://julia.quantecon.org/getting_started_julia/getting_started.html#intro-repl) to ensure that Jupyter knows how to find the new version.  \n",
    "\n",
    "\n",
    "While upgrading Julia will typically work with the notebooks, there may be upgrades where a particular lecture has problems.  Make sure that you have [updated your notebooks](https://julia.quantecon.org/getting_started_julia/getting_started.html#reset-notebooks) in case bug fixes were made, and post an issue to the  [GitHub source for these lectures](https://github.com/QuantEcon/lecture-julia.myst/issues)."
   ]
  },
  {
   "cell_type": "markdown",
   "id": "ca7596b2",
   "metadata": {},
   "source": [
    "## Reporting an Issue\n",
    "\n",
    "One way to give feedback is to raise an issue through our [issue tracker](https://github.com/QuantEcon/lecture-julia.myst/issues).\n",
    "\n",
    "Please be as specific as possible.  Tell us where the problem is and as much\n",
    "detail about your local set up as you can provide.\n",
    "\n",
    "Another feedback option is to use our [discourse forum](https://discourse.quantecon.org/).\n",
    "\n",
    "Finally, you can provide direct feedback to [contact@quantecon.org](mailto:contact@quantecon.org)"
   ]
  }
 ],
 "metadata": {
  "date": 1643875384.0949883,
  "filename": "troubleshooting.md",
  "kernelspec": {
   "display_name": "Julia",
   "language": "julia",
   "name": "julia-1.7"
  },
  "title": "Troubleshooting"
 },
 "nbformat": 4,
 "nbformat_minor": 5
}