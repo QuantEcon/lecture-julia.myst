{
 "cells": [
  {
   "cell_type": "markdown",
   "id": "d78bbf52",
   "metadata": {},
   "source": [
    "# Quantitative Economics with Julia\n",
    "\n",
    "This website presents a set of lectures on quantitative economic modeling, designed and written by [Jesse Perla](https://www.jesseperla.com), [Thomas J. Sargent](http://www.tomsargent.com/) and [John Stachurski](http://johnstachurski.net/). The language instruction is Julia."
   ]
  },
  {
   "cell_type": "markdown",
   "id": "a0685172",
   "metadata": {},
   "source": [
    "# Getting Started with Julia\n",
    "\n",
    "- [Setting up Your Julia Environment](https://julia.quantecon.org/getting_started_julia/getting_started.html)\n",
    "- [Introductory Examples](https://julia.quantecon.org/getting_started_julia/julia_by_example.html)\n",
    "- [Julia Essentials](https://julia.quantecon.org/getting_started_julia/julia_essentials.html)\n",
    "- [Arrays, Tuples, Ranges, and Other Fundamental Types](https://julia.quantecon.org/getting_started_julia/fundamental_types.html)\n",
    "- [Introduction to Types and Generic Programming](https://julia.quantecon.org/getting_started_julia/introduction_to_types.html)"
   ]
  },
  {
   "cell_type": "markdown",
   "id": "1eb61f29",
   "metadata": {},
   "source": [
    "# Package Ecosystem\n",
    "\n",
    "- [Generic Programming](https://julia.quantecon.org/more_julia/generic_programming.html)\n",
    "- [General Purpose Packages](https://julia.quantecon.org/more_julia/general_packages.html)\n",
    "- [Data and Statistics Packages](https://julia.quantecon.org/more_julia/data_statistical_packages.html)\n",
    "- [Solvers, Optimizers, and Automatic Differentiation](https://julia.quantecon.org/more_julia/optimization_solver_packages.html)"
   ]
  },
  {
   "cell_type": "markdown",
   "id": "c542cdc1",
   "metadata": {},
   "source": [
    "# Software Engineering\n",
    "\n",
    "- [Visual Studio Code and Other Tools](https://julia.quantecon.org/software_engineering/tools_editors.html)\n",
    "- [GitHub, Version Control and Collaboration](https://julia.quantecon.org/software_engineering/version_control.html)\n",
    "- [Packages, Testing, and Continuous Integration](https://julia.quantecon.org/software_engineering/testing.html)\n",
    "- [The Need for Speed](https://julia.quantecon.org/software_engineering/need_for_speed.html)"
   ]
  },
  {
   "cell_type": "markdown",
   "id": "c101ee60",
   "metadata": {},
   "source": [
    "# Tools and Techniques\n",
    "\n",
    "- [Geometric Series for Elementary Economics](https://julia.quantecon.org/tools_and_techniques/geom_series.html)\n",
    "- [Linear Algebra](https://julia.quantecon.org/tools_and_techniques/linear_algebra.html)\n",
    "- [Orthogonal Projections and Their Applications](https://julia.quantecon.org/tools_and_techniques/orth_proj.html)\n",
    "- [LLN and CLT](https://julia.quantecon.org/tools_and_techniques/lln_clt.html)\n",
    "- [Linear State Space Models](https://julia.quantecon.org/tools_and_techniques/linear_models.html)\n",
    "- [Finite Markov Chains](https://julia.quantecon.org/tools_and_techniques/finite_markov.html)\n",
    "- [Continuous State Markov Chains](https://julia.quantecon.org/tools_and_techniques/stationary_densities.html)\n",
    "- [A First Look at the Kalman Filter](https://julia.quantecon.org/tools_and_techniques/kalman.html)\n",
    "- [Numerical Linear Algebra and Factorizations](https://julia.quantecon.org/tools_and_techniques/numerical_linear_algebra.html)\n",
    "- [Krylov Methods and Matrix Conditioning](https://julia.quantecon.org/tools_and_techniques/iterative_methods_sparsity.html)"
   ]
  },
  {
   "cell_type": "markdown",
   "id": "8250cf8b",
   "metadata": {},
   "source": [
    "# Dynamic Programming\n",
    "\n",
    "- [Shortest Paths](https://julia.quantecon.org/dynamic_programming/short_path.html)\n",
    "- [Job Search I: The McCall Search Model](https://julia.quantecon.org/dynamic_programming/mccall_model.html)\n",
    "- [Job Search II: Search and Separation](https://julia.quantecon.org/dynamic_programming/mccall_model_with_separation.html)\n",
    "- [A Problem that Stumped Milton Friedman](https://julia.quantecon.org/dynamic_programming/wald_friedman.html)\n",
    "- [Job Search III: Search with Learning](https://julia.quantecon.org/dynamic_programming/odu.html)\n",
    "- [Job Search IV: Modeling Career Choice](https://julia.quantecon.org/dynamic_programming/career.html)\n",
    "- [Job Search V: On-the-Job Search](https://julia.quantecon.org/dynamic_programming/jv.html)\n",
    "- [Optimal Growth I: The Stochastic Optimal Growth Model](https://julia.quantecon.org/dynamic_programming/optgrowth.html)\n",
    "- [Optimal Growth II: Time Iteration](https://julia.quantecon.org/dynamic_programming/coleman_policy_iter.html)\n",
    "- [Optimal Growth III: The Endogenous Grid Method](https://julia.quantecon.org/dynamic_programming/egm_policy_iter.html)\n",
    "- [LQ Dynamic Programming Problems](https://julia.quantecon.org/dynamic_programming/lqcontrol.html)\n",
    "- [Optimal Savings I: The Permanent Income Model](https://julia.quantecon.org/dynamic_programming/perm_income.html)\n",
    "- [Optimal Savings II: LQ Techniques](https://julia.quantecon.org/dynamic_programming/perm_income_cons.html)\n",
    "- [Consumption and Tax Smoothing with Complete and Incomplete Markets](https://julia.quantecon.org/dynamic_programming/smoothing.html)\n",
    "- [Optimal Savings III: Occasionally Binding Constraints](https://julia.quantecon.org/dynamic_programming/ifp.html)\n",
    "- [Robustness](https://julia.quantecon.org/dynamic_programming/robustness.html)\n",
    "- [Discrete State Dynamic Programming](https://julia.quantecon.org/dynamic_programming/discrete_dp.html)"
   ]
  },
  {
   "cell_type": "markdown",
   "id": "256f91f7",
   "metadata": {},
   "source": [
    "# Modeling in Continuous Time\n",
    "\n",
    "- [Modeling COVID 19 with Differential Equations](https://julia.quantecon.org/continuous_time/seir_model.html)\n",
    "- [Modeling Shocks in COVID 19 with Stochastic Differential Equations](https://julia.quantecon.org/continuous_time/covid_sde.html)"
   ]
  },
  {
   "cell_type": "markdown",
   "id": "e8e97c68",
   "metadata": {},
   "source": [
    "# Multiple Agent Models\n",
    "\n",
    "- [Schelling’s Segregation Model](https://julia.quantecon.org/multi_agent_models/schelling.html)\n",
    "- [A Lake Model of Employment and Unemployment](https://julia.quantecon.org/multi_agent_models/lake_model.html)\n",
    "- [Rational Expectations Equilibrium](https://julia.quantecon.org/multi_agent_models/rational_expectations.html)\n",
    "- [Markov Perfect Equilibrium](https://julia.quantecon.org/multi_agent_models/markov_perf.html)\n",
    "- [Asset Pricing I: Finite State Models](https://julia.quantecon.org/multi_agent_models/markov_asset.html)\n",
    "- [Asset Pricing II: The Lucas Asset Pricing Model](https://julia.quantecon.org/multi_agent_models/lucas_model.html)\n",
    "- [Asset Pricing III:  Incomplete Markets](https://julia.quantecon.org/multi_agent_models/harrison_kreps.html)\n",
    "- [Uncertainty Traps](https://julia.quantecon.org/multi_agent_models/uncertainty_traps.html)\n",
    "- [The Aiyagari Model](https://julia.quantecon.org/multi_agent_models/aiyagari.html)\n",
    "- [Default Risk and Income Fluctuations](https://julia.quantecon.org/multi_agent_models/arellano.html)\n",
    "- [Globalization and Cycles](https://julia.quantecon.org/multi_agent_models/matsuyama.html)"
   ]
  },
  {
   "cell_type": "markdown",
   "id": "4095df41",
   "metadata": {},
   "source": [
    "# Time Series Models\n",
    "\n",
    "- [Covariance Stationary Processes](https://julia.quantecon.org/time_series_models/arma.html)\n",
    "- [Estimation of Spectra](https://julia.quantecon.org/time_series_models/estspec.html)\n",
    "- [Additive Functionals](https://julia.quantecon.org/time_series_models/additive_functionals.html)\n",
    "- [Multiplicative Functionals](https://julia.quantecon.org/time_series_models/multiplicative_functionals.html)\n",
    "- [Classical Control with Linear Algebra](https://julia.quantecon.org/time_series_models/lu_tricks.html)\n",
    "- [Classical Filtering With Linear Algebra](https://julia.quantecon.org/time_series_models/classical_filtering.html)"
   ]
  },
  {
   "cell_type": "markdown",
   "id": "9d83cb23",
   "metadata": {},
   "source": [
    "# Dynamic Programming Squared\n",
    "\n",
    "- [Dynamic Stackelberg Problems](https://julia.quantecon.org/dynamic_programming_squared/dyn_stack.html)\n",
    "- [Optimal Taxation in an LQ Economy](https://julia.quantecon.org/dynamic_programming_squared/lqramsey.html)\n",
    "- [Optimal Taxation with State-Contingent Debt](https://julia.quantecon.org/dynamic_programming_squared/opt_tax_recur.html)\n",
    "- [Optimal Taxation without State-Contingent Debt](https://julia.quantecon.org/dynamic_programming_squared/amss.html)"
   ]
  },
  {
   "cell_type": "markdown",
   "id": "b3315818",
   "metadata": {},
   "source": [
    "# Other\n",
    "\n",
    "- [About these Lectures](https://julia.quantecon.org/about_lectures.html)\n",
    "- [Troubleshooting](https://julia.quantecon.org/troubleshooting.html)\n",
    "- [References](https://julia.quantecon.org/zreferences.html)\n",
    "- [Execution Statistics](https://julia.quantecon.org/status.html)"
   ]
  },
  {
   "cell_type": "markdown",
   "id": "d6ffcbab",
   "metadata": {},
   "source": [
    "# Previous website\n",
    "\n",
    "While this new site will receive all future updates, you may still view the [old site here](http://rst-julia.quantecon.org) for the next month."
   ]
  }
 ],
 "metadata": {
  "date": 1643875379.0976274,
  "filename": "intro.md",
  "kernelspec": {
   "display_name": "Julia",
   "language": "julia",
   "name": "julia-1.7"
  },
  "title": "Quantitative Economics with Julia"
 },
 "nbformat": 4,
 "nbformat_minor": 5
}