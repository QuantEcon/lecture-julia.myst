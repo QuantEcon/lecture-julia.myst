{
 "cells": [
  {
   "cell_type": "markdown",
   "id": "91b18bf6",
   "metadata": {},
   "source": [
    "\n",
    "<a id='getting-started'></a>"
   ]
  },
  {
   "cell_type": "markdown",
   "id": "1e434e57",
   "metadata": {},
   "source": [
    "# Setting up Your Julia Environment"
   ]
  },
  {
   "cell_type": "markdown",
   "id": "969ec357",
   "metadata": {},
   "source": [
    "## Contents\n",
    "\n",
    "- [Setting up Your Julia Environment](#Setting-up-Your-Julia-Environment)  \n",
    "  - [Overview](#Overview)  \n",
    "  - [A Note on Jupyter](#A-Note-on-Jupyter)  \n",
    "  - [Desktop Installation of Julia and Jupyter](#Desktop-Installation-of-Julia-and-Jupyter)  \n",
    "  - [Setting up Git and VS Code](#Setting-up-Git-and-VS-Code)  \n",
    "  - [Downloading the Notebooks](#Downloading-the-Notebooks)  \n",
    "  - [Installing Packages](#Installing-Packages)  \n",
    "  - [Running JupyterLab](#Running-JupyterLab)  \n",
    "  - [Refreshing the Notebooks after Modification](#Refreshing-the-Notebooks-after-Modification)  \n",
    "  - [Interacting with Julia](#Interacting-with-Julia)  \n",
    "  - [Using Jupyter](#Using-Jupyter)  "
   ]
  },
  {
   "cell_type": "markdown",
   "id": "c004b2bf",
   "metadata": {},
   "source": [
    "## Overview\n",
    "\n",
    "In this lecture we will cover how to get up and running with Julia.\n",
    "\n",
    "While there are alternative ways to access Julia (e.g. if you have a JupyterHub provided by your university), this section assumes you will install it to your [local desktop](#jl-jupyterlocal).\n",
    "\n",
    "It is not strictly required for running the lectures, but we will strongly encourage installing and using [Visual Studio Code (VS Code)](https://code.visualstudio.com/).\n",
    "\n",
    "As the most popular and best-supported open-source code editor, it provides a large number of useful features and extensions.  We will begin to use it as a primary editor in the [tools lecture](https://julia.quantecon.org/../software_engineering/tools_editors.html)."
   ]
  },
  {
   "cell_type": "markdown",
   "id": "0b060f2c",
   "metadata": {},
   "source": [
    "## A Note on Jupyter\n",
    "\n",
    "Like Python and R, and unlike products such as Matlab and Stata, there is a looser connection between Julia as a programming language and Julia as a specific development environment.\n",
    "\n",
    "While you will eventually use other editors, there are some advantages to starting with the [Jupyter](http://jupyter.org/) environment while learning Julia.\n",
    "\n",
    "- The ability to mix formatted text (including mathematical expressions) and code in a single document.  \n",
    "- Nicely formatted output including tables, figures, animation, video, etc.  \n",
    "- Conversion tools to generate PDF slides, static HTML, etc.  \n",
    "\n",
    "\n",
    "We’ll discuss the workflow on these features in the [next section](#julia-environment)"
   ]
  },
  {
   "cell_type": "markdown",
   "id": "a3fa8a86",
   "metadata": {},
   "source": [
    "## Quick installation for experienced users\n",
    "\n",
    "If you have already installed Jupyter, Julia, and Git and have experience with these tools, you can\n",
    "\n",
    "- Get the notebooks’ repositories with `git clone https://github.com/quantecon/lecture-julia.notebooks`  \n",
    "- Open a Jupyter notebook within the downloaded notebooks  \n",
    "- Install the necessary packages in a Julia REPL with `using Pkg; Pkg.instantiate()`  \n",
    "\n",
    "\n",
    "At that point, you could directly move on to the [julia by example](https://julia.quantecon.org/julia_by_example.html) lecture.\n",
    "\n",
    "However, as we strongly recommend becoming familiar with VS Code as a transition towards using more advanced tools and to support better software engineering workflows, so consider walking through the rest of these instructions.\n",
    "\n",
    "For those with little to no programming experience (e.g. you have never used a loop or “if” statement) see the list of [introductory resources](https://julia.quantecon.org/julia_by_example.html#intro-resources).\n",
    "\n",
    "\n",
    "<a id='jl-jupyterlocal'></a>"
   ]
  },
  {
   "cell_type": "markdown",
   "id": "c8a13cb6",
   "metadata": {},
   "source": [
    "## Desktop Installation of Julia and Jupyter\n",
    "\n",
    "In this section, we will describe the installation of Julia and Jupyter on your desktop.\n",
    "\n",
    "On Windows, you probably want to install the new open-source [Windows Terminal](https://github.com/microsoft/terminal).  See [here](https://aka.ms/terminal) for installation instructions, and select the option to add the explorer context menu if provided.\n",
    "\n",
    "It provides a much more modern terminal with better font support for Julia, and with better operating system integration.  For example, you can right-click on a folder in the File Explorer and choose `Open in Microsoft Terminal` to start a terminal in that location.  Rather than providing a particular shell directly, it hosts those that are available in your setup (e.g., PowerShell, Git Bash, Ubuntu Bash in WSL).\n",
    "\n",
    "\n",
    "<a id='install-jupyter'></a>"
   ]
  },
  {
   "cell_type": "markdown",
   "id": "c0214173",
   "metadata": {},
   "source": [
    "### Installing Jupyter\n",
    "\n",
    "[Anaconda](https://www.anaconda.com/) provides an easy to install package of jupyter, python, and many data science tools.\n",
    "\n",
    "If you have not previously installed Conda or Jupyter, then\n",
    "\n",
    "1. Download the binary ([https://www.anaconda.com/download/](https://www.anaconda.com/download/)) and follow the [installation instructions](https://conda.io/projects/conda/en/latest/user-guide/install/index.html) for your platform.  \n",
    "1. If given the option for your operating system, let Conda add Python to your PATH environment variables.  \n",
    "\n",
    "\n",
    ">**Note**\n",
    ">\n",
    ">While Conda is the easiest way to install jupyter, it is not strictly required.  With any python you can install with `pip install jupyter`.  Alternatively you can let `IJulia` install its own version of Conda by following [these instructions](https://julialang.github.io/IJulia.jl/dev/manual/running/), or use the experimental support for [Jupyter notebooks in VS Code](https://marketplace.visualstudio.com/items?itemName=ms-toolsai.jupyter) - which does no Python installation at all.\n",
    "\n",
    "\n",
    "<a id='intro-repl'></a>"
   ]
  },
  {
   "cell_type": "markdown",
   "id": "352ca078",
   "metadata": {},
   "source": [
    "### Install Julia\n",
    "\n",
    "After Conda is installed, you can install Julia.\n",
    "\n",
    "1. Download and install Julia, from [download page](http://julialang.org/downloads/), accepting all default options.  \n",
    "1. Open Julia, by either  \n",
    "  - Navigating to Julia through your menus or desktop icons (Windows, Mac), or  \n",
    "  - Opening a terminal and type `julia` (Linux; to set this up on macOS, see [here](https://julialang.org/downloads/platform/#macos)).  \n",
    "  You should now be looking at something like this  \n",
    "  ![https://julia.quantecon.org/_static/figures/julia_term_1.png](https://julia.quantecon.org/_static/figures/julia_term_1.png)\n",
    "  \n",
    "    \n",
    "  This is called the JULIA *REPL* (Read-Evaluate-Print-Loop), which we discuss more [later](https://julia.quantecon.org/../software_engineering/tools_editors.html#repl-main).  \n",
    "1. In the Julia REPL, hit `]` to enter package mode and then enter:  "
   ]
  },
  {
   "cell_type": "code",
   "execution_count": null,
   "id": "dba42782",
   "metadata": {
    "hide-output": false
   },
   "outputs": [],
   "source": [
    "add IJulia"
   ]
  },
  {
   "cell_type": "markdown",
   "id": "40cdcd93",
   "metadata": {},
   "source": [
    "This adds packages for the `IJulia` kernel which links Julia to Jupyter you previously installed with Anaconda (i.e., allows your browser to run Julia code, manage Julia packages, etc.).  \n",
    "1. You can exit the julia REPL by hitting backspace to exit the package mode, and then  "
   ]
  },
  {
   "cell_type": "code",
   "execution_count": null,
   "id": "cc827bbb",
   "metadata": {
    "hide-output": false
   },
   "outputs": [],
   "source": [
    "exit()"
   ]
  },
  {
   "cell_type": "markdown",
   "id": "ac358110",
   "metadata": {},
   "source": [
    "\n",
    "\n",
    ">**Note**\n",
    ">\n",
    ">As entering of the package mode is so common in these notes, we will denote this with a `] IJulia`, etc.  On Windows and in Jupyter, you can directly copy this into your terminal, whereas on Linux and macOS you may need to manually enter the package mode.\n",
    "\n",
    "\n",
    "<a id='initial-vscode-setup'></a>"
   ]
  },
  {
   "cell_type": "markdown",
   "id": "b6c2a5da",
   "metadata": {},
   "source": [
    "## Setting up Git and VS Code\n",
    "\n",
    "A primary benefit of using [open-source](https://en.wikipedia.org/wiki/Open-source_software) languages such as Julia, Python, and R is that they can enable far better workflows for both collaboration and [reproducible research](https://en.wikipedia.org/wiki/Reproducibility#Reproducible_research).\n",
    "\n",
    "Reproducibility will ensure that you, your future self, your collaborators, and eventually the public will be able to run the exact code with the identical environment with which you provided the results - or even roll back to a snapshot in the past where the results may have been different in order to compare.\n",
    "\n",
    "We will explore these topics in detail in the lectures on [source code control](https://julia.quantecon.org/../software_engineering/version_control.html) and [continuous integration and test-driven development](https://julia.quantecon.org/../software_engineering/testing.html), but it is worth installing and beginning to use these tools immediately.\n",
    "\n",
    "First, we will install [Git](https://julia.quantecon.org/../software_engineering/version_control.html#more-on-git), which has become the industry standard open-source version-control tool.  This lets you download both the files and the entire version history from a server (e.g. on GitHub) to your desktop.\n",
    "\n",
    "1. Install [Git](https://git-scm.com/book/en/v2/Getting-Started-Installing-Git/) and accept the default arguments.  \n",
    "  - If you allow Git to add to your path, then you can run it with the `git` command, but we will frequently use the built-in VS Code features.  \n",
    "1. (Optional) Install [VS Code](https://code.visualstudio.com/) for your platform and open it  \n",
    "  - On Windows, during install under `Select Additional Tasks`, choose all options that begin with `Add \"Open with Code\" action`. This lets you open VS Code from inside File Explorer folders directly.  \n",
    "  - While optional, we find the experience with VS Code will be much easier and the transition to more advanced tools will be more seamless.  \n",
    "1. (Optional) Install the [VS Code Julia](https://marketplace.visualstudio.com/items?itemName=julialang.language-julia) extension  \n",
    "  - After installation of VS Code, you should be able to choose `Install` on the webpage of any extensions and it will open on your desktop.  \n",
    "  - Otherwise: run VS Code and open the extensions with `<Ctrl+Shift+X>` or selecting extensions in the left-hand side of the VS Code window.  Then search for `Julia` in the Marketplace.  \n",
    "  ![https://julia.quantecon.org/_static/figures/vscode_intro_0.png](https://julia.quantecon.org/_static/figures/vscode_intro_0.png)\n",
    "  \n",
    "    \n",
    "  - No further configuration should be required, but see [here](https://julia.quantecon.org/../software_engineering/tools_editors.html#install-vscode) if you have issues.  \n",
    "\n",
    "\n",
    "The VS Code and the VS Code Julia extension will help us better manage environments during our initial setup, and will provide a seamless transition to the more [advanced tools](https://julia.quantecon.org/../software_engineering/tools_editors.html).\n",
    "\n",
    "\n",
    "<a id='command-palette'></a>"
   ]
  },
  {
   "cell_type": "markdown",
   "id": "7b93cc5b",
   "metadata": {},
   "source": [
    "### Command Palette on VS Code\n",
    "\n",
    "A key feature within VS Code is the [Command Palette](https://code.visualstudio.com/docs/getstarted/userinterface#_command-palette), which can be accessed with `<Ctrl+Shift+P>` or `View > Command Palette...` in the menus.\n",
    "\n",
    "![https://code.visualstudio.com/assets/docs/getstarted/userinterface/commands.png](https://code.visualstudio.com/assets/docs/getstarted/userinterface/commands.png)\n",
    "\n",
    "  \n",
    "This is so common that in these notes we\n",
    "denote opening the command palette and searching for a command with things like `> Julia: Start REPL` , etc.\n",
    "\n",
    "You can type partial strings for different commands and it helps you to find features of vscode and its extensions.  Furthermore, the command palette remembers your most recent and common commands.\n",
    "\n",
    "[Integrated Terminals](https://code.visualstudio.com/docs/editor/integrated-terminal) within VS Code are a convenient because they are local to that project, detect hypertext links, and provide better fonts.\n",
    "\n",
    "To launch a terminal, use either (1) `<Ctrl+`>`, (2) `>View: Toggle Terminal` with the command palette, or (3) `View > Terminal` in the menus.\n",
    "\n",
    ">**Note**\n",
    ">\n",
    ">Becoming comfortable with VS Code and tools for source code control/software engineering is an essential step towards ensuring reproducibility.  An easy way to begin that process is to start using VS Code to edit LaTeX, and practice managing your `.tex` files in GitHub rather than dropbox or similar alternatives.  While not directly connected to Julia, this familiarity will make everything easier - even for proprietary languages such as Stata and Matlab.  See [here](https://julia.quantecon.org/../software_engineering/tools_editors.html#vscode-latex) for instructions on this setup process.\n",
    "\n",
    "\n",
    "<a id='clone-lectures'></a>"
   ]
  },
  {
   "cell_type": "markdown",
   "id": "5c3980f0",
   "metadata": {},
   "source": [
    "## Downloading the Notebooks\n",
    "\n",
    "Next, let’s install the QuantEcon lecture notes to our machine and run them (for more details on the tools we’ll use, see our lecture on [version control](https://julia.quantecon.org/../software_engineering/version_control.html)).\n",
    "\n",
    "While the lecture notes can be cloned within VS Code directly, we will use the command-line to begin the introduction to source control tools.\n",
    "\n",
    "1. Choose and create if necessary a convenient parent folder where you would like the notebooks directory  \n",
    "  - The workflow will be easiest if you clone the repo to the default location relative to the home folder for your user.  \n",
    "  - For example, on Windows a good choice might be `c:\\Users\\YOURUSERNAME\\Documents\\GitHub` or simply `c:\\Users\\YOURUSERNAME\\Documents`.  On linux and macOS, your home directory `~` or `~/GitHub`.  \n",
    "1. Open a new terminal for your machine and navigate to the parent folder of where you wish to store the notebooks.  \n",
    "  - On Windows: if using the [Windows Terminal](https://aka.ms/terminal) you can simply right-click on the directory in the File Explorer and choose to “Open in Microsoft Terminal” or, alternatively “Git Bash Here” to use the terminal provided by Git.  On macOS, see [here](https://apple.stackexchange.com/questions/11323/how-can-i-open-a-terminal-window-directly-from-my-current-finder-location) for a discussion of different approaches.  \n",
    "1. Execute the following code in the terminal to download the entire suite of notebooks associated with these lectures.  "
   ]
  },
  {
   "cell_type": "markdown",
   "id": "9af9275c",
   "metadata": {
    "hide-output": false
   },
   "source": [
    "```bash\n",
    "git clone https://github.com/quantecon/lecture-julia.notebooks\n",
    "```\n"
   ]
  },
  {
   "cell_type": "markdown",
   "id": "c6b0d664",
   "metadata": {},
   "source": [
    "This will download the repository with the notebooks into the directory `lecture-julia.notebooks` within your working directory.  \n",
    "1. Then, `cd` to that location in your terminal  "
   ]
  },
  {
   "cell_type": "markdown",
   "id": "41bbbdc7",
   "metadata": {
    "hide-output": false
   },
   "source": [
    "```bash\n",
    "cd lecture-julia.notebooks\n",
    "```\n"
   ]
  },
  {
   "cell_type": "markdown",
   "id": "7fccd5af",
   "metadata": {},
   "source": [
    "1. Finally, you can open this directory from your terminal with the following  "
   ]
  },
  {
   "cell_type": "markdown",
   "id": "c9bdef2e",
   "metadata": {
    "hide-output": false
   },
   "source": [
    "```bash\n",
    "code .\n",
    "```\n"
   ]
  },
  {
   "cell_type": "markdown",
   "id": "dc39b989",
   "metadata": {},
   "source": [
    "\n",
    "\n",
    "Which should provide a screen such as\n",
    "\n",
    "![https://julia.quantecon.org/_static/figures/vscode_intro_1.png](https://julia.quantecon.org/_static/figures/vscode_intro_1.png)"
   ]
  },
  {
   "cell_type": "markdown",
   "id": "7cea86ad",
   "metadata": {},
   "source": [
    "## Cloning Directly from VS Code\n",
    "\n",
    "Alternatively, if you are already a user of Visual Studio Code, you can clone within VS Code by using the `> Git: Clone` command from the [command palette](#command-palette).  See the lectures on [tools](https://julia.quantecon.org/../software_engineering/tools_editors.html) and [source code control](https://julia.quantecon.org/../software_engineering/version_control.html) for more details.\n",
    "\n",
    "\n",
    "<a id='install-packages'></a>"
   ]
  },
  {
   "cell_type": "markdown",
   "id": "8ccf8b8e",
   "metadata": {},
   "source": [
    "## Installing Packages\n",
    "\n",
    "After you have the notebooks available, as described in [the previous section](#clone-lectures), we can install the required packages for plotting, benchmarking, and statistics.\n",
    "\n",
    "For this, we will use the integrated terminal in VS Code.\n",
    "\n",
    "Recall that you can start this directly from the [command palette](#command-palette) with `<Ctrl+Shift+P>` then typing part of the `> Julia: Start REPL` command.\n",
    "\n",
    "![https://julia.quantecon.org/_static/figures/vscode_intro_2.png](https://julia.quantecon.org/_static/figures/vscode_intro_2.png)\n",
    "\n",
    "  \n",
    "1. Start a REPL; it may do an initial compilation of packages in the background, but will then look something like  \n",
    "  ![https://julia.quantecon.org/_static/figures/vscode_intro_3.png](https://julia.quantecon.org/_static/figures/vscode_intro_3.png)\n",
    "  \n",
    "    \n",
    "1. Next type `]` to enter the package mode, which should indicate that the local project is activated by changing the cursor to `(quantecon-notebooks-julia) pkg>`.  \n",
    "1. Type `instantiate` to install all of the packages required for these notes.  \n",
    "  ![https://julia.quantecon.org/_static/figures/vscode_intro_4.png](https://julia.quantecon.org/_static/figures/vscode_intro_4.png)\n",
    "  \n",
    "    \n",
    "\n",
    "\n",
    "This process will take several minutes to download and compile all of the files used by the lectures.\n",
    "\n",
    "If the cursor is instead `(@v1.7) pkg>` then you may not have started the integrated terminal in the correct location, or you used an external REPL.  Assuming that you are in the correct location, if you type `activate .` in the package mode, the cursor should change to `(quantecon-notebooks-julia) pkg>` as it activates this project file.\n",
    "\n",
    "One benefit of using the integrated REPL is that it will set important options for launching Julia (e.g. the number of threads) and activate the local project files (i.e. the `Project.toml` file in the notebooks directory) automatically.  If you use an external REPL, you will need to set these manually.  Here you would want to run the REPL with `julia --project --threads auto`  to tell Julia to set the number of threads equal to your local machine’s number of cores, and to activate the existing project.  See [here](https://julia.quantecon.org/../software_engineering/tools_editors.html#repl-main) for more details.\n",
    "\n",
    "\n",
    "<a id='running-jupyterlab'></a>"
   ]
  },
  {
   "cell_type": "markdown",
   "id": "1819ae7e",
   "metadata": {},
   "source": [
    "## Running JupyterLab\n",
    "\n",
    "You can start Jupyter within any directory by executing the following in a terminal"
   ]
  },
  {
   "cell_type": "markdown",
   "id": "320c1497",
   "metadata": {
    "hide-output": false
   },
   "source": [
    "```bash\n",
    "jupyter lab\n",
    "```\n"
   ]
  },
  {
   "cell_type": "markdown",
   "id": "a9176ab9",
   "metadata": {},
   "source": [
    "This runs a process giving Jupyter permission to access this directory, but not its parents.  This is especially convenient to do in VS Code since we have already navigated to this directory:\n",
    "\n",
    "1. If the Julia REPL is still open, create a new terminal by clicking on the `+` button on the terminal pane and create a new terminal appropriate for your operating system.  Close the Julia REPL if you wish.  \n",
    "  ![https://julia.quantecon.org/_static/figures/vscode_intro_5.png](https://julia.quantecon.org/_static/figures/vscode_intro_5.png)\n",
    "  \n",
    "    \n",
    "  - [As before](#command-palette), if the terminal pane is not available, use `<Ctrl+`>` or `>View: Toggle Terminal` to see the pane.  \n",
    "  - You can close the Julia REPL if you wish, or create multiple terminals in this interface  \n",
    "1. Within the new terminal, execute `jupyter lab`.  This should run in the background in this terminal, with output such as  \n",
    "  ![https://julia.quantecon.org/_static/figures/vscode_intro_6.png](https://julia.quantecon.org/_static/figures/vscode_intro_6.png)\n",
    "  \n",
    "    \n",
    "\n",
    "\n",
    "The process should launch a webpage on your desktop, which may look like\n",
    "\n",
    "![https://julia.quantecon.org/_static/figures/jupyterlab_first.png](https://julia.quantecon.org/_static/figures/jupyterlab_first.png)\n",
    "\n",
    "  \n",
    "If it does not start automatically, use the link at the bottom of the output in the terminal (which should show with `Follow link (ctrl + click`).\n",
    "\n",
    "Proceed to the next section on [Jupyter](#julia-environment) to explore this interface and start writing code.\n",
    "\n",
    "\n",
    "<a id='reset-notebooks'></a>"
   ]
  },
  {
   "cell_type": "markdown",
   "id": "d4473bac",
   "metadata": {},
   "source": [
    "## Refreshing the Notebooks after Modification\n",
    "\n",
    "As you work through the notebooks, you may wish to reset these to the most recent version on the server.\n",
    "\n",
    "1. To see this, modify one of the notebooks in Jupyter, and then go back to VS Code, which should now highlight on the left hand side that one or more modified files have been modified.  \n",
    "1. Choose the highlighted “Source Control” pane, or use `<Ctrl+Shift+G>`; then it will summarize all of the modified files.  \n",
    "1. To revert back to the versions you previously downloaded, right click on “Changes” and then choose `Discard All Changes`:  \n",
    "\n",
    "\n",
    "![https://julia.quantecon.org/_static/figures/vscode_intro_7.png](https://julia.quantecon.org/_static/figures/vscode_intro_7.png)\n",
    "\n",
    "  \n",
    "Additionally, if the notebooks themselves are modified as the lecture notes evolve, you can first discard any changes, and then either use `> Git: Pull` command or click on the arrow next to “main” on the bottom left of the screen to download the latest versions. Here “main” refers to the main branch of the repo where the latest versions are hosted.\n",
    "\n",
    "If the `Project.toml` or `Manifest.toml` files are modified, then after reverting you will want to redo the [instantiation](#install-packages) step to ensure you have the correct versions.\n",
    "\n",
    "We will explore these sorts of features, and how to use them for your own projects, in the [source code control](https://julia.quantecon.org/../software_engineering/version_control.html) lecture.\n",
    "\n",
    "\n",
    "<a id='julia-environment'></a>"
   ]
  },
  {
   "cell_type": "markdown",
   "id": "0a8812d2",
   "metadata": {},
   "source": [
    "## Interacting with Julia\n",
    "\n",
    "Next, we’ll start examining different features of the Julia and Jupyter environments.\n",
    "\n",
    "While we emphasize a [local installation of Jupyter](#jl-jupyterlocal), other alternatives exist.\n",
    "\n",
    "For example,\n",
    "\n",
    "- Some universities may have JupyterHub installations available - which provide a hosted Jupyter environment.  However, it would require the hub to have explicit Julia support.  \n",
    "- VS Code has rapidly progressing [support for Jupyter](https://code.visualstudio.com/docs/datascience/jupyter-notebooks) using an existing Jupyter installation.  \n",
    "- The combination of the new [VS Code Jupyter](https://julia.quantecon.org/../software_engineering/tools_editors.html#optional-extensions) and [VS Code Julia](https://julia.quantecon.org/../software_engineering/tools_editors.html#install-vscode) extensions supports Jupyter notebooks without even a fragile Conda/python installation  \n",
    "- Online services such as [JuliaHub](https://juliahub.com/lp/) provide a tailored experience for Julia.  Be warned, however, that [Colab](https://colab.research.google.com/) and others are only designed for Python, and adding Julia requires a great deal of effort.  "
   ]
  },
  {
   "cell_type": "markdown",
   "id": "7dea8df6",
   "metadata": {},
   "source": [
    "## Using Jupyter\n",
    "\n",
    "\n",
    "<a id='ipython-notebook'></a>"
   ]
  },
  {
   "cell_type": "markdown",
   "id": "2f489d35",
   "metadata": {},
   "source": [
    "### Getting Started\n",
    "\n",
    ">**Note**\n",
    ">\n",
    ">The easiest way to get started with these notebooks is to follow the [cloning instructions](#clone-lectures) earlier.\n",
    "\n",
    "Launch `jupyter lab` and navigate to this notebook(i.e. `getting_started_julia/getting_started.ipynb` )\n",
    "\n",
    "See [here](#running-jupyterlab) for the previous instructions on launching Jupyter Lab.\n",
    "\n",
    "Your web browser should open to a page that looks something like this\n",
    "\n",
    "![https://julia.quantecon.org/_static/figures/starting_nb_julia.png](https://julia.quantecon.org/_static/figures/starting_nb_julia.png)\n",
    "\n",
    "  \n",
    "The page you are looking at is called the “dashboard”.\n",
    "\n",
    "If you click on “Julia 1.x.x” under “Notebook” you should have the option to start a Julia notebook.\n",
    "\n",
    "Here’s what your Julia notebook should look like\n",
    "\n",
    "![https://julia.quantecon.org/_static/figures/nb2_julia.png](https://julia.quantecon.org/_static/figures/nb2_julia.png)\n",
    "\n",
    "  \n",
    "The notebook displays an *active cell*, into which you can type Julia commands."
   ]
  },
  {
   "cell_type": "markdown",
   "id": "f7c5c9b8",
   "metadata": {},
   "source": [
    "### Notebook Basics\n",
    "\n",
    "Notice that in the previous figure the cell is surrounded by a blue border.\n",
    "\n",
    "This means that the cell is selected, and double-clicking will place it in edit mode.\n",
    "\n",
    "As a result, you can type in Julia code and it will appear in the cell.\n",
    "\n",
    "When you’re ready to execute these commands, hit `Shift-Enter`\n",
    "\n",
    "![https://julia.quantecon.org/_static/figures/nb3_julia.png](https://julia.quantecon.org/_static/figures/nb3_julia.png)"
   ]
  },
  {
   "cell_type": "markdown",
   "id": "0ee4e562",
   "metadata": {},
   "source": [
    "#### Modal Editing\n",
    "\n",
    "The next thing to understand about the Jupyter notebook is that it uses a *modal* editing system.\n",
    "\n",
    "This means that the effect of typing at the keyboard **depends on which mode you are in**.\n",
    "\n",
    "The two modes are\n",
    "\n",
    "1. Edit mode  \n",
    "  - Indicated by a blue border around one cell, as in the pictures above.  \n",
    "  - Whatever you type appears as is in that cell.  \n",
    "1. Command mode  \n",
    "  - The blue border disappears and turns into a plain grey border.  \n",
    "  - Key strokes are interpreted as commands — for example, typing b adds a new cell below  the current one.  \n",
    "\n",
    "\n",
    "(To learn about other commands available in command mode, go to “Keyboard Shortcuts” in the “Help” menu)"
   ]
  },
  {
   "cell_type": "markdown",
   "id": "05c80a80",
   "metadata": {},
   "source": [
    "#### Switching modes\n",
    "\n",
    "- To switch to command mode from edit mode, hit the `Esc` key.  \n",
    "- To switch to edit mode from command mode, hit `Enter` or click in a cell.  \n",
    "\n",
    "\n",
    "The modal behavior of the Jupyter notebook is a little tricky at first but very efficient when you get used to it."
   ]
  },
  {
   "cell_type": "markdown",
   "id": "0d0358a7",
   "metadata": {},
   "source": [
    "#### Plots\n",
    "\n",
    "Run the following cell"
   ]
  },
  {
   "cell_type": "code",
   "execution_count": null,
   "id": "4f6bc67c",
   "metadata": {
    "hide-output": false
   },
   "outputs": [],
   "source": [
    "using Plots\n",
    "plot(sin, -2π, 2π, label=\"sin(x)\")"
   ]
  },
  {
   "cell_type": "markdown",
   "id": "561b5d10",
   "metadata": {},
   "source": [
    "You’ll see something like this (although the style of plot depends on your\n",
    "installation)\n",
    "\n",
    "![https://julia.quantecon.org/_static/figures/nb4_julia.png](https://julia.quantecon.org/_static/figures/nb4_julia.png)\n",
    "\n",
    "  \n",
    "If this code fails to work because the `Plots` package is missing, then either you\n",
    "\n",
    "1. did not [install the packages](#install-packages) in the previous lecture  \n",
    "  - You should go back and follow the [install the packages](#install-packages) instructions, or just call `using Pkg; Pkg.instantiate()` in a new cell.  \n",
    "1. downloaded or moved this notebook rather than [cloning the notebook repository](#clone-lectures).  In that case, it does not have the associated `Project.toml` file local to it.  \n",
    "  - Consider [cloning the notebook repository](#clone-lectures) instead.  \n",
    "  - If you would prefer not, then you can manually install packages as you need them.  For example, in this case you could type `] add Plots` into a code cell in the notebook or into your Julia REPL.  "
   ]
  },
  {
   "cell_type": "markdown",
   "id": "70ae9ad6",
   "metadata": {},
   "source": [
    "### Working with the Notebook\n",
    "\n",
    "Let’s go over some more Jupyter notebook features — enough so that we can press ahead with programming."
   ]
  },
  {
   "cell_type": "markdown",
   "id": "88f641f0",
   "metadata": {},
   "source": [
    "#### Tab Completion\n",
    "\n",
    "Tab completion in Jupyter makes it easy to find Julia commands and functions available.\n",
    "\n",
    "For example if you type `rep` and hit the tab key you’ll get a list of all\n",
    "commands that start with `rep`\n",
    "\n",
    "![https://julia.quantecon.org/_static/figures/nb5_julia.png](https://julia.quantecon.org/_static/figures/nb5_julia.png)\n",
    "\n",
    "  \n",
    "\n",
    "<a id='gs-help'></a>"
   ]
  },
  {
   "cell_type": "markdown",
   "id": "ae39e865",
   "metadata": {},
   "source": [
    "#### Getting Help\n",
    "\n",
    "To get help on the Julia function such as `repeat`, enter `? repeat`.\n",
    "\n",
    "Documentation should now appear in the browser\n",
    "\n",
    "![https://julia.quantecon.org/_static/figures/repeatexample.png](https://julia.quantecon.org/_static/figures/repeatexample.png)"
   ]
  },
  {
   "cell_type": "markdown",
   "id": "f93727c2",
   "metadata": {},
   "source": [
    "#### Other Content\n",
    "\n",
    "In addition to executing code, the Jupyter notebook allows you to embed text, equations, figures and even videos in the page.\n",
    "\n",
    "For example, here we enter a mixture of plain text and LaTeX instead of code\n",
    "\n",
    "![https://julia.quantecon.org/_static/figures/nb6_julia.png](https://julia.quantecon.org/_static/figures/nb6_julia.png)\n",
    "\n",
    "  \n",
    "Next we `Esc` to enter command mode and then type `m` to indicate that we\n",
    "are writing [Markdown](http://daringfireball.net/projects/markdown/), a mark-up language similar to (but simpler than) LaTeX.\n",
    "\n",
    "(You can also use your mouse to select `Markdown` from the `Code` drop-down box just below the list of menu items)\n",
    "\n",
    "Now we `Shift + Enter` to produce this\n",
    "\n",
    "![https://julia.quantecon.org/_static/figures/nb7_julia.png](https://julia.quantecon.org/_static/figures/nb7_julia.png)"
   ]
  },
  {
   "cell_type": "markdown",
   "id": "71730fef",
   "metadata": {},
   "source": [
    "#### Inserting Unicode (e.g. Greek letters)\n",
    "\n",
    "Julia supports the use of [unicode characters](https://docs.julialang.org/en/v1/manual/unicode-input/)\n",
    "such as `α` and `β` in your code.\n",
    "\n",
    "Unicode characters can be typed quickly in Jupyter using the `tab` key.\n",
    "\n",
    "Try creating a new code cell and typing `\\alpha`, then hitting the `tab` key on your keyboard.\n",
    "\n",
    "There are other operators with a mathematical notation.  For example, the `LinearAlgebra` package has a `dot` function as identical to the latex `\\cdot`."
   ]
  },
  {
   "cell_type": "code",
   "execution_count": null,
   "id": "6259910c",
   "metadata": {
    "hide-output": false
   },
   "outputs": [],
   "source": [
    "using LinearAlgebra\n",
    "x = [1, 2]\n",
    "y = [3, 4]\n",
    "@show dot(x, y)\n",
    "@show x⋅y;"
   ]
  },
  {
   "cell_type": "markdown",
   "id": "596b461f",
   "metadata": {},
   "source": [
    "#### Shell Commands\n",
    "\n",
    "You can execute shell commands (system commands) in Jupyter by prepending a semicolon.\n",
    "\n",
    "For example, `; ls` will execute the UNIX style shell command `ls`,\n",
    "which — at least for UNIX style operating systems — lists the\n",
    "contents of the current working directory.\n",
    "\n",
    "These shell commands are handled by your default system shell and hence are platform specific."
   ]
  },
  {
   "cell_type": "markdown",
   "id": "86ea0150",
   "metadata": {},
   "source": [
    "#### Package Operations\n",
    "\n",
    "You can execute package operations in the notebook by prepending a `]`.\n",
    "\n",
    "For example, `] st` will give the status of installed packages in the current environment.\n",
    "\n",
    "**Note**: Cells where you use `;` and `]` must not have any other instructions in them (i.e., they should be one-liners)."
   ]
  },
  {
   "cell_type": "markdown",
   "id": "5959633b",
   "metadata": {},
   "source": [
    "### Sharing Notebooks\n",
    "\n",
    "Notebook files are just text files structured in [JSON](https://en.wikipedia.org/wiki/JSON) and typically end with `.ipynb`.\n",
    "\n",
    "A notebook can easily be saved and shared between users — you just need to\n",
    "pass around the `ipynb` file.\n",
    "\n",
    "To open an existing `ipynb` file, import it from the dashboard (the first\n",
    "browser page that opens when you start Jupyter notebook) and run the cells or edit as discussed above.\n",
    "\n",
    "The Jupyter organization has a site for sharing notebooks called [nbviewer](http://nbviewer.jupyter.org/)\n",
    "which provides a static HTML representations of notebooks.\n",
    "\n",
    "QuantEcon also hosts the [QuantEcon Notes](http://notes.quantecon.org/) website, where you can upload and share your notebooks with other economists and the QuantEcon community."
   ]
  }
 ],
 "metadata": {
  "date": 1643875377.95207,
  "filename": "getting_started.md",
  "kernelspec": {
   "display_name": "Julia",
   "language": "julia",
   "name": "julia-1.7"
  },
  "title": "Setting up Your Julia Environment"
 },
 "nbformat": 4,
 "nbformat_minor": 5
}