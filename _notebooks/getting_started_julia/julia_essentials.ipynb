{
 "cells": [
  {
   "cell_type": "markdown",
   "id": "e3099fd5",
   "metadata": {},
   "source": [
    "\n",
    "<a id='julia-essentials'></a>"
   ]
  },
  {
   "cell_type": "markdown",
   "id": "2b9a3e60",
   "metadata": {},
   "source": [
    "# Julia Essentials"
   ]
  },
  {
   "cell_type": "markdown",
   "id": "d31036d7",
   "metadata": {},
   "source": [
    "## Contents\n",
    "\n",
    "- [Julia Essentials](#Julia-Essentials)  \n",
    "  - [Overview](#Overview)  \n",
    "  - [Common Data Types](#Common-Data-Types)  \n",
    "  - [Iterating](#Iterating)  \n",
    "  - [Comparisons and Logical Operators](#Comparisons-and-Logical-Operators)  \n",
    "  - [User-Defined Functions](#User-Defined-Functions)  \n",
    "  - [Broadcasting](#Broadcasting)  \n",
    "  - [Scoping and Closures](#Scoping-and-Closures)  \n",
    "  - [Exercises](#Exercises)  \n",
    "  - [Solutions](#Solutions)  "
   ]
  },
  {
   "cell_type": "markdown",
   "id": "d0410104",
   "metadata": {},
   "source": [
    "Having covered a few examples, let’s now turn to a more systematic exposition\n",
    "of the essential features of the language."
   ]
  },
  {
   "cell_type": "markdown",
   "id": "b18e6ab1",
   "metadata": {},
   "source": [
    "## Overview\n",
    "\n",
    "Topics:\n",
    "\n",
    "- Common data types  \n",
    "- Iteration  \n",
    "- More on user-defined functions  \n",
    "- Comparisons and logic  "
   ]
  },
  {
   "cell_type": "code",
   "execution_count": null,
   "id": "d05c9a8c",
   "metadata": {
    "hide-output": false
   },
   "outputs": [],
   "source": [
    "using LinearAlgebra, Statistics, Plots"
   ]
  },
  {
   "cell_type": "markdown",
   "id": "b3527f72",
   "metadata": {},
   "source": [
    "## Common Data Types\n",
    "\n",
    "Like most languages, Julia language defines and provides functions for operating on standard data types such as\n",
    "\n",
    "- integers  \n",
    "- floats  \n",
    "- strings  \n",
    "- arrays, etc…  \n",
    "\n",
    "\n",
    "Let’s learn a bit more about them."
   ]
  },
  {
   "cell_type": "markdown",
   "id": "82f2271e",
   "metadata": {},
   "source": [
    "### Primitive Data Types\n",
    "\n",
    "A particularly simple data type is a Boolean value, which can be either `true` or\n",
    "`false`."
   ]
  },
  {
   "cell_type": "code",
   "execution_count": null,
   "id": "e7ff5e63",
   "metadata": {
    "hide-output": false
   },
   "outputs": [],
   "source": [
    "x = true"
   ]
  },
  {
   "cell_type": "code",
   "execution_count": null,
   "id": "6f504597",
   "metadata": {
    "hide-output": false
   },
   "outputs": [],
   "source": [
    "typeof(x)"
   ]
  },
  {
   "cell_type": "code",
   "execution_count": null,
   "id": "e00c11dd",
   "metadata": {
    "hide-output": false
   },
   "outputs": [],
   "source": [
    "y = 1 > 2  # now y = false"
   ]
  },
  {
   "cell_type": "markdown",
   "id": "fa8c2a52",
   "metadata": {},
   "source": [
    "The two most common data types used to represent numbers are integers and\n",
    "floats.\n",
    "\n",
    "(Computers distinguish between floats and integers because arithmetic is\n",
    "handled in a different way)"
   ]
  },
  {
   "cell_type": "code",
   "execution_count": null,
   "id": "22ae73a1",
   "metadata": {
    "hide-output": false
   },
   "outputs": [],
   "source": [
    "typeof(1.0)"
   ]
  },
  {
   "cell_type": "code",
   "execution_count": null,
   "id": "7d42e3e8",
   "metadata": {
    "hide-output": false
   },
   "outputs": [],
   "source": [
    "typeof(1)"
   ]
  },
  {
   "cell_type": "markdown",
   "id": "93dc3f37",
   "metadata": {},
   "source": [
    "If you’re running a 32 bit system you’ll still see `Float64`, but you will see `Int32` instead of `Int64` (see [the section on Integer types](https://docs.julialang.org/en/v1.1/manual/integers-and-floating-point-numbers/#Integers-1) from the Julia manual).\n",
    "\n",
    "Arithmetic operations are fairly standard."
   ]
  },
  {
   "cell_type": "code",
   "execution_count": null,
   "id": "e1b043e4",
   "metadata": {
    "hide-output": false
   },
   "outputs": [],
   "source": [
    "x = 2; y = 1.0;"
   ]
  },
  {
   "cell_type": "markdown",
   "id": "69085b6e",
   "metadata": {},
   "source": [
    "The `;` can be used to suppress output from a line of code, or to combine two lines of code together (as above), but is otherwise not necessary."
   ]
  },
  {
   "cell_type": "code",
   "execution_count": null,
   "id": "ad42d239",
   "metadata": {
    "hide-output": false
   },
   "outputs": [],
   "source": [
    "x * y"
   ]
  },
  {
   "cell_type": "code",
   "execution_count": null,
   "id": "dd772ef2",
   "metadata": {
    "hide-output": false
   },
   "outputs": [],
   "source": [
    "x^2"
   ]
  },
  {
   "cell_type": "code",
   "execution_count": null,
   "id": "9b72e615",
   "metadata": {
    "hide-output": false
   },
   "outputs": [],
   "source": [
    "y / x"
   ]
  },
  {
   "cell_type": "markdown",
   "id": "74ff9325",
   "metadata": {},
   "source": [
    "Although the `*` can be omitted for multiplication between a numeric literal and a variable."
   ]
  },
  {
   "cell_type": "code",
   "execution_count": null,
   "id": "4706aa77",
   "metadata": {
    "hide-output": false
   },
   "outputs": [],
   "source": [
    "2x - 3y"
   ]
  },
  {
   "cell_type": "markdown",
   "id": "218d5b9d",
   "metadata": {},
   "source": [
    "A useful tool for displaying both expressions and code is to use the `@show` macro, which displays the text and the results."
   ]
  },
  {
   "cell_type": "code",
   "execution_count": null,
   "id": "f005c997",
   "metadata": {
    "hide-output": false
   },
   "outputs": [],
   "source": [
    "@show 2x - 3y\n",
    "@show x + y;"
   ]
  },
  {
   "cell_type": "markdown",
   "id": "88002c28",
   "metadata": {},
   "source": [
    "Here we have used `;` to suppress the output on the last line, which otherwise returns the results of `x + y`.\n",
    "\n",
    "Complex numbers are another primitive data type, with the imaginary part being specified by `im`."
   ]
  },
  {
   "cell_type": "code",
   "execution_count": null,
   "id": "1c1cca1c",
   "metadata": {
    "hide-output": false
   },
   "outputs": [],
   "source": [
    "x = 1 + 2im"
   ]
  },
  {
   "cell_type": "code",
   "execution_count": null,
   "id": "3c57c4b3",
   "metadata": {
    "hide-output": false
   },
   "outputs": [],
   "source": [
    "y = 1 - 2im"
   ]
  },
  {
   "cell_type": "code",
   "execution_count": null,
   "id": "3e254bbd",
   "metadata": {
    "hide-output": false
   },
   "outputs": [],
   "source": [
    "x * y  # complex multiplication"
   ]
  },
  {
   "cell_type": "markdown",
   "id": "969b2b1e",
   "metadata": {},
   "source": [
    "There are several more primitive data types that we’ll introduce as necessary."
   ]
  },
  {
   "cell_type": "markdown",
   "id": "16595b2e",
   "metadata": {},
   "source": [
    "### Strings\n",
    "\n",
    "A string is a data type for storing a sequence of characters.\n",
    "\n",
    "In Julia, strings are created using double quotation marks (single quotations are\n",
    "reserved for the character type)."
   ]
  },
  {
   "cell_type": "code",
   "execution_count": null,
   "id": "284d8528",
   "metadata": {
    "hide-output": false
   },
   "outputs": [],
   "source": [
    "x = \"foobar\""
   ]
  },
  {
   "cell_type": "code",
   "execution_count": null,
   "id": "a12262e0",
   "metadata": {
    "hide-output": false
   },
   "outputs": [],
   "source": [
    "typeof(x)"
   ]
  },
  {
   "cell_type": "markdown",
   "id": "bed83f4d",
   "metadata": {},
   "source": [
    "You’ve already seen examples of Julia’s simple string formatting operations."
   ]
  },
  {
   "cell_type": "code",
   "execution_count": null,
   "id": "0eb3e2e6",
   "metadata": {
    "hide-output": false
   },
   "outputs": [],
   "source": [
    "x = 10; y = 20"
   ]
  },
  {
   "cell_type": "markdown",
   "id": "ce7f2901",
   "metadata": {},
   "source": [
    "The `\\$` inside of a string is used to interpolate a variable."
   ]
  },
  {
   "cell_type": "code",
   "execution_count": null,
   "id": "c16dcc01",
   "metadata": {
    "hide-output": false
   },
   "outputs": [],
   "source": [
    "\"x = $x\""
   ]
  },
  {
   "cell_type": "markdown",
   "id": "dea9d45b",
   "metadata": {},
   "source": [
    "With parentheses, you can splice the results of expressions into strings as well."
   ]
  },
  {
   "cell_type": "code",
   "execution_count": null,
   "id": "ed2491d7",
   "metadata": {
    "hide-output": false
   },
   "outputs": [],
   "source": [
    "\"x + y = $(x + y)\""
   ]
  },
  {
   "cell_type": "markdown",
   "id": "0749fb01",
   "metadata": {},
   "source": [
    "To concatenate strings use `*`"
   ]
  },
  {
   "cell_type": "code",
   "execution_count": null,
   "id": "0b113506",
   "metadata": {
    "hide-output": false
   },
   "outputs": [],
   "source": [
    "\"foo\" * \"bar\""
   ]
  },
  {
   "cell_type": "markdown",
   "id": "eac2942b",
   "metadata": {},
   "source": [
    "Julia provides many functions for working with strings."
   ]
  },
  {
   "cell_type": "code",
   "execution_count": null,
   "id": "0433d75d",
   "metadata": {
    "hide-output": false
   },
   "outputs": [],
   "source": [
    "s = \"Charlie don't surf\""
   ]
  },
  {
   "cell_type": "code",
   "execution_count": null,
   "id": "b8185cda",
   "metadata": {
    "hide-output": false
   },
   "outputs": [],
   "source": [
    "split(s)"
   ]
  },
  {
   "cell_type": "code",
   "execution_count": null,
   "id": "d7d25b54",
   "metadata": {
    "hide-output": false
   },
   "outputs": [],
   "source": [
    "replace(s, \"surf\" => \"ski\")"
   ]
  },
  {
   "cell_type": "code",
   "execution_count": null,
   "id": "c7a9d529",
   "metadata": {
    "hide-output": false
   },
   "outputs": [],
   "source": [
    "split(\"fee,fi,fo\", \",\")"
   ]
  },
  {
   "cell_type": "code",
   "execution_count": null,
   "id": "5d117479",
   "metadata": {
    "hide-output": false
   },
   "outputs": [],
   "source": [
    "strip(\" foobar \")  # remove whitespace"
   ]
  },
  {
   "cell_type": "markdown",
   "id": "011e6d0e",
   "metadata": {},
   "source": [
    "Julia can also find and replace using [regular expressions](https://en.wikipedia.org/wiki/Regular_expression) ([see regular expressions documentation](https://docs.julialang.org/en/v1/manual/strings/#Regular-Expressions-1) for more info)."
   ]
  },
  {
   "cell_type": "code",
   "execution_count": null,
   "id": "8ae085a1",
   "metadata": {
    "hide-output": false
   },
   "outputs": [],
   "source": [
    "match(r\"(\\d+)\", \"Top 10\")  # find digits in string"
   ]
  },
  {
   "cell_type": "markdown",
   "id": "02e50b88",
   "metadata": {},
   "source": [
    "### Containers\n",
    "\n",
    "Julia has several basic types for storing collections of data.\n",
    "\n",
    "We have already discussed arrays.\n",
    "\n",
    "A related data type is a **tuple**, which is immutable and can contain different types."
   ]
  },
  {
   "cell_type": "code",
   "execution_count": null,
   "id": "0d43df28",
   "metadata": {
    "hide-output": false
   },
   "outputs": [],
   "source": [
    "x = (\"foo\", \"bar\")\n",
    "y = (\"foo\", 2)"
   ]
  },
  {
   "cell_type": "code",
   "execution_count": null,
   "id": "66067c3f",
   "metadata": {
    "hide-output": false
   },
   "outputs": [],
   "source": [
    "typeof(x), typeof(y)"
   ]
  },
  {
   "cell_type": "markdown",
   "id": "6f73591d",
   "metadata": {},
   "source": [
    "An immutable value is one that cannot be altered once it resides in memory.\n",
    "\n",
    "In particular, tuples do not support item assignment (i.e. `x[1] = \"test\"` would fail).\n",
    "\n",
    "Tuples can be constructed with or without parentheses."
   ]
  },
  {
   "cell_type": "code",
   "execution_count": null,
   "id": "2a0160a0",
   "metadata": {
    "hide-output": false
   },
   "outputs": [],
   "source": [
    "x = \"foo\", 1"
   ]
  },
  {
   "cell_type": "code",
   "execution_count": null,
   "id": "9d7fc981",
   "metadata": {
    "hide-output": false
   },
   "outputs": [],
   "source": [
    "function f()\n",
    "    return \"foo\", 1\n",
    "end\n",
    "f()"
   ]
  },
  {
   "cell_type": "markdown",
   "id": "7f59fa3e",
   "metadata": {},
   "source": [
    "Tuples can also be unpacked directly into variables."
   ]
  },
  {
   "cell_type": "code",
   "execution_count": null,
   "id": "c7f88bf1",
   "metadata": {
    "hide-output": false
   },
   "outputs": [],
   "source": [
    "x = (\"foo\", 1)"
   ]
  },
  {
   "cell_type": "code",
   "execution_count": null,
   "id": "7905dab8",
   "metadata": {
    "hide-output": false
   },
   "outputs": [],
   "source": [
    "word, val = x\n",
    "println(\"word = $word, val = $val\")"
   ]
  },
  {
   "cell_type": "markdown",
   "id": "b0affcb6",
   "metadata": {},
   "source": [
    "Tuples can be created with a hanging `,` – this is useful to create a tuple with one element."
   ]
  },
  {
   "cell_type": "code",
   "execution_count": null,
   "id": "9ad69fc1",
   "metadata": {
    "hide-output": false
   },
   "outputs": [],
   "source": [
    "x = (\"foo\", 1,)\n",
    "y = (\"foo\",)\n",
    "typeof(x), typeof(y)"
   ]
  },
  {
   "cell_type": "markdown",
   "id": "cefa5872",
   "metadata": {},
   "source": [
    "#### Referencing Items\n",
    "\n",
    "The last element of a sequence type can be accessed with the keyword `end`."
   ]
  },
  {
   "cell_type": "code",
   "execution_count": null,
   "id": "fa1f6459",
   "metadata": {
    "hide-output": false
   },
   "outputs": [],
   "source": [
    "x = [10, 20, 30, 40]"
   ]
  },
  {
   "cell_type": "code",
   "execution_count": null,
   "id": "d2e8152e",
   "metadata": {
    "hide-output": false
   },
   "outputs": [],
   "source": [
    "x[end]"
   ]
  },
  {
   "cell_type": "code",
   "execution_count": null,
   "id": "cf2c3a3e",
   "metadata": {
    "hide-output": false
   },
   "outputs": [],
   "source": [
    "x[end-1]"
   ]
  },
  {
   "cell_type": "markdown",
   "id": "d74dc551",
   "metadata": {},
   "source": [
    "To access multiple elements of an array or tuple, you can use slice notation."
   ]
  },
  {
   "cell_type": "code",
   "execution_count": null,
   "id": "243a59e4",
   "metadata": {
    "hide-output": false
   },
   "outputs": [],
   "source": [
    "x[1:3]"
   ]
  },
  {
   "cell_type": "code",
   "execution_count": null,
   "id": "600bdf7f",
   "metadata": {
    "hide-output": false
   },
   "outputs": [],
   "source": [
    "x[2:end]"
   ]
  },
  {
   "cell_type": "markdown",
   "id": "a096208e",
   "metadata": {},
   "source": [
    "The same slice notation works on strings."
   ]
  },
  {
   "cell_type": "code",
   "execution_count": null,
   "id": "ffac9d6c",
   "metadata": {
    "hide-output": false
   },
   "outputs": [],
   "source": [
    "\"foobar\"[3:end]"
   ]
  },
  {
   "cell_type": "markdown",
   "id": "4a881ec0",
   "metadata": {},
   "source": [
    "#### Dictionaries\n",
    "\n",
    "Another container type worth mentioning is dictionaries.\n",
    "\n",
    "Dictionaries are like arrays except that the items are named instead of numbered."
   ]
  },
  {
   "cell_type": "code",
   "execution_count": null,
   "id": "60b6bbd3",
   "metadata": {
    "hide-output": false
   },
   "outputs": [],
   "source": [
    "d = Dict(\"name\" => \"Frodo\", \"age\" => 33)"
   ]
  },
  {
   "cell_type": "code",
   "execution_count": null,
   "id": "2cf7c56a",
   "metadata": {
    "hide-output": false
   },
   "outputs": [],
   "source": [
    "d[\"age\"]"
   ]
  },
  {
   "cell_type": "markdown",
   "id": "972a2df5",
   "metadata": {},
   "source": [
    "The strings `name` and `age` are called the **keys**.\n",
    "\n",
    "The keys are mapped to **values** (in this case `\"Frodo\"` and `33`).\n",
    "\n",
    "They can be accessed via `keys(d)` and `values(d)` respectively.\n",
    "\n",
    "**Note** Unlike in Python and some other dynamic languages, dictionaries\n",
    "are rarely the right approach (ie. often referred to as “the devil’s datastructure”).\n",
    "\n",
    "The flexibility (i.e. can store anything and use anything as a key) frequently\n",
    "comes at the cost of performance if misused.\n",
    "\n",
    "It is usually better to have collections of parameters and results in a named\n",
    "tuple, which both provide the compiler with more opportunties to optimize the\n",
    "performance, and also makes the code more safe.\n",
    "\n",
    "\n",
    "<a id='iterating-version-1'></a>"
   ]
  },
  {
   "cell_type": "markdown",
   "id": "7a6e3a01",
   "metadata": {},
   "source": [
    "## Iterating\n",
    "\n",
    "One of the most important tasks in computing is stepping through a\n",
    "sequence of data and performing a given action.\n",
    "\n",
    "Julia provides neat and flexible tools for iteration as we now discuss."
   ]
  },
  {
   "cell_type": "markdown",
   "id": "ca27d739",
   "metadata": {},
   "source": [
    "### Iterables\n",
    "\n",
    "An iterable is something you can put on the right hand side of `for` and loop over.\n",
    "\n",
    "These include sequence data types like arrays."
   ]
  },
  {
   "cell_type": "code",
   "execution_count": null,
   "id": "e8326c59",
   "metadata": {
    "hide-output": false
   },
   "outputs": [],
   "source": [
    "actions = [\"surf\", \"ski\"]\n",
    "for action in actions\n",
    "    println(\"Charlie doesn't $action\")\n",
    "end"
   ]
  },
  {
   "cell_type": "markdown",
   "id": "6e8f1c04",
   "metadata": {},
   "source": [
    "They also include so-called **iterators**.\n",
    "\n",
    "You’ve already come across these types of values"
   ]
  },
  {
   "cell_type": "code",
   "execution_count": null,
   "id": "eb57a4ad",
   "metadata": {
    "hide-output": false
   },
   "outputs": [],
   "source": [
    "for i in 1:3\n",
    "    print(i)\n",
    "end"
   ]
  },
  {
   "cell_type": "markdown",
   "id": "e7ead6ce",
   "metadata": {},
   "source": [
    "If you ask for the keys of dictionary you get an iterator"
   ]
  },
  {
   "cell_type": "code",
   "execution_count": null,
   "id": "34e5fb0a",
   "metadata": {
    "hide-output": false
   },
   "outputs": [],
   "source": [
    "d = Dict(\"name\" => \"Frodo\", \"age\" => 33)"
   ]
  },
  {
   "cell_type": "code",
   "execution_count": null,
   "id": "c19d6158",
   "metadata": {
    "hide-output": false
   },
   "outputs": [],
   "source": [
    "keys(d)"
   ]
  },
  {
   "cell_type": "markdown",
   "id": "38d046ae",
   "metadata": {},
   "source": [
    "This makes sense, since the most common thing you want to do with keys is loop over them.\n",
    "\n",
    "The benefit of providing an iterator rather than an array, say, is that the former is more memory efficient.\n",
    "\n",
    "Should you need to transform an iterator into an array you can always use `collect()`."
   ]
  },
  {
   "cell_type": "code",
   "execution_count": null,
   "id": "5c53d5c3",
   "metadata": {
    "hide-output": false
   },
   "outputs": [],
   "source": [
    "collect(keys(d))"
   ]
  },
  {
   "cell_type": "markdown",
   "id": "e6e07152",
   "metadata": {},
   "source": [
    "### Looping without Indices\n",
    "\n",
    "You can loop over sequences without explicit indexing, which often leads to\n",
    "neater code.\n",
    "\n",
    "For example compare"
   ]
  },
  {
   "cell_type": "code",
   "execution_count": null,
   "id": "b8aff85f",
   "metadata": {
    "hide-output": false
   },
   "outputs": [],
   "source": [
    "x_values = 1:5"
   ]
  },
  {
   "cell_type": "code",
   "execution_count": null,
   "id": "ef4c6bcc",
   "metadata": {
    "hide-output": false
   },
   "outputs": [],
   "source": [
    "for x in x_values\n",
    "    println(x * x)\n",
    "end"
   ]
  },
  {
   "cell_type": "code",
   "execution_count": null,
   "id": "83651e61",
   "metadata": {
    "hide-output": false
   },
   "outputs": [],
   "source": [
    "for i in eachindex(x_values)\n",
    "    println(x_values[i] * x_values[i])\n",
    "end"
   ]
  },
  {
   "cell_type": "markdown",
   "id": "57ddb867",
   "metadata": {},
   "source": [
    "Julia provides some functional-style helper functions (similar to Python and R) to facilitate looping without indices.\n",
    "\n",
    "One is `zip()`, which is used for stepping through pairs from two sequences.\n",
    "\n",
    "For example, try running the following code"
   ]
  },
  {
   "cell_type": "code",
   "execution_count": null,
   "id": "7f4ffcc3",
   "metadata": {
    "hide-output": false
   },
   "outputs": [],
   "source": [
    "countries = (\"Japan\", \"Korea\", \"China\")\n",
    "cities = (\"Tokyo\", \"Seoul\", \"Beijing\")\n",
    "for (country, city) in zip(countries, cities)\n",
    "    println(\"The capital of $country is $city\")\n",
    "end"
   ]
  },
  {
   "cell_type": "markdown",
   "id": "3fda32ed",
   "metadata": {},
   "source": [
    "If we happen to need the index as well as the value, one option is to use `enumerate()`.\n",
    "\n",
    "The following snippet will give you the idea"
   ]
  },
  {
   "cell_type": "code",
   "execution_count": null,
   "id": "21b724be",
   "metadata": {
    "hide-output": false
   },
   "outputs": [],
   "source": [
    "countries = (\"Japan\", \"Korea\", \"China\")\n",
    "cities = (\"Tokyo\", \"Seoul\", \"Beijing\")\n",
    "for (i, country) in enumerate(countries)\n",
    "    city = cities[i]\n",
    "    println(\"The capital of $country is $city\")\n",
    "end"
   ]
  },
  {
   "cell_type": "markdown",
   "id": "76c03903",
   "metadata": {},
   "source": [
    "### Comprehensions\n",
    "\n",
    "([See comprehensions documentation](https://docs.julialang.org/en/v1/manual/arrays/#man-comprehensions-1))\n",
    "\n",
    "Comprehensions are an elegant tool for creating new arrays, dictionaries, etc. from iterables.\n",
    "\n",
    "Here are some examples"
   ]
  },
  {
   "cell_type": "code",
   "execution_count": null,
   "id": "11c65442",
   "metadata": {
    "hide-output": false
   },
   "outputs": [],
   "source": [
    "doubles = [ 2i for i in 1:4 ]"
   ]
  },
  {
   "cell_type": "code",
   "execution_count": null,
   "id": "b447ec0f",
   "metadata": {
    "hide-output": false
   },
   "outputs": [],
   "source": [
    "animals = [\"dog\", \"cat\", \"bird\"];   # Semicolon suppresses output"
   ]
  },
  {
   "cell_type": "code",
   "execution_count": null,
   "id": "5bd4b9db",
   "metadata": {
    "hide-output": false
   },
   "outputs": [],
   "source": [
    "plurals = [ animal * \"s\" for animal in animals ]"
   ]
  },
  {
   "cell_type": "code",
   "execution_count": null,
   "id": "e71d8462",
   "metadata": {
    "hide-output": false
   },
   "outputs": [],
   "source": [
    "[ i + j for i in 1:3, j in 4:6 ]"
   ]
  },
  {
   "cell_type": "code",
   "execution_count": null,
   "id": "91b8608f",
   "metadata": {
    "hide-output": false
   },
   "outputs": [],
   "source": [
    "[ i + j + k for i in 1:3, j in 4:6, k in 7:9 ]"
   ]
  },
  {
   "cell_type": "markdown",
   "id": "961ad3bb",
   "metadata": {},
   "source": [
    "Comprehensions can also create arrays of tuples or named tuples"
   ]
  },
  {
   "cell_type": "code",
   "execution_count": null,
   "id": "ba5f7cde",
   "metadata": {
    "hide-output": false
   },
   "outputs": [],
   "source": [
    "[ (i, j) for i in 1:2, j in animals]"
   ]
  },
  {
   "cell_type": "code",
   "execution_count": null,
   "id": "478a22d1",
   "metadata": {
    "hide-output": false
   },
   "outputs": [],
   "source": [
    "[ (num = i, animal = j) for i in 1:2, j in animals]"
   ]
  },
  {
   "cell_type": "markdown",
   "id": "39a46ef0",
   "metadata": {},
   "source": [
    "### Generators\n",
    "\n",
    "([See generator documentation](https://docs.julialang.org/en/v1/manual/arrays/#Generator-Expressions-1))\n",
    "\n",
    "In some cases, you may wish to use a comprehension to create an iterable list rather\n",
    "than actually making it a concrete array.\n",
    "\n",
    "The benefit of this is that you can use functions which take general iterators rather\n",
    "than arrays without allocating and storing any temporary values.\n",
    "\n",
    "For example, the following code generates a temporary array of size 10,000 and finds the sum."
   ]
  },
  {
   "cell_type": "code",
   "execution_count": null,
   "id": "bbb6c7ac",
   "metadata": {
    "hide-output": false
   },
   "outputs": [],
   "source": [
    "xs = 1:10000\n",
    "f(x) = x^2\n",
    "f_x = f.(xs)\n",
    "sum(f_x)"
   ]
  },
  {
   "cell_type": "markdown",
   "id": "3d243d40",
   "metadata": {},
   "source": [
    "We could have created the temporary using a comprehension, or even done the comprehension\n",
    "within the `sum` function, but these all create temporary arrays."
   ]
  },
  {
   "cell_type": "code",
   "execution_count": null,
   "id": "8d975c0a",
   "metadata": {
    "hide-output": false
   },
   "outputs": [],
   "source": [
    "f_x2 = [f(x) for x in xs]\n",
    "@show sum(f_x2)\n",
    "@show sum([f(x) for x in xs]); # still allocates temporary"
   ]
  },
  {
   "cell_type": "markdown",
   "id": "9ea03d7b",
   "metadata": {},
   "source": [
    "Note, that if you were hand-code this, you would be able to calculate the sum by simply\n",
    "iterating to 10000, applying `f` to each number, and accumulating the results.  No temporary\n",
    "vectors would be necessary.\n",
    "\n",
    "A generator can emulate this behavior, leading to clear (and sometimes more efficient) code when used\n",
    "with any function that accepts iterators.  All you need to do is drop the `]` brackets."
   ]
  },
  {
   "cell_type": "code",
   "execution_count": null,
   "id": "8f9a9a3c",
   "metadata": {
    "hide-output": false
   },
   "outputs": [],
   "source": [
    "sum(f(x) for x in xs)"
   ]
  },
  {
   "cell_type": "markdown",
   "id": "f28ce724",
   "metadata": {},
   "source": [
    "We can use `BenchmarkTools` to investigate"
   ]
  },
  {
   "cell_type": "code",
   "execution_count": null,
   "id": "6515ffe2",
   "metadata": {
    "hide-output": false
   },
   "outputs": [],
   "source": [
    "using BenchmarkTools\n",
    "@btime sum([f(x) for x in $xs])\n",
    "@btime sum(f.($xs))\n",
    "@btime sum(f(x) for x in $xs);"
   ]
  },
  {
   "cell_type": "markdown",
   "id": "a6ea5f7b",
   "metadata": {},
   "source": [
    "Notice that the first two cases are nearly identical, and allocate a temporary array, while the\n",
    "final case using generators has no allocations.\n",
    "\n",
    "In this example you may see a speedup of over 1000x.  Whether using generators leads to code that is faster or slower depends on the cirumstances, and you should (1) always profile rather than guess; and (2) worry about code clarify first, and performance second—if ever."
   ]
  },
  {
   "cell_type": "markdown",
   "id": "15f846c7",
   "metadata": {},
   "source": [
    "## Comparisons and Logical Operators"
   ]
  },
  {
   "cell_type": "markdown",
   "id": "2eb424c3",
   "metadata": {},
   "source": [
    "### Comparisons\n",
    "\n",
    "As we saw earlier, when testing for equality we use `==`."
   ]
  },
  {
   "cell_type": "code",
   "execution_count": null,
   "id": "26ca8daf",
   "metadata": {
    "hide-output": false
   },
   "outputs": [],
   "source": [
    "x = 1"
   ]
  },
  {
   "cell_type": "code",
   "execution_count": null,
   "id": "4252b0a3",
   "metadata": {
    "hide-output": false
   },
   "outputs": [],
   "source": [
    "x == 2"
   ]
  },
  {
   "cell_type": "markdown",
   "id": "00aada20",
   "metadata": {},
   "source": [
    "For “not equal” use `!=` or `≠` (`\\ne<TAB>`)."
   ]
  },
  {
   "cell_type": "code",
   "execution_count": null,
   "id": "286b60b9",
   "metadata": {
    "hide-output": false
   },
   "outputs": [],
   "source": [
    "x != 3"
   ]
  },
  {
   "cell_type": "markdown",
   "id": "30f6d21d",
   "metadata": {},
   "source": [
    "Julia can also test approximate equality with `≈` (`\\approx<TAB>`)."
   ]
  },
  {
   "cell_type": "code",
   "execution_count": null,
   "id": "8fa6163e",
   "metadata": {
    "hide-output": false
   },
   "outputs": [],
   "source": [
    "1 + 1E-8 ≈ 1"
   ]
  },
  {
   "cell_type": "markdown",
   "id": "ea1debd0",
   "metadata": {},
   "source": [
    "Be careful when using this, however, as there are subtleties involving the scales of the quantities compared."
   ]
  },
  {
   "cell_type": "markdown",
   "id": "9c7efb23",
   "metadata": {},
   "source": [
    "### Combining Expressions\n",
    "\n",
    "Here are the standard logical connectives (conjunction, disjunction)"
   ]
  },
  {
   "cell_type": "code",
   "execution_count": null,
   "id": "44f0e57c",
   "metadata": {
    "hide-output": false
   },
   "outputs": [],
   "source": [
    "true && false"
   ]
  },
  {
   "cell_type": "code",
   "execution_count": null,
   "id": "91fef507",
   "metadata": {
    "hide-output": false
   },
   "outputs": [],
   "source": [
    "true || false"
   ]
  },
  {
   "cell_type": "markdown",
   "id": "92e8a7b5",
   "metadata": {},
   "source": [
    "Remember\n",
    "\n",
    "- `P && Q` is `true` if both are `true`, otherwise it’s `false`.  \n",
    "- `P || Q` is `false` if both are `false`, otherwise it’s `true`.  "
   ]
  },
  {
   "cell_type": "markdown",
   "id": "4c12fe7a",
   "metadata": {},
   "source": [
    "## User-Defined Functions\n",
    "\n",
    "Let’s talk a little more about user-defined functions.\n",
    "\n",
    "User-defined functions are important for improving the clarity of your code by\n",
    "\n",
    "- separating different strands of logic  \n",
    "- facilitating code reuse (writing the same thing twice is always a bad idea)  \n",
    "\n",
    "\n",
    "Julia functions are convenient:\n",
    "\n",
    "- Any number of functions can be defined in a given file.  \n",
    "- Any “value” can be passed to a function as an argument, including other functions.  \n",
    "- Functions can be (and often are) defined inside other functions.  \n",
    "- A function can return any kind of value, including functions.  \n",
    "\n",
    "\n",
    "We’ll see many examples of these structures in the following lectures.\n",
    "\n",
    "For now let’s just cover some of the different ways of defining functions."
   ]
  },
  {
   "cell_type": "markdown",
   "id": "6cf4b9a9",
   "metadata": {},
   "source": [
    "### Return Statement\n",
    "\n",
    "In Julia, the `return` statement is optional, so that the following functions\n",
    "have identical behavior"
   ]
  },
  {
   "cell_type": "code",
   "execution_count": null,
   "id": "0adcbf67",
   "metadata": {
    "hide-output": false
   },
   "outputs": [],
   "source": [
    "function f1(a, b)\n",
    "    return a * b\n",
    "end\n",
    "\n",
    "function f2(a, b)\n",
    "    a * b\n",
    "end"
   ]
  },
  {
   "cell_type": "markdown",
   "id": "d050cc48",
   "metadata": {},
   "source": [
    "When no return statement is present, the last value obtained when executing the code block is returned.\n",
    "\n",
    "Although some prefer the second option, we often favor the former on the basis that explicit is better than implicit.\n",
    "\n",
    "A function can have arbitrarily many `return` statements, with execution terminating when the first return is hit.\n",
    "\n",
    "You can see this in action when experimenting with the following function"
   ]
  },
  {
   "cell_type": "code",
   "execution_count": null,
   "id": "97df424b",
   "metadata": {
    "hide-output": false
   },
   "outputs": [],
   "source": [
    "function foo(x)\n",
    "    if x > 0\n",
    "        return \"positive\"\n",
    "    end\n",
    "    return \"nonpositive\"\n",
    "end"
   ]
  },
  {
   "cell_type": "markdown",
   "id": "431a5623",
   "metadata": {},
   "source": [
    "### Other Syntax for Defining Functions\n",
    "\n",
    "For short function definitions Julia offers some attractive simplified syntax.\n",
    "\n",
    "First, when the function body is a simple expression, it can be defined\n",
    "without the `function` keyword or `end`."
   ]
  },
  {
   "cell_type": "code",
   "execution_count": null,
   "id": "4cbe30e1",
   "metadata": {
    "hide-output": false
   },
   "outputs": [],
   "source": [
    "f(x) = sin(1 / x)"
   ]
  },
  {
   "cell_type": "markdown",
   "id": "9f820708",
   "metadata": {},
   "source": [
    "Let’s check that it works"
   ]
  },
  {
   "cell_type": "code",
   "execution_count": null,
   "id": "80da1284",
   "metadata": {
    "hide-output": false
   },
   "outputs": [],
   "source": [
    "f(1 / pi)"
   ]
  },
  {
   "cell_type": "markdown",
   "id": "f95f8849",
   "metadata": {},
   "source": [
    "Julia also allows you to define anonymous functions.\n",
    "\n",
    "For example, to define `f(x) = sin(1 / x)` you can use `x -> sin(1 / x)`.\n",
    "\n",
    "The difference is that the second function has no name bound to it.\n",
    "\n",
    "How can you use a function with no name?\n",
    "\n",
    "Typically it’s as an argument to another function"
   ]
  },
  {
   "cell_type": "code",
   "execution_count": null,
   "id": "1057a508",
   "metadata": {
    "hide-output": false
   },
   "outputs": [],
   "source": [
    "map(x -> sin(1 / x), randn(3))  # apply function to each element"
   ]
  },
  {
   "cell_type": "markdown",
   "id": "4026e423",
   "metadata": {},
   "source": [
    "### Optional and Keyword Arguments\n",
    "\n",
    "([See keyword arguments documentation](https://docs.julialang.org/en/v1/manual/functions/#Keyword-Arguments-1))\n",
    "\n",
    "Function arguments can be given default values"
   ]
  },
  {
   "cell_type": "code",
   "execution_count": null,
   "id": "8eff4d63",
   "metadata": {
    "hide-output": false
   },
   "outputs": [],
   "source": [
    "f(x, a = 1) = exp(cos(a * x))"
   ]
  },
  {
   "cell_type": "markdown",
   "id": "2d9184b1",
   "metadata": {},
   "source": [
    "If the argument is not supplied, the default value is substituted."
   ]
  },
  {
   "cell_type": "code",
   "execution_count": null,
   "id": "c5f9fbd7",
   "metadata": {
    "hide-output": false
   },
   "outputs": [],
   "source": [
    "f(pi)"
   ]
  },
  {
   "cell_type": "code",
   "execution_count": null,
   "id": "53e1baf1",
   "metadata": {
    "hide-output": false
   },
   "outputs": [],
   "source": [
    "f(pi, 2)"
   ]
  },
  {
   "cell_type": "markdown",
   "id": "22003e19",
   "metadata": {},
   "source": [
    "Another option is to use **keyword** arguments.\n",
    "\n",
    "The difference between keyword and standard (positional) arguments is that\n",
    "they are parsed and bounded by name rather than the order in the function call.\n",
    "\n",
    "For example, in the call"
   ]
  },
  {
   "cell_type": "code",
   "execution_count": null,
   "id": "8bc35a49",
   "metadata": {
    "hide-output": false
   },
   "outputs": [],
   "source": [
    "f(x; a = 1) = exp(cos(a * x))  # note the ; in the definition\n",
    "\n",
    "f(pi; a = 2)"
   ]
  },
  {
   "cell_type": "markdown",
   "id": "ec4a3ee0",
   "metadata": {},
   "source": [
    "The `;` in this case for calling the function is optional and the last line could equivalently be `f(pi, a = 2)`.\n",
    "\n",
    "That said separating keyword arguments  `;` is encouraged to clarify the types of arguments, and enables some nice features.\n",
    "\n",
    "For example, local variables used as keyword arguments (or in named tuples) by default pass in the same name."
   ]
  },
  {
   "cell_type": "code",
   "execution_count": null,
   "id": "fdbd650d",
   "metadata": {
    "hide-output": false
   },
   "outputs": [],
   "source": [
    "a = 2\n",
    "f(pi; a) # equivalent to f(pi; a = a)"
   ]
  },
  {
   "cell_type": "markdown",
   "id": "639a5793",
   "metadata": {},
   "source": [
    "While it may seem terse at first, this pattern is common across Julia and is worth getting used to.\n",
    "\n",
    "If you see an argument in in julia to the right of the `;` assume it is a keyword argument with the name matching the value.\n",
    "\n",
    "The automatic naming of keyword arguments is also picked up automatically when they are fields in named tuples or structs."
   ]
  },
  {
   "cell_type": "code",
   "execution_count": null,
   "id": "472ebf96",
   "metadata": {
    "hide-output": false
   },
   "outputs": [],
   "source": [
    "nt = (;a = 2, b = 10)\n",
    "f(pi; nt.a) # equivalent to f(pi; a = nt.a)"
   ]
  },
  {
   "cell_type": "markdown",
   "id": "58912742",
   "metadata": {},
   "source": [
    "## Broadcasting\n",
    "\n",
    "([See broadcasting documentation](https://docs.julialang.org/en/v1/manual/arrays/#Broadcasting-1))\n",
    "\n",
    "A common scenario in computing is that\n",
    "\n",
    "- we have a function `f` such that `f(x)` returns a number for any number `x`  \n",
    "- we wish to apply `f` to every element of an iterable `x_vec` to produce a new result `y_vec`  \n",
    "\n",
    "\n",
    "In Julia loops are fast and we can do this easily enough with a loop.\n",
    "\n",
    "For example, suppose that we want to apply `sin` to `x_vec = [2.0, 4.0, 6.0, 8.0]`.\n",
    "\n",
    "The following code will do the job"
   ]
  },
  {
   "cell_type": "code",
   "execution_count": null,
   "id": "a1f6cab0",
   "metadata": {
    "hide-output": false
   },
   "outputs": [],
   "source": [
    "x_vec = [2.0, 4.0, 6.0, 8.0]\n",
    "y_vec = similar(x_vec)\n",
    "for (i, x) in enumerate(x_vec)\n",
    "    y_vec[i] = sin(x)\n",
    "end"
   ]
  },
  {
   "cell_type": "markdown",
   "id": "1f32f8a6",
   "metadata": {},
   "source": [
    "or alternatively just iterating with indices"
   ]
  },
  {
   "cell_type": "code",
   "execution_count": null,
   "id": "f0082026",
   "metadata": {
    "hide-output": false
   },
   "outputs": [],
   "source": [
    "x_vec = [2.0, 4.0, 6.0, 8.0]\n",
    "y_vec = similar(x_vec)\n",
    "for i in eachindex(x_vec)\n",
    "    y_vec[i] = sin(x_vec[i])\n",
    "end"
   ]
  },
  {
   "cell_type": "markdown",
   "id": "ca462d1f",
   "metadata": {},
   "source": [
    "But this is a bit unwieldy so Julia offers the alternative syntax"
   ]
  },
  {
   "cell_type": "code",
   "execution_count": null,
   "id": "64af1a6f",
   "metadata": {
    "hide-output": false
   },
   "outputs": [],
   "source": [
    "y_vec = sin.(x_vec)"
   ]
  },
  {
   "cell_type": "markdown",
   "id": "78f3375a",
   "metadata": {},
   "source": [
    "More generally, if `f` is any Julia function, then `f.` references the broadcasted version.\n",
    "\n",
    "Conveniently, this applies to user-defined functions as well.\n",
    "\n",
    "To illustrate, let’s write a function `chisq` such that `chisq(k)` returns a chi-squared random variable with `k` degrees of freedom when `k` is an integer.\n",
    "\n",
    "In doing this we’ll exploit the fact that, if we take `k` independent standard normals, square them all and sum, we get a chi-squared with `k` degrees of freedom."
   ]
  },
  {
   "cell_type": "code",
   "execution_count": null,
   "id": "205612ad",
   "metadata": {
    "hide-output": false
   },
   "outputs": [],
   "source": [
    "function chisq(k)\n",
    "    @assert k > 0\n",
    "    z = randn(k)\n",
    "    return sum(z -> z^2, z)  # same as `sum(x^2 for x in z)`\n",
    "end"
   ]
  },
  {
   "cell_type": "markdown",
   "id": "644befdb",
   "metadata": {},
   "source": [
    "The macro `@assert` will check that the next expression evaluates to `true`, and will stop and display an error otherwise."
   ]
  },
  {
   "cell_type": "code",
   "execution_count": null,
   "id": "8b899b33",
   "metadata": {
    "hide-output": false
   },
   "outputs": [],
   "source": [
    "chisq(3)"
   ]
  },
  {
   "cell_type": "markdown",
   "id": "3d623a81",
   "metadata": {},
   "source": [
    "Note that calls with integers less than 1 will trigger an assertion failure inside\n",
    "the function body."
   ]
  },
  {
   "cell_type": "code",
   "execution_count": null,
   "id": "0090f0da",
   "metadata": {
    "hide-output": false
   },
   "outputs": [],
   "source": [
    "chisq(-2)"
   ]
  },
  {
   "cell_type": "markdown",
   "id": "79fecb7f",
   "metadata": {},
   "source": [
    "Let’s try this out on an array of integers, adding the broadcast"
   ]
  },
  {
   "cell_type": "code",
   "execution_count": null,
   "id": "758b03dd",
   "metadata": {
    "hide-output": false
   },
   "outputs": [],
   "source": [
    "chisq.([2, 4, 6])"
   ]
  },
  {
   "cell_type": "markdown",
   "id": "54bb4b93",
   "metadata": {},
   "source": [
    "The broadcasting notation is not simply vectorization, as it is able to “fuse” multiple broadcasts together to generate efficient code."
   ]
  },
  {
   "cell_type": "code",
   "execution_count": null,
   "id": "186c6e08",
   "metadata": {
    "hide-output": false
   },
   "outputs": [],
   "source": [
    "x = 1.0:1.0:5.0\n",
    "y = [2.0, 4.0, 5.0, 6.0, 8.0]\n",
    "z = similar(y)\n",
    "z .= x .+ y .- sin.(x) # generates efficient code instead of many temporaries"
   ]
  },
  {
   "cell_type": "markdown",
   "id": "98d7933b",
   "metadata": {},
   "source": [
    "A convenience macro for adding broadcasting on every function call is `@.`"
   ]
  },
  {
   "cell_type": "code",
   "execution_count": null,
   "id": "8da3fad1",
   "metadata": {
    "hide-output": false
   },
   "outputs": [],
   "source": [
    "@. z = x + y - sin(x)"
   ]
  },
  {
   "cell_type": "markdown",
   "id": "5fc9b974",
   "metadata": {},
   "source": [
    "Since the `+, -, =` operators are functions, behind the scenes this is broadcasting against both the `x` and `y` vectors.\n",
    "\n",
    "The compiler will fix anything which is a scalar, and otherwise iterate across every vector"
   ]
  },
  {
   "cell_type": "code",
   "execution_count": null,
   "id": "c4d2d5d3",
   "metadata": {
    "hide-output": false
   },
   "outputs": [],
   "source": [
    "f(a, b) = a + b # bivariate function\n",
    "a = [1 2 3]\n",
    "b = [4 5 6]\n",
    "@show f.(a, b) # across both\n",
    "@show f.(a, 2); # fix scalar for second"
   ]
  },
  {
   "cell_type": "markdown",
   "id": "09737f0c",
   "metadata": {},
   "source": [
    "The compiler is only able to detect “scalar” values in this way for a limited number of types (e.g. integers, floating points, etc) and some packages (e.g. Distributions).\n",
    "\n",
    "For other types, you will need to wrap any scalars in `Ref` to fix them, or else it will try to broadcast the value.\n",
    "\n",
    "Another place that you may use a `Ref` is to fix a function parameter you do not want to broadcast over."
   ]
  },
  {
   "cell_type": "code",
   "execution_count": null,
   "id": "53d1845e",
   "metadata": {
    "hide-output": false
   },
   "outputs": [],
   "source": [
    "f(x, y) = [1, 2, 3] ⋅ x + y   # \"⋅\" can be typed by \\cdot<tab>\n",
    "f([3, 4, 5], 2)   # uses vector as first parameter\n",
    "f.(Ref([3, 4, 5]), [2, 3])   # broadcasting over 2nd parameter, fixing first"
   ]
  },
  {
   "cell_type": "markdown",
   "id": "88c8e545",
   "metadata": {},
   "source": [
    "## Scoping and Closures\n",
    "\n",
    "Since global variables are usually a bad idea, we will concentrate on understanding the role of good local scoping practice.\n",
    "\n",
    "That said, while many of the variables in these Jupyter notebook are global, we have been careful to write the code so that the entire code could be copied inside of a function.\n",
    "\n",
    "When copied inside a function, variables become local and functions become closures.\n",
    "\n",
    "**Warning**.\n",
    "\n",
    "For/while loops and global variables in Jupyter vs. the REPL:\n",
    "\n",
    "- In the current version of Julia, there is a distinction between the use of scope in an interactive Jupyter environment.  \n",
    "- The description here of globals applies to Jupyter notebooks, and may also apply to the REPL and top-level scripts.  \n",
    "- In general, you should be creating functions when working with .jl files, and the distinction generally won’t apply.  \n",
    "\n",
    "\n",
    "For more information on using globals outside of Jupyter,\n",
    "([see variable scoping documentation](https://docs.julialang.org/en/v1/manual/variables-and-scoping/)), though these rules are likely to become consistent in a future version."
   ]
  },
  {
   "cell_type": "markdown",
   "id": "300eff39",
   "metadata": {},
   "source": [
    "### Functions\n",
    "\n",
    "The scope of a variable name determines where it is valid to refer to it, and how clashes between names can occur.\n",
    "\n",
    "Think of the scope as a list of all of the name bindings of relevant variables.\n",
    "\n",
    "Different scopes could contain the same name but be assigned to different things.\n",
    "\n",
    "An obvious place to start is to notice that functions introduce their own local names."
   ]
  },
  {
   "cell_type": "code",
   "execution_count": null,
   "id": "b1bf6218",
   "metadata": {
    "hide-output": false
   },
   "outputs": [],
   "source": [
    "f(x) = x^2  # local `x` in scope\n",
    "\n",
    "# x is not bound to anything in this outer scope\n",
    "y = 5\n",
    "f(y)"
   ]
  },
  {
   "cell_type": "markdown",
   "id": "f8dd96d6",
   "metadata": {},
   "source": [
    "This would be roughly equivalent to"
   ]
  },
  {
   "cell_type": "code",
   "execution_count": null,
   "id": "52d5c64d",
   "metadata": {
    "hide-output": false
   },
   "outputs": [],
   "source": [
    "function g() # scope within the `g` function\n",
    "\n",
    "    f(x) = x^2 # local `x` in scope\n",
    "\n",
    "    # x is not bound to anything in this outer scope\n",
    "    y = 5\n",
    "    f(y)\n",
    "end\n",
    "g() # run the function"
   ]
  },
  {
   "cell_type": "markdown",
   "id": "105d8086",
   "metadata": {},
   "source": [
    "This is also equivalent if the `y` was changed to `x`, since it is a different scope."
   ]
  },
  {
   "cell_type": "code",
   "execution_count": null,
   "id": "a2d2d4af",
   "metadata": {
    "hide-output": false
   },
   "outputs": [],
   "source": [
    "f(x) = x^2  # local `x` in scope\n",
    "\n",
    "# x is not bound to anything in this outer scope\n",
    "x = 5   # a different `x` than the local variable name\n",
    "f(x)    # calling `f` with `x`"
   ]
  },
  {
   "cell_type": "markdown",
   "id": "5907bffa",
   "metadata": {},
   "source": [
    "The scoping also applies to named arguments in functions."
   ]
  },
  {
   "cell_type": "code",
   "execution_count": null,
   "id": "a745997b",
   "metadata": {
    "hide-output": false
   },
   "outputs": [],
   "source": [
    "f(x; y = 1) = x + y  # `x` and `y` are names local to the `f` function\n",
    "xval = 0.1\n",
    "yval = 2\n",
    "f(xval; y = yval)"
   ]
  },
  {
   "cell_type": "markdown",
   "id": "b0755682",
   "metadata": {},
   "source": [
    "Due to scoping, you could write this as"
   ]
  },
  {
   "cell_type": "code",
   "execution_count": null,
   "id": "c229bf14",
   "metadata": {
    "hide-output": false
   },
   "outputs": [],
   "source": [
    "f(x; y = 1) = x + y  # `x` and `y` are names local to the `f` function\n",
    "x = 0.1\n",
    "y = 2\n",
    "f(x; y) # the type and value of y taken from scope"
   ]
  },
  {
   "cell_type": "markdown",
   "id": "1c1354df",
   "metadata": {},
   "source": [
    "As always, the `f(x;y)` is equivalent to `f(x;y=y)`.\n",
    "\n",
    "Similarly to named arguments, the local scope also works with named tuples."
   ]
  },
  {
   "cell_type": "code",
   "execution_count": null,
   "id": "45e23037",
   "metadata": {
    "hide-output": false
   },
   "outputs": [],
   "source": [
    "xval = 0.1\n",
    "yval = 2\n",
    "@show (;x = xval, y = yval)  # named tuple with names `x` and `y`\n",
    "\n",
    "x = 0.1\n",
    "y = 2\n",
    "\n",
    "# create a named tuple with names `x` and `y` local to the tuple\n",
    "@show (;x = x, y = y)\n",
    "\n",
    "# better yet\n",
    "@show (;x, y);"
   ]
  },
  {
   "cell_type": "markdown",
   "id": "724bd576",
   "metadata": {},
   "source": [
    "As you use Julia, you will find that scoping is very natural and that there is no reason to avoid using `x` and `y` in both places.\n",
    "\n",
    "In fact, it frequently leads to clear code closer to the math when you don’t need to specify intermediaries.\n",
    "\n",
    "Another example is with broadcasting"
   ]
  },
  {
   "cell_type": "code",
   "execution_count": null,
   "id": "adbfbace",
   "metadata": {
    "hide-output": false
   },
   "outputs": [],
   "source": [
    "f(x) = x^2  # local `x` in scope\n",
    "\n",
    "x = 1:5     # not an integer\n",
    "\n",
    "f.(x)       # broadcasts the x^2 function over the vector"
   ]
  },
  {
   "cell_type": "markdown",
   "id": "0af2b3b9",
   "metadata": {},
   "source": [
    "### Closures\n",
    "\n",
    "Frequently, you will want to have a function that calculates a value given some fixed parameters."
   ]
  },
  {
   "cell_type": "code",
   "execution_count": null,
   "id": "af7582d7",
   "metadata": {
    "hide-output": false
   },
   "outputs": [],
   "source": [
    "f(x, a) = a * x^2\n",
    "\n",
    "f(1, 0.2)"
   ]
  },
  {
   "cell_type": "markdown",
   "id": "90667d27",
   "metadata": {},
   "source": [
    "While the above was convenient, there are other times when you want to simply fix a variable or refer to something already calculated."
   ]
  },
  {
   "cell_type": "code",
   "execution_count": null,
   "id": "a257f237",
   "metadata": {
    "hide-output": false
   },
   "outputs": [],
   "source": [
    "a = 0.2\n",
    "f(x) = a * x^2     # refers to the `a` in the outer scope\n",
    "f(1)               # univariate function"
   ]
  },
  {
   "cell_type": "markdown",
   "id": "f892d00d",
   "metadata": {},
   "source": [
    "When the function `f` is parsed in Julia, it will look to see if any of the variables are already defined in the current scope.\n",
    "\n",
    "In this case, it finds the `a` since it was defined previously, whereas if the\n",
    "code defines `a = 0.2` **after** the `f(x)` definition, it would fail.\n",
    "\n",
    "This also works when embedded in other functions"
   ]
  },
  {
   "cell_type": "code",
   "execution_count": null,
   "id": "f4665d64",
   "metadata": {
    "hide-output": false
   },
   "outputs": [],
   "source": [
    "function g(a)\n",
    "    f(x) = a * x^2  # refers to the `a` passed in the function\n",
    "    f(1)            # univariate function\n",
    "end\n",
    "g(0.2)"
   ]
  },
  {
   "cell_type": "markdown",
   "id": "44fb16d1",
   "metadata": {},
   "source": [
    "Comparing the two:  the key here is not that `a` is a global variable, but rather that the `f` function is defined to capture a variable from an outer scope.\n",
    "\n",
    "This is called a **closure**, and are used throughout the lectures.\n",
    "\n",
    "It is generally bad practice to modify the captured variable in the function, but otherwise the code becomes very clear.\n",
    "\n",
    "One place where this can be helpful is in a string of dependent calculations.\n",
    "\n",
    "For example, if you wanted to calculate a `(a, b, c)` from $ a = f(x), b = g(a), c = h(a, b) $ where $ f(x) = x^2, g(a) = 2 a, h(a, b) = a + b $"
   ]
  },
  {
   "cell_type": "code",
   "execution_count": null,
   "id": "2c6bfee2",
   "metadata": {
    "hide-output": false
   },
   "outputs": [],
   "source": [
    "function solvemodel(x)\n",
    "    a = x^2\n",
    "    b = 2 * a\n",
    "    c = a + b\n",
    "    return (;a, b, c)  # note local scope of tuples!\n",
    "end\n",
    "\n",
    "solvemodel(0.1)"
   ]
  },
  {
   "cell_type": "markdown",
   "id": "df082245",
   "metadata": {},
   "source": [
    "Named tuple and structure parameters can then be unpacked using the reverse notation,"
   ]
  },
  {
   "cell_type": "code",
   "execution_count": null,
   "id": "e60636a3",
   "metadata": {
    "hide-output": false
   },
   "outputs": [],
   "source": [
    "(;a, b, c) = solvemodel(0.1)\n",
    "println(\"a = $a, b = $b, c = $c\")"
   ]
  },
  {
   "cell_type": "markdown",
   "id": "1db443c9",
   "metadata": {},
   "source": [
    "### Higher-Order Functions\n",
    "\n",
    "One of the benefits of working with closures and functions is that you can return them from other functions.\n",
    "\n",
    "This leads to some natural programming patterns we have already been using, where we can use **functions of functions** and **functions returning functions** (or closures).\n",
    "\n",
    "To see a simple example, consider functions that accept other functions (including closures)"
   ]
  },
  {
   "cell_type": "code",
   "execution_count": null,
   "id": "82decbe1",
   "metadata": {
    "hide-output": false
   },
   "outputs": [],
   "source": [
    "twice(f, x) = f(f(x))  # applies f to itself twice\n",
    "f(x) = x^2\n",
    "@show twice(f, 2.0)\n",
    "\n",
    "twice(x -> x^2, 2.0)\n",
    "a = 5\n",
    "g(x) = a * x\n",
    "@show twice(g, 2.0);   # using a closure"
   ]
  },
  {
   "cell_type": "markdown",
   "id": "cd6c7973",
   "metadata": {},
   "source": [
    "This pattern has already been used extensively in our code and is key to keeping things like interpolation, numerical integration, and plotting.\n",
    "\n",
    "An example is for a function that returns a closure itself."
   ]
  },
  {
   "cell_type": "code",
   "execution_count": null,
   "id": "7442f70d",
   "metadata": {
    "hide-output": false
   },
   "outputs": [],
   "source": [
    "function multiplyit(a, g)\n",
    "    return x -> a * g(x) # function with `g` used in the closure\n",
    "end\n",
    "\n",
    "f(x) = x^2\n",
    "h = multiplyit(2.0, f) # returns function which doubles the result\n",
    "h(2)     # returned function is like any other function"
   ]
  },
  {
   "cell_type": "markdown",
   "id": "dfa55d33",
   "metadata": {},
   "source": [
    "You can create and define using `function` as well"
   ]
  },
  {
   "cell_type": "code",
   "execution_count": null,
   "id": "056532ae",
   "metadata": {
    "hide-output": false
   },
   "outputs": [],
   "source": [
    "function snapabove(g, a)\n",
    "    function f(x)\n",
    "        if x > a         # \"a\" is captured in the closure f\n",
    "            return g(x)\n",
    "        else\n",
    "            return g(a)\n",
    "        end\n",
    "    end\n",
    "    return f    # closure with the embedded a\n",
    "end\n",
    "\n",
    "f(x) = x^2\n",
    "h = snapabove(f, 2.0)\n",
    "plot(h, 0.0:0.1:3.0)"
   ]
  },
  {
   "cell_type": "markdown",
   "id": "7babdd24",
   "metadata": {},
   "source": [
    "The above can be written more succinctly using the ternary operation, i.e., `a ? b : c` which returns `b` if `a` is true and `c` otherwise.\n",
    "\n",
    "That is"
   ]
  },
  {
   "cell_type": "code",
   "execution_count": null,
   "id": "7fb44d1c",
   "metadata": {
    "hide-output": false
   },
   "outputs": [],
   "source": [
    "function snapabove2(g, a)\n",
    "    return x -> x > a ? g(x) : g(a) # returns a closure\n",
    "end\n",
    "plot(snapabove2(f, 2.0), 0.0:0.1:3.0)"
   ]
  },
  {
   "cell_type": "markdown",
   "id": "bb7c0a1f",
   "metadata": {},
   "source": [
    "### Loops\n",
    "\n",
    "The `for` and `while` loops also introduce a local scope, and you can roughly reason about them the same way you would a function/closure.\n",
    "\n",
    "In particular"
   ]
  },
  {
   "cell_type": "code",
   "execution_count": null,
   "id": "f61d1878",
   "metadata": {
    "hide-output": false
   },
   "outputs": [],
   "source": [
    "for i in 1:2  # introduces local i\n",
    "    dval1 = i\n",
    "    println(i)\n",
    "end\n",
    "\n",
    "# @show (i, dval1)  # would fail as neither exists in this scope\n",
    "\n",
    "for i in 1:2  # introduces a different local i\n",
    "    println(i)\n",
    "end"
   ]
  },
  {
   "cell_type": "markdown",
   "id": "f845af5c",
   "metadata": {},
   "source": [
    "On the other hand just as with closures, if a variable is already defined it will be available in the inner scope."
   ]
  },
  {
   "cell_type": "code",
   "execution_count": null,
   "id": "bc51837f",
   "metadata": {
    "hide-output": false
   },
   "outputs": [],
   "source": [
    "dval2 = 0  # introduces variables\n",
    "for i in 1:2   # introduces local i\n",
    "    dval2 = i  # refers to outer variable\n",
    "end\n",
    "\n",
    "dval2 # still can't refer to `i`"
   ]
  },
  {
   "cell_type": "markdown",
   "id": "949c9ff4",
   "metadata": {},
   "source": [
    "Similarly, for while loops"
   ]
  },
  {
   "cell_type": "code",
   "execution_count": null,
   "id": "474ac67d",
   "metadata": {
    "hide-output": false
   },
   "outputs": [],
   "source": [
    "val = 1.0\n",
    "tol = 0.002\n",
    "while val > tol\n",
    "    old = val\n",
    "    val = val / 2\n",
    "    difference = val - old\n",
    "end\n",
    "\n",
    "@show val;\n",
    "# @show difference fails, not in scope"
   ]
  },
  {
   "cell_type": "markdown",
   "id": "f2fe88d3",
   "metadata": {},
   "source": [
    "### A Quick Check for Scoping Design\n",
    "\n",
    "While we have argued against global variables as poor practice, you may have noticed that in Jupyter notebooks we have been using them throughout.\n",
    "\n",
    "Here, global variables are used in an interactive editor because they are convenient, and not because they are essential to the design of functions.\n",
    "\n",
    "A simple test of the difference is to take a segment of code and wrap it in a function, for example"
   ]
  },
  {
   "cell_type": "code",
   "execution_count": null,
   "id": "c8c0a024",
   "metadata": {
    "hide-output": false
   },
   "outputs": [],
   "source": [
    "x = 2.0\n",
    "f(y) = x + y\n",
    "z = f(4.0)\n",
    "\n",
    "for i in 1:3\n",
    "    z += i\n",
    "end\n",
    "\n",
    "println(\"z = $z\")"
   ]
  },
  {
   "cell_type": "markdown",
   "id": "11969a07",
   "metadata": {},
   "source": [
    "Here, the `x` and `z` are global variables, the function `f` refers to the global variable `x`, and the global variable `z` is modified in the `for` loop.\n",
    "\n",
    "However, you can simply wrap the entire code in a function"
   ]
  },
  {
   "cell_type": "code",
   "execution_count": null,
   "id": "4a2ef1f0",
   "metadata": {
    "hide-output": false
   },
   "outputs": [],
   "source": [
    "function wrapped()\n",
    "    x = 2.0\n",
    "    f(y) = x + y\n",
    "    z = f(4.0)\n",
    "\n",
    "    for i in 1:3\n",
    "        z += i\n",
    "    end\n",
    "\n",
    "    println(\"z = $z\")\n",
    "end\n",
    "\n",
    "wrapped()"
   ]
  },
  {
   "cell_type": "markdown",
   "id": "f6200d10",
   "metadata": {},
   "source": [
    "Now, there are no global variables.\n",
    "\n",
    "While it is convenient to skip wrapping our code throughout, in general you will want to wrap any performance sensitive code in this way."
   ]
  },
  {
   "cell_type": "markdown",
   "id": "1e92f9ac",
   "metadata": {},
   "source": [
    "## Exercises\n",
    "\n",
    "\n",
    "<a id='pyess-ex1'></a>"
   ]
  },
  {
   "cell_type": "markdown",
   "id": "49523859",
   "metadata": {},
   "source": [
    "### Exercise 1\n",
    "\n",
    "Part 1: Given two numeric arrays or tuples `x_vals` and `y_vals` of equal length, compute\n",
    "their inner product using `zip()`.\n",
    "\n",
    "Part 2: Using a comprehension, count the number of even numbers between 0 and 99.\n",
    "\n",
    "- Hint: `iseven` returns `true` for even numbers and `false` for odds.  \n",
    "\n",
    "\n",
    "Part 3: Using a comprehension, take `my_pairs = ((2, 5), (4, 2), (9, 8), (12, 10))` and count the number of pairs `(a, b)` such that both `a` and `b` are even.\n",
    "\n",
    "\n",
    "<a id='pyess-ex2'></a>"
   ]
  },
  {
   "cell_type": "markdown",
   "id": "38678410",
   "metadata": {},
   "source": [
    "### Exercise 2\n",
    "\n",
    "Consider the polynomial\n",
    "\n",
    "\n",
    "<a id='equation-polynom0'></a>\n",
    "$$\n",
    "p(x)\n",
    "= a_0 + a_1 x + a_2 x^2 + \\cdots a_n x^n\n",
    "= \\sum_{i=0}^n a_i x^i \\tag{3.1}\n",
    "$$\n",
    "\n",
    "Using `enumerate()` in your loop, write a function `p` such that `p(x, coeff)` computes the value in [(3.1)](#equation-polynom0) given a point `x` and an array of coefficients `coeff`.\n",
    "\n",
    "\n",
    "<a id='pyess-ex3'></a>"
   ]
  },
  {
   "cell_type": "markdown",
   "id": "1d8252c2",
   "metadata": {},
   "source": [
    "### Exercise 3\n",
    "\n",
    "Write a function that takes a string as an argument and returns the number of capital letters in the string.\n",
    "\n",
    "Hint: `uppercase(\"foo\")` returns `\"FOO\"`.\n",
    "\n",
    "\n",
    "<a id='pyess-ex4'></a>"
   ]
  },
  {
   "cell_type": "markdown",
   "id": "cbf14e44",
   "metadata": {},
   "source": [
    "### Exercise 4\n",
    "\n",
    "Write a function that takes two sequences `seq_a` and `seq_b` as arguments and\n",
    "returns `true` if every element in `seq_a` is also an element of `seq_b`, else\n",
    "`false`.\n",
    "\n",
    "- By “sequence” we mean an array, tuple or string.  \n",
    "\n",
    "\n",
    "\n",
    "<a id='pyess-ex5'></a>"
   ]
  },
  {
   "cell_type": "markdown",
   "id": "fefc9dbd",
   "metadata": {},
   "source": [
    "### Exercise 5\n",
    "\n",
    "The Julia libraries include functions for interpolation and approximation.\n",
    "\n",
    "Nevertheless, let’s write our own function approximation routine as an exercise.\n",
    "\n",
    "In particular, write a function `linapprox` that takes as arguments\n",
    "\n",
    "- A function `f` mapping some interval $ [a, b] $ into $ \\mathbb R $.  \n",
    "- two scalars `a` and `b` providing the limits of this interval.  \n",
    "- An integer `n` determining the number of grid points.  \n",
    "- A number `x` satisfying `a ≤ x ≤ b`.  \n",
    "\n",
    "\n",
    "and returns the [piecewise linear interpolation](https://en.wikipedia.org/wiki/Linear_interpolation) of `f` at `x`, based on `n` evenly spaced grid points `a = point[1] < point[2] < ... < point[n] = b`.\n",
    "\n",
    "Aim for clarity, not efficiency.\n",
    "\n",
    "Hint: use the function `range` to linearly space numbers."
   ]
  },
  {
   "cell_type": "markdown",
   "id": "71872c47",
   "metadata": {},
   "source": [
    "### Exercise 6\n",
    "\n",
    "The following data lists US cities and their populations.\n",
    "\n",
    "Copy this text into a text file called `us_cities.txt` and save it in your present working directory.\n",
    "\n",
    "- That is, save it in the location Julia returns when you call `pwd()`.  \n",
    "\n",
    "\n",
    "This can also be achieved by running the following Julia code:"
   ]
  },
  {
   "cell_type": "code",
   "execution_count": null,
   "id": "893d0089",
   "metadata": {
    "hide-output": false
   },
   "outputs": [],
   "source": [
    "open(\"us_cities.txt\", \"w\") do f\n",
    "  write(f,\n",
    "\"new york: 8244910\n",
    "los angeles: 3819702\n",
    "chicago: 2707120\n",
    "houston: 2145146\n",
    "philadelphia: 1536471\n",
    "phoenix: 1469471\n",
    "san antonio: 1359758\n",
    "san diego: 1326179\n",
    "dallas: 1223229\")\n",
    "end"
   ]
  },
  {
   "cell_type": "markdown",
   "id": "ac6b22f8",
   "metadata": {},
   "source": [
    "Write a program to calculate total population across these cities.\n",
    "\n",
    "Hints:\n",
    "\n",
    "- If `f` is a file type then `eachline(f)` provides an iterable that steps you through the lines in the file.  \n",
    "- `parse(Int, \"100\")` converts the string `\"100\"` into an integer.  \n",
    "\n",
    "\n",
    "\n",
    "<a id='pyess-ex7'></a>"
   ]
  },
  {
   "cell_type": "markdown",
   "id": "22e28738",
   "metadata": {},
   "source": [
    "### Exercise 7\n",
    "\n",
    "Redo Exercise 5 except\n",
    "\n",
    "1. Pass in a range instead of the `a, b,` and `n`.  Test with a range such as `nodes = -1.0:0.5:1.0`.  \n",
    "1. Instead of the `while` used in the solution to Exercise 5, find a better way to efficiently bracket the `x` in the nodes.  \n",
    "\n",
    "\n",
    "Hints:\n",
    "\n",
    "- Rather than the signature as `function linapprox(f, a, b, n, x)`, it should be called as `function linapprox(f, nodes, x)`.  \n",
    "- `step(nodes), length(nodes), nodes[1]`, and `nodes[end]` may be useful.  \n",
    "- Type `?÷` into jupyter to explore quotients from Euclidean division for more efficient bracketing.  "
   ]
  },
  {
   "cell_type": "markdown",
   "id": "f23dd2c6",
   "metadata": {},
   "source": [
    "## Solutions"
   ]
  },
  {
   "cell_type": "markdown",
   "id": "d667c20b",
   "metadata": {},
   "source": [
    "### Exercise 1\n",
    "\n",
    "Part 1 solution:\n",
    "\n",
    "Here’s one possible solution"
   ]
  },
  {
   "cell_type": "code",
   "execution_count": null,
   "id": "9abb9e9b",
   "metadata": {
    "hide-output": false
   },
   "outputs": [],
   "source": [
    "x_vals = [1, 2, 3]\n",
    "y_vals = [1, 1, 1]\n",
    "sum(x * y for (x, y) in zip(x_vals, y_vals))"
   ]
  },
  {
   "cell_type": "markdown",
   "id": "51baffd8",
   "metadata": {},
   "source": [
    "Part 2 solution:\n",
    "\n",
    "One solution is"
   ]
  },
  {
   "cell_type": "code",
   "execution_count": null,
   "id": "edb1715c",
   "metadata": {
    "hide-output": false
   },
   "outputs": [],
   "source": [
    "sum(iseven, 0:99)"
   ]
  },
  {
   "cell_type": "markdown",
   "id": "2987c7ea",
   "metadata": {},
   "source": [
    "Part 3 solution:\n",
    "\n",
    "Here’s one possibility"
   ]
  },
  {
   "cell_type": "code",
   "execution_count": null,
   "id": "0fc5f032",
   "metadata": {
    "hide-output": false
   },
   "outputs": [],
   "source": [
    "pairs = ((2, 5), (4, 2), (9, 8), (12, 10))\n",
    "sum(xy -> all(iseven, xy), pairs)"
   ]
  },
  {
   "cell_type": "markdown",
   "id": "8168aafd",
   "metadata": {},
   "source": [
    "### Exercise 2"
   ]
  },
  {
   "cell_type": "code",
   "execution_count": null,
   "id": "d3c00bee",
   "metadata": {
    "hide-output": false
   },
   "outputs": [],
   "source": [
    "p(x, coeff) = sum(a * x^(i-1) for (i, a) in enumerate(coeff))"
   ]
  },
  {
   "cell_type": "code",
   "execution_count": null,
   "id": "a73373b9",
   "metadata": {
    "hide-output": false
   },
   "outputs": [],
   "source": [
    "p(1, (2, 4))"
   ]
  },
  {
   "cell_type": "markdown",
   "id": "689aeef6",
   "metadata": {},
   "source": [
    "### Exercise 3\n",
    "\n",
    "Here’s one solutions:"
   ]
  },
  {
   "cell_type": "code",
   "execution_count": null,
   "id": "9050f066",
   "metadata": {
    "hide-output": false
   },
   "outputs": [],
   "source": [
    "function f_ex3(string)\n",
    "    count = 0\n",
    "    for letter in string\n",
    "        if (letter == uppercase(letter)) && isletter(letter)\n",
    "            count += 1\n",
    "        end\n",
    "    end\n",
    "    return count\n",
    "end\n",
    "\n",
    "f_ex3(\"The Rain in Spain\")"
   ]
  },
  {
   "cell_type": "markdown",
   "id": "3f574064",
   "metadata": {},
   "source": [
    "### Exercise 4\n",
    "\n",
    "Here’s one solutions:"
   ]
  },
  {
   "cell_type": "code",
   "execution_count": null,
   "id": "a516e89a",
   "metadata": {
    "hide-output": false
   },
   "outputs": [],
   "source": [
    "function f_ex4(seq_a, seq_b)\n",
    "    is_subset = true\n",
    "    for a in seq_a\n",
    "        if a ∉ seq_b\n",
    "            is_subset = false\n",
    "        end\n",
    "    end\n",
    "    return is_subset\n",
    "end\n",
    "\n",
    "# test\n",
    "println(f_ex4([1, 2], [1, 2, 3]))\n",
    "println(f_ex4([1, 2, 3], [1, 2]))"
   ]
  },
  {
   "cell_type": "markdown",
   "id": "926bf31f",
   "metadata": {},
   "source": [
    "if we use the Set data type then the solution is easier"
   ]
  },
  {
   "cell_type": "code",
   "execution_count": null,
   "id": "9f073a69",
   "metadata": {
    "hide-output": false
   },
   "outputs": [],
   "source": [
    "f_ex4_2(seq_a, seq_b) = Set(seq_a) ⊆ Set(seq_b) # \\subseteq (⊆) is unicode for `issubset`\n",
    "\n",
    "println(f_ex4_2([1, 2], [1, 2, 3]))\n",
    "println(f_ex4_2([1, 2, 3], [1, 2]))"
   ]
  },
  {
   "cell_type": "markdown",
   "id": "a5dbac15",
   "metadata": {},
   "source": [
    "### Exercise 5"
   ]
  },
  {
   "cell_type": "code",
   "execution_count": null,
   "id": "494bc7a5",
   "metadata": {
    "hide-output": false
   },
   "outputs": [],
   "source": [
    "function linapprox(f, a, b, n, x)\n",
    "    # evaluates the piecewise linear interpolant of f at x,\n",
    "    # on the interval [a, b], with n evenly spaced grid points.\n",
    "\n",
    "    length_of_interval = b - a\n",
    "    num_subintervals = n - 1\n",
    "    step = length_of_interval / num_subintervals\n",
    "\n",
    "    # find first grid point larger than x\n",
    "    point = a\n",
    "    while point ≤ x\n",
    "        point += step\n",
    "    end\n",
    "\n",
    "    # x must lie between the gridpoints (point - step) and point\n",
    "    u, v = point - step, point\n",
    "\n",
    "    return f(u) + (x - u) * (f(v) - f(u)) / (v - u)\n",
    "end"
   ]
  },
  {
   "cell_type": "markdown",
   "id": "cd4f7764",
   "metadata": {},
   "source": [
    "Let’s test it"
   ]
  },
  {
   "cell_type": "code",
   "execution_count": null,
   "id": "fba42562",
   "metadata": {
    "hide-output": false
   },
   "outputs": [],
   "source": [
    "f_ex5(x) = x^2\n",
    "g_ex5(x) = linapprox(f_ex5, -1, 1, 3, x)"
   ]
  },
  {
   "cell_type": "code",
   "execution_count": null,
   "id": "5c5ee8d2",
   "metadata": {
    "hide-output": false
   },
   "outputs": [],
   "source": [
    "x_grid = range(-1.0, 1.0, length = 100)\n",
    "y_vals = f_ex5.(x_grid)\n",
    "y = g_ex5.(x_grid)\n",
    "plot(x_grid, y_vals, label = \"true\")\n",
    "plot!(x_grid, y, label = \"approximation\")"
   ]
  },
  {
   "cell_type": "markdown",
   "id": "9769ee4e",
   "metadata": {},
   "source": [
    "### Exercise 6"
   ]
  },
  {
   "cell_type": "code",
   "execution_count": null,
   "id": "d8fd22d3",
   "metadata": {
    "hide-output": false
   },
   "outputs": [],
   "source": [
    "f_ex6 = open(\"us_cities.txt\", \"r\")\n",
    "total_pop = 0\n",
    "for line in eachline(f_ex6)\n",
    "    city, population = split(line, ':')  # tuple unpacking\n",
    "    total_pop += parse(Int, population)\n",
    "end\n",
    "close(f_ex6)\n",
    "println(\"Total population = $total_pop\")"
   ]
  }
 ],
 "metadata": {
  "date": 1673324270.1625693,
  "filename": "julia_essentials.md",
  "kernelspec": {
   "display_name": "Julia",
   "language": "julia",
   "name": "julia-1.8"
  },
  "title": "Julia Essentials"
 },
 "nbformat": 4,
 "nbformat_minor": 5
}