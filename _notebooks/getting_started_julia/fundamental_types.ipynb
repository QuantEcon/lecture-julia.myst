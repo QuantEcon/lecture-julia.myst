{
 "cells": [
  {
   "cell_type": "markdown",
   "id": "c1f0236f",
   "metadata": {},
   "source": [
    "\n",
    "<a id='fundamental-types'></a>"
   ]
  },
  {
   "cell_type": "markdown",
   "id": "f57f50dd",
   "metadata": {},
   "source": [
    "# Arrays, Tuples, Ranges, and Other Fundamental Types"
   ]
  },
  {
   "cell_type": "markdown",
   "id": "458019fa",
   "metadata": {},
   "source": [
    "## Contents\n",
    "\n",
    "- [Arrays, Tuples, Ranges, and Other Fundamental Types](#Arrays,-Tuples,-Ranges,-and-Other-Fundamental-Types)  \n",
    "  - [Overview](#Overview)  \n",
    "  - [Array Basics](#Array-Basics)  \n",
    "  - [Operations on Arrays](#Operations-on-Arrays)  \n",
    "  - [Ranges](#Ranges)  \n",
    "  - [Tuples and Named Tuples](#Tuples-and-Named-Tuples)  \n",
    "  - [Nothing, Missing, and Unions](#Nothing,-Missing,-and-Unions)  \n",
    "  - [Exercises](#Exercises)  \n",
    "  - [Solutions](#Solutions)  "
   ]
  },
  {
   "cell_type": "markdown",
   "id": "2cfd679f",
   "metadata": {},
   "source": [
    "> “Let’s be clear: the work of science has nothing whatever to do with consensus.\n",
    "> Consensus is the business of politics. Science, on the contrary, requires only\n",
    "> one investigator who happens to be right, which means that he or she has\n",
    "> results that are verifiable by reference to the real world. In science\n",
    "> consensus is irrelevant. What is relevant is reproducible results.” – Michael Crichton"
   ]
  },
  {
   "cell_type": "markdown",
   "id": "9a61c391",
   "metadata": {},
   "source": [
    "## Overview\n",
    "\n",
    "In Julia, arrays and tuples are the most important data type for working with numerical data.\n",
    "\n",
    "In this lecture we give more details on\n",
    "\n",
    "- creating and manipulating Julia arrays  \n",
    "- fundamental array processing operations  \n",
    "- basic matrix algebra  \n",
    "- tuples and named tuples  \n",
    "- ranges  \n",
    "- nothing, missing, and unions  "
   ]
  },
  {
   "cell_type": "code",
   "execution_count": null,
   "id": "4d879492",
   "metadata": {
    "hide-output": false
   },
   "outputs": [],
   "source": [
    "using LinearAlgebra, Statistics"
   ]
  },
  {
   "cell_type": "markdown",
   "id": "49b72038",
   "metadata": {},
   "source": [
    "## Array Basics\n",
    "\n",
    "([See multi-dimensional arrays documentation](https://docs.julialang.org/en/v1/manual/arrays/))\n",
    "\n",
    "Since it is one of the most important types, we will start with arrays.\n",
    "\n",
    "Later, we will see how arrays (and all other types in Julia) are handled in a generic and extensible way."
   ]
  },
  {
   "cell_type": "markdown",
   "id": "f436987c",
   "metadata": {},
   "source": [
    "### Shape and Dimension\n",
    "\n",
    "We’ve already seen some Julia arrays in action"
   ]
  },
  {
   "cell_type": "code",
   "execution_count": null,
   "id": "9ed160dc",
   "metadata": {
    "hide-output": false
   },
   "outputs": [],
   "source": [
    "a = [10, 20, 30]"
   ]
  },
  {
   "cell_type": "code",
   "execution_count": null,
   "id": "efd53812",
   "metadata": {
    "hide-output": false
   },
   "outputs": [],
   "source": [
    "a = [1.0, 2.0, 3.0]"
   ]
  },
  {
   "cell_type": "markdown",
   "id": "12aa4278",
   "metadata": {},
   "source": [
    "The output tells us that the arrays are of types `Array{Int64,1}` and `Array{Float64,1}` respectively.\n",
    "\n",
    "Here `Int64` and `Float64` are types for the elements inferred by the compiler.\n",
    "\n",
    "We’ll talk more about types later.\n",
    "\n",
    "The `1` in `Array{Int64,1}` and `Array{Any,1}` indicates that the array is\n",
    "one dimensional (i.e., a `Vector`).\n",
    "\n",
    "This is the default for many Julia functions that create arrays"
   ]
  },
  {
   "cell_type": "code",
   "execution_count": null,
   "id": "009c5e2c",
   "metadata": {
    "hide-output": false
   },
   "outputs": [],
   "source": [
    "typeof(randn(100))"
   ]
  },
  {
   "cell_type": "markdown",
   "id": "5f5cc5f9",
   "metadata": {},
   "source": [
    "In Julia, one dimensional vectors are best interpreted as column vectors, which we will see when we take transposes.\n",
    "\n",
    "We can check the dimensions of `a` using `size()` and `ndims()`\n",
    "functions"
   ]
  },
  {
   "cell_type": "code",
   "execution_count": null,
   "id": "8ce3c142",
   "metadata": {
    "hide-output": false
   },
   "outputs": [],
   "source": [
    "ndims(a)"
   ]
  },
  {
   "cell_type": "code",
   "execution_count": null,
   "id": "4b68cc53",
   "metadata": {
    "hide-output": false
   },
   "outputs": [],
   "source": [
    "size(a)"
   ]
  },
  {
   "cell_type": "markdown",
   "id": "29a7e2dd",
   "metadata": {},
   "source": [
    "The syntax `(3,)` displays a tuple containing one element – the size along the one dimension that exists."
   ]
  },
  {
   "cell_type": "markdown",
   "id": "b617f6ea",
   "metadata": {},
   "source": [
    "#### Array vs Vector vs Matrix\n",
    "\n",
    "In Julia, `Vector` and `Matrix` are just aliases for one- and two-dimensional arrays\n",
    "respectively"
   ]
  },
  {
   "cell_type": "code",
   "execution_count": null,
   "id": "8d4cb83e",
   "metadata": {
    "hide-output": false
   },
   "outputs": [],
   "source": [
    "Array{Int64, 1} == Vector{Int64}\n",
    "Array{Int64, 2} == Matrix{Int64}"
   ]
  },
  {
   "cell_type": "markdown",
   "id": "b81e43d8",
   "metadata": {},
   "source": [
    "Vector construction with `,` is then interpreted as a column vector.\n",
    "\n",
    "To see this, we can create a column vector and row vector more directly"
   ]
  },
  {
   "cell_type": "code",
   "execution_count": null,
   "id": "7a8eb3bb",
   "metadata": {
    "hide-output": false
   },
   "outputs": [],
   "source": [
    "[1, 2, 3] == [1; 2; 3]  # both column vectors"
   ]
  },
  {
   "cell_type": "code",
   "execution_count": null,
   "id": "b71d5955",
   "metadata": {
    "hide-output": false
   },
   "outputs": [],
   "source": [
    "[1 2 3]  # a row vector is 2-dimensional"
   ]
  },
  {
   "cell_type": "markdown",
   "id": "5c6a5b96",
   "metadata": {},
   "source": [
    "As we’ve seen, in Julia we have both\n",
    "\n",
    "- one-dimensional arrays (i.e., flat arrays)  \n",
    "- arrays of size `(1, n)` or `(n, 1)` that represent row and column vectors respectively  \n",
    "\n",
    "\n",
    "Why do we need both?\n",
    "\n",
    "On one hand, dimension matters for matrix algebra.\n",
    "\n",
    "- Multiplying by a row vector is different to multiplying by a column vector.  \n",
    "\n",
    "\n",
    "On the other, we use arrays in many settings that don’t involve matrix algebra.\n",
    "\n",
    "In such cases, we don’t care about the distinction between row and column vectors.\n",
    "\n",
    "This is why many Julia functions return flat arrays by default.\n",
    "\n",
    "\n",
    "<a id='creating-arrays'></a>"
   ]
  },
  {
   "cell_type": "markdown",
   "id": "27e44f91",
   "metadata": {},
   "source": [
    "### Creating Arrays"
   ]
  },
  {
   "cell_type": "markdown",
   "id": "81c0fdd5",
   "metadata": {},
   "source": [
    "#### Functions that Create Arrays\n",
    "\n",
    "We’ve already seen some functions for creating a vector filled with `0.0`"
   ]
  },
  {
   "cell_type": "code",
   "execution_count": null,
   "id": "e10d15a4",
   "metadata": {
    "hide-output": false
   },
   "outputs": [],
   "source": [
    "zeros(3)"
   ]
  },
  {
   "cell_type": "markdown",
   "id": "4402696c",
   "metadata": {},
   "source": [
    "This generalizes to matrices and higher dimensional arrays"
   ]
  },
  {
   "cell_type": "code",
   "execution_count": null,
   "id": "488eb803",
   "metadata": {
    "hide-output": false
   },
   "outputs": [],
   "source": [
    "zeros(2, 2)"
   ]
  },
  {
   "cell_type": "markdown",
   "id": "7bd7d8ee",
   "metadata": {},
   "source": [
    "To return an array filled with a single value, use `fill`"
   ]
  },
  {
   "cell_type": "code",
   "execution_count": null,
   "id": "a3e185e1",
   "metadata": {
    "hide-output": false
   },
   "outputs": [],
   "source": [
    "fill(5.0, 2, 2)"
   ]
  },
  {
   "cell_type": "markdown",
   "id": "5c5b1d62",
   "metadata": {},
   "source": [
    "Finally, you can create an empty array using the `Array()` constructor"
   ]
  },
  {
   "cell_type": "code",
   "execution_count": null,
   "id": "f64e5b8c",
   "metadata": {
    "hide-output": false
   },
   "outputs": [],
   "source": [
    "x = Array{Float64}(undef, 2, 2)"
   ]
  },
  {
   "cell_type": "markdown",
   "id": "9ddcf4b5",
   "metadata": {},
   "source": [
    "The printed values you see here are just garbage values.\n",
    "\n",
    "(the existing contents of the allocated memory slots being interpreted as 64 bit floats)\n",
    "\n",
    "If you need more control over the types, fill with a non-floating point"
   ]
  },
  {
   "cell_type": "code",
   "execution_count": null,
   "id": "eeff010e",
   "metadata": {
    "hide-output": false
   },
   "outputs": [],
   "source": [
    "fill(0, 2, 2)  # fills with 0, not 0.0"
   ]
  },
  {
   "cell_type": "markdown",
   "id": "3323d66d",
   "metadata": {},
   "source": [
    "Or fill with a boolean type"
   ]
  },
  {
   "cell_type": "code",
   "execution_count": null,
   "id": "3af019a2",
   "metadata": {
    "hide-output": false
   },
   "outputs": [],
   "source": [
    "fill(false, 2, 2)  # produces a boolean matrix"
   ]
  },
  {
   "cell_type": "markdown",
   "id": "80b4a495",
   "metadata": {},
   "source": [
    "#### Creating Arrays from Existing Arrays\n",
    "\n",
    "For the most part, we will avoid directly specifying the types of arrays, and let the compiler deduce the optimal types on its own.\n",
    "\n",
    "The reasons for this, discussed in more detail in [this lecture](https://julia.quantecon.org/../more_julia/generic_programming.html), are to ensure both clarity and generality.\n",
    "\n",
    "One place this can be inconvenient is when we need to create an array based on an existing array.\n",
    "\n",
    "First, note that assignment in Julia binds a name to a value, but does not make a copy of that type"
   ]
  },
  {
   "cell_type": "code",
   "execution_count": null,
   "id": "c27c5a90",
   "metadata": {
    "hide-output": false
   },
   "outputs": [],
   "source": [
    "x = [1, 2, 3]\n",
    "y = x\n",
    "y[1] = 2\n",
    "x"
   ]
  },
  {
   "cell_type": "markdown",
   "id": "42734fb1",
   "metadata": {},
   "source": [
    "In the above, `y = x` simply creates a new named binding called `y` which refers to whatever `x` currently binds to.\n",
    "\n",
    "To copy the data, you need to be more explicit"
   ]
  },
  {
   "cell_type": "code",
   "execution_count": null,
   "id": "723e0516",
   "metadata": {
    "hide-output": false
   },
   "outputs": [],
   "source": [
    "x = [1, 2, 3]\n",
    "y = copy(x)\n",
    "y[1] = 2\n",
    "x"
   ]
  },
  {
   "cell_type": "markdown",
   "id": "bace7413",
   "metadata": {},
   "source": [
    "However, rather than making a copy of `x`, you may want to just have a similarly sized array"
   ]
  },
  {
   "cell_type": "code",
   "execution_count": null,
   "id": "8f4f1dc4",
   "metadata": {
    "hide-output": false
   },
   "outputs": [],
   "source": [
    "x = [1, 2, 3]\n",
    "y = similar(x)\n",
    "y"
   ]
  },
  {
   "cell_type": "markdown",
   "id": "8b88327a",
   "metadata": {},
   "source": [
    "We can also use `similar` to pre-allocate a vector with a different size, but the same shape"
   ]
  },
  {
   "cell_type": "code",
   "execution_count": null,
   "id": "cb0a2671",
   "metadata": {
    "hide-output": false
   },
   "outputs": [],
   "source": [
    "x = [1, 2, 3]\n",
    "y = similar(x, 4)  # make a vector of length 4"
   ]
  },
  {
   "cell_type": "markdown",
   "id": "adf78498",
   "metadata": {},
   "source": [
    "Which generalizes to higher dimensions"
   ]
  },
  {
   "cell_type": "code",
   "execution_count": null,
   "id": "174b95ef",
   "metadata": {
    "hide-output": false
   },
   "outputs": [],
   "source": [
    "x = [1, 2, 3]\n",
    "y = similar(x, 2, 2)  # make a 2x2 matrix"
   ]
  },
  {
   "cell_type": "markdown",
   "id": "d2b53712",
   "metadata": {},
   "source": [
    "#### Manual Array Definitions\n",
    "\n",
    "As we’ve seen, you can create one dimensional arrays from manually specified data like so"
   ]
  },
  {
   "cell_type": "code",
   "execution_count": null,
   "id": "f93332cb",
   "metadata": {
    "hide-output": false
   },
   "outputs": [],
   "source": [
    "a = [10, 20, 30, 40]"
   ]
  },
  {
   "cell_type": "markdown",
   "id": "42fd58be",
   "metadata": {},
   "source": [
    "In two dimensions we can proceed as follows"
   ]
  },
  {
   "cell_type": "code",
   "execution_count": null,
   "id": "9682f792",
   "metadata": {
    "hide-output": false
   },
   "outputs": [],
   "source": [
    "a = [10 20 30 40]  # two dimensional, shape is 1 x n"
   ]
  },
  {
   "cell_type": "code",
   "execution_count": null,
   "id": "2098a54a",
   "metadata": {
    "hide-output": false
   },
   "outputs": [],
   "source": [
    "ndims(a)"
   ]
  },
  {
   "cell_type": "code",
   "execution_count": null,
   "id": "dd98fae1",
   "metadata": {
    "hide-output": false
   },
   "outputs": [],
   "source": [
    "a = [10 20; 30 40]  # 2 x 2"
   ]
  },
  {
   "cell_type": "markdown",
   "id": "c6f259ed",
   "metadata": {},
   "source": [
    "You might then assume that `a = [10; 20; 30; 40]` creates a two dimensional column vector but this isn’t the case."
   ]
  },
  {
   "cell_type": "code",
   "execution_count": null,
   "id": "41c75b3e",
   "metadata": {
    "hide-output": false
   },
   "outputs": [],
   "source": [
    "a = [10; 20; 30; 40]"
   ]
  },
  {
   "cell_type": "code",
   "execution_count": null,
   "id": "1dd28f6c",
   "metadata": {
    "hide-output": false
   },
   "outputs": [],
   "source": [
    "ndims(a)"
   ]
  },
  {
   "cell_type": "markdown",
   "id": "74d635c2",
   "metadata": {},
   "source": [
    "Instead transpose the matrix (or adjoint if complex)"
   ]
  },
  {
   "cell_type": "code",
   "execution_count": null,
   "id": "096c4889",
   "metadata": {
    "hide-output": false
   },
   "outputs": [],
   "source": [
    "a = [10 20 30 40]'"
   ]
  },
  {
   "cell_type": "code",
   "execution_count": null,
   "id": "c40c0102",
   "metadata": {
    "hide-output": false
   },
   "outputs": [],
   "source": [
    "ndims(a)"
   ]
  },
  {
   "cell_type": "markdown",
   "id": "6ba57faf",
   "metadata": {},
   "source": [
    "### Array Indexing\n",
    "\n",
    "We’ve already seen the basics of array indexing"
   ]
  },
  {
   "cell_type": "code",
   "execution_count": null,
   "id": "29dcb62a",
   "metadata": {
    "hide-output": false
   },
   "outputs": [],
   "source": [
    "a = [10 20 30 40]\n",
    "a[end-1]"
   ]
  },
  {
   "cell_type": "code",
   "execution_count": null,
   "id": "15d5b045",
   "metadata": {
    "hide-output": false
   },
   "outputs": [],
   "source": [
    "a[1:3]"
   ]
  },
  {
   "cell_type": "markdown",
   "id": "e2a05aea",
   "metadata": {},
   "source": [
    "For 2D arrays the index syntax is straightforward"
   ]
  },
  {
   "cell_type": "code",
   "execution_count": null,
   "id": "ad6ccf4c",
   "metadata": {
    "hide-output": false
   },
   "outputs": [],
   "source": [
    "a = randn(2, 2)\n",
    "a[1, 1]"
   ]
  },
  {
   "cell_type": "code",
   "execution_count": null,
   "id": "87bb8df8",
   "metadata": {
    "hide-output": false
   },
   "outputs": [],
   "source": [
    "a[1, :]  # first row"
   ]
  },
  {
   "cell_type": "code",
   "execution_count": null,
   "id": "654318a3",
   "metadata": {
    "hide-output": false
   },
   "outputs": [],
   "source": [
    "a[:, 1]  # first column"
   ]
  },
  {
   "cell_type": "markdown",
   "id": "797f8f3a",
   "metadata": {},
   "source": [
    "Booleans can be used to extract elements"
   ]
  },
  {
   "cell_type": "code",
   "execution_count": null,
   "id": "99e91fee",
   "metadata": {
    "hide-output": false
   },
   "outputs": [],
   "source": [
    "a = randn(2, 2)"
   ]
  },
  {
   "cell_type": "code",
   "execution_count": null,
   "id": "db595328",
   "metadata": {
    "hide-output": false
   },
   "outputs": [],
   "source": [
    "b = [true false; false true]"
   ]
  },
  {
   "cell_type": "code",
   "execution_count": null,
   "id": "70bbadfa",
   "metadata": {
    "hide-output": false
   },
   "outputs": [],
   "source": [
    "a[b]"
   ]
  },
  {
   "cell_type": "markdown",
   "id": "85a0cb4d",
   "metadata": {},
   "source": [
    "This is useful for conditional extraction, as we’ll see below.\n",
    "\n",
    "An aside: some or all elements of an array can be set equal to one number using slice notation."
   ]
  },
  {
   "cell_type": "code",
   "execution_count": null,
   "id": "e480242c",
   "metadata": {
    "hide-output": false
   },
   "outputs": [],
   "source": [
    "a = zeros(4)"
   ]
  },
  {
   "cell_type": "code",
   "execution_count": null,
   "id": "e111c770",
   "metadata": {
    "hide-output": false
   },
   "outputs": [],
   "source": [
    "a[2:end] .= 42"
   ]
  },
  {
   "cell_type": "code",
   "execution_count": null,
   "id": "0f4dc3c3",
   "metadata": {
    "hide-output": false
   },
   "outputs": [],
   "source": [
    "a"
   ]
  },
  {
   "cell_type": "markdown",
   "id": "7a4ac453",
   "metadata": {},
   "source": [
    "### Views and Slices\n",
    "\n",
    "Using the `:` notation provides a slice of an array, copying the sub-array to a new array with a similar type."
   ]
  },
  {
   "cell_type": "code",
   "execution_count": null,
   "id": "dd09732a",
   "metadata": {
    "hide-output": false
   },
   "outputs": [],
   "source": [
    "a = [1 2; 3 4]\n",
    "b = a[:, 2]\n",
    "@show b\n",
    "a[:, 2] = [4, 5] # modify a\n",
    "@show a\n",
    "@show b;"
   ]
  },
  {
   "cell_type": "markdown",
   "id": "ea277fa3",
   "metadata": {},
   "source": [
    "A **view** on the other hand does not copy the value"
   ]
  },
  {
   "cell_type": "code",
   "execution_count": null,
   "id": "a72ba812",
   "metadata": {
    "hide-output": false
   },
   "outputs": [],
   "source": [
    "a = [1 2; 3 4]\n",
    "@views b = a[:, 2]\n",
    "@show b\n",
    "a[:, 2] = [4, 5]\n",
    "@show a\n",
    "@show b;"
   ]
  },
  {
   "cell_type": "markdown",
   "id": "e6c788b3",
   "metadata": {},
   "source": [
    "Note that the only difference is the `@views` macro, which will replace any slices with views in the expression.\n",
    "\n",
    "An alternative is to call the `view` function directly – though it is generally discouraged since it is a step away from the math."
   ]
  },
  {
   "cell_type": "code",
   "execution_count": null,
   "id": "6f508ca3",
   "metadata": {
    "hide-output": false
   },
   "outputs": [],
   "source": [
    "@views b = a[:, 2]\n",
    "view(a, :, 2) == b"
   ]
  },
  {
   "cell_type": "markdown",
   "id": "c174a3c7",
   "metadata": {},
   "source": [
    "As with most programming in Julia, it is best to avoid prematurely assuming that `@views` will have a significant impact on performance, and stress code clarity above all else.\n",
    "\n",
    "Another important lesson about `@views` is that they **are not** normal, dense arrays."
   ]
  },
  {
   "cell_type": "code",
   "execution_count": null,
   "id": "9c431b03",
   "metadata": {
    "hide-output": false
   },
   "outputs": [],
   "source": [
    "a = [1 2; 3 4]\n",
    "b_slice = a[:, 2]\n",
    "@show typeof(b_slice)\n",
    "@show typeof(a)\n",
    "@views b = a[:, 2]\n",
    "@show typeof(b);"
   ]
  },
  {
   "cell_type": "markdown",
   "id": "881ad5a4",
   "metadata": {},
   "source": [
    "The type of `b` is a good example of how types are not as they may seem.\n",
    "\n",
    "Similarly"
   ]
  },
  {
   "cell_type": "code",
   "execution_count": null,
   "id": "1d5133fa",
   "metadata": {
    "hide-output": false
   },
   "outputs": [],
   "source": [
    "a = [1 2; 3 4]\n",
    "b = a'   # transpose\n",
    "typeof(b)"
   ]
  },
  {
   "cell_type": "markdown",
   "id": "2abd14ef",
   "metadata": {},
   "source": [
    "To copy into a dense array"
   ]
  },
  {
   "cell_type": "code",
   "execution_count": null,
   "id": "5c8f32cb",
   "metadata": {
    "hide-output": false
   },
   "outputs": [],
   "source": [
    "a = [1 2; 3 4]\n",
    "b = a' # transpose\n",
    "c = Matrix(b)  # convert to matrix\n",
    "d = collect(b) # also `collect` works on any iterable\n",
    "c == d"
   ]
  },
  {
   "cell_type": "markdown",
   "id": "f13f5e56",
   "metadata": {},
   "source": [
    "### Special Matrices\n",
    "\n",
    "As we saw with `transpose`, sometimes types that look like matrices are not stored as a dense array.\n",
    "\n",
    "As an example, consider creating a diagonal matrix"
   ]
  },
  {
   "cell_type": "code",
   "execution_count": null,
   "id": "8d83eca5",
   "metadata": {
    "hide-output": false
   },
   "outputs": [],
   "source": [
    "d = [1.0, 2.0]\n",
    "a = Diagonal(d)"
   ]
  },
  {
   "cell_type": "markdown",
   "id": "20448433",
   "metadata": {},
   "source": [
    "As you can see, the type is `2×2 Diagonal{Float64,Array{Float64,1}}`, which is not a 2-dimensional array.\n",
    "\n",
    "The reasons for this are both efficiency in storage, as well as efficiency in arithmetic and matrix operations.\n",
    "\n",
    "In every important sense, matrix types such as `Diagonal` are just as much a “matrix” as the dense matrices we have using (see the [introduction to types lecture](https://julia.quantecon.org/introduction_to_types.html) for more)"
   ]
  },
  {
   "cell_type": "code",
   "execution_count": null,
   "id": "9376e534",
   "metadata": {
    "hide-output": false
   },
   "outputs": [],
   "source": [
    "@show 2a\n",
    "b = rand(2,2)\n",
    "@show b * a;"
   ]
  },
  {
   "cell_type": "markdown",
   "id": "1efe7c5b",
   "metadata": {},
   "source": [
    "Another example is in the construction of an identity matrix, where a naive implementation is"
   ]
  },
  {
   "cell_type": "code",
   "execution_count": null,
   "id": "f3eb2b3a",
   "metadata": {
    "hide-output": false
   },
   "outputs": [],
   "source": [
    "b = [1.0 2.0; 3.0 4.0]\n",
    "b - Diagonal([1.0, 1.0])  # poor style, inefficient code"
   ]
  },
  {
   "cell_type": "markdown",
   "id": "41e3e3d6",
   "metadata": {},
   "source": [
    "Whereas you should instead use"
   ]
  },
  {
   "cell_type": "code",
   "execution_count": null,
   "id": "73ee1941",
   "metadata": {
    "hide-output": false
   },
   "outputs": [],
   "source": [
    "b = [1.0 2.0; 3.0 4.0]\n",
    "b - I  # good style, and note the lack of dimensions of I"
   ]
  },
  {
   "cell_type": "markdown",
   "id": "6aa3b382",
   "metadata": {},
   "source": [
    "While the implementation of `I` is a little abstract to go into at this point, a hint is:"
   ]
  },
  {
   "cell_type": "code",
   "execution_count": null,
   "id": "e18f2a83",
   "metadata": {
    "hide-output": false
   },
   "outputs": [],
   "source": [
    "typeof(I)"
   ]
  },
  {
   "cell_type": "markdown",
   "id": "cf163a59",
   "metadata": {},
   "source": [
    "This is a `UniformScaling` type rather than an identity matrix, making it much more powerful and general."
   ]
  },
  {
   "cell_type": "markdown",
   "id": "e443ce8c",
   "metadata": {},
   "source": [
    "### Assignment and Passing Arrays\n",
    "\n",
    "As discussed above, in Julia, the left hand side of an assignment is a “binding” or a label to a value."
   ]
  },
  {
   "cell_type": "code",
   "execution_count": null,
   "id": "d569a78f",
   "metadata": {
    "hide-output": false
   },
   "outputs": [],
   "source": [
    "x = [1 2 3]\n",
    "y = x  # name `y` binds to whatever value `x` bound to"
   ]
  },
  {
   "cell_type": "markdown",
   "id": "1fd992e5",
   "metadata": {},
   "source": [
    "The consequence of this, is that you can re-bind that name."
   ]
  },
  {
   "cell_type": "code",
   "execution_count": null,
   "id": "34c55971",
   "metadata": {
    "hide-output": false
   },
   "outputs": [],
   "source": [
    "x = [1 2 3]\n",
    "y = x        # name `y` binds to whatever `x` bound to\n",
    "z = [2 3 4]\n",
    "y = z        # only changes name binding, not value!\n",
    "@show (x, y, z);"
   ]
  },
  {
   "cell_type": "markdown",
   "id": "4ac6034b",
   "metadata": {},
   "source": [
    "What this means is that if `a` is an array and we set `b = a` then `a` and `b` point to exactly the same data.\n",
    "\n",
    "In the above, suppose you had meant to change the value of `x` to the values of `y`, you need to assign the values rather than the name."
   ]
  },
  {
   "cell_type": "code",
   "execution_count": null,
   "id": "44c915e2",
   "metadata": {
    "hide-output": false
   },
   "outputs": [],
   "source": [
    "x = [1 2 3]\n",
    "y = x       # name `y` binds to whatever `x` bound to\n",
    "z = [2 3 4]\n",
    "y .= z      # now dispatches the assignment of each element\n",
    "@show (x, y, z);"
   ]
  },
  {
   "cell_type": "markdown",
   "id": "f9c0419e",
   "metadata": {},
   "source": [
    "Alternatively, you could have used `y[:] = z`.\n",
    "\n",
    "This applies to in-place functions as well.\n",
    "\n",
    "First, define a simple function for a linear map"
   ]
  },
  {
   "cell_type": "code",
   "execution_count": null,
   "id": "aba0a11c",
   "metadata": {
    "hide-output": false
   },
   "outputs": [],
   "source": [
    "function f(x)\n",
    "    return [1 2; 3 4] * x  # matrix * column vector\n",
    "end\n",
    "\n",
    "val = [1, 2]\n",
    "f(val)"
   ]
  },
  {
   "cell_type": "markdown",
   "id": "c5c1172f",
   "metadata": {},
   "source": [
    "In general, these “out-of-place” functions are preferred to “in-place” functions, which modify the arguments."
   ]
  },
  {
   "cell_type": "code",
   "execution_count": null,
   "id": "00c4053c",
   "metadata": {
    "hide-output": false
   },
   "outputs": [],
   "source": [
    "function f(x)\n",
    "    return [1 2; 3 4] * x # matrix * column vector\n",
    "end\n",
    "\n",
    "val = [1, 2]\n",
    "y = similar(val)\n",
    "\n",
    "function f!(out, x)\n",
    "    out .= [1 2; 3 4] * x\n",
    "end\n",
    "\n",
    "f!(y, val)\n",
    "y"
   ]
  },
  {
   "cell_type": "markdown",
   "id": "cba2007b",
   "metadata": {},
   "source": [
    "This demonstrates a key convention in Julia: functions which modify any of the arguments have the name ending with `!` (e.g. `push!`).\n",
    "\n",
    "We can also see a common mistake, where instead of modifying the arguments, the name binding is swapped"
   ]
  },
  {
   "cell_type": "code",
   "execution_count": null,
   "id": "d9a9060c",
   "metadata": {
    "hide-output": false
   },
   "outputs": [],
   "source": [
    "function f(x)\n",
    "    return [1 2; 3 4] * x  # matrix * column vector\n",
    "end\n",
    "\n",
    "val = [1, 2]\n",
    "y = similar(val)\n",
    "\n",
    "function f!(out, x)\n",
    "    out = [1 2; 3 4] * x   # MISTAKE! Should be .= or [:]\n",
    "end\n",
    "f!(y, val)\n",
    "y"
   ]
  },
  {
   "cell_type": "markdown",
   "id": "64684dce",
   "metadata": {},
   "source": [
    "The frequency of making this mistake is one of the reasons to avoid in-place functions, unless proven to be necessary by benchmarking."
   ]
  },
  {
   "cell_type": "markdown",
   "id": "233d2c83",
   "metadata": {},
   "source": [
    "### In-place and Immutable Types\n",
    "\n",
    "Note that scalars are always immutable, such that"
   ]
  },
  {
   "cell_type": "code",
   "execution_count": null,
   "id": "7aa7701f",
   "metadata": {
    "hide-output": false
   },
   "outputs": [],
   "source": [
    "y = [1 2]\n",
    "y .-= 2    # y .= y .- 2, no problem\n",
    "\n",
    "x = 5\n",
    "# x .-= 2  # Fails!\n",
    "x = x - 2  # subtle difference - creates a new value and rebinds the variable"
   ]
  },
  {
   "cell_type": "markdown",
   "id": "6bda43a0",
   "metadata": {},
   "source": [
    "In particular, there is no way to pass any immutable into a function and have it modified"
   ]
  },
  {
   "cell_type": "code",
   "execution_count": null,
   "id": "425c03ed",
   "metadata": {
    "hide-output": false
   },
   "outputs": [],
   "source": [
    "x = 2\n",
    "\n",
    "function f(x)\n",
    "    x = 3     # MISTAKE! does not modify x, creates a new value!\n",
    "end\n",
    "\n",
    "f(x)          # cannot modify immutables in place\n",
    "@show x;"
   ]
  },
  {
   "cell_type": "markdown",
   "id": "7c230272",
   "metadata": {},
   "source": [
    "This is also true for other immutable types such as tuples, as well as some vector types"
   ]
  },
  {
   "cell_type": "code",
   "execution_count": null,
   "id": "ac8909c9",
   "metadata": {
    "hide-output": false
   },
   "outputs": [],
   "source": [
    "using StaticArrays\n",
    "xdynamic = [1, 2]\n",
    "xstatic = @SVector [1, 2]  # turns it into a highly optimized static vector\n",
    "\n",
    "f(x) = 2x\n",
    "@show f(xdynamic)\n",
    "@show f(xstatic)\n",
    "\n",
    "# inplace version\n",
    "function g(x)\n",
    "    x .= 2x\n",
    "    return \"Success!\"\n",
    "end\n",
    "@show xdynamic\n",
    "@show g(xdynamic)\n",
    "@show xdynamic;\n",
    "\n",
    "# g(xstatic) # fails, static vectors are immutable"
   ]
  },
  {
   "cell_type": "markdown",
   "id": "9854b2b4",
   "metadata": {},
   "source": [
    "## Operations on Arrays"
   ]
  },
  {
   "cell_type": "markdown",
   "id": "f1b3e811",
   "metadata": {},
   "source": [
    "### Array Methods\n",
    "\n",
    "Julia provides standard functions for acting on arrays, some of which we’ve\n",
    "already seen"
   ]
  },
  {
   "cell_type": "code",
   "execution_count": null,
   "id": "a6dd49f0",
   "metadata": {
    "hide-output": false
   },
   "outputs": [],
   "source": [
    "a = [-1, 0, 1]\n",
    "\n",
    "@show length(a)\n",
    "@show sum(a)\n",
    "@show mean(a)\n",
    "@show std(a)      # standard deviation\n",
    "@show var(a)      # variance\n",
    "@show maximum(a)\n",
    "@show minimum(a)\n",
    "@show extrema(a)  # (mimimum(a), maximum(a))"
   ]
  },
  {
   "cell_type": "markdown",
   "id": "ab192a19",
   "metadata": {},
   "source": [
    "To sort an array"
   ]
  },
  {
   "cell_type": "code",
   "execution_count": null,
   "id": "2cd63dc0",
   "metadata": {
    "hide-output": false
   },
   "outputs": [],
   "source": [
    "b = sort(a, rev = true)  # returns new array, original not modified"
   ]
  },
  {
   "cell_type": "code",
   "execution_count": null,
   "id": "3038a051",
   "metadata": {
    "hide-output": false
   },
   "outputs": [],
   "source": [
    "b = sort!(a, rev = true)  # returns *modified original* array"
   ]
  },
  {
   "cell_type": "code",
   "execution_count": null,
   "id": "ebd1b6ac",
   "metadata": {
    "hide-output": false
   },
   "outputs": [],
   "source": [
    "b == a  # tests if have the same values"
   ]
  },
  {
   "cell_type": "code",
   "execution_count": null,
   "id": "106cd7a7",
   "metadata": {
    "hide-output": false
   },
   "outputs": [],
   "source": [
    "b === a  # tests if arrays are identical (i.e share same memory)"
   ]
  },
  {
   "cell_type": "markdown",
   "id": "b017f1d1",
   "metadata": {},
   "source": [
    "### Matrix Algebra\n",
    "\n",
    "For two dimensional arrays, `*` means matrix multiplication"
   ]
  },
  {
   "cell_type": "code",
   "execution_count": null,
   "id": "87f4c43d",
   "metadata": {
    "hide-output": false
   },
   "outputs": [],
   "source": [
    "a = ones(1, 2)"
   ]
  },
  {
   "cell_type": "code",
   "execution_count": null,
   "id": "44496938",
   "metadata": {
    "hide-output": false
   },
   "outputs": [],
   "source": [
    "b = ones(2, 2)"
   ]
  },
  {
   "cell_type": "code",
   "execution_count": null,
   "id": "b95d643f",
   "metadata": {
    "hide-output": false
   },
   "outputs": [],
   "source": [
    "a * b"
   ]
  },
  {
   "cell_type": "code",
   "execution_count": null,
   "id": "24fa2b39",
   "metadata": {
    "hide-output": false
   },
   "outputs": [],
   "source": [
    "b * a'"
   ]
  },
  {
   "cell_type": "markdown",
   "id": "634ee6a2",
   "metadata": {},
   "source": [
    "To solve the linear system $ A X = B $ for $ X $ use `A \\ B`"
   ]
  },
  {
   "cell_type": "code",
   "execution_count": null,
   "id": "fb4fa381",
   "metadata": {
    "hide-output": false
   },
   "outputs": [],
   "source": [
    "A = [1 2; 2 3]"
   ]
  },
  {
   "cell_type": "code",
   "execution_count": null,
   "id": "9e8c85b5",
   "metadata": {
    "hide-output": false
   },
   "outputs": [],
   "source": [
    "B = ones(2, 2)"
   ]
  },
  {
   "cell_type": "code",
   "execution_count": null,
   "id": "a0920d9b",
   "metadata": {
    "hide-output": false
   },
   "outputs": [],
   "source": [
    "A \\ B"
   ]
  },
  {
   "cell_type": "code",
   "execution_count": null,
   "id": "2d29c88d",
   "metadata": {
    "hide-output": false
   },
   "outputs": [],
   "source": [
    "inv(A) * B"
   ]
  },
  {
   "cell_type": "markdown",
   "id": "21cd57e9",
   "metadata": {},
   "source": [
    "Although the last two operations give the same result, the first one is numerically more stable and should be preferred in most cases.\n",
    "\n",
    "Multiplying two **one** dimensional vectors gives an error – which is reasonable since the meaning is ambiguous.\n",
    "\n",
    "More precisely, the error is that there isn’t an implementation of `*` for two one dimensional vectors.\n",
    "\n",
    "The output explains this, and lists some other methods of `*` which Julia thinks are close to what we want."
   ]
  },
  {
   "cell_type": "code",
   "execution_count": null,
   "id": "79b41076",
   "metadata": {
    "hide-output": false
   },
   "outputs": [],
   "source": [
    "ones(2) * ones(2)  # does not conform, expect error"
   ]
  },
  {
   "cell_type": "markdown",
   "id": "73213db5",
   "metadata": {},
   "source": [
    "Instead, you could take the transpose to form a row vector"
   ]
  },
  {
   "cell_type": "code",
   "execution_count": null,
   "id": "6a71de0a",
   "metadata": {
    "hide-output": false
   },
   "outputs": [],
   "source": [
    "ones(2)' * ones(2)"
   ]
  },
  {
   "cell_type": "markdown",
   "id": "c8d9b97d",
   "metadata": {},
   "source": [
    "Alternatively, for inner product in this setting use `dot()` or the unicode `\\cdot<TAB>`"
   ]
  },
  {
   "cell_type": "code",
   "execution_count": null,
   "id": "4806f842",
   "metadata": {
    "hide-output": false
   },
   "outputs": [],
   "source": [
    "@show dot(ones(2), ones(2))\n",
    "@show ones(2) ⋅ ones(2);"
   ]
  },
  {
   "cell_type": "markdown",
   "id": "b2274ef7",
   "metadata": {},
   "source": [
    "Matrix multiplication using one dimensional vectors similarly follows from treating them as\n",
    "column vectors.  Post-multiplication requires a transpose"
   ]
  },
  {
   "cell_type": "code",
   "execution_count": null,
   "id": "e44a269a",
   "metadata": {
    "hide-output": false
   },
   "outputs": [],
   "source": [
    "b = ones(2, 2)\n",
    "b * ones(2)"
   ]
  },
  {
   "cell_type": "code",
   "execution_count": null,
   "id": "262e554d",
   "metadata": {
    "hide-output": false
   },
   "outputs": [],
   "source": [
    "ones(2)' * b"
   ]
  },
  {
   "cell_type": "markdown",
   "id": "698f7604",
   "metadata": {},
   "source": [
    "Note that the type of the returned value in this case is not `Array{Float64,1}` but rather\n",
    "`Adjoint{Float64,Array{Float64,1}}`.\n",
    "\n",
    "This is since the left multiplication by a row vector should also be a row-vector.  It also hints\n",
    "that the types in Julia more complicated than first appears in the surface notation, as we will explore\n",
    "further in the [introduction to types lecture](https://julia.quantecon.org/introduction_to_types.html)."
   ]
  },
  {
   "cell_type": "markdown",
   "id": "2930bb15",
   "metadata": {},
   "source": [
    "### Elementwise Operations"
   ]
  },
  {
   "cell_type": "markdown",
   "id": "4f8a1fa7",
   "metadata": {},
   "source": [
    "#### Algebraic Operations\n",
    "\n",
    "Suppose that we wish to multiply every element of matrix `A` with the corresponding element of matrix `B`.\n",
    "\n",
    "In that case we need to replace `*` (matrix multiplication) with `.*` (elementwise multiplication).\n",
    "\n",
    "For example, compare"
   ]
  },
  {
   "cell_type": "code",
   "execution_count": null,
   "id": "e79ebd10",
   "metadata": {
    "hide-output": false
   },
   "outputs": [],
   "source": [
    "ones(2, 2) * ones(2, 2)   # matrix multiplication"
   ]
  },
  {
   "cell_type": "code",
   "execution_count": null,
   "id": "0645204f",
   "metadata": {
    "hide-output": false
   },
   "outputs": [],
   "source": [
    "ones(2, 2) .* ones(2, 2)   # element by element multiplication"
   ]
  },
  {
   "cell_type": "markdown",
   "id": "e5479a33",
   "metadata": {},
   "source": [
    "This is a general principle: `.x` means apply operator `x` elementwise"
   ]
  },
  {
   "cell_type": "code",
   "execution_count": null,
   "id": "4996d829",
   "metadata": {
    "hide-output": false
   },
   "outputs": [],
   "source": [
    "A = -ones(2, 2)"
   ]
  },
  {
   "cell_type": "code",
   "execution_count": null,
   "id": "75fe48d5",
   "metadata": {
    "hide-output": false
   },
   "outputs": [],
   "source": [
    "A.^2  # square every element"
   ]
  },
  {
   "cell_type": "markdown",
   "id": "fd88fd4b",
   "metadata": {},
   "source": [
    "However in practice some operations are mathematically valid without broadcasting, and hence the `.` can be omitted."
   ]
  },
  {
   "cell_type": "code",
   "execution_count": null,
   "id": "c76663f9",
   "metadata": {
    "hide-output": false
   },
   "outputs": [],
   "source": [
    "ones(2, 2) + ones(2, 2)  # same as ones(2, 2) .+ ones(2, 2)"
   ]
  },
  {
   "cell_type": "markdown",
   "id": "8f1a83d2",
   "metadata": {},
   "source": [
    "Scalar multiplication is similar"
   ]
  },
  {
   "cell_type": "code",
   "execution_count": null,
   "id": "80d25c5c",
   "metadata": {
    "hide-output": false
   },
   "outputs": [],
   "source": [
    "A = ones(2, 2)"
   ]
  },
  {
   "cell_type": "code",
   "execution_count": null,
   "id": "e5077e0a",
   "metadata": {
    "hide-output": false
   },
   "outputs": [],
   "source": [
    "2 * A  # same as 2 .* A"
   ]
  },
  {
   "cell_type": "markdown",
   "id": "a4cd7afe",
   "metadata": {},
   "source": [
    "In fact you can omit the `*` altogether and just write `2A`.\n",
    "\n",
    "Unlike MATLAB and other languages, scalar addition requires the `.+` in order to correctly broadcast"
   ]
  },
  {
   "cell_type": "code",
   "execution_count": null,
   "id": "2dd0fb49",
   "metadata": {
    "hide-output": false
   },
   "outputs": [],
   "source": [
    "x = [1, 2]\n",
    "x .+ 1     # not x + 1\n",
    "x .- 1     # not x - 1"
   ]
  },
  {
   "cell_type": "markdown",
   "id": "34f1505c",
   "metadata": {},
   "source": [
    "#### Elementwise Comparisons\n",
    "\n",
    "Elementwise comparisons also use the `.x` style notation"
   ]
  },
  {
   "cell_type": "code",
   "execution_count": null,
   "id": "4764a23c",
   "metadata": {
    "hide-output": false
   },
   "outputs": [],
   "source": [
    "a = [10, 20, 30]"
   ]
  },
  {
   "cell_type": "code",
   "execution_count": null,
   "id": "8141b917",
   "metadata": {
    "hide-output": false
   },
   "outputs": [],
   "source": [
    "b = [-100, 0, 100]"
   ]
  },
  {
   "cell_type": "code",
   "execution_count": null,
   "id": "cdbd134f",
   "metadata": {
    "hide-output": false
   },
   "outputs": [],
   "source": [
    "b .> a"
   ]
  },
  {
   "cell_type": "code",
   "execution_count": null,
   "id": "0f6c817c",
   "metadata": {
    "hide-output": false
   },
   "outputs": [],
   "source": [
    "a .== b"
   ]
  },
  {
   "cell_type": "markdown",
   "id": "a8aa8779",
   "metadata": {},
   "source": [
    "We can also do comparisons against scalars with parallel syntax"
   ]
  },
  {
   "cell_type": "code",
   "execution_count": null,
   "id": "cf765c52",
   "metadata": {
    "hide-output": false
   },
   "outputs": [],
   "source": [
    "b"
   ]
  },
  {
   "cell_type": "code",
   "execution_count": null,
   "id": "51c774cf",
   "metadata": {
    "hide-output": false
   },
   "outputs": [],
   "source": [
    "b .> 1"
   ]
  },
  {
   "cell_type": "markdown",
   "id": "e151402d",
   "metadata": {},
   "source": [
    "This is particularly useful for *conditional extraction* – extracting the elements of an array that satisfy a condition"
   ]
  },
  {
   "cell_type": "code",
   "execution_count": null,
   "id": "2c69388a",
   "metadata": {
    "hide-output": false
   },
   "outputs": [],
   "source": [
    "a = randn(4)"
   ]
  },
  {
   "cell_type": "code",
   "execution_count": null,
   "id": "05e52e6a",
   "metadata": {
    "hide-output": false
   },
   "outputs": [],
   "source": [
    "a .< 0"
   ]
  },
  {
   "cell_type": "code",
   "execution_count": null,
   "id": "76db4709",
   "metadata": {
    "hide-output": false
   },
   "outputs": [],
   "source": [
    "a[a .< 0]"
   ]
  },
  {
   "cell_type": "markdown",
   "id": "5c641fb7",
   "metadata": {},
   "source": [
    "#### Changing Dimensions\n",
    "\n",
    "The primary function for changing the dimensions of an array is `reshape()`"
   ]
  },
  {
   "cell_type": "code",
   "execution_count": null,
   "id": "9dbb751a",
   "metadata": {
    "hide-output": false
   },
   "outputs": [],
   "source": [
    "a = [10, 20, 30, 40]"
   ]
  },
  {
   "cell_type": "code",
   "execution_count": null,
   "id": "af115177",
   "metadata": {
    "hide-output": false
   },
   "outputs": [],
   "source": [
    "b = reshape(a, 2, 2)"
   ]
  },
  {
   "cell_type": "code",
   "execution_count": null,
   "id": "91d2948b",
   "metadata": {
    "hide-output": false
   },
   "outputs": [],
   "source": [
    "b"
   ]
  },
  {
   "cell_type": "markdown",
   "id": "5b1e22c7",
   "metadata": {},
   "source": [
    "Notice that this function returns a view on the existing array.\n",
    "\n",
    "This means that changing the data in the new array will modify the data in the\n",
    "old one."
   ]
  },
  {
   "cell_type": "code",
   "execution_count": null,
   "id": "dc8cc175",
   "metadata": {
    "hide-output": false
   },
   "outputs": [],
   "source": [
    "b[1, 1] = 100  # continuing the previous example"
   ]
  },
  {
   "cell_type": "code",
   "execution_count": null,
   "id": "d18c39bb",
   "metadata": {
    "hide-output": false
   },
   "outputs": [],
   "source": [
    "b"
   ]
  },
  {
   "cell_type": "code",
   "execution_count": null,
   "id": "4b33e0b4",
   "metadata": {
    "hide-output": false
   },
   "outputs": [],
   "source": [
    "a"
   ]
  },
  {
   "cell_type": "markdown",
   "id": "89a01bea",
   "metadata": {},
   "source": [
    "To collapse an array along one dimension you can use `dropdims()`"
   ]
  },
  {
   "cell_type": "code",
   "execution_count": null,
   "id": "c4d6d200",
   "metadata": {
    "hide-output": false
   },
   "outputs": [],
   "source": [
    "a = [1 2 3 4]  # two dimensional"
   ]
  },
  {
   "cell_type": "code",
   "execution_count": null,
   "id": "350e2cdc",
   "metadata": {
    "hide-output": false
   },
   "outputs": [],
   "source": [
    "dropdims(a, dims = 1)"
   ]
  },
  {
   "cell_type": "markdown",
   "id": "b7e1c76e",
   "metadata": {},
   "source": [
    "The return value is an array with the specified dimension “flattened”."
   ]
  },
  {
   "cell_type": "markdown",
   "id": "b89ed073",
   "metadata": {},
   "source": [
    "### Broadcasting Functions\n",
    "\n",
    "Julia provides standard mathematical functions such as `log`, `exp`, `sin`, etc."
   ]
  },
  {
   "cell_type": "code",
   "execution_count": null,
   "id": "c57534cb",
   "metadata": {
    "hide-output": false
   },
   "outputs": [],
   "source": [
    "log(1.0)"
   ]
  },
  {
   "cell_type": "markdown",
   "id": "7a4148be",
   "metadata": {},
   "source": [
    "By default, these functions act *elementwise* on arrays"
   ]
  },
  {
   "cell_type": "code",
   "execution_count": null,
   "id": "cd7282cb",
   "metadata": {
    "hide-output": false
   },
   "outputs": [],
   "source": [
    "log.(1:4)"
   ]
  },
  {
   "cell_type": "markdown",
   "id": "0fcbc377",
   "metadata": {},
   "source": [
    "Note that we can get the same result as with a comprehension or more explicit loop"
   ]
  },
  {
   "cell_type": "code",
   "execution_count": null,
   "id": "30b40b14",
   "metadata": {
    "hide-output": false
   },
   "outputs": [],
   "source": [
    "[ log(x) for x in 1:4 ]"
   ]
  },
  {
   "cell_type": "markdown",
   "id": "da60f445",
   "metadata": {},
   "source": [
    "Nonetheless the syntax is convenient."
   ]
  },
  {
   "cell_type": "markdown",
   "id": "ac6a4735",
   "metadata": {},
   "source": [
    "### Linear Algebra\n",
    "\n",
    "([See linear algebra documentation](https://docs.julialang.org/en/v1/stdlib/LinearAlgebra/))\n",
    "\n",
    "Julia provides some a great deal of additional functionality related to linear operations"
   ]
  },
  {
   "cell_type": "code",
   "execution_count": null,
   "id": "79174bd3",
   "metadata": {
    "hide-output": false
   },
   "outputs": [],
   "source": [
    "A = [1 2; 3 4]"
   ]
  },
  {
   "cell_type": "code",
   "execution_count": null,
   "id": "e52960ba",
   "metadata": {
    "hide-output": false
   },
   "outputs": [],
   "source": [
    "det(A)"
   ]
  },
  {
   "cell_type": "code",
   "execution_count": null,
   "id": "f77ccc6b",
   "metadata": {
    "hide-output": false
   },
   "outputs": [],
   "source": [
    "tr(A)"
   ]
  },
  {
   "cell_type": "code",
   "execution_count": null,
   "id": "5e201079",
   "metadata": {
    "hide-output": false
   },
   "outputs": [],
   "source": [
    "eigvals(A)"
   ]
  },
  {
   "cell_type": "code",
   "execution_count": null,
   "id": "50fa7444",
   "metadata": {
    "hide-output": false
   },
   "outputs": [],
   "source": [
    "rank(A)"
   ]
  },
  {
   "cell_type": "markdown",
   "id": "539fc9f7",
   "metadata": {},
   "source": [
    "## Ranges\n",
    "\n",
    "As with many other types, a `Range` can act as a vector."
   ]
  },
  {
   "cell_type": "code",
   "execution_count": null,
   "id": "13af301a",
   "metadata": {
    "hide-output": false
   },
   "outputs": [],
   "source": [
    "a = 10:12        # a range, equivalent to 10:1:12\n",
    "@show Vector(a)  # can convert, but shouldn't\n",
    "\n",
    "b = Diagonal([1.0, 2.0, 3.0])\n",
    "b * a .- [1.0; 2.0; 3.0]"
   ]
  },
  {
   "cell_type": "markdown",
   "id": "6ed87093",
   "metadata": {},
   "source": [
    "Ranges can also be created with floating point numbers using the same notation."
   ]
  },
  {
   "cell_type": "code",
   "execution_count": null,
   "id": "aafbf079",
   "metadata": {
    "hide-output": false
   },
   "outputs": [],
   "source": [
    "a = 0.0:0.1:1.0  # 0.0, 0.1, 0.2, ... 1.0"
   ]
  },
  {
   "cell_type": "markdown",
   "id": "433ede94",
   "metadata": {},
   "source": [
    "But care should be taken if the terminal node is not a multiple of the set sizes."
   ]
  },
  {
   "cell_type": "code",
   "execution_count": null,
   "id": "218f2723",
   "metadata": {
    "hide-output": false
   },
   "outputs": [],
   "source": [
    "maxval = 1.0\n",
    "minval = 0.0\n",
    "stepsize = 0.15\n",
    "a = minval:stepsize:maxval # 0.0, 0.15, 0.3, ...\n",
    "maximum(a) == maxval"
   ]
  },
  {
   "cell_type": "markdown",
   "id": "9e75f337",
   "metadata": {},
   "source": [
    "To evenly space points where the maximum value is important, i.e., `linspace` in other languages"
   ]
  },
  {
   "cell_type": "code",
   "execution_count": null,
   "id": "97c618a9",
   "metadata": {
    "hide-output": false
   },
   "outputs": [],
   "source": [
    "maxval = 1.0\n",
    "minval = 0.0\n",
    "numpoints = 10\n",
    "a = range(minval, maxval, length=numpoints)\n",
    "# or range(minval, stop=maxval, length=numpoints)\n",
    "\n",
    "maximum(a) == maxval"
   ]
  },
  {
   "cell_type": "markdown",
   "id": "16a3f2e0",
   "metadata": {},
   "source": [
    "## Tuples and Named Tuples\n",
    "\n",
    "([See tuples](https://docs.julialang.org/en/v1/manual/functions/#Tuples-1) and [named tuples documentation](https://docs.julialang.org/en/v1/manual/functions/#Named-Tuples-1))\n",
    "\n",
    "We were introduced to tuples earlier, which provide high-performance immutable sets of distinct types."
   ]
  },
  {
   "cell_type": "code",
   "execution_count": null,
   "id": "a15a00f7",
   "metadata": {
    "hide-output": false
   },
   "outputs": [],
   "source": [
    "t = (1.0, \"test\")\n",
    "t[1]            # access by index\n",
    "a, b = t        # unpack\n",
    "# t[1] = 3.0    # would fail as tuples are immutable\n",
    "println(\"a = $a and b = $b\")"
   ]
  },
  {
   "cell_type": "markdown",
   "id": "366e060d",
   "metadata": {},
   "source": [
    "As well as **named tuples**, which extend tuples with names for each argument."
   ]
  },
  {
   "cell_type": "code",
   "execution_count": null,
   "id": "2652a6af",
   "metadata": {
    "hide-output": false
   },
   "outputs": [],
   "source": [
    "t = (val1 = 1.0, val2 = \"test\")\n",
    "t.val1      # access by index\n",
    "# a, b = t  # bad style, better to unpack by name with @unpack\n",
    "println(\"val1 = $(t.val1) and val1 = $(t.val1)\") # access by name"
   ]
  },
  {
   "cell_type": "markdown",
   "id": "5ff71a57",
   "metadata": {},
   "source": [
    "While immutable, it is possible to manipulate tuples and generate new ones"
   ]
  },
  {
   "cell_type": "code",
   "execution_count": null,
   "id": "52e5f2a8",
   "metadata": {
    "hide-output": false
   },
   "outputs": [],
   "source": [
    "t2 = (val3 = 4, val4 = \"test!!\")\n",
    "t3 = merge(t, t2)  # new tuple"
   ]
  },
  {
   "cell_type": "markdown",
   "id": "d471e2d4",
   "metadata": {},
   "source": [
    "Named tuples are a convenient and high-performance way to manage and unpack sets of parameters"
   ]
  },
  {
   "cell_type": "code",
   "execution_count": null,
   "id": "1ed36336",
   "metadata": {
    "hide-output": false
   },
   "outputs": [],
   "source": [
    "function f(parameters)\n",
    "    α, β = parameters.α, parameters.β  # poor style, error prone if adding parameters\n",
    "    return α + β\n",
    "end\n",
    "\n",
    "parameters = (α = 0.1, β = 0.2)\n",
    "f(parameters)"
   ]
  },
  {
   "cell_type": "markdown",
   "id": "7a0258e5",
   "metadata": {},
   "source": [
    "This functionality is aided by the `Parameters.jl` package and the `@unpack` macro"
   ]
  },
  {
   "cell_type": "code",
   "execution_count": null,
   "id": "ccceb7cc",
   "metadata": {
    "hide-output": false
   },
   "outputs": [],
   "source": [
    "using Parameters\n",
    "\n",
    "function f(parameters)\n",
    "    @unpack α, β = parameters  # good style, less sensitive to errors\n",
    "    return α + β\n",
    "end\n",
    "\n",
    "parameters = (α = 0.1, β = 0.2)\n",
    "f(parameters)"
   ]
  },
  {
   "cell_type": "markdown",
   "id": "9f4fac2b",
   "metadata": {},
   "source": [
    "In order to manage default values, use the `@with_kw` macro"
   ]
  },
  {
   "cell_type": "code",
   "execution_count": null,
   "id": "75916fd3",
   "metadata": {
    "hide-output": false
   },
   "outputs": [],
   "source": [
    "using Parameters\n",
    "paramgen = @with_kw (α = 0.1, β = 0.2)  # create named tuples with defaults\n",
    "\n",
    "# creates named tuples, replacing defaults\n",
    "@show paramgen()  # calling without arguments gives all defaults\n",
    "@show paramgen(α = 0.2)\n",
    "@show paramgen(α = 0.2, β = 0.5);"
   ]
  },
  {
   "cell_type": "markdown",
   "id": "66d846e5",
   "metadata": {},
   "source": [
    "An alternative approach, defining a new type using `struct` tends to be more prone to accidental misuse, and leads to a great deal of boilerplate code.\n",
    "\n",
    "For that, and other reasons of generality, we will use named tuples for collections of parameters where possible."
   ]
  },
  {
   "cell_type": "markdown",
   "id": "edeaa4cd",
   "metadata": {},
   "source": [
    "## Nothing, Missing, and Unions\n",
    "\n",
    "Sometimes a variable, return type from a function, or value in an array needs to represent the absence of a value rather than a particular value.\n",
    "\n",
    "There are two distinct use cases for this\n",
    "\n",
    "1. `nothing` (“software engineers null”): used where no value makes sense in a particular context due to a failure in the code, a function parameter not passed in, etc.  \n",
    "1. `missing` (“data scientists null”): used when a value would make conceptual sense, but it isn’t available.  \n",
    "\n",
    "\n",
    "\n",
    "<a id='error-handling'></a>"
   ]
  },
  {
   "cell_type": "markdown",
   "id": "4f58a7e6",
   "metadata": {},
   "source": [
    "### Nothing and Basic Error Handling\n",
    "\n",
    "The value `nothing` is a single value of type `Nothing`"
   ]
  },
  {
   "cell_type": "code",
   "execution_count": null,
   "id": "abb1a115",
   "metadata": {
    "hide-output": false
   },
   "outputs": [],
   "source": [
    "typeof(nothing)"
   ]
  },
  {
   "cell_type": "markdown",
   "id": "ed1040fd",
   "metadata": {},
   "source": [
    "An example of a reasonable use of `nothing` is if you need to have a variable defined in an outer scope, which may or may not be set in an inner one"
   ]
  },
  {
   "cell_type": "code",
   "execution_count": null,
   "id": "46afe4a6",
   "metadata": {
    "hide-output": false
   },
   "outputs": [],
   "source": [
    "function f(y)\n",
    "    x = nothing\n",
    "    if y > 0.0\n",
    "        # calculations to set `x`\n",
    "        x = y\n",
    "    end\n",
    "\n",
    "    # later, can check `x`\n",
    "    if isnothing(x)\n",
    "        println(\"x was not set\")\n",
    "    else\n",
    "        println(\"x = $x\")\n",
    "    end\n",
    "    x\n",
    "end\n",
    "\n",
    "@show f(1.0)\n",
    "@show f(-1.0);"
   ]
  },
  {
   "cell_type": "markdown",
   "id": "cb5a0620",
   "metadata": {},
   "source": [
    "While in general you want to keep a variable name bound to a single type in Julia, this is a notable exception.\n",
    "\n",
    "Similarly, if needed, you can return a `nothing` from a function to indicate that it did not calculate as expected."
   ]
  },
  {
   "cell_type": "code",
   "execution_count": null,
   "id": "0e3dec31",
   "metadata": {
    "hide-output": false
   },
   "outputs": [],
   "source": [
    "function f(x)\n",
    "    if x > 0.0\n",
    "        return sqrt(x)\n",
    "    else\n",
    "        return nothing\n",
    "    end\n",
    "end\n",
    "x1 = 1.0\n",
    "x2 = -1.0\n",
    "y1 = f(x1)\n",
    "y2 = f(x2)\n",
    "\n",
    "# check results with isnothing\n",
    "if isnothing(y1)\n",
    "    println(\"f($x2) successful\")\n",
    "else\n",
    "    println(\"f($x2) failed\");\n",
    "end"
   ]
  },
  {
   "cell_type": "markdown",
   "id": "64ffd5fe",
   "metadata": {},
   "source": [
    "As an aside, an equivalent way to write the above function is to use the\n",
    "[ternary operator](https://docs.julialang.org/en/v1/manual/control-flow/index.html#man-conditional-evaluation-1),\n",
    "which gives a compact if/then/else structure"
   ]
  },
  {
   "cell_type": "code",
   "execution_count": null,
   "id": "03f433fb",
   "metadata": {
    "hide-output": false
   },
   "outputs": [],
   "source": [
    "function f(x)\n",
    "    x > 0.0 ? sqrt(x) : nothing  # the \"a ? b : c\" pattern is the ternary\n",
    "end\n",
    "\n",
    "f(1.0)"
   ]
  },
  {
   "cell_type": "markdown",
   "id": "9267b3b9",
   "metadata": {},
   "source": [
    "We will sometimes use this form when it makes the code more clear (and it will occasionally make the code higher performance).\n",
    "\n",
    "Regardless of how `f(x)` is written,  the return type is an example of a union, where the result could be one of an explicit set of types.\n",
    "\n",
    "In this particular case, the compiler would deduce that the type would be a `Union{Nothing,Float64}` – that is, it returns either a floating point or a `nothing`.\n",
    "\n",
    "You will see this type directly if you use an array containing both types"
   ]
  },
  {
   "cell_type": "code",
   "execution_count": null,
   "id": "9b6bdb0a",
   "metadata": {
    "hide-output": false
   },
   "outputs": [],
   "source": [
    "x = [1.0, nothing]"
   ]
  },
  {
   "cell_type": "markdown",
   "id": "50e6f8d9",
   "metadata": {},
   "source": [
    "When considering error handling, whether you want a function to return `nothing` or simply fail depends on whether the code calling `f(x)` is carefully checking the results.\n",
    "\n",
    "For example, if you were calling on an array of parameters where a priori you were not sure which ones will succeed, then"
   ]
  },
  {
   "cell_type": "code",
   "execution_count": null,
   "id": "3ef7d8ff",
   "metadata": {
    "hide-output": false
   },
   "outputs": [],
   "source": [
    "x = [0.1, -1.0, 2.0, -2.0]\n",
    "y = f.(x)\n",
    "\n",
    "# presumably check `y`"
   ]
  },
  {
   "cell_type": "markdown",
   "id": "726462f7",
   "metadata": {},
   "source": [
    "On the other hand, if the parameter passed is invalid and you would prefer not to handle a graceful failure, then using an assertion is more appropriate."
   ]
  },
  {
   "cell_type": "code",
   "execution_count": null,
   "id": "60595d35",
   "metadata": {
    "hide-output": false
   },
   "outputs": [],
   "source": [
    "function f(x)\n",
    "    @assert x > 0.0\n",
    "    sqrt(x)\n",
    "end\n",
    "\n",
    "f(1.0)"
   ]
  },
  {
   "cell_type": "markdown",
   "id": "d6761f2b",
   "metadata": {},
   "source": [
    "Finally, `nothing` is a good way to indicate an optional parameter in a function"
   ]
  },
  {
   "cell_type": "code",
   "execution_count": null,
   "id": "c7d3b5db",
   "metadata": {
    "hide-output": false
   },
   "outputs": [],
   "source": [
    "function f(x; z = nothing)\n",
    "\n",
    "    if isnothing(z)\n",
    "        println(\"No z given with $x\")\n",
    "    else\n",
    "        println(\"z = $z given with $x\")\n",
    "    end\n",
    "end\n",
    "\n",
    "f(1.0)\n",
    "f(1.0, z=3.0)"
   ]
  },
  {
   "cell_type": "markdown",
   "id": "d3665444",
   "metadata": {},
   "source": [
    "An alternative to `nothing`, which can be useful and sometimes higher performance,\n",
    "is to use `NaN` to signal that a value is invalid returning from a function."
   ]
  },
  {
   "cell_type": "code",
   "execution_count": null,
   "id": "6006718b",
   "metadata": {
    "hide-output": false
   },
   "outputs": [],
   "source": [
    "function f(x)\n",
    "    if x > 0.0\n",
    "        return x\n",
    "    else\n",
    "        return NaN\n",
    "    end\n",
    "end\n",
    "\n",
    "f(0.1)\n",
    "f(-1.0)\n",
    "\n",
    "@show typeof(f(-1.0))\n",
    "@show f(-1.0) == NaN  # note, this fails!\n",
    "@show isnan(f(-1.0))  # check with this"
   ]
  },
  {
   "cell_type": "markdown",
   "id": "0b81cd25",
   "metadata": {},
   "source": [
    "Note that in this case, the return type is `Float64` regardless of the input for `Float64` input.\n",
    "\n",
    "Keep in mind, though, that this only works if the return type of a function is `Float64`."
   ]
  },
  {
   "cell_type": "markdown",
   "id": "a027a6f1",
   "metadata": {},
   "source": [
    "### Exceptions\n",
    "\n",
    "(See [exceptions documentation](https://docs.julialang.org/en/v1/manual/control-flow/index.html#Exception-Handling-1))\n",
    "\n",
    "While returning a `nothing` can be a good way to deal with functions which may or may not return values, a more robust error handling method is to use exceptions.\n",
    "\n",
    "Unless you are writing a package, you will rarely want to define and throw your own exceptions, but will need to deal with them from other libraries.\n",
    "\n",
    "The key distinction for when to use an exceptions vs. return a `nothing` is whether an error is unexpected rather than a normal path of execution.\n",
    "\n",
    "An example of an exception is a `DomainError`, which signifies that a value passed to a function is invalid."
   ]
  },
  {
   "cell_type": "code",
   "execution_count": null,
   "id": "681e39c0",
   "metadata": {
    "hide-output": false
   },
   "outputs": [],
   "source": [
    "# throws exception, turned off to prevent breaking notebook\n",
    "# sqrt(-1.0)\n",
    "\n",
    "# to see the error\n",
    "try sqrt(-1.0); catch err; err end  # catches the exception and prints it"
   ]
  },
  {
   "cell_type": "markdown",
   "id": "accee67b",
   "metadata": {},
   "source": [
    "Another example you will see is when the compiler cannot convert between types."
   ]
  },
  {
   "cell_type": "code",
   "execution_count": null,
   "id": "29fc36f1",
   "metadata": {
    "hide-output": false
   },
   "outputs": [],
   "source": [
    "# throws exception, turned off to prevent breaking notebook\n",
    "# convert(Int64, 3.12)\n",
    "\n",
    "# to see the error\n",
    "try convert(Int64, 3.12); catch err; err end  # catches the exception and prints it."
   ]
  },
  {
   "cell_type": "markdown",
   "id": "4973589e",
   "metadata": {},
   "source": [
    "If these exceptions are generated from unexpected cases in your code, it may be appropriate simply let them occur and ensure you can read the error.\n",
    "\n",
    "Occasionally you will want to catch these errors and try to recover, as we did above in the `try` block."
   ]
  },
  {
   "cell_type": "code",
   "execution_count": null,
   "id": "512774f5",
   "metadata": {
    "hide-output": false
   },
   "outputs": [],
   "source": [
    "function f(x)\n",
    "    try\n",
    "        sqrt(x)\n",
    "    catch err                # enters if exception thrown\n",
    "        sqrt(complex(x, 0))  # convert to complex number\n",
    "    end\n",
    "end\n",
    "\n",
    "f(0.0)\n",
    "f(-1.0)"
   ]
  },
  {
   "cell_type": "markdown",
   "id": "622a06d7",
   "metadata": {},
   "source": [
    "\n",
    "<a id='missing'></a>"
   ]
  },
  {
   "cell_type": "markdown",
   "id": "9959870b",
   "metadata": {},
   "source": [
    "### Missing\n",
    "\n",
    "(see [“missing” documentation](https://docs.julialang.org/en/v1/manual/missing/))\n",
    "\n",
    "The value `missing` of type `Missing` is used to represent missing value in a statistical sense.\n",
    "\n",
    "For example, if you loaded data from a panel, and gaps existed"
   ]
  },
  {
   "cell_type": "code",
   "execution_count": null,
   "id": "f14c2918",
   "metadata": {
    "hide-output": false
   },
   "outputs": [],
   "source": [
    "x = [3.0, missing, 5.0, missing, missing]"
   ]
  },
  {
   "cell_type": "markdown",
   "id": "5daab8a2",
   "metadata": {},
   "source": [
    "A key feature of `missing` is that it propagates through other function calls - unlike `nothing`"
   ]
  },
  {
   "cell_type": "code",
   "execution_count": null,
   "id": "8c77122d",
   "metadata": {
    "hide-output": false
   },
   "outputs": [],
   "source": [
    "f(x) = x^2\n",
    "\n",
    "@show missing + 1.0\n",
    "@show missing * 2\n",
    "@show missing * \"test\"\n",
    "@show f(missing);      # even user-defined functions\n",
    "@show mean(x);"
   ]
  },
  {
   "cell_type": "markdown",
   "id": "a6dcb41d",
   "metadata": {},
   "source": [
    "The purpose of this is to ensure that failures do not silently fail and provide meaningless numerical results.\n",
    "\n",
    "This even applies for the comparison of values, which"
   ]
  },
  {
   "cell_type": "code",
   "execution_count": null,
   "id": "eaeca2e5",
   "metadata": {
    "hide-output": false
   },
   "outputs": [],
   "source": [
    "x = missing\n",
    "\n",
    "@show x == missing\n",
    "@show x === missing  # an exception\n",
    "@show ismissing(x);"
   ]
  },
  {
   "cell_type": "markdown",
   "id": "3ac3ff1a",
   "metadata": {},
   "source": [
    "Where `ismissing` is the canonical way to test the value.\n",
    "\n",
    "In the case where you would like to calculate a value without the missing values, you can use `skipmissing`."
   ]
  },
  {
   "cell_type": "code",
   "execution_count": null,
   "id": "716b7ace",
   "metadata": {
    "hide-output": false
   },
   "outputs": [],
   "source": [
    "x = [1.0, missing, 2.0, missing, missing, 5.0]\n",
    "\n",
    "@show mean(x)\n",
    "@show mean(skipmissing(x))\n",
    "@show coalesce.(x, 0.0);  # replace missing with 0.0;"
   ]
  },
  {
   "cell_type": "markdown",
   "id": "7a9d0968",
   "metadata": {},
   "source": [
    "As `missing` is similar to R’s `NA` type, we will see more of `missing` when we cover `DataFrames`."
   ]
  },
  {
   "cell_type": "markdown",
   "id": "f61de4f8",
   "metadata": {},
   "source": [
    "## Exercises\n",
    "\n",
    "\n",
    "<a id='np-ex1'></a>"
   ]
  },
  {
   "cell_type": "markdown",
   "id": "7cdd53fd",
   "metadata": {},
   "source": [
    "### Exercise 1\n",
    "\n",
    "This exercise uses matrix operations that arise in certain problems,\n",
    "including when dealing with linear stochastic difference equations.\n",
    "\n",
    "If you aren’t familiar with all the terminology don’t be concerned – you can\n",
    "skim read the background discussion and focus purely on the matrix exercise.\n",
    "\n",
    "With that said, consider the stochastic difference equation\n",
    "\n",
    "\n",
    "<a id='equation-ja-sde'></a>\n",
    "$$\n",
    "X_{t+1} = A X_t + b + \\Sigma W_{t+1} \\tag{4.1}\n",
    "$$\n",
    "\n",
    "Here\n",
    "\n",
    "- $ X_t, b $ and $ X_{t+1} $ are $ n \\times 1 $  \n",
    "- $ A $ is $ n \\times n $  \n",
    "- $ \\Sigma $ is $ n \\times k $  \n",
    "- $ W_t $ is $ k \\times 1 $ and $ \\{W_t\\} $ is iid with zero mean and variance-covariance matrix equal to the identity matrix  \n",
    "\n",
    "\n",
    "Let $ S_t $ denote the $ n \\times n $ variance-covariance matrix of $ X_t $.\n",
    "\n",
    "Using the rules for computing variances in matrix expressions, it can be shown from [(4.1)](#equation-ja-sde) that $ \\{S_t\\} $ obeys\n",
    "\n",
    "\n",
    "<a id='equation-ja-sde-v'></a>\n",
    "$$\n",
    "S_{t+1} = A S_t A' + \\Sigma \\Sigma' \\tag{4.2}\n",
    "$$\n",
    "\n",
    "It can be shown that, provided all eigenvalues of $ A $ lie within the unit circle, the sequence $ \\{S_t\\} $ converges to a unique limit $ S $.\n",
    "\n",
    "This is the **unconditional variance** or **asymptotic variance** of the stochastic difference equation.\n",
    "\n",
    "As an exercise, try writing a simple function that solves for the limit $ S $ by iterating on [(4.2)](#equation-ja-sde-v) given $ A $ and $ \\Sigma $.\n",
    "\n",
    "To test your solution, observe that the limit $ S $ is a solution to the matrix equation\n",
    "\n",
    "\n",
    "<a id='equation-ja-dle'></a>\n",
    "$$\n",
    "S = A S A' + Q\n",
    "\\quad \\text{where} \\quad Q := \\Sigma \\Sigma' \\tag{4.3}\n",
    "$$\n",
    "\n",
    "This kind of equation is known as a **discrete time Lyapunov equation**.\n",
    "\n",
    "The [QuantEcon package](http://quantecon.org/quantecon-jl)\n",
    "provides a function called `solve_discrete_lyapunov` that implements a fast\n",
    "“doubling” algorithm to solve this equation.\n",
    "\n",
    "Test your iterative method against `solve_discrete_lyapunov` using matrices\n",
    "\n",
    "$$\n",
    "A =\n",
    "\\begin{bmatrix}\n",
    "    0.8 & -0.2  \\\\\n",
    "    -0.1 & 0.7\n",
    "\\end{bmatrix}\n",
    "\\qquad\n",
    "\\Sigma =\n",
    "\\begin{bmatrix}\n",
    "    0.5 & 0.4 \\\\\n",
    "    0.4 & 0.6\n",
    "\\end{bmatrix}\n",
    "$$"
   ]
  },
  {
   "cell_type": "markdown",
   "id": "3a363e44",
   "metadata": {},
   "source": [
    "### Exercise 2\n",
    "\n",
    "Take a stochastic process for $ \\{y_t\\}_{t=0}^T $\n",
    "\n",
    "$$\n",
    "y_{t+1} = \\gamma + \\theta y_t + \\sigma w_{t+1}\n",
    "$$\n",
    "\n",
    "where\n",
    "\n",
    "- $ w_{t+1} $ is distributed `Normal(0,1)`  \n",
    "- $ \\gamma=1, \\sigma=1, y_0 = 0 $  \n",
    "- $ \\theta \\in \\Theta \\equiv \\{0.8, 0.9, 0.98\\} $  \n",
    "\n",
    "\n",
    "Given these parameters\n",
    "\n",
    "- Simulate a single $ y_t $ series for each $ \\theta \\in \\Theta $\n",
    "  for $ T = 150 $.  Feel free to experiment with different $ T $.  \n",
    "- Overlay plots of the rolling mean of the process for each $ \\theta \\in \\Theta $,\n",
    "  i.e. for each $ 1 \\leq \\tau \\leq T $ plot  \n",
    "\n",
    "\n",
    "$$\n",
    "\\frac{1}{\\tau}\\sum_{t=1}^{\\tau}y_T\n",
    "$$\n",
    "\n",
    "- Simulate $ N=200 $ paths of the stochastic process above to the $ T $,\n",
    "  for each $ \\theta \\in \\Theta $, where we refer to an element of a particular\n",
    "  simulation as $ y^n_t $.  \n",
    "- Overlay plots a histogram of the stationary distribution of the final\n",
    "  $ y^n_T $ for each $ \\theta \\in \\Theta $.  Hint: pass `alpha`\n",
    "  to a plot to make it transparent (e.g. `histogram(vals, alpha = 0.5)`) or\n",
    "  use `stephist(vals)` to show just the step function for the histogram.  \n",
    "- Numerically find the mean and variance of this as an ensemble average, i.e.\n",
    "  $ \\sum_{n=1}^N\\frac{y^n_T}{N} $ and\n",
    "  $ \\sum_{n=1}^N\\frac{(y_T^n)^2}{N} -\\left(\\sum_{n=1}^N\\frac{y^n_T}{N}\\right)^2 $.  \n",
    "\n",
    "\n",
    "Later, we will interpret some of these in [this lecture](https://julia.quantecon.org/../tools_and_techniques/lln_clt.html)."
   ]
  },
  {
   "cell_type": "markdown",
   "id": "cbb97826",
   "metadata": {},
   "source": [
    "### Exercise 3\n",
    "\n",
    "Let the data generating process for a variable be\n",
    "\n",
    "$$\n",
    "y = a x_1 + b x_1^2 + c x_2 + d + \\sigma w\n",
    "$$\n",
    "\n",
    "where $ y, x_1, x_2 $ are scalar observables, $ a,b,c,d $ are parameters to estimate, and $ w $ are iid normal with mean 0 and variance 1.\n",
    "\n",
    "First, let’s simulate data we can use to estimate the parameters\n",
    "\n",
    "- Draw $ N=50 $ values for $ x_1, x_2 $ from iid normal distributions.  \n",
    "\n",
    "\n",
    "Then, simulate with different $ w $\n",
    "\n",
    "- Draw a $ w $ vector for the `N` values and then `y` from this simulated data if the parameters were $ a = 0.1, b = 0.2 c = 0.5, d = 1.0, \\sigma = 0.1 $.  \n",
    "- Repeat that so you have `M = 20` different simulations of the `y` for the `N` values.  \n",
    "\n",
    "\n",
    "Finally, calculate order least squares manually (i.e., put the observables\n",
    "into matrices and vectors, and directly use the equations for\n",
    "[OLS](https://en.wikipedia.org/wiki/Ordinary_least_squares) rather than a package).\n",
    "\n",
    "- For each of the `M=20` simulations, calculate the OLS estimates for $ a, b, c, d, \\sigma $.  \n",
    "- Plot a histogram of these estimates for each variable.  "
   ]
  },
  {
   "cell_type": "markdown",
   "id": "7d1b4713",
   "metadata": {},
   "source": [
    "### Exercise 4\n",
    "\n",
    "Redo Exercise 1 using the `fixedpoint` function from `NLsolve` [this lecture](https://julia.quantecon.org/julia_by_example.html).\n",
    "\n",
    "Compare the number of iterations of the NLsolve’s Anderson Acceleration to the handcoded iteration used in Exercise 1.\n",
    "\n",
    "Hint: Convert the matrix to a vector to use `fixedpoint`. e.g. `A = [1 2; 3 4]` then `x = reshape(A, 4)` turns it into a vector.  To reverse, `reshape(x, 2, 2)`."
   ]
  },
  {
   "cell_type": "markdown",
   "id": "15e24bf3",
   "metadata": {},
   "source": [
    "## Solutions"
   ]
  },
  {
   "cell_type": "markdown",
   "id": "2f1ec946",
   "metadata": {},
   "source": [
    "### Exercise 1\n",
    "\n",
    "Here’s the iterative approach"
   ]
  },
  {
   "cell_type": "code",
   "execution_count": null,
   "id": "57527995",
   "metadata": {
    "hide-output": false
   },
   "outputs": [],
   "source": [
    "function compute_asymptotic_var(A, Σ;\n",
    "                                S0 = Σ * Σ',\n",
    "                                tolerance = 1e-6,\n",
    "                                maxiter = 500)\n",
    "    V = Σ * Σ'\n",
    "    S = S0\n",
    "    err = tolerance + 1\n",
    "    i = 1\n",
    "    while err > tolerance && i ≤ maxiter\n",
    "        next_S = A * S * A' + V\n",
    "        err = norm(S - next_S)\n",
    "        S = next_S\n",
    "        i += 1\n",
    "    end\n",
    "    return S\n",
    "end"
   ]
  },
  {
   "cell_type": "code",
   "execution_count": null,
   "id": "ec3b91b9",
   "metadata": {
    "hide-output": false
   },
   "outputs": [],
   "source": [
    "A = [0.8  -0.2;\n",
    "     -0.1  0.7]\n",
    "\n",
    "Σ = [0.5 0.4;\n",
    "     0.4 0.6]"
   ]
  },
  {
   "cell_type": "markdown",
   "id": "094a17fa",
   "metadata": {},
   "source": [
    "Note that all eigenvalues of $ A $ lie inside the unit disc."
   ]
  },
  {
   "cell_type": "code",
   "execution_count": null,
   "id": "36d96037",
   "metadata": {
    "hide-output": false
   },
   "outputs": [],
   "source": [
    "maximum(abs, eigvals(A))"
   ]
  },
  {
   "cell_type": "markdown",
   "id": "f175152c",
   "metadata": {},
   "source": [
    "Let’s compute the asymptotic variance"
   ]
  },
  {
   "cell_type": "code",
   "execution_count": null,
   "id": "c3ac0593",
   "metadata": {
    "hide-output": false
   },
   "outputs": [],
   "source": [
    "our_solution = compute_asymptotic_var(A, Σ)"
   ]
  },
  {
   "cell_type": "markdown",
   "id": "6809c8cc",
   "metadata": {},
   "source": [
    "Now let’s do the same thing using QuantEcon’s `solve_discrete_lyapunov()` function and check we get the same result."
   ]
  },
  {
   "cell_type": "code",
   "execution_count": null,
   "id": "945344a5",
   "metadata": {
    "hide-output": false
   },
   "outputs": [],
   "source": [
    "using QuantEcon"
   ]
  },
  {
   "cell_type": "code",
   "execution_count": null,
   "id": "8573d04a",
   "metadata": {
    "hide-output": false
   },
   "outputs": [],
   "source": [
    "norm(our_solution - solve_discrete_lyapunov(A, Σ * Σ'))"
   ]
  }
 ],
 "metadata": {
  "date": 1643875377.7750418,
  "filename": "fundamental_types.md",
  "kernelspec": {
   "display_name": "Julia",
   "language": "julia",
   "name": "julia-1.7"
  },
  "title": "Arrays, Tuples, Ranges, and Other Fundamental Types"
 },
 "nbformat": 4,
 "nbformat_minor": 5
}