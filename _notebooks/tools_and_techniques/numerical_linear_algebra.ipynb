{
 "cells": [
  {
   "cell_type": "markdown",
   "id": "6448abd0",
   "metadata": {},
   "source": [
    "\n",
    "<a id='numerical-linear-algebra'></a>"
   ]
  },
  {
   "cell_type": "markdown",
   "id": "bedd0cad",
   "metadata": {},
   "source": [
    "# Numerical Linear Algebra and Factorizations"
   ]
  },
  {
   "cell_type": "markdown",
   "id": "0194d7fa",
   "metadata": {},
   "source": [
    "## Contents\n",
    "\n",
    "- [Numerical Linear Algebra and Factorizations](#Numerical-Linear-Algebra-and-Factorizations)  \n",
    "  - [Overview](#Overview)  \n",
    "  - [Factorizations](#Factorizations)  \n",
    "  - [Continuous-Time Markov Chains (CTMCs)](#Continuous-Time-Markov-Chains-%28CTMCs%29)  \n",
    "  - [Banded Matrices](#Banded-Matrices)  \n",
    "  - [Implementation Details and Performance](#Implementation-Details-and-Performance)  \n",
    "  - [Patterns for Preallocated Caches of Results](#Patterns-for-Preallocated-Caches-of-Results)  \n",
    "  - [Exercises](#Exercises)  "
   ]
  },
  {
   "cell_type": "markdown",
   "id": "80443da6",
   "metadata": {},
   "source": [
    "> You cannot learn too much linear algebra. – Benedict Gross"
   ]
  },
  {
   "cell_type": "markdown",
   "id": "d7aeb331",
   "metadata": {},
   "source": [
    "## Overview\n",
    "\n",
    "In this lecture, we examine the structure of matrices and linear operators (e.g., dense, sparse, symmetric, tridiagonal, banded) and\n",
    "discuss how the structure can be exploited to radically increase the performance of solving large problems.\n",
    "\n",
    "We build on applications discussed in previous lectures: [linear algebra](https://julia.quantecon.org/linear_algebra.html), [orthogonal projections](https://julia.quantecon.org/orth_proj.html), and [Markov chains](https://julia.quantecon.org/finite_markov.html).\n",
    "\n",
    "The methods in this section are called direct methods, and they are qualitatively similar to performing Gaussian elimination to factor matrices and solve systems of equations.  In [iterative methods and sparsity](https://julia.quantecon.org/iterative_methods_sparsity.html) we examine a different approach, using iterative algorithms, where we can think of more general linear operators.\n",
    "\n",
    "The list of specialized packages for these tasks is enormous and growing, but some of the important organizations to\n",
    "look at are [JuliaMatrices](https://github.com/JuliaMatrices) , [JuliaSparse](https://github.com/JuliaSparse), and [JuliaMath](https://github.com/JuliaMath)\n",
    "\n",
    "*NOTE*: As this section uses advanced Julia techniques, you may wish to review multiple-dispatch and generic programming in  [introduction to types](https://julia.quantecon.org/../getting_started_julia/introduction_to_types.html), and consider further study on [generic programming](https://julia.quantecon.org/../more_julia/generic_programming.html).\n",
    "\n",
    "The theme of this lecture, and numerical linear algebra in general, comes down to three principles:\n",
    "\n",
    "1. **Identify structure** (e.g., [symmetric, sparse, diagonal](https://docs.julialang.org/en/v1/stdlib/LinearAlgebra/index.html#Special-matrices-1)) matrices in order to use **specialized algorithms.**  \n",
    "1. **Do not lose structure** by applying the wrong numerical linear algebra operations at the wrong times (e.g., sparse matrix becoming dense)  \n",
    "1. Understand the **computational complexity** of each algorithm, given the structure of the inputs.  "
   ]
  },
  {
   "cell_type": "code",
   "execution_count": null,
   "id": "a73c282b",
   "metadata": {
    "hide-output": false
   },
   "outputs": [],
   "source": [
    "using LinearAlgebra, Statistics, BenchmarkTools, SparseArrays, Random, Parameters\n",
    "Random.seed!(42);  # seed random numbers for reproducibility"
   ]
  },
  {
   "cell_type": "markdown",
   "id": "b214076d",
   "metadata": {},
   "source": [
    "### Computational Complexity\n",
    "\n",
    "Ask yourself whether the following is a **computationally expensive** operation as the matrix **size increases**\n",
    "\n",
    "- Multiplying two matrices?  \n",
    "  - *Answer*: It depends.  Multiplying two diagonal matrices is trivial.  \n",
    "- Solving a linear system of equations?  \n",
    "  - *Answer*: It depends.  If the matrix is the identity, the solution is the vector itself.  \n",
    "- Finding the eigenvalues of a matrix?  \n",
    "  - *Answer*: It depends.  The eigenvalues of a triangular matrix are the diagonal elements.  \n",
    "\n",
    "\n",
    "As the goal of this section is to move toward numerical methods with large systems, we need to understand how well algorithms scale with the size of matrices, vectors, etc.  This is known as [computational complexity](https://en.wikipedia.org/wiki/Computational_complexity).  As we saw in the answer to the questions above, the algorithm - and hence the computational complexity - changes based on matrix structure.\n",
    "\n",
    "While this notion of complexity can work at various levels, such as the number of [significant digits](https://en.wikipedia.org/wiki/Computational_complexity_of_mathematical_operations#Arithmetic_functions) for basic mathematical operations, the amount of memory and storage required, or the amount of time, we will typically focus on the time complexity.\n",
    "\n",
    "For time complexity, the size $ N $ is usually the dimensionality of the problem, although occasionally the key will be the number of non-zeros in the matrix or the width of bands.  For our applications, time complexity is best thought of as the number of floating point operations (e.g., addition, multiplication) required."
   ]
  },
  {
   "cell_type": "markdown",
   "id": "e6eead9f",
   "metadata": {},
   "source": [
    "#### Notation\n",
    "\n",
    "Complexity of algorithms is typically written in [Big O](https://en.wikipedia.org/wiki/Big_O_notation) notation, which provides bounds on the scaling of the computational complexity with respect to the size of the inputs.\n",
    "\n",
    "Formally, if the number of operations required for a problem size $ N $ is $ f(N) $, we  can write this as $ f(N) = O(g(N)) $ for some $ g(N) $ - typically a polynomial.\n",
    "\n",
    "The interpretation is that there exist some constants $ M $ and $ N_0 $ such that\n",
    "\n",
    "$$\n",
    "f(N) \\leq M g(N), \\text{ for } N > N_0\n",
    "$$\n",
    "\n",
    "For example, the complexity of finding an LU Decomposition of a dense matrix is $ O(N^3) $, which should be read as there being a constant where\n",
    "eventually the number of floating point operations required to decompose a matrix of size $ N\\times N $ grows cubically.\n",
    "\n",
    "Keep in mind that these are asymptotic results intended for understanding the scaling of the problem, and the constant can matter for a given\n",
    "fixed size.\n",
    "\n",
    "For example, the number of operations required for an [LU decomposition](https://en.wikipedia.org/wiki/LU_decomposition#Algorithms) of a dense $ N \\times N $ matrix is $ f(N) = \\frac{2}{3} N^3 $, ignoring the $ N^2 $ and lower terms.  Other methods of solving a linear system may have different constants of proportionality, even if they have the same scaling, $ O(N^3) $."
   ]
  },
  {
   "cell_type": "markdown",
   "id": "5888dca1",
   "metadata": {},
   "source": [
    "### Rules of Computational Complexity\n",
    "\n",
    "You will sometimes need to think through how [combining algorithms](https://en.wikipedia.org/wiki/Big_O_notation#Properties) changes complexity.  For example, if you use\n",
    "\n",
    "1. an $ O(N^3) $ operation $ P $ times, then it simply changes the constant. The complexity remains $ O(N^3) $.  \n",
    "1. one $ O(N^3) $ operation and one $ O(N^2) $ operation, then you take the max.  The complexity remains $ O(N^3) $.  \n",
    "1. a repetition of an $ O(N) $ operation that itself uses an $ O(N) $ operation, you take the product.  The complexity becomes $ O(N^2) $.  \n",
    "\n",
    "\n",
    "With this, we have an important word of caution: Dense-matrix multiplication is an [expensive operation](https://en.wikipedia.org/wiki/Computational_complexity_of_mathematical_operations#Matrix_algebra) for unstructured matrices.  The naive version is $ O(N^3) $ while the fastest-known algorithms (e.g., Coppersmith-Winograd) are roughly $ O(N^{2.37}) $.  In practice, it is reasonable to crudely approximate with $ O(N^3) $ when doing an analysis, in part since the higher constant factors of the better scaling algorithms dominate the better complexity until matrices become very large.\n",
    "\n",
    "Of course, modern libraries use highly tuned and numerically stable [algorithms](https://en.wikipedia.org/wiki/Matrix_multiplication_algorithm) to multiply matrices and exploit the computer architecture, memory cache, etc., but this simply lowers the constant of proportionality and they remain roughly approximated by  $ O(N^3) $.\n",
    "\n",
    "A consequence is that, since many algorithms require matrix-matrix multiplication, it is often not possible to go below that order without further matrix structure.\n",
    "\n",
    "That is, changing the constant of proportionality for a given size can help, but in order to achieve better scaling you need to identify matrix structure (e.g., tridiagonal, sparse) and ensure that your operations do not lose it."
   ]
  },
  {
   "cell_type": "markdown",
   "id": "38824ea4",
   "metadata": {},
   "source": [
    "### Losing Structure\n",
    "\n",
    "As a first example of a structured matrix, consider a [sparse array](https://docs.julialang.org/en/v1/stdlib/SparseArrays/index.html)."
   ]
  },
  {
   "cell_type": "code",
   "execution_count": null,
   "id": "efbde811",
   "metadata": {
    "hide-output": false
   },
   "outputs": [],
   "source": [
    "A = sprand(10, 10, 0.45)  # random sparse 10x10, 45 percent filled with non-zeros\n",
    "\n",
    "@show nnz(A)  # counts the number of non-zeros\n",
    "invA = sparse(inv(Array(A)))  # Julia won't invert sparse, so convert to dense with Array.\n",
    "@show nnz(invA);"
   ]
  },
  {
   "cell_type": "markdown",
   "id": "ca69cd0a",
   "metadata": {},
   "source": [
    "This increase from less than 50 to 100 percent dense demonstrates that significant sparsity can be lost when computing an inverse.\n",
    "\n",
    "The results can be even more extreme.  Consider a tridiagonal matrix of size $ N \\times N $\n",
    "that might come out of a Markov chain or a discretization of a diffusion process,"
   ]
  },
  {
   "cell_type": "code",
   "execution_count": null,
   "id": "858927d8",
   "metadata": {
    "hide-output": false
   },
   "outputs": [],
   "source": [
    "N = 5\n",
    "A = Tridiagonal([fill(0.1, N-2); 0.2], fill(0.8, N), [0.2; fill(0.1, N-2);])"
   ]
  },
  {
   "cell_type": "markdown",
   "id": "84a675a2",
   "metadata": {},
   "source": [
    "The number of non-zeros here is approximately $ 3 N $, linear, which scales well for huge matrices into the millions or billions\n",
    "\n",
    "But consider the inverse"
   ]
  },
  {
   "cell_type": "code",
   "execution_count": null,
   "id": "ff6e4be9",
   "metadata": {
    "hide-output": false
   },
   "outputs": [],
   "source": [
    "inv(A)"
   ]
  },
  {
   "cell_type": "markdown",
   "id": "ab2e20ea",
   "metadata": {},
   "source": [
    "Now, the matrix is fully dense and has $ N^2 $ non-zeros.\n",
    "\n",
    "This also applies to the $ A' A $ operation when forming the normal equations of linear least squares."
   ]
  },
  {
   "cell_type": "code",
   "execution_count": null,
   "id": "80eaad59",
   "metadata": {
    "hide-output": false
   },
   "outputs": [],
   "source": [
    "A = sprand(20, 21, 0.3)\n",
    "@show nnz(A)/20^2\n",
    "@show nnz(A'*A)/21^2;"
   ]
  },
  {
   "cell_type": "markdown",
   "id": "b01a25bf",
   "metadata": {},
   "source": [
    "We see that a 30 percent dense matrix becomes almost full dense after the product is taken.\n",
    "\n",
    "*Sparsity/Structure is not just for storage*:  Matrix size can sometimes become important (e.g., a 1 million by 1 million tridiagonal matrix needs to store 3 million numbers (i.e., about 6MB of memory), where a dense one requires 1 trillion (i.e., about 1TB of memory)).\n",
    "\n",
    "But, as we will see, the main purpose of considering sparsity and matrix structure is that it enables specialized algorithms, which typically\n",
    "have a lower computational order than unstructured dense, or even unstructured sparse, operations.\n",
    "\n",
    "First, create a convenient function for benchmarking linear solvers"
   ]
  },
  {
   "cell_type": "code",
   "execution_count": null,
   "id": "90db6393",
   "metadata": {
    "hide-output": false
   },
   "outputs": [],
   "source": [
    "using BenchmarkTools\n",
    "function benchmark_solve(A, b)\n",
    "    println(\"A\\\\b for typeof(A) = $(string(typeof(A)))\")\n",
    "    @btime $A \\ $b\n",
    "end"
   ]
  },
  {
   "cell_type": "markdown",
   "id": "c9e9e1d0",
   "metadata": {},
   "source": [
    "Then, take away structure to see the impact on performance,"
   ]
  },
  {
   "cell_type": "code",
   "execution_count": null,
   "id": "7a86cb56",
   "metadata": {
    "hide-output": false
   },
   "outputs": [],
   "source": [
    "N = 1000\n",
    "b = rand(N)\n",
    "A = Tridiagonal([fill(0.1, N-2); 0.2], fill(0.8, N), [0.2; fill(0.1, N-2);])\n",
    "A_sparse = sparse(A)  # sparse but losing tridiagonal structure\n",
    "A_dense = Array(A)    # dropping the sparsity structure, dense 1000x1000\n",
    "\n",
    "# benchmark solution to system A x = b\n",
    "benchmark_solve(A, b)\n",
    "benchmark_solve(A_sparse, b)\n",
    "benchmark_solve(A_dense, b);"
   ]
  },
  {
   "cell_type": "markdown",
   "id": "83197cfd",
   "metadata": {},
   "source": [
    "This example shows what is at stake:  using a structured tridiagonal matrix may be 10-20 times faster than using a sparse matrix, which is 100 times faster than\n",
    "using a dense matrix.\n",
    "\n",
    "In fact, the difference becomes more extreme as the matrices grow.  Solving a tridiagonal system is $ O(N) $, while that of a dense matrix without any structure is $ O(N^3) $.  The complexity of a sparse solution is more complicated, and scales in part by the `nnz(N)`, i.e., the number of nonzeros."
   ]
  },
  {
   "cell_type": "markdown",
   "id": "ea6925a6",
   "metadata": {},
   "source": [
    "### Matrix Multiplication\n",
    "\n",
    "While we write matrix multiplications in our algebra with abundance, in practice the computational operation scales very poorly without any matrix structure.\n",
    "\n",
    "Matrix multiplication is so important to modern computers that the constant of scaling is small using proper packages, but the order is still roughly $ O(N^3) $ in practice (although smaller in theory, as discussed above).\n",
    "\n",
    "Sparse matrix multiplication, on the other hand, is $ O(N M_A M_B) $ where $ M_A $ is the number of nonzeros per row of $ A $ and $ M_B $ is the number of non-zeros per column of $ B $.\n",
    "\n",
    "By the rules of computational order, that means any algorithm requiring a matrix multiplication of dense matrices requires at least $ O(N^3) $ operation.\n",
    "\n",
    "The other important question is what is the structure of the resulting matrix.  For example, multiplying an upper triangular matrix by a lower triangular matrix"
   ]
  },
  {
   "cell_type": "code",
   "execution_count": null,
   "id": "3255175a",
   "metadata": {
    "hide-output": false
   },
   "outputs": [],
   "source": [
    "N = 5\n",
    "U = UpperTriangular(rand(N,N))"
   ]
  },
  {
   "cell_type": "code",
   "execution_count": null,
   "id": "1442ad78",
   "metadata": {
    "hide-output": false
   },
   "outputs": [],
   "source": [
    "L = U'"
   ]
  },
  {
   "cell_type": "markdown",
   "id": "de5f8ba5",
   "metadata": {},
   "source": [
    "But the product is fully dense (e.g., think of a Cholesky multiplied by itself to produce a covariance matrix)"
   ]
  },
  {
   "cell_type": "code",
   "execution_count": null,
   "id": "529a60e3",
   "metadata": {
    "hide-output": false
   },
   "outputs": [],
   "source": [
    "L * U"
   ]
  },
  {
   "cell_type": "markdown",
   "id": "6486a607",
   "metadata": {},
   "source": [
    "On the other hand, a tridiagonal matrix times a diagonal matrix is still tridiagonal - and can use specialized $ O(N) $ algorithms."
   ]
  },
  {
   "cell_type": "code",
   "execution_count": null,
   "id": "6c131589",
   "metadata": {
    "hide-output": false
   },
   "outputs": [],
   "source": [
    "A = Tridiagonal([fill(0.1, N-2); 0.2], fill(0.8, N), [0.2; fill(0.1, N-2);])\n",
    "D = Diagonal(rand(N))\n",
    "D * A"
   ]
  },
  {
   "cell_type": "markdown",
   "id": "283e14f6",
   "metadata": {},
   "source": [
    "## Factorizations\n",
    "\n",
    "When you tell a numerical analyst you are solving a linear system using direct methods, their first question is “which factorization?”.\n",
    "\n",
    "Just as you can factor a number (e.g., $ 6 = 3 \\times 2 $) you can factor a matrix as the product of other, more\n",
    "convenient matrices (e.g., $ A = L U $ or $ A = Q R $, where $ L, U, Q, $ and $ R $ have properties such as being triangular, [orthogonal](https://en.wikipedia.org/wiki/Orthogonal_matrix), etc.)."
   ]
  },
  {
   "cell_type": "markdown",
   "id": "2a7b0937",
   "metadata": {},
   "source": [
    "### Inverting Matrices\n",
    "\n",
    "On paper, since the [Invertible Matrix Theorem](https://en.wikipedia.org/wiki/Invertible_matrix#The_invertible_matrix_theorem) tells us that a unique solution is\n",
    "equivalent to $ A $ being invertible, we often write the solution to $ A x = b $ as\n",
    "\n",
    "$$\n",
    "x = A^{-1} b\n",
    "$$\n",
    "\n",
    "What if we do not (directly) use a factorization?\n",
    "\n",
    "Take a simple linear system of a dense matrix,"
   ]
  },
  {
   "cell_type": "code",
   "execution_count": null,
   "id": "603eb9cc",
   "metadata": {
    "hide-output": false
   },
   "outputs": [],
   "source": [
    "N = 4\n",
    "A = rand(N,N)\n",
    "b = rand(N)"
   ]
  },
  {
   "cell_type": "markdown",
   "id": "20f7718d",
   "metadata": {},
   "source": [
    "On paper, we try to solve the system $ A x = b $ by inverting the matrix,"
   ]
  },
  {
   "cell_type": "code",
   "execution_count": null,
   "id": "554d79f2",
   "metadata": {
    "hide-output": false
   },
   "outputs": [],
   "source": [
    "x = inv(A) * b"
   ]
  },
  {
   "cell_type": "markdown",
   "id": "ceb4ef21",
   "metadata": {},
   "source": [
    "As we will see throughout, inverting matrices should be used for theory, not for code.  The classic advice that you should [never invert a matrix](https://www.johndcook.com/blog/2010/01/19/dont-invert-that-matrix) may be [slightly exaggerated](https://arxiv.org/abs/1201.6035), but is generally good advice.\n",
    "\n",
    "Solving a system by inverting a matrix is always a little slower, is potentially less accurate, and will sometimes lose crucial sparsity compared to using factorizations.  Moreover, the methods used by libraries to invert matrices are frequently the same factorizations used for computing a system of equations.\n",
    "\n",
    "Even if you need to solve a system with the same matrix multiple times, you are better off factoring the matrix and using the solver rather than calculating an inverse."
   ]
  },
  {
   "cell_type": "code",
   "execution_count": null,
   "id": "84a55485",
   "metadata": {
    "hide-output": false
   },
   "outputs": [],
   "source": [
    "N = 100\n",
    "A = rand(N,N)\n",
    "M = 30\n",
    "B = rand(N,M)\n",
    "function solve_inverting(A, B)\n",
    "    A_inv = inv(A)\n",
    "    X = similar(B)\n",
    "    for i in 1:size(B,2)\n",
    "        X[:,i] = A_inv * B[:,i]\n",
    "    end\n",
    "    return X\n",
    "end\n",
    "\n",
    "function solve_factoring(A, B)\n",
    "    X = similar(B)\n",
    "    A = factorize(A)\n",
    "    for i in 1:size(B,2)\n",
    "        X[:,i] = A \\ B[:,i]\n",
    "    end\n",
    "    return X\n",
    "end\n",
    "\n",
    "\n",
    "\n",
    "@btime solve_inverting($A, $B)\n",
    "@btime solve_factoring($A, $B)\n",
    "\n",
    "# even better, use the built-in feature for multiple RHS\n",
    "@btime $A \\ $B;"
   ]
  },
  {
   "cell_type": "markdown",
   "id": "e32fd360",
   "metadata": {},
   "source": [
    "### Triangular Matrices and Back/Forward Substitution\n",
    "\n",
    "Some matrices are already in a convenient form and require no further factoring.\n",
    "\n",
    "For example, consider solving a system with an `UpperTriangular` matrix,"
   ]
  },
  {
   "cell_type": "code",
   "execution_count": null,
   "id": "1647ee89",
   "metadata": {
    "hide-output": false
   },
   "outputs": [],
   "source": [
    "b = [1.0, 2.0, 3.0]\n",
    "U = UpperTriangular([1.0 2.0 3.0; 0.0 5.0 6.0; 0.0 0.0 9.0])"
   ]
  },
  {
   "cell_type": "markdown",
   "id": "c1459def",
   "metadata": {},
   "source": [
    "This system is especially easy to solve using [back substitution](https://en.wikipedia.org/wiki/Triangular_matrix#Forward_and_back_substitution).  In particular, $ x_3 = b_3 / U_{33}, x_2 = (b_2 - x_3 U_{23})/U_{22} $, etc."
   ]
  },
  {
   "cell_type": "code",
   "execution_count": null,
   "id": "5dde85cd",
   "metadata": {
    "hide-output": false
   },
   "outputs": [],
   "source": [
    "U \\ b"
   ]
  },
  {
   "cell_type": "markdown",
   "id": "8f9990d9",
   "metadata": {},
   "source": [
    "A `LowerTriangular` matrix has similar properties and can be solved with forward substitution.\n",
    "\n",
    "The computational order of back substitution and forward substitution is $ O(N^2) $ for dense matrices.  Those fast algorithms are a key reason that factorizations target triangular structures.\n",
    "\n",
    "\n",
    "<a id='jl-decomposition'></a>"
   ]
  },
  {
   "cell_type": "markdown",
   "id": "812b1533",
   "metadata": {},
   "source": [
    "### LU Decomposition\n",
    "\n",
    "The $ LU $ decomposition finds a lower triangular matrix $ L $ and an upper triangular matrix $ U $ such that $ L U = A $.\n",
    "\n",
    "For a general dense matrix without any other structure (i.e., not known to be symmetric, tridiagonal, etc.) this is the standard approach to solve a system and exploit the speed of back and forward substitution using the factorization.\n",
    "\n",
    "The computational order of LU decomposition itself for a dense matrix is $ O(N^3) $ - the same as Gaussian elimination - but it tends\n",
    "to have a better constant term than others (e.g., half the number of operations of the QR decomposition).  For structured\n",
    "or sparse matrices, that order drops.\n",
    "\n",
    "We can see which algorithm Julia will use for the `\\` operator by looking at the `factorize` function for a given\n",
    "matrix."
   ]
  },
  {
   "cell_type": "code",
   "execution_count": null,
   "id": "3434220b",
   "metadata": {
    "hide-output": false
   },
   "outputs": [],
   "source": [
    "N = 4\n",
    "A = rand(N,N)\n",
    "b = rand(N)\n",
    "\n",
    "Af = factorize(A)  # chooses the right factorization, LU here"
   ]
  },
  {
   "cell_type": "markdown",
   "id": "88dbd045",
   "metadata": {},
   "source": [
    "In this case, it provides an $ L $ and $ U $ factorization (with [pivoting](https://en.wikipedia.org/wiki/LU_decomposition#LU_factorization_with_full_pivoting) ).\n",
    "\n",
    "With the factorization complete, we can solve different `b` right hand sides."
   ]
  },
  {
   "cell_type": "code",
   "execution_count": null,
   "id": "6c047643",
   "metadata": {
    "hide-output": false
   },
   "outputs": [],
   "source": [
    "Af \\ b"
   ]
  },
  {
   "cell_type": "code",
   "execution_count": null,
   "id": "fe964ad9",
   "metadata": {
    "hide-output": false
   },
   "outputs": [],
   "source": [
    "b2 = rand(N)\n",
    "Af \\ b2"
   ]
  },
  {
   "cell_type": "markdown",
   "id": "f7ea14a5",
   "metadata": {},
   "source": [
    "In practice, the decomposition also includes a $ P $ which is a [permutation matrix](https://en.wikipedia.org/wiki/Permutation_matrix) such\n",
    "that $ P A = L U $."
   ]
  },
  {
   "cell_type": "code",
   "execution_count": null,
   "id": "4c0e05cf",
   "metadata": {
    "hide-output": false
   },
   "outputs": [],
   "source": [
    "Af.P * A ≈ Af.L * Af.U"
   ]
  },
  {
   "cell_type": "markdown",
   "id": "1c1d66cf",
   "metadata": {},
   "source": [
    "We can also directly calculate an LU decomposition with `lu` but without the pivoting,"
   ]
  },
  {
   "cell_type": "code",
   "execution_count": null,
   "id": "976d40d8",
   "metadata": {
    "hide-output": false
   },
   "outputs": [],
   "source": [
    "L, U = lu(A, Val(false))  # the Val(false) provides a solution without permutation matrices"
   ]
  },
  {
   "cell_type": "markdown",
   "id": "638d36b8",
   "metadata": {},
   "source": [
    "And we can verify the decomposition"
   ]
  },
  {
   "cell_type": "code",
   "execution_count": null,
   "id": "f60fe790",
   "metadata": {
    "hide-output": false
   },
   "outputs": [],
   "source": [
    "A ≈ L * U"
   ]
  },
  {
   "cell_type": "markdown",
   "id": "0d1d5285",
   "metadata": {},
   "source": [
    "To see roughly how the solver works, note that we can write the problem $ A x = b $ as $ L U x = b $.  Let $ U x = y $, which breaks the\n",
    "problem into two sub-problems.\n",
    "\n",
    "$$\n",
    "\\begin{aligned}\n",
    "L y &= b\\\\\n",
    "U x &= y\n",
    "\\end{aligned}\n",
    "$$\n",
    "\n",
    "As we saw above, this is the solution to two triangular systems, which can be efficiently done with back or forward substitution in $ O(N^2) $ operations.\n",
    "\n",
    "To demonstrate this, first using"
   ]
  },
  {
   "cell_type": "code",
   "execution_count": null,
   "id": "8bb0ee5c",
   "metadata": {
    "hide-output": false
   },
   "outputs": [],
   "source": [
    "y = L \\ b"
   ]
  },
  {
   "cell_type": "code",
   "execution_count": null,
   "id": "4c49631e",
   "metadata": {
    "hide-output": false
   },
   "outputs": [],
   "source": [
    "x = U \\ y\n",
    "x ≈ A \\ b  # Check identical"
   ]
  },
  {
   "cell_type": "markdown",
   "id": "5f456228",
   "metadata": {},
   "source": [
    "The LU decomposition also has specialized algorithms for structured matrices, such as a `Tridiagonal`"
   ]
  },
  {
   "cell_type": "code",
   "execution_count": null,
   "id": "f96d2e8e",
   "metadata": {
    "hide-output": false
   },
   "outputs": [],
   "source": [
    "N = 1000\n",
    "b = rand(N)\n",
    "A = Tridiagonal([fill(0.1, N-2); 0.2], fill(0.8, N), [0.2; fill(0.1, N-2);])\n",
    "factorize(A) |> typeof"
   ]
  },
  {
   "cell_type": "markdown",
   "id": "aa95319b",
   "metadata": {},
   "source": [
    "This factorization is the key to the performance of the `A \\ b` in this case.  For Tridiagonal matrices, the\n",
    "LU decomposition is $ O(N^2) $.\n",
    "\n",
    "Finally, just as a dense matrix without any structure uses an LU decomposition to solve a system,\n",
    "so will the sparse solvers"
   ]
  },
  {
   "cell_type": "code",
   "execution_count": null,
   "id": "81567cfb",
   "metadata": {
    "hide-output": false
   },
   "outputs": [],
   "source": [
    "A_sparse = sparse(A)\n",
    "factorize(A_sparse) |> typeof  # dropping the tridiagonal structure to just become sparse"
   ]
  },
  {
   "cell_type": "code",
   "execution_count": null,
   "id": "c0486f50",
   "metadata": {
    "hide-output": false
   },
   "outputs": [],
   "source": [
    "benchmark_solve(A, b)\n",
    "benchmark_solve(A_sparse, b);"
   ]
  },
  {
   "cell_type": "markdown",
   "id": "a640858a",
   "metadata": {},
   "source": [
    "With sparsity, the computational order is related to the number of non-zeros rather than the size of the matrix itself."
   ]
  },
  {
   "cell_type": "markdown",
   "id": "baa83354",
   "metadata": {},
   "source": [
    "### Cholesky Decomposition\n",
    "\n",
    "For real, symmetric, [positive semi-definite](https://en.wikipedia.org/wiki/Definiteness_of_a_matrix) matrices, a Cholesky decomposition is a specialized example of an LU decomposition where $ L = U' $.\n",
    "\n",
    "The Cholesky is directly useful on its own (e.g., [Classical Control with Linear Algebra](https://julia.quantecon.org/../time_series_models/classical_filtering.html)), but it is also an efficient factorization to use in solving symmetric positive semi-definite systems.\n",
    "\n",
    "As always, symmetry allows specialized algorithms."
   ]
  },
  {
   "cell_type": "code",
   "execution_count": null,
   "id": "6fbfec01",
   "metadata": {
    "hide-output": false
   },
   "outputs": [],
   "source": [
    "N = 500\n",
    "B = rand(N,N)\n",
    "A_dense = B' * B  # an easy way to generate a symmetric positive semi-definite matrix\n",
    "A = Symmetric(A_dense)  # flags the matrix as symmetric\n",
    "\n",
    "factorize(A) |> typeof"
   ]
  },
  {
   "cell_type": "markdown",
   "id": "91d00004",
   "metadata": {},
   "source": [
    "Here, the $ A $ decomposition is [Bunch-Kaufman](https://docs.julialang.org/en/v1/stdlib/LinearAlgebra/index.html#LinearAlgebra.bunchkaufman) rather than\n",
    "Cholesky, because Julia doesn’t know that the matrix is positive semi-definite.  We can manually factorize with a Cholesky,"
   ]
  },
  {
   "cell_type": "code",
   "execution_count": null,
   "id": "1b19ded0",
   "metadata": {
    "hide-output": false
   },
   "outputs": [],
   "source": [
    "cholesky(A) |> typeof"
   ]
  },
  {
   "cell_type": "markdown",
   "id": "1f28ca7d",
   "metadata": {},
   "source": [
    "Benchmarking,"
   ]
  },
  {
   "cell_type": "code",
   "execution_count": null,
   "id": "086af756",
   "metadata": {
    "hide-output": false
   },
   "outputs": [],
   "source": [
    "b = rand(N)\n",
    "cholesky(A) \\ b  # use the factorization to solve\n",
    "\n",
    "benchmark_solve(A, b)\n",
    "benchmark_solve(A_dense, b)\n",
    "@btime cholesky($A, check=false) \\ $b;"
   ]
  },
  {
   "cell_type": "markdown",
   "id": "e3fe4e52",
   "metadata": {},
   "source": [
    "### QR Decomposition\n",
    "\n",
    "Previously, we learned about applications of the QR decomposition to solving the linear least squares.\n",
    "\n",
    "While in principle the solution to the least-squares problem\n",
    "\n",
    "$$\n",
    "\\min_x \\| Ax -b \\|^2\n",
    "$$\n",
    "\n",
    "is $ x = (A'A)^{-1}A'b $, in practice note that $ A'A $ becomes dense and calculating the inverse is rarely a good idea.\n",
    "\n",
    "The QR decomposition is a decomposition $ A = Q R $ where $ Q $ is an orthogonal matrix (i.e., $ Q'Q = Q Q' = I $) and $ R $ is\n",
    "an upper triangular matrix.\n",
    "\n",
    "Given the  previous derivation, we showed that we can write the least-squares problem as\n",
    "the solution to\n",
    "\n",
    "$$\n",
    "R x = Q' b\n",
    "$$\n",
    "\n",
    "where, as discussed above, the upper-triangular structure of $ R $ can be solved easily with back substitution.\n",
    "\n",
    "The `\\` operator solves the linear least-squares problem whenever the given `A` is rectangular"
   ]
  },
  {
   "cell_type": "code",
   "execution_count": null,
   "id": "fa7bb73c",
   "metadata": {
    "hide-output": false
   },
   "outputs": [],
   "source": [
    "N = 10\n",
    "M = 3\n",
    "x_true = rand(3)\n",
    "\n",
    "A = rand(N,M) .+ randn(N)\n",
    "b = rand(N)\n",
    "x = A \\ b"
   ]
  },
  {
   "cell_type": "markdown",
   "id": "4e7b5ee7",
   "metadata": {},
   "source": [
    "To manually use the QR decomposition in solving linear least squares:"
   ]
  },
  {
   "cell_type": "code",
   "execution_count": null,
   "id": "f1b500b4",
   "metadata": {
    "hide-output": false
   },
   "outputs": [],
   "source": [
    "Af = qr(A)\n",
    "Q = Af.Q\n",
    "R = [Af.R; zeros(N - M, M)] # Stack with zeros\n",
    "@show Q * R ≈ A\n",
    "x = R \\ Q'*b  # simplified QR solution for least squares"
   ]
  },
  {
   "cell_type": "markdown",
   "id": "d4d3d1d3",
   "metadata": {},
   "source": [
    "This stacks the `R` with zeros, but the more specialized algorithm would not multiply directly\n",
    "in that way.\n",
    "\n",
    "In some cases, if an LU is not available for a particular matrix structure, the QR factorization\n",
    "can also be used to solve systems of equations (i.e., not just LLS).  This tends to be about 2 times slower than the LU\n",
    "but is of the same computational order.\n",
    "\n",
    "Deriving the approach, where we can now use the inverse since the system is square and we assumed $ A $ was non-singular,\n",
    "\n",
    "$$\n",
    "\\begin{aligned}\n",
    "A x &= b\\\\\n",
    "Q R x &= b\\\\\n",
    "Q^{-1} Q R x &= Q^{-1} b\\\\\n",
    "R x &= Q' b\n",
    "\\end{aligned}\n",
    "$$\n",
    "\n",
    "where the last step uses the fact that $ Q^{-1} = Q' $ for an orthogonal matrix.\n",
    "\n",
    "Given the decomposition, the solution for dense matrices is of computational\n",
    "order $ O(N^2) $.  To see this, look at the order of each operation.\n",
    "\n",
    "- Since $ R $ is an upper-triangular matrix, it can be solved quickly through back substitution with computational order $ O(N^2) $  \n",
    "- A transpose operation is of order $ O(N^2) $  \n",
    "- A matrix-vector product is also $ O(N^2) $  \n",
    "\n",
    "\n",
    "In all cases, the order would drop depending on the sparsity pattern of the\n",
    "matrix (and corresponding decomposition).  A key benefit of a QR decomposition is that it tends to\n",
    "maintain sparsity.\n",
    "\n",
    "Without implementing the full process, you can form a QR\n",
    "factorization with `qr` and then use it to solve a system"
   ]
  },
  {
   "cell_type": "code",
   "execution_count": null,
   "id": "55f64b6c",
   "metadata": {
    "hide-output": false
   },
   "outputs": [],
   "source": [
    "N = 5\n",
    "A = rand(N,N)\n",
    "b = rand(N)\n",
    "@show A \\ b\n",
    "@show qr(A) \\ b;"
   ]
  },
  {
   "cell_type": "markdown",
   "id": "381af14e",
   "metadata": {},
   "source": [
    "### Spectral Decomposition\n",
    "\n",
    "A spectral decomposition, also known as an [eigendecomposition](https://en.wikipedia.org/wiki/Eigendecomposition_of_a_matrix), finds all of the eigenvectors and eigenvalues to decompose a square matrix `A` such that\n",
    "\n",
    "$$\n",
    "A = Q \\Lambda Q^{-1}\n",
    "$$\n",
    "\n",
    "where $ Q $ is a matrix made of the eigenvectors of $ A $ as columns, and $ \\Lambda $ is a diagonal matrix of the eigenvalues.  Only square, [diagonalizable](https://en.wikipedia.org/wiki/Diagonalizable_matrix) matrices have an eigendecomposition (where a matrix is not diagonalizable if it does not have a full set of linearly independent eigenvectors).\n",
    "\n",
    "In Julia, whenever you ask for a full set of eigenvectors and eigenvalues, it  decomposes using an algorithm appropriate for the matrix type.  For example, symmetric, Hermitian, and tridiagonal matrices have specialized algorithms.\n",
    "\n",
    "To see this,"
   ]
  },
  {
   "cell_type": "code",
   "execution_count": null,
   "id": "d7af229c",
   "metadata": {
    "hide-output": false
   },
   "outputs": [],
   "source": [
    "A = Symmetric(rand(5, 5))  # symmetric matrices have real eigenvectors/eigenvalues\n",
    "A_eig = eigen(A)\n",
    "Λ = Diagonal(A_eig.values)\n",
    "Q = A_eig.vectors\n",
    "norm(Q * Λ * inv(Q) - A)"
   ]
  },
  {
   "cell_type": "markdown",
   "id": "1fbf3a4f",
   "metadata": {},
   "source": [
    "Keep in mind that a real matrix may have complex eigenvalues and eigenvectors, so if you attempt  to check `Q * Λ * inv(Q) - A` - even for a positive-definite matrix - it may not be a real number due to numerical inaccuracy."
   ]
  },
  {
   "cell_type": "markdown",
   "id": "660a9ff3",
   "metadata": {},
   "source": [
    "## Continuous-Time Markov Chains (CTMCs)\n",
    "\n",
    "In the previous lecture on [discrete-time Markov chains](https://julia.quantecon.org/finite_markov.html), we saw that the transition probability\n",
    "between state $ x $ and state $ y $ was summarized by the matrix $ P(x, y) := \\mathbb P \\{ X_{t+1} = y \\,|\\, X_t = x \\} $.\n",
    "\n",
    "As a brief introduction to continuous time processes, consider the same state space as in the discrete\n",
    "case: $ S $ is a finite set with $ n $ elements $ \\{x_1, \\ldots, x_n\\} $.\n",
    "\n",
    "A **Markov chain** $ \\{X_t\\} $ on $ S $ is a sequence of random variables on $ S $ that have the **Markov property**.\n",
    "\n",
    "In continuous time, the [Markov Property](https://en.wikipedia.org/wiki/Markov_property) is more complicated, but intuitively is\n",
    "the same as the discrete-time case.\n",
    "\n",
    "That is, knowing the current state is enough to know probabilities for future states.  Or, for realizations $ x(\\tau)\\in S, \\tau \\leq t $,\n",
    "\n",
    "$$\n",
    "\\mathbb P \\{ X(t+s) = y  \\,|\\, X(t) = x, X(\\tau) = x(\\tau) \\text{ for } 0 \\leq \\tau \\leq t  \\} = \\mathbb P \\{ X(t+s) = y  \\,|\\, X(t) = x\\}\n",
    "$$\n",
    "\n",
    "Heuristically, consider a time period $ t $ and a small step forward, $ \\Delta $.  Then the probability to transition from state $ i $ to\n",
    "state $ j $ is\n",
    "\n",
    "$$\n",
    "\\mathbb P \\{ X(t + \\Delta) = j  \\,|\\, X(t) \\} = \\begin{cases} q_{ij} \\Delta + o(\\Delta) & i \\neq j\\\\\n",
    "                                                              1 + q_{ii} \\Delta + o(\\Delta) & i = j \\end{cases}\n",
    "$$\n",
    "\n",
    "where the $ q_{ij} $ are “intensity” parameters governing the transition rate, and $ o(\\Delta) $ is [little-o notation](https://en.wikipedia.org/wiki/Big_O_notation#Little-o_notation).  That is, $ \\lim_{\\Delta\\to 0} o(\\Delta)/\\Delta = 0 $.\n",
    "\n",
    "Just as in the discrete case, we can summarize these parameters by an $ N \\times N $ matrix, $ Q \\in R^{N\\times N} $.\n",
    "\n",
    "Recall that in the discrete case every element is weakly positive and every row must sum to one.   With continuous time, however, the rows of $ Q $ sum to zero, where the diagonal contains the negative value of jumping out of the current state.  That is,\n",
    "\n",
    "- $ q_{ij} \\geq 0 $ for $ i \\neq j $  \n",
    "- $ q_{ii} \\leq 0 $  \n",
    "- $ \\sum_{j} q_{ij} = 0 $  \n",
    "\n",
    "\n",
    "The $ Q $ matrix is called the intensity matrix, or the infinitesimal generator of the Markov chain.  For example,\n",
    "\n",
    "$$\n",
    "Q = \\begin{bmatrix} -0.1 & 0.1  & 0 & 0 & 0 & 0\\\\\n",
    "                    0.1  &-0.2  & 0.1 &  0 & 0 & 0\\\\\n",
    "                    0 & 0.1 & -0.2 & 0.1 & 0 & 0\\\\\n",
    "                    0 & 0 & 0.1 & -0.2 & 0.1 & 0\\\\\n",
    "                    0 & 0 & 0 & 0.1 & -0.2 & 0.1\\\\\n",
    "                    0 & 0 & 0 & 0 & 0.1 & -0.1\\\\\n",
    "    \\end{bmatrix}\n",
    "$$\n",
    "\n",
    "In the above example, transitions occur only between adjacent states with the same intensity (except for a ``bouncing back’’ of the bottom and top states).\n",
    "\n",
    "Implementing the $ Q $ using its tridiagonal structure"
   ]
  },
  {
   "cell_type": "code",
   "execution_count": null,
   "id": "b7075627",
   "metadata": {
    "hide-output": false
   },
   "outputs": [],
   "source": [
    "using LinearAlgebra\n",
    "α = 0.1\n",
    "N = 6\n",
    "Q = Tridiagonal(fill(α, N-1), [-α; fill(-2α, N-2); -α], fill(α, N-1))"
   ]
  },
  {
   "cell_type": "markdown",
   "id": "1a41f27b",
   "metadata": {},
   "source": [
    "Here we can use `Tridiagonal` to exploit the structure of the problem.\n",
    "\n",
    "Consider a simple payoff vector $ r $ associated with each state, and a discount rate $ ρ $.  Then we can solve for\n",
    "the expected present discounted value in a way similar to the discrete-time case.\n",
    "\n",
    "$$\n",
    "\\rho v = r + Q v\n",
    "$$\n",
    "\n",
    "or rearranging slightly, solving the linear system\n",
    "\n",
    "$$\n",
    "(\\rho I - Q) v = r\n",
    "$$\n",
    "\n",
    "For our example, exploiting the tridiagonal structure,"
   ]
  },
  {
   "cell_type": "code",
   "execution_count": null,
   "id": "d41dd13b",
   "metadata": {
    "hide-output": false
   },
   "outputs": [],
   "source": [
    "r = range(0.0, 10.0, length=N)\n",
    "ρ = 0.05\n",
    "\n",
    "A = ρ * I - Q"
   ]
  },
  {
   "cell_type": "markdown",
   "id": "32c0f639",
   "metadata": {},
   "source": [
    "Note that this $ A $ matrix is maintaining the tridiagonal structure of the problem, which leads to an efficient solution to the\n",
    "linear problem."
   ]
  },
  {
   "cell_type": "code",
   "execution_count": null,
   "id": "78b2a435",
   "metadata": {
    "hide-output": false
   },
   "outputs": [],
   "source": [
    "v = A \\ r"
   ]
  },
  {
   "cell_type": "markdown",
   "id": "d12ba03c",
   "metadata": {},
   "source": [
    "The $ Q $ is also used to calculate the evolution of the Markov chain, in direct analogy to the $ ψ_{t+k} = ψ_t P^k $ evolution with the transition matrix $ P $ of the discrete case.\n",
    "\n",
    "In the continuous case, this becomes the system of linear differential equations\n",
    "\n",
    "$$\n",
    "\\dot{ψ}(t) = Q(t)^T ψ(t)\n",
    "$$\n",
    "\n",
    "given the initial condition $ \\psi(0) $ and where the $ Q(t) $ intensity matrix is allowed to vary with time.  In the simplest case of a constant $ Q $ matrix, this is a simple constant-coefficient system of linear ODEs with coefficients $ Q^T $.\n",
    "\n",
    "If a stationary equilibrium exists, note that $ \\dot{ψ}(t) = 0 $, and the stationary solution $ ψ^{*} $ needs to satisfy\n",
    "\n",
    "$$\n",
    "0 = Q^T ψ^{*}\n",
    "$$\n",
    "\n",
    "Notice that this is of the form $ 0 ψ^{*} = Q^T ψ^{*} $ and hence is equivalent to finding the eigenvector associated with the $ \\lambda = 0 $ eigenvalue of $ Q^T $.\n",
    "\n",
    "With our example, we can calculate all of the eigenvalues and eigenvectors"
   ]
  },
  {
   "cell_type": "code",
   "execution_count": null,
   "id": "587c8341",
   "metadata": {
    "hide-output": false
   },
   "outputs": [],
   "source": [
    "λ, vecs = eigen(Array(Q'))"
   ]
  },
  {
   "cell_type": "markdown",
   "id": "f2fb4f1f",
   "metadata": {},
   "source": [
    "Indeed, there is a $ \\lambda = 0 $ eigenvalue, which is associated with the last column in the eigenvector.  To turn that into a probability,\n",
    "we need to normalize it."
   ]
  },
  {
   "cell_type": "code",
   "execution_count": null,
   "id": "3c141a4d",
   "metadata": {
    "hide-output": false
   },
   "outputs": [],
   "source": [
    "vecs[:,N] ./ sum(vecs[:,N])"
   ]
  },
  {
   "cell_type": "markdown",
   "id": "d692b19f",
   "metadata": {},
   "source": [
    "### Multiple Dimensions\n",
    "\n",
    "A frequent case in discretized models is dealing with Markov chains with multiple “spatial” dimensions (e.g., wealth and income).\n",
    "\n",
    "After discretizing a process to create a Markov chain, you can always take the Cartesian product of the set of states in order to\n",
    "enumerate it as a single state variable.\n",
    "\n",
    "To see this, consider states $ i $ and $ j $ governed by infinitesimal generators $ Q $ and $ A $."
   ]
  },
  {
   "cell_type": "code",
   "execution_count": null,
   "id": "97f3d90c",
   "metadata": {
    "hide-output": false
   },
   "outputs": [],
   "source": [
    "function markov_chain_product(Q, A)\n",
    "    M = size(Q, 1)\n",
    "    N = size(A, 1)\n",
    "    Q = sparse(Q)\n",
    "    Qs = blockdiag(fill(Q, N)...)  # create diagonal blocks of every operator\n",
    "    As = kron(A, sparse(I(M)))\n",
    "    return As + Qs\n",
    "end\n",
    "\n",
    "α = 0.1\n",
    "N = 4\n",
    "Q = Tridiagonal(fill(α, N-1), [-α; fill(-2α, N-2); -α], fill(α, N-1))\n",
    "A = sparse([-0.1 0.1\n",
    "    0.2 -0.2])\n",
    "M = size(A,1)\n",
    "L = markov_chain_product(Q, A)\n",
    "L |> Matrix  # display as a dense matrix"
   ]
  },
  {
   "cell_type": "markdown",
   "id": "a70181d7",
   "metadata": {},
   "source": [
    "This provides the combined Markov chain for the $ (i,j) $ process.  To see the sparsity pattern,"
   ]
  },
  {
   "cell_type": "code",
   "execution_count": null,
   "id": "c37afc7e",
   "metadata": {
    "hide-output": false
   },
   "outputs": [],
   "source": [
    "using Plots\n",
    "\n",
    "spy(L, markersize = 10)"
   ]
  },
  {
   "cell_type": "markdown",
   "id": "1d95ba85",
   "metadata": {},
   "source": [
    "To calculate a simple dynamic valuation, consider whether the payoff of being in state $ (i,j) $ is $ r_{ij} = i + 2j $"
   ]
  },
  {
   "cell_type": "code",
   "execution_count": null,
   "id": "c0f40f60",
   "metadata": {
    "hide-output": false
   },
   "outputs": [],
   "source": [
    "r = [i + 2.0j for i in 1:N, j in 1:M]\n",
    "r = vec(r)  # vectorize it since stacked in same order"
   ]
  },
  {
   "cell_type": "markdown",
   "id": "b2471ada",
   "metadata": {},
   "source": [
    "Solving the equation $ \\rho v = r + L v $"
   ]
  },
  {
   "cell_type": "code",
   "execution_count": null,
   "id": "0e1bcca9",
   "metadata": {
    "hide-output": false
   },
   "outputs": [],
   "source": [
    "ρ = 0.05\n",
    "v = (ρ * I - L) \\ r\n",
    "reshape(v, N, M)"
   ]
  },
  {
   "cell_type": "markdown",
   "id": "a9dd23da",
   "metadata": {},
   "source": [
    "The `reshape` helps to rearrange it back to being two-dimensional.\n",
    "\n",
    "To find the stationary distribution, we calculate the eigenvalue and choose the eigenvector associated with $ \\lambda=0 $ .  In this\n",
    "case, we can verify that it is the last one."
   ]
  },
  {
   "cell_type": "code",
   "execution_count": null,
   "id": "305cdcec",
   "metadata": {
    "hide-output": false
   },
   "outputs": [],
   "source": [
    "L_eig = eigen(Matrix(L'))\n",
    "@assert norm(L_eig.values[end]) < 1E-10\n",
    "\n",
    "ψ = L_eig.vectors[:,end]\n",
    "ψ = ψ / sum(ψ)"
   ]
  },
  {
   "cell_type": "markdown",
   "id": "1d48cd39",
   "metadata": {},
   "source": [
    "Reshape this to be two-dimensional if it is helpful for visualization."
   ]
  },
  {
   "cell_type": "code",
   "execution_count": null,
   "id": "8d1889c7",
   "metadata": {
    "hide-output": false
   },
   "outputs": [],
   "source": [
    "reshape(ψ, N, size(A,1))"
   ]
  },
  {
   "cell_type": "markdown",
   "id": "9278d581",
   "metadata": {},
   "source": [
    "### Irreducibility\n",
    "\n",
    "As with the discrete-time Markov chains, a key question is whether CTMCs are reducible, i.e., whether states communicate.  The problem\n",
    "is isomorphic to determining whether the directed graph of the Markov chain is [strongly connected](https://en.wikipedia.org/wiki/Strongly_connected_component)."
   ]
  },
  {
   "cell_type": "code",
   "execution_count": null,
   "id": "e88be5da",
   "metadata": {
    "hide-output": false
   },
   "outputs": [],
   "source": [
    "using Graphs\n",
    "α = 0.1\n",
    "N = 6\n",
    "Q = Tridiagonal(fill(α, N-1), [-α; fill(-2α, N-2); -α], fill(α, N-1))"
   ]
  },
  {
   "cell_type": "markdown",
   "id": "b6a4a1c9",
   "metadata": {},
   "source": [
    "We can verify that it is possible to move between every pair of states in a finite number of steps with"
   ]
  },
  {
   "cell_type": "code",
   "execution_count": null,
   "id": "c2d6cd5b",
   "metadata": {
    "hide-output": false
   },
   "outputs": [],
   "source": [
    "Q_graph = DiGraph(Q)\n",
    "@show is_strongly_connected(Q_graph);  # i.e., can follow directional edges to get to every state"
   ]
  },
  {
   "cell_type": "markdown",
   "id": "6cd8b088",
   "metadata": {},
   "source": [
    "Alternatively, as an example of a reducible Markov chain where states $ 1 $ and $ 2 $ cannot jump to state $ 3 $."
   ]
  },
  {
   "cell_type": "code",
   "execution_count": null,
   "id": "7f9ddfd1",
   "metadata": {
    "hide-output": false
   },
   "outputs": [],
   "source": [
    "Q = [-0.2 0.2 0\n",
    "    0.2 -0.2 0\n",
    "    0.2 0.6 -0.8]\n",
    "Q_graph = DiGraph(Q)\n",
    "@show is_strongly_connected(Q_graph);"
   ]
  },
  {
   "cell_type": "markdown",
   "id": "e888c519",
   "metadata": {},
   "source": [
    "## Banded Matrices\n",
    "\n",
    "A tridiagonal matrix has 3 non-zero diagonals:  the main diagonal, the first sub-diagonal (i.e., below the main diagonal), and also the first super-diagonal (i.e., above the main diagonal).\n",
    "\n",
    "This is a special case of a more general type called a banded matrix, where the number of sub- and super-diagonals can be greater than 1.  The\n",
    "total width of main-, sub-, and super-diagonals is called the bandwidth.  For example, a tridiagonal matrix has a bandwidth of 3.\n",
    "\n",
    "An $ N \\times N $ banded matrix with bandwidth $ P $ has about $ N P $ nonzeros in its sparsity pattern.\n",
    "\n",
    "These can be created directly as a dense matrix with `diagm`.  For example, with a bandwidth of three and a zero diagonal,"
   ]
  },
  {
   "cell_type": "code",
   "execution_count": null,
   "id": "84412fad",
   "metadata": {
    "hide-output": false
   },
   "outputs": [],
   "source": [
    "diagm(1 => [1,2,3], -1 => [4,5,6])"
   ]
  },
  {
   "cell_type": "markdown",
   "id": "9a0c04b9",
   "metadata": {},
   "source": [
    "Or as a sparse matrix,"
   ]
  },
  {
   "cell_type": "code",
   "execution_count": null,
   "id": "49afc4f9",
   "metadata": {
    "hide-output": false
   },
   "outputs": [],
   "source": [
    "spdiagm(1 => [1,2,3], -1 => [4,5,6])"
   ]
  },
  {
   "cell_type": "markdown",
   "id": "eac3d226",
   "metadata": {},
   "source": [
    "Or directly using [BandedMatrices.jl](https://github.com/JuliaMatrices/BandedMatrices.jl)"
   ]
  },
  {
   "cell_type": "code",
   "execution_count": null,
   "id": "4900f106",
   "metadata": {
    "hide-output": false
   },
   "outputs": [],
   "source": [
    "using BandedMatrices\n",
    "BandedMatrix(1 => [1,2,3], -1 => [4,5,6])"
   ]
  },
  {
   "cell_type": "markdown",
   "id": "a50b7e74",
   "metadata": {},
   "source": [
    "There is also a convenience function for generating random banded matrices"
   ]
  },
  {
   "cell_type": "code",
   "execution_count": null,
   "id": "34615afe",
   "metadata": {
    "hide-output": false
   },
   "outputs": [],
   "source": [
    "A = brand(7, 7, 3, 1)  # 7x7 matrix, 3 subdiagonals, 1 superdiagonal"
   ]
  },
  {
   "cell_type": "markdown",
   "id": "49b78f66",
   "metadata": {},
   "source": [
    "And, of course, specialized algorithms will be used to exploit the structure when solving linear systems.  In particular, the complexity is related to the $ O(N P_L P_U) $ for upper and lower bandwidths $ P $"
   ]
  },
  {
   "cell_type": "code",
   "execution_count": null,
   "id": "dda491ee",
   "metadata": {
    "hide-output": false
   },
   "outputs": [],
   "source": [
    "@show factorize(Symmetric(A)) |> typeof\n",
    "A \\ rand(7)"
   ]
  },
  {
   "cell_type": "markdown",
   "id": "f2905048",
   "metadata": {},
   "source": [
    "The factorization algorithm uses a specialized LU decomposition for banded matrices.\n",
    "\n",
    "\n",
    "<a id='implementation-numerics'></a>"
   ]
  },
  {
   "cell_type": "markdown",
   "id": "2bcb35ce",
   "metadata": {},
   "source": [
    "## Implementation Details and Performance\n",
    "\n",
    "Recall the famous quote from Knuth: “97% of the time, premature optimization is the root of all evil. Yet we should not pass up our opportunities in that critical 3%.”  The most common example of premature optimization is trying to use your own mental model of a compiler while writing your code, worried about the efficiency of code, and (usually incorrectly) second-guessing the compiler.\n",
    "\n",
    "Concretely, the lessons in this section are:\n",
    "\n",
    "1. Don’t worry about optimizing your code unless you need to.  Code clarity is your first-order concern.  \n",
    "1. If you use other people’s packages, they can worry about performance and you don’t need to.  \n",
    "1. If you absolutely need that “critical 3%,” your intuition about performance is usually wrong on modern CPUs and GPUs, so let the compiler do its job.  \n",
    "1. Benchmarking (e.g., `@btime`) and [profiling](https://docs.julialang.org/en/v1/manual/profile/) are the tools to figure out performance bottlenecks.  If 99% of computing time is spent in one small function, then there is no point in optimizing anything else.  \n",
    "1. If you benchmark to show that a particular part of the code is an issue, and you can’t find another library that does a better job, then you can worry about performance.  \n",
    "\n",
    "\n",
    "You will rarely get to step 3, let alone step 5.\n",
    "\n",
    "However, there is also a corollary:  “don’t pessimize prematurely.” That is, don’t make choices that lead to poor performance without any tradeoff in improved code clarity.  For example, writing your own algorithms when a high-performance algorithm exists in a package or Julia itself, or lazily making a matrix dense and carelessly dropping its structure."
   ]
  },
  {
   "cell_type": "markdown",
   "id": "2fc04e8e",
   "metadata": {},
   "source": [
    "### Implementation Difficulty\n",
    "\n",
    "Numerical analysts sometimes refer to the lowest level of code for basic operations (e.g., a dot product, matrix-matrix product, convolutions) as `kernels`.\n",
    "\n",
    "That sort of code is difficult to write, and performance depends on the characteristics of the underlying hardware, such as the [instruction set](https://en.wikipedia.org/wiki/Instruction_set_architecture) available on the particular CPU, the size of the [CPU cache](https://en.wikipedia.org/wiki/CPU_cache), and the layout of arrays in memory.\n",
    "\n",
    "Typically, these operations are written in a [BLAS](https://en.wikipedia.org/wiki/Basic_Linear_Algebra_Subprograms) library, organized into different levels.  The levels roughly correspond to the computational order of the operations:  BLAS Level 1 are $ O(N) $ operations such as linear products, Level 2 are $ O(N^2) $ operations such as matrix-vector products, and Level 3 are roughly $ O(N^3) $, such as general matrix-matrix products.\n",
    "\n",
    "An example of a BLAS library is [OpenBLAS](https://github.com/xianyi/OpenBLAS), which is used by default in Julia, or  the [Intel MKL](https://en.wikipedia.org/wiki/Math_Kernel_Library), which is used in Matlab (and in Julia if the `MKL.jl` package is installed).\n",
    "\n",
    "On top of BLAS are [LAPACK](https://en.wikipedia.org/wiki/LAPACK) operations, which are higher-level kernels, such as matrix factorizations and eigenvalue algorithms, and are often in the same libraries (e.g., MKL has both BLAS and LAPACK functionality).\n",
    "\n",
    "The details of these packages are not especially relevant, but if you are talking about performance, people will inevitably start discussing these different packages and kernels.  There are a few important things to keep in mind:\n",
    "\n",
    "1. Leave writing kernels to the experts.  Even simple-sounding algorithms can be very complicated to implement with high performance.  \n",
    "1. Your intuition about performance of code is probably going to be wrong.  If you use high quality libraries rather than writing your own kernels, you don’t need to use your intuition.  \n",
    "1. Don’t get distracted by the jargon or acronyms above if you are reading about performance.  "
   ]
  },
  {
   "cell_type": "markdown",
   "id": "c46d6637",
   "metadata": {},
   "source": [
    "### Row- and Column-Major Ordering\n",
    "\n",
    "There is a practical performance issue which may influence your code.  Since memory in a CPU is linear, dense matrices need to be stored by either stacking columns (called [column-major order](https://en.wikipedia.org/wiki/Row-_and_column-major_order)) or rows.\n",
    "\n",
    "The reason this matters is that compilers can generate better performance if they work in contiguous chunks of memory, and this becomes especially important with large matrices due to the interaction with the CPU cache.  Choosing the wrong order when there is no benefit in code clarity is an example of premature pessimization.  The performance difference can be orders of magnitude in some cases, and nothing in others.\n",
    "\n",
    "One option is to use the functions that let the compiler choose the most efficient way to traverse memory. If you need to choose the looping order yourself, then you might want to experiment with going through columns first and going through rows first.  Other times, let Julia decide, i.e., `enumerate` and `eachindex` will choose the right approach.\n",
    "\n",
    "Julia, Fortran, and Matlab all use column-major order, while C/C++ and Python use row-major order.  This means that if you find an algorithm written for C/C++/Python, you will sometimes need to make small changes if performance is an issue."
   ]
  },
  {
   "cell_type": "markdown",
   "id": "5f5d5ffd",
   "metadata": {},
   "source": [
    "### Digression on Allocations and In-place Operations\n",
    "\n",
    "While we have usually not considered optimizing code for performance (and have focused on the choice of\n",
    "algorithms instead), when matrices and vectors become large we need to be more careful.\n",
    "\n",
    "The most important thing to avoid are excess allocations, which usually occur due to the use of\n",
    "temporary vectors and matrices when they are not necessary.  Sometimes those extra temporary values\n",
    "can cause enormous degradations in performance.\n",
    "\n",
    "However, caution is suggested since\n",
    "excess allocations are never relevant for scalar values, and allocations frequently create faster code for\n",
    "smaller matrices/vectors since it can lead to better [cache locality](https://en.wikipedia.org/wiki/Locality_of_reference).\n",
    "\n",
    "To see this, a convenient tool is the benchmarking"
   ]
  },
  {
   "cell_type": "code",
   "execution_count": null,
   "id": "606c4dd2",
   "metadata": {
    "hide-output": false
   },
   "outputs": [],
   "source": [
    "using BenchmarkTools\n",
    "A = rand(10,10)\n",
    "B = rand(10,10)\n",
    "C = similar(A)\n",
    "function f!(C, A, B)\n",
    "    D = A*B\n",
    "    C .= D .+ 1\n",
    "end\n",
    "@btime f!($C, $A, $B)"
   ]
  },
  {
   "cell_type": "markdown",
   "id": "9dda3f3e",
   "metadata": {},
   "source": [
    "The `!` on the `f!` is an informal way to say that the function is mutating, and the first argument (`C` here)\n",
    "is by convention the modified variable.\n",
    "\n",
    "In the `f!` function, notice that the `D` is a temporary variable which is created, and then modified afterwards.  But notice that since\n",
    "`C` is modified directly, there is no need to create the temporary `D` matrix.\n",
    "\n",
    "This is an example of where an in-place version of the matrix multiplication can help avoid the allocation."
   ]
  },
  {
   "cell_type": "code",
   "execution_count": null,
   "id": "1f015fca",
   "metadata": {
    "hide-output": false
   },
   "outputs": [],
   "source": [
    "function f2!(C, A, B)\n",
    "    mul!(C, A, B)  # in-place multiplication\n",
    "    C .+= 1\n",
    "end\n",
    "A = rand(10,10)\n",
    "B = rand(10,10)\n",
    "C = similar(A)\n",
    "@btime f!($C, $A, $B)\n",
    "@btime f2!($C, $A, $B)"
   ]
  },
  {
   "cell_type": "markdown",
   "id": "19484947",
   "metadata": {},
   "source": [
    "Note that in the output of the benchmarking, the `f2!` is non-allocating and is using the pre-allocated `C` variable directly.\n",
    "\n",
    "Another example of this is solutions to linear equations, where for large solutions you may pre-allocate and reuse the\n",
    "solution vector."
   ]
  },
  {
   "cell_type": "code",
   "execution_count": null,
   "id": "5a82b7df",
   "metadata": {
    "hide-output": false
   },
   "outputs": [],
   "source": [
    "A = rand(10,10)\n",
    "y = rand(10)\n",
    "z = A \\ y  # creates temporary\n",
    "\n",
    "A = factorize(A)  # in-place requires factorization\n",
    "x = similar(y)  # pre-allocate\n",
    "ldiv!(x, A, y)  # in-place left divide, using factorization"
   ]
  },
  {
   "cell_type": "markdown",
   "id": "2b4885f6",
   "metadata": {},
   "source": [
    "However, if you benchmark carefully, you will see that this is sometimes slower.  Avoiding allocations is not always a good\n",
    "idea - and worrying about it prior to benchmarking is premature optimization.\n",
    "\n",
    "There are a variety of other non-allocating versions of functions.  For example,"
   ]
  },
  {
   "cell_type": "code",
   "execution_count": null,
   "id": "733c3170",
   "metadata": {
    "hide-output": false
   },
   "outputs": [],
   "source": [
    "A = rand(10,10)\n",
    "B = similar(A)\n",
    "\n",
    "transpose!(B, A)  # non-allocating version of B = transpose(A)"
   ]
  },
  {
   "cell_type": "markdown",
   "id": "3db49fb2",
   "metadata": {},
   "source": [
    "Finally, a common source of unnecessary allocations is when taking slices or portions of\n",
    "matrices.  For example, the following allocates a new matrix `B` and copies the values."
   ]
  },
  {
   "cell_type": "code",
   "execution_count": null,
   "id": "e1f07adc",
   "metadata": {
    "hide-output": false
   },
   "outputs": [],
   "source": [
    "A = rand(5,5)\n",
    "B = A[2,:]  # extract a vector"
   ]
  },
  {
   "cell_type": "markdown",
   "id": "015ec7ed",
   "metadata": {},
   "source": [
    "To see that these are different matrices, note that"
   ]
  },
  {
   "cell_type": "code",
   "execution_count": null,
   "id": "40067b81",
   "metadata": {
    "hide-output": false
   },
   "outputs": [],
   "source": [
    "A[2,1] = 100.0\n",
    "@show A[2,1]\n",
    "@show B[1];"
   ]
  },
  {
   "cell_type": "markdown",
   "id": "87334910",
   "metadata": {},
   "source": [
    "Instead of allocating a new matrix, you can take a `view` of a matrix, which provides an\n",
    "appropriate `AbstractArray` type that doesn’t allocate new memory with the `@view` matrix."
   ]
  },
  {
   "cell_type": "code",
   "execution_count": null,
   "id": "0eeddcb8",
   "metadata": {
    "hide-output": false
   },
   "outputs": [],
   "source": [
    "A = rand(5,5)\n",
    "B = @view A[2,:]  #  does not copy the data\n",
    "\n",
    "A[2,1] = 100.0\n",
    "@show A[2,1]\n",
    "@show B[1];"
   ]
  },
  {
   "cell_type": "markdown",
   "id": "3982709c",
   "metadata": {},
   "source": [
    "But again, you will often find that doing `@view` leads to slower code.  Benchmark\n",
    "instead, and generally rely on it for large matrices and for contiguous chunks of memory (e.g., columns rather than rows)."
   ]
  },
  {
   "cell_type": "markdown",
   "id": "b6ea930a",
   "metadata": {},
   "source": [
    "## Patterns for Preallocated Caches of Results\n",
    "\n",
    "When the matrices and vectors get large, it can reach a point where it is important to cache the results and reduce allocations.  In general, this should only be attempted when the vectors are large and they would otherwise need to be reallocated many times.\n",
    "\n",
    "One approach is to create a [custom type](https://julia.quantecon.org/../getting_started_julia/introduction_to_types.html) to hold the results, being very careful to ensure that the type is concrete."
   ]
  },
  {
   "cell_type": "code",
   "execution_count": null,
   "id": "143952de",
   "metadata": {
    "hide-output": false
   },
   "outputs": [],
   "source": [
    "struct MyResults{T}\n",
    "    x::Array{T,1}\n",
    "    A::Array{T,2}\n",
    "end\n",
    "MyResults(N) = MyResults(Array{Float64,1}(undef, N), Array{Float64,2}(undef, N, N))    \n",
    "\n",
    "#Support for inplace copying\n",
    "import Base.copy!\n",
    "function copy!(dst::MyResults, src::MyResults)\n",
    "    dst.x .= src.x\n",
    "    dst.A .= src.A\n",
    "end"
   ]
  },
  {
   "cell_type": "markdown",
   "id": "494a5811",
   "metadata": {},
   "source": [
    "The above code is an **immutable** structure for holding the `x` and `A` buffers.  The fact that it is immutable ensures that the `x` vector itself cannot be changed (even if the values within `x` can be).  This can help ensure that you do not accidentally reallocate and assign a new vector to `x`.\n",
    "\n",
    "The only other code is an implementation of the in-place `copy!` function, which will allow us to copy all of the results as required by some algorithms.\n",
    "\n",
    "To create a contrived algorithm, see the following code:"
   ]
  },
  {
   "cell_type": "code",
   "execution_count": null,
   "id": "966e046d",
   "metadata": {
    "hide-output": false
   },
   "outputs": [],
   "source": [
    "# By convention, name has ! to denote mutating, and mutate first argument\n",
    "function calculate_results!(results, val, params)\n",
    "    @unpack N, b, C = params\n",
    "    B = rand(N,N)  # Contrived.  Assume complicated\n",
    "    lmul!(val, B)  # val * B -> B inplace, no allocation\n",
    "    mul!(results.A, B, C) #   B * C -> results.A\n",
    "    ldiv!(results.x, factorize(results.A), b)  # x = A \\ b inplace\n",
    "end\n",
    "\n",
    "# Some iterative algorithm\n",
    "function iterate_values(vals, params)    \n",
    "    @unpack N = params\n",
    "    \n",
    "    # preallocate\n",
    "    results = MyResults(N)\n",
    "    prev_results = MyResults(N)\n",
    "    norms = similar(vals)\n",
    "        \n",
    "    for (i, val) in enumerate(vals)\n",
    "        calculate_results!(results, val, params)\n",
    "        norms[i] = norm(results.x- prev_results.x)            \n",
    "        println(\"|x_new - x_old| = \", norms[i])\n",
    "        copy!(prev_results, results)\n",
    "    end\n",
    "    return norms\n",
    "end\n",
    "\n",
    "params = (N = 5, C = rand(5,5), b = rand(5))\n",
    "vals = range(0.0, 1.0, length = 10)\n",
    "iterate_values(vals, params)"
   ]
  },
  {
   "cell_type": "markdown",
   "id": "02fd568f",
   "metadata": {},
   "source": [
    "A few points:\n",
    "\n",
    "- This creates an inplace function, `calculate_results!`, which modifies the results given a value and parameters.  \n",
    "- Within the function, it attemmpts to use inplace versions of the operations where possible, which can help cut down on other allocations  \n",
    "- The iteration simply goes through a list of values, calls the `calculate_results!` and then checks how the `results.x` has changed with a norm.  \n",
    "- Finally, the iteration copys the new results into the previous ones.  This ensure that only a single copy is required for comparison.  \n",
    "\n",
    "\n",
    "This approach can be very helpful for large matrices and arrays, but should be used judiciously and only after [profiling](https://julia.quantecon.org/../software_engineering/need_for_speed.html)  ."
   ]
  },
  {
   "cell_type": "markdown",
   "id": "e2ae1e59",
   "metadata": {},
   "source": [
    "## Exercises"
   ]
  },
  {
   "cell_type": "markdown",
   "id": "e3af9db6",
   "metadata": {},
   "source": [
    "### Exercise 1\n",
    "\n",
    "This exercise is for practice on writing low-level routines (i.e., “kernels”), and to hopefully convince you to leave low-level code to the experts.\n",
    "\n",
    "The formula for matrix multiplication is deceptively simple.  For example, with the product of square matrices $ C = A B $ of size $ N \\times N $, the $ i,j $ element of $ C $ is\n",
    "\n",
    "$$\n",
    "C_{ij} = \\sum_{k=1}^N A_{ik} B_{kj}\n",
    "$$\n",
    "\n",
    "Alternatively, you can take a row $ A_{i,:} $ and column $ B_{:, j} $ and use an inner product\n",
    "\n",
    "$$\n",
    "C_{ij} = A_{i,:} \\cdot B_{:,j}\n",
    "$$\n",
    "\n",
    "Note that the inner product in a discrete space is simply a sum, and has the same complexity as the sum (i.e., $ O(N) $ operations).\n",
    "\n",
    "For a dense matrix without any structure and using a naive multiplication algorithm, this also makes it clear why the complexity is $ O(N^3) $: You need to evaluate it for $ N^2 $ elements in the matrix and do an $ O(N) $ operation each time.\n",
    "\n",
    "For this exercise, implement matrix multiplication yourself and compare performance in a few permutations.\n",
    "\n",
    "1. Use the built-in function in Julia (i.e., `C = A * B`, or, for a better comparison, the in-place version `mul!(C, A, B)`, which works with pre-allocated data).  \n",
    "1. Loop over each $ C_{ij} $ by the row first (i.e., the `i` index) and use a `for` loop for the inner product.  \n",
    "1. Loop over each $ C_{ij} $ by the column first (i.e., the `j` index) and use a `for` loop for the inner product.  \n",
    "1. Do the same but use the `dot` product instead of the sum.  \n",
    "1. Choose your best implementation of these, and then for matrices of a few different sizes (`N=10`, `N=1000`, etc.), and compare the ratio of performance of your best implementation to the built-in BLAS library.  \n",
    "\n",
    "\n",
    "A few more hints:\n",
    "\n",
    "- You can just use random matrices (e.g., `A = rand(N, N)`).  \n",
    "- For all of them, pre-allocate the $ C $ matrix beforehand with `C = similar(A)` or something equivalent.  \n",
    "- To compare performance, put your code in a function and use the `@btime` macro to time it.  "
   ]
  },
  {
   "cell_type": "markdown",
   "id": "ea0777c4",
   "metadata": {},
   "source": [
    "### Exercise 2a\n",
    "\n",
    "Here we will calculate the evolution of the pdf of a discrete-time Markov chain, $ \\psi_t $, given the initial condition $ \\psi_0 $.\n",
    "\n",
    "Start with a simple symmetric tridiagonal matrix"
   ]
  },
  {
   "cell_type": "code",
   "execution_count": null,
   "id": "0e5b68f7",
   "metadata": {
    "hide-output": false
   },
   "outputs": [],
   "source": [
    "N = 100\n",
    "A = Tridiagonal([fill(0.1, N-2); 0.2], fill(0.8, N), [0.2; fill(0.1, N-2)])\n",
    "A_adjoint = A';"
   ]
  },
  {
   "cell_type": "markdown",
   "id": "73db7322",
   "metadata": {},
   "source": [
    "1. Pick some large `T` and use the initial condition $ \\psi_0 = \\begin{bmatrix} 1 & 0 & \\ldots & 0\\end{bmatrix} $  \n",
    "1. Write code to calculate $ \\psi_t $ to some $ T $ by iterating the map for each $ t $, i.e.,  \n",
    "\n",
    "\n",
    "$$\n",
    "\\psi_{t+1} = A' \\psi_t\n",
    "$$\n",
    "\n",
    "1. What is the computational order of calculating  $ \\psi_T $ using this iteration approach $ T < N $?  \n",
    "1. What is the computational order of $ (A')^T = (A' \\ldots A') $ and then $ \\psi_T = (A')^T \\psi_0 $ for $ T < N $?  \n",
    "1. Benchmark calculating $ \\psi_T $ with the iterative calculation above as well as the direct $ \\psi_T = (A')^T \\psi_0 $ to see which is faster.  You can take the matrix power with just `A_adjoint^T`, which uses specialized algorithms faster and more accurately than repeated matrix multiplication (but with the same computational order).  \n",
    "1. Check the same if $ T = 2 N $  \n",
    "\n",
    "\n",
    "*Note:* The algorithm used in Julia to take matrix powers  depends on the matrix structure, as always.  In the symmetric case, it can use an eigendecomposition, whereas with a general dense matrix it uses [squaring and scaling](https://doi.org/10.1137/090768539)."
   ]
  },
  {
   "cell_type": "markdown",
   "id": "5c466b6a",
   "metadata": {},
   "source": [
    "### Exercise 2b\n",
    "\n",
    "With the same setup as in Exercise 2a, do an [eigendecomposition](https://en.wikipedia.org/wiki/Eigendecomposition_of_a_matrix) of `A_transpose`.  That is, use `eigen` to factor the adjoint $ A' = Q \\Lambda Q^{-1} $, where $ Q $ is the matrix of eigenvectors and $ \\Lambda $ is the diagonal matrix of eigenvalues.  Calculate $ Q^{-1} $ from the results.\n",
    "\n",
    "Use the factored matrix to calculate the sequence of $ \\psi_t = (A')^t \\psi_0 $ using the relationship\n",
    "\n",
    "$$\n",
    "\\psi_t = Q \\Lambda^t Q^{-1} \\psi_0\n",
    "$$\n",
    "\n",
    "where matrix powers of diagonal matrices are simply the element-wise power of each element.\n",
    "\n",
    "Benchmark the speed of calculating the sequence of $ \\psi_t $ up to `T = 2N` using this method.  In principle, the factorization and easy calculation of the power should give you benefits, compared to simply iterating the map as we did in Exercise 2a.  Explain why it does or does not, using computational order of each approach."
   ]
  }
 ],
 "metadata": {
  "date": 1643875383.789159,
  "filename": "numerical_linear_algebra.md",
  "kernelspec": {
   "display_name": "Julia",
   "language": "julia",
   "name": "julia-1.7"
  },
  "title": "Numerical Linear Algebra and Factorizations"
 },
 "nbformat": 4,
 "nbformat_minor": 5
}