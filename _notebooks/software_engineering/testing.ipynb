{
 "cells": [
  {
   "cell_type": "markdown",
   "id": "8c753eba",
   "metadata": {},
   "source": [
    "\n",
    "<a id='testing'></a>"
   ]
  },
  {
   "cell_type": "markdown",
   "id": "18bdd72a",
   "metadata": {},
   "source": [
    "# Packages, Testing, and Continuous Integration"
   ]
  },
  {
   "cell_type": "markdown",
   "id": "6a03c406",
   "metadata": {},
   "source": [
    "## Contents\n",
    "\n",
    "- [Packages, Testing, and Continuous Integration](#Packages,-Testing,-and-Continuous-Integration)  \n",
    "  - [Introduction and Setup](#Introduction-and-Setup)  \n",
    "  - [Project Setup](#Project-Setup)  \n",
    "  - [Project Structure](#Project-Structure)  \n",
    "  - [Project Workflow](#Project-Workflow)  \n",
    "  - [More on Writing Tests](#More-on-Writing-Tests)  \n",
    "  - [Exercises](#Exercises)  "
   ]
  },
  {
   "cell_type": "markdown",
   "id": "456cdbaf",
   "metadata": {},
   "source": [
    "> A complex system that works is invariably found to have evolved from a simple system that worked. The inverse proposition also appears to be true: A complex system designed from scratch never works and cannot be made to work. You have to start over, beginning with a working simple system – [Gall’s Law](https://en.wikipedia.org/wiki/John_Gall_%28author%29#Gall%27s_law).\n",
    "\n",
    "\n",
    "Co-authored with Arnav Sood\n",
    "\n",
    "This lecture discusses structuring a project as a Julia module, and testing it with tools from GitHub.\n",
    "\n",
    "Benefits include:\n",
    "\n",
    "- Specifying dependencies (and their versions) so that your project works across Julia setups and over time.  \n",
    "- Being able to load your project’s functions from outside without copy/pasting.  \n",
    "- Writing tests that run locally, *and automatically on the GitHub server*.  \n",
    "- Having GitHub test your project across operating systems, Julia versions, etc.  \n",
    "\n",
    "\n",
    "**Note:** Throughout this lecture, important points and sequential workflow steps are listed as bullets.\n",
    "\n",
    "The goal of this style of coding is to ensure that [test driven development](#test-driven) is possible, which will help ensure that your research is reproducible by yourself, your future self, and others - while avoiding accidental mistakes that can silently break old code and change results.\n",
    "\n",
    "Furthermore, it makes collaboration on code much more feasible - allowing individuals to work on different parts of the code without fear of breaking others’ work.\n",
    "\n",
    "Finally, since many economics projects occur over multiple years - this will help your future self to reproduce your results and make changes without remembering all of the subtle tricks required to get things operational."
   ]
  },
  {
   "cell_type": "markdown",
   "id": "45626a4c",
   "metadata": {},
   "source": [
    "## Introduction and Setup\n",
    "\n",
    "Much of the software engineering and continuous integration (CI) will be done through [GitHub Actions](https://github.com/features/actions).\n",
    "\n",
    "The GitHub actions execute as isolated and fully reproducible environments on the cloud (using containers), and are initiated through various actions on the GitHub repo.  In particular, these are typically initiated through:\n",
    "\n",
    "- Making commits on the main branch of a repository.  \n",
    "- Creating a PR on a repository, or pushing commits to it.  \n",
    "- [Tagging a release](https://docs.github.com/en/github/administering-a-repository/releasing-projects-on-github/managing-releases-in-a-repository) of a repository, which provides a snapshot at a particular commit.  \n",
    "\n",
    "\n",
    "For publicly available repositories, GitHub provides free minutes for executing these actions, whereas there are limits on the execution time for private repositories - though signing up for the GitHub academic plans previously discussed (i.e, the [Student Developer Pack](https://education.github.com/pack/) or [Academic/Researcher plans](https://help.github.com/articles/about-github-education-for-educators-and-researchers/)) provides additional free minutes.\n",
    "\n",
    "While you may think of a ‘’Package’’ as a shared and maintained set of reusable code, with Julia it will turn out to be the most useful way to organize personal and private projects or the code associated with a particular paper.  The primary benefit of using a package workflow is **reproducibility** for yourself, your future self, and collaborators.\n",
    "\n",
    "In addition, you will find the testing workflow as an essential element of working on even individual projects, since it will prevent you from making accidental breaking changes at points in the future - or when you come back to the code after several years.\n",
    "\n",
    "\n",
    "<a id='testing-account-setup'></a>"
   ]
  },
  {
   "cell_type": "markdown",
   "id": "8af794a0",
   "metadata": {},
   "source": [
    "### GitHub and Codecov Account Setup\n",
    "\n",
    "This lecture assumes you have completed the setup of VS Code and Git in the  [version control](https://julia.quantecon.org/version_control.html) and  [tools](https://julia.quantecon.org/tools_editors.html)  lectures.  In particular,\n",
    "\n",
    "- Ensure you have setup a GitHub account, and connected it to VS Code.  \n",
    "- Installed and setup VS Code’s Julia extension.  \n",
    "- Set ` git config --global user.email \"you@example.com\"`, `git config --global user.name \"Your Name\"` and `git config --global github.user \"YOURGITHUBNAME\"` in your terminal.  \n",
    "\n",
    "\n",
    "The only other service that is necessary for the complete software engineering stack is a code coverage provider.\n",
    "\n",
    "For these lectures, visit [Codecov website](https://about.codecov.io/sign-up/).\n",
    "\n",
    "Installation instructions are [here](https://docs.codecov.com/docs/quick-start#getting-started).\n",
    "\n",
    "To summarize: sign up, and sign into it with `GitHub`.  You may need to provide permissions for Codecov to access GitHub, follow the provided authorization instructions.\n",
    "\n",
    "![https://julia.quantecon.org/_static/figures/codecov-1.png](https://julia.quantecon.org/_static/figures/codecov-1.png)\n",
    "\n",
    "  \n",
    "\n",
    "<a id='testing-pkg-installation'></a>"
   ]
  },
  {
   "cell_type": "markdown",
   "id": "2bfff78a",
   "metadata": {},
   "source": [
    "### PkgTemplates.jl and Revise.jl\n",
    "\n",
    "While you can create your Julia package manually, using a template will ensure that you have everything in the standard format.\n",
    "\n",
    "If you have activated the notebook repositories, then `PkgTemplates.jl` will already be installed.\n",
    "\n",
    "Otherwise, start a `julia` REPL outside of a particular project (or do an `] activate` to deactivate the existing project, and use the global environment) and\n",
    "\n",
    "- Install [PkgTemplates](https://github.com/invenia/PkgTemplates.jl/) and [Revise](https://github.com/timholy/Revise.jl) with  "
   ]
  },
  {
   "cell_type": "code",
   "execution_count": null,
   "id": "faee94a6",
   "metadata": {
    "hide-output": false
   },
   "outputs": [],
   "source": [
    "] add PkgTemplates Revise"
   ]
  },
  {
   "cell_type": "markdown",
   "id": "5ecf8ac5",
   "metadata": {},
   "source": [
    "While we typically insist on having very few packages in the global environment, and always working with a `Project.toml` file, `PkgTemplates` is primarily used without an existing project.\n",
    "\n",
    "While the [Revise.jl](https://github.com/timholy/Revise.jl) package is optional, it is strongly encouraged since it automatically compiling functions in your package as they are changed.  See [below](#editing-package-code) for more.\n",
    "\n",
    "\n",
    "<a id='project-setup'></a>"
   ]
  },
  {
   "cell_type": "markdown",
   "id": "e8148080",
   "metadata": {},
   "source": [
    "## Project Setup\n",
    "\n",
    "To create a project, first choose the parent directory where you wish to create the project\n",
    "\n",
    "- In an external terminal, navigate to this parent directory.  \n",
    "\n",
    "\n",
    ">**Note**\n",
    ">\n",
    ">On Windows, given that you have installed Git you could right click on the folder in explorer and choose `Git Bash Here`.  Even better, install the [Windows Terminal](https://docs.microsoft.com/en-us/windows/terminal/get-started) and choose `Open in Windows Terminal`.\n",
    "\n",
    "- Start a julia terminal with `julia`  \n",
    "- Then run  "
   ]
  },
  {
   "cell_type": "code",
   "execution_count": null,
   "id": "a124c39e",
   "metadata": {
    "hide-output": false
   },
   "outputs": [],
   "source": [
    "using PkgTemplates"
   ]
  },
  {
   "cell_type": "markdown",
   "id": "87e1ccdd",
   "metadata": {},
   "source": [
    "- Create a *template* for your project.  \n",
    "\n",
    "\n",
    "This specifies metadata like the license we’ll be using (MIT by default), the location, etc.\n",
    "\n",
    "We will create this with a number of useful options, but see [the documentation](https://invenia.github.io/PkgTemplates.jl/stable/user/#A-More-Complicated-Example-1) for more."
   ]
  },
  {
   "cell_type": "code",
   "execution_count": null,
   "id": "05b17fe9",
   "metadata": {
    "hide-output": false
   },
   "outputs": [],
   "source": [
    "t = Template(;dir = \".\", julia = v\"1.7\",\n",
    "              plugins = [\n",
    "                Git(; manifest=true, branch = \"main\"),\n",
    "                Codecov(),\n",
    "                GitHubActions(),\n",
    "                !CompatHelper,\n",
    "                !TagBot\n",
    "              ])"
   ]
  },
  {
   "cell_type": "markdown",
   "id": "f82695df",
   "metadata": {},
   "source": [
    ">**Note**\n",
    ">\n",
    ">If you did not set the `github.user` in the setup, you may need to pass in `user = \"YOURUSERNAME\"` as an additional argument in the first line.  In addition, this turns off some important features (e.g. `CompatHelper` and `TagBot`) and leaves out others (e.g. `Documenter{GitHubActions}`) which you would want for a more formal package.\n",
    "\n",
    "Alternatively, `PkgTemplates` has an interactive mode, which you can prompt with `t = Template(;interactive = true)` to choose all of your selections within the terminal.\n",
    "\n",
    "- Create a specific project based off this template  "
   ]
  },
  {
   "cell_type": "code",
   "execution_count": null,
   "id": "ee36e486",
   "metadata": {
    "hide-output": false
   },
   "outputs": [],
   "source": [
    "t(\"MyProject\")"
   ]
  },
  {
   "cell_type": "markdown",
   "id": "c7ccc647",
   "metadata": {},
   "source": [
    "- Open the project in VS Code by right-clicking in the explorer for the new `MyProject` folder, or exiting the Julia REPL (via `exit()`) and then  "
   ]
  },
  {
   "cell_type": "markdown",
   "id": "f1fa1015",
   "metadata": {
    "hide-output": false
   },
   "source": [
    "```bash\n",
    "cd MyProject\n",
    "code .\n",
    "```\n"
   ]
  },
  {
   "cell_type": "markdown",
   "id": "c3cf736c",
   "metadata": {},
   "source": [
    "The project should open in VS Code, and look something like\n",
    "\n",
    "![https://julia.quantecon.org/_static/figures/new_package_vscode.png](https://julia.quantecon.org/_static/figures/new_package_vscode.png)"
   ]
  },
  {
   "cell_type": "markdown",
   "id": "e50284a5",
   "metadata": {},
   "source": [
    "### Adding a Project to GitHub\n",
    "\n",
    "The next step is to add this project to Git version control.\n",
    "\n",
    "- First, we will need to create an empty GitHub Repository of the same name (but with a `.jl` extension).   Choose the `+` button to “Create a new repository”  \n",
    "\n",
    "\n",
    "![https://julia.quantecon.org/_static/figures/new_package_vscode_2.png](https://julia.quantecon.org/_static/figures/new_package_vscode_2.png)\n",
    "\n",
    "  \n",
    "In particular, ensure that\n",
    "\n",
    "- The repo you create should have the same name as the project we added (except with a `.jl` extension).  \n",
    "- We should leave the boxes unchecked for the `README.md`, `LICENSE`, and `.gitignore`, since these are handled by `PkgTemplates`.  \n",
    "- If available, Grant access to `CodeCov` for this new repository.  \n",
    "\n",
    "\n",
    "Then, we can now publish the generated package in VS Code to this empty repository.\n",
    "\n",
    "Choose the icon to publish the branch as we did in previous lectures\n",
    "\n",
    "![https://julia.quantecon.org/_static/figures/new_package_vscode_3.png](https://julia.quantecon.org/_static/figures/new_package_vscode_3.png)\n",
    "\n",
    "  \n",
    "Do not accept the request to create a `Pull Request` when you push the branch.\n",
    "\n",
    "At which point, if you refresh the webpage, it should be filled with the generated files\n",
    "\n",
    "![https://julia.quantecon.org/_static/figures/new_package_vscode_4.png](https://julia.quantecon.org/_static/figures/new_package_vscode_4.png)\n",
    "\n",
    "  \n",
    "Furthermore, you will see a badge either saying `CI | passing` or `CI | unknown` next to another for `codecov | unknown`.\n",
    "\n",
    "These badges provide a summary of the current state of the `main` branch relative to the GitHub Actions, as we will see below.  If a repository has broken any tests on the main branch, it will show `CI | failed` in red.\n",
    "\n",
    "\n",
    "<a id='add-to-global'></a>"
   ]
  },
  {
   "cell_type": "markdown",
   "id": "60e84c04",
   "metadata": {},
   "source": [
    "### (Optionally) Adding the Package to the Global Environment\n",
    "\n",
    "Optionally, you may wish to be able to use your package within other projects on your computer.\n",
    "\n",
    "To do this, you can add it to the main environment by starting Julia in the `MyProject` folder, and without activating the project (i.e. just `julia`).\n",
    "\n",
    "Then"
   ]
  },
  {
   "cell_type": "code",
   "execution_count": null,
   "id": "a7880f8b",
   "metadata": {
    "hide-output": false
   },
   "outputs": [],
   "source": [
    "] dev ."
   ]
  },
  {
   "cell_type": "markdown",
   "id": "e3f733da",
   "metadata": {},
   "source": [
    "Given this, other julia code can use `using MyProject` and, because the global environment stacks on any project files, it will be available.\n",
    "\n",
    "You can see the change reflected in our default package list by running `] st`"
   ]
  },
  {
   "cell_type": "markdown",
   "id": "43211e18",
   "metadata": {
    "hide-output": false
   },
   "source": [
    "```bash\n",
    "      Status `C:\\Users\\jesse\\.julia\\environments\\v1.7\\Project.toml`\n",
    "  [7073ff75] IJulia v1.23.2\n",
    "  [a361046e] MyProject v0.1.0 `..\\..\\..\\Documents\\GitHub\\MyProject`\n",
    "  [14b8a8f1] PkgTemplates v0.7.18\n",
    "  [295af30f] Revise v3.1.19  \n",
    "```\n"
   ]
  },
  {
   "cell_type": "markdown",
   "id": "8ba33f8e",
   "metadata": {},
   "source": [
    "For more on the package mode, see the [tools and editors](https://julia.quantecon.org/tools_editors.html) lecture.\n",
    "\n",
    "However, this step not required if you wish to use this package as a self-contained project."
   ]
  },
  {
   "cell_type": "markdown",
   "id": "236c0010",
   "metadata": {},
   "source": [
    "## Project Structure\n",
    "\n",
    "Let’s unpack the structure of the generated project\n",
    "\n",
    "- A hidden directory, `.git`, holds the version control information.  \n",
    "- The `src` directory contains the project’s source code – it should contain only one file (`MyProject.jl`), which reads  "
   ]
  },
  {
   "cell_type": "code",
   "execution_count": null,
   "id": "40cf2630",
   "metadata": {
    "hide-output": false
   },
   "outputs": [],
   "source": [
    "module MyProject\n",
    "\n",
    "greet() = print(\"Hello World!\")\n",
    "\n",
    "end # module"
   ]
  },
  {
   "cell_type": "markdown",
   "id": "ab10b42f",
   "metadata": {},
   "source": [
    "- Likewise, the `test` directory should have only one file (`runtests.jl`), which reads  "
   ]
  },
  {
   "cell_type": "code",
   "execution_count": null,
   "id": "ac95ec74",
   "metadata": {
    "hide-output": false
   },
   "outputs": [],
   "source": [
    "using MyProject\n",
    "using Test\n",
    "\n",
    "@testset \"MyProject.jl\" begin\n",
    "    # Write your own tests here.\n",
    "end"
   ]
  },
  {
   "cell_type": "markdown",
   "id": "5b877f31",
   "metadata": {},
   "source": [
    "\n",
    "\n",
    "In particular, the workflow is to export objects we want to test (`using MyProject`), and test them using Julia’s `Test` module.\n",
    "\n",
    "The other important text files for now are\n",
    "\n",
    "- `Project.toml` and `Manifest.toml`, which contain dependency information.  \n",
    "\n",
    "\n",
    "In particular, the `Project.toml` contains a list of dependencies, and the `Manifest.toml` specifies their exact versions and sub-dependencies.\n",
    "\n",
    "- The `.gitignore` file (which may display as an untitled file), which contains files and paths for `git` to ignore.  "
   ]
  },
  {
   "cell_type": "markdown",
   "id": "8cc39463",
   "metadata": {},
   "source": [
    "### GitHub Actions and CI\n",
    "\n",
    "The final file is a GitHub Actions file in the `.github/workflows` folder, called `CI.yml` with the text similar to"
   ]
  },
  {
   "cell_type": "markdown",
   "id": "e8968b17",
   "metadata": {
    "hide-output": false
   },
   "source": [
    "```yaml\n",
    "name: CI\n",
    "on:\n",
    "  - push\n",
    "  - pull_request\n",
    "jobs:\n",
    "  test:\n",
    "    name: Julia ${{ matrix.version }} - ${{ matrix.os }} - ${{ matrix.arch }} - ${{ github.event_name }}\n",
    "    runs-on: ${{ matrix.os }}\n",
    "    strategy:\n",
    "      fail-fast: false\n",
    "      matrix:\n",
    "        version:\n",
    "          - '1.7'\n",
    "          - 'nightly'\n",
    "        os:\n",
    "          - ubuntu-latest\n",
    "        arch:\n",
    "          - x64          \n",
    "    steps:\n",
    "      - uses: actions/checkout@v2\n",
    "      - uses: julia-actions/setup-julia@v1\n",
    "        with:\n",
    "          version: ${{ matrix.version }}\n",
    "          arch: ${{ matrix.arch }}\n",
    "      - uses: actions/cache@v1\n",
    "        env:\n",
    "          cache-name: cache-artifacts\n",
    "        with:\n",
    "          path: ~/.julia/artifacts\n",
    "          key: ${{ runner.os }}-test-${{ env.cache-name }}-${{ hashFiles('**/Project.toml') }}\n",
    "          restore-keys: |\n",
    "            ${{ runner.os }}-test-${{ env.cache-name }}-\n",
    "            ${{ runner.os }}-test-\n",
    "            ${{ runner.os }}-\n",
    "      - uses: julia-actions/julia-buildpkg@v1\n",
    "      - uses: julia-actions/julia-runtest@v1\n",
    "      - uses: julia-actions/julia-processcoverage@v1\n",
    "      - uses: codecov/codecov-action@v1\n",
    "        with:\n",
    "          file: lcov.info\n",
    "```\n"
   ]
  },
  {
   "cell_type": "markdown",
   "id": "fc4b7869",
   "metadata": {},
   "source": [
    "This file provides the rules for continuous integration running on changes to this repository.  You will not need to modify it.\n",
    "\n",
    "To summarize some of the features, the\n",
    "\n",
    "- `push` and `pull_request` at the top says that any push to the repository or creation of a pull request will trigger this workflow.  \n",
    "- `matrix` establishes the set of operating systems, architectures, and Julia versions to test  \n",
    "- `actions/cache` speeds up execution by storing dependent packages and artifacts  \n",
    "- `julia-runtest` will execute the `test/runtests.jl` automatically and determine whether it is successful  \n",
    "- `codecov/codecov-action` analyzes which lines of code were executed by `test/runtests.jl` and uploads to Codecov  "
   ]
  },
  {
   "cell_type": "markdown",
   "id": "fab8d20d",
   "metadata": {},
   "source": [
    "## Project Workflow"
   ]
  },
  {
   "cell_type": "markdown",
   "id": "156a4e3f",
   "metadata": {},
   "source": [
    "### Dependency Management"
   ]
  },
  {
   "cell_type": "markdown",
   "id": "5cf5a64d",
   "metadata": {},
   "source": [
    "#### Environments\n",
    "\n",
    "As [before](https://julia.quantecon.org/tools_editors.html#jl-packages), the `.toml` files define an *environment* for our project, or a set of files which represent the dependency information.\n",
    "\n",
    "The actual files are written in the [TOML language](https://github.com/toml-lang/toml), which is a lightweight format to specify configuration options.\n",
    "\n",
    "This information is the name of every package we depend on, along with the exact versions of those packages.\n",
    "\n",
    "This information (in practice, the result of package operations we execute) will\n",
    "be reflected in our `MyProject.jl` directory’s TOML, once that environment is activated (selected).\n",
    "\n",
    "This allows us to share the project with others, who can exactly reproduce the state used to build and test it.\n",
    "\n",
    "See the [Pkg docs](https://docs.julialang.org/en/v1/stdlib/Pkg/) for more information."
   ]
  },
  {
   "cell_type": "markdown",
   "id": "dc46f3c5",
   "metadata": {},
   "source": [
    "#### Pkg Operations\n",
    "\n",
    "For now, let’s just try adding a dependency.  Recall the package operations described in the [tools and editors](https://julia.quantecon.org/tools_editors.html) lecture.\n",
    "\n",
    "- Within VS Code, start a REPL (e.g. `> Julia: Start REPL`), type `]` to enter the Pkg mode.  Verify that the cursor says `(My Project) pkg>` to ensure that it has activated your particular project.  Otherwise, if it says `(@1.7) pkg>`, then you have launched Julia outside of VSCode or through a different mechanism, and you might need to ensure you are in the correct directory and then `] activate .` to activate the project file in it.  \n",
    "- Then, add in the `Expectations.jl` package  \n",
    "\n",
    "\n",
    "![https://julia.quantecon.org/_static/figures/vscode_add_package.png](https://julia.quantecon.org/_static/figures/vscode_add_package.png)\n",
    "\n",
    "  \n",
    "After installing a large web of dependencies, this tells Julia to write the results of package operations to the activated `Project.toml` file, which should now include text such as"
   ]
  },
  {
   "cell_type": "markdown",
   "id": "a1847450",
   "metadata": {
    "hide-output": false
   },
   "source": [
    "```toml\n",
    "[deps]\n",
    "Expectations = \"2fe49d83-0758-5602-8f54-1f90ad0d522b\"\n",
    "```\n"
   ]
  },
  {
   "cell_type": "markdown",
   "id": "c9afcb42",
   "metadata": {},
   "source": [
    "From this point, anytime the project is activated, the [Expectations.jl](https://github.com/QuantEcon/Expectations.jl) package will be available with `using Expectations`.\n",
    "\n",
    "Furthermore, different projects could use different versions of this package.   We could add additional instructions on [compatability](https://pkgdocs.julialang.org/dev/compatibility/) within the file if we choose.\n",
    "\n",
    "But almost more importantly, the `Manifest.toml` file now contains a complete snapshot of the particular `Expectations` package and every other dependency used in your project.\n",
    "\n",
    "For example, the following is an example snippet of one manifest here:"
   ]
  },
  {
   "cell_type": "markdown",
   "id": "f82b7be4",
   "metadata": {
    "hide-output": false
   },
   "source": [
    "```toml\n",
    "[[Expectations]]\n",
    "deps = [\"Compat\", \"Distributions\", \"FastGaussQuadrature\", \"LinearAlgebra\", \"SpecialFunctions\"]\n",
    "git-tree-sha1 = \"0f906c5edffe266acbf471734ac942d4aa9b7235\"\n",
    "uuid = \"2fe49d83-0758-5602-8f54-1f90ad0d522b\"\n",
    "version = \"1.7.1\"\n",
    "\n",
    "[[FastGaussQuadrature]]\n",
    "deps = [\"LinearAlgebra\", \"SpecialFunctions\", \"StaticArrays\"]\n",
    "git-tree-sha1 = \"5829b25887e53fb6730a9df2ff89ed24baa6abf6\"\n",
    "uuid = \"442a2c76-b920-505d-bb47-c5924d526838\"\n",
    "version = \"0.4.7\"\n",
    "```\n"
   ]
  },
  {
   "cell_type": "markdown",
   "id": "7f00a2fe",
   "metadata": {},
   "source": [
    "This shows that that the current manifest has:\n",
    "\n",
    "- version 1.7.1 of the `Expectations` packages  \n",
    "- the `Expectations` package at this version has a variety of dependencies (i.e. `deps = `) such as the `FastGaussQuadrature`.  \n",
    "- the `FastGaussQuadrature` package at version `0.4.7` which itself has `StaticArrays` as a dependency, etc.  \n",
    "\n",
    "\n",
    "The manifest file then provides a fully reproducible environment with which someone can install not only the specific version of this package, but also a feasible network of all dependencies which all fulfill the compatability requirements of each.\n",
    "\n",
    "We have used this feature before in our setup process, where we activated a `Project.toml` and used `] instantiate`.  If there is a manifest file in the same directory as the package, then that command will install the exact set of versions listed in the manifest for all packages.  If a manifest file does not exist, then it will attempt to find a compatible set of packages that fulfill your `Project.toml` file, and generate one.\n",
    "\n",
    ">**Note**\n",
    ">\n",
    ">For a typical project intended to be for reproducible research, you should always keep the `Manifest.toml` in source control so that you can reproduce every stage of the project.  This can save you when you need to roll back to an older version to track down changes.  However, when creating reusable packages largely intended for others to have as dependencies, you will typically not include the `Manifest.toml`.\n",
    "\n",
    "\n",
    "<a id='test-driven'></a>"
   ]
  },
  {
   "cell_type": "markdown",
   "id": "5c105856",
   "metadata": {},
   "source": [
    "### Test-driven Development\n",
    "\n",
    "The basic idea of test-driven development is to create a set of tests of individual functions in `test/runtests.jl` (and files it includes), while keeping the core functionality in  `src/MyProject.jl` (and files it includes).\n",
    "\n",
    "This will be part of a coherent set of strategies to ensure everything is reproducible since:\n",
    "\n",
    "- Writing all of the checks on your underlying functions to be called from  `test/runtests.jl` lets you can avoid accidentally breaking old functionality.  Breaking of old code is called a [test regression](https://en.wikipedia.org/wiki/Regression_testing) and is especially problematic with research code.  \n",
    "- With the full snapshot of all of the packages associated with a particular version of the project (i.e. a commmit) in a `Manifest.toml`, anyone can reproduce the exact environment simply from that point in the source code tree.  \n",
    "- Any changes to the code automatically run in the CI (i.e. the GitHub Action) after every modification, so you and any collaborators will be able to automatically track changes.  \n",
    "- The code coverage will give you a sense of how much of the code you have actually executed in your tests, which can give you a sense of how much faith should be given to the automatic tracking of changes.  \n",
    "- The visual badges and displays on GitHub (e.g. the CI badge and the display of checks on each PR) provides an easy way to track when problems occur.  \n",
    "\n",
    "\n",
    "\n",
    "<a id='editing-package-code'></a>"
   ]
  },
  {
   "cell_type": "markdown",
   "id": "9595edc1",
   "metadata": {},
   "source": [
    "### Writing Code in the Package\n",
    "\n",
    "First, in the REPL add support for the `Distributions.jl` package and Julia unit testing"
   ]
  },
  {
   "cell_type": "code",
   "execution_count": null,
   "id": "d50bb275",
   "metadata": {
    "hide-output": false
   },
   "outputs": [],
   "source": [
    "] add Distributions Test"
   ]
  },
  {
   "cell_type": "markdown",
   "id": "75081777",
   "metadata": {},
   "source": [
    "Which should provide output such as\n",
    "\n",
    "![https://julia.quantecon.org/_static/figures/vscode_add_package_2.png](https://julia.quantecon.org/_static/figures/vscode_add_package_2.png)\n",
    "\n",
    "  \n",
    "While it will add the package to the `Project.toml`, unlike the previous package operation, this will not install any new packages.  The reason is that `Distributions.jl` was already in the manifest as a dependency of `Expectations.jl` - and hence the network of packages already supports it.\n",
    "\n",
    "Next, modify the `src/MyProject.jl` to include"
   ]
  },
  {
   "cell_type": "code",
   "execution_count": null,
   "id": "de2c6417",
   "metadata": {
    "hide-output": false
   },
   "outputs": [],
   "source": [
    "module MyProject\n",
    "\n",
    "using Expectations, Distributions\n",
    "\n",
    "function foo(μ = 1., σ = 2.)\n",
    "    d = Normal(μ, σ)\n",
    "    E = expectation(d)\n",
    "    return E(x -> sin(x))\n",
    "end\n",
    "\n",
    "export foo\n",
    "\n",
    "end # module"
   ]
  },
  {
   "cell_type": "markdown",
   "id": "25b11939",
   "metadata": {},
   "source": [
    ">**Note**\n",
    ">\n",
    ">This defines a function, `foo` in the package, and exports it so that it is available to be called directly with `foo()` after `using MyProject`.  Alternatively, you can leave off the `export foo` and instead call the function with the package name as a prefix `MyProject.foo()`.\n",
    "\n",
    "Then, we can call this function within a REPL by first including our package"
   ]
  },
  {
   "cell_type": "code",
   "execution_count": null,
   "id": "0fd2f553",
   "metadata": {
    "hide-output": false
   },
   "outputs": [],
   "source": [
    "using MyProject"
   ]
  },
  {
   "cell_type": "markdown",
   "id": "c9211fe2",
   "metadata": {},
   "source": [
    "Then calling `foo()` with the default arguments in the REPL.  This should lead to something like\n",
    "\n",
    "![https://julia.quantecon.org/_static/figures/vscode_run_package_1.png](https://julia.quantecon.org/_static/figures/vscode_run_package_1.png)\n",
    "\n",
    "  \n",
    "Next, we will change the function in the package and call it again in the REPL:\n",
    "\n",
    "- Modify the `foo` function definition to add `println(\"Modified foo definition\")` inside the function  "
   ]
  },
  {
   "cell_type": "code",
   "execution_count": null,
   "id": "782d9c8e",
   "metadata": {
    "hide-output": false
   },
   "outputs": [],
   "source": [
    "function foo(μ = 1., σ = 2.)\n",
    "    println(\"Modified foo definition\")\n",
    "    d = Normal(μ, σ)\n",
    "    E = expectation(d)\n",
    "    return E(x -> sin(x))\n",
    "end"
   ]
  },
  {
   "cell_type": "markdown",
   "id": "f1414505",
   "metadata": {},
   "source": [
    "And then call the `foo()` function again in the REPL, which shows that it is now using the modified function.\n",
    "\n",
    "![https://julia.quantecon.org/_static/figures/vscode_run_package_2.png](https://julia.quantecon.org/_static/figures/vscode_run_package_2.png)\n",
    "\n",
    "  \n",
    ">**Note**\n",
    ">\n",
    ">This behavior, where modifying code within the package is detected and immediately compiled, relies on the [installation of Revise.jl](#testing-pkg-installation).  An alternative workflow without `Revise.jl` is to make modifications to the underlying package files, and then simply use `<Shift+Enter>` in the editor to recompile them.  Both approaches are fully defensible and tastes are idiosyncratic.\n",
    "\n",
    "Regardless, if you modify functions **outside of** the package (e.g. a function in the `runtests.jl`) you will need to use the `<Shift+Enter>` to compile it, as Revise only tracks code within loaded packages.\n",
    "\n",
    "Consider that when writing this function, we may be checking its behavior in the REPL.  For example, we know from theory that the symmetry of the `sin` function means the expectation of the `sin` of a mean-zero normal (i.e. `foo(0)`) should be close to zero.\n",
    "\n",
    "To check this, we can use the `Test` package built-into julia, and added to our project file above.  The `@test` macro within it verifies a condition, and fails if it is incorrect.\n",
    "\n",
    "In the REPL, use the `Test` package and then check that `foo(0)` is close to 0."
   ]
  },
  {
   "cell_type": "code",
   "execution_count": null,
   "id": "f4f7be39",
   "metadata": {
    "hide-output": false
   },
   "outputs": [],
   "source": [
    "using Test, MyProject\n",
    "@test foo(0) < 1E-16"
   ]
  },
  {
   "cell_type": "markdown",
   "id": "7e48aca0",
   "metadata": {},
   "source": [
    "Which should show that the “Test Passed”.\n",
    "\n",
    "![https://julia.quantecon.org/_static/figures/vscode_run_package_3.png](https://julia.quantecon.org/_static/figures/vscode_run_package_3.png)\n",
    "\n",
    "  \n",
    "\n",
    "<a id='editing-test-code'></a>"
   ]
  },
  {
   "cell_type": "markdown",
   "id": "029fa640",
   "metadata": {},
   "source": [
    "### Writing Test Code\n",
    "\n",
    "The core of test driven development is that if a value was worth checking once, then it is probably worth checking every time the code changes.\n",
    "\n",
    "For this reason, the change to this workflow means moving much of the code you would use to explore in a Jupyter notebook into the `runtests.jl` (or files they `include`) themselves.\n",
    "\n",
    "The `@testset` are just optional ways to group the tests, and are not required for organization.\n",
    "\n",
    "- In `test/runtests.jl`, move the `@test foo(0) < 1E-16`  inside of the `@testset`, which you can rename.  The testsets are optional, but can provide easy ways to group tests and execute many at once within VS Code.  \n",
    "- Then `<Shift-Enter>` through each line of the `runtests.jl` file.  As you execute each line of code, it will provide the result or a checkmark to indicate success  \n",
    "\n",
    "\n",
    "At the end, you should have output within the REPL that the test you added passed.\n",
    "\n",
    "![https://julia.quantecon.org/_static/figures/vscode_run_package_4.png](https://julia.quantecon.org/_static/figures/vscode_run_package_4.png)\n",
    "\n",
    "  \n",
    ">**Note**\n",
    ">\n",
    ">Note that for the `runtests.jl` file, we need to manually execute lines of code as we wish to explore the results, in contrast to the changes in the package where Revise automatically compiled them.  This includes function definitions inside of these files.\n",
    "\n",
    "Checks on individual functions in your test suite are called [unit tests](https://en.wikipedia.org/wiki/Unit_testing).\n",
    "\n",
    "\n",
    "<a id='executing-tests'></a>"
   ]
  },
  {
   "cell_type": "markdown",
   "id": "783ccd20",
   "metadata": {},
   "source": [
    "### Executing Tests Locally and on CI\n",
    "\n",
    "As you develop your project, you may find yourself adding in many small checks and organizing them into files included from runtests.  After modifying a large amount of code, you may want to run through the entire set of unit tests to ensure you didn’t break anything.\n",
    "\n",
    "To do this, the package mode in Julia has a convenient function which will create a separate environment using your Project/Manifest and execute the entire `runtests.jl` function.\n",
    "\n",
    "If you have already activated the project, then `] test` is sufficient.  Otherwise, if you added it to the [global environment](#add-to-global), you could type `] test MyProject`.\n",
    "\n",
    "Run this test to see the output.\n",
    "\n",
    "![https://julia.quantecon.org/_static/figures/vscode_run_package_5.png](https://julia.quantecon.org/_static/figures/vscode_run_package_5.png)\n",
    "\n",
    "  \n",
    "This shows that the individual test passed, but also that the entire test suite was without errors.\n",
    "\n",
    "Now that we have a functional test suite, it is a good time to upload our code to the server.  Create a commit, and push all changes to the server.\n",
    "\n",
    "If you reload the webpage, you will notice that the commit is now on the server, but also that a small orange circle is next to the commit.\n",
    "\n",
    "![https://julia.quantecon.org/_static/figures/ci_1.png](https://julia.quantecon.org/_static/figures/ci_1.png)\n",
    "\n",
    "  \n",
    "This indicates that a GitHub Action is executing based on that push to the main branch.\n",
    "\n",
    "You can see these actions in progress on the Actions tab, where the action may be complete by the time you open it.\n",
    "\n",
    "![https://julia.quantecon.org/_static/figures/ci_2.png](https://julia.quantecon.org/_static/figures/ci_2.png)\n",
    "\n",
    "  \n",
    "If you further click on one of the jobs and select the `julia-runtest` you can see the output on the server.  It ran your test suite on its isolated environment and is showing a check mark because the tests passed.\n",
    "\n",
    "![https://julia.quantecon.org/_static/figures/ci_3.png](https://julia.quantecon.org/_static/figures/ci_3.png)\n",
    "\n",
    "  \n",
    "![https://julia.quantecon.org/_static/figures/ci_4.png](https://julia.quantecon.org/_static/figures/ci_4.png)\n",
    "\n",
    "  \n",
    "By this point, if you navigate back to the web page you will see that the commit has a checkmark (rather than an orange circle) and the badge at the bottom says “CI | passing” to indicate that the last action was successful.\n",
    "\n",
    "\n",
    "<a id='branches-tests'></a>"
   ]
  },
  {
   "cell_type": "markdown",
   "id": "7a55d047",
   "metadata": {},
   "source": [
    "### “Feature” Branches and Continuous Integration\n",
    "\n",
    "The previous example showed how the CI will automatically execution an action when you push it to the main branch.\n",
    "\n",
    "These actions will also apply, separately, to any branches and Pull Requests (PRs) that you create, as discussed in the [previous lecture](https://julia.quantecon.org/version_control.html).\n",
    "\n",
    "Separate testing and CI is one of the primary motivations for creating a branch when collaborating on a project.\n",
    "\n",
    "To demonstrate this\n",
    "\n",
    "- Create a new branch on VS Code called `my-feature` (i.e., click on the `main` branch at the bottom of the screen to enter the branch selection, then choose to make a new one).  \n",
    "- In `MyProject.jl`, change the function in `foo` from `sin(x)` to `cos(x)`.  Note that this will change the result of `foo(0)`.  \n",
    "\n",
    "\n",
    "![https://julia.quantecon.org/_static/figures/ci_5.png](https://julia.quantecon.org/_static/figures/ci_5.png)\n",
    "\n",
    "  \n",
    "- Commit this change to your local branch with the commit message.  \n",
    "- Then, imagine that rather than running `] test` - which would have shown this error given our previous unit test, you pushed it to the server.  As always, do this by selecting the publish arrow next to `my-feature` at the bottom of the screen.  You can create a Pull Request in that GUI, or just go back to the webpage where it asked you if you wish to “Compare and Pull Request”.  \n",
    "\n",
    "\n",
    "After you create the pull request, you will see it in available on the web.  After a few minutes, the unit test will execute and you will see an output such as\n",
    "\n",
    "![https://julia.quantecon.org/_static/figures/ci_6.png](https://julia.quantecon.org/_static/figures/ci_6.png)\n",
    "\n",
    "  \n",
    "Unlike in the previous example, the pull request will have a red X indicating that one of the actions failed.\n",
    "\n",
    "If this were done by a collaborator, you could go to the “Files Changed” tab, see the code modifications for commits in this PR, and then add a comment on these inline for discussion (using the `@` to tag an individual so they are emailed)\n",
    "\n",
    "![https://julia.quantecon.org/_static/figures/ci_7.png](https://julia.quantecon.org/_static/figures/ci_7.png)\n",
    "\n",
    "  \n",
    "At that point, you or your collaborators can easily switch to the branch associated with the PR (i.e. `my-feature` in the above screenshot), make changes, and test them.\n",
    "\n",
    "If you go back to VS Code and change the `cos` back to `sin` and commit with a message (e.g. `Fixed bug`) then the PR will rerun the CI.\n",
    "\n",
    "In this case, you will see that while the `Modified foo` broke the CI, the `Fixed bug` commit passed, and has a green checkmark after it completes its run.\n",
    "\n",
    "![https://julia.quantecon.org/_static/figures/ci_8.png](https://julia.quantecon.org/_static/figures/ci_8.png)\n",
    "\n",
    "  \n",
    "Furthermore, since the previous comment was made on a line of code that was changed after the comment was made, it says the comment is “Outdated”.  When collaborating, the “Resolve conversation” option would let you close these sorts of issues as they are found.\n",
    "\n",
    "Reselect your `main` branch in VS Code to make further changes there rather than on the `my-feature` branch."
   ]
  },
  {
   "cell_type": "markdown",
   "id": "c3fdd098",
   "metadata": {},
   "source": [
    "### Code Coverage\n",
    "\n",
    "At this point, the `Codecov` badge in the README likely says `codecov | unknown` since the repository has not been added there.\n",
    "\n",
    "Click on that badge, which should take you to the `Codecov` website where you can login if required, and select particular commits or PRs.\n",
    "\n",
    "For example, on our previous PR we can see that it detected the change from the `cos` back to `sin` and that the coverage is 100% (i.e., every line of code in the package is executed by a test)\n",
    "\n",
    "![https://julia.quantecon.org/_static/figures/codecov_1.png](https://julia.quantecon.org/_static/figures/codecov_1.png)\n",
    "\n",
    "  \n",
    "To see the impact of additional code in the package, go back to your `main` branch, add in a new function such as"
   ]
  },
  {
   "cell_type": "code",
   "execution_count": null,
   "id": "b128b6b9",
   "metadata": {
    "hide-output": false
   },
   "outputs": [],
   "source": [
    "function bar()\n",
    "    return 10\n",
    "end"
   ]
  },
  {
   "cell_type": "markdown",
   "id": "9ca347e5",
   "metadata": {},
   "source": [
    "and then commit and push to the server.\n",
    "\n",
    "After the CI executes, you will notice that the unit tests still pass despite the additional function.\n",
    "\n",
    "However, if you click on the code coverage badge again and look at the main branch (or that particular commit) you will see that the code coverage has decreased substantially.\n",
    "\n",
    "![https://julia.quantecon.org/_static/figures/codecov_2.png](https://julia.quantecon.org/_static/figures/codecov_2.png)\n",
    "\n",
    "  \n",
    "Furthermore, it highlights in red the new code in this commit which led to the lowered code coverage.  In this case, the `bar` function had nothing in `runtests.jl` that was calling it.  This can help you ensure that all of the code paths (not just entire functions) are called in one test or another in your unit tests."
   ]
  },
  {
   "cell_type": "markdown",
   "id": "6e84dbc6",
   "metadata": {},
   "source": [
    "### Jupyter Workflow\n",
    "\n",
    "We can also work with the package, and activated project file, from a Jupyter notebook for analysis and exploration.\n",
    "\n",
    "In general, Jupyter should be used sparingly as it does not support a tight workflow for collaboration since it does not have an equivalent for the CI, and changes to the Jupyter notebook cannot be discussed inline and analyzed using the workflow above.\n",
    "\n",
    "However, if source code is fairly stable and you are working on just the analysis and visualization of results (where introducing bugs is unlikely), it is a very useful tool.\n",
    "\n",
    "Assuming that we have the `IJulia` package and conda installed, as in the basic lecture note setup, if we start a terminal in VS Code we will be able to start Jupyter in the right directory.\n",
    "\n",
    "- Create a new terminal for your operating system by choosing the `+` button on the terminals pane, then type `jupyter lab` to start Jupyter, then open the webpage  \n",
    "\n",
    "\n",
    "![https://julia.quantecon.org/_static/figures/vscode_jupyter_1.png](https://julia.quantecon.org/_static/figures/vscode_jupyter_1.png)\n",
    "\n",
    "  \n",
    "- Create a new notebook in Jupyter in the main folder (or a subfolder) and add code to use `MyProject` and call `foo`.  \n",
    "\n",
    "\n",
    "![https://julia.quantecon.org/_static/figures/vscode_jupyter_2.png](https://julia.quantecon.org/_static/figures/vscode_jupyter_2.png)\n",
    "\n",
    "  \n",
    "Crucially, note that the `MyProject` package and anything else in the `Project.toml` file is available since Jupyter automatically activates the project file local to jupyter notebooks.\n",
    "\n",
    "Be sure to add `.ipynb_checkpoints/*` to your `.gitignore` file, so that’s not checked in.\n",
    "\n",
    "While you would typically modify the Jupyter notebooks after the core code is stable, with `Revise.jl` it is possible to have it automatically load changes to the package itself.\n",
    "\n",
    "To do this\n",
    "\n",
    "- Execute `using Revise` prior to the `using MyProject` (note that VS Code’s REPL does the `using Revise` automatically, if it is available).  \n",
    "- Then run `foo(0)` to see the old code  \n",
    "- Then modify the text of the package itself, such as changing the string in the `foo` function  \n",
    "- Run `foo(0)` again to see the change.  \n",
    "\n",
    "\n",
    "![https://julia.quantecon.org/_static/figures/vscode_jupyter_3.png](https://julia.quantecon.org/_static/figures/vscode_jupyter_3.png)"
   ]
  },
  {
   "cell_type": "markdown",
   "id": "106c923a",
   "metadata": {},
   "source": [
    "## More on Writing Tests\n",
    "\n",
    "As discussed, there are a few different kinds of test, each with different purposes\n",
    "\n",
    "- *Unit testing* makes sure that individual pieces of a project work as expected.  \n",
    "- *Integration testing* makes sure that they fit together as expected.  \n",
    "- *Regression testing* makes sure that behavior is unchanged over time.  \n",
    "\n",
    "\n",
    "In general, well-written unit tests (which also guard against regression, for example by comparing function output to hardcoded values) are sufficient for most small projects."
   ]
  },
  {
   "cell_type": "markdown",
   "id": "ddd643f4",
   "metadata": {},
   "source": [
    "### The `Test` Module\n",
    "\n",
    "Julia provides testing features through a built-in package called `Test`, which we get by `using Test`.\n",
    "\n",
    "The basic object is the macro `@test`"
   ]
  },
  {
   "cell_type": "code",
   "execution_count": null,
   "id": "99c0bf1b",
   "metadata": {
    "hide-output": false
   },
   "outputs": [],
   "source": [
    "using Test\n",
    "@test 1 == 1"
   ]
  },
  {
   "cell_type": "markdown",
   "id": "b598f831",
   "metadata": {},
   "source": [
    "Since floating points can often only be compared within machine precision, you can typically only compare these approximately with either `isapprox` or `≈` (which can auto-completed in VS Code with `\\approx<TAB>`)"
   ]
  },
  {
   "cell_type": "code",
   "execution_count": null,
   "id": "2b0d2ad8",
   "metadata": {
    "hide-output": false
   },
   "outputs": [],
   "source": [
    "@test 1.0 ≈ 1.0\n",
    "x = 2.0\n",
    "@test isapprox(x, 2.0)\n",
    "@test x ≈ 2.0"
   ]
  },
  {
   "cell_type": "markdown",
   "id": "f96d6c78",
   "metadata": {},
   "source": [
    "The default comparison for `isapprox` is that the relative tolerance (i.e. $ \\|x - y\\| \\leq rtol \\max(\\|x\\|, \\|y\\|) $) depends on the particular type, but defaults to the sqrt rate of the machine epsilon.\n",
    "For example,"
   ]
  },
  {
   "cell_type": "code",
   "execution_count": null,
   "id": "ec3917a4",
   "metadata": {
    "hide-output": false
   },
   "outputs": [],
   "source": [
    "@show √eps(Float64)\n",
    "@show √eps(BigFloat);"
   ]
  },
  {
   "cell_type": "markdown",
   "id": "c93dc429",
   "metadata": {},
   "source": [
    "For cases where you want to change the relative tolerance or add in an absolute tolerance (i.e. $ \\|x - y\\| \\leq atol $) use the appropriate keywords"
   ]
  },
  {
   "cell_type": "code",
   "execution_count": null,
   "id": "80b245a8",
   "metadata": {
    "hide-output": false
   },
   "outputs": [],
   "source": [
    "x = 100.0 + 1E-6  # within the tolerance\n",
    "@test x ≈ 100.0 rtol=1E-7  # note < the 1E-6 difference passes due to relative scaling\n",
    "y = 1E-7\n",
    "@test 0.0 ≈ y atol=1E-6  # absolute tolerance!"
   ]
  },
  {
   "cell_type": "markdown",
   "id": "4c39c7e5",
   "metadata": {},
   "source": [
    ">**Note**\n",
    ">\n",
    ">The relative tolerance is always preferred for comparisons since it is dimensionless, whereas the absolute tolerance is related to the norm of the objects themselves.  As the documentation for `isapprox` says: `x - y ≈ 0, atol=1e-9`is an absurdly small tolerance if `x` is the radius of the Earthin meters, but an absurdly large tolerance if `x` is the radius of a Hydrogen atom.\n",
    "\n",
    "Because of this, there is no default `atol` if the norms of the values are zero.  And `rtol` is undefined, so you will need to use judgement on the specific problem to form a threshold.\n",
    "\n",
    "The `isapprox` comparison works for any datatypes that implement a `norm`, for example"
   ]
  },
  {
   "cell_type": "code",
   "execution_count": null,
   "id": "7fa43bda",
   "metadata": {
    "hide-output": false
   },
   "outputs": [],
   "source": [
    "x = [1.0, 2.0]\n",
    "@test x ≈ [1.0, 2.0]"
   ]
  },
  {
   "cell_type": "markdown",
   "id": "b37dffec",
   "metadata": {},
   "source": [
    "Tests will pass if the condition is `true`, or fail otherwise.  Failing tests will be highlighted in both the CI and output within the terminal,"
   ]
  },
  {
   "cell_type": "code",
   "execution_count": null,
   "id": "9605c08c",
   "metadata": {
    "hide-output": false
   },
   "outputs": [],
   "source": [
    "@test 1 == 2"
   ]
  },
  {
   "cell_type": "markdown",
   "id": "c960b6fb",
   "metadata": {},
   "source": [
    "Finally, sometimes you will have broken tests which are known to fail, but you do not want to remove.\n",
    "\n",
    "This is good practice for code in progress that you intend to fix, but do not want to forget about, as commented out tests are easily forgotten.\n",
    "\n",
    "To do this, flag it with `@test_broken` as below"
   ]
  },
  {
   "cell_type": "code",
   "execution_count": null,
   "id": "2d5129e4",
   "metadata": {
    "hide-output": false
   },
   "outputs": [],
   "source": [
    "@test_broken 1 == 2"
   ]
  },
  {
   "cell_type": "markdown",
   "id": "d952a481",
   "metadata": {},
   "source": [
    "This way, we still have access to information about the test, instead of just deleting it or commenting it out, but the CI will not fail.\n",
    "\n",
    "There are other test macros, that check for things like error handling and type-stability.  Advanced users can check the [Julia docs](https://docs.julialang.org/en/v1/stdlib/Test/)."
   ]
  },
  {
   "cell_type": "markdown",
   "id": "114146c8",
   "metadata": {},
   "source": [
    "### Test Sets\n",
    "\n",
    "By default, the `runtests.jl` folder starts off with a `@testset`.\n",
    "\n",
    "This is useful for organizing different batches of tests, and executing them all at once."
   ]
  },
  {
   "cell_type": "code",
   "execution_count": null,
   "id": "c00d0f4f",
   "metadata": {
    "hide-output": false
   },
   "outputs": [],
   "source": [
    "@testset \"my tests\" begin\n",
    "  @test 1 == 1\n",
    "  @test 2 == 2\n",
    "  @test_broken 1 == 2\n",
    "end;"
   ]
  },
  {
   "cell_type": "markdown",
   "id": "ba70c8df",
   "metadata": {},
   "source": [
    "By using `<Shift+Enter>` in VS Code or Jupyter on the testset, you will execute them all.  You may want to execute only parts of them during development by commenting out the `@testset` and `end` and execute sequentially until the suite passes.\n",
    "\n",
    "To learn more about test sets, see [the docs](https://docs.julialang.org/en/v1/stdlib/Test/index.html#Working-with-Test-Sets-1/)."
   ]
  },
  {
   "cell_type": "markdown",
   "id": "b29b6d43",
   "metadata": {},
   "source": [
    "## Exercises"
   ]
  },
  {
   "cell_type": "markdown",
   "id": "deab1d35",
   "metadata": {},
   "source": [
    "### Exercise 1\n",
    "\n",
    "Following the [instructions for a new project](#project-setup), create a new package on your github account called `NewtonsMethod.jl`.\n",
    "\n",
    "In this package, you should create a simple package to do Newton’s Method using the code you did in the\n",
    "[Newton’s method](https://julia.quantecon.org/../getting_started_julia/julia_by_example.html#jbe-ex8a) exercise in [Introductory Examples](https://julia.quantecon.org/../getting_started_julia/julia_by_example.html).\n",
    "\n",
    "In particular, within your package you should have two functions\n",
    "\n",
    "- `newtonroot(f, f′; x₀, tol = 1E-7, maxiter = 1000)`  \n",
    "- `newtonroot(f; x₀, tol = 1E-7, maxiter = 1000)`  \n",
    "\n",
    "\n",
    "Where the second function uses Automatic Differentiation to call the first.\n",
    "\n",
    "The package should include\n",
    "\n",
    "- implementations of those functions in the `/src` directory  \n",
    "- comprehensive set of tests  \n",
    "- project and manifest files to replicate your development environment  \n",
    "- automated running of the tests with GitHub Actions  \n",
    "\n",
    "\n",
    "For the tests, you should have at the very minimum\n",
    "\n",
    "- a way to handle non-convergence (e.g. return back `nothing` as discussed in [error handling](https://julia.quantecon.org/../getting_started_julia/fundamental_types.html#error-handling))  \n",
    "- several `@test` for the root of a known function, given the `f` and analytical `f'` derivatives  \n",
    "- tests of those roots using the automatic differentiation version of the function  \n",
    "- a test of finding those roots with a `BigFloat` and not just a `Float64`  \n",
    "- a test of non-convergence for a function without a root (e.g. $ f(x) = 2 + x^2 $ )  \n",
    "- a test to ensure that the `maxiter` is working (e.g. what happens if you call `maxiter = 5`)  \n",
    "- a test to ensure that `tol` is working  \n",
    "\n",
    "\n",
    "And anything else you can think of.  You should be able to run `] test` for the project to check that the test-suite is running, and then ensure that it is running automatically on GitHub Actions CI.\n",
    "\n",
    "Push a commit to the repository which breaks one of the tests and see what the GitHub Actions CI reports after running the build."
   ]
  }
 ],
 "metadata": {
  "date": 1643875381.088771,
  "filename": "testing.md",
  "kernelspec": {
   "display_name": "Julia",
   "language": "julia",
   "name": "julia-1.7"
  },
  "title": "Packages, Testing, and Continuous Integration"
 },
 "nbformat": 4,
 "nbformat_minor": 5
}