{
 "cells": [
  {
   "cell_type": "markdown",
   "id": "e6eab31b",
   "metadata": {},
   "source": [
    "\n",
    "<a id='tools-editors'></a>"
   ]
  },
  {
   "cell_type": "markdown",
   "id": "e13fb354",
   "metadata": {},
   "source": [
    "# Visual Studio Code and Other Tools"
   ]
  },
  {
   "cell_type": "markdown",
   "id": "52acc2f6",
   "metadata": {},
   "source": [
    "## Contents\n",
    "\n",
    "- [Visual Studio Code and Other Tools](#Visual-Studio-Code-and-Other-Tools)  \n",
    "  - [Installing VS Code](#Installing-VS-Code)  \n",
    "  - [Using VS Code with Julia](#Using-VS-Code-with-Julia)  \n",
    "  - [The REPL](#The-REPL)  \n",
    "  - [Package Environments](#Package-Environments)  \n",
    "  - [More Options and Configuration Choices](#More-Options-and-Configuration-Choices)  "
   ]
  },
  {
   "cell_type": "markdown",
   "id": "a7863b18",
   "metadata": {},
   "source": [
    "While Jupyter notebooks are a great way to get started with the language, eventually you will want to use more powerful tools.  Visual Studio Code (VS Code) in particular, is the most popular open source editor for programming - with a huge set of extensions and strong industry support.\n",
    "\n",
    "While you can use source code control, run terminals and the REPL (“Read-Evaluate-Print Loop”) without VS Code, we will concentrate on using it as a full IDE for all of these features.\n",
    "\n",
    "\n",
    "<a id='install-vscode'></a>"
   ]
  },
  {
   "cell_type": "markdown",
   "id": "09921db9",
   "metadata": {},
   "source": [
    "## Installing VS Code\n",
    "\n",
    "To install VS Code and the Julia Extension,\n",
    "\n",
    "1. First, ensure you followed the instructions for setting up Julia [on your local computer](https://julia.quantecon.org/../getting_started_julia/getting_started.html#jl-jupyterlocal).  \n",
    "1. In particular, ensure you did the initial [VS Code setup](https://julia.quantecon.org/../getting_started_julia/getting_started.html#initial-vscode-setup)  \n",
    "1. Install [VS Code](https://code.visualstudio.com/) for your platform and open it  \n",
    "\n",
    "\n",
    "See the [Julia VS Code Documentation](https://www.julia-vscode.org/docs/dev/gettingstarted/#Installation-and-Configuration-1) for more details.\n",
    "\n",
    "If you have done a typical Julia installation, then this may be all that is needed and no configuration may be necessary.  However, if you have installed Julia in a non-standard location you may need to manually set the executable path.  See [here](https://www.julia-vscode.org/docs/dev/gettingstarted/#Configuring-the-Julia-extension-1) for instructions if it errors when starting Julia terminals.\n",
    "\n",
    "“Open in Code” on MacOS and Linux\n",
    "VS Code supports the “Open with Code” action in File Explorer if chosen during the installation.  This is convenient, but not necessary.  To support it on MacOS you need to install a [Automator script or separate package](https://stackoverflow.com/questions/64040393/open-a-folder-in-vscode-through-finder-in-macos).  Similarly, see [here](https://github.com/vvanloc/Nautilus-OpenInVSCode) for support on linux.\n",
    "\n",
    "While the general [VS Code documentation](https://code.visualstudio.com/docs/getstarted/userinterface) is excellent, we will review a few of the key concepts directly.  In addition, see [here](#optional-extensions) for other useful extensions when using VS Code not directly connected to these lectures."
   ]
  },
  {
   "cell_type": "markdown",
   "id": "067a1c94",
   "metadata": {},
   "source": [
    "### Optional Extensions and Settings\n",
    "\n",
    "Open the settings with `> Preferences: Open User Settings` (see above for opening the command palette with `<Ctrl-Shift-P>`).\n",
    "\n",
    "As a few optional suggestions for working with the settings,\n",
    "\n",
    "- In the settings, search for `Tab Size` and you should find `Editor: Tab Size` which you can modify to 4.  \n",
    "- Search for `quick open` and change `Workbench > Editor: Enable Preview from Quick Open` and consider setting it to false, though this is a matter of personal taste.  \n",
    "- If you are on Windows, search for `eol` and change `Files: Eol` to be `\\n`.  \n",
    "- While it is a personal taste, consider enabling the [bracket colorizer](https://code.visualstudio.com/updates/v1_60#_high-performance-bracket-pair-colorization) by finding the `bracketPairColorization` setting.  \n",
    "\n",
    "\n",
    "A key feature of VS Code is that it can synchronize your extensions and settings across all of your computers, and even when used in-browser (e.g. with [GitHub CodeSpaces](https://github.com/features/codespaces)).  To turn on,\n",
    "\n",
    "- Ensure you have a [GitHub account](https://github.com/), which will be useful for [further lectures](https://julia.quantecon.org/version_control.html)  \n",
    "- Choose `Turn On Settings Sync...` in the gear icon at the bottom of the screen  \n",
    "\n",
    "\n",
    "![https://code.visualstudio.com/assets/docs/editor/settings-sync/turn-on-sync.png](https://code.visualstudio.com/assets/docs/editor/settings-sync/turn-on-sync.png)\n",
    "\n",
    "  \n",
    "- You can stick with all of the defaults, and read more in the [instructions](https://code.visualstudio.com/docs/editor/settings-sync)  \n",
    "\n",
    "\n",
    "\n",
    "<a id='terminals'></a>"
   ]
  },
  {
   "cell_type": "markdown",
   "id": "14b778f6",
   "metadata": {},
   "source": [
    "### Integrated Terminals in VS Code\n",
    "\n",
    "A key benefit of VS Code is that you can use terminals and command-line interfaces directly within the editor, and starting in the convenient location relative to an opened project.\n",
    "\n",
    "Furthermore, in the case of julia (and other languages such as python) this will activate the project automatically.  See the [documentation](https://code.visualstudio.com/docs/editor/integrated-terminal) for more details.\n",
    "\n",
    "You can open the terminal panel with  `> View: Toggle Terminal` , typing `Ctrl+` `, or by clicking on the list of warnings and errors bottom bar in VS Code.  If no existing terminal exists, it will create a new one.\n",
    "\n",
    "\n",
    "<a id='vscode'></a>"
   ]
  },
  {
   "cell_type": "markdown",
   "id": "ae76c9b5",
   "metadata": {},
   "source": [
    "## Using VS Code with Julia\n",
    "\n",
    "The documentation for the VS Code extension provides many examples:\n",
    "\n",
    "- [Creating a Hello World](https://www.julia-vscode.org/docs/dev/gettingstarted/#Creating-Your-First-Julia-Hello-World-program-1)  \n",
    "- [Debugging](https://www.julia-vscode.org/docs/dev/userguide/debugging/)  \n",
    "- [Integrated Plots](https://www.julia-vscode.org/docs/dev/userguide/plotgallery/)  \n",
    "- [Code Completion](https://www.julia-vscode.org/docs/dev/userguide/editingcode/)  \n",
    "- [Code Navigation](https://www.julia-vscode.org/docs/dev/userguide/codenavigation/)  \n",
    "\n",
    "\n",
    "In addition, there are excellent youtube videos about provide more background.  For example, [Package Development in VSCode](https://www.youtube.com/watch?v=F1R3ETaRQXY) shows advanced features."
   ]
  },
  {
   "cell_type": "markdown",
   "id": "b9fcab7c",
   "metadata": {},
   "source": [
    "### Hello World\n",
    "\n",
    "To walk through a simple, but complete example.\n",
    "\n",
    "Create a new directory on your computer, for example `hello_world` and then open VS Code in that folder  This can be done several ways,\n",
    "\n",
    "- Within a terminal on your operating system, navigate that directory and type `code .`  \n",
    "- On Windows, right click on the folder and choose `Open with Code` - trusting the authors as required on opening the folder.  \n",
    "- In the VS Code Menu, choose `File/Open Folder...`  \n",
    "\n",
    "\n",
    "Next, in the left hand panel, under `HELLO_WORLD`, right click and choose `New File` and create as `hello.jl`.  The screen should look something like\n",
    "\n",
    "![https://julia.quantecon.org/_static/figures/vscode_file_created.png](https://julia.quantecon.org/_static/figures/vscode_file_created.png)\n",
    "\n",
    "  \n",
    "Type some code as such `f(x) = x + 1` into the file, into the `.jl` file, save it, and while your mouse curser is on the line of code do `<Shift-Enter>`.  If a julia REPL wasn’t already started, it will be started and the code will be run within its kernel\n",
    "\n",
    "![https://julia.quantecon.org/_static/figures/vscode_jl_function.png](https://julia.quantecon.org/_static/figures/vscode_jl_function.png)\n",
    "\n",
    "  \n",
    "At this point, the function is available for use within either the code or the REPL.  You can get inline results by adding more code to the file and executing each line with `<Shift-Enter>`.\n",
    "\n",
    "![https://julia.quantecon.org/_static/figures/vscode_jl_function_2.png](https://julia.quantecon.org/_static/figures/vscode_jl_function_2.png)\n",
    "\n",
    "  \n",
    "That code is also accessible within the REPL.  Executing the function there,\n",
    "\n",
    "![https://julia.quantecon.org/_static/figures/vscode_repl_1.png](https://julia.quantecon.org/_static/figures/vscode_repl_1.png)\n",
    "\n",
    "  \n",
    "Because the REPL and the files are synchronized, you can modify functions and simple choose `<shift-Enter>` to update their definitions before analyzing the results in the REPL or in the file itself.\n",
    "\n",
    "\n",
    "<a id='adding-packages'></a>"
   ]
  },
  {
   "cell_type": "markdown",
   "id": "e1292d57",
   "metadata": {},
   "source": [
    "### Adding Packages\n",
    "\n",
    "Next we will go through simple use of the plotting and package management.\n",
    "\n",
    ">**Note**\n",
    ">\n",
    ">VS Code typically activates the current project correctly.  However, when choosing to enter the package mode, if the prompt changes to `(@v1.7) pkg>` rather than `(hello_world) pkg >` then you will need to manually activate the project.  In that case, ensure that you are in the correct location and choose `] activate .`.\n",
    "\n",
    "You can always see the current package location and details with `] st`.  See [Julia Environments](#jl-packages) for more details.\n",
    "\n",
    "The REPL.  First, type `]` to enter the package management mode, then `add Plots`.  Depending on whether you have done similar operations before, this may download a lot of dependencies.  See below for an example\n",
    "\n",
    "![https://julia.quantecon.org/_static/figures/vscode_package_added.png](https://julia.quantecon.org/_static/figures/vscode_package_added.png)\n",
    "\n",
    "  \n",
    "Crucially, you will notice that two new files are created. `Project.toml` and `Manifest.toml`.  These provide a snapshot of all of the packages used in this particular project.\n",
    "\n",
    "Add code in the `.jl` file for a simple plot, and it will be shown on a separate pane\n",
    "\n",
    "![https://julia.quantecon.org/_static/figures/vscode_plots.png](https://julia.quantecon.org/_static/figures/vscode_plots.png)\n",
    "\n",
    "  \n",
    "To exit package management mode and return to the REPL, type `Ctrl+C`. To then go from the REPL back to the VS Code terminal, type `Ctrl+D`."
   ]
  },
  {
   "cell_type": "markdown",
   "id": "545c13c4",
   "metadata": {},
   "source": [
    "### Executing Files\n",
    "\n",
    "First we will reorganize our file so that it is a set of functions with a call at the end rather than a script.  Replace the code with"
   ]
  },
  {
   "cell_type": "code",
   "execution_count": null,
   "id": "7a11a651",
   "metadata": {
    "hide-output": false
   },
   "outputs": [],
   "source": [
    "using Plots, Random\n",
    "\n",
    "f(x) = x + 1\n",
    "function plot_results()\n",
    "    x = 1:5\n",
    "    y = f.(x)\n",
    "    plot(x, y)\n",
    "    print(y)\n",
    "end\n",
    "\n",
    "# execute main function\n",
    "plot_results()"
   ]
  },
  {
   "cell_type": "markdown",
   "id": "2679abd5",
   "metadata": {},
   "source": [
    "While it is fine to use scripts with code not organized in functions for exploration, you will want to organize any serious computations inside of a function.  While this may not matter for every problem, this will let the compiler avoid global variables and highly optimize the results.\n",
    "\n",
    ">**Note**\n",
    ">\n",
    ">The behavior of global variables accessed in loops in the `REPL`, Debugger, inline code evaluations, and Jupyter notebooks is different from executed files.  See the documentation on [soft scoping](https://docs.julialang.org/en/v1/manual/variables-and-scoping/#On-Soft-Scope) for more background.  A good heuristic which will avoid these issues is to (1) never use loops outside of a function when you write `.jl` files; and (2) if you ever use the `global` keyword, assume something is wrong and you should put something in a function.\n",
    "\n",
    "You can execute a `.jl` file in several ways.\n",
    "\n",
    "Within a terminal, you can provide the path to the file.  For example,"
   ]
  },
  {
   "cell_type": "markdown",
   "id": "faac5e49",
   "metadata": {
    "hide-output": false
   },
   "source": [
    "```bash\n",
    "julia --threads auto --project hello.jl\n",
    "```\n"
   ]
  },
  {
   "cell_type": "markdown",
   "id": "ca58b558",
   "metadata": {},
   "source": [
    "See the [REPL](#repl-main) section for more details on the commandline options.\n",
    "\n",
    "Alternatively, within VS Code itself you can use the `<Ctrl-F5>` to run the new file.\n",
    "\n",
    "\n",
    "<a id='debugger'></a>"
   ]
  },
  {
   "cell_type": "markdown",
   "id": "6bad3bba",
   "metadata": {},
   "source": [
    "### Using the Debugger\n",
    "\n",
    "To debug your function, first click to the left of a line of code to create a breakpoint (seen as a red dot).\n",
    "\n",
    "Next, use `<Ctrl-Shift-D>` or select the run and debug tab on the left in Julia to see\n",
    "\n",
    "![https://julia.quantecon.org/_static/figures/debugger_1.png](https://julia.quantecon.org/_static/figures/debugger_1.png)\n",
    "\n",
    "  \n",
    "Then choose the `Run and Debug` option and it will execute `plot_results()` at the bottom of the file, and then stop inside at the breakpoint.\n",
    "\n",
    ">**Note**\n",
    ">\n",
    ">Some users may see other options like `Run active Julia file` instead of `Run and Debug` in the run and debug tab.\n",
    "\n",
    "![https://julia.quantecon.org/_static/figures/debugger_2.png](https://julia.quantecon.org/_static/figures/debugger_2.png)\n",
    "\n",
    "  \n",
    "You can use the toolbar at the top to step through the code, as described in the [documentation](https://www.julia-vscode.org/docs/dev/userguide/debugging/).\n",
    "\n",
    "As an alternative way to start the debugger, you can instead debug a call within the REPL with commands like `@run plot_results()`.\n",
    "\n",
    ">**Note**\n",
    ">\n",
    ">The Julia Debugger runs some of the code in an interpreted mode that might be far slower than typical  compiled and optimized code.  For this reason, it may not be possible to use it in all the same ways you might use something like the Matlab debugger.  However, if you organize your code appropriately, you may find that the [compile mode](https://www.julia-vscode.org/docs/stable/userguide/debugging/#Compile-mode-1) enables you to concentrate on debugging only some of the functions, while letting slow functions remain compiled.\n",
    "\n",
    "\n",
    "<a id='repl-main'></a>"
   ]
  },
  {
   "cell_type": "markdown",
   "id": "7e0f26bb",
   "metadata": {},
   "source": [
    "## The REPL\n",
    "\n",
    "Even if you are working primarily in `.jl` and/or Jupyter Notebooks in Julia, you will need to become comfortable with the REPL.  We saw some initial use of this when [adding packages](#adding-packages) and exploring the code above, but the REPL has many [more features](https://docs.julialang.org/en/v1/stdlib/REPL/#The-Julia-REPL)."
   ]
  },
  {
   "cell_type": "markdown",
   "id": "fd2f6214",
   "metadata": {},
   "source": [
    "### Starting a REPL\n",
    "\n",
    "There are several ways to start the REPL.\n",
    "\n",
    "- Within VS Code, executing code inline will start it as required.  \n",
    "- In the command palette of VS Code, choose  `> Julia: Start REPL`  \n",
    "- Outside of VS Code, if julia was installed on your system path, you can simply type `julia` or with other options  \n",
    "\n",
    "\n",
    "The command line options for starting Julia are set to decent defaults for terminals running within VS Code, but you will want to set them yourself if starting the REPL otherwise.\n",
    "\n",
    "As an example, the argument `--threads` determines the number of threads that Julia starts with.  If starting `julia` on the command line without specifying any arguments, it will default to 1 (or check an environment variable).  To have Julia automatically choose the number of threads based on the number of processors for your machine, pass the `--threads auto` argument.\n",
    "\n",
    ">**Note**\n",
    ">\n",
    ">VS Code sets the number of threads automatically based on the number of cores on your machine, but the value can be modified in its `> Preferences: Open User Settings` and then search for `Julia: Num Threads`.\n",
    "\n",
    "The most important choice is the `--project` toggle which determines whether you want to activate an existing project (or create a new one) when starting the interpreter.  Since a key feature of Julia is to have fully reproducible environments, you will want to do this whenever possible.\n",
    "\n",
    "To emphasize this point, this is an example of the `]st ` showing the global environment has only the bare minimum of packages installed.  With this workflow, all other packages are installed only when a given project is activated."
   ]
  },
  {
   "cell_type": "markdown",
   "id": "3ec30183",
   "metadata": {
    "hide-output": false
   },
   "source": [
    "```text\n",
    "(@v1.7) pkg> st\n",
    "      Status `C:\\Users\\jesse\\.julia\\environments\\v1.7\\Project.toml`\n",
    "[7073ff75] IJulia v1.23.2\n",
    "[14b8a8f1] PkgTemplates v0.7.18\n",
    "[295af30f] Revise v3.1.19\n",
    "```\n"
   ]
  },
  {
   "cell_type": "markdown",
   "id": "8317da10",
   "metadata": {},
   "source": [
    ">**Note**\n",
    ">\n",
    ">A key difference between Julia and some other package managers is that it is capable of having different versions of each package for different projects - which ensures all projects are fully reproducible by you, your future self, and any other collaborators.  While there is a global set of packages available (e.g. `IJulia.jl` to ensure Jupyter support) you should try to keep the packages in different projects separated.  See the documentation on [environments](https://docs.julialang.org/en/v1/manual/code-loading/#Environments-1) and the [package manager](https://pkgdocs.julialang.org/v1/getting-started/) for more.\n",
    "\n",
    "If you start the terminal without activating a project, you can activate it afterwards with `] activate .` or `using Pkg; Pkg.activate()`.\n",
    "\n",
    "To see this in action, within an external terminal we will open it using both methods, and then use `] st` to see which project is activated and which packages are available.\n",
    "\n",
    "First, with `julia --threads auto` we see that the globally installed packages are available at first, but that the existing `Project.toml` and `Manifest.toml` in that folder are chosen after we choose `] activate .`\n",
    "\n",
    "![https://julia.quantecon.org/_static/figures/repl_1.png](https://julia.quantecon.org/_static/figures/repl_1.png)\n",
    "\n",
    "  \n",
    "Next, with `julia --threads auto --project` the project is automatically activated\n",
    "\n",
    "![https://julia.quantecon.org/_static/figures/repl_2.png](https://julia.quantecon.org/_static/figures/repl_2.png)\n",
    "\n",
    "  \n",
    "Finally, if you choose the `--project` option in a folder which doesn’t have an existing project file, it will create them as required.\n",
    "\n",
    "A few other features of the REPL include,"
   ]
  },
  {
   "cell_type": "markdown",
   "id": "19e80b39",
   "metadata": {},
   "source": [
    "### More Features and Modes\n",
    "\n",
    "Hitting `;` brings you into shell mode, which lets you run bash commands (PowerShell on Windows)"
   ]
  },
  {
   "cell_type": "code",
   "execution_count": null,
   "id": "92b70936",
   "metadata": {
    "hide-output": false
   },
   "outputs": [],
   "source": [
    "; pwd"
   ]
  },
  {
   "cell_type": "markdown",
   "id": "919dd901",
   "metadata": {},
   "source": [
    "In addition, `?` will bring you into help mode.\n",
    "\n",
    "The key use case is to find docstrings for functions and macros, e.g."
   ]
  },
  {
   "cell_type": "code",
   "execution_count": null,
   "id": "b8c0ec08",
   "metadata": {
    "hide-output": false
   },
   "outputs": [],
   "source": [
    "? print"
   ]
  },
  {
   "cell_type": "markdown",
   "id": "06dcfbe2",
   "metadata": {},
   "source": [
    "\n",
    "<a id='jl-packages'></a>"
   ]
  },
  {
   "cell_type": "markdown",
   "id": "d66e2249",
   "metadata": {},
   "source": [
    "## Package Environments\n",
    "\n",
    "As discussed, the Julia package manager allowed you to create fully reproducible environments (in the same spirit as Python’s and Conda virtual environments).\n",
    "\n",
    "As we saw before, `]` brings you into package mode.  Some of the key choices are\n",
    "\n",
    "- `] instantiate` (or `using Pkg; Pkg.instantiate()` in the normal julia mode) will check if you have all of the packages and versions mentioned in the `Project.toml` and `Manifest.toml` files, and install as required.  \n",
    "  - This feature will let you reproduce the entire environment and, if a `Manifest.toml` is available, the exact package versions used for a project.  For example, these lecture notes use [Project.toml](https://github.com/QuantEcon/lecture-julia.notebooks/blob/main/Project.toml) and [Manifest.toml](https://github.com/QuantEcon/lecture-julia.notebooks/blob/main/Manifest.toml) - which you likely instantiated during installation after downloading these notebooks.  \n",
    "- `] add Expectations` will add a package (here, `Expectations.jl`) to the activated project file (or the global environment if none is activated).  \n",
    "- Likewise, `] rm Expectations` will remove that package.  \n",
    "- `] st` will show you a snapshot of what you have installed.  \n",
    "- `] up` will upgrade versions of your packages to the latest versions possible given the graph of compatibility used in each.  \n",
    "\n",
    "\n",
    ">**Note**\n",
    ">\n",
    ">On some operating systems (such as OSX) REPL pasting may not work for package mode, and you will need to access it in the standard way (i.e., hit `]` first and then run your commands)."
   ]
  },
  {
   "cell_type": "markdown",
   "id": "1ab16a23",
   "metadata": {},
   "source": [
    "## More Options and Configuration Choices\n",
    "\n",
    "VS Code and the related ecosystem have an enormous number of features and additional options.\n",
    "\n",
    "The following are some optional choices, not all directly connected to Julia.\n",
    "\n",
    "\n",
    "<a id='optional-extensions'></a>"
   ]
  },
  {
   "cell_type": "markdown",
   "id": "df335fde",
   "metadata": {},
   "source": [
    "### Optional Extensions\n",
    "\n",
    "While not required for these lectures, consider installing the following extensions.  As before, you can search for them on the Marketplace or choose `Install` from the webpages themselves.\n",
    "\n",
    "1. [Jupyter](https://marketplace.visualstudio.com/items?itemName=ms-toolsai.jupyter): VS Code increasingly supports Jupyter notebooks directly, and this extension provides the ability to open and edit `.ipynb` notebook files without installing Conda and running `jupyter lab`.  \n",
    "1. [GitLens](https://marketplace.visualstudio.com/items?itemName=eamodio.gitlens): An extension that provides an enormous amount of detail on exact code changes within github repositories (e.g., seamless information on the time and individual who [last modified](https://marketplace.visualstudio.com/items?itemName=eamodio.gitlens#current-line-blame-) each line of code)  \n",
    "1. [GitHub Pull Requests and Issues](https://marketplace.visualstudio.com/items?itemName=GitHub.vscode-pull-request-github): while VS Code supports the git [version control](https://julia.quantecon.org/version_control.html) natively, these extension provides additional features for working with repositories on GitHub itself.  \n",
    "1. [Markdown All in One](https://marketplace.visualstudio.com/items?itemName=yzhang.markdown-all-in-one): For editing the markdown format, such as `README.md` and similar files.  \n",
    "\n",
    "\n",
    "\n",
    "<a id='vscode-latex'></a>"
   ]
  },
  {
   "cell_type": "markdown",
   "id": "10d15c86",
   "metadata": {},
   "source": [
    "### VS Code as a LaTeX Editor\n",
    "\n",
    "VS Code has an outstanding LaTeX editing extension, which provides a good way to become comfortable with the tool and managing source code online.\n",
    "\n",
    "1. Install a recent copy of tex  \n",
    "  - Typically Windows users would want [MiKTeX](https://miktex.org/download)  \n",
    "  - macOS and Linux users can also use use either [MiKTeX](https://miktex.org/download) or [TeX Live](https://www.tug.org/texlive/)  \n",
    "  - If you install MiKTeX, ensure you choose the “Always install missing packages on-the-fly” option  \n",
    "1. With a new VS Code session, install the following extensions  \n",
    "  - [LaTeX Workshop](https://marketplace.visualstudio.com/items?itemName=James-Yu.latex-workshop)  \n",
    "  - (Optional) [Code Spell Checker](https://marketplace.visualstudio.com/items?itemName=streetsidesoftware.code-spell-checker)  \n",
    "1. (Optional) If you wish to have the editor automatically compile and display the document when you save your `.tex` file: Then open the VS Code settings, and search for `autobuild` to set the option `Latex-workshop > Latex > Auto Build: Run` to `onSave`.  \n",
    "\n",
    "\n",
    "No further configuration should be required, but see [the manual](https://github.com/James-Yu/LaTeX-Workshop/wiki/Install) if you have problems.\n",
    "\n",
    "While there many ways to execute a compilation workflow, one method is to use “magic comments” at the top of a latex file.  This is not specific to LaTeX Workshop, and can be used by other tools.\n",
    "\n",
    "1. In VS Code, create a new file, such as `rough_notes.tex` and copy in the following  "
   ]
  },
  {
   "cell_type": "markdown",
   "id": "61d4d891",
   "metadata": {
    "hide-output": false
   },
   "source": [
    "```latex\n",
    "% !TEX program = pdflatex\n",
    "% !TEX enableSynctex = true\n",
    "\n",
    "\\documentclass{article}\n",
    "\\title{Rough Notes}\n",
    "\\begin{document}\n",
    "   \\maketitle\n",
    "   Some rough notes\n",
    "\\end{document}\n",
    "```\n"
   ]
  },
  {
   "cell_type": "markdown",
   "id": "ceb361db",
   "metadata": {},
   "source": [
    "1. Save the document.  If you enabled the automatic build option in your settings, this should compile it.  Otherwise, use `F5` or the command palette `> Latex Workshop: Build Latex Project`.  \n",
    "  If you hover over the magnifying glass icon near the top right hand corner, It should look something like,  \n",
    "  ![https://julia.quantecon.org/_static/figures/vscode_latex_1.png](https://julia.quantecon.org/_static/figures/vscode_latex_1.png)\n",
    "  \n",
    "    \n",
    "1. Click on that link, or use `<Ctrl+Alt+V>` to get display the PDF Preview.  \n",
    "  - The first time you do this, it will ask you to choose the PDF display. Choose `VSCode tab`  \n",
    "  - If you modify the document and save (or manually rebuild) the view will update  \n",
    "  - If you double-click on the PDF it can take you to the synced section of the latex.  Conversely, if you use the `<Ctrl+Alt+J>` or the palette `> TeX Workshop: SyncTex from Cursor` it will find the appropriate section of the PDF based on your current cursor position in the `.tex` file.  \n",
    "1. Select the Problems pane at the bottom of the screen (which likely shows 1 warning and no error) or open it with `<Ctrl+Shift+M>`  \n",
    "\n",
    "\n",
    "![https://julia.quantecon.org/_static/figures/vscode_latex_2.png](https://julia.quantecon.org/_static/figures/vscode_latex_2.png)\n",
    "\n",
    "  \n",
    "In that screenshot, we have also selected the `TeX` pane on the left hand side, which provides additional options for you to explore.  All of them have command-palette equivalents.\n",
    "\n",
    "If you wanted to have a bibliography, you would add it into the tex file as normal, and just add in the additional magic comment `% !BIB program = bibtex`\n",
    "\n",
    "Finally, when using source code control, you will want to make sure you add the intermediate files to your `.gitignore` (see [here](https://julia.quantecon.org/version_control.html#discarding-changes) for more).  Typically, you would want to ignore"
   ]
  },
  {
   "cell_type": "markdown",
   "id": "daf1e4d8",
   "metadata": {
    "hide-output": false
   },
   "source": [
    "```text\n",
    "*.aux\n",
    "*.log\n",
    "*.synctex.gz\n",
    "*.pdf\n",
    "```\n"
   ]
  },
  {
   "cell_type": "markdown",
   "id": "36f75d64",
   "metadata": {},
   "source": [
    "Ignoring the `*.pdf` is optional but strongly encouraged as it will ensure you don’t clog the repository with the binary pdf files, and make collaboration easier by preventing clashes on this file."
   ]
  },
  {
   "cell_type": "markdown",
   "id": "98e1a53c",
   "metadata": {},
   "source": [
    "### Font Choices\n",
    "\n",
    "Beyond their general use, the integrated terminals will use fonts installed within VS Code.  Given that Julia code supports mathematical notation, the extra support in good fonts can be helpful.\n",
    "\n",
    "- [JuliaMono](https://juliamono.netlify.app/download/) and  [Cascadia Code](https://github.com/microsoft/cascadia-code) and [Fira Code](https://github.com/tonsky/FiraCode) are all good options.  \n",
    "- You can adapt [these](https://juliamono.netlify.app/faq/#vs-code) or [these](https://techstacker.com/change-vscode-code-font/) instructions depending on the font choice.  \n",
    "\n",
    "\n",
    "If on Windows, for your external terminal consider installing [Windows Terminal](https://aka.ms/terminal), which is built to support [Cascadia](https://docs.microsoft.com/en-us/windows/terminal/cascadia-code) and [Powerline](https://docs.microsoft.com/en-us/windows/terminal/tutorials/powerline-setup) fonts."
   ]
  },
  {
   "cell_type": "markdown",
   "id": "833e3cc7",
   "metadata": {},
   "source": [
    "### Remote and Collaborative Extensions\n",
    "\n",
    "If you ever need to use clusters or work with reproducible [containers](https://code.visualstudio.com/docs/remote/containers), VS Code has strong support for those features.  Key extensions for these are:\n",
    "\n",
    "- [VS LiveShare](https://marketplace.visualstudio.com/items?itemName=MS-vsliveshare.vsliveshare-pack): Collaborative coding within VS Code.  \n",
    "- [Remote Extensions Pack](https://marketplace.visualstudio.com/items?itemName=ms-vscode-remote.vscode-remote-extensionpack): Tools to access remote servers, local containers.  Install [OpenSSH](https://docs.microsoft.com/en-us/windows-server/administration/openssh/openssh_install_firstuse) if required.  \n",
    "- [SFTP](https://marketplace.visualstudio.com/iems?itemName=liximomo.sftp): Secure copying of files to supported cloud services.  \n",
    "\n",
    "\n",
    "Windows users will find good support to access a local linux installation with the [Windows Subsystem for Linux](https://docs.microsoft.com/en-us/windows/wsl/install-win10) and the associated [VS Code Extension](https://code.visualstudio.com/docs/remote/wsl-tutorial)."
   ]
  }
 ],
 "metadata": {
  "date": 1643875381.176785,
  "filename": "tools_editors.md",
  "kernelspec": {
   "display_name": "Julia",
   "language": "julia",
   "name": "julia-1.7"
  },
  "title": "Visual Studio Code and Other Tools"
 },
 "nbformat": 4,
 "nbformat_minor": 5
}