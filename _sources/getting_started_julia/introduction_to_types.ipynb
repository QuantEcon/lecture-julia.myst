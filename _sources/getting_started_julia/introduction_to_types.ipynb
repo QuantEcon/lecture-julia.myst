{
 "cells": [
  {
   "cell_type": "markdown",
   "id": "23450d46",
   "metadata": {},
   "source": [
    "(introduction_to_types)=\n",
    "```{raw} html\n",
    "<div id=\"qe-notebook-header\" style=\"text-align:right;\">\n",
    "        <a href=\"https://quantecon.org/\" title=\"quantecon.org\">\n",
    "                <img style=\"width:250px;display:inline;\" src=\"https://assets.quantecon.org/img/qe-menubar-logo.svg\" alt=\"QuantEcon\">\n",
    "        </a>\n",
    "</div>\n",
    "```\n",
    "\n",
    "# Introduction to Types and Generic Programming\n",
    "\n",
    "```{contents} Contents\n",
    ":depth: 2\n",
    "```\n",
    "\n",
    "## Overview\n",
    "\n",
    "In Julia, arrays and tuples are the most important data type for working with numerical data.\n",
    "\n",
    "In this lecture we give more details on\n",
    "\n",
    "* declaring types\n",
    "* abstract types\n",
    "* motivation for generic programming\n",
    "* multiple dispatch\n",
    "* building user-defined types"
   ]
  },
  {
   "cell_type": "code",
   "execution_count": 1,
   "id": "c6e069ae",
   "metadata": {},
   "outputs": [],
   "source": [
    "using LinearAlgebra, Statistics"
   ]
  },
  {
   "cell_type": "markdown",
   "id": "ce9d792b",
   "metadata": {},
   "source": [
    "## Finding and Interpreting Types\n",
    "\n",
    "### Finding The Type\n",
    "\n",
    "As we have seen in the previous lectures, in Julia all values have a type, which can be queried using the `typeof` function"
   ]
  },
  {
   "cell_type": "code",
   "execution_count": 2,
   "id": "3656150b",
   "metadata": {},
   "outputs": [
    {
     "name": "stdout",
     "output_type": "stream",
     "text": [
      "typeof(1) = Int64\n",
      "typeof(1.0) = Float64\n"
     ]
    }
   ],
   "source": [
    "@show typeof(1)\n",
    "@show typeof(1.0);"
   ]
  },
  {
   "cell_type": "markdown",
   "id": "9dfbac82",
   "metadata": {},
   "source": [
    "The hard-coded values `1` and `1.0` are called literals in a programming\n",
    "language, and the compiler deduces their types (`Int64` and `Float64` respectively in the example above).\n",
    "\n",
    "You can also query the type of a value"
   ]
  },
  {
   "cell_type": "code",
   "execution_count": 3,
   "id": "7ed4d659",
   "metadata": {},
   "outputs": [
    {
     "data": {
      "text/plain": [
       "Int64"
      ]
     },
     "execution_count": 3,
     "metadata": {},
     "output_type": "execute_result"
    }
   ],
   "source": [
    "x = 1\n",
    "typeof(x)"
   ]
  },
  {
   "cell_type": "markdown",
   "id": "5b15c30d",
   "metadata": {},
   "source": [
    "The name `x` binds to the value `1`, created as a literal.\n",
    "\n",
    "### Parametric Types\n",
    "\n",
    "(See [parametric types documentation](https://docs.julialang.org/en/v1/manual/types/#Parametric-Types-1)).\n",
    "\n",
    "The next two types use curly bracket notation to express the fact that they are *parametric*"
   ]
  },
  {
   "cell_type": "code",
   "execution_count": 4,
   "id": "ccf706db",
   "metadata": {},
   "outputs": [
    {
     "name": "stdout",
     "output_type": "stream",
     "text": [
      "typeof(1.0 + 1im) = ComplexF64\n",
      "typeof(ones(2, 2)) = Matrix{Float64}\n"
     ]
    }
   ],
   "source": [
    "@show typeof(1.0 + 1im)\n",
    "@show typeof(ones(2, 2));"
   ]
  },
  {
   "cell_type": "markdown",
   "id": "065f69b7",
   "metadata": {},
   "source": [
    "We will learn more details about {doc}`generic programming <../more_julia/generic_programming>` later, but the key is to interpret the curly brackets as swappable parameters for a given type.\n",
    "\n",
    "For example, `Array{Float64, 2}` can be read as\n",
    "\n",
    "1. `Array` is a parametric type representing a dense array, where the first parameter is the type stored, and the second is the number of dimensions.\n",
    "1. `Float64` is a concrete type declaring that the data stored will be a particular size of floating point.\n",
    "1. `2` is the number of dimensions of that array.\n",
    "\n",
    "A concrete type is one where values can be created by the compiler (equivalently, one which can be the result of `typeof(x)` for some object `x`).\n",
    "\n",
    "Values of a **parametric type** cannot be concretely constructed unless all of the parameters are given (themselves with concrete types).\n",
    "\n",
    "In the case of `Complex{Float64}`\n",
    "\n",
    "1. `Complex` is an abstract complex number type.\n",
    "1. `Float64` is a concrete type declaring what the type of the real and imaginary parts of the value should store.\n",
    "\n",
    "Another type to consider is the `Tuple` and `NamedTuple`"
   ]
  },
  {
   "cell_type": "code",
   "execution_count": 5,
   "id": "0dc4dfb5",
   "metadata": {},
   "outputs": [
    {
     "name": "stdout",
     "output_type": "stream",
     "text": [
      "typeof(x) = Tuple{Int64, Float64, String}\n"
     ]
    },
    {
     "data": {
      "text/plain": [
       "Tuple{Int64, Float64, String}"
      ]
     },
     "execution_count": 5,
     "metadata": {},
     "output_type": "execute_result"
    }
   ],
   "source": [
    "x = (1, 2.0, \"test\")\n",
    "@show typeof(x)"
   ]
  },
  {
   "cell_type": "markdown",
   "id": "7cd401c1",
   "metadata": {},
   "source": [
    "In this case, `Tuple` is the parametric type, and the three parameters are a list of the types of each value.\n",
    "\n",
    "For a named tuple"
   ]
  },
  {
   "cell_type": "code",
   "execution_count": 6,
   "id": "3e4e2a00",
   "metadata": {},
   "outputs": [
    {
     "name": "stdout",
     "output_type": "stream",
     "text": [
      "typeof(x) = NamedTuple{(:a, :b, :c), Tuple{Int64, Float64, String}}\n"
     ]
    },
    {
     "data": {
      "text/plain": [
       "NamedTuple{(:a, :b, :c), Tuple{Int64, Float64, String}}"
      ]
     },
     "execution_count": 6,
     "metadata": {},
     "output_type": "execute_result"
    }
   ],
   "source": [
    "x = (a = 1, b = 2.0, c = \"test\")\n",
    "@show typeof(x)"
   ]
  },
  {
   "cell_type": "markdown",
   "id": "9eeeefa0",
   "metadata": {},
   "source": [
    "The parametric `NamedTuple` type contains two parameters: first a list of names for each field of the tuple, and second the underlying `Tuple` type to store the values.\n",
    "\n",
    "Anytime a value is prefixed by a colon, as in the `:a` above, the type is `Symbol` -- a special kind of string used by the compiler."
   ]
  },
  {
   "cell_type": "code",
   "execution_count": 7,
   "id": "168431cf",
   "metadata": {},
   "outputs": [
    {
     "data": {
      "text/plain": [
       "Symbol"
      ]
     },
     "execution_count": 7,
     "metadata": {},
     "output_type": "execute_result"
    }
   ],
   "source": [
    "typeof(:a)"
   ]
  },
  {
   "cell_type": "markdown",
   "id": "5987172f",
   "metadata": {},
   "source": [
    "**Remark:** Note that, by convention, type names use CamelCase --  `Array`, `AbstractArray`, etc.\n",
    "\n",
    "### Variables, Types, and Values\n",
    "\n",
    "Since variables and functions are lower case by convention, this can be used to easily identify types when reading code and output.\n",
    "\n",
    "After assigning a variable name to a value, we can query the type of the\n",
    "value via the name."
   ]
  },
  {
   "cell_type": "code",
   "execution_count": 8,
   "id": "7ea862ec",
   "metadata": {},
   "outputs": [
    {
     "name": "stdout",
     "output_type": "stream",
     "text": [
      "typeof(x) = Int64\n"
     ]
    }
   ],
   "source": [
    "x = 42\n",
    "@show typeof(x);"
   ]
  },
  {
   "cell_type": "markdown",
   "id": "39b4964a",
   "metadata": {},
   "source": [
    "Thus, `x` is just a symbol bound to a value of type `Int64`.\n",
    "\n",
    "We can *rebind* the symbol `x` to any other value, of the same type or otherwise."
   ]
  },
  {
   "cell_type": "code",
   "execution_count": 9,
   "id": "54dc7804",
   "metadata": {},
   "outputs": [
    {
     "data": {
      "text/plain": [
       "42.0"
      ]
     },
     "execution_count": 9,
     "metadata": {},
     "output_type": "execute_result"
    }
   ],
   "source": [
    "x = 42.0"
   ]
  },
  {
   "cell_type": "markdown",
   "id": "005c5075",
   "metadata": {},
   "source": [
    "Now `x` \"points to\" another value, of type `Float64`"
   ]
  },
  {
   "cell_type": "code",
   "execution_count": 10,
   "id": "7f235514",
   "metadata": {},
   "outputs": [
    {
     "data": {
      "text/plain": [
       "Float64"
      ]
     },
     "execution_count": 10,
     "metadata": {},
     "output_type": "execute_result"
    }
   ],
   "source": [
    "typeof(x)"
   ]
  },
  {
   "cell_type": "markdown",
   "id": "6ad93238",
   "metadata": {},
   "source": [
    "However, beyond a few notable exceptions (e.g. `nothing` used for {ref}`error handling <error_handling>`),\n",
    "changing types is usually a symptom of poorly organized code, and makes\n",
    "{ref}`type inference <type_inference>` more difficult for the compiler.\n",
    "\n",
    "## The Type Hierarchy\n",
    "\n",
    "Let's discuss how types are organized.\n",
    "\n",
    "### Abstract vs Concrete Types\n",
    "\n",
    "(See [abstract types documentation](https://docs.julialang.org/en/v1/manual/types/#man-abstract-types-1))\n",
    "\n",
    "Up to this point, most of the types we have worked with (e.g., `Float64, Int64`) are examples of **concrete types**.\n",
    "\n",
    "Concrete types are types that we can *instantiate* -- i.e., pair with data in memory.\n",
    "\n",
    "We will now examine **abstract types** that cannot be instantiated (e.g., `Real`, `AbstractFloat`).\n",
    "\n",
    "For example, while you will never have a `Real` number directly in memory, the abstract types\n",
    "help us organize and work with related concrete types.\n",
    "\n",
    "### Subtypes and Supertypes\n",
    "\n",
    "How exactly do abstract types organize or relate different concrete types?\n",
    "\n",
    "In the Julia language specification, the types form a hierarchy.\n",
    "\n",
    "You can check if a type is a subtype of another with the `<:` operator."
   ]
  },
  {
   "cell_type": "code",
   "execution_count": 11,
   "id": "3c3efc59",
   "metadata": {},
   "outputs": [
    {
     "name": "stdout",
     "output_type": "stream",
     "text": [
      "Float64 <: Real = true\n",
      "Int64 <: Real = true\n",
      "Complex{Float64} <: Real = false\n",
      "Array <: Real = false\n"
     ]
    }
   ],
   "source": [
    "@show Float64 <: Real\n",
    "@show Int64 <: Real\n",
    "@show Complex{Float64} <: Real\n",
    "@show Array <: Real;"
   ]
  },
  {
   "cell_type": "markdown",
   "id": "8b6aef17",
   "metadata": {},
   "source": [
    "In the above, both `Float64` and `Int64` are **subtypes** of `Real`, whereas the `Complex` numbers are not.\n",
    "\n",
    "They are, however, all subtypes of `Number`"
   ]
  },
  {
   "cell_type": "code",
   "execution_count": 12,
   "id": "6999d3f8",
   "metadata": {},
   "outputs": [
    {
     "name": "stdout",
     "output_type": "stream",
     "text": [
      "Real <: Number = true\n",
      "Float64 <: Number = true\n",
      "Int64 <: Number = true\n",
      "Complex{Float64} <: Number = true\n"
     ]
    }
   ],
   "source": [
    "@show Real <: Number\n",
    "@show Float64 <: Number\n",
    "@show Int64 <: Number\n",
    "@show Complex{Float64} <: Number;"
   ]
  },
  {
   "cell_type": "markdown",
   "id": "1d164854",
   "metadata": {},
   "source": [
    "`Number` in turn is a subtype of `Any`, which is a parent of all types."
   ]
  },
  {
   "cell_type": "code",
   "execution_count": 13,
   "id": "93df69c3",
   "metadata": {},
   "outputs": [
    {
     "data": {
      "text/plain": [
       "true"
      ]
     },
     "execution_count": 13,
     "metadata": {},
     "output_type": "execute_result"
    }
   ],
   "source": [
    "Number <: Any"
   ]
  },
  {
   "cell_type": "markdown",
   "id": "c3856fad",
   "metadata": {},
   "source": [
    "In particular, the type tree is organized with `Any` at the top and the concrete types at the bottom.\n",
    "\n",
    "We never actually see *instances* of abstract types (i.e., `typeof(x)` never returns an abstract type).\n",
    "\n",
    "The point of abstract types is to categorize the concrete types, as well as other abstract types that sit below them in the hierarchy.\n",
    "\n",
    "There are some further functions to help you explore the type hierarchy, such as `show_supertypes` which walks up the tree of types to `Any` for a given type."
   ]
  },
  {
   "cell_type": "code",
   "execution_count": 14,
   "id": "0fae067f",
   "metadata": {},
   "outputs": [
    {
     "name": "stdout",
     "output_type": "stream",
     "text": [
      "Int64 <: Signed <: Integer <: Real <: Number <: Any"
     ]
    }
   ],
   "source": [
    "using Base: show_supertypes  # import the function from the `Base` package\n",
    "\n",
    "show_supertypes(Int64)"
   ]
  },
  {
   "cell_type": "markdown",
   "id": "46148a86",
   "metadata": {},
   "source": [
    "And the `subtypes` which gives a list of the available subtypes for any packages or code currently loaded"
   ]
  },
  {
   "cell_type": "code",
   "execution_count": 15,
   "id": "eab7d840",
   "metadata": {},
   "outputs": [
    {
     "name": "stdout",
     "output_type": "stream",
     "text": [
      "subtypes(Real) = Any[AbstractFloat, AbstractIrrational, Integer, Rational]\n",
      "subtypes(AbstractFloat) = Any[BigFloat, Float16, Float32, Float64]\n"
     ]
    }
   ],
   "source": [
    "@show subtypes(Real)\n",
    "@show subtypes(AbstractFloat);"
   ]
  },
  {
   "cell_type": "markdown",
   "id": "c1151f00",
   "metadata": {},
   "source": [
    "(type_inference)=\n",
    "## Deducing and Declaring Types\n",
    "\n",
    "We will discuss this in detail in {doc}`generic programming <../more_julia/generic_programming>`,\n",
    "but much of Julia's performance gains and generality of notation comes from its type system.\n",
    "\n",
    "For example"
   ]
  },
  {
   "cell_type": "code",
   "execution_count": 16,
   "id": "fe14ac83",
   "metadata": {},
   "outputs": [
    {
     "name": "stdout",
     "output_type": "stream",
     "text": [
      "typeof(x1) = Vector{Int64}\n",
      "typeof(x2) = Vector{Float64}\n"
     ]
    },
    {
     "data": {
      "text/plain": [
       "Vector{Float64}\u001b[90m (alias for \u001b[39m\u001b[90mArray{Float64, 1}\u001b[39m\u001b[90m)\u001b[39m"
      ]
     },
     "execution_count": 16,
     "metadata": {},
     "output_type": "execute_result"
    }
   ],
   "source": [
    "x1 = [1, 2, 3]\n",
    "x2 = [1.0, 2.0, 3.0]\n",
    "\n",
    "@show typeof(x1)\n",
    "@show typeof(x2)"
   ]
  },
  {
   "cell_type": "markdown",
   "id": "c3cfbd47",
   "metadata": {},
   "source": [
    "These return `Array{Int64,1}` and `Array{Float64,1}` respectively, which the compiler is able to infer from the right hand side of the expressions.\n",
    "\n",
    "Given the information on the type, the compiler can work through the sequence of expressions to infer other types."
   ]
  },
  {
   "cell_type": "code",
   "execution_count": 17,
   "id": "ca35f1fa",
   "metadata": {},
   "outputs": [
    {
     "data": {
      "text/plain": [
       "3-element Vector{Int64}:\n",
       " 2\n",
       " 4\n",
       " 6"
      ]
     },
     "execution_count": 17,
     "metadata": {},
     "output_type": "execute_result"
    }
   ],
   "source": [
    "f(y) = 2y # define some function\n",
    "\n",
    "x = [1, 2, 3]\n",
    "z = f(x) # call with an integer array - compiler deduces type"
   ]
  },
  {
   "cell_type": "markdown",
   "id": "6257a5c2",
   "metadata": {},
   "source": [
    "### Good Practices for Functions and Variable Types\n",
    "\n",
    "In order to keep many of the benefits of Julia, you will sometimes want to ensure\n",
    "the compiler can always deduce a single type from any function or expression.\n",
    "\n",
    "An example of bad practice is to use an array to hold unrelated types"
   ]
  },
  {
   "cell_type": "code",
   "execution_count": 18,
   "id": "d555c930",
   "metadata": {},
   "outputs": [
    {
     "data": {
      "text/plain": [
       "3-element Vector{Any}:\n",
       " 1.0\n",
       "  \"test\"\n",
       " 1"
      ]
     },
     "execution_count": 18,
     "metadata": {},
     "output_type": "execute_result"
    }
   ],
   "source": [
    "x = [1.0, \"test\", 1]  # typically poor style"
   ]
  },
  {
   "cell_type": "markdown",
   "id": "e6342f68",
   "metadata": {},
   "source": [
    "The type of this array is `Array{Any,1}`, where `Any` means the compiler has determined that any valid Julia type can be added to the array.\n",
    "\n",
    "While occasionally useful, this is to be avoided whenever possible in performance sensitive code.\n",
    "\n",
    "The other place this can come up is in the declaration of functions.\n",
    "\n",
    "As an example, consider a function which returns different types depending on the arguments."
   ]
  },
  {
   "cell_type": "code",
   "execution_count": 19,
   "id": "9a1e5c0b",
   "metadata": {},
   "outputs": [
    {
     "name": "stdout",
     "output_type": "stream",
     "text": [
      "f(1) = 1.0\n",
      "f(-1) = 0\n"
     ]
    }
   ],
   "source": [
    "function f(x)\n",
    "    if x > 0\n",
    "        return 1.0\n",
    "    else\n",
    "        return 0  # probably meant `0.0`\n",
    "    end\n",
    "end\n",
    "\n",
    "@show f(1)\n",
    "@show f(-1);"
   ]
  },
  {
   "cell_type": "markdown",
   "id": "49db83c3",
   "metadata": {},
   "source": [
    "The issue here is relatively subtle:  `1.0` is a floating point, while `0` is an integer.\n",
    "\n",
    "Consequently, given the type of `x`, the compiler cannot in general determine what type the function will return.\n",
    "\n",
    "This issue, called **type stability**, is at the heart of most Julia performance considerations.\n",
    "\n",
    "Luckily, trying to ensure that functions return the same types is also generally consistent with simple, clear code.\n",
    "\n",
    "### Manually Declaring Function and Variable Types\n",
    "\n",
    "(See [type declarations documentation](https://docs.julialang.org/en/v1/manual/types/#Type-Declarations-1))\n",
    "\n",
    "You will notice that in the lecture notes we have never directly declared any types.\n",
    "\n",
    "This is intentional both for exposition and as a best practice for using packages (as opposed to writing new packages, where declaring these types is very important).\n",
    "\n",
    "It is also in contrast to some of the sample code you will see in other Julia sources, which you will need to be able to read.\n",
    "\n",
    "To give an example of the declaration of types, the following are equivalent"
   ]
  },
  {
   "cell_type": "code",
   "execution_count": 20,
   "id": "9874d51b",
   "metadata": {},
   "outputs": [
    {
     "data": {
      "text/plain": [
       "2-element Vector{Float64}:\n",
       "  9.1\n",
       " 14.3"
      ]
     },
     "execution_count": 20,
     "metadata": {},
     "output_type": "execute_result"
    }
   ],
   "source": [
    "function f(x, A)\n",
    "    b = [5.0, 6.0]\n",
    "    return A * x .+ b\n",
    "end\n",
    "\n",
    "val = f([0.1, 2.0], [1.0 2.0; 3.0 4.0])"
   ]
  },
  {
   "cell_type": "code",
   "execution_count": 21,
   "id": "fb74bdf9",
   "metadata": {},
   "outputs": [
    {
     "data": {
      "text/plain": [
       "2-element Vector{Float64}:\n",
       "  9.1\n",
       " 14.3"
      ]
     },
     "execution_count": 21,
     "metadata": {},
     "output_type": "execute_result"
    }
   ],
   "source": [
    "function f2(x::Vector{Float64}, A::Matrix{Float64})::Vector{Float64}\n",
    "    # argument and return types\n",
    "    b::Vector{Float64} = [5.0, 6.0]\n",
    "    return A * x .+ b\n",
    "end\n",
    "\n",
    "val = f2([0.1; 2.0], [1.0 2.0; 3.0 4.0])"
   ]
  },
  {
   "cell_type": "markdown",
   "id": "f7e58880",
   "metadata": {},
   "source": [
    "While declaring the types may be verbose, would it ever generate faster code?\n",
    "\n",
    "The answer is almost never.\n",
    "\n",
    "Furthermore, it can lead to confusion and inefficiencies since many things that behave like vectors and matrices are not `Matrix{Float64}` and `Vector{Float64}`.\n",
    "\n",
    "Here, the first line works and the second line fails"
   ]
  },
  {
   "cell_type": "code",
   "execution_count": 22,
   "id": "4c8c9ce9",
   "metadata": {},
   "outputs": [
    {
     "name": "stdout",
     "output_type": "stream",
     "text": [
      "f([0.1; 2.0], [1 2; 3 4]) = [9.1, 14.3]\n",
      "f([0.1; 2.0], Diagonal([1.0, 2.0])) = [5.1, 10.0]\n"
     ]
    },
    {
     "data": {
      "text/plain": [
       "2-element Vector{Float64}:\n",
       "  5.1\n",
       " 10.0"
      ]
     },
     "execution_count": 22,
     "metadata": {},
     "output_type": "execute_result"
    }
   ],
   "source": [
    "@show f([0.1; 2.0], [1 2; 3 4])\n",
    "@show f([0.1; 2.0], Diagonal([1.0, 2.0]))\n",
    "\n",
    "# f2([0.1; 2.0], [1 2; 3 4]) # not a `Float64`\n",
    "# f2([0.1; 2.0], Diagonal([1.0, 2.0])) # not a `Matrix{Float64}`"
   ]
  },
  {
   "cell_type": "markdown",
   "id": "6483f6bb",
   "metadata": {},
   "source": [
    "## Creating New Types\n",
    "\n",
    "(See [type declarations documentation](https://docs.julialang.org/en/v1/manual/types/#Type-Declarations-1))\n",
    "\n",
    "Up until now, we have used `NamedTuple` to collect sets of parameters for our models and examples.\n",
    "\n",
    "These are useful for maintaining values for model parameters,\n",
    "but you will eventually need to be able to use code that creates its own types.\n",
    "\n",
    "### Syntax for Creating Concrete Types\n",
    "\n",
    "(See [composite types documentation](https://docs.julialang.org/en/v1/manual/types/#Composite-Types-1))\n",
    "\n",
    "While other sorts of types exist, we almost always use the `struct` keyword, which is for creation of composite data types\n",
    "\n",
    "* \"Composite\" refers to the fact that the data types in question can be used as collection of named fields.\n",
    "* The `struct` terminology is used in a number of programming languages to refer to composite data types.\n",
    "\n",
    "Let's start with a trivial example where the `struct` we build has fields named `a, b, c`, are not typed"
   ]
  },
  {
   "cell_type": "code",
   "execution_count": 23,
   "id": "d3696661",
   "metadata": {},
   "outputs": [],
   "source": [
    "struct FooNotTyped  # immutable by default, use `mutable struct` otherwise\n",
    "    a # BAD! not typed\n",
    "    b\n",
    "    c\n",
    "end"
   ]
  },
  {
   "cell_type": "markdown",
   "id": "03f6b20f",
   "metadata": {},
   "source": [
    "And another where the types of the fields are chosen"
   ]
  },
  {
   "cell_type": "code",
   "execution_count": 24,
   "id": "df2d0951",
   "metadata": {},
   "outputs": [],
   "source": [
    "struct Foo\n",
    "    a::Float64\n",
    "    b::Int64\n",
    "    c::Vector{Float64}\n",
    "end"
   ]
  },
  {
   "cell_type": "markdown",
   "id": "420003d9",
   "metadata": {},
   "source": [
    "In either case, the compiler generates a function to create new values of the data type, called a \"constructor\".\n",
    "\n",
    "It has the same name as the data type but uses function call notion"
   ]
  },
  {
   "cell_type": "code",
   "execution_count": 25,
   "id": "bc5cd22d",
   "metadata": {},
   "outputs": [
    {
     "name": "stdout",
     "output_type": "stream",
     "text": [
      "typeof(foo) = Foo\n",
      "foo.a = 2.0\n",
      "foo.b = 3\n",
      "foo.c = [1.0, 2.0, 3.0]\n"
     ]
    }
   ],
   "source": [
    "foo_nt = FooNotTyped(2.0, 3, [1.0, 2.0, 3.0])  # new `FooNotTyped`\n",
    "foo = Foo(2.0, 3, [1.0, 2.0, 3.0]) # creates a new `Foo`\n",
    "\n",
    "@show typeof(foo)\n",
    "@show foo.a       # get the value for a field\n",
    "@show foo.b\n",
    "@show foo.c;\n",
    "\n",
    "# foo.a = 2.0     # fails since it is immutable"
   ]
  },
  {
   "cell_type": "markdown",
   "id": "57ae1d0a",
   "metadata": {},
   "source": [
    "You will notice two differences above for the creation of a `struct` compared to our use of `NamedTuple`.\n",
    "\n",
    "* Types are declared for the fields, rather than inferred by the compiler.\n",
    "* The construction of a new instance has no named parameters to prevent accidental misuse if the wrong order is chosen.\n",
    "\n",
    "### Issues with Type Declarations\n",
    "\n",
    "Was it necessary to manually declare the types `a::Float64` in the above struct?\n",
    "\n",
    "The answer, in practice, is usually yes.\n",
    "\n",
    "Without a declaration of the type, the compiler is unable to generate efficient code, and the use of a `struct` declared without types could drop performance by orders of magnitude.\n",
    "\n",
    "Moreover, it is very easy to use the wrong type, or unnecessarily constrain the types.\n",
    "\n",
    "The first example, which is usually just as low-performance as no declaration of types at all, is to accidentally declare it with an abstract type"
   ]
  },
  {
   "cell_type": "code",
   "execution_count": 26,
   "id": "e7534375",
   "metadata": {},
   "outputs": [],
   "source": [
    "struct Foo2\n",
    "    a::Float64\n",
    "    b::Integer  # BAD! Not a concrete type\n",
    "    c::Vector{Real}  # BAD! Not a concrete type\n",
    "end"
   ]
  },
  {
   "cell_type": "markdown",
   "id": "4bc54da2",
   "metadata": {},
   "source": [
    "The second issue is that by choosing a type (as in the `Foo` above), you may\n",
    "be unnecessarily constraining what is allowed"
   ]
  },
  {
   "cell_type": "code",
   "execution_count": 27,
   "id": "504de308",
   "metadata": {},
   "outputs": [
    {
     "name": "stdout",
     "output_type": "stream",
     "text": [
      "f(foo) = 11.0\n",
      "f(foo_nt) = "
     ]
    },
    {
     "name": "stdout",
     "output_type": "stream",
     "text": [
      "11.0\n"
     ]
    }
   ],
   "source": [
    "f(x) = x.a + x.b + sum(x.c) # use the type\n",
    "a = 2.0\n",
    "b = 3\n",
    "c = [1.0, 2.0, 3.0]\n",
    "foo = Foo(a, b, c)\n",
    "@show f(foo)   # call with the foo, no problem\n",
    "\n",
    "# some other typed for the values\n",
    "a = 2   # not a floating point but `f()` would work\n",
    "b = 3\n",
    "c = [1.0, 2.0, 3.0]'   # transpose is not a `Vector` but `f()` would work\n",
    "# foo = Foo(a, b, c)   # fails to compile\n",
    "\n",
    "# works with `NotTyped` version, but low performance\n",
    "foo_nt = FooNotTyped(a, b, c)\n",
    "@show f(foo_nt);"
   ]
  },
  {
   "cell_type": "markdown",
   "id": "280e19a5",
   "metadata": {},
   "source": [
    "### Declaring Parametric Types (Advanced)\n",
    "\n",
    "(See [type parametric types documentation](https://docs.julialang.org/en/v1/manual/types/#Parametric-Types-1))\n",
    "\n",
    "Motivated by the above, we can create a type which can adapt to holding fields of different types."
   ]
  },
  {
   "cell_type": "code",
   "execution_count": 28,
   "id": "289e0272",
   "metadata": {},
   "outputs": [
    {
     "name": "stdout",
     "output_type": "stream",
     "text": [
      "typeof(foo) = Foo3{Int64, Int64, Adjoint{Float64, Vector{Float64}}}\n"
     ]
    },
    {
     "data": {
      "text/plain": [
       "11.0"
      ]
     },
     "execution_count": 28,
     "metadata": {},
     "output_type": "execute_result"
    }
   ],
   "source": [
    "struct Foo3{T1, T2, T3}\n",
    "    a::T1   # could be any type\n",
    "    b::T2\n",
    "    c::T3\n",
    "end\n",
    "\n",
    "# works fine\n",
    "a = 2\n",
    "b = 3\n",
    "c = [1.0, 2.0, 3.0]'    # transpose is not a `Vector` but `f()` would work\n",
    "foo = Foo3(a, b, c)\n",
    "@show typeof(foo)\n",
    "f(foo)"
   ]
  },
  {
   "cell_type": "markdown",
   "id": "cbb5f801",
   "metadata": {},
   "source": [
    "Of course, this is probably too flexible, and the `f` function might not work on an arbitrary set of `a, b, c`.\n",
    "\n",
    "You could constrain the types based on the abstract parent type using the `<:` operator"
   ]
  },
  {
   "cell_type": "code",
   "execution_count": 29,
   "id": "7e1bb46d",
   "metadata": {},
   "outputs": [
    {
     "name": "stdout",
     "output_type": "stream",
     "text": [
      "typeof(foo) = Foo4{Int64, Int64, Adjoint{Float64, Vector{Float64}}}\n"
     ]
    },
    {
     "data": {
      "text/plain": [
       "11.0"
      ]
     },
     "execution_count": 29,
     "metadata": {},
     "output_type": "execute_result"
    }
   ],
   "source": [
    "struct Foo4{T1 <: Real, T2 <: Real, T3 <: AbstractVecOrMat{<:Real}}\n",
    "    a::T1\n",
    "    b::T2\n",
    "    c::T3  # should check dimensions as well\n",
    "end\n",
    "foo = Foo4(a, b, c)  # no problem, and high performance\n",
    "@show typeof(foo)\n",
    "f(foo)"
   ]
  },
  {
   "cell_type": "markdown",
   "id": "03d6b245",
   "metadata": {},
   "source": [
    "This ensures that\n",
    "\n",
    "* `a` and `b` are a subtype of `Real`, and `+` in the definition of `f` works\n",
    "* `c` is a one dimensional abstract array of `Real` values\n",
    "\n",
    "The code works, and is equivalent in performance to a `NamedTuple`, but is more verbose and error prone.\n",
    "\n",
    "### Keyword Argument Constructors (Advanced)\n",
    "\n",
    "There is no way to avoid learning parametric types to achieve high performance code.\n",
    "\n",
    "However, the other issue where constructor arguments are error-prone can be\n",
    "remedied with the `@kwdef` macro from `Base`."
   ]
  },
  {
   "cell_type": "code",
   "execution_count": 30,
   "id": "2305e40d",
   "metadata": {},
   "outputs": [
    {
     "name": "stdout",
     "output_type": "stream",
     "text": [
      "foo = Foo5(0.1, 2, [1.0, 2.0, 3.0])\n",
      "foo2 = Foo5(2.0, 2, [1.0, 2.0, 3.0])\n"
     ]
    },
    {
     "data": {
      "text/plain": [
       "8.1"
      ]
     },
     "execution_count": 30,
     "metadata": {},
     "output_type": "execute_result"
    }
   ],
   "source": [
    "using Base: @kwdef\n",
    "\n",
    "@kwdef struct Foo5\n",
    "    a::Float64 = 2.0     # adds default value\n",
    "    b::Int64\n",
    "    c::Vector{Float64}\n",
    "end\n",
    "\n",
    "foo = Foo5(a = 0.1, b = 2, c = [1.0, 2.0, 3.0])\n",
    "foo2 = Foo5(c = [1.0, 2.0, 3.0], b = 2)  # rearrange order, uses default values\n",
    "\n",
    "@show foo\n",
    "@show foo2\n",
    "\n",
    "function f(x)\n",
    "    (; a, b, c) = x # unpacks any struct or named tuple\n",
    "    return a + b + sum(c)\n",
    "end\n",
    "\n",
    "f(foo)"
   ]
  },
  {
   "cell_type": "markdown",
   "id": "740df274",
   "metadata": {},
   "source": [
    "(generic_tips_tricks)=\n",
    "### Tips and Tricks for Writing Generic Functions\n",
    "\n",
    "As discussed in the previous sections, there is major advantage to never declaring a type unless it is absolutely necessary.\n",
    "\n",
    "The main place where it is necessary is designing code around {ref}`multiple dispatch <intro_multiple_dispatch>`.\n",
    "\n",
    "If you are careful to write code that doesn't unnecessarily assume types,\n",
    "you will both achieve higher performance and allow seamless use of a\n",
    "number of powerful libraries such as\n",
    "[auto-differentiation](https://github.com/JuliaDiff/ForwardDiff.jl),\n",
    "[static arrays](https://github.com/JuliaArrays/StaticArrays.jl),\n",
    "[GPUs](https://github.com/JuliaGPU/CuArrays.jl),\n",
    "[interval arithmetic and root finding](https://github.com/JuliaIntervals/IntervalRootFinding.jl),\n",
    "[arbitrary precision numbers](https://docs.julialang.org/en/v1/manual/integers-and-floating-point-numbers/index.html#Arbitrary-Precision-Arithmetic-1),\n",
    "and many more packages -- including ones that have not even been written yet.\n",
    "\n",
    "A few simple programming patterns ensure that this is possible\n",
    "\n",
    "* Do not declare types when declaring variables or functions unless necessary."
   ]
  },
  {
   "cell_type": "code",
   "execution_count": 31,
   "id": "0eb75d5a",
   "metadata": {},
   "outputs": [
    {
     "data": {
      "text/plain": [
       "3-element Vector{Float64}:\n",
       " 6.0\n",
       " 7.0\n",
       " 3.1"
      ]
     },
     "execution_count": 31,
     "metadata": {},
     "output_type": "execute_result"
    }
   ],
   "source": [
    "# BAD\n",
    "x = [5.0, 6.0, 2.1]\n",
    "\n",
    "function g(x::Array{Float64, 1})   # not generic!\n",
    "    y = zeros(length(x))   # not generic, hidden float!\n",
    "    z = Diagonal(ones(length(x)))  # not generic, hidden float!\n",
    "    q = ones(length(x))\n",
    "    y .= z * x + q\n",
    "    return y\n",
    "end\n",
    "\n",
    "g(x)\n",
    "\n",
    "# GOOD\n",
    "function g2(x)  # or `x::AbstractVector`\n",
    "    y = similar(x)\n",
    "    z = I\n",
    "    q = ones(eltype(x), length(x))  # or `fill(one(x), length(x))`\n",
    "    y .= z * x + q\n",
    "    return y\n",
    "end\n",
    "\n",
    "g2(x)"
   ]
  },
  {
   "cell_type": "markdown",
   "id": "4046d58a",
   "metadata": {},
   "source": [
    "  \n",
    "* Preallocate related vectors with `similar` where possible, and use `eltype` or `typeof`. This is important when using Multiple Dispatch given the different input types the function can call"
   ]
  },
  {
   "cell_type": "code",
   "execution_count": 32,
   "id": "4df4a4e4",
   "metadata": {},
   "outputs": [
    {
     "data": {
      "text/plain": [
       "2-element Vector{BigInt}:\n",
       " 1\n",
       " 4"
      ]
     },
     "execution_count": 32,
     "metadata": {},
     "output_type": "execute_result"
    }
   ],
   "source": [
    "function g(x)\n",
    "    y = similar(x)\n",
    "    for i in eachindex(x)\n",
    "        y[i] = x[i]^2      # could broadcast\n",
    "    end\n",
    "    return y\n",
    "end\n",
    "\n",
    "g([BigInt(1), BigInt(2)])"
   ]
  },
  {
   "cell_type": "markdown",
   "id": "79a70830",
   "metadata": {},
   "source": [
    "  \n",
    "* Use `typeof` or `eltype` to declare a type"
   ]
  },
  {
   "cell_type": "code",
   "execution_count": 33,
   "id": "804442d8",
   "metadata": {},
   "outputs": [
    {
     "name": "stdout",
     "output_type": "stream",
     "text": [
      "typeof([1.0, 2.0, 3.0]) = Vector{Float64}\n",
      "eltype([1.0, 2.0, 3.0]) = Float64\n"
     ]
    }
   ],
   "source": [
    "@show typeof([1.0, 2.0, 3.0])\n",
    "@show eltype([1.0, 2.0, 3.0]);"
   ]
  },
  {
   "cell_type": "markdown",
   "id": "d028c6e9",
   "metadata": {},
   "source": [
    "  \n",
    "* Beware of hidden floating points"
   ]
  },
  {
   "cell_type": "code",
   "execution_count": 34,
   "id": "8cf49aec",
   "metadata": {},
   "outputs": [
    {
     "name": "stdout",
     "output_type": "stream",
     "text": [
      "typeof(ones(3)) = Vector{Float64}\n",
      "typeof(ones(Int64, 3)) = Vector{Int64}\n",
      "typeof(zeros(3)) = Vector{Float64}\n",
      "typeof(zeros(Int64, 3)) = Vector{Int64}\n"
     ]
    }
   ],
   "source": [
    "@show typeof(ones(3))\n",
    "@show typeof(ones(Int64, 3))\n",
    "@show typeof(zeros(3))\n",
    "@show typeof(zeros(Int64, 3));"
   ]
  },
  {
   "cell_type": "markdown",
   "id": "f4495909",
   "metadata": {},
   "source": [
    "  \n",
    "* Use `one` and `zero` to write generic code"
   ]
  },
  {
   "cell_type": "code",
   "execution_count": 35,
   "id": "621d3d87",
   "metadata": {},
   "outputs": [
    {
     "name": "stdout",
     "output_type": "stream",
     "text": [
      "typeof(1) = Int64\n",
      "typeof(1.0) = Float64\n",
      "typeof(BigFloat(1.0)) = BigFloat\n",
      "typeof(one(BigFloat)) = BigFloat\n",
      "typeof(zero(BigFloat)) = BigFloat\n",
      "typeof(one(x)) = BigFloat\n",
      "typeof(zero(x)) = BigFloat\n"
     ]
    }
   ],
   "source": [
    "@show typeof(1)\n",
    "@show typeof(1.0)\n",
    "@show typeof(BigFloat(1.0))\n",
    "@show typeof(one(BigFloat))  # gets multiplicative identity, passing in type\n",
    "@show typeof(zero(BigFloat))\n",
    "\n",
    "x = BigFloat(2)\n",
    "\n",
    "@show typeof(one(x))  # can call with a variable for convenience\n",
    "@show typeof(zero(x));"
   ]
  },
  {
   "cell_type": "markdown",
   "id": "96ba94c3",
   "metadata": {},
   "source": [
    "  \n",
    "\n",
    "This last example is a subtle, because of something called [type promotion](https://docs.julialang.org/en/v1/manual/conversion-and-promotion/#Promotion-1)\n",
    "\n",
    "* Assume reasonable type promotion exists for numeric types"
   ]
  },
  {
   "cell_type": "code",
   "execution_count": 36,
   "id": "65317ec5",
   "metadata": {},
   "outputs": [
    {
     "name": "stdout",
     "output_type": "stream",
     "text": [
      "typeof(g(x)) = BigFloat\n"
     ]
    }
   ],
   "source": [
    "# ACCEPTABLE\n",
    "function g(x::AbstractFloat)\n",
    "    return x + 1.0   # assumes `1.0` can be converted to something compatible with `typeof(x)`\n",
    "end\n",
    "\n",
    "x = BigFloat(1.0)\n",
    "\n",
    "@show typeof(g(x));  # this has \"promoted\" the `1.0` to a `BigFloat`"
   ]
  },
  {
   "cell_type": "markdown",
   "id": "233d158b",
   "metadata": {},
   "source": [
    "  But sometimes assuming promotion is not enough"
   ]
  },
  {
   "cell_type": "code",
   "execution_count": 37,
   "id": "d625f732",
   "metadata": {},
   "outputs": [
    {
     "name": "stdout",
     "output_type": "stream",
     "text": [
      "typeof(g2(x)) = BigFloat\n",
      "typeof(g2(x2)) = Int64\n",
      "typeof(g3(x)) = BigFloat\n",
      "typeof(g3(x2)) = BigFloat\n"
     ]
    }
   ],
   "source": [
    "# BAD\n",
    "function g2(x::AbstractFloat)\n",
    "    if x > 0.0   # can't efficiently call with `x::Integer`\n",
    "        return x + 1.0   # OK - assumes you can promote `Float64` to `AbstractFloat`\n",
    "    else\n",
    "        return 0   # BAD! Returns a `Int64`\n",
    "    end\n",
    "end\n",
    "\n",
    "x = BigFloat(1.0)\n",
    "x2 = BigFloat(-1.0)\n",
    "\n",
    "@show typeof(g2(x))\n",
    "@show typeof(g2(x2))  # type unstable\n",
    "\n",
    "# GOOD\n",
    "function g3(x) #\n",
    "    if x > zero(x)   # any type with an additive identity\n",
    "        return x + one(x)  # more general but less important of a change\n",
    "    else\n",
    "        return zero(x)\n",
    "    end\n",
    "end\n",
    "\n",
    "@show typeof(g3(x))\n",
    "@show typeof(g3(x2));  # type stable"
   ]
  },
  {
   "cell_type": "markdown",
   "id": "51037ca1",
   "metadata": {},
   "source": [
    "  \n",
    "\n",
    "These patterns are relatively straightforward, but generic programming can be thought of\n",
    "as a Leontief production function:  if *any* of the functions you write or call are not\n",
    "precise enough, then it may break the chain.\n",
    "\n",
    "This is all the more reason to exploit carefully designed packages rather than \"do-it-yourself\".\n",
    "\n",
    "### A Digression on Style and Naming\n",
    "\n",
    "The previous section helps to establish some of the reasoning behind the style\n",
    "choices in these lectures: \"be aware of types, but avoid declaring them\".\n",
    "\n",
    "The purpose of this is threefold:\n",
    "\n",
    "* Provide easy to read code with minimal \"syntactic noise\" and a clear correspondence to the math.\n",
    "* Ensure that code is sufficiently generic to exploit other packages and types.\n",
    "* Avoid common mistakes and unnecessary performance degradations.\n",
    "\n",
    "This is just one of many decisions and patterns to ensure that your code is consistent and clear.\n",
    "\n",
    "The best resource is to carefully read other peoples code, but a few sources to review are\n",
    "\n",
    "* [Julia Style Guide](https://docs.julialang.org/en/v1/manual/style-guide/)\n",
    "* [SciML Style Guide](https://github.com/SciML/SciMLStyle)\n",
    "* [Blue Style Guide](https://github.com/invenia/BlueStyle)\n",
    "\n",
    "Now why would we emphasize naming and style as a crucial part of the lectures?\n",
    "\n",
    "Because it is an essential tool for creating research that is\n",
    "**reproducible** and [**correct**](https://en.wikipedia.org/wiki/Correctness_%28computer_science%29).\n",
    "\n",
    "Some helpful ways to think about this are\n",
    "\n",
    "* **Clearly written code is easier to review for errors**: The first-order\n",
    "  concern of any code is that it correctly implements the whiteboard math.\n",
    "* **Code is read many more times than it is written**: Saving a few keystrokes\n",
    "  in typing a variable name is never worth it, nor is a divergence from the\n",
    "  mathematical notation where a single symbol for a variable name would map better to the model.\n",
    "* **Write code to be read in the future, not today**: If you are not sure\n",
    "  anyone else will read the code, then write it for an ignorant future version\n",
    "  of yourself who may have forgotten everything, and is likely to misuse the code.\n",
    "* **Maintain the correspondence between the whiteboard math and the code**:\n",
    "  For example, if you change notation in your model, then immediately update\n",
    "  all variables in the code to reflect it.\n",
    "\n",
    "\n",
    "While variable naming takes discipline, code formatting for a specific style guide can be automated using [JuliaFormatter.jl](https://github.com/domluna/JuliaFormatter.jl) which is built into the Julia VS Code extension.\n",
    "\n",
    "#### Commenting Code\n",
    "\n",
    "One common mistake people make when trying to apply these goals is to add in a large number of comments.\n",
    "\n",
    "Over the years, developers have found that excess comments in code (and *especially* big comment headers used before every function declaration) can make code *harder* to read.\n",
    "\n",
    "The issue is one of syntactic noise: if most of the comments are redundant given clear variable and function names, then the comments make it more difficult to mentally parse and read the code.\n",
    "\n",
    "If you examine Julia code in packages and the core language, you will see a great amount of care taken in function and variable names, and comments are only added where helpful.\n",
    "\n",
    "For creating packages that you intend others to use, instead of a comment header, you should use [docstrings](https://docs.julialang.org/en/v1/manual/documentation/index.html#Syntax-Guide-1).\n",
    "\n",
    "(intro_multiple_dispatch)=\n",
    "## Introduction to Multiple Dispatch\n",
    "\n",
    "One of the defining features of Julia is **multiple dispatch**, whereby the same function name can do different things depending on the underlying types.\n",
    "\n",
    "Without realizing it, in nearly every function call within packages or the standard library you have used this feature.\n",
    "\n",
    "To see this in action, consider the absolute value function `abs`"
   ]
  },
  {
   "cell_type": "code",
   "execution_count": 38,
   "id": "03df3aae",
   "metadata": {},
   "outputs": [
    {
     "name": "stdout",
     "output_type": "stream",
     "text": [
      "abs(-1) = 1\n",
      "abs(-1.0) = 1.0\n",
      "abs(0.0 - 1.0im) = 1.0\n"
     ]
    }
   ],
   "source": [
    "@show abs(-1)   # `Int64`\n",
    "@show abs(-1.0)  # `Float64`\n",
    "@show abs(0.0 - 1.0im);  # `Complex{Float64}`"
   ]
  },
  {
   "cell_type": "markdown",
   "id": "5aa12b02",
   "metadata": {},
   "source": [
    "In all of these cases, the `abs` function has specialized code depending on the type passed in.\n",
    "\n",
    "To do this, a function specifies different **methods** which operate on a particular set of types.\n",
    "\n",
    "Unlike most cases we have seen before, this requires a type annotation.\n",
    "\n",
    "To rewrite the `abs` function"
   ]
  },
  {
   "cell_type": "code",
   "execution_count": 39,
   "id": "967d480a",
   "metadata": {},
   "outputs": [
    {
     "name": "stdout",
     "output_type": "stream",
     "text": [
      "ourabs(-1) = 1\n",
      "ourabs(-1.0) = 1.0\n",
      "ourabs(1.0 - 2.0im) = 2.23606797749979\n"
     ]
    }
   ],
   "source": [
    "function ourabs(x::Real)\n",
    "    if x > zero(x)   # note, not 0!\n",
    "        return x\n",
    "    else\n",
    "        return -x\n",
    "    end\n",
    "end\n",
    "\n",
    "function ourabs(x::Complex)\n",
    "    sqrt(real(x)^2 + imag(x)^2)\n",
    "end\n",
    "\n",
    "@show ourabs(-1)   # `Int64`\n",
    "@show ourabs(-1.0) # `Float64`\n",
    "@show ourabs(1.0 - 2.0im);  # `Complex{Float64}`"
   ]
  },
  {
   "cell_type": "markdown",
   "id": "9ce6ea88",
   "metadata": {},
   "source": [
    "Note that in the above, `x` works for any type of `Real`, including `Int64`, `Float64`, and ones you may not have realized exist"
   ]
  },
  {
   "cell_type": "code",
   "execution_count": 40,
   "id": "95620b99",
   "metadata": {},
   "outputs": [
    {
     "name": "stdout",
     "output_type": "stream",
     "text": [
      "typeof(x) = Rational{Int64}\n",
      "ourabs(x) = 2//3\n"
     ]
    }
   ],
   "source": [
    "x = -2 // 3  # `Rational` number, -2/3\n",
    "@show typeof(x)\n",
    "@show ourabs(x);"
   ]
  },
  {
   "cell_type": "markdown",
   "id": "b27b1761",
   "metadata": {},
   "source": [
    "You will also note that we used an abstract type, `Real`, and an incomplete\n",
    "parametric type, `Complex`, when defining the above functions.\n",
    "\n",
    "Unlike the creation of `struct` fields, there is no penalty in using abstract\n",
    "types when you define function parameters, as they are used purely to determine which version of a function to use.\n",
    "\n",
    "### Multiple Dispatch in Algorithms (Advanced)\n",
    "\n",
    "If you want an algorithm to have specialized versions when given different input types, you need to declare the types for the function inputs.\n",
    "\n",
    "As an example where this could come up, assume that we have some grid `x` of values, the results of a function `f` applied at those values, and want to calculate an approximate derivative using forward differences.\n",
    "\n",
    "In that case, given $x_n, x_{n+1}, f(x_n)$ and $f(x_{n+1})$, the forward-difference approximation of the derivative is\n",
    "\n",
    "$$\n",
    "f'(x_n) \\approx \\frac{f(x_{n+1}) - f(x_n)}{x_{n+1} - x_n}\n",
    "$$\n",
    "\n",
    "To implement this calculation for a vector of inputs, we notice that there is a specialized implementation if the grid is uniform.\n",
    "\n",
    "The uniform grid can be implemented using an `AbstractRange`, which we can analyze with\n",
    "`typeof`, `supertype` and `show_supertypes`."
   ]
  },
  {
   "cell_type": "code",
   "execution_count": 41,
   "id": "db3b87a2",
   "metadata": {},
   "outputs": [
    {
     "name": "stdout",
     "output_type": "stream",
     "text": [
      "typeof(x) = StepRangeLen{Float64, Base.TwicePrecision{Float64}, Base.TwicePrecision{Float64}, Int64}\n",
      "typeof(x_2) = StepRange{Int64, Int64}\n",
      "supertype(typeof(x)) = AbstractRange{Float64}\n"
     ]
    },
    {
     "data": {
      "text/plain": [
       "AbstractRange{Float64}"
      ]
     },
     "execution_count": 41,
     "metadata": {},
     "output_type": "execute_result"
    }
   ],
   "source": [
    "x = range(0.0, 1.0, length = 20)\n",
    "x_2 = 1:1:20   # if integers\n",
    "\n",
    "@show typeof(x)\n",
    "@show typeof(x_2)\n",
    "@show supertype(typeof(x))"
   ]
  },
  {
   "cell_type": "markdown",
   "id": "8448560d",
   "metadata": {},
   "source": [
    "To see the entire tree about a particular type, use `show_supertypes`."
   ]
  },
  {
   "cell_type": "code",
   "execution_count": 42,
   "id": "90e7138c",
   "metadata": {},
   "outputs": [
    {
     "name": "stdout",
     "output_type": "stream",
     "text": [
      "StepRangeLen{Float64, Base.TwicePrecision{Float64}, Base.TwicePrecision{Float64}, Int64} <: AbstractRange{Float64} <: AbstractVector{"
     ]
    },
    {
     "name": "stdout",
     "output_type": "stream",
     "text": [
      "Float64} <: Any"
     ]
    }
   ],
   "source": [
    "show_supertypes(typeof(x))  # or typeof(x) |> show_supertypes"
   ]
  },
  {
   "cell_type": "code",
   "execution_count": 43,
   "id": "cdf5ea91",
   "metadata": {},
   "outputs": [
    {
     "name": "stdout",
     "output_type": "stream",
     "text": [
      "StepRange{Int64, Int64} <: OrdinalRange{Int64, Int64} <: AbstractRange{Int64} <: AbstractVector{Int64} <: Any"
     ]
    }
   ],
   "source": [
    "show_supertypes(typeof(x_2))"
   ]
  },
  {
   "cell_type": "markdown",
   "id": "996f5435",
   "metadata": {},
   "source": [
    "The types of the range objects can be very complicated, but are both subtypes of `AbstractRange`."
   ]
  },
  {
   "cell_type": "code",
   "execution_count": 44,
   "id": "c4c0391a",
   "metadata": {},
   "outputs": [
    {
     "name": "stdout",
     "output_type": "stream",
     "text": [
      "typeof(x) <: AbstractRange = true\n",
      "typeof(x_2) <: AbstractRange = true\n"
     ]
    }
   ],
   "source": [
    "@show typeof(x) <: AbstractRange\n",
    "@show typeof(x_2) <: AbstractRange;"
   ]
  },
  {
   "cell_type": "markdown",
   "id": "352458f9",
   "metadata": {},
   "source": [
    "While you may not know the exact concrete type, any `AbstractRange` has an informal set of operations that are available."
   ]
  },
  {
   "cell_type": "code",
   "execution_count": 45,
   "id": "3aa88cb5",
   "metadata": {},
   "outputs": [
    {
     "name": "stdout",
     "output_type": "stream",
     "text": [
      "minimum(x) = 0.0\n",
      "maximum(x) = 1.0\n",
      "length(x) = 20\n",
      "step(x) = 0.05263157894736842\n"
     ]
    }
   ],
   "source": [
    "@show minimum(x)\n",
    "@show maximum(x)\n",
    "@show length(x)\n",
    "@show step(x);"
   ]
  },
  {
   "cell_type": "markdown",
   "id": "0ee52106",
   "metadata": {},
   "source": [
    "Similarly, there are a number of operations available for any `AbstractVector`, such as `length`."
   ]
  },
  {
   "cell_type": "code",
   "execution_count": 46,
   "id": "67c5d8f2",
   "metadata": {},
   "outputs": [
    {
     "name": "stdout",
     "output_type": "stream",
     "text": [
      "typeof(f_x) = Vector{Float64}\n",
      "supertype(typeof(f_x)) = DenseVector{Float64}\n",
      "supertype(supertype(typeof(f_x))) = AbstractVector{Float64}\n",
      "length(f_x) = 20\n"
     ]
    }
   ],
   "source": [
    "f(x) = x^2\n",
    "f_x = f.(x)  # calculating at the range values\n",
    "\n",
    "@show typeof(f_x)\n",
    "@show supertype(typeof(f_x))\n",
    "@show supertype(supertype(typeof(f_x)))  # walk up tree again!\n",
    "@show length(f_x);   # and many more"
   ]
  },
  {
   "cell_type": "code",
   "execution_count": 47,
   "id": "a82db351",
   "metadata": {},
   "outputs": [
    {
     "name": "stdout",
     "output_type": "stream",
     "text": [
      "Vector{Float64} <: DenseVector{Float64} <: AbstractVector{Float64} <: Any"
     ]
    }
   ],
   "source": [
    "show_supertypes(typeof(f_x))"
   ]
  },
  {
   "cell_type": "markdown",
   "id": "ec4c24b3",
   "metadata": {},
   "source": [
    "There are also many functions that can use any `AbstractArray`, such as `diff`.\n",
    "\n",
    "```{code-block} julia\n",
    "?diff\n",
    "\n",
    "search: diff symdiff setdiff symdiff! setdiff! Cptrdiff_t\n",
    "\n",
    "diff(A::AbstractVector) # finite difference operator of matrix or vector A\n",
    "\n",
    "# if A is a matrix, specify the dimension over which to operate with the dims keyword argument\n",
    "diff(A::AbstractMatrix; dims::Integer)\n",
    "```\n",
    "\n",
    "Hence, we can call this function for anything of type `AbstractVector`.\n",
    "\n",
    "Finally, we can make a high performance specialization for any `AbstractVector` and `AbstractRange`."
   ]
  },
  {
   "cell_type": "code",
   "execution_count": 48,
   "id": "cbb33d3f",
   "metadata": {},
   "outputs": [
    {
     "data": {
      "text/plain": [
       "slopes (generic function with 1 method)"
      ]
     },
     "execution_count": 48,
     "metadata": {},
     "output_type": "execute_result"
    }
   ],
   "source": [
    "slopes(f_x::AbstractVector, x::AbstractRange) = diff(f_x) / step(x)"
   ]
  },
  {
   "cell_type": "markdown",
   "id": "935c064a",
   "metadata": {},
   "source": [
    "We can use auto-differentiation to compare the results."
   ]
  },
  {
   "cell_type": "code",
   "execution_count": 49,
   "id": "d7f2f686",
   "metadata": {},
   "outputs": [
    {
     "data": {
      "image/png": "[encoded data removed]",
      "image/svg+xml": [
       "<?xml version=\"1.0\" encoding=\"utf-8\"?>\n",
       "<svg xmlns=\"http://www.w3.org/2000/svg\" xmlns:xlink=\"http://www.w3.org/1999/xlink\" width=\"600\" height=\"400\" viewBox=\"0 0 2400 1600\">\n",
       "<defs>\n",
       "  <clipPath id=\"clip720\">\n",
       "    <rect x=\"0\" y=\"0\" width=\"2400\" height=\"1600\"/>\n",
       "  </clipPath>\n",
       "</defs>\n",
       "<path clip-path=\"url(#clip720)\" d=\"M0 1600 L2400 1600 L2400 0 L0 0  Z\" fill=\"#ffffff\" fill-rule=\"evenodd\" fill-opacity=\"1\"/>\n",
       "<defs>\n",
       "  <clipPath id=\"clip721\">\n",
       "    <rect x=\"480\" y=\"0\" width=\"1681\" height=\"1600\"/>\n",
       "  </clipPath>\n",
       "</defs>\n",
       "<path clip-path=\"url(#clip720)\" d=\"M193.936 1486.45 L2352.76 1486.45 L2352.76 47.2441 L193.936 47.2441  Z\" fill=\"#ffffff\" fill-rule=\"evenodd\" fill-opacity=\"1\"/>\n",
       "<defs>\n",
       "  <clipPath id=\"clip722\">\n",
       "    <rect x=\"193\" y=\"47\" width=\"2160\" height=\"1440\"/>\n",
       "  </clipPath>\n",
       "</defs>\n",
       "<polyline clip-path=\"url(#clip722)\" style=\"stroke:#000000; stroke-linecap:round; stroke-linejoin:round; stroke-width:2; stroke-opacity:0.1; fill:none\" points=\"255.035,1486.45 255.035,47.2441 \"/>\n",
       "<polyline clip-path=\"url(#clip722)\" style=\"stroke:#000000; stroke-linecap:round; stroke-linejoin:round; stroke-width:2; stroke-opacity:0.1; fill:none\" points=\"777.246,1486.45 777.246,47.2441 \"/>\n",
       "<polyline clip-path=\"url(#clip722)\" style=\"stroke:#000000; stroke-linecap:round; stroke-linejoin:round; stroke-width:2; stroke-opacity:0.1; fill:none\" points=\"1299.46,1486.45 1299.46,47.2441 \"/>\n",
       "<polyline clip-path=\"url(#clip722)\" style=\"stroke:#000000; stroke-linecap:round; stroke-linejoin:round; stroke-width:2; stroke-opacity:0.1; fill:none\" points=\"1821.67,1486.45 1821.67,47.2441 \"/>\n",
       "<polyline clip-path=\"url(#clip722)\" style=\"stroke:#000000; stroke-linecap:round; stroke-linejoin:round; stroke-width:2; stroke-opacity:0.1; fill:none\" points=\"2343.88,1486.45 2343.88,47.2441 \"/>\n",
       "<polyline clip-path=\"url(#clip720)\" style=\"stroke:#000000; stroke-linecap:round; stroke-linejoin:round; stroke-width:4; stroke-opacity:1; fill:none\" points=\"193.936,1486.45 2352.76,1486.45 \"/>\n",
       "<polyline clip-path=\"url(#clip720)\" style=\"stroke:#000000; stroke-linecap:round; stroke-linejoin:round; stroke-width:4; stroke-opacity:1; fill:none\" points=\"255.035,1486.45 255.035,1467.55 \"/>\n",
       "<polyline clip-path=\"url(#clip720)\" style=\"stroke:#000000; stroke-linecap:round; stroke-linejoin:round; stroke-width:4; stroke-opacity:1; fill:none\" points=\"777.246,1486.45 777.246,1467.55 \"/>\n",
       "<polyline clip-path=\"url(#clip720)\" style=\"stroke:#000000; stroke-linecap:round; stroke-linejoin:round; stroke-width:4; stroke-opacity:1; fill:none\" points=\"1299.46,1486.45 1299.46,1467.55 \"/>\n",
       "<polyline clip-path=\"url(#clip720)\" style=\"stroke:#000000; stroke-linecap:round; stroke-linejoin:round; stroke-width:4; stroke-opacity:1; fill:none\" points=\"1821.67,1486.45 1821.67,1467.55 \"/>\n",
       "<polyline clip-path=\"url(#clip720)\" style=\"stroke:#000000; stroke-linecap:round; stroke-linejoin:round; stroke-width:4; stroke-opacity:1; fill:none\" points=\"2343.88,1486.45 2343.88,1467.55 \"/>\n",
       "<path clip-path=\"url(#clip720)\" d=\"M255.035 1517.37 Q251.424 1517.37 249.595 1520.93 Q247.789 1524.47 247.789 1531.6 Q247.789 1538.71 249.595 1542.27 Q251.424 1545.82 255.035 1545.82 Q258.669 1545.82 260.474 1542.27 Q262.303 1538.71 262.303 1531.6 Q262.303 1524.47 260.474 1520.93 Q258.669 1517.37 255.035 1517.37 M255.035 1513.66 Q260.845 1513.66 263.9 1518.27 Q266.979 1522.85 266.979 1531.6 Q266.979 1540.33 263.9 1544.94 Q260.845 1549.52 255.035 1549.52 Q249.225 1549.52 246.146 1544.94 Q243.09 1540.33 243.09 1531.6 Q243.09 1522.85 246.146 1518.27 Q249.225 1513.66 255.035 1513.66 Z\" fill=\"#000000\" fill-rule=\"nonzero\" fill-opacity=\"1\" /><path clip-path=\"url(#clip720)\" d=\"M767.628 1544.91 L775.266 1544.91 L775.266 1518.55 L766.956 1520.21 L766.956 1515.95 L775.22 1514.29 L779.896 1514.29 L779.896 1544.91 L787.535 1544.91 L787.535 1548.85 L767.628 1548.85 L767.628 1544.91 Z\" fill=\"#000000\" fill-rule=\"nonzero\" fill-opacity=\"1\" /><path clip-path=\"url(#clip720)\" d=\"M1294.11 1544.91 L1310.43 1544.91 L1310.43 1548.85 L1288.48 1548.85 L1288.48 1544.91 Q1291.15 1542.16 1295.73 1537.53 Q1300.34 1532.88 1301.52 1531.53 Q1303.76 1529.01 1304.64 1527.27 Q1305.54 1525.51 1305.54 1523.82 Q1305.54 1521.07 1303.6 1519.33 Q1301.68 1517.6 1298.58 1517.6 Q1296.38 1517.6 1293.92 1518.36 Q1291.49 1519.13 1288.72 1520.68 L1288.72 1515.95 Q1291.54 1514.82 1293.99 1514.24 Q1296.45 1513.66 1298.48 1513.66 Q1303.85 1513.66 1307.05 1516.35 Q1310.24 1519.03 1310.24 1523.52 Q1310.24 1525.65 1309.43 1527.57 Q1308.65 1529.47 1306.54 1532.07 Q1305.96 1532.74 1302.86 1535.95 Q1299.76 1539.15 1294.11 1544.91 Z\" fill=\"#000000\" fill-rule=\"nonzero\" fill-opacity=\"1\" /><path clip-path=\"url(#clip720)\" d=\"M1825.92 1530.21 Q1829.27 1530.93 1831.15 1533.2 Q1833.04 1535.47 1833.04 1538.8 Q1833.04 1543.92 1829.53 1546.72 Q1826.01 1549.52 1819.53 1549.52 Q1817.35 1549.52 1815.04 1549.08 Q1812.74 1548.66 1810.29 1547.81 L1810.29 1543.29 Q1812.23 1544.43 1814.55 1545.01 Q1816.86 1545.58 1819.39 1545.58 Q1823.79 1545.58 1826.08 1543.85 Q1828.39 1542.11 1828.39 1538.8 Q1828.39 1535.75 1826.24 1534.03 Q1824.11 1532.3 1820.29 1532.3 L1816.26 1532.3 L1816.26 1528.45 L1820.48 1528.45 Q1823.92 1528.45 1825.75 1527.09 Q1827.58 1525.7 1827.58 1523.11 Q1827.58 1520.45 1825.68 1519.03 Q1823.81 1517.6 1820.29 1517.6 Q1818.37 1517.6 1816.17 1518.01 Q1813.97 1518.43 1811.33 1519.31 L1811.33 1515.14 Q1813.99 1514.4 1816.31 1514.03 Q1818.65 1513.66 1820.71 1513.66 Q1826.03 1513.66 1829.13 1516.09 Q1832.23 1518.5 1832.23 1522.62 Q1832.23 1525.49 1830.59 1527.48 Q1828.95 1529.45 1825.92 1530.21 Z\" fill=\"#000000\" fill-rule=\"nonzero\" fill-opacity=\"1\" /><path clip-path=\"url(#clip720)\" d=\"M2346.89 1518.36 L2335.08 1536.81 L2346.89 1536.81 L2346.89 1518.36 M2345.66 1514.29 L2351.54 1514.29 L2351.54 1536.81 L2356.47 1536.81 L2356.47 1540.7 L2351.54 1540.7 L2351.54 1548.85 L2346.89 1548.85 L2346.89 1540.7 L2331.29 1540.7 L2331.29 1536.19 L2345.66 1514.29 Z\" fill=\"#000000\" fill-rule=\"nonzero\" fill-opacity=\"1\" /><polyline clip-path=\"url(#clip722)\" style=\"stroke:#000000; stroke-linecap:round; stroke-linejoin:round; stroke-width:2; stroke-opacity:0.1; fill:none\" points=\"193.936,1446.02 2352.76,1446.02 \"/>\n",
       "<polyline clip-path=\"url(#clip722)\" style=\"stroke:#000000; stroke-linecap:round; stroke-linejoin:round; stroke-width:2; stroke-opacity:0.1; fill:none\" points=\"193.936,1106.51 2352.76,1106.51 \"/>\n",
       "<polyline clip-path=\"url(#clip722)\" style=\"stroke:#000000; stroke-linecap:round; stroke-linejoin:round; stroke-width:2; stroke-opacity:0.1; fill:none\" points=\"193.936,766.999 2352.76,766.999 \"/>\n",
       "<polyline clip-path=\"url(#clip722)\" style=\"stroke:#000000; stroke-linecap:round; stroke-linejoin:round; stroke-width:2; stroke-opacity:0.1; fill:none\" points=\"193.936,427.488 2352.76,427.488 \"/>\n",
       "<polyline clip-path=\"url(#clip722)\" style=\"stroke:#000000; stroke-linecap:round; stroke-linejoin:round; stroke-width:2; stroke-opacity:0.1; fill:none\" points=\"193.936,87.9763 2352.76,87.9763 \"/>\n",
       "<polyline clip-path=\"url(#clip720)\" style=\"stroke:#000000; stroke-linecap:round; stroke-linejoin:round; stroke-width:4; stroke-opacity:1; fill:none\" points=\"193.936,1486.45 193.936,47.2441 \"/>\n",
       "<polyline clip-path=\"url(#clip720)\" style=\"stroke:#000000; stroke-linecap:round; stroke-linejoin:round; stroke-width:4; stroke-opacity:1; fill:none\" points=\"193.936,1446.02 212.834,1446.02 \"/>\n",
       "<polyline clip-path=\"url(#clip720)\" style=\"stroke:#000000; stroke-linecap:round; stroke-linejoin:round; stroke-width:4; stroke-opacity:1; fill:none\" points=\"193.936,1106.51 212.834,1106.51 \"/>\n",
       "<polyline clip-path=\"url(#clip720)\" style=\"stroke:#000000; stroke-linecap:round; stroke-linejoin:round; stroke-width:4; stroke-opacity:1; fill:none\" points=\"193.936,766.999 212.834,766.999 \"/>\n",
       "<polyline clip-path=\"url(#clip720)\" style=\"stroke:#000000; stroke-linecap:round; stroke-linejoin:round; stroke-width:4; stroke-opacity:1; fill:none\" points=\"193.936,427.488 212.834,427.488 \"/>\n",
       "<polyline clip-path=\"url(#clip720)\" style=\"stroke:#000000; stroke-linecap:round; stroke-linejoin:round; stroke-width:4; stroke-opacity:1; fill:none\" points=\"193.936,87.9763 212.834,87.9763 \"/>\n",
       "<path clip-path=\"url(#clip720)\" d=\"M50.9921 1446.47 L80.6679 1446.47 L80.6679 1450.41 L50.9921 1450.41 L50.9921 1446.47 Z\" fill=\"#000000\" fill-rule=\"nonzero\" fill-opacity=\"1\" /><path clip-path=\"url(#clip720)\" d=\"M91.5706 1459.37 L99.2095 1459.37 L99.2095 1433 L90.8993 1434.67 L90.8993 1430.41 L99.1632 1428.74 L103.839 1428.74 L103.839 1459.37 L111.478 1459.37 L111.478 1463.3 L91.5706 1463.3 L91.5706 1459.37 Z\" fill=\"#000000\" fill-rule=\"nonzero\" fill-opacity=\"1\" /><path clip-path=\"url(#clip720)\" d=\"M120.922 1457.42 L125.807 1457.42 L125.807 1463.3 L120.922 1463.3 L120.922 1457.42 Z\" fill=\"#000000\" fill-rule=\"nonzero\" fill-opacity=\"1\" /><path clip-path=\"url(#clip720)\" d=\"M145.992 1431.82 Q142.381 1431.82 140.552 1435.39 Q138.746 1438.93 138.746 1446.06 Q138.746 1453.16 140.552 1456.73 Q142.381 1460.27 145.992 1460.27 Q149.626 1460.27 151.431 1456.73 Q153.26 1453.16 153.26 1446.06 Q153.26 1438.93 151.431 1435.39 Q149.626 1431.82 145.992 1431.82 M145.992 1428.12 Q151.802 1428.12 154.857 1432.72 Q157.936 1437.31 157.936 1446.06 Q157.936 1454.78 154.857 1459.39 Q151.802 1463.97 145.992 1463.97 Q140.181 1463.97 137.103 1459.39 Q134.047 1454.78 134.047 1446.06 Q134.047 1437.31 137.103 1432.72 Q140.181 1428.12 145.992 1428.12 Z\" fill=\"#000000\" fill-rule=\"nonzero\" fill-opacity=\"1\" /><path clip-path=\"url(#clip720)\" d=\"M51.9875 1106.96 L81.6633 1106.96 L81.6633 1110.9 L51.9875 1110.9 L51.9875 1106.96 Z\" fill=\"#000000\" fill-rule=\"nonzero\" fill-opacity=\"1\" /><path clip-path=\"url(#clip720)\" d=\"M101.756 1092.31 Q98.1447 1092.31 96.316 1095.87 Q94.5104 1099.42 94.5104 1106.55 Q94.5104 1113.65 96.316 1117.22 Q98.1447 1120.76 101.756 1120.76 Q105.39 1120.76 107.196 1117.22 Q109.024 1113.65 109.024 1106.55 Q109.024 1099.42 107.196 1095.87 Q105.39 1092.31 101.756 1092.31 M101.756 1088.61 Q107.566 1088.61 110.621 1093.21 Q113.7 1097.8 113.7 1106.55 Q113.7 1115.27 110.621 1119.88 Q107.566 1124.46 101.756 1124.46 Q95.9456 1124.46 92.8669 1119.88 Q89.8114 1115.27 89.8114 1106.55 Q89.8114 1097.8 92.8669 1093.21 Q95.9456 1088.61 101.756 1088.61 Z\" fill=\"#000000\" fill-rule=\"nonzero\" fill-opacity=\"1\" /><path clip-path=\"url(#clip720)\" d=\"M121.918 1117.91 L126.802 1117.91 L126.802 1123.79 L121.918 1123.79 L121.918 1117.91 Z\" fill=\"#000000\" fill-rule=\"nonzero\" fill-opacity=\"1\" /><path clip-path=\"url(#clip720)\" d=\"M137.033 1089.23 L155.39 1089.23 L155.39 1093.17 L141.316 1093.17 L141.316 1101.64 Q142.334 1101.29 143.353 1101.13 Q144.371 1100.94 145.39 1100.94 Q151.177 1100.94 154.556 1104.12 Q157.936 1107.29 157.936 1112.7 Q157.936 1118.28 154.464 1121.38 Q150.992 1124.46 144.672 1124.46 Q142.496 1124.46 140.228 1124.09 Q137.982 1123.72 135.575 1122.98 L135.575 1118.28 Q137.658 1119.42 139.881 1119.97 Q142.103 1120.53 144.58 1120.53 Q148.584 1120.53 150.922 1118.42 Q153.26 1116.31 153.26 1112.7 Q153.26 1109.09 150.922 1106.99 Q148.584 1104.88 144.58 1104.88 Q142.705 1104.88 140.83 1105.3 Q138.978 1105.71 137.033 1106.59 L137.033 1089.23 Z\" fill=\"#000000\" fill-rule=\"nonzero\" fill-opacity=\"1\" /><path clip-path=\"url(#clip720)\" d=\"M100.76 752.798 Q97.1493 752.798 95.3206 756.363 Q93.515 759.905 93.515 767.034 Q93.515 774.141 95.3206 777.705 Q97.1493 781.247 100.76 781.247 Q104.395 781.247 106.2 777.705 Q108.029 774.141 108.029 767.034 Q108.029 759.905 106.2 756.363 Q104.395 752.798 100.76 752.798 M100.76 749.094 Q106.571 749.094 109.626 753.701 Q112.705 758.284 112.705 767.034 Q112.705 775.761 109.626 780.367 Q106.571 784.951 100.76 784.951 Q94.9502 784.951 91.8715 780.367 Q88.816 775.761 88.816 767.034 Q88.816 758.284 91.8715 753.701 Q94.9502 749.094 100.76 749.094 Z\" fill=\"#000000\" fill-rule=\"nonzero\" fill-opacity=\"1\" /><path clip-path=\"url(#clip720)\" d=\"M120.922 778.4 L125.807 778.4 L125.807 784.279 L120.922 784.279 L120.922 778.4 Z\" fill=\"#000000\" fill-rule=\"nonzero\" fill-opacity=\"1\" /><path clip-path=\"url(#clip720)\" d=\"M145.992 752.798 Q142.381 752.798 140.552 756.363 Q138.746 759.905 138.746 767.034 Q138.746 774.141 140.552 777.705 Q142.381 781.247 145.992 781.247 Q149.626 781.247 151.431 777.705 Q153.26 774.141 153.26 767.034 Q153.26 759.905 151.431 756.363 Q149.626 752.798 145.992 752.798 M145.992 749.094 Q151.802 749.094 154.857 753.701 Q157.936 758.284 157.936 767.034 Q157.936 775.761 154.857 780.367 Q151.802 784.951 145.992 784.951 Q140.181 784.951 137.103 780.367 Q134.047 775.761 134.047 767.034 Q134.047 758.284 137.103 753.701 Q140.181 749.094 145.992 749.094 Z\" fill=\"#000000\" fill-rule=\"nonzero\" fill-opacity=\"1\" /><path clip-path=\"url(#clip720)\" d=\"M101.756 413.287 Q98.1447 413.287 96.316 416.851 Q94.5104 420.393 94.5104 427.523 Q94.5104 434.629 96.316 438.194 Q98.1447 441.735 101.756 441.735 Q105.39 441.735 107.196 438.194 Q109.024 434.629 109.024 427.523 Q109.024 420.393 107.196 416.851 Q105.39 413.287 101.756 413.287 M101.756 409.583 Q107.566 409.583 110.621 414.189 Q113.7 418.773 113.7 427.523 Q113.7 436.249 110.621 440.856 Q107.566 445.439 101.756 445.439 Q95.9456 445.439 92.8669 440.856 Q89.8114 436.249 89.8114 427.523 Q89.8114 418.773 92.8669 414.189 Q95.9456 409.583 101.756 409.583 Z\" fill=\"#000000\" fill-rule=\"nonzero\" fill-opacity=\"1\" /><path clip-path=\"url(#clip720)\" d=\"M121.918 438.888 L126.802 438.888 L126.802 444.768 L121.918 444.768 L121.918 438.888 Z\" fill=\"#000000\" fill-rule=\"nonzero\" fill-opacity=\"1\" /><path clip-path=\"url(#clip720)\" d=\"M137.033 410.208 L155.39 410.208 L155.39 414.143 L141.316 414.143 L141.316 422.615 Q142.334 422.268 143.353 422.106 Q144.371 421.921 145.39 421.921 Q151.177 421.921 154.556 425.092 Q157.936 428.263 157.936 433.68 Q157.936 439.259 154.464 442.36 Q150.992 445.439 144.672 445.439 Q142.496 445.439 140.228 445.069 Q137.982 444.698 135.575 443.958 L135.575 439.259 Q137.658 440.393 139.881 440.948 Q142.103 441.504 144.58 441.504 Q148.584 441.504 150.922 439.398 Q153.26 437.291 153.26 433.68 Q153.26 430.069 150.922 427.962 Q148.584 425.856 144.58 425.856 Q142.705 425.856 140.83 426.273 Q138.978 426.689 137.033 427.569 L137.033 410.208 Z\" fill=\"#000000\" fill-rule=\"nonzero\" fill-opacity=\"1\" /><path clip-path=\"url(#clip720)\" d=\"M91.5706 101.321 L99.2095 101.321 L99.2095 74.9555 L90.8993 76.6222 L90.8993 72.3629 L99.1632 70.6963 L103.839 70.6963 L103.839 101.321 L111.478 101.321 L111.478 105.256 L91.5706 105.256 L91.5706 101.321 Z\" fill=\"#000000\" fill-rule=\"nonzero\" fill-opacity=\"1\" /><path clip-path=\"url(#clip720)\" d=\"M120.922 99.3767 L125.807 99.3767 L125.807 105.256 L120.922 105.256 L120.922 99.3767 Z\" fill=\"#000000\" fill-rule=\"nonzero\" fill-opacity=\"1\" /><path clip-path=\"url(#clip720)\" d=\"M145.992 73.775 Q142.381 73.775 140.552 77.3398 Q138.746 80.8814 138.746 88.011 Q138.746 95.1174 140.552 98.6822 Q142.381 102.224 145.992 102.224 Q149.626 102.224 151.431 98.6822 Q153.26 95.1174 153.26 88.011 Q153.26 80.8814 151.431 77.3398 Q149.626 73.775 145.992 73.775 M145.992 70.0713 Q151.802 70.0713 154.857 74.6777 Q157.936 79.261 157.936 88.011 Q157.936 96.7378 154.857 101.344 Q151.802 105.928 145.992 105.928 Q140.181 105.928 137.103 101.344 Q134.047 96.7378 134.047 88.011 Q134.047 79.261 137.103 74.6777 Q140.181 70.0713 145.992 70.0713 Z\" fill=\"#000000\" fill-rule=\"nonzero\" fill-opacity=\"1\" /><polyline clip-path=\"url(#clip722)\" style=\"stroke:#009af9; stroke-linecap:round; stroke-linejoin:round; stroke-width:4; stroke-opacity:1; fill:none\" points=\"255.035,87.9763 307.256,91.3686 359.477,101.512 411.698,118.304 463.919,141.578 516.14,171.101 568.361,206.577 620.582,247.654 672.803,293.919 725.024,344.912 777.246,400.122 829.467,458.997 881.688,520.95 933.909,585.362 986.13,651.588 1038.35,718.967 1090.57,786.827 1142.79,854.488 1195.01,921.275 1247.24,986.521 1299.46,1049.57 1351.68,1109.8 1403.9,1166.61 1456.12,1219.42 1508.34,1267.71 1560.56,1310.99 1612.78,1348.85 1665,1380.89 1717.23,1406.79 1769.45,1426.3 1821.67,1439.23 1873.89,1445.44 1926.11,1444.86 1978.33,1437.52 2030.55,1423.48 2082.77,1402.88 2134.99,1375.92 2187.22,1342.88 2239.44,1304.08 2291.66,1259.92 \"/>\n",
       "<polyline clip-path=\"url(#clip722)\" style=\"stroke:#e26f46; stroke-linecap:round; stroke-linejoin:round; stroke-width:4; stroke-opacity:1; fill:none\" points=\"255.035,89.1074 307.256,95.8807 359.477,109.36 411.698,129.409 463.919,155.83 516.14,188.357 568.361,226.665 620.582,270.373 672.803,319.042 725.024,372.188 777.246,429.278 829.467,489.743 881.688,552.977 933.909,618.351 986.13,685.209 1038.35,752.885 1090.57,820.702 1142.79,887.982 1195.01,954.054 1247.24,1018.26 1299.46,1079.95 1351.68,1138.51 1403.9,1193.37 1456.12,1243.96 1508.34,1289.79 1560.56,1330.39 1612.78,1365.36 1665,1394.36 1717.23,1417.09 1769.45,1433.32 1821.67,1442.89 1873.89,1445.72 1926.11,1441.76 1978.33,1431.05 2030.55,1413.72 2082.77,1389.92 2134.99,1359.89 2187.22,1323.95 2239.44,1282.43 2291.66,1235.77 \"/>\n",
       "<path clip-path=\"url(#clip720)\" d=\"M1827.55 250.738 L2280.8 250.738 L2280.8 95.2176 L1827.55 95.2176  Z\" fill=\"#ffffff\" fill-rule=\"evenodd\" fill-opacity=\"1\"/>\n",
       "<polyline clip-path=\"url(#clip720)\" style=\"stroke:#000000; stroke-linecap:round; stroke-linejoin:round; stroke-width:4; stroke-opacity:1; fill:none\" points=\"1827.55,250.738 2280.8,250.738 2280.8,95.2176 1827.55,95.2176 1827.55,250.738 \"/>\n",
       "<polyline clip-path=\"url(#clip720)\" style=\"stroke:#009af9; stroke-linecap:round; stroke-linejoin:round; stroke-width:4; stroke-opacity:1; fill:none\" points=\"1851.54,147.058 1995.46,147.058 \"/>\n",
       "<path clip-path=\"url(#clip720)\" d=\"M2023.85 151.398 Q2023.85 156.097 2025.77 158.782 Q2027.71 161.444 2031.09 161.444 Q2034.47 161.444 2036.42 158.782 Q2038.36 156.097 2038.36 151.398 Q2038.36 146.699 2036.42 144.037 Q2034.47 141.352 2031.09 141.352 Q2027.71 141.352 2025.77 144.037 Q2023.85 146.699 2023.85 151.398 M2038.36 160.449 Q2037.02 162.763 2034.96 163.898 Q2032.92 165.009 2030.05 165.009 Q2025.35 165.009 2022.39 161.259 Q2019.45 157.509 2019.45 151.398 Q2019.45 145.287 2022.39 141.537 Q2025.35 137.787 2030.05 137.787 Q2032.92 137.787 2034.96 138.921 Q2037.02 140.032 2038.36 142.347 L2038.36 138.412 L2042.62 138.412 L2042.62 174.199 L2038.36 174.199 L2038.36 160.449 Z\" fill=\"#000000\" fill-rule=\"nonzero\" fill-opacity=\"1\" /><path clip-path=\"url(#clip720)\" d=\"M2055.42 129.778 L2055.42 142.625 L2051.49 142.625 L2051.49 129.778 L2055.42 129.778 Z\" fill=\"#000000\" fill-rule=\"nonzero\" fill-opacity=\"1\" /><path clip-path=\"url(#clip720)\" d=\"M2077.02 138.412 L2081.28 138.412 L2086.6 158.643 L2091.9 138.412 L2096.92 138.412 L2102.25 158.643 L2107.55 138.412 L2111.81 138.412 L2105.03 164.338 L2100 164.338 L2094.42 143.088 L2088.82 164.338 L2083.8 164.338 L2077.02 138.412 Z\" fill=\"#000000\" fill-rule=\"nonzero\" fill-opacity=\"1\" /><path clip-path=\"url(#clip720)\" d=\"M2118.27 138.412 L2122.53 138.412 L2122.53 164.338 L2118.27 164.338 L2118.27 138.412 M2118.27 128.319 L2122.53 128.319 L2122.53 133.713 L2118.27 133.713 L2118.27 128.319 Z\" fill=\"#000000\" fill-rule=\"nonzero\" fill-opacity=\"1\" /><path clip-path=\"url(#clip720)\" d=\"M2135.65 131.051 L2135.65 138.412 L2144.42 138.412 L2144.42 141.722 L2135.65 141.722 L2135.65 155.796 Q2135.65 158.967 2136.51 159.87 Q2137.39 160.773 2140.05 160.773 L2144.42 160.773 L2144.42 164.338 L2140.05 164.338 Q2135.12 164.338 2133.24 162.509 Q2131.37 160.657 2131.37 155.796 L2131.37 141.722 L2128.24 141.722 L2128.24 138.412 L2131.37 138.412 L2131.37 131.051 L2135.65 131.051 Z\" fill=\"#000000\" fill-rule=\"nonzero\" fill-opacity=\"1\" /><path clip-path=\"url(#clip720)\" d=\"M2171.58 148.689 L2171.58 164.338 L2167.32 164.338 L2167.32 148.828 Q2167.32 145.148 2165.88 143.319 Q2164.45 141.49 2161.58 141.49 Q2158.13 141.49 2156.14 143.69 Q2154.15 145.889 2154.15 149.685 L2154.15 164.338 L2149.86 164.338 L2149.86 128.319 L2154.15 128.319 L2154.15 142.44 Q2155.67 140.102 2157.73 138.944 Q2159.82 137.787 2162.53 137.787 Q2166.99 137.787 2169.29 140.565 Q2171.58 143.319 2171.58 148.689 Z\" fill=\"#000000\" fill-rule=\"nonzero\" fill-opacity=\"1\" /><path clip-path=\"url(#clip720)\" d=\"M2206.88 134.384 L2200.54 151.583 L2213.24 151.583 L2206.88 134.384 M2204.24 129.778 L2209.54 129.778 L2222.71 164.338 L2217.85 164.338 L2214.7 155.472 L2199.12 155.472 L2195.98 164.338 L2191.04 164.338 L2204.24 129.778 Z\" fill=\"#000000\" fill-rule=\"nonzero\" fill-opacity=\"1\" /><path clip-path=\"url(#clip720)\" d=\"M2232.43 133.62 L2232.43 160.495 L2238.08 160.495 Q2245.23 160.495 2248.54 157.254 Q2251.88 154.014 2251.88 147.023 Q2251.88 140.078 2248.54 136.861 Q2245.23 133.62 2238.08 133.62 L2232.43 133.62 M2227.76 129.778 L2237.36 129.778 Q2247.41 129.778 2252.11 133.967 Q2256.81 138.134 2256.81 147.023 Q2256.81 155.958 2252.09 160.148 Q2247.36 164.338 2237.36 164.338 L2227.76 164.338 L2227.76 129.778 Z\" fill=\"#000000\" fill-rule=\"nonzero\" fill-opacity=\"1\" /><polyline clip-path=\"url(#clip720)\" style=\"stroke:#e26f46; stroke-linecap:round; stroke-linejoin:round; stroke-width:4; stroke-opacity:1; fill:none\" points=\"1851.54,198.898 1995.46,198.898 \"/>\n",
       "<path clip-path=\"url(#clip720)\" d=\"M2023.85 203.238 Q2023.85 207.937 2025.77 210.622 Q2027.71 213.284 2031.09 213.284 Q2034.47 213.284 2036.42 210.622 Q2038.36 207.937 2038.36 203.238 Q2038.36 198.539 2036.42 195.877 Q2034.47 193.192 2031.09 193.192 Q2027.71 193.192 2025.77 195.877 Q2023.85 198.539 2023.85 203.238 M2038.36 212.289 Q2037.02 214.603 2034.96 215.738 Q2032.92 216.849 2030.05 216.849 Q2025.35 216.849 2022.39 213.099 Q2019.45 209.349 2019.45 203.238 Q2019.45 197.127 2022.39 193.377 Q2025.35 189.627 2030.05 189.627 Q2032.92 189.627 2034.96 190.761 Q2037.02 191.872 2038.36 194.187 L2038.36 190.252 L2042.62 190.252 L2042.62 226.039 L2038.36 226.039 L2038.36 212.289 Z\" fill=\"#000000\" fill-rule=\"nonzero\" fill-opacity=\"1\" /><path clip-path=\"url(#clip720)\" d=\"M2082.99 191.016 L2082.99 195.043 Q2081.18 194.117 2079.24 193.655 Q2077.3 193.192 2075.21 193.192 Q2072.04 193.192 2070.44 194.164 Q2068.87 195.136 2068.87 197.08 Q2068.87 198.562 2070 199.418 Q2071.14 200.252 2074.56 201.016 L2076.02 201.34 Q2080.56 202.312 2082.46 204.094 Q2084.38 205.854 2084.38 209.025 Q2084.38 212.636 2081.51 214.742 Q2078.66 216.849 2073.66 216.849 Q2071.58 216.849 2069.31 216.432 Q2067.06 216.039 2064.56 215.228 L2064.56 210.83 Q2066.93 212.057 2069.22 212.682 Q2071.51 213.284 2073.75 213.284 Q2076.76 213.284 2078.38 212.266 Q2080 211.224 2080 209.349 Q2080 207.613 2078.82 206.687 Q2077.67 205.761 2073.71 204.904 L2072.23 204.557 Q2068.27 203.724 2066.51 202.011 Q2064.75 200.275 2064.75 197.266 Q2064.75 193.608 2067.34 191.618 Q2069.93 189.627 2074.7 189.627 Q2077.06 189.627 2079.15 189.974 Q2081.23 190.321 2082.99 191.016 Z\" fill=\"#000000\" fill-rule=\"nonzero\" fill-opacity=\"1\" /><path clip-path=\"url(#clip720)\" d=\"M2091.16 180.159 L2095.42 180.159 L2095.42 216.178 L2091.16 216.178 L2091.16 180.159 Z\" fill=\"#000000\" fill-rule=\"nonzero\" fill-opacity=\"1\" /><path clip-path=\"url(#clip720)\" d=\"M2114.38 193.238 Q2110.95 193.238 2108.96 195.923 Q2106.97 198.585 2106.97 203.238 Q2106.97 207.891 2108.94 210.576 Q2110.93 213.238 2114.38 213.238 Q2117.78 213.238 2119.77 210.553 Q2121.76 207.867 2121.76 203.238 Q2121.76 198.631 2119.77 195.946 Q2117.78 193.238 2114.38 193.238 M2114.38 189.627 Q2119.93 189.627 2123.11 193.238 Q2126.28 196.849 2126.28 203.238 Q2126.28 209.604 2123.11 213.238 Q2119.93 216.849 2114.38 216.849 Q2108.8 216.849 2105.63 213.238 Q2102.48 209.604 2102.48 203.238 Q2102.48 196.849 2105.63 193.238 Q2108.8 189.627 2114.38 189.627 Z\" fill=\"#000000\" fill-rule=\"nonzero\" fill-opacity=\"1\" /><path clip-path=\"url(#clip720)\" d=\"M2137.46 212.289 L2137.46 226.039 L2133.17 226.039 L2133.17 190.252 L2137.46 190.252 L2137.46 194.187 Q2138.8 191.872 2140.84 190.761 Q2142.9 189.627 2145.74 189.627 Q2150.47 189.627 2153.41 193.377 Q2156.37 197.127 2156.37 203.238 Q2156.37 209.349 2153.41 213.099 Q2150.47 216.849 2145.74 216.849 Q2142.9 216.849 2140.84 215.738 Q2138.8 214.603 2137.46 212.289 M2151.95 203.238 Q2151.95 198.539 2150 195.877 Q2148.08 193.192 2144.7 193.192 Q2141.32 193.192 2139.38 195.877 Q2137.46 198.539 2137.46 203.238 Q2137.46 207.937 2139.38 210.622 Q2141.32 213.284 2144.7 213.284 Q2148.08 213.284 2150 210.622 Q2151.95 207.937 2151.95 203.238 Z\" fill=\"#000000\" fill-rule=\"nonzero\" fill-opacity=\"1\" /><path clip-path=\"url(#clip720)\" d=\"M2185.61 202.15 L2185.61 204.233 L2166.02 204.233 Q2166.3 208.631 2168.66 210.946 Q2171.04 213.238 2175.28 213.238 Q2177.73 213.238 2180.03 212.636 Q2182.34 212.034 2184.61 210.83 L2184.61 214.858 Q2182.32 215.83 2179.91 216.34 Q2177.5 216.849 2175.03 216.849 Q2168.82 216.849 2165.19 213.238 Q2161.58 209.627 2161.58 203.469 Q2161.58 197.104 2165 193.377 Q2168.45 189.627 2174.29 189.627 Q2179.52 189.627 2182.55 193.006 Q2185.61 196.363 2185.61 202.15 M2181.35 200.9 Q2181.3 197.405 2179.38 195.321 Q2177.48 193.238 2174.33 193.238 Q2170.77 193.238 2168.61 195.252 Q2166.48 197.266 2166.16 200.923 L2181.35 200.9 Z\" fill=\"#000000\" fill-rule=\"nonzero\" fill-opacity=\"1\" /><path clip-path=\"url(#clip720)\" d=\"M2209.12 191.016 L2209.12 195.043 Q2207.32 194.117 2205.37 193.655 Q2203.43 193.192 2201.35 193.192 Q2198.17 193.192 2196.58 194.164 Q2195 195.136 2195 197.08 Q2195 198.562 2196.14 199.418 Q2197.27 200.252 2200.7 201.016 L2202.16 201.34 Q2206.69 202.312 2208.59 204.094 Q2210.51 205.854 2210.51 209.025 Q2210.51 212.636 2207.64 214.742 Q2204.79 216.849 2199.79 216.849 Q2197.71 216.849 2195.44 216.432 Q2193.2 216.039 2190.7 215.228 L2190.7 210.83 Q2193.06 212.057 2195.35 212.682 Q2197.64 213.284 2199.89 213.284 Q2202.9 213.284 2204.52 212.266 Q2206.14 211.224 2206.14 209.349 Q2206.14 207.613 2204.96 206.687 Q2203.8 205.761 2199.84 204.904 L2198.36 204.557 Q2194.4 203.724 2192.64 202.011 Q2190.88 200.275 2190.88 197.266 Q2190.88 193.608 2193.48 191.618 Q2196.07 189.627 2200.84 189.627 Q2203.2 189.627 2205.28 189.974 Q2207.36 190.321 2209.12 191.016 Z\" fill=\"#000000\" fill-rule=\"nonzero\" fill-opacity=\"1\" /></svg>\n"
      ],
      "text/html": [
       "<?xml version=\"1.0\" encoding=\"utf-8\"?>\n",
       "<svg xmlns=\"http://www.w3.org/2000/svg\" xmlns:xlink=\"http://www.w3.org/1999/xlink\" width=\"600\" height=\"400\" viewBox=\"0 0 2400 1600\">\n",
       "<defs>\n",
       "  <clipPath id=\"clip770\">\n",
       "    <rect x=\"0\" y=\"0\" width=\"2400\" height=\"1600\"/>\n",
       "  </clipPath>\n",
       "</defs>\n",
       "<path clip-path=\"url(#clip770)\" d=\"M0 1600 L2400 1600 L2400 0 L0 0  Z\" fill=\"#ffffff\" fill-rule=\"evenodd\" fill-opacity=\"1\"/>\n",
       "<defs>\n",
       "  <clipPath id=\"clip771\">\n",
       "    <rect x=\"480\" y=\"0\" width=\"1681\" height=\"1600\"/>\n",
       "  </clipPath>\n",
       "</defs>\n",
       "<path clip-path=\"url(#clip770)\" d=\"M193.936 1486.45 L2352.76 1486.45 L2352.76 47.2441 L193.936 47.2441  Z\" fill=\"#ffffff\" fill-rule=\"evenodd\" fill-opacity=\"1\"/>\n",
       "<defs>\n",
       "  <clipPath id=\"clip772\">\n",
       "    <rect x=\"193\" y=\"47\" width=\"2160\" height=\"1440\"/>\n",
       "  </clipPath>\n",
       "</defs>\n",
       "<polyline clip-path=\"url(#clip772)\" style=\"stroke:#000000; stroke-linecap:round; stroke-linejoin:round; stroke-width:2; stroke-opacity:0.1; fill:none\" points=\"255.035,1486.45 255.035,47.2441 \"/>\n",
       "<polyline clip-path=\"url(#clip772)\" style=\"stroke:#000000; stroke-linecap:round; stroke-linejoin:round; stroke-width:2; stroke-opacity:0.1; fill:none\" points=\"777.246,1486.45 777.246,47.2441 \"/>\n",
       "<polyline clip-path=\"url(#clip772)\" style=\"stroke:#000000; stroke-linecap:round; stroke-linejoin:round; stroke-width:2; stroke-opacity:0.1; fill:none\" points=\"1299.46,1486.45 1299.46,47.2441 \"/>\n",
       "<polyline clip-path=\"url(#clip772)\" style=\"stroke:#000000; stroke-linecap:round; stroke-linejoin:round; stroke-width:2; stroke-opacity:0.1; fill:none\" points=\"1821.67,1486.45 1821.67,47.2441 \"/>\n",
       "<polyline clip-path=\"url(#clip772)\" style=\"stroke:#000000; stroke-linecap:round; stroke-linejoin:round; stroke-width:2; stroke-opacity:0.1; fill:none\" points=\"2343.88,1486.45 2343.88,47.2441 \"/>\n",
       "<polyline clip-path=\"url(#clip770)\" style=\"stroke:#000000; stroke-linecap:round; stroke-linejoin:round; stroke-width:4; stroke-opacity:1; fill:none\" points=\"193.936,1486.45 2352.76,1486.45 \"/>\n",
       "<polyline clip-path=\"url(#clip770)\" style=\"stroke:#000000; stroke-linecap:round; stroke-linejoin:round; stroke-width:4; stroke-opacity:1; fill:none\" points=\"255.035,1486.45 255.035,1467.55 \"/>\n",
       "<polyline clip-path=\"url(#clip770)\" style=\"stroke:#000000; stroke-linecap:round; stroke-linejoin:round; stroke-width:4; stroke-opacity:1; fill:none\" points=\"777.246,1486.45 777.246,1467.55 \"/>\n",
       "<polyline clip-path=\"url(#clip770)\" style=\"stroke:#000000; stroke-linecap:round; stroke-linejoin:round; stroke-width:4; stroke-opacity:1; fill:none\" points=\"1299.46,1486.45 1299.46,1467.55 \"/>\n",
       "<polyline clip-path=\"url(#clip770)\" style=\"stroke:#000000; stroke-linecap:round; stroke-linejoin:round; stroke-width:4; stroke-opacity:1; fill:none\" points=\"1821.67,1486.45 1821.67,1467.55 \"/>\n",
       "<polyline clip-path=\"url(#clip770)\" style=\"stroke:#000000; stroke-linecap:round; stroke-linejoin:round; stroke-width:4; stroke-opacity:1; fill:none\" points=\"2343.88,1486.45 2343.88,1467.55 \"/>\n",
       "<path clip-path=\"url(#clip770)\" d=\"M255.035 1517.37 Q251.424 1517.37 249.595 1520.93 Q247.789 1524.47 247.789 1531.6 Q247.789 1538.71 249.595 1542.27 Q251.424 1545.82 255.035 1545.82 Q258.669 1545.82 260.474 1542.27 Q262.303 1538.71 262.303 1531.6 Q262.303 1524.47 260.474 1520.93 Q258.669 1517.37 255.035 1517.37 M255.035 1513.66 Q260.845 1513.66 263.9 1518.27 Q266.979 1522.85 266.979 1531.6 Q266.979 1540.33 263.9 1544.94 Q260.845 1549.52 255.035 1549.52 Q249.225 1549.52 246.146 1544.94 Q243.09 1540.33 243.09 1531.6 Q243.09 1522.85 246.146 1518.27 Q249.225 1513.66 255.035 1513.66 Z\" fill=\"#000000\" fill-rule=\"nonzero\" fill-opacity=\"1\" /><path clip-path=\"url(#clip770)\" d=\"M767.628 1544.91 L775.266 1544.91 L775.266 1518.55 L766.956 1520.21 L766.956 1515.95 L775.22 1514.29 L779.896 1514.29 L779.896 1544.91 L787.535 1544.91 L787.535 1548.85 L767.628 1548.85 L767.628 1544.91 Z\" fill=\"#000000\" fill-rule=\"nonzero\" fill-opacity=\"1\" /><path clip-path=\"url(#clip770)\" d=\"M1294.11 1544.91 L1310.43 1544.91 L1310.43 1548.85 L1288.48 1548.85 L1288.48 1544.91 Q1291.15 1542.16 1295.73 1537.53 Q1300.34 1532.88 1301.52 1531.53 Q1303.76 1529.01 1304.64 1527.27 Q1305.54 1525.51 1305.54 1523.82 Q1305.54 1521.07 1303.6 1519.33 Q1301.68 1517.6 1298.58 1517.6 Q1296.38 1517.6 1293.92 1518.36 Q1291.49 1519.13 1288.72 1520.68 L1288.72 1515.95 Q1291.54 1514.82 1293.99 1514.24 Q1296.45 1513.66 1298.48 1513.66 Q1303.85 1513.66 1307.05 1516.35 Q1310.24 1519.03 1310.24 1523.52 Q1310.24 1525.65 1309.43 1527.57 Q1308.65 1529.47 1306.54 1532.07 Q1305.96 1532.74 1302.86 1535.95 Q1299.76 1539.15 1294.11 1544.91 Z\" fill=\"#000000\" fill-rule=\"nonzero\" fill-opacity=\"1\" /><path clip-path=\"url(#clip770)\" d=\"M1825.92 1530.21 Q1829.27 1530.93 1831.15 1533.2 Q1833.04 1535.47 1833.04 1538.8 Q1833.04 1543.92 1829.53 1546.72 Q1826.01 1549.52 1819.53 1549.52 Q1817.35 1549.52 1815.04 1549.08 Q1812.74 1548.66 1810.29 1547.81 L1810.29 1543.29 Q1812.23 1544.43 1814.55 1545.01 Q1816.86 1545.58 1819.39 1545.58 Q1823.79 1545.58 1826.08 1543.85 Q1828.39 1542.11 1828.39 1538.8 Q1828.39 1535.75 1826.24 1534.03 Q1824.11 1532.3 1820.29 1532.3 L1816.26 1532.3 L1816.26 1528.45 L1820.48 1528.45 Q1823.92 1528.45 1825.75 1527.09 Q1827.58 1525.7 1827.58 1523.11 Q1827.58 1520.45 1825.68 1519.03 Q1823.81 1517.6 1820.29 1517.6 Q1818.37 1517.6 1816.17 1518.01 Q1813.97 1518.43 1811.33 1519.31 L1811.33 1515.14 Q1813.99 1514.4 1816.31 1514.03 Q1818.65 1513.66 1820.71 1513.66 Q1826.03 1513.66 1829.13 1516.09 Q1832.23 1518.5 1832.23 1522.62 Q1832.23 1525.49 1830.59 1527.48 Q1828.95 1529.45 1825.92 1530.21 Z\" fill=\"#000000\" fill-rule=\"nonzero\" fill-opacity=\"1\" /><path clip-path=\"url(#clip770)\" d=\"M2346.89 1518.36 L2335.08 1536.81 L2346.89 1536.81 L2346.89 1518.36 M2345.66 1514.29 L2351.54 1514.29 L2351.54 1536.81 L2356.47 1536.81 L2356.47 1540.7 L2351.54 1540.7 L2351.54 1548.85 L2346.89 1548.85 L2346.89 1540.7 L2331.29 1540.7 L2331.29 1536.19 L2345.66 1514.29 Z\" fill=\"#000000\" fill-rule=\"nonzero\" fill-opacity=\"1\" /><polyline clip-path=\"url(#clip772)\" style=\"stroke:#000000; stroke-linecap:round; stroke-linejoin:round; stroke-width:2; stroke-opacity:0.1; fill:none\" points=\"193.936,1446.02 2352.76,1446.02 \"/>\n",
       "<polyline clip-path=\"url(#clip772)\" style=\"stroke:#000000; stroke-linecap:round; stroke-linejoin:round; stroke-width:2; stroke-opacity:0.1; fill:none\" points=\"193.936,1106.51 2352.76,1106.51 \"/>\n",
       "<polyline clip-path=\"url(#clip772)\" style=\"stroke:#000000; stroke-linecap:round; stroke-linejoin:round; stroke-width:2; stroke-opacity:0.1; fill:none\" points=\"193.936,766.999 2352.76,766.999 \"/>\n",
       "<polyline clip-path=\"url(#clip772)\" style=\"stroke:#000000; stroke-linecap:round; stroke-linejoin:round; stroke-width:2; stroke-opacity:0.1; fill:none\" points=\"193.936,427.488 2352.76,427.488 \"/>\n",
       "<polyline clip-path=\"url(#clip772)\" style=\"stroke:#000000; stroke-linecap:round; stroke-linejoin:round; stroke-width:2; stroke-opacity:0.1; fill:none\" points=\"193.936,87.9763 2352.76,87.9763 \"/>\n",
       "<polyline clip-path=\"url(#clip770)\" style=\"stroke:#000000; stroke-linecap:round; stroke-linejoin:round; stroke-width:4; stroke-opacity:1; fill:none\" points=\"193.936,1486.45 193.936,47.2441 \"/>\n",
       "<polyline clip-path=\"url(#clip770)\" style=\"stroke:#000000; stroke-linecap:round; stroke-linejoin:round; stroke-width:4; stroke-opacity:1; fill:none\" points=\"193.936,1446.02 212.834,1446.02 \"/>\n",
       "<polyline clip-path=\"url(#clip770)\" style=\"stroke:#000000; stroke-linecap:round; stroke-linejoin:round; stroke-width:4; stroke-opacity:1; fill:none\" points=\"193.936,1106.51 212.834,1106.51 \"/>\n",
       "<polyline clip-path=\"url(#clip770)\" style=\"stroke:#000000; stroke-linecap:round; stroke-linejoin:round; stroke-width:4; stroke-opacity:1; fill:none\" points=\"193.936,766.999 212.834,766.999 \"/>\n",
       "<polyline clip-path=\"url(#clip770)\" style=\"stroke:#000000; stroke-linecap:round; stroke-linejoin:round; stroke-width:4; stroke-opacity:1; fill:none\" points=\"193.936,427.488 212.834,427.488 \"/>\n",
       "<polyline clip-path=\"url(#clip770)\" style=\"stroke:#000000; stroke-linecap:round; stroke-linejoin:round; stroke-width:4; stroke-opacity:1; fill:none\" points=\"193.936,87.9763 212.834,87.9763 \"/>\n",
       "<path clip-path=\"url(#clip770)\" d=\"M50.9921 1446.47 L80.6679 1446.47 L80.6679 1450.41 L50.9921 1450.41 L50.9921 1446.47 Z\" fill=\"#000000\" fill-rule=\"nonzero\" fill-opacity=\"1\" /><path clip-path=\"url(#clip770)\" d=\"M91.5706 1459.37 L99.2095 1459.37 L99.2095 1433 L90.8993 1434.67 L90.8993 1430.41 L99.1632 1428.74 L103.839 1428.74 L103.839 1459.37 L111.478 1459.37 L111.478 1463.3 L91.5706 1463.3 L91.5706 1459.37 Z\" fill=\"#000000\" fill-rule=\"nonzero\" fill-opacity=\"1\" /><path clip-path=\"url(#clip770)\" d=\"M120.922 1457.42 L125.807 1457.42 L125.807 1463.3 L120.922 1463.3 L120.922 1457.42 Z\" fill=\"#000000\" fill-rule=\"nonzero\" fill-opacity=\"1\" /><path clip-path=\"url(#clip770)\" d=\"M145.992 1431.82 Q142.381 1431.82 140.552 1435.39 Q138.746 1438.93 138.746 1446.06 Q138.746 1453.16 140.552 1456.73 Q142.381 1460.27 145.992 1460.27 Q149.626 1460.27 151.431 1456.73 Q153.26 1453.16 153.26 1446.06 Q153.26 1438.93 151.431 1435.39 Q149.626 1431.82 145.992 1431.82 M145.992 1428.12 Q151.802 1428.12 154.857 1432.72 Q157.936 1437.31 157.936 1446.06 Q157.936 1454.78 154.857 1459.39 Q151.802 1463.97 145.992 1463.97 Q140.181 1463.97 137.103 1459.39 Q134.047 1454.78 134.047 1446.06 Q134.047 1437.31 137.103 1432.72 Q140.181 1428.12 145.992 1428.12 Z\" fill=\"#000000\" fill-rule=\"nonzero\" fill-opacity=\"1\" /><path clip-path=\"url(#clip770)\" d=\"M51.9875 1106.96 L81.6633 1106.96 L81.6633 1110.9 L51.9875 1110.9 L51.9875 1106.96 Z\" fill=\"#000000\" fill-rule=\"nonzero\" fill-opacity=\"1\" /><path clip-path=\"url(#clip770)\" d=\"M101.756 1092.31 Q98.1447 1092.31 96.316 1095.87 Q94.5104 1099.42 94.5104 1106.55 Q94.5104 1113.65 96.316 1117.22 Q98.1447 1120.76 101.756 1120.76 Q105.39 1120.76 107.196 1117.22 Q109.024 1113.65 109.024 1106.55 Q109.024 1099.42 107.196 1095.87 Q105.39 1092.31 101.756 1092.31 M101.756 1088.61 Q107.566 1088.61 110.621 1093.21 Q113.7 1097.8 113.7 1106.55 Q113.7 1115.27 110.621 1119.88 Q107.566 1124.46 101.756 1124.46 Q95.9456 1124.46 92.8669 1119.88 Q89.8114 1115.27 89.8114 1106.55 Q89.8114 1097.8 92.8669 1093.21 Q95.9456 1088.61 101.756 1088.61 Z\" fill=\"#000000\" fill-rule=\"nonzero\" fill-opacity=\"1\" /><path clip-path=\"url(#clip770)\" d=\"M121.918 1117.91 L126.802 1117.91 L126.802 1123.79 L121.918 1123.79 L121.918 1117.91 Z\" fill=\"#000000\" fill-rule=\"nonzero\" fill-opacity=\"1\" /><path clip-path=\"url(#clip770)\" d=\"M137.033 1089.23 L155.39 1089.23 L155.39 1093.17 L141.316 1093.17 L141.316 1101.64 Q142.334 1101.29 143.353 1101.13 Q144.371 1100.94 145.39 1100.94 Q151.177 1100.94 154.556 1104.12 Q157.936 1107.29 157.936 1112.7 Q157.936 1118.28 154.464 1121.38 Q150.992 1124.46 144.672 1124.46 Q142.496 1124.46 140.228 1124.09 Q137.982 1123.72 135.575 1122.98 L135.575 1118.28 Q137.658 1119.42 139.881 1119.97 Q142.103 1120.53 144.58 1120.53 Q148.584 1120.53 150.922 1118.42 Q153.26 1116.31 153.26 1112.7 Q153.26 1109.09 150.922 1106.99 Q148.584 1104.88 144.58 1104.88 Q142.705 1104.88 140.83 1105.3 Q138.978 1105.71 137.033 1106.59 L137.033 1089.23 Z\" fill=\"#000000\" fill-rule=\"nonzero\" fill-opacity=\"1\" /><path clip-path=\"url(#clip770)\" d=\"M100.76 752.798 Q97.1493 752.798 95.3206 756.363 Q93.515 759.905 93.515 767.034 Q93.515 774.141 95.3206 777.705 Q97.1493 781.247 100.76 781.247 Q104.395 781.247 106.2 777.705 Q108.029 774.141 108.029 767.034 Q108.029 759.905 106.2 756.363 Q104.395 752.798 100.76 752.798 M100.76 749.094 Q106.571 749.094 109.626 753.701 Q112.705 758.284 112.705 767.034 Q112.705 775.761 109.626 780.367 Q106.571 784.951 100.76 784.951 Q94.9502 784.951 91.8715 780.367 Q88.816 775.761 88.816 767.034 Q88.816 758.284 91.8715 753.701 Q94.9502 749.094 100.76 749.094 Z\" fill=\"#000000\" fill-rule=\"nonzero\" fill-opacity=\"1\" /><path clip-path=\"url(#clip770)\" d=\"M120.922 778.4 L125.807 778.4 L125.807 784.279 L120.922 784.279 L120.922 778.4 Z\" fill=\"#000000\" fill-rule=\"nonzero\" fill-opacity=\"1\" /><path clip-path=\"url(#clip770)\" d=\"M145.992 752.798 Q142.381 752.798 140.552 756.363 Q138.746 759.905 138.746 767.034 Q138.746 774.141 140.552 777.705 Q142.381 781.247 145.992 781.247 Q149.626 781.247 151.431 777.705 Q153.26 774.141 153.26 767.034 Q153.26 759.905 151.431 756.363 Q149.626 752.798 145.992 752.798 M145.992 749.094 Q151.802 749.094 154.857 753.701 Q157.936 758.284 157.936 767.034 Q157.936 775.761 154.857 780.367 Q151.802 784.951 145.992 784.951 Q140.181 784.951 137.103 780.367 Q134.047 775.761 134.047 767.034 Q134.047 758.284 137.103 753.701 Q140.181 749.094 145.992 749.094 Z\" fill=\"#000000\" fill-rule=\"nonzero\" fill-opacity=\"1\" /><path clip-path=\"url(#clip770)\" d=\"M101.756 413.287 Q98.1447 413.287 96.316 416.851 Q94.5104 420.393 94.5104 427.523 Q94.5104 434.629 96.316 438.194 Q98.1447 441.735 101.756 441.735 Q105.39 441.735 107.196 438.194 Q109.024 434.629 109.024 427.523 Q109.024 420.393 107.196 416.851 Q105.39 413.287 101.756 413.287 M101.756 409.583 Q107.566 409.583 110.621 414.189 Q113.7 418.773 113.7 427.523 Q113.7 436.249 110.621 440.856 Q107.566 445.439 101.756 445.439 Q95.9456 445.439 92.8669 440.856 Q89.8114 436.249 89.8114 427.523 Q89.8114 418.773 92.8669 414.189 Q95.9456 409.583 101.756 409.583 Z\" fill=\"#000000\" fill-rule=\"nonzero\" fill-opacity=\"1\" /><path clip-path=\"url(#clip770)\" d=\"M121.918 438.888 L126.802 438.888 L126.802 444.768 L121.918 444.768 L121.918 438.888 Z\" fill=\"#000000\" fill-rule=\"nonzero\" fill-opacity=\"1\" /><path clip-path=\"url(#clip770)\" d=\"M137.033 410.208 L155.39 410.208 L155.39 414.143 L141.316 414.143 L141.316 422.615 Q142.334 422.268 143.353 422.106 Q144.371 421.921 145.39 421.921 Q151.177 421.921 154.556 425.092 Q157.936 428.263 157.936 433.68 Q157.936 439.259 154.464 442.36 Q150.992 445.439 144.672 445.439 Q142.496 445.439 140.228 445.069 Q137.982 444.698 135.575 443.958 L135.575 439.259 Q137.658 440.393 139.881 440.948 Q142.103 441.504 144.58 441.504 Q148.584 441.504 150.922 439.398 Q153.26 437.291 153.26 433.68 Q153.26 430.069 150.922 427.962 Q148.584 425.856 144.58 425.856 Q142.705 425.856 140.83 426.273 Q138.978 426.689 137.033 427.569 L137.033 410.208 Z\" fill=\"#000000\" fill-rule=\"nonzero\" fill-opacity=\"1\" /><path clip-path=\"url(#clip770)\" d=\"M91.5706 101.321 L99.2095 101.321 L99.2095 74.9555 L90.8993 76.6222 L90.8993 72.3629 L99.1632 70.6963 L103.839 70.6963 L103.839 101.321 L111.478 101.321 L111.478 105.256 L91.5706 105.256 L91.5706 101.321 Z\" fill=\"#000000\" fill-rule=\"nonzero\" fill-opacity=\"1\" /><path clip-path=\"url(#clip770)\" d=\"M120.922 99.3767 L125.807 99.3767 L125.807 105.256 L120.922 105.256 L120.922 99.3767 Z\" fill=\"#000000\" fill-rule=\"nonzero\" fill-opacity=\"1\" /><path clip-path=\"url(#clip770)\" d=\"M145.992 73.775 Q142.381 73.775 140.552 77.3398 Q138.746 80.8814 138.746 88.011 Q138.746 95.1174 140.552 98.6822 Q142.381 102.224 145.992 102.224 Q149.626 102.224 151.431 98.6822 Q153.26 95.1174 153.26 88.011 Q153.26 80.8814 151.431 77.3398 Q149.626 73.775 145.992 73.775 M145.992 70.0713 Q151.802 70.0713 154.857 74.6777 Q157.936 79.261 157.936 88.011 Q157.936 96.7378 154.857 101.344 Q151.802 105.928 145.992 105.928 Q140.181 105.928 137.103 101.344 Q134.047 96.7378 134.047 88.011 Q134.047 79.261 137.103 74.6777 Q140.181 70.0713 145.992 70.0713 Z\" fill=\"#000000\" fill-rule=\"nonzero\" fill-opacity=\"1\" /><polyline clip-path=\"url(#clip772)\" style=\"stroke:#009af9; stroke-linecap:round; stroke-linejoin:round; stroke-width:4; stroke-opacity:1; fill:none\" points=\"255.035,87.9763 307.256,91.3686 359.477,101.512 411.698,118.304 463.919,141.578 516.14,171.101 568.361,206.577 620.582,247.654 672.803,293.919 725.024,344.912 777.246,400.122 829.467,458.997 881.688,520.95 933.909,585.362 986.13,651.588 1038.35,718.967 1090.57,786.827 1142.79,854.488 1195.01,921.275 1247.24,986.521 1299.46,1049.57 1351.68,1109.8 1403.9,1166.61 1456.12,1219.42 1508.34,1267.71 1560.56,1310.99 1612.78,1348.85 1665,1380.89 1717.23,1406.79 1769.45,1426.3 1821.67,1439.23 1873.89,1445.44 1926.11,1444.86 1978.33,1437.52 2030.55,1423.48 2082.77,1402.88 2134.99,1375.92 2187.22,1342.88 2239.44,1304.08 2291.66,1259.92 \"/>\n",
       "<polyline clip-path=\"url(#clip772)\" style=\"stroke:#e26f46; stroke-linecap:round; stroke-linejoin:round; stroke-width:4; stroke-opacity:1; fill:none\" points=\"255.035,89.1074 307.256,95.8807 359.477,109.36 411.698,129.409 463.919,155.83 516.14,188.357 568.361,226.665 620.582,270.373 672.803,319.042 725.024,372.188 777.246,429.278 829.467,489.743 881.688,552.977 933.909,618.351 986.13,685.209 1038.35,752.885 1090.57,820.702 1142.79,887.982 1195.01,954.054 1247.24,1018.26 1299.46,1079.95 1351.68,1138.51 1403.9,1193.37 1456.12,1243.96 1508.34,1289.79 1560.56,1330.39 1612.78,1365.36 1665,1394.36 1717.23,1417.09 1769.45,1433.32 1821.67,1442.89 1873.89,1445.72 1926.11,1441.76 1978.33,1431.05 2030.55,1413.72 2082.77,1389.92 2134.99,1359.89 2187.22,1323.95 2239.44,1282.43 2291.66,1235.77 \"/>\n",
       "<path clip-path=\"url(#clip770)\" d=\"M1827.55 250.738 L2280.8 250.738 L2280.8 95.2176 L1827.55 95.2176  Z\" fill=\"#ffffff\" fill-rule=\"evenodd\" fill-opacity=\"1\"/>\n",
       "<polyline clip-path=\"url(#clip770)\" style=\"stroke:#000000; stroke-linecap:round; stroke-linejoin:round; stroke-width:4; stroke-opacity:1; fill:none\" points=\"1827.55,250.738 2280.8,250.738 2280.8,95.2176 1827.55,95.2176 1827.55,250.738 \"/>\n",
       "<polyline clip-path=\"url(#clip770)\" style=\"stroke:#009af9; stroke-linecap:round; stroke-linejoin:round; stroke-width:4; stroke-opacity:1; fill:none\" points=\"1851.54,147.058 1995.46,147.058 \"/>\n",
       "<path clip-path=\"url(#clip770)\" d=\"M2023.85 151.398 Q2023.85 156.097 2025.77 158.782 Q2027.71 161.444 2031.09 161.444 Q2034.47 161.444 2036.42 158.782 Q2038.36 156.097 2038.36 151.398 Q2038.36 146.699 2036.42 144.037 Q2034.47 141.352 2031.09 141.352 Q2027.71 141.352 2025.77 144.037 Q2023.85 146.699 2023.85 151.398 M2038.36 160.449 Q2037.02 162.763 2034.96 163.898 Q2032.92 165.009 2030.05 165.009 Q2025.35 165.009 2022.39 161.259 Q2019.45 157.509 2019.45 151.398 Q2019.45 145.287 2022.39 141.537 Q2025.35 137.787 2030.05 137.787 Q2032.92 137.787 2034.96 138.921 Q2037.02 140.032 2038.36 142.347 L2038.36 138.412 L2042.62 138.412 L2042.62 174.199 L2038.36 174.199 L2038.36 160.449 Z\" fill=\"#000000\" fill-rule=\"nonzero\" fill-opacity=\"1\" /><path clip-path=\"url(#clip770)\" d=\"M2055.42 129.778 L2055.42 142.625 L2051.49 142.625 L2051.49 129.778 L2055.42 129.778 Z\" fill=\"#000000\" fill-rule=\"nonzero\" fill-opacity=\"1\" /><path clip-path=\"url(#clip770)\" d=\"M2077.02 138.412 L2081.28 138.412 L2086.6 158.643 L2091.9 138.412 L2096.92 138.412 L2102.25 158.643 L2107.55 138.412 L2111.81 138.412 L2105.03 164.338 L2100 164.338 L2094.42 143.088 L2088.82 164.338 L2083.8 164.338 L2077.02 138.412 Z\" fill=\"#000000\" fill-rule=\"nonzero\" fill-opacity=\"1\" /><path clip-path=\"url(#clip770)\" d=\"M2118.27 138.412 L2122.53 138.412 L2122.53 164.338 L2118.27 164.338 L2118.27 138.412 M2118.27 128.319 L2122.53 128.319 L2122.53 133.713 L2118.27 133.713 L2118.27 128.319 Z\" fill=\"#000000\" fill-rule=\"nonzero\" fill-opacity=\"1\" /><path clip-path=\"url(#clip770)\" d=\"M2135.65 131.051 L2135.65 138.412 L2144.42 138.412 L2144.42 141.722 L2135.65 141.722 L2135.65 155.796 Q2135.65 158.967 2136.51 159.87 Q2137.39 160.773 2140.05 160.773 L2144.42 160.773 L2144.42 164.338 L2140.05 164.338 Q2135.12 164.338 2133.24 162.509 Q2131.37 160.657 2131.37 155.796 L2131.37 141.722 L2128.24 141.722 L2128.24 138.412 L2131.37 138.412 L2131.37 131.051 L2135.65 131.051 Z\" fill=\"#000000\" fill-rule=\"nonzero\" fill-opacity=\"1\" /><path clip-path=\"url(#clip770)\" d=\"M2171.58 148.689 L2171.58 164.338 L2167.32 164.338 L2167.32 148.828 Q2167.32 145.148 2165.88 143.319 Q2164.45 141.49 2161.58 141.49 Q2158.13 141.49 2156.14 143.69 Q2154.15 145.889 2154.15 149.685 L2154.15 164.338 L2149.86 164.338 L2149.86 128.319 L2154.15 128.319 L2154.15 142.44 Q2155.67 140.102 2157.73 138.944 Q2159.82 137.787 2162.53 137.787 Q2166.99 137.787 2169.29 140.565 Q2171.58 143.319 2171.58 148.689 Z\" fill=\"#000000\" fill-rule=\"nonzero\" fill-opacity=\"1\" /><path clip-path=\"url(#clip770)\" d=\"M2206.88 134.384 L2200.54 151.583 L2213.24 151.583 L2206.88 134.384 M2204.24 129.778 L2209.54 129.778 L2222.71 164.338 L2217.85 164.338 L2214.7 155.472 L2199.12 155.472 L2195.98 164.338 L2191.04 164.338 L2204.24 129.778 Z\" fill=\"#000000\" fill-rule=\"nonzero\" fill-opacity=\"1\" /><path clip-path=\"url(#clip770)\" d=\"M2232.43 133.62 L2232.43 160.495 L2238.08 160.495 Q2245.23 160.495 2248.54 157.254 Q2251.88 154.014 2251.88 147.023 Q2251.88 140.078 2248.54 136.861 Q2245.23 133.62 2238.08 133.62 L2232.43 133.62 M2227.76 129.778 L2237.36 129.778 Q2247.41 129.778 2252.11 133.967 Q2256.81 138.134 2256.81 147.023 Q2256.81 155.958 2252.09 160.148 Q2247.36 164.338 2237.36 164.338 L2227.76 164.338 L2227.76 129.778 Z\" fill=\"#000000\" fill-rule=\"nonzero\" fill-opacity=\"1\" /><polyline clip-path=\"url(#clip770)\" style=\"stroke:#e26f46; stroke-linecap:round; stroke-linejoin:round; stroke-width:4; stroke-opacity:1; fill:none\" points=\"1851.54,198.898 1995.46,198.898 \"/>\n",
       "<path clip-path=\"url(#clip770)\" d=\"M2023.85 203.238 Q2023.85 207.937 2025.77 210.622 Q2027.71 213.284 2031.09 213.284 Q2034.47 213.284 2036.42 210.622 Q2038.36 207.937 2038.36 203.238 Q2038.36 198.539 2036.42 195.877 Q2034.47 193.192 2031.09 193.192 Q2027.71 193.192 2025.77 195.877 Q2023.85 198.539 2023.85 203.238 M2038.36 212.289 Q2037.02 214.603 2034.96 215.738 Q2032.92 216.849 2030.05 216.849 Q2025.35 216.849 2022.39 213.099 Q2019.45 209.349 2019.45 203.238 Q2019.45 197.127 2022.39 193.377 Q2025.35 189.627 2030.05 189.627 Q2032.92 189.627 2034.96 190.761 Q2037.02 191.872 2038.36 194.187 L2038.36 190.252 L2042.62 190.252 L2042.62 226.039 L2038.36 226.039 L2038.36 212.289 Z\" fill=\"#000000\" fill-rule=\"nonzero\" fill-opacity=\"1\" /><path clip-path=\"url(#clip770)\" d=\"M2082.99 191.016 L2082.99 195.043 Q2081.18 194.117 2079.24 193.655 Q2077.3 193.192 2075.21 193.192 Q2072.04 193.192 2070.44 194.164 Q2068.87 195.136 2068.87 197.08 Q2068.87 198.562 2070 199.418 Q2071.14 200.252 2074.56 201.016 L2076.02 201.34 Q2080.56 202.312 2082.46 204.094 Q2084.38 205.854 2084.38 209.025 Q2084.38 212.636 2081.51 214.742 Q2078.66 216.849 2073.66 216.849 Q2071.58 216.849 2069.31 216.432 Q2067.06 216.039 2064.56 215.228 L2064.56 210.83 Q2066.93 212.057 2069.22 212.682 Q2071.51 213.284 2073.75 213.284 Q2076.76 213.284 2078.38 212.266 Q2080 211.224 2080 209.349 Q2080 207.613 2078.82 206.687 Q2077.67 205.761 2073.71 204.904 L2072.23 204.557 Q2068.27 203.724 2066.51 202.011 Q2064.75 200.275 2064.75 197.266 Q2064.75 193.608 2067.34 191.618 Q2069.93 189.627 2074.7 189.627 Q2077.06 189.627 2079.15 189.974 Q2081.23 190.321 2082.99 191.016 Z\" fill=\"#000000\" fill-rule=\"nonzero\" fill-opacity=\"1\" /><path clip-path=\"url(#clip770)\" d=\"M2091.16 180.159 L2095.42 180.159 L2095.42 216.178 L2091.16 216.178 L2091.16 180.159 Z\" fill=\"#000000\" fill-rule=\"nonzero\" fill-opacity=\"1\" /><path clip-path=\"url(#clip770)\" d=\"M2114.38 193.238 Q2110.95 193.238 2108.96 195.923 Q2106.97 198.585 2106.97 203.238 Q2106.97 207.891 2108.94 210.576 Q2110.93 213.238 2114.38 213.238 Q2117.78 213.238 2119.77 210.553 Q2121.76 207.867 2121.76 203.238 Q2121.76 198.631 2119.77 195.946 Q2117.78 193.238 2114.38 193.238 M2114.38 189.627 Q2119.93 189.627 2123.11 193.238 Q2126.28 196.849 2126.28 203.238 Q2126.28 209.604 2123.11 213.238 Q2119.93 216.849 2114.38 216.849 Q2108.8 216.849 2105.63 213.238 Q2102.48 209.604 2102.48 203.238 Q2102.48 196.849 2105.63 193.238 Q2108.8 189.627 2114.38 189.627 Z\" fill=\"#000000\" fill-rule=\"nonzero\" fill-opacity=\"1\" /><path clip-path=\"url(#clip770)\" d=\"M2137.46 212.289 L2137.46 226.039 L2133.17 226.039 L2133.17 190.252 L2137.46 190.252 L2137.46 194.187 Q2138.8 191.872 2140.84 190.761 Q2142.9 189.627 2145.74 189.627 Q2150.47 189.627 2153.41 193.377 Q2156.37 197.127 2156.37 203.238 Q2156.37 209.349 2153.41 213.099 Q2150.47 216.849 2145.74 216.849 Q2142.9 216.849 2140.84 215.738 Q2138.8 214.603 2137.46 212.289 M2151.95 203.238 Q2151.95 198.539 2150 195.877 Q2148.08 193.192 2144.7 193.192 Q2141.32 193.192 2139.38 195.877 Q2137.46 198.539 2137.46 203.238 Q2137.46 207.937 2139.38 210.622 Q2141.32 213.284 2144.7 213.284 Q2148.08 213.284 2150 210.622 Q2151.95 207.937 2151.95 203.238 Z\" fill=\"#000000\" fill-rule=\"nonzero\" fill-opacity=\"1\" /><path clip-path=\"url(#clip770)\" d=\"M2185.61 202.15 L2185.61 204.233 L2166.02 204.233 Q2166.3 208.631 2168.66 210.946 Q2171.04 213.238 2175.28 213.238 Q2177.73 213.238 2180.03 212.636 Q2182.34 212.034 2184.61 210.83 L2184.61 214.858 Q2182.32 215.83 2179.91 216.34 Q2177.5 216.849 2175.03 216.849 Q2168.82 216.849 2165.19 213.238 Q2161.58 209.627 2161.58 203.469 Q2161.58 197.104 2165 193.377 Q2168.45 189.627 2174.29 189.627 Q2179.52 189.627 2182.55 193.006 Q2185.61 196.363 2185.61 202.15 M2181.35 200.9 Q2181.3 197.405 2179.38 195.321 Q2177.48 193.238 2174.33 193.238 Q2170.77 193.238 2168.61 195.252 Q2166.48 197.266 2166.16 200.923 L2181.35 200.9 Z\" fill=\"#000000\" fill-rule=\"nonzero\" fill-opacity=\"1\" /><path clip-path=\"url(#clip770)\" d=\"M2209.12 191.016 L2209.12 195.043 Q2207.32 194.117 2205.37 193.655 Q2203.43 193.192 2201.35 193.192 Q2198.17 193.192 2196.58 194.164 Q2195 195.136 2195 197.08 Q2195 198.562 2196.14 199.418 Q2197.27 200.252 2200.7 201.016 L2202.16 201.34 Q2206.69 202.312 2208.59 204.094 Q2210.51 205.854 2210.51 209.025 Q2210.51 212.636 2207.64 214.742 Q2204.79 216.849 2199.79 216.849 Q2197.71 216.849 2195.44 216.432 Q2193.2 216.039 2190.7 215.228 L2190.7 210.83 Q2193.06 212.057 2195.35 212.682 Q2197.64 213.284 2199.89 213.284 Q2202.9 213.284 2204.52 212.266 Q2206.14 211.224 2206.14 209.349 Q2206.14 207.613 2204.96 206.687 Q2203.8 205.761 2199.84 204.904 L2198.36 204.557 Q2194.4 203.724 2192.64 202.011 Q2190.88 200.275 2190.88 197.266 Q2190.88 193.608 2193.48 191.618 Q2196.07 189.627 2200.84 189.627 Q2203.2 189.627 2205.28 189.974 Q2207.36 190.321 2209.12 191.016 Z\" fill=\"#000000\" fill-rule=\"nonzero\" fill-opacity=\"1\" /></svg>\n"
      ]
     },
     "execution_count": 49,
     "metadata": {},
     "output_type": "execute_result"
    }
   ],
   "source": [
    "using Plots, ForwardDiff\n",
    "\n",
    "# operator to get the derivative of this function using AD\n",
    "D(f) = x -> ForwardDiff.derivative(f, x)\n",
    "\n",
    "# compare slopes with AD for sin(x)\n",
    "q(x) = sin(x)\n",
    "x = 0.0:0.1:4.0\n",
    "q_x = q.(x)\n",
    "q_slopes_x = slopes(q_x, x)\n",
    "\n",
    "D_q_x = D(q).(x)  # broadcasts AD across vector\n",
    "\n",
    "plot(x[1:(end - 1)], D_q_x[1:(end - 1)], label = \"q' with AD\")\n",
    "plot!(x[1:(end - 1)], q_slopes_x, label = \"q slopes\")"
   ]
  },
  {
   "cell_type": "markdown",
   "id": "171ab1ad",
   "metadata": {},
   "source": [
    "Consider a variation where we pass a function instead of an `AbstractArray`"
   ]
  },
  {
   "cell_type": "code",
   "execution_count": 50,
   "id": "cfca1d21",
   "metadata": {},
   "outputs": [
    {
     "name": "stdout",
     "output_type": "stream",
     "text": [
      "typeof(q) <: Function = true\n",
      "typeof(x) <: AbstractRange = true\n",
      "q_slopes_x[1] = 0.9983341664682815\n"
     ]
    }
   ],
   "source": [
    "slopes(f::Function, x::AbstractRange) = diff(f.(x)) / step(x)  # broadcast function\n",
    "\n",
    "@show typeof(q) <: Function\n",
    "@show typeof(x) <: AbstractRange\n",
    "q_slopes_x = slopes(q, x)  # use slopes(f::Function, x)\n",
    "@show q_slopes_x[1];"
   ]
  },
  {
   "cell_type": "markdown",
   "id": "088f2a38",
   "metadata": {},
   "source": [
    "Finally, if `x` was an `AbstractArray` and not an `AbstractRange` we can no longer use a uniform step.\n",
    "\n",
    "For this, we add in a version calculating slopes with forward first-differences"
   ]
  },
  {
   "cell_type": "code",
   "execution_count": 51,
   "id": "4fb4ea6c",
   "metadata": {},
   "outputs": [
    {
     "name": "stdout",
     "output_type": "stream",
     "text": [
      "typeof(x_array) <: AbstractArray = true\n",
      "q_slopes_x[1] = "
     ]
    },
    {
     "name": "stdout",
     "output_type": "stream",
     "text": [
      "0.9983341664682815\n"
     ]
    }
   ],
   "source": [
    "# broadcasts over the diff\n",
    "slopes(f::Function, x::AbstractArray) = diff(f.(x)) ./ diff(x)\n",
    "\n",
    "x_array = Array(x)  # convert range to array\n",
    "@show typeof(x_array) <: AbstractArray\n",
    "q_slopes_x = slopes(q, x_array)\n",
    "@show q_slopes_x[1];"
   ]
  },
  {
   "cell_type": "markdown",
   "id": "40449f96",
   "metadata": {},
   "source": [
    "In the final example, we see that it is able to use specialized implementations over both the `f` and the `x` arguments.\n",
    "\n",
    "This is the \"multiple\" in multiple dispatch.\n",
    "\n",
    "## Exercises\n",
    "\n",
    "### Exercise 1\n",
    "\n",
    "Explore the package [StaticArrays.jl](https://github.com/JuliaArrays/StaticArrays.jl).\n",
    "\n",
    "* Describe two abstract types and the hierarchy of three different concrete types.\n",
    "* Benchmark the calculation of some simple linear algebra with a static array\n",
    "  compared to the following for a dense array for `N = 3` and `N = 15`."
   ]
  },
  {
   "cell_type": "code",
   "execution_count": 52,
   "id": "43e54984",
   "metadata": {},
   "outputs": [
    {
     "name": "stdout",
     "output_type": "stream",
     "text": [
      "  75.153 ns (1 allocation: 80 bytes)\n"
     ]
    },
    {
     "name": "stdout",
     "output_type": "stream",
     "text": [
      "  648.744 ns (4 allocations: 1.86 KiB)\n"
     ]
    },
    {
     "data": {
      "text/plain": [
       "3×3 Matrix{Float64}:\n",
       "  4.34797  -5.8499    1.74112\n",
       " -2.59992   2.67683   1.19734\n",
       "  0.39006   1.17664  -0.984867"
      ]
     },
     "execution_count": 52,
     "metadata": {},
     "output_type": "execute_result"
    }
   ],
   "source": [
    "using BenchmarkTools\n",
    "\n",
    "N = 3\n",
    "A = rand(N, N)\n",
    "x = rand(N)\n",
    "\n",
    "@btime $A * $x  # the $ in front of variable names is sometimes important\n",
    "@btime inv($A)"
   ]
  },
  {
   "cell_type": "markdown",
   "id": "9ff8f384",
   "metadata": {},
   "source": [
    "### Exercise 2\n",
    "\n",
    "A key step in the calculation of the Kalman Filter is calculation of the Kalman gain, as can be seen with the following example using dense matrices from {doc}`the Kalman lecture <../introduction_dynamics/kalman>`.\n",
    "\n",
    "Using what you learned from Exercise 1, benchmark this using Static Arrays"
   ]
  },
  {
   "cell_type": "code",
   "execution_count": 53,
   "id": "512bf40e",
   "metadata": {},
   "outputs": [
    {
     "name": "stdout",
     "output_type": "stream",
     "text": [
      "  966.667 ns (9 allocations: 1.77 KiB)\n"
     ]
    },
    {
     "data": {
      "text/plain": [
       "2×2 Matrix{Float64}:\n",
       " 0.666667     1.11022e-16\n",
       " 1.11022e-16  0.666667"
      ]
     },
     "execution_count": 53,
     "metadata": {},
     "output_type": "execute_result"
    }
   ],
   "source": [
    "Sigma = [0.4 0.3;\n",
    "         0.3 0.45]\n",
    "G = I\n",
    "R = 0.5 * Sigma\n",
    "\n",
    "gain(Sigma, G, R) = Sigma * G' * inv(G * Sigma * G' + R)\n",
    "@btime gain($Sigma, $G, $R)"
   ]
  },
  {
   "cell_type": "markdown",
   "id": "ae7a7c9f",
   "metadata": {},
   "source": [
    "How many times faster are static arrays in this example?\n",
    "\n",
    "### Exercise 3\n",
    "\n",
    "The [Polynomial.jl](https://github.com/JuliaMath/Polynomials.jl) provides a package for simple univariate Polynomials."
   ]
  },
  {
   "cell_type": "code",
   "execution_count": 54,
   "id": "b8847165",
   "metadata": {},
   "outputs": [
    {
     "name": "stdout",
     "output_type": "stream",
     "text": [
      "p = Polynomial(2 - 5*x + 2*x^2)\n",
      "(p(0.1), p′(0.1)) = (1.52, -4.6)\n"
     ]
    },
    {
     "name": "stdout",
     "output_type": "stream",
     "text": [
      "roots(p) = [0.5, 2.0]\n"
     ]
    }
   ],
   "source": [
    "using Polynomials\n",
    "\n",
    "p = Polynomial([2, -5, 2], :x)  # :x just gives a symbol for display\n",
    "\n",
    "@show p\n",
    "p′ = derivative(p)   # gives the derivative of p, another polynomial\n",
    "@show p(0.1), p′(0.1)  # call like a function\n",
    "@show roots(p);   # find roots such that p(x) = 0"
   ]
  },
  {
   "cell_type": "markdown",
   "id": "5c2d1f74",
   "metadata": {},
   "source": [
    "Plot both `p(x)` and `p′(x)` for $x \\in [-2, 2]$.\n",
    "\n",
    "### Exercise 4\n",
    "\n",
    "Use your solution to Exercise 8(a/b) in {doc}`Introductory Examples <../getting_started_julia/julia_by_example>` to\n",
    "create a specialized version of Newton's method for `Polynomials` using the `derivative` function.\n",
    "\n",
    "The signature of the function should be `newtonsmethod(p::Polynomial, x_0; tolerance = 1E-7, maxiter = 100)`,\n",
    "where `p::Polynomial` ensures that this version of the function will be used anytime a polynomial is passed (i.e. dispatch).\n",
    "\n",
    "Compare the results of this function to the built-in `roots(p)` function.\n",
    "\n",
    "(intro_types_ex_5)=\n",
    "### Exercise 5 (Advanced)\n",
    "\n",
    "The [trapezoidal rule](https://en.wikipedia.org/wiki/Trapezoidal_rule)  approximates an integral with\n",
    "\n",
    "$$\n",
    "\\int_{\\underline{x}}^{\\bar{x}} f(x) \\, dx \\approx \\sum_{n=1}^N \\frac{f(x_{n-1}) + f(x_n)}{2} \\Delta x_n\n",
    "$$\n",
    "\n",
    "where $x_0 = {\\underline{x}},\\, x_N = \\bar{x}$, and $\\Delta x_n \\equiv x_{n-1} - x_n$.\n",
    "\n",
    "Given an `x` and a function `f`, implement a few variations of the trapezoidal rule using multiple dispatch\n",
    "\n",
    "* `trapezoidal(f, x)` for any `typeof(x) = AbstractArray` and `typeof(f) == AbstractArray` where `length(x) = length(f)`\n",
    "* `trapezoidal(f, x)` for any `typeof(x) = AbstractRange` and `typeof(f) == AbstractArray` where `length(x) = length(f)`\n",
    "  * Exploit the fact that `AbstractRange` has constant step sizes to specialize the algorithm\n",
    "* `trapezoidal(f, x̲, x̄, N)` where `typeof(f) = Function`, and the other arguments are `Real`\n",
    "  * For this, build a uniform grid with `N` points on `[x̲, x̄]` -- call the `f` function at those grid points and use the existing `trapezoidal(f, x)` from the implementation\n",
    "\n",
    "With these:\n",
    "1. Test each variation of the function with $f(x) = x^2$ with $\\underline{x}=0,\\, \\bar{x} = 1$.\n",
    "2. From the analytical solution of the function, plot the error of `trapezoidal(f, x̲, x̄, N)` relative to the analytical solution for a grid of different `N` values.\n",
    "3. Consider trying different functions for $f(x)$ and compare the solutions for various `N`.\n",
    "\n",
    "When trying different functions, instead of integrating by hand consider using a high-accuracy\n",
    "library for numerical integration such as [QuadGK.jl](https://juliamath.github.io/QuadGK.jl/latest/)"
   ]
  },
  {
   "cell_type": "code",
   "execution_count": 55,
   "id": "17e2c5e0",
   "metadata": {},
   "outputs": [
    {
     "data": {
      "text/plain": [
       "(0.3333333333333333, 0.0)"
      ]
     },
     "execution_count": 55,
     "metadata": {},
     "output_type": "execute_result"
    }
   ],
   "source": [
    "using QuadGK\n",
    "\n",
    "f(x) = x^2\n",
    "value, accuracy = quadgk(f, 0.0, 1.0)"
   ]
  },
  {
   "cell_type": "markdown",
   "id": "65707b49",
   "metadata": {},
   "source": [
    "### Exercise 6 (Advanced)\n",
    "\n",
    "Take a variation of your code in Exercise 5.\n",
    "\n",
    "Use auto-differentiation to calculate the following derivative for the example functions\n",
    "\n",
    "$$\n",
    "\\frac{d}{d {\\bar{x}}}\\int_{\\underline{x}}^{\\bar{x}} f(x) \\, dx\n",
    "$$\n",
    "\n",
    "Hint: See the following code for the general pattern, and be careful to\n",
    "follow the {ref}`rules for generic programming <generic_tips_tricks>`."
   ]
  },
  {
   "cell_type": "code",
   "execution_count": 56,
   "id": "d8d9d2f5",
   "metadata": {},
   "outputs": [
    {
     "name": "stdout",
     "output_type": "stream",
     "text": [
      "f(0.0, 3.0) = 1.5\n",
      "f(0.0, 3.1) = 1.55\n"
     ]
    },
    {
     "data": {
      "text/plain": [
       "0.5"
      ]
     },
     "execution_count": 56,
     "metadata": {},
     "output_type": "execute_result"
    }
   ],
   "source": [
    "using ForwardDiff\n",
    "\n",
    "function f(a, b; N = 50)\n",
    "    r = range(a, b, length = N) # one\n",
    "    return mean(r)\n",
    "end\n",
    "\n",
    "Df(x) = ForwardDiff.derivative(y -> f(0.0, y), x)\n",
    "\n",
    "@show f(0.0, 3.0)\n",
    "@show f(0.0, 3.1)\n",
    "\n",
    "Df(3.0)"
   ]
  }
 ],
 "metadata": {
  "jupytext": {
   "text_representation": {
    "extension": ".md",
    "format_name": "myst"
   }
  },
  "kernelspec": {
   "display_name": "Julia",
   "language": "julia",
   "name": "julia-1.9"
  },
  "language_info": {
   "file_extension": ".jl",
   "mimetype": "application/julia",
   "name": "julia",
   "version": "1.9.2"
  },
  "source_map": [
   10,
   41,
   43,
   51,
   54,
   61,
   64,
   74,
   77,
   98,
   101,
   107,
   110,
   116,
   118,
   129,
   132,
   138,
   140,
   144,
   146,
   177,
   182,
   188,
   193,
   197,
   199,
   209,
   213,
   217,
   220,
   230,
   236,
   242,
   247,
   256,
   258,
   268,
   279,
   301,
   310,
   318,
   328,
   334,
   356,
   362,
   366,
   372,
   378,
   388,
   407,
   413,
   418,
   435,
   443,
   457,
   463,
   472,
   488,
   509,
   532,
   556,
   560,
   570,
   574,
   577,
   581,
   586,
   590,
   601,
   608,
   617,
   620,
   647,
   718,
   722,
   732,
   748,
   752,
   756,
   781,
   788,
   792,
   796,
   798,
   802,
   805,
   809,
   814,
   818,
   828,
   830,
   849,
   851,
   855,
   871,
   875,
   882,
   888,
   896,
   912,
   921,
   929,
   937,
   945,
   954,
   995,
   1000,
   1015
  ]
 },
 "nbformat": 4,
 "nbformat_minor": 5
}