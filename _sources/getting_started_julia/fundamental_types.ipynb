{
 "cells": [
  {
   "cell_type": "markdown",
   "id": "7aeab211",
   "metadata": {},
   "source": [
    "(fundamental_types)=\n",
    "```{raw} html\n",
    "<div id=\"qe-notebook-header\" style=\"text-align:right;\">\n",
    "        <a href=\"https://quantecon.org/\" title=\"quantecon.org\">\n",
    "                <img style=\"width:250px;display:inline;\" src=\"https://assets.quantecon.org/img/qe-menubar-logo.svg\" alt=\"QuantEcon\">\n",
    "        </a>\n",
    "</div>\n",
    "```\n",
    "\n",
    "# Arrays, Tuples, Ranges, and Other Fundamental Types\n",
    "\n",
    "```{contents} Contents\n",
    ":depth: 2\n",
    "```\n",
    "\n",
    "```{epigraph}\n",
    "\"Let's be clear: the work of science has nothing whatever to do with consensus.\n",
    "Consensus is the business of politics. Science, on the contrary, requires only\n",
    "one investigator who happens to be right, which means that he or she has\n",
    "results that are verifiable by reference to the real world. In science\n",
    "consensus is irrelevant. What is relevant is reproducible results.\" -- Michael Crichton\n",
    "```\n",
    "\n",
    "## Overview\n",
    "\n",
    "In Julia, arrays and tuples are the most important data type for working with numerical data.\n",
    "\n",
    "In this lecture we give more details on\n",
    "\n",
    "* creating and manipulating Julia arrays\n",
    "* fundamental array processing operations\n",
    "* basic matrix algebra\n",
    "* tuples and named tuples\n",
    "* ranges\n",
    "* nothing, missing, and unions"
   ]
  },
  {
   "cell_type": "code",
   "execution_count": null,
   "id": "e109ebbc",
   "metadata": {},
   "outputs": [],
   "source": [
    "using LinearAlgebra, Statistics"
   ]
  },
  {
   "cell_type": "markdown",
   "id": "ca0a8c7a",
   "metadata": {},
   "source": [
    "## Array Basics\n",
    "\n",
    "([See multi-dimensional arrays documentation](https://docs.julialang.org/en/v1/manual/arrays/))\n",
    "\n",
    "Since it is one of the most important types, we will start with arrays.\n",
    "\n",
    "Later, we will see how arrays (and all other types in Julia) are handled in a generic and extensible way.\n",
    "\n",
    "### Shape and Dimension\n",
    "\n",
    "We've already seen some Julia arrays in action"
   ]
  },
  {
   "cell_type": "code",
   "execution_count": null,
   "id": "44bef420",
   "metadata": {},
   "outputs": [],
   "source": [
    "a = [10, 20, 30]"
   ]
  },
  {
   "cell_type": "code",
   "execution_count": null,
   "id": "758e4ceb",
   "metadata": {},
   "outputs": [],
   "source": [
    "a = [1.0, 2.0, 3.0]"
   ]
  },
  {
   "cell_type": "markdown",
   "id": "ccf93ef6",
   "metadata": {},
   "source": [
    "The output tells us that the arrays are of types `Array{Int64,1}` and `Array{Float64,1}` respectively.\n",
    "\n",
    "Here `Int64` and `Float64` are types for the elements inferred by the compiler.\n",
    "\n",
    "We'll talk more about types later.\n",
    "\n",
    "The `1` in `Array{Int64,1}` and `Array{Any,1}` indicates that the array is\n",
    "one dimensional (i.e., a `Vector`).\n",
    "\n",
    "This is the default for many Julia functions that create arrays"
   ]
  },
  {
   "cell_type": "code",
   "execution_count": null,
   "id": "51a75683",
   "metadata": {},
   "outputs": [],
   "source": [
    "typeof(randn(100))"
   ]
  },
  {
   "cell_type": "markdown",
   "id": "20070fa5",
   "metadata": {},
   "source": [
    "In Julia, one dimensional vectors are best interpreted as column vectors, which we will see when we take transposes.\n",
    "\n",
    "We can check the dimensions of `a` using `size()` and `ndims()`\n",
    "functions"
   ]
  },
  {
   "cell_type": "code",
   "execution_count": null,
   "id": "26db3d16",
   "metadata": {},
   "outputs": [],
   "source": [
    "ndims(a)"
   ]
  },
  {
   "cell_type": "code",
   "execution_count": null,
   "id": "0791139d",
   "metadata": {},
   "outputs": [],
   "source": [
    "size(a)"
   ]
  },
  {
   "cell_type": "markdown",
   "id": "8151dd43",
   "metadata": {},
   "source": [
    "The syntax `(3,)` displays a tuple containing one element -- the size along the one dimension that exists.\n",
    "\n",
    "#### Array vs Vector vs Matrix\n",
    "\n",
    "In Julia, `Vector` and `Matrix` are just aliases for one- and two-dimensional arrays\n",
    "respectively"
   ]
  },
  {
   "cell_type": "code",
   "execution_count": null,
   "id": "c75416ff",
   "metadata": {},
   "outputs": [],
   "source": [
    "Array{Int64, 1} == Vector{Int64}\n",
    "Array{Int64, 2} == Matrix{Int64}"
   ]
  },
  {
   "cell_type": "markdown",
   "id": "facb82af",
   "metadata": {},
   "source": [
    "Vector construction with `,` is then interpreted as a column vector.\n",
    "\n",
    "To see this, we can create a column vector and row vector more directly"
   ]
  },
  {
   "cell_type": "code",
   "execution_count": null,
   "id": "b6381e50",
   "metadata": {},
   "outputs": [],
   "source": [
    "[1, 2, 3] == [1; 2; 3]  # both column vectors"
   ]
  },
  {
   "cell_type": "code",
   "execution_count": null,
   "id": "402bb1ca",
   "metadata": {},
   "outputs": [],
   "source": [
    "[1 2 3]  # a row vector is 2-dimensional"
   ]
  },
  {
   "cell_type": "markdown",
   "id": "05fea2ed",
   "metadata": {},
   "source": [
    "As we've seen, in Julia we have both\n",
    "\n",
    "* one-dimensional arrays (i.e., flat arrays)\n",
    "* arrays of size `(1, n)` or `(n, 1)` that represent row and column vectors respectively\n",
    "\n",
    "Why do we need both?\n",
    "\n",
    "On one hand, dimension matters for matrix algebra.\n",
    "\n",
    "* Multiplying by a row vector is different to multiplying by a column vector.\n",
    "\n",
    "On the other, we use arrays in many settings that don't involve matrix algebra.\n",
    "\n",
    "In such cases, we don't care about the distinction between row and column vectors.\n",
    "\n",
    "This is why many Julia functions return flat arrays by default.\n",
    "\n",
    "(creating_arrays)=\n",
    "### Creating Arrays\n",
    "\n",
    "#### Functions that Create Arrays\n",
    "\n",
    "We've already seen some functions for creating a vector filled with `0.0`"
   ]
  },
  {
   "cell_type": "code",
   "execution_count": null,
   "id": "c4b49b26",
   "metadata": {},
   "outputs": [],
   "source": [
    "zeros(3)"
   ]
  },
  {
   "cell_type": "markdown",
   "id": "bf145a28",
   "metadata": {},
   "source": [
    "This generalizes to matrices and higher dimensional arrays"
   ]
  },
  {
   "cell_type": "code",
   "execution_count": null,
   "id": "5a17fe05",
   "metadata": {},
   "outputs": [],
   "source": [
    "zeros(2, 2)"
   ]
  },
  {
   "cell_type": "markdown",
   "id": "98db1578",
   "metadata": {},
   "source": [
    "To return an array filled with a single value, use `fill`"
   ]
  },
  {
   "cell_type": "code",
   "execution_count": null,
   "id": "c1816760",
   "metadata": {},
   "outputs": [],
   "source": [
    "fill(5.0, 2, 2)"
   ]
  },
  {
   "cell_type": "markdown",
   "id": "1bdb34e7",
   "metadata": {},
   "source": [
    "Finally, you can create an empty array using the `Array()` constructor"
   ]
  },
  {
   "cell_type": "code",
   "execution_count": null,
   "id": "3b7c7c98",
   "metadata": {},
   "outputs": [],
   "source": [
    "x = Array{Float64}(undef, 2, 2)"
   ]
  },
  {
   "cell_type": "markdown",
   "id": "b4794851",
   "metadata": {},
   "source": [
    "The printed values you see here are just garbage values.\n",
    "\n",
    "(the existing contents of the allocated memory slots being interpreted as 64 bit floats)\n",
    "\n",
    "If you need more control over the types, fill with a non-floating point"
   ]
  },
  {
   "cell_type": "code",
   "execution_count": null,
   "id": "a120a757",
   "metadata": {},
   "outputs": [],
   "source": [
    "fill(0, 2, 2)  # fills with 0, not 0.0"
   ]
  },
  {
   "cell_type": "markdown",
   "id": "dbe3eb02",
   "metadata": {},
   "source": [
    "Or fill with a boolean type"
   ]
  },
  {
   "cell_type": "code",
   "execution_count": null,
   "id": "8d2dace9",
   "metadata": {},
   "outputs": [],
   "source": [
    "fill(false, 2, 2)  # produces a boolean matrix"
   ]
  },
  {
   "cell_type": "markdown",
   "id": "a355a9f8",
   "metadata": {},
   "source": [
    "#### Creating Arrays from Existing Arrays\n",
    "\n",
    "For the most part, we will avoid directly specifying the types of arrays, and let the compiler deduce the optimal types on its own.\n",
    "\n",
    "The reasons for this, discussed in more detail in {doc}`this lecture <../more_julia/generic_programming>`, are to ensure both clarity and generality.\n",
    "\n",
    "One place this can be inconvenient is when we need to create an array based on an existing array.\n",
    "\n",
    "First, note that assignment in Julia binds a name to a value, but does not make a copy of that type"
   ]
  },
  {
   "cell_type": "code",
   "execution_count": null,
   "id": "b791585b",
   "metadata": {},
   "outputs": [],
   "source": [
    "x = [1, 2, 3]\n",
    "y = x\n",
    "y[1] = 2\n",
    "x"
   ]
  },
  {
   "cell_type": "markdown",
   "id": "89b8a442",
   "metadata": {},
   "source": [
    "In the above, `y = x` simply creates a new named binding called `y` which refers to whatever `x` currently binds to.\n",
    "\n",
    "To copy the data, you need to be more explicit"
   ]
  },
  {
   "cell_type": "code",
   "execution_count": null,
   "id": "466d8b96",
   "metadata": {},
   "outputs": [],
   "source": [
    "x = [1, 2, 3]\n",
    "y = copy(x)\n",
    "y[1] = 2\n",
    "x"
   ]
  },
  {
   "cell_type": "markdown",
   "id": "fd451807",
   "metadata": {},
   "source": [
    "However, rather than making a copy of `x`, you may want to just have a similarly sized array"
   ]
  },
  {
   "cell_type": "code",
   "execution_count": null,
   "id": "4d6f7e95",
   "metadata": {},
   "outputs": [],
   "source": [
    "x = [1, 2, 3]\n",
    "y = similar(x)\n",
    "y"
   ]
  },
  {
   "cell_type": "markdown",
   "id": "1c8a800b",
   "metadata": {},
   "source": [
    "We can also use `similar` to pre-allocate a vector with a different size, but the same shape"
   ]
  },
  {
   "cell_type": "code",
   "execution_count": null,
   "id": "0ee46d5e",
   "metadata": {},
   "outputs": [],
   "source": [
    "x = [1, 2, 3]\n",
    "y = similar(x, 4)  # make a vector of length 4"
   ]
  },
  {
   "cell_type": "markdown",
   "id": "f1b97500",
   "metadata": {},
   "source": [
    "Which generalizes to higher dimensions"
   ]
  },
  {
   "cell_type": "code",
   "execution_count": null,
   "id": "c4878974",
   "metadata": {},
   "outputs": [],
   "source": [
    "x = [1, 2, 3]\n",
    "y = similar(x, 2, 2)  # make a 2x2 matrix"
   ]
  },
  {
   "cell_type": "markdown",
   "id": "404dfc72",
   "metadata": {},
   "source": [
    "#### Array Definitions from Literals\n",
    "\n",
    "As we've seen, you can create one dimensional arrays from manually specified data like so"
   ]
  },
  {
   "cell_type": "code",
   "execution_count": null,
   "id": "4c3b5c3d",
   "metadata": {},
   "outputs": [],
   "source": [
    "a = [10, 20, 30, 40]"
   ]
  },
  {
   "cell_type": "markdown",
   "id": "6409d436",
   "metadata": {},
   "source": [
    "In two dimensions we can proceed as follows"
   ]
  },
  {
   "cell_type": "code",
   "execution_count": null,
   "id": "a83121b4",
   "metadata": {},
   "outputs": [],
   "source": [
    "a = [10 20 30 40]  # two dimensional, shape is 1 x n"
   ]
  },
  {
   "cell_type": "code",
   "execution_count": null,
   "id": "c3f64e85",
   "metadata": {},
   "outputs": [],
   "source": [
    "ndims(a)"
   ]
  },
  {
   "cell_type": "code",
   "execution_count": null,
   "id": "c385cc67",
   "metadata": {},
   "outputs": [],
   "source": [
    "a = [10 20; 30 40]  # 2 x 2"
   ]
  },
  {
   "cell_type": "markdown",
   "id": "1fbc9ecf",
   "metadata": {},
   "source": [
    "You might then assume that `a = [10; 20; 30; 40]` creates a two dimensional column vector but this isn't the case."
   ]
  },
  {
   "cell_type": "code",
   "execution_count": null,
   "id": "6766f6c0",
   "metadata": {},
   "outputs": [],
   "source": [
    "a = [10; 20; 30; 40]"
   ]
  },
  {
   "cell_type": "code",
   "execution_count": null,
   "id": "03cd3522",
   "metadata": {},
   "outputs": [],
   "source": [
    "ndims(a)"
   ]
  },
  {
   "cell_type": "markdown",
   "id": "41461ab4",
   "metadata": {},
   "source": [
    "Instead transpose the matrix (or adjoint if complex)"
   ]
  },
  {
   "cell_type": "code",
   "execution_count": null,
   "id": "60dc05c0",
   "metadata": {},
   "outputs": [],
   "source": [
    "a = [10 20 30 40]'"
   ]
  },
  {
   "cell_type": "code",
   "execution_count": null,
   "id": "7d07f56a",
   "metadata": {},
   "outputs": [],
   "source": [
    "ndims(a)"
   ]
  },
  {
   "cell_type": "markdown",
   "id": "142152e4",
   "metadata": {},
   "source": [
    "Note, however, that the transformed array is not a matrix but rather a special type (e.g., `adjoint(::Matrix{Int64}) with eltype Int64`).\n",
    "\n",
    "Keeping the special structure of a transposed array can let Julia use more efficient algorithms in some cases.\n",
    "\n",
    "Finally, we can see how to create multidimensional arrays from literals with the `;` separator.\n",
    "\n",
    "First, we can create a vector"
   ]
  },
  {
   "cell_type": "code",
   "execution_count": null,
   "id": "0e4be593",
   "metadata": {},
   "outputs": [],
   "source": [
    "[1; 2]"
   ]
  },
  {
   "cell_type": "markdown",
   "id": "90dada1d",
   "metadata": {},
   "source": [
    "Next, by appending an additional `;` we can tell it to use a 2 dimensional array"
   ]
  },
  {
   "cell_type": "code",
   "execution_count": null,
   "id": "7dd7848b",
   "metadata": {},
   "outputs": [],
   "source": [
    "[1; 2;;]"
   ]
  },
  {
   "cell_type": "markdown",
   "id": "05d8e03b",
   "metadata": {},
   "source": [
    "Or 3 dimensions"
   ]
  },
  {
   "cell_type": "code",
   "execution_count": null,
   "id": "922551e8",
   "metadata": {},
   "outputs": [],
   "source": [
    "[1; 2;;;]"
   ]
  },
  {
   "cell_type": "markdown",
   "id": "6ba7d1ee",
   "metadata": {},
   "source": [
    "Or a 1x1 matrix with a single value"
   ]
  },
  {
   "cell_type": "code",
   "execution_count": null,
   "id": "9b1d89b0",
   "metadata": {},
   "outputs": [],
   "source": [
    "[1;;]"
   ]
  },
  {
   "cell_type": "markdown",
   "id": "22cea927",
   "metadata": {},
   "source": [
    "Or a 2x2x1 array"
   ]
  },
  {
   "cell_type": "code",
   "execution_count": null,
   "id": "ffa3865a",
   "metadata": {},
   "outputs": [],
   "source": [
    "[1 2; 3 4;;;]"
   ]
  },
  {
   "cell_type": "markdown",
   "id": "42e243b9",
   "metadata": {},
   "source": [
    "### Array Indexing\n",
    "\n",
    "We've already seen the basics of array indexing"
   ]
  },
  {
   "cell_type": "code",
   "execution_count": null,
   "id": "ceeae07f",
   "metadata": {},
   "outputs": [],
   "source": [
    "a = [10 20 30 40]\n",
    "a[end - 1]"
   ]
  },
  {
   "cell_type": "code",
   "execution_count": null,
   "id": "29cfb143",
   "metadata": {},
   "outputs": [],
   "source": [
    "a[1:3]"
   ]
  },
  {
   "cell_type": "markdown",
   "id": "a70ae361",
   "metadata": {},
   "source": [
    "For 2D arrays the index syntax is straightforward"
   ]
  },
  {
   "cell_type": "code",
   "execution_count": null,
   "id": "705b29be",
   "metadata": {},
   "outputs": [],
   "source": [
    "a = randn(2, 2)\n",
    "a[1, 1]"
   ]
  },
  {
   "cell_type": "code",
   "execution_count": null,
   "id": "010577f3",
   "metadata": {},
   "outputs": [],
   "source": [
    "a[1, :]  # first row"
   ]
  },
  {
   "cell_type": "code",
   "execution_count": null,
   "id": "6f0f5f6a",
   "metadata": {},
   "outputs": [],
   "source": [
    "a[:, 1]  # first column"
   ]
  },
  {
   "cell_type": "markdown",
   "id": "8f6bced2",
   "metadata": {},
   "source": [
    "Booleans can be used to extract elements"
   ]
  },
  {
   "cell_type": "code",
   "execution_count": null,
   "id": "da6811a1",
   "metadata": {},
   "outputs": [],
   "source": [
    "a = randn(2, 2)"
   ]
  },
  {
   "cell_type": "code",
   "execution_count": null,
   "id": "17c323c6",
   "metadata": {},
   "outputs": [],
   "source": [
    "b = [true false; false true]"
   ]
  },
  {
   "cell_type": "code",
   "execution_count": null,
   "id": "894a9e7b",
   "metadata": {},
   "outputs": [],
   "source": [
    "a[b]"
   ]
  },
  {
   "cell_type": "markdown",
   "id": "0d4ef512",
   "metadata": {},
   "source": [
    "This is useful for conditional extraction, as we'll see below.\n",
    "\n",
    "An aside: some or all elements of an array can be set equal to one number using slice notation."
   ]
  },
  {
   "cell_type": "code",
   "execution_count": null,
   "id": "26c97781",
   "metadata": {},
   "outputs": [],
   "source": [
    "a = zeros(4)"
   ]
  },
  {
   "cell_type": "code",
   "execution_count": null,
   "id": "0a9e18e4",
   "metadata": {},
   "outputs": [],
   "source": [
    "a[2:end] .= 42"
   ]
  },
  {
   "cell_type": "code",
   "execution_count": null,
   "id": "07b2ce65",
   "metadata": {},
   "outputs": [],
   "source": [
    "a"
   ]
  },
  {
   "cell_type": "markdown",
   "id": "142d814b",
   "metadata": {},
   "source": [
    "### Views and Slices\n",
    "\n",
    "Using the `:` notation provides a slice of an array, copying the sub-array to a new array with a similar type."
   ]
  },
  {
   "cell_type": "code",
   "execution_count": null,
   "id": "ef2a5978",
   "metadata": {},
   "outputs": [],
   "source": [
    "a = [1 2; 3 4]\n",
    "b = a[:, 2]\n",
    "@show b\n",
    "a[:, 2] = [4, 5] # modify a\n",
    "@show a\n",
    "@show b;"
   ]
  },
  {
   "cell_type": "markdown",
   "id": "1a2aee1b",
   "metadata": {},
   "source": [
    "A **view** on the other hand does not copy the value"
   ]
  },
  {
   "cell_type": "code",
   "execution_count": null,
   "id": "0fd419db",
   "metadata": {},
   "outputs": [],
   "source": [
    "a = [1 2; 3 4]\n",
    "@views b = a[:, 2]\n",
    "@show b\n",
    "a[:, 2] = [4, 5]\n",
    "@show a\n",
    "@show b;"
   ]
  },
  {
   "cell_type": "markdown",
   "id": "975f2f60",
   "metadata": {},
   "source": [
    "Note that the only difference is the `@views` macro, which will replace any slices with views in the expression.\n",
    "\n",
    "An alternative is to call the `view` function directly -- though it is generally discouraged since it is a step away from the math."
   ]
  },
  {
   "cell_type": "code",
   "execution_count": null,
   "id": "f11f508b",
   "metadata": {},
   "outputs": [],
   "source": [
    "@views b = a[:, 2]\n",
    "view(a, :, 2) == b"
   ]
  },
  {
   "cell_type": "markdown",
   "id": "df458b2c",
   "metadata": {},
   "source": [
    "As with most programming in Julia, it is best to avoid prematurely assuming that `@views` will have a significant impact on performance, and stress code clarity above all else.\n",
    "\n",
    "Another important lesson about `@views` is that they **are not** normal, dense arrays."
   ]
  },
  {
   "cell_type": "code",
   "execution_count": null,
   "id": "ab092472",
   "metadata": {},
   "outputs": [],
   "source": [
    "a = [1 2; 3 4]\n",
    "b_slice = a[:, 2]\n",
    "@show typeof(b_slice)\n",
    "@show typeof(a)\n",
    "@views b = a[:, 2]\n",
    "@show typeof(b);"
   ]
  },
  {
   "cell_type": "markdown",
   "id": "2bd365c4",
   "metadata": {},
   "source": [
    "The type of `b` is a good example of how types are not as they may seem.\n",
    "\n",
    "Similarly"
   ]
  },
  {
   "cell_type": "code",
   "execution_count": null,
   "id": "e4ad9546",
   "metadata": {},
   "outputs": [],
   "source": [
    "a = [1 2; 3 4]\n",
    "b = a'   # transpose\n",
    "typeof(b)"
   ]
  },
  {
   "cell_type": "markdown",
   "id": "92d1d96b",
   "metadata": {},
   "source": [
    "To copy into a dense array"
   ]
  },
  {
   "cell_type": "code",
   "execution_count": null,
   "id": "792d5caa",
   "metadata": {},
   "outputs": [],
   "source": [
    "a = [1 2; 3 4]\n",
    "b = a' # transpose\n",
    "c = Matrix(b)  # convert to matrix\n",
    "d = collect(b) # also `collect` works on any iterable\n",
    "c == d"
   ]
  },
  {
   "cell_type": "markdown",
   "id": "ac965f87",
   "metadata": {},
   "source": [
    "### Special Matrices\n",
    "\n",
    "As we saw with `transpose`, sometimes types that look like matrices are not stored as a dense array.\n",
    "\n",
    "As an example, consider creating a diagonal matrix"
   ]
  },
  {
   "cell_type": "code",
   "execution_count": null,
   "id": "cbe4add4",
   "metadata": {},
   "outputs": [],
   "source": [
    "d = [1.0, 2.0]\n",
    "a = Diagonal(d)"
   ]
  },
  {
   "cell_type": "markdown",
   "id": "02f10131",
   "metadata": {},
   "source": [
    "As you can see, the type is `2×2 Diagonal{Float64,Array{Float64,1}}`, which is not a 2-dimensional array.\n",
    "\n",
    "The reasons for this are both efficiency in storage, as well as efficiency in arithmetic and matrix operations.\n",
    "\n",
    "In every important sense, matrix types such as `Diagonal` are just as much a \"matrix\" as the dense matrices we have using (see the {doc}`introduction to types lecture <../getting_started_julia/introduction_to_types>` for more)"
   ]
  },
  {
   "cell_type": "code",
   "execution_count": null,
   "id": "df1d7018",
   "metadata": {},
   "outputs": [],
   "source": [
    "@show 2a\n",
    "b = rand(2, 2)\n",
    "@show b * a;"
   ]
  },
  {
   "cell_type": "markdown",
   "id": "a1d82b05",
   "metadata": {},
   "source": [
    "Another example is in the construction of an identity matrix, where a naive implementation is"
   ]
  },
  {
   "cell_type": "code",
   "execution_count": null,
   "id": "98aed7f9",
   "metadata": {},
   "outputs": [],
   "source": [
    "b = [1.0 2.0; 3.0 4.0]\n",
    "b - Diagonal([1.0, 1.0])  # poor style, inefficient code"
   ]
  },
  {
   "cell_type": "markdown",
   "id": "e672e8b7",
   "metadata": {},
   "source": [
    "Whereas you should instead use"
   ]
  },
  {
   "cell_type": "code",
   "execution_count": null,
   "id": "fbed93e9",
   "metadata": {},
   "outputs": [],
   "source": [
    "b = [1.0 2.0; 3.0 4.0]\n",
    "b - I  # good style, and note the lack of dimensions of I"
   ]
  },
  {
   "cell_type": "markdown",
   "id": "b4857ae2",
   "metadata": {},
   "source": [
    "While the implementation of `I` is a little abstract to go into at this point, a hint is:"
   ]
  },
  {
   "cell_type": "code",
   "execution_count": null,
   "id": "4b5439cf",
   "metadata": {},
   "outputs": [],
   "source": [
    "typeof(I)"
   ]
  },
  {
   "cell_type": "markdown",
   "id": "79e7a744",
   "metadata": {},
   "source": [
    "This is a `UniformScaling` type rather than an identity matrix, making it much more powerful and general.\n",
    "\n",
    "### Assignment and Passing Arrays\n",
    "\n",
    "As discussed above, in Julia, the left hand side of an assignment is a \"binding\" or a label to a value."
   ]
  },
  {
   "cell_type": "code",
   "execution_count": null,
   "id": "16483726",
   "metadata": {},
   "outputs": [],
   "source": [
    "x = [1 2 3]\n",
    "y = x  # name `y` binds to whatever value `x` bound to"
   ]
  },
  {
   "cell_type": "markdown",
   "id": "545e2c66",
   "metadata": {},
   "source": [
    "The consequence of this, is that you can re-bind that name."
   ]
  },
  {
   "cell_type": "code",
   "execution_count": null,
   "id": "fa5d0da9",
   "metadata": {},
   "outputs": [],
   "source": [
    "x = [1 2 3]\n",
    "y = x        # name `y` binds to whatever `x` bound to\n",
    "z = [2 3 4]\n",
    "y = z        # only changes name binding, not value!\n",
    "@show (x, y, z);"
   ]
  },
  {
   "cell_type": "markdown",
   "id": "380d8b43",
   "metadata": {},
   "source": [
    "What this means is that if `a` is an array and we set `b = a` then `a` and `b` point to exactly the same data.\n",
    "\n",
    "In the above, suppose you had meant to change the value of `x` to the values of `y`, you need to assign the values rather than the name."
   ]
  },
  {
   "cell_type": "code",
   "execution_count": null,
   "id": "f2c14e6d",
   "metadata": {},
   "outputs": [],
   "source": [
    "x = [1 2 3]\n",
    "y = x       # name `y` binds to whatever `x` bound to\n",
    "z = [2 3 4]\n",
    "y .= z      # now dispatches the assignment of each element\n",
    "@show (x, y, z);"
   ]
  },
  {
   "cell_type": "markdown",
   "id": "dc347bba",
   "metadata": {},
   "source": [
    "Alternatively, you could have used `y[:] = z`.\n",
    "\n",
    "This applies to in-place functions as well.\n",
    "\n",
    "First, define a simple function for a linear map"
   ]
  },
  {
   "cell_type": "code",
   "execution_count": null,
   "id": "001c6dd0",
   "metadata": {},
   "outputs": [],
   "source": [
    "function f(x)\n",
    "    return [1 2; 3 4] * x  # matrix * column vector\n",
    "end\n",
    "\n",
    "val = [1, 2]\n",
    "f(val)"
   ]
  },
  {
   "cell_type": "markdown",
   "id": "481a35a3",
   "metadata": {},
   "source": [
    "In general, these \"out-of-place\" functions are preferred to \"in-place\" functions, which modify the arguments."
   ]
  },
  {
   "cell_type": "code",
   "execution_count": null,
   "id": "3fcc245e",
   "metadata": {},
   "outputs": [],
   "source": [
    "function f(x)\n",
    "    return [1 2; 3 4] * x # matrix * column vector\n",
    "end\n",
    "\n",
    "val = [1, 2]\n",
    "y = similar(val)\n",
    "\n",
    "function f!(out, x)\n",
    "    out .= [1 2; 3 4] * x\n",
    "end\n",
    "\n",
    "f!(y, val)\n",
    "y"
   ]
  },
  {
   "cell_type": "markdown",
   "id": "f427b7d8",
   "metadata": {},
   "source": [
    "This demonstrates a key convention in Julia: functions which modify any of the arguments have the name ending with `!` (e.g. `push!`).\n",
    "\n",
    "We can also see a common mistake, where instead of modifying the arguments, the name binding is swapped"
   ]
  },
  {
   "cell_type": "code",
   "execution_count": null,
   "id": "71f14591",
   "metadata": {},
   "outputs": [],
   "source": [
    "function f(x)\n",
    "    return [1 2; 3 4] * x  # matrix * column vector\n",
    "end\n",
    "\n",
    "val = [1, 2]\n",
    "y = similar(val)\n",
    "\n",
    "function f!(out, x)\n",
    "    out = [1 2; 3 4] * x   # MISTAKE! Should be .=\n",
    "end\n",
    "f!(y, val)\n",
    "y"
   ]
  },
  {
   "cell_type": "markdown",
   "id": "bf32220f",
   "metadata": {},
   "source": [
    "The frequency of making this mistake is one of the reasons to avoid in-place functions, unless proven to be necessary by benchmarking.\n",
    "\n",
    "### In-place and Immutable Types\n",
    "\n",
    "Note that scalars are always immutable, such that"
   ]
  },
  {
   "cell_type": "code",
   "execution_count": null,
   "id": "f31eb010",
   "metadata": {},
   "outputs": [],
   "source": [
    "y = [1 2]\n",
    "y .-= 2    # y .= y .- 2, no problem\n",
    "\n",
    "x = 5\n",
    "# x .-= 2  # Fails!\n",
    "x = x - 2  # subtle difference - creates a new value and rebinds the variable"
   ]
  },
  {
   "cell_type": "markdown",
   "id": "c1c79db3",
   "metadata": {},
   "source": [
    "In particular, there is no way to pass any immutable into a function and have it modified"
   ]
  },
  {
   "cell_type": "code",
   "execution_count": null,
   "id": "d6052449",
   "metadata": {},
   "outputs": [],
   "source": [
    "x = 2\n",
    "\n",
    "function f(x)\n",
    "    x = 3     # MISTAKE! does not modify x, creates a new value!\n",
    "end\n",
    "\n",
    "f(x)          # cannot modify immutables in place\n",
    "@show x;"
   ]
  },
  {
   "cell_type": "markdown",
   "id": "15fc6caa",
   "metadata": {},
   "source": [
    "This is also true for other immutable types such as tuples, as well as some vector types"
   ]
  },
  {
   "cell_type": "code",
   "execution_count": null,
   "id": "e1e2c55b",
   "metadata": {},
   "outputs": [],
   "source": [
    "using StaticArrays\n",
    "xdynamic = [1, 2]\n",
    "xstatic = @SVector [1, 2]  # turns it into a highly optimized static vector\n",
    "\n",
    "f(x) = 2x\n",
    "@show f(xdynamic)\n",
    "@show f(xstatic)\n",
    "\n",
    "# inplace version\n",
    "function g(x)\n",
    "    x .= 2x\n",
    "    return \"Success!\"\n",
    "end\n",
    "@show xdynamic\n",
    "@show g(xdynamic)\n",
    "@show xdynamic;\n",
    "\n",
    "# g(xstatic) # fails, static vectors are immutable"
   ]
  },
  {
   "cell_type": "markdown",
   "id": "69be8ad0",
   "metadata": {},
   "source": [
    "## Operations on Arrays\n",
    "\n",
    "### Array Methods\n",
    "\n",
    "Julia provides standard functions for acting on arrays, some of which we've\n",
    "already seen"
   ]
  },
  {
   "cell_type": "code",
   "execution_count": null,
   "id": "b284fff4",
   "metadata": {},
   "outputs": [],
   "source": [
    "a = [-1, 0, 1]\n",
    "\n",
    "@show length(a)\n",
    "@show sum(a)\n",
    "@show mean(a)\n",
    "@show std(a)      # standard deviation\n",
    "@show var(a)      # variance\n",
    "@show maximum(a)\n",
    "@show minimum(a)\n",
    "@show extrema(a)  # (mimimum(a), maximum(a))"
   ]
  },
  {
   "cell_type": "markdown",
   "id": "903729e4",
   "metadata": {},
   "source": [
    "To sort an array"
   ]
  },
  {
   "cell_type": "code",
   "execution_count": null,
   "id": "09a08297",
   "metadata": {},
   "outputs": [],
   "source": [
    "b = sort(a, rev = true)  # returns new array, original not modified"
   ]
  },
  {
   "cell_type": "code",
   "execution_count": null,
   "id": "48959ebf",
   "metadata": {},
   "outputs": [],
   "source": [
    "b = sort!(a, rev = true)  # returns *modified original* array"
   ]
  },
  {
   "cell_type": "code",
   "execution_count": null,
   "id": "199e27d7",
   "metadata": {},
   "outputs": [],
   "source": [
    "b == a  # tests if have the same values"
   ]
  },
  {
   "cell_type": "code",
   "execution_count": null,
   "id": "0a124eba",
   "metadata": {},
   "outputs": [],
   "source": [
    "b === a  # tests if arrays are identical (i.e share same memory)"
   ]
  },
  {
   "cell_type": "markdown",
   "id": "d31a1486",
   "metadata": {},
   "source": [
    "### Matrix Algebra\n",
    "\n",
    "For two dimensional arrays, `*` means matrix multiplication"
   ]
  },
  {
   "cell_type": "code",
   "execution_count": null,
   "id": "caea55fa",
   "metadata": {},
   "outputs": [],
   "source": [
    "a = ones(1, 2)"
   ]
  },
  {
   "cell_type": "code",
   "execution_count": null,
   "id": "31c6a3e3",
   "metadata": {},
   "outputs": [],
   "source": [
    "b = ones(2, 2)"
   ]
  },
  {
   "cell_type": "code",
   "execution_count": null,
   "id": "6670bd5d",
   "metadata": {},
   "outputs": [],
   "source": [
    "a * b"
   ]
  },
  {
   "cell_type": "code",
   "execution_count": null,
   "id": "c5ec276f",
   "metadata": {},
   "outputs": [],
   "source": [
    "b * a'"
   ]
  },
  {
   "cell_type": "markdown",
   "id": "26d3f52f",
   "metadata": {},
   "source": [
    "To solve the linear system $A X = B$ for $X$ use `A \\ B`"
   ]
  },
  {
   "cell_type": "code",
   "execution_count": null,
   "id": "09e68779",
   "metadata": {},
   "outputs": [],
   "source": [
    "A = [1 2; 2 3]"
   ]
  },
  {
   "cell_type": "code",
   "execution_count": null,
   "id": "30198621",
   "metadata": {},
   "outputs": [],
   "source": [
    "B = ones(2, 2)"
   ]
  },
  {
   "cell_type": "code",
   "execution_count": null,
   "id": "5a950263",
   "metadata": {},
   "outputs": [],
   "source": [
    "A \\ B"
   ]
  },
  {
   "cell_type": "code",
   "execution_count": null,
   "id": "48f3aa64",
   "metadata": {},
   "outputs": [],
   "source": [
    "inv(A) * B"
   ]
  },
  {
   "cell_type": "markdown",
   "id": "9f545276",
   "metadata": {},
   "source": [
    "Although the last two operations give the same result, the first one is numerically more stable and should be preferred in most cases.\n",
    "\n",
    "Multiplying two **one** dimensional vectors gives an error -- which is reasonable since the meaning is ambiguous.\n",
    "\n",
    "More precisely, the error is that there isn't an implementation of `*` for two one dimensional vectors.\n",
    "\n",
    "The output explains this, and lists some other methods of `*` which Julia thinks are close to what we want."
   ]
  },
  {
   "cell_type": "code",
   "execution_count": null,
   "id": "d47bf8bf",
   "metadata": {
    "tags": [
     "raises-exception"
    ]
   },
   "outputs": [],
   "source": [
    "ones(2) * ones(2)  # does not conform, expect error"
   ]
  },
  {
   "cell_type": "markdown",
   "id": "7e9c2eac",
   "metadata": {},
   "source": [
    "Instead, you could take the transpose to form a row vector"
   ]
  },
  {
   "cell_type": "code",
   "execution_count": null,
   "id": "3c2fa93a",
   "metadata": {},
   "outputs": [],
   "source": [
    "ones(2)' * ones(2)"
   ]
  },
  {
   "cell_type": "markdown",
   "id": "a2162718",
   "metadata": {},
   "source": [
    "Alternatively, for inner product in this setting use `dot()` or the unicode `\\cdot<TAB>`"
   ]
  },
  {
   "cell_type": "code",
   "execution_count": null,
   "id": "3f7bb993",
   "metadata": {},
   "outputs": [],
   "source": [
    "@show dot(ones(2), ones(2))\n",
    "@show ones(2) ⋅ ones(2);"
   ]
  },
  {
   "cell_type": "markdown",
   "id": "aaa40e85",
   "metadata": {},
   "source": [
    "Matrix multiplication using one dimensional vectors similarly follows from treating them as\n",
    "column vectors.  Post-multiplication requires a transpose"
   ]
  },
  {
   "cell_type": "code",
   "execution_count": null,
   "id": "f15b5a83",
   "metadata": {},
   "outputs": [],
   "source": [
    "b = ones(2, 2)\n",
    "b * ones(2)"
   ]
  },
  {
   "cell_type": "code",
   "execution_count": null,
   "id": "e07467c0",
   "metadata": {},
   "outputs": [],
   "source": [
    "ones(2)' * b"
   ]
  },
  {
   "cell_type": "markdown",
   "id": "a8e023f5",
   "metadata": {},
   "source": [
    "Note that the type of the returned value in this case is not `Array{Float64,1}` but rather\n",
    "`Adjoint{Float64,Array{Float64,1}}`.\n",
    "\n",
    "This is since the left multiplication by a row vector should also be a row-vector.  It also hints\n",
    "that the types in Julia more complicated than first appears in the surface notation, as we will explore\n",
    "further in the {doc}`introduction to types lecture <../getting_started_julia/introduction_to_types>`.\n",
    "\n",
    "### Elementwise Operations\n",
    "\n",
    "#### Algebraic Operations\n",
    "\n",
    "Suppose that we wish to multiply every element of matrix `A` with the corresponding element of matrix `B`.\n",
    "\n",
    "In that case we need to replace `*` (matrix multiplication) with `.*` (elementwise multiplication).\n",
    "\n",
    "For example, compare"
   ]
  },
  {
   "cell_type": "code",
   "execution_count": null,
   "id": "d2b9060f",
   "metadata": {},
   "outputs": [],
   "source": [
    "ones(2, 2) * ones(2, 2)   # matrix multiplication"
   ]
  },
  {
   "cell_type": "code",
   "execution_count": null,
   "id": "345da391",
   "metadata": {},
   "outputs": [],
   "source": [
    "ones(2, 2) .* ones(2, 2)   # element by element multiplication"
   ]
  },
  {
   "cell_type": "markdown",
   "id": "b2754342",
   "metadata": {},
   "source": [
    "This is a general principle: `.x` means apply operator `x` elementwise"
   ]
  },
  {
   "cell_type": "code",
   "execution_count": null,
   "id": "77de496d",
   "metadata": {},
   "outputs": [],
   "source": [
    "A = -ones(2, 2)"
   ]
  },
  {
   "cell_type": "code",
   "execution_count": null,
   "id": "949eeedb",
   "metadata": {},
   "outputs": [],
   "source": [
    "A .^ 2  # square every element"
   ]
  },
  {
   "cell_type": "markdown",
   "id": "f87dd883",
   "metadata": {},
   "source": [
    "However in practice some operations are mathematically valid without broadcasting, and hence the `.` can be omitted."
   ]
  },
  {
   "cell_type": "code",
   "execution_count": null,
   "id": "6b99bf83",
   "metadata": {},
   "outputs": [],
   "source": [
    "ones(2, 2) + ones(2, 2)  # same as ones(2, 2) .+ ones(2, 2)"
   ]
  },
  {
   "cell_type": "markdown",
   "id": "b242d3ba",
   "metadata": {},
   "source": [
    "Scalar multiplication is similar"
   ]
  },
  {
   "cell_type": "code",
   "execution_count": null,
   "id": "f42b0308",
   "metadata": {},
   "outputs": [],
   "source": [
    "A = ones(2, 2)"
   ]
  },
  {
   "cell_type": "code",
   "execution_count": null,
   "id": "8938086c",
   "metadata": {},
   "outputs": [],
   "source": [
    "2 * A  # same as 2 .* A"
   ]
  },
  {
   "cell_type": "markdown",
   "id": "afb6dedc",
   "metadata": {},
   "source": [
    "In fact you can omit the `*` altogether and just write `2A`.\n",
    "\n",
    "Unlike MATLAB and other languages, scalar addition requires the `.+` in order to correctly broadcast"
   ]
  },
  {
   "cell_type": "code",
   "execution_count": null,
   "id": "3db11e9e",
   "metadata": {},
   "outputs": [],
   "source": [
    "x = [1, 2]\n",
    "x .+ 1     # not x + 1\n",
    "x .- 1     # not x - 1"
   ]
  },
  {
   "cell_type": "markdown",
   "id": "9bbfd0f5",
   "metadata": {},
   "source": [
    "#### Elementwise Comparisons\n",
    "\n",
    "Elementwise comparisons also use the `.x` style notation"
   ]
  },
  {
   "cell_type": "code",
   "execution_count": null,
   "id": "9a621ca2",
   "metadata": {},
   "outputs": [],
   "source": [
    "a = [10, 20, 30]"
   ]
  },
  {
   "cell_type": "code",
   "execution_count": null,
   "id": "33a1fd38",
   "metadata": {},
   "outputs": [],
   "source": [
    "b = [-100, 0, 100]"
   ]
  },
  {
   "cell_type": "code",
   "execution_count": null,
   "id": "df1eca20",
   "metadata": {},
   "outputs": [],
   "source": [
    "b .> a"
   ]
  },
  {
   "cell_type": "code",
   "execution_count": null,
   "id": "c7483695",
   "metadata": {},
   "outputs": [],
   "source": [
    "a .== b"
   ]
  },
  {
   "cell_type": "markdown",
   "id": "27ffe07d",
   "metadata": {},
   "source": [
    "We can also do comparisons against scalars with parallel syntax"
   ]
  },
  {
   "cell_type": "code",
   "execution_count": null,
   "id": "04d09fe8",
   "metadata": {},
   "outputs": [],
   "source": [
    "b"
   ]
  },
  {
   "cell_type": "code",
   "execution_count": null,
   "id": "0467ef43",
   "metadata": {},
   "outputs": [],
   "source": [
    "b .> 1"
   ]
  },
  {
   "cell_type": "markdown",
   "id": "ec50e0cb",
   "metadata": {},
   "source": [
    "This is particularly useful for *conditional extraction* -- extracting the elements of an array that satisfy a condition"
   ]
  },
  {
   "cell_type": "code",
   "execution_count": null,
   "id": "18187912",
   "metadata": {},
   "outputs": [],
   "source": [
    "a = randn(4)"
   ]
  },
  {
   "cell_type": "code",
   "execution_count": null,
   "id": "e8df08a5",
   "metadata": {},
   "outputs": [],
   "source": [
    "a .< 0"
   ]
  },
  {
   "cell_type": "code",
   "execution_count": null,
   "id": "2881f630",
   "metadata": {},
   "outputs": [],
   "source": [
    "a[a .< 0]"
   ]
  },
  {
   "cell_type": "markdown",
   "id": "7092b7aa",
   "metadata": {},
   "source": [
    "#### Changing Dimensions\n",
    "\n",
    "The primary function for changing the dimensions of an array is `reshape()`"
   ]
  },
  {
   "cell_type": "code",
   "execution_count": null,
   "id": "017eda76",
   "metadata": {},
   "outputs": [],
   "source": [
    "a = [10, 20, 30, 40]"
   ]
  },
  {
   "cell_type": "code",
   "execution_count": null,
   "id": "d3799740",
   "metadata": {},
   "outputs": [],
   "source": [
    "b = reshape(a, 2, 2)"
   ]
  },
  {
   "cell_type": "code",
   "execution_count": null,
   "id": "e865e83e",
   "metadata": {},
   "outputs": [],
   "source": [
    "b"
   ]
  },
  {
   "cell_type": "markdown",
   "id": "fc5ccae3",
   "metadata": {},
   "source": [
    "Notice that this function returns a view on the existing array.\n",
    "\n",
    "This means that changing the data in the new array will modify the data in the\n",
    "old one."
   ]
  },
  {
   "cell_type": "code",
   "execution_count": null,
   "id": "7e8d56d8",
   "metadata": {},
   "outputs": [],
   "source": [
    "b[1, 1] = 100  # continuing the previous example"
   ]
  },
  {
   "cell_type": "code",
   "execution_count": null,
   "id": "87057a3e",
   "metadata": {},
   "outputs": [],
   "source": [
    "b"
   ]
  },
  {
   "cell_type": "code",
   "execution_count": null,
   "id": "6aea666b",
   "metadata": {},
   "outputs": [],
   "source": [
    "a"
   ]
  },
  {
   "cell_type": "markdown",
   "id": "0779967a",
   "metadata": {},
   "source": [
    "To collapse an array along one dimension you can use `dropdims()`"
   ]
  },
  {
   "cell_type": "code",
   "execution_count": null,
   "id": "b7f56917",
   "metadata": {},
   "outputs": [],
   "source": [
    "a = [1 2 3 4]  # two dimensional"
   ]
  },
  {
   "cell_type": "code",
   "execution_count": null,
   "id": "2b656b75",
   "metadata": {},
   "outputs": [],
   "source": [
    "dropdims(a, dims = 1)"
   ]
  },
  {
   "cell_type": "markdown",
   "id": "35e6cc6e",
   "metadata": {},
   "source": [
    "The return value is an array with the specified dimension \"flattened\".\n",
    "\n",
    "### Broadcasting Functions\n",
    "\n",
    "Julia provides standard mathematical functions such as `log`, `exp`, `sin`, etc."
   ]
  },
  {
   "cell_type": "code",
   "execution_count": null,
   "id": "1e984983",
   "metadata": {},
   "outputs": [],
   "source": [
    "log(1.0)"
   ]
  },
  {
   "cell_type": "markdown",
   "id": "b70de217",
   "metadata": {},
   "source": [
    "By default, these functions act *elementwise* on arrays"
   ]
  },
  {
   "cell_type": "code",
   "execution_count": null,
   "id": "f764f2cf",
   "metadata": {},
   "outputs": [],
   "source": [
    "log.(1:4)"
   ]
  },
  {
   "cell_type": "markdown",
   "id": "e64537b4",
   "metadata": {},
   "source": [
    "Note that we can get the same result as with a comprehension or more explicit loop"
   ]
  },
  {
   "cell_type": "code",
   "execution_count": null,
   "id": "a878031e",
   "metadata": {},
   "outputs": [],
   "source": [
    "[log(x) for x in 1:4]"
   ]
  },
  {
   "cell_type": "markdown",
   "id": "2d48a51e",
   "metadata": {},
   "source": [
    "Nonetheless the syntax is convenient.\n",
    "\n",
    "### Linear Algebra\n",
    "\n",
    "([See linear algebra documentation](https://docs.julialang.org/en/v1/stdlib/LinearAlgebra/))\n",
    "\n",
    "Julia provides some a great deal of additional functionality related to linear operations"
   ]
  },
  {
   "cell_type": "code",
   "execution_count": null,
   "id": "9f3a6c30",
   "metadata": {},
   "outputs": [],
   "source": [
    "A = [1 2; 3 4]"
   ]
  },
  {
   "cell_type": "code",
   "execution_count": null,
   "id": "3b31cc9a",
   "metadata": {},
   "outputs": [],
   "source": [
    "det(A)"
   ]
  },
  {
   "cell_type": "code",
   "execution_count": null,
   "id": "620e42ea",
   "metadata": {},
   "outputs": [],
   "source": [
    "tr(A)"
   ]
  },
  {
   "cell_type": "code",
   "execution_count": null,
   "id": "34acd28e",
   "metadata": {},
   "outputs": [],
   "source": [
    "eigvals(A)"
   ]
  },
  {
   "cell_type": "code",
   "execution_count": null,
   "id": "96d3b6f4",
   "metadata": {},
   "outputs": [],
   "source": [
    "rank(A)"
   ]
  },
  {
   "cell_type": "markdown",
   "id": "66cc2833",
   "metadata": {},
   "source": [
    "## Ranges\n",
    "\n",
    "As with many other types, a `Range` can act as a vector."
   ]
  },
  {
   "cell_type": "code",
   "execution_count": null,
   "id": "47d88618",
   "metadata": {},
   "outputs": [],
   "source": [
    "a = 10:12        # a range, equivalent to 10:1:12\n",
    "@show Vector(a)  # can convert, but shouldn't\n",
    "\n",
    "b = Diagonal([1.0, 2.0, 3.0])\n",
    "b * a .- [1.0; 2.0; 3.0]"
   ]
  },
  {
   "cell_type": "markdown",
   "id": "ffbd27a4",
   "metadata": {},
   "source": [
    "Ranges can also be created with floating point numbers using the same notation."
   ]
  },
  {
   "cell_type": "code",
   "execution_count": null,
   "id": "f9e96a3f",
   "metadata": {},
   "outputs": [],
   "source": [
    "a = 0.0:0.1:1.0  # 0.0, 0.1, 0.2, ... 1.0"
   ]
  },
  {
   "cell_type": "markdown",
   "id": "e037f848",
   "metadata": {},
   "source": [
    "But care should be taken if the terminal node is not a multiple of the set sizes."
   ]
  },
  {
   "cell_type": "code",
   "execution_count": null,
   "id": "fa4c040e",
   "metadata": {},
   "outputs": [],
   "source": [
    "maxval = 1.0\n",
    "minval = 0.0\n",
    "stepsize = 0.15\n",
    "a = minval:stepsize:maxval # 0.0, 0.15, 0.3, ...\n",
    "maximum(a) == maxval"
   ]
  },
  {
   "cell_type": "markdown",
   "id": "a8b03362",
   "metadata": {},
   "source": [
    "To evenly space points where the maximum value is important, i.e., `linspace` in other languages"
   ]
  },
  {
   "cell_type": "code",
   "execution_count": null,
   "id": "e729bff3",
   "metadata": {},
   "outputs": [],
   "source": [
    "maxval = 1.0\n",
    "minval = 0.0\n",
    "numpoints = 10\n",
    "a = range(minval, maxval, length = numpoints)\n",
    "# or range(minval, stop=maxval, length=numpoints)\n",
    "\n",
    "maximum(a) == maxval"
   ]
  },
  {
   "cell_type": "markdown",
   "id": "5b097117",
   "metadata": {},
   "source": [
    "## Tuples and Named Tuples\n",
    "\n",
    "([See tuples](https://docs.julialang.org/en/v1/manual/functions/#Tuples-1) and [named tuples documentation](https://docs.julialang.org/en/v1/manual/functions/#Named-Tuples-1))\n",
    "\n",
    "We were introduced to tuples earlier, which provide high-performance immutable sets of distinct types."
   ]
  },
  {
   "cell_type": "code",
   "execution_count": null,
   "id": "30348e9a",
   "metadata": {},
   "outputs": [],
   "source": [
    "t = (1.0, \"test\")\n",
    "t[1]            # access by index\n",
    "a, b = t        # unpack\n",
    "# t[1] = 3.0    # would fail as tuples are immutable\n",
    "println(\"a = $a and b = $b\")"
   ]
  },
  {
   "cell_type": "markdown",
   "id": "5a1db7ba",
   "metadata": {},
   "source": [
    "As well as **named tuples**, which extend tuples with names for each argument."
   ]
  },
  {
   "cell_type": "code",
   "execution_count": null,
   "id": "d4c0ea5f",
   "metadata": {},
   "outputs": [],
   "source": [
    "t = (; val1 = 1.0, val2 = \"test\") # ; is optional but good form\n",
    "t.val1      # access by index\n",
    "println(\"val1 = $(t.val1) and val2 = $(t.val2)\") # access by name\n",
    "(; val1, val2) = t  # unpacking notation (note the ;)\n",
    "println(\"val1 = $val1 and val2 = $val2\")"
   ]
  },
  {
   "cell_type": "markdown",
   "id": "8587286b",
   "metadata": {},
   "source": [
    "While immutable, it is possible to manipulate tuples and generate new ones"
   ]
  },
  {
   "cell_type": "code",
   "execution_count": null,
   "id": "67b87759",
   "metadata": {},
   "outputs": [],
   "source": [
    "t2 = (; val3 = 4, val4 = \"test!!\")\n",
    "t3 = merge(t, t2)  # new tuple"
   ]
  },
  {
   "cell_type": "markdown",
   "id": "df507f84",
   "metadata": {},
   "source": [
    "Named tuples are a convenient and high-performance way to manage and unpack sets of parameters"
   ]
  },
  {
   "cell_type": "code",
   "execution_count": null,
   "id": "c9e00d1d",
   "metadata": {},
   "outputs": [],
   "source": [
    "function f(parameters)\n",
    "    alpha, beta = parameters.alpha, parameters.beta # poor style, error prone\n",
    "    return alpha + beta\n",
    "end\n",
    "\n",
    "parameters = (; alpha = 0.1, beta = 0.2)\n",
    "f(parameters)"
   ]
  },
  {
   "cell_type": "markdown",
   "id": "825a035f",
   "metadata": {},
   "source": [
    "This functionality is aided by the unpacking notation"
   ]
  },
  {
   "cell_type": "code",
   "execution_count": null,
   "id": "baba270d",
   "metadata": {},
   "outputs": [],
   "source": [
    "function f(parameters)\n",
    "    (; alpha, beta) = parameters  # good style, less sensitive to errors\n",
    "    return alpha + beta\n",
    "end\n",
    "\n",
    "parameters = (; alpha = 0.1, beta = 0.2)\n",
    "f(parameters)"
   ]
  },
  {
   "cell_type": "markdown",
   "id": "b046b151",
   "metadata": {},
   "source": [
    "To generate parameters with defaults, you can create a function---which can also do intermediate calculations"
   ]
  },
  {
   "cell_type": "code",
   "execution_count": null,
   "id": "6d7a7d73",
   "metadata": {},
   "outputs": [],
   "source": [
    "function param_gen(; alpha = 0.1, beta = 0.2)\n",
    "    return (; alpha, beta)\n",
    "end\n",
    "@show param_gen()\n",
    "@show param_gen(; alpha = 0.2)"
   ]
  },
  {
   "cell_type": "markdown",
   "id": "9dda1bcb",
   "metadata": {},
   "source": [
    "For alternative approches:\n",
    "- An alternative approach, defining a new type using `struct` tends to be more prone to accidental misuse, leads to a great deal of boilerplate code, and requires a julia restart after every update.\n",
    "- You can also use the `@with_kw` in the `Parameters.jl` package, which automatically creates a function.  e.g., `param_gen = @with_kw (alpha = 0.1, beta = 0.2)` would be roughly equivalent to the above.\n",
    "\n",
    "## Nothing, Missing, and Unions\n",
    "\n",
    "Sometimes a variable, return type from a function, or value in an array needs to represent the absence of a value rather than a particular value.\n",
    "\n",
    "There are two distinct use cases for this\n",
    "\n",
    "1. `nothing` (\"software engineers null\"): used where no value makes sense in a particular context due to a failure in the code, a function parameter not passed in, etc.\n",
    "1. `missing` (\"data scientists null\"): used when a value would make conceptual sense, but it isn't available.\n",
    "\n",
    "(error_handling)=\n",
    "### Nothing and Basic Error Handling\n",
    "\n",
    "The value `nothing` is a single value of type `Nothing`"
   ]
  },
  {
   "cell_type": "code",
   "execution_count": null,
   "id": "747ae2df",
   "metadata": {},
   "outputs": [],
   "source": [
    "typeof(nothing)"
   ]
  },
  {
   "cell_type": "markdown",
   "id": "6ef486ab",
   "metadata": {},
   "source": [
    "An example of a reasonable use of `nothing` is if you need to have a variable defined in an outer scope, which may or may not be set in an inner one"
   ]
  },
  {
   "cell_type": "code",
   "execution_count": null,
   "id": "44892c00",
   "metadata": {},
   "outputs": [],
   "source": [
    "function f(y)\n",
    "    x = nothing\n",
    "    if y > 0.0\n",
    "        # calculations to set `x`\n",
    "        x = y\n",
    "    end\n",
    "\n",
    "    # later, can check `x`\n",
    "    if isnothing(x)\n",
    "        println(\"x was not set\")\n",
    "    else\n",
    "        println(\"x = $x\")\n",
    "    end\n",
    "    x\n",
    "end\n",
    "\n",
    "@show f(1.0)\n",
    "@show f(-1.0);"
   ]
  },
  {
   "cell_type": "markdown",
   "id": "228e7c7e",
   "metadata": {},
   "source": [
    "While in general you want to keep a variable name bound to a single type in Julia, this is a notable exception.\n",
    "\n",
    "Similarly, if needed, you can return a `nothing` from a function to indicate that it did not calculate as expected."
   ]
  },
  {
   "cell_type": "code",
   "execution_count": null,
   "id": "05ea32bf",
   "metadata": {},
   "outputs": [],
   "source": [
    "function f(x)\n",
    "    if x > 0.0\n",
    "        return sqrt(x)\n",
    "    else\n",
    "        return nothing\n",
    "    end\n",
    "end\n",
    "x1 = 1.0\n",
    "x2 = -1.0\n",
    "y1 = f(x1)\n",
    "y2 = f(x2)\n",
    "\n",
    "# check results with isnothing\n",
    "if isnothing(y1)\n",
    "    println(\"f($x2) successful\")\n",
    "else\n",
    "    println(\"f($x2) failed\")\n",
    "end"
   ]
  },
  {
   "cell_type": "markdown",
   "id": "f44b2702",
   "metadata": {},
   "source": [
    "As an aside, an equivalent way to write the above function is to use the\n",
    "[ternary operator](https://docs.julialang.org/en/v1/manual/control-flow/index.html#man-conditional-evaluation-1),\n",
    "which gives a compact if/then/else structure"
   ]
  },
  {
   "cell_type": "code",
   "execution_count": null,
   "id": "f4baea4b",
   "metadata": {},
   "outputs": [],
   "source": [
    "function f(x)\n",
    "    x > 0.0 ? sqrt(x) : nothing  # the \"a ? b : c\" pattern is the ternary\n",
    "end\n",
    "\n",
    "f(1.0)"
   ]
  },
  {
   "cell_type": "markdown",
   "id": "f38f2162",
   "metadata": {},
   "source": [
    "We will sometimes use this form when it makes the code more clear (and it will occasionally make the code higher performance).\n",
    "\n",
    "Regardless of how `f(x)` is written,  the return type is an example of a union, where the result could be one of an explicit set of types.\n",
    "\n",
    "In this particular case, the compiler would deduce that the type would be a `Union{Nothing,Float64}` -- that is, it returns either a floating point or a `nothing`.\n",
    "\n",
    "You will see this type directly if you use an array containing both types"
   ]
  },
  {
   "cell_type": "code",
   "execution_count": null,
   "id": "918decc4",
   "metadata": {},
   "outputs": [],
   "source": [
    "x = [1.0, nothing]"
   ]
  },
  {
   "cell_type": "markdown",
   "id": "834fe5b1",
   "metadata": {},
   "source": [
    "When considering error handling, whether you want a function to return `nothing` or simply fail depends on whether the code calling `f(x)` is carefully checking the results.\n",
    "\n",
    "For example, if you were calling on an array of parameters where a priori you were not sure which ones will succeed, then"
   ]
  },
  {
   "cell_type": "code",
   "execution_count": null,
   "id": "9dc61da1",
   "metadata": {},
   "outputs": [],
   "source": [
    "x = [0.1, -1.0, 2.0, -2.0]\n",
    "y = f.(x)\n",
    "\n",
    "# presumably check `y`"
   ]
  },
  {
   "cell_type": "markdown",
   "id": "8ae6bed5",
   "metadata": {},
   "source": [
    "On the other hand, if the parameter passed is invalid and you would prefer not to handle a graceful failure, then using an assertion is more appropriate."
   ]
  },
  {
   "cell_type": "code",
   "execution_count": null,
   "id": "99e5be2e",
   "metadata": {},
   "outputs": [],
   "source": [
    "function f(x)\n",
    "    @assert x > 0.0\n",
    "    sqrt(x)\n",
    "end\n",
    "\n",
    "f(1.0)"
   ]
  },
  {
   "cell_type": "markdown",
   "id": "76af9723",
   "metadata": {},
   "source": [
    "Finally, `nothing` is a good way to indicate an optional parameter in a function"
   ]
  },
  {
   "cell_type": "code",
   "execution_count": null,
   "id": "32fbfc76",
   "metadata": {},
   "outputs": [],
   "source": [
    "function f(x; z = nothing)\n",
    "    if isnothing(z)\n",
    "        println(\"No z given with $x\")\n",
    "    else\n",
    "        println(\"z = $z given with $x\")\n",
    "    end\n",
    "end\n",
    "\n",
    "f(1.0)\n",
    "f(1.0, z = 3.0)"
   ]
  },
  {
   "cell_type": "markdown",
   "id": "c9b88cae",
   "metadata": {},
   "source": [
    "An alternative to `nothing`, which can be useful and sometimes higher performance,\n",
    "is to use `NaN` to signal that a value is invalid returning from a function."
   ]
  },
  {
   "cell_type": "code",
   "execution_count": null,
   "id": "82926577",
   "metadata": {},
   "outputs": [],
   "source": [
    "function f(x)\n",
    "    if x > 0.0\n",
    "        return x\n",
    "    else\n",
    "        return NaN\n",
    "    end\n",
    "end\n",
    "\n",
    "f(0.1)\n",
    "f(-1.0)\n",
    "\n",
    "@show typeof(f(-1.0))\n",
    "@show f(-1.0) == NaN  # note, this fails!\n",
    "@show isnan(f(-1.0))  # check with this"
   ]
  },
  {
   "cell_type": "markdown",
   "id": "45d58e2d",
   "metadata": {},
   "source": [
    "Note that in this case, the return type is `Float64` regardless of the input for `Float64` input.\n",
    "\n",
    "Keep in mind, though, that this only works if the return type of a function is `Float64`.\n",
    "\n",
    "### Exceptions\n",
    "\n",
    "(See [exceptions documentation](https://docs.julialang.org/en/v1/manual/control-flow/index.html#Exception-Handling-1))\n",
    "\n",
    "While returning a `nothing` can be a good way to deal with functions which may or may not return values, a more robust error handling method is to use exceptions.\n",
    "\n",
    "Unless you are writing a package, you will rarely want to define and throw your own exceptions, but will need to deal with them from other libraries.\n",
    "\n",
    "The key distinction for when to use an exceptions vs. return a `nothing` is whether an error is unexpected rather than a normal path of execution.\n",
    "\n",
    "An example of an exception is a `DomainError`, which signifies that a value passed to a function is invalid."
   ]
  },
  {
   "cell_type": "code",
   "execution_count": null,
   "id": "f88c7752",
   "metadata": {},
   "outputs": [],
   "source": [
    "# throws exception, turned off to prevent breaking notebook\n",
    "# sqrt(-1.0)\n",
    "\n",
    "# to see the error\n",
    "try\n",
    "    sqrt(-1.0)\n",
    "catch err\n",
    "    err\n",
    "end  # catches the exception and prints it"
   ]
  },
  {
   "cell_type": "markdown",
   "id": "c8a8b26b",
   "metadata": {},
   "source": [
    "Another example you will see is when the compiler cannot convert between types."
   ]
  },
  {
   "cell_type": "code",
   "execution_count": null,
   "id": "c2c0c901",
   "metadata": {},
   "outputs": [],
   "source": [
    "# throws exception, turned off to prevent breaking notebook\n",
    "# convert(Int64, 3.12)\n",
    "\n",
    "# to see the error\n",
    "try\n",
    "    convert(Int64, 3.12)\n",
    "catch err\n",
    "    err\n",
    "end  # catches the exception and prints it."
   ]
  },
  {
   "cell_type": "markdown",
   "id": "003a73f7",
   "metadata": {},
   "source": [
    "If these exceptions are generated from unexpected cases in your code, it may be appropriate simply let them occur and ensure you can read the error.\n",
    "\n",
    "Occasionally you will want to catch these errors and try to recover, as we did above in the `try` block."
   ]
  },
  {
   "cell_type": "code",
   "execution_count": null,
   "id": "1db409f1",
   "metadata": {},
   "outputs": [],
   "source": [
    "function f(x)\n",
    "    try\n",
    "        sqrt(x)\n",
    "    catch err                # enters if exception thrown\n",
    "        sqrt(complex(x, 0))  # convert to complex number\n",
    "    end\n",
    "end\n",
    "\n",
    "f(0.0)\n",
    "f(-1.0)"
   ]
  },
  {
   "cell_type": "markdown",
   "id": "4c114aa7",
   "metadata": {},
   "source": [
    "(missing)=\n",
    "### Missing\n",
    "\n",
    "(see [\"missing\" documentation](https://docs.julialang.org/en/v1/manual/missing/))\n",
    "\n",
    "The value `missing` of type `Missing` is used to represent missing value in a statistical sense.\n",
    "\n",
    "For example, if you loaded data from a panel, and gaps existed"
   ]
  },
  {
   "cell_type": "code",
   "execution_count": null,
   "id": "227e0c5f",
   "metadata": {},
   "outputs": [],
   "source": [
    "x = [3.0, missing, 5.0, missing, missing]"
   ]
  },
  {
   "cell_type": "markdown",
   "id": "af01af82",
   "metadata": {},
   "source": [
    "A key feature of `missing` is that it propagates through other function calls - unlike `nothing`"
   ]
  },
  {
   "cell_type": "code",
   "execution_count": null,
   "id": "08403b15",
   "metadata": {},
   "outputs": [],
   "source": [
    "f(x) = x^2\n",
    "\n",
    "@show missing + 1.0\n",
    "@show missing * 2\n",
    "@show missing * \"test\"\n",
    "@show f(missing);      # even user-defined functions\n",
    "@show mean(x);"
   ]
  },
  {
   "cell_type": "markdown",
   "id": "ba98034b",
   "metadata": {},
   "source": [
    "The purpose of this is to ensure that failures do not silently fail and provide meaningless numerical results.\n",
    "\n",
    "This even applies for the comparison of values, which"
   ]
  },
  {
   "cell_type": "code",
   "execution_count": null,
   "id": "83c82ab6",
   "metadata": {},
   "outputs": [],
   "source": [
    "x = missing\n",
    "\n",
    "@show x == missing\n",
    "@show x === missing  # an exception\n",
    "@show ismissing(x);"
   ]
  },
  {
   "cell_type": "markdown",
   "id": "1b6335c4",
   "metadata": {},
   "source": [
    "Where `ismissing` is the canonical way to test the value.\n",
    "\n",
    "In the case where you would like to calculate a value without the missing values, you can use `skipmissing`."
   ]
  },
  {
   "cell_type": "code",
   "execution_count": null,
   "id": "78fbe8c7",
   "metadata": {},
   "outputs": [],
   "source": [
    "x = [1.0, missing, 2.0, missing, missing, 5.0]\n",
    "\n",
    "@show mean(x)\n",
    "@show mean(skipmissing(x))\n",
    "@show coalesce.(x, 0.0);  # replace missing with 0.0;"
   ]
  },
  {
   "cell_type": "markdown",
   "id": "7ab7bc27",
   "metadata": {},
   "source": [
    "As `missing` is similar to R's `NA` type, we will see more of `missing` when we cover `DataFrames`.\n",
    "\n",
    "## Exercises\n",
    "\n",
    "(np_ex1)=\n",
    "### Exercise 1\n",
    "\n",
    "This exercise uses matrix operations that arise in certain problems,\n",
    "including when dealing with linear stochastic difference equations.\n",
    "\n",
    "If you aren't familiar with all the terminology don't be concerned -- you can\n",
    "skim read the background discussion and focus purely on the matrix exercise.\n",
    "\n",
    "With that said, consider the stochastic difference equation\n",
    "\n",
    "```{math}\n",
    ":label: ja_sde\n",
    "\n",
    "X_{t+1} = A X_t + b + \\Sigma W_{t+1}\n",
    "```\n",
    "\n",
    "Here\n",
    "\n",
    "* $X_t, b$ and $X_{t+1}$ are $n \\times 1$\n",
    "* $A$ is $n \\times n$\n",
    "* $\\Sigma$ is $n \\times k$\n",
    "* $W_t$ is $k \\times 1$ and $\\{W_t\\}$ is iid with zero mean and variance-covariance matrix equal to the identity matrix\n",
    "\n",
    "Let $S_t$ denote the $n \\times n$ variance-covariance matrix of $X_t$.\n",
    "\n",
    "Using the rules for computing variances in matrix expressions, it can be shown from {eq}`ja_sde` that $\\{S_t\\}$ obeys\n",
    "\n",
    "```{math}\n",
    ":label: ja_sde_v\n",
    "\n",
    "S_{t+1} = A S_t A' + \\Sigma \\Sigma'\n",
    "```\n",
    "\n",
    "It can be shown that, provided all eigenvalues of $A$ lie within the unit circle, the sequence $\\{S_t\\}$ converges to a unique limit $S$.\n",
    "\n",
    "This is the **unconditional variance** or **asymptotic variance** of the stochastic difference equation.\n",
    "\n",
    "As an exercise, try writing a simple function that solves for the limit $S$ by iterating on {eq}`ja_sde_v` given $A$ and $\\Sigma$.\n",
    "\n",
    "To test your solution, observe that the limit $S$ is a solution to the matrix equation\n",
    "\n",
    "```{math}\n",
    ":label: ja_dle\n",
    "\n",
    "S = A S A' + Q\n",
    "\\quad \\text{where} \\quad Q := \\Sigma \\Sigma'\n",
    "```\n",
    "\n",
    "This kind of equation is known as a **discrete time Lyapunov equation**.\n",
    "\n",
    "The [QuantEcon package](http://quantecon.org/quantecon-jl)\n",
    "provides a function called `solve_discrete_lyapunov` that implements a fast\n",
    "\"doubling\" algorithm to solve this equation.\n",
    "\n",
    "Test your iterative method against `solve_discrete_lyapunov` using matrices\n",
    "\n",
    "$$\n",
    "A =\n",
    "\\begin{bmatrix}\n",
    "    0.8 & -0.2  \\\\\n",
    "    -0.1 & 0.7\n",
    "\\end{bmatrix}\n",
    "\\qquad\n",
    "\\Sigma =\n",
    "\\begin{bmatrix}\n",
    "    0.5 & 0.4 \\\\\n",
    "    0.4 & 0.6\n",
    "\\end{bmatrix}\n",
    "$$\n",
    "\n",
    "### Exercise 2\n",
    "\n",
    "Take a stochastic process for $\\{y_t\\}_{t=0}^T$\n",
    "\n",
    "$$\n",
    "y_{t+1} = \\gamma + \\theta y_t + \\sigma w_{t+1}\n",
    "$$\n",
    "\n",
    "where\n",
    "\n",
    "* $w_{t+1}$ is distributed `Normal(0,1)`\n",
    "* $\\gamma=1, \\sigma=1, y_0 = 0$\n",
    "* $\\theta \\in \\Theta \\equiv \\{0.8, 0.9, 0.98\\}$\n",
    "\n",
    "Given these parameters\n",
    "\n",
    "* Simulate a single $y_t$ series for each $\\theta \\in \\Theta$\n",
    "  for $T = 150$.  Feel free to experiment with different $T$.\n",
    "* Overlay plots of the rolling mean of the process for each $\\theta \\in \\Theta$,\n",
    "  i.e. for each $1 \\leq \\tau \\leq T$ plot\n",
    "\n",
    "$$\n",
    "\\frac{1}{\\tau}\\sum_{t=1}^{\\tau}y_T\n",
    "$$\n",
    "\n",
    "* Simulate $N=200$ paths of the stochastic process above to the $T$,\n",
    "  for each $\\theta \\in \\Theta$, where we refer to an element of a particular\n",
    "  simulation as $y^n_t$.\n",
    "* Overlay plots a histogram of the stationary distribution of the final\n",
    "  $y^n_T$ for each $\\theta \\in \\Theta$.  Hint: pass `alpha`\n",
    "  to a plot to make it transparent (e.g. `histogram(vals, alpha = 0.5)`) or\n",
    "  use `stephist(vals)` to show just the step function for the histogram.\n",
    "* Numerically find the mean and variance of this as an ensemble average, i.e.\n",
    "  $\\sum_{n=1}^N\\frac{y^n_T}{N}$ and\n",
    "  $\\sum_{n=1}^N\\frac{(y_T^n)^2}{N} -\\left(\\sum_{n=1}^N\\frac{y^n_T}{N}\\right)^2$.\n",
    "\n",
    "Later, we will interpret some of these in {doc}`this lecture <../tools_and_techniques/lln_clt>`.\n",
    "\n",
    "### Exercise 3\n",
    "\n",
    "Let the data generating process for a variable be\n",
    "\n",
    "$$\n",
    "y = a x_1 + b x_1^2 + c x_2 + d + \\sigma w\n",
    "$$\n",
    "\n",
    "where $y, x_1, x_2$ are scalar observables, $a,b,c,d$ are parameters to estimate, and $w$ are iid normal with mean 0 and variance 1.\n",
    "\n",
    "First, let's simulate data we can use to estimate the parameters\n",
    "\n",
    "* Draw $N=50$ values for $x_1, x_2$ from iid normal distributions.\n",
    "\n",
    "Then, simulate with different $w$\n",
    "* Draw a $w$ vector for the `N` values and then `y` from this simulated data if the parameters were $a = 0.1, b = 0.2 c = 0.5, d = 1.0, \\sigma = 0.1$.\n",
    "* Repeat that so you have `M = 20` different simulations of the `y` for the `N` values.\n",
    "\n",
    "Finally, calculate order least squares manually (i.e., put the observables\n",
    "into matrices and vectors, and directly use the equations for\n",
    "[OLS](https://en.wikipedia.org/wiki/Ordinary_least_squares) rather than a package).\n",
    "\n",
    "* For each of the `M=20` simulations, calculate the OLS estimates for $a, b, c, d, \\sigma$.\n",
    "* Plot a histogram of these estimates for each variable.\n",
    "\n",
    "### Exercise 4\n",
    "\n",
    "Redo Exercise 1 using the `fixedpoint` function from `NLsolve` {doc}`this lecture <julia_by_example>`.\n",
    "\n",
    "Compare the number of iterations of the NLsolve's Anderson Acceleration to the handcoded iteration used in Exercise 1.\n",
    "\n",
    "Hint: Convert the matrix to a vector to use `fixedpoint`. e.g. `A = [1 2; 3 4]` then `x = reshape(A, 4)` turns it into a vector.  To reverse, `reshape(x, 2, 2)`.\n",
    "\n",
    "## Solutions\n",
    "\n",
    "### Exercise 1\n",
    "\n",
    "Here's the iterative approach"
   ]
  },
  {
   "cell_type": "code",
   "execution_count": null,
   "id": "0a34af2e",
   "metadata": {},
   "outputs": [],
   "source": [
    "function compute_asymptotic_var(A, Sigma;\n",
    "                                S0 = Sigma * Sigma',\n",
    "                                tolerance = 1e-6,\n",
    "                                maxiter = 500)\n",
    "    V = Sigma * Sigma'\n",
    "    S = S0\n",
    "    err = tolerance + 1\n",
    "    i = 1\n",
    "    while err > tolerance && i <= maxiter\n",
    "        next_S = A * S * A' + V\n",
    "        err = norm(S - next_S)\n",
    "        S = next_S\n",
    "        i += 1\n",
    "    end\n",
    "    return S\n",
    "end"
   ]
  },
  {
   "cell_type": "code",
   "execution_count": null,
   "id": "251d4433",
   "metadata": {},
   "outputs": [],
   "source": [
    "A = [0.8 -0.2;\n",
    "     -0.1 0.7]\n",
    "\n",
    "Sigma = [0.5 0.4;\n",
    "         0.4 0.6]"
   ]
  },
  {
   "cell_type": "markdown",
   "id": "34876a25",
   "metadata": {},
   "source": [
    "Note that all eigenvalues of $A$ lie inside the unit disc."
   ]
  },
  {
   "cell_type": "code",
   "execution_count": null,
   "id": "73eca965",
   "metadata": {},
   "outputs": [],
   "source": [
    "maximum(abs, eigvals(A))"
   ]
  },
  {
   "cell_type": "markdown",
   "id": "3237a384",
   "metadata": {},
   "source": [
    "Let's compute the asymptotic variance"
   ]
  },
  {
   "cell_type": "code",
   "execution_count": null,
   "id": "530ea19e",
   "metadata": {},
   "outputs": [],
   "source": [
    "our_solution = compute_asymptotic_var(A, Sigma)"
   ]
  },
  {
   "cell_type": "markdown",
   "id": "d47dfa6a",
   "metadata": {},
   "source": [
    "Now let's do the same thing using QuantEcon's `solve_discrete_lyapunov()` function and check we get the same result."
   ]
  },
  {
   "cell_type": "code",
   "execution_count": null,
   "id": "9391f4e5",
   "metadata": {
    "tags": [
     "hide-output"
    ]
   },
   "outputs": [],
   "source": [
    "using QuantEcon"
   ]
  },
  {
   "cell_type": "code",
   "execution_count": null,
   "id": "00a001a1",
   "metadata": {},
   "outputs": [],
   "source": [
    "norm(our_solution - solve_discrete_lyapunov(A, Sigma * Sigma'))"
   ]
  }
 ],
 "metadata": {
  "jupytext": {
   "text_representation": {
    "extension": ".md",
    "format_name": "myst"
   }
  },
  "kernelspec": {
   "display_name": "Julia",
   "language": "julia",
   "name": "julia-1.9"
  },
  "source_map": [
   10,
   49,
   51,
   65,
   69,
   71,
   84,
   86,
   93,
   97,
   99,
   108,
   111,
   117,
   121,
   123,
   149,
   151,
   155,
   157,
   161,
   163,
   167,
   169,
   177,
   179,
   183,
   185,
   197,
   202,
   208,
   213,
   217,
   221,
   225,
   228,
   232,
   235,
   241,
   243,
   247,
   251,
   255,
   257,
   261,
   265,
   267,
   271,
   275,
   277,
   287,
   289,
   293,
   295,
   298,
   300,
   303,
   305,
   308,
   310,
   316,
   321,
   323,
   327,
   332,
   336,
   338,
   342,
   346,
   350,
   352,
   358,
   362,
   366,
   368,
   374,
   381,
   385,
   392,
   398,
   401,
   407,
   414,
   420,
   424,
   428,
   434,
   442,
   445,
   453,
   457,
   461,
   464,
   468,
   471,
   475,
   477,
   485,
   488,
   492,
   498,
   504,
   510,
   518,
   525,
   529,
   543,
   549,
   562,
   570,
   577,
   581,
   590,
   594,
   613,
   622,
   633,
   637,
   641,
   645,
   649,
   651,
   657,
   661,
   665,
   669,
   671,
   675,
   679,
   683,
   687,
   689,
   699,
   704,
   708,
   710,
   714,
   717,
   722,
   727,
   729,
   748,
   752,
   754,
   758,
   762,
   764,
   768,
   770,
   774,
   778,
   780,
   786,
   790,
   796,
   800,
   804,
   808,
   810,
   814,
   818,
   820,
   824,
   828,
   832,
   834,
   840,
   844,
   848,
   850,
   857,
   861,
   865,
   867,
   871,
   875,
   877,
   885,
   887,
   891,
   893,
   897,
   899,
   909,
   913,
   917,
   921,
   925,
   927,
   933,
   939,
   943,
   945,
   949,
   955,
   959,
   967,
   975,
   981,
   985,
   991,
   995,
   998,
   1002,
   1010,
   1014,
   1022,
   1026,
   1032,
   1052,
   1054,
   1058,
   1077,
   1083,
   1102,
   1108,
   1114,
   1124,
   1126,
   1132,
   1137,
   1141,
   1148,
   1152,
   1163,
   1168,
   1183,
   1201,
   1211,
   1215,
   1225,
   1231,
   1242,
   1253,
   1255,
   1259,
   1267,
   1273,
   1279,
   1285,
   1291,
   1445,
   1464,
   1470,
   1474,
   1476,
   1480,
   1482,
   1486,
   1493
  ]
 },
 "nbformat": 4,
 "nbformat_minor": 5
}