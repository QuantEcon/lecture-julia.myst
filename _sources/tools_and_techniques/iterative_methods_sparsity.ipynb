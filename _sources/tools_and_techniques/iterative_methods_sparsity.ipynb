{
 "cells": [
  {
   "cell_type": "markdown",
   "id": "b03b62fc",
   "metadata": {},
   "source": [
    "(iterative_methods_sparsity)=\n",
    "```{raw} html\n",
    "<div id=\"qe-notebook-header\" style=\"text-align:right;\">\n",
    "        <a href=\"https://quantecon.org/\" title=\"quantecon.org\">\n",
    "                <img style=\"width:250px;display:inline;\" src=\"https://assets.quantecon.org/img/qe-menubar-logo.svg\" alt=\"QuantEcon\">\n",
    "        </a>\n",
    "</div>\n",
    "```\n",
    "\n",
    "# Krylov Methods and Matrix Conditioning\n",
    "\n",
    "```{contents} Contents\n",
    ":depth: 2\n",
    "```\n",
    "\n",
    "## Overview\n",
    "\n",
    "This lecture takes the structure of {doc}`numerical methods for linear algebra <numerical_linear_algebra>` and builds further\n",
    "toward working with large, sparse matrices.  In the process, we will examine foundational numerical analysis such as\n",
    "ill-conditioned matrices."
   ]
  },
  {
   "cell_type": "code",
   "execution_count": 1,
   "id": "33363f62",
   "metadata": {
    "tags": [
     "hide-output"
    ]
   },
   "outputs": [],
   "source": [
    "using LinearAlgebra, Statistics, BenchmarkTools, Random\n",
    "Random.seed!(42);  # seed random numbers for reproducibility"
   ]
  },
  {
   "cell_type": "markdown",
   "id": "d45c36a2",
   "metadata": {},
   "source": [
    "### Applications\n",
    "\n",
    "In this section, we will consider variations on classic problems\n",
    "\n",
    "1. Solving a linear system for a square $A$ where we will maintain throughout that there is a unique solution to\n",
    "   \n",
    "   $$\n",
    "   A x = b\n",
    "   $$\n",
    "   \n",
    "1. [Linear least-squares](https://en.wikipedia.org/wiki/Linear_least_squares) solution, for a rectangular $A$\n",
    "   \n",
    "   $$\n",
    "   \\min_x \\| Ax -b \\|^2\n",
    "   $$\n",
    "   From theory, we know that if $A$ has linearly independent columns, then the solution is the [normal equation](https://en.wikipedia.org/wiki/Linear_least_squares#Derivation_of_the_normal_equations)\n",
    "   \n",
    "   $$\n",
    "   x = (A'A)^{-1}A'b\n",
    "   $$\n",
    "   \n",
    "1. In the case of a square matrix $A$, the  eigenvalue problem is that of finding $x$ and $\\lambda$ such that\n",
    "   \n",
    "   $$\n",
    "   A x = \\lambda x\n",
    "   $$\n",
    "   For eigenvalue problems, keep in mind that you do not always require all of the $\\lambda$, and sometimes the largest (or smallest) would be enough.  For example, calculating the spectral radius requires only the eigenvalue with maximum absolute value.\n",
    "\n",
    "## Ill-Conditioned Matrices\n",
    "\n",
    "An important consideration in numerical linear algebra, and iterative methods in general, is the [condition number](https://en.wikipedia.org/wiki/Condition_number#Matrices).\n",
    "\n",
    "An ill-conditioned matrix is one where the basis eigenvectors are close to, but not exactly, collinear.  While this poses no problem on pen and paper,\n",
    "or with infinite-precision numerical methods, it is important in practice, for two reasons:\n",
    "\n",
    "1. Ill-conditioned matrices introduce numerical errors roughly in proportion to the base-10 log of the condition number.\n",
    "1. The convergence speed of many iterative methods is based on the spectral properties of the matrices (e.g., the basis formed by the eigenvectors), and hence ill-conditioned systems can converge slowly.\n",
    "\n",
    "The solutions to these problems are to\n",
    "\n",
    "- be careful with operations which introduce error based on the condition number (e.g., matrix inversions when the condition number is high)\n",
    "- choose, where possible, alternative representations which have less collinearity (e.g., an orthogonal polynomial basis rather than a monomial one)\n",
    "- use a preconditioner for iterative methods, which changes the spectral properties to increase convergence speed\n",
    "\n",
    "### Condition Number\n",
    "\n",
    "First, let's define and explore the condition number $\\kappa$\n",
    "\n",
    "$$\n",
    "\\kappa(A) \\equiv \\|A\\| \\|A^{-1}\\|\n",
    "$$\n",
    "\n",
    "where you can use the Cauchy–Schwarz inequality to show that $\\kappa(A) \\geq 1$.  While the condition number can be calculated with any norm, we will focus on the 2-norm.\n",
    "\n",
    "First, a warning on calculations: Calculating the condition number for a matrix can be an expensive operation (as would calculating a determinant)\n",
    "and should be thought of as roughly equivalent to doing an eigendecomposition.  So use it for detective work judiciously.\n",
    "\n",
    "Let's look at the condition number of a few matrices using the `cond` function (which allows a choice of the norm, but we'll stick with the default 2-norm)."
   ]
  },
  {
   "cell_type": "code",
   "execution_count": 2,
   "id": "6e5dd1da",
   "metadata": {},
   "outputs": [
    {
     "data": {
      "text/plain": [
       "1.0"
      ]
     },
     "execution_count": 2,
     "metadata": {},
     "output_type": "execute_result"
    }
   ],
   "source": [
    "A = I(2)\n",
    "cond(A)"
   ]
  },
  {
   "cell_type": "markdown",
   "id": "f263ee12",
   "metadata": {},
   "source": [
    "Here we see an example of the best-conditioned matrix, the identity matrix with its completely orthonormal basis, which has a condition number of 1.\n",
    "\n",
    "On the other hand, notice that"
   ]
  },
  {
   "cell_type": "code",
   "execution_count": 3,
   "id": "9bd5e8c0",
   "metadata": {},
   "outputs": [
    {
     "data": {
      "text/plain": [
       "2.0000000000005004e6"
      ]
     },
     "execution_count": 3,
     "metadata": {},
     "output_type": "execute_result"
    }
   ],
   "source": [
    "ϵ = 1E-6\n",
    "A = [1.0 0.0\n",
    "     1.0 ϵ]\n",
    "cond(A)"
   ]
  },
  {
   "cell_type": "markdown",
   "id": "1e8fb584",
   "metadata": {},
   "source": [
    "has a condition number of order `10E6` - and hence (taking the base-10 log) you would expect to be introducing numerical errors of about 6 significant digits if you\n",
    "are not careful.  For example, note that the inverse has both extremely large and extremely small negative numbers"
   ]
  },
  {
   "cell_type": "code",
   "execution_count": 4,
   "id": "dd75d880",
   "metadata": {},
   "outputs": [
    {
     "data": {
      "text/plain": [
       "2×2 Matrix{Float64}:\n",
       "  1.0    0.0\n",
       " -1.0e6  1.0e6"
      ]
     },
     "execution_count": 4,
     "metadata": {},
     "output_type": "execute_result"
    }
   ],
   "source": [
    "inv(A)"
   ]
  },
  {
   "cell_type": "markdown",
   "id": "246ca569",
   "metadata": {},
   "source": [
    "Since we know that the determinant of nearly collinear matrices is close to zero, this shows another symptom of poor conditioning"
   ]
  },
  {
   "cell_type": "code",
   "execution_count": 5,
   "id": "50c9e96e",
   "metadata": {},
   "outputs": [
    {
     "data": {
      "text/plain": [
       "1.0e-6"
      ]
     },
     "execution_count": 5,
     "metadata": {},
     "output_type": "execute_result"
    }
   ],
   "source": [
    "det(A)"
   ]
  },
  {
   "cell_type": "markdown",
   "id": "432c35c5",
   "metadata": {},
   "source": [
    "However, be careful since the determinant has a scale, while the condition number is dimensionless.  That is,"
   ]
  },
  {
   "cell_type": "code",
   "execution_count": 6,
   "id": "f011759d",
   "metadata": {},
   "outputs": [
    {
     "name": "stdout",
     "output_type": "stream",
     "text": [
      "det(1000A) = 1.0\n",
      "cond(1000A) = 2.0000000000005e6\n"
     ]
    }
   ],
   "source": [
    "@show det(1000 * A)\n",
    "@show cond(1000 * A);"
   ]
  },
  {
   "cell_type": "markdown",
   "id": "0f13e30d",
   "metadata": {},
   "source": [
    "In that case, the determinant of `A` is 1, while the condition number is unchanged.  This example also provides some\n",
    "intuition that ill-conditioned matrices typically occur when a matrix has radically different scales (e.g., contains both `1` and `1E-6`, or `1000` and `1E-3`).  This can occur frequently with both function approximation and linear least squares.\n",
    "\n",
    "### Condition Numbers and Matrix Operations\n",
    "\n",
    "Multiplying a matrix by a constant does not change the condition number.  What about other operations?\n",
    "\n",
    "For this example, we see that the inverse has the same condition number (though this will not always be the case)."
   ]
  },
  {
   "cell_type": "code",
   "execution_count": 7,
   "id": "319f7d70",
   "metadata": {},
   "outputs": [
    {
     "name": "stdout",
     "output_type": "stream",
     "text": [
      "cond(A) = 2.0000000000005004e6\n",
      "cond(inv(A)) = 2.0000000002323308e6\n"
     ]
    }
   ],
   "source": [
    "@show cond(A)\n",
    "@show cond(inv(A));"
   ]
  },
  {
   "cell_type": "markdown",
   "id": "a27afcb0",
   "metadata": {},
   "source": [
    "The condition number of the product of two matrices can change radically and lead things to becoming\n",
    "even more ill-conditioned.\n",
    "\n",
    "This comes up frequently when calculating the product of a matrix and its transpose (e.g., forming the covariance matrix).  A classic example is the [Läuchli matrix](https://link.springer.com/article/10.1007%2FBF01386022)."
   ]
  },
  {
   "cell_type": "code",
   "execution_count": 8,
   "id": "0a9b2114",
   "metadata": {},
   "outputs": [
    {
     "data": {
      "text/plain": [
       "3×4 Matrix{Float64}:\n",
       " 1.0  1.0e-8  0.0     0.0\n",
       " 1.0  0.0     1.0e-8  0.0\n",
       " 1.0  0.0     0.0     1.0e-8"
      ]
     },
     "execution_count": 8,
     "metadata": {},
     "output_type": "execute_result"
    }
   ],
   "source": [
    "lauchli(N, ϵ) = [ones(N)'; ϵ * I(N)]'\n",
    "ϵ = 1E-8\n",
    "L = lauchli(3, ϵ) |> Matrix"
   ]
  },
  {
   "cell_type": "markdown",
   "id": "e94e5f8e",
   "metadata": {},
   "source": [
    "Note that the condition number increases substantially"
   ]
  },
  {
   "cell_type": "code",
   "execution_count": 9,
   "id": "d9d442c5",
   "metadata": {},
   "outputs": [
    {
     "name": "stdout",
     "output_type": "stream",
     "text": [
      "cond(L) = 1.732050807568878e8\n",
      "cond(L' * L) = "
     ]
    },
    {
     "name": "stdout",
     "output_type": "stream",
     "text": [
      "2.8104131146758097e32\n"
     ]
    }
   ],
   "source": [
    "@show cond(L)\n",
    "@show cond(L' * L);"
   ]
  },
  {
   "cell_type": "markdown",
   "id": "992897bf",
   "metadata": {},
   "source": [
    "You can show that the analytic eigenvalues of this are $\\{3 + \\epsilon^2, \\epsilon^2, \\epsilon^2\\}$ but the poor conditioning\n",
    "means it is difficult to distinguish these from $0$.\n",
    "\n",
    "This comes up when conducting [Principal Component Analysis](https://en.wikipedia.org/wiki/Principal_component_analysis#Singular_value_decomposition), which\n",
    "requires calculations of the eigenvalues of the covariance matrix"
   ]
  },
  {
   "cell_type": "code",
   "execution_count": 10,
   "id": "ee19c27d",
   "metadata": {},
   "outputs": [
    {
     "data": {
      "text/plain": [
       "3-element Vector{ComplexF64}:\n",
       "                   0.0 + 0.0im\n",
       " 4.2146848510894035e-8 + 0.0im\n",
       "    1.7320508075688772 + 0.0im"
      ]
     },
     "execution_count": 10,
     "metadata": {},
     "output_type": "execute_result"
    }
   ],
   "source": [
    "sort(sqrt.(Complex.(eigen(L*L').values)), lt = (x,y) -> abs(x) < abs(y))"
   ]
  },
  {
   "cell_type": "markdown",
   "id": "c4d5fd2d",
   "metadata": {},
   "source": [
    "Note that these are significantly different than the known analytic solution and, in particular, are difficult to distinguish from 0."
   ]
  },
  {
   "cell_type": "code",
   "execution_count": 11,
   "id": "72cf1235",
   "metadata": {},
   "outputs": [
    {
     "data": {
      "text/plain": [
       "3-element Vector{Float64}:\n",
       " 1.0e-8\n",
       " 1.0e-8\n",
       " 1.7320508075688772"
      ]
     },
     "execution_count": 11,
     "metadata": {},
     "output_type": "execute_result"
    }
   ],
   "source": [
    "sqrt.([3 + ϵ^2, ϵ^2, ϵ^2]) |> sort"
   ]
  },
  {
   "cell_type": "markdown",
   "id": "1ffe0fed",
   "metadata": {},
   "source": [
    "Alternatively, we could calculate these by taking the square of the singular values of $L$ itself, which is much more accurate\n",
    "and lets us clearly distinguish from zero"
   ]
  },
  {
   "cell_type": "code",
   "execution_count": 12,
   "id": "7ba770a2",
   "metadata": {},
   "outputs": [
    {
     "data": {
      "text/plain": [
       "3-element Vector{Float64}:\n",
       " 9.999999999999997e-9\n",
       " 9.999999999999999e-9\n",
       " 1.7320508075688774"
      ]
     },
     "execution_count": 12,
     "metadata": {},
     "output_type": "execute_result"
    }
   ],
   "source": [
    "svd(L).S  |> sort"
   ]
  },
  {
   "cell_type": "markdown",
   "id": "2d4fb292",
   "metadata": {},
   "source": [
    "Similarly, we are better off calculating least squares directly rather than forming the normal equation (i.e., $A' A x = A' b$) ourselves"
   ]
  },
  {
   "cell_type": "code",
   "execution_count": 13,
   "id": "66d112f0",
   "metadata": {},
   "outputs": [
    {
     "data": {
      "text/plain": [
       "1570.1385728768105"
      ]
     },
     "execution_count": 13,
     "metadata": {},
     "output_type": "execute_result"
    }
   ],
   "source": [
    "N = 3\n",
    "A = lauchli(N, 1E-7)' |> Matrix\n",
    "b = rand(N+1)\n",
    "x_sol_1 = A \\ b  # using a least-squares solver\n",
    "x_sol_2 = (A' * A) \\ (A' * b)  # forming the normal equation ourselves\n",
    "norm(x_sol_1 - x_sol_2)"
   ]
  },
  {
   "cell_type": "markdown",
   "id": "e77607ae",
   "metadata": {},
   "source": [
    "### Why a Monomial Basis Is a Bad Idea\n",
    "\n",
    "A classic example of poorly conditioned matrices is using a monomial basis of a polynomial with interpolation.\n",
    "\n",
    "Take a grid of points, $x_0, \\ldots x_N$ and values $y_0, \\ldots y_N$ where we want to calculate the\n",
    "interpolating polynomial.\n",
    "\n",
    "If we were to use the simplest, and most obvious, polynomial basis, then the calculation consists of finding the coefficients $c_1, \\ldots c_n$ where\n",
    "\n",
    "$$\n",
    "P(x) = \\sum_{i=0}^N c_i x^i\n",
    "$$\n",
    "\n",
    "To solve for the coefficients, we notice that this is a simple system of equations\n",
    "\n",
    "$$\n",
    "\\begin{array}\n",
    "    cy_0 = c_0 + c_1 x_0 + \\ldots c_N x_0^N\\\\\n",
    "    \\,\\ldots\\\\\n",
    "    \\,y_N = c_0 + c_1 x_N + \\ldots c_N x_N^N\n",
    "\\end{array}\n",
    "$$\n",
    "\n",
    "Or, stacking $c = \\begin{bmatrix} c_0 & \\ldots & c_N\\end{bmatrix}, y = \\begin{bmatrix} y_0 & \\ldots & y_N\\end{bmatrix}$ and\n",
    "\n",
    "$$\n",
    "A = \\begin{bmatrix} 1 & x_0 & x_0^2 & \\ldots &x_0^N\\\\\n",
    "                    \\vdots & \\vdots & \\vdots & \\vdots & \\vdots \\\\\n",
    "                    1 & x_N & x_N^2 & \\ldots & x_N^N\n",
    "    \\end{bmatrix}\n",
    "$$\n",
    "\n",
    "We can then calculate the interpolating coefficients as the solution to\n",
    "\n",
    "$$\n",
    "A c = y\n",
    "$$\n",
    "\n",
    "Implementing this for the interpolation of the $exp(x)$ function"
   ]
  },
  {
   "cell_type": "code",
   "execution_count": 14,
   "id": "9846ddcb",
   "metadata": {},
   "outputs": [
    {
     "data": {
      "text/plain": [
       "1.1932570487260818e-9"
      ]
     },
     "execution_count": 14,
     "metadata": {},
     "output_type": "execute_result"
    }
   ],
   "source": [
    "N = 5\n",
    "f(x) = exp(x)\n",
    "x = range(0.0, 10.0, length = N+1)\n",
    "y = f.(x)  # generate some data to interpolate\n",
    "\n",
    "A = [x_i^n for x_i in x, n in 0:N]\n",
    "A_inv = inv(A)\n",
    "c = A_inv * y\n",
    "norm(A * c - f.(x), Inf)"
   ]
  },
  {
   "cell_type": "markdown",
   "id": "b324458e",
   "metadata": {},
   "source": [
    "The final step just checks the interpolation vs. the analytic function at the nodes.  Keep in mind that this should be very close to zero\n",
    "since we are interpolating the function precisely at those nodes.\n",
    "In our example, the Inf-norm (i.e., maximum difference) of the interpolation errors at the nodes is around `1E-9`, which\n",
    "is reasonable for many problems.\n",
    "\n",
    "But note that with $N=5$ the condition number is already of order `1E6`."
   ]
  },
  {
   "cell_type": "code",
   "execution_count": 15,
   "id": "076ee191",
   "metadata": {},
   "outputs": [
    {
     "data": {
      "text/plain": [
       "564652.3214000753"
      ]
     },
     "execution_count": 15,
     "metadata": {},
     "output_type": "execute_result"
    }
   ],
   "source": [
    "cond(A)"
   ]
  },
  {
   "cell_type": "markdown",
   "id": "e4bcefe8",
   "metadata": {},
   "source": [
    "What if we increase the degree of the polynomial with the hope of increasing the precision of the\n",
    "interpolation?"
   ]
  },
  {
   "cell_type": "code",
   "execution_count": 16,
   "id": "e28d180a",
   "metadata": {},
   "outputs": [
    {
     "data": {
      "text/plain": [
       "6.227055564522743e-6"
      ]
     },
     "execution_count": 16,
     "metadata": {},
     "output_type": "execute_result"
    }
   ],
   "source": [
    "N = 10\n",
    "f(x) = exp(x)\n",
    "x = range(0.0, 10.0, length = N+1)\n",
    "y = f.(x)  # generate some data to interpolate\n",
    "\n",
    "A = [x_i^n for x_i in x, n in 0:N]\n",
    "A_inv = inv(A)\n",
    "c = A_inv * y\n",
    "norm(A * c - f.(x), Inf)"
   ]
  },
  {
   "cell_type": "markdown",
   "id": "52ae32ac",
   "metadata": {},
   "source": [
    "Here, we see that hoping to increase the precision between points by adding extra polynomial terms is backfiring.  By going to a 10th-order polynomial, we have\n",
    "introduced an error of about `1E-5`, even at the interpolation points themselves.\n",
    "\n",
    "This blows up quickly"
   ]
  },
  {
   "cell_type": "code",
   "execution_count": 17,
   "id": "06ae5a8e",
   "metadata": {},
   "outputs": [
    {
     "data": {
      "text/plain": [
       "27450.549588336013"
      ]
     },
     "execution_count": 17,
     "metadata": {},
     "output_type": "execute_result"
    }
   ],
   "source": [
    "N = 20\n",
    "f(x) = exp(x)\n",
    "x = range(0.0, 10.0, length = N+1)\n",
    "y = f.(x)  # generate some data to interpolate\n",
    "\n",
    "A = [x_i^n for x_i in x, n in 0:N]\n",
    "A_inv = inv(A)\n",
    "c = A_inv * y\n",
    "norm(A * c - f.(x), Inf)"
   ]
  },
  {
   "cell_type": "markdown",
   "id": "eb174c0c",
   "metadata": {},
   "source": [
    "To see the source of the problem, note that the condition number is astronomical."
   ]
  },
  {
   "cell_type": "code",
   "execution_count": 18,
   "id": "b32dbaa3",
   "metadata": {},
   "outputs": [
    {
     "data": {
      "text/plain": [
       "1.6741221904844006e24"
      ]
     },
     "execution_count": 18,
     "metadata": {},
     "output_type": "execute_result"
    }
   ],
   "source": [
    "cond(A)"
   ]
  },
  {
   "cell_type": "markdown",
   "id": "2147402b",
   "metadata": {},
   "source": [
    "At this point, you should be suspicious of the use of `inv(A)`, since we have considered solving\n",
    "linear systems by taking the inverse as verboten.  Indeed, this made things much worse.  The\n",
    "error drops dramatically if we solve it as a linear system"
   ]
  },
  {
   "cell_type": "code",
   "execution_count": 19,
   "id": "cbe31b0d",
   "metadata": {},
   "outputs": [
    {
     "data": {
      "text/plain": [
       "2.6648194761946797e-10"
      ]
     },
     "execution_count": 19,
     "metadata": {},
     "output_type": "execute_result"
    }
   ],
   "source": [
    "c = A \\ y\n",
    "norm(A * c - f.(x), Inf)"
   ]
  },
  {
   "cell_type": "markdown",
   "id": "cc48eb9f",
   "metadata": {},
   "source": [
    "But an error of `1E-10` at the interpolating nodes themselves can be a problem in many applications, and if you increase `N`\n",
    "then the error will become non-trivial eventually - even without taking the inverse.\n",
    "\n",
    "The heart of the issue is that the monomial basis leads to a [Vandermonde matrix](https://en.wikipedia.org/wiki/Vandermonde_matrix), which\n",
    "is especially ill-conditioned.\n",
    "\n",
    "#### Aside on Runge's Phenomenon\n",
    "\n",
    "The monomial basis is also a good opportunity to look at a separate type of error due to [Runge's Phenomenon](https://en.wikipedia.org/wiki/Runge%27s_phenomenon).    It is an important\n",
    "issue in approximation theory, albeit not one driven by numerical approximation errors.\n",
    "\n",
    "It turns out that using a uniform grid of points is, in general, the worst possible choice of interpolation nodes for a polynomial approximation.  This phenomenon can be seen with the interpolation of the seemingly innocuous Runge's function, $g(x) = \\frac{1}{1 + 25 x^2}$.\n",
    "\n",
    "Let's calculate the interpolation with a monomial basis to find the $c_i$ such that\n",
    "\n",
    "$$\n",
    "\\frac{1}{1 + 25 x^2} \\approx \\sum_{i=0}^N c_i x^i,\\, \\text{ for } -1 \\leq x \\leq 1\n",
    "$$\n",
    "\n",
    "First, interpolate with $N = 5$ and avoid taking the inverse.  In that case, as long as we avoid taking an inverse, the numerical errors from the ill-conditioned matrix are manageable."
   ]
  },
  {
   "cell_type": "code",
   "execution_count": 20,
   "id": "8bd74aa2",
   "metadata": {},
   "outputs": [
    {
     "data": {
      "image/png": "[encoded data removed]",
      "image/svg+xml": [
       "<?xml version=\"1.0\" encoding=\"utf-8\"?>\n",
       "<svg xmlns=\"http://www.w3.org/2000/svg\" xmlns:xlink=\"http://www.w3.org/1999/xlink\" width=\"600\" height=\"400\" viewBox=\"0 0 2400 1600\">\n",
       "<defs>\n",
       "  <clipPath id=\"clip720\">\n",
       "    <rect x=\"0\" y=\"0\" width=\"2400\" height=\"1600\"/>\n",
       "  </clipPath>\n",
       "</defs>\n",
       "<path clip-path=\"url(#clip720)\" d=\"M0 1600 L2400 1600 L2400 0 L0 0  Z\" fill=\"#ffffff\" fill-rule=\"evenodd\" fill-opacity=\"1\"/>\n",
       "<defs>\n",
       "  <clipPath id=\"clip721\">\n",
       "    <rect x=\"480\" y=\"0\" width=\"1681\" height=\"1600\"/>\n",
       "  </clipPath>\n",
       "</defs>\n",
       "<path clip-path=\"url(#clip720)\" d=\"M186.274 1486.45 L2352.76 1486.45 L2352.76 47.2441 L186.274 47.2441  Z\" fill=\"#ffffff\" fill-rule=\"evenodd\" fill-opacity=\"1\"/>\n",
       "<defs>\n",
       "  <clipPath id=\"clip722\">\n",
       "    <rect x=\"186\" y=\"47\" width=\"2167\" height=\"1440\"/>\n",
       "  </clipPath>\n",
       "</defs>\n",
       "<polyline clip-path=\"url(#clip722)\" style=\"stroke:#000000; stroke-linecap:round; stroke-linejoin:round; stroke-width:2; stroke-opacity:0.1; fill:none\" points=\"247.59,1486.45 247.59,47.2441 \"/>\n",
       "<polyline clip-path=\"url(#clip722)\" style=\"stroke:#000000; stroke-linecap:round; stroke-linejoin:round; stroke-width:2; stroke-opacity:0.1; fill:none\" points=\"758.552,1486.45 758.552,47.2441 \"/>\n",
       "<polyline clip-path=\"url(#clip722)\" style=\"stroke:#000000; stroke-linecap:round; stroke-linejoin:round; stroke-width:2; stroke-opacity:0.1; fill:none\" points=\"1269.51,1486.45 1269.51,47.2441 \"/>\n",
       "<polyline clip-path=\"url(#clip722)\" style=\"stroke:#000000; stroke-linecap:round; stroke-linejoin:round; stroke-width:2; stroke-opacity:0.1; fill:none\" points=\"1780.48,1486.45 1780.48,47.2441 \"/>\n",
       "<polyline clip-path=\"url(#clip722)\" style=\"stroke:#000000; stroke-linecap:round; stroke-linejoin:round; stroke-width:2; stroke-opacity:0.1; fill:none\" points=\"2291.44,1486.45 2291.44,47.2441 \"/>\n",
       "<polyline clip-path=\"url(#clip720)\" style=\"stroke:#000000; stroke-linecap:round; stroke-linejoin:round; stroke-width:4; stroke-opacity:1; fill:none\" points=\"186.274,1486.45 2352.76,1486.45 \"/>\n",
       "<polyline clip-path=\"url(#clip720)\" style=\"stroke:#000000; stroke-linecap:round; stroke-linejoin:round; stroke-width:4; stroke-opacity:1; fill:none\" points=\"247.59,1486.45 247.59,1467.55 \"/>\n",
       "<polyline clip-path=\"url(#clip720)\" style=\"stroke:#000000; stroke-linecap:round; stroke-linejoin:round; stroke-width:4; stroke-opacity:1; fill:none\" points=\"758.552,1486.45 758.552,1467.55 \"/>\n",
       "<polyline clip-path=\"url(#clip720)\" style=\"stroke:#000000; stroke-linecap:round; stroke-linejoin:round; stroke-width:4; stroke-opacity:1; fill:none\" points=\"1269.51,1486.45 1269.51,1467.55 \"/>\n",
       "<polyline clip-path=\"url(#clip720)\" style=\"stroke:#000000; stroke-linecap:round; stroke-linejoin:round; stroke-width:4; stroke-opacity:1; fill:none\" points=\"1780.48,1486.45 1780.48,1467.55 \"/>\n",
       "<polyline clip-path=\"url(#clip720)\" style=\"stroke:#000000; stroke-linecap:round; stroke-linejoin:round; stroke-width:4; stroke-opacity:1; fill:none\" points=\"2291.44,1486.45 2291.44,1467.55 \"/>\n",
       "<path clip-path=\"url(#clip720)\" d=\"M194.118 1532.02 L223.793 1532.02 L223.793 1535.95 L194.118 1535.95 L194.118 1532.02 Z\" fill=\"#000000\" fill-rule=\"nonzero\" fill-opacity=\"1\" /><path clip-path=\"url(#clip720)\" d=\"M234.696 1544.91 L242.335 1544.91 L242.335 1518.55 L234.025 1520.21 L234.025 1515.95 L242.289 1514.29 L246.965 1514.29 L246.965 1544.91 L254.603 1544.91 L254.603 1548.85 L234.696 1548.85 L234.696 1544.91 Z\" fill=\"#000000\" fill-rule=\"nonzero\" fill-opacity=\"1\" /><path clip-path=\"url(#clip720)\" d=\"M264.048 1542.97 L268.932 1542.97 L268.932 1548.85 L264.048 1548.85 L264.048 1542.97 Z\" fill=\"#000000\" fill-rule=\"nonzero\" fill-opacity=\"1\" /><path clip-path=\"url(#clip720)\" d=\"M289.117 1517.37 Q285.506 1517.37 283.677 1520.93 Q281.872 1524.47 281.872 1531.6 Q281.872 1538.71 283.677 1542.27 Q285.506 1545.82 289.117 1545.82 Q292.751 1545.82 294.557 1542.27 Q296.386 1538.71 296.386 1531.6 Q296.386 1524.47 294.557 1520.93 Q292.751 1517.37 289.117 1517.37 M289.117 1513.66 Q294.927 1513.66 297.983 1518.27 Q301.061 1522.85 301.061 1531.6 Q301.061 1540.33 297.983 1544.94 Q294.927 1549.52 289.117 1549.52 Q283.307 1549.52 280.228 1544.94 Q277.173 1540.33 277.173 1531.6 Q277.173 1522.85 280.228 1518.27 Q283.307 1513.66 289.117 1513.66 Z\" fill=\"#000000\" fill-rule=\"nonzero\" fill-opacity=\"1\" /><path clip-path=\"url(#clip720)\" d=\"M705.578 1532.02 L735.254 1532.02 L735.254 1535.95 L705.578 1535.95 L705.578 1532.02 Z\" fill=\"#000000\" fill-rule=\"nonzero\" fill-opacity=\"1\" /><path clip-path=\"url(#clip720)\" d=\"M755.346 1517.37 Q751.735 1517.37 749.906 1520.93 Q748.101 1524.47 748.101 1531.6 Q748.101 1538.71 749.906 1542.27 Q751.735 1545.82 755.346 1545.82 Q758.98 1545.82 760.786 1542.27 Q762.615 1538.71 762.615 1531.6 Q762.615 1524.47 760.786 1520.93 Q758.98 1517.37 755.346 1517.37 M755.346 1513.66 Q761.156 1513.66 764.212 1518.27 Q767.291 1522.85 767.291 1531.6 Q767.291 1540.33 764.212 1544.94 Q761.156 1549.52 755.346 1549.52 Q749.536 1549.52 746.457 1544.94 Q743.402 1540.33 743.402 1531.6 Q743.402 1522.85 746.457 1518.27 Q749.536 1513.66 755.346 1513.66 Z\" fill=\"#000000\" fill-rule=\"nonzero\" fill-opacity=\"1\" /><path clip-path=\"url(#clip720)\" d=\"M775.508 1542.97 L780.392 1542.97 L780.392 1548.85 L775.508 1548.85 L775.508 1542.97 Z\" fill=\"#000000\" fill-rule=\"nonzero\" fill-opacity=\"1\" /><path clip-path=\"url(#clip720)\" d=\"M790.624 1514.29 L808.98 1514.29 L808.98 1518.22 L794.906 1518.22 L794.906 1526.7 Q795.925 1526.35 796.943 1526.19 Q797.962 1526 798.98 1526 Q804.767 1526 808.147 1529.17 Q811.526 1532.34 811.526 1537.76 Q811.526 1543.34 808.054 1546.44 Q804.582 1549.52 798.263 1549.52 Q796.087 1549.52 793.818 1549.15 Q791.573 1548.78 789.166 1548.04 L789.166 1543.34 Q791.249 1544.47 793.471 1545.03 Q795.693 1545.58 798.17 1545.58 Q802.175 1545.58 804.513 1543.48 Q806.851 1541.37 806.851 1537.76 Q806.851 1534.15 804.513 1532.04 Q802.175 1529.94 798.17 1529.94 Q796.295 1529.94 794.42 1530.35 Q792.568 1530.77 790.624 1531.65 L790.624 1514.29 Z\" fill=\"#000000\" fill-rule=\"nonzero\" fill-opacity=\"1\" /><path clip-path=\"url(#clip720)\" d=\"M1246.9 1517.37 Q1243.29 1517.37 1241.46 1520.93 Q1239.65 1524.47 1239.65 1531.6 Q1239.65 1538.71 1241.46 1542.27 Q1243.29 1545.82 1246.9 1545.82 Q1250.53 1545.82 1252.34 1542.27 Q1254.17 1538.71 1254.17 1531.6 Q1254.17 1524.47 1252.34 1520.93 Q1250.53 1517.37 1246.9 1517.37 M1246.9 1513.66 Q1252.71 1513.66 1255.77 1518.27 Q1258.84 1522.85 1258.84 1531.6 Q1258.84 1540.33 1255.77 1544.94 Q1252.71 1549.52 1246.9 1549.52 Q1241.09 1549.52 1238.01 1544.94 Q1234.95 1540.33 1234.95 1531.6 Q1234.95 1522.85 1238.01 1518.27 Q1241.09 1513.66 1246.9 1513.66 Z\" fill=\"#000000\" fill-rule=\"nonzero\" fill-opacity=\"1\" /><path clip-path=\"url(#clip720)\" d=\"M1267.06 1542.97 L1271.95 1542.97 L1271.95 1548.85 L1267.06 1548.85 L1267.06 1542.97 Z\" fill=\"#000000\" fill-rule=\"nonzero\" fill-opacity=\"1\" /><path clip-path=\"url(#clip720)\" d=\"M1292.13 1517.37 Q1288.52 1517.37 1286.69 1520.93 Q1284.89 1524.47 1284.89 1531.6 Q1284.89 1538.71 1286.69 1542.27 Q1288.52 1545.82 1292.13 1545.82 Q1295.76 1545.82 1297.57 1542.27 Q1299.4 1538.71 1299.4 1531.6 Q1299.4 1524.47 1297.57 1520.93 Q1295.76 1517.37 1292.13 1517.37 M1292.13 1513.66 Q1297.94 1513.66 1301 1518.27 Q1304.07 1522.85 1304.07 1531.6 Q1304.07 1540.33 1301 1544.94 Q1297.94 1549.52 1292.13 1549.52 Q1286.32 1549.52 1283.24 1544.94 Q1280.19 1540.33 1280.19 1531.6 Q1280.19 1522.85 1283.24 1518.27 Q1286.32 1513.66 1292.13 1513.66 Z\" fill=\"#000000\" fill-rule=\"nonzero\" fill-opacity=\"1\" /><path clip-path=\"url(#clip720)\" d=\"M1758.36 1517.37 Q1754.75 1517.37 1752.92 1520.93 Q1751.11 1524.47 1751.11 1531.6 Q1751.11 1538.71 1752.92 1542.27 Q1754.75 1545.82 1758.36 1545.82 Q1761.99 1545.82 1763.8 1542.27 Q1765.63 1538.71 1765.63 1531.6 Q1765.63 1524.47 1763.8 1520.93 Q1761.99 1517.37 1758.36 1517.37 M1758.36 1513.66 Q1764.17 1513.66 1767.23 1518.27 Q1770.3 1522.85 1770.3 1531.6 Q1770.3 1540.33 1767.23 1544.94 Q1764.17 1549.52 1758.36 1549.52 Q1752.55 1549.52 1749.47 1544.94 Q1746.42 1540.33 1746.42 1531.6 Q1746.42 1522.85 1749.47 1518.27 Q1752.55 1513.66 1758.36 1513.66 Z\" fill=\"#000000\" fill-rule=\"nonzero\" fill-opacity=\"1\" /><path clip-path=\"url(#clip720)\" d=\"M1778.52 1542.97 L1783.41 1542.97 L1783.41 1548.85 L1778.52 1548.85 L1778.52 1542.97 Z\" fill=\"#000000\" fill-rule=\"nonzero\" fill-opacity=\"1\" /><path clip-path=\"url(#clip720)\" d=\"M1793.64 1514.29 L1811.99 1514.29 L1811.99 1518.22 L1797.92 1518.22 L1797.92 1526.7 Q1798.94 1526.35 1799.96 1526.19 Q1800.98 1526 1801.99 1526 Q1807.78 1526 1811.16 1529.17 Q1814.54 1532.34 1814.54 1537.76 Q1814.54 1543.34 1811.07 1546.44 Q1807.6 1549.52 1801.28 1549.52 Q1799.1 1549.52 1796.83 1549.15 Q1794.59 1548.78 1792.18 1548.04 L1792.18 1543.34 Q1794.26 1544.47 1796.48 1545.03 Q1798.71 1545.58 1801.18 1545.58 Q1805.19 1545.58 1807.53 1543.48 Q1809.86 1541.37 1809.86 1537.76 Q1809.86 1534.15 1807.53 1532.04 Q1805.19 1529.94 1801.18 1529.94 Q1799.31 1529.94 1797.43 1530.35 Q1795.58 1530.77 1793.64 1531.65 L1793.64 1514.29 Z\" fill=\"#000000\" fill-rule=\"nonzero\" fill-opacity=\"1\" /><path clip-path=\"url(#clip720)\" d=\"M2258.59 1544.91 L2266.23 1544.91 L2266.23 1518.55 L2257.92 1520.21 L2257.92 1515.95 L2266.19 1514.29 L2270.86 1514.29 L2270.86 1544.91 L2278.5 1544.91 L2278.5 1548.85 L2258.59 1548.85 L2258.59 1544.91 Z\" fill=\"#000000\" fill-rule=\"nonzero\" fill-opacity=\"1\" /><path clip-path=\"url(#clip720)\" d=\"M2287.95 1542.97 L2292.83 1542.97 L2292.83 1548.85 L2287.95 1548.85 L2287.95 1542.97 Z\" fill=\"#000000\" fill-rule=\"nonzero\" fill-opacity=\"1\" /><path clip-path=\"url(#clip720)\" d=\"M2313.01 1517.37 Q2309.4 1517.37 2307.57 1520.93 Q2305.77 1524.47 2305.77 1531.6 Q2305.77 1538.71 2307.57 1542.27 Q2309.4 1545.82 2313.01 1545.82 Q2316.65 1545.82 2318.45 1542.27 Q2320.28 1538.71 2320.28 1531.6 Q2320.28 1524.47 2318.45 1520.93 Q2316.65 1517.37 2313.01 1517.37 M2313.01 1513.66 Q2318.82 1513.66 2321.88 1518.27 Q2324.96 1522.85 2324.96 1531.6 Q2324.96 1540.33 2321.88 1544.94 Q2318.82 1549.52 2313.01 1549.52 Q2307.2 1549.52 2304.13 1544.94 Q2301.07 1540.33 2301.07 1531.6 Q2301.07 1522.85 2304.13 1518.27 Q2307.2 1513.66 2313.01 1513.66 Z\" fill=\"#000000\" fill-rule=\"nonzero\" fill-opacity=\"1\" /><polyline clip-path=\"url(#clip722)\" style=\"stroke:#000000; stroke-linecap:round; stroke-linejoin:round; stroke-width:2; stroke-opacity:0.1; fill:none\" points=\"186.274,1374.25 2352.76,1374.25 \"/>\n",
       "<polyline clip-path=\"url(#clip722)\" style=\"stroke:#000000; stroke-linecap:round; stroke-linejoin:round; stroke-width:2; stroke-opacity:0.1; fill:none\" points=\"186.274,1051.86 2352.76,1051.86 \"/>\n",
       "<polyline clip-path=\"url(#clip722)\" style=\"stroke:#000000; stroke-linecap:round; stroke-linejoin:round; stroke-width:2; stroke-opacity:0.1; fill:none\" points=\"186.274,729.474 2352.76,729.474 \"/>\n",
       "<polyline clip-path=\"url(#clip722)\" style=\"stroke:#000000; stroke-linecap:round; stroke-linejoin:round; stroke-width:2; stroke-opacity:0.1; fill:none\" points=\"186.274,407.084 2352.76,407.084 \"/>\n",
       "<polyline clip-path=\"url(#clip722)\" style=\"stroke:#000000; stroke-linecap:round; stroke-linejoin:round; stroke-width:2; stroke-opacity:0.1; fill:none\" points=\"186.274,84.6953 2352.76,84.6953 \"/>\n",
       "<polyline clip-path=\"url(#clip720)\" style=\"stroke:#000000; stroke-linecap:round; stroke-linejoin:round; stroke-width:4; stroke-opacity:1; fill:none\" points=\"186.274,1486.45 186.274,47.2441 \"/>\n",
       "<polyline clip-path=\"url(#clip720)\" style=\"stroke:#000000; stroke-linecap:round; stroke-linejoin:round; stroke-width:4; stroke-opacity:1; fill:none\" points=\"186.274,1374.25 205.172,1374.25 \"/>\n",
       "<polyline clip-path=\"url(#clip720)\" style=\"stroke:#000000; stroke-linecap:round; stroke-linejoin:round; stroke-width:4; stroke-opacity:1; fill:none\" points=\"186.274,1051.86 205.172,1051.86 \"/>\n",
       "<polyline clip-path=\"url(#clip720)\" style=\"stroke:#000000; stroke-linecap:round; stroke-linejoin:round; stroke-width:4; stroke-opacity:1; fill:none\" points=\"186.274,729.474 205.172,729.474 \"/>\n",
       "<polyline clip-path=\"url(#clip720)\" style=\"stroke:#000000; stroke-linecap:round; stroke-linejoin:round; stroke-width:4; stroke-opacity:1; fill:none\" points=\"186.274,407.084 205.172,407.084 \"/>\n",
       "<polyline clip-path=\"url(#clip720)\" style=\"stroke:#000000; stroke-linecap:round; stroke-linejoin:round; stroke-width:4; stroke-opacity:1; fill:none\" points=\"186.274,84.6953 205.172,84.6953 \"/>\n",
       "<path clip-path=\"url(#clip720)\" d=\"M62.9365 1360.05 Q59.3254 1360.05 57.4967 1363.62 Q55.6912 1367.16 55.6912 1374.29 Q55.6912 1381.39 57.4967 1384.96 Q59.3254 1388.5 62.9365 1388.5 Q66.5707 1388.5 68.3763 1384.96 Q70.205 1381.39 70.205 1374.29 Q70.205 1367.16 68.3763 1363.62 Q66.5707 1360.05 62.9365 1360.05 M62.9365 1356.35 Q68.7467 1356.35 71.8022 1360.95 Q74.8809 1365.54 74.8809 1374.29 Q74.8809 1383.01 71.8022 1387.62 Q68.7467 1392.2 62.9365 1392.2 Q57.1264 1392.2 54.0477 1387.62 Q50.9921 1383.01 50.9921 1374.29 Q50.9921 1365.54 54.0477 1360.95 Q57.1264 1356.35 62.9365 1356.35 Z\" fill=\"#000000\" fill-rule=\"nonzero\" fill-opacity=\"1\" /><path clip-path=\"url(#clip720)\" d=\"M83.0984 1385.65 L87.9827 1385.65 L87.9827 1391.53 L83.0984 1391.53 L83.0984 1385.65 Z\" fill=\"#000000\" fill-rule=\"nonzero\" fill-opacity=\"1\" /><path clip-path=\"url(#clip720)\" d=\"M108.168 1360.05 Q104.557 1360.05 102.728 1363.62 Q100.922 1367.16 100.922 1374.29 Q100.922 1381.39 102.728 1384.96 Q104.557 1388.5 108.168 1388.5 Q111.802 1388.5 113.608 1384.96 Q115.436 1381.39 115.436 1374.29 Q115.436 1367.16 113.608 1363.62 Q111.802 1360.05 108.168 1360.05 M108.168 1356.35 Q113.978 1356.35 117.033 1360.95 Q120.112 1365.54 120.112 1374.29 Q120.112 1383.01 117.033 1387.62 Q113.978 1392.2 108.168 1392.2 Q102.358 1392.2 99.2789 1387.62 Q96.2234 1383.01 96.2234 1374.29 Q96.2234 1365.54 99.2789 1360.95 Q102.358 1356.35 108.168 1356.35 Z\" fill=\"#000000\" fill-rule=\"nonzero\" fill-opacity=\"1\" /><path clip-path=\"url(#clip720)\" d=\"M138.33 1360.05 Q134.719 1360.05 132.89 1363.62 Q131.084 1367.16 131.084 1374.29 Q131.084 1381.39 132.89 1384.96 Q134.719 1388.5 138.33 1388.5 Q141.964 1388.5 143.769 1384.96 Q145.598 1381.39 145.598 1374.29 Q145.598 1367.16 143.769 1363.62 Q141.964 1360.05 138.33 1360.05 M138.33 1356.35 Q144.14 1356.35 147.195 1360.95 Q150.274 1365.54 150.274 1374.29 Q150.274 1383.01 147.195 1387.62 Q144.14 1392.2 138.33 1392.2 Q132.519 1392.2 129.441 1387.62 Q126.385 1383.01 126.385 1374.29 Q126.385 1365.54 129.441 1360.95 Q132.519 1356.35 138.33 1356.35 Z\" fill=\"#000000\" fill-rule=\"nonzero\" fill-opacity=\"1\" /><path clip-path=\"url(#clip720)\" d=\"M63.9319 1037.66 Q60.3208 1037.66 58.4921 1041.23 Q56.6865 1044.77 56.6865 1051.9 Q56.6865 1059 58.4921 1062.57 Q60.3208 1066.11 63.9319 1066.11 Q67.5661 1066.11 69.3717 1062.57 Q71.2004 1059 71.2004 1051.9 Q71.2004 1044.77 69.3717 1041.23 Q67.5661 1037.66 63.9319 1037.66 M63.9319 1033.96 Q69.742 1033.96 72.7976 1038.56 Q75.8763 1043.15 75.8763 1051.9 Q75.8763 1060.62 72.7976 1065.23 Q69.742 1069.81 63.9319 1069.81 Q58.1217 1069.81 55.043 1065.23 Q51.9875 1060.62 51.9875 1051.9 Q51.9875 1043.15 55.043 1038.56 Q58.1217 1033.96 63.9319 1033.96 Z\" fill=\"#000000\" fill-rule=\"nonzero\" fill-opacity=\"1\" /><path clip-path=\"url(#clip720)\" d=\"M84.0938 1063.26 L88.978 1063.26 L88.978 1069.14 L84.0938 1069.14 L84.0938 1063.26 Z\" fill=\"#000000\" fill-rule=\"nonzero\" fill-opacity=\"1\" /><path clip-path=\"url(#clip720)\" d=\"M103.191 1065.21 L119.51 1065.21 L119.51 1069.14 L97.566 1069.14 L97.566 1065.21 Q100.228 1062.45 104.811 1057.82 Q109.418 1053.17 110.598 1051.83 Q112.844 1049.3 113.723 1047.57 Q114.626 1045.81 114.626 1044.12 Q114.626 1041.37 112.682 1039.63 Q110.76 1037.89 107.658 1037.89 Q105.459 1037.89 103.006 1038.66 Q100.575 1039.42 97.7974 1040.97 L97.7974 1036.25 Q100.621 1035.12 103.075 1034.54 Q105.529 1033.96 107.566 1033.96 Q112.936 1033.96 116.131 1036.64 Q119.325 1039.33 119.325 1043.82 Q119.325 1045.95 118.515 1047.87 Q117.728 1049.77 115.621 1052.36 Q115.043 1053.03 111.941 1056.25 Q108.839 1059.44 103.191 1065.21 Z\" fill=\"#000000\" fill-rule=\"nonzero\" fill-opacity=\"1\" /><path clip-path=\"url(#clip720)\" d=\"M129.371 1034.58 L147.728 1034.58 L147.728 1038.52 L133.654 1038.52 L133.654 1046.99 Q134.672 1046.64 135.691 1046.48 Q136.709 1046.3 137.728 1046.3 Q143.515 1046.3 146.894 1049.47 Q150.274 1052.64 150.274 1058.05 Q150.274 1063.63 146.802 1066.74 Q143.33 1069.81 137.01 1069.81 Q134.834 1069.81 132.566 1069.44 Q130.32 1069.07 127.913 1068.33 L127.913 1063.63 Q129.996 1064.77 132.219 1065.32 Q134.441 1065.88 136.918 1065.88 Q140.922 1065.88 143.26 1063.77 Q145.598 1061.67 145.598 1058.05 Q145.598 1054.44 143.26 1052.34 Q140.922 1050.23 136.918 1050.23 Q135.043 1050.23 133.168 1050.65 Q131.316 1051.06 129.371 1051.94 L129.371 1034.58 Z\" fill=\"#000000\" fill-rule=\"nonzero\" fill-opacity=\"1\" /><path clip-path=\"url(#clip720)\" d=\"M62.9365 715.272 Q59.3254 715.272 57.4967 718.837 Q55.6912 722.379 55.6912 729.508 Q55.6912 736.615 57.4967 740.18 Q59.3254 743.721 62.9365 743.721 Q66.5707 743.721 68.3763 740.18 Q70.205 736.615 70.205 729.508 Q70.205 722.379 68.3763 718.837 Q66.5707 715.272 62.9365 715.272 M62.9365 711.569 Q68.7467 711.569 71.8022 716.175 Q74.8809 720.758 74.8809 729.508 Q74.8809 738.235 71.8022 742.842 Q68.7467 747.425 62.9365 747.425 Q57.1264 747.425 54.0477 742.842 Q50.9921 738.235 50.9921 729.508 Q50.9921 720.758 54.0477 716.175 Q57.1264 711.569 62.9365 711.569 Z\" fill=\"#000000\" fill-rule=\"nonzero\" fill-opacity=\"1\" /><path clip-path=\"url(#clip720)\" d=\"M83.0984 740.874 L87.9827 740.874 L87.9827 746.754 L83.0984 746.754 L83.0984 740.874 Z\" fill=\"#000000\" fill-rule=\"nonzero\" fill-opacity=\"1\" /><path clip-path=\"url(#clip720)\" d=\"M98.2141 712.194 L116.57 712.194 L116.57 716.129 L102.496 716.129 L102.496 724.601 Q103.515 724.254 104.534 724.092 Q105.552 723.907 106.571 723.907 Q112.358 723.907 115.737 727.078 Q119.117 730.249 119.117 735.666 Q119.117 741.244 115.645 744.346 Q112.172 747.425 105.853 747.425 Q103.677 747.425 101.409 747.055 Q99.1632 746.684 96.7558 745.943 L96.7558 741.244 Q98.8391 742.379 101.061 742.934 Q103.284 743.49 105.76 743.49 Q109.765 743.49 112.103 741.383 Q114.441 739.277 114.441 735.666 Q114.441 732.055 112.103 729.948 Q109.765 727.842 105.76 727.842 Q103.885 727.842 102.01 728.258 Q100.159 728.675 98.2141 729.555 L98.2141 712.194 Z\" fill=\"#000000\" fill-rule=\"nonzero\" fill-opacity=\"1\" /><path clip-path=\"url(#clip720)\" d=\"M138.33 715.272 Q134.719 715.272 132.89 718.837 Q131.084 722.379 131.084 729.508 Q131.084 736.615 132.89 740.18 Q134.719 743.721 138.33 743.721 Q141.964 743.721 143.769 740.18 Q145.598 736.615 145.598 729.508 Q145.598 722.379 143.769 718.837 Q141.964 715.272 138.33 715.272 M138.33 711.569 Q144.14 711.569 147.195 716.175 Q150.274 720.758 150.274 729.508 Q150.274 738.235 147.195 742.842 Q144.14 747.425 138.33 747.425 Q132.519 747.425 129.441 742.842 Q126.385 738.235 126.385 729.508 Q126.385 720.758 129.441 716.175 Q132.519 711.569 138.33 711.569 Z\" fill=\"#000000\" fill-rule=\"nonzero\" fill-opacity=\"1\" /><path clip-path=\"url(#clip720)\" d=\"M63.9319 392.883 Q60.3208 392.883 58.4921 396.448 Q56.6865 399.99 56.6865 407.119 Q56.6865 414.226 58.4921 417.79 Q60.3208 421.332 63.9319 421.332 Q67.5661 421.332 69.3717 417.79 Q71.2004 414.226 71.2004 407.119 Q71.2004 399.99 69.3717 396.448 Q67.5661 392.883 63.9319 392.883 M63.9319 389.179 Q69.742 389.179 72.7976 393.786 Q75.8763 398.369 75.8763 407.119 Q75.8763 415.846 72.7976 420.452 Q69.742 425.036 63.9319 425.036 Q58.1217 425.036 55.043 420.452 Q51.9875 415.846 51.9875 407.119 Q51.9875 398.369 55.043 393.786 Q58.1217 389.179 63.9319 389.179 Z\" fill=\"#000000\" fill-rule=\"nonzero\" fill-opacity=\"1\" /><path clip-path=\"url(#clip720)\" d=\"M84.0938 418.485 L88.978 418.485 L88.978 424.364 L84.0938 424.364 L84.0938 418.485 Z\" fill=\"#000000\" fill-rule=\"nonzero\" fill-opacity=\"1\" /><path clip-path=\"url(#clip720)\" d=\"M97.9826 389.804 L120.205 389.804 L120.205 391.795 L107.658 424.364 L102.774 424.364 L114.58 393.74 L97.9826 393.74 L97.9826 389.804 Z\" fill=\"#000000\" fill-rule=\"nonzero\" fill-opacity=\"1\" /><path clip-path=\"url(#clip720)\" d=\"M129.371 389.804 L147.728 389.804 L147.728 393.74 L133.654 393.74 L133.654 402.212 Q134.672 401.865 135.691 401.703 Q136.709 401.517 137.728 401.517 Q143.515 401.517 146.894 404.689 Q150.274 407.86 150.274 413.277 Q150.274 418.855 146.802 421.957 Q143.33 425.036 137.01 425.036 Q134.834 425.036 132.566 424.665 Q130.32 424.295 127.913 423.554 L127.913 418.855 Q129.996 419.989 132.219 420.545 Q134.441 421.101 136.918 421.101 Q140.922 421.101 143.26 418.994 Q145.598 416.888 145.598 413.277 Q145.598 409.665 143.26 407.559 Q140.922 405.453 136.918 405.453 Q135.043 405.453 133.168 405.869 Q131.316 406.286 129.371 407.165 L129.371 389.804 Z\" fill=\"#000000\" fill-rule=\"nonzero\" fill-opacity=\"1\" /><path clip-path=\"url(#clip720)\" d=\"M53.7467 98.0401 L61.3856 98.0401 L61.3856 71.6745 L53.0754 73.3412 L53.0754 69.082 L61.3393 67.4153 L66.0152 67.4153 L66.0152 98.0401 L73.654 98.0401 L73.654 101.975 L53.7467 101.975 L53.7467 98.0401 Z\" fill=\"#000000\" fill-rule=\"nonzero\" fill-opacity=\"1\" /><path clip-path=\"url(#clip720)\" d=\"M83.0984 96.0957 L87.9827 96.0957 L87.9827 101.975 L83.0984 101.975 L83.0984 96.0957 Z\" fill=\"#000000\" fill-rule=\"nonzero\" fill-opacity=\"1\" /><path clip-path=\"url(#clip720)\" d=\"M108.168 70.494 Q104.557 70.494 102.728 74.0588 Q100.922 77.6004 100.922 84.73 Q100.922 91.8365 102.728 95.4013 Q104.557 98.9429 108.168 98.9429 Q111.802 98.9429 113.608 95.4013 Q115.436 91.8365 115.436 84.73 Q115.436 77.6004 113.608 74.0588 Q111.802 70.494 108.168 70.494 M108.168 66.7903 Q113.978 66.7903 117.033 71.3968 Q120.112 75.9801 120.112 84.73 Q120.112 93.4568 117.033 98.0633 Q113.978 102.647 108.168 102.647 Q102.358 102.647 99.2789 98.0633 Q96.2234 93.4568 96.2234 84.73 Q96.2234 75.9801 99.2789 71.3968 Q102.358 66.7903 108.168 66.7903 Z\" fill=\"#000000\" fill-rule=\"nonzero\" fill-opacity=\"1\" /><path clip-path=\"url(#clip720)\" d=\"M138.33 70.494 Q134.719 70.494 132.89 74.0588 Q131.084 77.6004 131.084 84.73 Q131.084 91.8365 132.89 95.4013 Q134.719 98.9429 138.33 98.9429 Q141.964 98.9429 143.769 95.4013 Q145.598 91.8365 145.598 84.73 Q145.598 77.6004 143.769 74.0588 Q141.964 70.494 138.33 70.494 M138.33 66.7903 Q144.14 66.7903 147.195 71.3968 Q150.274 75.9801 150.274 84.73 Q150.274 93.4568 147.195 98.0633 Q144.14 102.647 138.33 102.647 Q132.519 102.647 129.441 98.0633 Q126.385 93.4568 126.385 84.73 Q126.385 75.9801 129.441 71.3968 Q132.519 66.7903 138.33 66.7903 Z\" fill=\"#000000\" fill-rule=\"nonzero\" fill-opacity=\"1\" /><polyline clip-path=\"url(#clip722)\" style=\"stroke:#009af9; stroke-linecap:round; stroke-linejoin:round; stroke-width:4; stroke-opacity:1; fill:none\" points=\"247.59,1324.65 268.234,1356.89 288.879,1383.66 309.524,1405.26 330.169,1421.99 350.814,1434.12 371.459,1441.94 392.104,1445.71 412.749,1445.72 433.394,1442.2 454.039,1435.43 474.684,1425.65 495.329,1413.1 515.974,1398.01 536.619,1380.61 557.264,1361.13 577.909,1339.79 598.554,1316.79 619.199,1292.34 639.844,1266.63 660.489,1239.87 681.134,1212.23 701.779,1183.89 722.424,1155.04 743.069,1125.83 763.713,1096.43 784.358,1066.98 805.003,1037.65 825.648,1008.58 846.293,979.887 866.938,951.717 887.583,924.191 908.228,897.426 928.873,871.533 949.518,846.618 970.163,822.78 990.808,800.113 1011.45,778.701 1032.1,758.627 1052.74,739.965 1073.39,722.782 1094.03,707.141 1114.68,693.098 1135.32,680.701 1155.97,669.995 1176.61,661.016 1197.26,653.796 1217.9,648.36 1238.55,644.725 1259.19,642.904 1279.84,642.904 1300.48,644.725 1321.13,648.36 1341.77,653.796 1362.42,661.016 1383.06,669.995 1403.71,680.701 1424.35,693.098 1445,707.141 1465.64,722.782 1486.29,739.965 1506.93,758.627 1527.58,778.701 1548.22,800.113 1568.87,822.78 1589.51,846.618 1610.16,871.533 1630.8,897.426 1651.45,924.191 1672.09,951.717 1692.74,979.887 1713.38,1008.58 1734.03,1037.65 1754.67,1066.98 1775.32,1096.43 1795.96,1125.83 1816.61,1155.04 1837.25,1183.89 1857.9,1212.23 1878.54,1239.87 1899.19,1266.63 1919.83,1292.34 1940.48,1316.79 1961.12,1339.79 1981.77,1361.13 2002.41,1380.61 2023.06,1398.01 2043.7,1413.1 2064.35,1425.65 2084.99,1435.43 2105.64,1442.2 2126.28,1445.72 2146.93,1445.71 2167.57,1441.94 2188.22,1434.12 2208.86,1421.99 2229.51,1405.26 2250.15,1383.66 2270.8,1356.89 2291.44,1324.65 \"/>\n",
       "<polyline clip-path=\"url(#clip722)\" style=\"stroke:#e26f46; stroke-linecap:round; stroke-linejoin:round; stroke-width:12; stroke-opacity:1; fill:none\" points=\"247.59,1324.65 268.234,1322.67 288.879,1320.57 309.524,1318.33 330.169,1315.96 350.814,1313.44 371.459,1310.75 392.104,1307.88 412.749,1304.82 433.394,1301.54 454.039,1298.03 474.684,1294.27 495.329,1290.23 515.974,1285.88 536.619,1281.2 557.264,1276.14 577.909,1270.68 598.554,1264.75 619.199,1258.33 639.844,1251.34 660.489,1243.72 681.134,1235.4 701.779,1226.3 722.424,1216.32 743.069,1205.34 763.713,1193.25 784.358,1179.88 805.003,1165.09 825.648,1148.66 846.293,1130.38 866.938,1109.98 887.583,1087.17 908.228,1061.61 928.873,1032.9 949.518,1000.61 970.163,964.243 990.808,923.28 1011.45,877.165 1032.1,825.353 1052.74,767.369 1073.39,702.896 1094.03,631.92 1114.68,554.925 1135.32,473.144 1155.97,388.836 1176.61,305.51 1197.26,227.966 1217.9,161.999 1238.55,113.635 1259.19,87.9763 1279.84,87.9763 1300.48,113.635 1321.13,161.999 1341.77,227.966 1362.42,305.51 1383.06,388.836 1403.71,473.144 1424.35,554.925 1445,631.92 1465.64,702.896 1486.29,767.369 1506.93,825.353 1527.58,877.165 1548.22,923.28 1568.87,964.243 1589.51,1000.61 1610.16,1032.9 1630.8,1061.61 1651.45,1087.17 1672.09,1109.98 1692.74,1130.38 1713.38,1148.66 1734.03,1165.09 1754.67,1179.88 1775.32,1193.25 1795.96,1205.34 1816.61,1216.32 1837.25,1226.3 1857.9,1235.4 1878.54,1243.72 1899.19,1251.34 1919.83,1258.33 1940.48,1264.75 1961.12,1270.68 1981.77,1276.14 2002.41,1281.2 2023.06,1285.88 2043.7,1290.23 2064.35,1294.27 2084.99,1298.03 2105.64,1301.54 2126.28,1304.82 2146.93,1307.88 2167.57,1310.75 2188.22,1313.44 2208.86,1315.96 2229.51,1318.33 2250.15,1320.57 2270.8,1322.67 2291.44,1324.65 \"/>\n",
       "<path clip-path=\"url(#clip720)\" d=\"M1944.78 250.738 L2280.54 250.738 L2280.54 95.2176 L1944.78 95.2176  Z\" fill=\"#ffffff\" fill-rule=\"evenodd\" fill-opacity=\"1\"/>\n",
       "<polyline clip-path=\"url(#clip720)\" style=\"stroke:#000000; stroke-linecap:round; stroke-linejoin:round; stroke-width:4; stroke-opacity:1; fill:none\" points=\"1944.78,250.738 2280.54,250.738 2280.54,95.2176 1944.78,95.2176 1944.78,250.738 \"/>\n",
       "<polyline clip-path=\"url(#clip720)\" style=\"stroke:#009af9; stroke-linecap:round; stroke-linejoin:round; stroke-width:4; stroke-opacity:1; fill:none\" points=\"1968.85,147.058 2113.28,147.058 \"/>\n",
       "<path clip-path=\"url(#clip720)\" d=\"M2171.6 132.329 Q2171.6 134.952 2169.66 137.364 Q2167.74 139.777 2164.6 141.253 Q2161.48 142.705 2158.13 142.705 L2149.98 142.705 L2147.01 154.697 Q2146.98 154.767 2146.91 155.072 Q2146.84 155.353 2146.84 155.517 Q2146.84 156.102 2147.57 156.243 Q2148.32 156.384 2149.98 156.384 Q2151.06 156.384 2151.22 156.571 Q2151.32 156.688 2151.32 156.899 Q2151.32 157.227 2151.22 157.461 Q2151.13 157.672 2150.94 157.742 Q2150.78 157.812 2150.66 157.836 Q2150.54 157.859 2150.36 157.859 Q2149.86 157.859 2148.81 157.812 Q2147.78 157.765 2147.24 157.765 L2144.17 157.719 L2138.08 157.859 Q2137.36 157.859 2137.36 157.274 Q2137.36 156.829 2137.54 156.641 Q2137.73 156.43 2137.94 156.407 Q2138.15 156.384 2138.69 156.384 Q2139.86 156.384 2140.57 156.313 Q2141.27 156.243 2141.71 156.149 Q2142.18 156.032 2142.42 155.704 Q2142.67 155.376 2142.79 155.095 Q2142.91 154.791 2143.07 154.112 L2149.49 128.347 Q2149.68 127.574 2149.68 127.457 Q2149.68 127.059 2149.44 126.918 Q2149.23 126.754 2148.62 126.684 Q2147.45 126.59 2146.56 126.59 Q2145.98 126.59 2145.74 126.567 Q2145.53 126.543 2145.34 126.426 Q2145.18 126.286 2145.18 126.005 Q2145.18 125.56 2145.37 125.372 Q2145.58 125.161 2145.81 125.138 Q2146.05 125.091 2146.61 125.091 L2162.16 125.091 Q2166.64 125.091 2169.12 127.223 Q2171.6 129.354 2171.6 132.329 M2167.15 131.181 Q2167.15 126.59 2160.62 126.59 L2156.02 126.59 Q2154.5 126.59 2154.13 126.871 Q2153.75 127.129 2153.42 128.417 L2150.17 141.463 L2156.94 141.463 Q2161.48 141.463 2164.32 138.91 Q2165.6 137.739 2166.38 135.303 Q2167.15 132.867 2167.15 131.181 Z\" fill=\"#000000\" fill-rule=\"nonzero\" fill-opacity=\"1\" /><path clip-path=\"url(#clip720)\" d=\"M2176.38 165.738 Q2176.38 164.737 2176.92 164.36 Q2177.47 163.967 2178.04 163.967 Q2178.81 163.967 2179.25 164.459 Q2179.71 164.934 2179.71 165.606 Q2179.71 166.279 2179.25 166.771 Q2178.81 167.246 2178.04 167.246 Q2177.66 167.246 2177.47 167.18 Q2177.91 168.722 2179.25 169.837 Q2180.61 170.951 2182.4 170.951 Q2184.65 170.951 2185.99 168.771 Q2186.79 167.361 2186.79 164.164 Q2186.79 161.344 2186.19 159.934 Q2185.25 157.786 2183.33 157.786 Q2180.61 157.786 2179.01 160.13 Q2178.81 160.425 2178.58 160.442 Q2178.25 160.442 2178.17 160.261 Q2178.1 160.065 2178.1 159.556 L2178.1 149.621 Q2178.1 148.817 2178.43 148.817 Q2178.56 148.817 2178.84 148.916 Q2180.96 149.85 2183.3 149.867 Q2185.71 149.867 2187.88 148.883 Q2188.04 148.784 2188.14 148.784 Q2188.47 148.784 2188.48 149.162 Q2188.48 149.293 2188.2 149.686 Q2187.94 150.063 2187.37 150.572 Q2186.79 151.063 2186.06 151.539 Q2185.32 152.014 2184.24 152.342 Q2183.17 152.654 2181.99 152.654 Q2180.58 152.654 2179.14 152.211 L2179.14 158.753 Q2180.88 157.048 2183.4 157.048 Q2186.09 157.048 2187.94 159.212 Q2189.79 161.376 2189.79 164.393 Q2189.79 167.558 2187.6 169.722 Q2185.42 171.886 2182.47 171.886 Q2179.78 171.886 2178.07 169.968 Q2176.38 168.049 2176.38 165.738 Z\" fill=\"#000000\" fill-rule=\"nonzero\" fill-opacity=\"1\" /><path clip-path=\"url(#clip720)\" d=\"M2194.78 145.867 Q2194.78 137.763 2197.8 131.228 Q2199.09 128.487 2200.89 126.192 Q2202.7 123.897 2203.89 122.889 Q2205.09 121.882 2205.42 121.882 Q2205.88 121.882 2205.91 122.351 Q2205.91 122.585 2205.27 123.17 Q2197.55 131.04 2197.57 145.867 Q2197.57 160.74 2205.09 168.306 Q2205.91 169.125 2205.91 169.383 Q2205.91 169.851 2205.42 169.851 Q2205.09 169.851 2203.94 168.891 Q2202.79 167.931 2201.01 165.729 Q2199.23 163.527 2197.94 160.834 Q2194.78 154.299 2194.78 145.867 Z\" fill=\"#000000\" fill-rule=\"nonzero\" fill-opacity=\"1\" /><path clip-path=\"url(#clip720)\" d=\"M2233.44 139.824 Q2233.44 141.135 2232.62 141.885 Q2231.8 142.611 2230.86 142.611 Q2229.97 142.611 2229.5 142.096 Q2229.04 141.581 2229.04 140.925 Q2229.04 140.035 2229.69 139.262 Q2230.35 138.489 2231.33 138.325 Q2230.37 137.716 2228.94 137.716 Q2228.01 137.716 2227.19 138.208 Q2226.39 138.7 2225.9 139.332 Q2225.43 139.964 2225.01 140.878 Q2224.61 141.768 2224.45 142.307 Q2224.31 142.822 2224.19 143.384 L2222.55 149.942 Q2221.75 153.058 2221.75 154.158 Q2221.75 155.517 2222.41 156.43 Q2223.06 157.32 2224.38 157.32 Q2224.89 157.32 2225.48 157.18 Q2226.06 157.016 2226.81 156.594 Q2227.58 156.149 2228.26 155.493 Q2228.97 154.814 2229.65 153.666 Q2230.32 152.519 2230.77 151.043 Q2230.91 150.528 2231.38 150.528 Q2231.96 150.528 2231.96 150.996 Q2231.96 151.395 2231.64 152.238 Q2231.33 153.058 2230.65 154.135 Q2230 155.189 2229.13 156.149 Q2228.26 157.086 2226.98 157.742 Q2225.69 158.398 2224.28 158.398 Q2222.27 158.398 2220.93 157.32 Q2219.6 156.243 2219.11 154.744 Q2218.99 154.955 2218.82 155.236 Q2218.66 155.517 2218.17 156.149 Q2217.7 156.758 2217.16 157.227 Q2216.62 157.672 2215.78 158.023 Q2214.96 158.398 2214.07 158.398 Q2212.95 158.398 2211.94 158.07 Q2210.95 157.742 2210.25 156.992 Q2209.55 156.243 2209.55 155.212 Q2209.55 154.065 2210.32 153.268 Q2211.12 152.449 2212.2 152.449 Q2212.87 152.449 2213.41 152.847 Q2213.98 153.245 2213.98 154.112 Q2213.98 155.072 2213.32 155.798 Q2212.66 156.524 2211.73 156.711 Q2212.69 157.32 2214.12 157.32 Q2215.66 157.32 2216.88 155.962 Q2218.1 154.603 2218.68 152.331 Q2220.14 146.874 2220.7 144.438 Q2221.26 141.979 2221.26 140.925 Q2221.26 139.941 2221 139.262 Q2220.74 138.582 2220.3 138.278 Q2219.88 137.95 2219.48 137.833 Q2219.11 137.716 2218.68 137.716 Q2217.98 137.716 2217.18 137.997 Q2216.41 138.278 2215.47 138.934 Q2214.56 139.566 2213.69 140.878 Q2212.83 142.19 2212.24 143.993 Q2212.13 144.532 2211.61 144.532 Q2211.05 144.508 2211.05 144.04 Q2211.05 143.642 2211.35 142.822 Q2211.68 141.979 2212.34 140.925 Q2213.02 139.871 2213.88 138.934 Q2214.77 137.973 2216.06 137.318 Q2217.37 136.662 2218.78 136.662 Q2219.41 136.662 2220.02 136.802 Q2220.65 136.919 2221.4 137.271 Q2222.17 137.622 2222.85 138.395 Q2223.53 139.168 2223.95 140.292 Q2224.23 139.754 2224.61 139.238 Q2225.01 138.723 2225.62 138.091 Q2226.25 137.435 2227.12 137.06 Q2228.01 136.662 2228.99 136.662 Q2229.95 136.662 2230.89 136.919 Q2231.82 137.154 2232.62 137.927 Q2233.44 138.676 2233.44 139.824 Z\" fill=\"#000000\" fill-rule=\"nonzero\" fill-opacity=\"1\" /><path clip-path=\"url(#clip720)\" d=\"M2238.05 169.383 Q2238.05 169.149 2238.66 168.563 Q2246.39 160.693 2246.39 145.867 Q2246.39 130.994 2238.97 123.475 Q2238.05 122.608 2238.05 122.351 Q2238.05 121.882 2238.52 121.882 Q2238.85 121.882 2240 122.843 Q2241.17 123.803 2242.92 126.005 Q2244.7 128.206 2246.02 130.9 Q2249.18 137.435 2249.18 145.867 Q2249.18 153.971 2246.16 160.506 Q2244.87 163.246 2243.06 165.542 Q2241.26 167.837 2240.07 168.844 Q2238.87 169.851 2238.52 169.851 Q2238.05 169.851 2238.05 169.383 Z\" fill=\"#000000\" fill-rule=\"nonzero\" fill-opacity=\"1\" /><polyline clip-path=\"url(#clip720)\" style=\"stroke:#e26f46; stroke-linecap:round; stroke-linejoin:round; stroke-width:12; stroke-opacity:1; fill:none\" points=\"1968.85,198.898 2113.28,198.898 \"/>\n",
       "<path clip-path=\"url(#clip720)\" d=\"M2159.37 191.824 Q2159.37 191.847 2159.23 192.69 L2153.89 213.981 Q2153.61 215.106 2152.82 216.23 Q2152.04 217.378 2150.8 218.361 Q2149.58 219.369 2147.71 219.978 Q2145.86 220.61 2143.73 220.61 Q2140.33 220.61 2138.83 219.884 Q2137.36 219.181 2137.36 217.682 Q2137.36 216.371 2138.18 215.621 Q2139 214.895 2139.93 214.895 Q2140.82 214.895 2141.29 215.41 Q2141.76 215.925 2141.76 216.581 Q2141.76 217.307 2141.27 218.034 Q2140.78 218.783 2139.79 219.064 Q2141.36 219.556 2143.63 219.556 Q2148.44 219.556 2150.5 214.473 Q2150.54 214.403 2150.54 214.38 L2152.14 208.032 L2152.07 207.985 Q2151.67 208.454 2151.04 208.992 Q2150.43 209.508 2149.12 210.14 Q2147.8 210.773 2146.52 210.773 Q2143.82 210.773 2141.97 208.711 Q2140.14 206.627 2140.14 203.184 Q2140.14 200.677 2141.15 198.171 Q2142.18 195.642 2143.77 193.791 Q2145.39 191.917 2147.45 190.746 Q2149.54 189.575 2151.55 189.575 Q2152.96 189.575 2154.15 190.418 Q2155.35 191.238 2156 192.597 Q2156.12 191.472 2156.75 191.004 Q2157.41 190.536 2157.97 190.536 Q2158.6 190.536 2158.98 190.887 Q2159.37 191.215 2159.37 191.824 M2155.44 194.752 Q2155.44 194.611 2155.35 194.236 Q2155.25 193.838 2154.97 193.206 Q2154.71 192.573 2154.31 192.011 Q2153.92 191.449 2153.19 191.051 Q2152.49 190.629 2151.6 190.629 Q2150.15 190.629 2148.69 191.847 Q2147.24 193.042 2146.23 194.892 Q2145.3 196.672 2144.41 200.115 Q2143.54 203.558 2143.54 205.315 Q2143.54 207.048 2144.29 208.383 Q2145.04 209.719 2146.66 209.719 Q2148.53 209.719 2150.54 207.985 Q2152.63 206.182 2152.98 204.636 L2155.3 195.478 Q2155.44 194.916 2155.44 194.752 Z\" fill=\"#000000\" fill-rule=\"nonzero\" fill-opacity=\"1\" /><path clip-path=\"url(#clip720)\" d=\"M2165.95 198.78 Q2165.95 190.676 2168.97 184.141 Q2170.26 181.401 2172.06 179.105 Q2173.86 176.81 2175.06 175.803 Q2176.25 174.796 2176.58 174.796 Q2177.05 174.796 2177.07 175.264 Q2177.07 175.498 2176.44 176.084 Q2168.71 183.954 2168.73 198.78 Q2168.73 213.654 2176.25 221.219 Q2177.07 222.039 2177.07 222.296 Q2177.07 222.765 2176.58 222.765 Q2176.25 222.765 2175.1 221.805 Q2173.96 220.844 2172.18 218.642 Q2170.4 216.441 2169.11 213.747 Q2165.95 207.212 2165.95 198.78 Z\" fill=\"#000000\" fill-rule=\"nonzero\" fill-opacity=\"1\" /><path clip-path=\"url(#clip720)\" d=\"M2204.6 192.737 Q2204.6 194.049 2203.78 194.798 Q2202.96 195.525 2202.03 195.525 Q2201.14 195.525 2200.67 195.009 Q2200.2 194.494 2200.2 193.838 Q2200.2 192.948 2200.86 192.175 Q2201.51 191.402 2202.5 191.238 Q2201.54 190.629 2200.11 190.629 Q2199.17 190.629 2198.35 191.121 Q2197.55 191.613 2197.06 192.245 Q2196.59 192.878 2196.17 193.791 Q2195.77 194.681 2195.61 195.22 Q2195.47 195.735 2195.35 196.297 L2193.71 202.856 Q2192.92 205.971 2192.92 207.072 Q2192.92 208.43 2193.57 209.344 Q2194.23 210.234 2195.54 210.234 Q2196.05 210.234 2196.64 210.093 Q2197.23 209.929 2197.98 209.508 Q2198.75 209.063 2199.43 208.407 Q2200.13 207.728 2200.81 206.58 Q2201.49 205.432 2201.93 203.957 Q2202.07 203.441 2202.54 203.441 Q2203.13 203.441 2203.13 203.91 Q2203.13 204.308 2202.8 205.151 Q2202.5 205.971 2201.82 207.048 Q2201.16 208.102 2200.29 209.063 Q2199.43 210 2198.14 210.655 Q2196.85 211.311 2195.45 211.311 Q2193.43 211.311 2192.1 210.234 Q2190.76 209.156 2190.27 207.657 Q2190.15 207.868 2189.99 208.149 Q2189.82 208.43 2189.33 209.063 Q2188.86 209.672 2188.33 210.14 Q2187.79 210.585 2186.94 210.937 Q2186.12 211.311 2185.23 211.311 Q2184.11 211.311 2183.1 210.983 Q2182.12 210.655 2181.42 209.906 Q2180.71 209.156 2180.71 208.126 Q2180.71 206.978 2181.49 206.182 Q2182.28 205.362 2183.36 205.362 Q2184.04 205.362 2184.58 205.76 Q2185.14 206.158 2185.14 207.025 Q2185.14 207.985 2184.48 208.711 Q2183.83 209.437 2182.89 209.625 Q2183.85 210.234 2185.28 210.234 Q2186.83 210.234 2188.04 208.875 Q2189.26 207.517 2189.85 205.245 Q2191.3 199.787 2191.86 197.351 Q2192.42 194.892 2192.42 193.838 Q2192.42 192.854 2192.17 192.175 Q2191.91 191.496 2191.46 191.191 Q2191.04 190.863 2190.64 190.746 Q2190.27 190.629 2189.85 190.629 Q2189.15 190.629 2188.35 190.91 Q2187.58 191.191 2186.64 191.847 Q2185.73 192.48 2184.86 193.791 Q2183.99 195.103 2183.41 196.906 Q2183.29 197.445 2182.77 197.445 Q2182.21 197.422 2182.21 196.953 Q2182.21 196.555 2182.52 195.735 Q2182.84 194.892 2183.5 193.838 Q2184.18 192.784 2185.05 191.847 Q2185.94 190.887 2187.22 190.231 Q2188.54 189.575 2189.94 189.575 Q2190.57 189.575 2191.18 189.716 Q2191.82 189.833 2192.56 190.184 Q2193.34 190.536 2194.02 191.309 Q2194.7 192.081 2195.12 193.206 Q2195.4 192.667 2195.77 192.152 Q2196.17 191.636 2196.78 191.004 Q2197.41 190.348 2198.28 189.973 Q2199.17 189.575 2200.15 189.575 Q2201.11 189.575 2202.05 189.833 Q2202.99 190.067 2203.78 190.84 Q2204.6 191.59 2204.6 192.737 Z\" fill=\"#000000\" fill-rule=\"nonzero\" fill-opacity=\"1\" /><path clip-path=\"url(#clip720)\" d=\"M2209.22 222.296 Q2209.22 222.062 2209.83 221.477 Q2217.56 213.607 2217.56 198.78 Q2217.56 183.907 2210.13 176.388 Q2209.22 175.522 2209.22 175.264 Q2209.22 174.796 2209.69 174.796 Q2210.01 174.796 2211.16 175.756 Q2212.33 176.716 2214.09 178.918 Q2215.87 181.12 2217.18 183.813 Q2220.34 190.348 2220.34 198.78 Q2220.34 206.884 2217.32 213.419 Q2216.03 216.16 2214.23 218.455 Q2212.43 220.751 2211.23 221.758 Q2210.04 222.765 2209.69 222.765 Q2209.22 222.765 2209.22 222.296 Z\" fill=\"#000000\" fill-rule=\"nonzero\" fill-opacity=\"1\" /></svg>\n"
      ],
      "text/html": [
       "<?xml version=\"1.0\" encoding=\"utf-8\"?>\n",
       "<svg xmlns=\"http://www.w3.org/2000/svg\" xmlns:xlink=\"http://www.w3.org/1999/xlink\" width=\"600\" height=\"400\" viewBox=\"0 0 2400 1600\">\n",
       "<defs>\n",
       "  <clipPath id=\"clip770\">\n",
       "    <rect x=\"0\" y=\"0\" width=\"2400\" height=\"1600\"/>\n",
       "  </clipPath>\n",
       "</defs>\n",
       "<path clip-path=\"url(#clip770)\" d=\"M0 1600 L2400 1600 L2400 0 L0 0  Z\" fill=\"#ffffff\" fill-rule=\"evenodd\" fill-opacity=\"1\"/>\n",
       "<defs>\n",
       "  <clipPath id=\"clip771\">\n",
       "    <rect x=\"480\" y=\"0\" width=\"1681\" height=\"1600\"/>\n",
       "  </clipPath>\n",
       "</defs>\n",
       "<defs>\n",
       "  <clipPath id=\"clip772\">\n",
       "    <rect x=\"186\" y=\"47\" width=\"2167\" height=\"1440\"/>\n",
       "  </clipPath>\n",
       "</defs>\n",
       "<path clip-path=\"url(#clip770)\" d=\"M186.274 1486.45 L2352.76 1486.45 L2352.76 47.2441 L186.274 47.2441  Z\" fill=\"#ffffff\" fill-rule=\"evenodd\" fill-opacity=\"1\"/>\n",
       "<polyline clip-path=\"url(#clip772)\" style=\"stroke:#000000; stroke-linecap:round; stroke-linejoin:round; stroke-width:2; stroke-opacity:0.1; fill:none\" points=\"247.59,1486.45 247.59,47.2441 \"/>\n",
       "<polyline clip-path=\"url(#clip772)\" style=\"stroke:#000000; stroke-linecap:round; stroke-linejoin:round; stroke-width:2; stroke-opacity:0.1; fill:none\" points=\"758.552,1486.45 758.552,47.2441 \"/>\n",
       "<polyline clip-path=\"url(#clip772)\" style=\"stroke:#000000; stroke-linecap:round; stroke-linejoin:round; stroke-width:2; stroke-opacity:0.1; fill:none\" points=\"1269.51,1486.45 1269.51,47.2441 \"/>\n",
       "<polyline clip-path=\"url(#clip772)\" style=\"stroke:#000000; stroke-linecap:round; stroke-linejoin:round; stroke-width:2; stroke-opacity:0.1; fill:none\" points=\"1780.48,1486.45 1780.48,47.2441 \"/>\n",
       "<polyline clip-path=\"url(#clip772)\" style=\"stroke:#000000; stroke-linecap:round; stroke-linejoin:round; stroke-width:2; stroke-opacity:0.1; fill:none\" points=\"2291.44,1486.45 2291.44,47.2441 \"/>\n",
       "<polyline clip-path=\"url(#clip770)\" style=\"stroke:#000000; stroke-linecap:round; stroke-linejoin:round; stroke-width:4; stroke-opacity:1; fill:none\" points=\"186.274,1486.45 2352.76,1486.45 \"/>\n",
       "<polyline clip-path=\"url(#clip770)\" style=\"stroke:#000000; stroke-linecap:round; stroke-linejoin:round; stroke-width:4; stroke-opacity:1; fill:none\" points=\"247.59,1486.45 247.59,1467.55 \"/>\n",
       "<polyline clip-path=\"url(#clip770)\" style=\"stroke:#000000; stroke-linecap:round; stroke-linejoin:round; stroke-width:4; stroke-opacity:1; fill:none\" points=\"758.552,1486.45 758.552,1467.55 \"/>\n",
       "<polyline clip-path=\"url(#clip770)\" style=\"stroke:#000000; stroke-linecap:round; stroke-linejoin:round; stroke-width:4; stroke-opacity:1; fill:none\" points=\"1269.51,1486.45 1269.51,1467.55 \"/>\n",
       "<polyline clip-path=\"url(#clip770)\" style=\"stroke:#000000; stroke-linecap:round; stroke-linejoin:round; stroke-width:4; stroke-opacity:1; fill:none\" points=\"1780.48,1486.45 1780.48,1467.55 \"/>\n",
       "<polyline clip-path=\"url(#clip770)\" style=\"stroke:#000000; stroke-linecap:round; stroke-linejoin:round; stroke-width:4; stroke-opacity:1; fill:none\" points=\"2291.44,1486.45 2291.44,1467.55 \"/>\n",
       "<path clip-path=\"url(#clip770)\" d=\"M194.118 1532.02 L223.793 1532.02 L223.793 1535.95 L194.118 1535.95 L194.118 1532.02 Z\" fill=\"#000000\" fill-rule=\"nonzero\" fill-opacity=\"1\" /><path clip-path=\"url(#clip770)\" d=\"M234.696 1544.91 L242.335 1544.91 L242.335 1518.55 L234.025 1520.21 L234.025 1515.95 L242.289 1514.29 L246.965 1514.29 L246.965 1544.91 L254.603 1544.91 L254.603 1548.85 L234.696 1548.85 L234.696 1544.91 Z\" fill=\"#000000\" fill-rule=\"nonzero\" fill-opacity=\"1\" /><path clip-path=\"url(#clip770)\" d=\"M264.048 1542.97 L268.932 1542.97 L268.932 1548.85 L264.048 1548.85 L264.048 1542.97 Z\" fill=\"#000000\" fill-rule=\"nonzero\" fill-opacity=\"1\" /><path clip-path=\"url(#clip770)\" d=\"M289.117 1517.37 Q285.506 1517.37 283.677 1520.93 Q281.872 1524.47 281.872 1531.6 Q281.872 1538.71 283.677 1542.27 Q285.506 1545.82 289.117 1545.82 Q292.751 1545.82 294.557 1542.27 Q296.386 1538.71 296.386 1531.6 Q296.386 1524.47 294.557 1520.93 Q292.751 1517.37 289.117 1517.37 M289.117 1513.66 Q294.927 1513.66 297.983 1518.27 Q301.061 1522.85 301.061 1531.6 Q301.061 1540.33 297.983 1544.94 Q294.927 1549.52 289.117 1549.52 Q283.307 1549.52 280.228 1544.94 Q277.173 1540.33 277.173 1531.6 Q277.173 1522.85 280.228 1518.27 Q283.307 1513.66 289.117 1513.66 Z\" fill=\"#000000\" fill-rule=\"nonzero\" fill-opacity=\"1\" /><path clip-path=\"url(#clip770)\" d=\"M705.578 1532.02 L735.254 1532.02 L735.254 1535.95 L705.578 1535.95 L705.578 1532.02 Z\" fill=\"#000000\" fill-rule=\"nonzero\" fill-opacity=\"1\" /><path clip-path=\"url(#clip770)\" d=\"M755.346 1517.37 Q751.735 1517.37 749.906 1520.93 Q748.101 1524.47 748.101 1531.6 Q748.101 1538.71 749.906 1542.27 Q751.735 1545.82 755.346 1545.82 Q758.98 1545.82 760.786 1542.27 Q762.615 1538.71 762.615 1531.6 Q762.615 1524.47 760.786 1520.93 Q758.98 1517.37 755.346 1517.37 M755.346 1513.66 Q761.156 1513.66 764.212 1518.27 Q767.291 1522.85 767.291 1531.6 Q767.291 1540.33 764.212 1544.94 Q761.156 1549.52 755.346 1549.52 Q749.536 1549.52 746.457 1544.94 Q743.402 1540.33 743.402 1531.6 Q743.402 1522.85 746.457 1518.27 Q749.536 1513.66 755.346 1513.66 Z\" fill=\"#000000\" fill-rule=\"nonzero\" fill-opacity=\"1\" /><path clip-path=\"url(#clip770)\" d=\"M775.508 1542.97 L780.392 1542.97 L780.392 1548.85 L775.508 1548.85 L775.508 1542.97 Z\" fill=\"#000000\" fill-rule=\"nonzero\" fill-opacity=\"1\" /><path clip-path=\"url(#clip770)\" d=\"M790.624 1514.29 L808.98 1514.29 L808.98 1518.22 L794.906 1518.22 L794.906 1526.7 Q795.925 1526.35 796.943 1526.19 Q797.962 1526 798.98 1526 Q804.767 1526 808.147 1529.17 Q811.526 1532.34 811.526 1537.76 Q811.526 1543.34 808.054 1546.44 Q804.582 1549.52 798.263 1549.52 Q796.087 1549.52 793.818 1549.15 Q791.573 1548.78 789.166 1548.04 L789.166 1543.34 Q791.249 1544.47 793.471 1545.03 Q795.693 1545.58 798.17 1545.58 Q802.175 1545.58 804.513 1543.48 Q806.851 1541.37 806.851 1537.76 Q806.851 1534.15 804.513 1532.04 Q802.175 1529.94 798.17 1529.94 Q796.295 1529.94 794.42 1530.35 Q792.568 1530.77 790.624 1531.65 L790.624 1514.29 Z\" fill=\"#000000\" fill-rule=\"nonzero\" fill-opacity=\"1\" /><path clip-path=\"url(#clip770)\" d=\"M1246.9 1517.37 Q1243.29 1517.37 1241.46 1520.93 Q1239.65 1524.47 1239.65 1531.6 Q1239.65 1538.71 1241.46 1542.27 Q1243.29 1545.82 1246.9 1545.82 Q1250.53 1545.82 1252.34 1542.27 Q1254.17 1538.71 1254.17 1531.6 Q1254.17 1524.47 1252.34 1520.93 Q1250.53 1517.37 1246.9 1517.37 M1246.9 1513.66 Q1252.71 1513.66 1255.77 1518.27 Q1258.84 1522.85 1258.84 1531.6 Q1258.84 1540.33 1255.77 1544.94 Q1252.71 1549.52 1246.9 1549.52 Q1241.09 1549.52 1238.01 1544.94 Q1234.95 1540.33 1234.95 1531.6 Q1234.95 1522.85 1238.01 1518.27 Q1241.09 1513.66 1246.9 1513.66 Z\" fill=\"#000000\" fill-rule=\"nonzero\" fill-opacity=\"1\" /><path clip-path=\"url(#clip770)\" d=\"M1267.06 1542.97 L1271.95 1542.97 L1271.95 1548.85 L1267.06 1548.85 L1267.06 1542.97 Z\" fill=\"#000000\" fill-rule=\"nonzero\" fill-opacity=\"1\" /><path clip-path=\"url(#clip770)\" d=\"M1292.13 1517.37 Q1288.52 1517.37 1286.69 1520.93 Q1284.89 1524.47 1284.89 1531.6 Q1284.89 1538.71 1286.69 1542.27 Q1288.52 1545.82 1292.13 1545.82 Q1295.76 1545.82 1297.57 1542.27 Q1299.4 1538.71 1299.4 1531.6 Q1299.4 1524.47 1297.57 1520.93 Q1295.76 1517.37 1292.13 1517.37 M1292.13 1513.66 Q1297.94 1513.66 1301 1518.27 Q1304.07 1522.85 1304.07 1531.6 Q1304.07 1540.33 1301 1544.94 Q1297.94 1549.52 1292.13 1549.52 Q1286.32 1549.52 1283.24 1544.94 Q1280.19 1540.33 1280.19 1531.6 Q1280.19 1522.85 1283.24 1518.27 Q1286.32 1513.66 1292.13 1513.66 Z\" fill=\"#000000\" fill-rule=\"nonzero\" fill-opacity=\"1\" /><path clip-path=\"url(#clip770)\" d=\"M1758.36 1517.37 Q1754.75 1517.37 1752.92 1520.93 Q1751.11 1524.47 1751.11 1531.6 Q1751.11 1538.71 1752.92 1542.27 Q1754.75 1545.82 1758.36 1545.82 Q1761.99 1545.82 1763.8 1542.27 Q1765.63 1538.71 1765.63 1531.6 Q1765.63 1524.47 1763.8 1520.93 Q1761.99 1517.37 1758.36 1517.37 M1758.36 1513.66 Q1764.17 1513.66 1767.23 1518.27 Q1770.3 1522.85 1770.3 1531.6 Q1770.3 1540.33 1767.23 1544.94 Q1764.17 1549.52 1758.36 1549.52 Q1752.55 1549.52 1749.47 1544.94 Q1746.42 1540.33 1746.42 1531.6 Q1746.42 1522.85 1749.47 1518.27 Q1752.55 1513.66 1758.36 1513.66 Z\" fill=\"#000000\" fill-rule=\"nonzero\" fill-opacity=\"1\" /><path clip-path=\"url(#clip770)\" d=\"M1778.52 1542.97 L1783.41 1542.97 L1783.41 1548.85 L1778.52 1548.85 L1778.52 1542.97 Z\" fill=\"#000000\" fill-rule=\"nonzero\" fill-opacity=\"1\" /><path clip-path=\"url(#clip770)\" d=\"M1793.64 1514.29 L1811.99 1514.29 L1811.99 1518.22 L1797.92 1518.22 L1797.92 1526.7 Q1798.94 1526.35 1799.96 1526.19 Q1800.98 1526 1801.99 1526 Q1807.78 1526 1811.16 1529.17 Q1814.54 1532.34 1814.54 1537.76 Q1814.54 1543.34 1811.07 1546.44 Q1807.6 1549.52 1801.28 1549.52 Q1799.1 1549.52 1796.83 1549.15 Q1794.59 1548.78 1792.18 1548.04 L1792.18 1543.34 Q1794.26 1544.47 1796.48 1545.03 Q1798.71 1545.58 1801.18 1545.58 Q1805.19 1545.58 1807.53 1543.48 Q1809.86 1541.37 1809.86 1537.76 Q1809.86 1534.15 1807.53 1532.04 Q1805.19 1529.94 1801.18 1529.94 Q1799.31 1529.94 1797.43 1530.35 Q1795.58 1530.77 1793.64 1531.65 L1793.64 1514.29 Z\" fill=\"#000000\" fill-rule=\"nonzero\" fill-opacity=\"1\" /><path clip-path=\"url(#clip770)\" d=\"M2258.59 1544.91 L2266.23 1544.91 L2266.23 1518.55 L2257.92 1520.21 L2257.92 1515.95 L2266.19 1514.29 L2270.86 1514.29 L2270.86 1544.91 L2278.5 1544.91 L2278.5 1548.85 L2258.59 1548.85 L2258.59 1544.91 Z\" fill=\"#000000\" fill-rule=\"nonzero\" fill-opacity=\"1\" /><path clip-path=\"url(#clip770)\" d=\"M2287.95 1542.97 L2292.83 1542.97 L2292.83 1548.85 L2287.95 1548.85 L2287.95 1542.97 Z\" fill=\"#000000\" fill-rule=\"nonzero\" fill-opacity=\"1\" /><path clip-path=\"url(#clip770)\" d=\"M2313.01 1517.37 Q2309.4 1517.37 2307.57 1520.93 Q2305.77 1524.47 2305.77 1531.6 Q2305.77 1538.71 2307.57 1542.27 Q2309.4 1545.82 2313.01 1545.82 Q2316.65 1545.82 2318.45 1542.27 Q2320.28 1538.71 2320.28 1531.6 Q2320.28 1524.47 2318.45 1520.93 Q2316.65 1517.37 2313.01 1517.37 M2313.01 1513.66 Q2318.82 1513.66 2321.88 1518.27 Q2324.96 1522.85 2324.96 1531.6 Q2324.96 1540.33 2321.88 1544.94 Q2318.82 1549.52 2313.01 1549.52 Q2307.2 1549.52 2304.13 1544.94 Q2301.07 1540.33 2301.07 1531.6 Q2301.07 1522.85 2304.13 1518.27 Q2307.2 1513.66 2313.01 1513.66 Z\" fill=\"#000000\" fill-rule=\"nonzero\" fill-opacity=\"1\" /><polyline clip-path=\"url(#clip772)\" style=\"stroke:#000000; stroke-linecap:round; stroke-linejoin:round; stroke-width:2; stroke-opacity:0.1; fill:none\" points=\"186.274,1374.25 2352.76,1374.25 \"/>\n",
       "<polyline clip-path=\"url(#clip772)\" style=\"stroke:#000000; stroke-linecap:round; stroke-linejoin:round; stroke-width:2; stroke-opacity:0.1; fill:none\" points=\"186.274,1051.86 2352.76,1051.86 \"/>\n",
       "<polyline clip-path=\"url(#clip772)\" style=\"stroke:#000000; stroke-linecap:round; stroke-linejoin:round; stroke-width:2; stroke-opacity:0.1; fill:none\" points=\"186.274,729.474 2352.76,729.474 \"/>\n",
       "<polyline clip-path=\"url(#clip772)\" style=\"stroke:#000000; stroke-linecap:round; stroke-linejoin:round; stroke-width:2; stroke-opacity:0.1; fill:none\" points=\"186.274,407.084 2352.76,407.084 \"/>\n",
       "<polyline clip-path=\"url(#clip772)\" style=\"stroke:#000000; stroke-linecap:round; stroke-linejoin:round; stroke-width:2; stroke-opacity:0.1; fill:none\" points=\"186.274,84.6953 2352.76,84.6953 \"/>\n",
       "<polyline clip-path=\"url(#clip770)\" style=\"stroke:#000000; stroke-linecap:round; stroke-linejoin:round; stroke-width:4; stroke-opacity:1; fill:none\" points=\"186.274,1486.45 186.274,47.2441 \"/>\n",
       "<polyline clip-path=\"url(#clip770)\" style=\"stroke:#000000; stroke-linecap:round; stroke-linejoin:round; stroke-width:4; stroke-opacity:1; fill:none\" points=\"186.274,1374.25 205.172,1374.25 \"/>\n",
       "<polyline clip-path=\"url(#clip770)\" style=\"stroke:#000000; stroke-linecap:round; stroke-linejoin:round; stroke-width:4; stroke-opacity:1; fill:none\" points=\"186.274,1051.86 205.172,1051.86 \"/>\n",
       "<polyline clip-path=\"url(#clip770)\" style=\"stroke:#000000; stroke-linecap:round; stroke-linejoin:round; stroke-width:4; stroke-opacity:1; fill:none\" points=\"186.274,729.474 205.172,729.474 \"/>\n",
       "<polyline clip-path=\"url(#clip770)\" style=\"stroke:#000000; stroke-linecap:round; stroke-linejoin:round; stroke-width:4; stroke-opacity:1; fill:none\" points=\"186.274,407.084 205.172,407.084 \"/>\n",
       "<polyline clip-path=\"url(#clip770)\" style=\"stroke:#000000; stroke-linecap:round; stroke-linejoin:round; stroke-width:4; stroke-opacity:1; fill:none\" points=\"186.274,84.6953 205.172,84.6953 \"/>\n",
       "<path clip-path=\"url(#clip770)\" d=\"M62.9365 1360.05 Q59.3254 1360.05 57.4967 1363.62 Q55.6912 1367.16 55.6912 1374.29 Q55.6912 1381.39 57.4967 1384.96 Q59.3254 1388.5 62.9365 1388.5 Q66.5707 1388.5 68.3763 1384.96 Q70.205 1381.39 70.205 1374.29 Q70.205 1367.16 68.3763 1363.62 Q66.5707 1360.05 62.9365 1360.05 M62.9365 1356.35 Q68.7467 1356.35 71.8022 1360.95 Q74.8809 1365.54 74.8809 1374.29 Q74.8809 1383.01 71.8022 1387.62 Q68.7467 1392.2 62.9365 1392.2 Q57.1264 1392.2 54.0477 1387.62 Q50.9921 1383.01 50.9921 1374.29 Q50.9921 1365.54 54.0477 1360.95 Q57.1264 1356.35 62.9365 1356.35 Z\" fill=\"#000000\" fill-rule=\"nonzero\" fill-opacity=\"1\" /><path clip-path=\"url(#clip770)\" d=\"M83.0984 1385.65 L87.9827 1385.65 L87.9827 1391.53 L83.0984 1391.53 L83.0984 1385.65 Z\" fill=\"#000000\" fill-rule=\"nonzero\" fill-opacity=\"1\" /><path clip-path=\"url(#clip770)\" d=\"M108.168 1360.05 Q104.557 1360.05 102.728 1363.62 Q100.922 1367.16 100.922 1374.29 Q100.922 1381.39 102.728 1384.96 Q104.557 1388.5 108.168 1388.5 Q111.802 1388.5 113.608 1384.96 Q115.436 1381.39 115.436 1374.29 Q115.436 1367.16 113.608 1363.62 Q111.802 1360.05 108.168 1360.05 M108.168 1356.35 Q113.978 1356.35 117.033 1360.95 Q120.112 1365.54 120.112 1374.29 Q120.112 1383.01 117.033 1387.62 Q113.978 1392.2 108.168 1392.2 Q102.358 1392.2 99.2789 1387.62 Q96.2234 1383.01 96.2234 1374.29 Q96.2234 1365.54 99.2789 1360.95 Q102.358 1356.35 108.168 1356.35 Z\" fill=\"#000000\" fill-rule=\"nonzero\" fill-opacity=\"1\" /><path clip-path=\"url(#clip770)\" d=\"M138.33 1360.05 Q134.719 1360.05 132.89 1363.62 Q131.084 1367.16 131.084 1374.29 Q131.084 1381.39 132.89 1384.96 Q134.719 1388.5 138.33 1388.5 Q141.964 1388.5 143.769 1384.96 Q145.598 1381.39 145.598 1374.29 Q145.598 1367.16 143.769 1363.62 Q141.964 1360.05 138.33 1360.05 M138.33 1356.35 Q144.14 1356.35 147.195 1360.95 Q150.274 1365.54 150.274 1374.29 Q150.274 1383.01 147.195 1387.62 Q144.14 1392.2 138.33 1392.2 Q132.519 1392.2 129.441 1387.62 Q126.385 1383.01 126.385 1374.29 Q126.385 1365.54 129.441 1360.95 Q132.519 1356.35 138.33 1356.35 Z\" fill=\"#000000\" fill-rule=\"nonzero\" fill-opacity=\"1\" /><path clip-path=\"url(#clip770)\" d=\"M63.9319 1037.66 Q60.3208 1037.66 58.4921 1041.23 Q56.6865 1044.77 56.6865 1051.9 Q56.6865 1059 58.4921 1062.57 Q60.3208 1066.11 63.9319 1066.11 Q67.5661 1066.11 69.3717 1062.57 Q71.2004 1059 71.2004 1051.9 Q71.2004 1044.77 69.3717 1041.23 Q67.5661 1037.66 63.9319 1037.66 M63.9319 1033.96 Q69.742 1033.96 72.7976 1038.56 Q75.8763 1043.15 75.8763 1051.9 Q75.8763 1060.62 72.7976 1065.23 Q69.742 1069.81 63.9319 1069.81 Q58.1217 1069.81 55.043 1065.23 Q51.9875 1060.62 51.9875 1051.9 Q51.9875 1043.15 55.043 1038.56 Q58.1217 1033.96 63.9319 1033.96 Z\" fill=\"#000000\" fill-rule=\"nonzero\" fill-opacity=\"1\" /><path clip-path=\"url(#clip770)\" d=\"M84.0938 1063.26 L88.978 1063.26 L88.978 1069.14 L84.0938 1069.14 L84.0938 1063.26 Z\" fill=\"#000000\" fill-rule=\"nonzero\" fill-opacity=\"1\" /><path clip-path=\"url(#clip770)\" d=\"M103.191 1065.21 L119.51 1065.21 L119.51 1069.14 L97.566 1069.14 L97.566 1065.21 Q100.228 1062.45 104.811 1057.82 Q109.418 1053.17 110.598 1051.83 Q112.844 1049.3 113.723 1047.57 Q114.626 1045.81 114.626 1044.12 Q114.626 1041.37 112.682 1039.63 Q110.76 1037.89 107.658 1037.89 Q105.459 1037.89 103.006 1038.66 Q100.575 1039.42 97.7974 1040.97 L97.7974 1036.25 Q100.621 1035.12 103.075 1034.54 Q105.529 1033.96 107.566 1033.96 Q112.936 1033.96 116.131 1036.64 Q119.325 1039.33 119.325 1043.82 Q119.325 1045.95 118.515 1047.87 Q117.728 1049.77 115.621 1052.36 Q115.043 1053.03 111.941 1056.25 Q108.839 1059.44 103.191 1065.21 Z\" fill=\"#000000\" fill-rule=\"nonzero\" fill-opacity=\"1\" /><path clip-path=\"url(#clip770)\" d=\"M129.371 1034.58 L147.728 1034.58 L147.728 1038.52 L133.654 1038.52 L133.654 1046.99 Q134.672 1046.64 135.691 1046.48 Q136.709 1046.3 137.728 1046.3 Q143.515 1046.3 146.894 1049.47 Q150.274 1052.64 150.274 1058.05 Q150.274 1063.63 146.802 1066.74 Q143.33 1069.81 137.01 1069.81 Q134.834 1069.81 132.566 1069.44 Q130.32 1069.07 127.913 1068.33 L127.913 1063.63 Q129.996 1064.77 132.219 1065.32 Q134.441 1065.88 136.918 1065.88 Q140.922 1065.88 143.26 1063.77 Q145.598 1061.67 145.598 1058.05 Q145.598 1054.44 143.26 1052.34 Q140.922 1050.23 136.918 1050.23 Q135.043 1050.23 133.168 1050.65 Q131.316 1051.06 129.371 1051.94 L129.371 1034.58 Z\" fill=\"#000000\" fill-rule=\"nonzero\" fill-opacity=\"1\" /><path clip-path=\"url(#clip770)\" d=\"M62.9365 715.272 Q59.3254 715.272 57.4967 718.837 Q55.6912 722.379 55.6912 729.508 Q55.6912 736.615 57.4967 740.18 Q59.3254 743.721 62.9365 743.721 Q66.5707 743.721 68.3763 740.18 Q70.205 736.615 70.205 729.508 Q70.205 722.379 68.3763 718.837 Q66.5707 715.272 62.9365 715.272 M62.9365 711.569 Q68.7467 711.569 71.8022 716.175 Q74.8809 720.758 74.8809 729.508 Q74.8809 738.235 71.8022 742.842 Q68.7467 747.425 62.9365 747.425 Q57.1264 747.425 54.0477 742.842 Q50.9921 738.235 50.9921 729.508 Q50.9921 720.758 54.0477 716.175 Q57.1264 711.569 62.9365 711.569 Z\" fill=\"#000000\" fill-rule=\"nonzero\" fill-opacity=\"1\" /><path clip-path=\"url(#clip770)\" d=\"M83.0984 740.874 L87.9827 740.874 L87.9827 746.754 L83.0984 746.754 L83.0984 740.874 Z\" fill=\"#000000\" fill-rule=\"nonzero\" fill-opacity=\"1\" /><path clip-path=\"url(#clip770)\" d=\"M98.2141 712.194 L116.57 712.194 L116.57 716.129 L102.496 716.129 L102.496 724.601 Q103.515 724.254 104.534 724.092 Q105.552 723.907 106.571 723.907 Q112.358 723.907 115.737 727.078 Q119.117 730.249 119.117 735.666 Q119.117 741.244 115.645 744.346 Q112.172 747.425 105.853 747.425 Q103.677 747.425 101.409 747.055 Q99.1632 746.684 96.7558 745.943 L96.7558 741.244 Q98.8391 742.379 101.061 742.934 Q103.284 743.49 105.76 743.49 Q109.765 743.49 112.103 741.383 Q114.441 739.277 114.441 735.666 Q114.441 732.055 112.103 729.948 Q109.765 727.842 105.76 727.842 Q103.885 727.842 102.01 728.258 Q100.159 728.675 98.2141 729.555 L98.2141 712.194 Z\" fill=\"#000000\" fill-rule=\"nonzero\" fill-opacity=\"1\" /><path clip-path=\"url(#clip770)\" d=\"M138.33 715.272 Q134.719 715.272 132.89 718.837 Q131.084 722.379 131.084 729.508 Q131.084 736.615 132.89 740.18 Q134.719 743.721 138.33 743.721 Q141.964 743.721 143.769 740.18 Q145.598 736.615 145.598 729.508 Q145.598 722.379 143.769 718.837 Q141.964 715.272 138.33 715.272 M138.33 711.569 Q144.14 711.569 147.195 716.175 Q150.274 720.758 150.274 729.508 Q150.274 738.235 147.195 742.842 Q144.14 747.425 138.33 747.425 Q132.519 747.425 129.441 742.842 Q126.385 738.235 126.385 729.508 Q126.385 720.758 129.441 716.175 Q132.519 711.569 138.33 711.569 Z\" fill=\"#000000\" fill-rule=\"nonzero\" fill-opacity=\"1\" /><path clip-path=\"url(#clip770)\" d=\"M63.9319 392.883 Q60.3208 392.883 58.4921 396.448 Q56.6865 399.99 56.6865 407.119 Q56.6865 414.226 58.4921 417.79 Q60.3208 421.332 63.9319 421.332 Q67.5661 421.332 69.3717 417.79 Q71.2004 414.226 71.2004 407.119 Q71.2004 399.99 69.3717 396.448 Q67.5661 392.883 63.9319 392.883 M63.9319 389.179 Q69.742 389.179 72.7976 393.786 Q75.8763 398.369 75.8763 407.119 Q75.8763 415.846 72.7976 420.452 Q69.742 425.036 63.9319 425.036 Q58.1217 425.036 55.043 420.452 Q51.9875 415.846 51.9875 407.119 Q51.9875 398.369 55.043 393.786 Q58.1217 389.179 63.9319 389.179 Z\" fill=\"#000000\" fill-rule=\"nonzero\" fill-opacity=\"1\" /><path clip-path=\"url(#clip770)\" d=\"M84.0938 418.485 L88.978 418.485 L88.978 424.364 L84.0938 424.364 L84.0938 418.485 Z\" fill=\"#000000\" fill-rule=\"nonzero\" fill-opacity=\"1\" /><path clip-path=\"url(#clip770)\" d=\"M97.9826 389.804 L120.205 389.804 L120.205 391.795 L107.658 424.364 L102.774 424.364 L114.58 393.74 L97.9826 393.74 L97.9826 389.804 Z\" fill=\"#000000\" fill-rule=\"nonzero\" fill-opacity=\"1\" /><path clip-path=\"url(#clip770)\" d=\"M129.371 389.804 L147.728 389.804 L147.728 393.74 L133.654 393.74 L133.654 402.212 Q134.672 401.865 135.691 401.703 Q136.709 401.517 137.728 401.517 Q143.515 401.517 146.894 404.689 Q150.274 407.86 150.274 413.277 Q150.274 418.855 146.802 421.957 Q143.33 425.036 137.01 425.036 Q134.834 425.036 132.566 424.665 Q130.32 424.295 127.913 423.554 L127.913 418.855 Q129.996 419.989 132.219 420.545 Q134.441 421.101 136.918 421.101 Q140.922 421.101 143.26 418.994 Q145.598 416.888 145.598 413.277 Q145.598 409.665 143.26 407.559 Q140.922 405.453 136.918 405.453 Q135.043 405.453 133.168 405.869 Q131.316 406.286 129.371 407.165 L129.371 389.804 Z\" fill=\"#000000\" fill-rule=\"nonzero\" fill-opacity=\"1\" /><path clip-path=\"url(#clip770)\" d=\"M53.7467 98.0401 L61.3856 98.0401 L61.3856 71.6745 L53.0754 73.3412 L53.0754 69.082 L61.3393 67.4153 L66.0152 67.4153 L66.0152 98.0401 L73.654 98.0401 L73.654 101.975 L53.7467 101.975 L53.7467 98.0401 Z\" fill=\"#000000\" fill-rule=\"nonzero\" fill-opacity=\"1\" /><path clip-path=\"url(#clip770)\" d=\"M83.0984 96.0957 L87.9827 96.0957 L87.9827 101.975 L83.0984 101.975 L83.0984 96.0957 Z\" fill=\"#000000\" fill-rule=\"nonzero\" fill-opacity=\"1\" /><path clip-path=\"url(#clip770)\" d=\"M108.168 70.494 Q104.557 70.494 102.728 74.0588 Q100.922 77.6004 100.922 84.73 Q100.922 91.8365 102.728 95.4013 Q104.557 98.9429 108.168 98.9429 Q111.802 98.9429 113.608 95.4013 Q115.436 91.8365 115.436 84.73 Q115.436 77.6004 113.608 74.0588 Q111.802 70.494 108.168 70.494 M108.168 66.7903 Q113.978 66.7903 117.033 71.3968 Q120.112 75.9801 120.112 84.73 Q120.112 93.4568 117.033 98.0633 Q113.978 102.647 108.168 102.647 Q102.358 102.647 99.2789 98.0633 Q96.2234 93.4568 96.2234 84.73 Q96.2234 75.9801 99.2789 71.3968 Q102.358 66.7903 108.168 66.7903 Z\" fill=\"#000000\" fill-rule=\"nonzero\" fill-opacity=\"1\" /><path clip-path=\"url(#clip770)\" d=\"M138.33 70.494 Q134.719 70.494 132.89 74.0588 Q131.084 77.6004 131.084 84.73 Q131.084 91.8365 132.89 95.4013 Q134.719 98.9429 138.33 98.9429 Q141.964 98.9429 143.769 95.4013 Q145.598 91.8365 145.598 84.73 Q145.598 77.6004 143.769 74.0588 Q141.964 70.494 138.33 70.494 M138.33 66.7903 Q144.14 66.7903 147.195 71.3968 Q150.274 75.9801 150.274 84.73 Q150.274 93.4568 147.195 98.0633 Q144.14 102.647 138.33 102.647 Q132.519 102.647 129.441 98.0633 Q126.385 93.4568 126.385 84.73 Q126.385 75.9801 129.441 71.3968 Q132.519 66.7903 138.33 66.7903 Z\" fill=\"#000000\" fill-rule=\"nonzero\" fill-opacity=\"1\" /><polyline clip-path=\"url(#clip772)\" style=\"stroke:#009af9; stroke-linecap:round; stroke-linejoin:round; stroke-width:4; stroke-opacity:1; fill:none\" points=\"247.59,1324.65 268.234,1356.89 288.879,1383.66 309.524,1405.26 330.169,1421.99 350.814,1434.12 371.459,1441.94 392.104,1445.71 412.749,1445.72 433.394,1442.2 454.039,1435.43 474.684,1425.65 495.329,1413.1 515.974,1398.01 536.619,1380.61 557.264,1361.13 577.909,1339.79 598.554,1316.79 619.199,1292.34 639.844,1266.63 660.489,1239.87 681.134,1212.23 701.779,1183.89 722.424,1155.04 743.069,1125.83 763.713,1096.43 784.358,1066.98 805.003,1037.65 825.648,1008.58 846.293,979.887 866.938,951.717 887.583,924.191 908.228,897.426 928.873,871.533 949.518,846.618 970.163,822.78 990.808,800.113 1011.45,778.701 1032.1,758.627 1052.74,739.965 1073.39,722.782 1094.03,707.141 1114.68,693.098 1135.32,680.701 1155.97,669.995 1176.61,661.016 1197.26,653.796 1217.9,648.36 1238.55,644.725 1259.19,642.904 1279.84,642.904 1300.48,644.725 1321.13,648.36 1341.77,653.796 1362.42,661.016 1383.06,669.995 1403.71,680.701 1424.35,693.098 1445,707.141 1465.64,722.782 1486.29,739.965 1506.93,758.627 1527.58,778.701 1548.22,800.113 1568.87,822.78 1589.51,846.618 1610.16,871.533 1630.8,897.426 1651.45,924.191 1672.09,951.717 1692.74,979.887 1713.38,1008.58 1734.03,1037.65 1754.67,1066.98 1775.32,1096.43 1795.96,1125.83 1816.61,1155.04 1837.25,1183.89 1857.9,1212.23 1878.54,1239.87 1899.19,1266.63 1919.83,1292.34 1940.48,1316.79 1961.12,1339.79 1981.77,1361.13 2002.41,1380.61 2023.06,1398.01 2043.7,1413.1 2064.35,1425.65 2084.99,1435.43 2105.64,1442.2 2126.28,1445.72 2146.93,1445.71 2167.57,1441.94 2188.22,1434.12 2208.86,1421.99 2229.51,1405.26 2250.15,1383.66 2270.8,1356.89 2291.44,1324.65 \"/>\n",
       "<polyline clip-path=\"url(#clip772)\" style=\"stroke:#e26f46; stroke-linecap:round; stroke-linejoin:round; stroke-width:12; stroke-opacity:1; fill:none\" points=\"247.59,1324.65 268.234,1322.67 288.879,1320.57 309.524,1318.33 330.169,1315.96 350.814,1313.44 371.459,1310.75 392.104,1307.88 412.749,1304.82 433.394,1301.54 454.039,1298.03 474.684,1294.27 495.329,1290.23 515.974,1285.88 536.619,1281.2 557.264,1276.14 577.909,1270.68 598.554,1264.75 619.199,1258.33 639.844,1251.34 660.489,1243.72 681.134,1235.4 701.779,1226.3 722.424,1216.32 743.069,1205.34 763.713,1193.25 784.358,1179.88 805.003,1165.09 825.648,1148.66 846.293,1130.38 866.938,1109.98 887.583,1087.17 908.228,1061.61 928.873,1032.9 949.518,1000.61 970.163,964.243 990.808,923.28 1011.45,877.165 1032.1,825.353 1052.74,767.369 1073.39,702.896 1094.03,631.92 1114.68,554.925 1135.32,473.144 1155.97,388.836 1176.61,305.51 1197.26,227.966 1217.9,161.999 1238.55,113.635 1259.19,87.9763 1279.84,87.9763 1300.48,113.635 1321.13,161.999 1341.77,227.966 1362.42,305.51 1383.06,388.836 1403.71,473.144 1424.35,554.925 1445,631.92 1465.64,702.896 1486.29,767.369 1506.93,825.353 1527.58,877.165 1548.22,923.28 1568.87,964.243 1589.51,1000.61 1610.16,1032.9 1630.8,1061.61 1651.45,1087.17 1672.09,1109.98 1692.74,1130.38 1713.38,1148.66 1734.03,1165.09 1754.67,1179.88 1775.32,1193.25 1795.96,1205.34 1816.61,1216.32 1837.25,1226.3 1857.9,1235.4 1878.54,1243.72 1899.19,1251.34 1919.83,1258.33 1940.48,1264.75 1961.12,1270.68 1981.77,1276.14 2002.41,1281.2 2023.06,1285.88 2043.7,1290.23 2064.35,1294.27 2084.99,1298.03 2105.64,1301.54 2126.28,1304.82 2146.93,1307.88 2167.57,1310.75 2188.22,1313.44 2208.86,1315.96 2229.51,1318.33 2250.15,1320.57 2270.8,1322.67 2291.44,1324.65 \"/>\n",
       "<path clip-path=\"url(#clip770)\" d=\"M1944.78 250.738 L2280.54 250.738 L2280.54 95.2176 L1944.78 95.2176  Z\" fill=\"#ffffff\" fill-rule=\"evenodd\" fill-opacity=\"1\"/>\n",
       "<polyline clip-path=\"url(#clip770)\" style=\"stroke:#000000; stroke-linecap:round; stroke-linejoin:round; stroke-width:4; stroke-opacity:1; fill:none\" points=\"1944.78,250.738 2280.54,250.738 2280.54,95.2176 1944.78,95.2176 1944.78,250.738 \"/>\n",
       "<polyline clip-path=\"url(#clip770)\" style=\"stroke:#009af9; stroke-linecap:round; stroke-linejoin:round; stroke-width:4; stroke-opacity:1; fill:none\" points=\"1968.85,147.058 2113.28,147.058 \"/>\n",
       "<path clip-path=\"url(#clip770)\" d=\"M2171.6 132.329 Q2171.6 134.952 2169.66 137.364 Q2167.74 139.777 2164.6 141.253 Q2161.48 142.705 2158.13 142.705 L2149.98 142.705 L2147.01 154.697 Q2146.98 154.767 2146.91 155.072 Q2146.84 155.353 2146.84 155.517 Q2146.84 156.102 2147.57 156.243 Q2148.32 156.384 2149.98 156.384 Q2151.06 156.384 2151.22 156.571 Q2151.32 156.688 2151.32 156.899 Q2151.32 157.227 2151.22 157.461 Q2151.13 157.672 2150.94 157.742 Q2150.78 157.812 2150.66 157.836 Q2150.54 157.859 2150.36 157.859 Q2149.86 157.859 2148.81 157.812 Q2147.78 157.765 2147.24 157.765 L2144.17 157.719 L2138.08 157.859 Q2137.36 157.859 2137.36 157.274 Q2137.36 156.829 2137.54 156.641 Q2137.73 156.43 2137.94 156.407 Q2138.15 156.384 2138.69 156.384 Q2139.86 156.384 2140.57 156.313 Q2141.27 156.243 2141.71 156.149 Q2142.18 156.032 2142.42 155.704 Q2142.67 155.376 2142.79 155.095 Q2142.91 154.791 2143.07 154.112 L2149.49 128.347 Q2149.68 127.574 2149.68 127.457 Q2149.68 127.059 2149.44 126.918 Q2149.23 126.754 2148.62 126.684 Q2147.45 126.59 2146.56 126.59 Q2145.98 126.59 2145.74 126.567 Q2145.53 126.543 2145.34 126.426 Q2145.18 126.286 2145.18 126.005 Q2145.18 125.56 2145.37 125.372 Q2145.58 125.161 2145.81 125.138 Q2146.05 125.091 2146.61 125.091 L2162.16 125.091 Q2166.64 125.091 2169.12 127.223 Q2171.6 129.354 2171.6 132.329 M2167.15 131.181 Q2167.15 126.59 2160.62 126.59 L2156.02 126.59 Q2154.5 126.59 2154.13 126.871 Q2153.75 127.129 2153.42 128.417 L2150.17 141.463 L2156.94 141.463 Q2161.48 141.463 2164.32 138.91 Q2165.6 137.739 2166.38 135.303 Q2167.15 132.867 2167.15 131.181 Z\" fill=\"#000000\" fill-rule=\"nonzero\" fill-opacity=\"1\" /><path clip-path=\"url(#clip770)\" d=\"M2176.38 165.738 Q2176.38 164.737 2176.92 164.36 Q2177.47 163.967 2178.04 163.967 Q2178.81 163.967 2179.25 164.459 Q2179.71 164.934 2179.71 165.606 Q2179.71 166.279 2179.25 166.771 Q2178.81 167.246 2178.04 167.246 Q2177.66 167.246 2177.47 167.18 Q2177.91 168.722 2179.25 169.837 Q2180.61 170.951 2182.4 170.951 Q2184.65 170.951 2185.99 168.771 Q2186.79 167.361 2186.79 164.164 Q2186.79 161.344 2186.19 159.934 Q2185.25 157.786 2183.33 157.786 Q2180.61 157.786 2179.01 160.13 Q2178.81 160.425 2178.58 160.442 Q2178.25 160.442 2178.17 160.261 Q2178.1 160.065 2178.1 159.556 L2178.1 149.621 Q2178.1 148.817 2178.43 148.817 Q2178.56 148.817 2178.84 148.916 Q2180.96 149.85 2183.3 149.867 Q2185.71 149.867 2187.88 148.883 Q2188.04 148.784 2188.14 148.784 Q2188.47 148.784 2188.48 149.162 Q2188.48 149.293 2188.2 149.686 Q2187.94 150.063 2187.37 150.572 Q2186.79 151.063 2186.06 151.539 Q2185.32 152.014 2184.24 152.342 Q2183.17 152.654 2181.99 152.654 Q2180.58 152.654 2179.14 152.211 L2179.14 158.753 Q2180.88 157.048 2183.4 157.048 Q2186.09 157.048 2187.94 159.212 Q2189.79 161.376 2189.79 164.393 Q2189.79 167.558 2187.6 169.722 Q2185.42 171.886 2182.47 171.886 Q2179.78 171.886 2178.07 169.968 Q2176.38 168.049 2176.38 165.738 Z\" fill=\"#000000\" fill-rule=\"nonzero\" fill-opacity=\"1\" /><path clip-path=\"url(#clip770)\" d=\"M2194.78 145.867 Q2194.78 137.763 2197.8 131.228 Q2199.09 128.487 2200.89 126.192 Q2202.7 123.897 2203.89 122.889 Q2205.09 121.882 2205.42 121.882 Q2205.88 121.882 2205.91 122.351 Q2205.91 122.585 2205.27 123.17 Q2197.55 131.04 2197.57 145.867 Q2197.57 160.74 2205.09 168.306 Q2205.91 169.125 2205.91 169.383 Q2205.91 169.851 2205.42 169.851 Q2205.09 169.851 2203.94 168.891 Q2202.79 167.931 2201.01 165.729 Q2199.23 163.527 2197.94 160.834 Q2194.78 154.299 2194.78 145.867 Z\" fill=\"#000000\" fill-rule=\"nonzero\" fill-opacity=\"1\" /><path clip-path=\"url(#clip770)\" d=\"M2233.44 139.824 Q2233.44 141.135 2232.62 141.885 Q2231.8 142.611 2230.86 142.611 Q2229.97 142.611 2229.5 142.096 Q2229.04 141.581 2229.04 140.925 Q2229.04 140.035 2229.69 139.262 Q2230.35 138.489 2231.33 138.325 Q2230.37 137.716 2228.94 137.716 Q2228.01 137.716 2227.19 138.208 Q2226.39 138.7 2225.9 139.332 Q2225.43 139.964 2225.01 140.878 Q2224.61 141.768 2224.45 142.307 Q2224.31 142.822 2224.19 143.384 L2222.55 149.942 Q2221.75 153.058 2221.75 154.158 Q2221.75 155.517 2222.41 156.43 Q2223.06 157.32 2224.38 157.32 Q2224.89 157.32 2225.48 157.18 Q2226.06 157.016 2226.81 156.594 Q2227.58 156.149 2228.26 155.493 Q2228.97 154.814 2229.65 153.666 Q2230.32 152.519 2230.77 151.043 Q2230.91 150.528 2231.38 150.528 Q2231.96 150.528 2231.96 150.996 Q2231.96 151.395 2231.64 152.238 Q2231.33 153.058 2230.65 154.135 Q2230 155.189 2229.13 156.149 Q2228.26 157.086 2226.98 157.742 Q2225.69 158.398 2224.28 158.398 Q2222.27 158.398 2220.93 157.32 Q2219.6 156.243 2219.11 154.744 Q2218.99 154.955 2218.82 155.236 Q2218.66 155.517 2218.17 156.149 Q2217.7 156.758 2217.16 157.227 Q2216.62 157.672 2215.78 158.023 Q2214.96 158.398 2214.07 158.398 Q2212.95 158.398 2211.94 158.07 Q2210.95 157.742 2210.25 156.992 Q2209.55 156.243 2209.55 155.212 Q2209.55 154.065 2210.32 153.268 Q2211.12 152.449 2212.2 152.449 Q2212.87 152.449 2213.41 152.847 Q2213.98 153.245 2213.98 154.112 Q2213.98 155.072 2213.32 155.798 Q2212.66 156.524 2211.73 156.711 Q2212.69 157.32 2214.12 157.32 Q2215.66 157.32 2216.88 155.962 Q2218.1 154.603 2218.68 152.331 Q2220.14 146.874 2220.7 144.438 Q2221.26 141.979 2221.26 140.925 Q2221.26 139.941 2221 139.262 Q2220.74 138.582 2220.3 138.278 Q2219.88 137.95 2219.48 137.833 Q2219.11 137.716 2218.68 137.716 Q2217.98 137.716 2217.18 137.997 Q2216.41 138.278 2215.47 138.934 Q2214.56 139.566 2213.69 140.878 Q2212.83 142.19 2212.24 143.993 Q2212.13 144.532 2211.61 144.532 Q2211.05 144.508 2211.05 144.04 Q2211.05 143.642 2211.35 142.822 Q2211.68 141.979 2212.34 140.925 Q2213.02 139.871 2213.88 138.934 Q2214.77 137.973 2216.06 137.318 Q2217.37 136.662 2218.78 136.662 Q2219.41 136.662 2220.02 136.802 Q2220.65 136.919 2221.4 137.271 Q2222.17 137.622 2222.85 138.395 Q2223.53 139.168 2223.95 140.292 Q2224.23 139.754 2224.61 139.238 Q2225.01 138.723 2225.62 138.091 Q2226.25 137.435 2227.12 137.06 Q2228.01 136.662 2228.99 136.662 Q2229.95 136.662 2230.89 136.919 Q2231.82 137.154 2232.62 137.927 Q2233.44 138.676 2233.44 139.824 Z\" fill=\"#000000\" fill-rule=\"nonzero\" fill-opacity=\"1\" /><path clip-path=\"url(#clip770)\" d=\"M2238.05 169.383 Q2238.05 169.149 2238.66 168.563 Q2246.39 160.693 2246.39 145.867 Q2246.39 130.994 2238.97 123.475 Q2238.05 122.608 2238.05 122.351 Q2238.05 121.882 2238.52 121.882 Q2238.85 121.882 2240 122.843 Q2241.17 123.803 2242.92 126.005 Q2244.7 128.206 2246.02 130.9 Q2249.18 137.435 2249.18 145.867 Q2249.18 153.971 2246.16 160.506 Q2244.87 163.246 2243.06 165.542 Q2241.26 167.837 2240.07 168.844 Q2238.87 169.851 2238.52 169.851 Q2238.05 169.851 2238.05 169.383 Z\" fill=\"#000000\" fill-rule=\"nonzero\" fill-opacity=\"1\" /><polyline clip-path=\"url(#clip770)\" style=\"stroke:#e26f46; stroke-linecap:round; stroke-linejoin:round; stroke-width:12; stroke-opacity:1; fill:none\" points=\"1968.85,198.898 2113.28,198.898 \"/>\n",
       "<path clip-path=\"url(#clip770)\" d=\"M2159.37 191.824 Q2159.37 191.847 2159.23 192.69 L2153.89 213.981 Q2153.61 215.106 2152.82 216.23 Q2152.04 217.378 2150.8 218.361 Q2149.58 219.369 2147.71 219.978 Q2145.86 220.61 2143.73 220.61 Q2140.33 220.61 2138.83 219.884 Q2137.36 219.181 2137.36 217.682 Q2137.36 216.371 2138.18 215.621 Q2139 214.895 2139.93 214.895 Q2140.82 214.895 2141.29 215.41 Q2141.76 215.925 2141.76 216.581 Q2141.76 217.307 2141.27 218.034 Q2140.78 218.783 2139.79 219.064 Q2141.36 219.556 2143.63 219.556 Q2148.44 219.556 2150.5 214.473 Q2150.54 214.403 2150.54 214.38 L2152.14 208.032 L2152.07 207.985 Q2151.67 208.454 2151.04 208.992 Q2150.43 209.508 2149.12 210.14 Q2147.8 210.773 2146.52 210.773 Q2143.82 210.773 2141.97 208.711 Q2140.14 206.627 2140.14 203.184 Q2140.14 200.677 2141.15 198.171 Q2142.18 195.642 2143.77 193.791 Q2145.39 191.917 2147.45 190.746 Q2149.54 189.575 2151.55 189.575 Q2152.96 189.575 2154.15 190.418 Q2155.35 191.238 2156 192.597 Q2156.12 191.472 2156.75 191.004 Q2157.41 190.536 2157.97 190.536 Q2158.6 190.536 2158.98 190.887 Q2159.37 191.215 2159.37 191.824 M2155.44 194.752 Q2155.44 194.611 2155.35 194.236 Q2155.25 193.838 2154.97 193.206 Q2154.71 192.573 2154.31 192.011 Q2153.92 191.449 2153.19 191.051 Q2152.49 190.629 2151.6 190.629 Q2150.15 190.629 2148.69 191.847 Q2147.24 193.042 2146.23 194.892 Q2145.3 196.672 2144.41 200.115 Q2143.54 203.558 2143.54 205.315 Q2143.54 207.048 2144.29 208.383 Q2145.04 209.719 2146.66 209.719 Q2148.53 209.719 2150.54 207.985 Q2152.63 206.182 2152.98 204.636 L2155.3 195.478 Q2155.44 194.916 2155.44 194.752 Z\" fill=\"#000000\" fill-rule=\"nonzero\" fill-opacity=\"1\" /><path clip-path=\"url(#clip770)\" d=\"M2165.95 198.78 Q2165.95 190.676 2168.97 184.141 Q2170.26 181.401 2172.06 179.105 Q2173.86 176.81 2175.06 175.803 Q2176.25 174.796 2176.58 174.796 Q2177.05 174.796 2177.07 175.264 Q2177.07 175.498 2176.44 176.084 Q2168.71 183.954 2168.73 198.78 Q2168.73 213.654 2176.25 221.219 Q2177.07 222.039 2177.07 222.296 Q2177.07 222.765 2176.58 222.765 Q2176.25 222.765 2175.1 221.805 Q2173.96 220.844 2172.18 218.642 Q2170.4 216.441 2169.11 213.747 Q2165.95 207.212 2165.95 198.78 Z\" fill=\"#000000\" fill-rule=\"nonzero\" fill-opacity=\"1\" /><path clip-path=\"url(#clip770)\" d=\"M2204.6 192.737 Q2204.6 194.049 2203.78 194.798 Q2202.96 195.525 2202.03 195.525 Q2201.14 195.525 2200.67 195.009 Q2200.2 194.494 2200.2 193.838 Q2200.2 192.948 2200.86 192.175 Q2201.51 191.402 2202.5 191.238 Q2201.54 190.629 2200.11 190.629 Q2199.17 190.629 2198.35 191.121 Q2197.55 191.613 2197.06 192.245 Q2196.59 192.878 2196.17 193.791 Q2195.77 194.681 2195.61 195.22 Q2195.47 195.735 2195.35 196.297 L2193.71 202.856 Q2192.92 205.971 2192.92 207.072 Q2192.92 208.43 2193.57 209.344 Q2194.23 210.234 2195.54 210.234 Q2196.05 210.234 2196.64 210.093 Q2197.23 209.929 2197.98 209.508 Q2198.75 209.063 2199.43 208.407 Q2200.13 207.728 2200.81 206.58 Q2201.49 205.432 2201.93 203.957 Q2202.07 203.441 2202.54 203.441 Q2203.13 203.441 2203.13 203.91 Q2203.13 204.308 2202.8 205.151 Q2202.5 205.971 2201.82 207.048 Q2201.16 208.102 2200.29 209.063 Q2199.43 210 2198.14 210.655 Q2196.85 211.311 2195.45 211.311 Q2193.43 211.311 2192.1 210.234 Q2190.76 209.156 2190.27 207.657 Q2190.15 207.868 2189.99 208.149 Q2189.82 208.43 2189.33 209.063 Q2188.86 209.672 2188.33 210.14 Q2187.79 210.585 2186.94 210.937 Q2186.12 211.311 2185.23 211.311 Q2184.11 211.311 2183.1 210.983 Q2182.12 210.655 2181.42 209.906 Q2180.71 209.156 2180.71 208.126 Q2180.71 206.978 2181.49 206.182 Q2182.28 205.362 2183.36 205.362 Q2184.04 205.362 2184.58 205.76 Q2185.14 206.158 2185.14 207.025 Q2185.14 207.985 2184.48 208.711 Q2183.83 209.437 2182.89 209.625 Q2183.85 210.234 2185.28 210.234 Q2186.83 210.234 2188.04 208.875 Q2189.26 207.517 2189.85 205.245 Q2191.3 199.787 2191.86 197.351 Q2192.42 194.892 2192.42 193.838 Q2192.42 192.854 2192.17 192.175 Q2191.91 191.496 2191.46 191.191 Q2191.04 190.863 2190.64 190.746 Q2190.27 190.629 2189.85 190.629 Q2189.15 190.629 2188.35 190.91 Q2187.58 191.191 2186.64 191.847 Q2185.73 192.48 2184.86 193.791 Q2183.99 195.103 2183.41 196.906 Q2183.29 197.445 2182.77 197.445 Q2182.21 197.422 2182.21 196.953 Q2182.21 196.555 2182.52 195.735 Q2182.84 194.892 2183.5 193.838 Q2184.18 192.784 2185.05 191.847 Q2185.94 190.887 2187.22 190.231 Q2188.54 189.575 2189.94 189.575 Q2190.57 189.575 2191.18 189.716 Q2191.82 189.833 2192.56 190.184 Q2193.34 190.536 2194.02 191.309 Q2194.7 192.081 2195.12 193.206 Q2195.4 192.667 2195.77 192.152 Q2196.17 191.636 2196.78 191.004 Q2197.41 190.348 2198.28 189.973 Q2199.17 189.575 2200.15 189.575 Q2201.11 189.575 2202.05 189.833 Q2202.99 190.067 2203.78 190.84 Q2204.6 191.59 2204.6 192.737 Z\" fill=\"#000000\" fill-rule=\"nonzero\" fill-opacity=\"1\" /><path clip-path=\"url(#clip770)\" d=\"M2209.22 222.296 Q2209.22 222.062 2209.83 221.477 Q2217.56 213.607 2217.56 198.78 Q2217.56 183.907 2210.13 176.388 Q2209.22 175.522 2209.22 175.264 Q2209.22 174.796 2209.69 174.796 Q2210.01 174.796 2211.16 175.756 Q2212.33 176.716 2214.09 178.918 Q2215.87 181.12 2217.18 183.813 Q2220.34 190.348 2220.34 198.78 Q2220.34 206.884 2217.32 213.419 Q2216.03 216.16 2214.23 218.455 Q2212.43 220.751 2211.23 221.758 Q2210.04 222.765 2209.69 222.765 Q2209.22 222.765 2209.22 222.296 Z\" fill=\"#000000\" fill-rule=\"nonzero\" fill-opacity=\"1\" /></svg>\n"
      ]
     },
     "execution_count": 20,
     "metadata": {},
     "output_type": "execute_result"
    }
   ],
   "source": [
    "using LaTeXStrings, Plots\n",
    "\n",
    "\n",
    "N_display = 100\n",
    "g(x) = 1/(1 + 25x^2)\n",
    "x_display = range(-1, 1, length = N_display)\n",
    "y_display = g.(x_display)\n",
    "\n",
    "# interpolation\n",
    "N = 5\n",
    "x = range(-1.0, 1.0, length = N+1)\n",
    "y = g.(x)\n",
    "A_5 = [x_i^n for x_i in x, n in 0:N]\n",
    "c_5 = A_5 \\ y\n",
    "\n",
    "# use the coefficients to evaluate on x_display grid\n",
    "B_5 = [x_i^n for x_i in x_display, n in 0:N]   # calculate monomials for display grid\n",
    "y_5 = B_5 * c_5  # calculates for each in x_display_grid\n",
    "plot(x_display, y_5, label = L\"P_5(x)\")\n",
    "plot!(x_display, y_display, w = 3, label = L\"g(x)\")"
   ]
  },
  {
   "cell_type": "markdown",
   "id": "15afeab9",
   "metadata": {},
   "source": [
    "Note that while the function, $g(x)$, and the approximation with a 5th-order polynomial, $P_5(x)$, coincide at the 6 nodes, the\n",
    "approximation has a great deal of error everywhere else.\n",
    "\n",
    "The oscillations near the boundaries are the hallmarks of Runge's Phenomenon.  You might guess that increasing the number\n",
    "of grid points and the order of the polynomial will lead to better approximations:"
   ]
  },
  {
   "cell_type": "code",
   "execution_count": 21,
   "id": "1d001faf",
   "metadata": {},
   "outputs": [
    {
     "data": {
      "image/png": "[encoded data removed]",
      "image/svg+xml": [
       "<?xml version=\"1.0\" encoding=\"utf-8\"?>\n",
       "<svg xmlns=\"http://www.w3.org/2000/svg\" xmlns:xlink=\"http://www.w3.org/1999/xlink\" width=\"600\" height=\"400\" viewBox=\"0 0 2400 1600\">\n",
       "<defs>\n",
       "  <clipPath id=\"clip810\">\n",
       "    <rect x=\"0\" y=\"0\" width=\"2400\" height=\"1600\"/>\n",
       "  </clipPath>\n",
       "</defs>\n",
       "<path clip-path=\"url(#clip810)\" d=\"M0 1600 L2400 1600 L2400 0 L0 0  Z\" fill=\"#ffffff\" fill-rule=\"evenodd\" fill-opacity=\"1\"/>\n",
       "<defs>\n",
       "  <clipPath id=\"clip811\">\n",
       "    <rect x=\"480\" y=\"0\" width=\"1681\" height=\"1600\"/>\n",
       "  </clipPath>\n",
       "</defs>\n",
       "<defs>\n",
       "  <clipPath id=\"clip812\">\n",
       "    <rect x=\"186\" y=\"47\" width=\"2167\" height=\"1440\"/>\n",
       "  </clipPath>\n",
       "</defs>\n",
       "<path clip-path=\"url(#clip810)\" d=\"M156.274 1486.45 L2352.76 1486.45 L2352.76 47.2441 L156.274 47.2441  Z\" fill=\"#ffffff\" fill-rule=\"evenodd\" fill-opacity=\"1\"/>\n",
       "<defs>\n",
       "  <clipPath id=\"clip813\">\n",
       "    <rect x=\"156\" y=\"47\" width=\"2197\" height=\"1440\"/>\n",
       "  </clipPath>\n",
       "</defs>\n",
       "<polyline clip-path=\"url(#clip813)\" style=\"stroke:#000000; stroke-linecap:round; stroke-linejoin:round; stroke-width:2; stroke-opacity:0.1; fill:none\" points=\"218.439,1486.45 218.439,47.2441 \"/>\n",
       "<polyline clip-path=\"url(#clip813)\" style=\"stroke:#000000; stroke-linecap:round; stroke-linejoin:round; stroke-width:2; stroke-opacity:0.1; fill:none\" points=\"736.477,1486.45 736.477,47.2441 \"/>\n",
       "<polyline clip-path=\"url(#clip813)\" style=\"stroke:#000000; stroke-linecap:round; stroke-linejoin:round; stroke-width:2; stroke-opacity:0.1; fill:none\" points=\"1254.52,1486.45 1254.52,47.2441 \"/>\n",
       "<polyline clip-path=\"url(#clip813)\" style=\"stroke:#000000; stroke-linecap:round; stroke-linejoin:round; stroke-width:2; stroke-opacity:0.1; fill:none\" points=\"1772.55,1486.45 1772.55,47.2441 \"/>\n",
       "<polyline clip-path=\"url(#clip813)\" style=\"stroke:#000000; stroke-linecap:round; stroke-linejoin:round; stroke-width:2; stroke-opacity:0.1; fill:none\" points=\"2290.59,1486.45 2290.59,47.2441 \"/>\n",
       "<polyline clip-path=\"url(#clip810)\" style=\"stroke:#000000; stroke-linecap:round; stroke-linejoin:round; stroke-width:4; stroke-opacity:1; fill:none\" points=\"156.274,1486.45 2352.76,1486.45 \"/>\n",
       "<polyline clip-path=\"url(#clip810)\" style=\"stroke:#000000; stroke-linecap:round; stroke-linejoin:round; stroke-width:4; stroke-opacity:1; fill:none\" points=\"218.439,1486.45 218.439,1467.55 \"/>\n",
       "<polyline clip-path=\"url(#clip810)\" style=\"stroke:#000000; stroke-linecap:round; stroke-linejoin:round; stroke-width:4; stroke-opacity:1; fill:none\" points=\"736.477,1486.45 736.477,1467.55 \"/>\n",
       "<polyline clip-path=\"url(#clip810)\" style=\"stroke:#000000; stroke-linecap:round; stroke-linejoin:round; stroke-width:4; stroke-opacity:1; fill:none\" points=\"1254.52,1486.45 1254.52,1467.55 \"/>\n",
       "<polyline clip-path=\"url(#clip810)\" style=\"stroke:#000000; stroke-linecap:round; stroke-linejoin:round; stroke-width:4; stroke-opacity:1; fill:none\" points=\"1772.55,1486.45 1772.55,1467.55 \"/>\n",
       "<polyline clip-path=\"url(#clip810)\" style=\"stroke:#000000; stroke-linecap:round; stroke-linejoin:round; stroke-width:4; stroke-opacity:1; fill:none\" points=\"2290.59,1486.45 2290.59,1467.55 \"/>\n",
       "<path clip-path=\"url(#clip810)\" d=\"M164.967 1532.02 L194.643 1532.02 L194.643 1535.95 L164.967 1535.95 L164.967 1532.02 Z\" fill=\"#000000\" fill-rule=\"nonzero\" fill-opacity=\"1\" /><path clip-path=\"url(#clip810)\" d=\"M205.545 1544.91 L213.184 1544.91 L213.184 1518.55 L204.874 1520.21 L204.874 1515.95 L213.138 1514.29 L217.814 1514.29 L217.814 1544.91 L225.453 1544.91 L225.453 1548.85 L205.545 1548.85 L205.545 1544.91 Z\" fill=\"#000000\" fill-rule=\"nonzero\" fill-opacity=\"1\" /><path clip-path=\"url(#clip810)\" d=\"M234.897 1542.97 L239.781 1542.97 L239.781 1548.85 L234.897 1548.85 L234.897 1542.97 Z\" fill=\"#000000\" fill-rule=\"nonzero\" fill-opacity=\"1\" /><path clip-path=\"url(#clip810)\" d=\"M259.966 1517.37 Q256.355 1517.37 254.527 1520.93 Q252.721 1524.47 252.721 1531.6 Q252.721 1538.71 254.527 1542.27 Q256.355 1545.82 259.966 1545.82 Q263.601 1545.82 265.406 1542.27 Q267.235 1538.71 267.235 1531.6 Q267.235 1524.47 265.406 1520.93 Q263.601 1517.37 259.966 1517.37 M259.966 1513.66 Q265.776 1513.66 268.832 1518.27 Q271.911 1522.85 271.911 1531.6 Q271.911 1540.33 268.832 1544.94 Q265.776 1549.52 259.966 1549.52 Q254.156 1549.52 251.077 1544.94 Q248.022 1540.33 248.022 1531.6 Q248.022 1522.85 251.077 1518.27 Q254.156 1513.66 259.966 1513.66 Z\" fill=\"#000000\" fill-rule=\"nonzero\" fill-opacity=\"1\" /><path clip-path=\"url(#clip810)\" d=\"M683.503 1532.02 L713.178 1532.02 L713.178 1535.95 L683.503 1535.95 L683.503 1532.02 Z\" fill=\"#000000\" fill-rule=\"nonzero\" fill-opacity=\"1\" /><path clip-path=\"url(#clip810)\" d=\"M733.271 1517.37 Q729.66 1517.37 727.831 1520.93 Q726.026 1524.47 726.026 1531.6 Q726.026 1538.71 727.831 1542.27 Q729.66 1545.82 733.271 1545.82 Q736.905 1545.82 738.711 1542.27 Q740.539 1538.71 740.539 1531.6 Q740.539 1524.47 738.711 1520.93 Q736.905 1517.37 733.271 1517.37 M733.271 1513.66 Q739.081 1513.66 742.137 1518.27 Q745.215 1522.85 745.215 1531.6 Q745.215 1540.33 742.137 1544.94 Q739.081 1549.52 733.271 1549.52 Q727.461 1549.52 724.382 1544.94 Q721.327 1540.33 721.327 1531.6 Q721.327 1522.85 724.382 1518.27 Q727.461 1513.66 733.271 1513.66 Z\" fill=\"#000000\" fill-rule=\"nonzero\" fill-opacity=\"1\" /><path clip-path=\"url(#clip810)\" d=\"M753.433 1542.97 L758.317 1542.97 L758.317 1548.85 L753.433 1548.85 L753.433 1542.97 Z\" fill=\"#000000\" fill-rule=\"nonzero\" fill-opacity=\"1\" /><path clip-path=\"url(#clip810)\" d=\"M768.548 1514.29 L786.905 1514.29 L786.905 1518.22 L772.831 1518.22 L772.831 1526.7 Q773.849 1526.35 774.868 1526.19 Q775.886 1526 776.905 1526 Q782.692 1526 786.072 1529.17 Q789.451 1532.34 789.451 1537.76 Q789.451 1543.34 785.979 1546.44 Q782.507 1549.52 776.187 1549.52 Q774.011 1549.52 771.743 1549.15 Q769.498 1548.78 767.09 1548.04 L767.09 1543.34 Q769.173 1544.47 771.396 1545.03 Q773.618 1545.58 776.095 1545.58 Q780.099 1545.58 782.437 1543.48 Q784.775 1541.37 784.775 1537.76 Q784.775 1534.15 782.437 1532.04 Q780.099 1529.94 776.095 1529.94 Q774.22 1529.94 772.345 1530.35 Q770.493 1530.77 768.548 1531.65 L768.548 1514.29 Z\" fill=\"#000000\" fill-rule=\"nonzero\" fill-opacity=\"1\" /><path clip-path=\"url(#clip810)\" d=\"M1231.9 1517.37 Q1228.29 1517.37 1226.46 1520.93 Q1224.65 1524.47 1224.65 1531.6 Q1224.65 1538.71 1226.46 1542.27 Q1228.29 1545.82 1231.9 1545.82 Q1235.53 1545.82 1237.34 1542.27 Q1239.17 1538.71 1239.17 1531.6 Q1239.17 1524.47 1237.34 1520.93 Q1235.53 1517.37 1231.9 1517.37 M1231.9 1513.66 Q1237.71 1513.66 1240.77 1518.27 Q1243.84 1522.85 1243.84 1531.6 Q1243.84 1540.33 1240.77 1544.94 Q1237.71 1549.52 1231.9 1549.52 Q1226.09 1549.52 1223.01 1544.94 Q1219.96 1540.33 1219.96 1531.6 Q1219.96 1522.85 1223.01 1518.27 Q1226.09 1513.66 1231.9 1513.66 Z\" fill=\"#000000\" fill-rule=\"nonzero\" fill-opacity=\"1\" /><path clip-path=\"url(#clip810)\" d=\"M1252.06 1542.97 L1256.95 1542.97 L1256.95 1548.85 L1252.06 1548.85 L1252.06 1542.97 Z\" fill=\"#000000\" fill-rule=\"nonzero\" fill-opacity=\"1\" /><path clip-path=\"url(#clip810)\" d=\"M1277.13 1517.37 Q1273.52 1517.37 1271.69 1520.93 Q1269.89 1524.47 1269.89 1531.6 Q1269.89 1538.71 1271.69 1542.27 Q1273.52 1545.82 1277.13 1545.82 Q1280.76 1545.82 1282.57 1542.27 Q1284.4 1538.71 1284.4 1531.6 Q1284.4 1524.47 1282.57 1520.93 Q1280.76 1517.37 1277.13 1517.37 M1277.13 1513.66 Q1282.94 1513.66 1286 1518.27 Q1289.08 1522.85 1289.08 1531.6 Q1289.08 1540.33 1286 1544.94 Q1282.94 1549.52 1277.13 1549.52 Q1271.32 1549.52 1268.24 1544.94 Q1265.19 1540.33 1265.19 1531.6 Q1265.19 1522.85 1268.24 1518.27 Q1271.32 1513.66 1277.13 1513.66 Z\" fill=\"#000000\" fill-rule=\"nonzero\" fill-opacity=\"1\" /><path clip-path=\"url(#clip810)\" d=\"M1750.44 1517.37 Q1746.82 1517.37 1745 1520.93 Q1743.19 1524.47 1743.19 1531.6 Q1743.19 1538.71 1745 1542.27 Q1746.82 1545.82 1750.44 1545.82 Q1754.07 1545.82 1755.88 1542.27 Q1757.7 1538.71 1757.7 1531.6 Q1757.7 1524.47 1755.88 1520.93 Q1754.07 1517.37 1750.44 1517.37 M1750.44 1513.66 Q1756.25 1513.66 1759.3 1518.27 Q1762.38 1522.85 1762.38 1531.6 Q1762.38 1540.33 1759.3 1544.94 Q1756.25 1549.52 1750.44 1549.52 Q1744.63 1549.52 1741.55 1544.94 Q1738.49 1540.33 1738.49 1531.6 Q1738.49 1522.85 1741.55 1518.27 Q1744.63 1513.66 1750.44 1513.66 Z\" fill=\"#000000\" fill-rule=\"nonzero\" fill-opacity=\"1\" /><path clip-path=\"url(#clip810)\" d=\"M1770.6 1542.97 L1775.48 1542.97 L1775.48 1548.85 L1770.6 1548.85 L1770.6 1542.97 Z\" fill=\"#000000\" fill-rule=\"nonzero\" fill-opacity=\"1\" /><path clip-path=\"url(#clip810)\" d=\"M1785.71 1514.29 L1804.07 1514.29 L1804.07 1518.22 L1790 1518.22 L1790 1526.7 Q1791.01 1526.35 1792.03 1526.19 Q1793.05 1526 1794.07 1526 Q1799.86 1526 1803.24 1529.17 Q1806.62 1532.34 1806.62 1537.76 Q1806.62 1543.34 1803.14 1546.44 Q1799.67 1549.52 1793.35 1549.52 Q1791.18 1549.52 1788.91 1549.15 Q1786.66 1548.78 1784.25 1548.04 L1784.25 1543.34 Q1786.34 1544.47 1788.56 1545.03 Q1790.78 1545.58 1793.26 1545.58 Q1797.26 1545.58 1799.6 1543.48 Q1801.94 1541.37 1801.94 1537.76 Q1801.94 1534.15 1799.6 1532.04 Q1797.26 1529.94 1793.26 1529.94 Q1791.38 1529.94 1789.51 1530.35 Q1787.66 1530.77 1785.71 1531.65 L1785.71 1514.29 Z\" fill=\"#000000\" fill-rule=\"nonzero\" fill-opacity=\"1\" /><path clip-path=\"url(#clip810)\" d=\"M2257.74 1544.91 L2265.38 1544.91 L2265.38 1518.55 L2257.07 1520.21 L2257.07 1515.95 L2265.34 1514.29 L2270.01 1514.29 L2270.01 1544.91 L2277.65 1544.91 L2277.65 1548.85 L2257.74 1548.85 L2257.74 1544.91 Z\" fill=\"#000000\" fill-rule=\"nonzero\" fill-opacity=\"1\" /><path clip-path=\"url(#clip810)\" d=\"M2287.1 1542.97 L2291.98 1542.97 L2291.98 1548.85 L2287.1 1548.85 L2287.1 1542.97 Z\" fill=\"#000000\" fill-rule=\"nonzero\" fill-opacity=\"1\" /><path clip-path=\"url(#clip810)\" d=\"M2312.17 1517.37 Q2308.55 1517.37 2306.73 1520.93 Q2304.92 1524.47 2304.92 1531.6 Q2304.92 1538.71 2306.73 1542.27 Q2308.55 1545.82 2312.17 1545.82 Q2315.8 1545.82 2317.61 1542.27 Q2319.43 1538.71 2319.43 1531.6 Q2319.43 1524.47 2317.61 1520.93 Q2315.8 1517.37 2312.17 1517.37 M2312.17 1513.66 Q2317.98 1513.66 2321.03 1518.27 Q2324.11 1522.85 2324.11 1531.6 Q2324.11 1540.33 2321.03 1544.94 Q2317.98 1549.52 2312.17 1549.52 Q2306.36 1549.52 2303.28 1544.94 Q2300.22 1540.33 2300.22 1531.6 Q2300.22 1522.85 2303.28 1518.27 Q2306.36 1513.66 2312.17 1513.66 Z\" fill=\"#000000\" fill-rule=\"nonzero\" fill-opacity=\"1\" /><polyline clip-path=\"url(#clip813)\" style=\"stroke:#000000; stroke-linecap:round; stroke-linejoin:round; stroke-width:2; stroke-opacity:0.1; fill:none\" points=\"156.274,1171.21 2352.76,1171.21 \"/>\n",
       "<polyline clip-path=\"url(#clip813)\" style=\"stroke:#000000; stroke-linecap:round; stroke-linejoin:round; stroke-width:2; stroke-opacity:0.1; fill:none\" points=\"156.274,845.41 2352.76,845.41 \"/>\n",
       "<polyline clip-path=\"url(#clip813)\" style=\"stroke:#000000; stroke-linecap:round; stroke-linejoin:round; stroke-width:2; stroke-opacity:0.1; fill:none\" points=\"156.274,519.612 2352.76,519.612 \"/>\n",
       "<polyline clip-path=\"url(#clip813)\" style=\"stroke:#000000; stroke-linecap:round; stroke-linejoin:round; stroke-width:2; stroke-opacity:0.1; fill:none\" points=\"156.274,193.813 2352.76,193.813 \"/>\n",
       "<polyline clip-path=\"url(#clip810)\" style=\"stroke:#000000; stroke-linecap:round; stroke-linejoin:round; stroke-width:4; stroke-opacity:1; fill:none\" points=\"156.274,1486.45 156.274,47.2441 \"/>\n",
       "<polyline clip-path=\"url(#clip810)\" style=\"stroke:#000000; stroke-linecap:round; stroke-linejoin:round; stroke-width:4; stroke-opacity:1; fill:none\" points=\"156.274,1171.21 175.172,1171.21 \"/>\n",
       "<polyline clip-path=\"url(#clip810)\" style=\"stroke:#000000; stroke-linecap:round; stroke-linejoin:round; stroke-width:4; stroke-opacity:1; fill:none\" points=\"156.274,845.41 175.172,845.41 \"/>\n",
       "<polyline clip-path=\"url(#clip810)\" style=\"stroke:#000000; stroke-linecap:round; stroke-linejoin:round; stroke-width:4; stroke-opacity:1; fill:none\" points=\"156.274,519.612 175.172,519.612 \"/>\n",
       "<polyline clip-path=\"url(#clip810)\" style=\"stroke:#000000; stroke-linecap:round; stroke-linejoin:round; stroke-width:4; stroke-opacity:1; fill:none\" points=\"156.274,193.813 175.172,193.813 \"/>\n",
       "<path clip-path=\"url(#clip810)\" d=\"M63.0985 1157.01 Q59.4875 1157.01 57.6588 1160.57 Q55.8532 1164.11 55.8532 1171.24 Q55.8532 1178.35 57.6588 1181.92 Q59.4875 1185.46 63.0985 1185.46 Q66.7328 1185.46 68.5383 1181.92 Q70.367 1178.35 70.367 1171.24 Q70.367 1164.11 68.5383 1160.57 Q66.7328 1157.01 63.0985 1157.01 M63.0985 1153.3 Q68.9087 1153.3 71.9642 1157.91 Q75.0429 1162.49 75.0429 1171.24 Q75.0429 1179.97 71.9642 1184.58 Q68.9087 1189.16 63.0985 1189.16 Q57.2884 1189.16 54.2097 1184.58 Q51.1542 1179.97 51.1542 1171.24 Q51.1542 1162.49 54.2097 1157.91 Q57.2884 1153.3 63.0985 1153.3 Z\" fill=\"#000000\" fill-rule=\"nonzero\" fill-opacity=\"1\" /><path clip-path=\"url(#clip810)\" d=\"M83.2605 1182.61 L88.1447 1182.61 L88.1447 1188.49 L83.2605 1188.49 L83.2605 1182.61 Z\" fill=\"#000000\" fill-rule=\"nonzero\" fill-opacity=\"1\" /><path clip-path=\"url(#clip810)\" d=\"M108.33 1157.01 Q104.719 1157.01 102.89 1160.57 Q101.084 1164.11 101.084 1171.24 Q101.084 1178.35 102.89 1181.92 Q104.719 1185.46 108.33 1185.46 Q111.964 1185.46 113.77 1181.92 Q115.598 1178.35 115.598 1171.24 Q115.598 1164.11 113.77 1160.57 Q111.964 1157.01 108.33 1157.01 M108.33 1153.3 Q114.14 1153.3 117.195 1157.91 Q120.274 1162.49 120.274 1171.24 Q120.274 1179.97 117.195 1184.58 Q114.14 1189.16 108.33 1189.16 Q102.52 1189.16 99.4409 1184.58 Q96.3854 1179.97 96.3854 1171.24 Q96.3854 1162.49 99.4409 1157.91 Q102.52 1153.3 108.33 1153.3 Z\" fill=\"#000000\" fill-rule=\"nonzero\" fill-opacity=\"1\" /><path clip-path=\"url(#clip810)\" d=\"M63.7467 831.209 Q60.1356 831.209 58.3069 834.774 Q56.5014 838.316 56.5014 845.445 Q56.5014 852.552 58.3069 856.116 Q60.1356 859.658 63.7467 859.658 Q67.3809 859.658 69.1865 856.116 Q71.0152 852.552 71.0152 845.445 Q71.0152 838.316 69.1865 834.774 Q67.3809 831.209 63.7467 831.209 M63.7467 827.505 Q69.5568 827.505 72.6124 832.112 Q75.6911 836.695 75.6911 845.445 Q75.6911 854.172 72.6124 858.778 Q69.5568 863.362 63.7467 863.362 Q57.9365 863.362 54.8578 858.778 Q51.8023 854.172 51.8023 845.445 Q51.8023 836.695 54.8578 832.112 Q57.9365 827.505 63.7467 827.505 Z\" fill=\"#000000\" fill-rule=\"nonzero\" fill-opacity=\"1\" /><path clip-path=\"url(#clip810)\" d=\"M83.9086 856.811 L88.7928 856.811 L88.7928 862.69 L83.9086 862.69 L83.9086 856.811 Z\" fill=\"#000000\" fill-rule=\"nonzero\" fill-opacity=\"1\" /><path clip-path=\"url(#clip810)\" d=\"M113.145 844.056 Q116.501 844.774 118.376 847.042 Q120.274 849.311 120.274 852.644 Q120.274 857.76 116.756 860.561 Q113.237 863.362 106.756 863.362 Q104.58 863.362 102.265 862.922 Q99.9733 862.505 97.5197 861.649 L97.5197 857.135 Q99.4641 858.269 101.779 858.848 Q104.094 859.426 106.617 859.426 Q111.015 859.426 113.307 857.69 Q115.621 855.954 115.621 852.644 Q115.621 849.589 113.469 847.876 Q111.339 846.14 107.52 846.14 L103.492 846.14 L103.492 842.297 L107.705 842.297 Q111.154 842.297 112.983 840.931 Q114.811 839.542 114.811 836.95 Q114.811 834.288 112.913 832.876 Q111.038 831.441 107.52 831.441 Q105.598 831.441 103.399 831.857 Q101.2 832.274 98.5613 833.153 L98.5613 828.987 Q101.223 828.246 103.538 827.876 Q105.876 827.505 107.936 827.505 Q113.26 827.505 116.362 829.936 Q119.464 832.343 119.464 836.464 Q119.464 839.334 117.82 841.325 Q116.177 843.292 113.145 844.056 Z\" fill=\"#000000\" fill-rule=\"nonzero\" fill-opacity=\"1\" /><path clip-path=\"url(#clip810)\" d=\"M62.9365 505.41 Q59.3254 505.41 57.4967 508.975 Q55.6912 512.517 55.6912 519.646 Q55.6912 526.753 57.4967 530.318 Q59.3254 533.859 62.9365 533.859 Q66.5707 533.859 68.3763 530.318 Q70.205 526.753 70.205 519.646 Q70.205 512.517 68.3763 508.975 Q66.5707 505.41 62.9365 505.41 M62.9365 501.707 Q68.7467 501.707 71.8022 506.313 Q74.8809 510.896 74.8809 519.646 Q74.8809 528.373 71.8022 532.98 Q68.7467 537.563 62.9365 537.563 Q57.1264 537.563 54.0477 532.98 Q50.9921 528.373 50.9921 519.646 Q50.9921 510.896 54.0477 506.313 Q57.1264 501.707 62.9365 501.707 Z\" fill=\"#000000\" fill-rule=\"nonzero\" fill-opacity=\"1\" /><path clip-path=\"url(#clip810)\" d=\"M83.0984 531.012 L87.9827 531.012 L87.9827 536.892 L83.0984 536.892 L83.0984 531.012 Z\" fill=\"#000000\" fill-rule=\"nonzero\" fill-opacity=\"1\" /><path clip-path=\"url(#clip810)\" d=\"M108.746 517.748 Q105.598 517.748 103.746 519.901 Q101.918 522.054 101.918 525.804 Q101.918 529.531 103.746 531.706 Q105.598 533.859 108.746 533.859 Q111.895 533.859 113.723 531.706 Q115.575 529.531 115.575 525.804 Q115.575 522.054 113.723 519.901 Q111.895 517.748 108.746 517.748 M118.029 503.095 L118.029 507.355 Q116.27 506.521 114.464 506.082 Q112.682 505.642 110.922 505.642 Q106.293 505.642 103.839 508.767 Q101.409 511.892 101.061 518.211 Q102.427 516.197 104.487 515.132 Q106.547 514.044 109.024 514.044 Q114.233 514.044 117.242 517.216 Q120.274 520.364 120.274 525.804 Q120.274 531.128 117.126 534.345 Q113.978 537.563 108.746 537.563 Q102.751 537.563 99.5798 532.98 Q96.4085 528.373 96.4085 519.646 Q96.4085 511.452 100.297 506.591 Q104.186 501.707 110.737 501.707 Q112.496 501.707 114.279 502.054 Q116.084 502.401 118.029 503.095 Z\" fill=\"#000000\" fill-rule=\"nonzero\" fill-opacity=\"1\" /><path clip-path=\"url(#clip810)\" d=\"M63.2837 179.611 Q59.6726 179.611 57.8439 183.176 Q56.0384 186.718 56.0384 193.848 Q56.0384 200.954 57.8439 204.519 Q59.6726 208.06 63.2837 208.06 Q66.918 208.06 68.7235 204.519 Q70.5522 200.954 70.5522 193.848 Q70.5522 186.718 68.7235 183.176 Q66.918 179.611 63.2837 179.611 M63.2837 175.908 Q69.0939 175.908 72.1494 180.514 Q75.2281 185.098 75.2281 193.848 Q75.2281 202.574 72.1494 207.181 Q69.0939 211.764 63.2837 211.764 Q57.4736 211.764 54.3949 207.181 Q51.3393 202.574 51.3393 193.848 Q51.3393 185.098 54.3949 180.514 Q57.4736 175.908 63.2837 175.908 Z\" fill=\"#000000\" fill-rule=\"nonzero\" fill-opacity=\"1\" /><path clip-path=\"url(#clip810)\" d=\"M83.4457 205.213 L88.3299 205.213 L88.3299 211.093 L83.4457 211.093 L83.4457 205.213 Z\" fill=\"#000000\" fill-rule=\"nonzero\" fill-opacity=\"1\" /><path clip-path=\"url(#clip810)\" d=\"M98.6539 210.375 L98.6539 206.116 Q100.413 206.949 102.219 207.389 Q104.024 207.829 105.76 207.829 Q110.39 207.829 112.82 204.727 Q115.274 201.602 115.621 195.26 Q114.279 197.25 112.219 198.315 Q110.158 199.38 107.658 199.38 Q102.473 199.38 99.4409 196.255 Q96.4317 193.107 96.4317 187.667 Q96.4317 182.343 99.5798 179.125 Q102.728 175.908 107.959 175.908 Q113.955 175.908 117.103 180.514 Q120.274 185.098 120.274 193.848 Q120.274 202.019 116.385 206.903 Q112.52 211.764 105.969 211.764 Q104.209 211.764 102.404 211.417 Q100.598 211.07 98.6539 210.375 M107.959 195.723 Q111.108 195.723 112.936 193.57 Q114.788 191.417 114.788 187.667 Q114.788 183.94 112.936 181.787 Q111.108 179.611 107.959 179.611 Q104.811 179.611 102.959 181.787 Q101.131 183.94 101.131 187.667 Q101.131 191.417 102.959 193.57 Q104.811 195.723 107.959 195.723 Z\" fill=\"#000000\" fill-rule=\"nonzero\" fill-opacity=\"1\" /><polyline clip-path=\"url(#clip813)\" style=\"stroke:#009af9; stroke-linecap:round; stroke-linejoin:round; stroke-width:4; stroke-opacity:1; fill:none\" points=\"218.439,1129.44 239.37,1302.52 260.3,1401.28 281.231,1443.95 302.162,1445.72 323.093,1419.13 344.024,1374.37 364.955,1319.54 385.885,1260.95 406.816,1203.37 427.747,1150.24 448.678,1103.85 469.609,1065.6 490.54,1036.06 511.47,1015.23 532.401,1002.59 553.332,997.265 574.263,998.106 595.194,1003.79 616.125,1012.91 637.055,1024.02 657.986,1035.7 678.917,1046.61 699.848,1055.53 720.779,1061.36 741.71,1063.18 762.64,1060.26 783.571,1052.03 804.502,1038.13 825.433,1018.4 846.364,992.823 867.295,961.602 888.225,925.077 909.156,883.74 930.087,838.212 951.018,789.226 971.949,737.602 992.88,684.233 1013.81,630.055 1034.74,576.036 1055.67,523.144 1076.6,472.336 1097.53,424.532 1118.46,380.602 1139.4,341.344 1160.33,307.474 1181.26,279.606 1202.19,258.25 1223.12,243.792 1244.05,236.497 1264.98,236.497 1285.91,243.792 1306.84,258.25 1327.77,279.606 1348.7,307.474 1369.63,341.344 1390.57,380.602 1411.5,424.532 1432.43,472.336 1453.36,523.144 1474.29,576.036 1495.22,630.055 1516.15,684.233 1537.08,737.602 1558.01,789.226 1578.94,838.212 1599.87,883.74 1620.8,925.077 1641.74,961.602 1662.67,992.823 1683.6,1018.4 1704.53,1038.13 1725.46,1052.03 1746.39,1060.26 1767.32,1063.18 1788.25,1061.36 1809.18,1055.53 1830.11,1046.61 1851.04,1035.7 1871.97,1024.02 1892.91,1012.91 1913.84,1003.79 1934.77,998.106 1955.7,997.265 1976.63,1002.59 1997.56,1015.23 2018.49,1036.06 2039.42,1065.6 2060.35,1103.85 2081.28,1150.24 2102.21,1203.37 2123.14,1260.95 2144.08,1319.54 2165.01,1374.37 2185.94,1419.13 2206.87,1445.72 2227.8,1443.95 2248.73,1401.28 2269.66,1302.52 2290.59,1129.44 \"/>\n",
       "<polyline clip-path=\"url(#clip813)\" style=\"stroke:#e26f46; stroke-linecap:round; stroke-linejoin:round; stroke-width:12; stroke-opacity:1; fill:none\" points=\"218.439,1129.44 239.37,1127.77 260.3,1126 281.231,1124.12 302.162,1122.12 323.093,1119.99 344.024,1117.73 364.955,1115.31 385.885,1112.73 406.816,1109.98 427.747,1107.02 448.678,1103.85 469.609,1100.45 490.54,1096.79 511.47,1092.85 532.401,1088.59 553.332,1083.98 574.263,1079 595.194,1073.58 616.125,1067.7 637.055,1061.28 657.986,1054.28 678.917,1046.61 699.848,1038.2 720.779,1028.96 741.71,1018.78 762.64,1007.52 783.571,995.062 804.502,981.229 825.433,965.833 846.364,948.656 867.295,929.446 888.225,907.917 909.156,883.74 930.087,856.545 951.018,825.921 971.949,791.424 992.88,752.589 1013.81,708.956 1034.74,660.125 1055.67,605.829 1076.6,546.057 1097.53,481.215 1118.46,412.344 1139.4,341.344 1160.33,271.171 1181.26,205.868 1202.19,150.315 1223.12,109.585 1244.05,87.9763 1264.98,87.9763 1285.91,109.585 1306.84,150.315 1327.77,205.868 1348.7,271.171 1369.63,341.344 1390.57,412.344 1411.5,481.215 1432.43,546.057 1453.36,605.829 1474.29,660.125 1495.22,708.956 1516.15,752.589 1537.08,791.424 1558.01,825.921 1578.94,856.545 1599.87,883.74 1620.8,907.917 1641.74,929.446 1662.67,948.656 1683.6,965.833 1704.53,981.229 1725.46,995.062 1746.39,1007.52 1767.32,1018.78 1788.25,1028.96 1809.18,1038.2 1830.11,1046.61 1851.04,1054.28 1871.97,1061.28 1892.91,1067.7 1913.84,1073.58 1934.77,1079 1955.7,1083.98 1976.63,1088.59 1997.56,1092.85 2018.49,1096.79 2039.42,1100.45 2060.35,1103.85 2081.28,1107.02 2102.21,1109.98 2123.14,1112.73 2144.08,1115.31 2165.01,1117.73 2185.94,1119.99 2206.87,1122.12 2227.8,1124.12 2248.73,1126 2269.66,1127.77 2290.59,1129.44 \"/>\n",
       "<path clip-path=\"url(#clip810)\" d=\"M1940.27 250.738 L2279.54 250.738 L2279.54 95.2176 L1940.27 95.2176  Z\" fill=\"#ffffff\" fill-rule=\"evenodd\" fill-opacity=\"1\"/>\n",
       "<polyline clip-path=\"url(#clip810)\" style=\"stroke:#000000; stroke-linecap:round; stroke-linejoin:round; stroke-width:4; stroke-opacity:1; fill:none\" points=\"1940.27,250.738 2279.54,250.738 2279.54,95.2176 1940.27,95.2176 1940.27,250.738 \"/>\n",
       "<polyline clip-path=\"url(#clip810)\" style=\"stroke:#009af9; stroke-linecap:round; stroke-linejoin:round; stroke-width:4; stroke-opacity:1; fill:none\" points=\"1964.67,147.058 2111.1,147.058 \"/>\n",
       "<path clip-path=\"url(#clip810)\" d=\"M2169.75 132.329 Q2169.75 134.952 2167.81 137.364 Q2165.89 139.777 2162.75 141.253 Q2159.63 142.705 2156.29 142.705 L2148.13 142.705 L2145.16 154.697 Q2145.14 154.767 2145.07 155.072 Q2145 155.353 2145 155.517 Q2145 156.102 2145.72 156.243 Q2146.47 156.384 2148.13 156.384 Q2149.21 156.384 2149.38 156.571 Q2149.47 156.688 2149.47 156.899 Q2149.47 157.227 2149.38 157.461 Q2149.28 157.672 2149.09 157.742 Q2148.93 157.812 2148.81 157.836 Q2148.7 157.859 2148.51 157.859 Q2148.02 157.859 2146.96 157.812 Q2145.93 157.765 2145.39 157.765 L2142.33 157.719 L2136.24 157.859 Q2135.51 157.859 2135.51 157.274 Q2135.51 156.829 2135.7 156.641 Q2135.88 156.43 2136.1 156.407 Q2136.31 156.384 2136.84 156.384 Q2138.02 156.384 2138.72 156.313 Q2139.42 156.243 2139.87 156.149 Q2140.33 156.032 2140.57 155.704 Q2140.83 155.376 2140.94 155.095 Q2141.06 154.791 2141.22 154.112 L2147.64 128.347 Q2147.83 127.574 2147.83 127.457 Q2147.83 127.059 2147.6 126.918 Q2147.38 126.754 2146.78 126.684 Q2145.6 126.59 2144.71 126.59 Q2144.13 126.59 2143.89 126.567 Q2143.68 126.543 2143.5 126.426 Q2143.33 126.286 2143.33 126.005 Q2143.33 125.56 2143.52 125.372 Q2143.73 125.161 2143.97 125.138 Q2144.2 125.091 2144.76 125.091 L2160.31 125.091 Q2164.79 125.091 2167.27 127.223 Q2169.75 129.354 2169.75 132.329 M2165.3 131.181 Q2165.3 126.59 2158.77 126.59 L2154.18 126.59 Q2152.65 126.59 2152.28 126.871 Q2151.91 127.129 2151.58 128.417 L2148.32 141.463 L2155.09 141.463 Q2159.63 141.463 2162.47 138.91 Q2163.76 137.739 2164.53 135.303 Q2165.3 132.867 2165.3 131.181 Z\" fill=\"#000000\" fill-rule=\"nonzero\" fill-opacity=\"1\" /><path clip-path=\"url(#clip810)\" d=\"M2174.54 156.343 Q2174.54 154.556 2175.06 153.342 Q2175.59 152.113 2176.68 150.899 Q2178.7 148.784 2181.62 148.784 Q2182.86 148.784 2183.96 149.309 Q2185.08 149.834 2186.13 151.031 Q2187.19 152.211 2187.83 154.556 Q2188.47 156.884 2188.47 160.097 Q2188.47 165.295 2185.95 168.59 Q2183.44 171.886 2180.04 171.886 Q2177.9 171.886 2176.63 170.919 Q2175.37 169.935 2175.37 168.263 Q2175.37 167.394 2175.86 167.033 Q2176.36 166.656 2176.91 166.656 Q2177.52 166.656 2178 167.066 Q2178.47 167.459 2178.47 168.197 Q2178.47 168.804 2178.08 169.279 Q2177.7 169.738 2176.72 169.738 Q2177.68 170.951 2180.01 170.951 Q2180.85 170.951 2181.68 170.574 Q2182.52 170.181 2183.42 169.246 Q2184.34 168.295 2184.9 166.311 Q2185.46 164.328 2185.46 161.54 L2185.46 160.475 Q2184.11 163.836 2181.26 163.836 Q2178.44 163.836 2176.49 161.671 Q2174.54 159.507 2174.54 156.343 M2177.55 156.376 Q2177.55 159.704 2178.16 160.934 Q2179.19 163.049 2181.29 163.049 Q2183.34 163.049 2184.36 161.229 Q2185.39 159.392 2185.39 157.015 Q2185.39 153.72 2184.85 152.277 Q2183.85 149.621 2181.62 149.621 Q2179.41 149.621 2178.26 151.736 Q2177.55 152.982 2177.55 156.376 Z\" fill=\"#000000\" fill-rule=\"nonzero\" fill-opacity=\"1\" /><path clip-path=\"url(#clip810)\" d=\"M2193.45 145.867 Q2193.45 137.763 2196.47 131.228 Q2197.76 128.487 2199.56 126.192 Q2201.36 123.897 2202.56 122.889 Q2203.75 121.882 2204.08 121.882 Q2204.55 121.882 2204.57 122.351 Q2204.57 122.585 2203.94 123.17 Q2196.21 131.04 2196.24 145.867 Q2196.24 160.74 2203.75 168.306 Q2204.57 169.125 2204.57 169.383 Q2204.57 169.851 2204.08 169.851 Q2203.75 169.851 2202.61 168.891 Q2201.46 167.931 2199.68 165.729 Q2197.9 163.527 2196.61 160.834 Q2193.45 154.299 2193.45 145.867 Z\" fill=\"#000000\" fill-rule=\"nonzero\" fill-opacity=\"1\" /><path clip-path=\"url(#clip810)\" d=\"M2232.11 139.824 Q2232.11 141.135 2231.29 141.885 Q2230.47 142.611 2229.53 142.611 Q2228.64 142.611 2228.17 142.096 Q2227.7 141.581 2227.7 140.925 Q2227.7 140.035 2228.36 139.262 Q2229.01 138.489 2230 138.325 Q2229.04 137.716 2227.61 137.716 Q2226.67 137.716 2225.85 138.208 Q2225.06 138.7 2224.56 139.332 Q2224.1 139.964 2223.67 140.878 Q2223.28 141.768 2223.11 142.307 Q2222.97 142.822 2222.85 143.384 L2221.22 149.942 Q2220.42 153.058 2220.42 154.158 Q2220.42 155.517 2221.07 156.43 Q2221.73 157.32 2223.04 157.32 Q2223.56 157.32 2224.14 157.18 Q2224.73 157.016 2225.48 156.594 Q2226.25 156.149 2226.93 155.493 Q2227.63 154.814 2228.31 153.666 Q2228.99 152.519 2229.44 151.043 Q2229.58 150.528 2230.05 150.528 Q2230.63 150.528 2230.63 150.996 Q2230.63 151.395 2230.3 152.238 Q2230 153.058 2229.32 154.135 Q2228.66 155.189 2227.8 156.149 Q2226.93 157.086 2225.64 157.742 Q2224.35 158.398 2222.95 158.398 Q2220.93 158.398 2219.6 157.32 Q2218.26 156.243 2217.77 154.744 Q2217.65 154.955 2217.49 155.236 Q2217.33 155.517 2216.84 156.149 Q2216.37 156.758 2215.83 157.227 Q2215.29 157.672 2214.45 158.023 Q2213.63 158.398 2212.74 158.398 Q2211.61 158.398 2210.6 158.07 Q2209.62 157.742 2208.92 156.992 Q2208.22 156.243 2208.22 155.212 Q2208.22 154.065 2208.99 153.268 Q2209.78 152.449 2210.86 152.449 Q2211.54 152.449 2212.08 152.847 Q2212.64 153.245 2212.64 154.112 Q2212.64 155.072 2211.99 155.798 Q2211.33 156.524 2210.39 156.711 Q2211.35 157.32 2212.78 157.32 Q2214.33 157.32 2215.55 155.962 Q2216.76 154.603 2217.35 152.331 Q2218.8 146.874 2219.36 144.438 Q2219.93 141.979 2219.93 140.925 Q2219.93 139.941 2219.67 139.262 Q2219.41 138.582 2218.97 138.278 Q2218.54 137.95 2218.15 137.833 Q2217.77 137.716 2217.35 137.716 Q2216.65 137.716 2215.85 137.997 Q2215.08 138.278 2214.14 138.934 Q2213.23 139.566 2212.36 140.878 Q2211.49 142.19 2210.91 143.993 Q2210.79 144.532 2210.28 144.532 Q2209.71 144.508 2209.71 144.04 Q2209.71 143.642 2210.02 142.822 Q2210.35 141.979 2211 140.925 Q2211.68 139.871 2212.55 138.934 Q2213.44 137.973 2214.73 137.318 Q2216.04 136.662 2217.44 136.662 Q2218.08 136.662 2218.69 136.802 Q2219.32 136.919 2220.07 137.271 Q2220.84 137.622 2221.52 138.395 Q2222.2 139.168 2222.62 140.292 Q2222.9 139.754 2223.28 139.238 Q2223.67 138.723 2224.28 138.091 Q2224.92 137.435 2225.78 137.06 Q2226.67 136.662 2227.66 136.662 Q2228.62 136.662 2229.55 136.919 Q2230.49 137.154 2231.29 137.927 Q2232.11 138.676 2232.11 139.824 Z\" fill=\"#000000\" fill-rule=\"nonzero\" fill-opacity=\"1\" /><path clip-path=\"url(#clip810)\" d=\"M2236.72 169.383 Q2236.72 169.149 2237.33 168.563 Q2245.06 160.693 2245.06 145.867 Q2245.06 130.994 2237.63 123.475 Q2236.72 122.608 2236.72 122.351 Q2236.72 121.882 2237.19 121.882 Q2237.52 121.882 2238.66 122.843 Q2239.83 123.803 2241.59 126.005 Q2243.37 128.206 2244.68 130.9 Q2247.84 137.435 2247.84 145.867 Q2247.84 153.971 2244.82 160.506 Q2243.53 163.246 2241.73 165.542 Q2239.93 167.837 2238.73 168.844 Q2237.54 169.851 2237.19 169.851 Q2236.72 169.851 2236.72 169.383 Z\" fill=\"#000000\" fill-rule=\"nonzero\" fill-opacity=\"1\" /><polyline clip-path=\"url(#clip810)\" style=\"stroke:#e26f46; stroke-linecap:round; stroke-linejoin:round; stroke-width:12; stroke-opacity:1; fill:none\" points=\"1964.67,198.898 2111.1,198.898 \"/>\n",
       "<path clip-path=\"url(#clip810)\" d=\"M2157.53 191.824 Q2157.53 191.847 2157.39 192.69 L2152.05 213.981 Q2151.76 215.106 2150.97 216.23 Q2150.2 217.378 2148.95 218.361 Q2147.74 219.369 2145.86 219.978 Q2144.01 220.61 2141.88 220.61 Q2138.48 220.61 2136.99 219.884 Q2135.51 219.181 2135.51 217.682 Q2135.51 216.371 2136.33 215.621 Q2137.15 214.895 2138.09 214.895 Q2138.98 214.895 2139.44 215.41 Q2139.91 215.925 2139.91 216.581 Q2139.91 217.307 2139.42 218.034 Q2138.93 218.783 2137.95 219.064 Q2139.51 219.556 2141.79 219.556 Q2146.59 219.556 2148.65 214.473 Q2148.7 214.403 2148.7 214.38 L2150.29 208.032 L2150.22 207.985 Q2149.82 208.454 2149.19 208.992 Q2148.58 209.508 2147.27 210.14 Q2145.96 210.773 2144.67 210.773 Q2141.97 210.773 2140.12 208.711 Q2138.3 206.627 2138.3 203.184 Q2138.3 200.677 2139.3 198.171 Q2140.33 195.642 2141.93 193.791 Q2143.54 191.917 2145.6 190.746 Q2147.69 189.575 2149.7 189.575 Q2151.11 189.575 2152.3 190.418 Q2153.5 191.238 2154.15 192.597 Q2154.27 191.472 2154.9 191.004 Q2155.56 190.536 2156.12 190.536 Q2156.75 190.536 2157.13 190.887 Q2157.53 191.215 2157.53 191.824 M2153.59 194.752 Q2153.59 194.611 2153.5 194.236 Q2153.4 193.838 2153.12 193.206 Q2152.87 192.573 2152.47 192.011 Q2152.07 191.449 2151.34 191.051 Q2150.64 190.629 2149.75 190.629 Q2148.3 190.629 2146.85 191.847 Q2145.39 193.042 2144.39 194.892 Q2143.45 196.672 2142.56 200.115 Q2141.69 203.558 2141.69 205.315 Q2141.69 207.048 2142.44 208.383 Q2143.19 209.719 2144.81 209.719 Q2146.68 209.719 2148.7 207.985 Q2150.78 206.182 2151.13 204.636 L2153.45 195.478 Q2153.59 194.916 2153.59 194.752 Z\" fill=\"#000000\" fill-rule=\"nonzero\" fill-opacity=\"1\" /><path clip-path=\"url(#clip810)\" d=\"M2164.1 198.78 Q2164.1 190.676 2167.12 184.141 Q2168.41 181.401 2170.21 179.105 Q2172.02 176.81 2173.21 175.803 Q2174.4 174.796 2174.73 174.796 Q2175.2 174.796 2175.22 175.264 Q2175.22 175.498 2174.59 176.084 Q2166.86 183.954 2166.89 198.78 Q2166.89 213.654 2174.4 221.219 Q2175.22 222.039 2175.22 222.296 Q2175.22 222.765 2174.73 222.765 Q2174.4 222.765 2173.26 221.805 Q2172.11 220.844 2170.33 218.642 Q2168.55 216.441 2167.26 213.747 Q2164.1 207.212 2164.1 198.78 Z\" fill=\"#000000\" fill-rule=\"nonzero\" fill-opacity=\"1\" /><path clip-path=\"url(#clip810)\" d=\"M2202.76 192.737 Q2202.76 194.049 2201.94 194.798 Q2201.12 195.525 2200.18 195.525 Q2199.29 195.525 2198.82 195.009 Q2198.35 194.494 2198.35 193.838 Q2198.35 192.948 2199.01 192.175 Q2199.66 191.402 2200.65 191.238 Q2199.69 190.629 2198.26 190.629 Q2197.32 190.629 2196.5 191.121 Q2195.71 191.613 2195.21 192.245 Q2194.75 192.878 2194.32 193.791 Q2193.93 194.681 2193.76 195.22 Q2193.62 195.735 2193.5 196.297 L2191.87 202.856 Q2191.07 205.971 2191.07 207.072 Q2191.07 208.43 2191.72 209.344 Q2192.38 210.234 2193.69 210.234 Q2194.21 210.234 2194.79 210.093 Q2195.38 209.929 2196.13 209.508 Q2196.9 209.063 2197.58 208.407 Q2198.28 207.728 2198.96 206.58 Q2199.64 205.432 2200.09 203.957 Q2200.23 203.441 2200.7 203.441 Q2201.28 203.441 2201.28 203.91 Q2201.28 204.308 2200.95 205.151 Q2200.65 205.971 2199.97 207.048 Q2199.31 208.102 2198.45 209.063 Q2197.58 210 2196.29 210.655 Q2195 211.311 2193.6 211.311 Q2191.58 211.311 2190.25 210.234 Q2188.91 209.156 2188.42 207.657 Q2188.31 207.868 2188.14 208.149 Q2187.98 208.43 2187.49 209.063 Q2187.02 209.672 2186.48 210.14 Q2185.94 210.585 2185.1 210.937 Q2184.28 211.311 2183.39 211.311 Q2182.26 211.311 2181.25 210.983 Q2180.27 210.655 2179.57 209.906 Q2178.87 209.156 2178.87 208.126 Q2178.87 206.978 2179.64 206.182 Q2180.44 205.362 2181.51 205.362 Q2182.19 205.362 2182.73 205.76 Q2183.29 206.158 2183.29 207.025 Q2183.29 207.985 2182.64 208.711 Q2181.98 209.437 2181.04 209.625 Q2182 210.234 2183.43 210.234 Q2184.98 210.234 2186.2 208.875 Q2187.42 207.517 2188 205.245 Q2189.45 199.787 2190.01 197.351 Q2190.58 194.892 2190.58 193.838 Q2190.58 192.854 2190.32 192.175 Q2190.06 191.496 2189.62 191.191 Q2189.2 190.863 2188.8 190.746 Q2188.42 190.629 2188 190.629 Q2187.3 190.629 2186.5 190.91 Q2185.73 191.191 2184.79 191.847 Q2183.88 192.48 2183.01 193.791 Q2182.14 195.103 2181.56 196.906 Q2181.44 197.445 2180.93 197.445 Q2180.36 197.422 2180.36 196.953 Q2180.36 196.555 2180.67 195.735 Q2181 194.892 2181.65 193.838 Q2182.33 192.784 2183.2 191.847 Q2184.09 190.887 2185.38 190.231 Q2186.69 189.575 2188.09 189.575 Q2188.73 189.575 2189.34 189.716 Q2189.97 189.833 2190.72 190.184 Q2191.49 190.536 2192.17 191.309 Q2192.85 192.081 2193.27 193.206 Q2193.55 192.667 2193.93 192.152 Q2194.32 191.636 2194.93 191.004 Q2195.57 190.348 2196.43 189.973 Q2197.32 189.575 2198.31 189.575 Q2199.27 189.575 2200.2 189.833 Q2201.14 190.067 2201.94 190.84 Q2202.76 191.59 2202.76 192.737 Z\" fill=\"#000000\" fill-rule=\"nonzero\" fill-opacity=\"1\" /><path clip-path=\"url(#clip810)\" d=\"M2207.37 222.296 Q2207.37 222.062 2207.98 221.477 Q2215.71 213.607 2215.71 198.78 Q2215.71 183.907 2208.28 176.388 Q2207.37 175.522 2207.37 175.264 Q2207.37 174.796 2207.84 174.796 Q2208.17 174.796 2209.31 175.756 Q2210.48 176.716 2212.24 178.918 Q2214.02 181.12 2215.33 183.813 Q2218.49 190.348 2218.49 198.78 Q2218.49 206.884 2215.47 213.419 Q2214.19 216.16 2212.38 218.455 Q2210.58 220.751 2209.38 221.758 Q2208.19 222.765 2207.84 222.765 Q2207.37 222.765 2207.37 222.296 Z\" fill=\"#000000\" fill-rule=\"nonzero\" fill-opacity=\"1\" /></svg>\n"
      ],
      "text/html": [
       "<?xml version=\"1.0\" encoding=\"utf-8\"?>\n",
       "<svg xmlns=\"http://www.w3.org/2000/svg\" xmlns:xlink=\"http://www.w3.org/1999/xlink\" width=\"600\" height=\"400\" viewBox=\"0 0 2400 1600\">\n",
       "<defs>\n",
       "  <clipPath id=\"clip860\">\n",
       "    <rect x=\"0\" y=\"0\" width=\"2400\" height=\"1600\"/>\n",
       "  </clipPath>\n",
       "</defs>\n",
       "<path clip-path=\"url(#clip860)\" d=\"M0 1600 L2400 1600 L2400 0 L0 0  Z\" fill=\"#ffffff\" fill-rule=\"evenodd\" fill-opacity=\"1\"/>\n",
       "<defs>\n",
       "  <clipPath id=\"clip861\">\n",
       "    <rect x=\"480\" y=\"0\" width=\"1681\" height=\"1600\"/>\n",
       "  </clipPath>\n",
       "</defs>\n",
       "<defs>\n",
       "  <clipPath id=\"clip862\">\n",
       "    <rect x=\"156\" y=\"47\" width=\"2197\" height=\"1440\"/>\n",
       "  </clipPath>\n",
       "</defs>\n",
       "<path clip-path=\"url(#clip860)\" d=\"M156.274 1486.45 L2352.76 1486.45 L2352.76 47.2441 L156.274 47.2441  Z\" fill=\"#ffffff\" fill-rule=\"evenodd\" fill-opacity=\"1\"/>\n",
       "<polyline clip-path=\"url(#clip862)\" style=\"stroke:#000000; stroke-linecap:round; stroke-linejoin:round; stroke-width:2; stroke-opacity:0.1; fill:none\" points=\"218.439,1486.45 218.439,47.2441 \"/>\n",
       "<polyline clip-path=\"url(#clip862)\" style=\"stroke:#000000; stroke-linecap:round; stroke-linejoin:round; stroke-width:2; stroke-opacity:0.1; fill:none\" points=\"736.477,1486.45 736.477,47.2441 \"/>\n",
       "<polyline clip-path=\"url(#clip862)\" style=\"stroke:#000000; stroke-linecap:round; stroke-linejoin:round; stroke-width:2; stroke-opacity:0.1; fill:none\" points=\"1254.52,1486.45 1254.52,47.2441 \"/>\n",
       "<polyline clip-path=\"url(#clip862)\" style=\"stroke:#000000; stroke-linecap:round; stroke-linejoin:round; stroke-width:2; stroke-opacity:0.1; fill:none\" points=\"1772.55,1486.45 1772.55,47.2441 \"/>\n",
       "<polyline clip-path=\"url(#clip862)\" style=\"stroke:#000000; stroke-linecap:round; stroke-linejoin:round; stroke-width:2; stroke-opacity:0.1; fill:none\" points=\"2290.59,1486.45 2290.59,47.2441 \"/>\n",
       "<polyline clip-path=\"url(#clip860)\" style=\"stroke:#000000; stroke-linecap:round; stroke-linejoin:round; stroke-width:4; stroke-opacity:1; fill:none\" points=\"156.274,1486.45 2352.76,1486.45 \"/>\n",
       "<polyline clip-path=\"url(#clip860)\" style=\"stroke:#000000; stroke-linecap:round; stroke-linejoin:round; stroke-width:4; stroke-opacity:1; fill:none\" points=\"218.439,1486.45 218.439,1467.55 \"/>\n",
       "<polyline clip-path=\"url(#clip860)\" style=\"stroke:#000000; stroke-linecap:round; stroke-linejoin:round; stroke-width:4; stroke-opacity:1; fill:none\" points=\"736.477,1486.45 736.477,1467.55 \"/>\n",
       "<polyline clip-path=\"url(#clip860)\" style=\"stroke:#000000; stroke-linecap:round; stroke-linejoin:round; stroke-width:4; stroke-opacity:1; fill:none\" points=\"1254.52,1486.45 1254.52,1467.55 \"/>\n",
       "<polyline clip-path=\"url(#clip860)\" style=\"stroke:#000000; stroke-linecap:round; stroke-linejoin:round; stroke-width:4; stroke-opacity:1; fill:none\" points=\"1772.55,1486.45 1772.55,1467.55 \"/>\n",
       "<polyline clip-path=\"url(#clip860)\" style=\"stroke:#000000; stroke-linecap:round; stroke-linejoin:round; stroke-width:4; stroke-opacity:1; fill:none\" points=\"2290.59,1486.45 2290.59,1467.55 \"/>\n",
       "<path clip-path=\"url(#clip860)\" d=\"M164.967 1532.02 L194.643 1532.02 L194.643 1535.95 L164.967 1535.95 L164.967 1532.02 Z\" fill=\"#000000\" fill-rule=\"nonzero\" fill-opacity=\"1\" /><path clip-path=\"url(#clip860)\" d=\"M205.545 1544.91 L213.184 1544.91 L213.184 1518.55 L204.874 1520.21 L204.874 1515.95 L213.138 1514.29 L217.814 1514.29 L217.814 1544.91 L225.453 1544.91 L225.453 1548.85 L205.545 1548.85 L205.545 1544.91 Z\" fill=\"#000000\" fill-rule=\"nonzero\" fill-opacity=\"1\" /><path clip-path=\"url(#clip860)\" d=\"M234.897 1542.97 L239.781 1542.97 L239.781 1548.85 L234.897 1548.85 L234.897 1542.97 Z\" fill=\"#000000\" fill-rule=\"nonzero\" fill-opacity=\"1\" /><path clip-path=\"url(#clip860)\" d=\"M259.966 1517.37 Q256.355 1517.37 254.527 1520.93 Q252.721 1524.47 252.721 1531.6 Q252.721 1538.71 254.527 1542.27 Q256.355 1545.82 259.966 1545.82 Q263.601 1545.82 265.406 1542.27 Q267.235 1538.71 267.235 1531.6 Q267.235 1524.47 265.406 1520.93 Q263.601 1517.37 259.966 1517.37 M259.966 1513.66 Q265.776 1513.66 268.832 1518.27 Q271.911 1522.85 271.911 1531.6 Q271.911 1540.33 268.832 1544.94 Q265.776 1549.52 259.966 1549.52 Q254.156 1549.52 251.077 1544.94 Q248.022 1540.33 248.022 1531.6 Q248.022 1522.85 251.077 1518.27 Q254.156 1513.66 259.966 1513.66 Z\" fill=\"#000000\" fill-rule=\"nonzero\" fill-opacity=\"1\" /><path clip-path=\"url(#clip860)\" d=\"M683.503 1532.02 L713.178 1532.02 L713.178 1535.95 L683.503 1535.95 L683.503 1532.02 Z\" fill=\"#000000\" fill-rule=\"nonzero\" fill-opacity=\"1\" /><path clip-path=\"url(#clip860)\" d=\"M733.271 1517.37 Q729.66 1517.37 727.831 1520.93 Q726.026 1524.47 726.026 1531.6 Q726.026 1538.71 727.831 1542.27 Q729.66 1545.82 733.271 1545.82 Q736.905 1545.82 738.711 1542.27 Q740.539 1538.71 740.539 1531.6 Q740.539 1524.47 738.711 1520.93 Q736.905 1517.37 733.271 1517.37 M733.271 1513.66 Q739.081 1513.66 742.137 1518.27 Q745.215 1522.85 745.215 1531.6 Q745.215 1540.33 742.137 1544.94 Q739.081 1549.52 733.271 1549.52 Q727.461 1549.52 724.382 1544.94 Q721.327 1540.33 721.327 1531.6 Q721.327 1522.85 724.382 1518.27 Q727.461 1513.66 733.271 1513.66 Z\" fill=\"#000000\" fill-rule=\"nonzero\" fill-opacity=\"1\" /><path clip-path=\"url(#clip860)\" d=\"M753.433 1542.97 L758.317 1542.97 L758.317 1548.85 L753.433 1548.85 L753.433 1542.97 Z\" fill=\"#000000\" fill-rule=\"nonzero\" fill-opacity=\"1\" /><path clip-path=\"url(#clip860)\" d=\"M768.548 1514.29 L786.905 1514.29 L786.905 1518.22 L772.831 1518.22 L772.831 1526.7 Q773.849 1526.35 774.868 1526.19 Q775.886 1526 776.905 1526 Q782.692 1526 786.072 1529.17 Q789.451 1532.34 789.451 1537.76 Q789.451 1543.34 785.979 1546.44 Q782.507 1549.52 776.187 1549.52 Q774.011 1549.52 771.743 1549.15 Q769.498 1548.78 767.09 1548.04 L767.09 1543.34 Q769.173 1544.47 771.396 1545.03 Q773.618 1545.58 776.095 1545.58 Q780.099 1545.58 782.437 1543.48 Q784.775 1541.37 784.775 1537.76 Q784.775 1534.15 782.437 1532.04 Q780.099 1529.94 776.095 1529.94 Q774.22 1529.94 772.345 1530.35 Q770.493 1530.77 768.548 1531.65 L768.548 1514.29 Z\" fill=\"#000000\" fill-rule=\"nonzero\" fill-opacity=\"1\" /><path clip-path=\"url(#clip860)\" d=\"M1231.9 1517.37 Q1228.29 1517.37 1226.46 1520.93 Q1224.65 1524.47 1224.65 1531.6 Q1224.65 1538.71 1226.46 1542.27 Q1228.29 1545.82 1231.9 1545.82 Q1235.53 1545.82 1237.34 1542.27 Q1239.17 1538.71 1239.17 1531.6 Q1239.17 1524.47 1237.34 1520.93 Q1235.53 1517.37 1231.9 1517.37 M1231.9 1513.66 Q1237.71 1513.66 1240.77 1518.27 Q1243.84 1522.85 1243.84 1531.6 Q1243.84 1540.33 1240.77 1544.94 Q1237.71 1549.52 1231.9 1549.52 Q1226.09 1549.52 1223.01 1544.94 Q1219.96 1540.33 1219.96 1531.6 Q1219.96 1522.85 1223.01 1518.27 Q1226.09 1513.66 1231.9 1513.66 Z\" fill=\"#000000\" fill-rule=\"nonzero\" fill-opacity=\"1\" /><path clip-path=\"url(#clip860)\" d=\"M1252.06 1542.97 L1256.95 1542.97 L1256.95 1548.85 L1252.06 1548.85 L1252.06 1542.97 Z\" fill=\"#000000\" fill-rule=\"nonzero\" fill-opacity=\"1\" /><path clip-path=\"url(#clip860)\" d=\"M1277.13 1517.37 Q1273.52 1517.37 1271.69 1520.93 Q1269.89 1524.47 1269.89 1531.6 Q1269.89 1538.71 1271.69 1542.27 Q1273.52 1545.82 1277.13 1545.82 Q1280.76 1545.82 1282.57 1542.27 Q1284.4 1538.71 1284.4 1531.6 Q1284.4 1524.47 1282.57 1520.93 Q1280.76 1517.37 1277.13 1517.37 M1277.13 1513.66 Q1282.94 1513.66 1286 1518.27 Q1289.08 1522.85 1289.08 1531.6 Q1289.08 1540.33 1286 1544.94 Q1282.94 1549.52 1277.13 1549.52 Q1271.32 1549.52 1268.24 1544.94 Q1265.19 1540.33 1265.19 1531.6 Q1265.19 1522.85 1268.24 1518.27 Q1271.32 1513.66 1277.13 1513.66 Z\" fill=\"#000000\" fill-rule=\"nonzero\" fill-opacity=\"1\" /><path clip-path=\"url(#clip860)\" d=\"M1750.44 1517.37 Q1746.82 1517.37 1745 1520.93 Q1743.19 1524.47 1743.19 1531.6 Q1743.19 1538.71 1745 1542.27 Q1746.82 1545.82 1750.44 1545.82 Q1754.07 1545.82 1755.88 1542.27 Q1757.7 1538.71 1757.7 1531.6 Q1757.7 1524.47 1755.88 1520.93 Q1754.07 1517.37 1750.44 1517.37 M1750.44 1513.66 Q1756.25 1513.66 1759.3 1518.27 Q1762.38 1522.85 1762.38 1531.6 Q1762.38 1540.33 1759.3 1544.94 Q1756.25 1549.52 1750.44 1549.52 Q1744.63 1549.52 1741.55 1544.94 Q1738.49 1540.33 1738.49 1531.6 Q1738.49 1522.85 1741.55 1518.27 Q1744.63 1513.66 1750.44 1513.66 Z\" fill=\"#000000\" fill-rule=\"nonzero\" fill-opacity=\"1\" /><path clip-path=\"url(#clip860)\" d=\"M1770.6 1542.97 L1775.48 1542.97 L1775.48 1548.85 L1770.6 1548.85 L1770.6 1542.97 Z\" fill=\"#000000\" fill-rule=\"nonzero\" fill-opacity=\"1\" /><path clip-path=\"url(#clip860)\" d=\"M1785.71 1514.29 L1804.07 1514.29 L1804.07 1518.22 L1790 1518.22 L1790 1526.7 Q1791.01 1526.35 1792.03 1526.19 Q1793.05 1526 1794.07 1526 Q1799.86 1526 1803.24 1529.17 Q1806.62 1532.34 1806.62 1537.76 Q1806.62 1543.34 1803.14 1546.44 Q1799.67 1549.52 1793.35 1549.52 Q1791.18 1549.52 1788.91 1549.15 Q1786.66 1548.78 1784.25 1548.04 L1784.25 1543.34 Q1786.34 1544.47 1788.56 1545.03 Q1790.78 1545.58 1793.26 1545.58 Q1797.26 1545.58 1799.6 1543.48 Q1801.94 1541.37 1801.94 1537.76 Q1801.94 1534.15 1799.6 1532.04 Q1797.26 1529.94 1793.26 1529.94 Q1791.38 1529.94 1789.51 1530.35 Q1787.66 1530.77 1785.71 1531.65 L1785.71 1514.29 Z\" fill=\"#000000\" fill-rule=\"nonzero\" fill-opacity=\"1\" /><path clip-path=\"url(#clip860)\" d=\"M2257.74 1544.91 L2265.38 1544.91 L2265.38 1518.55 L2257.07 1520.21 L2257.07 1515.95 L2265.34 1514.29 L2270.01 1514.29 L2270.01 1544.91 L2277.65 1544.91 L2277.65 1548.85 L2257.74 1548.85 L2257.74 1544.91 Z\" fill=\"#000000\" fill-rule=\"nonzero\" fill-opacity=\"1\" /><path clip-path=\"url(#clip860)\" d=\"M2287.1 1542.97 L2291.98 1542.97 L2291.98 1548.85 L2287.1 1548.85 L2287.1 1542.97 Z\" fill=\"#000000\" fill-rule=\"nonzero\" fill-opacity=\"1\" /><path clip-path=\"url(#clip860)\" d=\"M2312.17 1517.37 Q2308.55 1517.37 2306.73 1520.93 Q2304.92 1524.47 2304.92 1531.6 Q2304.92 1538.71 2306.73 1542.27 Q2308.55 1545.82 2312.17 1545.82 Q2315.8 1545.82 2317.61 1542.27 Q2319.43 1538.71 2319.43 1531.6 Q2319.43 1524.47 2317.61 1520.93 Q2315.8 1517.37 2312.17 1517.37 M2312.17 1513.66 Q2317.98 1513.66 2321.03 1518.27 Q2324.11 1522.85 2324.11 1531.6 Q2324.11 1540.33 2321.03 1544.94 Q2317.98 1549.52 2312.17 1549.52 Q2306.36 1549.52 2303.28 1544.94 Q2300.22 1540.33 2300.22 1531.6 Q2300.22 1522.85 2303.28 1518.27 Q2306.36 1513.66 2312.17 1513.66 Z\" fill=\"#000000\" fill-rule=\"nonzero\" fill-opacity=\"1\" /><polyline clip-path=\"url(#clip862)\" style=\"stroke:#000000; stroke-linecap:round; stroke-linejoin:round; stroke-width:2; stroke-opacity:0.1; fill:none\" points=\"156.274,1171.21 2352.76,1171.21 \"/>\n",
       "<polyline clip-path=\"url(#clip862)\" style=\"stroke:#000000; stroke-linecap:round; stroke-linejoin:round; stroke-width:2; stroke-opacity:0.1; fill:none\" points=\"156.274,845.41 2352.76,845.41 \"/>\n",
       "<polyline clip-path=\"url(#clip862)\" style=\"stroke:#000000; stroke-linecap:round; stroke-linejoin:round; stroke-width:2; stroke-opacity:0.1; fill:none\" points=\"156.274,519.612 2352.76,519.612 \"/>\n",
       "<polyline clip-path=\"url(#clip862)\" style=\"stroke:#000000; stroke-linecap:round; stroke-linejoin:round; stroke-width:2; stroke-opacity:0.1; fill:none\" points=\"156.274,193.813 2352.76,193.813 \"/>\n",
       "<polyline clip-path=\"url(#clip860)\" style=\"stroke:#000000; stroke-linecap:round; stroke-linejoin:round; stroke-width:4; stroke-opacity:1; fill:none\" points=\"156.274,1486.45 156.274,47.2441 \"/>\n",
       "<polyline clip-path=\"url(#clip860)\" style=\"stroke:#000000; stroke-linecap:round; stroke-linejoin:round; stroke-width:4; stroke-opacity:1; fill:none\" points=\"156.274,1171.21 175.172,1171.21 \"/>\n",
       "<polyline clip-path=\"url(#clip860)\" style=\"stroke:#000000; stroke-linecap:round; stroke-linejoin:round; stroke-width:4; stroke-opacity:1; fill:none\" points=\"156.274,845.41 175.172,845.41 \"/>\n",
       "<polyline clip-path=\"url(#clip860)\" style=\"stroke:#000000; stroke-linecap:round; stroke-linejoin:round; stroke-width:4; stroke-opacity:1; fill:none\" points=\"156.274,519.612 175.172,519.612 \"/>\n",
       "<polyline clip-path=\"url(#clip860)\" style=\"stroke:#000000; stroke-linecap:round; stroke-linejoin:round; stroke-width:4; stroke-opacity:1; fill:none\" points=\"156.274,193.813 175.172,193.813 \"/>\n",
       "<path clip-path=\"url(#clip860)\" d=\"M63.0985 1157.01 Q59.4875 1157.01 57.6588 1160.57 Q55.8532 1164.11 55.8532 1171.24 Q55.8532 1178.35 57.6588 1181.92 Q59.4875 1185.46 63.0985 1185.46 Q66.7328 1185.46 68.5383 1181.92 Q70.367 1178.35 70.367 1171.24 Q70.367 1164.11 68.5383 1160.57 Q66.7328 1157.01 63.0985 1157.01 M63.0985 1153.3 Q68.9087 1153.3 71.9642 1157.91 Q75.0429 1162.49 75.0429 1171.24 Q75.0429 1179.97 71.9642 1184.58 Q68.9087 1189.16 63.0985 1189.16 Q57.2884 1189.16 54.2097 1184.58 Q51.1542 1179.97 51.1542 1171.24 Q51.1542 1162.49 54.2097 1157.91 Q57.2884 1153.3 63.0985 1153.3 Z\" fill=\"#000000\" fill-rule=\"nonzero\" fill-opacity=\"1\" /><path clip-path=\"url(#clip860)\" d=\"M83.2605 1182.61 L88.1447 1182.61 L88.1447 1188.49 L83.2605 1188.49 L83.2605 1182.61 Z\" fill=\"#000000\" fill-rule=\"nonzero\" fill-opacity=\"1\" /><path clip-path=\"url(#clip860)\" d=\"M108.33 1157.01 Q104.719 1157.01 102.89 1160.57 Q101.084 1164.11 101.084 1171.24 Q101.084 1178.35 102.89 1181.92 Q104.719 1185.46 108.33 1185.46 Q111.964 1185.46 113.77 1181.92 Q115.598 1178.35 115.598 1171.24 Q115.598 1164.11 113.77 1160.57 Q111.964 1157.01 108.33 1157.01 M108.33 1153.3 Q114.14 1153.3 117.195 1157.91 Q120.274 1162.49 120.274 1171.24 Q120.274 1179.97 117.195 1184.58 Q114.14 1189.16 108.33 1189.16 Q102.52 1189.16 99.4409 1184.58 Q96.3854 1179.97 96.3854 1171.24 Q96.3854 1162.49 99.4409 1157.91 Q102.52 1153.3 108.33 1153.3 Z\" fill=\"#000000\" fill-rule=\"nonzero\" fill-opacity=\"1\" /><path clip-path=\"url(#clip860)\" d=\"M63.7467 831.209 Q60.1356 831.209 58.3069 834.774 Q56.5014 838.316 56.5014 845.445 Q56.5014 852.552 58.3069 856.116 Q60.1356 859.658 63.7467 859.658 Q67.3809 859.658 69.1865 856.116 Q71.0152 852.552 71.0152 845.445 Q71.0152 838.316 69.1865 834.774 Q67.3809 831.209 63.7467 831.209 M63.7467 827.505 Q69.5568 827.505 72.6124 832.112 Q75.6911 836.695 75.6911 845.445 Q75.6911 854.172 72.6124 858.778 Q69.5568 863.362 63.7467 863.362 Q57.9365 863.362 54.8578 858.778 Q51.8023 854.172 51.8023 845.445 Q51.8023 836.695 54.8578 832.112 Q57.9365 827.505 63.7467 827.505 Z\" fill=\"#000000\" fill-rule=\"nonzero\" fill-opacity=\"1\" /><path clip-path=\"url(#clip860)\" d=\"M83.9086 856.811 L88.7928 856.811 L88.7928 862.69 L83.9086 862.69 L83.9086 856.811 Z\" fill=\"#000000\" fill-rule=\"nonzero\" fill-opacity=\"1\" /><path clip-path=\"url(#clip860)\" d=\"M113.145 844.056 Q116.501 844.774 118.376 847.042 Q120.274 849.311 120.274 852.644 Q120.274 857.76 116.756 860.561 Q113.237 863.362 106.756 863.362 Q104.58 863.362 102.265 862.922 Q99.9733 862.505 97.5197 861.649 L97.5197 857.135 Q99.4641 858.269 101.779 858.848 Q104.094 859.426 106.617 859.426 Q111.015 859.426 113.307 857.69 Q115.621 855.954 115.621 852.644 Q115.621 849.589 113.469 847.876 Q111.339 846.14 107.52 846.14 L103.492 846.14 L103.492 842.297 L107.705 842.297 Q111.154 842.297 112.983 840.931 Q114.811 839.542 114.811 836.95 Q114.811 834.288 112.913 832.876 Q111.038 831.441 107.52 831.441 Q105.598 831.441 103.399 831.857 Q101.2 832.274 98.5613 833.153 L98.5613 828.987 Q101.223 828.246 103.538 827.876 Q105.876 827.505 107.936 827.505 Q113.26 827.505 116.362 829.936 Q119.464 832.343 119.464 836.464 Q119.464 839.334 117.82 841.325 Q116.177 843.292 113.145 844.056 Z\" fill=\"#000000\" fill-rule=\"nonzero\" fill-opacity=\"1\" /><path clip-path=\"url(#clip860)\" d=\"M62.9365 505.41 Q59.3254 505.41 57.4967 508.975 Q55.6912 512.517 55.6912 519.646 Q55.6912 526.753 57.4967 530.318 Q59.3254 533.859 62.9365 533.859 Q66.5707 533.859 68.3763 530.318 Q70.205 526.753 70.205 519.646 Q70.205 512.517 68.3763 508.975 Q66.5707 505.41 62.9365 505.41 M62.9365 501.707 Q68.7467 501.707 71.8022 506.313 Q74.8809 510.896 74.8809 519.646 Q74.8809 528.373 71.8022 532.98 Q68.7467 537.563 62.9365 537.563 Q57.1264 537.563 54.0477 532.98 Q50.9921 528.373 50.9921 519.646 Q50.9921 510.896 54.0477 506.313 Q57.1264 501.707 62.9365 501.707 Z\" fill=\"#000000\" fill-rule=\"nonzero\" fill-opacity=\"1\" /><path clip-path=\"url(#clip860)\" d=\"M83.0984 531.012 L87.9827 531.012 L87.9827 536.892 L83.0984 536.892 L83.0984 531.012 Z\" fill=\"#000000\" fill-rule=\"nonzero\" fill-opacity=\"1\" /><path clip-path=\"url(#clip860)\" d=\"M108.746 517.748 Q105.598 517.748 103.746 519.901 Q101.918 522.054 101.918 525.804 Q101.918 529.531 103.746 531.706 Q105.598 533.859 108.746 533.859 Q111.895 533.859 113.723 531.706 Q115.575 529.531 115.575 525.804 Q115.575 522.054 113.723 519.901 Q111.895 517.748 108.746 517.748 M118.029 503.095 L118.029 507.355 Q116.27 506.521 114.464 506.082 Q112.682 505.642 110.922 505.642 Q106.293 505.642 103.839 508.767 Q101.409 511.892 101.061 518.211 Q102.427 516.197 104.487 515.132 Q106.547 514.044 109.024 514.044 Q114.233 514.044 117.242 517.216 Q120.274 520.364 120.274 525.804 Q120.274 531.128 117.126 534.345 Q113.978 537.563 108.746 537.563 Q102.751 537.563 99.5798 532.98 Q96.4085 528.373 96.4085 519.646 Q96.4085 511.452 100.297 506.591 Q104.186 501.707 110.737 501.707 Q112.496 501.707 114.279 502.054 Q116.084 502.401 118.029 503.095 Z\" fill=\"#000000\" fill-rule=\"nonzero\" fill-opacity=\"1\" /><path clip-path=\"url(#clip860)\" d=\"M63.2837 179.611 Q59.6726 179.611 57.8439 183.176 Q56.0384 186.718 56.0384 193.848 Q56.0384 200.954 57.8439 204.519 Q59.6726 208.06 63.2837 208.06 Q66.918 208.06 68.7235 204.519 Q70.5522 200.954 70.5522 193.848 Q70.5522 186.718 68.7235 183.176 Q66.918 179.611 63.2837 179.611 M63.2837 175.908 Q69.0939 175.908 72.1494 180.514 Q75.2281 185.098 75.2281 193.848 Q75.2281 202.574 72.1494 207.181 Q69.0939 211.764 63.2837 211.764 Q57.4736 211.764 54.3949 207.181 Q51.3393 202.574 51.3393 193.848 Q51.3393 185.098 54.3949 180.514 Q57.4736 175.908 63.2837 175.908 Z\" fill=\"#000000\" fill-rule=\"nonzero\" fill-opacity=\"1\" /><path clip-path=\"url(#clip860)\" d=\"M83.4457 205.213 L88.3299 205.213 L88.3299 211.093 L83.4457 211.093 L83.4457 205.213 Z\" fill=\"#000000\" fill-rule=\"nonzero\" fill-opacity=\"1\" /><path clip-path=\"url(#clip860)\" d=\"M98.6539 210.375 L98.6539 206.116 Q100.413 206.949 102.219 207.389 Q104.024 207.829 105.76 207.829 Q110.39 207.829 112.82 204.727 Q115.274 201.602 115.621 195.26 Q114.279 197.25 112.219 198.315 Q110.158 199.38 107.658 199.38 Q102.473 199.38 99.4409 196.255 Q96.4317 193.107 96.4317 187.667 Q96.4317 182.343 99.5798 179.125 Q102.728 175.908 107.959 175.908 Q113.955 175.908 117.103 180.514 Q120.274 185.098 120.274 193.848 Q120.274 202.019 116.385 206.903 Q112.52 211.764 105.969 211.764 Q104.209 211.764 102.404 211.417 Q100.598 211.07 98.6539 210.375 M107.959 195.723 Q111.108 195.723 112.936 193.57 Q114.788 191.417 114.788 187.667 Q114.788 183.94 112.936 181.787 Q111.108 179.611 107.959 179.611 Q104.811 179.611 102.959 181.787 Q101.131 183.94 101.131 187.667 Q101.131 191.417 102.959 193.57 Q104.811 195.723 107.959 195.723 Z\" fill=\"#000000\" fill-rule=\"nonzero\" fill-opacity=\"1\" /><polyline clip-path=\"url(#clip862)\" style=\"stroke:#009af9; stroke-linecap:round; stroke-linejoin:round; stroke-width:4; stroke-opacity:1; fill:none\" points=\"218.439,1129.44 239.37,1302.52 260.3,1401.28 281.231,1443.95 302.162,1445.72 323.093,1419.13 344.024,1374.37 364.955,1319.54 385.885,1260.95 406.816,1203.37 427.747,1150.24 448.678,1103.85 469.609,1065.6 490.54,1036.06 511.47,1015.23 532.401,1002.59 553.332,997.265 574.263,998.106 595.194,1003.79 616.125,1012.91 637.055,1024.02 657.986,1035.7 678.917,1046.61 699.848,1055.53 720.779,1061.36 741.71,1063.18 762.64,1060.26 783.571,1052.03 804.502,1038.13 825.433,1018.4 846.364,992.823 867.295,961.602 888.225,925.077 909.156,883.74 930.087,838.212 951.018,789.226 971.949,737.602 992.88,684.233 1013.81,630.055 1034.74,576.036 1055.67,523.144 1076.6,472.336 1097.53,424.532 1118.46,380.602 1139.4,341.344 1160.33,307.474 1181.26,279.606 1202.19,258.25 1223.12,243.792 1244.05,236.497 1264.98,236.497 1285.91,243.792 1306.84,258.25 1327.77,279.606 1348.7,307.474 1369.63,341.344 1390.57,380.602 1411.5,424.532 1432.43,472.336 1453.36,523.144 1474.29,576.036 1495.22,630.055 1516.15,684.233 1537.08,737.602 1558.01,789.226 1578.94,838.212 1599.87,883.74 1620.8,925.077 1641.74,961.602 1662.67,992.823 1683.6,1018.4 1704.53,1038.13 1725.46,1052.03 1746.39,1060.26 1767.32,1063.18 1788.25,1061.36 1809.18,1055.53 1830.11,1046.61 1851.04,1035.7 1871.97,1024.02 1892.91,1012.91 1913.84,1003.79 1934.77,998.106 1955.7,997.265 1976.63,1002.59 1997.56,1015.23 2018.49,1036.06 2039.42,1065.6 2060.35,1103.85 2081.28,1150.24 2102.21,1203.37 2123.14,1260.95 2144.08,1319.54 2165.01,1374.37 2185.94,1419.13 2206.87,1445.72 2227.8,1443.95 2248.73,1401.28 2269.66,1302.52 2290.59,1129.44 \"/>\n",
       "<polyline clip-path=\"url(#clip862)\" style=\"stroke:#e26f46; stroke-linecap:round; stroke-linejoin:round; stroke-width:12; stroke-opacity:1; fill:none\" points=\"218.439,1129.44 239.37,1127.77 260.3,1126 281.231,1124.12 302.162,1122.12 323.093,1119.99 344.024,1117.73 364.955,1115.31 385.885,1112.73 406.816,1109.98 427.747,1107.02 448.678,1103.85 469.609,1100.45 490.54,1096.79 511.47,1092.85 532.401,1088.59 553.332,1083.98 574.263,1079 595.194,1073.58 616.125,1067.7 637.055,1061.28 657.986,1054.28 678.917,1046.61 699.848,1038.2 720.779,1028.96 741.71,1018.78 762.64,1007.52 783.571,995.062 804.502,981.229 825.433,965.833 846.364,948.656 867.295,929.446 888.225,907.917 909.156,883.74 930.087,856.545 951.018,825.921 971.949,791.424 992.88,752.589 1013.81,708.956 1034.74,660.125 1055.67,605.829 1076.6,546.057 1097.53,481.215 1118.46,412.344 1139.4,341.344 1160.33,271.171 1181.26,205.868 1202.19,150.315 1223.12,109.585 1244.05,87.9763 1264.98,87.9763 1285.91,109.585 1306.84,150.315 1327.77,205.868 1348.7,271.171 1369.63,341.344 1390.57,412.344 1411.5,481.215 1432.43,546.057 1453.36,605.829 1474.29,660.125 1495.22,708.956 1516.15,752.589 1537.08,791.424 1558.01,825.921 1578.94,856.545 1599.87,883.74 1620.8,907.917 1641.74,929.446 1662.67,948.656 1683.6,965.833 1704.53,981.229 1725.46,995.062 1746.39,1007.52 1767.32,1018.78 1788.25,1028.96 1809.18,1038.2 1830.11,1046.61 1851.04,1054.28 1871.97,1061.28 1892.91,1067.7 1913.84,1073.58 1934.77,1079 1955.7,1083.98 1976.63,1088.59 1997.56,1092.85 2018.49,1096.79 2039.42,1100.45 2060.35,1103.85 2081.28,1107.02 2102.21,1109.98 2123.14,1112.73 2144.08,1115.31 2165.01,1117.73 2185.94,1119.99 2206.87,1122.12 2227.8,1124.12 2248.73,1126 2269.66,1127.77 2290.59,1129.44 \"/>\n",
       "<path clip-path=\"url(#clip860)\" d=\"M1940.27 250.738 L2279.54 250.738 L2279.54 95.2176 L1940.27 95.2176  Z\" fill=\"#ffffff\" fill-rule=\"evenodd\" fill-opacity=\"1\"/>\n",
       "<polyline clip-path=\"url(#clip860)\" style=\"stroke:#000000; stroke-linecap:round; stroke-linejoin:round; stroke-width:4; stroke-opacity:1; fill:none\" points=\"1940.27,250.738 2279.54,250.738 2279.54,95.2176 1940.27,95.2176 1940.27,250.738 \"/>\n",
       "<polyline clip-path=\"url(#clip860)\" style=\"stroke:#009af9; stroke-linecap:round; stroke-linejoin:round; stroke-width:4; stroke-opacity:1; fill:none\" points=\"1964.67,147.058 2111.1,147.058 \"/>\n",
       "<path clip-path=\"url(#clip860)\" d=\"M2169.75 132.329 Q2169.75 134.952 2167.81 137.364 Q2165.89 139.777 2162.75 141.253 Q2159.63 142.705 2156.29 142.705 L2148.13 142.705 L2145.16 154.697 Q2145.14 154.767 2145.07 155.072 Q2145 155.353 2145 155.517 Q2145 156.102 2145.72 156.243 Q2146.47 156.384 2148.13 156.384 Q2149.21 156.384 2149.38 156.571 Q2149.47 156.688 2149.47 156.899 Q2149.47 157.227 2149.38 157.461 Q2149.28 157.672 2149.09 157.742 Q2148.93 157.812 2148.81 157.836 Q2148.7 157.859 2148.51 157.859 Q2148.02 157.859 2146.96 157.812 Q2145.93 157.765 2145.39 157.765 L2142.33 157.719 L2136.24 157.859 Q2135.51 157.859 2135.51 157.274 Q2135.51 156.829 2135.7 156.641 Q2135.88 156.43 2136.1 156.407 Q2136.31 156.384 2136.84 156.384 Q2138.02 156.384 2138.72 156.313 Q2139.42 156.243 2139.87 156.149 Q2140.33 156.032 2140.57 155.704 Q2140.83 155.376 2140.94 155.095 Q2141.06 154.791 2141.22 154.112 L2147.64 128.347 Q2147.83 127.574 2147.83 127.457 Q2147.83 127.059 2147.6 126.918 Q2147.38 126.754 2146.78 126.684 Q2145.6 126.59 2144.71 126.59 Q2144.13 126.59 2143.89 126.567 Q2143.68 126.543 2143.5 126.426 Q2143.33 126.286 2143.33 126.005 Q2143.33 125.56 2143.52 125.372 Q2143.73 125.161 2143.97 125.138 Q2144.2 125.091 2144.76 125.091 L2160.31 125.091 Q2164.79 125.091 2167.27 127.223 Q2169.75 129.354 2169.75 132.329 M2165.3 131.181 Q2165.3 126.59 2158.77 126.59 L2154.18 126.59 Q2152.65 126.59 2152.28 126.871 Q2151.91 127.129 2151.58 128.417 L2148.32 141.463 L2155.09 141.463 Q2159.63 141.463 2162.47 138.91 Q2163.76 137.739 2164.53 135.303 Q2165.3 132.867 2165.3 131.181 Z\" fill=\"#000000\" fill-rule=\"nonzero\" fill-opacity=\"1\" /><path clip-path=\"url(#clip860)\" d=\"M2174.54 156.343 Q2174.54 154.556 2175.06 153.342 Q2175.59 152.113 2176.68 150.899 Q2178.7 148.784 2181.62 148.784 Q2182.86 148.784 2183.96 149.309 Q2185.08 149.834 2186.13 151.031 Q2187.19 152.211 2187.83 154.556 Q2188.47 156.884 2188.47 160.097 Q2188.47 165.295 2185.95 168.59 Q2183.44 171.886 2180.04 171.886 Q2177.9 171.886 2176.63 170.919 Q2175.37 169.935 2175.37 168.263 Q2175.37 167.394 2175.86 167.033 Q2176.36 166.656 2176.91 166.656 Q2177.52 166.656 2178 167.066 Q2178.47 167.459 2178.47 168.197 Q2178.47 168.804 2178.08 169.279 Q2177.7 169.738 2176.72 169.738 Q2177.68 170.951 2180.01 170.951 Q2180.85 170.951 2181.68 170.574 Q2182.52 170.181 2183.42 169.246 Q2184.34 168.295 2184.9 166.311 Q2185.46 164.328 2185.46 161.54 L2185.46 160.475 Q2184.11 163.836 2181.26 163.836 Q2178.44 163.836 2176.49 161.671 Q2174.54 159.507 2174.54 156.343 M2177.55 156.376 Q2177.55 159.704 2178.16 160.934 Q2179.19 163.049 2181.29 163.049 Q2183.34 163.049 2184.36 161.229 Q2185.39 159.392 2185.39 157.015 Q2185.39 153.72 2184.85 152.277 Q2183.85 149.621 2181.62 149.621 Q2179.41 149.621 2178.26 151.736 Q2177.55 152.982 2177.55 156.376 Z\" fill=\"#000000\" fill-rule=\"nonzero\" fill-opacity=\"1\" /><path clip-path=\"url(#clip860)\" d=\"M2193.45 145.867 Q2193.45 137.763 2196.47 131.228 Q2197.76 128.487 2199.56 126.192 Q2201.36 123.897 2202.56 122.889 Q2203.75 121.882 2204.08 121.882 Q2204.55 121.882 2204.57 122.351 Q2204.57 122.585 2203.94 123.17 Q2196.21 131.04 2196.24 145.867 Q2196.24 160.74 2203.75 168.306 Q2204.57 169.125 2204.57 169.383 Q2204.57 169.851 2204.08 169.851 Q2203.75 169.851 2202.61 168.891 Q2201.46 167.931 2199.68 165.729 Q2197.9 163.527 2196.61 160.834 Q2193.45 154.299 2193.45 145.867 Z\" fill=\"#000000\" fill-rule=\"nonzero\" fill-opacity=\"1\" /><path clip-path=\"url(#clip860)\" d=\"M2232.11 139.824 Q2232.11 141.135 2231.29 141.885 Q2230.47 142.611 2229.53 142.611 Q2228.64 142.611 2228.17 142.096 Q2227.7 141.581 2227.7 140.925 Q2227.7 140.035 2228.36 139.262 Q2229.01 138.489 2230 138.325 Q2229.04 137.716 2227.61 137.716 Q2226.67 137.716 2225.85 138.208 Q2225.06 138.7 2224.56 139.332 Q2224.1 139.964 2223.67 140.878 Q2223.28 141.768 2223.11 142.307 Q2222.97 142.822 2222.85 143.384 L2221.22 149.942 Q2220.42 153.058 2220.42 154.158 Q2220.42 155.517 2221.07 156.43 Q2221.73 157.32 2223.04 157.32 Q2223.56 157.32 2224.14 157.18 Q2224.73 157.016 2225.48 156.594 Q2226.25 156.149 2226.93 155.493 Q2227.63 154.814 2228.31 153.666 Q2228.99 152.519 2229.44 151.043 Q2229.58 150.528 2230.05 150.528 Q2230.63 150.528 2230.63 150.996 Q2230.63 151.395 2230.3 152.238 Q2230 153.058 2229.32 154.135 Q2228.66 155.189 2227.8 156.149 Q2226.93 157.086 2225.64 157.742 Q2224.35 158.398 2222.95 158.398 Q2220.93 158.398 2219.6 157.32 Q2218.26 156.243 2217.77 154.744 Q2217.65 154.955 2217.49 155.236 Q2217.33 155.517 2216.84 156.149 Q2216.37 156.758 2215.83 157.227 Q2215.29 157.672 2214.45 158.023 Q2213.63 158.398 2212.74 158.398 Q2211.61 158.398 2210.6 158.07 Q2209.62 157.742 2208.92 156.992 Q2208.22 156.243 2208.22 155.212 Q2208.22 154.065 2208.99 153.268 Q2209.78 152.449 2210.86 152.449 Q2211.54 152.449 2212.08 152.847 Q2212.64 153.245 2212.64 154.112 Q2212.64 155.072 2211.99 155.798 Q2211.33 156.524 2210.39 156.711 Q2211.35 157.32 2212.78 157.32 Q2214.33 157.32 2215.55 155.962 Q2216.76 154.603 2217.35 152.331 Q2218.8 146.874 2219.36 144.438 Q2219.93 141.979 2219.93 140.925 Q2219.93 139.941 2219.67 139.262 Q2219.41 138.582 2218.97 138.278 Q2218.54 137.95 2218.15 137.833 Q2217.77 137.716 2217.35 137.716 Q2216.65 137.716 2215.85 137.997 Q2215.08 138.278 2214.14 138.934 Q2213.23 139.566 2212.36 140.878 Q2211.49 142.19 2210.91 143.993 Q2210.79 144.532 2210.28 144.532 Q2209.71 144.508 2209.71 144.04 Q2209.71 143.642 2210.02 142.822 Q2210.35 141.979 2211 140.925 Q2211.68 139.871 2212.55 138.934 Q2213.44 137.973 2214.73 137.318 Q2216.04 136.662 2217.44 136.662 Q2218.08 136.662 2218.69 136.802 Q2219.32 136.919 2220.07 137.271 Q2220.84 137.622 2221.52 138.395 Q2222.2 139.168 2222.62 140.292 Q2222.9 139.754 2223.28 139.238 Q2223.67 138.723 2224.28 138.091 Q2224.92 137.435 2225.78 137.06 Q2226.67 136.662 2227.66 136.662 Q2228.62 136.662 2229.55 136.919 Q2230.49 137.154 2231.29 137.927 Q2232.11 138.676 2232.11 139.824 Z\" fill=\"#000000\" fill-rule=\"nonzero\" fill-opacity=\"1\" /><path clip-path=\"url(#clip860)\" d=\"M2236.72 169.383 Q2236.72 169.149 2237.33 168.563 Q2245.06 160.693 2245.06 145.867 Q2245.06 130.994 2237.63 123.475 Q2236.72 122.608 2236.72 122.351 Q2236.72 121.882 2237.19 121.882 Q2237.52 121.882 2238.66 122.843 Q2239.83 123.803 2241.59 126.005 Q2243.37 128.206 2244.68 130.9 Q2247.84 137.435 2247.84 145.867 Q2247.84 153.971 2244.82 160.506 Q2243.53 163.246 2241.73 165.542 Q2239.93 167.837 2238.73 168.844 Q2237.54 169.851 2237.19 169.851 Q2236.72 169.851 2236.72 169.383 Z\" fill=\"#000000\" fill-rule=\"nonzero\" fill-opacity=\"1\" /><polyline clip-path=\"url(#clip860)\" style=\"stroke:#e26f46; stroke-linecap:round; stroke-linejoin:round; stroke-width:12; stroke-opacity:1; fill:none\" points=\"1964.67,198.898 2111.1,198.898 \"/>\n",
       "<path clip-path=\"url(#clip860)\" d=\"M2157.53 191.824 Q2157.53 191.847 2157.39 192.69 L2152.05 213.981 Q2151.76 215.106 2150.97 216.23 Q2150.2 217.378 2148.95 218.361 Q2147.74 219.369 2145.86 219.978 Q2144.01 220.61 2141.88 220.61 Q2138.48 220.61 2136.99 219.884 Q2135.51 219.181 2135.51 217.682 Q2135.51 216.371 2136.33 215.621 Q2137.15 214.895 2138.09 214.895 Q2138.98 214.895 2139.44 215.41 Q2139.91 215.925 2139.91 216.581 Q2139.91 217.307 2139.42 218.034 Q2138.93 218.783 2137.95 219.064 Q2139.51 219.556 2141.79 219.556 Q2146.59 219.556 2148.65 214.473 Q2148.7 214.403 2148.7 214.38 L2150.29 208.032 L2150.22 207.985 Q2149.82 208.454 2149.19 208.992 Q2148.58 209.508 2147.27 210.14 Q2145.96 210.773 2144.67 210.773 Q2141.97 210.773 2140.12 208.711 Q2138.3 206.627 2138.3 203.184 Q2138.3 200.677 2139.3 198.171 Q2140.33 195.642 2141.93 193.791 Q2143.54 191.917 2145.6 190.746 Q2147.69 189.575 2149.7 189.575 Q2151.11 189.575 2152.3 190.418 Q2153.5 191.238 2154.15 192.597 Q2154.27 191.472 2154.9 191.004 Q2155.56 190.536 2156.12 190.536 Q2156.75 190.536 2157.13 190.887 Q2157.53 191.215 2157.53 191.824 M2153.59 194.752 Q2153.59 194.611 2153.5 194.236 Q2153.4 193.838 2153.12 193.206 Q2152.87 192.573 2152.47 192.011 Q2152.07 191.449 2151.34 191.051 Q2150.64 190.629 2149.75 190.629 Q2148.3 190.629 2146.85 191.847 Q2145.39 193.042 2144.39 194.892 Q2143.45 196.672 2142.56 200.115 Q2141.69 203.558 2141.69 205.315 Q2141.69 207.048 2142.44 208.383 Q2143.19 209.719 2144.81 209.719 Q2146.68 209.719 2148.7 207.985 Q2150.78 206.182 2151.13 204.636 L2153.45 195.478 Q2153.59 194.916 2153.59 194.752 Z\" fill=\"#000000\" fill-rule=\"nonzero\" fill-opacity=\"1\" /><path clip-path=\"url(#clip860)\" d=\"M2164.1 198.78 Q2164.1 190.676 2167.12 184.141 Q2168.41 181.401 2170.21 179.105 Q2172.02 176.81 2173.21 175.803 Q2174.4 174.796 2174.73 174.796 Q2175.2 174.796 2175.22 175.264 Q2175.22 175.498 2174.59 176.084 Q2166.86 183.954 2166.89 198.78 Q2166.89 213.654 2174.4 221.219 Q2175.22 222.039 2175.22 222.296 Q2175.22 222.765 2174.73 222.765 Q2174.4 222.765 2173.26 221.805 Q2172.11 220.844 2170.33 218.642 Q2168.55 216.441 2167.26 213.747 Q2164.1 207.212 2164.1 198.78 Z\" fill=\"#000000\" fill-rule=\"nonzero\" fill-opacity=\"1\" /><path clip-path=\"url(#clip860)\" d=\"M2202.76 192.737 Q2202.76 194.049 2201.94 194.798 Q2201.12 195.525 2200.18 195.525 Q2199.29 195.525 2198.82 195.009 Q2198.35 194.494 2198.35 193.838 Q2198.35 192.948 2199.01 192.175 Q2199.66 191.402 2200.65 191.238 Q2199.69 190.629 2198.26 190.629 Q2197.32 190.629 2196.5 191.121 Q2195.71 191.613 2195.21 192.245 Q2194.75 192.878 2194.32 193.791 Q2193.93 194.681 2193.76 195.22 Q2193.62 195.735 2193.5 196.297 L2191.87 202.856 Q2191.07 205.971 2191.07 207.072 Q2191.07 208.43 2191.72 209.344 Q2192.38 210.234 2193.69 210.234 Q2194.21 210.234 2194.79 210.093 Q2195.38 209.929 2196.13 209.508 Q2196.9 209.063 2197.58 208.407 Q2198.28 207.728 2198.96 206.58 Q2199.64 205.432 2200.09 203.957 Q2200.23 203.441 2200.7 203.441 Q2201.28 203.441 2201.28 203.91 Q2201.28 204.308 2200.95 205.151 Q2200.65 205.971 2199.97 207.048 Q2199.31 208.102 2198.45 209.063 Q2197.58 210 2196.29 210.655 Q2195 211.311 2193.6 211.311 Q2191.58 211.311 2190.25 210.234 Q2188.91 209.156 2188.42 207.657 Q2188.31 207.868 2188.14 208.149 Q2187.98 208.43 2187.49 209.063 Q2187.02 209.672 2186.48 210.14 Q2185.94 210.585 2185.1 210.937 Q2184.28 211.311 2183.39 211.311 Q2182.26 211.311 2181.25 210.983 Q2180.27 210.655 2179.57 209.906 Q2178.87 209.156 2178.87 208.126 Q2178.87 206.978 2179.64 206.182 Q2180.44 205.362 2181.51 205.362 Q2182.19 205.362 2182.73 205.76 Q2183.29 206.158 2183.29 207.025 Q2183.29 207.985 2182.64 208.711 Q2181.98 209.437 2181.04 209.625 Q2182 210.234 2183.43 210.234 Q2184.98 210.234 2186.2 208.875 Q2187.42 207.517 2188 205.245 Q2189.45 199.787 2190.01 197.351 Q2190.58 194.892 2190.58 193.838 Q2190.58 192.854 2190.32 192.175 Q2190.06 191.496 2189.62 191.191 Q2189.2 190.863 2188.8 190.746 Q2188.42 190.629 2188 190.629 Q2187.3 190.629 2186.5 190.91 Q2185.73 191.191 2184.79 191.847 Q2183.88 192.48 2183.01 193.791 Q2182.14 195.103 2181.56 196.906 Q2181.44 197.445 2180.93 197.445 Q2180.36 197.422 2180.36 196.953 Q2180.36 196.555 2180.67 195.735 Q2181 194.892 2181.65 193.838 Q2182.33 192.784 2183.2 191.847 Q2184.09 190.887 2185.38 190.231 Q2186.69 189.575 2188.09 189.575 Q2188.73 189.575 2189.34 189.716 Q2189.97 189.833 2190.72 190.184 Q2191.49 190.536 2192.17 191.309 Q2192.85 192.081 2193.27 193.206 Q2193.55 192.667 2193.93 192.152 Q2194.32 191.636 2194.93 191.004 Q2195.57 190.348 2196.43 189.973 Q2197.32 189.575 2198.31 189.575 Q2199.27 189.575 2200.2 189.833 Q2201.14 190.067 2201.94 190.84 Q2202.76 191.59 2202.76 192.737 Z\" fill=\"#000000\" fill-rule=\"nonzero\" fill-opacity=\"1\" /><path clip-path=\"url(#clip860)\" d=\"M2207.37 222.296 Q2207.37 222.062 2207.98 221.477 Q2215.71 213.607 2215.71 198.78 Q2215.71 183.907 2208.28 176.388 Q2207.37 175.522 2207.37 175.264 Q2207.37 174.796 2207.84 174.796 Q2208.17 174.796 2209.31 175.756 Q2210.48 176.716 2212.24 178.918 Q2214.02 181.12 2215.33 183.813 Q2218.49 190.348 2218.49 198.78 Q2218.49 206.884 2215.47 213.419 Q2214.19 216.16 2212.38 218.455 Q2210.58 220.751 2209.38 221.758 Q2208.19 222.765 2207.84 222.765 Q2207.37 222.765 2207.37 222.296 Z\" fill=\"#000000\" fill-rule=\"nonzero\" fill-opacity=\"1\" /></svg>\n"
      ]
     },
     "execution_count": 21,
     "metadata": {},
     "output_type": "execute_result"
    }
   ],
   "source": [
    "N = 9\n",
    "x = range(-1.0, 1.0, length = N+1)\n",
    "y = g.(x)\n",
    "A_9 = [x_i^n for x_i in x, n in 0:N]\n",
    "c_9 = A_9 \\ y\n",
    "\n",
    "# use the coefficients to evaluate on x_display grid\n",
    "B_9 = [x_i^n for x_i in x_display, n in 0:N]   # calculate monomials for display grid\n",
    "y_9 = B_9 * c_9  # calculates for each in x_display_grid\n",
    "plot(x_display, y_9, label = L\"P_9(x)\")\n",
    "plot!(x_display, y_display, w = 3, label = L\"g(x)\")"
   ]
  },
  {
   "cell_type": "markdown",
   "id": "3fdd5d8c",
   "metadata": {},
   "source": [
    "While the approximation is better near `x=0`, the oscillations near the boundaries have become worse.  Adding on extra polynomial terms will not\n",
    "globally increase the quality of the approximation.\n",
    "\n",
    "```{admonition} Using an Orthogonal Polynomial Basis\n",
    "We can minimize the numerical problems of an ill-conditioned basis matrix by choosing a different basis for the polynomials.\n",
    "\n",
    "For example, [Chebyshev polynomials](https://en.wikipedia.org/wiki/Chebyshev_polynomials) form an orthonormal basis under an appropriate inner product, and we can form precise high-order approximations, with very little numerical error.  Besides the use of a different polynomial basis, we are approximating at different nodes (i.e., [Chebyshev nodes](https://en.wikipedia.org/wiki/Chebyshev_nodes)).  Interpolation with Chebyshev polynomials at the Chebyshev nodes ends up minimizing (but not eliminating) Runge's Phenomenon.\n",
    "```\n",
    "\n",
    "#### Lessons for Approximation and Interpolation\n",
    "\n",
    "To summarize:\n",
    "\n",
    "1. Check the condition number on systems you suspect might be ill-conditioned (based on intuition of collinearity).\n",
    "1. If you are working with ill-conditioned matrices, be especially careful not to take the inverse or multiply by the transpose.\n",
    "1. Avoid a monomial polynomial basis.  Instead, use polynomials (e.g., Chebyshev or Lagrange) orthogonal under an appropriate inner product, or use a non-global basis such as cubic splines.\n",
    "1. If possible, avoid using a uniform grid for interpolation and approximation, and choose nodes appropriate for the basis.\n",
    "\n",
    "However, sometimes you can't avoid ill-conditioned matrices. This is especially common with discretization of PDEs and with linear least squares.\n",
    "\n",
    "## Stationary Iterative Algorithms for Linear Systems\n",
    "\n",
    "As before, consider solving the equation\n",
    "\n",
    "$$\n",
    "A x = b\n",
    "$$\n",
    "\n",
    "We will now\n",
    "focus on cases where $A$ is both massive (e.g., potentially millions of equations) and sparse, and sometimes ill-conditioned - but where there is always a unique solution.\n",
    "\n",
    "While this may seem excessive, it occurs in practice due to the curse of dimensionality, discretizations\n",
    "of PDEs, and when working with big data.\n",
    "\n",
    "The methods in the previous lectures (e.g., factorization and approaches similar to Gaussian elimination) are called direct methods, and are able\n",
    "in theory to converge to the exact solution in a finite number of steps while directly working with the matrix in memory.\n",
    "\n",
    "Instead, iterative solutions start with a guess on a solution and iterate until convergence.  The benefit will be that\n",
    "each iteration uses a lower-order operation (e.g., an $O(N^2)$ matrix-vector product) which will make it possible to\n",
    "\n",
    "1. solve much larger systems, even if done less precisely.\n",
    "1. define linear operators in terms of the matrix-vector products, rather than storing as a matrix.\n",
    "1. get approximate solutions in progress prior to the completion of all algorithm steps, unlike the direct methods, which provide a solution only at the end.\n",
    "\n",
    "Of course, there is no free lunch, and the computational order of the iterations themselves would be comparable to the direct methods for a given level of tolerance (e.g., $O(N^3)$ operations may be required to solve a dense unstructured system).\n",
    "\n",
    "There are two types of iterative methods we will consider.  The first type is stationary methods, which iterate on a map in a way that's similar to fixed-point problems, and the second type is [Krylov](https://en.wikipedia.org/wiki/Krylov_subspace) methods, which iteratively solve using left-multiplications of the linear operator.\n",
    "\n",
    "For our main examples, we will use the valuation of the continuous-time Markov chain from the {doc}`numerical methods for linear algebra <numerical_linear_algebra>` lecture.  That is, given a payoff vector $r$, a\n",
    "discount rate $\\rho$, and the infinitesimal generator of the Markov chain $Q$, solve the equation\n",
    "\n",
    "$$\n",
    "\\rho v = r + Q v\n",
    "$$\n",
    "\n",
    "With the sizes and types of matrices here, iterative methods are inappropriate in practice, but they will help us understand\n",
    "the characteristics of convergence and how they relate to matrix conditioning.\n",
    "\n",
    "### Stationary Methods\n",
    "\n",
    "First, we will solve with a direct method, which will give the solution to machine precision."
   ]
  },
  {
   "cell_type": "code",
   "execution_count": 22,
   "id": "5cd9b540",
   "metadata": {},
   "outputs": [
    {
     "data": {
      "text/plain": [
       "100.00000000000004"
      ]
     },
     "execution_count": 22,
     "metadata": {},
     "output_type": "execute_result"
    }
   ],
   "source": [
    "using LinearAlgebra, IterativeSolvers, Statistics\n",
    "α = 0.1\n",
    "N = 100\n",
    "Q = Tridiagonal(fill(α, N-1), [-α; fill(-2α, N-2); -α], fill(α, N-1))\n",
    "\n",
    "r = range(0.0, 10.0, length=N)\n",
    "ρ = 0.05\n",
    "\n",
    "A = ρ * I - Q\n",
    "v_direct = A \\ r\n",
    "mean(v_direct)"
   ]
  },
  {
   "cell_type": "markdown",
   "id": "5337d70b",
   "metadata": {},
   "source": [
    "Without proof, consider that given the discount rate of $\\rho > 0$, this problem could be set up as a contraction for solving the Bellman\n",
    "equation through methods such as value-function iteration.\n",
    "\n",
    "The condition we will examine here is called [**diagonal dominance**](https://en.wikipedia.org/wiki/Diagonally_dominant_matrix).\n",
    "\n",
    "$$\n",
    "|A_{ii}| \\geq \\sum_{j\\neq i} |A_{ij}| \\quad\\text{for all } i = 1\\ldots N\n",
    "$$\n",
    "\n",
    "That is, in every row, the diagonal element is weakly greater in absolute value than the sum of all of the other elements in the row.  In cases\n",
    "where it is strictly greater, we say that the matrix is strictly diagonally dominant.\n",
    "\n",
    "With our example, given that $Q$ is the infinitesimal generator of a Markov chain, we know that each row sums to 0, and hence\n",
    "it is weakly diagonally dominant.\n",
    "\n",
    "However, notice that when $\\rho > 0$, and since the diagonal of $Q$ is negative,  $A = ρ I - Q$ makes the matrix strictly diagonally dominant.\n",
    "\n",
    "### Jacobi Iteration\n",
    "\n",
    "For matrices that are **strictly diagonally dominant**, you can prove that a simple decomposition and iteration procedure\n",
    "will converge.\n",
    "\n",
    "To solve a system $A x = b$, split the matrix $A$ into its diagonal and off-diagonal elements.  That is,\n",
    "\n",
    "$$\n",
    "A = D + R\n",
    "$$\n",
    "\n",
    "where\n",
    "\n",
    "$$\n",
    "D = \\begin{bmatrix} A_{11} & 0 & \\ldots & 0\\\\\n",
    "                    0    & A_{22} & \\ldots & 0\\\\\n",
    "                    \\vdots & \\vdots & \\vdots & \\vdots\\\\\n",
    "                    0 & 0 &  \\ldots & A_{NN}\n",
    "    \\end{bmatrix}\n",
    "$$\n",
    "\n",
    "and\n",
    "\n",
    "$$\n",
    "R = \\begin{bmatrix} 0 & A_{12}  & \\ldots & A_{1N} \\\\\n",
    "                    A_{21}    & 0 & \\ldots & A_{2N} \\\\\n",
    "                    \\vdots & \\vdots & \\vdots & \\vdots\\\\\n",
    "                    A_{N1}  & A_{N2}  &  \\ldots & 0\n",
    "    \\end{bmatrix}\n",
    "$$\n",
    "\n",
    "Rearrange the $(D + R)x = b$ as\n",
    "\n",
    "$$\n",
    "\\begin{aligned}\n",
    "D x &= b - R x\\\\\n",
    "x &= D^{-1} (b - R x)\n",
    "\\end{aligned}\n",
    "$$\n",
    "\n",
    "where, since $D$ is diagonal, its inverse is trivial to calculate with $O(N)$ complexity.\n",
    "\n",
    "To solve, take an iteration $x^k$, starting from $x^0$, and then form a new guess with\n",
    "\n",
    "$$\n",
    "x^{k+1} = D^{-1}(b - R x^k)\n",
    "$$\n",
    "\n",
    "The complexity here is $O(N^2)$ for the matrix-vector product, and $O(N)$ for the vector subtraction and division.\n",
    "\n",
    "The package [IterativeSolvers.jl](https://github.com/JuliaMath/IterativeSolvers.jl) package implements this method.\n",
    "\n",
    "For our example, we start with a guess and solve for the value function and iterate"
   ]
  },
  {
   "cell_type": "code",
   "execution_count": 23,
   "id": "ef6a4644",
   "metadata": {},
   "outputs": [
    {
     "name": "stdout",
     "output_type": "stream",
     "text": [
      "norm(v - v_direct, Inf) = 0.022858373200932647\n"
     ]
    },
    {
     "data": {
      "text/plain": [
       "0.022858373200932647"
      ]
     },
     "execution_count": 23,
     "metadata": {},
     "output_type": "execute_result"
    }
   ],
   "source": [
    "using IterativeSolvers, LinearAlgebra, SparseArrays\n",
    "v = zeros(N)\n",
    "jacobi!(v, A, r, maxiter = 40)\n",
    "@show norm(v - v_direct, Inf)"
   ]
  },
  {
   "cell_type": "markdown",
   "id": "45d6dc57",
   "metadata": {},
   "source": [
    "With this, after 40 iterations we see that the error is in the order of `1E-2`\n",
    "\n",
    "### Other Stationary Methods\n",
    "\n",
    "In practice, there are many methods that are better than Jacobi iteration. For example [Gauss-Siedel](https://en.wikipedia.org/wiki/Gauss%E2%80%93Seidel_method)., which\n",
    "splits the matrix $A = L + U$ into a lower-triangular matrix $L$ and an upper-triangular matrix $U$ without the diagonal.\n",
    "\n",
    "The iteration becomes\n",
    "\n",
    "$$\n",
    "L x^{k+1} = b - U x^k\n",
    "$$\n",
    "\n",
    "In that case, since the $L$ matrix is triangular, the system can be solved in $O(N^2)$ operations after $b - U x^k$ is formed"
   ]
  },
  {
   "cell_type": "code",
   "execution_count": 24,
   "id": "9ec3439f",
   "metadata": {},
   "outputs": [
    {
     "name": "stdout",
     "output_type": "stream",
     "text": [
      "norm(v - v_direct, Inf) = 1.5616376089155892e-5\n"
     ]
    }
   ],
   "source": [
    "v = zeros(N)\n",
    "gauss_seidel!(v, A, r, maxiter = 40)\n",
    "@show norm(v - v_direct, Inf);"
   ]
  },
  {
   "cell_type": "markdown",
   "id": "99d6827c",
   "metadata": {},
   "source": [
    "The accuracy increases substantially. After 40 iterations, we see that the error is of the order of `1E-5`\n",
    "\n",
    "Another example is [Successive Over-relaxation (SOR)](https://en.wikipedia.org/wiki/Successive_over-relaxation), which takes a relaxation parameter $\\omega > 1$ and decomposes the matrix as $A = L + D + U$, where $L, U$ are strictly upper- and lower-diagonal matrices and $D$ is diagonal.\n",
    "\n",
    "Decompose the $A$ matrix, multiply the system by $\\omega$, and rearrange to find\n",
    "\n",
    "$$\n",
    "(D + \\omega L) x^{k+1} = \\omega b - \\left(\\omega U +(\\omega - 1)D \\right)x^k\n",
    "$$\n",
    "\n",
    "In that case, $D + \\omega L$ is a triangular matrix, and hence the linear solution is $O(N^2)$."
   ]
  },
  {
   "cell_type": "code",
   "execution_count": 25,
   "id": "f7137534",
   "metadata": {},
   "outputs": [
    {
     "name": "stdout",
     "output_type": "stream",
     "text": [
      "norm(v - v_direct, Inf) = 3.745356593753968e-7\n"
     ]
    }
   ],
   "source": [
    "v = zeros(N)\n",
    "sor!(v, A, r, 1.1, maxiter = 40)\n",
    "@show norm(v - v_direct, Inf);"
   ]
  },
  {
   "cell_type": "markdown",
   "id": "2307253a",
   "metadata": {},
   "source": [
    "The accuracy is now `1E-7`.  If we change the parameter to $\\omega = 1.2$, the accuracy further increases to `1E-9`.\n",
    "\n",
    "This technique is common with iterative methods:  Frequently, adding a damping or a relaxation parameter will counterintuitively speed up the convergence process.\n",
    "\n",
    "**Note:** The stationary iterative methods are not always used directly, but are sometimes used as a \"smoothing\" step (e.g., running 5-10 times) prior to using other Krylov methods.\n",
    "\n",
    "## Krylov Methods\n",
    "\n",
    "A more commonly used set of iterative methods is based on [Krylov subspaces](https://en.wikipedia.org/wiki/Krylov_subspace), which involve iterating the $A^k x$ matrix-vector product, and orthogonalizing to ensure that the resulting iteration is not too collinear.\n",
    "\n",
    "The prototypical Krylov method is [Conjugate Gradient](https://en.wikipedia.org/wiki/Conjugate_gradient_method), which requires the $A$ matrix to be\n",
    "symmetric and positive definite.\n",
    "\n",
    "Solving an example:"
   ]
  },
  {
   "cell_type": "code",
   "execution_count": 26,
   "id": "71857f6e",
   "metadata": {},
   "outputs": [
    {
     "name": "stdout",
     "output_type": "stream",
     "text": [
      "isposdef(A) = true\n"
     ]
    },
    {
     "data": {
      "text/plain": [
       "2.415564033729516e10"
      ]
     },
     "execution_count": 26,
     "metadata": {},
     "output_type": "execute_result"
    }
   ],
   "source": [
    "N = 100\n",
    "A = sprand(100, 100, 0.1)   # 10 percent non-zeros\n",
    "A = A * A'  # easy way to generate a symmetric positive-definite matrix\n",
    "@show isposdef(A)\n",
    "b = rand(N)\n",
    "x_direct = A \\ b  # sparse direct solver more appropriate here\n",
    "cond(Matrix(A * A'))"
   ]
  },
  {
   "cell_type": "markdown",
   "id": "28336939",
   "metadata": {},
   "source": [
    "Notice that the condition numbers tend to be large for large random matrices.\n",
    "\n",
    "Solving this system with the conjugate gradient method:"
   ]
  },
  {
   "cell_type": "code",
   "execution_count": 27,
   "id": "c91161b2",
   "metadata": {},
   "outputs": [
    {
     "data": {
      "text/plain": [
       "Converged after 177 iterations."
      ]
     },
     "execution_count": 27,
     "metadata": {},
     "output_type": "execute_result"
    }
   ],
   "source": [
    "x = zeros(N)\n",
    "sol = cg!(x, A, b, log=true, maxiter = 1000)\n",
    "sol[end]"
   ]
  },
  {
   "cell_type": "markdown",
   "id": "d45a2219",
   "metadata": {},
   "source": [
    "### Introduction to Preconditioning\n",
    "\n",
    "If you tell a numerical analyst that you are using direct methods, their first question may be, “which factorization?” But if you tell them you\n",
    "are using an iterative method, they may ask \"which preconditioner?\".\n",
    "\n",
    "As discussed at the beginning of the lecture, the spectral properties of matrices determine the rate of convergence\n",
    "of iterative methods. In particular, ill-conditioned matrices can converge slowly with iterative methods, for the same\n",
    "reasons that naive value-function iteration will converge slowly if the discount rate is close to `1`.\n",
    "\n",
    "Preconditioning solves this problem by adjusting the spectral properties of the matrix, at the cost of some extra computational\n",
    "operations.\n",
    "\n",
    "To see an example of a right-preconditioner, consider a matrix $P$ which has a convenient and numerically stable inverse.  Then\n",
    "\n",
    "$$\n",
    "\\begin{aligned}\n",
    "A x &= b\\\\\n",
    "A P^{-1} P x &= b\\\\\n",
    "A P^{-1} y &= b\\\\\n",
    "P x &= y\n",
    "\\end{aligned}\n",
    "$$\n",
    "\n",
    "That is, solve $(A P^{-1})y = b$ for $y$, and then solve $P x = y$ for $x$.\n",
    "\n",
    "There are all sorts of preconditioners, and they are specific to the particular problem at hand. The key features are that they have convenient (and lower-order!) ways to solve the\n",
    "resulting system and they lower the condition number of the matrix.  To see this in action, we can look at a simple preconditioner.\n",
    "\n",
    "The diagonal precondition is simply `P = Diagonal(A)`.  Depending on the matrix, this can change the condition number a little or a lot."
   ]
  },
  {
   "cell_type": "code",
   "execution_count": 28,
   "id": "57abf3f6",
   "metadata": {},
   "outputs": [
    {
     "name": "stdout",
     "output_type": "stream",
     "text": [
      "cond(Matrix(A)) = 155420.85528812296\n",
      "cond(Matrix(AP)) = 152625.01706349966\n"
     ]
    }
   ],
   "source": [
    "AP = A * inv(Diagonal(A))\n",
    "@show cond(Matrix(A))\n",
    "@show cond(Matrix(AP));"
   ]
  },
  {
   "cell_type": "markdown",
   "id": "33ed6fec",
   "metadata": {},
   "source": [
    "But it may or may not decrease the number of iterations"
   ]
  },
  {
   "cell_type": "code",
   "execution_count": 29,
   "id": "7b4269b8",
   "metadata": {},
   "outputs": [
    {
     "data": {
      "text/plain": [
       "Converged after 177 iterations."
      ]
     },
     "execution_count": 29,
     "metadata": {},
     "output_type": "execute_result"
    }
   ],
   "source": [
    "using Preconditioners\n",
    "x = zeros(N)\n",
    "P = DiagonalPreconditioner(A)\n",
    "sol = cg!(x, A, b, log=true, maxiter = 1000)\n",
    "sol[end]"
   ]
  },
  {
   "cell_type": "markdown",
   "id": "045ed17c",
   "metadata": {},
   "source": [
    "Another classic preconditioner is the incomplete LU decomposition"
   ]
  },
  {
   "cell_type": "code",
   "execution_count": 30,
   "id": "023ec73c",
   "metadata": {},
   "outputs": [
    {
     "data": {
      "text/plain": [
       "Converged after 91 iterations."
      ]
     },
     "execution_count": 30,
     "metadata": {},
     "output_type": "execute_result"
    }
   ],
   "source": [
    "using IncompleteLU\n",
    "x = zeros(N)\n",
    "P = ilu(A, τ = 0.1)\n",
    "sol = cg!(x, A, b, Pl = P, log=true, maxiter = 1000)\n",
    "sol[end]"
   ]
  },
  {
   "cell_type": "markdown",
   "id": "731d1485",
   "metadata": {},
   "source": [
    "The `τ` parameter determines the degree of the LU decomposition to conduct, providing a tradeoff between preconditioner and solve speed.\n",
    "\n",
    "A good rule of thumb is that you should almost always be using a preconditioner with iterative methods, and you should experiment to find preconditioners that are appropriate for your problem.\n",
    "\n",
    "Finally, naively trying another preconditioning approach (called [Algebraic Multigrid](https://en.wikipedia.org/wiki/Multigrid_method#Algebraic_MultiGrid_%28AMG%29)) gives us a further drop in the number of iterations."
   ]
  },
  {
   "cell_type": "code",
   "execution_count": 31,
   "id": "f8daa15b",
   "metadata": {},
   "outputs": [
    {
     "data": {
      "text/plain": [
       "Converged after 59 iterations."
      ]
     },
     "execution_count": 31,
     "metadata": {},
     "output_type": "execute_result"
    }
   ],
   "source": [
    "x = zeros(N)\n",
    "P = AMGPreconditioner{RugeStuben}(A)\n",
    "sol = cg!(x, A, b, Pl = P, log=true, maxiter = 1000)\n",
    "sol[end]"
   ]
  },
  {
   "cell_type": "markdown",
   "id": "e3e7c28e",
   "metadata": {},
   "source": [
    "*Note:* Preconditioning is also available for stationary, iterative methods (see [this example](https://en.wikipedia.org/wiki/Preconditioner#Preconditioned_iterative_methods)), but\n",
    "is frequently not implemented since such methods are not often used for the complete solution.\n",
    "\n",
    "### Methods for General Matrices\n",
    "\n",
    "There are many algorithms which exploit matrix structure (e.g., the conjugate gradient method for positive-definite matrices, and  MINRES for matrices that are only symmetric/Hermitian).\n",
    "\n",
    "On the other hand, if there is no structure to a sparse matrix, then GMRES is a good approach.\n",
    "\n",
    "To experiment with these methods, we will use our ill-conditioned interpolation problem with a monomial basis."
   ]
  },
  {
   "cell_type": "code",
   "execution_count": 32,
   "id": "c67ced1e",
   "metadata": {},
   "outputs": [
    {
     "name": "stdout",
     "output_type": "stream",
     "text": [
      "cond(A) = 4.462824600195809e12, Converged after 11 iterations. Norm error 1.2188684195280075e-7\n"
     ]
    }
   ],
   "source": [
    "using IterativeSolvers\n",
    "\n",
    "N = 10\n",
    "f(x) = exp(x)\n",
    "x = range(0.0, 10.0, length = N+1)\n",
    "y = f.(x)  # generate some data to interpolate\n",
    "A = sparse([x_i^n for x_i in x, n in 0:N])\n",
    "c = zeros(N+1)  # initial guess required for iterative solutions\n",
    "results = gmres!(c, A, y, log=true, maxiter = 1000)\n",
    "println(\"cond(A) = $(cond(Matrix(A))), $(results[end]) Norm error $(norm(A*c - y, Inf))\")"
   ]
  },
  {
   "cell_type": "markdown",
   "id": "aaa90fd4",
   "metadata": {},
   "source": [
    "That method converged in 11 iterations.  Now if we try it with an incomplete LU preconditioner, we see that it converges immediately."
   ]
  },
  {
   "cell_type": "code",
   "execution_count": 33,
   "id": "85a3ba79",
   "metadata": {},
   "outputs": [
    {
     "name": "stdout",
     "output_type": "stream",
     "text": [
      "Converged after 1 iterations. Norm error 4.854518920183182e-8\n"
     ]
    }
   ],
   "source": [
    "N = 10\n",
    "f(x) = exp(x)\n",
    "x = range(0.0, 10.0, length = N+1)\n",
    "y = f.(x)  # generate some data to interpolate\n",
    "A = [x_i^n for x_i in x, n in 0:N]\n",
    "P = ilu(sparse(A), τ = 0.1)\n",
    "c = zeros(N+1)  # initial guess required for iterative solutions\n",
    "results = gmres!(c, A, y, Pl = P,log=true, maxiter = 1000)\n",
    "println(\"$(results[end]) Norm error $(norm(A*c - y, Inf))\")"
   ]
  },
  {
   "cell_type": "markdown",
   "id": "3ffe8ba6",
   "metadata": {},
   "source": [
    "With other preconditioners (e.g., `DiagonalPreconditioner`), we may save only one or two iterations.  Keep in mind,\n",
    "however, to consider the cost of the preconditioning process in your problem.\n",
    "\n",
    "### Matrix-Free Methods\n",
    "\n",
    "First, lets use a Krylov method to solve our simple valuation problem"
   ]
  },
  {
   "cell_type": "code",
   "execution_count": 34,
   "id": "28a72906",
   "metadata": {},
   "outputs": [
    {
     "name": "stdout",
     "output_type": "stream",
     "text": [
      "Converged after 20 iterations.\n"
     ]
    }
   ],
   "source": [
    "α = 0.1\n",
    "N = 100\n",
    "Q = Tridiagonal(fill(α, N-1), [-α; fill(-2α, N-2); -α], fill(α, N-1))\n",
    "\n",
    "r = range(0.0, 10.0, length=N)\n",
    "ρ = 0.05\n",
    "\n",
    "A = ρ * I - Q\n",
    "v = zeros(N)\n",
    "results = gmres!(v, A, r, log=true)\n",
    "v_sol = results[1]\n",
    "println(\"$(results[end])\")"
   ]
  },
  {
   "cell_type": "markdown",
   "id": "9f48edf1",
   "metadata": {},
   "source": [
    "While the `A` matrix was important to be kept in memory for direct methods, Krylov methods such as GMRES are built on matrix-vector products, i.e., $A x$ for iterations on the $x$.\n",
    "\n",
    "This product can be written directly for a given $x$,\n",
    "\n",
    "$$\n",
    "A x = \\begin{bmatrix} (\\rho + \\alpha) x_1 - \\alpha x_2\\\\\n",
    "                    - \\alpha x_1 + (\\rho + 2 \\alpha) x_2 - \\alpha x_3\\\\\n",
    "                    \\vdots\\\\\n",
    "                    - \\alpha x_{N-2} + (\\rho + 2 \\alpha) x_{N-1} - \\alpha x_{N}\\\\\n",
    "                    - \\alpha x_{N-1} + (\\rho + \\alpha) x_N\n",
    "    \\end{bmatrix}\n",
    "$$\n",
    "\n",
    "This can be implemented as a function (either in-place or out-of-place) which calculates $y = A x$"
   ]
  },
  {
   "cell_type": "code",
   "execution_count": 35,
   "id": "f966e777",
   "metadata": {},
   "outputs": [
    {
     "name": "stdout",
     "output_type": "stream",
     "text": [
      "norm(A * x - A_mul(x)) = 0.0\n"
     ]
    },
    {
     "data": {
      "text/plain": [
       "0.0"
      ]
     },
     "execution_count": 35,
     "metadata": {},
     "output_type": "execute_result"
    }
   ],
   "source": [
    "A_mul(x) = [ (ρ + α) * x[1] - α * x[2];\n",
    "             [-α * x[i-1] + (ρ + 2*α) * x[i] - α * x[i+1] for i in 2:N-1];  # comprehension\n",
    "             - α * x[end-1] + (ρ + α) * x[end]]\n",
    "\n",
    "x = rand(N)\n",
    "@show norm(A * x - A_mul(x))  # compare to matrix;"
   ]
  },
  {
   "cell_type": "markdown",
   "id": "22b25ff6",
   "metadata": {},
   "source": [
    "The final line verifies that the `A_mul` function provides the same result as the matrix multiplication with our original `A` for a random vector.\n",
    "\n",
    "In abstract mathematics, a finite-dimensional [linear operator](https://en.wikipedia.org/wiki/Linear_map) is a mapping $A : R^N \\to R^N$\n",
    "that satisfies a number of criteria such as $A (c_1 x_1 + c_2 x_2) = c_1 A x_1 + c_2 A x_2$ for scalars $c_i$ and vectors $x_i$.\n",
    "\n",
    "Moving from abstract mathematics to {doc}`generic programming <../more_julia/generic_programming>`, we can think of a linear operator\n",
    "as a map that satisfies a number of requirements (e.g., it has a left-multiply to apply the map `*`, an in-place left-multiply `mul!`, an associated `size`).  A Julia matrix\n",
    "is just one possible implementation of the abstract concept of a linear operator.\n",
    "\n",
    "Convenience wrappers can provide some of the boilerplate which turns the `A_mul` function into something that behaves like a matrix.  One\n",
    "package is [LinearMaps.jl](https://github.com/Jutho/LinearMaps.jl) and another is [LinearOperators.jl](https://github.com/JuliaSmoothOptimizers/LinearOperators.jl)"
   ]
  },
  {
   "cell_type": "code",
   "execution_count": 36,
   "id": "51a3a32b",
   "metadata": {},
   "outputs": [
    {
     "data": {
      "text/plain": [
       "100×100 FunctionMap{Float64,false}(A_mul; issymmetric=false, ishermitian=false, isposdef=false)"
      ]
     },
     "execution_count": 36,
     "metadata": {},
     "output_type": "execute_result"
    }
   ],
   "source": [
    "using LinearMaps\n",
    "A_map = LinearMap(A_mul, N)  # map uses the A_mul function"
   ]
  },
  {
   "cell_type": "markdown",
   "id": "7b4267d2",
   "metadata": {},
   "source": [
    "Now, with the `A_map` object, we can fulfill many of the operations we would expect from a matrix"
   ]
  },
  {
   "cell_type": "code",
   "execution_count": 37,
   "id": "24355d37",
   "metadata": {},
   "outputs": [
    {
     "name": "stdout",
     "output_type": "stream",
     "text": [
      "norm(A_map * x - A * x) = 0.0\n",
      "norm(y - A * x) = 0.0\n",
      "size(A_map) = (100, 100)\n",
      "norm(Matrix(A_map) - A) = "
     ]
    },
    {
     "name": "stdout",
     "output_type": "stream",
     "text": [
      "0.0\n"
     ]
    },
    {
     "name": "stdout",
     "output_type": "stream",
     "text": [
      "nnz(sparse(A_map)) = 298\n"
     ]
    }
   ],
   "source": [
    "x = rand(N)\n",
    "@show norm(A_map * x  - A * x)\n",
    "y = similar(x)\n",
    "mul!(y, A_map, x) # in-place multiplication\n",
    "@show norm(y - A * x)\n",
    "@show size(A_map)\n",
    "@show norm(Matrix(A_map) - A)\n",
    "@show nnz(sparse(A_map));"
   ]
  },
  {
   "cell_type": "markdown",
   "id": "fd3bf13d",
   "metadata": {},
   "source": [
    "**Note:**  In the case of `sparse(A_map)` and `Matrix(A_map)`, the code is using the left-multiplication operator with `N` standard basis vectors to construct\n",
    "the full matrix.  This should be used only for testing purposes.\n",
    "\n",
    "But notice that as the linear operator does not have indexing operations, it is not an array or a matrix."
   ]
  },
  {
   "cell_type": "code",
   "execution_count": 38,
   "id": "edf6846e",
   "metadata": {},
   "outputs": [
    {
     "data": {
      "text/plain": [
       "false"
      ]
     },
     "execution_count": 38,
     "metadata": {},
     "output_type": "execute_result"
    }
   ],
   "source": [
    "typeof(A_map) <: AbstractArray"
   ]
  },
  {
   "cell_type": "markdown",
   "id": "c3ae11e6",
   "metadata": {},
   "source": [
    "As long as algorithms using linear operators are written generically (e.g., using the matrix-vector `*` or `mul!` functionss) and the types of functions are not\n",
    "unnecessarily constrained to be `Matrix` or `AbstractArray` when it isn't strictly necessary, then the `A_map` type can work in places which would otherwise require a matrix.\n",
    "\n",
    "For example, the Krylov methods in `IterativeSolvers.jl` are written for generic left-multiplication"
   ]
  },
  {
   "cell_type": "code",
   "execution_count": 39,
   "id": "5cc14548",
   "metadata": {},
   "outputs": [
    {
     "name": "stdout",
     "output_type": "stream",
     "text": [
      "Converged after 20 iterations.\n"
     ]
    }
   ],
   "source": [
    "results = gmres(A_map, r, log = true)  # Krylov method using the matrix-free type\n",
    "println(\"$(results[end])\")"
   ]
  },
  {
   "cell_type": "markdown",
   "id": "7fd19b8d",
   "metadata": {},
   "source": [
    "These methods are typically not competitive with sparse, direct methods unless the problems become very large.  In that case,\n",
    "we often want to work with pre-allocated vectors.  Instead of using `y = A * x` for matrix-vector products,\n",
    "we would use the in-place `mul!(y, A, x)` function.  The wrappers for linear operators all support in-place non-allocating versions for this purpose."
   ]
  },
  {
   "cell_type": "code",
   "execution_count": 40,
   "id": "9653b953",
   "metadata": {},
   "outputs": [
    {
     "name": "stdout",
     "output_type": "stream",
     "text": [
      "norm(A_map_2 * v - A * v) = 0.0\n",
      "Converged after 20 iterations."
     ]
    },
    {
     "name": "stdout",
     "output_type": "stream",
     "text": [
      "\n"
     ]
    }
   ],
   "source": [
    "function A_mul!(y, x)  # in-place version\n",
    "    y[1] = (ρ + α) * x[1] - α * x[2]\n",
    "    for i in 2:N-1\n",
    "        y[i] = -α * x[i-1] + (ρ + 2α) * x[i] -α * x[i+1]\n",
    "    end\n",
    "    y[end] = - α * x[end-1] + (ρ + α) * x[end]\n",
    "    return y\n",
    "end\n",
    "A_map_2 = LinearMap(A_mul!, N, ismutating = true)  # ismutating == in-place\n",
    "\n",
    "v = zeros(N)\n",
    "@show norm(A_map_2 * v - A * v)  # can still call with * and have it allocate\n",
    "results = gmres!(v, A_map_2, r, log=true)  # in-place gmres\n",
    "println(\"$(results[end])\")"
   ]
  },
  {
   "cell_type": "markdown",
   "id": "00c148e0",
   "metadata": {},
   "source": [
    "Finally, keep in mind that the linear operators can compose, so that $A (c_1 x) + B (c_2 x) + x  = (c_1 A + c_2 B + I) x$ is well defined for any linear operators - just as\n",
    "it would be for matrices $A, B$ and scalars $c_1, c_2$.\n",
    "\n",
    "For example, take $2 A x + x = (2 A + I) x \\equiv B x$ as a new linear map,"
   ]
  },
  {
   "cell_type": "code",
   "execution_count": 41,
   "id": "dddda4d7",
   "metadata": {},
   "outputs": [
    {
     "data": {
      "text/plain": [
       "LinearMaps.LinearCombination{Float64, Tuple{LinearMaps.ScaledMap{Float64, Float64, FunctionMap{Float64, typeof(A_mul), Nothing, false}}, LinearMaps.UniformScalingMap{Bool}}}"
      ]
     },
     "execution_count": 41,
     "metadata": {},
     "output_type": "execute_result"
    }
   ],
   "source": [
    "B = 2.0 * A_map  + I  # composite linear operator\n",
    "B * rand(N)  # left-multiply works with the composition\n",
    "typeof(B)"
   ]
  },
  {
   "cell_type": "markdown",
   "id": "75cf1fdb",
   "metadata": {},
   "source": [
    "The wrappers, such as `LinearMap` wrappers, make this composition possible by keeping the composition\n",
    "graph of the expression (i.e., `LinearCombination`) and implementing the left-multiply recursively using the rules of linearity.\n",
    "\n",
    "Another example is to solve the $\\rho v = r + Q v$ equation for $v$ with composition of matrix-free methods for $L$\n",
    "rather than by creating the full $A = \\rho - Q$ operator, which we implemented as `A_mul`"
   ]
  },
  {
   "cell_type": "code",
   "execution_count": 42,
   "id": "f0d34f89",
   "metadata": {},
   "outputs": [
    {
     "name": "stdout",
     "output_type": "stream",
     "text": [
      "norm(A - sparse(A_composed)) = 0.0\n"
     ]
    },
    {
     "data": {
      "text/plain": [
       "Converged after 20 iterations."
      ]
     },
     "execution_count": 42,
     "metadata": {},
     "output_type": "execute_result"
    }
   ],
   "source": [
    "Q_mul(x) = [ -α * x[1] +     α * x[2];\n",
    "            [α * x[i-1] - 2*α * x[i] + α*x[i+1] for i in 2:N-1];  # comprehension\n",
    "            α * x[end-1] - α * x[end];]\n",
    "Q_map = LinearMap(Q_mul, N)\n",
    "A_composed = ρ * I - Q_map   # map composition, performs no calculations\n",
    "@show norm(A - sparse(A_composed))  # test produces the same matrix\n",
    "gmres(A_composed, r, log=true)[2]"
   ]
  },
  {
   "cell_type": "markdown",
   "id": "e91f2a5c",
   "metadata": {},
   "source": [
    "In this example, the left-multiply of the `A_composed` used by `gmres` uses the left-multiply of `Q_map` and `I` with the rules\n",
    "of linearity.  The `A_composed = ρ * I - Q_map` operation simply creates the `LinearMaps.LinearCombination` type, and doesn't perform any calculations on its own.\n",
    "\n",
    "## Iterative Methods for Linear Least Squares\n",
    "\n",
    "In theory, the solution to the least-squares problem, $\\min_x \\| Ax -b \\|^2$, is simply the solution to the normal equations $(A'A) x  = A'b$.\n",
    "\n",
    "We saw, however, that in practice, direct methods use a QR decomposition - in part because an ill-conditioned matrix $A$ becomes even worse when $A' A$ is formed.\n",
    "\n",
    "For large problems, we can also consider Krylov methods for solving the linear least-squares problem.  One formulation is the [LSMR](https://stanford.edu/group/SOL/software/lsmr/LSMR-SISC-2011.pdf) algorithm,\n",
    "which can solve the regularized\n",
    "\n",
    "$$\n",
    "\\min_x \\| Ax -b \\|^2 + \\| \\lambda x\\|^2\n",
    "$$\n",
    "\n",
    "The purpose of the $\\lambda \\geq 0$ parameter is to dampen the iteration process and/or regularize the solution.  This isn't required, but can help convergence for ill-conditioned matrices $A$.  With the\n",
    "damping parameter, the normalized equations would become $(A'A + \\lambda^2 I) x  = A'b$.\n",
    "\n",
    "We can compare solving the least-squares problem with LSMR and direct methods"
   ]
  },
  {
   "cell_type": "code",
   "execution_count": 43,
   "id": "3b3e2a41",
   "metadata": {},
   "outputs": [
    {
     "name": "stdout",
     "output_type": "stream",
     "text": [
      "norm(β_direct - β_lsmr) = 3.6342338195947216e-6\n",
      "Converged after 16 iterations.\n"
     ]
    }
   ],
   "source": [
    "M = 1000\n",
    "N = 10000\n",
    "σ = 0.1\n",
    "β = rand(M)\n",
    "# simulate data\n",
    "X = sprand(N, M, 0.1)\n",
    "y = X * β + σ * randn(N)\n",
    "β_direct = X \\ y\n",
    "results = lsmr(X, y, log = true)\n",
    "β_lsmr = results[1]\n",
    "@show norm(β_direct - β_lsmr)\n",
    "println(\"$(results[end])\")"
   ]
  },
  {
   "cell_type": "markdown",
   "id": "75eff270",
   "metadata": {},
   "source": [
    "Note that rather than forming this version of the normal equations, the LSMR algorithm uses the $A x$ and $A' y$ (i.e., the matrix-vector product and the matrix-transpose vector product) to implement an iterative\n",
    "solution.  Unlike the previous versions, the left-multiply is insufficient since the least squares also deals with the transpose of the operator.  For this reason, in order to use\n",
    "matrix-free methods, we need to define the `A * x` and `transpose(A) * y` functions separately."
   ]
  },
  {
   "cell_type": "code",
   "execution_count": 44,
   "id": "ba5fa378",
   "metadata": {},
   "outputs": [
    {
     "name": "stdout",
     "output_type": "stream",
     "text": [
      "Converged after 16 iterations.\n"
     ]
    }
   ],
   "source": [
    "# Could implement as matrix-free functions.\n",
    "X_func(u) = X * u  # matrix-vector product\n",
    "X_T_func(v) = X' * v  # i.e., adjoint-vector product\n",
    "\n",
    "X_map = LinearMap(X_func, X_T_func, N, M)\n",
    "results = lsmr(X_map, y, log = true)\n",
    "println(\"$(results[end])\")"
   ]
  },
  {
   "cell_type": "markdown",
   "id": "802d99e7",
   "metadata": {},
   "source": [
    "## Iterative Methods for Eigensystems\n",
    "\n",
    "When you use `eigen` on a dense matrix, it calculates an eigendecomposition and provides all the eigenvalues and eigenvectors.\n",
    "\n",
    "While this is sometimes necessary, a spectral decomposition of a dense, unstructured matrix is one of the costliest $O(N^3)$ operations (i.e., it has\n",
    "one of the largest constants).  For large matrices, it is often infeasible.\n",
    "\n",
    "Luckily, we frequently need only a few eigenvectors/eigenvalues (in some cases just one), which enables a different set of algorithms.\n",
    "\n",
    "For example, in the case of a discrete-time Markov chain, in order to find the stationary distribution, we are looking for the\n",
    "eigenvector associated with the eigenvalue 1.  As usual, a little linear algebra goes a long way.\n",
    "\n",
    "From the [Perron-Frobenius theorem](https://en.wikipedia.org/wiki/Perron%E2%80%93Frobenius_theorem#Stochastic_matrices), the largest eigenvalue of an irreducible stochastic matrix is 1 - the same eigenvalue we are looking for.\n",
    "\n",
    "Iterative methods for solving eigensystems allow targeting the smallest magnitude, the largest magnitude, and many others.  The easiest library\n",
    "to use is [Arpack.jl](https://julialinearalgebra.github.io/Arpack.jl/latest/).\n",
    "\n",
    "As an example,"
   ]
  },
  {
   "cell_type": "code",
   "execution_count": 45,
   "id": "ab86e23a",
   "metadata": {},
   "outputs": [
    {
     "name": "stdout",
     "output_type": "stream",
     "text": [
      "λ = ComplexF64[0.9999999999999843 + 0.0im]\n",
      "mean(ϕ) = 0.001\n"
     ]
    }
   ],
   "source": [
    "using Arpack, LinearAlgebra\n",
    "N = 1000\n",
    "A = Tridiagonal([fill(0.1, N-2); 0.2], fill(0.8, N), [0.2; fill(0.1, N-2);])\n",
    "A_adjoint = A'\n",
    "\n",
    "# Find 1 of the largest magnitude eigenvalue\n",
    "λ, ϕ = eigs(A_adjoint, nev=1, which=:LM, maxiter=1000)\n",
    "ϕ = real(ϕ) ./ sum(real(ϕ))\n",
    "@show λ\n",
    "@show mean(ϕ);"
   ]
  },
  {
   "cell_type": "markdown",
   "id": "3375684e",
   "metadata": {},
   "source": [
    "Indeed, the `λ` is equal to `1`.  If we choose `nev = 2`, it will provide the eigenpairs with the two eigenvalues of largest absolute value.\n",
    "\n",
    "*Hint*: If you get errors using `Arpack`, increase the `maxiter` parameter for your problems.\n",
    "\n",
    "Iterative methods for eigensystems rely on matrix-vector products rather than decompositions, and are amenable to matrix-free approaches.  For example,\n",
    "take the Markov chain for a simple counting process:\n",
    "\n",
    "1. The count starts at $1$ and has a maximum of $N$.\n",
    "1. With probability $\\theta \\geq 0$, an existing count is lost with probability $\\zeta \\geq 0$ such that $\\theta + \\zeta \\leq 1$.\n",
    "1. If the count is at $1$, then the only transition is to add a count with probability $\\theta$.\n",
    "1. If the current count is $N$, then the only transition is to lose the count with probability $\\zeta$.\n",
    "\n",
    "First, finding the transition matrix $P$ and its adjoint directly as a check"
   ]
  },
  {
   "cell_type": "code",
   "execution_count": 46,
   "id": "69c1e3dd",
   "metadata": {},
   "outputs": [
    {
     "data": {
      "text/plain": [
       "5×5 Tridiagonal{Float64, Vector{Float64}}:\n",
       " 0.9  0.05   ⋅     ⋅     ⋅ \n",
       " 0.1  0.85  0.05   ⋅     ⋅ \n",
       "  ⋅   0.1   0.85  0.05   ⋅ \n",
       "  ⋅    ⋅    0.1   0.85  0.05\n",
       "  ⋅    ⋅     ⋅    0.1   0.95"
      ]
     },
     "execution_count": 46,
     "metadata": {},
     "output_type": "execute_result"
    }
   ],
   "source": [
    "θ = 0.1\n",
    "ζ = 0.05\n",
    "N = 5\n",
    "P = Tridiagonal(fill(ζ, N-1), [1-θ; fill(1-θ-ζ, N-2); 1-ζ], fill(θ, N-1))\n",
    "P'"
   ]
  },
  {
   "cell_type": "markdown",
   "id": "859e53c4",
   "metadata": {},
   "source": [
    "Implementing the adjoint-vector product directly, and verifying that it gives the same matrix as the adjoint"
   ]
  },
  {
   "cell_type": "code",
   "execution_count": 47,
   "id": "1ee4b996",
   "metadata": {},
   "outputs": [
    {
     "name": "stdout",
     "output_type": "stream",
     "text": [
      "norm(P' - sparse(P_adj_map)) = 0.0\n"
     ]
    },
    {
     "data": {
      "text/plain": [
       "0.0"
      ]
     },
     "execution_count": 47,
     "metadata": {},
     "output_type": "execute_result"
    }
   ],
   "source": [
    "P_adj_mul(x) = [ (1-θ) * x[1] + ζ * x[2];\n",
    "                [θ * x[i-1] + (1-θ-ζ) * x[i] + ζ * x[i+1] for i in 2:N-1];  # comprehension\n",
    "            θ * x[end-1] + (1-ζ) * x[end];]\n",
    "P_adj_map = LinearMap(P_adj_mul, N)\n",
    "@show norm(P' - sparse(P_adj_map))"
   ]
  },
  {
   "cell_type": "markdown",
   "id": "7cd02782",
   "metadata": {},
   "source": [
    "Finally, solving for the stationary distribution using the matrix-free method (which could be verified against the decomposition approach of $P'$)"
   ]
  },
  {
   "cell_type": "code",
   "execution_count": 48,
   "id": "fb64ba63",
   "metadata": {},
   "outputs": [
    {
     "name": "stdout",
     "output_type": "stream",
     "text": [
      "λ = ComplexF64[1.0000000000000009 + 0.0im]\n",
      "ϕ = [0.03225806451612729; 0.06451612903225819; 0.12903225806451885; 0.25806451612903414; 0.5161290322580615;;]\n"
     ]
    },
    {
     "data": {
      "text/plain": [
       "5×1 Matrix{Float64}:\n",
       " 0.03225806451612729\n",
       " 0.06451612903225819\n",
       " 0.12903225806451885\n",
       " 0.25806451612903414\n",
       " 0.5161290322580615"
      ]
     },
     "execution_count": 48,
     "metadata": {},
     "output_type": "execute_result"
    }
   ],
   "source": [
    "λ, ϕ = eigs(P_adj_map, nev=1, which=:LM, maxiter=1000)\n",
    "ϕ = real(ϕ) ./ sum(real(ϕ))\n",
    "@show λ\n",
    "@show ϕ"
   ]
  },
  {
   "cell_type": "markdown",
   "id": "5366af70",
   "metadata": {},
   "source": [
    "Of course, for a problem this simple, the direct eigendecomposition will be significantly faster.  Use matrix-free iterative methods only for large systems where\n",
    "you do not need all of the eigenvalues.\n",
    "\n",
    "## Krylov Methods for Markov-Chain Dynamics\n",
    "\n",
    "This example applies the methods in this lecture to a large continuous-time Markov chain, and provides some practice working with arrays of arbitrary dimensions.\n",
    "\n",
    "Consider a version of the Markov-chain dynamics in {cite}`Perla2019`, where a firm has a discrete number of customers of different types.  To keep things as simple as possible, assume that there are $m=1, \\ldots M$ types of customers and that the firm may have $n = 1, \\ldots N$ customers of each type.\n",
    "\n",
    "To set the notation, let $n_m \\in \\{1, \\ldots N\\}$ be the number of customers of type $m$, so that the state of a firm is $\\{n_1, \\ldots n_m \\ldots, n_M\\}$.  The cardinality of possible states is then $\\mathbf{N}\\equiv N^M$, which can blow up quickly as the number of types increases.\n",
    "\n",
    "The stochastic process is a simple counting/forgetting process, as follows:\n",
    "\n",
    "1. For every $1 \\leq n_m(t) < N$, there is a $\\theta$ intensity of arrival of a new customer, so that $n_m(t+\\Delta) = n_m(t) + 1$.\n",
    "1. For every $1 < n_m(t) \\leq N$, there is a $\\zeta$ intensity of losing a customer, so that $n_m(t+\\Delta) = n_m(t) - 1$.\n",
    "\n",
    "### Matrix-free Infinitesimal Generator\n",
    "\n",
    "In order to define an intensity matrix $Q$ of size $\\mathbf{N}\\times \\mathcal{N}$, we need to choose a consistent ordering of the states.  But\n",
    "before we enumerate them linearly, take a $v\\in R^{\\mathbf{N}}$ interpreted as a multidimensional array and look at the left product of the linear operator $Q v \\to R^{\\mathbf{N}}$.\n",
    "\n",
    "For example, if we were implementing the product at the row of $Q$ corresponding to the $(n_1, \\ldots, n_M)$ state, then\n",
    "\n",
    "$$\n",
    "\\begin{aligned}\n",
    "    Q_{(n_1, \\ldots n_M)} \\cdot v &=\n",
    "\\theta \\sum_{m=1}^M (n_m < N)  v(n_1, \\ldots, n_m + 1, \\ldots, n_M)\\\\\n",
    "                                        &+ \\zeta \\sum_{m=1}^M (1 < n_m)  v(n_1, \\ldots, n_m - 1, \\ldots, n_M)\\\\\n",
    "                                        &-\\left(\\theta\\, \\text{Count}(n_m < N) + \\zeta\\, \\text{Count}( n_m > 1)\\right)v(n_1, \\ldots, n_M)\n",
    "\\end{aligned}\n",
    "$$\n",
    "\n",
    "Here:\n",
    "\n",
    "- the first term includes all of the arrivals of new customers into the various $m$\n",
    "- the second term is the loss of a customer for the various $m$\n",
    "- the last term is the intensity of all exits from this state (i.e., counting the intensity of all other transitions, to ensure that the row will sum to $0$)\n",
    "\n",
    "In practice, rather than working with the $f$ as a multidimensional type, we will need to enumerate the discrete states linearly, so that we can iterate $f$ between $1$ and $\\mathbf{N}$.  An especially convenient\n",
    "approach is to enumerate them in the same order as the $K$-dimensional Cartesian product of the $N$ states in the multi-dimensional array above.\n",
    "\n",
    "This can be done with the `CartesianIndices` function, which is used internally in Julia for the `eachindex` function.  For example,"
   ]
  },
  {
   "cell_type": "code",
   "execution_count": 49,
   "id": "6c1892c3",
   "metadata": {},
   "outputs": [
    {
     "name": "stdout",
     "output_type": "stream",
     "text": [
      "typeof(v) = Array{Float64, 3}\n",
      "v(1, 1, 1) = 0.680184296730615\n",
      "v(2, 1, 1) = 0.07460910784426078\n",
      "v(1, 2, 1) = 0.3802117272353468\n",
      "v(2, 2, 1) = 0.15471201067016416\n",
      "v(1, 1, 2) = 0.07105079182921625\n",
      "v(2, 1, 2) = 0.9566441702285736\n",
      "v(1, 2, 2) = 0.03250442296415179\n",
      "v(2, 2, 2) = 0.7879502273578016\n"
     ]
    }
   ],
   "source": [
    "N = 2\n",
    "M = 3\n",
    "shape = Tuple(fill(N, M))\n",
    "v = rand(shape...)\n",
    "@show typeof(v)\n",
    "for ind in CartesianIndices(v)\n",
    "    println(\"v$(ind.I) = $(v[ind])\")  # .I gets the tuple to display\n",
    "end"
   ]
  },
  {
   "cell_type": "markdown",
   "id": "2d22ffd1",
   "metadata": {},
   "source": [
    "The added benefit of this approach is that it will be the most efficient way to iterate through vectors in the implementation.\n",
    "\n",
    "For the counting process with arbitrary dimensions, we will frequently be incrementing or decrementing the $m$ unit vectors of the `CartesianIndex` type with"
   ]
  },
  {
   "cell_type": "code",
   "execution_count": 50,
   "id": "4b20f3ac",
   "metadata": {},
   "outputs": [
    {
     "data": {
      "text/plain": [
       "3-element Vector{CartesianIndex{3}}:\n",
       " CartesianIndex(1, 0, 0)\n",
       " CartesianIndex(0, 1, 0)\n",
       " CartesianIndex(0, 0, 1)"
      ]
     },
     "execution_count": 50,
     "metadata": {},
     "output_type": "execute_result"
    }
   ],
   "source": [
    "e_m = [CartesianIndex((1:M .== i)*1...)  for i in 1:M]"
   ]
  },
  {
   "cell_type": "markdown",
   "id": "cdca69bf",
   "metadata": {},
   "source": [
    "and then use the vector to increment.  For example, if the current count is `(1, 2, 2)` and we want to add a count of `1` to the first index and remove a count\n",
    "of `1` from the third index, then"
   ]
  },
  {
   "cell_type": "code",
   "execution_count": 51,
   "id": "8558396a",
   "metadata": {},
   "outputs": [
    {
     "name": "stdout",
     "output_type": "stream",
     "text": [
      "ind + e_m[1] = CartesianIndex(2, 2, 2)\n",
      "ind - e_m[3] = CartesianIndex(1, 2, 1)\n"
     ]
    }
   ],
   "source": [
    "ind = CartesianIndex(1, 2, 2)  # example counts coming from CartesianIndices\n",
    "@show ind + e_m[1]  # increment the first index\n",
    "@show ind - e_m[3];  # decrement the third index"
   ]
  },
  {
   "cell_type": "markdown",
   "id": "ab745e09",
   "metadata": {},
   "source": [
    "This works, of course, because the `CartesianIndex` type is written to support efficient addition and subtraction.  Finally, to implement the operator, we need to count the indices in the states where increment and decrement occurs."
   ]
  },
  {
   "cell_type": "code",
   "execution_count": 52,
   "id": "29bd7e56",
   "metadata": {},
   "outputs": [
    {
     "name": "stdout",
     "output_type": "stream",
     "text": [
      "ind = CartesianIndex(1, 2, 2)\n",
      "count(ind.I .> 1) = 2\n",
      "count(ind.I .< N) = 1\n"
     ]
    }
   ],
   "source": [
    "@show ind\n",
    "@show count(ind.I .> 1)\n",
    "@show count(ind.I .< N);"
   ]
  },
  {
   "cell_type": "markdown",
   "id": "546d2e3c",
   "metadata": {},
   "source": [
    "With this, we are now able to write the $Q$ operator on the $f$ vector, which is enumerated by the Cartesian indices.  First, collect the\n",
    "parameters in a named tuple generator"
   ]
  },
  {
   "cell_type": "code",
   "execution_count": 53,
   "id": "805ba42a",
   "metadata": {},
   "outputs": [
    {
     "data": {
      "text/plain": [
       "##NamedTuple_kw#294 (generic function with 2 methods)"
      ]
     },
     "execution_count": 53,
     "metadata": {},
     "output_type": "execute_result"
    }
   ],
   "source": [
    "using Parameters, BenchmarkTools\n",
    "default_params = @with_kw (θ = 0.1, ζ = 0.05, ρ = 0.03, N = 10, M = 6,\n",
    "                           shape = Tuple(fill(N, M)),  # for reshaping vector to M-d array\n",
    "                           e_m = ([CartesianIndex((1:M .== i)*1...)  for i in 1:M]))"
   ]
  },
  {
   "cell_type": "markdown",
   "id": "0c3804c6",
   "metadata": {},
   "source": [
    "Next, implement the in-place matrix-free product"
   ]
  },
  {
   "cell_type": "code",
   "execution_count": 54,
   "id": "b50154dc",
   "metadata": {},
   "outputs": [
    {
     "name": "stdout",
     "output_type": "stream",
     "text": [
      "  47.322 ms (0 allocations: 0 bytes)\n"
     ]
    }
   ],
   "source": [
    "function Q_mul!(dv, v, p)\n",
    "    (;θ, ζ, N, M, shape, e_m) = p\n",
    "    v = reshape(v, shape)  # now can access v, dv as M-dim arrays\n",
    "    dv = reshape(dv, shape)\n",
    "\n",
    "    @inbounds for ind in CartesianIndices(v)\n",
    "        dv[ind] = 0.0\n",
    "        for m in 1:M\n",
    "            n_m = ind[m]\n",
    "            if(n_m < N)\n",
    "                dv[ind] += θ * v[ind + e_m[m]]\n",
    "            end\n",
    "            if(n_m > 1)\n",
    "                dv[ind] += ζ *v[ind - e_m[m]]\n",
    "            end\n",
    "        end\n",
    "        dv[ind] -= (θ * count(ind.I .< N) + ζ * count(ind.I .> 1)) * v[ind]\n",
    "    end\n",
    "end\n",
    "\n",
    "p = default_params()\n",
    "v = zeros(p.shape)\n",
    "dv = similar(v)\n",
    "@btime Q_mul!($dv, $v, $p)"
   ]
  },
  {
   "cell_type": "markdown",
   "id": "42ec346d",
   "metadata": {},
   "source": [
    "From the output of the benchmarking, note that the implementation of the left-multiplication takes less than 100 milliseconds, and allocates little or no memory, even though the Markov chain has a million possible states (i.e., $N^M = 10^6$).\n",
    "\n",
    "### Solving a Valuation Problem\n",
    "\n",
    "As before, we could use this Markov chain to solve a Bellman equation.  Assume that the firm discounts at rate $\\rho > 0$ and gets a flow payoff of a different $z_m$ per\n",
    "customer of type $m$.  For example, if the state of the firm is $(n_1, n_2, n_3) = (2,3,2)$, then it gets $\\begin{bmatrix}2 & 3 & 2\\end{bmatrix} \\cdot \\begin{bmatrix}z_1& z_2 & z_3\\end{bmatrix}$ in flow profits.\n",
    "\n",
    "Given this profit function, we can write the simple Bellman equation in our standard form of $\\rho v = r + Q v$, defining the appropriate payoff $r$.  For example, if $z_m = m^2$, then"
   ]
  },
  {
   "cell_type": "code",
   "execution_count": 55,
   "id": "d535e95a",
   "metadata": {},
   "outputs": [
    {
     "name": "stdout",
     "output_type": "stream",
     "text": [
      "typeof(r_vec(p)) = Vector{Float64}\n"
     ]
    },
    {
     "data": {
      "text/plain": [
       "250.25"
      ]
     },
     "execution_count": 55,
     "metadata": {},
     "output_type": "execute_result"
    }
   ],
   "source": [
    "function r_vec(p)\n",
    "    z = (1:p.M).^2  # payoffs per type m\n",
    "    r = [0.5 * dot(ind.I, z)  for ind in CartesianIndices(p.shape)]\n",
    "    return reshape(r, p.N^p.M)  # return as a vector\n",
    "end\n",
    "@show typeof(r_vec(p))\n",
    "r_vec(p) |> mean"
   ]
  },
  {
   "cell_type": "markdown",
   "id": "52269bc7",
   "metadata": {},
   "source": [
    "Note that the returned $r$ is a vector, enumerated in the same order as the $n_m$ states.\n",
    "\n",
    "Since the ordering of $r$ is consistent with that of $Q$, we can solve $(\\rho - Q) v = r$ as a linear system.\n",
    "\n",
    "Below, we create a linear operator and compare the algorithm for a few different iterative methods [(GMRES, BiCGStab(l), IDR(s), etc.)](https://juliamath.github.io/IterativeSolvers.jl/dev/#What-method-should-I-use-for-linear-systems?-1) with a small problem\n",
    "of only 10,000 possible states."
   ]
  },
  {
   "cell_type": "code",
   "execution_count": 56,
   "id": "47baee10",
   "metadata": {},
   "outputs": [
    {
     "name": "stdout",
     "output_type": "stream",
     "text": [
      "  458.473 ms (88 allocations: 181.54 MiB)\n"
     ]
    },
    {
     "name": "stdout",
     "output_type": "stream",
     "text": [
      "norm(gmres(A, r) - v_direct) = 2.3579330404046478e-5\n",
      "  "
     ]
    },
    {
     "name": "stdout",
     "output_type": "stream",
     "text": [
      "4.702 ms (76 allocations: 2.52 MiB)\n",
      "norm(bicgstabl(A, r) - v_direct) = "
     ]
    },
    {
     "name": "stdout",
     "output_type": "stream",
     "text": [
      "6.518569085502832e-6\n"
     ]
    },
    {
     "name": "stdout",
     "output_type": "stream",
     "text": [
      "  10.656 ms (245 allocations: 7.94 MiB)\n"
     ]
    },
    {
     "name": "stdout",
     "output_type": "stream",
     "text": [
      "norm(idrs(A, r) - v_direct) = 0.00028408504238384877\n",
      "  "
     ]
    },
    {
     "name": "stdout",
     "output_type": "stream",
     "text": [
      "6.531 ms (227 allocations: 3.30 MiB)\n"
     ]
    }
   ],
   "source": [
    "p = default_params(N=10, M=4)\n",
    "Q = LinearMap((df, f) -> Q_mul!(df, f, p), p.N^p.M, ismutating = true)\n",
    "A = p.ρ * I - Q\n",
    "A_sparse = sparse(A)  # expensive: use only in tests\n",
    "r = r_vec(p)\n",
    "v_direct = A_sparse \\ r\n",
    "iv = zero(r)\n",
    "\n",
    "@btime $A_sparse \\ $r  # direct\n",
    "@show norm(gmres(A, r) - v_direct)\n",
    "@btime gmres!(iv, $A, $r) setup = (iv = zero(r))\n",
    "\n",
    "@show norm(bicgstabl(A, r) - v_direct)\n",
    "@btime bicgstabl!(iv, $A, $r) setup = (iv = zero(r))\n",
    "\n",
    "@show norm(idrs(A, r) - v_direct)\n",
    "@btime idrs($A, $r);"
   ]
  },
  {
   "cell_type": "markdown",
   "id": "58f244cb",
   "metadata": {},
   "source": [
    "Here, we see that even if the $A$ matrix has been created, the direct sparse solver (which uses a sparse LU or QR) is at least an order of magnitude slower and allocates over an order of magnitude more memory.  This is in addition to the allocation for the `A_sparse` matrix itself, which is not needed for iterative methods.\n",
    "\n",
    "The different iterative methods have tradeoffs when it comes to accuracy, speed, convergence rate, memory requirements, and usefulness of preconditioning.  Going much above $\\mathbf{N} = 10^4$, the direct methods quickly become infeasible.\n",
    "\n",
    "Putting everything together to solving much larger systems with GMRES as our linear solvers"
   ]
  },
  {
   "cell_type": "code",
   "execution_count": 57,
   "id": "49ae4299",
   "metadata": {},
   "outputs": [
    {
     "name": "stdout",
     "output_type": "stream",
     "text": [
      "  844.972 ms (81 allocations: 274.67 MiB)\n"
     ]
    }
   ],
   "source": [
    "function solve_bellman(p; iv = zeros(p.N^p.M))\n",
    "    (;ρ, N, M) = p\n",
    "    Q = LinearMap((df, f) -> Q_mul!(df, f, p), N^M, ismutating = true)\n",
    "    A = ρ * I - Q\n",
    "    r = r_vec(p)\n",
    "\n",
    "    sol = gmres!(iv, A, r, log = false)  # iterative solver, matrix-free\n",
    "    return sol\n",
    "end\n",
    "p = default_params(N=10, M=6)\n",
    "@btime solve_bellman($p);"
   ]
  },
  {
   "cell_type": "markdown",
   "id": "6ef35cf5",
   "metadata": {},
   "source": [
    "This solves a value function with a Markov chain of a million states in a little over a second!  This general approach seems to scale roughly linearly.  For example, try $N=10, M=8$\n",
    "to solve an equation with a Markov chain with 100 million possible states, which can be solved in about 3-4 minutes.  Above that order of magnitude, you may need to tinker with the linear solver parameters to ensure that you are not memory limited (e.g., change the `restart` parameter of GMRES).\n",
    "\n",
    "### Markov Chain Steady State and Dynamics\n",
    "\n",
    "Recall that given an $N$-dimensional intensity matrix $Q$ of a CTMC, the evolution of the pdf from an initial condition $\\psi(0)$ is the system of linear differential equations\n",
    "\n",
    "$$\n",
    "\\dot{\\psi}(t) = Q^T \\psi(t)\n",
    "$$\n",
    "\n",
    "If $Q$ is a matrix, we could just take its transpose to find the adoint.  However, with matrix-free methods, we need to implement the\n",
    "adjoint-vector product directly.\n",
    "\n",
    "The logic for the adjoint is that for a given $n = (n_1,\\ldots, n_m, \\ldots n_M)$, the $Q^T$ product for that row has terms enter when\n",
    "\n",
    "1. $1 < n_m \\leq N$, entering into the identical $n$ except with one less customer in the $m$ position\n",
    "1. $1 \\leq n_m < N$, entering into the identical $n$ except with one more customer in the $m$ position\n",
    "\n",
    "Implementing this logic, first in math and then in code,\n",
    "\n",
    "$$\n",
    "\\begin{aligned}\n",
    "    Q^T_{(n_1, \\ldots, n_M)} \\cdot \\psi &=\n",
    "\\theta \\sum_{m=1}^M (n_m > 1)  \\psi(n_1, \\ldots, n_m - 1, \\ldots, n_M)\\\\\n",
    "                                        &+ \\zeta \\sum_{m=1}^M (n_m < N)  \\psi(n_1, \\ldots, n_m + 1, \\ldots, n_M)\\\\\n",
    "                                        &-\\left(\\theta\\, \\text{Count}(n_m < N) + \\zeta\\, \\text{Count}( n_m > 1)\\right)\\psi(n_1, \\ldots, n_M)\n",
    "\\end{aligned}\n",
    "$$"
   ]
  },
  {
   "cell_type": "code",
   "execution_count": 58,
   "id": "ad142469",
   "metadata": {},
   "outputs": [
    {
     "data": {
      "text/plain": [
       "Q_T_mul! (generic function with 1 method)"
      ]
     },
     "execution_count": 58,
     "metadata": {},
     "output_type": "execute_result"
    }
   ],
   "source": [
    "function Q_T_mul!(dψ, ψ, p)\n",
    "    (;θ, ζ, N, M, shape, e_m) = p\n",
    "    ψ = reshape(ψ, shape)\n",
    "    dψ = reshape(dψ, shape)\n",
    "\n",
    "    @inbounds for ind in CartesianIndices(ψ)\n",
    "        dψ[ind] = 0.0\n",
    "        for m in 1:M\n",
    "            n_m = ind[m]\n",
    "            if(n_m > 1)\n",
    "                dψ[ind] += θ * ψ[ind - e_m[m]]\n",
    "            end\n",
    "            if(n_m < N)\n",
    "                dψ[ind] += ζ *ψ[ind + e_m[m]]\n",
    "            end\n",
    "        end\n",
    "        dψ[ind] -= (θ * count(ind.I .< N) + ζ * count(ind.I .> 1)) * ψ[ind]\n",
    "    end\n",
    "end"
   ]
  },
  {
   "cell_type": "markdown",
   "id": "18fe422c",
   "metadata": {},
   "source": [
    "The `sparse` function for the operator is useful for testing that the function is correct, and is the adjoint of\n",
    "our `Q` operator."
   ]
  },
  {
   "cell_type": "code",
   "execution_count": 59,
   "id": "57416df3",
   "metadata": {},
   "outputs": [
    {
     "name": "stdout",
     "output_type": "stream",
     "text": [
      "norm((sparse(Q))' - sparse(Q_T)) = 0.0\n"
     ]
    },
    {
     "data": {
      "text/plain": [
       "0.0"
      ]
     },
     "execution_count": 59,
     "metadata": {},
     "output_type": "execute_result"
    }
   ],
   "source": [
    "p = default_params(N=5, M=4)  # sparse is too slow for the full matrix\n",
    "Q = LinearMap((df, f) -> Q_mul!(df, f, p), p.N^p.M, ismutating = true)\n",
    "Q_T = LinearMap((dψ, ψ) -> Q_T_mul!(dψ, ψ, p), p.N^p.M, ismutating = true)\n",
    "@show norm(sparse(Q)' - sparse(Q_T));  # reminder: use sparse only for testing!"
   ]
  },
  {
   "cell_type": "markdown",
   "id": "8a035df3",
   "metadata": {},
   "source": [
    "As discussed previously, the steady state can be found as the eigenvector associated with the zero eigenvalue (i.e., the one that solves $Q^T \\psi = 0 \\psi$).  We could\n",
    "do this with a dense eigenvalue solution for relatively small matrices"
   ]
  },
  {
   "cell_type": "code",
   "execution_count": 60,
   "id": "6a88fbd3",
   "metadata": {},
   "outputs": [
    {
     "name": "stdout",
     "output_type": "stream",
     "text": [
      "eig_Q_T.values[end] = -4.440892098500626e-16 + 0.0im\n"
     ]
    }
   ],
   "source": [
    "p = default_params(N=5, M=4)\n",
    "eig_Q_T = eigen(Matrix(Q_T))\n",
    "vec = real(eig_Q_T.vectors[:,end])\n",
    "direct_ψ = vec ./ sum(vec)\n",
    "@show eig_Q_T.values[end];"
   ]
  },
  {
   "cell_type": "markdown",
   "id": "802ed62f",
   "metadata": {},
   "source": [
    "This approach relies on a full factorization of the underlying matrix, delivering the entire spectrum.  For our purposes, this is not necessary.\n",
    "\n",
    "Instead, we could use the `Arpack.jl` package to target the eigenvalue of smallest absolute value, which relies on an iterative method.\n",
    "\n",
    "A final approach in this case is to notice that the $\\mathbf{N}\\times\\mathbf{N}$ matrix is of\n",
    "rank $\\mathbf{N} - 1$ when the Markov chain is irreducible.  The stationary solution is a vector in the $1$-dimensional nullspace\n",
    "of the matrix.\n",
    "\n",
    "Using Krylov methods to solve a linear system with the right-hand side all 0 values will converge to a point in the nullspace.  That is, $\\min_x ||A x - 0||_2$ solved\n",
    "iteratively from a non-zero initial condition will converge to a point in the nullspace.\n",
    "\n",
    "We can use various Krylov methods for this trick (e.g., if the matrix is symmetric and positive definite, we could use Conjugate Gradient) but in our case we will\n",
    "use GMRES since we do not have any structure."
   ]
  },
  {
   "cell_type": "code",
   "execution_count": 61,
   "id": "25dc50dd",
   "metadata": {},
   "outputs": [
    {
     "name": "stdout",
     "output_type": "stream",
     "text": [
      "norm(ψ - direct_ψ) = 6.098295301886778e-11\n"
     ]
    }
   ],
   "source": [
    "p = default_params(N=5, M=4)  # sparse is too slow for the full matrix\n",
    "Q_T = LinearMap((dψ, ψ) -> Q_T_mul!(dψ, ψ, p), p.N^p.M, ismutating = true)\n",
    "ψ = fill(1/(p.N^p.M), p.N^p.M) # can't use 0 as initial guess\n",
    "sol = gmres!(ψ, Q_T, zeros(p.N^p.M))  # i.e., solve Ax = 0 iteratively\n",
    "ψ = ψ / sum(ψ)\n",
    "@show norm(ψ - direct_ψ);"
   ]
  },
  {
   "cell_type": "markdown",
   "id": "ab3f249b",
   "metadata": {},
   "source": [
    "The speed and memory differences between these methods can be orders of magnitude."
   ]
  },
  {
   "cell_type": "code",
   "execution_count": 62,
   "id": "ab9d8ae7",
   "metadata": {},
   "outputs": [
    {
     "name": "stdout",
     "output_type": "stream",
     "text": [
      "  22.886 ms (20 allocations: 2.27 MiB)\n"
     ]
    },
    {
     "name": "stdout",
     "output_type": "stream",
     "text": [
      "  751.998 μs (382 allocations: 97.69 KiB)\n"
     ]
    },
    {
     "name": "stdout",
     "output_type": "stream",
     "text": [
      "  198.499 μs (58 allocations: 50.84 KiB)\n"
     ]
    }
   ],
   "source": [
    "p = default_params(N=4, M=4)  # Dense and sparse matrices are too slow for the full dataset.\n",
    "Q_T = LinearMap((dψ, ψ) -> Q_T_mul!(dψ, ψ, p), p.N^p.M, ismutating = true)\n",
    "Q_T_dense = Matrix(Q_T)\n",
    "Q_T_sparse = sparse(Q_T)\n",
    "b = zeros(p.N^p.M)\n",
    "@btime eigen($Q_T_dense)\n",
    "@btime eigs($Q_T_sparse, nev=1, which=:SM, v0 = iv) setup = (iv = fill(1/(p.N^p.M), p.N^p.M))\n",
    "@btime gmres!(iv, $Q_T, $b) setup = (iv = fill(1/(p.N^p.M), p.N^p.M));"
   ]
  },
  {
   "cell_type": "markdown",
   "id": "5c2dd70e",
   "metadata": {},
   "source": [
    "The differences become even more stark as the matrix grows.  With `default_params(N=5, M=5)`, the `gmres` solution is at least 3 orders of magnitude faster, and uses close to 3 orders of magnitude less memory than the dense solver.  In addition, the `gmres` solution is about an order of magnitude faster than the iterative sparse eigenvalue solver.\n",
    "\n",
    "The algorithm can solve for the steady state of $10^5$ states in a few seconds"
   ]
  },
  {
   "cell_type": "code",
   "execution_count": 63,
   "id": "687a1f9c",
   "metadata": {},
   "outputs": [
    {
     "name": "stdout",
     "output_type": "stream",
     "text": [
      "  1.379 s (89 allocations: 19.08 MiB)\n"
     ]
    }
   ],
   "source": [
    "function stationary_ψ(p)\n",
    "    Q_T = LinearMap((dψ, ψ) -> Q_T_mul!(dψ, ψ, p), p.N^p.M, ismutating = true)\n",
    "    ψ = fill(1/(p.N^p.M), p.N^p.M) # can't use 0 as initial guess\n",
    "    sol = gmres!(ψ, Q_T, zeros(p.N^p.M))  # i.e., solve Ax = 0 iteratively\n",
    "    return ψ / sum(ψ)\n",
    "end\n",
    "p = default_params(N=10, M=5)\n",
    "@btime stationary_ψ($p);"
   ]
  },
  {
   "cell_type": "markdown",
   "id": "9df08d0a",
   "metadata": {},
   "source": [
    "As a final demonstration, consider calculating the full evolution of the $ψ(t)$ Markov chain.  For the constant\n",
    "$Q'$ matrix, the solution to this system of equations is $\\psi(t) = \\exp(Q') \\psi(0)$\n",
    "\n",
    "Matrix-free Krylov methods using a technique called [exponential integration](https://en.wikipedia.org/wiki/Exponential_integrator) can solve this for high-dimensional problems.\n",
    "\n",
    "For this, we can set up a `MatrixFreeOperator` for our `Q_T_mul!` function (equivalent to the `LinearMap`, but with some additional requirements for the ODE solver) and use the [LinearExponential](http://docs.juliadiffeq.org/latest/solvers/ode_solve.html#Exponential-Methods-for-Linear-and-Affine-Problems-1) time-stepping method."
   ]
  },
  {
   "cell_type": "code",
   "execution_count": 64,
   "id": "cd038923",
   "metadata": {},
   "outputs": [
    {
     "name": "stderr",
     "output_type": "stream",
     "text": [
      "WARNING: using OrdinaryDiffEq.FunctionMap in module Main conflicts with an existing identifier.\n"
     ]
    },
    {
     "data": {
      "image/png": "[encoded data removed]",
      "image/svg+xml": [
       "<?xml version=\"1.0\" encoding=\"utf-8\"?>\n",
       "<svg xmlns=\"http://www.w3.org/2000/svg\" xmlns:xlink=\"http://www.w3.org/1999/xlink\" width=\"600\" height=\"400\" viewBox=\"0 0 2400 1600\">\n",
       "<defs>\n",
       "  <clipPath id=\"clip900\">\n",
       "    <rect x=\"0\" y=\"0\" width=\"2400\" height=\"1600\"/>\n",
       "  </clipPath>\n",
       "</defs>\n",
       "<path clip-path=\"url(#clip900)\" d=\"M0 1600 L2400 1600 L2400 0 L0 0  Z\" fill=\"#ffffff\" fill-rule=\"evenodd\" fill-opacity=\"1\"/>\n",
       "<defs>\n",
       "  <clipPath id=\"clip901\">\n",
       "    <rect x=\"480\" y=\"0\" width=\"1681\" height=\"1600\"/>\n",
       "  </clipPath>\n",
       "</defs>\n",
       "<defs>\n",
       "  <clipPath id=\"clip902\">\n",
       "    <rect x=\"156\" y=\"47\" width=\"2197\" height=\"1440\"/>\n",
       "  </clipPath>\n",
       "</defs>\n",
       "<path clip-path=\"url(#clip900)\" d=\"M229.445 1423.18 L2352.76 1423.18 L2352.76 47.2441 L229.445 47.2441  Z\" fill=\"#ffffff\" fill-rule=\"evenodd\" fill-opacity=\"1\"/>\n",
       "<defs>\n",
       "  <clipPath id=\"clip903\">\n",
       "    <rect x=\"229\" y=\"47\" width=\"2124\" height=\"1377\"/>\n",
       "  </clipPath>\n",
       "</defs>\n",
       "<polyline clip-path=\"url(#clip903)\" style=\"stroke:#000000; stroke-linecap:round; stroke-linejoin:round; stroke-width:2; stroke-opacity:0.1; fill:none\" points=\"289.539,1423.18 289.539,47.2441 \"/>\n",
       "<polyline clip-path=\"url(#clip903)\" style=\"stroke:#000000; stroke-linecap:round; stroke-linejoin:round; stroke-width:2; stroke-opacity:0.1; fill:none\" points=\"790.32,1423.18 790.32,47.2441 \"/>\n",
       "<polyline clip-path=\"url(#clip903)\" style=\"stroke:#000000; stroke-linecap:round; stroke-linejoin:round; stroke-width:2; stroke-opacity:0.1; fill:none\" points=\"1291.1,1423.18 1291.1,47.2441 \"/>\n",
       "<polyline clip-path=\"url(#clip903)\" style=\"stroke:#000000; stroke-linecap:round; stroke-linejoin:round; stroke-width:2; stroke-opacity:0.1; fill:none\" points=\"1791.88,1423.18 1791.88,47.2441 \"/>\n",
       "<polyline clip-path=\"url(#clip903)\" style=\"stroke:#000000; stroke-linecap:round; stroke-linejoin:round; stroke-width:2; stroke-opacity:0.1; fill:none\" points=\"2292.66,1423.18 2292.66,47.2441 \"/>\n",
       "<polyline clip-path=\"url(#clip900)\" style=\"stroke:#000000; stroke-linecap:round; stroke-linejoin:round; stroke-width:4; stroke-opacity:1; fill:none\" points=\"229.445,1423.18 2352.76,1423.18 \"/>\n",
       "<polyline clip-path=\"url(#clip900)\" style=\"stroke:#000000; stroke-linecap:round; stroke-linejoin:round; stroke-width:4; stroke-opacity:1; fill:none\" points=\"289.539,1423.18 289.539,1404.28 \"/>\n",
       "<polyline clip-path=\"url(#clip900)\" style=\"stroke:#000000; stroke-linecap:round; stroke-linejoin:round; stroke-width:4; stroke-opacity:1; fill:none\" points=\"790.32,1423.18 790.32,1404.28 \"/>\n",
       "<polyline clip-path=\"url(#clip900)\" style=\"stroke:#000000; stroke-linecap:round; stroke-linejoin:round; stroke-width:4; stroke-opacity:1; fill:none\" points=\"1291.1,1423.18 1291.1,1404.28 \"/>\n",
       "<polyline clip-path=\"url(#clip900)\" style=\"stroke:#000000; stroke-linecap:round; stroke-linejoin:round; stroke-width:4; stroke-opacity:1; fill:none\" points=\"1791.88,1423.18 1791.88,1404.28 \"/>\n",
       "<polyline clip-path=\"url(#clip900)\" style=\"stroke:#000000; stroke-linecap:round; stroke-linejoin:round; stroke-width:4; stroke-opacity:1; fill:none\" points=\"2292.66,1423.18 2292.66,1404.28 \"/>\n",
       "<path clip-path=\"url(#clip900)\" d=\"M289.539 1454.1 Q285.928 1454.1 284.099 1457.66 Q282.293 1461.2 282.293 1468.33 Q282.293 1475.44 284.099 1479.01 Q285.928 1482.55 289.539 1482.55 Q293.173 1482.55 294.979 1479.01 Q296.807 1475.44 296.807 1468.33 Q296.807 1461.2 294.979 1457.66 Q293.173 1454.1 289.539 1454.1 M289.539 1450.39 Q295.349 1450.39 298.404 1455 Q301.483 1459.58 301.483 1468.33 Q301.483 1477.06 298.404 1481.67 Q295.349 1486.25 289.539 1486.25 Q283.729 1486.25 280.65 1481.67 Q277.594 1477.06 277.594 1468.33 Q277.594 1459.58 280.65 1455 Q283.729 1450.39 289.539 1450.39 Z\" fill=\"#000000\" fill-rule=\"nonzero\" fill-opacity=\"1\" /><path clip-path=\"url(#clip900)\" d=\"M769.591 1481.64 L785.91 1481.64 L785.91 1485.58 L763.966 1485.58 L763.966 1481.64 Q766.628 1478.89 771.211 1474.26 Q775.817 1469.61 776.998 1468.27 Q779.243 1465.74 780.123 1464.01 Q781.026 1462.25 781.026 1460.56 Q781.026 1457.8 779.081 1456.07 Q777.16 1454.33 774.058 1454.33 Q771.859 1454.33 769.405 1455.09 Q766.975 1455.86 764.197 1457.41 L764.197 1452.69 Q767.021 1451.55 769.475 1450.97 Q771.929 1450.39 773.966 1450.39 Q779.336 1450.39 782.53 1453.08 Q785.725 1455.77 785.725 1460.26 Q785.725 1462.39 784.915 1464.31 Q784.128 1466.2 782.021 1468.8 Q781.442 1469.47 778.341 1472.69 Q775.239 1475.88 769.591 1481.64 Z\" fill=\"#000000\" fill-rule=\"nonzero\" fill-opacity=\"1\" /><path clip-path=\"url(#clip900)\" d=\"M795.771 1451.02 L814.127 1451.02 L814.127 1454.96 L800.053 1454.96 L800.053 1463.43 Q801.072 1463.08 802.09 1462.92 Q803.109 1462.73 804.127 1462.73 Q809.914 1462.73 813.294 1465.9 Q816.674 1469.08 816.674 1474.49 Q816.674 1480.07 813.201 1483.17 Q809.729 1486.25 803.41 1486.25 Q801.234 1486.25 798.965 1485.88 Q796.72 1485.51 794.313 1484.77 L794.313 1480.07 Q796.396 1481.2 798.618 1481.76 Q800.84 1482.32 803.317 1482.32 Q807.322 1482.32 809.66 1480.21 Q811.998 1478.1 811.998 1474.49 Q811.998 1470.88 809.66 1468.77 Q807.322 1466.67 803.317 1466.67 Q801.442 1466.67 799.567 1467.08 Q797.715 1467.5 795.771 1468.38 L795.771 1451.02 Z\" fill=\"#000000\" fill-rule=\"nonzero\" fill-opacity=\"1\" /><path clip-path=\"url(#clip900)\" d=\"M1265.8 1451.02 L1284.16 1451.02 L1284.16 1454.96 L1270.08 1454.96 L1270.08 1463.43 Q1271.1 1463.08 1272.12 1462.92 Q1273.14 1462.73 1274.16 1462.73 Q1279.94 1462.73 1283.32 1465.9 Q1286.7 1469.08 1286.7 1474.49 Q1286.7 1480.07 1283.23 1483.17 Q1279.76 1486.25 1273.44 1486.25 Q1271.26 1486.25 1268.99 1485.88 Q1266.75 1485.51 1264.34 1484.77 L1264.34 1480.07 Q1266.42 1481.2 1268.65 1481.76 Q1270.87 1482.32 1273.35 1482.32 Q1277.35 1482.32 1279.69 1480.21 Q1282.03 1478.1 1282.03 1474.49 Q1282.03 1470.88 1279.69 1468.77 Q1277.35 1466.67 1273.35 1466.67 Q1271.47 1466.67 1269.6 1467.08 Q1267.74 1467.5 1265.8 1468.38 L1265.8 1451.02 Z\" fill=\"#000000\" fill-rule=\"nonzero\" fill-opacity=\"1\" /><path clip-path=\"url(#clip900)\" d=\"M1305.92 1454.1 Q1302.3 1454.1 1300.48 1457.66 Q1298.67 1461.2 1298.67 1468.33 Q1298.67 1475.44 1300.48 1479.01 Q1302.3 1482.55 1305.92 1482.55 Q1309.55 1482.55 1311.36 1479.01 Q1313.18 1475.44 1313.18 1468.33 Q1313.18 1461.2 1311.36 1457.66 Q1309.55 1454.1 1305.92 1454.1 M1305.92 1450.39 Q1311.73 1450.39 1314.78 1455 Q1317.86 1459.58 1317.86 1468.33 Q1317.86 1477.06 1314.78 1481.67 Q1311.73 1486.25 1305.92 1486.25 Q1300.11 1486.25 1297.03 1481.67 Q1293.97 1477.06 1293.97 1468.33 Q1293.97 1459.58 1297.03 1455 Q1300.11 1450.39 1305.92 1450.39 Z\" fill=\"#000000\" fill-rule=\"nonzero\" fill-opacity=\"1\" /><path clip-path=\"url(#clip900)\" d=\"M1765.74 1451.02 L1787.96 1451.02 L1787.96 1453.01 L1775.41 1485.58 L1770.53 1485.58 L1782.33 1454.96 L1765.74 1454.96 L1765.74 1451.02 Z\" fill=\"#000000\" fill-rule=\"nonzero\" fill-opacity=\"1\" /><path clip-path=\"url(#clip900)\" d=\"M1797.12 1451.02 L1815.48 1451.02 L1815.48 1454.96 L1801.41 1454.96 L1801.41 1463.43 Q1802.43 1463.08 1803.44 1462.92 Q1804.46 1462.73 1805.48 1462.73 Q1811.27 1462.73 1814.65 1465.9 Q1818.03 1469.08 1818.03 1474.49 Q1818.03 1480.07 1814.55 1483.17 Q1811.08 1486.25 1804.76 1486.25 Q1802.59 1486.25 1800.32 1485.88 Q1798.07 1485.51 1795.67 1484.77 L1795.67 1480.07 Q1797.75 1481.2 1799.97 1481.76 Q1802.19 1482.32 1804.67 1482.32 Q1808.68 1482.32 1811.01 1480.21 Q1813.35 1478.1 1813.35 1474.49 Q1813.35 1470.88 1811.01 1468.77 Q1808.68 1466.67 1804.67 1466.67 Q1802.8 1466.67 1800.92 1467.08 Q1799.07 1467.5 1797.12 1468.38 L1797.12 1451.02 Z\" fill=\"#000000\" fill-rule=\"nonzero\" fill-opacity=\"1\" /><path clip-path=\"url(#clip900)\" d=\"M2252.27 1481.64 L2259.91 1481.64 L2259.91 1455.28 L2251.6 1456.95 L2251.6 1452.69 L2259.86 1451.02 L2264.54 1451.02 L2264.54 1481.64 L2272.18 1481.64 L2272.18 1485.58 L2252.27 1485.58 L2252.27 1481.64 Z\" fill=\"#000000\" fill-rule=\"nonzero\" fill-opacity=\"1\" /><path clip-path=\"url(#clip900)\" d=\"M2291.62 1454.1 Q2288.01 1454.1 2286.18 1457.66 Q2284.38 1461.2 2284.38 1468.33 Q2284.38 1475.44 2286.18 1479.01 Q2288.01 1482.55 2291.62 1482.55 Q2295.25 1482.55 2297.06 1479.01 Q2298.89 1475.44 2298.89 1468.33 Q2298.89 1461.2 2297.06 1457.66 Q2295.25 1454.1 2291.62 1454.1 M2291.62 1450.39 Q2297.43 1450.39 2300.49 1455 Q2303.56 1459.58 2303.56 1468.33 Q2303.56 1477.06 2300.49 1481.67 Q2297.43 1486.25 2291.62 1486.25 Q2285.81 1486.25 2282.73 1481.67 Q2279.68 1477.06 2279.68 1468.33 Q2279.68 1459.58 2282.73 1455 Q2285.81 1450.39 2291.62 1450.39 Z\" fill=\"#000000\" fill-rule=\"nonzero\" fill-opacity=\"1\" /><path clip-path=\"url(#clip900)\" d=\"M2321.78 1454.1 Q2318.17 1454.1 2316.34 1457.66 Q2314.54 1461.2 2314.54 1468.33 Q2314.54 1475.44 2316.34 1479.01 Q2318.17 1482.55 2321.78 1482.55 Q2325.42 1482.55 2327.22 1479.01 Q2329.05 1475.44 2329.05 1468.33 Q2329.05 1461.2 2327.22 1457.66 Q2325.42 1454.1 2321.78 1454.1 M2321.78 1450.39 Q2327.59 1450.39 2330.65 1455 Q2333.73 1459.58 2333.73 1468.33 Q2333.73 1477.06 2330.65 1481.67 Q2327.59 1486.25 2321.78 1486.25 Q2315.97 1486.25 2312.89 1481.67 Q2309.84 1477.06 2309.84 1468.33 Q2309.84 1459.58 2312.89 1455 Q2315.97 1450.39 2321.78 1450.39 Z\" fill=\"#000000\" fill-rule=\"nonzero\" fill-opacity=\"1\" /><path clip-path=\"url(#clip900)\" d=\"M1299.57 1531.91 Q1299.57 1532.81 1299.15 1533.04 Q1298.73 1533.23 1297.57 1533.23 L1291.39 1533.23 L1286.5 1552.69 Q1286.11 1554.39 1286.11 1555.84 Q1286.11 1557.45 1286.59 1558.16 Q1287.11 1558.87 1288.17 1558.87 Q1290.26 1558.87 1292.52 1556.97 Q1294.81 1555.07 1296.74 1550.43 Q1297 1549.82 1297.12 1549.69 Q1297.28 1549.53 1297.7 1549.53 Q1298.51 1549.53 1298.51 1550.17 Q1298.51 1550.4 1298.06 1551.43 Q1297.64 1552.46 1296.71 1553.97 Q1295.8 1555.49 1294.61 1556.9 Q1293.45 1558.32 1291.68 1559.35 Q1289.91 1560.35 1288.01 1560.35 Q1285.34 1560.35 1283.63 1558.64 Q1281.95 1556.94 1281.95 1554.26 Q1281.95 1553.39 1282.63 1550.62 Q1283.31 1547.82 1286.98 1533.23 L1281.15 1533.23 Q1280.34 1533.23 1280.02 1533.2 Q1279.73 1533.17 1279.51 1533.01 Q1279.31 1532.81 1279.31 1532.43 Q1279.31 1531.82 1279.57 1531.56 Q1279.83 1531.27 1280.15 1531.24 Q1280.51 1531.17 1281.31 1531.17 L1287.49 1531.17 L1290.07 1520.71 Q1290.33 1519.67 1290.97 1519.09 Q1291.65 1518.48 1292.04 1518.42 Q1292.42 1518.32 1292.71 1518.32 Q1293.58 1518.32 1294.1 1518.81 Q1294.61 1519.26 1294.61 1520.09 Q1294.61 1520.54 1291.91 1531.17 L1297.7 1531.17 Q1298.44 1531.17 1298.73 1531.2 Q1299.06 1531.24 1299.31 1531.4 Q1299.57 1531.56 1299.57 1531.91 Z\" fill=\"#000000\" fill-rule=\"nonzero\" fill-opacity=\"1\" /><polyline clip-path=\"url(#clip903)\" style=\"stroke:#000000; stroke-linecap:round; stroke-linejoin:round; stroke-width:2; stroke-opacity:0.1; fill:none\" points=\"229.445,1323.98 2352.76,1323.98 \"/>\n",
       "<polyline clip-path=\"url(#clip903)\" style=\"stroke:#000000; stroke-linecap:round; stroke-linejoin:round; stroke-width:2; stroke-opacity:0.1; fill:none\" points=\"229.445,1118.86 2352.76,1118.86 \"/>\n",
       "<polyline clip-path=\"url(#clip903)\" style=\"stroke:#000000; stroke-linecap:round; stroke-linejoin:round; stroke-width:2; stroke-opacity:0.1; fill:none\" points=\"229.445,913.737 2352.76,913.737 \"/>\n",
       "<polyline clip-path=\"url(#clip903)\" style=\"stroke:#000000; stroke-linecap:round; stroke-linejoin:round; stroke-width:2; stroke-opacity:0.1; fill:none\" points=\"229.445,708.613 2352.76,708.613 \"/>\n",
       "<polyline clip-path=\"url(#clip903)\" style=\"stroke:#000000; stroke-linecap:round; stroke-linejoin:round; stroke-width:2; stroke-opacity:0.1; fill:none\" points=\"229.445,503.489 2352.76,503.489 \"/>\n",
       "<polyline clip-path=\"url(#clip903)\" style=\"stroke:#000000; stroke-linecap:round; stroke-linejoin:round; stroke-width:2; stroke-opacity:0.1; fill:none\" points=\"229.445,298.365 2352.76,298.365 \"/>\n",
       "<polyline clip-path=\"url(#clip903)\" style=\"stroke:#000000; stroke-linecap:round; stroke-linejoin:round; stroke-width:2; stroke-opacity:0.1; fill:none\" points=\"229.445,93.2408 2352.76,93.2408 \"/>\n",
       "<polyline clip-path=\"url(#clip900)\" style=\"stroke:#000000; stroke-linecap:round; stroke-linejoin:round; stroke-width:4; stroke-opacity:1; fill:none\" points=\"229.445,1423.18 229.445,47.2441 \"/>\n",
       "<polyline clip-path=\"url(#clip900)\" style=\"stroke:#000000; stroke-linecap:round; stroke-linejoin:round; stroke-width:4; stroke-opacity:1; fill:none\" points=\"229.445,1323.98 248.343,1323.98 \"/>\n",
       "<polyline clip-path=\"url(#clip900)\" style=\"stroke:#000000; stroke-linecap:round; stroke-linejoin:round; stroke-width:4; stroke-opacity:1; fill:none\" points=\"229.445,1118.86 248.343,1118.86 \"/>\n",
       "<polyline clip-path=\"url(#clip900)\" style=\"stroke:#000000; stroke-linecap:round; stroke-linejoin:round; stroke-width:4; stroke-opacity:1; fill:none\" points=\"229.445,913.737 248.343,913.737 \"/>\n",
       "<polyline clip-path=\"url(#clip900)\" style=\"stroke:#000000; stroke-linecap:round; stroke-linejoin:round; stroke-width:4; stroke-opacity:1; fill:none\" points=\"229.445,708.613 248.343,708.613 \"/>\n",
       "<polyline clip-path=\"url(#clip900)\" style=\"stroke:#000000; stroke-linecap:round; stroke-linejoin:round; stroke-width:4; stroke-opacity:1; fill:none\" points=\"229.445,503.489 248.343,503.489 \"/>\n",
       "<polyline clip-path=\"url(#clip900)\" style=\"stroke:#000000; stroke-linecap:round; stroke-linejoin:round; stroke-width:4; stroke-opacity:1; fill:none\" points=\"229.445,298.365 248.343,298.365 \"/>\n",
       "<polyline clip-path=\"url(#clip900)\" style=\"stroke:#000000; stroke-linecap:round; stroke-linejoin:round; stroke-width:4; stroke-opacity:1; fill:none\" points=\"229.445,93.2408 248.343,93.2408 \"/>\n",
       "<path clip-path=\"url(#clip900)\" d=\"M81.0614 1306.7 L99.4178 1306.7 L99.4178 1310.64 L85.3438 1310.64 L85.3438 1319.11 Q86.3623 1318.76 87.3808 1318.6 Q88.3993 1318.42 89.4178 1318.42 Q95.2049 1318.42 98.5845 1321.59 Q101.964 1324.76 101.964 1330.18 Q101.964 1335.76 98.4919 1338.86 Q95.0197 1341.94 88.7003 1341.94 Q86.5243 1341.94 84.2558 1341.57 Q82.0105 1341.2 79.6031 1340.45 L79.6031 1335.76 Q81.6864 1336.89 83.9086 1337.45 Q86.1308 1338 88.6077 1338 Q92.6123 1338 94.9502 1335.89 Q97.2882 1333.79 97.2882 1330.18 Q97.2882 1326.57 94.9502 1324.46 Q92.6123 1322.35 88.6077 1322.35 Q86.7327 1322.35 84.8577 1322.77 Q83.0058 1323.19 81.0614 1324.07 L81.0614 1306.7 Z\" fill=\"#000000\" fill-rule=\"nonzero\" fill-opacity=\"1\" /><path clip-path=\"url(#clip900)\" d=\"M121.177 1309.78 Q117.566 1309.78 115.737 1313.35 Q113.932 1316.89 113.932 1324.02 Q113.932 1331.13 115.737 1334.69 Q117.566 1338.23 121.177 1338.23 Q124.811 1338.23 126.617 1334.69 Q128.445 1331.13 128.445 1324.02 Q128.445 1316.89 126.617 1313.35 Q124.811 1309.78 121.177 1309.78 M121.177 1306.08 Q126.987 1306.08 130.043 1310.69 Q133.121 1315.27 133.121 1324.02 Q133.121 1332.75 130.043 1337.35 Q126.987 1341.94 121.177 1341.94 Q115.367 1341.94 112.288 1337.35 Q109.233 1332.75 109.233 1324.02 Q109.233 1315.27 112.288 1310.69 Q115.367 1306.08 121.177 1306.08 Z\" fill=\"#000000\" fill-rule=\"nonzero\" fill-opacity=\"1\" /><path clip-path=\"url(#clip900)\" d=\"M151.339 1309.78 Q147.728 1309.78 145.899 1313.35 Q144.093 1316.89 144.093 1324.02 Q144.093 1331.13 145.899 1334.69 Q147.728 1338.23 151.339 1338.23 Q154.973 1338.23 156.779 1334.69 Q158.607 1331.13 158.607 1324.02 Q158.607 1316.89 156.779 1313.35 Q154.973 1309.78 151.339 1309.78 M151.339 1306.08 Q157.149 1306.08 160.205 1310.69 Q163.283 1315.27 163.283 1324.02 Q163.283 1332.75 160.205 1337.35 Q157.149 1341.94 151.339 1341.94 Q145.529 1341.94 142.45 1337.35 Q139.394 1332.75 139.394 1324.02 Q139.394 1315.27 142.45 1310.69 Q145.529 1306.08 151.339 1306.08 Z\" fill=\"#000000\" fill-rule=\"nonzero\" fill-opacity=\"1\" /><path clip-path=\"url(#clip900)\" d=\"M181.501 1309.78 Q177.89 1309.78 176.061 1313.35 Q174.255 1316.89 174.255 1324.02 Q174.255 1331.13 176.061 1334.69 Q177.89 1338.23 181.501 1338.23 Q185.135 1338.23 186.94 1334.69 Q188.769 1331.13 188.769 1324.02 Q188.769 1316.89 186.94 1313.35 Q185.135 1309.78 181.501 1309.78 M181.501 1306.08 Q187.311 1306.08 190.366 1310.69 Q193.445 1315.27 193.445 1324.02 Q193.445 1332.75 190.366 1337.35 Q187.311 1341.94 181.501 1341.94 Q175.691 1341.94 172.612 1337.35 Q169.556 1332.75 169.556 1324.02 Q169.556 1315.27 172.612 1310.69 Q175.691 1306.08 181.501 1306.08 Z\" fill=\"#000000\" fill-rule=\"nonzero\" fill-opacity=\"1\" /><path clip-path=\"url(#clip900)\" d=\"M91.5938 1117 Q88.4456 1117 86.5938 1119.15 Q84.7651 1121.3 84.7651 1125.05 Q84.7651 1128.78 86.5938 1130.96 Q88.4456 1133.11 91.5938 1133.11 Q94.7419 1133.11 96.5706 1130.96 Q98.4224 1128.78 98.4224 1125.05 Q98.4224 1121.3 96.5706 1119.15 Q94.7419 1117 91.5938 1117 M100.876 1102.34 L100.876 1106.6 Q99.1169 1105.77 97.3113 1105.33 Q95.5289 1104.89 93.7697 1104.89 Q89.1401 1104.89 86.6864 1108.02 Q84.2558 1111.14 83.9086 1117.46 Q85.2743 1115.45 87.3345 1114.38 Q89.3947 1113.29 91.8715 1113.29 Q97.0798 1113.29 100.089 1116.46 Q103.121 1119.61 103.121 1125.05 Q103.121 1130.38 99.9733 1133.59 Q96.8252 1136.81 91.5938 1136.81 Q85.5984 1136.81 82.4271 1132.23 Q79.2559 1127.62 79.2559 1118.9 Q79.2559 1110.7 83.1447 1105.84 Q87.0336 1100.96 93.5845 1100.96 Q95.3437 1100.96 97.1261 1101.3 Q98.9317 1101.65 100.876 1102.34 Z\" fill=\"#000000\" fill-rule=\"nonzero\" fill-opacity=\"1\" /><path clip-path=\"url(#clip900)\" d=\"M121.177 1104.66 Q117.566 1104.66 115.737 1108.22 Q113.932 1111.77 113.932 1118.9 Q113.932 1126 115.737 1129.57 Q117.566 1133.11 121.177 1133.11 Q124.811 1133.11 126.617 1129.57 Q128.445 1126 128.445 1118.9 Q128.445 1111.77 126.617 1108.22 Q124.811 1104.66 121.177 1104.66 M121.177 1100.96 Q126.987 1100.96 130.043 1105.56 Q133.121 1110.15 133.121 1118.9 Q133.121 1127.62 130.043 1132.23 Q126.987 1136.81 121.177 1136.81 Q115.367 1136.81 112.288 1132.23 Q109.233 1127.62 109.233 1118.9 Q109.233 1110.15 112.288 1105.56 Q115.367 1100.96 121.177 1100.96 Z\" fill=\"#000000\" fill-rule=\"nonzero\" fill-opacity=\"1\" /><path clip-path=\"url(#clip900)\" d=\"M151.339 1104.66 Q147.728 1104.66 145.899 1108.22 Q144.093 1111.77 144.093 1118.9 Q144.093 1126 145.899 1129.57 Q147.728 1133.11 151.339 1133.11 Q154.973 1133.11 156.779 1129.57 Q158.607 1126 158.607 1118.9 Q158.607 1111.77 156.779 1108.22 Q154.973 1104.66 151.339 1104.66 M151.339 1100.96 Q157.149 1100.96 160.205 1105.56 Q163.283 1110.15 163.283 1118.9 Q163.283 1127.62 160.205 1132.23 Q157.149 1136.81 151.339 1136.81 Q145.529 1136.81 142.45 1132.23 Q139.394 1127.62 139.394 1118.9 Q139.394 1110.15 142.45 1105.56 Q145.529 1100.96 151.339 1100.96 Z\" fill=\"#000000\" fill-rule=\"nonzero\" fill-opacity=\"1\" /><path clip-path=\"url(#clip900)\" d=\"M181.501 1104.66 Q177.89 1104.66 176.061 1108.22 Q174.255 1111.77 174.255 1118.9 Q174.255 1126 176.061 1129.57 Q177.89 1133.11 181.501 1133.11 Q185.135 1133.11 186.94 1129.57 Q188.769 1126 188.769 1118.9 Q188.769 1111.77 186.94 1108.22 Q185.135 1104.66 181.501 1104.66 M181.501 1100.96 Q187.311 1100.96 190.366 1105.56 Q193.445 1110.15 193.445 1118.9 Q193.445 1127.62 190.366 1132.23 Q187.311 1136.81 181.501 1136.81 Q175.691 1136.81 172.612 1132.23 Q169.556 1127.62 169.556 1118.9 Q169.556 1110.15 172.612 1105.56 Q175.691 1100.96 181.501 1100.96 Z\" fill=\"#000000\" fill-rule=\"nonzero\" fill-opacity=\"1\" /><path clip-path=\"url(#clip900)\" d=\"M79.8346 896.457 L102.057 896.457 L102.057 898.447 L89.5104 931.017 L84.6262 931.017 L96.4317 900.392 L79.8346 900.392 L79.8346 896.457 Z\" fill=\"#000000\" fill-rule=\"nonzero\" fill-opacity=\"1\" /><path clip-path=\"url(#clip900)\" d=\"M121.177 899.535 Q117.566 899.535 115.737 903.1 Q113.932 906.642 113.932 913.771 Q113.932 920.878 115.737 924.443 Q117.566 927.984 121.177 927.984 Q124.811 927.984 126.617 924.443 Q128.445 920.878 128.445 913.771 Q128.445 906.642 126.617 903.1 Q124.811 899.535 121.177 899.535 M121.177 895.832 Q126.987 895.832 130.043 900.438 Q133.121 905.021 133.121 913.771 Q133.121 922.498 130.043 927.105 Q126.987 931.688 121.177 931.688 Q115.367 931.688 112.288 927.105 Q109.233 922.498 109.233 913.771 Q109.233 905.021 112.288 900.438 Q115.367 895.832 121.177 895.832 Z\" fill=\"#000000\" fill-rule=\"nonzero\" fill-opacity=\"1\" /><path clip-path=\"url(#clip900)\" d=\"M151.339 899.535 Q147.728 899.535 145.899 903.1 Q144.093 906.642 144.093 913.771 Q144.093 920.878 145.899 924.443 Q147.728 927.984 151.339 927.984 Q154.973 927.984 156.779 924.443 Q158.607 920.878 158.607 913.771 Q158.607 906.642 156.779 903.1 Q154.973 899.535 151.339 899.535 M151.339 895.832 Q157.149 895.832 160.205 900.438 Q163.283 905.021 163.283 913.771 Q163.283 922.498 160.205 927.105 Q157.149 931.688 151.339 931.688 Q145.529 931.688 142.45 927.105 Q139.394 922.498 139.394 913.771 Q139.394 905.021 142.45 900.438 Q145.529 895.832 151.339 895.832 Z\" fill=\"#000000\" fill-rule=\"nonzero\" fill-opacity=\"1\" /><path clip-path=\"url(#clip900)\" d=\"M181.501 899.535 Q177.89 899.535 176.061 903.1 Q174.255 906.642 174.255 913.771 Q174.255 920.878 176.061 924.443 Q177.89 927.984 181.501 927.984 Q185.135 927.984 186.94 924.443 Q188.769 920.878 188.769 913.771 Q188.769 906.642 186.94 903.1 Q185.135 899.535 181.501 899.535 M181.501 895.832 Q187.311 895.832 190.366 900.438 Q193.445 905.021 193.445 913.771 Q193.445 922.498 190.366 927.105 Q187.311 931.688 181.501 931.688 Q175.691 931.688 172.612 927.105 Q169.556 922.498 169.556 913.771 Q169.556 905.021 172.612 900.438 Q175.691 895.832 181.501 895.832 Z\" fill=\"#000000\" fill-rule=\"nonzero\" fill-opacity=\"1\" /><path clip-path=\"url(#clip900)\" d=\"M91.0151 709.481 Q87.6817 709.481 85.7605 711.263 Q83.8623 713.045 83.8623 716.17 Q83.8623 719.295 85.7605 721.078 Q87.6817 722.86 91.0151 722.86 Q94.3484 722.86 96.2697 721.078 Q98.1909 719.272 98.1909 716.17 Q98.1909 713.045 96.2697 711.263 Q94.3715 709.481 91.0151 709.481 M86.3392 707.49 Q83.3299 706.749 81.6401 704.689 Q79.9735 702.629 79.9735 699.666 Q79.9735 695.522 82.9133 693.115 Q85.8762 690.708 91.0151 690.708 Q96.1771 690.708 99.1169 693.115 Q102.057 695.522 102.057 699.666 Q102.057 702.629 100.367 704.689 Q98.7002 706.749 95.7141 707.49 Q99.0937 708.277 100.969 710.569 Q102.867 712.86 102.867 716.17 Q102.867 721.194 99.7882 723.879 Q96.7326 726.564 91.0151 726.564 Q85.2975 726.564 82.2188 723.879 Q79.1633 721.194 79.1633 716.17 Q79.1633 712.86 81.0614 710.569 Q82.9595 708.277 86.3392 707.49 M84.6262 700.106 Q84.6262 702.791 86.2929 704.296 Q87.9827 705.8 91.0151 705.8 Q94.0243 705.8 95.7141 704.296 Q97.4271 702.791 97.4271 700.106 Q97.4271 697.421 95.7141 695.916 Q94.0243 694.411 91.0151 694.411 Q87.9827 694.411 86.2929 695.916 Q84.6262 697.421 84.6262 700.106 Z\" fill=\"#000000\" fill-rule=\"nonzero\" fill-opacity=\"1\" /><path clip-path=\"url(#clip900)\" d=\"M121.177 694.411 Q117.566 694.411 115.737 697.976 Q113.932 701.518 113.932 708.647 Q113.932 715.754 115.737 719.319 Q117.566 722.86 121.177 722.86 Q124.811 722.86 126.617 719.319 Q128.445 715.754 128.445 708.647 Q128.445 701.518 126.617 697.976 Q124.811 694.411 121.177 694.411 M121.177 690.708 Q126.987 690.708 130.043 695.314 Q133.121 699.897 133.121 708.647 Q133.121 717.374 130.043 721.981 Q126.987 726.564 121.177 726.564 Q115.367 726.564 112.288 721.981 Q109.233 717.374 109.233 708.647 Q109.233 699.897 112.288 695.314 Q115.367 690.708 121.177 690.708 Z\" fill=\"#000000\" fill-rule=\"nonzero\" fill-opacity=\"1\" /><path clip-path=\"url(#clip900)\" d=\"M151.339 694.411 Q147.728 694.411 145.899 697.976 Q144.093 701.518 144.093 708.647 Q144.093 715.754 145.899 719.319 Q147.728 722.86 151.339 722.86 Q154.973 722.86 156.779 719.319 Q158.607 715.754 158.607 708.647 Q158.607 701.518 156.779 697.976 Q154.973 694.411 151.339 694.411 M151.339 690.708 Q157.149 690.708 160.205 695.314 Q163.283 699.897 163.283 708.647 Q163.283 717.374 160.205 721.981 Q157.149 726.564 151.339 726.564 Q145.529 726.564 142.45 721.981 Q139.394 717.374 139.394 708.647 Q139.394 699.897 142.45 695.314 Q145.529 690.708 151.339 690.708 Z\" fill=\"#000000\" fill-rule=\"nonzero\" fill-opacity=\"1\" /><path clip-path=\"url(#clip900)\" d=\"M181.501 694.411 Q177.89 694.411 176.061 697.976 Q174.255 701.518 174.255 708.647 Q174.255 715.754 176.061 719.319 Q177.89 722.86 181.501 722.86 Q185.135 722.86 186.94 719.319 Q188.769 715.754 188.769 708.647 Q188.769 701.518 186.94 697.976 Q185.135 694.411 181.501 694.411 M181.501 690.708 Q187.311 690.708 190.366 695.314 Q193.445 699.897 193.445 708.647 Q193.445 717.374 190.366 721.981 Q187.311 726.564 181.501 726.564 Q175.691 726.564 172.612 721.981 Q169.556 717.374 169.556 708.647 Q169.556 699.897 172.612 695.314 Q175.691 690.708 181.501 690.708 Z\" fill=\"#000000\" fill-rule=\"nonzero\" fill-opacity=\"1\" /><path clip-path=\"url(#clip900)\" d=\"M81.154 520.051 L81.154 515.792 Q82.9133 516.625 84.7188 517.065 Q86.5243 517.505 88.2604 517.505 Q92.89 517.505 95.3206 514.403 Q97.7743 511.278 98.1215 504.935 Q96.7789 506.926 94.7187 507.991 Q92.6586 509.056 90.1586 509.056 Q84.9734 509.056 81.941 505.931 Q78.9318 502.783 78.9318 497.343 Q78.9318 492.019 82.0799 488.801 Q85.2281 485.584 90.4595 485.584 Q96.4548 485.584 99.603 490.19 Q102.774 494.773 102.774 503.523 Q102.774 511.695 98.8854 516.579 Q95.0197 521.44 88.4688 521.44 Q86.7095 521.44 84.904 521.093 Q83.0984 520.746 81.154 520.051 M90.4595 505.398 Q93.6076 505.398 95.4363 503.246 Q97.2882 501.093 97.2882 497.343 Q97.2882 493.616 95.4363 491.463 Q93.6076 489.287 90.4595 489.287 Q87.3114 489.287 85.4595 491.463 Q83.6308 493.616 83.6308 497.343 Q83.6308 501.093 85.4595 503.246 Q87.3114 505.398 90.4595 505.398 Z\" fill=\"#000000\" fill-rule=\"nonzero\" fill-opacity=\"1\" /><path clip-path=\"url(#clip900)\" d=\"M121.177 489.287 Q117.566 489.287 115.737 492.852 Q113.932 496.394 113.932 503.523 Q113.932 510.63 115.737 514.195 Q117.566 517.736 121.177 517.736 Q124.811 517.736 126.617 514.195 Q128.445 510.63 128.445 503.523 Q128.445 496.394 126.617 492.852 Q124.811 489.287 121.177 489.287 M121.177 485.584 Q126.987 485.584 130.043 490.19 Q133.121 494.773 133.121 503.523 Q133.121 512.25 130.043 516.857 Q126.987 521.44 121.177 521.44 Q115.367 521.44 112.288 516.857 Q109.233 512.25 109.233 503.523 Q109.233 494.773 112.288 490.19 Q115.367 485.584 121.177 485.584 Z\" fill=\"#000000\" fill-rule=\"nonzero\" fill-opacity=\"1\" /><path clip-path=\"url(#clip900)\" d=\"M151.339 489.287 Q147.728 489.287 145.899 492.852 Q144.093 496.394 144.093 503.523 Q144.093 510.63 145.899 514.195 Q147.728 517.736 151.339 517.736 Q154.973 517.736 156.779 514.195 Q158.607 510.63 158.607 503.523 Q158.607 496.394 156.779 492.852 Q154.973 489.287 151.339 489.287 M151.339 485.584 Q157.149 485.584 160.205 490.19 Q163.283 494.773 163.283 503.523 Q163.283 512.25 160.205 516.857 Q157.149 521.44 151.339 521.44 Q145.529 521.44 142.45 516.857 Q139.394 512.25 139.394 503.523 Q139.394 494.773 142.45 490.19 Q145.529 485.584 151.339 485.584 Z\" fill=\"#000000\" fill-rule=\"nonzero\" fill-opacity=\"1\" /><path clip-path=\"url(#clip900)\" d=\"M181.501 489.287 Q177.89 489.287 176.061 492.852 Q174.255 496.394 174.255 503.523 Q174.255 510.63 176.061 514.195 Q177.89 517.736 181.501 517.736 Q185.135 517.736 186.94 514.195 Q188.769 510.63 188.769 503.523 Q188.769 496.394 186.94 492.852 Q185.135 489.287 181.501 489.287 M181.501 485.584 Q187.311 485.584 190.366 490.19 Q193.445 494.773 193.445 503.523 Q193.445 512.25 190.366 516.857 Q187.311 521.44 181.501 521.44 Q175.691 521.44 172.612 516.857 Q169.556 512.25 169.556 503.523 Q169.556 494.773 172.612 490.19 Q175.691 485.584 181.501 485.584 Z\" fill=\"#000000\" fill-rule=\"nonzero\" fill-opacity=\"1\" /><path clip-path=\"url(#clip900)\" d=\"M51.6634 311.71 L59.3023 311.71 L59.3023 285.344 L50.9921 287.011 L50.9921 282.751 L59.256 281.085 L63.9319 281.085 L63.9319 311.71 L71.5707 311.71 L71.5707 315.645 L51.6634 315.645 L51.6634 311.71 Z\" fill=\"#000000\" fill-rule=\"nonzero\" fill-opacity=\"1\" /><path clip-path=\"url(#clip900)\" d=\"M91.0151 284.163 Q87.404 284.163 85.5753 287.728 Q83.7697 291.27 83.7697 298.399 Q83.7697 305.506 85.5753 309.071 Q87.404 312.612 91.0151 312.612 Q94.6493 312.612 96.4548 309.071 Q98.2835 305.506 98.2835 298.399 Q98.2835 291.27 96.4548 287.728 Q94.6493 284.163 91.0151 284.163 M91.0151 280.46 Q96.8252 280.46 99.8808 285.066 Q102.959 289.65 102.959 298.399 Q102.959 307.126 99.8808 311.733 Q96.8252 316.316 91.0151 316.316 Q85.2049 316.316 82.1262 311.733 Q79.0707 307.126 79.0707 298.399 Q79.0707 289.65 82.1262 285.066 Q85.2049 280.46 91.0151 280.46 Z\" fill=\"#000000\" fill-rule=\"nonzero\" fill-opacity=\"1\" /><path clip-path=\"url(#clip900)\" d=\"M121.177 284.163 Q117.566 284.163 115.737 287.728 Q113.932 291.27 113.932 298.399 Q113.932 305.506 115.737 309.071 Q117.566 312.612 121.177 312.612 Q124.811 312.612 126.617 309.071 Q128.445 305.506 128.445 298.399 Q128.445 291.27 126.617 287.728 Q124.811 284.163 121.177 284.163 M121.177 280.46 Q126.987 280.46 130.043 285.066 Q133.121 289.65 133.121 298.399 Q133.121 307.126 130.043 311.733 Q126.987 316.316 121.177 316.316 Q115.367 316.316 112.288 311.733 Q109.233 307.126 109.233 298.399 Q109.233 289.65 112.288 285.066 Q115.367 280.46 121.177 280.46 Z\" fill=\"#000000\" fill-rule=\"nonzero\" fill-opacity=\"1\" /><path clip-path=\"url(#clip900)\" d=\"M151.339 284.163 Q147.728 284.163 145.899 287.728 Q144.093 291.27 144.093 298.399 Q144.093 305.506 145.899 309.071 Q147.728 312.612 151.339 312.612 Q154.973 312.612 156.779 309.071 Q158.607 305.506 158.607 298.399 Q158.607 291.27 156.779 287.728 Q154.973 284.163 151.339 284.163 M151.339 280.46 Q157.149 280.46 160.205 285.066 Q163.283 289.65 163.283 298.399 Q163.283 307.126 160.205 311.733 Q157.149 316.316 151.339 316.316 Q145.529 316.316 142.45 311.733 Q139.394 307.126 139.394 298.399 Q139.394 289.65 142.45 285.066 Q145.529 280.46 151.339 280.46 Z\" fill=\"#000000\" fill-rule=\"nonzero\" fill-opacity=\"1\" /><path clip-path=\"url(#clip900)\" d=\"M181.501 284.163 Q177.89 284.163 176.061 287.728 Q174.255 291.27 174.255 298.399 Q174.255 305.506 176.061 309.071 Q177.89 312.612 181.501 312.612 Q185.135 312.612 186.94 309.071 Q188.769 305.506 188.769 298.399 Q188.769 291.27 186.94 287.728 Q185.135 284.163 181.501 284.163 M181.501 280.46 Q187.311 280.46 190.366 285.066 Q193.445 289.65 193.445 298.399 Q193.445 307.126 190.366 311.733 Q187.311 316.316 181.501 316.316 Q175.691 316.316 172.612 311.733 Q169.556 307.126 169.556 298.399 Q169.556 289.65 172.612 285.066 Q175.691 280.46 181.501 280.46 Z\" fill=\"#000000\" fill-rule=\"nonzero\" fill-opacity=\"1\" /><path clip-path=\"url(#clip900)\" d=\"M51.6634 106.586 L59.3023 106.586 L59.3023 80.22 L50.9921 81.8867 L50.9921 77.6275 L59.256 75.9608 L63.9319 75.9608 L63.9319 106.586 L71.5707 106.586 L71.5707 110.521 L51.6634 110.521 L51.6634 106.586 Z\" fill=\"#000000\" fill-rule=\"nonzero\" fill-opacity=\"1\" /><path clip-path=\"url(#clip900)\" d=\"M81.8253 106.586 L89.4641 106.586 L89.4641 80.22 L81.154 81.8867 L81.154 77.6275 L89.4178 75.9608 L94.0937 75.9608 L94.0937 106.586 L101.733 106.586 L101.733 110.521 L81.8253 110.521 L81.8253 106.586 Z\" fill=\"#000000\" fill-rule=\"nonzero\" fill-opacity=\"1\" /><path clip-path=\"url(#clip900)\" d=\"M121.177 79.0395 Q117.566 79.0395 115.737 82.6043 Q113.932 86.1459 113.932 93.2755 Q113.932 100.382 115.737 103.947 Q117.566 107.488 121.177 107.488 Q124.811 107.488 126.617 103.947 Q128.445 100.382 128.445 93.2755 Q128.445 86.1459 126.617 82.6043 Q124.811 79.0395 121.177 79.0395 M121.177 75.3358 Q126.987 75.3358 130.043 79.9423 Q133.121 84.5256 133.121 93.2755 Q133.121 102.002 130.043 106.609 Q126.987 111.192 121.177 111.192 Q115.367 111.192 112.288 106.609 Q109.233 102.002 109.233 93.2755 Q109.233 84.5256 112.288 79.9423 Q115.367 75.3358 121.177 75.3358 Z\" fill=\"#000000\" fill-rule=\"nonzero\" fill-opacity=\"1\" /><path clip-path=\"url(#clip900)\" d=\"M151.339 79.0395 Q147.728 79.0395 145.899 82.6043 Q144.093 86.1459 144.093 93.2755 Q144.093 100.382 145.899 103.947 Q147.728 107.488 151.339 107.488 Q154.973 107.488 156.779 103.947 Q158.607 100.382 158.607 93.2755 Q158.607 86.1459 156.779 82.6043 Q154.973 79.0395 151.339 79.0395 M151.339 75.3358 Q157.149 75.3358 160.205 79.9423 Q163.283 84.5256 163.283 93.2755 Q163.283 102.002 160.205 106.609 Q157.149 111.192 151.339 111.192 Q145.529 111.192 142.45 106.609 Q139.394 102.002 139.394 93.2755 Q139.394 84.5256 142.45 79.9423 Q145.529 75.3358 151.339 75.3358 Z\" fill=\"#000000\" fill-rule=\"nonzero\" fill-opacity=\"1\" /><path clip-path=\"url(#clip900)\" d=\"M181.501 79.0395 Q177.89 79.0395 176.061 82.6043 Q174.255 86.1459 174.255 93.2755 Q174.255 100.382 176.061 103.947 Q177.89 107.488 181.501 107.488 Q185.135 107.488 186.94 103.947 Q188.769 100.382 188.769 93.2755 Q188.769 86.1459 186.94 82.6043 Q185.135 79.0395 181.501 79.0395 M181.501 75.3358 Q187.311 75.3358 190.366 79.9423 Q193.445 84.5256 193.445 93.2755 Q193.445 102.002 190.366 106.609 Q187.311 111.192 181.501 111.192 Q175.691 111.192 172.612 106.609 Q169.556 102.002 169.556 93.2755 Q169.556 84.5256 172.612 79.9423 Q175.691 75.3358 181.501 75.3358 Z\" fill=\"#000000\" fill-rule=\"nonzero\" fill-opacity=\"1\" /><polyline clip-path=\"url(#clip903)\" style=\"stroke:#009af9; stroke-linecap:round; stroke-linejoin:round; stroke-width:4; stroke-opacity:1; fill:none\" points=\"289.539,1384.24 389.695,1290.91 489.851,1202.23 590.007,1117.46 690.163,1035.86 790.32,957.019 890.476,880.732 990.632,806.92 1090.79,735.578 1190.94,666.747 1291.1,600.487 1391.26,536.862 1491.41,475.927 1591.57,417.724 1691.73,362.276 1791.88,309.583 1892.04,259.627 1992.19,212.371 2092.35,167.76 2192.51,125.725 2292.66,86.1857 \"/>\n",
       "<path clip-path=\"url(#clip900)\" d=\"M300.222 196.789 L626.623 196.789 L626.623 93.1086 L300.222 93.1086  Z\" fill=\"#ffffff\" fill-rule=\"evenodd\" fill-opacity=\"1\"/>\n",
       "<polyline clip-path=\"url(#clip900)\" style=\"stroke:#000000; stroke-linecap:round; stroke-linejoin:round; stroke-width:4; stroke-opacity:1; fill:none\" points=\"300.222,196.789 626.623,196.789 626.623,93.1086 300.222,93.1086 300.222,196.789 \"/>\n",
       "<polyline clip-path=\"url(#clip900)\" style=\"stroke:#009af9; stroke-linecap:round; stroke-linejoin:round; stroke-width:4; stroke-opacity:1; fill:none\" points=\"323.814,144.949 465.368,144.949 \"/>\n",
       "<path clip-path=\"url(#clip900)\" d=\"M523.743 125.015 L522.783 133.307 Q522.713 134.056 522.595 134.29 Q522.478 134.501 522.104 134.501 Q521.823 134.501 521.659 134.337 Q521.518 134.15 521.518 133.939 Q521.518 133.822 521.541 133.518 Q521.565 133.213 521.565 133.072 Q521.776 131.62 521.776 130.519 Q521.776 128.482 521.167 127.381 Q520.558 126.257 518.988 125.741 Q517.419 125.203 514.468 125.203 L507.722 125.203 Q506.176 125.203 505.802 125.484 Q505.45 125.765 505.122 127.076 L502.241 138.624 L506.762 138.624 Q508.448 138.624 509.455 138.413 Q510.486 138.202 511.165 137.616 Q511.868 137.007 512.243 136.188 Q512.641 135.368 513.039 133.892 Q513.156 133.4 513.273 133.213 Q513.414 133.026 513.718 133.026 Q513.953 133.026 514.117 133.19 Q514.28 133.33 514.28 133.541 L511.54 144.76 Q511.4 145.322 511.259 145.533 Q511.118 145.721 510.837 145.721 Q510.533 145.721 510.369 145.557 Q510.205 145.393 510.205 145.205 Q510.205 145.018 510.346 144.667 Q510.697 143.144 510.697 142.324 Q510.697 141.856 510.65 141.622 Q510.627 141.387 510.416 141.06 Q510.228 140.708 509.807 140.544 Q509.385 140.38 508.589 140.263 Q507.792 140.123 506.598 140.123 L501.867 140.123 L498.587 153.216 Q498.353 154.082 498.353 154.317 Q498.353 154.574 498.47 154.668 Q498.611 154.738 498.986 154.785 Q499.407 154.855 500.04 154.855 L507.043 154.855 Q508.589 154.855 509.83 154.715 Q511.072 154.574 512.102 154.223 Q513.156 153.872 513.953 153.473 Q514.749 153.075 515.498 152.349 Q516.248 151.6 516.763 150.944 Q517.302 150.265 517.934 149.117 Q518.567 147.969 519.012 147.032 Q519.457 146.072 520.136 144.526 Q520.323 143.964 520.769 143.964 Q521.026 143.964 521.167 144.104 Q521.307 144.222 521.331 144.339 L521.331 144.479 Q521.19 144.924 521.096 145.158 L516.693 155.511 Q516.435 156.097 516.225 156.214 Q516.014 156.331 515.194 156.331 L490.296 156.331 Q489.734 156.331 489.5 156.308 Q489.289 156.284 489.125 156.167 Q488.961 156.026 488.961 155.745 Q488.961 155.3 489.148 155.113 Q489.336 154.902 489.546 154.879 Q489.757 154.855 490.296 154.855 Q491.467 154.855 492.17 154.785 Q492.872 154.715 493.317 154.621 Q493.786 154.504 494.02 154.176 Q494.278 153.848 494.395 153.567 Q494.512 153.263 494.676 152.583 L501 127.217 Q501.234 126.35 501.234 126.069 Q501.234 125.765 501.023 125.577 Q500.836 125.39 500.321 125.32 Q499.805 125.226 499.384 125.226 Q498.986 125.203 498.119 125.203 Q497.557 125.203 497.323 125.179 Q497.112 125.156 496.948 125.039 Q496.784 124.921 496.784 124.664 Q496.784 124.008 497.065 123.867 Q497.369 123.703 498.213 123.703 L522.432 123.703 Q523.392 123.703 523.603 123.914 Q523.837 124.102 523.743 125.015 Z\" fill=\"#000000\" fill-rule=\"nonzero\" fill-opacity=\"1\" /><path clip-path=\"url(#clip900)\" d=\"M538.925 154.719 Q538.925 155.178 538.712 155.293 Q538.499 155.391 537.908 155.391 L534.76 155.391 L532.268 165.294 Q532.072 166.163 532.072 166.901 Q532.072 167.721 532.318 168.082 Q532.58 168.442 533.121 168.442 Q534.187 168.442 535.334 167.475 Q536.498 166.508 537.482 164.147 Q537.613 163.835 537.679 163.77 Q537.761 163.688 537.974 163.688 Q538.384 163.688 538.384 164.015 Q538.384 164.13 538.154 164.655 Q537.941 165.18 537.466 165.95 Q537.007 166.721 536.4 167.442 Q535.81 168.164 534.908 168.688 Q534.006 169.197 533.039 169.197 Q531.678 169.197 530.809 168.328 Q529.957 167.459 529.957 166.098 Q529.957 165.655 530.301 164.245 Q530.645 162.819 532.514 155.391 L529.547 155.391 Q529.137 155.391 528.973 155.375 Q528.825 155.359 528.71 155.277 Q528.612 155.178 528.612 154.981 Q528.612 154.67 528.743 154.539 Q528.874 154.391 529.038 154.375 Q529.219 154.342 529.629 154.342 L532.777 154.342 L534.088 149.013 Q534.219 148.489 534.547 148.194 Q534.892 147.882 535.088 147.849 Q535.285 147.8 535.433 147.8 Q535.875 147.8 536.138 148.046 Q536.4 148.276 536.4 148.702 Q536.4 148.931 535.023 154.342 L537.974 154.342 Q538.351 154.342 538.499 154.358 Q538.663 154.375 538.794 154.457 Q538.925 154.539 538.925 154.719 Z\" fill=\"#000000\" fill-rule=\"nonzero\" fill-opacity=\"1\" /><path clip-path=\"url(#clip900)\" d=\"M543.937 144.339 Q543.937 136.235 546.958 129.7 Q548.247 126.959 550.05 124.664 Q551.854 122.368 553.048 121.361 Q554.243 120.354 554.571 120.354 Q555.039 120.354 555.062 120.823 Q555.062 121.057 554.43 121.642 Q546.701 129.512 546.724 144.339 Q546.724 159.212 554.243 166.777 Q555.062 167.597 555.062 167.855 Q555.062 168.323 554.571 168.323 Q554.243 168.323 553.095 167.363 Q551.947 166.403 550.167 164.201 Q548.387 161.999 547.099 159.306 Q543.937 152.771 543.937 144.339 Z\" fill=\"#000000\" fill-rule=\"nonzero\" fill-opacity=\"1\" /><path clip-path=\"url(#clip900)\" d=\"M579.761 138.483 Q579.761 139.092 579.597 140.287 Q579.433 141.481 579.035 143.214 Q578.637 144.948 578.051 146.775 Q577.489 148.602 576.599 150.429 Q575.709 152.232 574.655 153.661 Q573.601 155.09 572.125 155.98 Q570.65 156.87 568.987 156.87 Q568.214 156.87 567.464 156.753 Q566.715 156.635 565.778 156.261 Q564.841 155.886 564.162 155.277 Q563.482 154.645 563.014 153.52 Q562.546 152.396 562.546 150.92 Q562.546 149.398 563.108 147.36 Q563.693 145.299 565.286 141.083 Q566.106 138.905 566.106 137.71 Q566.106 137.171 565.989 136.843 Q565.872 136.492 565.637 136.375 Q565.403 136.235 565.263 136.211 Q565.145 136.188 564.911 136.188 Q563.623 136.188 562.311 137.523 Q561 138.858 560.063 142.137 Q559.875 142.723 559.758 142.863 Q559.641 143.004 559.29 143.004 Q558.704 142.98 558.704 142.512 Q558.704 142.371 558.868 141.832 Q559.032 141.27 559.337 140.427 Q559.641 139.56 560.18 138.67 Q560.719 137.757 561.374 136.961 Q562.054 136.164 563.014 135.649 Q563.974 135.134 565.052 135.134 Q566.808 135.134 567.886 136.281 Q568.987 137.406 568.987 139.069 Q568.987 139.982 568.401 141.458 Q567.417 144.128 566.972 145.416 Q566.527 146.704 566.059 148.531 Q565.614 150.358 565.614 151.623 Q565.614 153.544 566.504 154.668 Q567.394 155.792 569.174 155.792 Q570.767 155.792 572.196 154.645 Q573.648 153.473 574.608 151.81 Q575.568 150.124 576.295 148.25 Q577.021 146.353 577.349 144.924 Q577.7 143.472 577.7 142.793 Q577.7 140.427 576.084 138.881 Q575.639 138.436 575.475 138.155 Q575.311 137.874 575.311 137.429 Q575.311 136.609 576.037 135.883 Q576.786 135.134 577.653 135.134 Q578.449 135.134 579.105 135.93 Q579.761 136.726 579.761 138.483 Z\" fill=\"#000000\" fill-rule=\"nonzero\" fill-opacity=\"1\" /><path clip-path=\"url(#clip900)\" d=\"M584.615 167.855 Q584.615 167.621 585.224 167.035 Q592.954 159.165 592.954 144.339 Q592.954 129.465 585.529 121.947 Q584.615 121.08 584.615 120.823 Q584.615 120.354 585.084 120.354 Q585.412 120.354 586.559 121.314 Q587.73 122.275 589.487 124.476 Q591.267 126.678 592.579 129.372 Q595.741 135.907 595.741 144.339 Q595.741 152.443 592.719 158.978 Q591.431 161.718 589.628 164.014 Q587.824 166.309 586.63 167.316 Q585.435 168.323 585.084 168.323 Q584.615 168.323 584.615 167.855 Z\" fill=\"#000000\" fill-rule=\"nonzero\" fill-opacity=\"1\" /></svg>\n"
      ],
      "text/html": [
       "<?xml version=\"1.0\" encoding=\"utf-8\"?>\n",
       "<svg xmlns=\"http://www.w3.org/2000/svg\" xmlns:xlink=\"http://www.w3.org/1999/xlink\" width=\"600\" height=\"400\" viewBox=\"0 0 2400 1600\">\n",
       "<defs>\n",
       "  <clipPath id=\"clip950\">\n",
       "    <rect x=\"0\" y=\"0\" width=\"2400\" height=\"1600\"/>\n",
       "  </clipPath>\n",
       "</defs>\n",
       "<path clip-path=\"url(#clip950)\" d=\"M0 1600 L2400 1600 L2400 0 L0 0  Z\" fill=\"#ffffff\" fill-rule=\"evenodd\" fill-opacity=\"1\"/>\n",
       "<defs>\n",
       "  <clipPath id=\"clip951\">\n",
       "    <rect x=\"480\" y=\"0\" width=\"1681\" height=\"1600\"/>\n",
       "  </clipPath>\n",
       "</defs>\n",
       "<defs>\n",
       "  <clipPath id=\"clip952\">\n",
       "    <rect x=\"229\" y=\"47\" width=\"2124\" height=\"1377\"/>\n",
       "  </clipPath>\n",
       "</defs>\n",
       "<path clip-path=\"url(#clip950)\" d=\"M229.445 1423.18 L2352.76 1423.18 L2352.76 47.2441 L229.445 47.2441  Z\" fill=\"#ffffff\" fill-rule=\"evenodd\" fill-opacity=\"1\"/>\n",
       "<polyline clip-path=\"url(#clip952)\" style=\"stroke:#000000; stroke-linecap:round; stroke-linejoin:round; stroke-width:2; stroke-opacity:0.1; fill:none\" points=\"289.539,1423.18 289.539,47.2441 \"/>\n",
       "<polyline clip-path=\"url(#clip952)\" style=\"stroke:#000000; stroke-linecap:round; stroke-linejoin:round; stroke-width:2; stroke-opacity:0.1; fill:none\" points=\"790.32,1423.18 790.32,47.2441 \"/>\n",
       "<polyline clip-path=\"url(#clip952)\" style=\"stroke:#000000; stroke-linecap:round; stroke-linejoin:round; stroke-width:2; stroke-opacity:0.1; fill:none\" points=\"1291.1,1423.18 1291.1,47.2441 \"/>\n",
       "<polyline clip-path=\"url(#clip952)\" style=\"stroke:#000000; stroke-linecap:round; stroke-linejoin:round; stroke-width:2; stroke-opacity:0.1; fill:none\" points=\"1791.88,1423.18 1791.88,47.2441 \"/>\n",
       "<polyline clip-path=\"url(#clip952)\" style=\"stroke:#000000; stroke-linecap:round; stroke-linejoin:round; stroke-width:2; stroke-opacity:0.1; fill:none\" points=\"2292.66,1423.18 2292.66,47.2441 \"/>\n",
       "<polyline clip-path=\"url(#clip950)\" style=\"stroke:#000000; stroke-linecap:round; stroke-linejoin:round; stroke-width:4; stroke-opacity:1; fill:none\" points=\"229.445,1423.18 2352.76,1423.18 \"/>\n",
       "<polyline clip-path=\"url(#clip950)\" style=\"stroke:#000000; stroke-linecap:round; stroke-linejoin:round; stroke-width:4; stroke-opacity:1; fill:none\" points=\"289.539,1423.18 289.539,1404.28 \"/>\n",
       "<polyline clip-path=\"url(#clip950)\" style=\"stroke:#000000; stroke-linecap:round; stroke-linejoin:round; stroke-width:4; stroke-opacity:1; fill:none\" points=\"790.32,1423.18 790.32,1404.28 \"/>\n",
       "<polyline clip-path=\"url(#clip950)\" style=\"stroke:#000000; stroke-linecap:round; stroke-linejoin:round; stroke-width:4; stroke-opacity:1; fill:none\" points=\"1291.1,1423.18 1291.1,1404.28 \"/>\n",
       "<polyline clip-path=\"url(#clip950)\" style=\"stroke:#000000; stroke-linecap:round; stroke-linejoin:round; stroke-width:4; stroke-opacity:1; fill:none\" points=\"1791.88,1423.18 1791.88,1404.28 \"/>\n",
       "<polyline clip-path=\"url(#clip950)\" style=\"stroke:#000000; stroke-linecap:round; stroke-linejoin:round; stroke-width:4; stroke-opacity:1; fill:none\" points=\"2292.66,1423.18 2292.66,1404.28 \"/>\n",
       "<path clip-path=\"url(#clip950)\" d=\"M289.539 1454.1 Q285.928 1454.1 284.099 1457.66 Q282.293 1461.2 282.293 1468.33 Q282.293 1475.44 284.099 1479.01 Q285.928 1482.55 289.539 1482.55 Q293.173 1482.55 294.979 1479.01 Q296.807 1475.44 296.807 1468.33 Q296.807 1461.2 294.979 1457.66 Q293.173 1454.1 289.539 1454.1 M289.539 1450.39 Q295.349 1450.39 298.404 1455 Q301.483 1459.58 301.483 1468.33 Q301.483 1477.06 298.404 1481.67 Q295.349 1486.25 289.539 1486.25 Q283.729 1486.25 280.65 1481.67 Q277.594 1477.06 277.594 1468.33 Q277.594 1459.58 280.65 1455 Q283.729 1450.39 289.539 1450.39 Z\" fill=\"#000000\" fill-rule=\"nonzero\" fill-opacity=\"1\" /><path clip-path=\"url(#clip950)\" d=\"M769.591 1481.64 L785.91 1481.64 L785.91 1485.58 L763.966 1485.58 L763.966 1481.64 Q766.628 1478.89 771.211 1474.26 Q775.817 1469.61 776.998 1468.27 Q779.243 1465.74 780.123 1464.01 Q781.026 1462.25 781.026 1460.56 Q781.026 1457.8 779.081 1456.07 Q777.16 1454.33 774.058 1454.33 Q771.859 1454.33 769.405 1455.09 Q766.975 1455.86 764.197 1457.41 L764.197 1452.69 Q767.021 1451.55 769.475 1450.97 Q771.929 1450.39 773.966 1450.39 Q779.336 1450.39 782.53 1453.08 Q785.725 1455.77 785.725 1460.26 Q785.725 1462.39 784.915 1464.31 Q784.128 1466.2 782.021 1468.8 Q781.442 1469.47 778.341 1472.69 Q775.239 1475.88 769.591 1481.64 Z\" fill=\"#000000\" fill-rule=\"nonzero\" fill-opacity=\"1\" /><path clip-path=\"url(#clip950)\" d=\"M795.771 1451.02 L814.127 1451.02 L814.127 1454.96 L800.053 1454.96 L800.053 1463.43 Q801.072 1463.08 802.09 1462.92 Q803.109 1462.73 804.127 1462.73 Q809.914 1462.73 813.294 1465.9 Q816.674 1469.08 816.674 1474.49 Q816.674 1480.07 813.201 1483.17 Q809.729 1486.25 803.41 1486.25 Q801.234 1486.25 798.965 1485.88 Q796.72 1485.51 794.313 1484.77 L794.313 1480.07 Q796.396 1481.2 798.618 1481.76 Q800.84 1482.32 803.317 1482.32 Q807.322 1482.32 809.66 1480.21 Q811.998 1478.1 811.998 1474.49 Q811.998 1470.88 809.66 1468.77 Q807.322 1466.67 803.317 1466.67 Q801.442 1466.67 799.567 1467.08 Q797.715 1467.5 795.771 1468.38 L795.771 1451.02 Z\" fill=\"#000000\" fill-rule=\"nonzero\" fill-opacity=\"1\" /><path clip-path=\"url(#clip950)\" d=\"M1265.8 1451.02 L1284.16 1451.02 L1284.16 1454.96 L1270.08 1454.96 L1270.08 1463.43 Q1271.1 1463.08 1272.12 1462.92 Q1273.14 1462.73 1274.16 1462.73 Q1279.94 1462.73 1283.32 1465.9 Q1286.7 1469.08 1286.7 1474.49 Q1286.7 1480.07 1283.23 1483.17 Q1279.76 1486.25 1273.44 1486.25 Q1271.26 1486.25 1268.99 1485.88 Q1266.75 1485.51 1264.34 1484.77 L1264.34 1480.07 Q1266.42 1481.2 1268.65 1481.76 Q1270.87 1482.32 1273.35 1482.32 Q1277.35 1482.32 1279.69 1480.21 Q1282.03 1478.1 1282.03 1474.49 Q1282.03 1470.88 1279.69 1468.77 Q1277.35 1466.67 1273.35 1466.67 Q1271.47 1466.67 1269.6 1467.08 Q1267.74 1467.5 1265.8 1468.38 L1265.8 1451.02 Z\" fill=\"#000000\" fill-rule=\"nonzero\" fill-opacity=\"1\" /><path clip-path=\"url(#clip950)\" d=\"M1305.92 1454.1 Q1302.3 1454.1 1300.48 1457.66 Q1298.67 1461.2 1298.67 1468.33 Q1298.67 1475.44 1300.48 1479.01 Q1302.3 1482.55 1305.92 1482.55 Q1309.55 1482.55 1311.36 1479.01 Q1313.18 1475.44 1313.18 1468.33 Q1313.18 1461.2 1311.36 1457.66 Q1309.55 1454.1 1305.92 1454.1 M1305.92 1450.39 Q1311.73 1450.39 1314.78 1455 Q1317.86 1459.58 1317.86 1468.33 Q1317.86 1477.06 1314.78 1481.67 Q1311.73 1486.25 1305.92 1486.25 Q1300.11 1486.25 1297.03 1481.67 Q1293.97 1477.06 1293.97 1468.33 Q1293.97 1459.58 1297.03 1455 Q1300.11 1450.39 1305.92 1450.39 Z\" fill=\"#000000\" fill-rule=\"nonzero\" fill-opacity=\"1\" /><path clip-path=\"url(#clip950)\" d=\"M1765.74 1451.02 L1787.96 1451.02 L1787.96 1453.01 L1775.41 1485.58 L1770.53 1485.58 L1782.33 1454.96 L1765.74 1454.96 L1765.74 1451.02 Z\" fill=\"#000000\" fill-rule=\"nonzero\" fill-opacity=\"1\" /><path clip-path=\"url(#clip950)\" d=\"M1797.12 1451.02 L1815.48 1451.02 L1815.48 1454.96 L1801.41 1454.96 L1801.41 1463.43 Q1802.43 1463.08 1803.44 1462.92 Q1804.46 1462.73 1805.48 1462.73 Q1811.27 1462.73 1814.65 1465.9 Q1818.03 1469.08 1818.03 1474.49 Q1818.03 1480.07 1814.55 1483.17 Q1811.08 1486.25 1804.76 1486.25 Q1802.59 1486.25 1800.32 1485.88 Q1798.07 1485.51 1795.67 1484.77 L1795.67 1480.07 Q1797.75 1481.2 1799.97 1481.76 Q1802.19 1482.32 1804.67 1482.32 Q1808.68 1482.32 1811.01 1480.21 Q1813.35 1478.1 1813.35 1474.49 Q1813.35 1470.88 1811.01 1468.77 Q1808.68 1466.67 1804.67 1466.67 Q1802.8 1466.67 1800.92 1467.08 Q1799.07 1467.5 1797.12 1468.38 L1797.12 1451.02 Z\" fill=\"#000000\" fill-rule=\"nonzero\" fill-opacity=\"1\" /><path clip-path=\"url(#clip950)\" d=\"M2252.27 1481.64 L2259.91 1481.64 L2259.91 1455.28 L2251.6 1456.95 L2251.6 1452.69 L2259.86 1451.02 L2264.54 1451.02 L2264.54 1481.64 L2272.18 1481.64 L2272.18 1485.58 L2252.27 1485.58 L2252.27 1481.64 Z\" fill=\"#000000\" fill-rule=\"nonzero\" fill-opacity=\"1\" /><path clip-path=\"url(#clip950)\" d=\"M2291.62 1454.1 Q2288.01 1454.1 2286.18 1457.66 Q2284.38 1461.2 2284.38 1468.33 Q2284.38 1475.44 2286.18 1479.01 Q2288.01 1482.55 2291.62 1482.55 Q2295.25 1482.55 2297.06 1479.01 Q2298.89 1475.44 2298.89 1468.33 Q2298.89 1461.2 2297.06 1457.66 Q2295.25 1454.1 2291.62 1454.1 M2291.62 1450.39 Q2297.43 1450.39 2300.49 1455 Q2303.56 1459.58 2303.56 1468.33 Q2303.56 1477.06 2300.49 1481.67 Q2297.43 1486.25 2291.62 1486.25 Q2285.81 1486.25 2282.73 1481.67 Q2279.68 1477.06 2279.68 1468.33 Q2279.68 1459.58 2282.73 1455 Q2285.81 1450.39 2291.62 1450.39 Z\" fill=\"#000000\" fill-rule=\"nonzero\" fill-opacity=\"1\" /><path clip-path=\"url(#clip950)\" d=\"M2321.78 1454.1 Q2318.17 1454.1 2316.34 1457.66 Q2314.54 1461.2 2314.54 1468.33 Q2314.54 1475.44 2316.34 1479.01 Q2318.17 1482.55 2321.78 1482.55 Q2325.42 1482.55 2327.22 1479.01 Q2329.05 1475.44 2329.05 1468.33 Q2329.05 1461.2 2327.22 1457.66 Q2325.42 1454.1 2321.78 1454.1 M2321.78 1450.39 Q2327.59 1450.39 2330.65 1455 Q2333.73 1459.58 2333.73 1468.33 Q2333.73 1477.06 2330.65 1481.67 Q2327.59 1486.25 2321.78 1486.25 Q2315.97 1486.25 2312.89 1481.67 Q2309.84 1477.06 2309.84 1468.33 Q2309.84 1459.58 2312.89 1455 Q2315.97 1450.39 2321.78 1450.39 Z\" fill=\"#000000\" fill-rule=\"nonzero\" fill-opacity=\"1\" /><path clip-path=\"url(#clip950)\" d=\"M1299.57 1531.91 Q1299.57 1532.81 1299.15 1533.04 Q1298.73 1533.23 1297.57 1533.23 L1291.39 1533.23 L1286.5 1552.69 Q1286.11 1554.39 1286.11 1555.84 Q1286.11 1557.45 1286.59 1558.16 Q1287.11 1558.87 1288.17 1558.87 Q1290.26 1558.87 1292.52 1556.97 Q1294.81 1555.07 1296.74 1550.43 Q1297 1549.82 1297.12 1549.69 Q1297.28 1549.53 1297.7 1549.53 Q1298.51 1549.53 1298.51 1550.17 Q1298.51 1550.4 1298.06 1551.43 Q1297.64 1552.46 1296.71 1553.97 Q1295.8 1555.49 1294.61 1556.9 Q1293.45 1558.32 1291.68 1559.35 Q1289.91 1560.35 1288.01 1560.35 Q1285.34 1560.35 1283.63 1558.64 Q1281.95 1556.94 1281.95 1554.26 Q1281.95 1553.39 1282.63 1550.62 Q1283.31 1547.82 1286.98 1533.23 L1281.15 1533.23 Q1280.34 1533.23 1280.02 1533.2 Q1279.73 1533.17 1279.51 1533.01 Q1279.31 1532.81 1279.31 1532.43 Q1279.31 1531.82 1279.57 1531.56 Q1279.83 1531.27 1280.15 1531.24 Q1280.51 1531.17 1281.31 1531.17 L1287.49 1531.17 L1290.07 1520.71 Q1290.33 1519.67 1290.97 1519.09 Q1291.65 1518.48 1292.04 1518.42 Q1292.42 1518.32 1292.71 1518.32 Q1293.58 1518.32 1294.1 1518.81 Q1294.61 1519.26 1294.61 1520.09 Q1294.61 1520.54 1291.91 1531.17 L1297.7 1531.17 Q1298.44 1531.17 1298.73 1531.2 Q1299.06 1531.24 1299.31 1531.4 Q1299.57 1531.56 1299.57 1531.91 Z\" fill=\"#000000\" fill-rule=\"nonzero\" fill-opacity=\"1\" /><polyline clip-path=\"url(#clip952)\" style=\"stroke:#000000; stroke-linecap:round; stroke-linejoin:round; stroke-width:2; stroke-opacity:0.1; fill:none\" points=\"229.445,1323.98 2352.76,1323.98 \"/>\n",
       "<polyline clip-path=\"url(#clip952)\" style=\"stroke:#000000; stroke-linecap:round; stroke-linejoin:round; stroke-width:2; stroke-opacity:0.1; fill:none\" points=\"229.445,1118.86 2352.76,1118.86 \"/>\n",
       "<polyline clip-path=\"url(#clip952)\" style=\"stroke:#000000; stroke-linecap:round; stroke-linejoin:round; stroke-width:2; stroke-opacity:0.1; fill:none\" points=\"229.445,913.737 2352.76,913.737 \"/>\n",
       "<polyline clip-path=\"url(#clip952)\" style=\"stroke:#000000; stroke-linecap:round; stroke-linejoin:round; stroke-width:2; stroke-opacity:0.1; fill:none\" points=\"229.445,708.613 2352.76,708.613 \"/>\n",
       "<polyline clip-path=\"url(#clip952)\" style=\"stroke:#000000; stroke-linecap:round; stroke-linejoin:round; stroke-width:2; stroke-opacity:0.1; fill:none\" points=\"229.445,503.489 2352.76,503.489 \"/>\n",
       "<polyline clip-path=\"url(#clip952)\" style=\"stroke:#000000; stroke-linecap:round; stroke-linejoin:round; stroke-width:2; stroke-opacity:0.1; fill:none\" points=\"229.445,298.365 2352.76,298.365 \"/>\n",
       "<polyline clip-path=\"url(#clip952)\" style=\"stroke:#000000; stroke-linecap:round; stroke-linejoin:round; stroke-width:2; stroke-opacity:0.1; fill:none\" points=\"229.445,93.2408 2352.76,93.2408 \"/>\n",
       "<polyline clip-path=\"url(#clip950)\" style=\"stroke:#000000; stroke-linecap:round; stroke-linejoin:round; stroke-width:4; stroke-opacity:1; fill:none\" points=\"229.445,1423.18 229.445,47.2441 \"/>\n",
       "<polyline clip-path=\"url(#clip950)\" style=\"stroke:#000000; stroke-linecap:round; stroke-linejoin:round; stroke-width:4; stroke-opacity:1; fill:none\" points=\"229.445,1323.98 248.343,1323.98 \"/>\n",
       "<polyline clip-path=\"url(#clip950)\" style=\"stroke:#000000; stroke-linecap:round; stroke-linejoin:round; stroke-width:4; stroke-opacity:1; fill:none\" points=\"229.445,1118.86 248.343,1118.86 \"/>\n",
       "<polyline clip-path=\"url(#clip950)\" style=\"stroke:#000000; stroke-linecap:round; stroke-linejoin:round; stroke-width:4; stroke-opacity:1; fill:none\" points=\"229.445,913.737 248.343,913.737 \"/>\n",
       "<polyline clip-path=\"url(#clip950)\" style=\"stroke:#000000; stroke-linecap:round; stroke-linejoin:round; stroke-width:4; stroke-opacity:1; fill:none\" points=\"229.445,708.613 248.343,708.613 \"/>\n",
       "<polyline clip-path=\"url(#clip950)\" style=\"stroke:#000000; stroke-linecap:round; stroke-linejoin:round; stroke-width:4; stroke-opacity:1; fill:none\" points=\"229.445,503.489 248.343,503.489 \"/>\n",
       "<polyline clip-path=\"url(#clip950)\" style=\"stroke:#000000; stroke-linecap:round; stroke-linejoin:round; stroke-width:4; stroke-opacity:1; fill:none\" points=\"229.445,298.365 248.343,298.365 \"/>\n",
       "<polyline clip-path=\"url(#clip950)\" style=\"stroke:#000000; stroke-linecap:round; stroke-linejoin:round; stroke-width:4; stroke-opacity:1; fill:none\" points=\"229.445,93.2408 248.343,93.2408 \"/>\n",
       "<path clip-path=\"url(#clip950)\" d=\"M81.0614 1306.7 L99.4178 1306.7 L99.4178 1310.64 L85.3438 1310.64 L85.3438 1319.11 Q86.3623 1318.76 87.3808 1318.6 Q88.3993 1318.42 89.4178 1318.42 Q95.2049 1318.42 98.5845 1321.59 Q101.964 1324.76 101.964 1330.18 Q101.964 1335.76 98.4919 1338.86 Q95.0197 1341.94 88.7003 1341.94 Q86.5243 1341.94 84.2558 1341.57 Q82.0105 1341.2 79.6031 1340.45 L79.6031 1335.76 Q81.6864 1336.89 83.9086 1337.45 Q86.1308 1338 88.6077 1338 Q92.6123 1338 94.9502 1335.89 Q97.2882 1333.79 97.2882 1330.18 Q97.2882 1326.57 94.9502 1324.46 Q92.6123 1322.35 88.6077 1322.35 Q86.7327 1322.35 84.8577 1322.77 Q83.0058 1323.19 81.0614 1324.07 L81.0614 1306.7 Z\" fill=\"#000000\" fill-rule=\"nonzero\" fill-opacity=\"1\" /><path clip-path=\"url(#clip950)\" d=\"M121.177 1309.78 Q117.566 1309.78 115.737 1313.35 Q113.932 1316.89 113.932 1324.02 Q113.932 1331.13 115.737 1334.69 Q117.566 1338.23 121.177 1338.23 Q124.811 1338.23 126.617 1334.69 Q128.445 1331.13 128.445 1324.02 Q128.445 1316.89 126.617 1313.35 Q124.811 1309.78 121.177 1309.78 M121.177 1306.08 Q126.987 1306.08 130.043 1310.69 Q133.121 1315.27 133.121 1324.02 Q133.121 1332.75 130.043 1337.35 Q126.987 1341.94 121.177 1341.94 Q115.367 1341.94 112.288 1337.35 Q109.233 1332.75 109.233 1324.02 Q109.233 1315.27 112.288 1310.69 Q115.367 1306.08 121.177 1306.08 Z\" fill=\"#000000\" fill-rule=\"nonzero\" fill-opacity=\"1\" /><path clip-path=\"url(#clip950)\" d=\"M151.339 1309.78 Q147.728 1309.78 145.899 1313.35 Q144.093 1316.89 144.093 1324.02 Q144.093 1331.13 145.899 1334.69 Q147.728 1338.23 151.339 1338.23 Q154.973 1338.23 156.779 1334.69 Q158.607 1331.13 158.607 1324.02 Q158.607 1316.89 156.779 1313.35 Q154.973 1309.78 151.339 1309.78 M151.339 1306.08 Q157.149 1306.08 160.205 1310.69 Q163.283 1315.27 163.283 1324.02 Q163.283 1332.75 160.205 1337.35 Q157.149 1341.94 151.339 1341.94 Q145.529 1341.94 142.45 1337.35 Q139.394 1332.75 139.394 1324.02 Q139.394 1315.27 142.45 1310.69 Q145.529 1306.08 151.339 1306.08 Z\" fill=\"#000000\" fill-rule=\"nonzero\" fill-opacity=\"1\" /><path clip-path=\"url(#clip950)\" d=\"M181.501 1309.78 Q177.89 1309.78 176.061 1313.35 Q174.255 1316.89 174.255 1324.02 Q174.255 1331.13 176.061 1334.69 Q177.89 1338.23 181.501 1338.23 Q185.135 1338.23 186.94 1334.69 Q188.769 1331.13 188.769 1324.02 Q188.769 1316.89 186.94 1313.35 Q185.135 1309.78 181.501 1309.78 M181.501 1306.08 Q187.311 1306.08 190.366 1310.69 Q193.445 1315.27 193.445 1324.02 Q193.445 1332.75 190.366 1337.35 Q187.311 1341.94 181.501 1341.94 Q175.691 1341.94 172.612 1337.35 Q169.556 1332.75 169.556 1324.02 Q169.556 1315.27 172.612 1310.69 Q175.691 1306.08 181.501 1306.08 Z\" fill=\"#000000\" fill-rule=\"nonzero\" fill-opacity=\"1\" /><path clip-path=\"url(#clip950)\" d=\"M91.5938 1117 Q88.4456 1117 86.5938 1119.15 Q84.7651 1121.3 84.7651 1125.05 Q84.7651 1128.78 86.5938 1130.96 Q88.4456 1133.11 91.5938 1133.11 Q94.7419 1133.11 96.5706 1130.96 Q98.4224 1128.78 98.4224 1125.05 Q98.4224 1121.3 96.5706 1119.15 Q94.7419 1117 91.5938 1117 M100.876 1102.34 L100.876 1106.6 Q99.1169 1105.77 97.3113 1105.33 Q95.5289 1104.89 93.7697 1104.89 Q89.1401 1104.89 86.6864 1108.02 Q84.2558 1111.14 83.9086 1117.46 Q85.2743 1115.45 87.3345 1114.38 Q89.3947 1113.29 91.8715 1113.29 Q97.0798 1113.29 100.089 1116.46 Q103.121 1119.61 103.121 1125.05 Q103.121 1130.38 99.9733 1133.59 Q96.8252 1136.81 91.5938 1136.81 Q85.5984 1136.81 82.4271 1132.23 Q79.2559 1127.62 79.2559 1118.9 Q79.2559 1110.7 83.1447 1105.84 Q87.0336 1100.96 93.5845 1100.96 Q95.3437 1100.96 97.1261 1101.3 Q98.9317 1101.65 100.876 1102.34 Z\" fill=\"#000000\" fill-rule=\"nonzero\" fill-opacity=\"1\" /><path clip-path=\"url(#clip950)\" d=\"M121.177 1104.66 Q117.566 1104.66 115.737 1108.22 Q113.932 1111.77 113.932 1118.9 Q113.932 1126 115.737 1129.57 Q117.566 1133.11 121.177 1133.11 Q124.811 1133.11 126.617 1129.57 Q128.445 1126 128.445 1118.9 Q128.445 1111.77 126.617 1108.22 Q124.811 1104.66 121.177 1104.66 M121.177 1100.96 Q126.987 1100.96 130.043 1105.56 Q133.121 1110.15 133.121 1118.9 Q133.121 1127.62 130.043 1132.23 Q126.987 1136.81 121.177 1136.81 Q115.367 1136.81 112.288 1132.23 Q109.233 1127.62 109.233 1118.9 Q109.233 1110.15 112.288 1105.56 Q115.367 1100.96 121.177 1100.96 Z\" fill=\"#000000\" fill-rule=\"nonzero\" fill-opacity=\"1\" /><path clip-path=\"url(#clip950)\" d=\"M151.339 1104.66 Q147.728 1104.66 145.899 1108.22 Q144.093 1111.77 144.093 1118.9 Q144.093 1126 145.899 1129.57 Q147.728 1133.11 151.339 1133.11 Q154.973 1133.11 156.779 1129.57 Q158.607 1126 158.607 1118.9 Q158.607 1111.77 156.779 1108.22 Q154.973 1104.66 151.339 1104.66 M151.339 1100.96 Q157.149 1100.96 160.205 1105.56 Q163.283 1110.15 163.283 1118.9 Q163.283 1127.62 160.205 1132.23 Q157.149 1136.81 151.339 1136.81 Q145.529 1136.81 142.45 1132.23 Q139.394 1127.62 139.394 1118.9 Q139.394 1110.15 142.45 1105.56 Q145.529 1100.96 151.339 1100.96 Z\" fill=\"#000000\" fill-rule=\"nonzero\" fill-opacity=\"1\" /><path clip-path=\"url(#clip950)\" d=\"M181.501 1104.66 Q177.89 1104.66 176.061 1108.22 Q174.255 1111.77 174.255 1118.9 Q174.255 1126 176.061 1129.57 Q177.89 1133.11 181.501 1133.11 Q185.135 1133.11 186.94 1129.57 Q188.769 1126 188.769 1118.9 Q188.769 1111.77 186.94 1108.22 Q185.135 1104.66 181.501 1104.66 M181.501 1100.96 Q187.311 1100.96 190.366 1105.56 Q193.445 1110.15 193.445 1118.9 Q193.445 1127.62 190.366 1132.23 Q187.311 1136.81 181.501 1136.81 Q175.691 1136.81 172.612 1132.23 Q169.556 1127.62 169.556 1118.9 Q169.556 1110.15 172.612 1105.56 Q175.691 1100.96 181.501 1100.96 Z\" fill=\"#000000\" fill-rule=\"nonzero\" fill-opacity=\"1\" /><path clip-path=\"url(#clip950)\" d=\"M79.8346 896.457 L102.057 896.457 L102.057 898.447 L89.5104 931.017 L84.6262 931.017 L96.4317 900.392 L79.8346 900.392 L79.8346 896.457 Z\" fill=\"#000000\" fill-rule=\"nonzero\" fill-opacity=\"1\" /><path clip-path=\"url(#clip950)\" d=\"M121.177 899.535 Q117.566 899.535 115.737 903.1 Q113.932 906.642 113.932 913.771 Q113.932 920.878 115.737 924.443 Q117.566 927.984 121.177 927.984 Q124.811 927.984 126.617 924.443 Q128.445 920.878 128.445 913.771 Q128.445 906.642 126.617 903.1 Q124.811 899.535 121.177 899.535 M121.177 895.832 Q126.987 895.832 130.043 900.438 Q133.121 905.021 133.121 913.771 Q133.121 922.498 130.043 927.105 Q126.987 931.688 121.177 931.688 Q115.367 931.688 112.288 927.105 Q109.233 922.498 109.233 913.771 Q109.233 905.021 112.288 900.438 Q115.367 895.832 121.177 895.832 Z\" fill=\"#000000\" fill-rule=\"nonzero\" fill-opacity=\"1\" /><path clip-path=\"url(#clip950)\" d=\"M151.339 899.535 Q147.728 899.535 145.899 903.1 Q144.093 906.642 144.093 913.771 Q144.093 920.878 145.899 924.443 Q147.728 927.984 151.339 927.984 Q154.973 927.984 156.779 924.443 Q158.607 920.878 158.607 913.771 Q158.607 906.642 156.779 903.1 Q154.973 899.535 151.339 899.535 M151.339 895.832 Q157.149 895.832 160.205 900.438 Q163.283 905.021 163.283 913.771 Q163.283 922.498 160.205 927.105 Q157.149 931.688 151.339 931.688 Q145.529 931.688 142.45 927.105 Q139.394 922.498 139.394 913.771 Q139.394 905.021 142.45 900.438 Q145.529 895.832 151.339 895.832 Z\" fill=\"#000000\" fill-rule=\"nonzero\" fill-opacity=\"1\" /><path clip-path=\"url(#clip950)\" d=\"M181.501 899.535 Q177.89 899.535 176.061 903.1 Q174.255 906.642 174.255 913.771 Q174.255 920.878 176.061 924.443 Q177.89 927.984 181.501 927.984 Q185.135 927.984 186.94 924.443 Q188.769 920.878 188.769 913.771 Q188.769 906.642 186.94 903.1 Q185.135 899.535 181.501 899.535 M181.501 895.832 Q187.311 895.832 190.366 900.438 Q193.445 905.021 193.445 913.771 Q193.445 922.498 190.366 927.105 Q187.311 931.688 181.501 931.688 Q175.691 931.688 172.612 927.105 Q169.556 922.498 169.556 913.771 Q169.556 905.021 172.612 900.438 Q175.691 895.832 181.501 895.832 Z\" fill=\"#000000\" fill-rule=\"nonzero\" fill-opacity=\"1\" /><path clip-path=\"url(#clip950)\" d=\"M91.0151 709.481 Q87.6817 709.481 85.7605 711.263 Q83.8623 713.045 83.8623 716.17 Q83.8623 719.295 85.7605 721.078 Q87.6817 722.86 91.0151 722.86 Q94.3484 722.86 96.2697 721.078 Q98.1909 719.272 98.1909 716.17 Q98.1909 713.045 96.2697 711.263 Q94.3715 709.481 91.0151 709.481 M86.3392 707.49 Q83.3299 706.749 81.6401 704.689 Q79.9735 702.629 79.9735 699.666 Q79.9735 695.522 82.9133 693.115 Q85.8762 690.708 91.0151 690.708 Q96.1771 690.708 99.1169 693.115 Q102.057 695.522 102.057 699.666 Q102.057 702.629 100.367 704.689 Q98.7002 706.749 95.7141 707.49 Q99.0937 708.277 100.969 710.569 Q102.867 712.86 102.867 716.17 Q102.867 721.194 99.7882 723.879 Q96.7326 726.564 91.0151 726.564 Q85.2975 726.564 82.2188 723.879 Q79.1633 721.194 79.1633 716.17 Q79.1633 712.86 81.0614 710.569 Q82.9595 708.277 86.3392 707.49 M84.6262 700.106 Q84.6262 702.791 86.2929 704.296 Q87.9827 705.8 91.0151 705.8 Q94.0243 705.8 95.7141 704.296 Q97.4271 702.791 97.4271 700.106 Q97.4271 697.421 95.7141 695.916 Q94.0243 694.411 91.0151 694.411 Q87.9827 694.411 86.2929 695.916 Q84.6262 697.421 84.6262 700.106 Z\" fill=\"#000000\" fill-rule=\"nonzero\" fill-opacity=\"1\" /><path clip-path=\"url(#clip950)\" d=\"M121.177 694.411 Q117.566 694.411 115.737 697.976 Q113.932 701.518 113.932 708.647 Q113.932 715.754 115.737 719.319 Q117.566 722.86 121.177 722.86 Q124.811 722.86 126.617 719.319 Q128.445 715.754 128.445 708.647 Q128.445 701.518 126.617 697.976 Q124.811 694.411 121.177 694.411 M121.177 690.708 Q126.987 690.708 130.043 695.314 Q133.121 699.897 133.121 708.647 Q133.121 717.374 130.043 721.981 Q126.987 726.564 121.177 726.564 Q115.367 726.564 112.288 721.981 Q109.233 717.374 109.233 708.647 Q109.233 699.897 112.288 695.314 Q115.367 690.708 121.177 690.708 Z\" fill=\"#000000\" fill-rule=\"nonzero\" fill-opacity=\"1\" /><path clip-path=\"url(#clip950)\" d=\"M151.339 694.411 Q147.728 694.411 145.899 697.976 Q144.093 701.518 144.093 708.647 Q144.093 715.754 145.899 719.319 Q147.728 722.86 151.339 722.86 Q154.973 722.86 156.779 719.319 Q158.607 715.754 158.607 708.647 Q158.607 701.518 156.779 697.976 Q154.973 694.411 151.339 694.411 M151.339 690.708 Q157.149 690.708 160.205 695.314 Q163.283 699.897 163.283 708.647 Q163.283 717.374 160.205 721.981 Q157.149 726.564 151.339 726.564 Q145.529 726.564 142.45 721.981 Q139.394 717.374 139.394 708.647 Q139.394 699.897 142.45 695.314 Q145.529 690.708 151.339 690.708 Z\" fill=\"#000000\" fill-rule=\"nonzero\" fill-opacity=\"1\" /><path clip-path=\"url(#clip950)\" d=\"M181.501 694.411 Q177.89 694.411 176.061 697.976 Q174.255 701.518 174.255 708.647 Q174.255 715.754 176.061 719.319 Q177.89 722.86 181.501 722.86 Q185.135 722.86 186.94 719.319 Q188.769 715.754 188.769 708.647 Q188.769 701.518 186.94 697.976 Q185.135 694.411 181.501 694.411 M181.501 690.708 Q187.311 690.708 190.366 695.314 Q193.445 699.897 193.445 708.647 Q193.445 717.374 190.366 721.981 Q187.311 726.564 181.501 726.564 Q175.691 726.564 172.612 721.981 Q169.556 717.374 169.556 708.647 Q169.556 699.897 172.612 695.314 Q175.691 690.708 181.501 690.708 Z\" fill=\"#000000\" fill-rule=\"nonzero\" fill-opacity=\"1\" /><path clip-path=\"url(#clip950)\" d=\"M81.154 520.051 L81.154 515.792 Q82.9133 516.625 84.7188 517.065 Q86.5243 517.505 88.2604 517.505 Q92.89 517.505 95.3206 514.403 Q97.7743 511.278 98.1215 504.935 Q96.7789 506.926 94.7187 507.991 Q92.6586 509.056 90.1586 509.056 Q84.9734 509.056 81.941 505.931 Q78.9318 502.783 78.9318 497.343 Q78.9318 492.019 82.0799 488.801 Q85.2281 485.584 90.4595 485.584 Q96.4548 485.584 99.603 490.19 Q102.774 494.773 102.774 503.523 Q102.774 511.695 98.8854 516.579 Q95.0197 521.44 88.4688 521.44 Q86.7095 521.44 84.904 521.093 Q83.0984 520.746 81.154 520.051 M90.4595 505.398 Q93.6076 505.398 95.4363 503.246 Q97.2882 501.093 97.2882 497.343 Q97.2882 493.616 95.4363 491.463 Q93.6076 489.287 90.4595 489.287 Q87.3114 489.287 85.4595 491.463 Q83.6308 493.616 83.6308 497.343 Q83.6308 501.093 85.4595 503.246 Q87.3114 505.398 90.4595 505.398 Z\" fill=\"#000000\" fill-rule=\"nonzero\" fill-opacity=\"1\" /><path clip-path=\"url(#clip950)\" d=\"M121.177 489.287 Q117.566 489.287 115.737 492.852 Q113.932 496.394 113.932 503.523 Q113.932 510.63 115.737 514.195 Q117.566 517.736 121.177 517.736 Q124.811 517.736 126.617 514.195 Q128.445 510.63 128.445 503.523 Q128.445 496.394 126.617 492.852 Q124.811 489.287 121.177 489.287 M121.177 485.584 Q126.987 485.584 130.043 490.19 Q133.121 494.773 133.121 503.523 Q133.121 512.25 130.043 516.857 Q126.987 521.44 121.177 521.44 Q115.367 521.44 112.288 516.857 Q109.233 512.25 109.233 503.523 Q109.233 494.773 112.288 490.19 Q115.367 485.584 121.177 485.584 Z\" fill=\"#000000\" fill-rule=\"nonzero\" fill-opacity=\"1\" /><path clip-path=\"url(#clip950)\" d=\"M151.339 489.287 Q147.728 489.287 145.899 492.852 Q144.093 496.394 144.093 503.523 Q144.093 510.63 145.899 514.195 Q147.728 517.736 151.339 517.736 Q154.973 517.736 156.779 514.195 Q158.607 510.63 158.607 503.523 Q158.607 496.394 156.779 492.852 Q154.973 489.287 151.339 489.287 M151.339 485.584 Q157.149 485.584 160.205 490.19 Q163.283 494.773 163.283 503.523 Q163.283 512.25 160.205 516.857 Q157.149 521.44 151.339 521.44 Q145.529 521.44 142.45 516.857 Q139.394 512.25 139.394 503.523 Q139.394 494.773 142.45 490.19 Q145.529 485.584 151.339 485.584 Z\" fill=\"#000000\" fill-rule=\"nonzero\" fill-opacity=\"1\" /><path clip-path=\"url(#clip950)\" d=\"M181.501 489.287 Q177.89 489.287 176.061 492.852 Q174.255 496.394 174.255 503.523 Q174.255 510.63 176.061 514.195 Q177.89 517.736 181.501 517.736 Q185.135 517.736 186.94 514.195 Q188.769 510.63 188.769 503.523 Q188.769 496.394 186.94 492.852 Q185.135 489.287 181.501 489.287 M181.501 485.584 Q187.311 485.584 190.366 490.19 Q193.445 494.773 193.445 503.523 Q193.445 512.25 190.366 516.857 Q187.311 521.44 181.501 521.44 Q175.691 521.44 172.612 516.857 Q169.556 512.25 169.556 503.523 Q169.556 494.773 172.612 490.19 Q175.691 485.584 181.501 485.584 Z\" fill=\"#000000\" fill-rule=\"nonzero\" fill-opacity=\"1\" /><path clip-path=\"url(#clip950)\" d=\"M51.6634 311.71 L59.3023 311.71 L59.3023 285.344 L50.9921 287.011 L50.9921 282.751 L59.256 281.085 L63.9319 281.085 L63.9319 311.71 L71.5707 311.71 L71.5707 315.645 L51.6634 315.645 L51.6634 311.71 Z\" fill=\"#000000\" fill-rule=\"nonzero\" fill-opacity=\"1\" /><path clip-path=\"url(#clip950)\" d=\"M91.0151 284.163 Q87.404 284.163 85.5753 287.728 Q83.7697 291.27 83.7697 298.399 Q83.7697 305.506 85.5753 309.071 Q87.404 312.612 91.0151 312.612 Q94.6493 312.612 96.4548 309.071 Q98.2835 305.506 98.2835 298.399 Q98.2835 291.27 96.4548 287.728 Q94.6493 284.163 91.0151 284.163 M91.0151 280.46 Q96.8252 280.46 99.8808 285.066 Q102.959 289.65 102.959 298.399 Q102.959 307.126 99.8808 311.733 Q96.8252 316.316 91.0151 316.316 Q85.2049 316.316 82.1262 311.733 Q79.0707 307.126 79.0707 298.399 Q79.0707 289.65 82.1262 285.066 Q85.2049 280.46 91.0151 280.46 Z\" fill=\"#000000\" fill-rule=\"nonzero\" fill-opacity=\"1\" /><path clip-path=\"url(#clip950)\" d=\"M121.177 284.163 Q117.566 284.163 115.737 287.728 Q113.932 291.27 113.932 298.399 Q113.932 305.506 115.737 309.071 Q117.566 312.612 121.177 312.612 Q124.811 312.612 126.617 309.071 Q128.445 305.506 128.445 298.399 Q128.445 291.27 126.617 287.728 Q124.811 284.163 121.177 284.163 M121.177 280.46 Q126.987 280.46 130.043 285.066 Q133.121 289.65 133.121 298.399 Q133.121 307.126 130.043 311.733 Q126.987 316.316 121.177 316.316 Q115.367 316.316 112.288 311.733 Q109.233 307.126 109.233 298.399 Q109.233 289.65 112.288 285.066 Q115.367 280.46 121.177 280.46 Z\" fill=\"#000000\" fill-rule=\"nonzero\" fill-opacity=\"1\" /><path clip-path=\"url(#clip950)\" d=\"M151.339 284.163 Q147.728 284.163 145.899 287.728 Q144.093 291.27 144.093 298.399 Q144.093 305.506 145.899 309.071 Q147.728 312.612 151.339 312.612 Q154.973 312.612 156.779 309.071 Q158.607 305.506 158.607 298.399 Q158.607 291.27 156.779 287.728 Q154.973 284.163 151.339 284.163 M151.339 280.46 Q157.149 280.46 160.205 285.066 Q163.283 289.65 163.283 298.399 Q163.283 307.126 160.205 311.733 Q157.149 316.316 151.339 316.316 Q145.529 316.316 142.45 311.733 Q139.394 307.126 139.394 298.399 Q139.394 289.65 142.45 285.066 Q145.529 280.46 151.339 280.46 Z\" fill=\"#000000\" fill-rule=\"nonzero\" fill-opacity=\"1\" /><path clip-path=\"url(#clip950)\" d=\"M181.501 284.163 Q177.89 284.163 176.061 287.728 Q174.255 291.27 174.255 298.399 Q174.255 305.506 176.061 309.071 Q177.89 312.612 181.501 312.612 Q185.135 312.612 186.94 309.071 Q188.769 305.506 188.769 298.399 Q188.769 291.27 186.94 287.728 Q185.135 284.163 181.501 284.163 M181.501 280.46 Q187.311 280.46 190.366 285.066 Q193.445 289.65 193.445 298.399 Q193.445 307.126 190.366 311.733 Q187.311 316.316 181.501 316.316 Q175.691 316.316 172.612 311.733 Q169.556 307.126 169.556 298.399 Q169.556 289.65 172.612 285.066 Q175.691 280.46 181.501 280.46 Z\" fill=\"#000000\" fill-rule=\"nonzero\" fill-opacity=\"1\" /><path clip-path=\"url(#clip950)\" d=\"M51.6634 106.586 L59.3023 106.586 L59.3023 80.22 L50.9921 81.8867 L50.9921 77.6275 L59.256 75.9608 L63.9319 75.9608 L63.9319 106.586 L71.5707 106.586 L71.5707 110.521 L51.6634 110.521 L51.6634 106.586 Z\" fill=\"#000000\" fill-rule=\"nonzero\" fill-opacity=\"1\" /><path clip-path=\"url(#clip950)\" d=\"M81.8253 106.586 L89.4641 106.586 L89.4641 80.22 L81.154 81.8867 L81.154 77.6275 L89.4178 75.9608 L94.0937 75.9608 L94.0937 106.586 L101.733 106.586 L101.733 110.521 L81.8253 110.521 L81.8253 106.586 Z\" fill=\"#000000\" fill-rule=\"nonzero\" fill-opacity=\"1\" /><path clip-path=\"url(#clip950)\" d=\"M121.177 79.0395 Q117.566 79.0395 115.737 82.6043 Q113.932 86.1459 113.932 93.2755 Q113.932 100.382 115.737 103.947 Q117.566 107.488 121.177 107.488 Q124.811 107.488 126.617 103.947 Q128.445 100.382 128.445 93.2755 Q128.445 86.1459 126.617 82.6043 Q124.811 79.0395 121.177 79.0395 M121.177 75.3358 Q126.987 75.3358 130.043 79.9423 Q133.121 84.5256 133.121 93.2755 Q133.121 102.002 130.043 106.609 Q126.987 111.192 121.177 111.192 Q115.367 111.192 112.288 106.609 Q109.233 102.002 109.233 93.2755 Q109.233 84.5256 112.288 79.9423 Q115.367 75.3358 121.177 75.3358 Z\" fill=\"#000000\" fill-rule=\"nonzero\" fill-opacity=\"1\" /><path clip-path=\"url(#clip950)\" d=\"M151.339 79.0395 Q147.728 79.0395 145.899 82.6043 Q144.093 86.1459 144.093 93.2755 Q144.093 100.382 145.899 103.947 Q147.728 107.488 151.339 107.488 Q154.973 107.488 156.779 103.947 Q158.607 100.382 158.607 93.2755 Q158.607 86.1459 156.779 82.6043 Q154.973 79.0395 151.339 79.0395 M151.339 75.3358 Q157.149 75.3358 160.205 79.9423 Q163.283 84.5256 163.283 93.2755 Q163.283 102.002 160.205 106.609 Q157.149 111.192 151.339 111.192 Q145.529 111.192 142.45 106.609 Q139.394 102.002 139.394 93.2755 Q139.394 84.5256 142.45 79.9423 Q145.529 75.3358 151.339 75.3358 Z\" fill=\"#000000\" fill-rule=\"nonzero\" fill-opacity=\"1\" /><path clip-path=\"url(#clip950)\" d=\"M181.501 79.0395 Q177.89 79.0395 176.061 82.6043 Q174.255 86.1459 174.255 93.2755 Q174.255 100.382 176.061 103.947 Q177.89 107.488 181.501 107.488 Q185.135 107.488 186.94 103.947 Q188.769 100.382 188.769 93.2755 Q188.769 86.1459 186.94 82.6043 Q185.135 79.0395 181.501 79.0395 M181.501 75.3358 Q187.311 75.3358 190.366 79.9423 Q193.445 84.5256 193.445 93.2755 Q193.445 102.002 190.366 106.609 Q187.311 111.192 181.501 111.192 Q175.691 111.192 172.612 106.609 Q169.556 102.002 169.556 93.2755 Q169.556 84.5256 172.612 79.9423 Q175.691 75.3358 181.501 75.3358 Z\" fill=\"#000000\" fill-rule=\"nonzero\" fill-opacity=\"1\" /><polyline clip-path=\"url(#clip952)\" style=\"stroke:#009af9; stroke-linecap:round; stroke-linejoin:round; stroke-width:4; stroke-opacity:1; fill:none\" points=\"289.539,1384.24 389.695,1290.91 489.851,1202.23 590.007,1117.46 690.163,1035.86 790.32,957.019 890.476,880.732 990.632,806.92 1090.79,735.578 1190.94,666.747 1291.1,600.487 1391.26,536.862 1491.41,475.927 1591.57,417.724 1691.73,362.276 1791.88,309.583 1892.04,259.627 1992.19,212.371 2092.35,167.76 2192.51,125.725 2292.66,86.1857 \"/>\n",
       "<path clip-path=\"url(#clip950)\" d=\"M300.222 196.789 L626.623 196.789 L626.623 93.1086 L300.222 93.1086  Z\" fill=\"#ffffff\" fill-rule=\"evenodd\" fill-opacity=\"1\"/>\n",
       "<polyline clip-path=\"url(#clip950)\" style=\"stroke:#000000; stroke-linecap:round; stroke-linejoin:round; stroke-width:4; stroke-opacity:1; fill:none\" points=\"300.222,196.789 626.623,196.789 626.623,93.1086 300.222,93.1086 300.222,196.789 \"/>\n",
       "<polyline clip-path=\"url(#clip950)\" style=\"stroke:#009af9; stroke-linecap:round; stroke-linejoin:round; stroke-width:4; stroke-opacity:1; fill:none\" points=\"323.814,144.949 465.368,144.949 \"/>\n",
       "<path clip-path=\"url(#clip950)\" d=\"M523.743 125.015 L522.783 133.307 Q522.713 134.056 522.595 134.29 Q522.478 134.501 522.104 134.501 Q521.823 134.501 521.659 134.337 Q521.518 134.15 521.518 133.939 Q521.518 133.822 521.541 133.518 Q521.565 133.213 521.565 133.072 Q521.776 131.62 521.776 130.519 Q521.776 128.482 521.167 127.381 Q520.558 126.257 518.988 125.741 Q517.419 125.203 514.468 125.203 L507.722 125.203 Q506.176 125.203 505.802 125.484 Q505.45 125.765 505.122 127.076 L502.241 138.624 L506.762 138.624 Q508.448 138.624 509.455 138.413 Q510.486 138.202 511.165 137.616 Q511.868 137.007 512.243 136.188 Q512.641 135.368 513.039 133.892 Q513.156 133.4 513.273 133.213 Q513.414 133.026 513.718 133.026 Q513.953 133.026 514.117 133.19 Q514.28 133.33 514.28 133.541 L511.54 144.76 Q511.4 145.322 511.259 145.533 Q511.118 145.721 510.837 145.721 Q510.533 145.721 510.369 145.557 Q510.205 145.393 510.205 145.205 Q510.205 145.018 510.346 144.667 Q510.697 143.144 510.697 142.324 Q510.697 141.856 510.65 141.622 Q510.627 141.387 510.416 141.06 Q510.228 140.708 509.807 140.544 Q509.385 140.38 508.589 140.263 Q507.792 140.123 506.598 140.123 L501.867 140.123 L498.587 153.216 Q498.353 154.082 498.353 154.317 Q498.353 154.574 498.47 154.668 Q498.611 154.738 498.986 154.785 Q499.407 154.855 500.04 154.855 L507.043 154.855 Q508.589 154.855 509.83 154.715 Q511.072 154.574 512.102 154.223 Q513.156 153.872 513.953 153.473 Q514.749 153.075 515.498 152.349 Q516.248 151.6 516.763 150.944 Q517.302 150.265 517.934 149.117 Q518.567 147.969 519.012 147.032 Q519.457 146.072 520.136 144.526 Q520.323 143.964 520.769 143.964 Q521.026 143.964 521.167 144.104 Q521.307 144.222 521.331 144.339 L521.331 144.479 Q521.19 144.924 521.096 145.158 L516.693 155.511 Q516.435 156.097 516.225 156.214 Q516.014 156.331 515.194 156.331 L490.296 156.331 Q489.734 156.331 489.5 156.308 Q489.289 156.284 489.125 156.167 Q488.961 156.026 488.961 155.745 Q488.961 155.3 489.148 155.113 Q489.336 154.902 489.546 154.879 Q489.757 154.855 490.296 154.855 Q491.467 154.855 492.17 154.785 Q492.872 154.715 493.317 154.621 Q493.786 154.504 494.02 154.176 Q494.278 153.848 494.395 153.567 Q494.512 153.263 494.676 152.583 L501 127.217 Q501.234 126.35 501.234 126.069 Q501.234 125.765 501.023 125.577 Q500.836 125.39 500.321 125.32 Q499.805 125.226 499.384 125.226 Q498.986 125.203 498.119 125.203 Q497.557 125.203 497.323 125.179 Q497.112 125.156 496.948 125.039 Q496.784 124.921 496.784 124.664 Q496.784 124.008 497.065 123.867 Q497.369 123.703 498.213 123.703 L522.432 123.703 Q523.392 123.703 523.603 123.914 Q523.837 124.102 523.743 125.015 Z\" fill=\"#000000\" fill-rule=\"nonzero\" fill-opacity=\"1\" /><path clip-path=\"url(#clip950)\" d=\"M538.925 154.719 Q538.925 155.178 538.712 155.293 Q538.499 155.391 537.908 155.391 L534.76 155.391 L532.268 165.294 Q532.072 166.163 532.072 166.901 Q532.072 167.721 532.318 168.082 Q532.58 168.442 533.121 168.442 Q534.187 168.442 535.334 167.475 Q536.498 166.508 537.482 164.147 Q537.613 163.835 537.679 163.77 Q537.761 163.688 537.974 163.688 Q538.384 163.688 538.384 164.015 Q538.384 164.13 538.154 164.655 Q537.941 165.18 537.466 165.95 Q537.007 166.721 536.4 167.442 Q535.81 168.164 534.908 168.688 Q534.006 169.197 533.039 169.197 Q531.678 169.197 530.809 168.328 Q529.957 167.459 529.957 166.098 Q529.957 165.655 530.301 164.245 Q530.645 162.819 532.514 155.391 L529.547 155.391 Q529.137 155.391 528.973 155.375 Q528.825 155.359 528.71 155.277 Q528.612 155.178 528.612 154.981 Q528.612 154.67 528.743 154.539 Q528.874 154.391 529.038 154.375 Q529.219 154.342 529.629 154.342 L532.777 154.342 L534.088 149.013 Q534.219 148.489 534.547 148.194 Q534.892 147.882 535.088 147.849 Q535.285 147.8 535.433 147.8 Q535.875 147.8 536.138 148.046 Q536.4 148.276 536.4 148.702 Q536.4 148.931 535.023 154.342 L537.974 154.342 Q538.351 154.342 538.499 154.358 Q538.663 154.375 538.794 154.457 Q538.925 154.539 538.925 154.719 Z\" fill=\"#000000\" fill-rule=\"nonzero\" fill-opacity=\"1\" /><path clip-path=\"url(#clip950)\" d=\"M543.937 144.339 Q543.937 136.235 546.958 129.7 Q548.247 126.959 550.05 124.664 Q551.854 122.368 553.048 121.361 Q554.243 120.354 554.571 120.354 Q555.039 120.354 555.062 120.823 Q555.062 121.057 554.43 121.642 Q546.701 129.512 546.724 144.339 Q546.724 159.212 554.243 166.777 Q555.062 167.597 555.062 167.855 Q555.062 168.323 554.571 168.323 Q554.243 168.323 553.095 167.363 Q551.947 166.403 550.167 164.201 Q548.387 161.999 547.099 159.306 Q543.937 152.771 543.937 144.339 Z\" fill=\"#000000\" fill-rule=\"nonzero\" fill-opacity=\"1\" /><path clip-path=\"url(#clip950)\" d=\"M579.761 138.483 Q579.761 139.092 579.597 140.287 Q579.433 141.481 579.035 143.214 Q578.637 144.948 578.051 146.775 Q577.489 148.602 576.599 150.429 Q575.709 152.232 574.655 153.661 Q573.601 155.09 572.125 155.98 Q570.65 156.87 568.987 156.87 Q568.214 156.87 567.464 156.753 Q566.715 156.635 565.778 156.261 Q564.841 155.886 564.162 155.277 Q563.482 154.645 563.014 153.52 Q562.546 152.396 562.546 150.92 Q562.546 149.398 563.108 147.36 Q563.693 145.299 565.286 141.083 Q566.106 138.905 566.106 137.71 Q566.106 137.171 565.989 136.843 Q565.872 136.492 565.637 136.375 Q565.403 136.235 565.263 136.211 Q565.145 136.188 564.911 136.188 Q563.623 136.188 562.311 137.523 Q561 138.858 560.063 142.137 Q559.875 142.723 559.758 142.863 Q559.641 143.004 559.29 143.004 Q558.704 142.98 558.704 142.512 Q558.704 142.371 558.868 141.832 Q559.032 141.27 559.337 140.427 Q559.641 139.56 560.18 138.67 Q560.719 137.757 561.374 136.961 Q562.054 136.164 563.014 135.649 Q563.974 135.134 565.052 135.134 Q566.808 135.134 567.886 136.281 Q568.987 137.406 568.987 139.069 Q568.987 139.982 568.401 141.458 Q567.417 144.128 566.972 145.416 Q566.527 146.704 566.059 148.531 Q565.614 150.358 565.614 151.623 Q565.614 153.544 566.504 154.668 Q567.394 155.792 569.174 155.792 Q570.767 155.792 572.196 154.645 Q573.648 153.473 574.608 151.81 Q575.568 150.124 576.295 148.25 Q577.021 146.353 577.349 144.924 Q577.7 143.472 577.7 142.793 Q577.7 140.427 576.084 138.881 Q575.639 138.436 575.475 138.155 Q575.311 137.874 575.311 137.429 Q575.311 136.609 576.037 135.883 Q576.786 135.134 577.653 135.134 Q578.449 135.134 579.105 135.93 Q579.761 136.726 579.761 138.483 Z\" fill=\"#000000\" fill-rule=\"nonzero\" fill-opacity=\"1\" /><path clip-path=\"url(#clip950)\" d=\"M584.615 167.855 Q584.615 167.621 585.224 167.035 Q592.954 159.165 592.954 144.339 Q592.954 129.465 585.529 121.947 Q584.615 121.08 584.615 120.823 Q584.615 120.354 585.084 120.354 Q585.412 120.354 586.559 121.314 Q587.73 122.275 589.487 124.476 Q591.267 126.678 592.579 129.372 Q595.741 135.907 595.741 144.339 Q595.741 152.443 592.719 158.978 Q591.431 161.718 589.628 164.014 Q587.824 166.309 586.63 167.316 Q585.435 168.323 585.084 168.323 Q584.615 168.323 584.615 167.855 Z\" fill=\"#000000\" fill-rule=\"nonzero\" fill-opacity=\"1\" /></svg>\n"
      ]
     },
     "execution_count": 64,
     "metadata": {},
     "output_type": "execute_result"
    }
   ],
   "source": [
    "using OrdinaryDiffEq, DiffEqOperators\n",
    "\n",
    "function solve_transition_dynamics(p, t)\n",
    "    (;N, M) = p\n",
    "\n",
    "    ψ_0 = [1.0; fill(0.0, N^M - 1)]\n",
    "    O! = MatrixFreeOperator((dψ, ψ, p, t) -> Q_T_mul!(dψ, ψ, p), (p, 0.0),\n",
    "                            size=(N^M,N^M), opnorm=(p)->1.25)\n",
    "\n",
    "    # define the corresponding ODE problem\n",
    "    prob = ODEProblem(O!,ψ_0,(0.0,t[end]), p)\n",
    "    return solve(prob, LinearExponential(krylov=:simple), tstops = t)\n",
    "end\n",
    "t = 0.0:5.0:100.0\n",
    "p = default_params(N=10, M=6)\n",
    "sol = solve_transition_dynamics(p, t)\n",
    "v = solve_bellman(p)\n",
    "plot(t, [dot(sol(tval), v) for tval in t], xlabel = L\"t\", label = L\"E_t(v)\")"
   ]
  },
  {
   "cell_type": "markdown",
   "id": "64638124",
   "metadata": {},
   "source": [
    "The above plot (1) calculates the full dynamics of the Markov chain from the $n_m = 1$ for all $m$ initial condition; (2) solves the dynamics of a system of a million ODEs; and (3) uses the calculation of the Bellman equation to find the expected valuation during that transition.  The entire process takes less than 30 seconds."
   ]
  }
 ],
 "metadata": {
  "jupytext": {
   "text_representation": {
    "extension": ".md",
    "format_name": "myst"
   }
  },
  "kernelspec": {
   "display_name": "Julia",
   "language": "julia",
   "name": "julia-1.9"
  },
  "language_info": {
   "file_extension": ".jl",
   "mimetype": "application/julia",
   "name": "julia",
   "version": "1.9.2"
  },
  "source_map": [
   10,
   35,
   41,
   102,
   105,
   111,
   116,
   121,
   123,
   127,
   129,
   133,
   136,
   147,
   150,
   157,
   161,
   165,
   168,
   176,
   178,
   182,
   184,
   189,
   191,
   195,
   202,
   244,
   254,
   263,
   265,
   270,
   280,
   287,
   297,
   301,
   303,
   309,
   312,
   335,
   356,
   364,
   376,
   440,
   452,
   525,
   530,
   547,
   551,
   565,
   569,
   586,
   594,
   600,
   604,
   636,
   640,
   644,
   650,
   654,
   660,
   668,
   673,
   686,
   697,
   701,
   711,
   720,
   733,
   750,
   757,
   771,
   774,
   778,
   787,
   794,
   796,
   803,
   806,
   812,
   827,
   834,
   838,
   846,
   854,
   877,
   890,
   896,
   904,
   925,
   936,
   952,
   958,
   962,
   968,
   972,
   977,
   1022,
   1031,
   1037,
   1039,
   1044,
   1048,
   1052,
   1056,
   1061,
   1066,
   1070,
   1095,
   1106,
   1114,
   1123,
   1141,
   1149,
   1161,
   1193,
   1213,
   1218,
   1223,
   1228,
   1234,
   1250,
   1257,
   1261,
   1270,
   1276,
   1285,
   1294,
   1313
  ]
 },
 "nbformat": 4,
 "nbformat_minor": 5
}