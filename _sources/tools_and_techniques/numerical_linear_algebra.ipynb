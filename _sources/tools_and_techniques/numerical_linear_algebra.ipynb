{
 "cells": [
  {
   "cell_type": "markdown",
   "id": "560816e8",
   "metadata": {},
   "source": [
    "(numerical_linear_algebra)=\n",
    "```{raw} html\n",
    "<div id=\"qe-notebook-header\" style=\"text-align:right;\">\n",
    "        <a href=\"https://quantecon.org/\" title=\"quantecon.org\">\n",
    "                <img style=\"width:250px;display:inline;\" src=\"https://assets.quantecon.org/img/qe-menubar-logo.svg\" alt=\"QuantEcon\">\n",
    "        </a>\n",
    "</div>\n",
    "```\n",
    "\n",
    "# Numerical Linear Algebra and Factorizations\n",
    "\n",
    "```{contents} Contents\n",
    ":depth: 2\n",
    "```\n",
    "\n",
    "```{epigraph}\n",
    "You cannot learn too much linear algebra. -- Benedict Gross\n",
    "```\n",
    "\n",
    "## Overview\n",
    "\n",
    "In this lecture, we examine the structure of matrices and linear operators (e.g., dense, sparse, symmetric, tridiagonal, banded) and\n",
    "discuss how the structure can be exploited to radically increase the performance of solving large problems.\n",
    "\n",
    "We build on applications discussed in previous lectures: {doc}`linear algebra <linear_algebra>`, {doc}`orthogonal projections <orth_proj>`, and {doc}`Markov chains <../introduction_dynamics/finite_markov>`.\n",
    "\n",
    "The methods in this section are called direct methods, and they are qualitatively similar to performing Gaussian elimination to factor matrices and solve systems of equations.  In {doc}`iterative methods and sparsity <iterative_methods_sparsity>` we examine a different approach, using iterative algorithms, where we can think of more general linear operators.\n",
    "\n",
    "The list of specialized packages for these tasks is enormous and growing, but some of the important organizations to\n",
    "look at are [JuliaMatrices](https://github.com/JuliaMatrices) , [JuliaSparse](https://github.com/JuliaSparse), and [JuliaMath](https://github.com/JuliaMath)\n",
    "\n",
    "*NOTE*: As this section uses advanced Julia techniques, you may wish to review multiple-dispatch and generic programming in  {doc}`introduction to types <../getting_started_julia/introduction_to_types>`, and consider further study on {doc}`generic programming <../more_julia/generic_programming>`.\n",
    "\n",
    "The theme of this lecture, and numerical linear algebra in general, comes down to three principles:\n",
    "\n",
    "1. **Identify structure** (e.g., [symmetric, sparse, diagonal](https://docs.julialang.org/en/v1/stdlib/LinearAlgebra/index.html#Special-matrices-1)) matrices in order to use **specialized algorithms.**\n",
    "1. **Do not lose structure** by applying the wrong numerical linear algebra operations at the wrong times (e.g., sparse matrix becoming dense)\n",
    "1. Understand the **computational complexity** of each algorithm, given the structure of the inputs."
   ]
  },
  {
   "cell_type": "code",
   "execution_count": 1,
   "id": "3cead91f",
   "metadata": {
    "tags": [
     "hide-output"
    ]
   },
   "outputs": [],
   "source": [
    "using LinearAlgebra, Statistics, BenchmarkTools, SparseArrays, Random, Parameters\n",
    "Random.seed!(42);  # seed random numbers for reproducibility"
   ]
  },
  {
   "cell_type": "markdown",
   "id": "4025f032",
   "metadata": {},
   "source": [
    "### Computational Complexity\n",
    "\n",
    "Ask yourself whether the following is a **computationally expensive** operation as the matrix **size increases**\n",
    "\n",
    "- Multiplying two matrices?\n",
    "    - *Answer*: It depends.  Multiplying two diagonal matrices is trivial.\n",
    "- Solving a linear system of equations?\n",
    "    - *Answer*: It depends.  If the matrix is the identity, the solution is the vector itself.\n",
    "- Finding the eigenvalues of a matrix?\n",
    "    - *Answer*: It depends.  The eigenvalues of a triangular matrix are the diagonal elements.\n",
    "\n",
    "As the goal of this section is to move toward numerical methods with large systems, we need to understand how well algorithms scale with the size of matrices, vectors, etc.  This is known as [computational complexity](https://en.wikipedia.org/wiki/Computational_complexity).  As we saw in the answer to the questions above, the algorithm - and hence the computational complexity - changes based on matrix structure.\n",
    "\n",
    "While this notion of complexity can work at various levels, such as the number of [significant digits](https://en.wikipedia.org/wiki/Computational_complexity_of_mathematical_operations#Arithmetic_functions) for basic mathematical operations, the amount of memory and storage required, or the amount of time, we will typically focus on the time complexity.\n",
    "\n",
    "For time complexity, the size $N$ is usually the dimensionality of the problem, although occasionally the key will be the number of non-zeros in the matrix or the width of bands.  For our applications, time complexity is best thought of as the number of floating point operations (e.g., addition, multiplication) required.\n",
    "\n",
    "#### Notation\n",
    "\n",
    "Complexity of algorithms is typically written in [Big O](https://en.wikipedia.org/wiki/Big_O_notation) notation, which provides bounds on the scaling of the computational complexity with respect to the size of the inputs.\n",
    "\n",
    "Formally, if the number of operations required for a problem size $N$ is $f(N)$, we  can write this as $f(N) = O(g(N))$ for some $g(N)$ - typically a polynomial.\n",
    "\n",
    "The interpretation is that there exist some constants $M$ and $N_0$ such that\n",
    "\n",
    "$$\n",
    "f(N) \\leq M g(N), \\text{ for } N > N_0\n",
    "$$\n",
    "\n",
    "For example, the complexity of finding an LU Decomposition of a dense matrix is $O(N^3)$, which should be read as there being a constant where\n",
    "eventually the number of floating point operations required to decompose a matrix of size $N\\times N$ grows cubically.\n",
    "\n",
    "Keep in mind that these are asymptotic results intended for understanding the scaling of the problem, and the constant can matter for a given\n",
    "fixed size.\n",
    "\n",
    "For example, the number of operations required for an [LU decomposition](https://en.wikipedia.org/wiki/LU_decomposition#Algorithms) of a dense $N \\times N$ matrix is $f(N) = \\frac{2}{3} N^3$, ignoring the $N^2$ and lower terms.  Other methods of solving a linear system may have different constants of proportionality, even if they have the same scaling, $O(N^3)$.\n",
    "\n",
    "### Rules of Computational Complexity\n",
    "\n",
    "You will sometimes need to think through how [combining algorithms](https://en.wikipedia.org/wiki/Big_O_notation#Properties) changes complexity.  For example, if you use\n",
    "\n",
    "1. an $O(N^3)$ operation $P$ times, then it simply changes the constant. The complexity remains $O(N^3)$.\n",
    "1. one $O(N^3)$ operation and one $O(N^2)$ operation, then you take the max.  The complexity remains $O(N^3)$.\n",
    "1. a repetition of an $O(N)$ operation that itself uses an $O(N)$ operation, you take the product.  The complexity becomes $O(N^2)$.\n",
    "\n",
    "With this, we have an important word of caution: Dense-matrix multiplication is an [expensive operation](https://en.wikipedia.org/wiki/Computational_complexity_of_mathematical_operations#Matrix_algebra) for unstructured matrices.  The naive version is $O(N^3)$ while the fastest-known algorithms (e.g., Coppersmith-Winograd) are roughly $O(N^{2.37})$.  In practice, it is reasonable to crudely approximate with $O(N^3)$ when doing an analysis, in part since the higher constant factors of the better scaling algorithms dominate the better complexity until matrices become very large.\n",
    "\n",
    "Of course, modern libraries use highly tuned and numerically stable [algorithms](https://en.wikipedia.org/wiki/Matrix_multiplication_algorithm) to multiply matrices and exploit the computer architecture, memory cache, etc., but this simply lowers the constant of proportionality and they remain roughly approximated by  $O(N^3)$.\n",
    "\n",
    "A consequence is that, since many algorithms require matrix-matrix multiplication, it is often not possible to go below that order without further matrix structure.\n",
    "\n",
    "That is, changing the constant of proportionality for a given size can help, but in order to achieve better scaling you need to identify matrix structure (e.g., tridiagonal, sparse) and ensure that your operations do not lose it.\n",
    "\n",
    "### Losing Structure\n",
    "\n",
    "As a first example of a structured matrix, consider a [sparse array](https://docs.julialang.org/en/v1/stdlib/SparseArrays/index.html)."
   ]
  },
  {
   "cell_type": "code",
   "execution_count": 2,
   "id": "332db080",
   "metadata": {},
   "outputs": [
    {
     "name": "stdout",
     "output_type": "stream",
     "text": [
      "nnz(A) = 46\n",
      "nnz(invA) = "
     ]
    },
    {
     "name": "stdout",
     "output_type": "stream",
     "text": [
      "100\n"
     ]
    }
   ],
   "source": [
    "A = sprand(10, 10, 0.45)  # random sparse 10x10, 45 percent filled with non-zeros\n",
    "\n",
    "@show nnz(A)  # counts the number of non-zeros\n",
    "invA = sparse(inv(Array(A)))  # Julia won't invert sparse, so convert to dense with Array.\n",
    "@show nnz(invA);"
   ]
  },
  {
   "cell_type": "markdown",
   "id": "6c5c9d5e",
   "metadata": {},
   "source": [
    "This increase from less than 50 to 100 percent dense demonstrates that significant sparsity can be lost when computing an inverse.\n",
    "\n",
    "The results can be even more extreme.  Consider a tridiagonal matrix of size $N \\times N$\n",
    "that might come out of a Markov chain or a discretization of a diffusion process,"
   ]
  },
  {
   "cell_type": "code",
   "execution_count": 3,
   "id": "33f6f8d5",
   "metadata": {},
   "outputs": [
    {
     "data": {
      "text/plain": [
       "5×5 Tridiagonal{Float64, Vector{Float64}}:\n",
       " 0.8  0.2   ⋅    ⋅    ⋅ \n",
       " 0.1  0.8  0.1   ⋅    ⋅ \n",
       "  ⋅   0.1  0.8  0.1   ⋅ \n",
       "  ⋅    ⋅   0.1  0.8  0.1\n",
       "  ⋅    ⋅    ⋅   0.2  0.8"
      ]
     },
     "execution_count": 3,
     "metadata": {},
     "output_type": "execute_result"
    }
   ],
   "source": [
    "N = 5\n",
    "A = Tridiagonal([fill(0.1, N-2); 0.2], fill(0.8, N), [0.2; fill(0.1, N-2);])"
   ]
  },
  {
   "cell_type": "markdown",
   "id": "a59cf713",
   "metadata": {},
   "source": [
    "The number of non-zeros here is approximately $3 N$, linear, which scales well for huge matrices into the millions or billions\n",
    "\n",
    "But consider the inverse"
   ]
  },
  {
   "cell_type": "code",
   "execution_count": 4,
   "id": "44dec110",
   "metadata": {},
   "outputs": [
    {
     "data": {
      "text/plain": [
       "5×5 Matrix{Float64}:\n",
       "  1.29099      -0.327957     0.0416667  -0.00537634   0.000672043\n",
       " -0.163978      1.31183     -0.166667    0.0215054   -0.00268817\n",
       "  0.0208333    -0.166667     1.29167    -0.166667     0.0208333\n",
       " -0.00268817    0.0215054   -0.166667    1.31183     -0.163978\n",
       "  0.000672043  -0.00537634   0.0416667  -0.327957     1.29099"
      ]
     },
     "execution_count": 4,
     "metadata": {},
     "output_type": "execute_result"
    }
   ],
   "source": [
    "inv(A)"
   ]
  },
  {
   "cell_type": "markdown",
   "id": "5f310b78",
   "metadata": {},
   "source": [
    "Now, the matrix is fully dense and has $N^2$ non-zeros.\n",
    "\n",
    "This also applies to the $A' A$ operation when forming the normal equations of linear least squares."
   ]
  },
  {
   "cell_type": "code",
   "execution_count": 5,
   "id": "f2df9093",
   "metadata": {},
   "outputs": [
    {
     "name": "stdout",
     "output_type": "stream",
     "text": [
      "nnz(A) / 20 ^ 2 = 0.34\n",
      "nnz(A' * A) / 21 ^ 2 = "
     ]
    },
    {
     "name": "stdout",
     "output_type": "stream",
     "text": [
      "0.9229024943310657\n"
     ]
    }
   ],
   "source": [
    "A = sprand(20, 21, 0.3)\n",
    "@show nnz(A)/20^2\n",
    "@show nnz(A'*A)/21^2;"
   ]
  },
  {
   "cell_type": "markdown",
   "id": "c3a3d2a8",
   "metadata": {},
   "source": [
    "We see that a 30 percent dense matrix becomes almost full dense after the product is taken.\n",
    "\n",
    "*Sparsity/Structure is not just for storage*:  Matrix size can sometimes become important (e.g., a 1 million by 1 million tridiagonal matrix needs to store 3 million numbers (i.e., about 6MB of memory), where a dense one requires 1 trillion (i.e., about 1TB of memory)).\n",
    "\n",
    "But, as we will see, the main purpose of considering sparsity and matrix structure is that it enables specialized algorithms, which typically\n",
    "have a lower computational order than unstructured dense, or even unstructured sparse, operations.\n",
    "\n",
    "First, create a convenient function for benchmarking linear solvers"
   ]
  },
  {
   "cell_type": "code",
   "execution_count": 6,
   "id": "f1143cd6",
   "metadata": {},
   "outputs": [
    {
     "data": {
      "text/plain": [
       "benchmark_solve (generic function with 1 method)"
      ]
     },
     "execution_count": 6,
     "metadata": {},
     "output_type": "execute_result"
    }
   ],
   "source": [
    "using BenchmarkTools\n",
    "function benchmark_solve(A, b)\n",
    "    println(\"A\\\\b for typeof(A) = $(string(typeof(A)))\")\n",
    "    @btime $A \\ $b\n",
    "end"
   ]
  },
  {
   "cell_type": "markdown",
   "id": "bba3eada",
   "metadata": {},
   "source": [
    "Then, take away structure to see the impact on performance,"
   ]
  },
  {
   "cell_type": "code",
   "execution_count": 7,
   "id": "f7cb19ff",
   "metadata": {},
   "outputs": [
    {
     "name": "stdout",
     "output_type": "stream",
     "text": [
      "A\\b for typeof(A) = Tridiagonal{Float64, Vector{Float64}}\n"
     ]
    },
    {
     "name": "stdout",
     "output_type": "stream",
     "text": [
      "  21.499 μs (8 allocations: 47.72 KiB)\n",
      "A\\b for typeof(A) = SparseMatrixCSC{Float64, Int64}\n"
     ]
    },
    {
     "name": "stdout",
     "output_type": "stream",
     "text": [
      "  655.799 μs (79 allocations: 1.03 MiB)\n",
      "A\\b for typeof(A) = Matrix{Float64}\n"
     ]
    },
    {
     "name": "stdout",
     "output_type": "stream",
     "text": [
      "  25.633 ms (4 allocations: 7.64 MiB)\n"
     ]
    }
   ],
   "source": [
    "N = 1000\n",
    "b = rand(N)\n",
    "A = Tridiagonal([fill(0.1, N-2); 0.2], fill(0.8, N), [0.2; fill(0.1, N-2);])\n",
    "A_sparse = sparse(A)  # sparse but losing tridiagonal structure\n",
    "A_dense = Array(A)    # dropping the sparsity structure, dense 1000x1000\n",
    "\n",
    "# benchmark solution to system A x = b\n",
    "benchmark_solve(A, b)\n",
    "benchmark_solve(A_sparse, b)\n",
    "benchmark_solve(A_dense, b);"
   ]
  },
  {
   "cell_type": "markdown",
   "id": "fa06ad31",
   "metadata": {},
   "source": [
    "This example shows what is at stake:  using a structured tridiagonal matrix may be 10-20 times faster than using a sparse matrix, which is 100 times faster than\n",
    "using a dense matrix.\n",
    "\n",
    "In fact, the difference becomes more extreme as the matrices grow.  Solving a tridiagonal system is $O(N)$, while that of a dense matrix without any structure is $O(N^3)$.  The complexity of a sparse solution is more complicated, and scales in part by the `nnz(N)`, i.e., the number of nonzeros.\n",
    "\n",
    "### Matrix Multiplication\n",
    "\n",
    "While we write matrix multiplications in our algebra with abundance, in practice the computational operation scales very poorly without any matrix structure.\n",
    "\n",
    "Matrix multiplication is so important to modern computers that the constant of scaling is small using proper packages, but the order is still roughly $O(N^3)$ in practice (although smaller in theory, as discussed above).\n",
    "\n",
    "Sparse matrix multiplication, on the other hand, is $O(N M_A M_B)$ where $M_A$ is the number of nonzeros per row of $A$ and $M_B$ is the number of non-zeros per column of $B$.\n",
    "\n",
    "By the rules of computational order, that means any algorithm requiring a matrix multiplication of dense matrices requires at least $O(N^3)$ operation.\n",
    "\n",
    "The other important question is what is the structure of the resulting matrix.  For example, multiplying an upper triangular matrix by a lower triangular matrix"
   ]
  },
  {
   "cell_type": "code",
   "execution_count": 8,
   "id": "37d71b67",
   "metadata": {},
   "outputs": [
    {
     "data": {
      "text/plain": [
       "5×5 UpperTriangular{Float64, Matrix{Float64}}:\n",
       " 0.894532  0.620631  0.238642  0.493049  0.418376\n",
       "  ⋅        0.691248  0.640302  0.843674  0.0508756\n",
       "  ⋅         ⋅        0.187509  0.148339  0.732873\n",
       "  ⋅         ⋅         ⋅        0.190347  0.502406\n",
       "  ⋅         ⋅         ⋅         ⋅        0.664839"
      ]
     },
     "execution_count": 8,
     "metadata": {},
     "output_type": "execute_result"
    }
   ],
   "source": [
    "N = 5\n",
    "U = UpperTriangular(rand(N,N))"
   ]
  },
  {
   "cell_type": "code",
   "execution_count": 9,
   "id": "56fe3a2d",
   "metadata": {},
   "outputs": [
    {
     "data": {
      "text/plain": [
       "5×5 LowerTriangular{Float64, Adjoint{Float64, Matrix{Float64}}}:\n",
       " 0.894532   ⋅          ⋅         ⋅         ⋅ \n",
       " 0.620631  0.691248    ⋅         ⋅         ⋅ \n",
       " 0.238642  0.640302   0.187509   ⋅         ⋅ \n",
       " 0.493049  0.843674   0.148339  0.190347   ⋅ \n",
       " 0.418376  0.0508756  0.732873  0.502406  0.664839"
      ]
     },
     "execution_count": 9,
     "metadata": {},
     "output_type": "execute_result"
    }
   ],
   "source": [
    "L = U'"
   ]
  },
  {
   "cell_type": "markdown",
   "id": "a45f393f",
   "metadata": {},
   "source": [
    "But the product is fully dense (e.g., think of a Cholesky multiplied by itself to produce a covariance matrix)"
   ]
  },
  {
   "cell_type": "code",
   "execution_count": 10,
   "id": "513469e3",
   "metadata": {},
   "outputs": [
    {
     "data": {
      "text/plain": [
       "5×5 Matrix{Float64}:\n",
       " 0.800188  0.555175  0.213473  0.441048  0.374251\n",
       " 0.555175  0.863008  0.590717  0.88919   0.294825\n",
       " 0.213473  0.590717  0.502096  0.685683  0.269839\n",
       " 0.441048  0.88919   0.685683  1.01312   0.453547\n",
       " 0.374251  0.294825  0.269839  0.453547  1.40915"
      ]
     },
     "execution_count": 10,
     "metadata": {},
     "output_type": "execute_result"
    }
   ],
   "source": [
    "L * U"
   ]
  },
  {
   "cell_type": "markdown",
   "id": "f21bd5eb",
   "metadata": {},
   "source": [
    "On the other hand, a tridiagonal matrix times a diagonal matrix is still tridiagonal - and can use specialized $O(N)$ algorithms."
   ]
  },
  {
   "cell_type": "code",
   "execution_count": 11,
   "id": "d24c91a3",
   "metadata": {},
   "outputs": [
    {
     "data": {
      "text/plain": [
       "5×5 Tridiagonal{Float64, Vector{Float64}}:\n",
       " 0.080983   0.0202457   ⋅          ⋅          ⋅ \n",
       " 0.0244522  0.195618   0.0244522   ⋅          ⋅ \n",
       "  ⋅         0.0760396  0.608317   0.0760396   ⋅ \n",
       "  ⋅          ⋅         0.0858704  0.686963   0.0858704\n",
       "  ⋅          ⋅          ⋅         0.0113042  0.0452167"
      ]
     },
     "execution_count": 11,
     "metadata": {},
     "output_type": "execute_result"
    }
   ],
   "source": [
    "A = Tridiagonal([fill(0.1, N-2); 0.2], fill(0.8, N), [0.2; fill(0.1, N-2);])\n",
    "D = Diagonal(rand(N))\n",
    "D * A"
   ]
  },
  {
   "cell_type": "markdown",
   "id": "9737f027",
   "metadata": {},
   "source": [
    "## Factorizations\n",
    "\n",
    "When you tell a numerical analyst you are solving a linear system using direct methods, their first question is \"which factorization?\".\n",
    "\n",
    "Just as you can factor a number (e.g., $6 = 3 \\times 2$) you can factor a matrix as the product of other, more\n",
    "convenient matrices (e.g., $A = L U$ or $A = Q R$, where $L, U, Q,$ and $R$ have properties such as being triangular, [orthogonal](https://en.wikipedia.org/wiki/Orthogonal_matrix), etc.).\n",
    "\n",
    "### Inverting Matrices\n",
    "\n",
    "On paper, since the [Invertible Matrix Theorem](https://en.wikipedia.org/wiki/Invertible_matrix#The_invertible_matrix_theorem) tells us that a unique solution is\n",
    "equivalent to $A$ being invertible, we often write the solution to $A x = b$ as\n",
    "\n",
    "$$\n",
    "x = A^{-1} b\n",
    "$$\n",
    "\n",
    "What if we do not (directly) use a factorization?\n",
    "\n",
    "Take a simple linear system of a dense matrix,"
   ]
  },
  {
   "cell_type": "code",
   "execution_count": 12,
   "id": "6a735aa3",
   "metadata": {},
   "outputs": [
    {
     "data": {
      "text/plain": [
       "4-element Vector{Float64}:\n",
       " 0.1692573631849904\n",
       " 0.8286640042337545\n",
       " 0.05607569601441986\n",
       " 0.5958786724371172"
      ]
     },
     "execution_count": 12,
     "metadata": {},
     "output_type": "execute_result"
    }
   ],
   "source": [
    "N = 4\n",
    "A = rand(N,N)\n",
    "b = rand(N)"
   ]
  },
  {
   "cell_type": "markdown",
   "id": "9e651ec2",
   "metadata": {},
   "source": [
    "On paper, we try to solve the system $A x = b$ by inverting the matrix,"
   ]
  },
  {
   "cell_type": "code",
   "execution_count": 13,
   "id": "11b00346",
   "metadata": {},
   "outputs": [
    {
     "data": {
      "text/plain": [
       "4-element Vector{Float64}:\n",
       " -0.4172203630414311\n",
       "  0.01047937208058601\n",
       "  9.118506847017617\n",
       " -4.99195905422948"
      ]
     },
     "execution_count": 13,
     "metadata": {},
     "output_type": "execute_result"
    }
   ],
   "source": [
    "x = inv(A) * b"
   ]
  },
  {
   "cell_type": "markdown",
   "id": "e09a5daf",
   "metadata": {},
   "source": [
    "As we will see throughout, inverting matrices should be used for theory, not for code.  The classic advice that you should [never invert a matrix](https://www.johndcook.com/blog/2010/01/19/dont-invert-that-matrix) may be [slightly exaggerated](https://arxiv.org/abs/1201.6035), but is generally good advice.\n",
    "\n",
    "Solving a system by inverting a matrix is always a little slower, is potentially less accurate, and will sometimes lose crucial sparsity compared to using factorizations.  Moreover, the methods used by libraries to invert matrices are frequently the same factorizations used for computing a system of equations.\n",
    "\n",
    "Even if you need to solve a system with the same matrix multiple times, you are better off factoring the matrix and using the solver rather than calculating an inverse."
   ]
  },
  {
   "cell_type": "code",
   "execution_count": 14,
   "id": "c090b650",
   "metadata": {},
   "outputs": [
    {
     "name": "stdout",
     "output_type": "stream",
     "text": [
      "  357.398 μs (67 allocations: 205.16 KiB)\n"
     ]
    },
    {
     "name": "stdout",
     "output_type": "stream",
     "text": [
      "  249.499 μs (96 allocations: 155.53 KiB)\n"
     ]
    },
    {
     "name": "stdout",
     "output_type": "stream",
     "text": [
      "  166.499 μs (5 allocations: 102.53 KiB)\n"
     ]
    }
   ],
   "source": [
    "N = 100\n",
    "A = rand(N,N)\n",
    "M = 30\n",
    "B = rand(N,M)\n",
    "function solve_inverting(A, B)\n",
    "    A_inv = inv(A)\n",
    "    X = similar(B)\n",
    "    for i in 1:size(B,2)\n",
    "        X[:,i] = A_inv * B[:,i]\n",
    "    end\n",
    "    return X\n",
    "end\n",
    "\n",
    "function solve_factoring(A, B)\n",
    "    X = similar(B)\n",
    "    A = factorize(A)\n",
    "    for i in 1:size(B,2)\n",
    "        X[:,i] = A \\ B[:,i]\n",
    "    end\n",
    "    return X\n",
    "end\n",
    "\n",
    "\n",
    "\n",
    "@btime solve_inverting($A, $B)\n",
    "@btime solve_factoring($A, $B)\n",
    "\n",
    "# even better, use the built-in feature for multiple RHS\n",
    "@btime $A \\ $B;"
   ]
  },
  {
   "cell_type": "markdown",
   "id": "145ae2d6",
   "metadata": {},
   "source": [
    "### Triangular Matrices and Back/Forward Substitution\n",
    "\n",
    "Some matrices are already in a convenient form and require no further factoring.\n",
    "\n",
    "For example, consider solving a system with an `UpperTriangular` matrix,"
   ]
  },
  {
   "cell_type": "code",
   "execution_count": 15,
   "id": "ecff75b7",
   "metadata": {},
   "outputs": [
    {
     "data": {
      "text/plain": [
       "3×3 UpperTriangular{Float64, Matrix{Float64}}:\n",
       " 1.0  2.0  3.0\n",
       "  ⋅   5.0  6.0\n",
       "  ⋅    ⋅   9.0"
      ]
     },
     "execution_count": 15,
     "metadata": {},
     "output_type": "execute_result"
    }
   ],
   "source": [
    "b = [1.0, 2.0, 3.0]\n",
    "U = UpperTriangular([1.0 2.0 3.0; 0.0 5.0 6.0; 0.0 0.0 9.0])"
   ]
  },
  {
   "cell_type": "markdown",
   "id": "f03e476d",
   "metadata": {},
   "source": [
    "This system is especially easy to solve using [back substitution](https://en.wikipedia.org/wiki/Triangular_matrix#Forward_and_back_substitution).  In particular, $x_3 = b_3 / U_{33}, x_2 = (b_2 - x_3 U_{23})/U_{22}$, etc."
   ]
  },
  {
   "cell_type": "code",
   "execution_count": 16,
   "id": "9fde33ba",
   "metadata": {},
   "outputs": [
    {
     "data": {
      "text/plain": [
       "3-element Vector{Float64}:\n",
       " 0.0\n",
       " 0.0\n",
       " 0.3333333333333333"
      ]
     },
     "execution_count": 16,
     "metadata": {},
     "output_type": "execute_result"
    }
   ],
   "source": [
    "U \\ b"
   ]
  },
  {
   "cell_type": "markdown",
   "id": "b56d34da",
   "metadata": {},
   "source": [
    "A `LowerTriangular` matrix has similar properties and can be solved with forward substitution.\n",
    "\n",
    "The computational order of back substitution and forward substitution is $O(N^2)$ for dense matrices.  Those fast algorithms are a key reason that factorizations target triangular structures.\n",
    "\n",
    "(jl_decomposition)=\n",
    "### LU Decomposition\n",
    "\n",
    "The $LU$ decomposition finds a lower triangular matrix $L$ and an upper triangular matrix $U$ such that $L U = A$.\n",
    "\n",
    "For a general dense matrix without any other structure (i.e., not known to be symmetric, tridiagonal, etc.) this is the standard approach to solve a system and exploit the speed of back and forward substitution using the factorization.\n",
    "\n",
    "The computational order of LU decomposition itself for a dense matrix is $O(N^3)$ - the same as Gaussian elimination - but it tends\n",
    "to have a better constant term than others (e.g., half the number of operations of the QR decomposition).  For structured\n",
    "or sparse matrices, that order drops.\n",
    "\n",
    "We can see which algorithm Julia will use for the `\\` operator by looking at the `factorize` function for a given\n",
    "matrix."
   ]
  },
  {
   "cell_type": "code",
   "execution_count": 17,
   "id": "043fe625",
   "metadata": {},
   "outputs": [
    {
     "data": {
      "text/plain": [
       "LU{Float64, Matrix{Float64}, Vector{Int64}}\n",
       "L factor:\n",
       "4×4 Matrix{Float64}:\n",
       " 1.0       0.0       0.0       0.0\n",
       " 0.415843  1.0       0.0       0.0\n",
       " 0.837544  0.412374  1.0       0.0\n",
       " 0.230398  0.451915  0.320159  1.0\n",
       "U factor:\n",
       "4×4 Matrix{Float64}:\n",
       " 0.95462  0.30487   0.196935    0.658974\n",
       " 0.0      0.334293  0.0898636   0.476012\n",
       " 0.0      0.0       0.763321   -0.213677\n",
       " 0.0      0.0       0.0         0.183613"
      ]
     },
     "execution_count": 17,
     "metadata": {},
     "output_type": "execute_result"
    }
   ],
   "source": [
    "N = 4\n",
    "A = rand(N,N)\n",
    "b = rand(N)\n",
    "\n",
    "Af = factorize(A)  # chooses the right factorization, LU here"
   ]
  },
  {
   "cell_type": "markdown",
   "id": "4f089c52",
   "metadata": {},
   "source": [
    "In this case, it provides an $L$ and $U$ factorization (with [pivoting](https://en.wikipedia.org/wiki/LU_decomposition#LU_factorization_with_full_pivoting) ).\n",
    "\n",
    "With the factorization complete, we can solve different `b` right hand sides."
   ]
  },
  {
   "cell_type": "code",
   "execution_count": 18,
   "id": "50f55873",
   "metadata": {},
   "outputs": [
    {
     "data": {
      "text/plain": [
       "4-element Vector{Float64}:\n",
       "  0.5483309544545236\n",
       "  2.4706281021373653\n",
       " -0.5369034286036096\n",
       " -0.8253373998820174"
      ]
     },
     "execution_count": 18,
     "metadata": {},
     "output_type": "execute_result"
    }
   ],
   "source": [
    "Af \\ b"
   ]
  },
  {
   "cell_type": "code",
   "execution_count": 19,
   "id": "04b6e85c",
   "metadata": {},
   "outputs": [
    {
     "data": {
      "text/plain": [
       "4-element Vector{Float64}:\n",
       "  0.3734712417577136\n",
       " -2.072936783435963\n",
       " -0.08980746803909484\n",
       "  1.8007954892470772"
      ]
     },
     "execution_count": 19,
     "metadata": {},
     "output_type": "execute_result"
    }
   ],
   "source": [
    "b2 = rand(N)\n",
    "Af \\ b2"
   ]
  },
  {
   "cell_type": "markdown",
   "id": "41eaa074",
   "metadata": {},
   "source": [
    "In practice, the decomposition also includes a $P$ which is a [permutation matrix](https://en.wikipedia.org/wiki/Permutation_matrix) such\n",
    "that $P A = L U$."
   ]
  },
  {
   "cell_type": "code",
   "execution_count": 20,
   "id": "a3a4290d",
   "metadata": {},
   "outputs": [
    {
     "data": {
      "text/plain": [
       "true"
      ]
     },
     "execution_count": 20,
     "metadata": {},
     "output_type": "execute_result"
    }
   ],
   "source": [
    "Af.P * A ≈ Af.L * Af.U"
   ]
  },
  {
   "cell_type": "markdown",
   "id": "a2636796",
   "metadata": {},
   "source": [
    "We can also directly calculate an LU decomposition with `lu` but without the pivoting,"
   ]
  },
  {
   "cell_type": "code",
   "execution_count": 21,
   "id": "b7592948",
   "metadata": {},
   "outputs": [
    {
     "data": {
      "text/plain": [
       "LU{Float64, Matrix{Float64}, Vector{Int64}}\n",
       "L factor:\n",
       "4×4 Matrix{Float64}:\n",
       " 1.0        0.0     0.0     0.0\n",
       " 0.554051   1.0     0.0     0.0\n",
       " 2.40475   23.5446  1.0     0.0\n",
       " 2.01409   15.6821  0.5334  1.0\n",
       "U factor:\n",
       "4×4 Matrix{Float64}:\n",
       " 0.396972   0.461071    0.171758   0.750041\n",
       " 0.0       -0.0341433   0.235206   0.0665844\n",
       " 0.0        0.0        -5.75392   -2.71239\n",
       " 0.0        0.0         0.0       -0.573506"
      ]
     },
     "execution_count": 21,
     "metadata": {},
     "output_type": "execute_result"
    }
   ],
   "source": [
    "L, U = lu(A, Val(false))  # the Val(false) provides a solution without permutation matrices"
   ]
  },
  {
   "cell_type": "markdown",
   "id": "88874de7",
   "metadata": {},
   "source": [
    "And we can verify the decomposition"
   ]
  },
  {
   "cell_type": "code",
   "execution_count": 22,
   "id": "37ce6801",
   "metadata": {},
   "outputs": [
    {
     "data": {
      "text/plain": [
       "true"
      ]
     },
     "execution_count": 22,
     "metadata": {},
     "output_type": "execute_result"
    }
   ],
   "source": [
    "A ≈ L * U"
   ]
  },
  {
   "cell_type": "markdown",
   "id": "fae12ead",
   "metadata": {},
   "source": [
    "To see roughly how the solver works, note that we can write the problem $A x = b$ as $L U x = b$.  Let $U x = y$, which breaks the\n",
    "problem into two sub-problems.\n",
    "\n",
    "$$\n",
    "\\begin{aligned}\n",
    "L y &= b\\\\\n",
    "U x &= y\n",
    "\\end{aligned}\n",
    "$$\n",
    "\n",
    "As we saw above, this is the solution to two triangular systems, which can be efficiently done with back or forward substitution in $O(N^2)$ operations.\n",
    "\n",
    "To demonstrate this, first using"
   ]
  },
  {
   "cell_type": "code",
   "execution_count": 23,
   "id": "26d00c3e",
   "metadata": {},
   "outputs": [
    {
     "data": {
      "text/plain": [
       "4-element Vector{Float64}:\n",
       "  0.6455522128314688\n",
       " -0.2655926740726696\n",
       "  5.327941090151101\n",
       "  0.47333580651201723"
      ]
     },
     "execution_count": 23,
     "metadata": {},
     "output_type": "execute_result"
    }
   ],
   "source": [
    "y = L \\ b"
   ]
  },
  {
   "cell_type": "code",
   "execution_count": 24,
   "id": "2135e049",
   "metadata": {},
   "outputs": [
    {
     "data": {
      "text/plain": [
       "true"
      ]
     },
     "execution_count": 24,
     "metadata": {},
     "output_type": "execute_result"
    }
   ],
   "source": [
    "x = U \\ y\n",
    "x ≈ A \\ b  # Check identical"
   ]
  },
  {
   "cell_type": "markdown",
   "id": "6c7b54f2",
   "metadata": {},
   "source": [
    "The LU decomposition also has specialized algorithms for structured matrices, such as a `Tridiagonal`"
   ]
  },
  {
   "cell_type": "code",
   "execution_count": 25,
   "id": "4b03e440",
   "metadata": {},
   "outputs": [
    {
     "data": {
      "text/plain": [
       "LU{Float64, Tridiagonal{Float64, Vector{Float64}}, Vector{Int64}}"
      ]
     },
     "execution_count": 25,
     "metadata": {},
     "output_type": "execute_result"
    }
   ],
   "source": [
    "N = 1000\n",
    "b = rand(N)\n",
    "A = Tridiagonal([fill(0.1, N-2); 0.2], fill(0.8, N), [0.2; fill(0.1, N-2);])\n",
    "factorize(A) |> typeof"
   ]
  },
  {
   "cell_type": "markdown",
   "id": "449a50ba",
   "metadata": {},
   "source": [
    "This factorization is the key to the performance of the `A \\ b` in this case.  For Tridiagonal matrices, the\n",
    "LU decomposition is $O(N^2)$.\n",
    "\n",
    "Finally, just as a dense matrix without any structure uses an LU decomposition to solve a system,\n",
    "so will the sparse solvers"
   ]
  },
  {
   "cell_type": "code",
   "execution_count": 26,
   "id": "399d48c5",
   "metadata": {},
   "outputs": [
    {
     "data": {
      "text/plain": [
       "SparseArrays.UMFPACK.UmfpackLU{Float64, Int64}"
      ]
     },
     "execution_count": 26,
     "metadata": {},
     "output_type": "execute_result"
    }
   ],
   "source": [
    "A_sparse = sparse(A)\n",
    "factorize(A_sparse) |> typeof  # dropping the tridiagonal structure to just become sparse"
   ]
  },
  {
   "cell_type": "code",
   "execution_count": 27,
   "id": "df36ca90",
   "metadata": {},
   "outputs": [
    {
     "name": "stdout",
     "output_type": "stream",
     "text": [
      "A\\b for typeof(A) = Tridiagonal{Float64, Vector{Float64}}\n"
     ]
    },
    {
     "name": "stdout",
     "output_type": "stream",
     "text": [
      "  22.500 μs (8 allocations: 47.72 KiB)\n",
      "A\\b for typeof(A) = SparseMatrixCSC{Float64, Int64}\n"
     ]
    },
    {
     "name": "stdout",
     "output_type": "stream",
     "text": [
      "  653.797 μs (79 allocations: 1.03 MiB)\n"
     ]
    }
   ],
   "source": [
    "benchmark_solve(A, b)\n",
    "benchmark_solve(A_sparse, b);"
   ]
  },
  {
   "cell_type": "markdown",
   "id": "20b01a9e",
   "metadata": {},
   "source": [
    "With sparsity, the computational order is related to the number of non-zeros rather than the size of the matrix itself.\n",
    "\n",
    "### Cholesky Decomposition\n",
    "\n",
    "For real, symmetric, [positive semi-definite](https://en.wikipedia.org/wiki/Definiteness_of_a_matrix) matrices, a Cholesky decomposition is a specialized example of an LU decomposition where $L = U'$.\n",
    "\n",
    "The Cholesky is directly useful on its own (e.g., {doc}`Classical Control with Linear Algebra <../time_series_models/classical_filtering>`), but it is also an efficient factorization to use in solving symmetric positive semi-definite systems.\n",
    "\n",
    "As always, symmetry allows specialized algorithms."
   ]
  },
  {
   "cell_type": "code",
   "execution_count": 28,
   "id": "35a2b281",
   "metadata": {},
   "outputs": [
    {
     "data": {
      "text/plain": [
       "BunchKaufman{Float64, Matrix{Float64}, Vector{Int64}}"
      ]
     },
     "execution_count": 28,
     "metadata": {},
     "output_type": "execute_result"
    }
   ],
   "source": [
    "N = 500\n",
    "B = rand(N,N)\n",
    "A_dense = B' * B  # an easy way to generate a symmetric positive semi-definite matrix\n",
    "A = Symmetric(A_dense)  # flags the matrix as symmetric\n",
    "\n",
    "factorize(A) |> typeof"
   ]
  },
  {
   "cell_type": "markdown",
   "id": "bd24bd27",
   "metadata": {},
   "source": [
    "Here, the $A$ decomposition is [Bunch-Kaufman](https://docs.julialang.org/en/v1/stdlib/LinearAlgebra/index.html#LinearAlgebra.bunchkaufman) rather than\n",
    "Cholesky, because Julia doesn't know that the matrix is positive semi-definite.  We can manually factorize with a Cholesky,"
   ]
  },
  {
   "cell_type": "code",
   "execution_count": 29,
   "id": "bb6fa7a6",
   "metadata": {},
   "outputs": [
    {
     "data": {
      "text/plain": [
       "Cholesky{Float64, Matrix{Float64}}"
      ]
     },
     "execution_count": 29,
     "metadata": {},
     "output_type": "execute_result"
    }
   ],
   "source": [
    "cholesky(A) |> typeof"
   ]
  },
  {
   "cell_type": "markdown",
   "id": "f82627ed",
   "metadata": {},
   "source": [
    "Benchmarking,"
   ]
  },
  {
   "cell_type": "code",
   "execution_count": 30,
   "id": "a17fd5b6",
   "metadata": {},
   "outputs": [
    {
     "name": "stdout",
     "output_type": "stream",
     "text": [
      "A\\b for typeof(A) = Symmetric{Float64, Matrix{Float64}}\n"
     ]
    },
    {
     "name": "stdout",
     "output_type": "stream",
     "text": [
      "  3.592 ms (6 allocations: 2.16 MiB)\n",
      "A\\b for typeof(A) = Matrix{Float64}\n"
     ]
    },
    {
     "name": "stdout",
     "output_type": "stream",
     "text": [
      "  4.205 ms (4 allocations: 1.92 MiB)\n"
     ]
    },
    {
     "name": "stdout",
     "output_type": "stream",
     "text": [
      "  3.002 ms (3 allocations: 1.91 MiB)\n"
     ]
    }
   ],
   "source": [
    "b = rand(N)\n",
    "cholesky(A) \\ b  # use the factorization to solve\n",
    "\n",
    "benchmark_solve(A, b)\n",
    "benchmark_solve(A_dense, b)\n",
    "@btime cholesky($A, check=false) \\ $b;"
   ]
  },
  {
   "cell_type": "markdown",
   "id": "7150942f",
   "metadata": {},
   "source": [
    "### QR Decomposition\n",
    "\n",
    "Previously, we learned about applications of the QR decomposition to solving the linear least squares.\n",
    "\n",
    "While in principle the solution to the least-squares problem\n",
    "\n",
    "$$\n",
    "\\min_x \\| Ax -b \\|^2\n",
    "$$\n",
    "\n",
    "is $x = (A'A)^{-1}A'b$, in practice note that $A'A$ becomes dense and calculating the inverse is rarely a good idea.\n",
    "\n",
    "The QR decomposition is a decomposition $A = Q R$ where $Q$ is an orthogonal matrix (i.e., $Q'Q = Q Q' = I$) and $R$ is\n",
    "an upper triangular matrix.\n",
    "\n",
    "Given the  previous derivation, we showed that we can write the least-squares problem as\n",
    "the solution to\n",
    "\n",
    "$$\n",
    "R x = Q' b\n",
    "$$\n",
    "\n",
    "where, as discussed above, the upper-triangular structure of $R$ can be solved easily with back substitution.\n",
    "\n",
    "The `\\` operator solves the linear least-squares problem whenever the given `A` is rectangular"
   ]
  },
  {
   "cell_type": "code",
   "execution_count": 31,
   "id": "a54aaea7",
   "metadata": {},
   "outputs": [
    {
     "data": {
      "text/plain": [
       "3-element Vector{Float64}:\n",
       " -0.5238169732680477\n",
       " -0.12063059869195494\n",
       "  0.8918137920710699"
      ]
     },
     "execution_count": 31,
     "metadata": {},
     "output_type": "execute_result"
    }
   ],
   "source": [
    "N = 10\n",
    "M = 3\n",
    "x_true = rand(3)\n",
    "\n",
    "A = rand(N,M) .+ randn(N)\n",
    "b = rand(N)\n",
    "x = A \\ b"
   ]
  },
  {
   "cell_type": "markdown",
   "id": "f2a33483",
   "metadata": {},
   "source": [
    "To manually use the QR decomposition in solving linear least squares:"
   ]
  },
  {
   "cell_type": "code",
   "execution_count": 32,
   "id": "08085f5a",
   "metadata": {},
   "outputs": [
    {
     "name": "stdout",
     "output_type": "stream",
     "text": [
      "Q * R ≈ A = true\n"
     ]
    },
    {
     "data": {
      "text/plain": [
       "3-element Vector{Float64}:\n",
       " -0.5238169732680469\n",
       " -0.12063059869195494\n",
       "  0.8918137920710691"
      ]
     },
     "execution_count": 32,
     "metadata": {},
     "output_type": "execute_result"
    }
   ],
   "source": [
    "Af = qr(A)\n",
    "Q = Af.Q\n",
    "R = [Af.R; zeros(N - M, M)] # Stack with zeros\n",
    "@show Q * R ≈ A\n",
    "x = R \\ Q'*b  # simplified QR solution for least squares"
   ]
  },
  {
   "cell_type": "markdown",
   "id": "71deb8fe",
   "metadata": {},
   "source": [
    "This stacks the `R` with zeros, but the more specialized algorithm would not multiply directly\n",
    "in that way.\n",
    "\n",
    "In some cases, if an LU is not available for a particular matrix structure, the QR factorization\n",
    "can also be used to solve systems of equations (i.e., not just LLS).  This tends to be about 2 times slower than the LU\n",
    "but is of the same computational order.\n",
    "\n",
    "Deriving the approach, where we can now use the inverse since the system is square and we assumed $A$ was non-singular,\n",
    "\n",
    "$$\n",
    "\\begin{aligned}\n",
    "A x &= b\\\\\n",
    "Q R x &= b\\\\\n",
    "Q^{-1} Q R x &= Q^{-1} b\\\\\n",
    "R x &= Q' b\n",
    "\\end{aligned}\n",
    "$$\n",
    "\n",
    "where the last step uses the fact that $Q^{-1} = Q'$ for an orthogonal matrix.\n",
    "\n",
    "Given the decomposition, the solution for dense matrices is of computational\n",
    "order $O(N^2)$.  To see this, look at the order of each operation.\n",
    "\n",
    "- Since $R$ is an upper-triangular matrix, it can be solved quickly through back substitution with computational order $O(N^2)$\n",
    "- A transpose operation is of order $O(N^2)$\n",
    "- A matrix-vector product is also $O(N^2)$\n",
    "\n",
    "In all cases, the order would drop depending on the sparsity pattern of the\n",
    "matrix (and corresponding decomposition).  A key benefit of a QR decomposition is that it tends to\n",
    "maintain sparsity.\n",
    "\n",
    "Without implementing the full process, you can form a QR\n",
    "factorization with `qr` and then use it to solve a system"
   ]
  },
  {
   "cell_type": "code",
   "execution_count": 33,
   "id": "3b2ab08a",
   "metadata": {},
   "outputs": [
    {
     "name": "stdout",
     "output_type": "stream",
     "text": [
      "A \\ b = [-1.0375649582146846, -12.139453854554883, 6.356088063778175, 3.8473591088663284, 2.045532886550066]\n",
      "qr(A) \\ b = "
     ]
    },
    {
     "name": "stdout",
     "output_type": "stream",
     "text": [
      "[-1.0375649582146882, -12.13945385455488, 6.356088063778179, 3.8473591088663257, 2.045532886550066]\n"
     ]
    }
   ],
   "source": [
    "N = 5\n",
    "A = rand(N,N)\n",
    "b = rand(N)\n",
    "@show A \\ b\n",
    "@show qr(A) \\ b;"
   ]
  },
  {
   "cell_type": "markdown",
   "id": "5d3b6c87",
   "metadata": {},
   "source": [
    "### Spectral Decomposition\n",
    "\n",
    "A spectral decomposition, also known as an [eigendecomposition](https://en.wikipedia.org/wiki/Eigendecomposition_of_a_matrix), finds all of the eigenvectors and eigenvalues to decompose a square matrix `A` such that\n",
    "\n",
    "$$\n",
    "A = Q \\Lambda Q^{-1}\n",
    "$$\n",
    "\n",
    "where $Q$ is a matrix made of the eigenvectors of $A$ as columns, and $\\Lambda$ is a diagonal matrix of the eigenvalues.  Only square, [diagonalizable](https://en.wikipedia.org/wiki/Diagonalizable_matrix) matrices have an eigendecomposition (where a matrix is not diagonalizable if it does not have a full set of linearly independent eigenvectors).\n",
    "\n",
    "In Julia, whenever you ask for a full set of eigenvectors and eigenvalues, it  decomposes using an algorithm appropriate for the matrix type.  For example, symmetric, Hermitian, and tridiagonal matrices have specialized algorithms.\n",
    "\n",
    "To see this,"
   ]
  },
  {
   "cell_type": "code",
   "execution_count": 34,
   "id": "f54f25b9",
   "metadata": {},
   "outputs": [
    {
     "data": {
      "text/plain": [
       "3.9801437366711736e-15"
      ]
     },
     "execution_count": 34,
     "metadata": {},
     "output_type": "execute_result"
    }
   ],
   "source": [
    "A = Symmetric(rand(5, 5))  # symmetric matrices have real eigenvectors/eigenvalues\n",
    "A_eig = eigen(A)\n",
    "Λ = Diagonal(A_eig.values)\n",
    "Q = A_eig.vectors\n",
    "norm(Q * Λ * inv(Q) - A)"
   ]
  },
  {
   "cell_type": "markdown",
   "id": "e711f8ca",
   "metadata": {},
   "source": [
    "Keep in mind that a real matrix may have complex eigenvalues and eigenvectors, so if you attempt  to check `Q * Λ * inv(Q) - A` - even for a positive-definite matrix - it may not be a real number due to numerical inaccuracy.\n",
    "\n",
    "## Continuous-Time Markov Chains (CTMCs)\n",
    "\n",
    "In the lecture on {doc}`discrete-time Markov chains <../introduction_dynamics/finite_markov>`, we saw that the transition probability\n",
    "between state $x$ and state $y$ was summarized by the matrix $P(x, y) := \\mathbb P \\{ X_{t+1} = y \\,|\\, X_t = x \\}$.\n",
    "\n",
    "As a brief introduction to continuous time processes, consider the same state space as in the discrete\n",
    "case: $S$ is a finite set with $n$ elements $\\{x_1, \\ldots, x_n\\}$.\n",
    "\n",
    "A **Markov chain** $\\{X_t\\}$ on $S$ is a sequence of random variables on $S$ that have the **Markov property**.\n",
    "\n",
    "In continuous time, the [Markov Property](https://en.wikipedia.org/wiki/Markov_property) is more complicated, but intuitively is\n",
    "the same as the discrete-time case.\n",
    "\n",
    "That is, knowing the current state is enough to know probabilities for future states.  Or, for realizations $x(\\tau)\\in S, \\tau \\leq t$,\n",
    "\n",
    "$$\n",
    "\\mathbb P \\{ X(t+s) = y  \\,|\\, X(t) = x, X(\\tau) = x(\\tau) \\text{ for } 0 \\leq \\tau \\leq t  \\} = \\mathbb P \\{ X(t+s) = y  \\,|\\, X(t) = x\\}\n",
    "$$\n",
    "\n",
    "Heuristically, consider a time period $t$ and a small step forward, $\\Delta$.  Then the probability to transition from state $i$ to\n",
    "state $j$ is\n",
    "\n",
    "$$\n",
    "\\mathbb P \\{ X(t + \\Delta) = j  \\,|\\, X(t) \\} = \\begin{cases} q_{ij} \\Delta + o(\\Delta) & i \\neq j\\\\\n",
    "                                                              1 + q_{ii} \\Delta + o(\\Delta) & i = j \\end{cases}\n",
    "$$\n",
    "\n",
    "where the $q_{ij}$ are \"intensity\" parameters governing the transition rate, and $o(\\Delta)$ is [little-o notation](https://en.wikipedia.org/wiki/Big_O_notation#Little-o_notation).  That is, $\\lim_{\\Delta\\to 0} o(\\Delta)/\\Delta = 0$.\n",
    "\n",
    "Just as in the discrete case, we can summarize these parameters by an $N \\times N$ matrix, $Q \\in R^{N\\times N}$.\n",
    "\n",
    "Recall that in the discrete case every element is weakly positive and every row must sum to one.   With continuous time, however, the rows of $Q$ sum to zero, where the diagonal contains the negative value of jumping out of the current state.  That is,\n",
    "\n",
    "- $q_{ij} \\geq 0$ for $i \\neq j$\n",
    "- $q_{ii} \\leq 0$\n",
    "- $\\sum_{j} q_{ij} = 0$\n",
    "\n",
    "The $Q$ matrix is called the intensity matrix, or the infinitesimal generator of the Markov chain.  For example,\n",
    "\n",
    "$$\n",
    "Q = \\begin{bmatrix} -0.1 & 0.1  & 0 & 0 & 0 & 0\\\\\n",
    "                    0.1  &-0.2  & 0.1 &  0 & 0 & 0\\\\\n",
    "                    0 & 0.1 & -0.2 & 0.1 & 0 & 0\\\\\n",
    "                    0 & 0 & 0.1 & -0.2 & 0.1 & 0\\\\\n",
    "                    0 & 0 & 0 & 0.1 & -0.2 & 0.1\\\\\n",
    "                    0 & 0 & 0 & 0 & 0.1 & -0.1\\\\\n",
    "    \\end{bmatrix}\n",
    "$$\n",
    "\n",
    "In the above example, transitions occur only between adjacent states with the same intensity (except for a ``bouncing back'' of the bottom and top states).\n",
    "\n",
    "Implementing the $Q$ using its tridiagonal structure"
   ]
  },
  {
   "cell_type": "code",
   "execution_count": 35,
   "id": "cac117d5",
   "metadata": {},
   "outputs": [
    {
     "data": {
      "text/plain": [
       "6×6 Tridiagonal{Float64, Vector{Float64}}:\n",
       " -0.1   0.1    ⋅     ⋅     ⋅     ⋅ \n",
       "  0.1  -0.2   0.1    ⋅     ⋅     ⋅ \n",
       "   ⋅    0.1  -0.2   0.1    ⋅     ⋅ \n",
       "   ⋅     ⋅    0.1  -0.2   0.1    ⋅ \n",
       "   ⋅     ⋅     ⋅    0.1  -0.2   0.1\n",
       "   ⋅     ⋅     ⋅     ⋅    0.1  -0.1"
      ]
     },
     "execution_count": 35,
     "metadata": {},
     "output_type": "execute_result"
    }
   ],
   "source": [
    "using LinearAlgebra\n",
    "α = 0.1\n",
    "N = 6\n",
    "Q = Tridiagonal(fill(α, N-1), [-α; fill(-2α, N-2); -α], fill(α, N-1))"
   ]
  },
  {
   "cell_type": "markdown",
   "id": "5b52cef0",
   "metadata": {},
   "source": [
    "Here we can use `Tridiagonal` to exploit the structure of the problem.\n",
    "\n",
    "Consider a simple payoff vector $r$ associated with each state, and a discount rate $ρ$.  Then we can solve for\n",
    "the expected present discounted value in a way similar to the discrete-time case.\n",
    "\n",
    "$$\n",
    "\\rho v = r + Q v\n",
    "$$\n",
    "\n",
    "or rearranging slightly, solving the linear system\n",
    "\n",
    "$$\n",
    "(\\rho I - Q) v = r\n",
    "$$\n",
    "\n",
    "For our example, exploiting the tridiagonal structure,"
   ]
  },
  {
   "cell_type": "code",
   "execution_count": 36,
   "id": "f83eefbe",
   "metadata": {},
   "outputs": [
    {
     "data": {
      "text/plain": [
       "6×6 Tridiagonal{Float64, Vector{Float64}}:\n",
       "  0.15  -0.1     ⋅      ⋅      ⋅      ⋅ \n",
       " -0.1    0.25  -0.1     ⋅      ⋅      ⋅ \n",
       "   ⋅    -0.1    0.25  -0.1     ⋅      ⋅ \n",
       "   ⋅      ⋅    -0.1    0.25  -0.1     ⋅ \n",
       "   ⋅      ⋅      ⋅    -0.1    0.25  -0.1\n",
       "   ⋅      ⋅      ⋅      ⋅    -0.1    0.15"
      ]
     },
     "execution_count": 36,
     "metadata": {},
     "output_type": "execute_result"
    }
   ],
   "source": [
    "r = range(0.0, 10.0, length=N)\n",
    "ρ = 0.05\n",
    "\n",
    "A = ρ * I - Q"
   ]
  },
  {
   "cell_type": "markdown",
   "id": "75cfab2a",
   "metadata": {},
   "source": [
    "Note that this $A$ matrix is maintaining the tridiagonal structure of the problem, which leads to an efficient solution to the\n",
    "linear problem."
   ]
  },
  {
   "cell_type": "code",
   "execution_count": 37,
   "id": "1dd47018",
   "metadata": {},
   "outputs": [
    {
     "data": {
      "text/plain": [
       "6-element Vector{Float64}:\n",
       "  38.15384615384615\n",
       "  57.23076923076923\n",
       "  84.92307692307693\n",
       " 115.07692307692311\n",
       " 142.76923076923077\n",
       " 161.84615384615384"
      ]
     },
     "execution_count": 37,
     "metadata": {},
     "output_type": "execute_result"
    }
   ],
   "source": [
    "v = A \\ r"
   ]
  },
  {
   "cell_type": "markdown",
   "id": "15d24713",
   "metadata": {},
   "source": [
    "The $Q$ is also used to calculate the evolution of the Markov chain, in direct analogy to the $ψ_{t+k} = ψ_t P^k$ evolution with the transition matrix $P$ of the discrete case.\n",
    "\n",
    "In the continuous case, this becomes the system of linear differential equations\n",
    "\n",
    "$$\n",
    "\\dot{ψ}(t) = Q(t)^T ψ(t)\n",
    "$$\n",
    "\n",
    "given the initial condition $\\psi(0)$ and where the $Q(t)$ intensity matrix is allowed to vary with time.  In the simplest case of a constant $Q$ matrix, this is a simple constant-coefficient system of linear ODEs with coefficients $Q^T$.\n",
    "\n",
    "If a stationary equilibrium exists, note that $\\dot{ψ}(t) = 0$, and the stationary solution $ψ^{*}$ needs to satisfy\n",
    "\n",
    "$$\n",
    "0 = Q^T ψ^{*}\n",
    "$$\n",
    "\n",
    "Notice that this is of the form $0 ψ^{*} = Q^T ψ^{*}$ and hence is equivalent to finding the eigenvector associated with the $\\lambda = 0$ eigenvalue of $Q^T$.\n",
    "\n",
    "With our example, we can calculate all of the eigenvalues and eigenvectors"
   ]
  },
  {
   "cell_type": "code",
   "execution_count": 38,
   "id": "027dd06a",
   "metadata": {},
   "outputs": [
    {
     "data": {
      "text/plain": [
       "Eigen{Float64, Float64, Matrix{Float64}, Vector{Float64}}\n",
       "values:\n",
       "6-element Vector{Float64}:\n",
       " -0.3732050807568874\n",
       " -0.29999999999999993\n",
       " -0.19999999999999998\n",
       " -0.09999999999999995\n",
       " -0.026794919243112274\n",
       "  0.0\n",
       "vectors:\n",
       "6×6 Matrix{Float64}:\n",
       " -0.149429  -0.288675   0.408248   0.5          -0.557678  0.408248\n",
       "  0.408248   0.57735   -0.408248   1.38778e-16  -0.408248  0.408248\n",
       " -0.557678  -0.288675  -0.408248  -0.5          -0.149429  0.408248\n",
       "  0.557678  -0.288675   0.408248  -0.5           0.149429  0.408248\n",
       " -0.408248   0.57735    0.408248   7.63278e-16   0.408248  0.408248\n",
       "  0.149429  -0.288675  -0.408248   0.5           0.557678  0.408248"
      ]
     },
     "execution_count": 38,
     "metadata": {},
     "output_type": "execute_result"
    }
   ],
   "source": [
    "λ, vecs = eigen(Array(Q'))"
   ]
  },
  {
   "cell_type": "markdown",
   "id": "a1b233bd",
   "metadata": {},
   "source": [
    "Indeed, there is a $\\lambda = 0$ eigenvalue, which is associated with the last column in the eigenvector.  To turn that into a probability,\n",
    "we need to normalize it."
   ]
  },
  {
   "cell_type": "code",
   "execution_count": 39,
   "id": "e8718a7f",
   "metadata": {},
   "outputs": [
    {
     "data": {
      "text/plain": [
       "6-element Vector{Float64}:\n",
       " 0.16666666666666657\n",
       " 0.16666666666666657\n",
       " 0.1666666666666667\n",
       " 0.16666666666666682\n",
       " 0.16666666666666685\n",
       " 0.16666666666666663"
      ]
     },
     "execution_count": 39,
     "metadata": {},
     "output_type": "execute_result"
    }
   ],
   "source": [
    "vecs[:,N] ./ sum(vecs[:,N])"
   ]
  },
  {
   "cell_type": "markdown",
   "id": "6fcc3c44",
   "metadata": {},
   "source": [
    "### Multiple Dimensions\n",
    "\n",
    "A frequent case in discretized models is dealing with Markov chains with multiple \"spatial\" dimensions (e.g., wealth and income).\n",
    "\n",
    "After discretizing a process to create a Markov chain, you can always take the Cartesian product of the set of states in order to\n",
    "enumerate it as a single state variable.\n",
    "\n",
    "To see this, consider states $i$ and $j$ governed by infinitesimal generators $Q$ and $A$."
   ]
  },
  {
   "cell_type": "code",
   "execution_count": 40,
   "id": "21576084",
   "metadata": {},
   "outputs": [
    {
     "data": {
      "text/plain": [
       "8×8 Matrix{Float64}:\n",
       " -0.2   0.1   0.0   0.0   0.1   0.0   0.0   0.0\n",
       "  0.1  -0.3   0.1   0.0   0.0   0.1   0.0   0.0\n",
       "  0.0   0.1  -0.3   0.1   0.0   0.0   0.1   0.0\n",
       "  0.0   0.0   0.1  -0.2   0.0   0.0   0.0   0.1\n",
       "  0.2   0.0   0.0   0.0  -0.3   0.1   0.0   0.0\n",
       "  0.0   0.2   0.0   0.0   0.1  -0.4   0.1   0.0\n",
       "  0.0   0.0   0.2   0.0   0.0   0.1  -0.4   0.1\n",
       "  0.0   0.0   0.0   0.2   0.0   0.0   0.1  -0.3"
      ]
     },
     "execution_count": 40,
     "metadata": {},
     "output_type": "execute_result"
    }
   ],
   "source": [
    "function markov_chain_product(Q, A)\n",
    "    M = size(Q, 1)\n",
    "    N = size(A, 1)\n",
    "    Q = sparse(Q)\n",
    "    Qs = blockdiag(fill(Q, N)...)  # create diagonal blocks of every operator\n",
    "    As = kron(A, sparse(I(M)))\n",
    "    return As + Qs\n",
    "end\n",
    "\n",
    "α = 0.1\n",
    "N = 4\n",
    "Q = Tridiagonal(fill(α, N-1), [-α; fill(-2α, N-2); -α], fill(α, N-1))\n",
    "A = sparse([-0.1 0.1\n",
    "    0.2 -0.2])\n",
    "M = size(A,1)\n",
    "L = markov_chain_product(Q, A)\n",
    "L |> Matrix  # display as a dense matrix"
   ]
  },
  {
   "cell_type": "markdown",
   "id": "20e3fb15",
   "metadata": {},
   "source": [
    "This provides the combined Markov chain for the $(i,j)$ process.  To see the sparsity pattern,"
   ]
  },
  {
   "cell_type": "code",
   "execution_count": 41,
   "id": "5d7e3c74",
   "metadata": {},
   "outputs": [
    {
     "data": {
      "image/png": "[encoded data removed]",
      "image/svg+xml": [
       "<?xml version=\"1.0\" encoding=\"utf-8\"?>\n",
       "<svg xmlns=\"http://www.w3.org/2000/svg\" xmlns:xlink=\"http://www.w3.org/1999/xlink\" width=\"600\" height=\"400\" viewBox=\"0 0 2400 1600\">\n",
       "<defs>\n",
       "  <clipPath id=\"clip580\">\n",
       "    <rect x=\"0\" y=\"0\" width=\"2400\" height=\"1600\"/>\n",
       "  </clipPath>\n",
       "</defs>\n",
       "<path clip-path=\"url(#clip580)\" d=\"M0 1600 L2400 1600 L2400 0 L0 0  Z\" fill=\"#ffffff\" fill-rule=\"evenodd\" fill-opacity=\"1\"/>\n",
       "<defs>\n",
       "  <clipPath id=\"clip581\">\n",
       "    <rect x=\"480\" y=\"0\" width=\"1681\" height=\"1600\"/>\n",
       "  </clipPath>\n",
       "</defs>\n",
       "<path clip-path=\"url(#clip580)\" d=\"M392.865 1486.45 L1832.07 1486.45 L1832.07 47.2441 L392.865 47.2441  Z\" fill=\"#ffffff\" fill-rule=\"evenodd\" fill-opacity=\"1\"/>\n",
       "<defs>\n",
       "  <clipPath id=\"clip582\">\n",
       "    <rect x=\"392\" y=\"47\" width=\"1440\" height=\"1440\"/>\n",
       "  </clipPath>\n",
       "</defs>\n",
       "<polyline clip-path=\"url(#clip580)\" style=\"stroke:#000000; stroke-linecap:round; stroke-linejoin:round; stroke-width:4; stroke-opacity:1; fill:none\" points=\"392.865,1486.45 1832.07,1486.45 \"/>\n",
       "<polyline clip-path=\"url(#clip580)\" style=\"stroke:#000000; stroke-linecap:round; stroke-linejoin:round; stroke-width:4; stroke-opacity:1; fill:none\" points=\"627.56,1486.45 627.56,1467.55 \"/>\n",
       "<polyline clip-path=\"url(#clip580)\" style=\"stroke:#000000; stroke-linecap:round; stroke-linejoin:round; stroke-width:4; stroke-opacity:1; fill:none\" points=\"1015.49,1486.45 1015.49,1467.55 \"/>\n",
       "<polyline clip-path=\"url(#clip580)\" style=\"stroke:#000000; stroke-linecap:round; stroke-linejoin:round; stroke-width:4; stroke-opacity:1; fill:none\" points=\"1403.41,1486.45 1403.41,1467.55 \"/>\n",
       "<polyline clip-path=\"url(#clip580)\" style=\"stroke:#000000; stroke-linecap:round; stroke-linejoin:round; stroke-width:4; stroke-opacity:1; fill:none\" points=\"1791.34,1486.45 1791.34,1467.55 \"/>\n",
       "<path clip-path=\"url(#clip580)\" d=\"M622.212 1544.91 L638.532 1544.91 L638.532 1548.85 L616.587 1548.85 L616.587 1544.91 Q619.249 1542.16 623.833 1537.53 Q628.439 1532.88 629.62 1531.53 Q631.865 1529.01 632.745 1527.27 Q633.648 1525.51 633.648 1523.82 Q633.648 1521.07 631.703 1519.33 Q629.782 1517.6 626.68 1517.6 Q624.481 1517.6 622.027 1518.36 Q619.597 1519.13 616.819 1520.68 L616.819 1515.95 Q619.643 1514.82 622.097 1514.24 Q624.55 1513.66 626.587 1513.66 Q631.958 1513.66 635.152 1516.35 Q638.347 1519.03 638.347 1523.52 Q638.347 1525.65 637.536 1527.57 Q636.749 1529.47 634.643 1532.07 Q634.064 1532.74 630.962 1535.95 Q627.861 1539.15 622.212 1544.91 Z\" fill=\"#000000\" fill-rule=\"nonzero\" fill-opacity=\"1\" /><path clip-path=\"url(#clip580)\" d=\"M1018.49 1518.36 L1006.69 1536.81 L1018.49 1536.81 L1018.49 1518.36 M1017.27 1514.29 L1023.15 1514.29 L1023.15 1536.81 L1028.08 1536.81 L1028.08 1540.7 L1023.15 1540.7 L1023.15 1548.85 L1018.49 1548.85 L1018.49 1540.7 L1002.89 1540.7 L1002.89 1536.19 L1017.27 1514.29 Z\" fill=\"#000000\" fill-rule=\"nonzero\" fill-opacity=\"1\" /><path clip-path=\"url(#clip580)\" d=\"M1403.82 1529.7 Q1400.67 1529.7 1398.82 1531.86 Q1396.99 1534.01 1396.99 1537.76 Q1396.99 1541.49 1398.82 1543.66 Q1400.67 1545.82 1403.82 1545.82 Q1406.96 1545.82 1408.79 1543.66 Q1410.64 1541.49 1410.64 1537.76 Q1410.64 1534.01 1408.79 1531.86 Q1406.96 1529.7 1403.82 1529.7 M1413.1 1515.05 L1413.1 1519.31 Q1411.34 1518.48 1409.53 1518.04 Q1407.75 1517.6 1405.99 1517.6 Q1401.36 1517.6 1398.91 1520.72 Q1396.48 1523.85 1396.13 1530.17 Q1397.5 1528.15 1399.56 1527.09 Q1401.62 1526 1404.09 1526 Q1409.3 1526 1412.31 1529.17 Q1415.34 1532.32 1415.34 1537.76 Q1415.34 1543.08 1412.2 1546.3 Q1409.05 1549.52 1403.82 1549.52 Q1397.82 1549.52 1394.65 1544.94 Q1391.48 1540.33 1391.48 1531.6 Q1391.48 1523.41 1395.37 1518.55 Q1399.26 1513.66 1405.81 1513.66 Q1407.57 1513.66 1409.35 1514.01 Q1411.15 1514.36 1413.1 1515.05 Z\" fill=\"#000000\" fill-rule=\"nonzero\" fill-opacity=\"1\" /><path clip-path=\"url(#clip580)\" d=\"M1791.34 1532.44 Q1788 1532.44 1786.08 1534.22 Q1784.18 1536 1784.18 1539.13 Q1784.18 1542.25 1786.08 1544.03 Q1788 1545.82 1791.34 1545.82 Q1794.67 1545.82 1796.59 1544.03 Q1798.51 1542.23 1798.51 1539.13 Q1798.51 1536 1796.59 1534.22 Q1794.69 1532.44 1791.34 1532.44 M1786.66 1530.45 Q1783.65 1529.7 1781.96 1527.64 Q1780.29 1525.58 1780.29 1522.62 Q1780.29 1518.48 1783.23 1516.07 Q1786.2 1513.66 1791.34 1513.66 Q1796.5 1513.66 1799.44 1516.07 Q1802.38 1518.48 1802.38 1522.62 Q1802.38 1525.58 1800.69 1527.64 Q1799.02 1529.7 1796.04 1530.45 Q1799.41 1531.23 1801.29 1533.52 Q1803.19 1535.82 1803.19 1539.13 Q1803.19 1544.15 1800.11 1546.83 Q1797.05 1549.52 1791.34 1549.52 Q1785.62 1549.52 1782.54 1546.83 Q1779.48 1544.15 1779.48 1539.13 Q1779.48 1535.82 1781.38 1533.52 Q1783.28 1531.23 1786.66 1530.45 M1784.95 1523.06 Q1784.95 1525.75 1786.61 1527.25 Q1788.3 1528.76 1791.34 1528.76 Q1794.35 1528.76 1796.04 1527.25 Q1797.75 1525.75 1797.75 1523.06 Q1797.75 1520.38 1796.04 1518.87 Q1794.35 1517.37 1791.34 1517.37 Q1788.3 1517.37 1786.61 1518.87 Q1784.95 1520.38 1784.95 1523.06 Z\" fill=\"#000000\" fill-rule=\"nonzero\" fill-opacity=\"1\" /><polyline clip-path=\"url(#clip580)\" style=\"stroke:#000000; stroke-linecap:round; stroke-linejoin:round; stroke-width:4; stroke-opacity:1; fill:none\" points=\"392.865,47.2441 392.865,1486.45 \"/>\n",
       "<polyline clip-path=\"url(#clip580)\" style=\"stroke:#000000; stroke-linecap:round; stroke-linejoin:round; stroke-width:4; stroke-opacity:1; fill:none\" points=\"392.865,281.939 405.003,281.939 \"/>\n",
       "<polyline clip-path=\"url(#clip580)\" style=\"stroke:#000000; stroke-linecap:round; stroke-linejoin:round; stroke-width:4; stroke-opacity:1; fill:none\" points=\"392.865,669.865 405.003,669.865 \"/>\n",
       "<polyline clip-path=\"url(#clip580)\" style=\"stroke:#000000; stroke-linecap:round; stroke-linejoin:round; stroke-width:4; stroke-opacity:1; fill:none\" points=\"392.865,1057.79 405.003,1057.79 \"/>\n",
       "<polyline clip-path=\"url(#clip580)\" style=\"stroke:#000000; stroke-linecap:round; stroke-linejoin:round; stroke-width:4; stroke-opacity:1; fill:none\" points=\"392.865,1445.72 405.003,1445.72 \"/>\n",
       "<path clip-path=\"url(#clip580)\" d=\"M340.545 295.284 L356.865 295.284 L356.865 299.219 L334.92 299.219 L334.92 295.284 Q337.582 292.529 342.166 287.9 Q346.772 283.247 347.953 281.904 Q350.198 279.381 351.078 277.645 Q351.98 275.886 351.98 274.196 Q351.98 271.441 350.036 269.705 Q348.115 267.969 345.013 267.969 Q342.814 267.969 340.36 268.733 Q337.93 269.497 335.152 271.048 L335.152 266.326 Q337.976 265.191 340.43 264.613 Q342.883 264.034 344.92 264.034 Q350.291 264.034 353.485 266.719 Q356.679 269.404 356.679 273.895 Q356.679 276.025 355.869 277.946 Q355.082 279.844 352.976 282.437 Q352.397 283.108 349.295 286.326 Q346.193 289.52 340.545 295.284 Z\" fill=\"#000000\" fill-rule=\"nonzero\" fill-opacity=\"1\" /><path clip-path=\"url(#clip580)\" d=\"M347.281 656.659 L335.476 675.108 L347.281 675.108 L347.281 656.659 M346.055 652.585 L351.934 652.585 L351.934 675.108 L356.865 675.108 L356.865 678.996 L351.934 678.996 L351.934 687.145 L347.281 687.145 L347.281 678.996 L331.68 678.996 L331.68 674.483 L346.055 652.585 Z\" fill=\"#000000\" fill-rule=\"nonzero\" fill-opacity=\"1\" /><path clip-path=\"url(#clip580)\" d=\"M345.337 1055.93 Q342.189 1055.93 340.337 1058.08 Q338.508 1060.23 338.508 1063.98 Q338.508 1067.71 340.337 1069.88 Q342.189 1072.04 345.337 1072.04 Q348.485 1072.04 350.314 1069.88 Q352.166 1067.71 352.166 1063.98 Q352.166 1060.23 350.314 1058.08 Q348.485 1055.93 345.337 1055.93 M354.619 1041.27 L354.619 1045.53 Q352.86 1044.7 351.054 1044.26 Q349.272 1043.82 347.513 1043.82 Q342.883 1043.82 340.43 1046.95 Q337.999 1050.07 337.652 1056.39 Q339.018 1054.38 341.078 1053.31 Q343.138 1052.22 345.615 1052.22 Q350.823 1052.22 353.832 1055.39 Q356.865 1058.54 356.865 1063.98 Q356.865 1069.31 353.717 1072.52 Q350.568 1075.74 345.337 1075.74 Q339.342 1075.74 336.17 1071.16 Q332.999 1066.55 332.999 1057.82 Q332.999 1049.63 336.888 1044.77 Q340.777 1039.89 347.328 1039.89 Q349.087 1039.89 350.869 1040.23 Q352.675 1040.58 354.619 1041.27 Z\" fill=\"#000000\" fill-rule=\"nonzero\" fill-opacity=\"1\" /><path clip-path=\"url(#clip580)\" d=\"M345.013 1446.58 Q341.68 1446.58 339.758 1448.37 Q337.86 1450.15 337.86 1453.27 Q337.86 1456.4 339.758 1458.18 Q341.68 1459.96 345.013 1459.96 Q348.346 1459.96 350.267 1458.18 Q352.189 1456.38 352.189 1453.27 Q352.189 1450.15 350.267 1448.37 Q348.369 1446.58 345.013 1446.58 M340.337 1444.59 Q337.328 1443.85 335.638 1441.79 Q333.971 1439.73 333.971 1436.77 Q333.971 1432.63 336.911 1430.22 Q339.874 1427.81 345.013 1427.81 Q350.175 1427.81 353.115 1430.22 Q356.054 1432.63 356.054 1436.77 Q356.054 1439.73 354.365 1441.79 Q352.698 1443.85 349.712 1444.59 Q353.092 1445.38 354.967 1447.67 Q356.865 1449.96 356.865 1453.27 Q356.865 1458.3 353.786 1460.98 Q350.73 1463.67 345.013 1463.67 Q339.295 1463.67 336.217 1460.98 Q333.161 1458.3 333.161 1453.27 Q333.161 1449.96 335.059 1447.67 Q336.957 1445.38 340.337 1444.59 M338.624 1437.21 Q338.624 1439.89 340.291 1441.4 Q341.98 1442.9 345.013 1442.9 Q348.022 1442.9 349.712 1441.4 Q351.425 1439.89 351.425 1437.21 Q351.425 1434.52 349.712 1433.02 Q348.022 1431.51 345.013 1431.51 Q341.98 1431.51 340.291 1433.02 Q338.624 1434.52 338.624 1437.21 Z\" fill=\"#000000\" fill-rule=\"nonzero\" fill-opacity=\"1\" /><circle clip-path=\"url(#clip582)\" cx=\"433.597\" cy=\"87.9763\" r=\"36\" fill=\"#781c6d\" fill-rule=\"evenodd\" fill-opacity=\"1\" stroke=\"none\"/>\n",
       "<circle clip-path=\"url(#clip582)\" cx=\"433.597\" cy=\"281.939\" r=\"36\" fill=\"#fbb419\" fill-rule=\"evenodd\" fill-opacity=\"1\" stroke=\"none\"/>\n",
       "<circle clip-path=\"url(#clip582)\" cx=\"433.597\" cy=\"863.827\" r=\"36\" fill=\"#fcfea4\" fill-rule=\"evenodd\" fill-opacity=\"1\" stroke=\"none\"/>\n",
       "<circle clip-path=\"url(#clip582)\" cx=\"627.56\" cy=\"87.9763\" r=\"36\" fill=\"#fbb419\" fill-rule=\"evenodd\" fill-opacity=\"1\" stroke=\"none\"/>\n",
       "<circle clip-path=\"url(#clip582)\" cx=\"627.56\" cy=\"281.939\" r=\"36\" fill=\"#33095e\" fill-rule=\"evenodd\" fill-opacity=\"1\" stroke=\"none\"/>\n",
       "<circle clip-path=\"url(#clip582)\" cx=\"627.56\" cy=\"475.902\" r=\"36\" fill=\"#fbb419\" fill-rule=\"evenodd\" fill-opacity=\"1\" stroke=\"none\"/>\n",
       "<circle clip-path=\"url(#clip582)\" cx=\"627.56\" cy=\"1057.79\" r=\"36\" fill=\"#fcfea4\" fill-rule=\"evenodd\" fill-opacity=\"1\" stroke=\"none\"/>\n",
       "<circle clip-path=\"url(#clip582)\" cx=\"821.522\" cy=\"281.939\" r=\"36\" fill=\"#fbb419\" fill-rule=\"evenodd\" fill-opacity=\"1\" stroke=\"none\"/>\n",
       "<circle clip-path=\"url(#clip582)\" cx=\"821.522\" cy=\"475.902\" r=\"36\" fill=\"#33095e\" fill-rule=\"evenodd\" fill-opacity=\"1\" stroke=\"none\"/>\n",
       "<circle clip-path=\"url(#clip582)\" cx=\"821.522\" cy=\"669.865\" r=\"36\" fill=\"#fbb419\" fill-rule=\"evenodd\" fill-opacity=\"1\" stroke=\"none\"/>\n",
       "<circle clip-path=\"url(#clip582)\" cx=\"821.522\" cy=\"1251.75\" r=\"36\" fill=\"#fcfea4\" fill-rule=\"evenodd\" fill-opacity=\"1\" stroke=\"none\"/>\n",
       "<circle clip-path=\"url(#clip582)\" cx=\"1015.49\" cy=\"475.902\" r=\"36\" fill=\"#fbb419\" fill-rule=\"evenodd\" fill-opacity=\"1\" stroke=\"none\"/>\n",
       "<circle clip-path=\"url(#clip582)\" cx=\"1015.49\" cy=\"669.865\" r=\"36\" fill=\"#781c6d\" fill-rule=\"evenodd\" fill-opacity=\"1\" stroke=\"none\"/>\n",
       "<circle clip-path=\"url(#clip582)\" cx=\"1015.49\" cy=\"1445.72\" r=\"36\" fill=\"#fcfea4\" fill-rule=\"evenodd\" fill-opacity=\"1\" stroke=\"none\"/>\n",
       "<circle clip-path=\"url(#clip582)\" cx=\"1209.45\" cy=\"87.9763\" r=\"36\" fill=\"#fbb419\" fill-rule=\"evenodd\" fill-opacity=\"1\" stroke=\"none\"/>\n",
       "<circle clip-path=\"url(#clip582)\" cx=\"1209.45\" cy=\"863.827\" r=\"36\" fill=\"#33095e\" fill-rule=\"evenodd\" fill-opacity=\"1\" stroke=\"none\"/>\n",
       "<circle clip-path=\"url(#clip582)\" cx=\"1209.45\" cy=\"1057.79\" r=\"36\" fill=\"#fbb419\" fill-rule=\"evenodd\" fill-opacity=\"1\" stroke=\"none\"/>\n",
       "<circle clip-path=\"url(#clip582)\" cx=\"1403.41\" cy=\"281.939\" r=\"36\" fill=\"#fbb419\" fill-rule=\"evenodd\" fill-opacity=\"1\" stroke=\"none\"/>\n",
       "<circle clip-path=\"url(#clip582)\" cx=\"1403.41\" cy=\"863.827\" r=\"36\" fill=\"#fbb419\" fill-rule=\"evenodd\" fill-opacity=\"1\" stroke=\"none\"/>\n",
       "<circle clip-path=\"url(#clip582)\" cx=\"1403.41\" cy=\"1057.79\" r=\"36\" fill=\"#000003\" fill-rule=\"evenodd\" fill-opacity=\"1\" stroke=\"none\"/>\n",
       "<circle clip-path=\"url(#clip582)\" cx=\"1403.41\" cy=\"1251.75\" r=\"36\" fill=\"#fbb419\" fill-rule=\"evenodd\" fill-opacity=\"1\" stroke=\"none\"/>\n",
       "<circle clip-path=\"url(#clip582)\" cx=\"1597.37\" cy=\"475.902\" r=\"36\" fill=\"#fbb419\" fill-rule=\"evenodd\" fill-opacity=\"1\" stroke=\"none\"/>\n",
       "<circle clip-path=\"url(#clip582)\" cx=\"1597.37\" cy=\"1057.79\" r=\"36\" fill=\"#fbb419\" fill-rule=\"evenodd\" fill-opacity=\"1\" stroke=\"none\"/>\n",
       "<circle clip-path=\"url(#clip582)\" cx=\"1597.37\" cy=\"1251.75\" r=\"36\" fill=\"#000003\" fill-rule=\"evenodd\" fill-opacity=\"1\" stroke=\"none\"/>\n",
       "<circle clip-path=\"url(#clip582)\" cx=\"1597.37\" cy=\"1445.72\" r=\"36\" fill=\"#fbb419\" fill-rule=\"evenodd\" fill-opacity=\"1\" stroke=\"none\"/>\n",
       "<circle clip-path=\"url(#clip582)\" cx=\"1791.34\" cy=\"669.865\" r=\"36\" fill=\"#fbb419\" fill-rule=\"evenodd\" fill-opacity=\"1\" stroke=\"none\"/>\n",
       "<circle clip-path=\"url(#clip582)\" cx=\"1791.34\" cy=\"1251.75\" r=\"36\" fill=\"#fbb419\" fill-rule=\"evenodd\" fill-opacity=\"1\" stroke=\"none\"/>\n",
       "<circle clip-path=\"url(#clip582)\" cx=\"1791.34\" cy=\"1445.72\" r=\"36\" fill=\"#33095e\" fill-rule=\"evenodd\" fill-opacity=\"1\" stroke=\"none\"/>\n",
       "<defs>\n",
       "  <clipPath id=\"clip583\">\n",
       "    <rect x=\"1880\" y=\"47\" width=\"73\" height=\"1440\"/>\n",
       "  </clipPath>\n",
       "</defs>\n",
       "<g clip-path=\"url(#clip583)\">\n",
       "<image width=\"72\" height=\"1439\" xlink:href=\"data:image/png;base64,\n",
       "iVBORw0KGgoAAAANSUhEUgAAAEgAAAWfCAYAAAAI7rB3AAAMWUlEQVR4nO3dwY0rRxAFwaZQ/lsh\n",
       "L6XfLQtUeSQPERYsEg8c9MyQ+/n3/v0O/+uvb/8Bv06gIFAQKAgU5r5/v/03/DQLCgIFgYJAQaAw\n",
       "7/359t/w0ywoCBQECgIFR41gQUGgIFAQKAgU5rmKrSwoCBQECgIFgcK86yq2saAgUBAoCBQcNYIF\n",
       "BYGCQEGgIFBwFQsWFAQKAgWBgvtBwYKCQEGgIFAQKMxx1FhZUBAoCBQECgIFN8yCBQWBgkBBoDDH\n",
       "DbOVBQWBgkBBoCBQmHP/+fbf8NMsKAgUBAoCBYGCxz7BgoJAQaAgUHDDLFhQECgIFAQKAgVXsWBB\n",
       "QaAgUBAouB8ULCgIFAQKAgWBwnwcNVYWFAQKAgWBgkBhzvWfWTYWFAQKAgWBgqNGsKAgUBAoCBQE\n",
       "Co4awYKCQEGgIFAQKHjDLFhQECgIFAQK83HUWFlQECgIFAQKAgXvSQcLCgIFgYJAwVEjWFAQKAgU\n",
       "BAoCBc/mgwUFgYJAQaAgUHAWCxYUBAoCBYGCo0awoCBQECgIFAQKjhrBgoJAQaAgUBAozLn323/D\n",
       "T7OgIFAQKAgUHDWCBQWBgkBBoCBQ8NgnWFAQKAgUBAo+pIMFBYGCQEGgIFCYj6caKwsKAgWBgkBB\n",
       "oOAsFiwoCBQECgIFL1AFCwoCBYGCQEGg4IZZsKAgUBAoCBTcDwoWFAQKAgWBgkDBDbNgQUGgIFAQ\n",
       "KAgUXMWCBQWBgkBBoOB788GCgkBBoCBQECg4agQLCgIFgYJAQaDgKhYsKAgUBAoCBR/SwYKCQEGg\n",
       "IFAQKLiKBQsKAgWBgkBhzvMhvbGgIFAQKAgUBAqOGsGCgkBBoCBQECi4igULCgIFgYJAwYd0sKAg\n",
       "UBAoCBQECnPu+/bf8NMsKAgUBAoCBYGCs1iwoCBQECgIFBw1ggUFgYJAQaAgUHDUCBYUBAoCBYGC\n",
       "o0awoCBQECgIFAQKc5w0VhYUBAoCBYGCQGHOcxbbWFAQKAgUBAqOGsGCgkBBoCBQECi4igULCgIF\n",
       "gYJAQaAwfohzZ0FBoCBQECg4agQLCgIFgYJAQaDgKhYsKAgUBAoChTn38+2/4adZUBAoCBQECgKF\n",
       "ec9VbGNBQaAgUBAoCBTcMAsWFAQKAgWBghtmwYKCQEGgIFAQKMy7Gm3UCQIFgYJAwVEjWFAQKAgU\n",
       "BAoChTmeza8sKAgUBAoCBYHCPGexlQUFgYJAQaAwx1ONlTpBoCBQECgIFBw1ggUFgYJAQaAgUPDY\n",
       "J1hQECgIFAQKXgMO6gSBgkBBoCBQ8J50sKAgUBAoCBQ81QgWFAQKAgWBgkBh3tNoo04QKAgUBAoC\n",
       "BTfMggUFgYJAQaDghlmwoCBQECgIFAQKc9wwW6kTBAoCBYGCQMFZLFhQECgIFAQKPqSDBQWBgkBB\n",
       "oCBQ8L35YEFBoCBQECj43nxQJwgUBAoCBYHCPEeNlQUFgYJAQaAgUPDYJ1hQECgIFAQK/jNLUCcI\n",
       "FAQKAgWBghtmwYKCQEGgIFAQKLhhFiwoCBQECgIFR41gQUGgIFAQKAgUvCcd1AkCBYGCQMFRI1hQ\n",
       "ECgIFAQKAgVPNYIFBYGCQEGgIFBwFgsWFAQKAgWBgn+fFSwoCBQECgIFgYJ/ZRzUCQIFgYJAQaDg\n",
       "hlmwoCBQECgIFDybDxYUBAoCBYGCQMFRI1hQECgIFAQKc31IrywoCBQECgIFgYLvzQd1gkBBoCBQ\n",
       "ECi4YRYsKAgUBAoCBR/SwYKCQEGgIFAQKHjDLFhQECgIFAQKjhrBgoJAQaAgUBAouIoFCwoCBYGC\n",
       "QEGg4NdfgjpBoCBQECjM9VRjZUFBoCBQECgIFNwwCxYUBAoCBYGCQMFVLFhQECgIFAQKPqSDBQWB\n",
       "gkBBoCBQ8BtmwYKCQEGgIFBw1AgWFAQKAgWBgkDBVSxYUBAoCBQECgIFX2YJ6gSBgkBBoODLLMGC\n",
       "gkBBoCBQECi4YRYsKAgUBAoCBYGCq1iwoCBQECgIFLwGHCwoCBQECgIFgYKjRrCgIFAQKAgU5h0f\n",
       "0hsLCgIFgYJAQaDghlmwoCBQECgIFAQKbpgFCwoCBYGCQMFRI1hQECgIFAQKAgVHjWBBQaAgUBAo\n",
       "CBScxYIFBYGCQEGg4KgRLCgIFAQKAgWBgqtYsKAgUBAoCBTm+jLLyoKCQEGgIFAQKDhqBAsKAgWB\n",
       "gkBBoODZfLCgIFAQKAgU5r1v/wm/zYKCQEGgIFAQKDhqBAsKAgWBgkDBD00GCwoCBYGCQEGg4KgR\n",
       "LCgIFAQKAgWBgjfMggUFgYJAQaDgyyzBgoJAQaAgUBAoeMMsWFAQKAgUBAoCBY99ggUFgYJAQaDg\n",
       "qUawoCBQECgIFAQKHvsECwoCBYGCQMH9oGBBQaAgUBAoCBQ8mw8WFAQKAgWBgkDBDbNgQUGgIFAQ\n",
       "KHg2HywoCBQECgIFgcLcb/8FP86CgkBBoCBQECg4iwULCgIFgYJAwRtmwYKCQEGgIFAQKLhhFiwo\n",
       "CBQECgIF94OCBQWBgkBBoCBQcNQIFhQECgIFgYJAwVksWFAQKAgUBAqezQcLCgIFgYJAQaAwfvxl\n",
       "Z0FBoCBQECgIFJzFggUFgYJAQaDg2XywoCBQECgIFAQKns0HCwoCBYGCQMFRI1hQECgIFAQKAgVH\n",
       "jWBBQaAgUBAoCBTmesVsZUFBoCBQECi4YRYsKAgUBAoCBYGCG2bBgoJAQaAgUHDUCBYUBAoCBYGC\n",
       "QGGepxorCwoCBYGCQEGgMPe4YbaxoCBQECgIFLxAFSwoCBQECgIFgYIfmgwWFAQKAgWBgkDBD00G\n",
       "CwoCBYGCQMGz+WBBQaAgUBAoCBS8Jx0sKAgUBAoCBd84DBYUBAoCBYGCQMFRI1hQECgIFAQKAgXv\n",
       "SQcLCgIFgYJAwWvAwYKCQEGgIFAQKDhqBAsKAgWBgkBBoOA96WBBQaAgUBAo+ImuYEFBoCBQECgI\n",
       "FNwwCxYUBAoCBYGCZ/PBgoJAQaAgUBAoOGoECwoCBYGCQEGg4CwWLCgIFAQKAgVHjWBBQaAgUBAo\n",
       "CBRcxYIFBYGCQEGgIFBwwyxYUBAoCBQECo4awYKCQEGgIFAQKDhqBAsKAgWBgkDBUSNYUBAoCBQE\n",
       "CgIFP9EVLCgIFAQKAgWBgv8vFiwoCBQECgIFN8yCBQWBgkBBoCBQmHdcxjYWFAQKAgWBgkDBWSxY\n",
       "UBAoCBQECp7NBwsKAgWBgkBBoODZfLCgIFAQKAgU3A8KFhQECgIFgYJAwbP5YEFBoCBQECgIFJzF\n",
       "ggUFgYJAQaDgJ7qCBQWBgkBBoCBQmOsVs5UFBYGCQEGg4AWqYEFBoCBQECgIFOY5aqwsKAgUBAoC\n",
       "BYGCs1iwoCBQECgIFDzVCBYUBAoCBYGCQMEbZsGCgkBBoCBQECjM9ZXMlQUFgYJAQaDghlmwoCBQ\n",
       "ECgIFAQKfv0lWFAQKAgUBApeoAoWFAQKAgWBgkDBU41gQUGgIFAQKAgU3DALFhQECgIFgcLc45bZ\n",
       "xoKCQEGgIFAQKLhhFiwoCBQECgIFgYKrWLCgIFAQKAgUPNUIFhQECgIFgYJAwWOfYEFBoCBQECjM\n",
       "/ThqbCwoCBQECgIFgYKjRrCgIFAQKAgUBArzXMVWFhQECgIFgYKjRrCgIFAQKAgUBApzP65iGwsK\n",
       "AgWBgkBBoOAsFiwoCBQECgIFTzWCBQWBgkBBoCBQcNQIFhQECgIFgYIP6WBBQaAgUBAoCBQ8mw8W\n",
       "FAQKAgWBgkBh3vnz7b/hp1lQECgIFAQKbpgFCwoCBYGCQEGg4A2zYEFBoCBQECjMfe4HbSwoCBQE\n",
       "CgIFgYKjRrCgIFAQKAgUBApzPZtfWVAQKAgUBAqOGsGCgkBBoCBQECg4agQLCgIFgYJAQaAw7zmL\n",
       "bSwoCBQECgIFN8yCBQWBgkBBoCBQ8J50sKAgUBAoCBQcNYIFBYGCQEGgIFCY56ixsqAgUBAoCBQE\n",
       "Cs5iwYKCQEGgIFCY6wWqlQUFgYJAQaAgUPCb9sGCgkBBoCBQECj4MkuwoCBQECgIFDzVCBYUBAoC\n",
       "BYGCQMFRI1hQECgIFAQKPqSDBQWBgkBBoCBQ8Gw+WFAQKAgUBAoCBWexYEFBoCBQECjM8Wx+ZUFB\n",
       "oCBQECgIFBw1ggUFgYJAQaAgUPCedLCgIFAQKAgU5jhqrCwoCBQECgIFgYI3zIIFBYGCQEGg4Nl8\n",
       "sKAgUBAoCBQECm6YBQsKAgWBgkBBoDDvvG//DT/NgoJAQaAgUHDDLFhQECgIFAQKAoU5jhorCwoC\n",
       "BYGCQOE/LrLuTX/wFc8AAAAASUVORK5CYII=\n",
       "\" transform=\"translate(1880, 47)\"/>\n",
       "</g>\n",
       "<path clip-path=\"url(#clip580)\" d=\"M1988.07 1483.27 L2017.74 1483.27 L2017.74 1487.21 L1988.07 1487.21 L1988.07 1483.27 Z\" fill=\"#000000\" fill-rule=\"nonzero\" fill-opacity=\"1\" /><path clip-path=\"url(#clip580)\" d=\"M2037.84 1468.62 Q2034.23 1468.62 2032.4 1472.18 Q2030.59 1475.72 2030.59 1482.85 Q2030.59 1489.96 2032.4 1493.53 Q2034.23 1497.07 2037.84 1497.07 Q2041.47 1497.07 2043.28 1493.53 Q2045.11 1489.96 2045.11 1482.85 Q2045.11 1475.72 2043.28 1472.18 Q2041.47 1468.62 2037.84 1468.62 M2037.84 1464.91 Q2043.65 1464.91 2046.7 1469.52 Q2049.78 1474.1 2049.78 1482.85 Q2049.78 1491.58 2046.7 1496.19 Q2043.65 1500.77 2037.84 1500.77 Q2032.03 1500.77 2028.95 1496.19 Q2025.89 1491.58 2025.89 1482.85 Q2025.89 1474.1 2028.95 1469.52 Q2032.03 1464.91 2037.84 1464.91 Z\" fill=\"#000000\" fill-rule=\"nonzero\" fill-opacity=\"1\" /><path clip-path=\"url(#clip580)\" d=\"M2058 1494.22 L2062.88 1494.22 L2062.88 1500.1 L2058 1500.1 L2058 1494.22 Z\" fill=\"#000000\" fill-rule=\"nonzero\" fill-opacity=\"1\" /><path clip-path=\"url(#clip580)\" d=\"M2085.92 1469.61 L2074.11 1488.06 L2085.92 1488.06 L2085.92 1469.61 M2084.69 1465.54 L2090.57 1465.54 L2090.57 1488.06 L2095.5 1488.06 L2095.5 1491.95 L2090.57 1491.95 L2090.57 1500.1 L2085.92 1500.1 L2085.92 1491.95 L2070.31 1491.95 L2070.31 1487.44 L2084.69 1465.54 Z\" fill=\"#000000\" fill-rule=\"nonzero\" fill-opacity=\"1\" /><path clip-path=\"url(#clip580)\" d=\"M1988.07 1243.4 L2017.74 1243.4 L2017.74 1247.34 L1988.07 1247.34 L1988.07 1243.4 Z\" fill=\"#000000\" fill-rule=\"nonzero\" fill-opacity=\"1\" /><path clip-path=\"url(#clip580)\" d=\"M2037.84 1228.75 Q2034.23 1228.75 2032.4 1232.32 Q2030.59 1235.86 2030.59 1242.99 Q2030.59 1250.09 2032.4 1253.66 Q2034.23 1257.2 2037.84 1257.2 Q2041.47 1257.2 2043.28 1253.66 Q2045.11 1250.09 2045.11 1242.99 Q2045.11 1235.86 2043.28 1232.32 Q2041.47 1228.75 2037.84 1228.75 M2037.84 1225.05 Q2043.65 1225.05 2046.7 1229.65 Q2049.78 1234.24 2049.78 1242.99 Q2049.78 1251.71 2046.7 1256.32 Q2043.65 1260.9 2037.84 1260.9 Q2032.03 1260.9 2028.95 1256.32 Q2025.89 1251.71 2025.89 1242.99 Q2025.89 1234.24 2028.95 1229.65 Q2032.03 1225.05 2037.84 1225.05 Z\" fill=\"#000000\" fill-rule=\"nonzero\" fill-opacity=\"1\" /><path clip-path=\"url(#clip580)\" d=\"M2058 1254.35 L2062.88 1254.35 L2062.88 1260.23 L2058 1260.23 L2058 1254.35 Z\" fill=\"#000000\" fill-rule=\"nonzero\" fill-opacity=\"1\" /><path clip-path=\"url(#clip580)\" d=\"M2087.23 1241.6 Q2090.59 1242.32 2092.47 1244.58 Q2094.36 1246.85 2094.36 1250.19 Q2094.36 1255.3 2090.85 1258.1 Q2087.33 1260.9 2080.85 1260.9 Q2078.67 1260.9 2076.35 1260.46 Q2074.06 1260.05 2071.61 1259.19 L2071.61 1254.68 Q2073.55 1255.81 2075.87 1256.39 Q2078.18 1256.97 2080.71 1256.97 Q2085.1 1256.97 2087.4 1255.23 Q2089.71 1253.5 2089.71 1250.19 Q2089.71 1247.13 2087.56 1245.42 Q2085.43 1243.68 2081.61 1243.68 L2077.58 1243.68 L2077.58 1239.84 L2081.79 1239.84 Q2085.24 1239.84 2087.07 1238.47 Q2088.9 1237.08 2088.9 1234.49 Q2088.9 1231.83 2087 1230.42 Q2085.13 1228.98 2081.61 1228.98 Q2079.69 1228.98 2077.49 1229.4 Q2075.29 1229.82 2072.65 1230.69 L2072.65 1226.53 Q2075.31 1225.79 2077.63 1225.42 Q2079.97 1225.05 2082.03 1225.05 Q2087.35 1225.05 2090.45 1227.48 Q2093.55 1229.88 2093.55 1234.01 Q2093.55 1236.88 2091.91 1238.87 Q2090.27 1240.83 2087.23 1241.6 Z\" fill=\"#000000\" fill-rule=\"nonzero\" fill-opacity=\"1\" /><path clip-path=\"url(#clip580)\" d=\"M1988.07 1003.54 L2017.74 1003.54 L2017.74 1007.47 L1988.07 1007.47 L1988.07 1003.54 Z\" fill=\"#000000\" fill-rule=\"nonzero\" fill-opacity=\"1\" /><path clip-path=\"url(#clip580)\" d=\"M2037.84 988.883 Q2034.23 988.883 2032.4 992.448 Q2030.59 995.99 2030.59 1003.12 Q2030.59 1010.23 2032.4 1013.79 Q2034.23 1017.33 2037.84 1017.33 Q2041.47 1017.33 2043.28 1013.79 Q2045.11 1010.23 2045.11 1003.12 Q2045.11 995.99 2043.28 992.448 Q2041.47 988.883 2037.84 988.883 M2037.84 985.179 Q2043.65 985.179 2046.7 989.786 Q2049.78 994.369 2049.78 1003.12 Q2049.78 1011.85 2046.7 1016.45 Q2043.65 1021.04 2037.84 1021.04 Q2032.03 1021.04 2028.95 1016.45 Q2025.89 1011.85 2025.89 1003.12 Q2025.89 994.369 2028.95 989.786 Q2032.03 985.179 2037.84 985.179 Z\" fill=\"#000000\" fill-rule=\"nonzero\" fill-opacity=\"1\" /><path clip-path=\"url(#clip580)\" d=\"M2058 1014.48 L2062.88 1014.48 L2062.88 1020.36 L2058 1020.36 L2058 1014.48 Z\" fill=\"#000000\" fill-rule=\"nonzero\" fill-opacity=\"1\" /><path clip-path=\"url(#clip580)\" d=\"M2077.1 1016.43 L2093.42 1016.43 L2093.42 1020.36 L2071.47 1020.36 L2071.47 1016.43 Q2074.13 1013.67 2078.72 1009.05 Q2083.32 1004.39 2084.5 1003.05 Q2086.75 1000.53 2087.63 998.791 Q2088.53 997.031 2088.53 995.341 Q2088.53 992.587 2086.59 990.851 Q2084.67 989.115 2081.56 989.115 Q2079.36 989.115 2076.91 989.879 Q2074.48 990.642 2071.7 992.193 L2071.7 987.471 Q2074.53 986.337 2076.98 985.758 Q2079.43 985.179 2081.47 985.179 Q2086.84 985.179 2090.04 987.865 Q2093.23 990.55 2093.23 995.041 Q2093.23 997.17 2092.42 999.091 Q2091.63 1000.99 2089.53 1003.58 Q2088.95 1004.25 2085.85 1007.47 Q2082.74 1010.67 2077.1 1016.43 Z\" fill=\"#000000\" fill-rule=\"nonzero\" fill-opacity=\"1\" /><path clip-path=\"url(#clip580)\" d=\"M1988.07 763.669 L2017.74 763.669 L2017.74 767.604 L1988.07 767.604 L1988.07 763.669 Z\" fill=\"#000000\" fill-rule=\"nonzero\" fill-opacity=\"1\" /><path clip-path=\"url(#clip580)\" d=\"M2037.84 749.016 Q2034.23 749.016 2032.4 752.581 Q2030.59 756.122 2030.59 763.252 Q2030.59 770.358 2032.4 773.923 Q2034.23 777.465 2037.84 777.465 Q2041.47 777.465 2043.28 773.923 Q2045.11 770.358 2045.11 763.252 Q2045.11 756.122 2043.28 752.581 Q2041.47 749.016 2037.84 749.016 M2037.84 745.312 Q2043.65 745.312 2046.7 749.919 Q2049.78 754.502 2049.78 763.252 Q2049.78 771.979 2046.7 776.585 Q2043.65 781.168 2037.84 781.168 Q2032.03 781.168 2028.95 776.585 Q2025.89 771.979 2025.89 763.252 Q2025.89 754.502 2028.95 749.919 Q2032.03 745.312 2037.84 745.312 Z\" fill=\"#000000\" fill-rule=\"nonzero\" fill-opacity=\"1\" /><path clip-path=\"url(#clip580)\" d=\"M2058 774.618 L2062.88 774.618 L2062.88 780.497 L2058 780.497 L2058 774.618 Z\" fill=\"#000000\" fill-rule=\"nonzero\" fill-opacity=\"1\" /><path clip-path=\"url(#clip580)\" d=\"M2073.88 776.562 L2081.52 776.562 L2081.52 750.196 L2073.21 751.863 L2073.21 747.604 L2081.47 745.937 L2086.15 745.937 L2086.15 776.562 L2093.79 776.562 L2093.79 780.497 L2073.88 780.497 L2073.88 776.562 Z\" fill=\"#000000\" fill-rule=\"nonzero\" fill-opacity=\"1\" /><path clip-path=\"url(#clip580)\" d=\"M2000.01 509.149 Q1996.4 509.149 1994.57 512.713 Q1992.77 516.255 1992.77 523.385 Q1992.77 530.491 1994.57 534.056 Q1996.4 537.597 2000.01 537.597 Q2003.65 537.597 2005.45 534.056 Q2007.28 530.491 2007.28 523.385 Q2007.28 516.255 2005.45 512.713 Q2003.65 509.149 2000.01 509.149 M2000.01 505.445 Q2005.82 505.445 2008.88 510.051 Q2011.96 514.635 2011.96 523.385 Q2011.96 532.111 2008.88 536.718 Q2005.82 541.301 2000.01 541.301 Q1994.2 541.301 1991.12 536.718 Q1988.07 532.111 1988.07 523.385 Q1988.07 514.635 1991.12 510.051 Q1994.2 505.445 2000.01 505.445 Z\" fill=\"#000000\" fill-rule=\"nonzero\" fill-opacity=\"1\" /><path clip-path=\"url(#clip580)\" d=\"M2000.01 269.281 Q1996.4 269.281 1994.57 272.846 Q1992.77 276.388 1992.77 283.517 Q1992.77 290.624 1994.57 294.189 Q1996.4 297.73 2000.01 297.73 Q2003.65 297.73 2005.45 294.189 Q2007.28 290.624 2007.28 283.517 Q2007.28 276.388 2005.45 272.846 Q2003.65 269.281 2000.01 269.281 M2000.01 265.578 Q2005.82 265.578 2008.88 270.184 Q2011.96 274.767 2011.96 283.517 Q2011.96 292.244 2008.88 296.851 Q2005.82 301.434 2000.01 301.434 Q1994.2 301.434 1991.12 296.851 Q1988.07 292.244 1988.07 283.517 Q1988.07 274.767 1991.12 270.184 Q1994.2 265.578 2000.01 265.578 Z\" fill=\"#000000\" fill-rule=\"nonzero\" fill-opacity=\"1\" /><path clip-path=\"url(#clip580)\" d=\"M2020.17 294.883 L2025.06 294.883 L2025.06 300.763 L2020.17 300.763 L2020.17 294.883 Z\" fill=\"#000000\" fill-rule=\"nonzero\" fill-opacity=\"1\" /><path clip-path=\"url(#clip580)\" d=\"M2036.05 296.827 L2043.69 296.827 L2043.69 270.462 L2035.38 272.128 L2035.38 267.869 L2043.65 266.203 L2048.32 266.203 L2048.32 296.827 L2055.96 296.827 L2055.96 300.763 L2036.05 300.763 L2036.05 296.827 Z\" fill=\"#000000\" fill-rule=\"nonzero\" fill-opacity=\"1\" /><path clip-path=\"url(#clip580)\" d=\"M2000.01 29.414 Q1996.4 29.414 1994.57 32.9788 Q1992.77 36.5204 1992.77 43.65 Q1992.77 50.7565 1994.57 54.3213 Q1996.4 57.8629 2000.01 57.8629 Q2003.65 57.8629 2005.45 54.3213 Q2007.28 50.7565 2007.28 43.65 Q2007.28 36.5204 2005.45 32.9788 Q2003.65 29.414 2000.01 29.414 M2000.01 25.7103 Q2005.82 25.7103 2008.88 30.3168 Q2011.96 34.9001 2011.96 43.65 Q2011.96 52.3768 2008.88 56.9833 Q2005.82 61.5666 2000.01 61.5666 Q1994.2 61.5666 1991.12 56.9833 Q1988.07 52.3768 1988.07 43.65 Q1988.07 34.9001 1991.12 30.3168 Q1994.2 25.7103 2000.01 25.7103 Z\" fill=\"#000000\" fill-rule=\"nonzero\" fill-opacity=\"1\" /><path clip-path=\"url(#clip580)\" d=\"M2020.17 55.0157 L2025.06 55.0157 L2025.06 60.8953 L2020.17 60.8953 L2020.17 55.0157 Z\" fill=\"#000000\" fill-rule=\"nonzero\" fill-opacity=\"1\" /><path clip-path=\"url(#clip580)\" d=\"M2039.27 56.9601 L2055.59 56.9601 L2055.59 60.8953 L2033.65 60.8953 L2033.65 56.9601 Q2036.31 54.2055 2040.89 49.5759 Q2045.5 44.9232 2046.68 43.5806 Q2048.92 41.0574 2049.8 39.3213 Q2050.71 37.5621 2050.71 35.8723 Q2050.71 33.1177 2048.76 31.3816 Q2046.84 29.6455 2043.74 29.6455 Q2041.54 29.6455 2039.09 30.4093 Q2036.66 31.1732 2033.88 32.7241 L2033.88 28.002 Q2036.7 26.8677 2039.16 26.289 Q2041.61 25.7103 2043.65 25.7103 Q2049.02 25.7103 2052.21 28.3955 Q2055.41 31.0806 2055.41 35.5714 Q2055.41 37.701 2054.6 39.6223 Q2053.81 41.5204 2051.7 44.113 Q2051.12 44.7843 2048.02 48.0018 Q2044.92 51.1963 2039.27 56.9601 Z\" fill=\"#000000\" fill-rule=\"nonzero\" fill-opacity=\"1\" /><polyline clip-path=\"url(#clip580)\" style=\"stroke:#000000; stroke-linecap:round; stroke-linejoin:round; stroke-width:4; stroke-opacity:1; fill:none\" points=\"1952.07,1486.45 1952.07,1486.45 1976.07,1486.45 1952.07,1486.45 1952.07,1246.58 1976.07,1246.58 1952.07,1246.58 1952.07,1006.71 1976.07,1006.71 1952.07,1006.71 1952.07,766.846 1976.07,766.846 1952.07,766.846 1952.07,526.979 1976.07,526.979 1952.07,526.979 1952.07,287.111 1976.07,287.111 1952.07,287.111 1952.07,47.2441 1976.07,47.2441 1952.07,47.2441 \"/>\n",
       "</svg>\n"
      ],
      "text/html": [
       "<?xml version=\"1.0\" encoding=\"utf-8\"?>\n",
       "<svg xmlns=\"http://www.w3.org/2000/svg\" xmlns:xlink=\"http://www.w3.org/1999/xlink\" width=\"600\" height=\"400\" viewBox=\"0 0 2400 1600\">\n",
       "<defs>\n",
       "  <clipPath id=\"clip630\">\n",
       "    <rect x=\"0\" y=\"0\" width=\"2400\" height=\"1600\"/>\n",
       "  </clipPath>\n",
       "</defs>\n",
       "<path clip-path=\"url(#clip630)\" d=\"M0 1600 L2400 1600 L2400 0 L0 0  Z\" fill=\"#ffffff\" fill-rule=\"evenodd\" fill-opacity=\"1\"/>\n",
       "<defs>\n",
       "  <clipPath id=\"clip631\">\n",
       "    <rect x=\"480\" y=\"0\" width=\"1681\" height=\"1600\"/>\n",
       "  </clipPath>\n",
       "</defs>\n",
       "<path clip-path=\"url(#clip630)\" d=\"M392.865 1486.45 L1832.07 1486.45 L1832.07 47.2441 L392.865 47.2441  Z\" fill=\"#ffffff\" fill-rule=\"evenodd\" fill-opacity=\"1\"/>\n",
       "<defs>\n",
       "  <clipPath id=\"clip632\">\n",
       "    <rect x=\"392\" y=\"47\" width=\"1440\" height=\"1440\"/>\n",
       "  </clipPath>\n",
       "</defs>\n",
       "<polyline clip-path=\"url(#clip630)\" style=\"stroke:#000000; stroke-linecap:round; stroke-linejoin:round; stroke-width:4; stroke-opacity:1; fill:none\" points=\"392.865,1486.45 1832.07,1486.45 \"/>\n",
       "<polyline clip-path=\"url(#clip630)\" style=\"stroke:#000000; stroke-linecap:round; stroke-linejoin:round; stroke-width:4; stroke-opacity:1; fill:none\" points=\"627.56,1486.45 627.56,1467.55 \"/>\n",
       "<polyline clip-path=\"url(#clip630)\" style=\"stroke:#000000; stroke-linecap:round; stroke-linejoin:round; stroke-width:4; stroke-opacity:1; fill:none\" points=\"1015.49,1486.45 1015.49,1467.55 \"/>\n",
       "<polyline clip-path=\"url(#clip630)\" style=\"stroke:#000000; stroke-linecap:round; stroke-linejoin:round; stroke-width:4; stroke-opacity:1; fill:none\" points=\"1403.41,1486.45 1403.41,1467.55 \"/>\n",
       "<polyline clip-path=\"url(#clip630)\" style=\"stroke:#000000; stroke-linecap:round; stroke-linejoin:round; stroke-width:4; stroke-opacity:1; fill:none\" points=\"1791.34,1486.45 1791.34,1467.55 \"/>\n",
       "<path clip-path=\"url(#clip630)\" d=\"M622.212 1544.91 L638.532 1544.91 L638.532 1548.85 L616.587 1548.85 L616.587 1544.91 Q619.249 1542.16 623.833 1537.53 Q628.439 1532.88 629.62 1531.53 Q631.865 1529.01 632.745 1527.27 Q633.648 1525.51 633.648 1523.82 Q633.648 1521.07 631.703 1519.33 Q629.782 1517.6 626.68 1517.6 Q624.481 1517.6 622.027 1518.36 Q619.597 1519.13 616.819 1520.68 L616.819 1515.95 Q619.643 1514.82 622.097 1514.24 Q624.55 1513.66 626.587 1513.66 Q631.958 1513.66 635.152 1516.35 Q638.347 1519.03 638.347 1523.52 Q638.347 1525.65 637.536 1527.57 Q636.749 1529.47 634.643 1532.07 Q634.064 1532.74 630.962 1535.95 Q627.861 1539.15 622.212 1544.91 Z\" fill=\"#000000\" fill-rule=\"nonzero\" fill-opacity=\"1\" /><path clip-path=\"url(#clip630)\" d=\"M1018.49 1518.36 L1006.69 1536.81 L1018.49 1536.81 L1018.49 1518.36 M1017.27 1514.29 L1023.15 1514.29 L1023.15 1536.81 L1028.08 1536.81 L1028.08 1540.7 L1023.15 1540.7 L1023.15 1548.85 L1018.49 1548.85 L1018.49 1540.7 L1002.89 1540.7 L1002.89 1536.19 L1017.27 1514.29 Z\" fill=\"#000000\" fill-rule=\"nonzero\" fill-opacity=\"1\" /><path clip-path=\"url(#clip630)\" d=\"M1403.82 1529.7 Q1400.67 1529.7 1398.82 1531.86 Q1396.99 1534.01 1396.99 1537.76 Q1396.99 1541.49 1398.82 1543.66 Q1400.67 1545.82 1403.82 1545.82 Q1406.96 1545.82 1408.79 1543.66 Q1410.64 1541.49 1410.64 1537.76 Q1410.64 1534.01 1408.79 1531.86 Q1406.96 1529.7 1403.82 1529.7 M1413.1 1515.05 L1413.1 1519.31 Q1411.34 1518.48 1409.53 1518.04 Q1407.75 1517.6 1405.99 1517.6 Q1401.36 1517.6 1398.91 1520.72 Q1396.48 1523.85 1396.13 1530.17 Q1397.5 1528.15 1399.56 1527.09 Q1401.62 1526 1404.09 1526 Q1409.3 1526 1412.31 1529.17 Q1415.34 1532.32 1415.34 1537.76 Q1415.34 1543.08 1412.2 1546.3 Q1409.05 1549.52 1403.82 1549.52 Q1397.82 1549.52 1394.65 1544.94 Q1391.48 1540.33 1391.48 1531.6 Q1391.48 1523.41 1395.37 1518.55 Q1399.26 1513.66 1405.81 1513.66 Q1407.57 1513.66 1409.35 1514.01 Q1411.15 1514.36 1413.1 1515.05 Z\" fill=\"#000000\" fill-rule=\"nonzero\" fill-opacity=\"1\" /><path clip-path=\"url(#clip630)\" d=\"M1791.34 1532.44 Q1788 1532.44 1786.08 1534.22 Q1784.18 1536 1784.18 1539.13 Q1784.18 1542.25 1786.08 1544.03 Q1788 1545.82 1791.34 1545.82 Q1794.67 1545.82 1796.59 1544.03 Q1798.51 1542.23 1798.51 1539.13 Q1798.51 1536 1796.59 1534.22 Q1794.69 1532.44 1791.34 1532.44 M1786.66 1530.45 Q1783.65 1529.7 1781.96 1527.64 Q1780.29 1525.58 1780.29 1522.62 Q1780.29 1518.48 1783.23 1516.07 Q1786.2 1513.66 1791.34 1513.66 Q1796.5 1513.66 1799.44 1516.07 Q1802.38 1518.48 1802.38 1522.62 Q1802.38 1525.58 1800.69 1527.64 Q1799.02 1529.7 1796.04 1530.45 Q1799.41 1531.23 1801.29 1533.52 Q1803.19 1535.82 1803.19 1539.13 Q1803.19 1544.15 1800.11 1546.83 Q1797.05 1549.52 1791.34 1549.52 Q1785.62 1549.52 1782.54 1546.83 Q1779.48 1544.15 1779.48 1539.13 Q1779.48 1535.82 1781.38 1533.52 Q1783.28 1531.23 1786.66 1530.45 M1784.95 1523.06 Q1784.95 1525.75 1786.61 1527.25 Q1788.3 1528.76 1791.34 1528.76 Q1794.35 1528.76 1796.04 1527.25 Q1797.75 1525.75 1797.75 1523.06 Q1797.75 1520.38 1796.04 1518.87 Q1794.35 1517.37 1791.34 1517.37 Q1788.3 1517.37 1786.61 1518.87 Q1784.95 1520.38 1784.95 1523.06 Z\" fill=\"#000000\" fill-rule=\"nonzero\" fill-opacity=\"1\" /><polyline clip-path=\"url(#clip630)\" style=\"stroke:#000000; stroke-linecap:round; stroke-linejoin:round; stroke-width:4; stroke-opacity:1; fill:none\" points=\"392.865,47.2441 392.865,1486.45 \"/>\n",
       "<polyline clip-path=\"url(#clip630)\" style=\"stroke:#000000; stroke-linecap:round; stroke-linejoin:round; stroke-width:4; stroke-opacity:1; fill:none\" points=\"392.865,281.939 405.003,281.939 \"/>\n",
       "<polyline clip-path=\"url(#clip630)\" style=\"stroke:#000000; stroke-linecap:round; stroke-linejoin:round; stroke-width:4; stroke-opacity:1; fill:none\" points=\"392.865,669.865 405.003,669.865 \"/>\n",
       "<polyline clip-path=\"url(#clip630)\" style=\"stroke:#000000; stroke-linecap:round; stroke-linejoin:round; stroke-width:4; stroke-opacity:1; fill:none\" points=\"392.865,1057.79 405.003,1057.79 \"/>\n",
       "<polyline clip-path=\"url(#clip630)\" style=\"stroke:#000000; stroke-linecap:round; stroke-linejoin:round; stroke-width:4; stroke-opacity:1; fill:none\" points=\"392.865,1445.72 405.003,1445.72 \"/>\n",
       "<path clip-path=\"url(#clip630)\" d=\"M340.545 295.284 L356.865 295.284 L356.865 299.219 L334.92 299.219 L334.92 295.284 Q337.582 292.529 342.166 287.9 Q346.772 283.247 347.953 281.904 Q350.198 279.381 351.078 277.645 Q351.98 275.886 351.98 274.196 Q351.98 271.441 350.036 269.705 Q348.115 267.969 345.013 267.969 Q342.814 267.969 340.36 268.733 Q337.93 269.497 335.152 271.048 L335.152 266.326 Q337.976 265.191 340.43 264.613 Q342.883 264.034 344.92 264.034 Q350.291 264.034 353.485 266.719 Q356.679 269.404 356.679 273.895 Q356.679 276.025 355.869 277.946 Q355.082 279.844 352.976 282.437 Q352.397 283.108 349.295 286.326 Q346.193 289.52 340.545 295.284 Z\" fill=\"#000000\" fill-rule=\"nonzero\" fill-opacity=\"1\" /><path clip-path=\"url(#clip630)\" d=\"M347.281 656.659 L335.476 675.108 L347.281 675.108 L347.281 656.659 M346.055 652.585 L351.934 652.585 L351.934 675.108 L356.865 675.108 L356.865 678.996 L351.934 678.996 L351.934 687.145 L347.281 687.145 L347.281 678.996 L331.68 678.996 L331.68 674.483 L346.055 652.585 Z\" fill=\"#000000\" fill-rule=\"nonzero\" fill-opacity=\"1\" /><path clip-path=\"url(#clip630)\" d=\"M345.337 1055.93 Q342.189 1055.93 340.337 1058.08 Q338.508 1060.23 338.508 1063.98 Q338.508 1067.71 340.337 1069.88 Q342.189 1072.04 345.337 1072.04 Q348.485 1072.04 350.314 1069.88 Q352.166 1067.71 352.166 1063.98 Q352.166 1060.23 350.314 1058.08 Q348.485 1055.93 345.337 1055.93 M354.619 1041.27 L354.619 1045.53 Q352.86 1044.7 351.054 1044.26 Q349.272 1043.82 347.513 1043.82 Q342.883 1043.82 340.43 1046.95 Q337.999 1050.07 337.652 1056.39 Q339.018 1054.38 341.078 1053.31 Q343.138 1052.22 345.615 1052.22 Q350.823 1052.22 353.832 1055.39 Q356.865 1058.54 356.865 1063.98 Q356.865 1069.31 353.717 1072.52 Q350.568 1075.74 345.337 1075.74 Q339.342 1075.74 336.17 1071.16 Q332.999 1066.55 332.999 1057.82 Q332.999 1049.63 336.888 1044.77 Q340.777 1039.89 347.328 1039.89 Q349.087 1039.89 350.869 1040.23 Q352.675 1040.58 354.619 1041.27 Z\" fill=\"#000000\" fill-rule=\"nonzero\" fill-opacity=\"1\" /><path clip-path=\"url(#clip630)\" d=\"M345.013 1446.58 Q341.68 1446.58 339.758 1448.37 Q337.86 1450.15 337.86 1453.27 Q337.86 1456.4 339.758 1458.18 Q341.68 1459.96 345.013 1459.96 Q348.346 1459.96 350.267 1458.18 Q352.189 1456.38 352.189 1453.27 Q352.189 1450.15 350.267 1448.37 Q348.369 1446.58 345.013 1446.58 M340.337 1444.59 Q337.328 1443.85 335.638 1441.79 Q333.971 1439.73 333.971 1436.77 Q333.971 1432.63 336.911 1430.22 Q339.874 1427.81 345.013 1427.81 Q350.175 1427.81 353.115 1430.22 Q356.054 1432.63 356.054 1436.77 Q356.054 1439.73 354.365 1441.79 Q352.698 1443.85 349.712 1444.59 Q353.092 1445.38 354.967 1447.67 Q356.865 1449.96 356.865 1453.27 Q356.865 1458.3 353.786 1460.98 Q350.73 1463.67 345.013 1463.67 Q339.295 1463.67 336.217 1460.98 Q333.161 1458.3 333.161 1453.27 Q333.161 1449.96 335.059 1447.67 Q336.957 1445.38 340.337 1444.59 M338.624 1437.21 Q338.624 1439.89 340.291 1441.4 Q341.98 1442.9 345.013 1442.9 Q348.022 1442.9 349.712 1441.4 Q351.425 1439.89 351.425 1437.21 Q351.425 1434.52 349.712 1433.02 Q348.022 1431.51 345.013 1431.51 Q341.98 1431.51 340.291 1433.02 Q338.624 1434.52 338.624 1437.21 Z\" fill=\"#000000\" fill-rule=\"nonzero\" fill-opacity=\"1\" /><circle clip-path=\"url(#clip632)\" cx=\"433.597\" cy=\"87.9763\" r=\"36\" fill=\"#781c6d\" fill-rule=\"evenodd\" fill-opacity=\"1\" stroke=\"none\"/>\n",
       "<circle clip-path=\"url(#clip632)\" cx=\"433.597\" cy=\"281.939\" r=\"36\" fill=\"#fbb419\" fill-rule=\"evenodd\" fill-opacity=\"1\" stroke=\"none\"/>\n",
       "<circle clip-path=\"url(#clip632)\" cx=\"433.597\" cy=\"863.827\" r=\"36\" fill=\"#fcfea4\" fill-rule=\"evenodd\" fill-opacity=\"1\" stroke=\"none\"/>\n",
       "<circle clip-path=\"url(#clip632)\" cx=\"627.56\" cy=\"87.9763\" r=\"36\" fill=\"#fbb419\" fill-rule=\"evenodd\" fill-opacity=\"1\" stroke=\"none\"/>\n",
       "<circle clip-path=\"url(#clip632)\" cx=\"627.56\" cy=\"281.939\" r=\"36\" fill=\"#33095e\" fill-rule=\"evenodd\" fill-opacity=\"1\" stroke=\"none\"/>\n",
       "<circle clip-path=\"url(#clip632)\" cx=\"627.56\" cy=\"475.902\" r=\"36\" fill=\"#fbb419\" fill-rule=\"evenodd\" fill-opacity=\"1\" stroke=\"none\"/>\n",
       "<circle clip-path=\"url(#clip632)\" cx=\"627.56\" cy=\"1057.79\" r=\"36\" fill=\"#fcfea4\" fill-rule=\"evenodd\" fill-opacity=\"1\" stroke=\"none\"/>\n",
       "<circle clip-path=\"url(#clip632)\" cx=\"821.522\" cy=\"281.939\" r=\"36\" fill=\"#fbb419\" fill-rule=\"evenodd\" fill-opacity=\"1\" stroke=\"none\"/>\n",
       "<circle clip-path=\"url(#clip632)\" cx=\"821.522\" cy=\"475.902\" r=\"36\" fill=\"#33095e\" fill-rule=\"evenodd\" fill-opacity=\"1\" stroke=\"none\"/>\n",
       "<circle clip-path=\"url(#clip632)\" cx=\"821.522\" cy=\"669.865\" r=\"36\" fill=\"#fbb419\" fill-rule=\"evenodd\" fill-opacity=\"1\" stroke=\"none\"/>\n",
       "<circle clip-path=\"url(#clip632)\" cx=\"821.522\" cy=\"1251.75\" r=\"36\" fill=\"#fcfea4\" fill-rule=\"evenodd\" fill-opacity=\"1\" stroke=\"none\"/>\n",
       "<circle clip-path=\"url(#clip632)\" cx=\"1015.49\" cy=\"475.902\" r=\"36\" fill=\"#fbb419\" fill-rule=\"evenodd\" fill-opacity=\"1\" stroke=\"none\"/>\n",
       "<circle clip-path=\"url(#clip632)\" cx=\"1015.49\" cy=\"669.865\" r=\"36\" fill=\"#781c6d\" fill-rule=\"evenodd\" fill-opacity=\"1\" stroke=\"none\"/>\n",
       "<circle clip-path=\"url(#clip632)\" cx=\"1015.49\" cy=\"1445.72\" r=\"36\" fill=\"#fcfea4\" fill-rule=\"evenodd\" fill-opacity=\"1\" stroke=\"none\"/>\n",
       "<circle clip-path=\"url(#clip632)\" cx=\"1209.45\" cy=\"87.9763\" r=\"36\" fill=\"#fbb419\" fill-rule=\"evenodd\" fill-opacity=\"1\" stroke=\"none\"/>\n",
       "<circle clip-path=\"url(#clip632)\" cx=\"1209.45\" cy=\"863.827\" r=\"36\" fill=\"#33095e\" fill-rule=\"evenodd\" fill-opacity=\"1\" stroke=\"none\"/>\n",
       "<circle clip-path=\"url(#clip632)\" cx=\"1209.45\" cy=\"1057.79\" r=\"36\" fill=\"#fbb419\" fill-rule=\"evenodd\" fill-opacity=\"1\" stroke=\"none\"/>\n",
       "<circle clip-path=\"url(#clip632)\" cx=\"1403.41\" cy=\"281.939\" r=\"36\" fill=\"#fbb419\" fill-rule=\"evenodd\" fill-opacity=\"1\" stroke=\"none\"/>\n",
       "<circle clip-path=\"url(#clip632)\" cx=\"1403.41\" cy=\"863.827\" r=\"36\" fill=\"#fbb419\" fill-rule=\"evenodd\" fill-opacity=\"1\" stroke=\"none\"/>\n",
       "<circle clip-path=\"url(#clip632)\" cx=\"1403.41\" cy=\"1057.79\" r=\"36\" fill=\"#000003\" fill-rule=\"evenodd\" fill-opacity=\"1\" stroke=\"none\"/>\n",
       "<circle clip-path=\"url(#clip632)\" cx=\"1403.41\" cy=\"1251.75\" r=\"36\" fill=\"#fbb419\" fill-rule=\"evenodd\" fill-opacity=\"1\" stroke=\"none\"/>\n",
       "<circle clip-path=\"url(#clip632)\" cx=\"1597.37\" cy=\"475.902\" r=\"36\" fill=\"#fbb419\" fill-rule=\"evenodd\" fill-opacity=\"1\" stroke=\"none\"/>\n",
       "<circle clip-path=\"url(#clip632)\" cx=\"1597.37\" cy=\"1057.79\" r=\"36\" fill=\"#fbb419\" fill-rule=\"evenodd\" fill-opacity=\"1\" stroke=\"none\"/>\n",
       "<circle clip-path=\"url(#clip632)\" cx=\"1597.37\" cy=\"1251.75\" r=\"36\" fill=\"#000003\" fill-rule=\"evenodd\" fill-opacity=\"1\" stroke=\"none\"/>\n",
       "<circle clip-path=\"url(#clip632)\" cx=\"1597.37\" cy=\"1445.72\" r=\"36\" fill=\"#fbb419\" fill-rule=\"evenodd\" fill-opacity=\"1\" stroke=\"none\"/>\n",
       "<circle clip-path=\"url(#clip632)\" cx=\"1791.34\" cy=\"669.865\" r=\"36\" fill=\"#fbb419\" fill-rule=\"evenodd\" fill-opacity=\"1\" stroke=\"none\"/>\n",
       "<circle clip-path=\"url(#clip632)\" cx=\"1791.34\" cy=\"1251.75\" r=\"36\" fill=\"#fbb419\" fill-rule=\"evenodd\" fill-opacity=\"1\" stroke=\"none\"/>\n",
       "<circle clip-path=\"url(#clip632)\" cx=\"1791.34\" cy=\"1445.72\" r=\"36\" fill=\"#33095e\" fill-rule=\"evenodd\" fill-opacity=\"1\" stroke=\"none\"/>\n",
       "<defs>\n",
       "  <clipPath id=\"clip633\">\n",
       "    <rect x=\"1880\" y=\"47\" width=\"73\" height=\"1440\"/>\n",
       "  </clipPath>\n",
       "</defs>\n",
       "<g clip-path=\"url(#clip633)\">\n",
       "<image width=\"72\" height=\"1439\" xlink:href=\"data:image/png;base64,\n",
       "iVBORw0KGgoAAAANSUhEUgAAAEgAAAWfCAYAAAAI7rB3AAAMWUlEQVR4nO3dwY0rRxAFwaZQ/lsh\n",
       "L6XfLQtUeSQPERYsEg8c9MyQ+/n3/v0O/+uvb/8Bv06gIFAQKAgU5r5/v/03/DQLCgIFgYJAQaAw\n",
       "7/359t/w0ywoCBQECgIFR41gQUGgIFAQKAgU5rmKrSwoCBQECgIFgcK86yq2saAgUBAoCBQcNYIF\n",
       "BYGCQEGgIFBwFQsWFAQKAgWBgvtBwYKCQEGgIFAQKMxx1FhZUBAoCBQECgIFN8yCBQWBgkBBoDDH\n",
       "DbOVBQWBgkBBoCBQmHP/+fbf8NMsKAgUBAoCBYGCxz7BgoJAQaAgUHDDLFhQECgIFAQKAgVXsWBB\n",
       "QaAgUBAouB8ULCgIFAQKAgWBwnwcNVYWFAQKAgWBgkBhzvWfWTYWFAQKAgWBgqNGsKAgUBAoCBQE\n",
       "Co4awYKCQEGgIFAQKHjDLFhQECgIFAQK83HUWFlQECgIFAQKAgXvSQcLCgIFgYJAwVEjWFAQKAgU\n",
       "BAoCBc/mgwUFgYJAQaAgUHAWCxYUBAoCBYGCo0awoCBQECgIFAQKjhrBgoJAQaAgUBAozLn323/D\n",
       "T7OgIFAQKAgUHDWCBQWBgkBBoCBQ8NgnWFAQKAgUBAo+pIMFBYGCQEGgIFCYj6caKwsKAgWBgkBB\n",
       "oOAsFiwoCBQECgIFL1AFCwoCBYGCQEGg4IZZsKAgUBAoCBTcDwoWFAQKAgWBgkDBDbNgQUGgIFAQ\n",
       "KAgUXMWCBQWBgkBBoOB788GCgkBBoCBQECg4agQLCgIFgYJAQaDgKhYsKAgUBAoCBR/SwYKCQEGg\n",
       "IFAQKLiKBQsKAgWBgkBhzvMhvbGgIFAQKAgUBAqOGsGCgkBBoCBQECi4igULCgIFgYJAwYd0sKAg\n",
       "UBAoCBQECnPu+/bf8NMsKAgUBAoCBYGCs1iwoCBQECgIFBw1ggUFgYJAQaAgUHDUCBYUBAoCBYGC\n",
       "o0awoCBQECgIFAQKc5w0VhYUBAoCBYGCQGHOcxbbWFAQKAgUBAqOGsGCgkBBoCBQECi4igULCgIF\n",
       "gYJAQaAwfohzZ0FBoCBQECg4agQLCgIFgYJAQaDgKhYsKAgUBAoChTn38+2/4adZUBAoCBQECgKF\n",
       "ec9VbGNBQaAgUBAoCBTcMAsWFAQKAgWBghtmwYKCQEGgIFAQKMy7Gm3UCQIFgYJAwVEjWFAQKAgU\n",
       "BAoChTmeza8sKAgUBAoCBYHCPGexlQUFgYJAQaAwx1ONlTpBoCBQECgIFBw1ggUFgYJAQaAgUPDY\n",
       "J1hQECgIFAQKXgMO6gSBgkBBoCBQ8J50sKAgUBAoCBQ81QgWFAQKAgWBgkBh3tNoo04QKAgUBAoC\n",
       "BTfMggUFgYJAQaDghlmwoCBQECgIFAQKc9wwW6kTBAoCBYGCQMFZLFhQECgIFAQKPqSDBQWBgkBB\n",
       "oCBQ8L35YEFBoCBQECj43nxQJwgUBAoCBYHCPEeNlQUFgYJAQaAgUPDYJ1hQECgIFAQK/jNLUCcI\n",
       "FAQKAgWBghtmwYKCQEGgIFAQKLhhFiwoCBQECgIFR41gQUGgIFAQKAgUvCcd1AkCBYGCQMFRI1hQ\n",
       "ECgIFAQKAgVPNYIFBYGCQEGgIFBwFgsWFAQKAgWBgn+fFSwoCBQECgIFgYJ/ZRzUCQIFgYJAQaDg\n",
       "hlmwoCBQECgIFDybDxYUBAoCBYGCQMFRI1hQECgIFAQKc31IrywoCBQECgIFgYLvzQd1gkBBoCBQ\n",
       "ECi4YRYsKAgUBAoCBR/SwYKCQEGgIFAQKHjDLFhQECgIFAQKjhrBgoJAQaAgUBAouIoFCwoCBYGC\n",
       "QEGg4NdfgjpBoCBQECjM9VRjZUFBoCBQECgIFNwwCxYUBAoCBYGCQMFVLFhQECgIFAQKPqSDBQWB\n",
       "gkBBoCBQ8BtmwYKCQEGgIFBw1AgWFAQKAgWBgkDBVSxYUBAoCBQECgIFX2YJ6gSBgkBBoODLLMGC\n",
       "gkBBoCBQECi4YRYsKAgUBAoCBYGCq1iwoCBQECgIFLwGHCwoCBQECgIFgYKjRrCgIFAQKAgU5h0f\n",
       "0hsLCgIFgYJAQaDghlmwoCBQECgIFAQKbpgFCwoCBYGCQMFRI1hQECgIFAQKAgVHjWBBQaAgUBAo\n",
       "CBScxYIFBYGCQEGg4KgRLCgIFAQKAgWBgqtYsKAgUBAoCBTm+jLLyoKCQEGgIFAQKDhqBAsKAgWB\n",
       "gkBBoODZfLCgIFAQKAgU5r1v/wm/zYKCQEGgIFAQKDhqBAsKAgWBgkDBD00GCwoCBYGCQEGg4KgR\n",
       "LCgIFAQKAgWBgjfMggUFgYJAQaDgyyzBgoJAQaAgUBAoeMMsWFAQKAgUBAoCBY99ggUFgYJAQaDg\n",
       "qUawoCBQECgIFAQKHvsECwoCBYGCQMH9oGBBQaAgUBAoCBQ8mw8WFAQKAgWBgkDBDbNgQUGgIFAQ\n",
       "KHg2HywoCBQECgIFgcLcb/8FP86CgkBBoCBQECg4iwULCgIFgYJAwRtmwYKCQEGgIFAQKLhhFiwo\n",
       "CBQECgIF94OCBQWBgkBBoCBQcNQIFhQECgIFgYJAwVksWFAQKAgUBAqezQcLCgIFgYJAQaAwfvxl\n",
       "Z0FBoCBQECgIFJzFggUFgYJAQaDg2XywoCBQECgIFAQKns0HCwoCBYGCQMFRI1hQECgIFAQKAgVH\n",
       "jWBBQaAgUBAoCBTmesVsZUFBoCBQECi4YRYsKAgUBAoCBYGCG2bBgoJAQaAgUHDUCBYUBAoCBYGC\n",
       "QGGepxorCwoCBYGCQEGgMPe4YbaxoCBQECgIFLxAFSwoCBQECgIFgYIfmgwWFAQKAgWBgkDBD00G\n",
       "CwoCBYGCQMGz+WBBQaAgUBAoCBS8Jx0sKAgUBAoCBd84DBYUBAoCBYGCQMFRI1hQECgIFAQKAgXv\n",
       "SQcLCgIFgYJAwWvAwYKCQEGgIFAQKDhqBAsKAgWBgkBBoOA96WBBQaAgUBAo+ImuYEFBoCBQECgI\n",
       "FNwwCxYUBAoCBYGCZ/PBgoJAQaAgUBAoOGoECwoCBYGCQEGg4CwWLCgIFAQKAgVHjWBBQaAgUBAo\n",
       "CBRcxYIFBYGCQEGgIFBwwyxYUBAoCBQECo4awYKCQEGgIFAQKDhqBAsKAgWBgkDBUSNYUBAoCBQE\n",
       "CgIFP9EVLCgIFAQKAgWBgv8vFiwoCBQECgIFN8yCBQWBgkBBoCBQmHdcxjYWFAQKAgWBgkDBWSxY\n",
       "UBAoCBQECp7NBwsKAgWBgkBBoODZfLCgIFAQKAgU3A8KFhQECgIFgYJAwbP5YEFBoCBQECgIFJzF\n",
       "ggUFgYJAQaDgJ7qCBQWBgkBBoCBQmOsVs5UFBYGCQEGg4AWqYEFBoCBQECgIFOY5aqwsKAgUBAoC\n",
       "BYGCs1iwoCBQECgIFDzVCBYUBAoCBYGCQMEbZsGCgkBBoCBQECjM9ZXMlQUFgYJAQaDghlmwoCBQ\n",
       "ECgIFAQKfv0lWFAQKAgUBApeoAoWFAQKAgWBgkDBU41gQUGgIFAQKAgU3DALFhQECgIFgcLc45bZ\n",
       "xoKCQEGgIFAQKLhhFiwoCBQECgIFgYKrWLCgIFAQKAgUPNUIFhQECgIFgYJAwWOfYEFBoCBQECjM\n",
       "/ThqbCwoCBQECgIFgYKjRrCgIFAQKAgUBArzXMVWFhQECgIFgYKjRrCgIFAQKAgUBApzP65iGwsK\n",
       "AgWBgkBBoOAsFiwoCBQECgIFTzWCBQWBgkBBoCBQcNQIFhQECgIFgYIP6WBBQaAgUBAoCBQ8mw8W\n",
       "FAQKAgWBgkBh3vnz7b/hp1lQECgIFAQKbpgFCwoCBYGCQEGg4A2zYEFBoCBQECjMfe4HbSwoCBQE\n",
       "CgIFgYKjRrCgIFAQKAgUBApzPZtfWVAQKAgUBAqOGsGCgkBBoCBQECg4agQLCgIFgYJAQaAw7zmL\n",
       "bSwoCBQECgIFN8yCBQWBgkBBoCBQ8J50sKAgUBAoCBQcNYIFBYGCQEGgIFCY56ixsqAgUBAoCBQE\n",
       "Cs5iwYKCQEGgIFCY6wWqlQUFgYJAQaAgUPCb9sGCgkBBoCBQECj4MkuwoCBQECgIFDzVCBYUBAoC\n",
       "BYGCQMFRI1hQECgIFAQKPqSDBQWBgkBBoCBQ8Gw+WFAQKAgUBAoCBWexYEFBoCBQECjM8Wx+ZUFB\n",
       "oCBQECgIFBw1ggUFgYJAQaAgUPCedLCgIFAQKAgU5jhqrCwoCBQECgIFgYI3zIIFBYGCQEGg4Nl8\n",
       "sKAgUBAoCBQECm6YBQsKAgWBgkBBoDDvvG//DT/NgoJAQaAgUHDDLFhQECgIFAQKAoU5jhorCwoC\n",
       "BYGCQOE/LrLuTX/wFc8AAAAASUVORK5CYII=\n",
       "\" transform=\"translate(1880, 47)\"/>\n",
       "</g>\n",
       "<path clip-path=\"url(#clip630)\" d=\"M1988.07 1483.27 L2017.74 1483.27 L2017.74 1487.21 L1988.07 1487.21 L1988.07 1483.27 Z\" fill=\"#000000\" fill-rule=\"nonzero\" fill-opacity=\"1\" /><path clip-path=\"url(#clip630)\" d=\"M2037.84 1468.62 Q2034.23 1468.62 2032.4 1472.18 Q2030.59 1475.72 2030.59 1482.85 Q2030.59 1489.96 2032.4 1493.53 Q2034.23 1497.07 2037.84 1497.07 Q2041.47 1497.07 2043.28 1493.53 Q2045.11 1489.96 2045.11 1482.85 Q2045.11 1475.72 2043.28 1472.18 Q2041.47 1468.62 2037.84 1468.62 M2037.84 1464.91 Q2043.65 1464.91 2046.7 1469.52 Q2049.78 1474.1 2049.78 1482.85 Q2049.78 1491.58 2046.7 1496.19 Q2043.65 1500.77 2037.84 1500.77 Q2032.03 1500.77 2028.95 1496.19 Q2025.89 1491.58 2025.89 1482.85 Q2025.89 1474.1 2028.95 1469.52 Q2032.03 1464.91 2037.84 1464.91 Z\" fill=\"#000000\" fill-rule=\"nonzero\" fill-opacity=\"1\" /><path clip-path=\"url(#clip630)\" d=\"M2058 1494.22 L2062.88 1494.22 L2062.88 1500.1 L2058 1500.1 L2058 1494.22 Z\" fill=\"#000000\" fill-rule=\"nonzero\" fill-opacity=\"1\" /><path clip-path=\"url(#clip630)\" d=\"M2085.92 1469.61 L2074.11 1488.06 L2085.92 1488.06 L2085.92 1469.61 M2084.69 1465.54 L2090.57 1465.54 L2090.57 1488.06 L2095.5 1488.06 L2095.5 1491.95 L2090.57 1491.95 L2090.57 1500.1 L2085.92 1500.1 L2085.92 1491.95 L2070.31 1491.95 L2070.31 1487.44 L2084.69 1465.54 Z\" fill=\"#000000\" fill-rule=\"nonzero\" fill-opacity=\"1\" /><path clip-path=\"url(#clip630)\" d=\"M1988.07 1243.4 L2017.74 1243.4 L2017.74 1247.34 L1988.07 1247.34 L1988.07 1243.4 Z\" fill=\"#000000\" fill-rule=\"nonzero\" fill-opacity=\"1\" /><path clip-path=\"url(#clip630)\" d=\"M2037.84 1228.75 Q2034.23 1228.75 2032.4 1232.32 Q2030.59 1235.86 2030.59 1242.99 Q2030.59 1250.09 2032.4 1253.66 Q2034.23 1257.2 2037.84 1257.2 Q2041.47 1257.2 2043.28 1253.66 Q2045.11 1250.09 2045.11 1242.99 Q2045.11 1235.86 2043.28 1232.32 Q2041.47 1228.75 2037.84 1228.75 M2037.84 1225.05 Q2043.65 1225.05 2046.7 1229.65 Q2049.78 1234.24 2049.78 1242.99 Q2049.78 1251.71 2046.7 1256.32 Q2043.65 1260.9 2037.84 1260.9 Q2032.03 1260.9 2028.95 1256.32 Q2025.89 1251.71 2025.89 1242.99 Q2025.89 1234.24 2028.95 1229.65 Q2032.03 1225.05 2037.84 1225.05 Z\" fill=\"#000000\" fill-rule=\"nonzero\" fill-opacity=\"1\" /><path clip-path=\"url(#clip630)\" d=\"M2058 1254.35 L2062.88 1254.35 L2062.88 1260.23 L2058 1260.23 L2058 1254.35 Z\" fill=\"#000000\" fill-rule=\"nonzero\" fill-opacity=\"1\" /><path clip-path=\"url(#clip630)\" d=\"M2087.23 1241.6 Q2090.59 1242.32 2092.47 1244.58 Q2094.36 1246.85 2094.36 1250.19 Q2094.36 1255.3 2090.85 1258.1 Q2087.33 1260.9 2080.85 1260.9 Q2078.67 1260.9 2076.35 1260.46 Q2074.06 1260.05 2071.61 1259.19 L2071.61 1254.68 Q2073.55 1255.81 2075.87 1256.39 Q2078.18 1256.97 2080.71 1256.97 Q2085.1 1256.97 2087.4 1255.23 Q2089.71 1253.5 2089.71 1250.19 Q2089.71 1247.13 2087.56 1245.42 Q2085.43 1243.68 2081.61 1243.68 L2077.58 1243.68 L2077.58 1239.84 L2081.79 1239.84 Q2085.24 1239.84 2087.07 1238.47 Q2088.9 1237.08 2088.9 1234.49 Q2088.9 1231.83 2087 1230.42 Q2085.13 1228.98 2081.61 1228.98 Q2079.69 1228.98 2077.49 1229.4 Q2075.29 1229.82 2072.65 1230.69 L2072.65 1226.53 Q2075.31 1225.79 2077.63 1225.42 Q2079.97 1225.05 2082.03 1225.05 Q2087.35 1225.05 2090.45 1227.48 Q2093.55 1229.88 2093.55 1234.01 Q2093.55 1236.88 2091.91 1238.87 Q2090.27 1240.83 2087.23 1241.6 Z\" fill=\"#000000\" fill-rule=\"nonzero\" fill-opacity=\"1\" /><path clip-path=\"url(#clip630)\" d=\"M1988.07 1003.54 L2017.74 1003.54 L2017.74 1007.47 L1988.07 1007.47 L1988.07 1003.54 Z\" fill=\"#000000\" fill-rule=\"nonzero\" fill-opacity=\"1\" /><path clip-path=\"url(#clip630)\" d=\"M2037.84 988.883 Q2034.23 988.883 2032.4 992.448 Q2030.59 995.99 2030.59 1003.12 Q2030.59 1010.23 2032.4 1013.79 Q2034.23 1017.33 2037.84 1017.33 Q2041.47 1017.33 2043.28 1013.79 Q2045.11 1010.23 2045.11 1003.12 Q2045.11 995.99 2043.28 992.448 Q2041.47 988.883 2037.84 988.883 M2037.84 985.179 Q2043.65 985.179 2046.7 989.786 Q2049.78 994.369 2049.78 1003.12 Q2049.78 1011.85 2046.7 1016.45 Q2043.65 1021.04 2037.84 1021.04 Q2032.03 1021.04 2028.95 1016.45 Q2025.89 1011.85 2025.89 1003.12 Q2025.89 994.369 2028.95 989.786 Q2032.03 985.179 2037.84 985.179 Z\" fill=\"#000000\" fill-rule=\"nonzero\" fill-opacity=\"1\" /><path clip-path=\"url(#clip630)\" d=\"M2058 1014.48 L2062.88 1014.48 L2062.88 1020.36 L2058 1020.36 L2058 1014.48 Z\" fill=\"#000000\" fill-rule=\"nonzero\" fill-opacity=\"1\" /><path clip-path=\"url(#clip630)\" d=\"M2077.1 1016.43 L2093.42 1016.43 L2093.42 1020.36 L2071.47 1020.36 L2071.47 1016.43 Q2074.13 1013.67 2078.72 1009.05 Q2083.32 1004.39 2084.5 1003.05 Q2086.75 1000.53 2087.63 998.791 Q2088.53 997.031 2088.53 995.341 Q2088.53 992.587 2086.59 990.851 Q2084.67 989.115 2081.56 989.115 Q2079.36 989.115 2076.91 989.879 Q2074.48 990.642 2071.7 992.193 L2071.7 987.471 Q2074.53 986.337 2076.98 985.758 Q2079.43 985.179 2081.47 985.179 Q2086.84 985.179 2090.04 987.865 Q2093.23 990.55 2093.23 995.041 Q2093.23 997.17 2092.42 999.091 Q2091.63 1000.99 2089.53 1003.58 Q2088.95 1004.25 2085.85 1007.47 Q2082.74 1010.67 2077.1 1016.43 Z\" fill=\"#000000\" fill-rule=\"nonzero\" fill-opacity=\"1\" /><path clip-path=\"url(#clip630)\" d=\"M1988.07 763.669 L2017.74 763.669 L2017.74 767.604 L1988.07 767.604 L1988.07 763.669 Z\" fill=\"#000000\" fill-rule=\"nonzero\" fill-opacity=\"1\" /><path clip-path=\"url(#clip630)\" d=\"M2037.84 749.016 Q2034.23 749.016 2032.4 752.581 Q2030.59 756.122 2030.59 763.252 Q2030.59 770.358 2032.4 773.923 Q2034.23 777.465 2037.84 777.465 Q2041.47 777.465 2043.28 773.923 Q2045.11 770.358 2045.11 763.252 Q2045.11 756.122 2043.28 752.581 Q2041.47 749.016 2037.84 749.016 M2037.84 745.312 Q2043.65 745.312 2046.7 749.919 Q2049.78 754.502 2049.78 763.252 Q2049.78 771.979 2046.7 776.585 Q2043.65 781.168 2037.84 781.168 Q2032.03 781.168 2028.95 776.585 Q2025.89 771.979 2025.89 763.252 Q2025.89 754.502 2028.95 749.919 Q2032.03 745.312 2037.84 745.312 Z\" fill=\"#000000\" fill-rule=\"nonzero\" fill-opacity=\"1\" /><path clip-path=\"url(#clip630)\" d=\"M2058 774.618 L2062.88 774.618 L2062.88 780.497 L2058 780.497 L2058 774.618 Z\" fill=\"#000000\" fill-rule=\"nonzero\" fill-opacity=\"1\" /><path clip-path=\"url(#clip630)\" d=\"M2073.88 776.562 L2081.52 776.562 L2081.52 750.196 L2073.21 751.863 L2073.21 747.604 L2081.47 745.937 L2086.15 745.937 L2086.15 776.562 L2093.79 776.562 L2093.79 780.497 L2073.88 780.497 L2073.88 776.562 Z\" fill=\"#000000\" fill-rule=\"nonzero\" fill-opacity=\"1\" /><path clip-path=\"url(#clip630)\" d=\"M2000.01 509.149 Q1996.4 509.149 1994.57 512.713 Q1992.77 516.255 1992.77 523.385 Q1992.77 530.491 1994.57 534.056 Q1996.4 537.597 2000.01 537.597 Q2003.65 537.597 2005.45 534.056 Q2007.28 530.491 2007.28 523.385 Q2007.28 516.255 2005.45 512.713 Q2003.65 509.149 2000.01 509.149 M2000.01 505.445 Q2005.82 505.445 2008.88 510.051 Q2011.96 514.635 2011.96 523.385 Q2011.96 532.111 2008.88 536.718 Q2005.82 541.301 2000.01 541.301 Q1994.2 541.301 1991.12 536.718 Q1988.07 532.111 1988.07 523.385 Q1988.07 514.635 1991.12 510.051 Q1994.2 505.445 2000.01 505.445 Z\" fill=\"#000000\" fill-rule=\"nonzero\" fill-opacity=\"1\" /><path clip-path=\"url(#clip630)\" d=\"M2000.01 269.281 Q1996.4 269.281 1994.57 272.846 Q1992.77 276.388 1992.77 283.517 Q1992.77 290.624 1994.57 294.189 Q1996.4 297.73 2000.01 297.73 Q2003.65 297.73 2005.45 294.189 Q2007.28 290.624 2007.28 283.517 Q2007.28 276.388 2005.45 272.846 Q2003.65 269.281 2000.01 269.281 M2000.01 265.578 Q2005.82 265.578 2008.88 270.184 Q2011.96 274.767 2011.96 283.517 Q2011.96 292.244 2008.88 296.851 Q2005.82 301.434 2000.01 301.434 Q1994.2 301.434 1991.12 296.851 Q1988.07 292.244 1988.07 283.517 Q1988.07 274.767 1991.12 270.184 Q1994.2 265.578 2000.01 265.578 Z\" fill=\"#000000\" fill-rule=\"nonzero\" fill-opacity=\"1\" /><path clip-path=\"url(#clip630)\" d=\"M2020.17 294.883 L2025.06 294.883 L2025.06 300.763 L2020.17 300.763 L2020.17 294.883 Z\" fill=\"#000000\" fill-rule=\"nonzero\" fill-opacity=\"1\" /><path clip-path=\"url(#clip630)\" d=\"M2036.05 296.827 L2043.69 296.827 L2043.69 270.462 L2035.38 272.128 L2035.38 267.869 L2043.65 266.203 L2048.32 266.203 L2048.32 296.827 L2055.96 296.827 L2055.96 300.763 L2036.05 300.763 L2036.05 296.827 Z\" fill=\"#000000\" fill-rule=\"nonzero\" fill-opacity=\"1\" /><path clip-path=\"url(#clip630)\" d=\"M2000.01 29.414 Q1996.4 29.414 1994.57 32.9788 Q1992.77 36.5204 1992.77 43.65 Q1992.77 50.7565 1994.57 54.3213 Q1996.4 57.8629 2000.01 57.8629 Q2003.65 57.8629 2005.45 54.3213 Q2007.28 50.7565 2007.28 43.65 Q2007.28 36.5204 2005.45 32.9788 Q2003.65 29.414 2000.01 29.414 M2000.01 25.7103 Q2005.82 25.7103 2008.88 30.3168 Q2011.96 34.9001 2011.96 43.65 Q2011.96 52.3768 2008.88 56.9833 Q2005.82 61.5666 2000.01 61.5666 Q1994.2 61.5666 1991.12 56.9833 Q1988.07 52.3768 1988.07 43.65 Q1988.07 34.9001 1991.12 30.3168 Q1994.2 25.7103 2000.01 25.7103 Z\" fill=\"#000000\" fill-rule=\"nonzero\" fill-opacity=\"1\" /><path clip-path=\"url(#clip630)\" d=\"M2020.17 55.0157 L2025.06 55.0157 L2025.06 60.8953 L2020.17 60.8953 L2020.17 55.0157 Z\" fill=\"#000000\" fill-rule=\"nonzero\" fill-opacity=\"1\" /><path clip-path=\"url(#clip630)\" d=\"M2039.27 56.9601 L2055.59 56.9601 L2055.59 60.8953 L2033.65 60.8953 L2033.65 56.9601 Q2036.31 54.2055 2040.89 49.5759 Q2045.5 44.9232 2046.68 43.5806 Q2048.92 41.0574 2049.8 39.3213 Q2050.71 37.5621 2050.71 35.8723 Q2050.71 33.1177 2048.76 31.3816 Q2046.84 29.6455 2043.74 29.6455 Q2041.54 29.6455 2039.09 30.4093 Q2036.66 31.1732 2033.88 32.7241 L2033.88 28.002 Q2036.7 26.8677 2039.16 26.289 Q2041.61 25.7103 2043.65 25.7103 Q2049.02 25.7103 2052.21 28.3955 Q2055.41 31.0806 2055.41 35.5714 Q2055.41 37.701 2054.6 39.6223 Q2053.81 41.5204 2051.7 44.113 Q2051.12 44.7843 2048.02 48.0018 Q2044.92 51.1963 2039.27 56.9601 Z\" fill=\"#000000\" fill-rule=\"nonzero\" fill-opacity=\"1\" /><polyline clip-path=\"url(#clip630)\" style=\"stroke:#000000; stroke-linecap:round; stroke-linejoin:round; stroke-width:4; stroke-opacity:1; fill:none\" points=\"1952.07,1486.45 1952.07,1486.45 1976.07,1486.45 1952.07,1486.45 1952.07,1246.58 1976.07,1246.58 1952.07,1246.58 1952.07,1006.71 1976.07,1006.71 1952.07,1006.71 1952.07,766.846 1976.07,766.846 1952.07,766.846 1952.07,526.979 1976.07,526.979 1952.07,526.979 1952.07,287.111 1976.07,287.111 1952.07,287.111 1952.07,47.2441 1976.07,47.2441 1952.07,47.2441 \"/>\n",
       "</svg>\n"
      ]
     },
     "execution_count": 41,
     "metadata": {},
     "output_type": "execute_result"
    }
   ],
   "source": [
    "using Plots\n",
    "\n",
    "spy(L, markersize = 10)"
   ]
  },
  {
   "cell_type": "markdown",
   "id": "f4ac1a6a",
   "metadata": {},
   "source": [
    "To calculate a simple dynamic valuation, consider whether the payoff of being in state $(i,j)$ is $r_{ij} = i + 2j$"
   ]
  },
  {
   "cell_type": "code",
   "execution_count": 42,
   "id": "eddf22df",
   "metadata": {},
   "outputs": [
    {
     "data": {
      "text/plain": [
       "8-element Vector{Float64}:\n",
       " 3.0\n",
       " 4.0\n",
       " 5.0\n",
       " 6.0\n",
       " 5.0\n",
       " 6.0\n",
       " 7.0\n",
       " 8.0"
      ]
     },
     "execution_count": 42,
     "metadata": {},
     "output_type": "execute_result"
    }
   ],
   "source": [
    "r = [i + 2.0j for i in 1:N, j in 1:M]\n",
    "r = vec(r)  # vectorize it since stacked in same order"
   ]
  },
  {
   "cell_type": "markdown",
   "id": "43d32f39",
   "metadata": {},
   "source": [
    "Solving the equation $\\rho v = r + L v$"
   ]
  },
  {
   "cell_type": "code",
   "execution_count": 43,
   "id": "f0a73cae",
   "metadata": {},
   "outputs": [
    {
     "data": {
      "text/plain": [
       "4×2 Matrix{Float64}:\n",
       "  87.8992   93.6134\n",
       "  96.1345  101.849\n",
       " 106.723   112.437\n",
       " 114.958   120.672"
      ]
     },
     "execution_count": 43,
     "metadata": {},
     "output_type": "execute_result"
    }
   ],
   "source": [
    "ρ = 0.05\n",
    "v = (ρ * I - L) \\ r\n",
    "reshape(v, N, M)"
   ]
  },
  {
   "cell_type": "markdown",
   "id": "804401ce",
   "metadata": {},
   "source": [
    "The `reshape` helps to rearrange it back to being two-dimensional.\n",
    "\n",
    "To find the stationary distribution, we calculate the eigenvalue and choose the eigenvector associated with $\\lambda=0$ .  In this\n",
    "case, we can verify that it is the last one."
   ]
  },
  {
   "cell_type": "code",
   "execution_count": 44,
   "id": "add90063",
   "metadata": {},
   "outputs": [
    {
     "data": {
      "text/plain": [
       "8-element Vector{Float64}:\n",
       " 0.16666666666666669\n",
       " 0.1666666666666665\n",
       " 0.16666666666666669\n",
       " 0.1666666666666668\n",
       " 0.08333333333333327\n",
       " 0.08333333333333344\n",
       " 0.08333333333333331\n",
       " 0.0833333333333334"
      ]
     },
     "execution_count": 44,
     "metadata": {},
     "output_type": "execute_result"
    }
   ],
   "source": [
    "L_eig = eigen(Matrix(L'))\n",
    "@assert norm(L_eig.values[end]) < 1E-10\n",
    "\n",
    "ψ = L_eig.vectors[:,end]\n",
    "ψ = ψ / sum(ψ)"
   ]
  },
  {
   "cell_type": "markdown",
   "id": "55bbd0e7",
   "metadata": {},
   "source": [
    "Reshape this to be two-dimensional if it is helpful for visualization."
   ]
  },
  {
   "cell_type": "code",
   "execution_count": 45,
   "id": "1d853b8a",
   "metadata": {},
   "outputs": [
    {
     "data": {
      "text/plain": [
       "4×2 Matrix{Float64}:\n",
       " 0.166667  0.0833333\n",
       " 0.166667  0.0833333\n",
       " 0.166667  0.0833333\n",
       " 0.166667  0.0833333"
      ]
     },
     "execution_count": 45,
     "metadata": {},
     "output_type": "execute_result"
    }
   ],
   "source": [
    "reshape(ψ, N, size(A,1))"
   ]
  },
  {
   "cell_type": "markdown",
   "id": "81716523",
   "metadata": {},
   "source": [
    "### Irreducibility\n",
    "\n",
    "As with the discrete-time Markov chains, a key question is whether CTMCs are reducible, i.e., whether states communicate.  The problem\n",
    "is isomorphic to determining whether the directed graph of the Markov chain is [strongly connected](https://en.wikipedia.org/wiki/Strongly_connected_component)."
   ]
  },
  {
   "cell_type": "code",
   "execution_count": 46,
   "id": "240be1ba",
   "metadata": {},
   "outputs": [
    {
     "data": {
      "text/plain": [
       "6×6 Tridiagonal{Float64, Vector{Float64}}:\n",
       " -0.1   0.1    ⋅     ⋅     ⋅     ⋅ \n",
       "  0.1  -0.2   0.1    ⋅     ⋅     ⋅ \n",
       "   ⋅    0.1  -0.2   0.1    ⋅     ⋅ \n",
       "   ⋅     ⋅    0.1  -0.2   0.1    ⋅ \n",
       "   ⋅     ⋅     ⋅    0.1  -0.2   0.1\n",
       "   ⋅     ⋅     ⋅     ⋅    0.1  -0.1"
      ]
     },
     "execution_count": 46,
     "metadata": {},
     "output_type": "execute_result"
    }
   ],
   "source": [
    "using Graphs\n",
    "α = 0.1\n",
    "N = 6\n",
    "Q = Tridiagonal(fill(α, N-1), [-α; fill(-2α, N-2); -α], fill(α, N-1))"
   ]
  },
  {
   "cell_type": "markdown",
   "id": "a090052e",
   "metadata": {},
   "source": [
    "We can verify that it is possible to move between every pair of states in a finite number of steps with"
   ]
  },
  {
   "cell_type": "code",
   "execution_count": 47,
   "id": "5795a29d",
   "metadata": {},
   "outputs": [
    {
     "name": "stdout",
     "output_type": "stream",
     "text": [
      "is_strongly_connected(Q_graph) = true\n"
     ]
    }
   ],
   "source": [
    "Q_graph = DiGraph(Q)\n",
    "@show is_strongly_connected(Q_graph);  # i.e., can follow directional edges to get to every state"
   ]
  },
  {
   "cell_type": "markdown",
   "id": "a98bc061",
   "metadata": {},
   "source": [
    "Alternatively, as an example of a reducible Markov chain where states $1$ and $2$ cannot jump to state $3$."
   ]
  },
  {
   "cell_type": "code",
   "execution_count": 48,
   "id": "36ba9c8b",
   "metadata": {},
   "outputs": [
    {
     "name": "stdout",
     "output_type": "stream",
     "text": [
      "is_strongly_connected(Q_graph) = false\n"
     ]
    }
   ],
   "source": [
    "Q = [-0.2 0.2 0\n",
    "    0.2 -0.2 0\n",
    "    0.2 0.6 -0.8]\n",
    "Q_graph = DiGraph(Q)\n",
    "@show is_strongly_connected(Q_graph);"
   ]
  },
  {
   "cell_type": "markdown",
   "id": "9c6f308d",
   "metadata": {},
   "source": [
    "## Banded Matrices\n",
    "\n",
    "A tridiagonal matrix has 3 non-zero diagonals:  the main diagonal, the first sub-diagonal (i.e., below the main diagonal), and also the first super-diagonal (i.e., above the main diagonal).\n",
    "\n",
    "This is a special case of a more general type called a banded matrix, where the number of sub- and super-diagonals can be greater than 1.  The\n",
    "total width of main-, sub-, and super-diagonals is called the bandwidth.  For example, a tridiagonal matrix has a bandwidth of 3.\n",
    "\n",
    "An $N \\times N$ banded matrix with bandwidth $P$ has about $N P$ nonzeros in its sparsity pattern.\n",
    "\n",
    "These can be created directly as a dense matrix with `diagm`.  For example, with a bandwidth of three and a zero diagonal,"
   ]
  },
  {
   "cell_type": "code",
   "execution_count": 49,
   "id": "d59e69b3",
   "metadata": {},
   "outputs": [
    {
     "data": {
      "text/plain": [
       "4×4 Matrix{Int64}:\n",
       " 0  1  0  0\n",
       " 4  0  2  0\n",
       " 0  5  0  3\n",
       " 0  0  6  0"
      ]
     },
     "execution_count": 49,
     "metadata": {},
     "output_type": "execute_result"
    }
   ],
   "source": [
    "diagm(1 => [1,2,3], -1 => [4,5,6])"
   ]
  },
  {
   "cell_type": "markdown",
   "id": "7290f7a7",
   "metadata": {},
   "source": [
    "Or as a sparse matrix,"
   ]
  },
  {
   "cell_type": "code",
   "execution_count": 50,
   "id": "335e21b3",
   "metadata": {},
   "outputs": [
    {
     "data": {
      "text/plain": [
       "4×4 SparseMatrixCSC{Int64, Int64} with 6 stored entries:\n",
       " ⋅  1  ⋅  ⋅\n",
       " 4  ⋅  2  ⋅\n",
       " ⋅  5  ⋅  3\n",
       " ⋅  ⋅  6  ⋅"
      ]
     },
     "execution_count": 50,
     "metadata": {},
     "output_type": "execute_result"
    }
   ],
   "source": [
    "spdiagm(1 => [1,2,3], -1 => [4,5,6])"
   ]
  },
  {
   "cell_type": "markdown",
   "id": "d6b28c6e",
   "metadata": {},
   "source": [
    "Or directly using [BandedMatrices.jl](https://github.com/JuliaMatrices/BandedMatrices.jl)"
   ]
  },
  {
   "cell_type": "code",
   "execution_count": 51,
   "id": "c0c71eb0",
   "metadata": {},
   "outputs": [
    {
     "data": {
      "text/plain": [
       "4×4 BandedMatrix{Int64} with bandwidths (1, 1):\n",
       " 0  1  ⋅  ⋅\n",
       " 4  0  2  ⋅\n",
       " ⋅  5  0  3\n",
       " ⋅  ⋅  6  0"
      ]
     },
     "execution_count": 51,
     "metadata": {},
     "output_type": "execute_result"
    }
   ],
   "source": [
    "using BandedMatrices\n",
    "BandedMatrix(1 => [1,2,3], -1 => [4,5,6])"
   ]
  },
  {
   "cell_type": "markdown",
   "id": "19977901",
   "metadata": {},
   "source": [
    "There is also a convenience function for generating random banded matrices"
   ]
  },
  {
   "cell_type": "code",
   "execution_count": 52,
   "id": "7fd55bbf",
   "metadata": {},
   "outputs": [
    {
     "data": {
      "text/plain": [
       "7×7 BandedMatrix{Float64} with bandwidths (3, 1):\n",
       " 0.249137  0.849849   ⋅         ⋅          ⋅         ⋅         ⋅ \n",
       " 0.607815  0.253132  0.371965   ⋅          ⋅         ⋅         ⋅ \n",
       " 0.724436  0.121212  0.415992  0.25258     ⋅         ⋅         ⋅ \n",
       " 0.965024  0.437153  0.729472  0.336554   0.664299   ⋅         ⋅ \n",
       "  ⋅        0.976969  0.314399  0.0272443  0.397334  0.919194   ⋅ \n",
       "  ⋅         ⋅        0.403747  0.147311   0.74152   0.602738  0.913819\n",
       "  ⋅         ⋅         ⋅        0.583009   0.578108  0.560479  0.579793"
      ]
     },
     "execution_count": 52,
     "metadata": {},
     "output_type": "execute_result"
    }
   ],
   "source": [
    "A = brand(7, 7, 3, 1)  # 7x7 matrix, 3 subdiagonals, 1 superdiagonal"
   ]
  },
  {
   "cell_type": "markdown",
   "id": "10578835",
   "metadata": {},
   "source": [
    "And, of course, specialized algorithms will be used to exploit the structure when solving linear systems.  In particular, the complexity is related to the $O(N P_L P_U)$ for upper and lower bandwidths $P$"
   ]
  },
  {
   "cell_type": "code",
   "execution_count": 53,
   "id": "2b8ce26f",
   "metadata": {},
   "outputs": [
    {
     "name": "stdout",
     "output_type": "stream",
     "text": [
      "factorize(Symmetric(A)) |> typeof = LDLt{Float64, Symmetric{Float64, BandedMatrix{Float64, Matrix{Float64}, Base.OneTo{Int64}}}}\n"
     ]
    },
    {
     "data": {
      "text/plain": [
       "7-element Vector{Float64}:\n",
       " -1.6369592693831976\n",
       "  1.6204127338847327\n",
       "  1.6129642421666923\n",
       "  2.2654589446799656\n",
       " -1.015461108463952\n",
       " -1.0012568753722138\n",
       "  0.9146445743712437"
      ]
     },
     "execution_count": 53,
     "metadata": {},
     "output_type": "execute_result"
    }
   ],
   "source": [
    "@show factorize(Symmetric(A)) |> typeof\n",
    "A \\ rand(7)"
   ]
  },
  {
   "cell_type": "markdown",
   "id": "f7425161",
   "metadata": {},
   "source": [
    "The factorization algorithm uses a specialized LU decomposition for banded matrices.\n",
    "\n",
    "(implementation_numerics)=\n",
    "## Implementation Details and Performance\n",
    "\n",
    "Recall the famous quote from Knuth: \"97% of the time, premature optimization is the root of all evil. Yet we should not pass up our opportunities in that critical 3%.\"  The most common example of premature optimization is trying to use your own mental model of a compiler while writing your code, worried about the efficiency of code, and (usually incorrectly) second-guessing the compiler.\n",
    "\n",
    "Concretely, the lessons in this section are:\n",
    "\n",
    "1. Don't worry about optimizing your code unless you need to.  Code clarity is your first-order concern.\n",
    "1. If you use other people's packages, they can worry about performance and you don't need to.\n",
    "1. If you absolutely need that \"critical 3%,\" your intuition about performance is usually wrong on modern CPUs and GPUs, so let the compiler do its job.\n",
    "1. Benchmarking (e.g., `@btime`) and [profiling](https://docs.julialang.org/en/v1/manual/profile/) are the tools to figure out performance bottlenecks.  If 99% of computing time is spent in one small function, then there is no point in optimizing anything else.\n",
    "1. If you benchmark to show that a particular part of the code is an issue, and you can't find another library that does a better job, then you can worry about performance.\n",
    "\n",
    "You will rarely get to step 3, let alone step 5.\n",
    "\n",
    "However, there is also a corollary:  \"don't pessimize prematurely.\" That is, don't make choices that lead to poor performance without any tradeoff in improved code clarity.  For example, writing your own algorithms when a high-performance algorithm exists in a package or Julia itself, or lazily making a matrix dense and carelessly dropping its structure.\n",
    "\n",
    "### Implementation Difficulty\n",
    "\n",
    "Numerical analysts sometimes refer to the lowest level of code for basic operations (e.g., a dot product, matrix-matrix product, convolutions) as `kernels`.\n",
    "\n",
    "That sort of code is difficult to write, and performance depends on the characteristics of the underlying hardware, such as the [instruction set](https://en.wikipedia.org/wiki/Instruction_set_architecture) available on the particular CPU, the size of the [CPU cache](https://en.wikipedia.org/wiki/CPU_cache), and the layout of arrays in memory.\n",
    "\n",
    "Typically, these operations are written in a [BLAS](https://en.wikipedia.org/wiki/Basic_Linear_Algebra_Subprograms) library, organized into different levels.  The levels roughly correspond to the computational order of the operations:  BLAS Level 1 are $O(N)$ operations such as linear products, Level 2 are $O(N^2)$ operations such as matrix-vector products, and Level 3 are roughly $O(N^3)$, such as general matrix-matrix products.\n",
    "\n",
    "An example of a BLAS library is [OpenBLAS](https://github.com/xianyi/OpenBLAS), which is used by default in Julia, or  the [Intel MKL](https://en.wikipedia.org/wiki/Math_Kernel_Library), which is used in Matlab (and in Julia if the `MKL.jl` package is installed).\n",
    "\n",
    "On top of BLAS are [LAPACK](https://en.wikipedia.org/wiki/LAPACK) operations, which are higher-level kernels, such as matrix factorizations and eigenvalue algorithms, and are often in the same libraries (e.g., MKL has both BLAS and LAPACK functionality).\n",
    "\n",
    "The details of these packages are not especially relevant, but if you are talking about performance, people will inevitably start discussing these different packages and kernels.  There are a few important things to keep in mind:\n",
    "\n",
    "1. Leave writing kernels to the experts.  Even simple-sounding algorithms can be very complicated to implement with high performance.\n",
    "1. Your intuition about performance of code is probably going to be wrong.  If you use high quality libraries rather than writing your own kernels, you don't need to use your intuition.\n",
    "1. Don't get distracted by the jargon or acronyms above if you are reading about performance.\n",
    "\n",
    "### Row- and Column-Major Ordering\n",
    "\n",
    "There is a practical performance issue which may influence your code.  Since memory in a CPU is linear, dense matrices need to be stored by either stacking columns (called [column-major order](https://en.wikipedia.org/wiki/Row-_and_column-major_order)) or rows.\n",
    "\n",
    "The reason this matters is that compilers can generate better performance if they work in contiguous chunks of memory, and this becomes especially important with large matrices due to the interaction with the CPU cache.  Choosing the wrong order when there is no benefit in code clarity is an example of premature pessimization.  The performance difference can be orders of magnitude in some cases, and nothing in others.\n",
    "\n",
    "One option is to use the functions that let the compiler choose the most efficient way to traverse memory. If you need to choose the looping order yourself, then you might want to experiment with going through columns first and going through rows first.  Other times, let Julia decide, i.e., `enumerate` and `eachindex` will choose the right approach.\n",
    "\n",
    "Julia, Fortran, and Matlab all use column-major order, while C/C++ and Python use row-major order.  This means that if you find an algorithm written for C/C++/Python, you will sometimes need to make small changes if performance is an issue.\n",
    "\n",
    "### Digression on Allocations and In-place Operations\n",
    "\n",
    "While we have usually not considered optimizing code for performance (and have focused on the choice of\n",
    "algorithms instead), when matrices and vectors become large we need to be more careful.\n",
    "\n",
    "The most important thing to avoid are excess allocations, which usually occur due to the use of\n",
    "temporary vectors and matrices when they are not necessary.  Sometimes those extra temporary values\n",
    "can cause enormous degradations in performance.\n",
    "\n",
    "However, caution is suggested since\n",
    "excess allocations are never relevant for scalar values, and allocations frequently create faster code for\n",
    "smaller matrices/vectors since it can lead to better [cache locality](https://en.wikipedia.org/wiki/Locality_of_reference).\n",
    "\n",
    "To see this, a convenient tool is the benchmarking"
   ]
  },
  {
   "cell_type": "code",
   "execution_count": 54,
   "id": "8f46b7b1",
   "metadata": {},
   "outputs": [
    {
     "name": "stdout",
     "output_type": "stream",
     "text": [
      "  597.772 ns (1 allocation: 896 bytes)\n"
     ]
    },
    {
     "data": {
      "text/plain": [
       "10×10 Matrix{Float64}:\n",
       " 3.88622  3.89353  3.77256  3.03683  …  2.3747   2.06317  2.85813  4.12785\n",
       " 5.00088  4.89479  4.5616   2.93174     2.86965  2.58255  3.32457  5.01006\n",
       " 4.16559  3.89196  3.48728  2.36875     2.39433  2.35954  2.6446   3.69582\n",
       " 4.72342  4.26309  4.10953  2.58485     2.80941  2.30148  2.6341   3.95345\n",
       " 3.83682  4.552    3.991    2.91925     3.08619  2.3282   2.58817  4.06832\n",
       " 4.50285  4.63918  4.62707  2.32979  …  2.79878  2.68404  3.12501  4.82882\n",
       " 4.57254  4.50141  4.25523  3.01381     2.91585  2.27358  3.06085  4.17532\n",
       " 4.642    4.00792  4.38117  2.09846     2.6599   2.62388  3.17824  4.34158\n",
       " 3.69463  3.4852   3.2082   2.19226     2.29474  2.21371  2.33719  3.25337\n",
       " 4.76994  4.89471  4.73363  3.13832     2.90939  2.59762  3.38554  4.96909"
      ]
     },
     "execution_count": 54,
     "metadata": {},
     "output_type": "execute_result"
    }
   ],
   "source": [
    "using BenchmarkTools\n",
    "A = rand(10,10)\n",
    "B = rand(10,10)\n",
    "C = similar(A)\n",
    "function f!(C, A, B)\n",
    "    D = A*B\n",
    "    C .= D .+ 1\n",
    "end\n",
    "@btime f!($C, $A, $B)"
   ]
  },
  {
   "cell_type": "markdown",
   "id": "67cd1c3b",
   "metadata": {},
   "source": [
    "The `!` on the `f!` is an informal way to say that the function is mutating, and the first argument (`C` here)\n",
    "is by convention the modified variable.\n",
    "\n",
    "In the `f!` function, notice that the `D` is a temporary variable which is created, and then modified afterwards.  But notice that since\n",
    "`C` is modified directly, there is no need to create the temporary `D` matrix.\n",
    "\n",
    "This is an example of where an in-place version of the matrix multiplication can help avoid the allocation."
   ]
  },
  {
   "cell_type": "code",
   "execution_count": 55,
   "id": "71087eb4",
   "metadata": {},
   "outputs": [
    {
     "name": "stdout",
     "output_type": "stream",
     "text": [
      "  594.444 ns (1 allocation: 896 bytes)\n"
     ]
    },
    {
     "name": "stdout",
     "output_type": "stream",
     "text": [
      "  506.212 ns (0 allocations: 0 bytes)\n"
     ]
    },
    {
     "data": {
      "text/plain": [
       "10×10 Matrix{Float64}:\n",
       " 3.49484  3.39944  2.78868  3.30176  …  3.95507  3.03323  2.69935  2.94465\n",
       " 2.55706  1.86998  2.24931  2.39319     3.04391  2.22918  1.87232  2.5985\n",
       " 4.09158  3.5013   3.62429  3.80519     4.60324  3.11816  3.16512  3.63433\n",
       " 3.67359  4.13121  3.88012  4.55375     5.39446  3.35861  3.33792  3.67154\n",
       " 3.39581  4.40599  3.42146  4.39003     5.07657  3.47102  3.28428  3.77209\n",
       " 3.79119  3.59088  3.16204  4.45079  …  4.98626  3.28275  3.15713  3.47816\n",
       " 3.85483  4.33821  3.60923  3.93005     5.00665  3.97537  3.35012  4.00407\n",
       " 4.89039  5.28359  4.77468  5.43633     6.72286  4.54196  4.0695   4.80744\n",
       " 3.75726  3.34515  3.26204  3.78259     4.45989  3.6188   2.89155  3.41107\n",
       " 4.08829  4.03342  3.21527  4.17448     4.33974  3.37887  3.08931  3.02885"
      ]
     },
     "execution_count": 55,
     "metadata": {},
     "output_type": "execute_result"
    }
   ],
   "source": [
    "function f2!(C, A, B)\n",
    "    mul!(C, A, B)  # in-place multiplication\n",
    "    C .+= 1\n",
    "end\n",
    "A = rand(10,10)\n",
    "B = rand(10,10)\n",
    "C = similar(A)\n",
    "@btime f!($C, $A, $B)\n",
    "@btime f2!($C, $A, $B)"
   ]
  },
  {
   "cell_type": "markdown",
   "id": "4ad37f4b",
   "metadata": {},
   "source": [
    "Note that in the output of the benchmarking, the `f2!` is non-allocating and is using the pre-allocated `C` variable directly.\n",
    "\n",
    "Another example of this is solutions to linear equations, where for large solutions you may pre-allocate and reuse the\n",
    "solution vector."
   ]
  },
  {
   "cell_type": "code",
   "execution_count": 56,
   "id": "d4d3ccd7",
   "metadata": {},
   "outputs": [
    {
     "data": {
      "text/plain": [
       "10-element Vector{Float64}:\n",
       "  2.3013974055322075\n",
       "  0.0846873817770798\n",
       "  0.7473201607390058\n",
       " -2.747417513346127\n",
       " -1.693278785858056\n",
       "  0.12375574392037846\n",
       " -1.4428955275936808\n",
       "  1.3411435637041682\n",
       "  2.761463941320383\n",
       "  0.07288425762859393"
      ]
     },
     "execution_count": 56,
     "metadata": {},
     "output_type": "execute_result"
    }
   ],
   "source": [
    "A = rand(10,10)\n",
    "y = rand(10)\n",
    "z = A \\ y  # creates temporary\n",
    "\n",
    "A = factorize(A)  # in-place requires factorization\n",
    "x = similar(y)  # pre-allocate\n",
    "ldiv!(x, A, y)  # in-place left divide, using factorization"
   ]
  },
  {
   "cell_type": "markdown",
   "id": "d882a14c",
   "metadata": {},
   "source": [
    "However, if you benchmark carefully, you will see that this is sometimes slower.  Avoiding allocations is not always a good\n",
    "idea - and worrying about it prior to benchmarking is premature optimization.\n",
    "\n",
    "There are a variety of other non-allocating versions of functions.  For example,"
   ]
  },
  {
   "cell_type": "code",
   "execution_count": 57,
   "id": "8520f7fa",
   "metadata": {},
   "outputs": [
    {
     "data": {
      "text/plain": [
       "10×10 Matrix{Float64}:\n",
       " 0.811601    0.899243  0.725708   0.284021  …  0.354106  0.112426  0.339154\n",
       " 0.00790333  0.86226   0.251181   0.474599     0.34251   0.222795  0.0186245\n",
       " 0.123037    0.668323  0.0619222  0.582055     0.959484  0.32293   0.214821\n",
       " 0.0012518   0.733197  0.617966   0.151617     0.171723  0.74272   0.209474\n",
       " 0.0911146   0.822027  0.910671   0.294019     0.832758  0.578819  0.129152\n",
       " 0.425627    0.822726  0.355305   0.197185  …  0.172408  0.447427  0.823456\n",
       " 0.668306    0.17692   0.765922   0.667631     0.873703  0.25864   0.0134306\n",
       " 0.388655    0.931105  0.20858    0.383996     0.799093  0.164938  0.395565\n",
       " 0.304053    0.695924  0.0553802  0.989633     0.928237  0.739555  0.334263\n",
       " 0.710061    0.613563  0.883984   0.619658     0.13839   0.282556  0.891416"
      ]
     },
     "execution_count": 57,
     "metadata": {},
     "output_type": "execute_result"
    }
   ],
   "source": [
    "A = rand(10,10)\n",
    "B = similar(A)\n",
    "\n",
    "transpose!(B, A)  # non-allocating version of B = transpose(A)"
   ]
  },
  {
   "cell_type": "markdown",
   "id": "fbf4f8ac",
   "metadata": {},
   "source": [
    "Finally, a common source of unnecessary allocations is when taking slices or portions of\n",
    "matrices.  For example, the following allocates a new matrix `B` and copies the values."
   ]
  },
  {
   "cell_type": "code",
   "execution_count": 58,
   "id": "43eae75d",
   "metadata": {},
   "outputs": [
    {
     "data": {
      "text/plain": [
       "5-element Vector{Float64}:\n",
       " 0.9230450911751324\n",
       " 0.08136956335528056\n",
       " 0.8791975622688366\n",
       " 0.3124595901751288\n",
       " 0.47680030576508337"
      ]
     },
     "execution_count": 58,
     "metadata": {},
     "output_type": "execute_result"
    }
   ],
   "source": [
    "A = rand(5,5)\n",
    "B = A[2,:]  # extract a vector"
   ]
  },
  {
   "cell_type": "markdown",
   "id": "355b3b70",
   "metadata": {},
   "source": [
    "To see that these are different matrices, note that"
   ]
  },
  {
   "cell_type": "code",
   "execution_count": 59,
   "id": "967b790e",
   "metadata": {},
   "outputs": [
    {
     "name": "stdout",
     "output_type": "stream",
     "text": [
      "A[2, 1] = 100.0\n",
      "B[1] = 0.9230450911751324\n"
     ]
    }
   ],
   "source": [
    "A[2,1] = 100.0\n",
    "@show A[2,1]\n",
    "@show B[1];"
   ]
  },
  {
   "cell_type": "markdown",
   "id": "8d4dd40c",
   "metadata": {},
   "source": [
    "Instead of allocating a new matrix, you can take a `view` of a matrix, which provides an\n",
    "appropriate `AbstractArray` type that doesn't allocate new memory with the `@view` matrix."
   ]
  },
  {
   "cell_type": "code",
   "execution_count": 60,
   "id": "b0e01c44",
   "metadata": {},
   "outputs": [
    {
     "name": "stdout",
     "output_type": "stream",
     "text": [
      "A[2, 1] = 100.0\n",
      "B[1] = 100.0\n"
     ]
    }
   ],
   "source": [
    "A = rand(5,5)\n",
    "B = @view A[2,:]  #  does not copy the data\n",
    "\n",
    "A[2,1] = 100.0\n",
    "@show A[2,1]\n",
    "@show B[1];"
   ]
  },
  {
   "cell_type": "markdown",
   "id": "d534c2d6",
   "metadata": {},
   "source": [
    "But again, you will often find that doing `@view` leads to slower code.  Benchmark\n",
    "instead, and generally rely on it for large matrices and for contiguous chunks of memory (e.g., columns rather than rows).\n",
    "\n",
    "<!-- Commenting out.  Worried this will be misused.  We can move this sort of pattern to a performance section later\n",
    "## Patterns for Preallocated Caches of Results\n",
    "\n",
    "When the matrices and vectors get large, it can reach a point where it is important to cache the results and reduce allocations.  In general, this should only be attempted when the vectors are large and they would otherwise need to be reallocated many times.\n",
    "\n",
    "One approach is to create a {doc}`custom type<../getting_started_julia/introduction_to_types>` to hold the results, being very careful to ensure that the type is concrete.\n",
    "\n",
    "\n",
    "```{code-cell} julia\n",
    "struct MyResults{T}\n",
    "    x::Array{T,1}\n",
    "    A::Array{T,2}\n",
    "end\n",
    "MyResults(N) = MyResults(Array{Float64,1}(undef, N), Array{Float64,2}(undef, N, N))    \n",
    "\n",
    "#Support for inplace copying\n",
    "import Base.copy!\n",
    "function copy!(dst::MyResults, src::MyResults)\n",
    "    dst.x .= src.x\n",
    "    dst.A .= src.A\n",
    "end\n",
    "```\n",
    "\n",
    "The above code is an **immutable** structure for holding the `x` and `A` buffers.  The fact that it is immutable ensures that the `x` vector itself cannot be changed (even if the values within `x` can be).  This can help ensure that you do not accidentally reallocate and assign a new vector to `x`.\n",
    "\n",
    "The only other code is an implementation of the in-place `copy!` function, which will allow us to copy all of the results as required by some algorithms.\n",
    "\n",
    "To create a contrived algorithm, see the following code:\n",
    "\n",
    "```{code-cell} julia\n",
    "# By convention, name has ! to denote mutating, and mutate first argument\n",
    "function calculate_results!(results, val, params)\n",
    "    (;N, b, C) = params\n",
    "    B = rand(N,N)  # Contrived.  Assume complicated\n",
    "    lmul!(val, B)  # val * B -> B inplace, no allocation\n",
    "    mul!(results.A, B, C) #   B * C -> results.A\n",
    "    ldiv!(results.x, factorize(results.A), b)  # x = A \\ b inplace\n",
    "end\n",
    "\n",
    "# Some iterative algorithm\n",
    "function iterate_values(vals, params)    \n",
    "    (;N) = params\n",
    "    \n",
    "    # preallocate\n",
    "    results = MyResults(N)\n",
    "    prev_results = MyResults(N)\n",
    "    norms = similar(vals)\n",
    "        \n",
    "    for (i, val) in enumerate(vals)\n",
    "        calculate_results!(results, val, params)\n",
    "        norms[i] = norm(results.x- prev_results.x)            \n",
    "        println(\"|x_new - x_old| = \", norms[i])\n",
    "        copy!(prev_results, results)\n",
    "    end\n",
    "    return norms\n",
    "end\n",
    "\n",
    "params = (N = 5, C = rand(5,5), b = rand(5))\n",
    "vals = range(0.0, 1.0, length = 10)\n",
    "iterate_values(vals, params)\n",
    "```\n",
    "\n",
    "A few points:\n",
    "- This creates an inplace function, `calculate_results!`, which modifies the results given a value and parameters.\n",
    "- Within the function, it attempts to use inplace versions of the operations where possible, which can help cut down on other allocations\n",
    "- The iteration simply goes through a list of values, calls the `calculate_results!` and then checks how the `results.x` has changed with a norm.\n",
    "- Finally, the iteration copies the new results into the previous ones.  This ensure that only a single copy is required for comparison.\n",
    "\n",
    "\n",
    "\n",
    "This approach can be very helpful for large matrices and arrays, but should be used judiciously and only after {doc}`profiling<../software_engineering/need_for_speed>`  .\n",
    "-->\n",
    "\n",
    "\n",
    "## Exercises\n",
    "\n",
    "### Exercise 1\n",
    "\n",
    "This exercise is for practice on writing low-level routines (i.e., \"kernels\"), and to hopefully convince you to leave low-level code to the experts.\n",
    "\n",
    "The formula for matrix multiplication is deceptively simple.  For example, with the product of square matrices $C = A B$ of size $N \\times N$, the $i,j$ element of $C$ is\n",
    "\n",
    "$$\n",
    "C_{ij} = \\sum_{k=1}^N A_{ik} B_{kj}\n",
    "$$\n",
    "\n",
    "Alternatively, you can take a row $A_{i,:}$ and column $B_{:, j}$ and use an inner product\n",
    "\n",
    "$$\n",
    "C_{ij} = A_{i,:} \\cdot B_{:,j}\n",
    "$$\n",
    "\n",
    "Note that the inner product in a discrete space is simply a sum, and has the same complexity as the sum (i.e., $O(N)$ operations).\n",
    "\n",
    "For a dense matrix without any structure and using a naive multiplication algorithm, this also makes it clear why the complexity is $O(N^3)$: You need to evaluate it for $N^2$ elements in the matrix and do an $O(N)$ operation each time.\n",
    "\n",
    "For this exercise, implement matrix multiplication yourself and compare performance in a few permutations.\n",
    "\n",
    "1. Use the built-in function in Julia (i.e., `C = A * B`, or, for a better comparison, the in-place version `mul!(C, A, B)`, which works with pre-allocated data).\n",
    "1. Loop over each $C_{ij}$ by the row first (i.e., the `i` index) and use a `for` loop for the inner product.\n",
    "1. Loop over each $C_{ij}$ by the column first (i.e., the `j` index) and use a `for` loop for the inner product.\n",
    "1. Do the same but use the `dot` product instead of the sum.\n",
    "1. Choose your best implementation of these, and then for matrices of a few different sizes (`N=10`, `N=1000`, etc.), and compare the ratio of performance of your best implementation to the built-in BLAS library.\n",
    "\n",
    "A few more hints:\n",
    "\n",
    "- You can just use random matrices (e.g., `A = rand(N, N)`).\n",
    "- For all of them, pre-allocate the $C$ matrix beforehand with `C = similar(A)` or something equivalent.\n",
    "- To compare performance, put your code in a function and use the `@btime` macro to time it.\n",
    "\n",
    "### Exercise 2a\n",
    "\n",
    "Here we will calculate the evolution of the pdf of a discrete-time Markov chain, $\\psi_t$, given the initial condition $\\psi_0$.\n",
    "\n",
    "Start with a simple symmetric tridiagonal matrix"
   ]
  },
  {
   "cell_type": "code",
   "execution_count": 61,
   "id": "6bbc7ae9",
   "metadata": {},
   "outputs": [],
   "source": [
    "N = 100\n",
    "A = Tridiagonal([fill(0.1, N-2); 0.2], fill(0.8, N), [0.2; fill(0.1, N-2)])\n",
    "A_adjoint = A';"
   ]
  },
  {
   "cell_type": "markdown",
   "id": "38a3e422",
   "metadata": {},
   "source": [
    "1. Pick some large `T` and use the initial condition $\\psi_0 = \\begin{bmatrix} 1 & 0 & \\ldots & 0\\end{bmatrix}$\n",
    "1. Write code to calculate $\\psi_t$ to some $T$ by iterating the map for each $t$, i.e.,\n",
    "\n",
    "$$\n",
    "\\psi_{t+1} = A' \\psi_t\n",
    "$$\n",
    "\n",
    "1. What is the computational order of calculating  $\\psi_T$ using this iteration approach $T < N$?\n",
    "1. What is the computational order of $(A')^T = (A' \\ldots A')$ and then $\\psi_T = (A')^T \\psi_0$ for $T < N$?\n",
    "1. Benchmark calculating $\\psi_T$ with the iterative calculation above as well as the direct $\\psi_T = (A')^T \\psi_0$ to see which is faster.  You can take the matrix power with just `A_adjoint^T`, which uses specialized algorithms faster and more accurately than repeated matrix multiplication (but with the same computational order).\n",
    "1. Check the same if $T = 2 N$\n",
    "\n",
    "*Note:* The algorithm used in Julia to take matrix powers  depends on the matrix structure, as always.  In the symmetric case, it can use an eigendecomposition, whereas with a general dense matrix it uses [squaring and scaling](https://doi.org/10.1137/090768539).\n",
    "\n",
    "### Exercise 2b\n",
    "\n",
    "With the same setup as in Exercise 2a, do an [eigendecomposition](https://en.wikipedia.org/wiki/Eigendecomposition_of_a_matrix) of `A_transpose`.  That is, use `eigen` to factor the adjoint $A' = Q \\Lambda Q^{-1}$, where $Q$ is the matrix of eigenvectors and $\\Lambda$ is the diagonal matrix of eigenvalues.  Calculate $Q^{-1}$ from the results.\n",
    "\n",
    "Use the factored matrix to calculate the sequence of $\\psi_t = (A')^t \\psi_0$ using the relationship\n",
    "\n",
    "$$\n",
    "\\psi_t = Q \\Lambda^t Q^{-1} \\psi_0\n",
    "$$\n",
    "\n",
    "where matrix powers of diagonal matrices are simply the element-wise power of each element.\n",
    "\n",
    "Benchmark the speed of calculating the sequence of $\\psi_t$ up to `T = 2N` using this method.  In principle, the factorization and easy calculation of the power should give you benefits, compared to simply iterating the map as we did in Exercise 2a.  Explain why it does or does not, using computational order of each approach."
   ]
  }
 ],
 "metadata": {
  "jupytext": {
   "text_representation": {
    "extension": ".md",
    "format_name": "myst"
   }
  },
  "kernelspec": {
   "display_name": "Julia",
   "language": "julia",
   "name": "julia-1.9"
  },
  "language_info": {
   "file_extension": ".jl",
   "mimetype": "application/julia",
   "name": "julia",
   "version": "1.9.2"
  },
  "source_map": [
   10,
   53,
   59,
   118,
   124,
   131,
   134,
   140,
   142,
   148,
   152,
   163,
   169,
   173,
   184,
   203,
   208,
   210,
   214,
   216,
   220,
   224,
   246,
   250,
   254,
   256,
   264,
   294,
   302,
   305,
   309,
   311,
   331,
   337,
   343,
   347,
   350,
   355,
   357,
   361,
   363,
   367,
   369,
   385,
   389,
   392,
   396,
   401,
   409,
   414,
   417,
   429,
   436,
   441,
   443,
   447,
   454,
   482,
   490,
   494,
   500,
   536,
   542,
   558,
   564,
   621,
   626,
   645,
   650,
   655,
   657,
   679,
   681,
   686,
   688,
   699,
   717,
   721,
   725,
   729,
   732,
   736,
   740,
   747,
   753,
   757,
   759,
   766,
   771,
   775,
   778,
   782,
   788,
   801,
   803,
   807,
   809,
   813,
   816,
   820,
   822,
   826,
   829,
   893,
   903,
   913,
   923,
   930,
   938,
   945,
   950,
   955,
   958,
   962,
   966,
   971,
   978,
   1099,
   1103
  ]
 },
 "nbformat": 4,
 "nbformat_minor": 5
}