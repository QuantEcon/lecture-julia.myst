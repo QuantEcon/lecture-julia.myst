{
 "cells": [
  {
   "cell_type": "markdown",
   "id": "a0545eb8",
   "metadata": {},
   "source": [
    "(troubleshooting)=\n",
    "```{raw} html\n",
    "<div id=\"qe-notebook-header\" style=\"text-align:right;\">\n",
    "        <a href=\"https://quantecon.org/\" title=\"quantecon.org\">\n",
    "                <img style=\"width:250px;display:inline;\" src=\"https://assets.quantecon.org/img/qe-menubar-logo.svg\" alt=\"QuantEcon\">\n",
    "        </a>\n",
    "</div>\n",
    "```\n",
    "\n",
    "# Troubleshooting\n",
    "\n",
    "```{contents} Contents\n",
    ":depth: 2\n",
    "```\n",
    "\n",
    "This troubleshooting page is to help ensure you software environment is setup correctly\n",
    "to run this lecture set locally on your machine.\n",
    "\n",
    "## Resetting your Lectures\n",
    "\n",
    "Using VS Code, you can easily revert back individual lectures, all of the lectures, or get updated versions of the lecture notes.\n",
    "\n",
    "See the lecture on [setting up your environment](reset_notebooks) for more.\n",
    "\n",
    "If the `Project.toml` or `Manifest.toml` files are modified, then you may want to redo the [instantiation](install_packages) step to ensure you have the correct versions.\n",
    "\n",
    "\n",
    "(reset_julia)=\n",
    "## Fixing Your Local Environment\n",
    "\n",
    "If packages are misbehaving, you may want to simply [reset the lectures](reset_notebooks) or at least the `Project.toml` and `Manifest.toml` files from the lecture notes, and then redo the [instantiation](install_packages) step  This will fix nearly every problem.\n",
    "\n",
    "However, if you are still having issues you could delete the entire `.julia` directory for your users, and then redo the installation of packages as well as `] add IJulia`.  It is fast for recent versions of Julia.\n",
    "\n",
    "The directory  is located in your user directory (e.g. `~/.julia` on MacOS and Linux, and `C:\\Users\\YOURUSERNAME\\.julia` on Windows) or you can find this directory by running `DEPOT_PATH[1]` in a Julia REPL.\n",
    "\n",
    "## Upgrading Julia\n",
    "\n",
    "You should be able to upgrade Julia by simply\n",
    "- Installing the latest release from the [Julia website](https://julialang.org/downloads/).\n",
    "- Uninstalling your old release (so that the VS Code extension only uses the newest version)\n",
    "- And, finally, you will need to redo the `] add IJulia` [installation step](intro_repl) to ensure that Jupyter knows how to find the new version.\n",
    "\n",
    "```{warning}\n",
    "While upgrading Julia will typically work with the notebooks, there may be upgrades where a particular lecture has problems.  Make sure that you have [updated your notebooks](reset_notebooks) in case bug fixes were made, and post an issue to the  [GitHub source for these lectures](https://github.com/QuantEcon/lecture-julia.myst/issues).\n",
    "```\n",
    "\n",
    "## Reporting an Issue\n",
    "\n",
    "One way to give feedback is to raise an issue through our [issue tracker](https://github.com/QuantEcon/lecture-julia.myst/issues).\n",
    "\n",
    "Please be as specific as possible.  Tell us where the problem is and as much\n",
    "detail about your local set up as you can provide.\n",
    "\n",
    "Another feedback option is to use our [discourse forum](https://discourse.quantecon.org/).\n",
    "\n",
    "Finally, you can provide direct feedback to [contact@quantecon.org](mailto:contact@quantecon.org)"
   ]
  }
 ],
 "metadata": {
  "jupytext": {
   "text_representation": {
    "extension": ".md",
    "format_name": "myst"
   }
  },
  "kernelspec": {
   "display_name": "Julia",
   "language": "julia",
   "name": "julia-1.11"
  },
  "source_map": [
   10
  ]
 },
 "nbformat": 4,
 "nbformat_minor": 5
}