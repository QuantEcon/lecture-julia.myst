{
 "cells": [
  {
   "cell_type": "markdown",
   "id": "bcc37d2e",
   "metadata": {},
   "source": [
    "(harrison_kreps)=\n",
    "```{raw} html\n",
    "<div id=\"qe-notebook-header\" style=\"text-align:right;\">\n",
    "        <a href=\"https://quantecon.org/\" title=\"quantecon.org\">\n",
    "                <img style=\"width:250px;display:inline;\" src=\"https://assets.quantecon.org/img/qe-menubar-logo.svg\" alt=\"QuantEcon\">\n",
    "        </a>\n",
    "</div>\n",
    "```\n",
    "\n",
    "# Asset Pricing III:  Incomplete Markets\n",
    "\n",
    "```{index} single: Models; Harrison Kreps\n",
    "```\n",
    "\n",
    "```{contents} Contents\n",
    ":depth: 2\n",
    "```\n",
    "\n",
    "## Overview\n",
    "\n",
    "This lecture describes a version of a model of Harrison and Kreps {cite}`HarrKreps1978`.\n",
    "\n",
    "The model determines the price of a dividend-yielding asset that is traded by two types of self-interested investors.\n",
    "\n",
    "The model features\n",
    "\n",
    "* heterogeneous beliefs\n",
    "* incomplete markets\n",
    "* short sales constraints, and possibly $\\ldots$\n",
    "* (leverage) limits on an investor's ability to borrow in order to finance purchases of a risky asset\n",
    "\n",
    "### References\n",
    "\n",
    "Prior to reading the following you might like to review our lectures on\n",
    "\n",
    "* {doc}`Markov chains <../introduction_dynamics/finite_markov>`\n",
    "* {doc}`Asset pricing with finite state space <../multi_agent_models/markov_asset>`\n",
    "\n",
    "### Bubbles\n",
    "\n",
    "Economists differ in how they define a *bubble*.\n",
    "\n",
    "The Harrison-Kreps model illustrates the following notion of a bubble that attracts many economists:\n",
    "\n",
    "> *A component of an asset price can be interpreted as a bubble when all investors agree that the current price of the asset exceeds what they believe the asset's underlying dividend stream justifies.*"
   ]
  },
  {
   "cell_type": "code",
   "execution_count": 1,
   "id": "a6e88142",
   "metadata": {},
   "outputs": [],
   "source": [
    "using LinearAlgebra, Statistics"
   ]
  },
  {
   "cell_type": "markdown",
   "id": "1e91ddad",
   "metadata": {},
   "source": [
    "## Structure of the Model\n",
    "\n",
    "The model simplifies by ignoring alterations in the distribution of wealth\n",
    "among investors having different beliefs about the fundamentals that determine\n",
    "asset payouts.\n",
    "\n",
    "There is a fixed number $A$ of shares of an asset.\n",
    "\n",
    "Each share entitles its owner to a stream of dividends $\\{d_t\\}$ governed by a Markov chain defined on a state space $S \\in \\{0, 1\\}$.\n",
    "\n",
    "The dividend obeys\n",
    "\n",
    "$$\n",
    "d_t =\n",
    "\\begin{cases}\n",
    "    0 & \\text{ if } s_t = 0 \\\\\n",
    "    1 & \\text{ if } s_t = 1\n",
    "\\end{cases}\n",
    "$$\n",
    "\n",
    "The owner of a share at the beginning of time $t$ is entitled to the dividend paid at time $t$.\n",
    "\n",
    "The owner of the share at the beginning of time $t$ is also entitled to sell the share to another investor during time $t$.\n",
    "\n",
    "Two types $h=a, b$ of investors differ only in their beliefs about a Markov transition matrix $P$ with typical element\n",
    "\n",
    "$$\n",
    "P(i,j) = \\mathbb P\\{s_{t+1} = j \\mid s_t = i\\}\n",
    "$$\n",
    "\n",
    "Investors of type $a$ believe the transition matrix\n",
    "\n",
    "$$\n",
    "P_a =\n",
    "    \\begin{bmatrix}\n",
    "        \\frac{1}{2} & \\frac{1}{2} \\\\\n",
    "        \\frac{2}{3} & \\frac{1}{3}\n",
    "    \\end{bmatrix}\n",
    "$$\n",
    "\n",
    "Investors of  type $b$ think the transition matrix is\n",
    "\n",
    "$$\n",
    "P_b =\n",
    "    \\begin{bmatrix}\n",
    "        \\frac{2}{3} & \\frac{1}{3} \\\\\n",
    "        \\frac{1}{4} & \\frac{3}{4}\n",
    "    \\end{bmatrix}\n",
    "$$\n",
    "\n",
    "The stationary (i.e., invariant) distributions of these two matrices can be calculated as follows:"
   ]
  },
  {
   "cell_type": "code",
   "execution_count": 2,
   "id": "2756b2cb",
   "metadata": {
    "tags": [
     "remove-cell"
    ]
   },
   "outputs": [],
   "source": [
    "using Test"
   ]
  },
  {
   "cell_type": "code",
   "execution_count": 3,
   "id": "862a3bf6",
   "metadata": {},
   "outputs": [
    {
     "data": {
      "text/plain": [
       "1-element Vector{Vector{Float64}}:\n",
       " [0.5714285714285715, 0.4285714285714286]"
      ]
     },
     "execution_count": 3,
     "metadata": {},
     "output_type": "execute_result"
    }
   ],
   "source": [
    "using QuantEcon\n",
    "\n",
    "qa = [1/2 1/2; 2/3 1/3]\n",
    "qb = [2/3 1/3; 1/4 3/4]\n",
    "mcA = MarkovChain(qa)\n",
    "mcB = MarkovChain(qb)\n",
    "stA = stationary_distributions(mcA)"
   ]
  },
  {
   "cell_type": "code",
   "execution_count": 4,
   "id": "01bf74a0",
   "metadata": {},
   "outputs": [
    {
     "data": {
      "text/plain": [
       "1-element Vector{Vector{Float64}}:\n",
       " [0.42857142857142855, 0.5714285714285714]"
      ]
     },
     "execution_count": 4,
     "metadata": {},
     "output_type": "execute_result"
    }
   ],
   "source": [
    "stB = stationary_distributions(mcB)"
   ]
  },
  {
   "cell_type": "code",
   "execution_count": 5,
   "id": "e5a39780",
   "metadata": {
    "tags": [
     "remove-cell"
    ]
   },
   "outputs": [
    {
     "name": "stdout",
     "output_type": "stream",
     "text": [
      "\u001b[0m\u001b[1mTest Summary: | \u001b[22m\u001b[32m\u001b[1mPass  \u001b[22m\u001b[39m\u001b[36m\u001b[1mTotal  \u001b[22m\u001b[39m\u001b[0m\u001b[1mTime\u001b[22m\n",
      "test set      | \u001b[32m   2  \u001b[39m\u001b[36m    2  \u001b[39m\u001b[0m0.9s\n"
     ]
    },
    {
     "data": {
      "text/plain": [
       "Test.DefaultTestSet(\"test set\", Any[], 2, false, false, true, 1.690420446457222e9, 1.6904204473563e9, false)"
      ]
     },
     "execution_count": 5,
     "metadata": {},
     "output_type": "execute_result"
    }
   ],
   "source": [
    "@testset begin\n",
    "  @test stA ≈ [[0.5714285714285715, 0.4285714285714286]]\n",
    "  @test stB ≈ [[0.42857142857142855, 0.5714285714285714]]\n",
    "end"
   ]
  },
  {
   "cell_type": "markdown",
   "id": "b75b7425",
   "metadata": {},
   "source": [
    "The stationary distribution of $P_a$ is approximately $\\pi_A = \\begin{bmatrix} .57 & .43 \\end{bmatrix}$.\n",
    "\n",
    "The stationary distribution of $P_b$ is approximately $\\pi_B = \\begin{bmatrix} .43 & .57 \\end{bmatrix}$.\n",
    "\n",
    "### Ownership Rights\n",
    "\n",
    "An owner of the asset at the end of time $t$ is entitled to the dividend at time $t+1$ and also has the right to sell the asset at time $t+1$.\n",
    "\n",
    "Both types of investors are risk-neutral and both have the same fixed discount factor $\\beta \\in (0,1)$.\n",
    "\n",
    "In our numerical example, we’ll set $\\beta = .75$, just as Harrison and Kreps did.\n",
    "\n",
    "We’ll eventually study the consequences of two different assumptions about the number of shares $A$ relative to the resources that our two types of investors can invest in the stock.\n",
    "\n",
    "1. Both types of investors have enough resources (either wealth or the capacity to borrow) so that they can purchase the entire available stock of the asset [^f1].\n",
    "1. No single type of investor has sufficient resources to purchase the entire stock.\n",
    "\n",
    "Case 1 is the case studied in Harrison and Kreps.\n",
    "\n",
    "In case 2, both types of investor always hold at least some of the asset.\n",
    "\n",
    "### Short Sales Prohibited\n",
    "\n",
    "No short sales are allowed.\n",
    "\n",
    "This matters because it limits pessimists from expressing their opinions\n",
    "\n",
    "* They can express their views by selling their shares.\n",
    "* They cannot express their pessimism more loudly by artificially \"manufacturing shares\" -- that is, they cannot borrow shares from more optimistic investors and sell them immediately.\n",
    "\n",
    "### Optimism and Pessimism\n",
    "\n",
    "The above specifications of the perceived transition matrices $P_a$ and $P_b$, taken directly from Harrison and Kreps, build in stochastically alternating temporary optimism and pessimism.\n",
    "\n",
    "Remember that state $1$ is the high dividend state.\n",
    "\n",
    "* In state $0$, a type $a$ agent is more optimistic about next period's dividend than a type $b$ agent.\n",
    "* In state $1$, a type $b$ agent is more optimistic about next period's dividend.\n",
    "\n",
    "However, the stationary distributions $\\pi_A = \\begin{bmatrix} .57 & .43 \\end{bmatrix}$ and $\\pi_B = \\begin{bmatrix} .43 & .57 \\end{bmatrix}$ tell us that a type $B$ person is more optimistic about the dividend process in the long run than is a type A person.\n",
    "\n",
    "Transition matrices for the temporarily optimistic and pessimistic investors are constructed as follows.\n",
    "\n",
    "Temporarily optimistic investors (i.e., the investor with the most optimistic\n",
    "beliefs in each state) believe the transition matrix\n",
    "\n",
    "$$\n",
    "P_o =\n",
    "    \\begin{bmatrix}\n",
    "        \\frac{1}{2} & \\frac{1}{2} \\\\\n",
    "        \\frac{1}{4} & \\frac{3}{4}\n",
    "    \\end{bmatrix}\n",
    "$$\n",
    "\n",
    "Temporarily pessimistic believe the transition matrix\n",
    "\n",
    "$$\n",
    "P_p =\n",
    "    \\begin{bmatrix}\n",
    "        \\frac{1}{2} & \\frac{1}{2} \\\\\n",
    "        \\frac{1}{4} & \\frac{3}{4}\n",
    "    \\end{bmatrix}\n",
    "$$\n",
    "\n",
    "We'll return to these matrices and their significance in the exercise.\n",
    "\n",
    "### Information\n",
    "\n",
    "Investors know a price function mapping the state $s_t$ at $t$ into the equilibrium price $p(s_t)$ that prevails in that state.\n",
    "\n",
    "This price function is endogenous and to be determined below.\n",
    "\n",
    "When investors choose whether to purchase or sell the asset at $t$, they also know $s_t$.\n",
    "\n",
    "## Solving the Model\n",
    "\n",
    "Now let's turn to solving the model.\n",
    "\n",
    "This amounts to determining equilibrium prices under the different possible specifications of beliefs and constraints listed above.\n",
    "\n",
    "In particular, we compare equilibrium price functions under the following alternative\n",
    "assumptions about beliefs:\n",
    "\n",
    "1. There is only one type of agent, either $a$ or $b$.\n",
    "1. There are two types of agent differentiated only by their beliefs. Each type of agent has sufficient resources to purchase all of the asset (Harrison and Kreps's setting).\n",
    "1. There are two types of agent with different beliefs, but because of limited wealth and/or limited leverage, both types of investors hold the asset each period.\n",
    "\n",
    "### Summary Table\n",
    "\n",
    "The following table gives a summary of the findings obtained in the remainder of the lecture\n",
    "(you will be asked to recreate the table in an exercise).\n",
    "\n",
    "It records implications of Harrison and Kreps's specifications of $P_a, P_b, \\beta$.\n",
    "\n",
    "| $s_t$ | 0 | 1 |\n",
    "|:-----:|:----:|:----:|\n",
    "| $p_a$ | 1.33 | 1.22 |\n",
    "| $p_b$ | 1.45 | 1.91 |\n",
    "| $p_o$ | 1.85 | 2.08 |\n",
    "| $p_p$ | 1 | 1 |\n",
    "| $\\hat{p}_a$ | 1.85 | 1.69 |\n",
    "| $\\hat{p}_b$ | 1.69 | 2.08 |\n",
    "\n",
    "Here\n",
    "\n",
    "* $p_a$ is the equilibrium price function  under homogeneous beliefs $P_a$\n",
    "* $p_b$ is the equilibrium price function under homogeneous beliefs $P_b$\n",
    "* $p_o$ is the equilibrium price function under heterogeneous beliefs with optimistic marginal investors\n",
    "* $p_p$ is the equilibrium price function under heterogeneous beliefs with pessimistic marginal investors\n",
    "* $\\hat{p}_a$ is the amount type $a$ investors are willing to pay for the asset\n",
    "* $\\hat{p}_b$ is the amount type $b$ investors are willing to pay for the asset\n",
    "\n",
    "We'll explain these values and how they are calculated one row at a time.\n",
    "\n",
    "### Single Belief Prices\n",
    "\n",
    "We’ll start by pricing the asset under homogeneous beliefs.\n",
    "\n",
    "(This is the case treated in {doc}`the lecture <../multi_agent_models/markov_asset>` on asset pricing with finite Markov states)\n",
    "\n",
    "Suppose that there is only one type of investor, either of type $a$ or $b$, and that this investor always \"prices the asset\".\n",
    "\n",
    "Let $p_h = \\begin{bmatrix} p_h(0) \\cr p_h(1) \\end{bmatrix}$ be the equilibrium price vector when all investors are of type $h$.\n",
    "\n",
    "The price today equals the expected discounted value of tomorrow's dividend and tomorrow's price of the asset:\n",
    "\n",
    "$$\n",
    "p_h(s) = \\beta \\left( P_h(s,0) (0 + p_h(0)) + P_h(s,1) ( 1 + p_h(1)) \\right), \\quad s = 0, 1\n",
    "$$\n",
    "\n",
    "These equations imply that the equilibrium price vector is\n",
    "\n",
    "```{math}\n",
    ":label: HarrKrep1\n",
    "\n",
    "\\begin{bmatrix} p_h(0) \\cr p_h(1) \\end{bmatrix}\n",
    "= \\beta [I - \\beta P_h]^{-1} P_h \\begin{bmatrix} 0 \\cr 1 \\end{bmatrix}\n",
    "```\n",
    "\n",
    "The first two rows of of the table report $p_a(s)$ and $p_b(s)$.\n",
    "\n",
    "Here's a function that can be used to compute these values"
   ]
  },
  {
   "cell_type": "code",
   "execution_count": 6,
   "id": "e183b924",
   "metadata": {},
   "outputs": [
    {
     "data": {
      "text/plain": [
       "price_single_beliefs (generic function with 1 method)"
      ]
     },
     "execution_count": 6,
     "metadata": {},
     "output_type": "execute_result"
    }
   ],
   "source": [
    "using LinearAlgebra\n",
    "\n",
    "function price_single_beliefs(transition, dividend_payoff;\n",
    "                            β=.75)\n",
    "    # First compute inverse piece\n",
    "    imbq_inv = inv(I - β * transition)\n",
    "\n",
    "    # Next compute prices\n",
    "    prices = β * ((imbq_inv * transition) * dividend_payoff)\n",
    "\n",
    "    return prices\n",
    "end"
   ]
  },
  {
   "cell_type": "markdown",
   "id": "807006ff",
   "metadata": {},
   "source": [
    "#### Single belief prices as benchmarks\n",
    "\n",
    "These equilibrium prices under homogeneous beliefs are important benchmarks for the subsequent analysis.\n",
    "\n",
    "* $p_h(s)$ tells what investor $h$ thinks is the \"fundamental value\" of the asset.\n",
    "* Here \"fundamental value\" means the expected discounted present value of future dividends.\n",
    "\n",
    "We will compare these fundamental values of the asset with equilibrium values when traders have different beliefs.\n",
    "\n",
    "### Pricing under Heterogeneous Beliefs\n",
    "\n",
    "There are several cases to consider.\n",
    "\n",
    "The first is when both types of agent have sufficient wealth to purchase all of the asset themselves.\n",
    "\n",
    "In this case the marginal investor who prices the asset is the more optimistic type, so that the equilibrium price $\\bar p$ satisfies Harrison and Kreps's key equation:\n",
    "\n",
    "```{math}\n",
    ":label: hakr2\n",
    "\n",
    "\\bar p(s) =\n",
    "\\beta\n",
    "\\max\n",
    "\\left\\{\n",
    "        P_a(s,0) \\bar p(0) + P_a(s,1) ( 1 +  \\bar p(1))\n",
    "        ,\\;\n",
    "        P_b(s,0) \\bar p(0) + P_b(s,1) ( 1 +  \\bar p(1))\n",
    "\\right\\}\n",
    "```\n",
    "\n",
    "for $s=0,1$.\n",
    "\n",
    "The marginal investor who prices the asset in state $s$ is of type $a$ if\n",
    "\n",
    "$$\n",
    "P_a(s,0)  \\bar p(0) + P_a(s,1) ( 1 +  \\bar p(1)) >\n",
    "P_b(s,0)  \\bar p(0) + P_b(s,1) ( 1 +  \\bar p(1))\n",
    "$$\n",
    "\n",
    "The marginal investor is of type  $b$ if\n",
    "\n",
    "$$\n",
    "P_a(s,1)  \\bar p(0) + P_a(s,1) ( 1 +  \\bar  p(1)) <\n",
    "P_b(s,1)  \\bar p(0) + P_b(s,1) ( 1 +  \\bar  p(1))\n",
    "$$\n",
    "\n",
    "**Thus the marginal investor is the (temporarily) optimistic type**.\n",
    "\n",
    "Equation {eq}`hakr2` is a functional equation that, like a Bellman equation, can be solved by\n",
    "\n",
    "* starting with a guess for the price vector $\\bar p$ and\n",
    "* iterating to convergence on the operator that maps a guess $\\bar p^j$ into an updated guess\n",
    "  $\\bar p^{j+1}$ defined by the right side of {eq}`hakr2`, namely\n",
    "\n",
    "```{math}\n",
    ":label: HarrKrep3\n",
    "\n",
    "\\bar  p^{j+1}(s)\n",
    " = \\beta \\max\n",
    " \\left\\{\n",
    "        P_a(s,0) \\bar p^j(0) + P_a(s,1) ( 1 + \\bar p^j(1))\n",
    "        ,\\;\n",
    "        P_b(s,0) \\bar p^j(0) + P_b(s,1) ( 1 + \\bar p^j(1))\n",
    "\\right\\}\n",
    "```\n",
    "\n",
    "for $s=0,1$.\n",
    "\n",
    "The third row of the table reports equilibrium prices that solve the functional equation when $\\beta = .75$.\n",
    "\n",
    "Here the type that is optimistic about $s_{t+1}$ prices the asset in state $s_t$.\n",
    "\n",
    "It is instructive to compare these prices with the equilibrium prices for the homogeneous belief economies that solve under beliefs $P_a$ and $P_b$.\n",
    "\n",
    "Equilibrium prices $\\bar p$ in the heterogeneous beliefs economy exceed what any prospective investor regards as the fundamental value of the asset in each possible state.\n",
    "\n",
    "Nevertheless, the economy recurrently visits a state that makes each investor want to\n",
    "purchase the asset for more than he believes its future dividends are\n",
    "worth.\n",
    "\n",
    "The reason is that he expects to have the option to sell the asset later to another investor who will value the asset more highly than he will.\n",
    "\n",
    "* Investors of type $a$ are willing to pay the following price for the asset\n",
    "\n",
    "$$\n",
    "\\hat p_a(s) =\n",
    "\\begin{cases}\n",
    "\\bar p(0)  & \\text{ if } s_t = 0 \\\\\n",
    "\\beta(P_a(1,0) \\bar p(0) + P_a(1,1) ( 1 +  \\bar p(1))) & \\text{ if } s_t = 1\n",
    "\\end{cases}\n",
    "$$\n",
    "\n",
    "* Investors of type $b$ are willing to pay the following price for the asset\n",
    "\n",
    "$$\n",
    "\\hat p_b(s) =\n",
    "\\begin{cases}\n",
    "    \\beta(P_b(0,0) \\bar p(0) + P_b (0,1) ( 1 +  \\bar p(1)))  & \\text{ if } s_t = 0 \\\\\n",
    "    \\bar p(1)  & \\text{ if } s_t =1\n",
    "\\end{cases}\n",
    "$$\n",
    "\n",
    "Evidently, $\\hat p_a(1) < \\bar p(1)$ and $\\hat p_b(0) < \\bar p(0)$.\n",
    "\n",
    "Investors of type $a$ want to sell the asset in state $1$ while investors of type $b$ want to sell it in state $0$.\n",
    "\n",
    "* The asset changes hands whenever the state changes from $0$ to $1$ or from $1$ to $0$.\n",
    "* The valuations $\\hat p_a(s)$ and $\\hat p_b(s)$ are displayed in the fourth and fifth rows of the table.\n",
    "* Even the pessimistic investors who don't buy the asset think that it is worth more than they think future dividends are worth.\n",
    "\n",
    "Here's code to solve for $\\bar p$, $\\hat p_a$ and $\\hat p_b$ using the iterative method described above"
   ]
  },
  {
   "cell_type": "code",
   "execution_count": 7,
   "id": "901c0e03",
   "metadata": {},
   "outputs": [
    {
     "data": {
      "text/plain": [
       "price_optimistic_beliefs (generic function with 1 method)"
      ]
     },
     "execution_count": 7,
     "metadata": {},
     "output_type": "execute_result"
    }
   ],
   "source": [
    "function price_optimistic_beliefs(transitions,\n",
    "                                  dividend_payoff;\n",
    "                                  β=.75, max_iter=50000,\n",
    "                                  tol=1e-16)\n",
    "\n",
    "    # We will guess an initial price vector of [0, 0]\n",
    "    p_new = [0,0]\n",
    "    p_old = [10.0,10.0]\n",
    "\n",
    "    # We know this is a contraction mapping, so we can iterate to conv\n",
    "    for i ∈ 1:max_iter\n",
    "        p_old = p_new\n",
    "        temp = [maximum((q * p_old) + (q * dividend_payoff))\n",
    "                            for q in transitions]\n",
    "        p_new = β * temp\n",
    "\n",
    "        # If we succed in converging, break out of for loop\n",
    "        if maximum(sqrt, ((p_new - p_old).^2)) < 1e-12\n",
    "            break\n",
    "        end\n",
    "    end\n",
    "\n",
    "    temp=[minimum((q * p_old) + (q * dividend_payoff)) for q in transitions]\n",
    "    ptwiddle = β * temp\n",
    "\n",
    "    phat_a = [p_new[1], ptwiddle[2]]\n",
    "    phat_b = [ptwiddle[1], p_new[2]]\n",
    "\n",
    "    return p_new, phat_a, phat_b\n",
    "end"
   ]
  },
  {
   "cell_type": "markdown",
   "id": "ca005719",
   "metadata": {},
   "source": [
    "### Insufficient Funds\n",
    "\n",
    "Outcomes differ when the more optimistic type of investor has insufficient wealth --- or insufficient ability to borrow enough --- to hold the entire stock of the asset.\n",
    "\n",
    "In this case, the asset price must adjust to attract pessimistic investors.\n",
    "\n",
    "Instead of equation {eq}`hakr2`, the equilibrium price satisfies\n",
    "\n",
    "```{math}\n",
    ":label: HarrKrep4\n",
    "\n",
    "\\check p(s)\n",
    "= \\beta \\min\n",
    "\\left\\{\n",
    "    P_a(s,1)  \\check  p(0) + P_a(s,1) ( 1 +   \\check  p(1)) ,\\;\n",
    "    P_b(s,1)  \\check p(0) + P_b(s,1) ( 1 + \\check p(1))\n",
    "\\right\\}\n",
    "```\n",
    "\n",
    "and the marginal investor who prices the asset is always the one that values it *less* highly than does the other type.\n",
    "\n",
    "Now the marginal investor is always the (temporarily) pessimistic type.\n",
    "\n",
    "Notice from the sixth row of that the pessimistic price $\\underline p$ is lower than the homogeneous belief prices $p_a$ and $p_b$ in both states.\n",
    "\n",
    "When pessimistic investors price the asset according to {eq}`HarrKrep4`, optimistic investors think that the asset is underpriced.\n",
    "\n",
    "If they could, optimistic investors would willingly borrow at the one-period gross interest rate $\\beta^{-1}$ to purchase more of the asset.\n",
    "\n",
    "Implicit constraints on leverage prohibit them from doing so.\n",
    "\n",
    "When optimistic investors price the asset as in equation {eq}`hakr2`, pessimistic investors think that the asset is overpriced and would like to sell the asset short.\n",
    "\n",
    "Constraints on short sales prevent that.\n",
    "\n",
    "Here's code to solve for $\\check p$ using iteration"
   ]
  },
  {
   "cell_type": "code",
   "execution_count": 8,
   "id": "5c24d9d3",
   "metadata": {},
   "outputs": [
    {
     "data": {
      "text/plain": [
       "price_pessimistic_beliefs (generic function with 1 method)"
      ]
     },
     "execution_count": 8,
     "metadata": {},
     "output_type": "execute_result"
    }
   ],
   "source": [
    "function price_pessimistic_beliefs(transitions,\n",
    "                                   dividend_payoff;\n",
    "                                   β=.75, max_iter=50000,\n",
    "                                   tol=1e-16)\n",
    "    # We will guess an initial price vector of [0, 0]\n",
    "    p_new = [0, 0]\n",
    "    p_old = [10.0, 10.0]\n",
    "\n",
    "    # We know this is a contraction mapping, so we can iterate to conv\n",
    "    for i ∈ 1:max_iter\n",
    "        p_old = p_new\n",
    "        temp=[minimum((q * p_old) + (q* dividend_payoff)) for q in transitions]\n",
    "        p_new = β * temp\n",
    "\n",
    "        # If we succed in converging, break out of for loop\n",
    "        if maximum(sqrt, ((p_new - p_old).^2)) < 1e-12\n",
    "            break\n",
    "        end\n",
    "    end\n",
    "\n",
    "    return p_new\n",
    "end"
   ]
  },
  {
   "cell_type": "markdown",
   "id": "c49a69e3",
   "metadata": {},
   "source": [
    "### Further Interpretation\n",
    "\n",
    "{cite}`Scheinkman2014` interprets the Harrison-Kreps model as a model of a bubble --- a situation in which an asset price exceeds what every investor thinks is merited by the asset's underlying dividend stream.\n",
    "\n",
    "Scheinkman stresses these features of the Harrison-Kreps model:\n",
    "\n",
    "* Compared to the homogeneous beliefs setting leading to the pricing formula, high volume occurs when the Harrison-Kreps pricing formula prevails.\n",
    "\n",
    "Type $a$ investors sell the entire stock of the asset to type $b$ investors every time the state switches from $s_t =0$ to $s_t =1$.\n",
    "\n",
    "Type $b$ investors sell the asset to type $a$ investors every time the state switches from $s_t = 1$ to $s_t =0$.\n",
    "\n",
    "Scheinkman takes this as a strength of the model because he observes high volume during *famous bubbles*.\n",
    "\n",
    "* If the *supply* of the asset is increased sufficiently either physically (more \"houses\" are built) or artificially (ways are invented to short sell \"houses\"), bubbles end when the supply has grown enough to outstrip optimistic investors’ resources for purchasing the asset.\n",
    "* If optimistic investors finance purchases by borrowing, tightening leverage constraints can extinguish a bubble.\n",
    "\n",
    "Scheinkman extracts insights about effects of financial regulations on bubbles.\n",
    "\n",
    "He emphasizes how limiting short sales and limiting leverage have opposite effects.\n",
    "\n",
    "## Exercises\n",
    "\n",
    "### Exercise 1\n",
    "\n",
    "Recreate the summary table using the functions we have built above.\n",
    "\n",
    "| $s_t$ | 0 | 1 |\n",
    "|:-----:|:----:|:----:|\n",
    "| $p_a$ | 1.33 | 1.22 |\n",
    "| $p_b$ | 1.45 | 1.91 |\n",
    "| $p_o$ | 1.85 | 2.08 |\n",
    "| $p_p$ | 1 | 1 |\n",
    "| $\\hat{p}_a$ | 1.85| 1.69 |\n",
    "| $\\hat{p}_b$ | 1.69 | 2.08 |\n",
    "\n",
    "You will first need to define the transition matrices and dividend payoff vector.\n",
    "\n",
    "## Solutions\n",
    "\n",
    "### Exercise 1\n",
    "\n",
    "First we will obtain equilibrium price vectors with homogeneous beliefs, including when all\n",
    "investors are optimistic or pessimistic"
   ]
  },
  {
   "cell_type": "code",
   "execution_count": 9,
   "id": "ff2ec587",
   "metadata": {},
   "outputs": [
    {
     "name": "stdout",
     "output_type": "stream",
     "text": [
      "p_a\n",
      "====================\n"
     ]
    },
    {
     "name": "stdout",
     "output_type": "stream",
     "text": [
      "State 0: 1.33\n",
      "State 1: 1.22\n",
      "--------------------\n",
      "p_b\n",
      "====================\n",
      "State 0: 1.45\n",
      "State 1: 1.91\n",
      "--------------------\n",
      "p_optimistic\n",
      "====================\n",
      "State 0: 1.85\n",
      "State 1: 2.08\n",
      "--------------------\n",
      "p_pessimistic\n",
      "====================\n",
      "State 0: 1.0\n",
      "State 1: 1.0\n",
      "--------------------\n"
     ]
    }
   ],
   "source": [
    "qa = [1/2 1/2; 2/3 1/3]     # Type a transition matrix\n",
    "qb = [2/3 1/3; 1/4 3/4]     # Type b transition matrix\n",
    "qopt = [1/2 1/2; 1/4 3/4]   # Optimistic investor transition matrix\n",
    "qpess = [2/3 1/3; 2/3 1/3]  # Pessimistic investor transition matrix\n",
    "\n",
    "dividendreturn = [0; 1]\n",
    "\n",
    "transitions = [qa, qb, qopt, qpess]\n",
    "labels = [\"p_a\", \"p_b\", \"p_optimistic\", \"p_pessimistic\"]\n",
    "\n",
    "for (transition, label) in zip(transitions, labels)\n",
    "    println(label)\n",
    "    println(repeat(\"=\", 20))\n",
    "    s0, s1 = round.(price_single_beliefs(transition, dividendreturn), digits=2)\n",
    "    println(\"State 0: $s0\")\n",
    "    println(\"State 1: $s1\")\n",
    "    println(repeat(\"-\", 20))\n",
    "end"
   ]
  },
  {
   "cell_type": "code",
   "execution_count": 10,
   "id": "1d3a140b",
   "metadata": {
    "tags": [
     "remove-cell"
    ]
   },
   "outputs": [
    {
     "name": "stdout",
     "output_type": "stream",
     "text": [
      "\u001b[0m\u001b[1mTest Summary: | \u001b[22m\u001b[32m\u001b[1mPass  \u001b[22m\u001b[39m\u001b[36m\u001b[1mTotal  \u001b[22m\u001b[39m\u001b[0m\u001b[1mTime\u001b[22m\n",
      "test set      | \u001b[32m   2  \u001b[39m\u001b[36m    2  \u001b[39m\u001b[0m0.1s\n"
     ]
    },
    {
     "data": {
      "text/plain": [
       "Test.DefaultTestSet(\"test set\", Any[], 2, false, false, true, 1.690420449271703e9, 1.690420449377698e9, false)"
      ]
     },
     "execution_count": 10,
     "metadata": {},
     "output_type": "execute_result"
    }
   ],
   "source": [
    "price_valsA = price_single_beliefs(qa, dividendreturn)\n",
    "price_valsB = price_single_beliefs(qb, dividendreturn)\n",
    "\n",
    "@testset begin\n",
    "  @test price_valsA ≈ [1.3333333333333335, 1.2222222222222223]\n",
    "  @test price_valsB ≈ [1.4545454545454544, 1.9090909090909092]\n",
    "end"
   ]
  },
  {
   "cell_type": "markdown",
   "id": "d1bb3a20",
   "metadata": {},
   "source": [
    "We will use the price_optimistic_beliefs function to find the price under\n",
    "heterogeneous beliefs."
   ]
  },
  {
   "cell_type": "code",
   "execution_count": 11,
   "id": "0dee10f2",
   "metadata": {},
   "outputs": [
    {
     "name": "stdout",
     "output_type": "stream",
     "text": [
      "p_optimistic\n",
      "====================\n",
      "State 0: 1.85\n",
      "State 1: 2.08\n",
      "--------------------\n",
      "p_hat_a\n",
      "====================\n",
      "State 0: 1.85\n",
      "State 1: 1.69\n",
      "--------------------\n",
      "p_hat_b\n",
      "====================\n",
      "State 0: 1.69\n",
      "State 1: 2.08\n",
      "--------------------\n"
     ]
    }
   ],
   "source": [
    "opt_beliefs = price_optimistic_beliefs([qa, qb], dividendreturn)\n",
    "labels = [\"p_optimistic\", \"p_hat_a\", \"p_hat_b\"]\n",
    "\n",
    "for (p, label) ∈ zip(opt_beliefs, labels)\n",
    "    println(label)\n",
    "    println(repeat(\"=\", 20))\n",
    "    s0, s1 = round.(p, digits = 2)\n",
    "    println(\"State 0: $s0\")\n",
    "    println(\"State 1: $s1\")\n",
    "    println(repeat(\"-\", 20))\n",
    "end"
   ]
  },
  {
   "cell_type": "code",
   "execution_count": 12,
   "id": "e71e1cfb",
   "metadata": {
    "tags": [
     "remove-cell"
    ]
   },
   "outputs": [
    {
     "name": "stdout",
     "output_type": "stream",
     "text": [
      "\u001b[0m\u001b[1mTest Summary: | \u001b[22m\u001b[32m\u001b[1mPass  \u001b[22m\u001b[39m\u001b[36m\u001b[1mTotal  \u001b[22m\u001b[39m\u001b[0m\u001b[1mTime\u001b[22m\n",
      "test set      | \u001b[32m   3  \u001b[39m\u001b[36m    3  \u001b[39m\u001b[0m0.0s\n"
     ]
    },
    {
     "data": {
      "text/plain": [
       "Test.DefaultTestSet(\"test set\", Any[], 3, false, false, true, 1.690420450128824e9, 1.690420450128889e9, false)"
      ]
     },
     "execution_count": 12,
     "metadata": {},
     "output_type": "execute_result"
    }
   ],
   "source": [
    "opt_vals = price_optimistic_beliefs([qa, qb], dividendreturn)\n",
    "\n",
    "@testset begin\n",
    "  @test opt_vals[1] ≈ [1.846153846151143, 2.076923076920374]\n",
    "  @test opt_vals[2] ≈ [1.846153846151143, 1.6923076923049891]\n",
    "  @test opt_vals[3] ≈ [1.6923076923049891, 2.076923076920374]\n",
    "end"
   ]
  },
  {
   "cell_type": "markdown",
   "id": "d9f3d3ab",
   "metadata": {},
   "source": [
    "Notice that the equilibrium price with heterogeneous beliefs is equal to the price under single beliefs\n",
    "with optimistic investors - this is due to the marginal investor being the temporarily optimistic type.\n",
    "\n",
    "[^f1]: By assuming that both types of agent always have \"deep enough pockets\" to purchase all of the asset, the model takes wealth dynamics off the table. The Harrison-Kreps model generates high trading volume when the state changes either from 0 to 1 or from 1 to 0."
   ]
  }
 ],
 "metadata": {
  "jupytext": {
   "text_representation": {
    "extension": ".md",
    "format_name": "myst"
   }
  },
  "kernelspec": {
   "display_name": "Julia",
   "language": "julia",
   "name": "julia-1.9"
  },
  "language_info": {
   "file_extension": ".jl",
   "mimetype": "application/julia",
   "name": "julia",
   "version": "1.9.2"
  },
  "source_map": [
   10,
   59,
   61,
   115,
   122,
   132,
   136,
   144,
   289,
   302,
   416,
   447,
   486,
   509,
   556,
   577,
   588,
   593,
   607,
   618
  ]
 },
 "nbformat": 4,
 "nbformat_minor": 5
}