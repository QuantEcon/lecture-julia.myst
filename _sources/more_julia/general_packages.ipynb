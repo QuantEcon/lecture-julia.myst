{
 "cells": [
  {
   "cell_type": "markdown",
   "id": "290b737a",
   "metadata": {},
   "source": [
    "(general_packages)=\n",
    "```{raw} html\n",
    "<div id=\"qe-notebook-header\" style=\"text-align:right;\">\n",
    "        <a href=\"https://quantecon.org/\" title=\"quantecon.org\">\n",
    "                <img style=\"width:250px;display:inline;\" src=\"https://assets.quantecon.org/img/qe-menubar-logo.svg\" alt=\"QuantEcon\">\n",
    "        </a>\n",
    "</div>\n",
    "```\n",
    "\n",
    "# General Purpose Packages\n",
    "\n",
    "```{contents} Contents\n",
    ":depth: 2\n",
    "```\n",
    "\n",
    "## Overview\n",
    "\n",
    "Julia has both a large number of useful, well written libraries and many incomplete poorly maintained proofs of concept.\n",
    "\n",
    "A major advantage of Julia libraries is that, because Julia itself is sufficiently fast, there is less need to mix in low level languages like C and Fortran.\n",
    "\n",
    "As a result, most Julia libraries are written exclusively in Julia.\n",
    "\n",
    "Not only does this make the libraries more portable, it makes them much easier to dive into, read, learn from and modify.\n",
    "\n",
    "In this lecture we introduce a few of the Julia libraries that we've found particularly useful for quantitative work in economics.\n",
    "\n",
    "Also see {doc}`data and statistical packages <../more_julia/data_statistical_packages>` and {doc}`optimization, solver, and related packages <../more_julia/optimization_solver_packages>` for more domain specific packages."
   ]
  },
  {
   "cell_type": "code",
   "execution_count": null,
   "id": "e79dbd25",
   "metadata": {
    "tags": [
     "hide-output"
    ]
   },
   "outputs": [],
   "source": [
    "using LinearAlgebra, Statistics\n",
    "using QuadGK, FastGaussQuadrature, Distributions, Expectations\n",
    "using Interpolations, Plots,  ProgressMeter"
   ]
  },
  {
   "cell_type": "markdown",
   "id": "f72160d7",
   "metadata": {},
   "source": [
    "## Numerical Integration\n",
    "\n",
    "Many applications require directly calculating a numerical derivative and calculating expectations.\n",
    "\n",
    "### Adaptive Quadrature\n",
    "\n",
    "A high accuracy solution for calculating numerical integrals is [QuadGK](https://github.com/JuliaMath/QuadGK.jl)."
   ]
  },
  {
   "cell_type": "code",
   "execution_count": null,
   "id": "798b180f",
   "metadata": {},
   "outputs": [],
   "source": [
    "using QuadGK\n",
    "@show value, tol = quadgk(cos, -2π, 2π);"
   ]
  },
  {
   "cell_type": "markdown",
   "id": "c65db94b",
   "metadata": {},
   "source": [
    "This is an adaptive Gauss-Kronrod integration technique that's relatively accurate for smooth functions.\n",
    "\n",
    "However, its adaptive implementation makes it slow and not well suited to inner loops.\n",
    "\n",
    "### Gaussian Quadrature\n",
    "\n",
    "Alternatively, many integrals can be done efficiently with (non-adaptive) [Gaussian quadrature](https://en.wikipedia.org/wiki/Gaussian_quadrature).\n",
    "\n",
    "For example, using [FastGaussQuadrature.jl](https://github.com/ajt60gaibb/FastGaussQuadrature.jl)"
   ]
  },
  {
   "cell_type": "code",
   "execution_count": null,
   "id": "0a7e9c32",
   "metadata": {},
   "outputs": [],
   "source": [
    "using FastGaussQuadrature\n",
    "x, w = gausslegendre(100_000); # i.e. find 100,000 nodes\n",
    "\n",
    "# integrates f(x) = x^2 from -1 to 1\n",
    "f(x) = x^2\n",
    "@show w ⋅ f.(x); # calculate integral"
   ]
  },
  {
   "cell_type": "markdown",
   "id": "8ca48661",
   "metadata": {},
   "source": [
    "The only problem with the `FastGaussQuadrature` package is that you will need to deal with affine transformations to the non-default domains yourself.\n",
    "\n",
    "### Expectations\n",
    "\n",
    "If the calculations of the numerical integral is simply for calculating mathematical expectations of a particular distribution, then [Expectations.jl](https://github.com/QuantEcon/Expectations.jl) provides a convenient interface.\n",
    "\n",
    "Under the hood, it is finding the appropriate Gaussian quadrature scheme for the distribution using `FastGaussQuadrature`."
   ]
  },
  {
   "cell_type": "code",
   "execution_count": null,
   "id": "aadd2a89",
   "metadata": {},
   "outputs": [],
   "source": [
    "using Distributions, Expectations\n",
    "dist = Normal()\n",
    "E = expectation(dist)\n",
    "f(x) = x\n",
    "@show E(f) #i.e. identity\n",
    "\n",
    "# Or using as a linear operator\n",
    "f(x) = x^2\n",
    "x = nodes(E)\n",
    "w = weights(E)\n",
    "E * f.(x) == f.(x) ⋅ w"
   ]
  },
  {
   "cell_type": "markdown",
   "id": "431234dd",
   "metadata": {},
   "source": [
    "## Interpolation\n",
    "\n",
    "In economics we often wish to interpolate discrete data (i.e., build continuous functions that join discrete sequences of points).\n",
    "\n",
    "The package we usually turn to for this purpose is [Interpolations.jl](https://github.com/JuliaMath/Interpolations.jl).\n",
    "\n",
    "There are a variety of options, but we will only demonstrate the convenient notations.\n",
    "\n",
    "### Univariate with a Regular Grid\n",
    "\n",
    "Let's start with the univariate case.\n",
    "\n",
    "We begin by creating some data points, using a sine function"
   ]
  },
  {
   "cell_type": "code",
   "execution_count": null,
   "id": "e2539a1e",
   "metadata": {},
   "outputs": [],
   "source": [
    "using Interpolations\n",
    "using Plots\n",
    "\n",
    "x = -7:7 # x points, coase grid\n",
    "y = sin.(x) # corresponding y points\n",
    "\n",
    "xf = -7:0.1:7        # fine grid\n",
    "plot(xf, sin.(xf), label = \"sin function\")\n",
    "scatter!(x, y, label = \"sampled data\", markersize = 4)"
   ]
  },
  {
   "cell_type": "markdown",
   "id": "99216195",
   "metadata": {},
   "source": [
    "To implement linear and cubic [spline](https://en.wikipedia.org/wiki/Spline_%28mathematics%29) interpolation"
   ]
  },
  {
   "cell_type": "code",
   "execution_count": null,
   "id": "0e74c6ef",
   "metadata": {},
   "outputs": [],
   "source": [
    "li = LinearInterpolation(x, y)\n",
    "li_spline = CubicSplineInterpolation(x, y)\n",
    "\n",
    "@show li(0.3) # evaluate at a single point\n",
    "\n",
    "scatter(x, y, label = \"sampled data\", markersize = 4)\n",
    "plot!(xf, li.(xf), label = \"linear\")\n",
    "plot!(xf, li_spline.(xf), label = \"spline\")"
   ]
  },
  {
   "cell_type": "markdown",
   "id": "ae228d45",
   "metadata": {},
   "source": [
    "### Univariate with Irregular Grid\n",
    "\n",
    "In the above, the `LinearInterpolation` function uses a specialized function\n",
    "for regular grids since `x` is a `Range` type.\n",
    "\n",
    "For an arbitrary, irregular grid"
   ]
  },
  {
   "cell_type": "code",
   "execution_count": null,
   "id": "e38bba72",
   "metadata": {},
   "outputs": [],
   "source": [
    "x = log.(range(1, exp(4), length = 10)) .+ 1  # uneven grid\n",
    "y = log.(x) # corresponding y points\n",
    "\n",
    "interp = LinearInterpolation(x, y)\n",
    "\n",
    "xf = log.(range(1, exp(4), length = 100)) .+ 1 # finer grid\n",
    "\n",
    "plot(xf, interp.(xf), label = \"linear\")\n",
    "scatter!(x, y, label = \"sampled data\", markersize = 4, size = (800, 400))"
   ]
  },
  {
   "cell_type": "markdown",
   "id": "ab0e284c",
   "metadata": {},
   "source": [
    "At this point, `Interpolations.jl` does not have support for cubic splines with irregular grids, but there are plenty of other packages that do (e.g. [Dierckx.jl](https://github.com/kbarbary/Dierckx.jl)  and [GridInterpolations.jl](https://github.com/sisl/GridInterpolations.jl)).\n",
    "\n",
    "### Multivariate Interpolation\n",
    "\n",
    "Interpolating a regular multivariate function uses the same function"
   ]
  },
  {
   "cell_type": "code",
   "execution_count": null,
   "id": "39960439",
   "metadata": {},
   "outputs": [],
   "source": [
    "f(x, y) = log(x + y)\n",
    "xs = 1:0.2:5\n",
    "ys = 2:0.1:5\n",
    "A = [f(x, y) for x in xs, y in ys]\n",
    "\n",
    "# linear interpolation\n",
    "interp_linear = LinearInterpolation((xs, ys), A)\n",
    "@show interp_linear(3, 2) # exactly log(3 + 2)\n",
    "@show interp_linear(3.1, 2.1) # approximately log(3.1 + 2.1)\n",
    "\n",
    "# cubic spline interpolation\n",
    "interp_cubic = CubicSplineInterpolation((xs, ys), A)\n",
    "@show interp_cubic(3, 2) # exactly log(3 + 2)\n",
    "@show interp_cubic(3.1, 2.1) # approximately log(3.1 + 2.1);"
   ]
  },
  {
   "cell_type": "markdown",
   "id": "300d13ac",
   "metadata": {},
   "source": [
    "See [Interpolations.jl documentation](https://github.com/JuliaMath/Interpolations.jl#convenience-notation) for more details on options and settings.\n",
    "\n",
    "## Linear Algebra\n",
    "\n",
    "### Standard Library\n",
    "\n",
    "The standard library contains many useful routines for linear algebra, in\n",
    "addition to standard functions such as `det()`, `inv()`, `factorize()`, etc.\n",
    "\n",
    "Routines are available for\n",
    "\n",
    "* Cholesky factorization\n",
    "* LU decomposition\n",
    "* Singular value decomposition,\n",
    "* Schur factorization, etc.\n",
    "\n",
    "See [here](https://docs.julialang.org/en/v1/stdlib/LinearAlgebra/) for further details.\n",
    "\n",
    "## General Tools\n",
    "\n",
    "### ProgressMeter.jl\n",
    "\n",
    "For long-running operations, you can use the [ProgressMeter.jl](https://github.com/timholy/ProgressMeter.jl) package.\n",
    "\n",
    "To use the package, you simply put a macro in front of `for` loops, etc.\n",
    "\n",
    "From the documentation"
   ]
  },
  {
   "cell_type": "code",
   "execution_count": null,
   "id": "f1eac8ad",
   "metadata": {},
   "outputs": [],
   "source": [
    "using ProgressMeter\n",
    "\n",
    "@showprogress 1 \"Computing...\" for i in 1:50\n",
    "    sleep(0.1) # some computation....\n",
    "end"
   ]
  }
 ],
 "metadata": {
  "jupytext": {
   "text_representation": {
    "extension": ".md",
    "format_name": "myst"
   }
  },
  "kernelspec": {
   "display_name": "Julia",
   "language": "julia",
   "name": "julia-1.9"
  },
  "source_map": [
   10,
   42,
   49,
   59,
   62,
   74,
   81,
   91,
   103,
   119,
   129,
   133,
   142,
   151,
   161,
   169,
   184,
   214
  ]
 },
 "nbformat": 4,
 "nbformat_minor": 5
}