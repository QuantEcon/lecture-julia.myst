{
 "cells": [
  {
   "cell_type": "markdown",
   "id": "aa6acdb0",
   "metadata": {},
   "source": [
    "(data_statistical_packages)=\n",
    "```{raw} html\n",
    "<div id=\"qe-notebook-header\" style=\"text-align:right;\">\n",
    "        <a href=\"https://quantecon.org/\" title=\"quantecon.org\">\n",
    "                <img style=\"width:250px;display:inline;\" src=\"https://assets.quantecon.org/img/qe-menubar-logo.svg\" alt=\"QuantEcon\">\n",
    "        </a>\n",
    "</div>\n",
    "```\n",
    "\n",
    "# Data and Statistics Packages\n",
    "\n",
    "```{contents} Contents\n",
    ":depth: 2\n",
    "```\n",
    "\n",
    "## Overview\n",
    "\n",
    "This lecture explores some of the key packages for working with data and doing statistics in Julia.\n",
    "\n",
    "In particular, we will examine the `DataFrame` object in detail (i.e., construction, manipulation, querying, visualization, and nuances like missing data).\n",
    "\n",
    "While Julia is not an ideal language for pure cookie-cutter statistical analysis, it has many useful packages to provide those tools as part of a more general solution.\n",
    "\n",
    "This list is not exhaustive, and others can be found in organizations such as [JuliaStats](https://github.com/JuliaStats), [JuliaData](https://github.com/JuliaData/), and  [QueryVerse](https://github.com/queryverse)."
   ]
  },
  {
   "cell_type": "code",
   "execution_count": 1,
   "id": "e78ac5f5",
   "metadata": {
    "tags": [
     "hide-output"
    ]
   },
   "outputs": [],
   "source": [
    "using LinearAlgebra, Statistics\n",
    "using DataFrames, RDatasets, DataFramesMeta, CategoricalArrays, Query\n",
    "using GLM"
   ]
  },
  {
   "cell_type": "markdown",
   "id": "fb14248b",
   "metadata": {},
   "source": [
    "## DataFrames\n",
    "\n",
    "A useful package for working with data is [DataFrames.jl](https://github.com/JuliaStats/DataFrames.jl).\n",
    "\n",
    "The most important data type provided is a `DataFrame`, a two dimensional array for storing heterogeneous data.\n",
    "\n",
    "Although data can be heterogeneous within a `DataFrame`, the contents of the columns must be homogeneous\n",
    "(of the same type).\n",
    "\n",
    "This is analogous to a `data.frame` in R, a `DataFrame` in Pandas (Python) or, more loosely, a spreadsheet in Excel.\n",
    "\n",
    "There are a few different ways to create a DataFrame.\n",
    "\n",
    "### Constructing and Accessing a DataFrame\n",
    "\n",
    "The first is to set up columns and construct a dataframe by assigning names"
   ]
  },
  {
   "cell_type": "code",
   "execution_count": 2,
   "id": "df8e8fb6",
   "metadata": {},
   "outputs": [
    {
     "data": {
      "text/html": [
       "<div><div style = \"float: left;\"><span>4×2 DataFrame</span></div><div style = \"clear: both;\"></div></div><div class = \"data-frame\" style = \"overflow-x: scroll;\"><table class = \"data-frame\" style = \"margin-bottom: 6px;\"><thead><tr class = \"header\"><th class = \"rowNumber\" style = \"font-weight: bold; text-align: right;\">Row</th><th style = \"text-align: left;\">commod</th><th style = \"text-align: left;\">price</th></tr><tr class = \"subheader headerLastRow\"><th class = \"rowNumber\" style = \"font-weight: bold; text-align: right;\"></th><th title = \"String\" style = \"text-align: left;\">String</th><th title = \"Union{Missing, Float64}\" style = \"text-align: left;\">Float64?</th></tr></thead><tbody><tr><td class = \"rowNumber\" style = \"font-weight: bold; text-align: right;\">1</td><td style = \"text-align: left;\">crude</td><td style = \"text-align: right;\">4.2</td></tr><tr><td class = \"rowNumber\" style = \"font-weight: bold; text-align: right;\">2</td><td style = \"text-align: left;\">gas</td><td style = \"text-align: right;\">11.3</td></tr><tr><td class = \"rowNumber\" style = \"font-weight: bold; text-align: right;\">3</td><td style = \"text-align: left;\">gold</td><td style = \"text-align: right;\">12.1</td></tr><tr><td class = \"rowNumber\" style = \"font-weight: bold; text-align: right;\">4</td><td style = \"text-align: left;\">silver</td><td style = \"font-style: italic; text-align: right;\">missing</td></tr></tbody></table></div>"
      ],
      "text/latex": [
       "\\begin{tabular}{r|cc}\n",
       "\t& commod & price\\\\\n",
       "\t\\hline\n",
       "\t& String & Float64?\\\\\n",
       "\t\\hline\n",
       "\t1 & crude & 4.2 \\\\\n",
       "\t2 & gas & 11.3 \\\\\n",
       "\t3 & gold & 12.1 \\\\\n",
       "\t4 & silver & \\emph{missing} \\\\\n",
       "\\end{tabular}\n"
      ],
      "text/plain": [
       "\u001b[1m4×2 DataFrame\n",
       "\u001b[1m Row │\u001b[1m commod \u001b[1m price\n",
       "     │\u001b[90m String \u001b[90m Float64?\n",
       "─────┼───────────────────\n",
       "   1 │ crude         4.2\n",
       "   2 │ gas          11.3\n",
       "   3 │ gold         12.1\n",
       "   4 │ silver \u001b[90m missing"
      ]
     },
     "execution_count": 2,
     "metadata": {},
     "output_type": "execute_result"
    }
   ],
   "source": [
    "using DataFrames, RDatasets  # RDatasets provides good standard data examples from R\n",
    "\n",
    "# note use of missing\n",
    "commodities = [\"crude\", \"gas\", \"gold\", \"silver\"]\n",
    "last_price = [4.2, 11.3, 12.1, missing]\n",
    "df = DataFrame(commod = commodities, price = last_price)"
   ]
  },
  {
   "cell_type": "markdown",
   "id": "ca3ad93e",
   "metadata": {},
   "source": [
    "Columns of the `DataFrame` can be accessed by name using `df.col`, as below"
   ]
  },
  {
   "cell_type": "code",
   "execution_count": 3,
   "id": "1ad65659",
   "metadata": {},
   "outputs": [
    {
     "data": {
      "text/plain": [
       "4-element Vector{Union{Missing, Float64}}:\n",
       "  4.2\n",
       " 11.3\n",
       " 12.1\n",
       "   missing"
      ]
     },
     "execution_count": 3,
     "metadata": {},
     "output_type": "execute_result"
    }
   ],
   "source": [
    "df.price"
   ]
  },
  {
   "cell_type": "markdown",
   "id": "aa20b989",
   "metadata": {},
   "source": [
    "Note that the type of this array has values `Union{Missing, Float64}` since it was created with a `missing` value."
   ]
  },
  {
   "cell_type": "code",
   "execution_count": 4,
   "id": "c7e7edea",
   "metadata": {},
   "outputs": [
    {
     "data": {
      "text/plain": [
       "4-element Vector{String}:\n",
       " \"crude\"\n",
       " \"gas\"\n",
       " \"gold\"\n",
       " \"silver\""
      ]
     },
     "execution_count": 4,
     "metadata": {},
     "output_type": "execute_result"
    }
   ],
   "source": [
    "df.commod"
   ]
  },
  {
   "cell_type": "markdown",
   "id": "effc39ad",
   "metadata": {},
   "source": [
    "The `DataFrames.jl` package provides a number of methods for acting on `DataFrame`'s, such as `describe`."
   ]
  },
  {
   "cell_type": "code",
   "execution_count": 5,
   "id": "96c3030f",
   "metadata": {},
   "outputs": [
    {
     "data": {
      "text/html": [
       "<div><div style = \"float: left;\"><span>2×7 DataFrame</span></div><div style = \"clear: both;\"></div></div><div class = \"data-frame\" style = \"overflow-x: scroll;\"><table class = \"data-frame\" style = \"margin-bottom: 6px;\"><thead><tr class = \"header\"><th class = \"rowNumber\" style = \"font-weight: bold; text-align: right;\">Row</th><th style = \"text-align: left;\">variable</th><th style = \"text-align: left;\">mean</th><th style = \"text-align: left;\">min</th><th style = \"text-align: left;\">median</th><th style = \"text-align: left;\">max</th><th style = \"text-align: left;\">nmissing</th><th style = \"text-align: left;\">eltype</th></tr><tr class = \"subheader headerLastRow\"><th class = \"rowNumber\" style = \"font-weight: bold; text-align: right;\"></th><th title = \"Symbol\" style = \"text-align: left;\">Symbol</th><th title = \"Union{Nothing, Float64}\" style = \"text-align: left;\">Union…</th><th title = \"Any\" style = \"text-align: left;\">Any</th><th title = \"Union{Nothing, Float64}\" style = \"text-align: left;\">Union…</th><th title = \"Any\" style = \"text-align: left;\">Any</th><th title = \"Int64\" style = \"text-align: left;\">Int64</th><th title = \"Type\" style = \"text-align: left;\">Type</th></tr></thead><tbody><tr><td class = \"rowNumber\" style = \"font-weight: bold; text-align: right;\">1</td><td style = \"text-align: left;\">commod</td><td style = \"font-style: italic; text-align: left;\"></td><td style = \"text-align: left;\">crude</td><td style = \"font-style: italic; text-align: left;\"></td><td style = \"text-align: left;\">silver</td><td style = \"text-align: right;\">0</td><td style = \"text-align: left;\">String</td></tr><tr><td class = \"rowNumber\" style = \"font-weight: bold; text-align: right;\">2</td><td style = \"text-align: left;\">price</td><td style = \"text-align: left;\">9.2</td><td style = \"text-align: left;\">4.2</td><td style = \"text-align: left;\">11.3</td><td style = \"text-align: left;\">12.1</td><td style = \"text-align: right;\">1</td><td style = \"text-align: left;\">Union{Missing, Float64}</td></tr></tbody></table></div>"
      ],
      "text/latex": [
       "\\begin{tabular}{r|ccccccc}\n",
       "\t& variable & mean & min & median & max & nmissing & eltype\\\\\n",
       "\t\\hline\n",
       "\t& Symbol & Union… & Any & Union… & Any & Int64 & Type\\\\\n",
       "\t\\hline\n",
       "\t1 & commod &  & crude &  & silver & 0 & String \\\\\n",
       "\t2 & price & 9.2 & 4.2 & 11.3 & 12.1 & 1 & Union\\{Missing, Float64\\} \\\\\n",
       "\\end{tabular}\n"
      ],
      "text/plain": [
       "\u001b[1m2×7 DataFrame\n",
       "\u001b[1m Row │\u001b[1m variable \u001b[1m mean   \u001b[1m min   \u001b[1m median \u001b[1m max    \u001b[1m nmissing \u001b[1m eltype               ⋯\n",
       "     │\u001b[90m Symbol   \u001b[90m Union… \u001b[90m Any   \u001b[90m Union… \u001b[90m Any    \u001b[90m Int64    \u001b[90m Type                 ⋯\n",
       "─────┼──────────────────────────────────────────────────────────────────────────\n",
       "   1 │ commod   \u001b[90m         crude \u001b[90m         silver         0  String               ⋯\n",
       "   2 │ price     9.2     4.2    11.3    12.1           1  Union{Missing, Float\n",
       "\u001b[36m                                                                1 column omitted"
      ]
     },
     "execution_count": 5,
     "metadata": {},
     "output_type": "execute_result"
    }
   ],
   "source": [
    "DataFrames.describe(df)"
   ]
  },
  {
   "cell_type": "markdown",
   "id": "5341fb14",
   "metadata": {},
   "source": [
    "While often data will be generated all at once, or read from a file, you can add to a `DataFrame` by providing the key parameters."
   ]
  },
  {
   "cell_type": "code",
   "execution_count": 6,
   "id": "79ca039e",
   "metadata": {},
   "outputs": [
    {
     "data": {
      "text/html": [
       "<div><div style = \"float: left;\"><span>5×2 DataFrame</span></div><div style = \"clear: both;\"></div></div><div class = \"data-frame\" style = \"overflow-x: scroll;\"><table class = \"data-frame\" style = \"margin-bottom: 6px;\"><thead><tr class = \"header\"><th class = \"rowNumber\" style = \"font-weight: bold; text-align: right;\">Row</th><th style = \"text-align: left;\">commod</th><th style = \"text-align: left;\">price</th></tr><tr class = \"subheader headerLastRow\"><th class = \"rowNumber\" style = \"font-weight: bold; text-align: right;\"></th><th title = \"String\" style = \"text-align: left;\">String</th><th title = \"Union{Missing, Float64}\" style = \"text-align: left;\">Float64?</th></tr></thead><tbody><tr><td class = \"rowNumber\" style = \"font-weight: bold; text-align: right;\">1</td><td style = \"text-align: left;\">crude</td><td style = \"text-align: right;\">4.2</td></tr><tr><td class = \"rowNumber\" style = \"font-weight: bold; text-align: right;\">2</td><td style = \"text-align: left;\">gas</td><td style = \"text-align: right;\">11.3</td></tr><tr><td class = \"rowNumber\" style = \"font-weight: bold; text-align: right;\">3</td><td style = \"text-align: left;\">gold</td><td style = \"text-align: right;\">12.1</td></tr><tr><td class = \"rowNumber\" style = \"font-weight: bold; text-align: right;\">4</td><td style = \"text-align: left;\">silver</td><td style = \"font-style: italic; text-align: right;\">missing</td></tr><tr><td class = \"rowNumber\" style = \"font-weight: bold; text-align: right;\">5</td><td style = \"text-align: left;\">nickel</td><td style = \"text-align: right;\">5.1</td></tr></tbody></table></div>"
      ],
      "text/latex": [
       "\\begin{tabular}{r|cc}\n",
       "\t& commod & price\\\\\n",
       "\t\\hline\n",
       "\t& String & Float64?\\\\\n",
       "\t\\hline\n",
       "\t1 & crude & 4.2 \\\\\n",
       "\t2 & gas & 11.3 \\\\\n",
       "\t3 & gold & 12.1 \\\\\n",
       "\t4 & silver & \\emph{missing} \\\\\n",
       "\t5 & nickel & 5.1 \\\\\n",
       "\\end{tabular}\n"
      ],
      "text/plain": [
       "\u001b[1m5×2 DataFrame\n",
       "\u001b[1m Row │\u001b[1m commod \u001b[1m price\n",
       "     │\u001b[90m String \u001b[90m Float64?\n",
       "─────┼───────────────────\n",
       "   1 │ crude         4.2\n",
       "   2 │ gas          11.3\n",
       "   3 │ gold         12.1\n",
       "   4 │ silver \u001b[90m missing\n",
       "   5 │ nickel        5.1"
      ]
     },
     "execution_count": 6,
     "metadata": {},
     "output_type": "execute_result"
    }
   ],
   "source": [
    "nt = (commod = \"nickel\", price = 5.1)\n",
    "push!(df, nt)"
   ]
  },
  {
   "cell_type": "markdown",
   "id": "a548621c",
   "metadata": {},
   "source": [
    "Named tuples can also be used to construct a `DataFrame`, and have it properly deduce all types."
   ]
  },
  {
   "cell_type": "code",
   "execution_count": 7,
   "id": "9ae5b7aa",
   "metadata": {},
   "outputs": [
    {
     "data": {
      "text/html": [
       "<div><div style = \"float: left;\"><span>2×2 DataFrame</span></div><div style = \"clear: both;\"></div></div><div class = \"data-frame\" style = \"overflow-x: scroll;\"><table class = \"data-frame\" style = \"margin-bottom: 6px;\"><thead><tr class = \"header\"><th class = \"rowNumber\" style = \"font-weight: bold; text-align: right;\">Row</th><th style = \"text-align: left;\">t</th><th style = \"text-align: left;\">col1</th></tr><tr class = \"subheader headerLastRow\"><th class = \"rowNumber\" style = \"font-weight: bold; text-align: right;\"></th><th title = \"Int64\" style = \"text-align: left;\">Int64</th><th title = \"Float64\" style = \"text-align: left;\">Float64</th></tr></thead><tbody><tr><td class = \"rowNumber\" style = \"font-weight: bold; text-align: right;\">1</td><td style = \"text-align: right;\">1</td><td style = \"text-align: right;\">3.0</td></tr><tr><td class = \"rowNumber\" style = \"font-weight: bold; text-align: right;\">2</td><td style = \"text-align: right;\">2</td><td style = \"text-align: right;\">4.0</td></tr></tbody></table></div>"
      ],
      "text/latex": [
       "\\begin{tabular}{r|cc}\n",
       "\t& t & col1\\\\\n",
       "\t\\hline\n",
       "\t& Int64 & Float64\\\\\n",
       "\t\\hline\n",
       "\t1 & 1 & 3.0 \\\\\n",
       "\t2 & 2 & 4.0 \\\\\n",
       "\\end{tabular}\n"
      ],
      "text/plain": [
       "\u001b[1m2×2 DataFrame\n",
       "\u001b[1m Row │\u001b[1m t     \u001b[1m col1\n",
       "     │\u001b[90m Int64 \u001b[90m Float64\n",
       "─────┼────────────────\n",
       "   1 │     1      3.0\n",
       "   2 │     2      4.0"
      ]
     },
     "execution_count": 7,
     "metadata": {},
     "output_type": "execute_result"
    }
   ],
   "source": [
    "nt = (t = 1, col1 = 3.0)\n",
    "df2 = DataFrame([nt])\n",
    "push!(df2, (t = 2, col1 = 4.0))"
   ]
  },
  {
   "cell_type": "markdown",
   "id": "d2fed966",
   "metadata": {},
   "source": [
    "In order to modify a column, access the mutating version by the symbol `df[!, :col]`."
   ]
  },
  {
   "cell_type": "code",
   "execution_count": 8,
   "id": "5970c457",
   "metadata": {},
   "outputs": [
    {
     "data": {
      "text/plain": [
       "5-element Vector{Union{Missing, Float64}}:\n",
       "  4.2\n",
       " 11.3\n",
       " 12.1\n",
       "   missing\n",
       "  5.1"
      ]
     },
     "execution_count": 8,
     "metadata": {},
     "output_type": "execute_result"
    }
   ],
   "source": [
    "df[!, :price]"
   ]
  },
  {
   "cell_type": "markdown",
   "id": "dc149092",
   "metadata": {},
   "source": [
    "Which allows modifications, like other mutating `!` functions in julia."
   ]
  },
  {
   "cell_type": "code",
   "execution_count": 9,
   "id": "9d482e55",
   "metadata": {},
   "outputs": [
    {
     "data": {
      "text/plain": [
       "5-element Vector{Union{Missing, Float64}}:\n",
       "  8.4\n",
       " 22.6\n",
       " 24.2\n",
       "   missing\n",
       " 10.2"
      ]
     },
     "execution_count": 9,
     "metadata": {},
     "output_type": "execute_result"
    }
   ],
   "source": [
    "df[!, :price] *= 2.0  # double prices"
   ]
  },
  {
   "cell_type": "markdown",
   "id": "61ace2d9",
   "metadata": {},
   "source": [
    "As discussed in the next section, note that the {ref}`fundamental types <missing>`, is propagated, i.e. `missing * 2 === missing`.\n",
    "\n",
    "### Working with Missing\n",
    "\n",
    "As we discussed in {ref}`fundamental types <missing>`, the semantics of `missing` are that mathematical operations will not silently ignore it.\n",
    "\n",
    "In order to allow `missing` in a column, you can create/load the `DataFrame`\n",
    "from a source with `missing`'s, or call `allowmissing!` on a column."
   ]
  },
  {
   "cell_type": "code",
   "execution_count": 10,
   "id": "a42c5f5a",
   "metadata": {},
   "outputs": [
    {
     "data": {
      "text/html": [
       "<div><div style = \"float: left;\"><span>4×2 DataFrame</span></div><div style = \"clear: both;\"></div></div><div class = \"data-frame\" style = \"overflow-x: scroll;\"><table class = \"data-frame\" style = \"margin-bottom: 6px;\"><thead><tr class = \"header\"><th class = \"rowNumber\" style = \"font-weight: bold; text-align: right;\">Row</th><th style = \"text-align: left;\">t</th><th style = \"text-align: left;\">col1</th></tr><tr class = \"subheader headerLastRow\"><th class = \"rowNumber\" style = \"font-weight: bold; text-align: right;\"></th><th title = \"Int64\" style = \"text-align: left;\">Int64</th><th title = \"Union{Missing, Float64}\" style = \"text-align: left;\">Float64?</th></tr></thead><tbody><tr><td class = \"rowNumber\" style = \"font-weight: bold; text-align: right;\">1</td><td style = \"text-align: right;\">1</td><td style = \"text-align: right;\">3.0</td></tr><tr><td class = \"rowNumber\" style = \"font-weight: bold; text-align: right;\">2</td><td style = \"text-align: right;\">2</td><td style = \"text-align: right;\">4.0</td></tr><tr><td class = \"rowNumber\" style = \"font-weight: bold; text-align: right;\">3</td><td style = \"text-align: right;\">3</td><td style = \"font-style: italic; text-align: right;\">missing</td></tr><tr><td class = \"rowNumber\" style = \"font-weight: bold; text-align: right;\">4</td><td style = \"text-align: right;\">4</td><td style = \"text-align: right;\">5.1</td></tr></tbody></table></div>"
      ],
      "text/latex": [
       "\\begin{tabular}{r|cc}\n",
       "\t& t & col1\\\\\n",
       "\t\\hline\n",
       "\t& Int64 & Float64?\\\\\n",
       "\t\\hline\n",
       "\t1 & 1 & 3.0 \\\\\n",
       "\t2 & 2 & 4.0 \\\\\n",
       "\t3 & 3 & \\emph{missing} \\\\\n",
       "\t4 & 4 & 5.1 \\\\\n",
       "\\end{tabular}\n"
      ],
      "text/plain": [
       "\u001b[1m4×2 DataFrame\n",
       "\u001b[1m Row │\u001b[1m t     \u001b[1m col1\n",
       "     │\u001b[90m Int64 \u001b[90m Float64?\n",
       "─────┼──────────────────\n",
       "   1 │     1        3.0\n",
       "   2 │     2        4.0\n",
       "   3 │     3 \u001b[90m missing\n",
       "   4 │     4        5.1"
      ]
     },
     "execution_count": 10,
     "metadata": {},
     "output_type": "execute_result"
    }
   ],
   "source": [
    "allowmissing!(df2, :col1) # necessary to add in a for col1\n",
    "push!(df2, (t = 3, col1 = missing))\n",
    "push!(df2, (t = 4, col1 = 5.1))"
   ]
  },
  {
   "cell_type": "markdown",
   "id": "7dd3e33b",
   "metadata": {},
   "source": [
    "We can see the propagation of `missing` to caller functions, as well as a way to efficiently calculate with non-missing data."
   ]
  },
  {
   "cell_type": "code",
   "execution_count": 11,
   "id": "044be063",
   "metadata": {},
   "outputs": [
    {
     "name": "stdout",
     "output_type": "stream",
     "text": [
      "mean(df2.col1) = missing\n",
      "mean(skipmissing(df2.col1)) = 4.033333333333333\n"
     ]
    },
    {
     "data": {
      "text/plain": [
       "4.033333333333333"
      ]
     },
     "execution_count": 11,
     "metadata": {},
     "output_type": "execute_result"
    }
   ],
   "source": [
    "@show mean(df2.col1)\n",
    "@show mean(skipmissing(df2.col1))"
   ]
  },
  {
   "cell_type": "markdown",
   "id": "fc66ac4d",
   "metadata": {},
   "source": [
    "And to replace the `missing`"
   ]
  },
  {
   "cell_type": "code",
   "execution_count": 12,
   "id": "8619ce92",
   "metadata": {},
   "outputs": [
    {
     "data": {
      "text/plain": [
       "4-element Vector{Float64}:\n",
       " 3.0\n",
       " 4.0\n",
       " 0.0\n",
       " 5.1"
      ]
     },
     "execution_count": 12,
     "metadata": {},
     "output_type": "execute_result"
    }
   ],
   "source": [
    "df2.col1 .= coalesce.(df2.col1, 0.0) # replace all missing with 0.0"
   ]
  },
  {
   "cell_type": "markdown",
   "id": "31f966c6",
   "metadata": {},
   "source": [
    "### Manipulating and Transforming DataFrames\n",
    "\n",
    "One way to do an additional calculation with a `DataFrame` is to tuse the `@transform` macro from `DataFramesMeta.jl`."
   ]
  },
  {
   "cell_type": "code",
   "execution_count": 13,
   "id": "d7f6514b",
   "metadata": {},
   "outputs": [
    {
     "data": {
      "text/html": [
       "<div><div style = \"float: left;\"><span>4×3 DataFrame</span></div><div style = \"clear: both;\"></div></div><div class = \"data-frame\" style = \"overflow-x: scroll;\"><table class = \"data-frame\" style = \"margin-bottom: 6px;\"><thead><tr class = \"header\"><th class = \"rowNumber\" style = \"font-weight: bold; text-align: right;\">Row</th><th style = \"text-align: left;\">t</th><th style = \"text-align: left;\">col1</th><th style = \"text-align: left;\">col2</th></tr><tr class = \"subheader headerLastRow\"><th class = \"rowNumber\" style = \"font-weight: bold; text-align: right;\"></th><th title = \"Int64\" style = \"text-align: left;\">Int64</th><th title = \"Float64\" style = \"text-align: left;\">Float64</th><th title = \"Float64\" style = \"text-align: left;\">Float64</th></tr></thead><tbody><tr><td class = \"rowNumber\" style = \"font-weight: bold; text-align: right;\">1</td><td style = \"text-align: right;\">1</td><td style = \"text-align: right;\">3.0</td><td style = \"text-align: right;\">9.0</td></tr><tr><td class = \"rowNumber\" style = \"font-weight: bold; text-align: right;\">2</td><td style = \"text-align: right;\">2</td><td style = \"text-align: right;\">4.0</td><td style = \"text-align: right;\">16.0</td></tr><tr><td class = \"rowNumber\" style = \"font-weight: bold; text-align: right;\">3</td><td style = \"text-align: right;\">3</td><td style = \"text-align: right;\">0.0</td><td style = \"text-align: right;\">0.0</td></tr><tr><td class = \"rowNumber\" style = \"font-weight: bold; text-align: right;\">4</td><td style = \"text-align: right;\">4</td><td style = \"text-align: right;\">5.1</td><td style = \"text-align: right;\">26.01</td></tr></tbody></table></div>"
      ],
      "text/latex": [
       "\\begin{tabular}{r|ccc}\n",
       "\t& t & col1 & col2\\\\\n",
       "\t\\hline\n",
       "\t& Int64 & Float64 & Float64\\\\\n",
       "\t\\hline\n",
       "\t1 & 1 & 3.0 & 9.0 \\\\\n",
       "\t2 & 2 & 4.0 & 16.0 \\\\\n",
       "\t3 & 3 & 0.0 & 0.0 \\\\\n",
       "\t4 & 4 & 5.1 & 26.01 \\\\\n",
       "\\end{tabular}\n"
      ],
      "text/plain": [
       "\u001b[1m4×3 DataFrame\n",
       "\u001b[1m Row │\u001b[1m t     \u001b[1m col1    \u001b[1m col2\n",
       "     │\u001b[90m Int64 \u001b[90m Float64 \u001b[90m Float64\n",
       "─────┼─────────────────────────\n",
       "   1 │     1      3.0     9.0\n",
       "   2 │     2      4.0    16.0\n",
       "   3 │     3      0.0     0.0\n",
       "   4 │     4      5.1    26.01"
      ]
     },
     "execution_count": 13,
     "metadata": {},
     "output_type": "execute_result"
    }
   ],
   "source": [
    "using DataFramesMeta\n",
    "f(x) = x^2\n",
    "df2 = @transform(df2, :col2=f.(:col1))"
   ]
  },
  {
   "cell_type": "markdown",
   "id": "bc0bb5bb",
   "metadata": {},
   "source": [
    "### Categorical Data\n",
    "\n",
    "For data that is [categorical](https://juliadata.github.io/DataFrames.jl/stable/man/categorical/)"
   ]
  },
  {
   "cell_type": "code",
   "execution_count": 14,
   "id": "58c2dcae",
   "metadata": {},
   "outputs": [
    {
     "data": {
      "text/html": [
       "<div><div style = \"float: left;\"><span>4×2 DataFrame</span></div><div style = \"clear: both;\"></div></div><div class = \"data-frame\" style = \"overflow-x: scroll;\"><table class = \"data-frame\" style = \"margin-bottom: 6px;\"><thead><tr class = \"header\"><th class = \"rowNumber\" style = \"font-weight: bold; text-align: right;\">Row</th><th style = \"text-align: left;\">id</th><th style = \"text-align: left;\">y</th></tr><tr class = \"subheader headerLastRow\"><th class = \"rowNumber\" style = \"font-weight: bold; text-align: right;\"></th><th title = \"Int64\" style = \"text-align: left;\">Int64</th><th title = \"CategoricalValue{String, UInt32}\" style = \"text-align: left;\">Cat…</th></tr></thead><tbody><tr><td class = \"rowNumber\" style = \"font-weight: bold; text-align: right;\">1</td><td style = \"text-align: right;\">1</td><td style = \"text-align: left;\">old</td></tr><tr><td class = \"rowNumber\" style = \"font-weight: bold; text-align: right;\">2</td><td style = \"text-align: right;\">2</td><td style = \"text-align: left;\">young</td></tr><tr><td class = \"rowNumber\" style = \"font-weight: bold; text-align: right;\">3</td><td style = \"text-align: right;\">3</td><td style = \"text-align: left;\">young</td></tr><tr><td class = \"rowNumber\" style = \"font-weight: bold; text-align: right;\">4</td><td style = \"text-align: right;\">4</td><td style = \"text-align: left;\">old</td></tr></tbody></table></div>"
      ],
      "text/latex": [
       "\\begin{tabular}{r|cc}\n",
       "\t& id & y\\\\\n",
       "\t\\hline\n",
       "\t& Int64 & Cat…\\\\\n",
       "\t\\hline\n",
       "\t1 & 1 & old \\\\\n",
       "\t2 & 2 & young \\\\\n",
       "\t3 & 3 & young \\\\\n",
       "\t4 & 4 & old \\\\\n",
       "\\end{tabular}\n"
      ],
      "text/plain": [
       "\u001b[1m4×2 DataFrame\n",
       "\u001b[1m Row │\u001b[1m id    \u001b[1m y\n",
       "     │\u001b[90m Int64 \u001b[90m Cat…\n",
       "─────┼──────────────\n",
       "   1 │     1  old\n",
       "   2 │     2  young\n",
       "   3 │     3  young\n",
       "   4 │     4  old"
      ]
     },
     "execution_count": 14,
     "metadata": {},
     "output_type": "execute_result"
    }
   ],
   "source": [
    "using CategoricalArrays\n",
    "id = [1, 2, 3, 4]\n",
    "y = [\"old\", \"young\", \"young\", \"old\"]\n",
    "y = CategoricalArray(y)\n",
    "df = DataFrame(id = id, y = y)"
   ]
  },
  {
   "cell_type": "code",
   "execution_count": 15,
   "id": "103d0f49",
   "metadata": {},
   "outputs": [
    {
     "data": {
      "text/plain": [
       "2-element Vector{String}:\n",
       " \"old\"\n",
       " \"young\""
      ]
     },
     "execution_count": 15,
     "metadata": {},
     "output_type": "execute_result"
    }
   ],
   "source": [
    "levels(df.y)"
   ]
  },
  {
   "cell_type": "markdown",
   "id": "3f4cd9f7",
   "metadata": {},
   "source": [
    "### Visualization, Querying, and Plots\n",
    "\n",
    "The `DataFrame` (and similar types that fulfill a standard generic interface) can fit into a variety of packages.\n",
    "\n",
    "One set of them is the [QueryVerse](https://github.com/queryverse).\n",
    "\n",
    "**Note:** The QueryVerse, in the same spirit as R's tidyverse, makes heavy use of the pipeline syntax `|>`."
   ]
  },
  {
   "cell_type": "code",
   "execution_count": 16,
   "id": "4e3a9a44",
   "metadata": {},
   "outputs": [
    {
     "name": "stdout",
     "output_type": "stream",
     "text": [
      "g(f(x)) = 2.1972245773362196\n",
      "(x |> f) |> g = 2.1972245773362196\n"
     ]
    }
   ],
   "source": [
    "x = 3.0\n",
    "f(x) = x^2\n",
    "g(x) = log(x)\n",
    "\n",
    "@show g(f(x))\n",
    "@show x |> f |> g; # pipes nest function calls"
   ]
  },
  {
   "cell_type": "markdown",
   "id": "666ee88f",
   "metadata": {},
   "source": [
    "To give an example directly from the source of the LINQ inspired [Query.jl](http://www.queryverse.org/Query.jl/stable/)"
   ]
  },
  {
   "cell_type": "code",
   "execution_count": 17,
   "id": "a97335a3",
   "metadata": {},
   "outputs": [
    {
     "data": {
      "text/html": [
       "<div><div style = \"float: left;\"><span>1×2 DataFrame</span></div><div style = \"clear: both;\"></div></div><div class = \"data-frame\" style = \"overflow-x: scroll;\"><table class = \"data-frame\" style = \"margin-bottom: 6px;\"><thead><tr class = \"header\"><th class = \"rowNumber\" style = \"font-weight: bold; text-align: right;\">Row</th><th style = \"text-align: left;\">name</th><th style = \"text-align: left;\">children</th></tr><tr class = \"subheader headerLastRow\"><th class = \"rowNumber\" style = \"font-weight: bold; text-align: right;\"></th><th title = \"String\" style = \"text-align: left;\">String</th><th title = \"Int64\" style = \"text-align: left;\">Int64</th></tr></thead><tbody><tr><td class = \"rowNumber\" style = \"font-weight: bold; text-align: right;\">1</td><td style = \"text-align: left;\">Kirk</td><td style = \"text-align: right;\">2</td></tr></tbody></table></div>"
      ],
      "text/latex": [
       "\\begin{tabular}{r|cc}\n",
       "\t& name & children\\\\\n",
       "\t\\hline\n",
       "\t& String & Int64\\\\\n",
       "\t\\hline\n",
       "\t1 & Kirk & 2 \\\\\n",
       "\\end{tabular}\n"
      ],
      "text/plain": [
       "\u001b[1m1×2 DataFrame\n",
       "\u001b[1m Row │\u001b[1m name   \u001b[1m children\n",
       "     │\u001b[90m String \u001b[90m Int64\n",
       "─────┼──────────────────\n",
       "   1 │ Kirk           2"
      ]
     },
     "execution_count": 17,
     "metadata": {},
     "output_type": "execute_result"
    }
   ],
   "source": [
    "using Query\n",
    "\n",
    "df = DataFrame(name = [\"John\", \"Sally\", \"Kirk\"],\n",
    "               age = [23.0, 42.0, 59.0],\n",
    "               children = [3, 5, 2])\n",
    "\n",
    "x = @from i in df begin\n",
    "    @where i.age > 50\n",
    "    @select {i.name, i.children}\n",
    "    @collect DataFrame\n",
    "end"
   ]
  },
  {
   "cell_type": "markdown",
   "id": "a896941e",
   "metadata": {},
   "source": [
    "While it is possible to just use the `Plots.jl` library, there are other options for displaying tabular data -- such as [VegaLite.jl](https://github.com/queryverse/VegaLite.jl).\n",
    "<!--\n",
    "```{code-cell} julia\n",
    "using RDatasets, VegaLite\n",
    "iris = dataset(\"datasets\", \"iris\")\n",
    "\n",
    "iris |> @vlplot(:point,\n",
    "                x=:PetalLength,\n",
    "                y=:PetalWidth,\n",
    "                color=:Species)\n",
    "```\n",
    "-->\n",
    "## Statistics and Econometrics\n",
    "\n",
    "While Julia is not intended as a replacement for R, Stata, and similar specialty languages, it has a growing number of packages aimed at statistics and econometrics.\n",
    "\n",
    "Many of the packages live in the [JuliaStats organization](https://github.com/JuliaStats/).\n",
    "\n",
    "A few to point out\n",
    "\n",
    "* [StatsBase](https://github.com/JuliaStats/StatsBase.jl) has basic statistical functions such as geometric and harmonic means, auto-correlations, robust statistics, etc.\n",
    "* [StatsFuns](https://github.com/JuliaStats/StatsFuns.jl) has a variety of mathematical functions and constants such as pdf and cdf of many distributions, softmax, etc.\n",
    "\n",
    "### General Linear Models\n",
    "\n",
    "To run linear regressions and similar statistics, use the [GLM](http://juliastats.github.io/GLM.jl/latest/) package."
   ]
  },
  {
   "cell_type": "code",
   "execution_count": 18,
   "id": "6d887504",
   "metadata": {},
   "outputs": [
    {
     "data": {
      "text/plain": [
       "StatsModels.TableRegressionModel{LinearModel{GLM.LmResp{Vector{Float64}}, GLM.DensePredChol{Float64, CholeskyPivoted{Float64, Matrix{Float64}, Vector{Int64}}}}, Matrix{Float64}}\n",
       "\n",
       "y ~ 1 + x\n",
       "\n",
       "Coefficients:\n",
       "────────────────────────────────────────────────────────────────────────\n",
       "                Coef.  Std. Error      t  Pr(>|t|)  Lower 95%  Upper 95%\n",
       "────────────────────────────────────────────────────────────────────────\n",
       "(Intercept)  0.25119    0.0151736  16.55    <1e-29   0.221078   0.281302\n",
       "x            0.897613   0.0161197  55.68    <1e-75   0.865624   0.929602\n",
       "────────────────────────────────────────────────────────────────────────"
      ]
     },
     "execution_count": 18,
     "metadata": {},
     "output_type": "execute_result"
    }
   ],
   "source": [
    "using GLM\n",
    "\n",
    "x = randn(100)\n",
    "y = 0.9 .* x + 0.5 * rand(100)\n",
    "df = DataFrame(x = x, y = y)\n",
    "ols = lm(@formula(y~x), df) # R-style notation"
   ]
  },
  {
   "cell_type": "markdown",
   "id": "cd04aa38",
   "metadata": {},
   "source": [
    "To display the results in a useful tables for LaTeX and the REPL, use\n",
    "[RegressionTables](https://github.com/jmboehm/RegressionTables.jl/) for output\n",
    "similar to the Stata package esttab and the R package stargazer."
   ]
  },
  {
   "cell_type": "code",
   "execution_count": 19,
   "id": "ff6b6f85",
   "metadata": {},
   "outputs": [
    {
     "name": "stdout",
     "output_type": "stream",
     "text": [
      "\n",
      "----------------------\n",
      "                  y   \n",
      "              --------\n",
      "                   (1)\n",
      "----------------------\n",
      "(Intercept)   0.251***\n",
      "               (0.015)\n",
      "x             0.898***\n",
      "               (0.016)\n",
      "----------------------\n",
      "Estimator          OLS\n",
      "----------------------\n",
      "N                  100\n",
      "R2               0.969\n",
      "----------------------\n",
      "\n",
      "\n"
     ]
    }
   ],
   "source": [
    "using RegressionTables\n",
    "regtable(ols)\n",
    "# regtable(ols,  renderSettings = latexOutput()) # for LaTex output"
   ]
  },
  {
   "cell_type": "markdown",
   "id": "697ccf38",
   "metadata": {},
   "source": [
    "### Fixed Effects\n",
    "\n",
    "While Julia may be overkill for estimating a simple linear regression,\n",
    "fixed-effects estimation with dummies for multiple variables are much more computationally intensive.\n",
    "\n",
    "For a 2-way fixed-effect, taking the example directly from the documentation using [cigarette consumption data](https://github.com/johnmyleswhite/RDatasets.jl/blob/master/doc/plm/rst/Cigar.rst)"
   ]
  },
  {
   "cell_type": "code",
   "execution_count": 20,
   "id": "a12970dd",
   "metadata": {},
   "outputs": [
    {
     "name": "stdout",
     "output_type": "stream",
     "text": [
      "\n",
      "----------------------------\n",
      "                     Sales  \n",
      "                   ---------\n",
      "                         (1)\n",
      "----------------------------\n",
      "NDI                -0.005***\n",
      "                     (0.001)\n",
      "----------------------------\n",
      "StateCategorical         Yes\n",
      "YearCategorical          Yes\n",
      "----------------------------\n",
      "Estimator                OLS\n",
      "----------------------------\n",
      "N                      1,380\n",
      "R2                     0.803\n",
      "----------------------------\n",
      "\n",
      "\n"
     ]
    }
   ],
   "source": [
    "using FixedEffectModels\n",
    "cigar = dataset(\"plm\", \"Cigar\")\n",
    "cigar.StateCategorical = categorical(cigar.State)\n",
    "cigar.YearCategorical = categorical(cigar.Year)\n",
    "fixedeffectresults = reg(cigar,\n",
    "                         @formula(Sales~NDI + fe(StateCategorical) +\n",
    "                                        fe(YearCategorical)),\n",
    "                         weights = :Pop, Vcov.cluster(:State))\n",
    "regtable(fixedeffectresults)"
   ]
  }
 ],
 "metadata": {
  "jupytext": {
   "text_representation": {
    "extension": ".md",
    "format_name": "myst"
   }
  },
  "kernelspec": {
   "display_name": "Julia",
   "language": "julia",
   "name": "julia-1.9"
  },
  "language_info": {
   "file_extension": ".jl",
   "mimetype": "application/julia",
   "name": "julia",
   "version": "1.9.2"
  },
  "source_map": [
   10,
   38,
   45,
   64,
   71,
   75,
   77,
   81,
   83,
   87,
   89,
   93,
   96,
   100,
   104,
   108,
   110,
   114,
   116,
   127,
   131,
   135,
   138,
   142,
   144,
   150,
   154,
   160,
   168,
   170,
   180,
   187,
   191,
   203,
   232,
   239,
   245,
   249,
   258
  ]
 },
 "nbformat": 4,
 "nbformat_minor": 5
}