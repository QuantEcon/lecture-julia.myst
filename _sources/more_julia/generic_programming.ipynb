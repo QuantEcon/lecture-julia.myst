{
 "cells": [
  {
   "cell_type": "markdown",
   "id": "0651a094",
   "metadata": {},
   "source": [
    "(generic_programming)=\n",
    "```{raw} html\n",
    "<div id=\"qe-notebook-header\" style=\"text-align:right;\">\n",
    "        <a href=\"https://quantecon.org/\" title=\"quantecon.org\">\n",
    "                <img style=\"width:250px;display:inline;\" src=\"https://assets.quantecon.org/img/qe-menubar-logo.svg\" alt=\"QuantEcon\">\n",
    "        </a>\n",
    "</div>\n",
    "```\n",
    "\n",
    "# Generic Programming\n",
    "\n",
    "```{contents} Contents\n",
    ":depth: 2\n",
    "```\n",
    "\n",
    "```{epigraph}\n",
    "I find OOP methodologically wrong. It starts with classes. It is as if mathematicians would start with axioms. You do not start with axioms - you start with proofs. Only when you have found a bunch of related proofs, can you come up with axioms. You end with axioms. The same thing is true in programming: you have to start with interesting algorithms. Only when you understand them well, can you come up with an interface that will let them work. -- Alexander Stepanov\n",
    "```\n",
    "\n",
    "## Overview\n",
    "\n",
    "In this lecture we delve more deeply into the structure of Julia, and in particular into\n",
    "\n",
    "* abstract and concrete types\n",
    "* the type tree\n",
    "* designing and using generic interfaces\n",
    "* the role of generic interfaces in Julia performance\n",
    "\n",
    "Understanding them will help you\n",
    "\n",
    "* form a \"mental model\" of the Julia language\n",
    "* design code that matches the \"white-board\" mathematics\n",
    "* create code that can use (and be used by) a variety of other packages\n",
    "* write \"well organized\" Julia code that's easy to read, modify, maintain and debug\n",
    "* improve the speed at which your code runs\n",
    "\n",
    "(Special thank you to Jeffrey Sarnoff)\n",
    "\n",
    "### Generic Programming is an Attitude\n",
    "\n",
    "From *Mathematics to Generic Programming* {cite}`stepanov-mathematics2014`\n",
    "\n",
    "> Generic programming is an approach to programming that focuses on designing algorithms and data structures so that they work in the most general setting without loss of efficiency... Generic programming is more of an *attitude* toward programming than a particular set of tools.\n",
    "\n",
    "In that sense, it is important to think of generic programming as an interactive approach to uncover generality without compromising performance rather than as a set of rules.\n",
    "\n",
    "As we will see, the core approach is to treat data structures and algorithms as loosely coupled, and is in direct contrast to the [is-a](https://en.wikipedia.org/wiki/Is-a)  approach of object-oriented programming.\n",
    "\n",
    "This lecture has the dual role of giving an introduction into the design of generic algorithms and describing how Julia helps make that possible."
   ]
  },
  {
   "cell_type": "code",
   "execution_count": 1,
   "id": "961c62e5",
   "metadata": {
    "tags": [
     "hide-output"
    ]
   },
   "outputs": [],
   "source": [
    "using LinearAlgebra, Statistics\n",
    "using Distributions, Plots, QuadGK, Polynomials, Interpolations"
   ]
  },
  {
   "cell_type": "markdown",
   "id": "b8d5da96",
   "metadata": {},
   "source": [
    "## Exploring Type Trees\n",
    "\n",
    "The connection between data structures and the algorithms which operate on them is handled by the type system.\n",
    "\n",
    "Concrete types (i.e., `Float64` or `Array{Float64, 2}`) are the data structures we apply an algorithm to, and the abstract types (e.g. the corresponding `Number` and `AbstractArray`) provide the mapping between a set of related data structures and algorithms."
   ]
  },
  {
   "cell_type": "code",
   "execution_count": 2,
   "id": "5f414add",
   "metadata": {},
   "outputs": [
    {
     "name": "stdout",
     "output_type": "stream",
     "text": [
      "(x, y, z) = (1, Normal{Float64}(μ=0.0, σ=1.0), \"foo\")\n",
      "(typeof(x), typeof(y), typeof(z)) = (Int64, Normal{Float64}, String)\n",
      "supertype(typeof(x)) = Signed\n",
      "typeof(x) |> supertype = Signed\n",
      "supertype(typeof(y)) = Distribution{Univariate, Continuous}\n",
      "typeof(z) |> supertype = AbstractString\n",
      "typeof(x) <: Any = true\n"
     ]
    }
   ],
   "source": [
    "using Distributions\n",
    "x = 1\n",
    "y = Normal()\n",
    "z = \"foo\"\n",
    "@show x, y, z\n",
    "@show typeof(x), typeof(y), typeof(z)\n",
    "@show supertype(typeof(x))\n",
    "\n",
    "# pipe operator, |>, is is equivalent\n",
    "@show typeof(x) |> supertype\n",
    "@show supertype(typeof(y))\n",
    "@show typeof(z) |> supertype\n",
    "@show typeof(x) <: Any;"
   ]
  },
  {
   "cell_type": "markdown",
   "id": "1e07e5e0",
   "metadata": {},
   "source": [
    "Beyond the `typeof` and `supertype` functions, a few other useful tools for analyzing the tree of types are discussed in the {doc}`introduction to types lecture <../getting_started_julia/introduction_to_types>`"
   ]
  },
  {
   "cell_type": "code",
   "execution_count": 3,
   "id": "87d24d48",
   "metadata": {},
   "outputs": [
    {
     "name": "stdout",
     "output_type": "stream",
     "text": [
      "Int64 <: Signed <: Integer <: Real <: Number <: Any"
     ]
    }
   ],
   "source": [
    "using Base: show_supertypes # import the function from the `Base` package\n",
    "\n",
    "show_supertypes(Int64)"
   ]
  },
  {
   "cell_type": "code",
   "execution_count": 4,
   "id": "7be1d877",
   "metadata": {},
   "outputs": [
    {
     "data": {
      "text/plain": [
       "3-element Vector{Any}:\n",
       " Bool\n",
       " Signed\n",
       " Unsigned"
      ]
     },
     "execution_count": 4,
     "metadata": {},
     "output_type": "execute_result"
    }
   ],
   "source": [
    "subtypes(Integer)"
   ]
  },
  {
   "cell_type": "markdown",
   "id": "2bdb2cc8",
   "metadata": {},
   "source": [
    "Using the `subtypes` function, we can write an algorithm to traverse the type tree below any time `t` -- with the confidence that all types support `subtypes`"
   ]
  },
  {
   "cell_type": "code",
   "execution_count": 5,
   "id": "ea3a3c6d",
   "metadata": {},
   "outputs": [
    {
     "data": {
      "text/plain": [
       "subtypetree (generic function with 3 methods)"
      ]
     },
     "execution_count": 5,
     "metadata": {},
     "output_type": "execute_result"
    }
   ],
   "source": [
    "#  from https://github.com/JuliaLang/julia/issues/24741\n",
    "function subtypetree(t, level = 1, indent = 4)\n",
    "    if level == 1\n",
    "        println(t)\n",
    "    end\n",
    "    for s in subtypes(t)\n",
    "        println(join(fill(\" \", level * indent)) * string(s))  # print type\n",
    "        subtypetree(s, level + 1, indent)  # recursively print the next type, indenting\n",
    "    end\n",
    "end"
   ]
  },
  {
   "cell_type": "markdown",
   "id": "bd3f0224",
   "metadata": {},
   "source": [
    "Applying this to `Number`, we see the tree of types currently loaded"
   ]
  },
  {
   "cell_type": "code",
   "execution_count": 6,
   "id": "7287597e",
   "metadata": {},
   "outputs": [
    {
     "name": "stdout",
     "output_type": "stream",
     "text": [
      "Number\n",
      "    Complex\n"
     ]
    },
    {
     "name": "stdout",
     "output_type": "stream",
     "text": [
      "    DualNumbers.Dual\n",
      "    Plots.Measurement\n",
      "    Real\n",
      "        AbstractFloat\n",
      "            BigFloat\n",
      "            Float16\n",
      "            Float32\n",
      "            Float64\n",
      "        AbstractIrrational\n",
      "            Irrational\n",
      "            IrrationalConstants.IrrationalConstant\n",
      "                IrrationalConstants.Fourinvπ\n",
      "                IrrationalConstants.Fourπ\n",
      "                IrrationalConstants.Halfπ\n",
      "                IrrationalConstants.Inv2π\n",
      "                IrrationalConstants.Inv4π\n",
      "                IrrationalConstants.Invsqrt2\n",
      "                IrrationalConstants.Invsqrt2π\n",
      "                IrrationalConstants.Invsqrtπ\n",
      "                IrrationalConstants.Invπ\n",
      "                IrrationalConstants.Log2π\n",
      "                IrrationalConstants.Log4π\n",
      "                IrrationalConstants.Loghalf\n",
      "                IrrationalConstants.Logten\n",
      "                IrrationalConstants.Logtwo\n",
      "                IrrationalConstants.Logπ\n",
      "                IrrationalConstants.Quartπ\n",
      "                IrrationalConstants.Sqrt2\n",
      "                IrrationalConstants.Sqrt2π\n",
      "                IrrationalConstants.Sqrt3\n",
      "                IrrationalConstants.Sqrt4π\n",
      "                IrrationalConstants.Sqrthalfπ\n",
      "                IrrationalConstants.Sqrtπ\n",
      "                IrrationalConstants.Twoinvπ\n",
      "                IrrationalConstants.Twoπ\n",
      "        FixedPointNumbers.FixedPoint\n"
     ]
    },
    {
     "name": "stdout",
     "output_type": "stream",
     "text": [
      "            FixedPointNumbers.Fixed\n",
      "            FixedPointNumbers.Normed\n",
      "        Integer\n",
      "            Bool\n",
      "            Signed\n",
      "                BigInt\n",
      "                Int128\n",
      "                Int16\n",
      "                Int32\n",
      "                Int64\n",
      "                Int8\n",
      "            Unsigned\n",
      "                UInt128\n",
      "                UInt16\n",
      "                UInt32\n",
      "                UInt64\n",
      "                UInt8\n",
      "        Rational\n",
      "        Ratios.SimpleRatio\n",
      "        StatsBase.PValue\n",
      "        StatsBase.TestStat\n"
     ]
    }
   ],
   "source": [
    "subtypetree(Number) # warning: do not use this function on ``Any``!"
   ]
  },
  {
   "cell_type": "markdown",
   "id": "ad10a3df",
   "metadata": {},
   "source": [
    "For the most part, all of the \"leaves\" will be concrete types.\n",
    "\n",
    "### Any\n",
    "\n",
    "At the root of all types is `Any`\n",
    "\n",
    "There are a few functions that work in the \"most generalized\" context: usable with anything that you can construct or access from other packages.\n",
    "\n",
    "We have already called `typeof`, `show` and `supertype` -- which will apply to a custom `struct` type since `MyType <: Any`"
   ]
  },
  {
   "cell_type": "code",
   "execution_count": 7,
   "id": "11a56636",
   "metadata": {},
   "outputs": [
    {
     "name": "stdout",
     "output_type": "stream",
     "text": [
      "myval = MyType(2.0)\n",
      "typeof(myval) = MyType\n",
      "supertype(typeof(myval)) = Any\n",
      "typeof(myval) <: Any = true\n"
     ]
    }
   ],
   "source": [
    "# custom type\n",
    "struct MyType\n",
    "    a::Float64\n",
    "end\n",
    "\n",
    "myval = MyType(2.0)\n",
    "@show myval\n",
    "@show typeof(myval)\n",
    "@show supertype(typeof(myval))\n",
    "@show typeof(myval) <: Any;"
   ]
  },
  {
   "cell_type": "markdown",
   "id": "9d24557f",
   "metadata": {},
   "source": [
    "Here we see another example of generic programming: every type `<: Any` supports the `@show` macro, which in turn, relies on the `show` function.\n",
    "\n",
    "The `@show` macro (1) prints the expression as a string; (2) evaluates the expression; and (3) calls the `show` function on the returned values.\n",
    "\n",
    "To see this with built-in types"
   ]
  },
  {
   "cell_type": "code",
   "execution_count": 8,
   "id": "4a22a64c",
   "metadata": {},
   "outputs": [
    {
     "name": "stdout",
     "output_type": "stream",
     "text": [
      "[1, 2]"
     ]
    }
   ],
   "source": [
    "x = [1, 2]\n",
    "show(x)"
   ]
  },
  {
   "cell_type": "markdown",
   "id": "e9ba5699",
   "metadata": {},
   "source": [
    "The `Any` type is useful, because it provides a fall-back implementation for a variety of functions.\n",
    "\n",
    "Hence, calling `show` on our custom type dispatches to the fallback function"
   ]
  },
  {
   "cell_type": "code",
   "execution_count": 9,
   "id": "f80152e4",
   "metadata": {},
   "outputs": [
    {
     "name": "stdout",
     "output_type": "stream",
     "text": [
      "MyType(2.0)"
     ]
    }
   ],
   "source": [
    "myval = MyType(2.0)\n",
    "show(myval)"
   ]
  },
  {
   "cell_type": "markdown",
   "id": "adf7c998",
   "metadata": {},
   "source": [
    "The default fallback implementation used by Julia would be roughly equivalent to\n",
    "\n",
    "```{code-block} julia\n",
    "function show(io::IO, x)\n",
    "    str = string(x)\n",
    "    print(io, str)\n",
    "end\n",
    "```\n",
    "\n",
    "To implement a specialized implementation of the `show` function for our type, rather than using this fallback"
   ]
  },
  {
   "cell_type": "code",
   "execution_count": 10,
   "id": "f2c05e58",
   "metadata": {},
   "outputs": [
    {
     "name": "stdout",
     "output_type": "stream",
     "text": [
      "(MyType.a = 2.0)"
     ]
    }
   ],
   "source": [
    "import Base.show  # to extend an existing function\n",
    "\n",
    "function show(io::IO, x::MyType)\n",
    "    str = \"(MyType.a = $(x.a))\"  # custom display\n",
    "    print(io, str)\n",
    "end\n",
    "show(myval)  # it creates an IO value first and then calls the above show"
   ]
  },
  {
   "cell_type": "markdown",
   "id": "c478a73c",
   "metadata": {},
   "source": [
    "At that point, we can use the `@show` macro, which in turn calls `show`"
   ]
  },
  {
   "cell_type": "code",
   "execution_count": 11,
   "id": "aaa3bd23",
   "metadata": {},
   "outputs": [
    {
     "name": "stdout",
     "output_type": "stream",
     "text": [
      "myval = (MyType.a = 2.0)\n"
     ]
    }
   ],
   "source": [
    "@show myval;"
   ]
  },
  {
   "cell_type": "markdown",
   "id": "d2265bc4",
   "metadata": {},
   "source": [
    "Here we see another example of generic programming: any type with a `show` function works with `@show`.\n",
    "\n",
    "Layering of functions (e.g. `@show` calling `show`) with a \"fallback\" implementation makes it possible for new types to be designed and only specialized where necessary.\n",
    "\n",
    "### Unlearning Object Oriented (OO) Programming (Advanced)\n",
    "\n",
    "See [Types](https://docs.julialang.org/en/v1/manual/types/#man-types-1) for more on OO vs. generic types.\n",
    "\n",
    "If you have never used programming languages such as C++, Java, and Python, then the type hierarchies above may seem unfamiliar and abstract.\n",
    "\n",
    "In that case, keep an open mind that this discussion of abstract concepts will have practical consequences, but there is no need to read this section.\n",
    "\n",
    "Otherwise, if you have used object-oriented programming (OOP) in those languages, then some of the concepts in these lecture notes will appear familiar.\n",
    "\n",
    "**Don't be fooled!**\n",
    "\n",
    "The superficial similarity can lead to misuse: types are *not* classes with poor encapsulation, and methods are *not* the equivalent to member functions with the order of arguments swapped.\n",
    "\n",
    "In particular, previous OO knowledge often leads people to write Julia code such as"
   ]
  },
  {
   "cell_type": "code",
   "execution_count": 12,
   "id": "0e1a81ad",
   "metadata": {},
   "outputs": [
    {
     "name": "stdout",
     "output_type": "stream",
     "text": [
      "m.algorithmcalculation = 7.199999999999999\n"
     ]
    }
   ],
   "source": [
    "# BAD! Replicating an OO design in Julia\n",
    "mutable struct MyModel\n",
    "    a::Float64\n",
    "    b::Float64\n",
    "    algorithmcalculation::Float64\n",
    "\n",
    "    MyModel(a, b) = new(a, b, 0.0) # an inner constructor\n",
    "end\n",
    "\n",
    "function myalgorithm!(m::MyModel, x)\n",
    "    m.algorithmcalculation = m.a + m.b + x # some algorithm\n",
    "end\n",
    "\n",
    "function set_a!(m::MyModel, a)\n",
    "    m.a = a\n",
    "end\n",
    "\n",
    "m = MyModel(2.0, 3.0)\n",
    "x = 0.1\n",
    "set_a!(m, 4.1)\n",
    "myalgorithm!(m, x)\n",
    "@show m.algorithmcalculation;"
   ]
  },
  {
   "cell_type": "markdown",
   "id": "1b788966",
   "metadata": {},
   "source": [
    "You may think to yourself that the above code is similar to OO, except that you\n",
    "* reverse the first argument, i.e., `myalgorithm!(m, x)` instead of the object-oriented `m.myalgorithm!(x)`\n",
    "* cannot control encapsulation of the fields `a`, `b`, but you can add getter/setters like `set_a`\n",
    "* do not have concrete inheritance\n",
    "\n",
    "While this sort of programming is possible, it is (verbosely) missing the point of Julia and the power of generic programming.\n",
    "\n",
    "When programming in Julia\n",
    "\n",
    "* there is no [encapsulation](https://en.wikipedia.org/wiki/Encapsulation_%28computer_programming%29) and most custom types you create will be immutable.\n",
    "* [Polymorphism](https://en.wikipedia.org/wiki/Polymorphism_%28computer_science%29) is achieved without anything resembling OOP [inheritance](https://en.wikipedia.org/wiki/Inheritance_%28object-oriented_programming%29).\n",
    "* [Abstraction](https://en.wikipedia.org/wiki/Abstraction_%28computer_science%29#Abstraction_in_object_oriented_programming) is implemented by keeping the data and algorithms that operate on them as orthogonal as possible -- in direct contrast to OOP's association of algorithms and methods directly with a type in a tree.\n",
    "* The supertypes in Julia are simply used for selecting which specialized algorithm to use (i.e., part of generic polymorphism) and have nothing to do with OO inheritance.\n",
    "* The looseness that accompanies keeping algorithms and data structures as orthogonal as possible makes it easier to discover commonality in the design.\n",
    "\n",
    "> \n",
    "\n",
    "#### Iterative Design of Abstractions\n",
    "\n",
    "As its essence, the design of generic software is that you will start with creating algorithms which are largely orthogonal to concrete types.\n",
    "\n",
    "In the process, you will discover commonality which leads to abstract types with informally defined functions operating on them.\n",
    "\n",
    "Given the abstract types and commonality, you then refine the algorithms as they are more limited or more general than you initially thought.\n",
    "\n",
    "This approach is in direct contrast to object-oriented design and analysis ([OOAD](https://en.wikipedia.org/wiki/Object-oriented_analysis_and_design)).\n",
    "\n",
    "With that, where you specify a taxonomies of types, add operations to those types, and then move down to various levels of specialization (where algorithms are embedded at points within the taxonomy, and potentially specialized with inheritance).\n",
    "\n",
    "In the examples that follow, we will show for exposition the hierarchy of types and the algorithms operating on them, but the reality is that the algorithms are often designed first, and the abstact types came later.\n",
    "\n",
    "## Distributions\n",
    "\n",
    "First, consider working with \"distributions\".\n",
    "\n",
    "Algorithms using distributions might (1) draw random numbers for Monte-Carlo methods; and (2) calculate the pdf or cdf -- if it is defined.\n",
    "\n",
    "The process of using concrete distributions in these sorts of applications led\n",
    "to the creation of the [Distributions.jl](https://github.com/JuliaStats/Distributions.jl) package.\n",
    "\n",
    "Let's examine the tree of types for a Normal distribution"
   ]
  },
  {
   "cell_type": "code",
   "execution_count": 13,
   "id": "cef7ee0e",
   "metadata": {},
   "outputs": [
    {
     "name": "stdout",
     "output_type": "stream",
     "text": [
      "d1 = Normal{Float64}(μ=1.0, σ=2.0)\n",
      "Normal{Float64} <: Distribution{Univariate, Continuous} <: Sampleable{Univariate, Continuous} <: Any"
     ]
    }
   ],
   "source": [
    "using Distributions\n",
    "d1 = Normal(1.0, 2.0) # an example type to explore\n",
    "@show d1\n",
    "show_supertypes(typeof(d1))"
   ]
  },
  {
   "cell_type": "markdown",
   "id": "85a708ec",
   "metadata": {},
   "source": [
    "The `Sampleable{Univariate,Continuous}` type has a limited number of functions, chiefly the ability to draw a random number"
   ]
  },
  {
   "cell_type": "code",
   "execution_count": 14,
   "id": "dde31857",
   "metadata": {},
   "outputs": [
    {
     "name": "stdout",
     "output_type": "stream",
     "text": [
      "rand(d1) = 0.16687694273963916\n"
     ]
    }
   ],
   "source": [
    "@show rand(d1);"
   ]
  },
  {
   "cell_type": "markdown",
   "id": "57303167",
   "metadata": {},
   "source": [
    "The purpose of that abstract type is to provide an interface for drawing from a\n",
    "variety of distributions, some of which may not have a well-defined predefined pdf.\n",
    "\n",
    "If you were writing a function to simulate a stochastic process with arbitrary\n",
    "iid shocks, where you did not need to assume an existing pdf etc., this is a natural candidate.\n",
    "\n",
    "For example, to simulate $x_{t+1} = a x_t + b \\epsilon_{t+1}$ where\n",
    "$\\epsilon \\sim D$ for some $D$, which allows drawing random values."
   ]
  },
  {
   "cell_type": "code",
   "execution_count": 15,
   "id": "42ecbb51",
   "metadata": {},
   "outputs": [
    {
     "name": "stdout",
     "output_type": "stream",
     "text": [
      "simulateprocess(0.0, d = Normal(0.2, 2.0)) = [0.0, -1.8585760483038969, -3.2279365698116873, -1.2500243249337986, -1.5225550941509105, -2.517506524104399]\n"
     ]
    }
   ],
   "source": [
    "function simulateprocess(x_0; a = 1.0, b = 1.0, N = 5,\n",
    "                         d::Sampleable{Univariate, Continuous})\n",
    "    x = zeros(typeof(x_0), N + 1) # preallocate vector, careful on the type\n",
    "    x[1] = x_0\n",
    "    for t in 2:(N + 1)\n",
    "        x[t] = a * x[t - 1] + b * rand(d) # draw\n",
    "    end\n",
    "    return x\n",
    "end\n",
    "@show simulateprocess(0.0, d = Normal(0.2, 2.0));"
   ]
  },
  {
   "cell_type": "markdown",
   "id": "d567a8c0",
   "metadata": {},
   "source": [
    "The `Sampleable{Univariate,Continuous}` and, especially, the `Sampleable{Multivariate,Continuous}` abstract types are useful generic interfaces for Monte-Carlo and Bayesian methods.\n",
    "\n",
    "Moving down the tree, the `Distributions{Univariate, Continuous}` abstract type has other functions we can use for generic algorithms operating on distributions.\n",
    "\n",
    "These match the mathematics, such as `pdf`, `cdf`, `quantile`, `support`, `minimum`, `maximum`, etc."
   ]
  },
  {
   "cell_type": "code",
   "execution_count": 16,
   "id": "b97f5c12",
   "metadata": {},
   "outputs": [
    {
     "name": "stdout",
     "output_type": "stream",
     "text": [
      "d1 = Normal{Float64}(μ=1.0, σ=2.0)\n",
      "d2 = "
     ]
    },
    {
     "name": "stdout",
     "output_type": "stream",
     "text": [
      "Exponential{Float64}(θ=0.1)\n",
      "supertype(typeof(d1)) = Distribution{Univariate, Continuous}\n",
      "supertype(typeof(d2)) = Distribution{Univariate, Continuous}\n",
      "pdf(d1, 0.1) = 0.18026348123082397\n",
      "pdf(d2, 0.1) = 3.6787944117144233\n",
      "cdf(d1, 0.1) = 0.32635522028792\n",
      "cdf(d2, 0.1) = 0.6321205588285577\n",
      "support(d1) = RealInterval{Float64}(-Inf, Inf)\n",
      "support(d2) = "
     ]
    },
    {
     "name": "stdout",
     "output_type": "stream",
     "text": [
      "RealInterval{Float64}(0.0, Inf)\n",
      "minimum(d1) = -Inf\n",
      "minimum(d2) = 0.0\n",
      "maximum(d1) = Inf\n",
      "maximum(d2) = Inf\n"
     ]
    }
   ],
   "source": [
    "d1 = Normal(1.0, 2.0)\n",
    "d2 = Exponential(0.1)\n",
    "@show d1\n",
    "@show d2\n",
    "@show supertype(typeof(d1))\n",
    "@show supertype(typeof(d2))\n",
    "\n",
    "@show pdf(d1, 0.1)\n",
    "@show pdf(d2, 0.1)\n",
    "@show cdf(d1, 0.1)\n",
    "@show cdf(d2, 0.1)\n",
    "@show support(d1)\n",
    "@show support(d2)\n",
    "@show minimum(d1)\n",
    "@show minimum(d2)\n",
    "@show maximum(d1)\n",
    "@show maximum(d2);"
   ]
  },
  {
   "cell_type": "markdown",
   "id": "e89a16a7",
   "metadata": {},
   "source": [
    "You could create your own `Distributions{Univariate, Continuous}` type by implementing those functions -- as is described in [the documentation](https://juliastats.github.io/Distributions.jl/latest/extends/).\n",
    "\n",
    "If you fulfill all of the conditions of a particular interface, you can use algorithms from the present, past, and future  that are written for the abstract `Distributions{Univariate, Continuous}` type.\n",
    "\n",
    "As an example, consider the [StatsPlots](https://github.com/JuliaPlots/StatsPlots.jl) package"
   ]
  },
  {
   "cell_type": "code",
   "execution_count": 17,
   "id": "4fceaeae",
   "metadata": {},
   "outputs": [
    {
     "data": {
      "image/png": "[encoded data removed]",
      "image/svg+xml": [
       "<?xml version=\"1.0\" encoding=\"utf-8\"?>\n",
       "<svg xmlns=\"http://www.w3.org/2000/svg\" xmlns:xlink=\"http://www.w3.org/1999/xlink\" width=\"600\" height=\"400\" viewBox=\"0 0 2400 1600\">\n",
       "<defs>\n",
       "  <clipPath id=\"clip910\">\n",
       "    <rect x=\"0\" y=\"0\" width=\"2400\" height=\"1600\"/>\n",
       "  </clipPath>\n",
       "</defs>\n",
       "<path clip-path=\"url(#clip910)\" d=\"M0 1600 L2400 1600 L2400 0 L0 0  Z\" fill=\"#ffffff\" fill-rule=\"evenodd\" fill-opacity=\"1\"/>\n",
       "<defs>\n",
       "  <clipPath id=\"clip911\">\n",
       "    <rect x=\"480\" y=\"0\" width=\"1681\" height=\"1600\"/>\n",
       "  </clipPath>\n",
       "</defs>\n",
       "<path clip-path=\"url(#clip910)\" d=\"M156.598 1486.45 L2352.76 1486.45 L2352.76 47.2441 L156.598 47.2441  Z\" fill=\"#ffffff\" fill-rule=\"evenodd\" fill-opacity=\"1\"/>\n",
       "<defs>\n",
       "  <clipPath id=\"clip912\">\n",
       "    <rect x=\"156\" y=\"47\" width=\"2197\" height=\"1440\"/>\n",
       "  </clipPath>\n",
       "</defs>\n",
       "<polyline clip-path=\"url(#clip912)\" style=\"stroke:#000000; stroke-linecap:round; stroke-linejoin:round; stroke-width:2; stroke-opacity:0.1; fill:none\" points=\"419.034,1486.45 419.034,47.2441 \"/>\n",
       "<polyline clip-path=\"url(#clip912)\" style=\"stroke:#000000; stroke-linecap:round; stroke-linejoin:round; stroke-width:2; stroke-opacity:0.1; fill:none\" points=\"697.582,1486.45 697.582,47.2441 \"/>\n",
       "<polyline clip-path=\"url(#clip912)\" style=\"stroke:#000000; stroke-linecap:round; stroke-linejoin:round; stroke-width:2; stroke-opacity:0.1; fill:none\" points=\"976.129,1486.45 976.129,47.2441 \"/>\n",
       "<polyline clip-path=\"url(#clip912)\" style=\"stroke:#000000; stroke-linecap:round; stroke-linejoin:round; stroke-width:2; stroke-opacity:0.1; fill:none\" points=\"1254.68,1486.45 1254.68,47.2441 \"/>\n",
       "<polyline clip-path=\"url(#clip912)\" style=\"stroke:#000000; stroke-linecap:round; stroke-linejoin:round; stroke-width:2; stroke-opacity:0.1; fill:none\" points=\"1533.22,1486.45 1533.22,47.2441 \"/>\n",
       "<polyline clip-path=\"url(#clip912)\" style=\"stroke:#000000; stroke-linecap:round; stroke-linejoin:round; stroke-width:2; stroke-opacity:0.1; fill:none\" points=\"1811.77,1486.45 1811.77,47.2441 \"/>\n",
       "<polyline clip-path=\"url(#clip912)\" style=\"stroke:#000000; stroke-linecap:round; stroke-linejoin:round; stroke-width:2; stroke-opacity:0.1; fill:none\" points=\"2090.32,1486.45 2090.32,47.2441 \"/>\n",
       "<polyline clip-path=\"url(#clip910)\" style=\"stroke:#000000; stroke-linecap:round; stroke-linejoin:round; stroke-width:4; stroke-opacity:1; fill:none\" points=\"156.598,1486.45 2352.76,1486.45 \"/>\n",
       "<polyline clip-path=\"url(#clip910)\" style=\"stroke:#000000; stroke-linecap:round; stroke-linejoin:round; stroke-width:4; stroke-opacity:1; fill:none\" points=\"419.034,1486.45 419.034,1467.55 \"/>\n",
       "<polyline clip-path=\"url(#clip910)\" style=\"stroke:#000000; stroke-linecap:round; stroke-linejoin:round; stroke-width:4; stroke-opacity:1; fill:none\" points=\"697.582,1486.45 697.582,1467.55 \"/>\n",
       "<polyline clip-path=\"url(#clip910)\" style=\"stroke:#000000; stroke-linecap:round; stroke-linejoin:round; stroke-width:4; stroke-opacity:1; fill:none\" points=\"976.129,1486.45 976.129,1467.55 \"/>\n",
       "<polyline clip-path=\"url(#clip910)\" style=\"stroke:#000000; stroke-linecap:round; stroke-linejoin:round; stroke-width:4; stroke-opacity:1; fill:none\" points=\"1254.68,1486.45 1254.68,1467.55 \"/>\n",
       "<polyline clip-path=\"url(#clip910)\" style=\"stroke:#000000; stroke-linecap:round; stroke-linejoin:round; stroke-width:4; stroke-opacity:1; fill:none\" points=\"1533.22,1486.45 1533.22,1467.55 \"/>\n",
       "<polyline clip-path=\"url(#clip910)\" style=\"stroke:#000000; stroke-linecap:round; stroke-linejoin:round; stroke-width:4; stroke-opacity:1; fill:none\" points=\"1811.77,1486.45 1811.77,1467.55 \"/>\n",
       "<polyline clip-path=\"url(#clip910)\" style=\"stroke:#000000; stroke-linecap:round; stroke-linejoin:round; stroke-width:4; stroke-opacity:1; fill:none\" points=\"2090.32,1486.45 2090.32,1467.55 \"/>\n",
       "<path clip-path=\"url(#clip910)\" d=\"M388.791 1532.02 L418.467 1532.02 L418.467 1535.95 L388.791 1535.95 L388.791 1532.02 Z\" fill=\"#000000\" fill-rule=\"nonzero\" fill-opacity=\"1\" /><path clip-path=\"url(#clip910)\" d=\"M429.37 1544.91 L437.008 1544.91 L437.008 1518.55 L428.698 1520.21 L428.698 1515.95 L436.962 1514.29 L441.638 1514.29 L441.638 1544.91 L449.277 1544.91 L449.277 1548.85 L429.37 1548.85 L429.37 1544.91 Z\" fill=\"#000000\" fill-rule=\"nonzero\" fill-opacity=\"1\" /><path clip-path=\"url(#clip910)\" d=\"M697.582 1517.37 Q693.971 1517.37 692.142 1520.93 Q690.336 1524.47 690.336 1531.6 Q690.336 1538.71 692.142 1542.27 Q693.971 1545.82 697.582 1545.82 Q701.216 1545.82 703.021 1542.27 Q704.85 1538.71 704.85 1531.6 Q704.85 1524.47 703.021 1520.93 Q701.216 1517.37 697.582 1517.37 M697.582 1513.66 Q703.392 1513.66 706.447 1518.27 Q709.526 1522.85 709.526 1531.6 Q709.526 1540.33 706.447 1544.94 Q703.392 1549.52 697.582 1549.52 Q691.772 1549.52 688.693 1544.94 Q685.637 1540.33 685.637 1531.6 Q685.637 1522.85 688.693 1518.27 Q691.772 1513.66 697.582 1513.66 Z\" fill=\"#000000\" fill-rule=\"nonzero\" fill-opacity=\"1\" /><path clip-path=\"url(#clip910)\" d=\"M966.511 1544.91 L974.15 1544.91 L974.15 1518.55 L965.84 1520.21 L965.84 1515.95 L974.104 1514.29 L978.78 1514.29 L978.78 1544.91 L986.419 1544.91 L986.419 1548.85 L966.511 1548.85 L966.511 1544.91 Z\" fill=\"#000000\" fill-rule=\"nonzero\" fill-opacity=\"1\" /><path clip-path=\"url(#clip910)\" d=\"M1249.33 1544.91 L1265.65 1544.91 L1265.65 1548.85 L1243.7 1548.85 L1243.7 1544.91 Q1246.37 1542.16 1250.95 1537.53 Q1255.56 1532.88 1256.74 1531.53 Q1258.98 1529.01 1259.86 1527.27 Q1260.77 1525.51 1260.77 1523.82 Q1260.77 1521.07 1258.82 1519.33 Q1256.9 1517.6 1253.8 1517.6 Q1251.6 1517.6 1249.14 1518.36 Q1246.71 1519.13 1243.94 1520.68 L1243.94 1515.95 Q1246.76 1514.82 1249.21 1514.24 Q1251.67 1513.66 1253.7 1513.66 Q1259.08 1513.66 1262.27 1516.35 Q1265.46 1519.03 1265.46 1523.52 Q1265.46 1525.65 1264.65 1527.57 Q1263.87 1529.47 1261.76 1532.07 Q1261.18 1532.74 1258.08 1535.95 Q1254.98 1539.15 1249.33 1544.91 Z\" fill=\"#000000\" fill-rule=\"nonzero\" fill-opacity=\"1\" /><path clip-path=\"url(#clip910)\" d=\"M1537.47 1530.21 Q1540.83 1530.93 1542.7 1533.2 Q1544.6 1535.47 1544.6 1538.8 Q1544.6 1543.92 1541.08 1546.72 Q1537.57 1549.52 1531.08 1549.52 Q1528.91 1549.52 1526.59 1549.08 Q1524.3 1548.66 1521.85 1547.81 L1521.85 1543.29 Q1523.79 1544.43 1526.11 1545.01 Q1528.42 1545.58 1530.94 1545.58 Q1535.34 1545.58 1537.63 1543.85 Q1539.95 1542.11 1539.95 1538.8 Q1539.95 1535.75 1537.8 1534.03 Q1535.67 1532.3 1531.85 1532.3 L1527.82 1532.3 L1527.82 1528.45 L1532.03 1528.45 Q1535.48 1528.45 1537.31 1527.09 Q1539.14 1525.7 1539.14 1523.11 Q1539.14 1520.45 1537.24 1519.03 Q1535.37 1517.6 1531.85 1517.6 Q1529.93 1517.6 1527.73 1518.01 Q1525.53 1518.43 1522.89 1519.31 L1522.89 1515.14 Q1525.55 1514.4 1527.87 1514.03 Q1530.2 1513.66 1532.26 1513.66 Q1537.59 1513.66 1540.69 1516.09 Q1543.79 1518.5 1543.79 1522.62 Q1543.79 1525.49 1542.15 1527.48 Q1540.5 1529.45 1537.47 1530.21 Z\" fill=\"#000000\" fill-rule=\"nonzero\" fill-opacity=\"1\" /><path clip-path=\"url(#clip910)\" d=\"M1814.78 1518.36 L1802.98 1536.81 L1814.78 1536.81 L1814.78 1518.36 M1813.55 1514.29 L1819.43 1514.29 L1819.43 1536.81 L1824.36 1536.81 L1824.36 1540.7 L1819.43 1540.7 L1819.43 1548.85 L1814.78 1548.85 L1814.78 1540.7 L1799.18 1540.7 L1799.18 1536.19 L1813.55 1514.29 Z\" fill=\"#000000\" fill-rule=\"nonzero\" fill-opacity=\"1\" /><path clip-path=\"url(#clip910)\" d=\"M2080.6 1514.29 L2098.95 1514.29 L2098.95 1518.22 L2084.88 1518.22 L2084.88 1526.7 Q2085.9 1526.35 2086.92 1526.19 Q2087.94 1526 2088.95 1526 Q2094.74 1526 2098.12 1529.17 Q2101.5 1532.34 2101.5 1537.76 Q2101.5 1543.34 2098.03 1546.44 Q2094.56 1549.52 2088.24 1549.52 Q2086.06 1549.52 2083.79 1549.15 Q2081.55 1548.78 2079.14 1548.04 L2079.14 1543.34 Q2081.22 1544.47 2083.45 1545.03 Q2085.67 1545.58 2088.14 1545.58 Q2092.15 1545.58 2094.49 1543.48 Q2096.82 1541.37 2096.82 1537.76 Q2096.82 1534.15 2094.49 1532.04 Q2092.15 1529.94 2088.14 1529.94 Q2086.27 1529.94 2084.39 1530.35 Q2082.54 1530.77 2080.6 1531.65 L2080.6 1514.29 Z\" fill=\"#000000\" fill-rule=\"nonzero\" fill-opacity=\"1\" /><polyline clip-path=\"url(#clip912)\" style=\"stroke:#000000; stroke-linecap:round; stroke-linejoin:round; stroke-width:2; stroke-opacity:0.1; fill:none\" points=\"156.598,1447.06 2352.76,1447.06 \"/>\n",
       "<polyline clip-path=\"url(#clip912)\" style=\"stroke:#000000; stroke-linecap:round; stroke-linejoin:round; stroke-width:2; stroke-opacity:0.1; fill:none\" points=\"156.598,1106.35 2352.76,1106.35 \"/>\n",
       "<polyline clip-path=\"url(#clip912)\" style=\"stroke:#000000; stroke-linecap:round; stroke-linejoin:round; stroke-width:2; stroke-opacity:0.1; fill:none\" points=\"156.598,765.63 2352.76,765.63 \"/>\n",
       "<polyline clip-path=\"url(#clip912)\" style=\"stroke:#000000; stroke-linecap:round; stroke-linejoin:round; stroke-width:2; stroke-opacity:0.1; fill:none\" points=\"156.598,424.912 2352.76,424.912 \"/>\n",
       "<polyline clip-path=\"url(#clip912)\" style=\"stroke:#000000; stroke-linecap:round; stroke-linejoin:round; stroke-width:2; stroke-opacity:0.1; fill:none\" points=\"156.598,84.1949 2352.76,84.1949 \"/>\n",
       "<polyline clip-path=\"url(#clip910)\" style=\"stroke:#000000; stroke-linecap:round; stroke-linejoin:round; stroke-width:4; stroke-opacity:1; fill:none\" points=\"156.598,1486.45 156.598,47.2441 \"/>\n",
       "<polyline clip-path=\"url(#clip910)\" style=\"stroke:#000000; stroke-linecap:round; stroke-linejoin:round; stroke-width:4; stroke-opacity:1; fill:none\" points=\"156.598,1447.06 175.496,1447.06 \"/>\n",
       "<polyline clip-path=\"url(#clip910)\" style=\"stroke:#000000; stroke-linecap:round; stroke-linejoin:round; stroke-width:4; stroke-opacity:1; fill:none\" points=\"156.598,1106.35 175.496,1106.35 \"/>\n",
       "<polyline clip-path=\"url(#clip910)\" style=\"stroke:#000000; stroke-linecap:round; stroke-linejoin:round; stroke-width:4; stroke-opacity:1; fill:none\" points=\"156.598,765.63 175.496,765.63 \"/>\n",
       "<polyline clip-path=\"url(#clip910)\" style=\"stroke:#000000; stroke-linecap:round; stroke-linejoin:round; stroke-width:4; stroke-opacity:1; fill:none\" points=\"156.598,424.912 175.496,424.912 \"/>\n",
       "<polyline clip-path=\"url(#clip910)\" style=\"stroke:#000000; stroke-linecap:round; stroke-linejoin:round; stroke-width:4; stroke-opacity:1; fill:none\" points=\"156.598,84.1949 175.496,84.1949 \"/>\n",
       "<path clip-path=\"url(#clip910)\" d=\"M63.4226 1432.86 Q59.8115 1432.86 57.9828 1436.43 Q56.1773 1439.97 56.1773 1447.1 Q56.1773 1454.21 57.9828 1457.77 Q59.8115 1461.31 63.4226 1461.31 Q67.0569 1461.31 68.8624 1457.77 Q70.6911 1454.21 70.6911 1447.1 Q70.6911 1439.97 68.8624 1436.43 Q67.0569 1432.86 63.4226 1432.86 M63.4226 1429.16 Q69.2328 1429.16 72.2883 1433.77 Q75.367 1438.35 75.367 1447.1 Q75.367 1455.83 72.2883 1460.43 Q69.2328 1465.02 63.4226 1465.02 Q57.6125 1465.02 54.5338 1460.43 Q51.4782 1455.83 51.4782 1447.1 Q51.4782 1438.35 54.5338 1433.77 Q57.6125 1429.16 63.4226 1429.16 Z\" fill=\"#000000\" fill-rule=\"nonzero\" fill-opacity=\"1\" /><path clip-path=\"url(#clip910)\" d=\"M83.5845 1458.46 L88.4688 1458.46 L88.4688 1464.34 L83.5845 1464.34 L83.5845 1458.46 Z\" fill=\"#000000\" fill-rule=\"nonzero\" fill-opacity=\"1\" /><path clip-path=\"url(#clip910)\" d=\"M108.654 1432.86 Q105.043 1432.86 103.214 1436.43 Q101.409 1439.97 101.409 1447.1 Q101.409 1454.21 103.214 1457.77 Q105.043 1461.31 108.654 1461.31 Q112.288 1461.31 114.094 1457.77 Q115.922 1454.21 115.922 1447.1 Q115.922 1439.97 114.094 1436.43 Q112.288 1432.86 108.654 1432.86 M108.654 1429.16 Q114.464 1429.16 117.52 1433.77 Q120.598 1438.35 120.598 1447.1 Q120.598 1455.83 117.52 1460.43 Q114.464 1465.02 108.654 1465.02 Q102.844 1465.02 99.765 1460.43 Q96.7095 1455.83 96.7095 1447.1 Q96.7095 1438.35 99.765 1433.77 Q102.844 1429.16 108.654 1429.16 Z\" fill=\"#000000\" fill-rule=\"nonzero\" fill-opacity=\"1\" /><path clip-path=\"url(#clip910)\" d=\"M64.6495 1092.15 Q61.0384 1092.15 59.2097 1095.71 Q57.4041 1099.25 57.4041 1106.38 Q57.4041 1113.49 59.2097 1117.05 Q61.0384 1120.59 64.6495 1120.59 Q68.2837 1120.59 70.0892 1117.05 Q71.9179 1113.49 71.9179 1106.38 Q71.9179 1099.25 70.0892 1095.71 Q68.2837 1092.15 64.6495 1092.15 M64.6495 1088.44 Q70.4596 1088.44 73.5152 1093.05 Q76.5938 1097.63 76.5938 1106.38 Q76.5938 1115.11 73.5152 1119.72 Q70.4596 1124.3 64.6495 1124.3 Q58.8393 1124.3 55.7606 1119.72 Q52.7051 1115.11 52.7051 1106.38 Q52.7051 1097.63 55.7606 1093.05 Q58.8393 1088.44 64.6495 1088.44 Z\" fill=\"#000000\" fill-rule=\"nonzero\" fill-opacity=\"1\" /><path clip-path=\"url(#clip910)\" d=\"M84.8114 1117.75 L89.6956 1117.75 L89.6956 1123.63 L84.8114 1123.63 L84.8114 1117.75 Z\" fill=\"#000000\" fill-rule=\"nonzero\" fill-opacity=\"1\" /><path clip-path=\"url(#clip910)\" d=\"M100.691 1119.69 L108.33 1119.69 L108.33 1093.33 L100.02 1094.99 L100.02 1090.73 L108.283 1089.07 L112.959 1089.07 L112.959 1119.69 L120.598 1119.69 L120.598 1123.63 L100.691 1123.63 L100.691 1119.69 Z\" fill=\"#000000\" fill-rule=\"nonzero\" fill-opacity=\"1\" /><path clip-path=\"url(#clip910)\" d=\"M65.0198 751.428 Q61.4087 751.428 59.58 754.993 Q57.7745 758.535 57.7745 765.664 Q57.7745 772.771 59.58 776.336 Q61.4087 779.877 65.0198 779.877 Q68.6541 779.877 70.4596 776.336 Q72.2883 772.771 72.2883 765.664 Q72.2883 758.535 70.4596 754.993 Q68.6541 751.428 65.0198 751.428 M65.0198 747.725 Q70.83 747.725 73.8855 752.331 Q76.9642 756.914 76.9642 765.664 Q76.9642 774.391 73.8855 778.998 Q70.83 783.581 65.0198 783.581 Q59.2097 783.581 56.131 778.998 Q53.0754 774.391 53.0754 765.664 Q53.0754 756.914 56.131 752.331 Q59.2097 747.725 65.0198 747.725 Z\" fill=\"#000000\" fill-rule=\"nonzero\" fill-opacity=\"1\" /><path clip-path=\"url(#clip910)\" d=\"M85.1818 777.03 L90.066 777.03 L90.066 782.91 L85.1818 782.91 L85.1818 777.03 Z\" fill=\"#000000\" fill-rule=\"nonzero\" fill-opacity=\"1\" /><path clip-path=\"url(#clip910)\" d=\"M104.279 778.974 L120.598 778.974 L120.598 782.91 L98.6539 782.91 L98.6539 778.974 Q101.316 776.22 105.899 771.59 Q110.506 766.938 111.686 765.595 Q113.932 763.072 114.811 761.336 Q115.714 759.576 115.714 757.887 Q115.714 755.132 113.77 753.396 Q111.848 751.66 108.746 751.66 Q106.547 751.66 104.094 752.424 Q101.663 753.188 98.8854 754.739 L98.8854 750.016 Q101.709 748.882 104.163 748.303 Q106.617 747.725 108.654 747.725 Q114.024 747.725 117.219 750.41 Q120.413 753.095 120.413 757.586 Q120.413 759.715 119.603 761.637 Q118.816 763.535 116.709 766.127 Q116.131 766.799 113.029 770.016 Q109.927 773.211 104.279 778.974 Z\" fill=\"#000000\" fill-rule=\"nonzero\" fill-opacity=\"1\" /><path clip-path=\"url(#clip910)\" d=\"M64.0708 410.711 Q60.4597 410.711 58.631 414.276 Q56.8254 417.817 56.8254 424.947 Q56.8254 432.053 58.631 435.618 Q60.4597 439.16 64.0708 439.16 Q67.705 439.16 69.5105 435.618 Q71.3392 432.053 71.3392 424.947 Q71.3392 417.817 69.5105 414.276 Q67.705 410.711 64.0708 410.711 M64.0708 407.007 Q69.8809 407.007 72.9365 411.614 Q76.0151 416.197 76.0151 424.947 Q76.0151 433.674 72.9365 438.28 Q69.8809 442.864 64.0708 442.864 Q58.2606 442.864 55.1819 438.28 Q52.1264 433.674 52.1264 424.947 Q52.1264 416.197 55.1819 411.614 Q58.2606 407.007 64.0708 407.007 Z\" fill=\"#000000\" fill-rule=\"nonzero\" fill-opacity=\"1\" /><path clip-path=\"url(#clip910)\" d=\"M84.2327 436.313 L89.1169 436.313 L89.1169 442.192 L84.2327 442.192 L84.2327 436.313 Z\" fill=\"#000000\" fill-rule=\"nonzero\" fill-opacity=\"1\" /><path clip-path=\"url(#clip910)\" d=\"M113.469 423.558 Q116.825 424.276 118.7 426.544 Q120.598 428.813 120.598 432.146 Q120.598 437.262 117.08 440.063 Q113.561 442.864 107.08 442.864 Q104.904 442.864 102.589 442.424 Q100.297 442.007 97.8437 441.151 L97.8437 436.637 Q99.7882 437.771 102.103 438.35 Q104.418 438.928 106.941 438.928 Q111.339 438.928 113.631 437.192 Q115.945 435.456 115.945 432.146 Q115.945 429.09 113.793 427.378 Q111.663 425.641 107.844 425.641 L103.816 425.641 L103.816 421.799 L108.029 421.799 Q111.478 421.799 113.307 420.433 Q115.135 419.044 115.135 416.452 Q115.135 413.79 113.237 412.378 Q111.362 410.942 107.844 410.942 Q105.922 410.942 103.723 411.359 Q101.524 411.776 98.8854 412.655 L98.8854 408.489 Q101.547 407.748 103.862 407.378 Q106.2 407.007 108.26 407.007 Q113.584 407.007 116.686 409.438 Q119.788 411.845 119.788 415.966 Q119.788 418.836 118.145 420.827 Q116.501 422.794 113.469 423.558 Z\" fill=\"#000000\" fill-rule=\"nonzero\" fill-opacity=\"1\" /><path clip-path=\"url(#clip910)\" d=\"M62.9365 69.9936 Q59.3254 69.9936 57.4967 73.5584 Q55.6912 77.1 55.6912 84.2296 Q55.6912 91.3361 57.4967 94.9009 Q59.3254 98.4425 62.9365 98.4425 Q66.5707 98.4425 68.3763 94.9009 Q70.205 91.3361 70.205 84.2296 Q70.205 77.1 68.3763 73.5584 Q66.5707 69.9936 62.9365 69.9936 M62.9365 66.2899 Q68.7467 66.2899 71.8022 70.8964 Q74.8809 75.4797 74.8809 84.2296 Q74.8809 92.9564 71.8022 97.5629 Q68.7467 102.146 62.9365 102.146 Q57.1264 102.146 54.0477 97.5629 Q50.9921 92.9564 50.9921 84.2296 Q50.9921 75.4797 54.0477 70.8964 Q57.1264 66.2899 62.9365 66.2899 Z\" fill=\"#000000\" fill-rule=\"nonzero\" fill-opacity=\"1\" /><path clip-path=\"url(#clip910)\" d=\"M83.0984 95.5953 L87.9827 95.5953 L87.9827 101.475 L83.0984 101.475 L83.0984 95.5953 Z\" fill=\"#000000\" fill-rule=\"nonzero\" fill-opacity=\"1\" /><path clip-path=\"url(#clip910)\" d=\"M111.015 70.9889 L99.2095 89.4379 L111.015 89.4379 L111.015 70.9889 M109.788 66.9149 L115.668 66.9149 L115.668 89.4379 L120.598 89.4379 L120.598 93.3268 L115.668 93.3268 L115.668 101.475 L111.015 101.475 L111.015 93.3268 L95.4132 93.3268 L95.4132 88.8129 L109.788 66.9149 Z\" fill=\"#000000\" fill-rule=\"nonzero\" fill-opacity=\"1\" /><polyline clip-path=\"url(#clip912)\" style=\"stroke:#009af9; stroke-linecap:round; stroke-linejoin:round; stroke-width:4; stroke-opacity:1; fill:none\" points=\"218.754,1445.72 225.498,1445.59 232.242,1445.45 294.604,1443.49 356.966,1439.52 394.443,1435.52 431.92,1429.73 463.607,1422.97 495.293,1414 512.503,1408.01 529.713,1401.1 546.923,1393.19 564.133,1384.15 579.999,1374.73 595.866,1364.16 611.732,1352.36 627.598,1339.22 644.608,1323.56 661.618,1306.15 678.629,1286.88 695.639,1265.66 715.347,1238.51 735.055,1208.48 754.763,1175.5 774.471,1139.5 791.985,1104.97 809.499,1068.05 827.013,1028.82 844.528,987.337 859.886,949.213 875.244,909.564 890.603,868.52 905.961,826.231 939.45,730.584 972.94,632.068 1006.63,532.729 1040.32,436.176 1049.63,410.412 1058.94,385.178 1068.25,360.545 1077.56,336.582 1086.88,313.359 1096.19,290.942 1105.5,269.4 1114.81,248.795 1123.67,230.119 1132.53,212.402 1141.39,195.694 1150.25,180.041 1159.11,165.491 1167.97,152.084 1176.83,139.86 1185.69,128.855 1194.9,118.74 1204.11,110.01 1213.33,102.694 1222.54,96.8164 1231.75,92.3952 1240.96,89.4453 1250.17,87.9763 1259.39,87.993 1267.14,89.159 1274.9,91.3751 1282.65,94.6361 1290.41,98.9347 1298.16,104.261 1305.92,110.602 1313.67,117.944 1321.42,126.269 1330.89,137.74 1340.36,150.609 1349.83,164.834 1359.3,180.367 1368.76,197.157 1378.23,215.149 1387.7,234.283 1397.17,254.498 1414.51,294.127 1431.86,336.752 1440.53,359.053 1449.2,381.94 1457.88,405.355 1466.55,429.243 1498.59,520.66 1530.63,614.95 1563.09,710.683 1595.54,804.19 1613.73,854.821 1631.92,903.785 1650.1,950.822 1668.29,995.714 1684.77,1034.4 1701.25,1071.09 1717.73,1105.71 1734.21,1138.23 1753.08,1172.85 1771.95,1204.71 1790.82,1233.85 1809.69,1260.34 1827.16,1282.6 1844.63,1302.78 1862.1,1320.97 1879.57,1337.31 1896.8,1351.71 1914.02,1364.53 1931.25,1375.91 1948.47,1385.95 1965.19,1394.53 1981.92,1402.07 1998.64,1408.67 2015.36,1414.42 2049.65,1423.91 2083.94,1430.89 2121.5,1436.34 2159.07,1440.08 2213.64,1443.44 2268.21,1445.25 2279.41,1445.5 2290.6,1445.72 \"/>\n",
       "<path clip-path=\"url(#clip910)\" d=\"M2007.5 198.898 L2279.55 198.898 L2279.55 95.2176 L2007.5 95.2176  Z\" fill=\"#ffffff\" fill-rule=\"evenodd\" fill-opacity=\"1\"/>\n",
       "<polyline clip-path=\"url(#clip910)\" style=\"stroke:#000000; stroke-linecap:round; stroke-linejoin:round; stroke-width:4; stroke-opacity:1; fill:none\" points=\"2007.5,198.898 2279.55,198.898 2279.55,95.2176 2007.5,95.2176 2007.5,198.898 \"/>\n",
       "<polyline clip-path=\"url(#clip910)\" style=\"stroke:#009af9; stroke-linecap:round; stroke-linejoin:round; stroke-width:4; stroke-opacity:1; fill:none\" points=\"2031.91,147.058 2178.32,147.058 \"/>\n",
       "<path clip-path=\"url(#clip910)\" d=\"M2216.56 166.745 Q2214.76 171.375 2213.04 172.787 Q2211.33 174.199 2208.46 174.199 L2205.06 174.199 L2205.06 170.634 L2207.56 170.634 Q2209.32 170.634 2210.29 169.8 Q2211.26 168.967 2212.44 165.865 L2213.2 163.921 L2202.72 138.412 L2207.23 138.412 L2215.33 158.689 L2223.44 138.412 L2227.95 138.412 L2216.56 166.745 Z\" fill=\"#000000\" fill-rule=\"nonzero\" fill-opacity=\"1\" /><path clip-path=\"url(#clip910)\" d=\"M2235.24 160.402 L2242.88 160.402 L2242.88 134.037 L2234.57 135.703 L2234.57 131.444 L2242.83 129.778 L2247.51 129.778 L2247.51 160.402 L2255.15 160.402 L2255.15 164.338 L2235.24 164.338 L2235.24 160.402 Z\" fill=\"#000000\" fill-rule=\"nonzero\" fill-opacity=\"1\" /></svg>\n"
      ],
      "text/html": [
       "<?xml version=\"1.0\" encoding=\"utf-8\"?>\n",
       "<svg xmlns=\"http://www.w3.org/2000/svg\" xmlns:xlink=\"http://www.w3.org/1999/xlink\" width=\"600\" height=\"400\" viewBox=\"0 0 2400 1600\">\n",
       "<defs>\n",
       "  <clipPath id=\"clip960\">\n",
       "    <rect x=\"0\" y=\"0\" width=\"2400\" height=\"1600\"/>\n",
       "  </clipPath>\n",
       "</defs>\n",
       "<path clip-path=\"url(#clip960)\" d=\"M0 1600 L2400 1600 L2400 0 L0 0  Z\" fill=\"#ffffff\" fill-rule=\"evenodd\" fill-opacity=\"1\"/>\n",
       "<defs>\n",
       "  <clipPath id=\"clip961\">\n",
       "    <rect x=\"480\" y=\"0\" width=\"1681\" height=\"1600\"/>\n",
       "  </clipPath>\n",
       "</defs>\n",
       "<path clip-path=\"url(#clip960)\" d=\"M156.598 1486.45 L2352.76 1486.45 L2352.76 47.2441 L156.598 47.2441  Z\" fill=\"#ffffff\" fill-rule=\"evenodd\" fill-opacity=\"1\"/>\n",
       "<defs>\n",
       "  <clipPath id=\"clip962\">\n",
       "    <rect x=\"156\" y=\"47\" width=\"2197\" height=\"1440\"/>\n",
       "  </clipPath>\n",
       "</defs>\n",
       "<polyline clip-path=\"url(#clip962)\" style=\"stroke:#000000; stroke-linecap:round; stroke-linejoin:round; stroke-width:2; stroke-opacity:0.1; fill:none\" points=\"419.034,1486.45 419.034,47.2441 \"/>\n",
       "<polyline clip-path=\"url(#clip962)\" style=\"stroke:#000000; stroke-linecap:round; stroke-linejoin:round; stroke-width:2; stroke-opacity:0.1; fill:none\" points=\"697.582,1486.45 697.582,47.2441 \"/>\n",
       "<polyline clip-path=\"url(#clip962)\" style=\"stroke:#000000; stroke-linecap:round; stroke-linejoin:round; stroke-width:2; stroke-opacity:0.1; fill:none\" points=\"976.129,1486.45 976.129,47.2441 \"/>\n",
       "<polyline clip-path=\"url(#clip962)\" style=\"stroke:#000000; stroke-linecap:round; stroke-linejoin:round; stroke-width:2; stroke-opacity:0.1; fill:none\" points=\"1254.68,1486.45 1254.68,47.2441 \"/>\n",
       "<polyline clip-path=\"url(#clip962)\" style=\"stroke:#000000; stroke-linecap:round; stroke-linejoin:round; stroke-width:2; stroke-opacity:0.1; fill:none\" points=\"1533.22,1486.45 1533.22,47.2441 \"/>\n",
       "<polyline clip-path=\"url(#clip962)\" style=\"stroke:#000000; stroke-linecap:round; stroke-linejoin:round; stroke-width:2; stroke-opacity:0.1; fill:none\" points=\"1811.77,1486.45 1811.77,47.2441 \"/>\n",
       "<polyline clip-path=\"url(#clip962)\" style=\"stroke:#000000; stroke-linecap:round; stroke-linejoin:round; stroke-width:2; stroke-opacity:0.1; fill:none\" points=\"2090.32,1486.45 2090.32,47.2441 \"/>\n",
       "<polyline clip-path=\"url(#clip960)\" style=\"stroke:#000000; stroke-linecap:round; stroke-linejoin:round; stroke-width:4; stroke-opacity:1; fill:none\" points=\"156.598,1486.45 2352.76,1486.45 \"/>\n",
       "<polyline clip-path=\"url(#clip960)\" style=\"stroke:#000000; stroke-linecap:round; stroke-linejoin:round; stroke-width:4; stroke-opacity:1; fill:none\" points=\"419.034,1486.45 419.034,1467.55 \"/>\n",
       "<polyline clip-path=\"url(#clip960)\" style=\"stroke:#000000; stroke-linecap:round; stroke-linejoin:round; stroke-width:4; stroke-opacity:1; fill:none\" points=\"697.582,1486.45 697.582,1467.55 \"/>\n",
       "<polyline clip-path=\"url(#clip960)\" style=\"stroke:#000000; stroke-linecap:round; stroke-linejoin:round; stroke-width:4; stroke-opacity:1; fill:none\" points=\"976.129,1486.45 976.129,1467.55 \"/>\n",
       "<polyline clip-path=\"url(#clip960)\" style=\"stroke:#000000; stroke-linecap:round; stroke-linejoin:round; stroke-width:4; stroke-opacity:1; fill:none\" points=\"1254.68,1486.45 1254.68,1467.55 \"/>\n",
       "<polyline clip-path=\"url(#clip960)\" style=\"stroke:#000000; stroke-linecap:round; stroke-linejoin:round; stroke-width:4; stroke-opacity:1; fill:none\" points=\"1533.22,1486.45 1533.22,1467.55 \"/>\n",
       "<polyline clip-path=\"url(#clip960)\" style=\"stroke:#000000; stroke-linecap:round; stroke-linejoin:round; stroke-width:4; stroke-opacity:1; fill:none\" points=\"1811.77,1486.45 1811.77,1467.55 \"/>\n",
       "<polyline clip-path=\"url(#clip960)\" style=\"stroke:#000000; stroke-linecap:round; stroke-linejoin:round; stroke-width:4; stroke-opacity:1; fill:none\" points=\"2090.32,1486.45 2090.32,1467.55 \"/>\n",
       "<path clip-path=\"url(#clip960)\" d=\"M388.791 1532.02 L418.467 1532.02 L418.467 1535.95 L388.791 1535.95 L388.791 1532.02 Z\" fill=\"#000000\" fill-rule=\"nonzero\" fill-opacity=\"1\" /><path clip-path=\"url(#clip960)\" d=\"M429.37 1544.91 L437.008 1544.91 L437.008 1518.55 L428.698 1520.21 L428.698 1515.95 L436.962 1514.29 L441.638 1514.29 L441.638 1544.91 L449.277 1544.91 L449.277 1548.85 L429.37 1548.85 L429.37 1544.91 Z\" fill=\"#000000\" fill-rule=\"nonzero\" fill-opacity=\"1\" /><path clip-path=\"url(#clip960)\" d=\"M697.582 1517.37 Q693.971 1517.37 692.142 1520.93 Q690.336 1524.47 690.336 1531.6 Q690.336 1538.71 692.142 1542.27 Q693.971 1545.82 697.582 1545.82 Q701.216 1545.82 703.021 1542.27 Q704.85 1538.71 704.85 1531.6 Q704.85 1524.47 703.021 1520.93 Q701.216 1517.37 697.582 1517.37 M697.582 1513.66 Q703.392 1513.66 706.447 1518.27 Q709.526 1522.85 709.526 1531.6 Q709.526 1540.33 706.447 1544.94 Q703.392 1549.52 697.582 1549.52 Q691.772 1549.52 688.693 1544.94 Q685.637 1540.33 685.637 1531.6 Q685.637 1522.85 688.693 1518.27 Q691.772 1513.66 697.582 1513.66 Z\" fill=\"#000000\" fill-rule=\"nonzero\" fill-opacity=\"1\" /><path clip-path=\"url(#clip960)\" d=\"M966.511 1544.91 L974.15 1544.91 L974.15 1518.55 L965.84 1520.21 L965.84 1515.95 L974.104 1514.29 L978.78 1514.29 L978.78 1544.91 L986.419 1544.91 L986.419 1548.85 L966.511 1548.85 L966.511 1544.91 Z\" fill=\"#000000\" fill-rule=\"nonzero\" fill-opacity=\"1\" /><path clip-path=\"url(#clip960)\" d=\"M1249.33 1544.91 L1265.65 1544.91 L1265.65 1548.85 L1243.7 1548.85 L1243.7 1544.91 Q1246.37 1542.16 1250.95 1537.53 Q1255.56 1532.88 1256.74 1531.53 Q1258.98 1529.01 1259.86 1527.27 Q1260.77 1525.51 1260.77 1523.82 Q1260.77 1521.07 1258.82 1519.33 Q1256.9 1517.6 1253.8 1517.6 Q1251.6 1517.6 1249.14 1518.36 Q1246.71 1519.13 1243.94 1520.68 L1243.94 1515.95 Q1246.76 1514.82 1249.21 1514.24 Q1251.67 1513.66 1253.7 1513.66 Q1259.08 1513.66 1262.27 1516.35 Q1265.46 1519.03 1265.46 1523.52 Q1265.46 1525.65 1264.65 1527.57 Q1263.87 1529.47 1261.76 1532.07 Q1261.18 1532.74 1258.08 1535.95 Q1254.98 1539.15 1249.33 1544.91 Z\" fill=\"#000000\" fill-rule=\"nonzero\" fill-opacity=\"1\" /><path clip-path=\"url(#clip960)\" d=\"M1537.47 1530.21 Q1540.83 1530.93 1542.7 1533.2 Q1544.6 1535.47 1544.6 1538.8 Q1544.6 1543.92 1541.08 1546.72 Q1537.57 1549.52 1531.08 1549.52 Q1528.91 1549.52 1526.59 1549.08 Q1524.3 1548.66 1521.85 1547.81 L1521.85 1543.29 Q1523.79 1544.43 1526.11 1545.01 Q1528.42 1545.58 1530.94 1545.58 Q1535.34 1545.58 1537.63 1543.85 Q1539.95 1542.11 1539.95 1538.8 Q1539.95 1535.75 1537.8 1534.03 Q1535.67 1532.3 1531.85 1532.3 L1527.82 1532.3 L1527.82 1528.45 L1532.03 1528.45 Q1535.48 1528.45 1537.31 1527.09 Q1539.14 1525.7 1539.14 1523.11 Q1539.14 1520.45 1537.24 1519.03 Q1535.37 1517.6 1531.85 1517.6 Q1529.93 1517.6 1527.73 1518.01 Q1525.53 1518.43 1522.89 1519.31 L1522.89 1515.14 Q1525.55 1514.4 1527.87 1514.03 Q1530.2 1513.66 1532.26 1513.66 Q1537.59 1513.66 1540.69 1516.09 Q1543.79 1518.5 1543.79 1522.62 Q1543.79 1525.49 1542.15 1527.48 Q1540.5 1529.45 1537.47 1530.21 Z\" fill=\"#000000\" fill-rule=\"nonzero\" fill-opacity=\"1\" /><path clip-path=\"url(#clip960)\" d=\"M1814.78 1518.36 L1802.98 1536.81 L1814.78 1536.81 L1814.78 1518.36 M1813.55 1514.29 L1819.43 1514.29 L1819.43 1536.81 L1824.36 1536.81 L1824.36 1540.7 L1819.43 1540.7 L1819.43 1548.85 L1814.78 1548.85 L1814.78 1540.7 L1799.18 1540.7 L1799.18 1536.19 L1813.55 1514.29 Z\" fill=\"#000000\" fill-rule=\"nonzero\" fill-opacity=\"1\" /><path clip-path=\"url(#clip960)\" d=\"M2080.6 1514.29 L2098.95 1514.29 L2098.95 1518.22 L2084.88 1518.22 L2084.88 1526.7 Q2085.9 1526.35 2086.92 1526.19 Q2087.94 1526 2088.95 1526 Q2094.74 1526 2098.12 1529.17 Q2101.5 1532.34 2101.5 1537.76 Q2101.5 1543.34 2098.03 1546.44 Q2094.56 1549.52 2088.24 1549.52 Q2086.06 1549.52 2083.79 1549.15 Q2081.55 1548.78 2079.14 1548.04 L2079.14 1543.34 Q2081.22 1544.47 2083.45 1545.03 Q2085.67 1545.58 2088.14 1545.58 Q2092.15 1545.58 2094.49 1543.48 Q2096.82 1541.37 2096.82 1537.76 Q2096.82 1534.15 2094.49 1532.04 Q2092.15 1529.94 2088.14 1529.94 Q2086.27 1529.94 2084.39 1530.35 Q2082.54 1530.77 2080.6 1531.65 L2080.6 1514.29 Z\" fill=\"#000000\" fill-rule=\"nonzero\" fill-opacity=\"1\" /><polyline clip-path=\"url(#clip962)\" style=\"stroke:#000000; stroke-linecap:round; stroke-linejoin:round; stroke-width:2; stroke-opacity:0.1; fill:none\" points=\"156.598,1447.06 2352.76,1447.06 \"/>\n",
       "<polyline clip-path=\"url(#clip962)\" style=\"stroke:#000000; stroke-linecap:round; stroke-linejoin:round; stroke-width:2; stroke-opacity:0.1; fill:none\" points=\"156.598,1106.35 2352.76,1106.35 \"/>\n",
       "<polyline clip-path=\"url(#clip962)\" style=\"stroke:#000000; stroke-linecap:round; stroke-linejoin:round; stroke-width:2; stroke-opacity:0.1; fill:none\" points=\"156.598,765.63 2352.76,765.63 \"/>\n",
       "<polyline clip-path=\"url(#clip962)\" style=\"stroke:#000000; stroke-linecap:round; stroke-linejoin:round; stroke-width:2; stroke-opacity:0.1; fill:none\" points=\"156.598,424.912 2352.76,424.912 \"/>\n",
       "<polyline clip-path=\"url(#clip962)\" style=\"stroke:#000000; stroke-linecap:round; stroke-linejoin:round; stroke-width:2; stroke-opacity:0.1; fill:none\" points=\"156.598,84.1949 2352.76,84.1949 \"/>\n",
       "<polyline clip-path=\"url(#clip960)\" style=\"stroke:#000000; stroke-linecap:round; stroke-linejoin:round; stroke-width:4; stroke-opacity:1; fill:none\" points=\"156.598,1486.45 156.598,47.2441 \"/>\n",
       "<polyline clip-path=\"url(#clip960)\" style=\"stroke:#000000; stroke-linecap:round; stroke-linejoin:round; stroke-width:4; stroke-opacity:1; fill:none\" points=\"156.598,1447.06 175.496,1447.06 \"/>\n",
       "<polyline clip-path=\"url(#clip960)\" style=\"stroke:#000000; stroke-linecap:round; stroke-linejoin:round; stroke-width:4; stroke-opacity:1; fill:none\" points=\"156.598,1106.35 175.496,1106.35 \"/>\n",
       "<polyline clip-path=\"url(#clip960)\" style=\"stroke:#000000; stroke-linecap:round; stroke-linejoin:round; stroke-width:4; stroke-opacity:1; fill:none\" points=\"156.598,765.63 175.496,765.63 \"/>\n",
       "<polyline clip-path=\"url(#clip960)\" style=\"stroke:#000000; stroke-linecap:round; stroke-linejoin:round; stroke-width:4; stroke-opacity:1; fill:none\" points=\"156.598,424.912 175.496,424.912 \"/>\n",
       "<polyline clip-path=\"url(#clip960)\" style=\"stroke:#000000; stroke-linecap:round; stroke-linejoin:round; stroke-width:4; stroke-opacity:1; fill:none\" points=\"156.598,84.1949 175.496,84.1949 \"/>\n",
       "<path clip-path=\"url(#clip960)\" d=\"M63.4226 1432.86 Q59.8115 1432.86 57.9828 1436.43 Q56.1773 1439.97 56.1773 1447.1 Q56.1773 1454.21 57.9828 1457.77 Q59.8115 1461.31 63.4226 1461.31 Q67.0569 1461.31 68.8624 1457.77 Q70.6911 1454.21 70.6911 1447.1 Q70.6911 1439.97 68.8624 1436.43 Q67.0569 1432.86 63.4226 1432.86 M63.4226 1429.16 Q69.2328 1429.16 72.2883 1433.77 Q75.367 1438.35 75.367 1447.1 Q75.367 1455.83 72.2883 1460.43 Q69.2328 1465.02 63.4226 1465.02 Q57.6125 1465.02 54.5338 1460.43 Q51.4782 1455.83 51.4782 1447.1 Q51.4782 1438.35 54.5338 1433.77 Q57.6125 1429.16 63.4226 1429.16 Z\" fill=\"#000000\" fill-rule=\"nonzero\" fill-opacity=\"1\" /><path clip-path=\"url(#clip960)\" d=\"M83.5845 1458.46 L88.4688 1458.46 L88.4688 1464.34 L83.5845 1464.34 L83.5845 1458.46 Z\" fill=\"#000000\" fill-rule=\"nonzero\" fill-opacity=\"1\" /><path clip-path=\"url(#clip960)\" d=\"M108.654 1432.86 Q105.043 1432.86 103.214 1436.43 Q101.409 1439.97 101.409 1447.1 Q101.409 1454.21 103.214 1457.77 Q105.043 1461.31 108.654 1461.31 Q112.288 1461.31 114.094 1457.77 Q115.922 1454.21 115.922 1447.1 Q115.922 1439.97 114.094 1436.43 Q112.288 1432.86 108.654 1432.86 M108.654 1429.16 Q114.464 1429.16 117.52 1433.77 Q120.598 1438.35 120.598 1447.1 Q120.598 1455.83 117.52 1460.43 Q114.464 1465.02 108.654 1465.02 Q102.844 1465.02 99.765 1460.43 Q96.7095 1455.83 96.7095 1447.1 Q96.7095 1438.35 99.765 1433.77 Q102.844 1429.16 108.654 1429.16 Z\" fill=\"#000000\" fill-rule=\"nonzero\" fill-opacity=\"1\" /><path clip-path=\"url(#clip960)\" d=\"M64.6495 1092.15 Q61.0384 1092.15 59.2097 1095.71 Q57.4041 1099.25 57.4041 1106.38 Q57.4041 1113.49 59.2097 1117.05 Q61.0384 1120.59 64.6495 1120.59 Q68.2837 1120.59 70.0892 1117.05 Q71.9179 1113.49 71.9179 1106.38 Q71.9179 1099.25 70.0892 1095.71 Q68.2837 1092.15 64.6495 1092.15 M64.6495 1088.44 Q70.4596 1088.44 73.5152 1093.05 Q76.5938 1097.63 76.5938 1106.38 Q76.5938 1115.11 73.5152 1119.72 Q70.4596 1124.3 64.6495 1124.3 Q58.8393 1124.3 55.7606 1119.72 Q52.7051 1115.11 52.7051 1106.38 Q52.7051 1097.63 55.7606 1093.05 Q58.8393 1088.44 64.6495 1088.44 Z\" fill=\"#000000\" fill-rule=\"nonzero\" fill-opacity=\"1\" /><path clip-path=\"url(#clip960)\" d=\"M84.8114 1117.75 L89.6956 1117.75 L89.6956 1123.63 L84.8114 1123.63 L84.8114 1117.75 Z\" fill=\"#000000\" fill-rule=\"nonzero\" fill-opacity=\"1\" /><path clip-path=\"url(#clip960)\" d=\"M100.691 1119.69 L108.33 1119.69 L108.33 1093.33 L100.02 1094.99 L100.02 1090.73 L108.283 1089.07 L112.959 1089.07 L112.959 1119.69 L120.598 1119.69 L120.598 1123.63 L100.691 1123.63 L100.691 1119.69 Z\" fill=\"#000000\" fill-rule=\"nonzero\" fill-opacity=\"1\" /><path clip-path=\"url(#clip960)\" d=\"M65.0198 751.428 Q61.4087 751.428 59.58 754.993 Q57.7745 758.535 57.7745 765.664 Q57.7745 772.771 59.58 776.336 Q61.4087 779.877 65.0198 779.877 Q68.6541 779.877 70.4596 776.336 Q72.2883 772.771 72.2883 765.664 Q72.2883 758.535 70.4596 754.993 Q68.6541 751.428 65.0198 751.428 M65.0198 747.725 Q70.83 747.725 73.8855 752.331 Q76.9642 756.914 76.9642 765.664 Q76.9642 774.391 73.8855 778.998 Q70.83 783.581 65.0198 783.581 Q59.2097 783.581 56.131 778.998 Q53.0754 774.391 53.0754 765.664 Q53.0754 756.914 56.131 752.331 Q59.2097 747.725 65.0198 747.725 Z\" fill=\"#000000\" fill-rule=\"nonzero\" fill-opacity=\"1\" /><path clip-path=\"url(#clip960)\" d=\"M85.1818 777.03 L90.066 777.03 L90.066 782.91 L85.1818 782.91 L85.1818 777.03 Z\" fill=\"#000000\" fill-rule=\"nonzero\" fill-opacity=\"1\" /><path clip-path=\"url(#clip960)\" d=\"M104.279 778.974 L120.598 778.974 L120.598 782.91 L98.6539 782.91 L98.6539 778.974 Q101.316 776.22 105.899 771.59 Q110.506 766.938 111.686 765.595 Q113.932 763.072 114.811 761.336 Q115.714 759.576 115.714 757.887 Q115.714 755.132 113.77 753.396 Q111.848 751.66 108.746 751.66 Q106.547 751.66 104.094 752.424 Q101.663 753.188 98.8854 754.739 L98.8854 750.016 Q101.709 748.882 104.163 748.303 Q106.617 747.725 108.654 747.725 Q114.024 747.725 117.219 750.41 Q120.413 753.095 120.413 757.586 Q120.413 759.715 119.603 761.637 Q118.816 763.535 116.709 766.127 Q116.131 766.799 113.029 770.016 Q109.927 773.211 104.279 778.974 Z\" fill=\"#000000\" fill-rule=\"nonzero\" fill-opacity=\"1\" /><path clip-path=\"url(#clip960)\" d=\"M64.0708 410.711 Q60.4597 410.711 58.631 414.276 Q56.8254 417.817 56.8254 424.947 Q56.8254 432.053 58.631 435.618 Q60.4597 439.16 64.0708 439.16 Q67.705 439.16 69.5105 435.618 Q71.3392 432.053 71.3392 424.947 Q71.3392 417.817 69.5105 414.276 Q67.705 410.711 64.0708 410.711 M64.0708 407.007 Q69.8809 407.007 72.9365 411.614 Q76.0151 416.197 76.0151 424.947 Q76.0151 433.674 72.9365 438.28 Q69.8809 442.864 64.0708 442.864 Q58.2606 442.864 55.1819 438.28 Q52.1264 433.674 52.1264 424.947 Q52.1264 416.197 55.1819 411.614 Q58.2606 407.007 64.0708 407.007 Z\" fill=\"#000000\" fill-rule=\"nonzero\" fill-opacity=\"1\" /><path clip-path=\"url(#clip960)\" d=\"M84.2327 436.313 L89.1169 436.313 L89.1169 442.192 L84.2327 442.192 L84.2327 436.313 Z\" fill=\"#000000\" fill-rule=\"nonzero\" fill-opacity=\"1\" /><path clip-path=\"url(#clip960)\" d=\"M113.469 423.558 Q116.825 424.276 118.7 426.544 Q120.598 428.813 120.598 432.146 Q120.598 437.262 117.08 440.063 Q113.561 442.864 107.08 442.864 Q104.904 442.864 102.589 442.424 Q100.297 442.007 97.8437 441.151 L97.8437 436.637 Q99.7882 437.771 102.103 438.35 Q104.418 438.928 106.941 438.928 Q111.339 438.928 113.631 437.192 Q115.945 435.456 115.945 432.146 Q115.945 429.09 113.793 427.378 Q111.663 425.641 107.844 425.641 L103.816 425.641 L103.816 421.799 L108.029 421.799 Q111.478 421.799 113.307 420.433 Q115.135 419.044 115.135 416.452 Q115.135 413.79 113.237 412.378 Q111.362 410.942 107.844 410.942 Q105.922 410.942 103.723 411.359 Q101.524 411.776 98.8854 412.655 L98.8854 408.489 Q101.547 407.748 103.862 407.378 Q106.2 407.007 108.26 407.007 Q113.584 407.007 116.686 409.438 Q119.788 411.845 119.788 415.966 Q119.788 418.836 118.145 420.827 Q116.501 422.794 113.469 423.558 Z\" fill=\"#000000\" fill-rule=\"nonzero\" fill-opacity=\"1\" /><path clip-path=\"url(#clip960)\" d=\"M62.9365 69.9936 Q59.3254 69.9936 57.4967 73.5584 Q55.6912 77.1 55.6912 84.2296 Q55.6912 91.3361 57.4967 94.9009 Q59.3254 98.4425 62.9365 98.4425 Q66.5707 98.4425 68.3763 94.9009 Q70.205 91.3361 70.205 84.2296 Q70.205 77.1 68.3763 73.5584 Q66.5707 69.9936 62.9365 69.9936 M62.9365 66.2899 Q68.7467 66.2899 71.8022 70.8964 Q74.8809 75.4797 74.8809 84.2296 Q74.8809 92.9564 71.8022 97.5629 Q68.7467 102.146 62.9365 102.146 Q57.1264 102.146 54.0477 97.5629 Q50.9921 92.9564 50.9921 84.2296 Q50.9921 75.4797 54.0477 70.8964 Q57.1264 66.2899 62.9365 66.2899 Z\" fill=\"#000000\" fill-rule=\"nonzero\" fill-opacity=\"1\" /><path clip-path=\"url(#clip960)\" d=\"M83.0984 95.5953 L87.9827 95.5953 L87.9827 101.475 L83.0984 101.475 L83.0984 95.5953 Z\" fill=\"#000000\" fill-rule=\"nonzero\" fill-opacity=\"1\" /><path clip-path=\"url(#clip960)\" d=\"M111.015 70.9889 L99.2095 89.4379 L111.015 89.4379 L111.015 70.9889 M109.788 66.9149 L115.668 66.9149 L115.668 89.4379 L120.598 89.4379 L120.598 93.3268 L115.668 93.3268 L115.668 101.475 L111.015 101.475 L111.015 93.3268 L95.4132 93.3268 L95.4132 88.8129 L109.788 66.9149 Z\" fill=\"#000000\" fill-rule=\"nonzero\" fill-opacity=\"1\" /><polyline clip-path=\"url(#clip962)\" style=\"stroke:#009af9; stroke-linecap:round; stroke-linejoin:round; stroke-width:4; stroke-opacity:1; fill:none\" points=\"218.754,1445.72 225.498,1445.59 232.242,1445.45 294.604,1443.49 356.966,1439.52 394.443,1435.52 431.92,1429.73 463.607,1422.97 495.293,1414 512.503,1408.01 529.713,1401.1 546.923,1393.19 564.133,1384.15 579.999,1374.73 595.866,1364.16 611.732,1352.36 627.598,1339.22 644.608,1323.56 661.618,1306.15 678.629,1286.88 695.639,1265.66 715.347,1238.51 735.055,1208.48 754.763,1175.5 774.471,1139.5 791.985,1104.97 809.499,1068.05 827.013,1028.82 844.528,987.337 859.886,949.213 875.244,909.564 890.603,868.52 905.961,826.231 939.45,730.584 972.94,632.068 1006.63,532.729 1040.32,436.176 1049.63,410.412 1058.94,385.178 1068.25,360.545 1077.56,336.582 1086.88,313.359 1096.19,290.942 1105.5,269.4 1114.81,248.795 1123.67,230.119 1132.53,212.402 1141.39,195.694 1150.25,180.041 1159.11,165.491 1167.97,152.084 1176.83,139.86 1185.69,128.855 1194.9,118.74 1204.11,110.01 1213.33,102.694 1222.54,96.8164 1231.75,92.3952 1240.96,89.4453 1250.17,87.9763 1259.39,87.993 1267.14,89.159 1274.9,91.3751 1282.65,94.6361 1290.41,98.9347 1298.16,104.261 1305.92,110.602 1313.67,117.944 1321.42,126.269 1330.89,137.74 1340.36,150.609 1349.83,164.834 1359.3,180.367 1368.76,197.157 1378.23,215.149 1387.7,234.283 1397.17,254.498 1414.51,294.127 1431.86,336.752 1440.53,359.053 1449.2,381.94 1457.88,405.355 1466.55,429.243 1498.59,520.66 1530.63,614.95 1563.09,710.683 1595.54,804.19 1613.73,854.821 1631.92,903.785 1650.1,950.822 1668.29,995.714 1684.77,1034.4 1701.25,1071.09 1717.73,1105.71 1734.21,1138.23 1753.08,1172.85 1771.95,1204.71 1790.82,1233.85 1809.69,1260.34 1827.16,1282.6 1844.63,1302.78 1862.1,1320.97 1879.57,1337.31 1896.8,1351.71 1914.02,1364.53 1931.25,1375.91 1948.47,1385.95 1965.19,1394.53 1981.92,1402.07 1998.64,1408.67 2015.36,1414.42 2049.65,1423.91 2083.94,1430.89 2121.5,1436.34 2159.07,1440.08 2213.64,1443.44 2268.21,1445.25 2279.41,1445.5 2290.6,1445.72 \"/>\n",
       "<path clip-path=\"url(#clip960)\" d=\"M2007.5 198.898 L2279.55 198.898 L2279.55 95.2176 L2007.5 95.2176  Z\" fill=\"#ffffff\" fill-rule=\"evenodd\" fill-opacity=\"1\"/>\n",
       "<polyline clip-path=\"url(#clip960)\" style=\"stroke:#000000; stroke-linecap:round; stroke-linejoin:round; stroke-width:4; stroke-opacity:1; fill:none\" points=\"2007.5,198.898 2279.55,198.898 2279.55,95.2176 2007.5,95.2176 2007.5,198.898 \"/>\n",
       "<polyline clip-path=\"url(#clip960)\" style=\"stroke:#009af9; stroke-linecap:round; stroke-linejoin:round; stroke-width:4; stroke-opacity:1; fill:none\" points=\"2031.91,147.058 2178.32,147.058 \"/>\n",
       "<path clip-path=\"url(#clip960)\" d=\"M2216.56 166.745 Q2214.76 171.375 2213.04 172.787 Q2211.33 174.199 2208.46 174.199 L2205.06 174.199 L2205.06 170.634 L2207.56 170.634 Q2209.32 170.634 2210.29 169.8 Q2211.26 168.967 2212.44 165.865 L2213.2 163.921 L2202.72 138.412 L2207.23 138.412 L2215.33 158.689 L2223.44 138.412 L2227.95 138.412 L2216.56 166.745 Z\" fill=\"#000000\" fill-rule=\"nonzero\" fill-opacity=\"1\" /><path clip-path=\"url(#clip960)\" d=\"M2235.24 160.402 L2242.88 160.402 L2242.88 134.037 L2234.57 135.703 L2234.57 131.444 L2242.83 129.778 L2247.51 129.778 L2247.51 160.402 L2255.15 160.402 L2255.15 164.338 L2235.24 164.338 L2235.24 160.402 Z\" fill=\"#000000\" fill-rule=\"nonzero\" fill-opacity=\"1\" /></svg>\n"
      ]
     },
     "execution_count": 17,
     "metadata": {},
     "output_type": "execute_result"
    }
   ],
   "source": [
    "using StatsPlots\n",
    "d = Normal(2.0, 1.0)\n",
    "plot(d) # note no other arguments!"
   ]
  },
  {
   "cell_type": "markdown",
   "id": "ef5e8aa4",
   "metadata": {},
   "source": [
    "Calling `plot` on any subtype of `Distributions{Univariate, Continuous}`\n",
    "displays the `pdf` and uses `minimum` and `maximum` to determine the range.\n",
    "\n",
    "Let's create our own distribution type"
   ]
  },
  {
   "cell_type": "code",
   "execution_count": 18,
   "id": "33116e27",
   "metadata": {},
   "outputs": [],
   "source": [
    "struct OurTruncatedExponential <: Distribution{Univariate, Continuous}\n",
    "    alpha::Float64\n",
    "    xmax::Float64\n",
    "end\n",
    "function Distributions.pdf(d::OurTruncatedExponential, x::Real)\n",
    "    d.alpha * exp(-d.alpha * x) / exp(-d.alpha * d.xmax)\n",
    "end\n",
    "Distributions.minimum(d::OurTruncatedExponential) = 0\n",
    "Distributions.maximum(d::OurTruncatedExponential) = d.xmax\n",
    "# ... more to have a complete type"
   ]
  },
  {
   "cell_type": "markdown",
   "id": "9e264c9a",
   "metadata": {},
   "source": [
    "To demonstrate this"
   ]
  },
  {
   "cell_type": "code",
   "execution_count": 19,
   "id": "8e3a1c4d",
   "metadata": {},
   "outputs": [
    {
     "name": "stdout",
     "output_type": "stream",
     "text": [
      "(minimum(d), maximum(d)) = (0, 2.0)\n",
      "support(d) = RealInterval{Float64}(0.0, 2.0)\n"
     ]
    },
    {
     "data": {
      "text/plain": [
       "RealInterval{Float64}(0.0, 2.0)"
      ]
     },
     "execution_count": 19,
     "metadata": {},
     "output_type": "execute_result"
    }
   ],
   "source": [
    "d = OurTruncatedExponential(1.0, 2.0)\n",
    "@show minimum(d), maximum(d)\n",
    "@show support(d) # why does this work?"
   ]
  },
  {
   "cell_type": "markdown",
   "id": "a172cacb",
   "metadata": {},
   "source": [
    "Curiously, you will note that the `support` function works, even though we did not provide one.\n",
    "\n",
    "This is another example of the power of multiple dispatch and generic programming.\n",
    "\n",
    "In the background, the `Distributions.jl` package  has something like the following implemented\n",
    "\n",
    "```{code-block} julia\n",
    "    Distributions.support(d::Distribution) = RealInterval(minimum(d), maximum(d))\n",
    "```\n",
    "\n",
    "Since `OurTruncatedExponential <: Distribution`, and we\n",
    "implemented `minimum` and `maximum`, calls to `support` get this\n",
    "implementation as a fallback.\n",
    "\n",
    "These functions are enough to use the  `StatsPlots.jl` package"
   ]
  },
  {
   "cell_type": "code",
   "execution_count": 20,
   "id": "0dda779a",
   "metadata": {},
   "outputs": [
    {
     "data": {
      "image/png": "[encoded data removed]",
      "image/svg+xml": [
       "<?xml version=\"1.0\" encoding=\"utf-8\"?>\n",
       "<svg xmlns=\"http://www.w3.org/2000/svg\" xmlns:xlink=\"http://www.w3.org/1999/xlink\" width=\"600\" height=\"400\" viewBox=\"0 0 2400 1600\">\n",
       "<defs>\n",
       "  <clipPath id=\"clip000\">\n",
       "    <rect x=\"0\" y=\"0\" width=\"2400\" height=\"1600\"/>\n",
       "  </clipPath>\n",
       "</defs>\n",
       "<path clip-path=\"url(#clip000)\" d=\"M0 1600 L2400 1600 L2400 0 L0 0  Z\" fill=\"#ffffff\" fill-rule=\"evenodd\" fill-opacity=\"1\"/>\n",
       "<defs>\n",
       "  <clipPath id=\"clip001\">\n",
       "    <rect x=\"480\" y=\"0\" width=\"1681\" height=\"1600\"/>\n",
       "  </clipPath>\n",
       "</defs>\n",
       "<path clip-path=\"url(#clip000)\" d=\"M112.177 1486.45 L2352.76 1486.45 L2352.76 47.2441 L112.177 47.2441  Z\" fill=\"#ffffff\" fill-rule=\"evenodd\" fill-opacity=\"1\"/>\n",
       "<defs>\n",
       "  <clipPath id=\"clip002\">\n",
       "    <rect x=\"112\" y=\"47\" width=\"2242\" height=\"1440\"/>\n",
       "  </clipPath>\n",
       "</defs>\n",
       "<polyline clip-path=\"url(#clip002)\" style=\"stroke:#000000; stroke-linecap:round; stroke-linejoin:round; stroke-width:2; stroke-opacity:0.1; fill:none\" points=\"175.59,1486.45 175.59,47.2441 \"/>\n",
       "<polyline clip-path=\"url(#clip002)\" style=\"stroke:#000000; stroke-linecap:round; stroke-linejoin:round; stroke-width:2; stroke-opacity:0.1; fill:none\" points=\"704.028,1486.45 704.028,47.2441 \"/>\n",
       "<polyline clip-path=\"url(#clip002)\" style=\"stroke:#000000; stroke-linecap:round; stroke-linejoin:round; stroke-width:2; stroke-opacity:0.1; fill:none\" points=\"1232.47,1486.45 1232.47,47.2441 \"/>\n",
       "<polyline clip-path=\"url(#clip002)\" style=\"stroke:#000000; stroke-linecap:round; stroke-linejoin:round; stroke-width:2; stroke-opacity:0.1; fill:none\" points=\"1760.9,1486.45 1760.9,47.2441 \"/>\n",
       "<polyline clip-path=\"url(#clip002)\" style=\"stroke:#000000; stroke-linecap:round; stroke-linejoin:round; stroke-width:2; stroke-opacity:0.1; fill:none\" points=\"2289.34,1486.45 2289.34,47.2441 \"/>\n",
       "<polyline clip-path=\"url(#clip000)\" style=\"stroke:#000000; stroke-linecap:round; stroke-linejoin:round; stroke-width:4; stroke-opacity:1; fill:none\" points=\"112.177,1486.45 2352.76,1486.45 \"/>\n",
       "<polyline clip-path=\"url(#clip000)\" style=\"stroke:#000000; stroke-linecap:round; stroke-linejoin:round; stroke-width:4; stroke-opacity:1; fill:none\" points=\"175.59,1486.45 175.59,1467.55 \"/>\n",
       "<polyline clip-path=\"url(#clip000)\" style=\"stroke:#000000; stroke-linecap:round; stroke-linejoin:round; stroke-width:4; stroke-opacity:1; fill:none\" points=\"704.028,1486.45 704.028,1467.55 \"/>\n",
       "<polyline clip-path=\"url(#clip000)\" style=\"stroke:#000000; stroke-linecap:round; stroke-linejoin:round; stroke-width:4; stroke-opacity:1; fill:none\" points=\"1232.47,1486.45 1232.47,1467.55 \"/>\n",
       "<polyline clip-path=\"url(#clip000)\" style=\"stroke:#000000; stroke-linecap:round; stroke-linejoin:round; stroke-width:4; stroke-opacity:1; fill:none\" points=\"1760.9,1486.45 1760.9,1467.55 \"/>\n",
       "<polyline clip-path=\"url(#clip000)\" style=\"stroke:#000000; stroke-linecap:round; stroke-linejoin:round; stroke-width:4; stroke-opacity:1; fill:none\" points=\"2289.34,1486.45 2289.34,1467.55 \"/>\n",
       "<path clip-path=\"url(#clip000)\" d=\"M152.974 1517.37 Q149.363 1517.37 147.534 1520.93 Q145.729 1524.47 145.729 1531.6 Q145.729 1538.71 147.534 1542.27 Q149.363 1545.82 152.974 1545.82 Q156.608 1545.82 158.414 1542.27 Q160.243 1538.71 160.243 1531.6 Q160.243 1524.47 158.414 1520.93 Q156.608 1517.37 152.974 1517.37 M152.974 1513.66 Q158.784 1513.66 161.84 1518.27 Q164.919 1522.85 164.919 1531.6 Q164.919 1540.33 161.84 1544.94 Q158.784 1549.52 152.974 1549.52 Q147.164 1549.52 144.085 1544.94 Q141.03 1540.33 141.03 1531.6 Q141.03 1522.85 144.085 1518.27 Q147.164 1513.66 152.974 1513.66 Z\" fill=\"#000000\" fill-rule=\"nonzero\" fill-opacity=\"1\" /><path clip-path=\"url(#clip000)\" d=\"M173.136 1542.97 L178.02 1542.97 L178.02 1548.85 L173.136 1548.85 L173.136 1542.97 Z\" fill=\"#000000\" fill-rule=\"nonzero\" fill-opacity=\"1\" /><path clip-path=\"url(#clip000)\" d=\"M198.205 1517.37 Q194.594 1517.37 192.766 1520.93 Q190.96 1524.47 190.96 1531.6 Q190.96 1538.71 192.766 1542.27 Q194.594 1545.82 198.205 1545.82 Q201.84 1545.82 203.645 1542.27 Q205.474 1538.71 205.474 1531.6 Q205.474 1524.47 203.645 1520.93 Q201.84 1517.37 198.205 1517.37 M198.205 1513.66 Q204.016 1513.66 207.071 1518.27 Q210.15 1522.85 210.15 1531.6 Q210.15 1540.33 207.071 1544.94 Q204.016 1549.52 198.205 1549.52 Q192.395 1549.52 189.317 1544.94 Q186.261 1540.33 186.261 1531.6 Q186.261 1522.85 189.317 1518.27 Q192.395 1513.66 198.205 1513.66 Z\" fill=\"#000000\" fill-rule=\"nonzero\" fill-opacity=\"1\" /><path clip-path=\"url(#clip000)\" d=\"M681.91 1517.37 Q678.299 1517.37 676.47 1520.93 Q674.665 1524.47 674.665 1531.6 Q674.665 1538.71 676.47 1542.27 Q678.299 1545.82 681.91 1545.82 Q685.544 1545.82 687.35 1542.27 Q689.179 1538.71 689.179 1531.6 Q689.179 1524.47 687.35 1520.93 Q685.544 1517.37 681.91 1517.37 M681.91 1513.66 Q687.72 1513.66 690.776 1518.27 Q693.855 1522.85 693.855 1531.6 Q693.855 1540.33 690.776 1544.94 Q687.72 1549.52 681.91 1549.52 Q676.1 1549.52 673.021 1544.94 Q669.966 1540.33 669.966 1531.6 Q669.966 1522.85 673.021 1518.27 Q676.1 1513.66 681.91 1513.66 Z\" fill=\"#000000\" fill-rule=\"nonzero\" fill-opacity=\"1\" /><path clip-path=\"url(#clip000)\" d=\"M702.072 1542.97 L706.956 1542.97 L706.956 1548.85 L702.072 1548.85 L702.072 1542.97 Z\" fill=\"#000000\" fill-rule=\"nonzero\" fill-opacity=\"1\" /><path clip-path=\"url(#clip000)\" d=\"M717.188 1514.29 L735.544 1514.29 L735.544 1518.22 L721.47 1518.22 L721.47 1526.7 Q722.489 1526.35 723.507 1526.19 Q724.526 1526 725.544 1526 Q731.331 1526 734.711 1529.17 Q738.09 1532.34 738.09 1537.76 Q738.09 1543.34 734.618 1546.44 Q731.146 1549.52 724.827 1549.52 Q722.651 1549.52 720.382 1549.15 Q718.137 1548.78 715.729 1548.04 L715.729 1543.34 Q717.813 1544.47 720.035 1545.03 Q722.257 1545.58 724.734 1545.58 Q728.739 1545.58 731.077 1543.48 Q733.415 1541.37 733.415 1537.76 Q733.415 1534.15 731.077 1532.04 Q728.739 1529.94 724.734 1529.94 Q722.859 1529.94 720.984 1530.35 Q719.132 1530.77 717.188 1531.65 L717.188 1514.29 Z\" fill=\"#000000\" fill-rule=\"nonzero\" fill-opacity=\"1\" /><path clip-path=\"url(#clip000)\" d=\"M1199.62 1544.91 L1207.26 1544.91 L1207.26 1518.55 L1198.95 1520.21 L1198.95 1515.95 L1207.21 1514.29 L1211.89 1514.29 L1211.89 1544.91 L1219.53 1544.91 L1219.53 1548.85 L1199.62 1548.85 L1199.62 1544.91 Z\" fill=\"#000000\" fill-rule=\"nonzero\" fill-opacity=\"1\" /><path clip-path=\"url(#clip000)\" d=\"M1228.97 1542.97 L1233.86 1542.97 L1233.86 1548.85 L1228.97 1548.85 L1228.97 1542.97 Z\" fill=\"#000000\" fill-rule=\"nonzero\" fill-opacity=\"1\" /><path clip-path=\"url(#clip000)\" d=\"M1254.04 1517.37 Q1250.43 1517.37 1248.6 1520.93 Q1246.8 1524.47 1246.8 1531.6 Q1246.8 1538.71 1248.6 1542.27 Q1250.43 1545.82 1254.04 1545.82 Q1257.67 1545.82 1259.48 1542.27 Q1261.31 1538.71 1261.31 1531.6 Q1261.31 1524.47 1259.48 1520.93 Q1257.67 1517.37 1254.04 1517.37 M1254.04 1513.66 Q1259.85 1513.66 1262.91 1518.27 Q1265.98 1522.85 1265.98 1531.6 Q1265.98 1540.33 1262.91 1544.94 Q1259.85 1549.52 1254.04 1549.52 Q1248.23 1549.52 1245.15 1544.94 Q1242.1 1540.33 1242.1 1531.6 Q1242.1 1522.85 1245.15 1518.27 Q1248.23 1513.66 1254.04 1513.66 Z\" fill=\"#000000\" fill-rule=\"nonzero\" fill-opacity=\"1\" /><path clip-path=\"url(#clip000)\" d=\"M1728.56 1544.91 L1736.19 1544.91 L1736.19 1518.55 L1727.88 1520.21 L1727.88 1515.95 L1736.15 1514.29 L1740.82 1514.29 L1740.82 1544.91 L1748.46 1544.91 L1748.46 1548.85 L1728.56 1548.85 L1728.56 1544.91 Z\" fill=\"#000000\" fill-rule=\"nonzero\" fill-opacity=\"1\" /><path clip-path=\"url(#clip000)\" d=\"M1757.91 1542.97 L1762.79 1542.97 L1762.79 1548.85 L1757.91 1548.85 L1757.91 1542.97 Z\" fill=\"#000000\" fill-rule=\"nonzero\" fill-opacity=\"1\" /><path clip-path=\"url(#clip000)\" d=\"M1773.02 1514.29 L1791.38 1514.29 L1791.38 1518.22 L1777.31 1518.22 L1777.31 1526.7 Q1778.32 1526.35 1779.34 1526.19 Q1780.36 1526 1781.38 1526 Q1787.17 1526 1790.55 1529.17 Q1793.93 1532.34 1793.93 1537.76 Q1793.93 1543.34 1790.45 1546.44 Q1786.98 1549.52 1780.66 1549.52 Q1778.49 1549.52 1776.22 1549.15 Q1773.97 1548.78 1771.56 1548.04 L1771.56 1543.34 Q1773.65 1544.47 1775.87 1545.03 Q1778.09 1545.58 1780.57 1545.58 Q1784.57 1545.58 1786.91 1543.48 Q1789.25 1541.37 1789.25 1537.76 Q1789.25 1534.15 1786.91 1532.04 Q1784.57 1529.94 1780.57 1529.94 Q1778.69 1529.94 1776.82 1530.35 Q1774.97 1530.77 1773.02 1531.65 L1773.02 1514.29 Z\" fill=\"#000000\" fill-rule=\"nonzero\" fill-opacity=\"1\" /><path clip-path=\"url(#clip000)\" d=\"M2260.58 1544.91 L2276.9 1544.91 L2276.9 1548.85 L2254.96 1548.85 L2254.96 1544.91 Q2257.62 1542.16 2262.2 1537.53 Q2266.81 1532.88 2267.99 1531.53 Q2270.23 1529.01 2271.11 1527.27 Q2272.02 1525.51 2272.02 1523.82 Q2272.02 1521.07 2270.07 1519.33 Q2268.15 1517.6 2265.05 1517.6 Q2262.85 1517.6 2260.4 1518.36 Q2257.97 1519.13 2255.19 1520.68 L2255.19 1515.95 Q2258.01 1514.82 2260.47 1514.24 Q2262.92 1513.66 2264.96 1513.66 Q2270.33 1513.66 2273.52 1516.35 Q2276.72 1519.03 2276.72 1523.52 Q2276.72 1525.65 2275.91 1527.57 Q2275.12 1529.47 2273.01 1532.07 Q2272.43 1532.74 2269.33 1535.95 Q2266.23 1539.15 2260.58 1544.91 Z\" fill=\"#000000\" fill-rule=\"nonzero\" fill-opacity=\"1\" /><path clip-path=\"url(#clip000)\" d=\"M2286.72 1542.97 L2291.6 1542.97 L2291.6 1548.85 L2286.72 1548.85 L2286.72 1542.97 Z\" fill=\"#000000\" fill-rule=\"nonzero\" fill-opacity=\"1\" /><path clip-path=\"url(#clip000)\" d=\"M2311.79 1517.37 Q2308.17 1517.37 2306.35 1520.93 Q2304.54 1524.47 2304.54 1531.6 Q2304.54 1538.71 2306.35 1542.27 Q2308.17 1545.82 2311.79 1545.82 Q2315.42 1545.82 2317.23 1542.27 Q2319.05 1538.71 2319.05 1531.6 Q2319.05 1524.47 2317.23 1520.93 Q2315.42 1517.37 2311.79 1517.37 M2311.79 1513.66 Q2317.6 1513.66 2320.65 1518.27 Q2323.73 1522.85 2323.73 1531.6 Q2323.73 1540.33 2320.65 1544.94 Q2317.6 1549.52 2311.79 1549.52 Q2305.98 1549.52 2302.9 1544.94 Q2299.84 1540.33 2299.84 1531.6 Q2299.84 1522.85 2302.9 1518.27 Q2305.98 1513.66 2311.79 1513.66 Z\" fill=\"#000000\" fill-rule=\"nonzero\" fill-opacity=\"1\" /><polyline clip-path=\"url(#clip002)\" style=\"stroke:#000000; stroke-linecap:round; stroke-linejoin:round; stroke-width:2; stroke-opacity:0.1; fill:none\" points=\"112.177,1445.72 2352.76,1445.72 \"/>\n",
       "<polyline clip-path=\"url(#clip002)\" style=\"stroke:#000000; stroke-linecap:round; stroke-linejoin:round; stroke-width:2; stroke-opacity:0.1; fill:none\" points=\"112.177,1233.21 2352.76,1233.21 \"/>\n",
       "<polyline clip-path=\"url(#clip002)\" style=\"stroke:#000000; stroke-linecap:round; stroke-linejoin:round; stroke-width:2; stroke-opacity:0.1; fill:none\" points=\"112.177,1020.7 2352.76,1020.7 \"/>\n",
       "<polyline clip-path=\"url(#clip002)\" style=\"stroke:#000000; stroke-linecap:round; stroke-linejoin:round; stroke-width:2; stroke-opacity:0.1; fill:none\" points=\"112.177,808.185 2352.76,808.185 \"/>\n",
       "<polyline clip-path=\"url(#clip002)\" style=\"stroke:#000000; stroke-linecap:round; stroke-linejoin:round; stroke-width:2; stroke-opacity:0.1; fill:none\" points=\"112.177,595.675 2352.76,595.675 \"/>\n",
       "<polyline clip-path=\"url(#clip002)\" style=\"stroke:#000000; stroke-linecap:round; stroke-linejoin:round; stroke-width:2; stroke-opacity:0.1; fill:none\" points=\"112.177,383.165 2352.76,383.165 \"/>\n",
       "<polyline clip-path=\"url(#clip002)\" style=\"stroke:#000000; stroke-linecap:round; stroke-linejoin:round; stroke-width:2; stroke-opacity:0.1; fill:none\" points=\"112.177,170.655 2352.76,170.655 \"/>\n",
       "<polyline clip-path=\"url(#clip000)\" style=\"stroke:#000000; stroke-linecap:round; stroke-linejoin:round; stroke-width:4; stroke-opacity:1; fill:none\" points=\"112.177,1486.45 112.177,47.2441 \"/>\n",
       "<polyline clip-path=\"url(#clip000)\" style=\"stroke:#000000; stroke-linecap:round; stroke-linejoin:round; stroke-width:4; stroke-opacity:1; fill:none\" points=\"112.177,1445.72 131.075,1445.72 \"/>\n",
       "<polyline clip-path=\"url(#clip000)\" style=\"stroke:#000000; stroke-linecap:round; stroke-linejoin:round; stroke-width:4; stroke-opacity:1; fill:none\" points=\"112.177,1233.21 131.075,1233.21 \"/>\n",
       "<polyline clip-path=\"url(#clip000)\" style=\"stroke:#000000; stroke-linecap:round; stroke-linejoin:round; stroke-width:4; stroke-opacity:1; fill:none\" points=\"112.177,1020.7 131.075,1020.7 \"/>\n",
       "<polyline clip-path=\"url(#clip000)\" style=\"stroke:#000000; stroke-linecap:round; stroke-linejoin:round; stroke-width:4; stroke-opacity:1; fill:none\" points=\"112.177,808.185 131.075,808.185 \"/>\n",
       "<polyline clip-path=\"url(#clip000)\" style=\"stroke:#000000; stroke-linecap:round; stroke-linejoin:round; stroke-width:4; stroke-opacity:1; fill:none\" points=\"112.177,595.675 131.075,595.675 \"/>\n",
       "<polyline clip-path=\"url(#clip000)\" style=\"stroke:#000000; stroke-linecap:round; stroke-linejoin:round; stroke-width:4; stroke-opacity:1; fill:none\" points=\"112.177,383.165 131.075,383.165 \"/>\n",
       "<polyline clip-path=\"url(#clip000)\" style=\"stroke:#000000; stroke-linecap:round; stroke-linejoin:round; stroke-width:4; stroke-opacity:1; fill:none\" points=\"112.177,170.655 131.075,170.655 \"/>\n",
       "<path clip-path=\"url(#clip000)\" d=\"M56.2699 1459.06 L63.9087 1459.06 L63.9087 1432.69 L55.5986 1434.36 L55.5986 1430.1 L63.8624 1428.44 L68.5383 1428.44 L68.5383 1459.06 L76.1772 1459.06 L76.1772 1463 L56.2699 1463 L56.2699 1459.06 Z\" fill=\"#000000\" fill-rule=\"nonzero\" fill-opacity=\"1\" /><path clip-path=\"url(#clip000)\" d=\"M59.8578 1246.55 L76.1772 1246.55 L76.1772 1250.49 L54.2328 1250.49 L54.2328 1246.55 Q56.8949 1243.8 61.4782 1239.17 Q66.0846 1234.51 67.2652 1233.17 Q69.5105 1230.65 70.3902 1228.91 Q71.2929 1227.15 71.2929 1225.46 Q71.2929 1222.71 69.3485 1220.97 Q67.4272 1219.24 64.3254 1219.24 Q62.1263 1219.24 59.6726 1220 Q57.2421 1220.76 54.4643 1222.31 L54.4643 1217.59 Q57.2884 1216.46 59.7421 1215.88 Q62.1958 1215.3 64.2328 1215.3 Q69.6031 1215.3 72.7976 1217.99 Q75.992 1220.67 75.992 1225.16 Q75.992 1227.29 75.1818 1229.21 Q74.3948 1231.11 72.2883 1233.7 Q71.7096 1234.37 68.6078 1237.59 Q65.5059 1240.79 59.8578 1246.55 Z\" fill=\"#000000\" fill-rule=\"nonzero\" fill-opacity=\"1\" /><path clip-path=\"url(#clip000)\" d=\"M69.0476 1019.34 Q72.404 1020.06 74.279 1022.33 Q76.1772 1024.6 76.1772 1027.93 Q76.1772 1033.04 72.6587 1035.85 Q69.1402 1038.65 62.6587 1038.65 Q60.4828 1038.65 58.168 1038.21 Q55.8764 1037.79 53.4227 1036.93 L53.4227 1032.42 Q55.3671 1033.55 57.6819 1034.13 Q59.9967 1034.71 62.5198 1034.71 Q66.918 1034.71 69.2096 1032.98 Q71.5244 1031.24 71.5244 1027.93 Q71.5244 1024.87 69.3717 1023.16 Q67.242 1021.42 63.4226 1021.42 L59.3949 1021.42 L59.3949 1017.58 L63.6078 1017.58 Q67.0569 1017.58 68.8855 1016.22 Q70.7142 1014.83 70.7142 1012.23 Q70.7142 1009.57 68.8161 1008.16 Q66.9411 1006.73 63.4226 1006.73 Q61.5013 1006.73 59.3023 1007.14 Q57.1032 1007.56 54.4643 1008.44 L54.4643 1004.27 Q57.1264 1003.53 59.4412 1003.16 Q61.7791 1002.79 63.8393 1002.79 Q69.1633 1002.79 72.2652 1005.22 Q75.367 1007.63 75.367 1011.75 Q75.367 1014.62 73.7235 1016.61 Q72.08 1018.58 69.0476 1019.34 Z\" fill=\"#000000\" fill-rule=\"nonzero\" fill-opacity=\"1\" /><path clip-path=\"url(#clip000)\" d=\"M66.5939 794.979 L54.7884 813.428 L66.5939 813.428 L66.5939 794.979 M65.367 790.905 L71.2466 790.905 L71.2466 813.428 L76.1772 813.428 L76.1772 817.317 L71.2466 817.317 L71.2466 825.465 L66.5939 825.465 L66.5939 817.317 L50.9921 817.317 L50.9921 812.803 L65.367 790.905 Z\" fill=\"#000000\" fill-rule=\"nonzero\" fill-opacity=\"1\" /><path clip-path=\"url(#clip000)\" d=\"M55.2745 578.395 L73.6309 578.395 L73.6309 582.33 L59.5569 582.33 L59.5569 590.802 Q60.5754 590.455 61.5939 590.293 Q62.6124 590.108 63.6309 590.108 Q69.418 590.108 72.7976 593.279 Q76.1772 596.45 76.1772 601.867 Q76.1772 607.446 72.705 610.548 Q69.2328 613.626 62.9134 613.626 Q60.7374 613.626 58.4689 613.256 Q56.2236 612.886 53.8162 612.145 L53.8162 607.446 Q55.8995 608.58 58.1217 609.136 Q60.3439 609.691 62.8208 609.691 Q66.8254 609.691 69.1633 607.585 Q71.5013 605.478 71.5013 601.867 Q71.5013 598.256 69.1633 596.15 Q66.8254 594.043 62.8208 594.043 Q60.9458 594.043 59.0708 594.46 Q57.2189 594.876 55.2745 595.756 L55.2745 578.395 Z\" fill=\"#000000\" fill-rule=\"nonzero\" fill-opacity=\"1\" /><path clip-path=\"url(#clip000)\" d=\"M64.6495 381.301 Q61.5013 381.301 59.6495 383.454 Q57.8208 385.607 57.8208 389.357 Q57.8208 393.084 59.6495 395.26 Q61.5013 397.412 64.6495 397.412 Q67.7976 397.412 69.6263 395.26 Q71.4781 393.084 71.4781 389.357 Q71.4781 385.607 69.6263 383.454 Q67.7976 381.301 64.6495 381.301 M73.9318 366.649 L73.9318 370.908 Q72.1726 370.075 70.367 369.635 Q68.5846 369.195 66.8254 369.195 Q62.1958 369.195 59.7421 372.32 Q57.3115 375.445 56.9643 381.764 Q58.33 379.75 60.3902 378.686 Q62.4504 377.598 64.9272 377.598 Q70.1355 377.598 73.1448 380.769 Q76.1772 383.917 76.1772 389.357 Q76.1772 394.681 73.029 397.899 Q69.8809 401.116 64.6495 401.116 Q58.6541 401.116 55.4828 396.533 Q52.3116 391.926 52.3116 383.2 Q52.3116 375.005 56.2004 370.144 Q60.0893 365.26 66.6402 365.26 Q68.3994 365.26 70.1818 365.607 Q71.9874 365.954 73.9318 366.649 Z\" fill=\"#000000\" fill-rule=\"nonzero\" fill-opacity=\"1\" /><path clip-path=\"url(#clip000)\" d=\"M53.9551 153.375 L76.1772 153.375 L76.1772 155.365 L63.6309 187.935 L58.7467 187.935 L70.5522 157.31 L53.9551 157.31 L53.9551 153.375 Z\" fill=\"#000000\" fill-rule=\"nonzero\" fill-opacity=\"1\" /><polyline clip-path=\"url(#clip002)\" style=\"stroke:#009af9; stroke-linecap:round; stroke-linejoin:round; stroke-width:4; stroke-opacity:1; fill:none\" points=\"175.59,87.9763 179.03,93.0796 182.471,98.1663 185.911,103.236 189.351,108.29 221.163,154.248 252.975,198.842 284.786,242.115 316.598,284.104 354.833,332.928 393.068,380.017 425.395,418.522 457.722,455.867 492.839,495.161 527.955,533.171 560.329,567.111 592.704,600.027 627.412,634.215 662.121,667.298 702.334,704.294 742.547,739.908 778.284,770.441 814.021,799.958 845.359,825.033 876.697,849.376 945.031,900.018 1013.77,947.763 1089.77,997.059 1162.08,1040.78 1237.27,1083.18 1300.56,1116.61 1377.84,1154.8 1448.62,1187.41 1514,1215.65 1580.23,1242.53 1654.45,1270.72 1721.7,1294.62 1798.7,1320.17 1870,1342.22 1940.29,1362.55 2008.54,1381.04 2078.5,1398.8 2155.15,1416.95 2266.5,1441.07 2289.34,1445.72 \"/>\n",
       "<path clip-path=\"url(#clip000)\" d=\"M2001.58 198.898 L2278.07 198.898 L2278.07 95.2176 L2001.58 95.2176  Z\" fill=\"#ffffff\" fill-rule=\"evenodd\" fill-opacity=\"1\"/>\n",
       "<polyline clip-path=\"url(#clip000)\" style=\"stroke:#000000; stroke-linecap:round; stroke-linejoin:round; stroke-width:4; stroke-opacity:1; fill:none\" points=\"2001.58,198.898 2278.07,198.898 2278.07,95.2176 2001.58,95.2176 2001.58,198.898 \"/>\n",
       "<polyline clip-path=\"url(#clip000)\" style=\"stroke:#009af9; stroke-linecap:round; stroke-linejoin:round; stroke-width:4; stroke-opacity:1; fill:none\" points=\"2026.48,147.058 2175.85,147.058 \"/>\n",
       "<path clip-path=\"url(#clip000)\" d=\"M2214.59 166.745 Q2212.78 171.375 2211.07 172.787 Q2209.36 174.199 2206.49 174.199 L2203.08 174.199 L2203.08 170.634 L2205.58 170.634 Q2207.34 170.634 2208.31 169.8 Q2209.29 168.967 2210.47 165.865 L2211.23 163.921 L2200.74 138.412 L2205.26 138.412 L2213.36 158.689 L2221.46 138.412 L2225.98 138.412 L2214.59 166.745 Z\" fill=\"#000000\" fill-rule=\"nonzero\" fill-opacity=\"1\" /><path clip-path=\"url(#clip000)\" d=\"M2233.27 160.402 L2240.91 160.402 L2240.91 134.037 L2232.6 135.703 L2232.6 131.444 L2240.86 129.778 L2245.54 129.778 L2245.54 160.402 L2253.17 160.402 L2253.17 164.338 L2233.27 164.338 L2233.27 160.402 Z\" fill=\"#000000\" fill-rule=\"nonzero\" fill-opacity=\"1\" /></svg>\n"
      ],
      "text/html": [
       "<?xml version=\"1.0\" encoding=\"utf-8\"?>\n",
       "<svg xmlns=\"http://www.w3.org/2000/svg\" xmlns:xlink=\"http://www.w3.org/1999/xlink\" width=\"600\" height=\"400\" viewBox=\"0 0 2400 1600\">\n",
       "<defs>\n",
       "  <clipPath id=\"clip050\">\n",
       "    <rect x=\"0\" y=\"0\" width=\"2400\" height=\"1600\"/>\n",
       "  </clipPath>\n",
       "</defs>\n",
       "<path clip-path=\"url(#clip050)\" d=\"M0 1600 L2400 1600 L2400 0 L0 0  Z\" fill=\"#ffffff\" fill-rule=\"evenodd\" fill-opacity=\"1\"/>\n",
       "<defs>\n",
       "  <clipPath id=\"clip051\">\n",
       "    <rect x=\"480\" y=\"0\" width=\"1681\" height=\"1600\"/>\n",
       "  </clipPath>\n",
       "</defs>\n",
       "<path clip-path=\"url(#clip050)\" d=\"M112.177 1486.45 L2352.76 1486.45 L2352.76 47.2441 L112.177 47.2441  Z\" fill=\"#ffffff\" fill-rule=\"evenodd\" fill-opacity=\"1\"/>\n",
       "<defs>\n",
       "  <clipPath id=\"clip052\">\n",
       "    <rect x=\"112\" y=\"47\" width=\"2242\" height=\"1440\"/>\n",
       "  </clipPath>\n",
       "</defs>\n",
       "<polyline clip-path=\"url(#clip052)\" style=\"stroke:#000000; stroke-linecap:round; stroke-linejoin:round; stroke-width:2; stroke-opacity:0.1; fill:none\" points=\"175.59,1486.45 175.59,47.2441 \"/>\n",
       "<polyline clip-path=\"url(#clip052)\" style=\"stroke:#000000; stroke-linecap:round; stroke-linejoin:round; stroke-width:2; stroke-opacity:0.1; fill:none\" points=\"704.028,1486.45 704.028,47.2441 \"/>\n",
       "<polyline clip-path=\"url(#clip052)\" style=\"stroke:#000000; stroke-linecap:round; stroke-linejoin:round; stroke-width:2; stroke-opacity:0.1; fill:none\" points=\"1232.47,1486.45 1232.47,47.2441 \"/>\n",
       "<polyline clip-path=\"url(#clip052)\" style=\"stroke:#000000; stroke-linecap:round; stroke-linejoin:round; stroke-width:2; stroke-opacity:0.1; fill:none\" points=\"1760.9,1486.45 1760.9,47.2441 \"/>\n",
       "<polyline clip-path=\"url(#clip052)\" style=\"stroke:#000000; stroke-linecap:round; stroke-linejoin:round; stroke-width:2; stroke-opacity:0.1; fill:none\" points=\"2289.34,1486.45 2289.34,47.2441 \"/>\n",
       "<polyline clip-path=\"url(#clip050)\" style=\"stroke:#000000; stroke-linecap:round; stroke-linejoin:round; stroke-width:4; stroke-opacity:1; fill:none\" points=\"112.177,1486.45 2352.76,1486.45 \"/>\n",
       "<polyline clip-path=\"url(#clip050)\" style=\"stroke:#000000; stroke-linecap:round; stroke-linejoin:round; stroke-width:4; stroke-opacity:1; fill:none\" points=\"175.59,1486.45 175.59,1467.55 \"/>\n",
       "<polyline clip-path=\"url(#clip050)\" style=\"stroke:#000000; stroke-linecap:round; stroke-linejoin:round; stroke-width:4; stroke-opacity:1; fill:none\" points=\"704.028,1486.45 704.028,1467.55 \"/>\n",
       "<polyline clip-path=\"url(#clip050)\" style=\"stroke:#000000; stroke-linecap:round; stroke-linejoin:round; stroke-width:4; stroke-opacity:1; fill:none\" points=\"1232.47,1486.45 1232.47,1467.55 \"/>\n",
       "<polyline clip-path=\"url(#clip050)\" style=\"stroke:#000000; stroke-linecap:round; stroke-linejoin:round; stroke-width:4; stroke-opacity:1; fill:none\" points=\"1760.9,1486.45 1760.9,1467.55 \"/>\n",
       "<polyline clip-path=\"url(#clip050)\" style=\"stroke:#000000; stroke-linecap:round; stroke-linejoin:round; stroke-width:4; stroke-opacity:1; fill:none\" points=\"2289.34,1486.45 2289.34,1467.55 \"/>\n",
       "<path clip-path=\"url(#clip050)\" d=\"M152.974 1517.37 Q149.363 1517.37 147.534 1520.93 Q145.729 1524.47 145.729 1531.6 Q145.729 1538.71 147.534 1542.27 Q149.363 1545.82 152.974 1545.82 Q156.608 1545.82 158.414 1542.27 Q160.243 1538.71 160.243 1531.6 Q160.243 1524.47 158.414 1520.93 Q156.608 1517.37 152.974 1517.37 M152.974 1513.66 Q158.784 1513.66 161.84 1518.27 Q164.919 1522.85 164.919 1531.6 Q164.919 1540.33 161.84 1544.94 Q158.784 1549.52 152.974 1549.52 Q147.164 1549.52 144.085 1544.94 Q141.03 1540.33 141.03 1531.6 Q141.03 1522.85 144.085 1518.27 Q147.164 1513.66 152.974 1513.66 Z\" fill=\"#000000\" fill-rule=\"nonzero\" fill-opacity=\"1\" /><path clip-path=\"url(#clip050)\" d=\"M173.136 1542.97 L178.02 1542.97 L178.02 1548.85 L173.136 1548.85 L173.136 1542.97 Z\" fill=\"#000000\" fill-rule=\"nonzero\" fill-opacity=\"1\" /><path clip-path=\"url(#clip050)\" d=\"M198.205 1517.37 Q194.594 1517.37 192.766 1520.93 Q190.96 1524.47 190.96 1531.6 Q190.96 1538.71 192.766 1542.27 Q194.594 1545.82 198.205 1545.82 Q201.84 1545.82 203.645 1542.27 Q205.474 1538.71 205.474 1531.6 Q205.474 1524.47 203.645 1520.93 Q201.84 1517.37 198.205 1517.37 M198.205 1513.66 Q204.016 1513.66 207.071 1518.27 Q210.15 1522.85 210.15 1531.6 Q210.15 1540.33 207.071 1544.94 Q204.016 1549.52 198.205 1549.52 Q192.395 1549.52 189.317 1544.94 Q186.261 1540.33 186.261 1531.6 Q186.261 1522.85 189.317 1518.27 Q192.395 1513.66 198.205 1513.66 Z\" fill=\"#000000\" fill-rule=\"nonzero\" fill-opacity=\"1\" /><path clip-path=\"url(#clip050)\" d=\"M681.91 1517.37 Q678.299 1517.37 676.47 1520.93 Q674.665 1524.47 674.665 1531.6 Q674.665 1538.71 676.47 1542.27 Q678.299 1545.82 681.91 1545.82 Q685.544 1545.82 687.35 1542.27 Q689.179 1538.71 689.179 1531.6 Q689.179 1524.47 687.35 1520.93 Q685.544 1517.37 681.91 1517.37 M681.91 1513.66 Q687.72 1513.66 690.776 1518.27 Q693.855 1522.85 693.855 1531.6 Q693.855 1540.33 690.776 1544.94 Q687.72 1549.52 681.91 1549.52 Q676.1 1549.52 673.021 1544.94 Q669.966 1540.33 669.966 1531.6 Q669.966 1522.85 673.021 1518.27 Q676.1 1513.66 681.91 1513.66 Z\" fill=\"#000000\" fill-rule=\"nonzero\" fill-opacity=\"1\" /><path clip-path=\"url(#clip050)\" d=\"M702.072 1542.97 L706.956 1542.97 L706.956 1548.85 L702.072 1548.85 L702.072 1542.97 Z\" fill=\"#000000\" fill-rule=\"nonzero\" fill-opacity=\"1\" /><path clip-path=\"url(#clip050)\" d=\"M717.188 1514.29 L735.544 1514.29 L735.544 1518.22 L721.47 1518.22 L721.47 1526.7 Q722.489 1526.35 723.507 1526.19 Q724.526 1526 725.544 1526 Q731.331 1526 734.711 1529.17 Q738.09 1532.34 738.09 1537.76 Q738.09 1543.34 734.618 1546.44 Q731.146 1549.52 724.827 1549.52 Q722.651 1549.52 720.382 1549.15 Q718.137 1548.78 715.729 1548.04 L715.729 1543.34 Q717.813 1544.47 720.035 1545.03 Q722.257 1545.58 724.734 1545.58 Q728.739 1545.58 731.077 1543.48 Q733.415 1541.37 733.415 1537.76 Q733.415 1534.15 731.077 1532.04 Q728.739 1529.94 724.734 1529.94 Q722.859 1529.94 720.984 1530.35 Q719.132 1530.77 717.188 1531.65 L717.188 1514.29 Z\" fill=\"#000000\" fill-rule=\"nonzero\" fill-opacity=\"1\" /><path clip-path=\"url(#clip050)\" d=\"M1199.62 1544.91 L1207.26 1544.91 L1207.26 1518.55 L1198.95 1520.21 L1198.95 1515.95 L1207.21 1514.29 L1211.89 1514.29 L1211.89 1544.91 L1219.53 1544.91 L1219.53 1548.85 L1199.62 1548.85 L1199.62 1544.91 Z\" fill=\"#000000\" fill-rule=\"nonzero\" fill-opacity=\"1\" /><path clip-path=\"url(#clip050)\" d=\"M1228.97 1542.97 L1233.86 1542.97 L1233.86 1548.85 L1228.97 1548.85 L1228.97 1542.97 Z\" fill=\"#000000\" fill-rule=\"nonzero\" fill-opacity=\"1\" /><path clip-path=\"url(#clip050)\" d=\"M1254.04 1517.37 Q1250.43 1517.37 1248.6 1520.93 Q1246.8 1524.47 1246.8 1531.6 Q1246.8 1538.71 1248.6 1542.27 Q1250.43 1545.82 1254.04 1545.82 Q1257.67 1545.82 1259.48 1542.27 Q1261.31 1538.71 1261.31 1531.6 Q1261.31 1524.47 1259.48 1520.93 Q1257.67 1517.37 1254.04 1517.37 M1254.04 1513.66 Q1259.85 1513.66 1262.91 1518.27 Q1265.98 1522.85 1265.98 1531.6 Q1265.98 1540.33 1262.91 1544.94 Q1259.85 1549.52 1254.04 1549.52 Q1248.23 1549.52 1245.15 1544.94 Q1242.1 1540.33 1242.1 1531.6 Q1242.1 1522.85 1245.15 1518.27 Q1248.23 1513.66 1254.04 1513.66 Z\" fill=\"#000000\" fill-rule=\"nonzero\" fill-opacity=\"1\" /><path clip-path=\"url(#clip050)\" d=\"M1728.56 1544.91 L1736.19 1544.91 L1736.19 1518.55 L1727.88 1520.21 L1727.88 1515.95 L1736.15 1514.29 L1740.82 1514.29 L1740.82 1544.91 L1748.46 1544.91 L1748.46 1548.85 L1728.56 1548.85 L1728.56 1544.91 Z\" fill=\"#000000\" fill-rule=\"nonzero\" fill-opacity=\"1\" /><path clip-path=\"url(#clip050)\" d=\"M1757.91 1542.97 L1762.79 1542.97 L1762.79 1548.85 L1757.91 1548.85 L1757.91 1542.97 Z\" fill=\"#000000\" fill-rule=\"nonzero\" fill-opacity=\"1\" /><path clip-path=\"url(#clip050)\" d=\"M1773.02 1514.29 L1791.38 1514.29 L1791.38 1518.22 L1777.31 1518.22 L1777.31 1526.7 Q1778.32 1526.35 1779.34 1526.19 Q1780.36 1526 1781.38 1526 Q1787.17 1526 1790.55 1529.17 Q1793.93 1532.34 1793.93 1537.76 Q1793.93 1543.34 1790.45 1546.44 Q1786.98 1549.52 1780.66 1549.52 Q1778.49 1549.52 1776.22 1549.15 Q1773.97 1548.78 1771.56 1548.04 L1771.56 1543.34 Q1773.65 1544.47 1775.87 1545.03 Q1778.09 1545.58 1780.57 1545.58 Q1784.57 1545.58 1786.91 1543.48 Q1789.25 1541.37 1789.25 1537.76 Q1789.25 1534.15 1786.91 1532.04 Q1784.57 1529.94 1780.57 1529.94 Q1778.69 1529.94 1776.82 1530.35 Q1774.97 1530.77 1773.02 1531.65 L1773.02 1514.29 Z\" fill=\"#000000\" fill-rule=\"nonzero\" fill-opacity=\"1\" /><path clip-path=\"url(#clip050)\" d=\"M2260.58 1544.91 L2276.9 1544.91 L2276.9 1548.85 L2254.96 1548.85 L2254.96 1544.91 Q2257.62 1542.16 2262.2 1537.53 Q2266.81 1532.88 2267.99 1531.53 Q2270.23 1529.01 2271.11 1527.27 Q2272.02 1525.51 2272.02 1523.82 Q2272.02 1521.07 2270.07 1519.33 Q2268.15 1517.6 2265.05 1517.6 Q2262.85 1517.6 2260.4 1518.36 Q2257.97 1519.13 2255.19 1520.68 L2255.19 1515.95 Q2258.01 1514.82 2260.47 1514.24 Q2262.92 1513.66 2264.96 1513.66 Q2270.33 1513.66 2273.52 1516.35 Q2276.72 1519.03 2276.72 1523.52 Q2276.72 1525.65 2275.91 1527.57 Q2275.12 1529.47 2273.01 1532.07 Q2272.43 1532.74 2269.33 1535.95 Q2266.23 1539.15 2260.58 1544.91 Z\" fill=\"#000000\" fill-rule=\"nonzero\" fill-opacity=\"1\" /><path clip-path=\"url(#clip050)\" d=\"M2286.72 1542.97 L2291.6 1542.97 L2291.6 1548.85 L2286.72 1548.85 L2286.72 1542.97 Z\" fill=\"#000000\" fill-rule=\"nonzero\" fill-opacity=\"1\" /><path clip-path=\"url(#clip050)\" d=\"M2311.79 1517.37 Q2308.17 1517.37 2306.35 1520.93 Q2304.54 1524.47 2304.54 1531.6 Q2304.54 1538.71 2306.35 1542.27 Q2308.17 1545.82 2311.79 1545.82 Q2315.42 1545.82 2317.23 1542.27 Q2319.05 1538.71 2319.05 1531.6 Q2319.05 1524.47 2317.23 1520.93 Q2315.42 1517.37 2311.79 1517.37 M2311.79 1513.66 Q2317.6 1513.66 2320.65 1518.27 Q2323.73 1522.85 2323.73 1531.6 Q2323.73 1540.33 2320.65 1544.94 Q2317.6 1549.52 2311.79 1549.52 Q2305.98 1549.52 2302.9 1544.94 Q2299.84 1540.33 2299.84 1531.6 Q2299.84 1522.85 2302.9 1518.27 Q2305.98 1513.66 2311.79 1513.66 Z\" fill=\"#000000\" fill-rule=\"nonzero\" fill-opacity=\"1\" /><polyline clip-path=\"url(#clip052)\" style=\"stroke:#000000; stroke-linecap:round; stroke-linejoin:round; stroke-width:2; stroke-opacity:0.1; fill:none\" points=\"112.177,1445.72 2352.76,1445.72 \"/>\n",
       "<polyline clip-path=\"url(#clip052)\" style=\"stroke:#000000; stroke-linecap:round; stroke-linejoin:round; stroke-width:2; stroke-opacity:0.1; fill:none\" points=\"112.177,1233.21 2352.76,1233.21 \"/>\n",
       "<polyline clip-path=\"url(#clip052)\" style=\"stroke:#000000; stroke-linecap:round; stroke-linejoin:round; stroke-width:2; stroke-opacity:0.1; fill:none\" points=\"112.177,1020.7 2352.76,1020.7 \"/>\n",
       "<polyline clip-path=\"url(#clip052)\" style=\"stroke:#000000; stroke-linecap:round; stroke-linejoin:round; stroke-width:2; stroke-opacity:0.1; fill:none\" points=\"112.177,808.185 2352.76,808.185 \"/>\n",
       "<polyline clip-path=\"url(#clip052)\" style=\"stroke:#000000; stroke-linecap:round; stroke-linejoin:round; stroke-width:2; stroke-opacity:0.1; fill:none\" points=\"112.177,595.675 2352.76,595.675 \"/>\n",
       "<polyline clip-path=\"url(#clip052)\" style=\"stroke:#000000; stroke-linecap:round; stroke-linejoin:round; stroke-width:2; stroke-opacity:0.1; fill:none\" points=\"112.177,383.165 2352.76,383.165 \"/>\n",
       "<polyline clip-path=\"url(#clip052)\" style=\"stroke:#000000; stroke-linecap:round; stroke-linejoin:round; stroke-width:2; stroke-opacity:0.1; fill:none\" points=\"112.177,170.655 2352.76,170.655 \"/>\n",
       "<polyline clip-path=\"url(#clip050)\" style=\"stroke:#000000; stroke-linecap:round; stroke-linejoin:round; stroke-width:4; stroke-opacity:1; fill:none\" points=\"112.177,1486.45 112.177,47.2441 \"/>\n",
       "<polyline clip-path=\"url(#clip050)\" style=\"stroke:#000000; stroke-linecap:round; stroke-linejoin:round; stroke-width:4; stroke-opacity:1; fill:none\" points=\"112.177,1445.72 131.075,1445.72 \"/>\n",
       "<polyline clip-path=\"url(#clip050)\" style=\"stroke:#000000; stroke-linecap:round; stroke-linejoin:round; stroke-width:4; stroke-opacity:1; fill:none\" points=\"112.177,1233.21 131.075,1233.21 \"/>\n",
       "<polyline clip-path=\"url(#clip050)\" style=\"stroke:#000000; stroke-linecap:round; stroke-linejoin:round; stroke-width:4; stroke-opacity:1; fill:none\" points=\"112.177,1020.7 131.075,1020.7 \"/>\n",
       "<polyline clip-path=\"url(#clip050)\" style=\"stroke:#000000; stroke-linecap:round; stroke-linejoin:round; stroke-width:4; stroke-opacity:1; fill:none\" points=\"112.177,808.185 131.075,808.185 \"/>\n",
       "<polyline clip-path=\"url(#clip050)\" style=\"stroke:#000000; stroke-linecap:round; stroke-linejoin:round; stroke-width:4; stroke-opacity:1; fill:none\" points=\"112.177,595.675 131.075,595.675 \"/>\n",
       "<polyline clip-path=\"url(#clip050)\" style=\"stroke:#000000; stroke-linecap:round; stroke-linejoin:round; stroke-width:4; stroke-opacity:1; fill:none\" points=\"112.177,383.165 131.075,383.165 \"/>\n",
       "<polyline clip-path=\"url(#clip050)\" style=\"stroke:#000000; stroke-linecap:round; stroke-linejoin:round; stroke-width:4; stroke-opacity:1; fill:none\" points=\"112.177,170.655 131.075,170.655 \"/>\n",
       "<path clip-path=\"url(#clip050)\" d=\"M56.2699 1459.06 L63.9087 1459.06 L63.9087 1432.69 L55.5986 1434.36 L55.5986 1430.1 L63.8624 1428.44 L68.5383 1428.44 L68.5383 1459.06 L76.1772 1459.06 L76.1772 1463 L56.2699 1463 L56.2699 1459.06 Z\" fill=\"#000000\" fill-rule=\"nonzero\" fill-opacity=\"1\" /><path clip-path=\"url(#clip050)\" d=\"M59.8578 1246.55 L76.1772 1246.55 L76.1772 1250.49 L54.2328 1250.49 L54.2328 1246.55 Q56.8949 1243.8 61.4782 1239.17 Q66.0846 1234.51 67.2652 1233.17 Q69.5105 1230.65 70.3902 1228.91 Q71.2929 1227.15 71.2929 1225.46 Q71.2929 1222.71 69.3485 1220.97 Q67.4272 1219.24 64.3254 1219.24 Q62.1263 1219.24 59.6726 1220 Q57.2421 1220.76 54.4643 1222.31 L54.4643 1217.59 Q57.2884 1216.46 59.7421 1215.88 Q62.1958 1215.3 64.2328 1215.3 Q69.6031 1215.3 72.7976 1217.99 Q75.992 1220.67 75.992 1225.16 Q75.992 1227.29 75.1818 1229.21 Q74.3948 1231.11 72.2883 1233.7 Q71.7096 1234.37 68.6078 1237.59 Q65.5059 1240.79 59.8578 1246.55 Z\" fill=\"#000000\" fill-rule=\"nonzero\" fill-opacity=\"1\" /><path clip-path=\"url(#clip050)\" d=\"M69.0476 1019.34 Q72.404 1020.06 74.279 1022.33 Q76.1772 1024.6 76.1772 1027.93 Q76.1772 1033.04 72.6587 1035.85 Q69.1402 1038.65 62.6587 1038.65 Q60.4828 1038.65 58.168 1038.21 Q55.8764 1037.79 53.4227 1036.93 L53.4227 1032.42 Q55.3671 1033.55 57.6819 1034.13 Q59.9967 1034.71 62.5198 1034.71 Q66.918 1034.71 69.2096 1032.98 Q71.5244 1031.24 71.5244 1027.93 Q71.5244 1024.87 69.3717 1023.16 Q67.242 1021.42 63.4226 1021.42 L59.3949 1021.42 L59.3949 1017.58 L63.6078 1017.58 Q67.0569 1017.58 68.8855 1016.22 Q70.7142 1014.83 70.7142 1012.23 Q70.7142 1009.57 68.8161 1008.16 Q66.9411 1006.73 63.4226 1006.73 Q61.5013 1006.73 59.3023 1007.14 Q57.1032 1007.56 54.4643 1008.44 L54.4643 1004.27 Q57.1264 1003.53 59.4412 1003.16 Q61.7791 1002.79 63.8393 1002.79 Q69.1633 1002.79 72.2652 1005.22 Q75.367 1007.63 75.367 1011.75 Q75.367 1014.62 73.7235 1016.61 Q72.08 1018.58 69.0476 1019.34 Z\" fill=\"#000000\" fill-rule=\"nonzero\" fill-opacity=\"1\" /><path clip-path=\"url(#clip050)\" d=\"M66.5939 794.979 L54.7884 813.428 L66.5939 813.428 L66.5939 794.979 M65.367 790.905 L71.2466 790.905 L71.2466 813.428 L76.1772 813.428 L76.1772 817.317 L71.2466 817.317 L71.2466 825.465 L66.5939 825.465 L66.5939 817.317 L50.9921 817.317 L50.9921 812.803 L65.367 790.905 Z\" fill=\"#000000\" fill-rule=\"nonzero\" fill-opacity=\"1\" /><path clip-path=\"url(#clip050)\" d=\"M55.2745 578.395 L73.6309 578.395 L73.6309 582.33 L59.5569 582.33 L59.5569 590.802 Q60.5754 590.455 61.5939 590.293 Q62.6124 590.108 63.6309 590.108 Q69.418 590.108 72.7976 593.279 Q76.1772 596.45 76.1772 601.867 Q76.1772 607.446 72.705 610.548 Q69.2328 613.626 62.9134 613.626 Q60.7374 613.626 58.4689 613.256 Q56.2236 612.886 53.8162 612.145 L53.8162 607.446 Q55.8995 608.58 58.1217 609.136 Q60.3439 609.691 62.8208 609.691 Q66.8254 609.691 69.1633 607.585 Q71.5013 605.478 71.5013 601.867 Q71.5013 598.256 69.1633 596.15 Q66.8254 594.043 62.8208 594.043 Q60.9458 594.043 59.0708 594.46 Q57.2189 594.876 55.2745 595.756 L55.2745 578.395 Z\" fill=\"#000000\" fill-rule=\"nonzero\" fill-opacity=\"1\" /><path clip-path=\"url(#clip050)\" d=\"M64.6495 381.301 Q61.5013 381.301 59.6495 383.454 Q57.8208 385.607 57.8208 389.357 Q57.8208 393.084 59.6495 395.26 Q61.5013 397.412 64.6495 397.412 Q67.7976 397.412 69.6263 395.26 Q71.4781 393.084 71.4781 389.357 Q71.4781 385.607 69.6263 383.454 Q67.7976 381.301 64.6495 381.301 M73.9318 366.649 L73.9318 370.908 Q72.1726 370.075 70.367 369.635 Q68.5846 369.195 66.8254 369.195 Q62.1958 369.195 59.7421 372.32 Q57.3115 375.445 56.9643 381.764 Q58.33 379.75 60.3902 378.686 Q62.4504 377.598 64.9272 377.598 Q70.1355 377.598 73.1448 380.769 Q76.1772 383.917 76.1772 389.357 Q76.1772 394.681 73.029 397.899 Q69.8809 401.116 64.6495 401.116 Q58.6541 401.116 55.4828 396.533 Q52.3116 391.926 52.3116 383.2 Q52.3116 375.005 56.2004 370.144 Q60.0893 365.26 66.6402 365.26 Q68.3994 365.26 70.1818 365.607 Q71.9874 365.954 73.9318 366.649 Z\" fill=\"#000000\" fill-rule=\"nonzero\" fill-opacity=\"1\" /><path clip-path=\"url(#clip050)\" d=\"M53.9551 153.375 L76.1772 153.375 L76.1772 155.365 L63.6309 187.935 L58.7467 187.935 L70.5522 157.31 L53.9551 157.31 L53.9551 153.375 Z\" fill=\"#000000\" fill-rule=\"nonzero\" fill-opacity=\"1\" /><polyline clip-path=\"url(#clip052)\" style=\"stroke:#009af9; stroke-linecap:round; stroke-linejoin:round; stroke-width:4; stroke-opacity:1; fill:none\" points=\"175.59,87.9763 179.03,93.0796 182.471,98.1663 185.911,103.236 189.351,108.29 221.163,154.248 252.975,198.842 284.786,242.115 316.598,284.104 354.833,332.928 393.068,380.017 425.395,418.522 457.722,455.867 492.839,495.161 527.955,533.171 560.329,567.111 592.704,600.027 627.412,634.215 662.121,667.298 702.334,704.294 742.547,739.908 778.284,770.441 814.021,799.958 845.359,825.033 876.697,849.376 945.031,900.018 1013.77,947.763 1089.77,997.059 1162.08,1040.78 1237.27,1083.18 1300.56,1116.61 1377.84,1154.8 1448.62,1187.41 1514,1215.65 1580.23,1242.53 1654.45,1270.72 1721.7,1294.62 1798.7,1320.17 1870,1342.22 1940.29,1362.55 2008.54,1381.04 2078.5,1398.8 2155.15,1416.95 2266.5,1441.07 2289.34,1445.72 \"/>\n",
       "<path clip-path=\"url(#clip050)\" d=\"M2001.58 198.898 L2278.07 198.898 L2278.07 95.2176 L2001.58 95.2176  Z\" fill=\"#ffffff\" fill-rule=\"evenodd\" fill-opacity=\"1\"/>\n",
       "<polyline clip-path=\"url(#clip050)\" style=\"stroke:#000000; stroke-linecap:round; stroke-linejoin:round; stroke-width:4; stroke-opacity:1; fill:none\" points=\"2001.58,198.898 2278.07,198.898 2278.07,95.2176 2001.58,95.2176 2001.58,198.898 \"/>\n",
       "<polyline clip-path=\"url(#clip050)\" style=\"stroke:#009af9; stroke-linecap:round; stroke-linejoin:round; stroke-width:4; stroke-opacity:1; fill:none\" points=\"2026.48,147.058 2175.85,147.058 \"/>\n",
       "<path clip-path=\"url(#clip050)\" d=\"M2214.59 166.745 Q2212.78 171.375 2211.07 172.787 Q2209.36 174.199 2206.49 174.199 L2203.08 174.199 L2203.08 170.634 L2205.58 170.634 Q2207.34 170.634 2208.31 169.8 Q2209.29 168.967 2210.47 165.865 L2211.23 163.921 L2200.74 138.412 L2205.26 138.412 L2213.36 158.689 L2221.46 138.412 L2225.98 138.412 L2214.59 166.745 Z\" fill=\"#000000\" fill-rule=\"nonzero\" fill-opacity=\"1\" /><path clip-path=\"url(#clip050)\" d=\"M2233.27 160.402 L2240.91 160.402 L2240.91 134.037 L2232.6 135.703 L2232.6 131.444 L2240.86 129.778 L2245.54 129.778 L2245.54 160.402 L2253.17 160.402 L2253.17 164.338 L2233.27 164.338 L2233.27 160.402 Z\" fill=\"#000000\" fill-rule=\"nonzero\" fill-opacity=\"1\" /></svg>\n"
      ]
     },
     "execution_count": 20,
     "metadata": {},
     "output_type": "execute_result"
    }
   ],
   "source": [
    "plot(d) # uses the generic code!"
   ]
  },
  {
   "cell_type": "markdown",
   "id": "af2d97ed",
   "metadata": {},
   "source": [
    "A few things to point out\n",
    "\n",
    "* Even if it worked for `StatsPlots`, our implementation is incomplete, as we haven't fulfilled all of the requirements of a `Distribution`.\n",
    "* We also did not implement the `rand` function, which means we are breaking the implicit contract of the `Sampleable` abstract type.\n",
    "* It turns out that there is a better way to do this precise thing already built into `Distributions`."
   ]
  },
  {
   "cell_type": "code",
   "execution_count": 21,
   "id": "02c34f22",
   "metadata": {},
   "outputs": [
    {
     "name": "stdout",
     "output_type": "stream",
     "text": [
      "typeof(d) = Truncated{Exponential{Float64}, Continuous, Float64, Float64, Float64}\n"
     ]
    },
    {
     "data": {
      "image/png": "[encoded data removed]",
      "image/svg+xml": [
       "<?xml version=\"1.0\" encoding=\"utf-8\"?>\n",
       "<svg xmlns=\"http://www.w3.org/2000/svg\" xmlns:xlink=\"http://www.w3.org/1999/xlink\" width=\"600\" height=\"400\" viewBox=\"0 0 2400 1600\">\n",
       "<defs>\n",
       "  <clipPath id=\"clip090\">\n",
       "    <rect x=\"0\" y=\"0\" width=\"2400\" height=\"1600\"/>\n",
       "  </clipPath>\n",
       "</defs>\n",
       "<path clip-path=\"url(#clip090)\" d=\"M0 1600 L2400 1600 L2400 0 L0 0  Z\" fill=\"#ffffff\" fill-rule=\"evenodd\" fill-opacity=\"1\"/>\n",
       "<defs>\n",
       "  <clipPath id=\"clip091\">\n",
       "    <rect x=\"480\" y=\"0\" width=\"1681\" height=\"1600\"/>\n",
       "  </clipPath>\n",
       "</defs>\n",
       "<path clip-path=\"url(#clip090)\" d=\"M184.191 1486.45 L2352.76 1486.45 L2352.76 47.2441 L184.191 47.2441  Z\" fill=\"#ffffff\" fill-rule=\"evenodd\" fill-opacity=\"1\"/>\n",
       "<defs>\n",
       "  <clipPath id=\"clip092\">\n",
       "    <rect x=\"184\" y=\"47\" width=\"2170\" height=\"1440\"/>\n",
       "  </clipPath>\n",
       "</defs>\n",
       "<polyline clip-path=\"url(#clip092)\" style=\"stroke:#000000; stroke-linecap:round; stroke-linejoin:round; stroke-width:2; stroke-opacity:0.1; fill:none\" points=\"245.565,1486.45 245.565,47.2441 \"/>\n",
       "<polyline clip-path=\"url(#clip092)\" style=\"stroke:#000000; stroke-linecap:round; stroke-linejoin:round; stroke-width:2; stroke-opacity:0.1; fill:none\" points=\"757.019,1486.45 757.019,47.2441 \"/>\n",
       "<polyline clip-path=\"url(#clip092)\" style=\"stroke:#000000; stroke-linecap:round; stroke-linejoin:round; stroke-width:2; stroke-opacity:0.1; fill:none\" points=\"1268.47,1486.45 1268.47,47.2441 \"/>\n",
       "<polyline clip-path=\"url(#clip092)\" style=\"stroke:#000000; stroke-linecap:round; stroke-linejoin:round; stroke-width:2; stroke-opacity:0.1; fill:none\" points=\"1779.93,1486.45 1779.93,47.2441 \"/>\n",
       "<polyline clip-path=\"url(#clip092)\" style=\"stroke:#000000; stroke-linecap:round; stroke-linejoin:round; stroke-width:2; stroke-opacity:0.1; fill:none\" points=\"2291.38,1486.45 2291.38,47.2441 \"/>\n",
       "<polyline clip-path=\"url(#clip090)\" style=\"stroke:#000000; stroke-linecap:round; stroke-linejoin:round; stroke-width:4; stroke-opacity:1; fill:none\" points=\"184.191,1486.45 2352.76,1486.45 \"/>\n",
       "<polyline clip-path=\"url(#clip090)\" style=\"stroke:#000000; stroke-linecap:round; stroke-linejoin:round; stroke-width:4; stroke-opacity:1; fill:none\" points=\"245.565,1486.45 245.565,1467.55 \"/>\n",
       "<polyline clip-path=\"url(#clip090)\" style=\"stroke:#000000; stroke-linecap:round; stroke-linejoin:round; stroke-width:4; stroke-opacity:1; fill:none\" points=\"757.019,1486.45 757.019,1467.55 \"/>\n",
       "<polyline clip-path=\"url(#clip090)\" style=\"stroke:#000000; stroke-linecap:round; stroke-linejoin:round; stroke-width:4; stroke-opacity:1; fill:none\" points=\"1268.47,1486.45 1268.47,1467.55 \"/>\n",
       "<polyline clip-path=\"url(#clip090)\" style=\"stroke:#000000; stroke-linecap:round; stroke-linejoin:round; stroke-width:4; stroke-opacity:1; fill:none\" points=\"1779.93,1486.45 1779.93,1467.55 \"/>\n",
       "<polyline clip-path=\"url(#clip090)\" style=\"stroke:#000000; stroke-linecap:round; stroke-linejoin:round; stroke-width:4; stroke-opacity:1; fill:none\" points=\"2291.38,1486.45 2291.38,1467.55 \"/>\n",
       "<path clip-path=\"url(#clip090)\" d=\"M222.95 1517.37 Q219.338 1517.37 217.51 1520.93 Q215.704 1524.47 215.704 1531.6 Q215.704 1538.71 217.51 1542.27 Q219.338 1545.82 222.95 1545.82 Q226.584 1545.82 228.389 1542.27 Q230.218 1538.71 230.218 1531.6 Q230.218 1524.47 228.389 1520.93 Q226.584 1517.37 222.95 1517.37 M222.95 1513.66 Q228.76 1513.66 231.815 1518.27 Q234.894 1522.85 234.894 1531.6 Q234.894 1540.33 231.815 1544.94 Q228.76 1549.52 222.95 1549.52 Q217.139 1549.52 214.061 1544.94 Q211.005 1540.33 211.005 1531.6 Q211.005 1522.85 214.061 1518.27 Q217.139 1513.66 222.95 1513.66 Z\" fill=\"#000000\" fill-rule=\"nonzero\" fill-opacity=\"1\" /><path clip-path=\"url(#clip090)\" d=\"M243.111 1542.97 L247.996 1542.97 L247.996 1548.85 L243.111 1548.85 L243.111 1542.97 Z\" fill=\"#000000\" fill-rule=\"nonzero\" fill-opacity=\"1\" /><path clip-path=\"url(#clip090)\" d=\"M268.181 1517.37 Q264.57 1517.37 262.741 1520.93 Q260.935 1524.47 260.935 1531.6 Q260.935 1538.71 262.741 1542.27 Q264.57 1545.82 268.181 1545.82 Q271.815 1545.82 273.621 1542.27 Q275.449 1538.71 275.449 1531.6 Q275.449 1524.47 273.621 1520.93 Q271.815 1517.37 268.181 1517.37 M268.181 1513.66 Q273.991 1513.66 277.046 1518.27 Q280.125 1522.85 280.125 1531.6 Q280.125 1540.33 277.046 1544.94 Q273.991 1549.52 268.181 1549.52 Q262.371 1549.52 259.292 1544.94 Q256.236 1540.33 256.236 1531.6 Q256.236 1522.85 259.292 1518.27 Q262.371 1513.66 268.181 1513.66 Z\" fill=\"#000000\" fill-rule=\"nonzero\" fill-opacity=\"1\" /><path clip-path=\"url(#clip090)\" d=\"M734.901 1517.37 Q731.29 1517.37 729.462 1520.93 Q727.656 1524.47 727.656 1531.6 Q727.656 1538.71 729.462 1542.27 Q731.29 1545.82 734.901 1545.82 Q738.536 1545.82 740.341 1542.27 Q742.17 1538.71 742.17 1531.6 Q742.17 1524.47 740.341 1520.93 Q738.536 1517.37 734.901 1517.37 M734.901 1513.66 Q740.711 1513.66 743.767 1518.27 Q746.846 1522.85 746.846 1531.6 Q746.846 1540.33 743.767 1544.94 Q740.711 1549.52 734.901 1549.52 Q729.091 1549.52 726.012 1544.94 Q722.957 1540.33 722.957 1531.6 Q722.957 1522.85 726.012 1518.27 Q729.091 1513.66 734.901 1513.66 Z\" fill=\"#000000\" fill-rule=\"nonzero\" fill-opacity=\"1\" /><path clip-path=\"url(#clip090)\" d=\"M755.063 1542.97 L759.947 1542.97 L759.947 1548.85 L755.063 1548.85 L755.063 1542.97 Z\" fill=\"#000000\" fill-rule=\"nonzero\" fill-opacity=\"1\" /><path clip-path=\"url(#clip090)\" d=\"M770.179 1514.29 L788.535 1514.29 L788.535 1518.22 L774.461 1518.22 L774.461 1526.7 Q775.48 1526.35 776.498 1526.19 Q777.517 1526 778.535 1526 Q784.322 1526 787.702 1529.17 Q791.082 1532.34 791.082 1537.76 Q791.082 1543.34 787.609 1546.44 Q784.137 1549.52 777.818 1549.52 Q775.642 1549.52 773.373 1549.15 Q771.128 1548.78 768.721 1548.04 L768.721 1543.34 Q770.804 1544.47 773.026 1545.03 Q775.248 1545.58 777.725 1545.58 Q781.73 1545.58 784.068 1543.48 Q786.406 1541.37 786.406 1537.76 Q786.406 1534.15 784.068 1532.04 Q781.73 1529.94 777.725 1529.94 Q775.85 1529.94 773.975 1530.35 Q772.123 1530.77 770.179 1531.65 L770.179 1514.29 Z\" fill=\"#000000\" fill-rule=\"nonzero\" fill-opacity=\"1\" /><path clip-path=\"url(#clip090)\" d=\"M1235.63 1544.91 L1243.27 1544.91 L1243.27 1518.55 L1234.95 1520.21 L1234.95 1515.95 L1243.22 1514.29 L1247.89 1514.29 L1247.89 1544.91 L1255.53 1544.91 L1255.53 1548.85 L1235.63 1548.85 L1235.63 1544.91 Z\" fill=\"#000000\" fill-rule=\"nonzero\" fill-opacity=\"1\" /><path clip-path=\"url(#clip090)\" d=\"M1264.98 1542.97 L1269.86 1542.97 L1269.86 1548.85 L1264.98 1548.85 L1264.98 1542.97 Z\" fill=\"#000000\" fill-rule=\"nonzero\" fill-opacity=\"1\" /><path clip-path=\"url(#clip090)\" d=\"M1290.05 1517.37 Q1286.44 1517.37 1284.61 1520.93 Q1282.8 1524.47 1282.8 1531.6 Q1282.8 1538.71 1284.61 1542.27 Q1286.44 1545.82 1290.05 1545.82 Q1293.68 1545.82 1295.49 1542.27 Q1297.32 1538.71 1297.32 1531.6 Q1297.32 1524.47 1295.49 1520.93 Q1293.68 1517.37 1290.05 1517.37 M1290.05 1513.66 Q1295.86 1513.66 1298.91 1518.27 Q1301.99 1522.85 1301.99 1531.6 Q1301.99 1540.33 1298.91 1544.94 Q1295.86 1549.52 1290.05 1549.52 Q1284.24 1549.52 1281.16 1544.94 Q1278.1 1540.33 1278.1 1531.6 Q1278.1 1522.85 1281.16 1518.27 Q1284.24 1513.66 1290.05 1513.66 Z\" fill=\"#000000\" fill-rule=\"nonzero\" fill-opacity=\"1\" /><path clip-path=\"url(#clip090)\" d=\"M1747.58 1544.91 L1755.22 1544.91 L1755.22 1518.55 L1746.91 1520.21 L1746.91 1515.95 L1755.17 1514.29 L1759.85 1514.29 L1759.85 1544.91 L1767.49 1544.91 L1767.49 1548.85 L1747.58 1548.85 L1747.58 1544.91 Z\" fill=\"#000000\" fill-rule=\"nonzero\" fill-opacity=\"1\" /><path clip-path=\"url(#clip090)\" d=\"M1776.93 1542.97 L1781.81 1542.97 L1781.81 1548.85 L1776.93 1548.85 L1776.93 1542.97 Z\" fill=\"#000000\" fill-rule=\"nonzero\" fill-opacity=\"1\" /><path clip-path=\"url(#clip090)\" d=\"M1792.05 1514.29 L1810.4 1514.29 L1810.4 1518.22 L1796.33 1518.22 L1796.33 1526.7 Q1797.35 1526.35 1798.36 1526.19 Q1799.38 1526 1800.4 1526 Q1806.19 1526 1809.57 1529.17 Q1812.95 1532.34 1812.95 1537.76 Q1812.95 1543.34 1809.48 1546.44 Q1806 1549.52 1799.68 1549.52 Q1797.51 1549.52 1795.24 1549.15 Q1792.99 1548.78 1790.59 1548.04 L1790.59 1543.34 Q1792.67 1544.47 1794.89 1545.03 Q1797.11 1545.58 1799.59 1545.58 Q1803.6 1545.58 1805.93 1543.48 Q1808.27 1541.37 1808.27 1537.76 Q1808.27 1534.15 1805.93 1532.04 Q1803.6 1529.94 1799.59 1529.94 Q1797.72 1529.94 1795.84 1530.35 Q1793.99 1530.77 1792.05 1531.65 L1792.05 1514.29 Z\" fill=\"#000000\" fill-rule=\"nonzero\" fill-opacity=\"1\" /><path clip-path=\"url(#clip090)\" d=\"M2262.62 1544.91 L2278.94 1544.91 L2278.94 1548.85 L2257 1548.85 L2257 1544.91 Q2259.66 1542.16 2264.24 1537.53 Q2268.85 1532.88 2270.03 1531.53 Q2272.27 1529.01 2273.15 1527.27 Q2274.06 1525.51 2274.06 1523.82 Q2274.06 1521.07 2272.11 1519.33 Q2270.19 1517.6 2267.09 1517.6 Q2264.89 1517.6 2262.43 1518.36 Q2260 1519.13 2257.23 1520.68 L2257.23 1515.95 Q2260.05 1514.82 2262.5 1514.24 Q2264.96 1513.66 2266.99 1513.66 Q2272.37 1513.66 2275.56 1516.35 Q2278.75 1519.03 2278.75 1523.52 Q2278.75 1525.65 2277.94 1527.57 Q2277.16 1529.47 2275.05 1532.07 Q2274.47 1532.74 2271.37 1535.95 Q2268.27 1539.15 2262.62 1544.91 Z\" fill=\"#000000\" fill-rule=\"nonzero\" fill-opacity=\"1\" /><path clip-path=\"url(#clip090)\" d=\"M2288.75 1542.97 L2293.64 1542.97 L2293.64 1548.85 L2288.75 1548.85 L2288.75 1542.97 Z\" fill=\"#000000\" fill-rule=\"nonzero\" fill-opacity=\"1\" /><path clip-path=\"url(#clip090)\" d=\"M2313.82 1517.37 Q2310.21 1517.37 2308.38 1520.93 Q2306.58 1524.47 2306.58 1531.6 Q2306.58 1538.71 2308.38 1542.27 Q2310.21 1545.82 2313.82 1545.82 Q2317.46 1545.82 2319.26 1542.27 Q2321.09 1538.71 2321.09 1531.6 Q2321.09 1524.47 2319.26 1520.93 Q2317.46 1517.37 2313.82 1517.37 M2313.82 1513.66 Q2319.63 1513.66 2322.69 1518.27 Q2325.77 1522.85 2325.77 1531.6 Q2325.77 1540.33 2322.69 1544.94 Q2319.63 1549.52 2313.82 1549.52 Q2308.01 1549.52 2304.93 1544.94 Q2301.88 1540.33 2301.88 1531.6 Q2301.88 1522.85 2304.93 1518.27 Q2308.01 1513.66 2313.82 1513.66 Z\" fill=\"#000000\" fill-rule=\"nonzero\" fill-opacity=\"1\" /><polyline clip-path=\"url(#clip092)\" style=\"stroke:#000000; stroke-linecap:round; stroke-linejoin:round; stroke-width:2; stroke-opacity:0.1; fill:none\" points=\"184.191,1445.72 2352.76,1445.72 \"/>\n",
       "<polyline clip-path=\"url(#clip092)\" style=\"stroke:#000000; stroke-linecap:round; stroke-linejoin:round; stroke-width:2; stroke-opacity:0.1; fill:none\" points=\"184.191,1106.28 2352.76,1106.28 \"/>\n",
       "<polyline clip-path=\"url(#clip092)\" style=\"stroke:#000000; stroke-linecap:round; stroke-linejoin:round; stroke-width:2; stroke-opacity:0.1; fill:none\" points=\"184.191,766.846 2352.76,766.846 \"/>\n",
       "<polyline clip-path=\"url(#clip092)\" style=\"stroke:#000000; stroke-linecap:round; stroke-linejoin:round; stroke-width:2; stroke-opacity:0.1; fill:none\" points=\"184.191,427.411 2352.76,427.411 \"/>\n",
       "<polyline clip-path=\"url(#clip092)\" style=\"stroke:#000000; stroke-linecap:round; stroke-linejoin:round; stroke-width:2; stroke-opacity:0.1; fill:none\" points=\"184.191,87.9763 2352.76,87.9763 \"/>\n",
       "<polyline clip-path=\"url(#clip090)\" style=\"stroke:#000000; stroke-linecap:round; stroke-linejoin:round; stroke-width:4; stroke-opacity:1; fill:none\" points=\"184.191,1486.45 184.191,47.2441 \"/>\n",
       "<polyline clip-path=\"url(#clip090)\" style=\"stroke:#000000; stroke-linecap:round; stroke-linejoin:round; stroke-width:4; stroke-opacity:1; fill:none\" points=\"184.191,1445.72 203.088,1445.72 \"/>\n",
       "<polyline clip-path=\"url(#clip090)\" style=\"stroke:#000000; stroke-linecap:round; stroke-linejoin:round; stroke-width:4; stroke-opacity:1; fill:none\" points=\"184.191,1106.28 203.088,1106.28 \"/>\n",
       "<polyline clip-path=\"url(#clip090)\" style=\"stroke:#000000; stroke-linecap:round; stroke-linejoin:round; stroke-width:4; stroke-opacity:1; fill:none\" points=\"184.191,766.846 203.088,766.846 \"/>\n",
       "<polyline clip-path=\"url(#clip090)\" style=\"stroke:#000000; stroke-linecap:round; stroke-linejoin:round; stroke-width:4; stroke-opacity:1; fill:none\" points=\"184.191,427.411 203.088,427.411 \"/>\n",
       "<polyline clip-path=\"url(#clip090)\" style=\"stroke:#000000; stroke-linecap:round; stroke-linejoin:round; stroke-width:4; stroke-opacity:1; fill:none\" points=\"184.191,87.9763 203.088,87.9763 \"/>\n",
       "<path clip-path=\"url(#clip090)\" d=\"M91.0151 1431.51 Q87.404 1431.51 85.5753 1435.08 Q83.7697 1438.62 83.7697 1445.75 Q83.7697 1452.86 85.5753 1456.42 Q87.404 1459.96 91.0151 1459.96 Q94.6493 1459.96 96.4548 1456.42 Q98.2835 1452.86 98.2835 1445.75 Q98.2835 1438.62 96.4548 1435.08 Q94.6493 1431.51 91.0151 1431.51 M91.0151 1427.81 Q96.8252 1427.81 99.8808 1432.42 Q102.959 1437 102.959 1445.75 Q102.959 1454.48 99.8808 1459.08 Q96.8252 1463.67 91.0151 1463.67 Q85.2049 1463.67 82.1262 1459.08 Q79.0707 1454.48 79.0707 1445.75 Q79.0707 1437 82.1262 1432.42 Q85.2049 1427.81 91.0151 1427.81 Z\" fill=\"#000000\" fill-rule=\"nonzero\" fill-opacity=\"1\" /><path clip-path=\"url(#clip090)\" d=\"M111.177 1457.12 L116.061 1457.12 L116.061 1463 L111.177 1463 L111.177 1457.12 Z\" fill=\"#000000\" fill-rule=\"nonzero\" fill-opacity=\"1\" /><path clip-path=\"url(#clip090)\" d=\"M136.246 1431.51 Q132.635 1431.51 130.807 1435.08 Q129.001 1438.62 129.001 1445.75 Q129.001 1452.86 130.807 1456.42 Q132.635 1459.96 136.246 1459.96 Q139.881 1459.96 141.686 1456.42 Q143.515 1452.86 143.515 1445.75 Q143.515 1438.62 141.686 1435.08 Q139.881 1431.51 136.246 1431.51 M136.246 1427.81 Q142.056 1427.81 145.112 1432.42 Q148.191 1437 148.191 1445.75 Q148.191 1454.48 145.112 1459.08 Q142.056 1463.67 136.246 1463.67 Q130.436 1463.67 127.357 1459.08 Q124.302 1454.48 124.302 1445.75 Q124.302 1437 127.357 1432.42 Q130.436 1427.81 136.246 1427.81 Z\" fill=\"#000000\" fill-rule=\"nonzero\" fill-opacity=\"1\" /><path clip-path=\"url(#clip090)\" d=\"M86.0382 1119.63 L102.358 1119.63 L102.358 1123.56 L80.4133 1123.56 L80.4133 1119.63 Q83.0753 1116.87 87.6586 1112.24 Q92.2651 1107.59 93.4456 1106.25 Q95.691 1103.72 96.5706 1101.99 Q97.4734 1100.23 97.4734 1098.54 Q97.4734 1095.78 95.5289 1094.05 Q93.6076 1092.31 90.5058 1092.31 Q88.3067 1092.31 85.8531 1093.07 Q83.4225 1093.84 80.6447 1095.39 L80.6447 1090.67 Q83.4688 1089.53 85.9225 1088.95 Q88.3762 1088.38 90.4132 1088.38 Q95.7836 1088.38 98.978 1091.06 Q102.172 1093.75 102.172 1098.24 Q102.172 1100.37 101.362 1102.29 Q100.575 1104.19 98.4687 1106.78 Q97.89 1107.45 94.7882 1110.67 Q91.6864 1113.86 86.0382 1119.63 Z\" fill=\"#000000\" fill-rule=\"nonzero\" fill-opacity=\"1\" /><path clip-path=\"url(#clip090)\" d=\"M112.172 1117.68 L117.057 1117.68 L117.057 1123.56 L112.172 1123.56 L112.172 1117.68 Z\" fill=\"#000000\" fill-rule=\"nonzero\" fill-opacity=\"1\" /><path clip-path=\"url(#clip090)\" d=\"M127.288 1089 L145.644 1089 L145.644 1092.94 L131.57 1092.94 L131.57 1101.41 Q132.589 1101.06 133.607 1100.9 Q134.626 1100.71 135.644 1100.71 Q141.431 1100.71 144.811 1103.89 Q148.191 1107.06 148.191 1112.47 Q148.191 1118.05 144.718 1121.15 Q141.246 1124.23 134.927 1124.23 Q132.751 1124.23 130.482 1123.86 Q128.237 1123.49 125.83 1122.75 L125.83 1118.05 Q127.913 1119.19 130.135 1119.74 Q132.357 1120.3 134.834 1120.3 Q138.839 1120.3 141.177 1118.19 Q143.515 1116.08 143.515 1112.47 Q143.515 1108.86 141.177 1106.76 Q138.839 1104.65 134.834 1104.65 Q132.959 1104.65 131.084 1105.07 Q129.232 1105.48 127.288 1106.36 L127.288 1089 Z\" fill=\"#000000\" fill-rule=\"nonzero\" fill-opacity=\"1\" /><path clip-path=\"url(#clip090)\" d=\"M81.0614 749.566 L99.4178 749.566 L99.4178 753.501 L85.3438 753.501 L85.3438 761.973 Q86.3623 761.626 87.3808 761.464 Q88.3993 761.279 89.4178 761.279 Q95.2049 761.279 98.5845 764.45 Q101.964 767.621 101.964 773.038 Q101.964 778.617 98.4919 781.719 Q95.0197 784.797 88.7003 784.797 Q86.5243 784.797 84.2558 784.427 Q82.0105 784.057 79.6031 783.316 L79.6031 778.617 Q81.6864 779.751 83.9086 780.307 Q86.1308 780.862 88.6077 780.862 Q92.6123 780.862 94.9502 778.756 Q97.2882 776.649 97.2882 773.038 Q97.2882 769.427 94.9502 767.321 Q92.6123 765.214 88.6077 765.214 Q86.7327 765.214 84.8577 765.631 Q83.0058 766.047 81.0614 766.927 L81.0614 749.566 Z\" fill=\"#000000\" fill-rule=\"nonzero\" fill-opacity=\"1\" /><path clip-path=\"url(#clip090)\" d=\"M111.177 778.246 L116.061 778.246 L116.061 784.126 L111.177 784.126 L111.177 778.246 Z\" fill=\"#000000\" fill-rule=\"nonzero\" fill-opacity=\"1\" /><path clip-path=\"url(#clip090)\" d=\"M136.246 752.645 Q132.635 752.645 130.807 756.209 Q129.001 759.751 129.001 766.881 Q129.001 773.987 130.807 777.552 Q132.635 781.094 136.246 781.094 Q139.881 781.094 141.686 777.552 Q143.515 773.987 143.515 766.881 Q143.515 759.751 141.686 756.209 Q139.881 752.645 136.246 752.645 M136.246 748.941 Q142.056 748.941 145.112 753.547 Q148.191 758.131 148.191 766.881 Q148.191 775.608 145.112 780.214 Q142.056 784.797 136.246 784.797 Q130.436 784.797 127.357 780.214 Q124.302 775.608 124.302 766.881 Q124.302 758.131 127.357 753.547 Q130.436 748.941 136.246 748.941 Z\" fill=\"#000000\" fill-rule=\"nonzero\" fill-opacity=\"1\" /><path clip-path=\"url(#clip090)\" d=\"M80.8299 410.131 L103.052 410.131 L103.052 412.122 L90.5058 444.691 L85.6216 444.691 L97.4271 414.066 L80.8299 414.066 L80.8299 410.131 Z\" fill=\"#000000\" fill-rule=\"nonzero\" fill-opacity=\"1\" /><path clip-path=\"url(#clip090)\" d=\"M112.172 438.812 L117.057 438.812 L117.057 444.691 L112.172 444.691 L112.172 438.812 Z\" fill=\"#000000\" fill-rule=\"nonzero\" fill-opacity=\"1\" /><path clip-path=\"url(#clip090)\" d=\"M127.288 410.131 L145.644 410.131 L145.644 414.066 L131.57 414.066 L131.57 422.538 Q132.589 422.191 133.607 422.029 Q134.626 421.844 135.644 421.844 Q141.431 421.844 144.811 425.015 Q148.191 428.187 148.191 433.603 Q148.191 439.182 144.718 442.284 Q141.246 445.362 134.927 445.362 Q132.751 445.362 130.482 444.992 Q128.237 444.622 125.83 443.881 L125.83 439.182 Q127.913 440.316 130.135 440.872 Q132.357 441.427 134.834 441.427 Q138.839 441.427 141.177 439.321 Q143.515 437.214 143.515 433.603 Q143.515 429.992 141.177 427.886 Q138.839 425.779 134.834 425.779 Q132.959 425.779 131.084 426.196 Q129.232 426.613 127.288 427.492 L127.288 410.131 Z\" fill=\"#000000\" fill-rule=\"nonzero\" fill-opacity=\"1\" /><path clip-path=\"url(#clip090)\" d=\"M51.6634 101.321 L59.3023 101.321 L59.3023 74.9555 L50.9921 76.6222 L50.9921 72.3629 L59.256 70.6963 L63.9319 70.6963 L63.9319 101.321 L71.5707 101.321 L71.5707 105.256 L51.6634 105.256 L51.6634 101.321 Z\" fill=\"#000000\" fill-rule=\"nonzero\" fill-opacity=\"1\" /><path clip-path=\"url(#clip090)\" d=\"M91.0151 73.775 Q87.404 73.775 85.5753 77.3398 Q83.7697 80.8814 83.7697 88.011 Q83.7697 95.1174 85.5753 98.6822 Q87.404 102.224 91.0151 102.224 Q94.6493 102.224 96.4548 98.6822 Q98.2835 95.1174 98.2835 88.011 Q98.2835 80.8814 96.4548 77.3398 Q94.6493 73.775 91.0151 73.775 M91.0151 70.0713 Q96.8252 70.0713 99.8808 74.6777 Q102.959 79.261 102.959 88.011 Q102.959 96.7378 99.8808 101.344 Q96.8252 105.928 91.0151 105.928 Q85.2049 105.928 82.1262 101.344 Q79.0707 96.7378 79.0707 88.011 Q79.0707 79.261 82.1262 74.6777 Q85.2049 70.0713 91.0151 70.0713 Z\" fill=\"#000000\" fill-rule=\"nonzero\" fill-opacity=\"1\" /><path clip-path=\"url(#clip090)\" d=\"M111.177 99.3767 L116.061 99.3767 L116.061 105.256 L111.177 105.256 L111.177 99.3767 Z\" fill=\"#000000\" fill-rule=\"nonzero\" fill-opacity=\"1\" /><path clip-path=\"url(#clip090)\" d=\"M136.246 73.775 Q132.635 73.775 130.807 77.3398 Q129.001 80.8814 129.001 88.011 Q129.001 95.1174 130.807 98.6822 Q132.635 102.224 136.246 102.224 Q139.881 102.224 141.686 98.6822 Q143.515 95.1174 143.515 88.011 Q143.515 80.8814 141.686 77.3398 Q139.881 73.775 136.246 73.775 M136.246 70.0713 Q142.056 70.0713 145.112 74.6777 Q148.191 79.261 148.191 88.011 Q148.191 96.7378 145.112 101.344 Q142.056 105.928 136.246 105.928 Q130.436 105.928 127.357 101.344 Q124.302 96.7378 124.302 88.011 Q124.302 79.261 127.357 74.6777 Q130.436 70.0713 136.246 70.0713 Z\" fill=\"#000000\" fill-rule=\"nonzero\" fill-opacity=\"1\" /><polyline clip-path=\"url(#clip092)\" style=\"stroke:#009af9; stroke-linecap:round; stroke-linejoin:round; stroke-width:4; stroke-opacity:1; fill:none\" points=\"245.565,87.9763 247.23,109.896 248.895,131.463 250.56,152.681 252.225,173.556 253.89,194.095 255.555,214.302 257.22,234.183 258.885,253.742 262.733,297.757 266.582,340.146 270.431,380.97 274.279,420.286 278.128,458.151 281.976,494.617 285.825,529.737 289.674,563.56 293.522,596.134 297.371,627.506 301.22,657.718 305.068,686.816 308.917,714.839 312.766,741.827 316.614,767.818 320.463,792.85 324.312,816.957 328.16,840.175 332.009,862.535 335.858,884.069 343.555,924.781 351.252,962.543 358.95,997.567 366.647,1030.05 374.344,1060.18 382.041,1088.13 391.293,1119.05 400.544,1147.3 409.796,1173.1 419.048,1196.68 428.299,1218.21 437.551,1237.89 446.802,1255.86 456.054,1272.28 463.876,1285.04 471.698,1296.87 479.52,1307.83 487.342,1317.98 502.986,1336.1 518.63,1351.64 535.624,1366.04 552.618,1378.24 569.612,1388.57 586.605,1397.31 602.272,1404.19 617.939,1410.08 633.606,1415.14 649.273,1419.49 682.866,1426.83 716.459,1432.12 755.38,1436.42 794.3,1439.36 863.477,1442.48 924.138,1443.93 990.276,1444.78 1056.81,1445.23 1130.36,1445.48 1200.35,1445.6 1273.12,1445.66 1334.38,1445.68 1409.17,1445.7 1477.68,1445.71 1540.96,1445.71 1605.06,1445.71 1676.89,1445.71 1741.98,1445.72 1816.51,1445.72 1885.52,1445.72 1953.55,1445.72 2019.6,1445.72 2087.32,1445.72 2161.5,1445.72 2269.27,1445.72 2291.38,1445.72 \"/>\n",
       "<path clip-path=\"url(#clip090)\" d=\"M2011.18 198.898 L2280.47 198.898 L2280.47 95.2176 L2011.18 95.2176  Z\" fill=\"#ffffff\" fill-rule=\"evenodd\" fill-opacity=\"1\"/>\n",
       "<polyline clip-path=\"url(#clip090)\" style=\"stroke:#000000; stroke-linecap:round; stroke-linejoin:round; stroke-width:4; stroke-opacity:1; fill:none\" points=\"2011.18,198.898 2280.47,198.898 2280.47,95.2176 2011.18,95.2176 2011.18,198.898 \"/>\n",
       "<polyline clip-path=\"url(#clip090)\" style=\"stroke:#009af9; stroke-linecap:round; stroke-linejoin:round; stroke-width:4; stroke-opacity:1; fill:none\" points=\"2035.28,147.058 2179.85,147.058 \"/>\n",
       "<path clip-path=\"url(#clip090)\" d=\"M2217.79 166.745 Q2215.98 171.375 2214.27 172.787 Q2212.56 174.199 2209.69 174.199 L2206.28 174.199 L2206.28 170.634 L2208.78 170.634 Q2210.54 170.634 2211.51 169.8 Q2212.49 168.967 2213.67 165.865 L2214.43 163.921 L2203.94 138.412 L2208.46 138.412 L2216.56 158.689 L2224.66 138.412 L2229.18 138.412 L2217.79 166.745 Z\" fill=\"#000000\" fill-rule=\"nonzero\" fill-opacity=\"1\" /><path clip-path=\"url(#clip090)\" d=\"M2236.47 160.402 L2244.11 160.402 L2244.11 134.037 L2235.8 135.703 L2235.8 131.444 L2244.06 129.778 L2248.74 129.778 L2248.74 160.402 L2256.38 160.402 L2256.38 164.338 L2236.47 164.338 L2236.47 160.402 Z\" fill=\"#000000\" fill-rule=\"nonzero\" fill-opacity=\"1\" /></svg>\n"
      ],
      "text/html": [
       "<?xml version=\"1.0\" encoding=\"utf-8\"?>\n",
       "<svg xmlns=\"http://www.w3.org/2000/svg\" xmlns:xlink=\"http://www.w3.org/1999/xlink\" width=\"600\" height=\"400\" viewBox=\"0 0 2400 1600\">\n",
       "<defs>\n",
       "  <clipPath id=\"clip140\">\n",
       "    <rect x=\"0\" y=\"0\" width=\"2400\" height=\"1600\"/>\n",
       "  </clipPath>\n",
       "</defs>\n",
       "<path clip-path=\"url(#clip140)\" d=\"M0 1600 L2400 1600 L2400 0 L0 0  Z\" fill=\"#ffffff\" fill-rule=\"evenodd\" fill-opacity=\"1\"/>\n",
       "<defs>\n",
       "  <clipPath id=\"clip141\">\n",
       "    <rect x=\"480\" y=\"0\" width=\"1681\" height=\"1600\"/>\n",
       "  </clipPath>\n",
       "</defs>\n",
       "<path clip-path=\"url(#clip140)\" d=\"M184.191 1486.45 L2352.76 1486.45 L2352.76 47.2441 L184.191 47.2441  Z\" fill=\"#ffffff\" fill-rule=\"evenodd\" fill-opacity=\"1\"/>\n",
       "<defs>\n",
       "  <clipPath id=\"clip142\">\n",
       "    <rect x=\"184\" y=\"47\" width=\"2170\" height=\"1440\"/>\n",
       "  </clipPath>\n",
       "</defs>\n",
       "<polyline clip-path=\"url(#clip142)\" style=\"stroke:#000000; stroke-linecap:round; stroke-linejoin:round; stroke-width:2; stroke-opacity:0.1; fill:none\" points=\"245.565,1486.45 245.565,47.2441 \"/>\n",
       "<polyline clip-path=\"url(#clip142)\" style=\"stroke:#000000; stroke-linecap:round; stroke-linejoin:round; stroke-width:2; stroke-opacity:0.1; fill:none\" points=\"757.019,1486.45 757.019,47.2441 \"/>\n",
       "<polyline clip-path=\"url(#clip142)\" style=\"stroke:#000000; stroke-linecap:round; stroke-linejoin:round; stroke-width:2; stroke-opacity:0.1; fill:none\" points=\"1268.47,1486.45 1268.47,47.2441 \"/>\n",
       "<polyline clip-path=\"url(#clip142)\" style=\"stroke:#000000; stroke-linecap:round; stroke-linejoin:round; stroke-width:2; stroke-opacity:0.1; fill:none\" points=\"1779.93,1486.45 1779.93,47.2441 \"/>\n",
       "<polyline clip-path=\"url(#clip142)\" style=\"stroke:#000000; stroke-linecap:round; stroke-linejoin:round; stroke-width:2; stroke-opacity:0.1; fill:none\" points=\"2291.38,1486.45 2291.38,47.2441 \"/>\n",
       "<polyline clip-path=\"url(#clip140)\" style=\"stroke:#000000; stroke-linecap:round; stroke-linejoin:round; stroke-width:4; stroke-opacity:1; fill:none\" points=\"184.191,1486.45 2352.76,1486.45 \"/>\n",
       "<polyline clip-path=\"url(#clip140)\" style=\"stroke:#000000; stroke-linecap:round; stroke-linejoin:round; stroke-width:4; stroke-opacity:1; fill:none\" points=\"245.565,1486.45 245.565,1467.55 \"/>\n",
       "<polyline clip-path=\"url(#clip140)\" style=\"stroke:#000000; stroke-linecap:round; stroke-linejoin:round; stroke-width:4; stroke-opacity:1; fill:none\" points=\"757.019,1486.45 757.019,1467.55 \"/>\n",
       "<polyline clip-path=\"url(#clip140)\" style=\"stroke:#000000; stroke-linecap:round; stroke-linejoin:round; stroke-width:4; stroke-opacity:1; fill:none\" points=\"1268.47,1486.45 1268.47,1467.55 \"/>\n",
       "<polyline clip-path=\"url(#clip140)\" style=\"stroke:#000000; stroke-linecap:round; stroke-linejoin:round; stroke-width:4; stroke-opacity:1; fill:none\" points=\"1779.93,1486.45 1779.93,1467.55 \"/>\n",
       "<polyline clip-path=\"url(#clip140)\" style=\"stroke:#000000; stroke-linecap:round; stroke-linejoin:round; stroke-width:4; stroke-opacity:1; fill:none\" points=\"2291.38,1486.45 2291.38,1467.55 \"/>\n",
       "<path clip-path=\"url(#clip140)\" d=\"M222.95 1517.37 Q219.338 1517.37 217.51 1520.93 Q215.704 1524.47 215.704 1531.6 Q215.704 1538.71 217.51 1542.27 Q219.338 1545.82 222.95 1545.82 Q226.584 1545.82 228.389 1542.27 Q230.218 1538.71 230.218 1531.6 Q230.218 1524.47 228.389 1520.93 Q226.584 1517.37 222.95 1517.37 M222.95 1513.66 Q228.76 1513.66 231.815 1518.27 Q234.894 1522.85 234.894 1531.6 Q234.894 1540.33 231.815 1544.94 Q228.76 1549.52 222.95 1549.52 Q217.139 1549.52 214.061 1544.94 Q211.005 1540.33 211.005 1531.6 Q211.005 1522.85 214.061 1518.27 Q217.139 1513.66 222.95 1513.66 Z\" fill=\"#000000\" fill-rule=\"nonzero\" fill-opacity=\"1\" /><path clip-path=\"url(#clip140)\" d=\"M243.111 1542.97 L247.996 1542.97 L247.996 1548.85 L243.111 1548.85 L243.111 1542.97 Z\" fill=\"#000000\" fill-rule=\"nonzero\" fill-opacity=\"1\" /><path clip-path=\"url(#clip140)\" d=\"M268.181 1517.37 Q264.57 1517.37 262.741 1520.93 Q260.935 1524.47 260.935 1531.6 Q260.935 1538.71 262.741 1542.27 Q264.57 1545.82 268.181 1545.82 Q271.815 1545.82 273.621 1542.27 Q275.449 1538.71 275.449 1531.6 Q275.449 1524.47 273.621 1520.93 Q271.815 1517.37 268.181 1517.37 M268.181 1513.66 Q273.991 1513.66 277.046 1518.27 Q280.125 1522.85 280.125 1531.6 Q280.125 1540.33 277.046 1544.94 Q273.991 1549.52 268.181 1549.52 Q262.371 1549.52 259.292 1544.94 Q256.236 1540.33 256.236 1531.6 Q256.236 1522.85 259.292 1518.27 Q262.371 1513.66 268.181 1513.66 Z\" fill=\"#000000\" fill-rule=\"nonzero\" fill-opacity=\"1\" /><path clip-path=\"url(#clip140)\" d=\"M734.901 1517.37 Q731.29 1517.37 729.462 1520.93 Q727.656 1524.47 727.656 1531.6 Q727.656 1538.71 729.462 1542.27 Q731.29 1545.82 734.901 1545.82 Q738.536 1545.82 740.341 1542.27 Q742.17 1538.71 742.17 1531.6 Q742.17 1524.47 740.341 1520.93 Q738.536 1517.37 734.901 1517.37 M734.901 1513.66 Q740.711 1513.66 743.767 1518.27 Q746.846 1522.85 746.846 1531.6 Q746.846 1540.33 743.767 1544.94 Q740.711 1549.52 734.901 1549.52 Q729.091 1549.52 726.012 1544.94 Q722.957 1540.33 722.957 1531.6 Q722.957 1522.85 726.012 1518.27 Q729.091 1513.66 734.901 1513.66 Z\" fill=\"#000000\" fill-rule=\"nonzero\" fill-opacity=\"1\" /><path clip-path=\"url(#clip140)\" d=\"M755.063 1542.97 L759.947 1542.97 L759.947 1548.85 L755.063 1548.85 L755.063 1542.97 Z\" fill=\"#000000\" fill-rule=\"nonzero\" fill-opacity=\"1\" /><path clip-path=\"url(#clip140)\" d=\"M770.179 1514.29 L788.535 1514.29 L788.535 1518.22 L774.461 1518.22 L774.461 1526.7 Q775.48 1526.35 776.498 1526.19 Q777.517 1526 778.535 1526 Q784.322 1526 787.702 1529.17 Q791.082 1532.34 791.082 1537.76 Q791.082 1543.34 787.609 1546.44 Q784.137 1549.52 777.818 1549.52 Q775.642 1549.52 773.373 1549.15 Q771.128 1548.78 768.721 1548.04 L768.721 1543.34 Q770.804 1544.47 773.026 1545.03 Q775.248 1545.58 777.725 1545.58 Q781.73 1545.58 784.068 1543.48 Q786.406 1541.37 786.406 1537.76 Q786.406 1534.15 784.068 1532.04 Q781.73 1529.94 777.725 1529.94 Q775.85 1529.94 773.975 1530.35 Q772.123 1530.77 770.179 1531.65 L770.179 1514.29 Z\" fill=\"#000000\" fill-rule=\"nonzero\" fill-opacity=\"1\" /><path clip-path=\"url(#clip140)\" d=\"M1235.63 1544.91 L1243.27 1544.91 L1243.27 1518.55 L1234.95 1520.21 L1234.95 1515.95 L1243.22 1514.29 L1247.89 1514.29 L1247.89 1544.91 L1255.53 1544.91 L1255.53 1548.85 L1235.63 1548.85 L1235.63 1544.91 Z\" fill=\"#000000\" fill-rule=\"nonzero\" fill-opacity=\"1\" /><path clip-path=\"url(#clip140)\" d=\"M1264.98 1542.97 L1269.86 1542.97 L1269.86 1548.85 L1264.98 1548.85 L1264.98 1542.97 Z\" fill=\"#000000\" fill-rule=\"nonzero\" fill-opacity=\"1\" /><path clip-path=\"url(#clip140)\" d=\"M1290.05 1517.37 Q1286.44 1517.37 1284.61 1520.93 Q1282.8 1524.47 1282.8 1531.6 Q1282.8 1538.71 1284.61 1542.27 Q1286.44 1545.82 1290.05 1545.82 Q1293.68 1545.82 1295.49 1542.27 Q1297.32 1538.71 1297.32 1531.6 Q1297.32 1524.47 1295.49 1520.93 Q1293.68 1517.37 1290.05 1517.37 M1290.05 1513.66 Q1295.86 1513.66 1298.91 1518.27 Q1301.99 1522.85 1301.99 1531.6 Q1301.99 1540.33 1298.91 1544.94 Q1295.86 1549.52 1290.05 1549.52 Q1284.24 1549.52 1281.16 1544.94 Q1278.1 1540.33 1278.1 1531.6 Q1278.1 1522.85 1281.16 1518.27 Q1284.24 1513.66 1290.05 1513.66 Z\" fill=\"#000000\" fill-rule=\"nonzero\" fill-opacity=\"1\" /><path clip-path=\"url(#clip140)\" d=\"M1747.58 1544.91 L1755.22 1544.91 L1755.22 1518.55 L1746.91 1520.21 L1746.91 1515.95 L1755.17 1514.29 L1759.85 1514.29 L1759.85 1544.91 L1767.49 1544.91 L1767.49 1548.85 L1747.58 1548.85 L1747.58 1544.91 Z\" fill=\"#000000\" fill-rule=\"nonzero\" fill-opacity=\"1\" /><path clip-path=\"url(#clip140)\" d=\"M1776.93 1542.97 L1781.81 1542.97 L1781.81 1548.85 L1776.93 1548.85 L1776.93 1542.97 Z\" fill=\"#000000\" fill-rule=\"nonzero\" fill-opacity=\"1\" /><path clip-path=\"url(#clip140)\" d=\"M1792.05 1514.29 L1810.4 1514.29 L1810.4 1518.22 L1796.33 1518.22 L1796.33 1526.7 Q1797.35 1526.35 1798.36 1526.19 Q1799.38 1526 1800.4 1526 Q1806.19 1526 1809.57 1529.17 Q1812.95 1532.34 1812.95 1537.76 Q1812.95 1543.34 1809.48 1546.44 Q1806 1549.52 1799.68 1549.52 Q1797.51 1549.52 1795.24 1549.15 Q1792.99 1548.78 1790.59 1548.04 L1790.59 1543.34 Q1792.67 1544.47 1794.89 1545.03 Q1797.11 1545.58 1799.59 1545.58 Q1803.6 1545.58 1805.93 1543.48 Q1808.27 1541.37 1808.27 1537.76 Q1808.27 1534.15 1805.93 1532.04 Q1803.6 1529.94 1799.59 1529.94 Q1797.72 1529.94 1795.84 1530.35 Q1793.99 1530.77 1792.05 1531.65 L1792.05 1514.29 Z\" fill=\"#000000\" fill-rule=\"nonzero\" fill-opacity=\"1\" /><path clip-path=\"url(#clip140)\" d=\"M2262.62 1544.91 L2278.94 1544.91 L2278.94 1548.85 L2257 1548.85 L2257 1544.91 Q2259.66 1542.16 2264.24 1537.53 Q2268.85 1532.88 2270.03 1531.53 Q2272.27 1529.01 2273.15 1527.27 Q2274.06 1525.51 2274.06 1523.82 Q2274.06 1521.07 2272.11 1519.33 Q2270.19 1517.6 2267.09 1517.6 Q2264.89 1517.6 2262.43 1518.36 Q2260 1519.13 2257.23 1520.68 L2257.23 1515.95 Q2260.05 1514.82 2262.5 1514.24 Q2264.96 1513.66 2266.99 1513.66 Q2272.37 1513.66 2275.56 1516.35 Q2278.75 1519.03 2278.75 1523.52 Q2278.75 1525.65 2277.94 1527.57 Q2277.16 1529.47 2275.05 1532.07 Q2274.47 1532.74 2271.37 1535.95 Q2268.27 1539.15 2262.62 1544.91 Z\" fill=\"#000000\" fill-rule=\"nonzero\" fill-opacity=\"1\" /><path clip-path=\"url(#clip140)\" d=\"M2288.75 1542.97 L2293.64 1542.97 L2293.64 1548.85 L2288.75 1548.85 L2288.75 1542.97 Z\" fill=\"#000000\" fill-rule=\"nonzero\" fill-opacity=\"1\" /><path clip-path=\"url(#clip140)\" d=\"M2313.82 1517.37 Q2310.21 1517.37 2308.38 1520.93 Q2306.58 1524.47 2306.58 1531.6 Q2306.58 1538.71 2308.38 1542.27 Q2310.21 1545.82 2313.82 1545.82 Q2317.46 1545.82 2319.26 1542.27 Q2321.09 1538.71 2321.09 1531.6 Q2321.09 1524.47 2319.26 1520.93 Q2317.46 1517.37 2313.82 1517.37 M2313.82 1513.66 Q2319.63 1513.66 2322.69 1518.27 Q2325.77 1522.85 2325.77 1531.6 Q2325.77 1540.33 2322.69 1544.94 Q2319.63 1549.52 2313.82 1549.52 Q2308.01 1549.52 2304.93 1544.94 Q2301.88 1540.33 2301.88 1531.6 Q2301.88 1522.85 2304.93 1518.27 Q2308.01 1513.66 2313.82 1513.66 Z\" fill=\"#000000\" fill-rule=\"nonzero\" fill-opacity=\"1\" /><polyline clip-path=\"url(#clip142)\" style=\"stroke:#000000; stroke-linecap:round; stroke-linejoin:round; stroke-width:2; stroke-opacity:0.1; fill:none\" points=\"184.191,1445.72 2352.76,1445.72 \"/>\n",
       "<polyline clip-path=\"url(#clip142)\" style=\"stroke:#000000; stroke-linecap:round; stroke-linejoin:round; stroke-width:2; stroke-opacity:0.1; fill:none\" points=\"184.191,1106.28 2352.76,1106.28 \"/>\n",
       "<polyline clip-path=\"url(#clip142)\" style=\"stroke:#000000; stroke-linecap:round; stroke-linejoin:round; stroke-width:2; stroke-opacity:0.1; fill:none\" points=\"184.191,766.846 2352.76,766.846 \"/>\n",
       "<polyline clip-path=\"url(#clip142)\" style=\"stroke:#000000; stroke-linecap:round; stroke-linejoin:round; stroke-width:2; stroke-opacity:0.1; fill:none\" points=\"184.191,427.411 2352.76,427.411 \"/>\n",
       "<polyline clip-path=\"url(#clip142)\" style=\"stroke:#000000; stroke-linecap:round; stroke-linejoin:round; stroke-width:2; stroke-opacity:0.1; fill:none\" points=\"184.191,87.9763 2352.76,87.9763 \"/>\n",
       "<polyline clip-path=\"url(#clip140)\" style=\"stroke:#000000; stroke-linecap:round; stroke-linejoin:round; stroke-width:4; stroke-opacity:1; fill:none\" points=\"184.191,1486.45 184.191,47.2441 \"/>\n",
       "<polyline clip-path=\"url(#clip140)\" style=\"stroke:#000000; stroke-linecap:round; stroke-linejoin:round; stroke-width:4; stroke-opacity:1; fill:none\" points=\"184.191,1445.72 203.088,1445.72 \"/>\n",
       "<polyline clip-path=\"url(#clip140)\" style=\"stroke:#000000; stroke-linecap:round; stroke-linejoin:round; stroke-width:4; stroke-opacity:1; fill:none\" points=\"184.191,1106.28 203.088,1106.28 \"/>\n",
       "<polyline clip-path=\"url(#clip140)\" style=\"stroke:#000000; stroke-linecap:round; stroke-linejoin:round; stroke-width:4; stroke-opacity:1; fill:none\" points=\"184.191,766.846 203.088,766.846 \"/>\n",
       "<polyline clip-path=\"url(#clip140)\" style=\"stroke:#000000; stroke-linecap:round; stroke-linejoin:round; stroke-width:4; stroke-opacity:1; fill:none\" points=\"184.191,427.411 203.088,427.411 \"/>\n",
       "<polyline clip-path=\"url(#clip140)\" style=\"stroke:#000000; stroke-linecap:round; stroke-linejoin:round; stroke-width:4; stroke-opacity:1; fill:none\" points=\"184.191,87.9763 203.088,87.9763 \"/>\n",
       "<path clip-path=\"url(#clip140)\" d=\"M91.0151 1431.51 Q87.404 1431.51 85.5753 1435.08 Q83.7697 1438.62 83.7697 1445.75 Q83.7697 1452.86 85.5753 1456.42 Q87.404 1459.96 91.0151 1459.96 Q94.6493 1459.96 96.4548 1456.42 Q98.2835 1452.86 98.2835 1445.75 Q98.2835 1438.62 96.4548 1435.08 Q94.6493 1431.51 91.0151 1431.51 M91.0151 1427.81 Q96.8252 1427.81 99.8808 1432.42 Q102.959 1437 102.959 1445.75 Q102.959 1454.48 99.8808 1459.08 Q96.8252 1463.67 91.0151 1463.67 Q85.2049 1463.67 82.1262 1459.08 Q79.0707 1454.48 79.0707 1445.75 Q79.0707 1437 82.1262 1432.42 Q85.2049 1427.81 91.0151 1427.81 Z\" fill=\"#000000\" fill-rule=\"nonzero\" fill-opacity=\"1\" /><path clip-path=\"url(#clip140)\" d=\"M111.177 1457.12 L116.061 1457.12 L116.061 1463 L111.177 1463 L111.177 1457.12 Z\" fill=\"#000000\" fill-rule=\"nonzero\" fill-opacity=\"1\" /><path clip-path=\"url(#clip140)\" d=\"M136.246 1431.51 Q132.635 1431.51 130.807 1435.08 Q129.001 1438.62 129.001 1445.75 Q129.001 1452.86 130.807 1456.42 Q132.635 1459.96 136.246 1459.96 Q139.881 1459.96 141.686 1456.42 Q143.515 1452.86 143.515 1445.75 Q143.515 1438.62 141.686 1435.08 Q139.881 1431.51 136.246 1431.51 M136.246 1427.81 Q142.056 1427.81 145.112 1432.42 Q148.191 1437 148.191 1445.75 Q148.191 1454.48 145.112 1459.08 Q142.056 1463.67 136.246 1463.67 Q130.436 1463.67 127.357 1459.08 Q124.302 1454.48 124.302 1445.75 Q124.302 1437 127.357 1432.42 Q130.436 1427.81 136.246 1427.81 Z\" fill=\"#000000\" fill-rule=\"nonzero\" fill-opacity=\"1\" /><path clip-path=\"url(#clip140)\" d=\"M86.0382 1119.63 L102.358 1119.63 L102.358 1123.56 L80.4133 1123.56 L80.4133 1119.63 Q83.0753 1116.87 87.6586 1112.24 Q92.2651 1107.59 93.4456 1106.25 Q95.691 1103.72 96.5706 1101.99 Q97.4734 1100.23 97.4734 1098.54 Q97.4734 1095.78 95.5289 1094.05 Q93.6076 1092.31 90.5058 1092.31 Q88.3067 1092.31 85.8531 1093.07 Q83.4225 1093.84 80.6447 1095.39 L80.6447 1090.67 Q83.4688 1089.53 85.9225 1088.95 Q88.3762 1088.38 90.4132 1088.38 Q95.7836 1088.38 98.978 1091.06 Q102.172 1093.75 102.172 1098.24 Q102.172 1100.37 101.362 1102.29 Q100.575 1104.19 98.4687 1106.78 Q97.89 1107.45 94.7882 1110.67 Q91.6864 1113.86 86.0382 1119.63 Z\" fill=\"#000000\" fill-rule=\"nonzero\" fill-opacity=\"1\" /><path clip-path=\"url(#clip140)\" d=\"M112.172 1117.68 L117.057 1117.68 L117.057 1123.56 L112.172 1123.56 L112.172 1117.68 Z\" fill=\"#000000\" fill-rule=\"nonzero\" fill-opacity=\"1\" /><path clip-path=\"url(#clip140)\" d=\"M127.288 1089 L145.644 1089 L145.644 1092.94 L131.57 1092.94 L131.57 1101.41 Q132.589 1101.06 133.607 1100.9 Q134.626 1100.71 135.644 1100.71 Q141.431 1100.71 144.811 1103.89 Q148.191 1107.06 148.191 1112.47 Q148.191 1118.05 144.718 1121.15 Q141.246 1124.23 134.927 1124.23 Q132.751 1124.23 130.482 1123.86 Q128.237 1123.49 125.83 1122.75 L125.83 1118.05 Q127.913 1119.19 130.135 1119.74 Q132.357 1120.3 134.834 1120.3 Q138.839 1120.3 141.177 1118.19 Q143.515 1116.08 143.515 1112.47 Q143.515 1108.86 141.177 1106.76 Q138.839 1104.65 134.834 1104.65 Q132.959 1104.65 131.084 1105.07 Q129.232 1105.48 127.288 1106.36 L127.288 1089 Z\" fill=\"#000000\" fill-rule=\"nonzero\" fill-opacity=\"1\" /><path clip-path=\"url(#clip140)\" d=\"M81.0614 749.566 L99.4178 749.566 L99.4178 753.501 L85.3438 753.501 L85.3438 761.973 Q86.3623 761.626 87.3808 761.464 Q88.3993 761.279 89.4178 761.279 Q95.2049 761.279 98.5845 764.45 Q101.964 767.621 101.964 773.038 Q101.964 778.617 98.4919 781.719 Q95.0197 784.797 88.7003 784.797 Q86.5243 784.797 84.2558 784.427 Q82.0105 784.057 79.6031 783.316 L79.6031 778.617 Q81.6864 779.751 83.9086 780.307 Q86.1308 780.862 88.6077 780.862 Q92.6123 780.862 94.9502 778.756 Q97.2882 776.649 97.2882 773.038 Q97.2882 769.427 94.9502 767.321 Q92.6123 765.214 88.6077 765.214 Q86.7327 765.214 84.8577 765.631 Q83.0058 766.047 81.0614 766.927 L81.0614 749.566 Z\" fill=\"#000000\" fill-rule=\"nonzero\" fill-opacity=\"1\" /><path clip-path=\"url(#clip140)\" d=\"M111.177 778.246 L116.061 778.246 L116.061 784.126 L111.177 784.126 L111.177 778.246 Z\" fill=\"#000000\" fill-rule=\"nonzero\" fill-opacity=\"1\" /><path clip-path=\"url(#clip140)\" d=\"M136.246 752.645 Q132.635 752.645 130.807 756.209 Q129.001 759.751 129.001 766.881 Q129.001 773.987 130.807 777.552 Q132.635 781.094 136.246 781.094 Q139.881 781.094 141.686 777.552 Q143.515 773.987 143.515 766.881 Q143.515 759.751 141.686 756.209 Q139.881 752.645 136.246 752.645 M136.246 748.941 Q142.056 748.941 145.112 753.547 Q148.191 758.131 148.191 766.881 Q148.191 775.608 145.112 780.214 Q142.056 784.797 136.246 784.797 Q130.436 784.797 127.357 780.214 Q124.302 775.608 124.302 766.881 Q124.302 758.131 127.357 753.547 Q130.436 748.941 136.246 748.941 Z\" fill=\"#000000\" fill-rule=\"nonzero\" fill-opacity=\"1\" /><path clip-path=\"url(#clip140)\" d=\"M80.8299 410.131 L103.052 410.131 L103.052 412.122 L90.5058 444.691 L85.6216 444.691 L97.4271 414.066 L80.8299 414.066 L80.8299 410.131 Z\" fill=\"#000000\" fill-rule=\"nonzero\" fill-opacity=\"1\" /><path clip-path=\"url(#clip140)\" d=\"M112.172 438.812 L117.057 438.812 L117.057 444.691 L112.172 444.691 L112.172 438.812 Z\" fill=\"#000000\" fill-rule=\"nonzero\" fill-opacity=\"1\" /><path clip-path=\"url(#clip140)\" d=\"M127.288 410.131 L145.644 410.131 L145.644 414.066 L131.57 414.066 L131.57 422.538 Q132.589 422.191 133.607 422.029 Q134.626 421.844 135.644 421.844 Q141.431 421.844 144.811 425.015 Q148.191 428.187 148.191 433.603 Q148.191 439.182 144.718 442.284 Q141.246 445.362 134.927 445.362 Q132.751 445.362 130.482 444.992 Q128.237 444.622 125.83 443.881 L125.83 439.182 Q127.913 440.316 130.135 440.872 Q132.357 441.427 134.834 441.427 Q138.839 441.427 141.177 439.321 Q143.515 437.214 143.515 433.603 Q143.515 429.992 141.177 427.886 Q138.839 425.779 134.834 425.779 Q132.959 425.779 131.084 426.196 Q129.232 426.613 127.288 427.492 L127.288 410.131 Z\" fill=\"#000000\" fill-rule=\"nonzero\" fill-opacity=\"1\" /><path clip-path=\"url(#clip140)\" d=\"M51.6634 101.321 L59.3023 101.321 L59.3023 74.9555 L50.9921 76.6222 L50.9921 72.3629 L59.256 70.6963 L63.9319 70.6963 L63.9319 101.321 L71.5707 101.321 L71.5707 105.256 L51.6634 105.256 L51.6634 101.321 Z\" fill=\"#000000\" fill-rule=\"nonzero\" fill-opacity=\"1\" /><path clip-path=\"url(#clip140)\" d=\"M91.0151 73.775 Q87.404 73.775 85.5753 77.3398 Q83.7697 80.8814 83.7697 88.011 Q83.7697 95.1174 85.5753 98.6822 Q87.404 102.224 91.0151 102.224 Q94.6493 102.224 96.4548 98.6822 Q98.2835 95.1174 98.2835 88.011 Q98.2835 80.8814 96.4548 77.3398 Q94.6493 73.775 91.0151 73.775 M91.0151 70.0713 Q96.8252 70.0713 99.8808 74.6777 Q102.959 79.261 102.959 88.011 Q102.959 96.7378 99.8808 101.344 Q96.8252 105.928 91.0151 105.928 Q85.2049 105.928 82.1262 101.344 Q79.0707 96.7378 79.0707 88.011 Q79.0707 79.261 82.1262 74.6777 Q85.2049 70.0713 91.0151 70.0713 Z\" fill=\"#000000\" fill-rule=\"nonzero\" fill-opacity=\"1\" /><path clip-path=\"url(#clip140)\" d=\"M111.177 99.3767 L116.061 99.3767 L116.061 105.256 L111.177 105.256 L111.177 99.3767 Z\" fill=\"#000000\" fill-rule=\"nonzero\" fill-opacity=\"1\" /><path clip-path=\"url(#clip140)\" d=\"M136.246 73.775 Q132.635 73.775 130.807 77.3398 Q129.001 80.8814 129.001 88.011 Q129.001 95.1174 130.807 98.6822 Q132.635 102.224 136.246 102.224 Q139.881 102.224 141.686 98.6822 Q143.515 95.1174 143.515 88.011 Q143.515 80.8814 141.686 77.3398 Q139.881 73.775 136.246 73.775 M136.246 70.0713 Q142.056 70.0713 145.112 74.6777 Q148.191 79.261 148.191 88.011 Q148.191 96.7378 145.112 101.344 Q142.056 105.928 136.246 105.928 Q130.436 105.928 127.357 101.344 Q124.302 96.7378 124.302 88.011 Q124.302 79.261 127.357 74.6777 Q130.436 70.0713 136.246 70.0713 Z\" fill=\"#000000\" fill-rule=\"nonzero\" fill-opacity=\"1\" /><polyline clip-path=\"url(#clip142)\" style=\"stroke:#009af9; stroke-linecap:round; stroke-linejoin:round; stroke-width:4; stroke-opacity:1; fill:none\" points=\"245.565,87.9763 247.23,109.896 248.895,131.463 250.56,152.681 252.225,173.556 253.89,194.095 255.555,214.302 257.22,234.183 258.885,253.742 262.733,297.757 266.582,340.146 270.431,380.97 274.279,420.286 278.128,458.151 281.976,494.617 285.825,529.737 289.674,563.56 293.522,596.134 297.371,627.506 301.22,657.718 305.068,686.816 308.917,714.839 312.766,741.827 316.614,767.818 320.463,792.85 324.312,816.957 328.16,840.175 332.009,862.535 335.858,884.069 343.555,924.781 351.252,962.543 358.95,997.567 366.647,1030.05 374.344,1060.18 382.041,1088.13 391.293,1119.05 400.544,1147.3 409.796,1173.1 419.048,1196.68 428.299,1218.21 437.551,1237.89 446.802,1255.86 456.054,1272.28 463.876,1285.04 471.698,1296.87 479.52,1307.83 487.342,1317.98 502.986,1336.1 518.63,1351.64 535.624,1366.04 552.618,1378.24 569.612,1388.57 586.605,1397.31 602.272,1404.19 617.939,1410.08 633.606,1415.14 649.273,1419.49 682.866,1426.83 716.459,1432.12 755.38,1436.42 794.3,1439.36 863.477,1442.48 924.138,1443.93 990.276,1444.78 1056.81,1445.23 1130.36,1445.48 1200.35,1445.6 1273.12,1445.66 1334.38,1445.68 1409.17,1445.7 1477.68,1445.71 1540.96,1445.71 1605.06,1445.71 1676.89,1445.71 1741.98,1445.72 1816.51,1445.72 1885.52,1445.72 1953.55,1445.72 2019.6,1445.72 2087.32,1445.72 2161.5,1445.72 2269.27,1445.72 2291.38,1445.72 \"/>\n",
       "<path clip-path=\"url(#clip140)\" d=\"M2011.18 198.898 L2280.47 198.898 L2280.47 95.2176 L2011.18 95.2176  Z\" fill=\"#ffffff\" fill-rule=\"evenodd\" fill-opacity=\"1\"/>\n",
       "<polyline clip-path=\"url(#clip140)\" style=\"stroke:#000000; stroke-linecap:round; stroke-linejoin:round; stroke-width:4; stroke-opacity:1; fill:none\" points=\"2011.18,198.898 2280.47,198.898 2280.47,95.2176 2011.18,95.2176 2011.18,198.898 \"/>\n",
       "<polyline clip-path=\"url(#clip140)\" style=\"stroke:#009af9; stroke-linecap:round; stroke-linejoin:round; stroke-width:4; stroke-opacity:1; fill:none\" points=\"2035.28,147.058 2179.85,147.058 \"/>\n",
       "<path clip-path=\"url(#clip140)\" d=\"M2217.79 166.745 Q2215.98 171.375 2214.27 172.787 Q2212.56 174.199 2209.69 174.199 L2206.28 174.199 L2206.28 170.634 L2208.78 170.634 Q2210.54 170.634 2211.51 169.8 Q2212.49 168.967 2213.67 165.865 L2214.43 163.921 L2203.94 138.412 L2208.46 138.412 L2216.56 158.689 L2224.66 138.412 L2229.18 138.412 L2217.79 166.745 Z\" fill=\"#000000\" fill-rule=\"nonzero\" fill-opacity=\"1\" /><path clip-path=\"url(#clip140)\" d=\"M2236.47 160.402 L2244.11 160.402 L2244.11 134.037 L2235.8 135.703 L2235.8 131.444 L2244.06 129.778 L2248.74 129.778 L2248.74 160.402 L2256.38 160.402 L2256.38 164.338 L2236.47 164.338 L2236.47 160.402 Z\" fill=\"#000000\" fill-rule=\"nonzero\" fill-opacity=\"1\" /></svg>\n"
      ]
     },
     "execution_count": 21,
     "metadata": {},
     "output_type": "execute_result"
    }
   ],
   "source": [
    "d = Truncated(Exponential(0.1), 0.0, 2.0)\n",
    "@show typeof(d)\n",
    "plot(d)"
   ]
  },
  {
   "cell_type": "markdown",
   "id": "41c2875a",
   "metadata": {},
   "source": [
    "This is the power of generic programming in general, and Julia in particular: you can combine and compose completely separate packages and code, as long as there is an agreement on abstract types and functions.\n",
    "\n",
    "## Numbers and Algebraic Structures\n",
    "\n",
    "Define two binary functions,  $+$ and $\\cdot$, called addition and multiplication -- although the operators can be applied to data structures much more abstract than a `Real`.\n",
    "\n",
    "In mathematics, a [ring](https://en.wikipedia.org/wiki/Ring_%28mathematics%29) is a set with associated additive and multiplicative operators where\n",
    "\n",
    "* the additive operator is associative and commutative\n",
    "* the multiplicative operator is associative and distributive with respect to the additive operator\n",
    "* there is an additive identity element,  denoted $0$, such that $a + 0 = a$ for any $a$ in the set\n",
    "* there is an additive inverse of each element, denoted $-a$, such that $a + (-a) = 0$\n",
    "* there is a multiplicative identity element, denoted $1$, such that $a \\cdot 1 = a = 1 \\cdot a$\n",
    "* a total or partial ordering is **not** required (i.e., there does not need to be any meaningful $<$ operator defined)\n",
    "* a multiplicative inverse is **not** required\n",
    "\n",
    "> \n",
    "\n",
    "While this skips over some parts of the mathematical definition, this algebraic structure provides motivation for the abstract `Number` type in Julia\n",
    "\n",
    "* **Remark:** We use the term \"motivation\" because they are not formally connected and the mapping is imperfect.\n",
    "* The main difficulty when dealing with numbers that can be concretely created on a computer is that the requirement that the operators are closed in the set are difficult to ensure (e.g. floating points have finite numbers of bits of information).\n",
    "\n",
    "> \n",
    "\n",
    "Let `typeof(a) = typeof(b) = T <: Number`, then under an informal definition of the **generic interface** for\n",
    "`Number`, the following must be defined\n",
    "\n",
    "* the additive operator: `a + b`\n",
    "* the multiplicative operator: `a * b`\n",
    "* an additive inverse operator: `-a`\n",
    "* an inverse operation for addition `a - b = a + (-b)`\n",
    "* an additive identity: `zero(T)` or `zero(a)` for convenience\n",
    "* a multiplicative identity: `one(T)` or `one(a)` for convenience\n",
    "\n",
    "> \n",
    "\n",
    "The core of generic programming is that, given the knowledge that a value is of type `Number`, we can design algorithms using any of these functions and not concern ourselves with the particular concrete type.\n",
    "\n",
    "Furthermore, that generality in designing algorithms comes with no compromises on performance compared to carefully designed algorithms written for that particular type.\n",
    "\n",
    "To demonstrate this for a complex number, where `Complex{Float64} <: Number`"
   ]
  },
  {
   "cell_type": "code",
   "execution_count": 22,
   "id": "34e61037",
   "metadata": {},
   "outputs": [
    {
     "name": "stdout",
     "output_type": "stream",
     "text": [
      "typeof(a) = ComplexF64\n",
      "typeof(a) <: Number = true\n",
      "a + b = 1.0 + 3.0im\n",
      "a * b = -2.0 + 2.0im\n",
      "-a = -1.0 - 1.0im\n",
      "a - b = 1.0 - 1.0im\n",
      "zero(a) = 0.0 + 0.0im\n",
      "one(a) = 1.0 + 0.0im\n"
     ]
    }
   ],
   "source": [
    "a = 1.0 + 1.0im\n",
    "b = 0.0 + 2.0im\n",
    "@show typeof(a)\n",
    "@show typeof(a) <: Number\n",
    "@show a + b\n",
    "@show a * b\n",
    "@show -a\n",
    "@show a - b\n",
    "@show zero(a)\n",
    "@show one(a);"
   ]
  },
  {
   "cell_type": "markdown",
   "id": "eeeb6906",
   "metadata": {},
   "source": [
    "And for an arbitrary precision integer where `BigInt <: Number`\n",
    "(i.e., a different type than the `Int64` you have worked with, but nevertheless a `Number`)"
   ]
  },
  {
   "cell_type": "code",
   "execution_count": 23,
   "id": "bf77ae78",
   "metadata": {},
   "outputs": [
    {
     "name": "stdout",
     "output_type": "stream",
     "text": [
      "typeof(a) = BigInt\n",
      "typeof(a) <: Number = true\n",
      "a + b = 14\n",
      "a * b = 40\n",
      "-a = -10\n",
      "a - b = 6\n",
      "zero(a) = 0\n",
      "one(a) = 1\n"
     ]
    }
   ],
   "source": [
    "a = BigInt(10)\n",
    "b = BigInt(4)\n",
    "@show typeof(a)\n",
    "@show typeof(a) <: Number\n",
    "@show a + b\n",
    "@show a * b\n",
    "@show -a\n",
    "@show a - b\n",
    "@show zero(a)\n",
    "@show one(a);"
   ]
  },
  {
   "cell_type": "markdown",
   "id": "05d00b8d",
   "metadata": {},
   "source": [
    "### Complex Numbers and Composition of Generic Functions\n",
    "\n",
    "This allows us to showcase further how different generic packages compose -- even if they are only loosely coupled through agreement on common generic interfaces.\n",
    "\n",
    "The `Complex` numbers require some sort of storage for their underlying real and imaginary parts, which is itself left generic.\n",
    "\n",
    "This data structure is defined to work with any type `<: Number`, and is parameterized (e.g. `Complex{Float64}` is a complex number storing the imaginary and real parts in `Float64`)"
   ]
  },
  {
   "cell_type": "code",
   "execution_count": 24,
   "id": "ab5fff60",
   "metadata": {},
   "outputs": [
    {
     "name": "stdout",
     "output_type": "stream",
     "text": [
      "(x, typeof(x)) = (4.0 + 1.0im, ComplexF64)\n",
      "(xbig, typeof(xbig)) = "
     ]
    },
    {
     "name": "stdout",
     "output_type": "stream",
     "text": [
      "(4.0 + 1.0im, Complex{BigFloat})\n"
     ]
    }
   ],
   "source": [
    "x = 4.0 + 1.0im\n",
    "@show x, typeof(x)\n",
    "\n",
    "xbig = BigFloat(4.0) + 1.0im\n",
    "@show xbig, typeof(xbig);"
   ]
  },
  {
   "cell_type": "markdown",
   "id": "1277e85b",
   "metadata": {},
   "source": [
    "The implementation of the `Complex` numbers use the underlying operations of\n",
    "storage type, so as long as `+`, `*` etc. are defined -- as they should be\n",
    "for any `Number` -- the complex operation can be defined"
   ]
  },
  {
   "cell_type": "code",
   "execution_count": 25,
   "id": "6651212a",
   "metadata": {},
   "outputs": [
    {
     "data": {
      "text/html": [
       "+(z::<b>Complex</b>, w::<b>Complex</b>) in Base at <a href=\"https://github.com/JuliaLang/julia/tree/e4ee485e90961018b7e53ce14b8b99335953e176/base/complex.jl#L291\" target=\"_blank\">complex.jl:291</a>"
      ],
      "text/plain": [
       "+(\u001b[90mz\u001b[39m::\u001b[1mComplex\u001b[22m, \u001b[90mw\u001b[39m::\u001b[1mComplex\u001b[22m)\n",
       "\u001b[90m     @\u001b[39m \u001b[90mBase\u001b[39m \u001b[90m\u001b[4mcomplex.jl:291\u001b[24m\u001b[39m"
      ]
     },
     "execution_count": 25,
     "metadata": {},
     "output_type": "execute_result"
    }
   ],
   "source": [
    "@which +(x, x)"
   ]
  },
  {
   "cell_type": "markdown",
   "id": "a59d2da4",
   "metadata": {},
   "source": [
    "Following that link, the implementation of `+` for complex numbers is\n",
    "\n",
    "```{code-block} julia\n",
    "+(z::Complex, w::Complex) = Complex(real(z) + real(w), imag(z) + imag(w))\n",
    "```\n",
    "\n",
    "`real(z)` and `imag(z)` returns the associated components of the complex number in the underlying storage type (e.g. `Float64` or `BigFloat`).\n",
    "\n",
    "The rest of the function has been carefully written to use functions defined for any `Number` (e.g. `+` but not `<`, since it is not part of the generic number interface).\n",
    "\n",
    "To follow another example , look at the implementation of `abs` specialized for complex numbers"
   ]
  },
  {
   "cell_type": "code",
   "execution_count": 26,
   "id": "7bfada1e",
   "metadata": {},
   "outputs": [
    {
     "data": {
      "text/html": [
       "abs(z::<b>Complex</b>) in Base at <a href=\"https://github.com/JuliaLang/julia/tree/e4ee485e90961018b7e53ce14b8b99335953e176/base/complex.jl#L280\" target=\"_blank\">complex.jl:280</a>"
      ],
      "text/plain": [
       "abs(\u001b[90mz\u001b[39m::\u001b[1mComplex\u001b[22m)\n",
       "\u001b[90m     @\u001b[39m \u001b[90mBase\u001b[39m \u001b[90m\u001b[4mcomplex.jl:280\u001b[24m\u001b[39m"
      ]
     },
     "execution_count": 26,
     "metadata": {},
     "output_type": "execute_result"
    }
   ],
   "source": [
    "@which abs(x)"
   ]
  },
  {
   "cell_type": "markdown",
   "id": "82e02a62",
   "metadata": {},
   "source": [
    "The source is\n",
    "\n",
    "```{code-block} julia\n",
    "abs(z::Complex)  = hypot(real(z), imag(z))\n",
    "```\n",
    "\n",
    "In this case, if you look at the generic function to get the hypotenuse, `hypot`, you will see that it has the function signature `hypot(x::T, y::T) where T<:Number`, and hence works for any `Number`.\n",
    "\n",
    "That function, in turn, relies on the underlying `abs` for the type of `real(z)`.\n",
    "\n",
    "This would dispatch to the appropriate `abs` for the type"
   ]
  },
  {
   "cell_type": "code",
   "execution_count": 27,
   "id": "464cf16f",
   "metadata": {},
   "outputs": [
    {
     "data": {
      "text/html": [
       "abs(x::<b>Union{Float16, Float32, Float64}</b>) in Base at <a href=\"https://github.com/JuliaLang/julia/tree/e4ee485e90961018b7e53ce14b8b99335953e176/base/float.jl#L609\" target=\"_blank\">float.jl:609</a>"
      ],
      "text/plain": [
       "abs(\u001b[90mx\u001b[39m::\u001b[1mUnion\u001b[22m\u001b[0m{Float16, Float32, Float64})\n",
       "\u001b[90m     @\u001b[39m \u001b[90mBase\u001b[39m \u001b[90m\u001b[4mfloat.jl:609\u001b[24m\u001b[39m"
      ]
     },
     "execution_count": 27,
     "metadata": {},
     "output_type": "execute_result"
    }
   ],
   "source": [
    "@which abs(1.0)"
   ]
  },
  {
   "cell_type": "code",
   "execution_count": 28,
   "id": "7ef0225b",
   "metadata": {},
   "outputs": [
    {
     "data": {
      "text/html": [
       "abs(x::<b>Real</b>) in Base at <a href=\"https://github.com/JuliaLang/julia/tree/e4ee485e90961018b7e53ce14b8b99335953e176/base/number.jl#L164\" target=\"_blank\">number.jl:164</a>"
      ],
      "text/plain": [
       "abs(\u001b[90mx\u001b[39m::\u001b[1mReal\u001b[22m)\n",
       "\u001b[90m     @\u001b[39m \u001b[90mBase\u001b[39m \u001b[90m\u001b[4mnumber.jl:164\u001b[24m\u001b[39m"
      ]
     },
     "execution_count": 28,
     "metadata": {},
     "output_type": "execute_result"
    }
   ],
   "source": [
    "@which abs(BigFloat(1.0))"
   ]
  },
  {
   "cell_type": "markdown",
   "id": "b6ab8fa6",
   "metadata": {},
   "source": [
    "With implementations\n",
    "\n",
    "```{code-block} julia\n",
    "abs(x::Real) = ifelse(signbit(x), -x, x)\n",
    "abs(x::Float64) = abs_float(x)\n",
    "```\n",
    "\n",
    "For a `Real` number (which we will discuss in the next section) the fallback implementation calls a function `signbit` to determine if it should flip the sign of the number.\n",
    "\n",
    "The specialized version for `Float64 <: Real` calls a function called `abs_float` -- which turns out to be a specialized implementation at the compiler level.\n",
    "\n",
    "While we have not completely dissected the tree of function calls, at the bottom of the tree you will end at the most optimized version of the function for the underlying datatype.\n",
    "\n",
    "Hopefully this showcases the power of generic programming:  with a well-designed set of abstract types and functions, the code can both be highly general and composable and still use the most efficient implementation possible.\n",
    "\n",
    "## Reals and Algebraic Structures\n",
    "\n",
    "Thinking back to the mathematical motivation, a [field](https://en.wikipedia.org/wiki/Field_%28mathematics%29) is a `ring` with a few additional properties, among them\n",
    "\n",
    "* a multiplicative inverse: $a^{-1}$\n",
    "* an inverse operation for multiplication: $a / b = a \\cdot b^{-1}$\n",
    "\n",
    "> \n",
    "\n",
    "Furthermore, we will make it a [total ordered](https://en.wikipedia.org/wiki/Total_order#Strict_total_order) field with\n",
    "\n",
    "* a total ordering binary operator: $a < b$\n",
    "\n",
    "> \n",
    "\n",
    "This type gives some motivation for the operations and properties of the `Real` type.\n",
    "\n",
    "Of course, `Complex{Float64} <: Number` but not `Real` -- since the ordering is not defined for complex numbers in mathematics.\n",
    "\n",
    "These operations are implemented in any subtype of `Real` through\n",
    "\n",
    "* the multiplicative inverse: `inv(a)`\n",
    "* the multiplicative inverse operation: `a / b = a * inv(b)`\n",
    "* an ordering `a < b`\n",
    "\n",
    "> \n",
    "\n",
    "We have already shown these with the `Float64` and `BigFloat`.\n",
    "\n",
    "To show this for the `Rational` number type, where `a // b` constructs a rational number $\\frac{a}{b}$"
   ]
  },
  {
   "cell_type": "code",
   "execution_count": 29,
   "id": "c3571d63",
   "metadata": {},
   "outputs": [
    {
     "name": "stdout",
     "output_type": "stream",
     "text": [
      "typeof(a) = Rational{Int64}\n",
      "typeof(a) <: Number = true\n",
      "typeof(a) <: Real = true\n",
      "inv(a) = 10//1\n"
     ]
    },
    {
     "name": "stdout",
     "output_type": "stream",
     "text": [
      "a / b = 3//20\n",
      "a < b = true\n"
     ]
    }
   ],
   "source": [
    "a = 1 // 10\n",
    "b = 4 // 6\n",
    "@show typeof(a)\n",
    "@show typeof(a) <: Number\n",
    "@show typeof(a) <: Real\n",
    "@show inv(a)\n",
    "@show a / b\n",
    "@show a < b;"
   ]
  },
  {
   "cell_type": "markdown",
   "id": "e10b67de",
   "metadata": {},
   "source": [
    "**Remark:** Here we see where and how the precise connection to the mathematics for number types breaks down for practical reasons, in particular\n",
    "\n",
    "* `Integer` types (i.e., `Int64 <: Integer`) do not have a a multiplicative inverse with closure in the set.\n",
    "* However, it is necessary in practice for integer division to be defined, and return back a member of the `Real`'s.\n",
    "* This is called [type promotion](https://docs.julialang.org/en/v1/manual/conversion-and-promotion/#Promotion-1), where a type can be converted to another to ensure an operation is possible by direct conversion between types (i.e., it can be independent of the type hierarchy).\n",
    "\n",
    "> \n",
    "\n",
    "Do not think of the break in the connection between the underlying algebraic structures and the code as a failure of the language or design.\n",
    "\n",
    "Rather, the underlying algorithms for use on a computer do not perfectly fit the algebraic structures in this instance.\n",
    "\n",
    "Moving further down the tree of types provides more operations more directly tied to the computational implementation than abstract algebra.\n",
    "\n",
    "For example, floating point numbers have a machine precision, below which numbers become indistinguishable due to lack of sufficient \"bits\" of information"
   ]
  },
  {
   "cell_type": "code",
   "execution_count": 30,
   "id": "a9f8680b",
   "metadata": {},
   "outputs": [
    {
     "name": "stdout",
     "output_type": "stream",
     "text": [
      "Float64 <: AbstractFloat = true\n",
      "BigFloat <: AbstractFloat = true\n",
      "eps(Float64) = 2.220446049250313e-16\n",
      "eps(BigFloat) = "
     ]
    },
    {
     "name": "stdout",
     "output_type": "stream",
     "text": [
      "1.727233711018888925077270372560079914223200072887256277004740694033718360632485e-77\n"
     ]
    }
   ],
   "source": [
    "@show Float64 <: AbstractFloat\n",
    "@show BigFloat <: AbstractFloat\n",
    "@show eps(Float64)\n",
    "@show eps(BigFloat);"
   ]
  },
  {
   "cell_type": "markdown",
   "id": "766a0221",
   "metadata": {},
   "source": [
    "The `isless` function also has multiple methods.\n",
    "\n",
    "First let's try with integers"
   ]
  },
  {
   "cell_type": "code",
   "execution_count": 31,
   "id": "2e226c41",
   "metadata": {},
   "outputs": [
    {
     "data": {
      "text/html": [
       "isless(x::<b>Real</b>, y::<b>Real</b>) in Base at <a href=\"https://github.com/JuliaLang/julia/tree/e4ee485e90961018b7e53ce14b8b99335953e176/base/operators.jl#L421\" target=\"_blank\">operators.jl:421</a>"
      ],
      "text/plain": [
       "isless(\u001b[90mx\u001b[39m::\u001b[1mReal\u001b[22m, \u001b[90my\u001b[39m::\u001b[1mReal\u001b[22m)\n",
       "\u001b[90m     @\u001b[39m \u001b[90mBase\u001b[39m \u001b[90m\u001b[4moperators.jl:421\u001b[24m\u001b[39m"
      ]
     },
     "execution_count": 31,
     "metadata": {},
     "output_type": "execute_result"
    }
   ],
   "source": [
    "@which isless(1, 2)"
   ]
  },
  {
   "cell_type": "markdown",
   "id": "9401ee18",
   "metadata": {},
   "source": [
    "As we saw previously, the `Real` data type is an *abstract* type, and encompasses both floats and integers.\n",
    "\n",
    "If we go to the provided link in the source, we see the entirety of the function is\n",
    "\n",
    "```{code-block} julia\n",
    "isless(x::Real, y::Real) = x<y\n",
    "```\n",
    "\n",
    "That is, for any values where `typeof(x) <: Real` and `typeof(y) <: Real`, the definition relies on `<`.\n",
    "\n",
    "We know that `<` is defined for the types because it is part of the informal interface for the `Real` abstract type.\n",
    "\n",
    "Note that this is not defined for `Number` because not all `Number` types have the `<` ordering operator defined (e.g. `Complex`).\n",
    "\n",
    "In order to generate fast code, the implementation details may define specialized versions of these operations."
   ]
  },
  {
   "cell_type": "code",
   "execution_count": 32,
   "id": "b0b76a71",
   "metadata": {},
   "outputs": [
    {
     "data": {
      "text/html": [
       "isless(a::<b>T</b>, b::<b>T</b>)<i> where T<:Union{Float16, Float32, Float64}</i> in Base at <a href=\"https://github.com/JuliaLang/julia/tree/e4ee485e90961018b7e53ce14b8b99335953e176/base/float.jl#L547\" target=\"_blank\">float.jl:547</a>"
      ],
      "text/plain": [
       "isless(\u001b[90ma\u001b[39m::\u001b[1mT\u001b[22m, \u001b[90mb\u001b[39m::\u001b[1mT\u001b[22m) where T<:Union{Float16, Float32, Float64}\n",
       "\u001b[90m     @\u001b[39m \u001b[90mBase\u001b[39m \u001b[90m\u001b[4mfloat.jl:547\u001b[24m\u001b[39m"
      ]
     },
     "execution_count": 32,
     "metadata": {},
     "output_type": "execute_result"
    }
   ],
   "source": [
    "isless(1.0, 2.0)  # applied to two floats\n",
    "@which isless(1.0, 2.0)"
   ]
  },
  {
   "cell_type": "markdown",
   "id": "57a5b584",
   "metadata": {},
   "source": [
    "Note that the reason  `Float64 <: Real` calls this implementation rather than the one given above, is that `Float64 <: Real`, and Julia chooses the most specialized implementation for each function.\n",
    "\n",
    "The specialized implementations are often more subtle than you may realize due to [floating point arithmetic](https://docs.oracle.com/cd/E19957-01/806-3568/ncg_goldberg.html), [underflow](https://en.wikipedia.org/wiki/Arithmetic_underflow), etc.\n",
    "\n",
    "## Functions, and Function-Like Types\n",
    "\n",
    "Another common example of the separation between data structures and algorithms is the use of functions.\n",
    "\n",
    "Syntactically, a univariate \"function\" is any `f` that can call an argument `x` as `f(x)`.\n",
    "\n",
    "For example, we can use a standard function"
   ]
  },
  {
   "cell_type": "code",
   "execution_count": 33,
   "id": "c29343bb",
   "metadata": {},
   "outputs": [
    {
     "name": "stdout",
     "output_type": "stream",
     "text": [
      "quadgk(f, 0.0, 1.0) = (0.3333333333333333, 0.0)\n"
     ]
    },
    {
     "data": {
      "image/png": "[encoded data removed]",
      "image/svg+xml": [
       "<?xml version=\"1.0\" encoding=\"utf-8\"?>\n",
       "<svg xmlns=\"http://www.w3.org/2000/svg\" xmlns:xlink=\"http://www.w3.org/1999/xlink\" width=\"600\" height=\"400\" viewBox=\"0 0 2400 1600\">\n",
       "<defs>\n",
       "  <clipPath id=\"clip180\">\n",
       "    <rect x=\"0\" y=\"0\" width=\"2400\" height=\"1600\"/>\n",
       "  </clipPath>\n",
       "</defs>\n",
       "<path clip-path=\"url(#clip180)\" d=\"M0 1600 L2400 1600 L2400 0 L0 0  Z\" fill=\"#ffffff\" fill-rule=\"evenodd\" fill-opacity=\"1\"/>\n",
       "<defs>\n",
       "  <clipPath id=\"clip181\">\n",
       "    <rect x=\"480\" y=\"0\" width=\"1681\" height=\"1600\"/>\n",
       "  </clipPath>\n",
       "</defs>\n",
       "<path clip-path=\"url(#clip180)\" d=\"M186.274 1486.45 L2352.76 1486.45 L2352.76 47.2441 L186.274 47.2441  Z\" fill=\"#ffffff\" fill-rule=\"evenodd\" fill-opacity=\"1\"/>\n",
       "<defs>\n",
       "  <clipPath id=\"clip182\">\n",
       "    <rect x=\"186\" y=\"47\" width=\"2167\" height=\"1440\"/>\n",
       "  </clipPath>\n",
       "</defs>\n",
       "<polyline clip-path=\"url(#clip182)\" style=\"stroke:#000000; stroke-linecap:round; stroke-linejoin:round; stroke-width:2; stroke-opacity:0.1; fill:none\" points=\"247.59,1486.45 247.59,47.2441 \"/>\n",
       "<polyline clip-path=\"url(#clip182)\" style=\"stroke:#000000; stroke-linecap:round; stroke-linejoin:round; stroke-width:2; stroke-opacity:0.1; fill:none\" points=\"758.552,1486.45 758.552,47.2441 \"/>\n",
       "<polyline clip-path=\"url(#clip182)\" style=\"stroke:#000000; stroke-linecap:round; stroke-linejoin:round; stroke-width:2; stroke-opacity:0.1; fill:none\" points=\"1269.51,1486.45 1269.51,47.2441 \"/>\n",
       "<polyline clip-path=\"url(#clip182)\" style=\"stroke:#000000; stroke-linecap:round; stroke-linejoin:round; stroke-width:2; stroke-opacity:0.1; fill:none\" points=\"1780.48,1486.45 1780.48,47.2441 \"/>\n",
       "<polyline clip-path=\"url(#clip182)\" style=\"stroke:#000000; stroke-linecap:round; stroke-linejoin:round; stroke-width:2; stroke-opacity:0.1; fill:none\" points=\"2291.44,1486.45 2291.44,47.2441 \"/>\n",
       "<polyline clip-path=\"url(#clip180)\" style=\"stroke:#000000; stroke-linecap:round; stroke-linejoin:round; stroke-width:4; stroke-opacity:1; fill:none\" points=\"186.274,1486.45 2352.76,1486.45 \"/>\n",
       "<polyline clip-path=\"url(#clip180)\" style=\"stroke:#000000; stroke-linecap:round; stroke-linejoin:round; stroke-width:4; stroke-opacity:1; fill:none\" points=\"247.59,1486.45 247.59,1467.55 \"/>\n",
       "<polyline clip-path=\"url(#clip180)\" style=\"stroke:#000000; stroke-linecap:round; stroke-linejoin:round; stroke-width:4; stroke-opacity:1; fill:none\" points=\"758.552,1486.45 758.552,1467.55 \"/>\n",
       "<polyline clip-path=\"url(#clip180)\" style=\"stroke:#000000; stroke-linecap:round; stroke-linejoin:round; stroke-width:4; stroke-opacity:1; fill:none\" points=\"1269.51,1486.45 1269.51,1467.55 \"/>\n",
       "<polyline clip-path=\"url(#clip180)\" style=\"stroke:#000000; stroke-linecap:round; stroke-linejoin:round; stroke-width:4; stroke-opacity:1; fill:none\" points=\"1780.48,1486.45 1780.48,1467.55 \"/>\n",
       "<polyline clip-path=\"url(#clip180)\" style=\"stroke:#000000; stroke-linecap:round; stroke-linejoin:round; stroke-width:4; stroke-opacity:1; fill:none\" points=\"2291.44,1486.45 2291.44,1467.55 \"/>\n",
       "<path clip-path=\"url(#clip180)\" d=\"M209.893 1517.37 Q206.282 1517.37 204.453 1520.93 Q202.648 1524.47 202.648 1531.6 Q202.648 1538.71 204.453 1542.27 Q206.282 1545.82 209.893 1545.82 Q213.527 1545.82 215.333 1542.27 Q217.161 1538.71 217.161 1531.6 Q217.161 1524.47 215.333 1520.93 Q213.527 1517.37 209.893 1517.37 M209.893 1513.66 Q215.703 1513.66 218.759 1518.27 Q221.837 1522.85 221.837 1531.6 Q221.837 1540.33 218.759 1544.94 Q215.703 1549.52 209.893 1549.52 Q204.083 1549.52 201.004 1544.94 Q197.949 1540.33 197.949 1531.6 Q197.949 1522.85 201.004 1518.27 Q204.083 1513.66 209.893 1513.66 Z\" fill=\"#000000\" fill-rule=\"nonzero\" fill-opacity=\"1\" /><path clip-path=\"url(#clip180)\" d=\"M230.055 1542.97 L234.939 1542.97 L234.939 1548.85 L230.055 1548.85 L230.055 1542.97 Z\" fill=\"#000000\" fill-rule=\"nonzero\" fill-opacity=\"1\" /><path clip-path=\"url(#clip180)\" d=\"M255.124 1517.37 Q251.513 1517.37 249.684 1520.93 Q247.879 1524.47 247.879 1531.6 Q247.879 1538.71 249.684 1542.27 Q251.513 1545.82 255.124 1545.82 Q258.758 1545.82 260.564 1542.27 Q262.393 1538.71 262.393 1531.6 Q262.393 1524.47 260.564 1520.93 Q258.758 1517.37 255.124 1517.37 M255.124 1513.66 Q260.934 1513.66 263.99 1518.27 Q267.069 1522.85 267.069 1531.6 Q267.069 1540.33 263.99 1544.94 Q260.934 1549.52 255.124 1549.52 Q249.314 1549.52 246.235 1544.94 Q243.18 1540.33 243.18 1531.6 Q243.18 1522.85 246.235 1518.27 Q249.314 1513.66 255.124 1513.66 Z\" fill=\"#000000\" fill-rule=\"nonzero\" fill-opacity=\"1\" /><path clip-path=\"url(#clip180)\" d=\"M285.286 1517.37 Q281.675 1517.37 279.846 1520.93 Q278.041 1524.47 278.041 1531.6 Q278.041 1538.71 279.846 1542.27 Q281.675 1545.82 285.286 1545.82 Q288.92 1545.82 290.726 1542.27 Q292.555 1538.71 292.555 1531.6 Q292.555 1524.47 290.726 1520.93 Q288.92 1517.37 285.286 1517.37 M285.286 1513.66 Q291.096 1513.66 294.152 1518.27 Q297.23 1522.85 297.23 1531.6 Q297.23 1540.33 294.152 1544.94 Q291.096 1549.52 285.286 1549.52 Q279.476 1549.52 276.397 1544.94 Q273.342 1540.33 273.342 1531.6 Q273.342 1522.85 276.397 1518.27 Q279.476 1513.66 285.286 1513.66 Z\" fill=\"#000000\" fill-rule=\"nonzero\" fill-opacity=\"1\" /><path clip-path=\"url(#clip180)\" d=\"M721.353 1517.37 Q717.742 1517.37 715.914 1520.93 Q714.108 1524.47 714.108 1531.6 Q714.108 1538.71 715.914 1542.27 Q717.742 1545.82 721.353 1545.82 Q724.988 1545.82 726.793 1542.27 Q728.622 1538.71 728.622 1531.6 Q728.622 1524.47 726.793 1520.93 Q724.988 1517.37 721.353 1517.37 M721.353 1513.66 Q727.164 1513.66 730.219 1518.27 Q733.298 1522.85 733.298 1531.6 Q733.298 1540.33 730.219 1544.94 Q727.164 1549.52 721.353 1549.52 Q715.543 1549.52 712.465 1544.94 Q709.409 1540.33 709.409 1531.6 Q709.409 1522.85 712.465 1518.27 Q715.543 1513.66 721.353 1513.66 Z\" fill=\"#000000\" fill-rule=\"nonzero\" fill-opacity=\"1\" /><path clip-path=\"url(#clip180)\" d=\"M741.515 1542.97 L746.4 1542.97 L746.4 1548.85 L741.515 1548.85 L741.515 1542.97 Z\" fill=\"#000000\" fill-rule=\"nonzero\" fill-opacity=\"1\" /><path clip-path=\"url(#clip180)\" d=\"M760.612 1544.91 L776.932 1544.91 L776.932 1548.85 L754.987 1548.85 L754.987 1544.91 Q757.649 1542.16 762.233 1537.53 Q766.839 1532.88 768.02 1531.53 Q770.265 1529.01 771.145 1527.27 Q772.048 1525.51 772.048 1523.82 Q772.048 1521.07 770.103 1519.33 Q768.182 1517.6 765.08 1517.6 Q762.881 1517.6 760.427 1518.36 Q757.997 1519.13 755.219 1520.68 L755.219 1515.95 Q758.043 1514.82 760.497 1514.24 Q762.95 1513.66 764.987 1513.66 Q770.358 1513.66 773.552 1516.35 Q776.747 1519.03 776.747 1523.52 Q776.747 1525.65 775.936 1527.57 Q775.149 1529.47 773.043 1532.07 Q772.464 1532.74 769.362 1535.95 Q766.261 1539.15 760.612 1544.91 Z\" fill=\"#000000\" fill-rule=\"nonzero\" fill-opacity=\"1\" /><path clip-path=\"url(#clip180)\" d=\"M786.793 1514.29 L805.149 1514.29 L805.149 1518.22 L791.075 1518.22 L791.075 1526.7 Q792.094 1526.35 793.112 1526.19 Q794.131 1526 795.149 1526 Q800.936 1526 804.316 1529.17 Q807.695 1532.34 807.695 1537.76 Q807.695 1543.34 804.223 1546.44 Q800.751 1549.52 794.432 1549.52 Q792.256 1549.52 789.987 1549.15 Q787.742 1548.78 785.335 1548.04 L785.335 1543.34 Q787.418 1544.47 789.64 1545.03 Q791.862 1545.58 794.339 1545.58 Q798.344 1545.58 800.682 1543.48 Q803.02 1541.37 803.02 1537.76 Q803.02 1534.15 800.682 1532.04 Q798.344 1529.94 794.339 1529.94 Q792.464 1529.94 790.589 1530.35 Q788.737 1530.77 786.793 1531.65 L786.793 1514.29 Z\" fill=\"#000000\" fill-rule=\"nonzero\" fill-opacity=\"1\" /><path clip-path=\"url(#clip180)\" d=\"M1231.82 1517.37 Q1228.21 1517.37 1226.38 1520.93 Q1224.57 1524.47 1224.57 1531.6 Q1224.57 1538.71 1226.38 1542.27 Q1228.21 1545.82 1231.82 1545.82 Q1235.45 1545.82 1237.26 1542.27 Q1239.09 1538.71 1239.09 1531.6 Q1239.09 1524.47 1237.26 1520.93 Q1235.45 1517.37 1231.82 1517.37 M1231.82 1513.66 Q1237.63 1513.66 1240.68 1518.27 Q1243.76 1522.85 1243.76 1531.6 Q1243.76 1540.33 1240.68 1544.94 Q1237.63 1549.52 1231.82 1549.52 Q1226.01 1549.52 1222.93 1544.94 Q1219.87 1540.33 1219.87 1531.6 Q1219.87 1522.85 1222.93 1518.27 Q1226.01 1513.66 1231.82 1513.66 Z\" fill=\"#000000\" fill-rule=\"nonzero\" fill-opacity=\"1\" /><path clip-path=\"url(#clip180)\" d=\"M1251.98 1542.97 L1256.86 1542.97 L1256.86 1548.85 L1251.98 1548.85 L1251.98 1542.97 Z\" fill=\"#000000\" fill-rule=\"nonzero\" fill-opacity=\"1\" /><path clip-path=\"url(#clip180)\" d=\"M1267.1 1514.29 L1285.45 1514.29 L1285.45 1518.22 L1271.38 1518.22 L1271.38 1526.7 Q1272.4 1526.35 1273.42 1526.19 Q1274.43 1526 1275.45 1526 Q1281.24 1526 1284.62 1529.17 Q1288 1532.34 1288 1537.76 Q1288 1543.34 1284.53 1546.44 Q1281.05 1549.52 1274.73 1549.52 Q1272.56 1549.52 1270.29 1549.15 Q1268.05 1548.78 1265.64 1548.04 L1265.64 1543.34 Q1267.72 1544.47 1269.94 1545.03 Q1272.17 1545.58 1274.64 1545.58 Q1278.65 1545.58 1280.98 1543.48 Q1283.32 1541.37 1283.32 1537.76 Q1283.32 1534.15 1280.98 1532.04 Q1278.65 1529.94 1274.64 1529.94 Q1272.77 1529.94 1270.89 1530.35 Q1269.04 1530.77 1267.1 1531.65 L1267.1 1514.29 Z\" fill=\"#000000\" fill-rule=\"nonzero\" fill-opacity=\"1\" /><path clip-path=\"url(#clip180)\" d=\"M1307.21 1517.37 Q1303.6 1517.37 1301.77 1520.93 Q1299.97 1524.47 1299.97 1531.6 Q1299.97 1538.71 1301.77 1542.27 Q1303.6 1545.82 1307.21 1545.82 Q1310.85 1545.82 1312.65 1542.27 Q1314.48 1538.71 1314.48 1531.6 Q1314.48 1524.47 1312.65 1520.93 Q1310.85 1517.37 1307.21 1517.37 M1307.21 1513.66 Q1313.02 1513.66 1316.08 1518.27 Q1319.16 1522.85 1319.16 1531.6 Q1319.16 1540.33 1316.08 1544.94 Q1313.02 1549.52 1307.21 1549.52 Q1301.4 1549.52 1298.32 1544.94 Q1295.27 1540.33 1295.27 1531.6 Q1295.27 1522.85 1298.32 1518.27 Q1301.4 1513.66 1307.21 1513.66 Z\" fill=\"#000000\" fill-rule=\"nonzero\" fill-opacity=\"1\" /><path clip-path=\"url(#clip180)\" d=\"M1743.28 1517.37 Q1739.67 1517.37 1737.84 1520.93 Q1736.03 1524.47 1736.03 1531.6 Q1736.03 1538.71 1737.84 1542.27 Q1739.67 1545.82 1743.28 1545.82 Q1746.91 1545.82 1748.72 1542.27 Q1750.55 1538.71 1750.55 1531.6 Q1750.55 1524.47 1748.72 1520.93 Q1746.91 1517.37 1743.28 1517.37 M1743.28 1513.66 Q1749.09 1513.66 1752.14 1518.27 Q1755.22 1522.85 1755.22 1531.6 Q1755.22 1540.33 1752.14 1544.94 Q1749.09 1549.52 1743.28 1549.52 Q1737.47 1549.52 1734.39 1544.94 Q1731.33 1540.33 1731.33 1531.6 Q1731.33 1522.85 1734.39 1518.27 Q1737.47 1513.66 1743.28 1513.66 Z\" fill=\"#000000\" fill-rule=\"nonzero\" fill-opacity=\"1\" /><path clip-path=\"url(#clip180)\" d=\"M1763.44 1542.97 L1768.32 1542.97 L1768.32 1548.85 L1763.44 1548.85 L1763.44 1542.97 Z\" fill=\"#000000\" fill-rule=\"nonzero\" fill-opacity=\"1\" /><path clip-path=\"url(#clip180)\" d=\"M1777.33 1514.29 L1799.55 1514.29 L1799.55 1516.28 L1787.01 1548.85 L1782.12 1548.85 L1793.93 1518.22 L1777.33 1518.22 L1777.33 1514.29 Z\" fill=\"#000000\" fill-rule=\"nonzero\" fill-opacity=\"1\" /><path clip-path=\"url(#clip180)\" d=\"M1808.72 1514.29 L1827.07 1514.29 L1827.07 1518.22 L1813 1518.22 L1813 1526.7 Q1814.02 1526.35 1815.04 1526.19 Q1816.06 1526 1817.07 1526 Q1822.86 1526 1826.24 1529.17 Q1829.62 1532.34 1829.62 1537.76 Q1829.62 1543.34 1826.15 1546.44 Q1822.68 1549.52 1816.36 1549.52 Q1814.18 1549.52 1811.91 1549.15 Q1809.67 1548.78 1807.26 1548.04 L1807.26 1543.34 Q1809.34 1544.47 1811.57 1545.03 Q1813.79 1545.58 1816.26 1545.58 Q1820.27 1545.58 1822.61 1543.48 Q1824.95 1541.37 1824.95 1537.76 Q1824.95 1534.15 1822.61 1532.04 Q1820.27 1529.94 1816.26 1529.94 Q1814.39 1529.94 1812.51 1530.35 Q1810.66 1530.77 1808.72 1531.65 L1808.72 1514.29 Z\" fill=\"#000000\" fill-rule=\"nonzero\" fill-opacity=\"1\" /><path clip-path=\"url(#clip180)\" d=\"M2243.51 1544.91 L2251.15 1544.91 L2251.15 1518.55 L2242.84 1520.21 L2242.84 1515.95 L2251.1 1514.29 L2255.78 1514.29 L2255.78 1544.91 L2263.42 1544.91 L2263.42 1548.85 L2243.51 1548.85 L2243.51 1544.91 Z\" fill=\"#000000\" fill-rule=\"nonzero\" fill-opacity=\"1\" /><path clip-path=\"url(#clip180)\" d=\"M2272.86 1542.97 L2277.75 1542.97 L2277.75 1548.85 L2272.86 1548.85 L2272.86 1542.97 Z\" fill=\"#000000\" fill-rule=\"nonzero\" fill-opacity=\"1\" /><path clip-path=\"url(#clip180)\" d=\"M2297.93 1517.37 Q2294.32 1517.37 2292.49 1520.93 Q2290.69 1524.47 2290.69 1531.6 Q2290.69 1538.71 2292.49 1542.27 Q2294.32 1545.82 2297.93 1545.82 Q2301.57 1545.82 2303.37 1542.27 Q2305.2 1538.71 2305.2 1531.6 Q2305.2 1524.47 2303.37 1520.93 Q2301.57 1517.37 2297.93 1517.37 M2297.93 1513.66 Q2303.74 1513.66 2306.8 1518.27 Q2309.88 1522.85 2309.88 1531.6 Q2309.88 1540.33 2306.8 1544.94 Q2303.74 1549.52 2297.93 1549.52 Q2292.12 1549.52 2289.04 1544.94 Q2285.99 1540.33 2285.99 1531.6 Q2285.99 1522.85 2289.04 1518.27 Q2292.12 1513.66 2297.93 1513.66 Z\" fill=\"#000000\" fill-rule=\"nonzero\" fill-opacity=\"1\" /><path clip-path=\"url(#clip180)\" d=\"M2328.1 1517.37 Q2324.48 1517.37 2322.66 1520.93 Q2320.85 1524.47 2320.85 1531.6 Q2320.85 1538.71 2322.66 1542.27 Q2324.48 1545.82 2328.1 1545.82 Q2331.73 1545.82 2333.54 1542.27 Q2335.36 1538.71 2335.36 1531.6 Q2335.36 1524.47 2333.54 1520.93 Q2331.73 1517.37 2328.1 1517.37 M2328.1 1513.66 Q2333.91 1513.66 2336.96 1518.27 Q2340.04 1522.85 2340.04 1531.6 Q2340.04 1540.33 2336.96 1544.94 Q2333.91 1549.52 2328.1 1549.52 Q2322.29 1549.52 2319.21 1544.94 Q2316.15 1540.33 2316.15 1531.6 Q2316.15 1522.85 2319.21 1518.27 Q2322.29 1513.66 2328.1 1513.66 Z\" fill=\"#000000\" fill-rule=\"nonzero\" fill-opacity=\"1\" /><polyline clip-path=\"url(#clip182)\" style=\"stroke:#000000; stroke-linecap:round; stroke-linejoin:round; stroke-width:2; stroke-opacity:0.1; fill:none\" points=\"186.274,1445.72 2352.76,1445.72 \"/>\n",
       "<polyline clip-path=\"url(#clip182)\" style=\"stroke:#000000; stroke-linecap:round; stroke-linejoin:round; stroke-width:2; stroke-opacity:0.1; fill:none\" points=\"186.274,1106.28 2352.76,1106.28 \"/>\n",
       "<polyline clip-path=\"url(#clip182)\" style=\"stroke:#000000; stroke-linecap:round; stroke-linejoin:round; stroke-width:2; stroke-opacity:0.1; fill:none\" points=\"186.274,766.846 2352.76,766.846 \"/>\n",
       "<polyline clip-path=\"url(#clip182)\" style=\"stroke:#000000; stroke-linecap:round; stroke-linejoin:round; stroke-width:2; stroke-opacity:0.1; fill:none\" points=\"186.274,427.411 2352.76,427.411 \"/>\n",
       "<polyline clip-path=\"url(#clip182)\" style=\"stroke:#000000; stroke-linecap:round; stroke-linejoin:round; stroke-width:2; stroke-opacity:0.1; fill:none\" points=\"186.274,87.9763 2352.76,87.9763 \"/>\n",
       "<polyline clip-path=\"url(#clip180)\" style=\"stroke:#000000; stroke-linecap:round; stroke-linejoin:round; stroke-width:4; stroke-opacity:1; fill:none\" points=\"186.274,1486.45 186.274,47.2441 \"/>\n",
       "<polyline clip-path=\"url(#clip180)\" style=\"stroke:#000000; stroke-linecap:round; stroke-linejoin:round; stroke-width:4; stroke-opacity:1; fill:none\" points=\"186.274,1445.72 205.172,1445.72 \"/>\n",
       "<polyline clip-path=\"url(#clip180)\" style=\"stroke:#000000; stroke-linecap:round; stroke-linejoin:round; stroke-width:4; stroke-opacity:1; fill:none\" points=\"186.274,1106.28 205.172,1106.28 \"/>\n",
       "<polyline clip-path=\"url(#clip180)\" style=\"stroke:#000000; stroke-linecap:round; stroke-linejoin:round; stroke-width:4; stroke-opacity:1; fill:none\" points=\"186.274,766.846 205.172,766.846 \"/>\n",
       "<polyline clip-path=\"url(#clip180)\" style=\"stroke:#000000; stroke-linecap:round; stroke-linejoin:round; stroke-width:4; stroke-opacity:1; fill:none\" points=\"186.274,427.411 205.172,427.411 \"/>\n",
       "<polyline clip-path=\"url(#clip180)\" style=\"stroke:#000000; stroke-linecap:round; stroke-linejoin:round; stroke-width:4; stroke-opacity:1; fill:none\" points=\"186.274,87.9763 205.172,87.9763 \"/>\n",
       "<path clip-path=\"url(#clip180)\" d=\"M62.9365 1431.51 Q59.3254 1431.51 57.4967 1435.08 Q55.6912 1438.62 55.6912 1445.75 Q55.6912 1452.86 57.4967 1456.42 Q59.3254 1459.96 62.9365 1459.96 Q66.5707 1459.96 68.3763 1456.42 Q70.205 1452.86 70.205 1445.75 Q70.205 1438.62 68.3763 1435.08 Q66.5707 1431.51 62.9365 1431.51 M62.9365 1427.81 Q68.7467 1427.81 71.8022 1432.42 Q74.8809 1437 74.8809 1445.75 Q74.8809 1454.48 71.8022 1459.08 Q68.7467 1463.67 62.9365 1463.67 Q57.1264 1463.67 54.0477 1459.08 Q50.9921 1454.48 50.9921 1445.75 Q50.9921 1437 54.0477 1432.42 Q57.1264 1427.81 62.9365 1427.81 Z\" fill=\"#000000\" fill-rule=\"nonzero\" fill-opacity=\"1\" /><path clip-path=\"url(#clip180)\" d=\"M83.0984 1457.12 L87.9827 1457.12 L87.9827 1463 L83.0984 1463 L83.0984 1457.12 Z\" fill=\"#000000\" fill-rule=\"nonzero\" fill-opacity=\"1\" /><path clip-path=\"url(#clip180)\" d=\"M108.168 1431.51 Q104.557 1431.51 102.728 1435.08 Q100.922 1438.62 100.922 1445.75 Q100.922 1452.86 102.728 1456.42 Q104.557 1459.96 108.168 1459.96 Q111.802 1459.96 113.608 1456.42 Q115.436 1452.86 115.436 1445.75 Q115.436 1438.62 113.608 1435.08 Q111.802 1431.51 108.168 1431.51 M108.168 1427.81 Q113.978 1427.81 117.033 1432.42 Q120.112 1437 120.112 1445.75 Q120.112 1454.48 117.033 1459.08 Q113.978 1463.67 108.168 1463.67 Q102.358 1463.67 99.2789 1459.08 Q96.2234 1454.48 96.2234 1445.75 Q96.2234 1437 99.2789 1432.42 Q102.358 1427.81 108.168 1427.81 Z\" fill=\"#000000\" fill-rule=\"nonzero\" fill-opacity=\"1\" /><path clip-path=\"url(#clip180)\" d=\"M138.33 1431.51 Q134.719 1431.51 132.89 1435.08 Q131.084 1438.62 131.084 1445.75 Q131.084 1452.86 132.89 1456.42 Q134.719 1459.96 138.33 1459.96 Q141.964 1459.96 143.769 1456.42 Q145.598 1452.86 145.598 1445.75 Q145.598 1438.62 143.769 1435.08 Q141.964 1431.51 138.33 1431.51 M138.33 1427.81 Q144.14 1427.81 147.195 1432.42 Q150.274 1437 150.274 1445.75 Q150.274 1454.48 147.195 1459.08 Q144.14 1463.67 138.33 1463.67 Q132.519 1463.67 129.441 1459.08 Q126.385 1454.48 126.385 1445.75 Q126.385 1437 129.441 1432.42 Q132.519 1427.81 138.33 1427.81 Z\" fill=\"#000000\" fill-rule=\"nonzero\" fill-opacity=\"1\" /><path clip-path=\"url(#clip180)\" d=\"M63.9319 1092.08 Q60.3208 1092.08 58.4921 1095.64 Q56.6865 1099.19 56.6865 1106.32 Q56.6865 1113.42 58.4921 1116.99 Q60.3208 1120.53 63.9319 1120.53 Q67.5661 1120.53 69.3717 1116.99 Q71.2004 1113.42 71.2004 1106.32 Q71.2004 1099.19 69.3717 1095.64 Q67.5661 1092.08 63.9319 1092.08 M63.9319 1088.38 Q69.742 1088.38 72.7976 1092.98 Q75.8763 1097.57 75.8763 1106.32 Q75.8763 1115.04 72.7976 1119.65 Q69.742 1124.23 63.9319 1124.23 Q58.1217 1124.23 55.043 1119.65 Q51.9875 1115.04 51.9875 1106.32 Q51.9875 1097.57 55.043 1092.98 Q58.1217 1088.38 63.9319 1088.38 Z\" fill=\"#000000\" fill-rule=\"nonzero\" fill-opacity=\"1\" /><path clip-path=\"url(#clip180)\" d=\"M84.0938 1117.68 L88.978 1117.68 L88.978 1123.56 L84.0938 1123.56 L84.0938 1117.68 Z\" fill=\"#000000\" fill-rule=\"nonzero\" fill-opacity=\"1\" /><path clip-path=\"url(#clip180)\" d=\"M103.191 1119.63 L119.51 1119.63 L119.51 1123.56 L97.566 1123.56 L97.566 1119.63 Q100.228 1116.87 104.811 1112.24 Q109.418 1107.59 110.598 1106.25 Q112.844 1103.72 113.723 1101.99 Q114.626 1100.23 114.626 1098.54 Q114.626 1095.78 112.682 1094.05 Q110.76 1092.31 107.658 1092.31 Q105.459 1092.31 103.006 1093.07 Q100.575 1093.84 97.7974 1095.39 L97.7974 1090.67 Q100.621 1089.53 103.075 1088.95 Q105.529 1088.38 107.566 1088.38 Q112.936 1088.38 116.131 1091.06 Q119.325 1093.75 119.325 1098.24 Q119.325 1100.37 118.515 1102.29 Q117.728 1104.19 115.621 1106.78 Q115.043 1107.45 111.941 1110.67 Q108.839 1113.86 103.191 1119.63 Z\" fill=\"#000000\" fill-rule=\"nonzero\" fill-opacity=\"1\" /><path clip-path=\"url(#clip180)\" d=\"M129.371 1089 L147.728 1089 L147.728 1092.94 L133.654 1092.94 L133.654 1101.41 Q134.672 1101.06 135.691 1100.9 Q136.709 1100.71 137.728 1100.71 Q143.515 1100.71 146.894 1103.89 Q150.274 1107.06 150.274 1112.47 Q150.274 1118.05 146.802 1121.15 Q143.33 1124.23 137.01 1124.23 Q134.834 1124.23 132.566 1123.86 Q130.32 1123.49 127.913 1122.75 L127.913 1118.05 Q129.996 1119.19 132.219 1119.74 Q134.441 1120.3 136.918 1120.3 Q140.922 1120.3 143.26 1118.19 Q145.598 1116.08 145.598 1112.47 Q145.598 1108.86 143.26 1106.76 Q140.922 1104.65 136.918 1104.65 Q135.043 1104.65 133.168 1105.07 Q131.316 1105.48 129.371 1106.36 L129.371 1089 Z\" fill=\"#000000\" fill-rule=\"nonzero\" fill-opacity=\"1\" /><path clip-path=\"url(#clip180)\" d=\"M62.9365 752.645 Q59.3254 752.645 57.4967 756.209 Q55.6912 759.751 55.6912 766.881 Q55.6912 773.987 57.4967 777.552 Q59.3254 781.094 62.9365 781.094 Q66.5707 781.094 68.3763 777.552 Q70.205 773.987 70.205 766.881 Q70.205 759.751 68.3763 756.209 Q66.5707 752.645 62.9365 752.645 M62.9365 748.941 Q68.7467 748.941 71.8022 753.547 Q74.8809 758.131 74.8809 766.881 Q74.8809 775.608 71.8022 780.214 Q68.7467 784.797 62.9365 784.797 Q57.1264 784.797 54.0477 780.214 Q50.9921 775.608 50.9921 766.881 Q50.9921 758.131 54.0477 753.547 Q57.1264 748.941 62.9365 748.941 Z\" fill=\"#000000\" fill-rule=\"nonzero\" fill-opacity=\"1\" /><path clip-path=\"url(#clip180)\" d=\"M83.0984 778.246 L87.9827 778.246 L87.9827 784.126 L83.0984 784.126 L83.0984 778.246 Z\" fill=\"#000000\" fill-rule=\"nonzero\" fill-opacity=\"1\" /><path clip-path=\"url(#clip180)\" d=\"M98.2141 749.566 L116.57 749.566 L116.57 753.501 L102.496 753.501 L102.496 761.973 Q103.515 761.626 104.534 761.464 Q105.552 761.279 106.571 761.279 Q112.358 761.279 115.737 764.45 Q119.117 767.621 119.117 773.038 Q119.117 778.617 115.645 781.719 Q112.172 784.797 105.853 784.797 Q103.677 784.797 101.409 784.427 Q99.1632 784.057 96.7558 783.316 L96.7558 778.617 Q98.8391 779.751 101.061 780.307 Q103.284 780.862 105.76 780.862 Q109.765 780.862 112.103 778.756 Q114.441 776.649 114.441 773.038 Q114.441 769.427 112.103 767.321 Q109.765 765.214 105.76 765.214 Q103.885 765.214 102.01 765.631 Q100.159 766.047 98.2141 766.927 L98.2141 749.566 Z\" fill=\"#000000\" fill-rule=\"nonzero\" fill-opacity=\"1\" /><path clip-path=\"url(#clip180)\" d=\"M138.33 752.645 Q134.719 752.645 132.89 756.209 Q131.084 759.751 131.084 766.881 Q131.084 773.987 132.89 777.552 Q134.719 781.094 138.33 781.094 Q141.964 781.094 143.769 777.552 Q145.598 773.987 145.598 766.881 Q145.598 759.751 143.769 756.209 Q141.964 752.645 138.33 752.645 M138.33 748.941 Q144.14 748.941 147.195 753.547 Q150.274 758.131 150.274 766.881 Q150.274 775.608 147.195 780.214 Q144.14 784.797 138.33 784.797 Q132.519 784.797 129.441 780.214 Q126.385 775.608 126.385 766.881 Q126.385 758.131 129.441 753.547 Q132.519 748.941 138.33 748.941 Z\" fill=\"#000000\" fill-rule=\"nonzero\" fill-opacity=\"1\" /><path clip-path=\"url(#clip180)\" d=\"M63.9319 413.21 Q60.3208 413.21 58.4921 416.775 Q56.6865 420.316 56.6865 427.446 Q56.6865 434.552 58.4921 438.117 Q60.3208 441.659 63.9319 441.659 Q67.5661 441.659 69.3717 438.117 Q71.2004 434.552 71.2004 427.446 Q71.2004 420.316 69.3717 416.775 Q67.5661 413.21 63.9319 413.21 M63.9319 409.506 Q69.742 409.506 72.7976 414.113 Q75.8763 418.696 75.8763 427.446 Q75.8763 436.173 72.7976 440.779 Q69.742 445.362 63.9319 445.362 Q58.1217 445.362 55.043 440.779 Q51.9875 436.173 51.9875 427.446 Q51.9875 418.696 55.043 414.113 Q58.1217 409.506 63.9319 409.506 Z\" fill=\"#000000\" fill-rule=\"nonzero\" fill-opacity=\"1\" /><path clip-path=\"url(#clip180)\" d=\"M84.0938 438.812 L88.978 438.812 L88.978 444.691 L84.0938 444.691 L84.0938 438.812 Z\" fill=\"#000000\" fill-rule=\"nonzero\" fill-opacity=\"1\" /><path clip-path=\"url(#clip180)\" d=\"M97.9826 410.131 L120.205 410.131 L120.205 412.122 L107.658 444.691 L102.774 444.691 L114.58 414.066 L97.9826 414.066 L97.9826 410.131 Z\" fill=\"#000000\" fill-rule=\"nonzero\" fill-opacity=\"1\" /><path clip-path=\"url(#clip180)\" d=\"M129.371 410.131 L147.728 410.131 L147.728 414.066 L133.654 414.066 L133.654 422.538 Q134.672 422.191 135.691 422.029 Q136.709 421.844 137.728 421.844 Q143.515 421.844 146.894 425.015 Q150.274 428.187 150.274 433.603 Q150.274 439.182 146.802 442.284 Q143.33 445.362 137.01 445.362 Q134.834 445.362 132.566 444.992 Q130.32 444.622 127.913 443.881 L127.913 439.182 Q129.996 440.316 132.219 440.872 Q134.441 441.427 136.918 441.427 Q140.922 441.427 143.26 439.321 Q145.598 437.214 145.598 433.603 Q145.598 429.992 143.26 427.886 Q140.922 425.779 136.918 425.779 Q135.043 425.779 133.168 426.196 Q131.316 426.613 129.371 427.492 L129.371 410.131 Z\" fill=\"#000000\" fill-rule=\"nonzero\" fill-opacity=\"1\" /><path clip-path=\"url(#clip180)\" d=\"M53.7467 101.321 L61.3856 101.321 L61.3856 74.9555 L53.0754 76.6222 L53.0754 72.3629 L61.3393 70.6963 L66.0152 70.6963 L66.0152 101.321 L73.654 101.321 L73.654 105.256 L53.7467 105.256 L53.7467 101.321 Z\" fill=\"#000000\" fill-rule=\"nonzero\" fill-opacity=\"1\" /><path clip-path=\"url(#clip180)\" d=\"M83.0984 99.3767 L87.9827 99.3767 L87.9827 105.256 L83.0984 105.256 L83.0984 99.3767 Z\" fill=\"#000000\" fill-rule=\"nonzero\" fill-opacity=\"1\" /><path clip-path=\"url(#clip180)\" d=\"M108.168 73.775 Q104.557 73.775 102.728 77.3398 Q100.922 80.8814 100.922 88.011 Q100.922 95.1174 102.728 98.6822 Q104.557 102.224 108.168 102.224 Q111.802 102.224 113.608 98.6822 Q115.436 95.1174 115.436 88.011 Q115.436 80.8814 113.608 77.3398 Q111.802 73.775 108.168 73.775 M108.168 70.0713 Q113.978 70.0713 117.033 74.6777 Q120.112 79.261 120.112 88.011 Q120.112 96.7378 117.033 101.344 Q113.978 105.928 108.168 105.928 Q102.358 105.928 99.2789 101.344 Q96.2234 96.7378 96.2234 88.011 Q96.2234 79.261 99.2789 74.6777 Q102.358 70.0713 108.168 70.0713 Z\" fill=\"#000000\" fill-rule=\"nonzero\" fill-opacity=\"1\" /><path clip-path=\"url(#clip180)\" d=\"M138.33 73.775 Q134.719 73.775 132.89 77.3398 Q131.084 80.8814 131.084 88.011 Q131.084 95.1174 132.89 98.6822 Q134.719 102.224 138.33 102.224 Q141.964 102.224 143.769 98.6822 Q145.598 95.1174 145.598 88.011 Q145.598 80.8814 143.769 77.3398 Q141.964 73.775 138.33 73.775 M138.33 70.0713 Q144.14 70.0713 147.195 74.6777 Q150.274 79.261 150.274 88.011 Q150.274 96.7378 147.195 101.344 Q144.14 105.928 138.33 105.928 Q132.519 105.928 129.441 101.344 Q126.385 96.7378 126.385 88.011 Q126.385 79.261 129.441 74.6777 Q132.519 70.0713 138.33 70.0713 Z\" fill=\"#000000\" fill-rule=\"nonzero\" fill-opacity=\"1\" /><polyline clip-path=\"url(#clip182)\" style=\"stroke:#009af9; stroke-linecap:round; stroke-linejoin:round; stroke-width:4; stroke-opacity:1; fill:none\" points=\"247.59,1445.72 451.975,1432.14 656.36,1391.41 860.745,1323.52 1065.13,1228.48 1269.51,1106.28 1473.9,956.93 1678.29,780.423 1882.67,576.762 2087.06,345.947 2291.44,87.9763 \"/>\n",
       "<polyline clip-path=\"url(#clip182)\" style=\"stroke:#e26f46; stroke-linecap:round; stroke-linejoin:round; stroke-width:4; stroke-opacity:1; fill:none\" points=\"247.59,1445.72 451.975,1445.26 656.36,1442.1 860.745,1433.5 1065.13,1416.75 1269.51,1389.14 1473.9,1347.96 1678.29,1290.48 1882.67,1213.99 2087.06,1115.79 2291.44,993.136 \"/>\n",
       "<path clip-path=\"url(#clip180)\" d=\"M258.49 250.738 L573.772 250.738 L573.772 95.2176 L258.49 95.2176  Z\" fill=\"#ffffff\" fill-rule=\"evenodd\" fill-opacity=\"1\"/>\n",
       "<polyline clip-path=\"url(#clip180)\" style=\"stroke:#000000; stroke-linecap:round; stroke-linejoin:round; stroke-width:4; stroke-opacity:1; fill:none\" points=\"258.49,250.738 573.772,250.738 573.772,95.2176 258.49,95.2176 258.49,250.738 \"/>\n",
       "<polyline clip-path=\"url(#clip180)\" style=\"stroke:#009af9; stroke-linecap:round; stroke-linejoin:round; stroke-width:4; stroke-opacity:1; fill:none\" points=\"282.562,147.058 426.994,147.058 \"/>\n",
       "<path clip-path=\"url(#clip180)\" d=\"M467.571 128.319 L467.571 131.861 L463.497 131.861 Q461.205 131.861 460.302 132.787 Q459.423 133.713 459.423 136.12 L459.423 138.412 L466.437 138.412 L466.437 141.722 L459.423 141.722 L459.423 164.338 L455.14 164.338 L455.14 141.722 L451.066 141.722 L451.066 138.412 L455.14 138.412 L455.14 136.606 Q455.14 132.278 457.154 130.31 Q459.168 128.319 463.543 128.319 L467.571 128.319 Z\" fill=\"#000000\" fill-rule=\"nonzero\" fill-opacity=\"1\" /><polyline clip-path=\"url(#clip180)\" style=\"stroke:#e26f46; stroke-linecap:round; stroke-linejoin:round; stroke-width:4; stroke-opacity:1; fill:none\" points=\"282.562,198.898 426.994,198.898 \"/>\n",
       "<path clip-path=\"url(#clip180)\" d=\"M451.066 190.252 L455.325 190.252 L455.325 216.178 L451.066 216.178 L451.066 190.252 M451.066 180.159 L455.325 180.159 L455.325 185.553 L451.066 185.553 L451.066 180.159 Z\" fill=\"#000000\" fill-rule=\"nonzero\" fill-opacity=\"1\" /><path clip-path=\"url(#clip180)\" d=\"M485.788 200.529 L485.788 216.178 L481.529 216.178 L481.529 200.668 Q481.529 196.988 480.094 195.159 Q478.659 193.33 475.788 193.33 Q472.339 193.33 470.349 195.53 Q468.358 197.729 468.358 201.525 L468.358 216.178 L464.075 216.178 L464.075 190.252 L468.358 190.252 L468.358 194.28 Q469.886 191.942 471.946 190.784 Q474.029 189.627 476.737 189.627 Q481.205 189.627 483.497 192.405 Q485.788 195.159 485.788 200.529 Z\" fill=\"#000000\" fill-rule=\"nonzero\" fill-opacity=\"1\" /><path clip-path=\"url(#clip180)\" d=\"M498.497 182.891 L498.497 190.252 L507.27 190.252 L507.27 193.562 L498.497 193.562 L498.497 207.636 Q498.497 210.807 499.353 211.71 Q500.233 212.613 502.895 212.613 L507.27 212.613 L507.27 216.178 L502.895 216.178 Q497.964 216.178 496.089 214.349 Q494.214 212.497 494.214 207.636 L494.214 193.562 L491.089 193.562 L491.089 190.252 L494.214 190.252 L494.214 182.891 L498.497 182.891 Z\" fill=\"#000000\" fill-rule=\"nonzero\" fill-opacity=\"1\" /><path clip-path=\"url(#clip180)\" d=\"M532.57 224.048 L532.57 227.358 L507.941 227.358 L507.941 224.048 L532.57 224.048 Z\" fill=\"#000000\" fill-rule=\"nonzero\" fill-opacity=\"1\" /><path clip-path=\"url(#clip180)\" d=\"M549.7 180.159 L549.7 183.701 L545.626 183.701 Q543.334 183.701 542.431 184.627 Q541.552 185.553 541.552 187.96 L541.552 190.252 L548.566 190.252 L548.566 193.562 L541.552 193.562 L541.552 216.178 L537.269 216.178 L537.269 193.562 L533.195 193.562 L533.195 190.252 L537.269 190.252 L537.269 188.446 Q537.269 184.118 539.283 182.15 Q541.297 180.159 545.672 180.159 L549.7 180.159 Z\" fill=\"#000000\" fill-rule=\"nonzero\" fill-opacity=\"1\" /></svg>\n"
      ],
      "text/html": [
       "<?xml version=\"1.0\" encoding=\"utf-8\"?>\n",
       "<svg xmlns=\"http://www.w3.org/2000/svg\" xmlns:xlink=\"http://www.w3.org/1999/xlink\" width=\"600\" height=\"400\" viewBox=\"0 0 2400 1600\">\n",
       "<defs>\n",
       "  <clipPath id=\"clip230\">\n",
       "    <rect x=\"0\" y=\"0\" width=\"2400\" height=\"1600\"/>\n",
       "  </clipPath>\n",
       "</defs>\n",
       "<path clip-path=\"url(#clip230)\" d=\"M0 1600 L2400 1600 L2400 0 L0 0  Z\" fill=\"#ffffff\" fill-rule=\"evenodd\" fill-opacity=\"1\"/>\n",
       "<defs>\n",
       "  <clipPath id=\"clip231\">\n",
       "    <rect x=\"480\" y=\"0\" width=\"1681\" height=\"1600\"/>\n",
       "  </clipPath>\n",
       "</defs>\n",
       "<path clip-path=\"url(#clip230)\" d=\"M186.274 1486.45 L2352.76 1486.45 L2352.76 47.2441 L186.274 47.2441  Z\" fill=\"#ffffff\" fill-rule=\"evenodd\" fill-opacity=\"1\"/>\n",
       "<defs>\n",
       "  <clipPath id=\"clip232\">\n",
       "    <rect x=\"186\" y=\"47\" width=\"2167\" height=\"1440\"/>\n",
       "  </clipPath>\n",
       "</defs>\n",
       "<polyline clip-path=\"url(#clip232)\" style=\"stroke:#000000; stroke-linecap:round; stroke-linejoin:round; stroke-width:2; stroke-opacity:0.1; fill:none\" points=\"247.59,1486.45 247.59,47.2441 \"/>\n",
       "<polyline clip-path=\"url(#clip232)\" style=\"stroke:#000000; stroke-linecap:round; stroke-linejoin:round; stroke-width:2; stroke-opacity:0.1; fill:none\" points=\"758.552,1486.45 758.552,47.2441 \"/>\n",
       "<polyline clip-path=\"url(#clip232)\" style=\"stroke:#000000; stroke-linecap:round; stroke-linejoin:round; stroke-width:2; stroke-opacity:0.1; fill:none\" points=\"1269.51,1486.45 1269.51,47.2441 \"/>\n",
       "<polyline clip-path=\"url(#clip232)\" style=\"stroke:#000000; stroke-linecap:round; stroke-linejoin:round; stroke-width:2; stroke-opacity:0.1; fill:none\" points=\"1780.48,1486.45 1780.48,47.2441 \"/>\n",
       "<polyline clip-path=\"url(#clip232)\" style=\"stroke:#000000; stroke-linecap:round; stroke-linejoin:round; stroke-width:2; stroke-opacity:0.1; fill:none\" points=\"2291.44,1486.45 2291.44,47.2441 \"/>\n",
       "<polyline clip-path=\"url(#clip230)\" style=\"stroke:#000000; stroke-linecap:round; stroke-linejoin:round; stroke-width:4; stroke-opacity:1; fill:none\" points=\"186.274,1486.45 2352.76,1486.45 \"/>\n",
       "<polyline clip-path=\"url(#clip230)\" style=\"stroke:#000000; stroke-linecap:round; stroke-linejoin:round; stroke-width:4; stroke-opacity:1; fill:none\" points=\"247.59,1486.45 247.59,1467.55 \"/>\n",
       "<polyline clip-path=\"url(#clip230)\" style=\"stroke:#000000; stroke-linecap:round; stroke-linejoin:round; stroke-width:4; stroke-opacity:1; fill:none\" points=\"758.552,1486.45 758.552,1467.55 \"/>\n",
       "<polyline clip-path=\"url(#clip230)\" style=\"stroke:#000000; stroke-linecap:round; stroke-linejoin:round; stroke-width:4; stroke-opacity:1; fill:none\" points=\"1269.51,1486.45 1269.51,1467.55 \"/>\n",
       "<polyline clip-path=\"url(#clip230)\" style=\"stroke:#000000; stroke-linecap:round; stroke-linejoin:round; stroke-width:4; stroke-opacity:1; fill:none\" points=\"1780.48,1486.45 1780.48,1467.55 \"/>\n",
       "<polyline clip-path=\"url(#clip230)\" style=\"stroke:#000000; stroke-linecap:round; stroke-linejoin:round; stroke-width:4; stroke-opacity:1; fill:none\" points=\"2291.44,1486.45 2291.44,1467.55 \"/>\n",
       "<path clip-path=\"url(#clip230)\" d=\"M209.893 1517.37 Q206.282 1517.37 204.453 1520.93 Q202.648 1524.47 202.648 1531.6 Q202.648 1538.71 204.453 1542.27 Q206.282 1545.82 209.893 1545.82 Q213.527 1545.82 215.333 1542.27 Q217.161 1538.71 217.161 1531.6 Q217.161 1524.47 215.333 1520.93 Q213.527 1517.37 209.893 1517.37 M209.893 1513.66 Q215.703 1513.66 218.759 1518.27 Q221.837 1522.85 221.837 1531.6 Q221.837 1540.33 218.759 1544.94 Q215.703 1549.52 209.893 1549.52 Q204.083 1549.52 201.004 1544.94 Q197.949 1540.33 197.949 1531.6 Q197.949 1522.85 201.004 1518.27 Q204.083 1513.66 209.893 1513.66 Z\" fill=\"#000000\" fill-rule=\"nonzero\" fill-opacity=\"1\" /><path clip-path=\"url(#clip230)\" d=\"M230.055 1542.97 L234.939 1542.97 L234.939 1548.85 L230.055 1548.85 L230.055 1542.97 Z\" fill=\"#000000\" fill-rule=\"nonzero\" fill-opacity=\"1\" /><path clip-path=\"url(#clip230)\" d=\"M255.124 1517.37 Q251.513 1517.37 249.684 1520.93 Q247.879 1524.47 247.879 1531.6 Q247.879 1538.71 249.684 1542.27 Q251.513 1545.82 255.124 1545.82 Q258.758 1545.82 260.564 1542.27 Q262.393 1538.71 262.393 1531.6 Q262.393 1524.47 260.564 1520.93 Q258.758 1517.37 255.124 1517.37 M255.124 1513.66 Q260.934 1513.66 263.99 1518.27 Q267.069 1522.85 267.069 1531.6 Q267.069 1540.33 263.99 1544.94 Q260.934 1549.52 255.124 1549.52 Q249.314 1549.52 246.235 1544.94 Q243.18 1540.33 243.18 1531.6 Q243.18 1522.85 246.235 1518.27 Q249.314 1513.66 255.124 1513.66 Z\" fill=\"#000000\" fill-rule=\"nonzero\" fill-opacity=\"1\" /><path clip-path=\"url(#clip230)\" d=\"M285.286 1517.37 Q281.675 1517.37 279.846 1520.93 Q278.041 1524.47 278.041 1531.6 Q278.041 1538.71 279.846 1542.27 Q281.675 1545.82 285.286 1545.82 Q288.92 1545.82 290.726 1542.27 Q292.555 1538.71 292.555 1531.6 Q292.555 1524.47 290.726 1520.93 Q288.92 1517.37 285.286 1517.37 M285.286 1513.66 Q291.096 1513.66 294.152 1518.27 Q297.23 1522.85 297.23 1531.6 Q297.23 1540.33 294.152 1544.94 Q291.096 1549.52 285.286 1549.52 Q279.476 1549.52 276.397 1544.94 Q273.342 1540.33 273.342 1531.6 Q273.342 1522.85 276.397 1518.27 Q279.476 1513.66 285.286 1513.66 Z\" fill=\"#000000\" fill-rule=\"nonzero\" fill-opacity=\"1\" /><path clip-path=\"url(#clip230)\" d=\"M721.353 1517.37 Q717.742 1517.37 715.914 1520.93 Q714.108 1524.47 714.108 1531.6 Q714.108 1538.71 715.914 1542.27 Q717.742 1545.82 721.353 1545.82 Q724.988 1545.82 726.793 1542.27 Q728.622 1538.71 728.622 1531.6 Q728.622 1524.47 726.793 1520.93 Q724.988 1517.37 721.353 1517.37 M721.353 1513.66 Q727.164 1513.66 730.219 1518.27 Q733.298 1522.85 733.298 1531.6 Q733.298 1540.33 730.219 1544.94 Q727.164 1549.52 721.353 1549.52 Q715.543 1549.52 712.465 1544.94 Q709.409 1540.33 709.409 1531.6 Q709.409 1522.85 712.465 1518.27 Q715.543 1513.66 721.353 1513.66 Z\" fill=\"#000000\" fill-rule=\"nonzero\" fill-opacity=\"1\" /><path clip-path=\"url(#clip230)\" d=\"M741.515 1542.97 L746.4 1542.97 L746.4 1548.85 L741.515 1548.85 L741.515 1542.97 Z\" fill=\"#000000\" fill-rule=\"nonzero\" fill-opacity=\"1\" /><path clip-path=\"url(#clip230)\" d=\"M760.612 1544.91 L776.932 1544.91 L776.932 1548.85 L754.987 1548.85 L754.987 1544.91 Q757.649 1542.16 762.233 1537.53 Q766.839 1532.88 768.02 1531.53 Q770.265 1529.01 771.145 1527.27 Q772.048 1525.51 772.048 1523.82 Q772.048 1521.07 770.103 1519.33 Q768.182 1517.6 765.08 1517.6 Q762.881 1517.6 760.427 1518.36 Q757.997 1519.13 755.219 1520.68 L755.219 1515.95 Q758.043 1514.82 760.497 1514.24 Q762.95 1513.66 764.987 1513.66 Q770.358 1513.66 773.552 1516.35 Q776.747 1519.03 776.747 1523.52 Q776.747 1525.65 775.936 1527.57 Q775.149 1529.47 773.043 1532.07 Q772.464 1532.74 769.362 1535.95 Q766.261 1539.15 760.612 1544.91 Z\" fill=\"#000000\" fill-rule=\"nonzero\" fill-opacity=\"1\" /><path clip-path=\"url(#clip230)\" d=\"M786.793 1514.29 L805.149 1514.29 L805.149 1518.22 L791.075 1518.22 L791.075 1526.7 Q792.094 1526.35 793.112 1526.19 Q794.131 1526 795.149 1526 Q800.936 1526 804.316 1529.17 Q807.695 1532.34 807.695 1537.76 Q807.695 1543.34 804.223 1546.44 Q800.751 1549.52 794.432 1549.52 Q792.256 1549.52 789.987 1549.15 Q787.742 1548.78 785.335 1548.04 L785.335 1543.34 Q787.418 1544.47 789.64 1545.03 Q791.862 1545.58 794.339 1545.58 Q798.344 1545.58 800.682 1543.48 Q803.02 1541.37 803.02 1537.76 Q803.02 1534.15 800.682 1532.04 Q798.344 1529.94 794.339 1529.94 Q792.464 1529.94 790.589 1530.35 Q788.737 1530.77 786.793 1531.65 L786.793 1514.29 Z\" fill=\"#000000\" fill-rule=\"nonzero\" fill-opacity=\"1\" /><path clip-path=\"url(#clip230)\" d=\"M1231.82 1517.37 Q1228.21 1517.37 1226.38 1520.93 Q1224.57 1524.47 1224.57 1531.6 Q1224.57 1538.71 1226.38 1542.27 Q1228.21 1545.82 1231.82 1545.82 Q1235.45 1545.82 1237.26 1542.27 Q1239.09 1538.71 1239.09 1531.6 Q1239.09 1524.47 1237.26 1520.93 Q1235.45 1517.37 1231.82 1517.37 M1231.82 1513.66 Q1237.63 1513.66 1240.68 1518.27 Q1243.76 1522.85 1243.76 1531.6 Q1243.76 1540.33 1240.68 1544.94 Q1237.63 1549.52 1231.82 1549.52 Q1226.01 1549.52 1222.93 1544.94 Q1219.87 1540.33 1219.87 1531.6 Q1219.87 1522.85 1222.93 1518.27 Q1226.01 1513.66 1231.82 1513.66 Z\" fill=\"#000000\" fill-rule=\"nonzero\" fill-opacity=\"1\" /><path clip-path=\"url(#clip230)\" d=\"M1251.98 1542.97 L1256.86 1542.97 L1256.86 1548.85 L1251.98 1548.85 L1251.98 1542.97 Z\" fill=\"#000000\" fill-rule=\"nonzero\" fill-opacity=\"1\" /><path clip-path=\"url(#clip230)\" d=\"M1267.1 1514.29 L1285.45 1514.29 L1285.45 1518.22 L1271.38 1518.22 L1271.38 1526.7 Q1272.4 1526.35 1273.42 1526.19 Q1274.43 1526 1275.45 1526 Q1281.24 1526 1284.62 1529.17 Q1288 1532.34 1288 1537.76 Q1288 1543.34 1284.53 1546.44 Q1281.05 1549.52 1274.73 1549.52 Q1272.56 1549.52 1270.29 1549.15 Q1268.05 1548.78 1265.64 1548.04 L1265.64 1543.34 Q1267.72 1544.47 1269.94 1545.03 Q1272.17 1545.58 1274.64 1545.58 Q1278.65 1545.58 1280.98 1543.48 Q1283.32 1541.37 1283.32 1537.76 Q1283.32 1534.15 1280.98 1532.04 Q1278.65 1529.94 1274.64 1529.94 Q1272.77 1529.94 1270.89 1530.35 Q1269.04 1530.77 1267.1 1531.65 L1267.1 1514.29 Z\" fill=\"#000000\" fill-rule=\"nonzero\" fill-opacity=\"1\" /><path clip-path=\"url(#clip230)\" d=\"M1307.21 1517.37 Q1303.6 1517.37 1301.77 1520.93 Q1299.97 1524.47 1299.97 1531.6 Q1299.97 1538.71 1301.77 1542.27 Q1303.6 1545.82 1307.21 1545.82 Q1310.85 1545.82 1312.65 1542.27 Q1314.48 1538.71 1314.48 1531.6 Q1314.48 1524.47 1312.65 1520.93 Q1310.85 1517.37 1307.21 1517.37 M1307.21 1513.66 Q1313.02 1513.66 1316.08 1518.27 Q1319.16 1522.85 1319.16 1531.6 Q1319.16 1540.33 1316.08 1544.94 Q1313.02 1549.52 1307.21 1549.52 Q1301.4 1549.52 1298.32 1544.94 Q1295.27 1540.33 1295.27 1531.6 Q1295.27 1522.85 1298.32 1518.27 Q1301.4 1513.66 1307.21 1513.66 Z\" fill=\"#000000\" fill-rule=\"nonzero\" fill-opacity=\"1\" /><path clip-path=\"url(#clip230)\" d=\"M1743.28 1517.37 Q1739.67 1517.37 1737.84 1520.93 Q1736.03 1524.47 1736.03 1531.6 Q1736.03 1538.71 1737.84 1542.27 Q1739.67 1545.82 1743.28 1545.82 Q1746.91 1545.82 1748.72 1542.27 Q1750.55 1538.71 1750.55 1531.6 Q1750.55 1524.47 1748.72 1520.93 Q1746.91 1517.37 1743.28 1517.37 M1743.28 1513.66 Q1749.09 1513.66 1752.14 1518.27 Q1755.22 1522.85 1755.22 1531.6 Q1755.22 1540.33 1752.14 1544.94 Q1749.09 1549.52 1743.28 1549.52 Q1737.47 1549.52 1734.39 1544.94 Q1731.33 1540.33 1731.33 1531.6 Q1731.33 1522.85 1734.39 1518.27 Q1737.47 1513.66 1743.28 1513.66 Z\" fill=\"#000000\" fill-rule=\"nonzero\" fill-opacity=\"1\" /><path clip-path=\"url(#clip230)\" d=\"M1763.44 1542.97 L1768.32 1542.97 L1768.32 1548.85 L1763.44 1548.85 L1763.44 1542.97 Z\" fill=\"#000000\" fill-rule=\"nonzero\" fill-opacity=\"1\" /><path clip-path=\"url(#clip230)\" d=\"M1777.33 1514.29 L1799.55 1514.29 L1799.55 1516.28 L1787.01 1548.85 L1782.12 1548.85 L1793.93 1518.22 L1777.33 1518.22 L1777.33 1514.29 Z\" fill=\"#000000\" fill-rule=\"nonzero\" fill-opacity=\"1\" /><path clip-path=\"url(#clip230)\" d=\"M1808.72 1514.29 L1827.07 1514.29 L1827.07 1518.22 L1813 1518.22 L1813 1526.7 Q1814.02 1526.35 1815.04 1526.19 Q1816.06 1526 1817.07 1526 Q1822.86 1526 1826.24 1529.17 Q1829.62 1532.34 1829.62 1537.76 Q1829.62 1543.34 1826.15 1546.44 Q1822.68 1549.52 1816.36 1549.52 Q1814.18 1549.52 1811.91 1549.15 Q1809.67 1548.78 1807.26 1548.04 L1807.26 1543.34 Q1809.34 1544.47 1811.57 1545.03 Q1813.79 1545.58 1816.26 1545.58 Q1820.27 1545.58 1822.61 1543.48 Q1824.95 1541.37 1824.95 1537.76 Q1824.95 1534.15 1822.61 1532.04 Q1820.27 1529.94 1816.26 1529.94 Q1814.39 1529.94 1812.51 1530.35 Q1810.66 1530.77 1808.72 1531.65 L1808.72 1514.29 Z\" fill=\"#000000\" fill-rule=\"nonzero\" fill-opacity=\"1\" /><path clip-path=\"url(#clip230)\" d=\"M2243.51 1544.91 L2251.15 1544.91 L2251.15 1518.55 L2242.84 1520.21 L2242.84 1515.95 L2251.1 1514.29 L2255.78 1514.29 L2255.78 1544.91 L2263.42 1544.91 L2263.42 1548.85 L2243.51 1548.85 L2243.51 1544.91 Z\" fill=\"#000000\" fill-rule=\"nonzero\" fill-opacity=\"1\" /><path clip-path=\"url(#clip230)\" d=\"M2272.86 1542.97 L2277.75 1542.97 L2277.75 1548.85 L2272.86 1548.85 L2272.86 1542.97 Z\" fill=\"#000000\" fill-rule=\"nonzero\" fill-opacity=\"1\" /><path clip-path=\"url(#clip230)\" d=\"M2297.93 1517.37 Q2294.32 1517.37 2292.49 1520.93 Q2290.69 1524.47 2290.69 1531.6 Q2290.69 1538.71 2292.49 1542.27 Q2294.32 1545.82 2297.93 1545.82 Q2301.57 1545.82 2303.37 1542.27 Q2305.2 1538.71 2305.2 1531.6 Q2305.2 1524.47 2303.37 1520.93 Q2301.57 1517.37 2297.93 1517.37 M2297.93 1513.66 Q2303.74 1513.66 2306.8 1518.27 Q2309.88 1522.85 2309.88 1531.6 Q2309.88 1540.33 2306.8 1544.94 Q2303.74 1549.52 2297.93 1549.52 Q2292.12 1549.52 2289.04 1544.94 Q2285.99 1540.33 2285.99 1531.6 Q2285.99 1522.85 2289.04 1518.27 Q2292.12 1513.66 2297.93 1513.66 Z\" fill=\"#000000\" fill-rule=\"nonzero\" fill-opacity=\"1\" /><path clip-path=\"url(#clip230)\" d=\"M2328.1 1517.37 Q2324.48 1517.37 2322.66 1520.93 Q2320.85 1524.47 2320.85 1531.6 Q2320.85 1538.71 2322.66 1542.27 Q2324.48 1545.82 2328.1 1545.82 Q2331.73 1545.82 2333.54 1542.27 Q2335.36 1538.71 2335.36 1531.6 Q2335.36 1524.47 2333.54 1520.93 Q2331.73 1517.37 2328.1 1517.37 M2328.1 1513.66 Q2333.91 1513.66 2336.96 1518.27 Q2340.04 1522.85 2340.04 1531.6 Q2340.04 1540.33 2336.96 1544.94 Q2333.91 1549.52 2328.1 1549.52 Q2322.29 1549.52 2319.21 1544.94 Q2316.15 1540.33 2316.15 1531.6 Q2316.15 1522.85 2319.21 1518.27 Q2322.29 1513.66 2328.1 1513.66 Z\" fill=\"#000000\" fill-rule=\"nonzero\" fill-opacity=\"1\" /><polyline clip-path=\"url(#clip232)\" style=\"stroke:#000000; stroke-linecap:round; stroke-linejoin:round; stroke-width:2; stroke-opacity:0.1; fill:none\" points=\"186.274,1445.72 2352.76,1445.72 \"/>\n",
       "<polyline clip-path=\"url(#clip232)\" style=\"stroke:#000000; stroke-linecap:round; stroke-linejoin:round; stroke-width:2; stroke-opacity:0.1; fill:none\" points=\"186.274,1106.28 2352.76,1106.28 \"/>\n",
       "<polyline clip-path=\"url(#clip232)\" style=\"stroke:#000000; stroke-linecap:round; stroke-linejoin:round; stroke-width:2; stroke-opacity:0.1; fill:none\" points=\"186.274,766.846 2352.76,766.846 \"/>\n",
       "<polyline clip-path=\"url(#clip232)\" style=\"stroke:#000000; stroke-linecap:round; stroke-linejoin:round; stroke-width:2; stroke-opacity:0.1; fill:none\" points=\"186.274,427.411 2352.76,427.411 \"/>\n",
       "<polyline clip-path=\"url(#clip232)\" style=\"stroke:#000000; stroke-linecap:round; stroke-linejoin:round; stroke-width:2; stroke-opacity:0.1; fill:none\" points=\"186.274,87.9763 2352.76,87.9763 \"/>\n",
       "<polyline clip-path=\"url(#clip230)\" style=\"stroke:#000000; stroke-linecap:round; stroke-linejoin:round; stroke-width:4; stroke-opacity:1; fill:none\" points=\"186.274,1486.45 186.274,47.2441 \"/>\n",
       "<polyline clip-path=\"url(#clip230)\" style=\"stroke:#000000; stroke-linecap:round; stroke-linejoin:round; stroke-width:4; stroke-opacity:1; fill:none\" points=\"186.274,1445.72 205.172,1445.72 \"/>\n",
       "<polyline clip-path=\"url(#clip230)\" style=\"stroke:#000000; stroke-linecap:round; stroke-linejoin:round; stroke-width:4; stroke-opacity:1; fill:none\" points=\"186.274,1106.28 205.172,1106.28 \"/>\n",
       "<polyline clip-path=\"url(#clip230)\" style=\"stroke:#000000; stroke-linecap:round; stroke-linejoin:round; stroke-width:4; stroke-opacity:1; fill:none\" points=\"186.274,766.846 205.172,766.846 \"/>\n",
       "<polyline clip-path=\"url(#clip230)\" style=\"stroke:#000000; stroke-linecap:round; stroke-linejoin:round; stroke-width:4; stroke-opacity:1; fill:none\" points=\"186.274,427.411 205.172,427.411 \"/>\n",
       "<polyline clip-path=\"url(#clip230)\" style=\"stroke:#000000; stroke-linecap:round; stroke-linejoin:round; stroke-width:4; stroke-opacity:1; fill:none\" points=\"186.274,87.9763 205.172,87.9763 \"/>\n",
       "<path clip-path=\"url(#clip230)\" d=\"M62.9365 1431.51 Q59.3254 1431.51 57.4967 1435.08 Q55.6912 1438.62 55.6912 1445.75 Q55.6912 1452.86 57.4967 1456.42 Q59.3254 1459.96 62.9365 1459.96 Q66.5707 1459.96 68.3763 1456.42 Q70.205 1452.86 70.205 1445.75 Q70.205 1438.62 68.3763 1435.08 Q66.5707 1431.51 62.9365 1431.51 M62.9365 1427.81 Q68.7467 1427.81 71.8022 1432.42 Q74.8809 1437 74.8809 1445.75 Q74.8809 1454.48 71.8022 1459.08 Q68.7467 1463.67 62.9365 1463.67 Q57.1264 1463.67 54.0477 1459.08 Q50.9921 1454.48 50.9921 1445.75 Q50.9921 1437 54.0477 1432.42 Q57.1264 1427.81 62.9365 1427.81 Z\" fill=\"#000000\" fill-rule=\"nonzero\" fill-opacity=\"1\" /><path clip-path=\"url(#clip230)\" d=\"M83.0984 1457.12 L87.9827 1457.12 L87.9827 1463 L83.0984 1463 L83.0984 1457.12 Z\" fill=\"#000000\" fill-rule=\"nonzero\" fill-opacity=\"1\" /><path clip-path=\"url(#clip230)\" d=\"M108.168 1431.51 Q104.557 1431.51 102.728 1435.08 Q100.922 1438.62 100.922 1445.75 Q100.922 1452.86 102.728 1456.42 Q104.557 1459.96 108.168 1459.96 Q111.802 1459.96 113.608 1456.42 Q115.436 1452.86 115.436 1445.75 Q115.436 1438.62 113.608 1435.08 Q111.802 1431.51 108.168 1431.51 M108.168 1427.81 Q113.978 1427.81 117.033 1432.42 Q120.112 1437 120.112 1445.75 Q120.112 1454.48 117.033 1459.08 Q113.978 1463.67 108.168 1463.67 Q102.358 1463.67 99.2789 1459.08 Q96.2234 1454.48 96.2234 1445.75 Q96.2234 1437 99.2789 1432.42 Q102.358 1427.81 108.168 1427.81 Z\" fill=\"#000000\" fill-rule=\"nonzero\" fill-opacity=\"1\" /><path clip-path=\"url(#clip230)\" d=\"M138.33 1431.51 Q134.719 1431.51 132.89 1435.08 Q131.084 1438.62 131.084 1445.75 Q131.084 1452.86 132.89 1456.42 Q134.719 1459.96 138.33 1459.96 Q141.964 1459.96 143.769 1456.42 Q145.598 1452.86 145.598 1445.75 Q145.598 1438.62 143.769 1435.08 Q141.964 1431.51 138.33 1431.51 M138.33 1427.81 Q144.14 1427.81 147.195 1432.42 Q150.274 1437 150.274 1445.75 Q150.274 1454.48 147.195 1459.08 Q144.14 1463.67 138.33 1463.67 Q132.519 1463.67 129.441 1459.08 Q126.385 1454.48 126.385 1445.75 Q126.385 1437 129.441 1432.42 Q132.519 1427.81 138.33 1427.81 Z\" fill=\"#000000\" fill-rule=\"nonzero\" fill-opacity=\"1\" /><path clip-path=\"url(#clip230)\" d=\"M63.9319 1092.08 Q60.3208 1092.08 58.4921 1095.64 Q56.6865 1099.19 56.6865 1106.32 Q56.6865 1113.42 58.4921 1116.99 Q60.3208 1120.53 63.9319 1120.53 Q67.5661 1120.53 69.3717 1116.99 Q71.2004 1113.42 71.2004 1106.32 Q71.2004 1099.19 69.3717 1095.64 Q67.5661 1092.08 63.9319 1092.08 M63.9319 1088.38 Q69.742 1088.38 72.7976 1092.98 Q75.8763 1097.57 75.8763 1106.32 Q75.8763 1115.04 72.7976 1119.65 Q69.742 1124.23 63.9319 1124.23 Q58.1217 1124.23 55.043 1119.65 Q51.9875 1115.04 51.9875 1106.32 Q51.9875 1097.57 55.043 1092.98 Q58.1217 1088.38 63.9319 1088.38 Z\" fill=\"#000000\" fill-rule=\"nonzero\" fill-opacity=\"1\" /><path clip-path=\"url(#clip230)\" d=\"M84.0938 1117.68 L88.978 1117.68 L88.978 1123.56 L84.0938 1123.56 L84.0938 1117.68 Z\" fill=\"#000000\" fill-rule=\"nonzero\" fill-opacity=\"1\" /><path clip-path=\"url(#clip230)\" d=\"M103.191 1119.63 L119.51 1119.63 L119.51 1123.56 L97.566 1123.56 L97.566 1119.63 Q100.228 1116.87 104.811 1112.24 Q109.418 1107.59 110.598 1106.25 Q112.844 1103.72 113.723 1101.99 Q114.626 1100.23 114.626 1098.54 Q114.626 1095.78 112.682 1094.05 Q110.76 1092.31 107.658 1092.31 Q105.459 1092.31 103.006 1093.07 Q100.575 1093.84 97.7974 1095.39 L97.7974 1090.67 Q100.621 1089.53 103.075 1088.95 Q105.529 1088.38 107.566 1088.38 Q112.936 1088.38 116.131 1091.06 Q119.325 1093.75 119.325 1098.24 Q119.325 1100.37 118.515 1102.29 Q117.728 1104.19 115.621 1106.78 Q115.043 1107.45 111.941 1110.67 Q108.839 1113.86 103.191 1119.63 Z\" fill=\"#000000\" fill-rule=\"nonzero\" fill-opacity=\"1\" /><path clip-path=\"url(#clip230)\" d=\"M129.371 1089 L147.728 1089 L147.728 1092.94 L133.654 1092.94 L133.654 1101.41 Q134.672 1101.06 135.691 1100.9 Q136.709 1100.71 137.728 1100.71 Q143.515 1100.71 146.894 1103.89 Q150.274 1107.06 150.274 1112.47 Q150.274 1118.05 146.802 1121.15 Q143.33 1124.23 137.01 1124.23 Q134.834 1124.23 132.566 1123.86 Q130.32 1123.49 127.913 1122.75 L127.913 1118.05 Q129.996 1119.19 132.219 1119.74 Q134.441 1120.3 136.918 1120.3 Q140.922 1120.3 143.26 1118.19 Q145.598 1116.08 145.598 1112.47 Q145.598 1108.86 143.26 1106.76 Q140.922 1104.65 136.918 1104.65 Q135.043 1104.65 133.168 1105.07 Q131.316 1105.48 129.371 1106.36 L129.371 1089 Z\" fill=\"#000000\" fill-rule=\"nonzero\" fill-opacity=\"1\" /><path clip-path=\"url(#clip230)\" d=\"M62.9365 752.645 Q59.3254 752.645 57.4967 756.209 Q55.6912 759.751 55.6912 766.881 Q55.6912 773.987 57.4967 777.552 Q59.3254 781.094 62.9365 781.094 Q66.5707 781.094 68.3763 777.552 Q70.205 773.987 70.205 766.881 Q70.205 759.751 68.3763 756.209 Q66.5707 752.645 62.9365 752.645 M62.9365 748.941 Q68.7467 748.941 71.8022 753.547 Q74.8809 758.131 74.8809 766.881 Q74.8809 775.608 71.8022 780.214 Q68.7467 784.797 62.9365 784.797 Q57.1264 784.797 54.0477 780.214 Q50.9921 775.608 50.9921 766.881 Q50.9921 758.131 54.0477 753.547 Q57.1264 748.941 62.9365 748.941 Z\" fill=\"#000000\" fill-rule=\"nonzero\" fill-opacity=\"1\" /><path clip-path=\"url(#clip230)\" d=\"M83.0984 778.246 L87.9827 778.246 L87.9827 784.126 L83.0984 784.126 L83.0984 778.246 Z\" fill=\"#000000\" fill-rule=\"nonzero\" fill-opacity=\"1\" /><path clip-path=\"url(#clip230)\" d=\"M98.2141 749.566 L116.57 749.566 L116.57 753.501 L102.496 753.501 L102.496 761.973 Q103.515 761.626 104.534 761.464 Q105.552 761.279 106.571 761.279 Q112.358 761.279 115.737 764.45 Q119.117 767.621 119.117 773.038 Q119.117 778.617 115.645 781.719 Q112.172 784.797 105.853 784.797 Q103.677 784.797 101.409 784.427 Q99.1632 784.057 96.7558 783.316 L96.7558 778.617 Q98.8391 779.751 101.061 780.307 Q103.284 780.862 105.76 780.862 Q109.765 780.862 112.103 778.756 Q114.441 776.649 114.441 773.038 Q114.441 769.427 112.103 767.321 Q109.765 765.214 105.76 765.214 Q103.885 765.214 102.01 765.631 Q100.159 766.047 98.2141 766.927 L98.2141 749.566 Z\" fill=\"#000000\" fill-rule=\"nonzero\" fill-opacity=\"1\" /><path clip-path=\"url(#clip230)\" d=\"M138.33 752.645 Q134.719 752.645 132.89 756.209 Q131.084 759.751 131.084 766.881 Q131.084 773.987 132.89 777.552 Q134.719 781.094 138.33 781.094 Q141.964 781.094 143.769 777.552 Q145.598 773.987 145.598 766.881 Q145.598 759.751 143.769 756.209 Q141.964 752.645 138.33 752.645 M138.33 748.941 Q144.14 748.941 147.195 753.547 Q150.274 758.131 150.274 766.881 Q150.274 775.608 147.195 780.214 Q144.14 784.797 138.33 784.797 Q132.519 784.797 129.441 780.214 Q126.385 775.608 126.385 766.881 Q126.385 758.131 129.441 753.547 Q132.519 748.941 138.33 748.941 Z\" fill=\"#000000\" fill-rule=\"nonzero\" fill-opacity=\"1\" /><path clip-path=\"url(#clip230)\" d=\"M63.9319 413.21 Q60.3208 413.21 58.4921 416.775 Q56.6865 420.316 56.6865 427.446 Q56.6865 434.552 58.4921 438.117 Q60.3208 441.659 63.9319 441.659 Q67.5661 441.659 69.3717 438.117 Q71.2004 434.552 71.2004 427.446 Q71.2004 420.316 69.3717 416.775 Q67.5661 413.21 63.9319 413.21 M63.9319 409.506 Q69.742 409.506 72.7976 414.113 Q75.8763 418.696 75.8763 427.446 Q75.8763 436.173 72.7976 440.779 Q69.742 445.362 63.9319 445.362 Q58.1217 445.362 55.043 440.779 Q51.9875 436.173 51.9875 427.446 Q51.9875 418.696 55.043 414.113 Q58.1217 409.506 63.9319 409.506 Z\" fill=\"#000000\" fill-rule=\"nonzero\" fill-opacity=\"1\" /><path clip-path=\"url(#clip230)\" d=\"M84.0938 438.812 L88.978 438.812 L88.978 444.691 L84.0938 444.691 L84.0938 438.812 Z\" fill=\"#000000\" fill-rule=\"nonzero\" fill-opacity=\"1\" /><path clip-path=\"url(#clip230)\" d=\"M97.9826 410.131 L120.205 410.131 L120.205 412.122 L107.658 444.691 L102.774 444.691 L114.58 414.066 L97.9826 414.066 L97.9826 410.131 Z\" fill=\"#000000\" fill-rule=\"nonzero\" fill-opacity=\"1\" /><path clip-path=\"url(#clip230)\" d=\"M129.371 410.131 L147.728 410.131 L147.728 414.066 L133.654 414.066 L133.654 422.538 Q134.672 422.191 135.691 422.029 Q136.709 421.844 137.728 421.844 Q143.515 421.844 146.894 425.015 Q150.274 428.187 150.274 433.603 Q150.274 439.182 146.802 442.284 Q143.33 445.362 137.01 445.362 Q134.834 445.362 132.566 444.992 Q130.32 444.622 127.913 443.881 L127.913 439.182 Q129.996 440.316 132.219 440.872 Q134.441 441.427 136.918 441.427 Q140.922 441.427 143.26 439.321 Q145.598 437.214 145.598 433.603 Q145.598 429.992 143.26 427.886 Q140.922 425.779 136.918 425.779 Q135.043 425.779 133.168 426.196 Q131.316 426.613 129.371 427.492 L129.371 410.131 Z\" fill=\"#000000\" fill-rule=\"nonzero\" fill-opacity=\"1\" /><path clip-path=\"url(#clip230)\" d=\"M53.7467 101.321 L61.3856 101.321 L61.3856 74.9555 L53.0754 76.6222 L53.0754 72.3629 L61.3393 70.6963 L66.0152 70.6963 L66.0152 101.321 L73.654 101.321 L73.654 105.256 L53.7467 105.256 L53.7467 101.321 Z\" fill=\"#000000\" fill-rule=\"nonzero\" fill-opacity=\"1\" /><path clip-path=\"url(#clip230)\" d=\"M83.0984 99.3767 L87.9827 99.3767 L87.9827 105.256 L83.0984 105.256 L83.0984 99.3767 Z\" fill=\"#000000\" fill-rule=\"nonzero\" fill-opacity=\"1\" /><path clip-path=\"url(#clip230)\" d=\"M108.168 73.775 Q104.557 73.775 102.728 77.3398 Q100.922 80.8814 100.922 88.011 Q100.922 95.1174 102.728 98.6822 Q104.557 102.224 108.168 102.224 Q111.802 102.224 113.608 98.6822 Q115.436 95.1174 115.436 88.011 Q115.436 80.8814 113.608 77.3398 Q111.802 73.775 108.168 73.775 M108.168 70.0713 Q113.978 70.0713 117.033 74.6777 Q120.112 79.261 120.112 88.011 Q120.112 96.7378 117.033 101.344 Q113.978 105.928 108.168 105.928 Q102.358 105.928 99.2789 101.344 Q96.2234 96.7378 96.2234 88.011 Q96.2234 79.261 99.2789 74.6777 Q102.358 70.0713 108.168 70.0713 Z\" fill=\"#000000\" fill-rule=\"nonzero\" fill-opacity=\"1\" /><path clip-path=\"url(#clip230)\" d=\"M138.33 73.775 Q134.719 73.775 132.89 77.3398 Q131.084 80.8814 131.084 88.011 Q131.084 95.1174 132.89 98.6822 Q134.719 102.224 138.33 102.224 Q141.964 102.224 143.769 98.6822 Q145.598 95.1174 145.598 88.011 Q145.598 80.8814 143.769 77.3398 Q141.964 73.775 138.33 73.775 M138.33 70.0713 Q144.14 70.0713 147.195 74.6777 Q150.274 79.261 150.274 88.011 Q150.274 96.7378 147.195 101.344 Q144.14 105.928 138.33 105.928 Q132.519 105.928 129.441 101.344 Q126.385 96.7378 126.385 88.011 Q126.385 79.261 129.441 74.6777 Q132.519 70.0713 138.33 70.0713 Z\" fill=\"#000000\" fill-rule=\"nonzero\" fill-opacity=\"1\" /><polyline clip-path=\"url(#clip232)\" style=\"stroke:#009af9; stroke-linecap:round; stroke-linejoin:round; stroke-width:4; stroke-opacity:1; fill:none\" points=\"247.59,1445.72 451.975,1432.14 656.36,1391.41 860.745,1323.52 1065.13,1228.48 1269.51,1106.28 1473.9,956.93 1678.29,780.423 1882.67,576.762 2087.06,345.947 2291.44,87.9763 \"/>\n",
       "<polyline clip-path=\"url(#clip232)\" style=\"stroke:#e26f46; stroke-linecap:round; stroke-linejoin:round; stroke-width:4; stroke-opacity:1; fill:none\" points=\"247.59,1445.72 451.975,1445.26 656.36,1442.1 860.745,1433.5 1065.13,1416.75 1269.51,1389.14 1473.9,1347.96 1678.29,1290.48 1882.67,1213.99 2087.06,1115.79 2291.44,993.136 \"/>\n",
       "<path clip-path=\"url(#clip230)\" d=\"M258.49 250.738 L573.772 250.738 L573.772 95.2176 L258.49 95.2176  Z\" fill=\"#ffffff\" fill-rule=\"evenodd\" fill-opacity=\"1\"/>\n",
       "<polyline clip-path=\"url(#clip230)\" style=\"stroke:#000000; stroke-linecap:round; stroke-linejoin:round; stroke-width:4; stroke-opacity:1; fill:none\" points=\"258.49,250.738 573.772,250.738 573.772,95.2176 258.49,95.2176 258.49,250.738 \"/>\n",
       "<polyline clip-path=\"url(#clip230)\" style=\"stroke:#009af9; stroke-linecap:round; stroke-linejoin:round; stroke-width:4; stroke-opacity:1; fill:none\" points=\"282.562,147.058 426.994,147.058 \"/>\n",
       "<path clip-path=\"url(#clip230)\" d=\"M467.571 128.319 L467.571 131.861 L463.497 131.861 Q461.205 131.861 460.302 132.787 Q459.423 133.713 459.423 136.12 L459.423 138.412 L466.437 138.412 L466.437 141.722 L459.423 141.722 L459.423 164.338 L455.14 164.338 L455.14 141.722 L451.066 141.722 L451.066 138.412 L455.14 138.412 L455.14 136.606 Q455.14 132.278 457.154 130.31 Q459.168 128.319 463.543 128.319 L467.571 128.319 Z\" fill=\"#000000\" fill-rule=\"nonzero\" fill-opacity=\"1\" /><polyline clip-path=\"url(#clip230)\" style=\"stroke:#e26f46; stroke-linecap:round; stroke-linejoin:round; stroke-width:4; stroke-opacity:1; fill:none\" points=\"282.562,198.898 426.994,198.898 \"/>\n",
       "<path clip-path=\"url(#clip230)\" d=\"M451.066 190.252 L455.325 190.252 L455.325 216.178 L451.066 216.178 L451.066 190.252 M451.066 180.159 L455.325 180.159 L455.325 185.553 L451.066 185.553 L451.066 180.159 Z\" fill=\"#000000\" fill-rule=\"nonzero\" fill-opacity=\"1\" /><path clip-path=\"url(#clip230)\" d=\"M485.788 200.529 L485.788 216.178 L481.529 216.178 L481.529 200.668 Q481.529 196.988 480.094 195.159 Q478.659 193.33 475.788 193.33 Q472.339 193.33 470.349 195.53 Q468.358 197.729 468.358 201.525 L468.358 216.178 L464.075 216.178 L464.075 190.252 L468.358 190.252 L468.358 194.28 Q469.886 191.942 471.946 190.784 Q474.029 189.627 476.737 189.627 Q481.205 189.627 483.497 192.405 Q485.788 195.159 485.788 200.529 Z\" fill=\"#000000\" fill-rule=\"nonzero\" fill-opacity=\"1\" /><path clip-path=\"url(#clip230)\" d=\"M498.497 182.891 L498.497 190.252 L507.27 190.252 L507.27 193.562 L498.497 193.562 L498.497 207.636 Q498.497 210.807 499.353 211.71 Q500.233 212.613 502.895 212.613 L507.27 212.613 L507.27 216.178 L502.895 216.178 Q497.964 216.178 496.089 214.349 Q494.214 212.497 494.214 207.636 L494.214 193.562 L491.089 193.562 L491.089 190.252 L494.214 190.252 L494.214 182.891 L498.497 182.891 Z\" fill=\"#000000\" fill-rule=\"nonzero\" fill-opacity=\"1\" /><path clip-path=\"url(#clip230)\" d=\"M532.57 224.048 L532.57 227.358 L507.941 227.358 L507.941 224.048 L532.57 224.048 Z\" fill=\"#000000\" fill-rule=\"nonzero\" fill-opacity=\"1\" /><path clip-path=\"url(#clip230)\" d=\"M549.7 180.159 L549.7 183.701 L545.626 183.701 Q543.334 183.701 542.431 184.627 Q541.552 185.553 541.552 187.96 L541.552 190.252 L548.566 190.252 L548.566 193.562 L541.552 193.562 L541.552 216.178 L537.269 216.178 L537.269 193.562 L533.195 193.562 L533.195 190.252 L537.269 190.252 L537.269 188.446 Q537.269 184.118 539.283 182.15 Q541.297 180.159 545.672 180.159 L549.7 180.159 Z\" fill=\"#000000\" fill-rule=\"nonzero\" fill-opacity=\"1\" /></svg>\n"
      ]
     },
     "execution_count": 33,
     "metadata": {},
     "output_type": "execute_result"
    }
   ],
   "source": [
    "using QuadGK\n",
    "f(x) = x^2\n",
    "@show quadgk(f, 0.0, 1.0)  # integral\n",
    "\n",
    "function plotfunctions(f)\n",
    "    intf(x) = quadgk(f, 0.0, x)[1]  # int_0^x f(x) dx\n",
    "\n",
    "    x = 0:0.1:1.0\n",
    "    f_x = f.(x)\n",
    "    plot(x, f_x, label = \"f\")\n",
    "    plot!(x, intf.(x), label = \"int_f\")\n",
    "end\n",
    "plotfunctions(f)  # call with our f"
   ]
  },
  {
   "cell_type": "markdown",
   "id": "1f1a2cbc",
   "metadata": {},
   "source": [
    "Of course, univariate polynomials are another type of univariate function"
   ]
  },
  {
   "cell_type": "code",
   "execution_count": 34,
   "id": "1d219dd6",
   "metadata": {},
   "outputs": [
    {
     "name": "stdout",
     "output_type": "stream",
     "text": [
      "p = Polynomial(2 - 5*x + 2*x^2)\n",
      "p(1.0) = -1.0\n"
     ]
    },
    {
     "data": {
      "image/png": "[encoded data removed]",
      "image/svg+xml": [
       "<?xml version=\"1.0\" encoding=\"utf-8\"?>\n",
       "<svg xmlns=\"http://www.w3.org/2000/svg\" xmlns:xlink=\"http://www.w3.org/1999/xlink\" width=\"600\" height=\"400\" viewBox=\"0 0 2400 1600\">\n",
       "<defs>\n",
       "  <clipPath id=\"clip270\">\n",
       "    <rect x=\"0\" y=\"0\" width=\"2400\" height=\"1600\"/>\n",
       "  </clipPath>\n",
       "</defs>\n",
       "<path clip-path=\"url(#clip270)\" d=\"M0 1600 L2400 1600 L2400 0 L0 0  Z\" fill=\"#ffffff\" fill-rule=\"evenodd\" fill-opacity=\"1\"/>\n",
       "<defs>\n",
       "  <clipPath id=\"clip271\">\n",
       "    <rect x=\"480\" y=\"0\" width=\"1681\" height=\"1600\"/>\n",
       "  </clipPath>\n",
       "</defs>\n",
       "<path clip-path=\"url(#clip270)\" d=\"M147.478 1486.45 L2352.76 1486.45 L2352.76 47.2441 L147.478 47.2441  Z\" fill=\"#ffffff\" fill-rule=\"evenodd\" fill-opacity=\"1\"/>\n",
       "<defs>\n",
       "  <clipPath id=\"clip272\">\n",
       "    <rect x=\"147\" y=\"47\" width=\"2206\" height=\"1440\"/>\n",
       "  </clipPath>\n",
       "</defs>\n",
       "<polyline clip-path=\"url(#clip272)\" style=\"stroke:#000000; stroke-linecap:round; stroke-linejoin:round; stroke-width:2; stroke-opacity:0.1; fill:none\" points=\"209.891,1486.45 209.891,47.2441 \"/>\n",
       "<polyline clip-path=\"url(#clip272)\" style=\"stroke:#000000; stroke-linecap:round; stroke-linejoin:round; stroke-width:2; stroke-opacity:0.1; fill:none\" points=\"730.004,1486.45 730.004,47.2441 \"/>\n",
       "<polyline clip-path=\"url(#clip272)\" style=\"stroke:#000000; stroke-linecap:round; stroke-linejoin:round; stroke-width:2; stroke-opacity:0.1; fill:none\" points=\"1250.12,1486.45 1250.12,47.2441 \"/>\n",
       "<polyline clip-path=\"url(#clip272)\" style=\"stroke:#000000; stroke-linecap:round; stroke-linejoin:round; stroke-width:2; stroke-opacity:0.1; fill:none\" points=\"1770.23,1486.45 1770.23,47.2441 \"/>\n",
       "<polyline clip-path=\"url(#clip272)\" style=\"stroke:#000000; stroke-linecap:round; stroke-linejoin:round; stroke-width:2; stroke-opacity:0.1; fill:none\" points=\"2290.34,1486.45 2290.34,47.2441 \"/>\n",
       "<polyline clip-path=\"url(#clip270)\" style=\"stroke:#000000; stroke-linecap:round; stroke-linejoin:round; stroke-width:4; stroke-opacity:1; fill:none\" points=\"147.478,1486.45 2352.76,1486.45 \"/>\n",
       "<polyline clip-path=\"url(#clip270)\" style=\"stroke:#000000; stroke-linecap:round; stroke-linejoin:round; stroke-width:4; stroke-opacity:1; fill:none\" points=\"209.891,1486.45 209.891,1467.55 \"/>\n",
       "<polyline clip-path=\"url(#clip270)\" style=\"stroke:#000000; stroke-linecap:round; stroke-linejoin:round; stroke-width:4; stroke-opacity:1; fill:none\" points=\"730.004,1486.45 730.004,1467.55 \"/>\n",
       "<polyline clip-path=\"url(#clip270)\" style=\"stroke:#000000; stroke-linecap:round; stroke-linejoin:round; stroke-width:4; stroke-opacity:1; fill:none\" points=\"1250.12,1486.45 1250.12,1467.55 \"/>\n",
       "<polyline clip-path=\"url(#clip270)\" style=\"stroke:#000000; stroke-linecap:round; stroke-linejoin:round; stroke-width:4; stroke-opacity:1; fill:none\" points=\"1770.23,1486.45 1770.23,1467.55 \"/>\n",
       "<polyline clip-path=\"url(#clip270)\" style=\"stroke:#000000; stroke-linecap:round; stroke-linejoin:round; stroke-width:4; stroke-opacity:1; fill:none\" points=\"2290.34,1486.45 2290.34,1467.55 \"/>\n",
       "<path clip-path=\"url(#clip270)\" d=\"M172.195 1517.37 Q168.584 1517.37 166.755 1520.93 Q164.95 1524.47 164.95 1531.6 Q164.95 1538.71 166.755 1542.27 Q168.584 1545.82 172.195 1545.82 Q175.829 1545.82 177.635 1542.27 Q179.463 1538.71 179.463 1531.6 Q179.463 1524.47 177.635 1520.93 Q175.829 1517.37 172.195 1517.37 M172.195 1513.66 Q178.005 1513.66 181.061 1518.27 Q184.139 1522.85 184.139 1531.6 Q184.139 1540.33 181.061 1544.94 Q178.005 1549.52 172.195 1549.52 Q166.385 1549.52 163.306 1544.94 Q160.251 1540.33 160.251 1531.6 Q160.251 1522.85 163.306 1518.27 Q166.385 1513.66 172.195 1513.66 Z\" fill=\"#000000\" fill-rule=\"nonzero\" fill-opacity=\"1\" /><path clip-path=\"url(#clip270)\" d=\"M192.357 1542.97 L197.241 1542.97 L197.241 1548.85 L192.357 1548.85 L192.357 1542.97 Z\" fill=\"#000000\" fill-rule=\"nonzero\" fill-opacity=\"1\" /><path clip-path=\"url(#clip270)\" d=\"M217.426 1517.37 Q213.815 1517.37 211.986 1520.93 Q210.181 1524.47 210.181 1531.6 Q210.181 1538.71 211.986 1542.27 Q213.815 1545.82 217.426 1545.82 Q221.06 1545.82 222.866 1542.27 Q224.695 1538.71 224.695 1531.6 Q224.695 1524.47 222.866 1520.93 Q221.06 1517.37 217.426 1517.37 M217.426 1513.66 Q223.236 1513.66 226.292 1518.27 Q229.371 1522.85 229.371 1531.6 Q229.371 1540.33 226.292 1544.94 Q223.236 1549.52 217.426 1549.52 Q211.616 1549.52 208.537 1544.94 Q205.482 1540.33 205.482 1531.6 Q205.482 1522.85 208.537 1518.27 Q211.616 1513.66 217.426 1513.66 Z\" fill=\"#000000\" fill-rule=\"nonzero\" fill-opacity=\"1\" /><path clip-path=\"url(#clip270)\" d=\"M247.588 1517.37 Q243.977 1517.37 242.148 1520.93 Q240.343 1524.47 240.343 1531.6 Q240.343 1538.71 242.148 1542.27 Q243.977 1545.82 247.588 1545.82 Q251.222 1545.82 253.028 1542.27 Q254.856 1538.71 254.856 1531.6 Q254.856 1524.47 253.028 1520.93 Q251.222 1517.37 247.588 1517.37 M247.588 1513.66 Q253.398 1513.66 256.454 1518.27 Q259.532 1522.85 259.532 1531.6 Q259.532 1540.33 256.454 1544.94 Q253.398 1549.52 247.588 1549.52 Q241.778 1549.52 238.699 1544.94 Q235.644 1540.33 235.644 1531.6 Q235.644 1522.85 238.699 1518.27 Q241.778 1513.66 247.588 1513.66 Z\" fill=\"#000000\" fill-rule=\"nonzero\" fill-opacity=\"1\" /><path clip-path=\"url(#clip270)\" d=\"M692.805 1517.37 Q689.194 1517.37 687.366 1520.93 Q685.56 1524.47 685.56 1531.6 Q685.56 1538.71 687.366 1542.27 Q689.194 1545.82 692.805 1545.82 Q696.44 1545.82 698.245 1542.27 Q700.074 1538.71 700.074 1531.6 Q700.074 1524.47 698.245 1520.93 Q696.44 1517.37 692.805 1517.37 M692.805 1513.66 Q698.615 1513.66 701.671 1518.27 Q704.75 1522.85 704.75 1531.6 Q704.75 1540.33 701.671 1544.94 Q698.615 1549.52 692.805 1549.52 Q686.995 1549.52 683.916 1544.94 Q680.861 1540.33 680.861 1531.6 Q680.861 1522.85 683.916 1518.27 Q686.995 1513.66 692.805 1513.66 Z\" fill=\"#000000\" fill-rule=\"nonzero\" fill-opacity=\"1\" /><path clip-path=\"url(#clip270)\" d=\"M712.967 1542.97 L717.851 1542.97 L717.851 1548.85 L712.967 1548.85 L712.967 1542.97 Z\" fill=\"#000000\" fill-rule=\"nonzero\" fill-opacity=\"1\" /><path clip-path=\"url(#clip270)\" d=\"M732.064 1544.91 L748.384 1544.91 L748.384 1548.85 L726.439 1548.85 L726.439 1544.91 Q729.101 1542.16 733.685 1537.53 Q738.291 1532.88 739.472 1531.53 Q741.717 1529.01 742.597 1527.27 Q743.499 1525.51 743.499 1523.82 Q743.499 1521.07 741.555 1519.33 Q739.634 1517.6 736.532 1517.6 Q734.333 1517.6 731.879 1518.36 Q729.449 1519.13 726.671 1520.68 L726.671 1515.95 Q729.495 1514.82 731.949 1514.24 Q734.402 1513.66 736.439 1513.66 Q741.81 1513.66 745.004 1516.35 Q748.199 1519.03 748.199 1523.52 Q748.199 1525.65 747.388 1527.57 Q746.601 1529.47 744.495 1532.07 Q743.916 1532.74 740.814 1535.95 Q737.712 1539.15 732.064 1544.91 Z\" fill=\"#000000\" fill-rule=\"nonzero\" fill-opacity=\"1\" /><path clip-path=\"url(#clip270)\" d=\"M758.245 1514.29 L776.601 1514.29 L776.601 1518.22 L762.527 1518.22 L762.527 1526.7 Q763.546 1526.35 764.564 1526.19 Q765.583 1526 766.601 1526 Q772.388 1526 775.768 1529.17 Q779.147 1532.34 779.147 1537.76 Q779.147 1543.34 775.675 1546.44 Q772.203 1549.52 765.884 1549.52 Q763.708 1549.52 761.439 1549.15 Q759.194 1548.78 756.786 1548.04 L756.786 1543.34 Q758.87 1544.47 761.092 1545.03 Q763.314 1545.58 765.791 1545.58 Q769.796 1545.58 772.134 1543.48 Q774.472 1541.37 774.472 1537.76 Q774.472 1534.15 772.134 1532.04 Q769.796 1529.94 765.791 1529.94 Q763.916 1529.94 762.041 1530.35 Q760.189 1530.77 758.245 1531.65 L758.245 1514.29 Z\" fill=\"#000000\" fill-rule=\"nonzero\" fill-opacity=\"1\" /><path clip-path=\"url(#clip270)\" d=\"M1212.42 1517.37 Q1208.81 1517.37 1206.98 1520.93 Q1205.18 1524.47 1205.18 1531.6 Q1205.18 1538.71 1206.98 1542.27 Q1208.81 1545.82 1212.42 1545.82 Q1216.05 1545.82 1217.86 1542.27 Q1219.69 1538.71 1219.69 1531.6 Q1219.69 1524.47 1217.86 1520.93 Q1216.05 1517.37 1212.42 1517.37 M1212.42 1513.66 Q1218.23 1513.66 1221.29 1518.27 Q1224.36 1522.85 1224.36 1531.6 Q1224.36 1540.33 1221.29 1544.94 Q1218.23 1549.52 1212.42 1549.52 Q1206.61 1549.52 1203.53 1544.94 Q1200.48 1540.33 1200.48 1531.6 Q1200.48 1522.85 1203.53 1518.27 Q1206.61 1513.66 1212.42 1513.66 Z\" fill=\"#000000\" fill-rule=\"nonzero\" fill-opacity=\"1\" /><path clip-path=\"url(#clip270)\" d=\"M1232.58 1542.97 L1237.47 1542.97 L1237.47 1548.85 L1232.58 1548.85 L1232.58 1542.97 Z\" fill=\"#000000\" fill-rule=\"nonzero\" fill-opacity=\"1\" /><path clip-path=\"url(#clip270)\" d=\"M1247.7 1514.29 L1266.05 1514.29 L1266.05 1518.22 L1251.98 1518.22 L1251.98 1526.7 Q1253 1526.35 1254.02 1526.19 Q1255.04 1526 1256.05 1526 Q1261.84 1526 1265.22 1529.17 Q1268.6 1532.34 1268.6 1537.76 Q1268.6 1543.34 1265.13 1546.44 Q1261.66 1549.52 1255.34 1549.52 Q1253.16 1549.52 1250.89 1549.15 Q1248.65 1548.78 1246.24 1548.04 L1246.24 1543.34 Q1248.32 1544.47 1250.55 1545.03 Q1252.77 1545.58 1255.24 1545.58 Q1259.25 1545.58 1261.59 1543.48 Q1263.92 1541.37 1263.92 1537.76 Q1263.92 1534.15 1261.59 1532.04 Q1259.25 1529.94 1255.24 1529.94 Q1253.37 1529.94 1251.49 1530.35 Q1249.64 1530.77 1247.7 1531.65 L1247.7 1514.29 Z\" fill=\"#000000\" fill-rule=\"nonzero\" fill-opacity=\"1\" /><path clip-path=\"url(#clip270)\" d=\"M1287.81 1517.37 Q1284.2 1517.37 1282.37 1520.93 Q1280.57 1524.47 1280.57 1531.6 Q1280.57 1538.71 1282.37 1542.27 Q1284.2 1545.82 1287.81 1545.82 Q1291.45 1545.82 1293.25 1542.27 Q1295.08 1538.71 1295.08 1531.6 Q1295.08 1524.47 1293.25 1520.93 Q1291.45 1517.37 1287.81 1517.37 M1287.81 1513.66 Q1293.62 1513.66 1296.68 1518.27 Q1299.76 1522.85 1299.76 1531.6 Q1299.76 1540.33 1296.68 1544.94 Q1293.62 1549.52 1287.81 1549.52 Q1282 1549.52 1278.92 1544.94 Q1275.87 1540.33 1275.87 1531.6 Q1275.87 1522.85 1278.92 1518.27 Q1282 1513.66 1287.81 1513.66 Z\" fill=\"#000000\" fill-rule=\"nonzero\" fill-opacity=\"1\" /><path clip-path=\"url(#clip270)\" d=\"M1733.03 1517.37 Q1729.42 1517.37 1727.59 1520.93 Q1725.79 1524.47 1725.79 1531.6 Q1725.79 1538.71 1727.59 1542.27 Q1729.42 1545.82 1733.03 1545.82 Q1736.67 1545.82 1738.47 1542.27 Q1740.3 1538.71 1740.3 1531.6 Q1740.3 1524.47 1738.47 1520.93 Q1736.67 1517.37 1733.03 1517.37 M1733.03 1513.66 Q1738.84 1513.66 1741.9 1518.27 Q1744.98 1522.85 1744.98 1531.6 Q1744.98 1540.33 1741.9 1544.94 Q1738.84 1549.52 1733.03 1549.52 Q1727.22 1549.52 1724.14 1544.94 Q1721.09 1540.33 1721.09 1531.6 Q1721.09 1522.85 1724.14 1518.27 Q1727.22 1513.66 1733.03 1513.66 Z\" fill=\"#000000\" fill-rule=\"nonzero\" fill-opacity=\"1\" /><path clip-path=\"url(#clip270)\" d=\"M1753.19 1542.97 L1758.08 1542.97 L1758.08 1548.85 L1753.19 1548.85 L1753.19 1542.97 Z\" fill=\"#000000\" fill-rule=\"nonzero\" fill-opacity=\"1\" /><path clip-path=\"url(#clip270)\" d=\"M1767.08 1514.29 L1789.3 1514.29 L1789.3 1516.28 L1776.76 1548.85 L1771.87 1548.85 L1783.68 1518.22 L1767.08 1518.22 L1767.08 1514.29 Z\" fill=\"#000000\" fill-rule=\"nonzero\" fill-opacity=\"1\" /><path clip-path=\"url(#clip270)\" d=\"M1798.47 1514.29 L1816.83 1514.29 L1816.83 1518.22 L1802.75 1518.22 L1802.75 1526.7 Q1803.77 1526.35 1804.79 1526.19 Q1805.81 1526 1806.83 1526 Q1812.61 1526 1815.99 1529.17 Q1819.37 1532.34 1819.37 1537.76 Q1819.37 1543.34 1815.9 1546.44 Q1812.43 1549.52 1806.11 1549.52 Q1803.93 1549.52 1801.66 1549.15 Q1799.42 1548.78 1797.01 1548.04 L1797.01 1543.34 Q1799.1 1544.47 1801.32 1545.03 Q1803.54 1545.58 1806.02 1545.58 Q1810.02 1545.58 1812.36 1543.48 Q1814.7 1541.37 1814.7 1537.76 Q1814.7 1534.15 1812.36 1532.04 Q1810.02 1529.94 1806.02 1529.94 Q1804.14 1529.94 1802.27 1530.35 Q1800.41 1530.77 1798.47 1531.65 L1798.47 1514.29 Z\" fill=\"#000000\" fill-rule=\"nonzero\" fill-opacity=\"1\" /><path clip-path=\"url(#clip270)\" d=\"M2242.41 1544.91 L2250.05 1544.91 L2250.05 1518.55 L2241.74 1520.21 L2241.74 1515.95 L2250.01 1514.29 L2254.68 1514.29 L2254.68 1544.91 L2262.32 1544.91 L2262.32 1548.85 L2242.41 1548.85 L2242.41 1544.91 Z\" fill=\"#000000\" fill-rule=\"nonzero\" fill-opacity=\"1\" /><path clip-path=\"url(#clip270)\" d=\"M2271.77 1542.97 L2276.65 1542.97 L2276.65 1548.85 L2271.77 1548.85 L2271.77 1542.97 Z\" fill=\"#000000\" fill-rule=\"nonzero\" fill-opacity=\"1\" /><path clip-path=\"url(#clip270)\" d=\"M2296.84 1517.37 Q2293.22 1517.37 2291.4 1520.93 Q2289.59 1524.47 2289.59 1531.6 Q2289.59 1538.71 2291.4 1542.27 Q2293.22 1545.82 2296.84 1545.82 Q2300.47 1545.82 2302.28 1542.27 Q2304.1 1538.71 2304.1 1531.6 Q2304.1 1524.47 2302.28 1520.93 Q2300.47 1517.37 2296.84 1517.37 M2296.84 1513.66 Q2302.65 1513.66 2305.7 1518.27 Q2308.78 1522.85 2308.78 1531.6 Q2308.78 1540.33 2305.7 1544.94 Q2302.65 1549.52 2296.84 1549.52 Q2291.03 1549.52 2287.95 1544.94 Q2284.89 1540.33 2284.89 1531.6 Q2284.89 1522.85 2287.95 1518.27 Q2291.03 1513.66 2296.84 1513.66 Z\" fill=\"#000000\" fill-rule=\"nonzero\" fill-opacity=\"1\" /><path clip-path=\"url(#clip270)\" d=\"M2327 1517.37 Q2323.39 1517.37 2321.56 1520.93 Q2319.75 1524.47 2319.75 1531.6 Q2319.75 1538.71 2321.56 1542.27 Q2323.39 1545.82 2327 1545.82 Q2330.63 1545.82 2332.44 1542.27 Q2334.27 1538.71 2334.27 1531.6 Q2334.27 1524.47 2332.44 1520.93 Q2330.63 1517.37 2327 1517.37 M2327 1513.66 Q2332.81 1513.66 2335.86 1518.27 Q2338.94 1522.85 2338.94 1531.6 Q2338.94 1540.33 2335.86 1544.94 Q2332.81 1549.52 2327 1549.52 Q2321.19 1549.52 2318.11 1544.94 Q2315.05 1540.33 2315.05 1531.6 Q2315.05 1522.85 2318.11 1518.27 Q2321.19 1513.66 2327 1513.66 Z\" fill=\"#000000\" fill-rule=\"nonzero\" fill-opacity=\"1\" /><polyline clip-path=\"url(#clip272)\" style=\"stroke:#000000; stroke-linecap:round; stroke-linejoin:round; stroke-width:2; stroke-opacity:0.1; fill:none\" points=\"147.478,1445.72 2352.76,1445.72 \"/>\n",
       "<polyline clip-path=\"url(#clip272)\" style=\"stroke:#000000; stroke-linecap:round; stroke-linejoin:round; stroke-width:2; stroke-opacity:0.1; fill:none\" points=\"147.478,993.136 2352.76,993.136 \"/>\n",
       "<polyline clip-path=\"url(#clip272)\" style=\"stroke:#000000; stroke-linecap:round; stroke-linejoin:round; stroke-width:2; stroke-opacity:0.1; fill:none\" points=\"147.478,540.556 2352.76,540.556 \"/>\n",
       "<polyline clip-path=\"url(#clip272)\" style=\"stroke:#000000; stroke-linecap:round; stroke-linejoin:round; stroke-width:2; stroke-opacity:0.1; fill:none\" points=\"147.478,87.9763 2352.76,87.9763 \"/>\n",
       "<polyline clip-path=\"url(#clip270)\" style=\"stroke:#000000; stroke-linecap:round; stroke-linejoin:round; stroke-width:4; stroke-opacity:1; fill:none\" points=\"147.478,1486.45 147.478,47.2441 \"/>\n",
       "<polyline clip-path=\"url(#clip270)\" style=\"stroke:#000000; stroke-linecap:round; stroke-linejoin:round; stroke-width:4; stroke-opacity:1; fill:none\" points=\"147.478,1445.72 166.376,1445.72 \"/>\n",
       "<polyline clip-path=\"url(#clip270)\" style=\"stroke:#000000; stroke-linecap:round; stroke-linejoin:round; stroke-width:4; stroke-opacity:1; fill:none\" points=\"147.478,993.136 166.376,993.136 \"/>\n",
       "<polyline clip-path=\"url(#clip270)\" style=\"stroke:#000000; stroke-linecap:round; stroke-linejoin:round; stroke-width:4; stroke-opacity:1; fill:none\" points=\"147.478,540.556 166.376,540.556 \"/>\n",
       "<polyline clip-path=\"url(#clip270)\" style=\"stroke:#000000; stroke-linecap:round; stroke-linejoin:round; stroke-width:4; stroke-opacity:1; fill:none\" points=\"147.478,87.9763 166.376,87.9763 \"/>\n",
       "<path clip-path=\"url(#clip270)\" d=\"M50.9921 1446.17 L80.6679 1446.17 L80.6679 1450.1 L50.9921 1450.1 L50.9921 1446.17 Z\" fill=\"#000000\" fill-rule=\"nonzero\" fill-opacity=\"1\" /><path clip-path=\"url(#clip270)\" d=\"M91.5706 1459.06 L99.2095 1459.06 L99.2095 1432.69 L90.8993 1434.36 L90.8993 1430.1 L99.1632 1428.44 L103.839 1428.44 L103.839 1459.06 L111.478 1459.06 L111.478 1463 L91.5706 1463 L91.5706 1459.06 Z\" fill=\"#000000\" fill-rule=\"nonzero\" fill-opacity=\"1\" /><path clip-path=\"url(#clip270)\" d=\"M99.5335 978.935 Q95.9224 978.935 94.0937 982.499 Q92.2882 986.041 92.2882 993.171 Q92.2882 1000.28 94.0937 1003.84 Q95.9224 1007.38 99.5335 1007.38 Q103.168 1007.38 104.973 1003.84 Q106.802 1000.28 106.802 993.171 Q106.802 986.041 104.973 982.499 Q103.168 978.935 99.5335 978.935 M99.5335 975.231 Q105.344 975.231 108.399 979.837 Q111.478 984.421 111.478 993.171 Q111.478 1001.9 108.399 1006.5 Q105.344 1011.09 99.5335 1011.09 Q93.7234 1011.09 90.6447 1006.5 Q87.5892 1001.9 87.5892 993.171 Q87.5892 984.421 90.6447 979.837 Q93.7234 975.231 99.5335 975.231 Z\" fill=\"#000000\" fill-rule=\"nonzero\" fill-opacity=\"1\" /><path clip-path=\"url(#clip270)\" d=\"M91.5706 553.901 L99.2095 553.901 L99.2095 527.535 L90.8993 529.202 L90.8993 524.943 L99.1632 523.276 L103.839 523.276 L103.839 553.901 L111.478 553.901 L111.478 557.836 L91.5706 557.836 L91.5706 553.901 Z\" fill=\"#000000\" fill-rule=\"nonzero\" fill-opacity=\"1\" /><path clip-path=\"url(#clip270)\" d=\"M95.1586 101.321 L111.478 101.321 L111.478 105.256 L89.5336 105.256 L89.5336 101.321 Q92.1956 98.5665 96.7789 93.9369 Q101.385 89.2841 102.566 87.9416 Q104.811 85.4184 105.691 83.6823 Q106.594 81.9231 106.594 80.2333 Q106.594 77.4786 104.649 75.7425 Q102.728 74.0064 99.6261 74.0064 Q97.4271 74.0064 94.9734 74.7703 Q92.5428 75.5342 89.7651 77.0851 L89.7651 72.3629 Q92.5891 71.2287 95.0428 70.65 Q97.4965 70.0713 99.5335 70.0713 Q104.904 70.0713 108.098 72.7565 Q111.293 75.4416 111.293 79.9323 Q111.293 82.062 110.483 83.9832 Q109.696 85.8814 107.589 88.474 Q107.01 89.1453 103.909 92.3628 Q100.807 95.5573 95.1586 101.321 Z\" fill=\"#000000\" fill-rule=\"nonzero\" fill-opacity=\"1\" /><polyline clip-path=\"url(#clip272)\" style=\"stroke:#009af9; stroke-linecap:round; stroke-linejoin:round; stroke-width:4; stroke-opacity:1; fill:none\" points=\"209.891,87.9763 417.937,305.215 625.982,504.35 834.027,685.382 1042.07,848.31 1250.12,993.136 1458.16,1119.86 1666.21,1228.48 1874.25,1318.99 2082.3,1391.41 2290.34,1445.72 \"/>\n",
       "<polyline clip-path=\"url(#clip272)\" style=\"stroke:#e26f46; stroke-linecap:round; stroke-linejoin:round; stroke-width:4; stroke-opacity:1; fill:none\" points=\"209.891,993.136 417.937,913.633 625.982,854.948 834.027,815.272 1042.07,792.794 1250.12,785.703 1458.16,792.19 1666.21,810.445 1874.25,838.655 2082.3,875.013 2290.34,917.706 \"/>\n",
       "<path clip-path=\"url(#clip270)\" d=\"M1960.09 250.738 L2279.25 250.738 L2279.25 95.2176 L1960.09 95.2176  Z\" fill=\"#ffffff\" fill-rule=\"evenodd\" fill-opacity=\"1\"/>\n",
       "<polyline clip-path=\"url(#clip270)\" style=\"stroke:#000000; stroke-linecap:round; stroke-linejoin:round; stroke-width:4; stroke-opacity:1; fill:none\" points=\"1960.09,250.738 2279.25,250.738 2279.25,95.2176 1960.09,95.2176 1960.09,250.738 \"/>\n",
       "<polyline clip-path=\"url(#clip270)\" style=\"stroke:#009af9; stroke-linecap:round; stroke-linejoin:round; stroke-width:4; stroke-opacity:1; fill:none\" points=\"1984.59,147.058 2131.61,147.058 \"/>\n",
       "<path clip-path=\"url(#clip270)\" d=\"M2172.61 128.319 L2172.61 131.861 L2168.54 131.861 Q2166.25 131.861 2165.35 132.787 Q2164.47 133.713 2164.47 136.12 L2164.47 138.412 L2171.48 138.412 L2171.48 141.722 L2164.47 141.722 L2164.47 164.338 L2160.18 164.338 L2160.18 141.722 L2156.11 141.722 L2156.11 138.412 L2160.18 138.412 L2160.18 136.606 Q2160.18 132.278 2162.2 130.31 Q2164.21 128.319 2168.59 128.319 L2172.61 128.319 Z\" fill=\"#000000\" fill-rule=\"nonzero\" fill-opacity=\"1\" /><polyline clip-path=\"url(#clip270)\" style=\"stroke:#e26f46; stroke-linecap:round; stroke-linejoin:round; stroke-width:4; stroke-opacity:1; fill:none\" points=\"1984.59,198.898 2131.61,198.898 \"/>\n",
       "<path clip-path=\"url(#clip270)\" d=\"M2156.11 190.252 L2160.37 190.252 L2160.37 216.178 L2156.11 216.178 L2156.11 190.252 M2156.11 180.159 L2160.37 180.159 L2160.37 185.553 L2156.11 185.553 L2156.11 180.159 Z\" fill=\"#000000\" fill-rule=\"nonzero\" fill-opacity=\"1\" /><path clip-path=\"url(#clip270)\" d=\"M2190.83 200.529 L2190.83 216.178 L2186.57 216.178 L2186.57 200.668 Q2186.57 196.988 2185.14 195.159 Q2183.7 193.33 2180.83 193.33 Q2177.38 193.33 2175.39 195.53 Q2173.4 197.729 2173.4 201.525 L2173.4 216.178 L2169.12 216.178 L2169.12 190.252 L2173.4 190.252 L2173.4 194.28 Q2174.93 191.942 2176.99 190.784 Q2179.07 189.627 2181.78 189.627 Q2186.25 189.627 2188.54 192.405 Q2190.83 195.159 2190.83 200.529 Z\" fill=\"#000000\" fill-rule=\"nonzero\" fill-opacity=\"1\" /><path clip-path=\"url(#clip270)\" d=\"M2203.54 182.891 L2203.54 190.252 L2212.31 190.252 L2212.31 193.562 L2203.54 193.562 L2203.54 207.636 Q2203.54 210.807 2204.4 211.71 Q2205.28 212.613 2207.94 212.613 L2212.31 212.613 L2212.31 216.178 L2207.94 216.178 Q2203.01 216.178 2201.13 214.349 Q2199.26 212.497 2199.26 207.636 L2199.26 193.562 L2196.13 193.562 L2196.13 190.252 L2199.26 190.252 L2199.26 182.891 L2203.54 182.891 Z\" fill=\"#000000\" fill-rule=\"nonzero\" fill-opacity=\"1\" /><path clip-path=\"url(#clip270)\" d=\"M2237.61 224.048 L2237.61 227.358 L2212.98 227.358 L2212.98 224.048 L2237.61 224.048 Z\" fill=\"#000000\" fill-rule=\"nonzero\" fill-opacity=\"1\" /><path clip-path=\"url(#clip270)\" d=\"M2254.74 180.159 L2254.74 183.701 L2250.67 183.701 Q2248.38 183.701 2247.48 184.627 Q2246.6 185.553 2246.6 187.96 L2246.6 190.252 L2253.61 190.252 L2253.61 193.562 L2246.6 193.562 L2246.6 216.178 L2242.31 216.178 L2242.31 193.562 L2238.24 193.562 L2238.24 190.252 L2242.31 190.252 L2242.31 188.446 Q2242.31 184.118 2244.33 182.15 Q2246.34 180.159 2250.72 180.159 L2254.74 180.159 Z\" fill=\"#000000\" fill-rule=\"nonzero\" fill-opacity=\"1\" /></svg>\n"
      ],
      "text/html": [
       "<?xml version=\"1.0\" encoding=\"utf-8\"?>\n",
       "<svg xmlns=\"http://www.w3.org/2000/svg\" xmlns:xlink=\"http://www.w3.org/1999/xlink\" width=\"600\" height=\"400\" viewBox=\"0 0 2400 1600\">\n",
       "<defs>\n",
       "  <clipPath id=\"clip320\">\n",
       "    <rect x=\"0\" y=\"0\" width=\"2400\" height=\"1600\"/>\n",
       "  </clipPath>\n",
       "</defs>\n",
       "<path clip-path=\"url(#clip320)\" d=\"M0 1600 L2400 1600 L2400 0 L0 0  Z\" fill=\"#ffffff\" fill-rule=\"evenodd\" fill-opacity=\"1\"/>\n",
       "<defs>\n",
       "  <clipPath id=\"clip321\">\n",
       "    <rect x=\"480\" y=\"0\" width=\"1681\" height=\"1600\"/>\n",
       "  </clipPath>\n",
       "</defs>\n",
       "<path clip-path=\"url(#clip320)\" d=\"M147.478 1486.45 L2352.76 1486.45 L2352.76 47.2441 L147.478 47.2441  Z\" fill=\"#ffffff\" fill-rule=\"evenodd\" fill-opacity=\"1\"/>\n",
       "<defs>\n",
       "  <clipPath id=\"clip322\">\n",
       "    <rect x=\"147\" y=\"47\" width=\"2206\" height=\"1440\"/>\n",
       "  </clipPath>\n",
       "</defs>\n",
       "<polyline clip-path=\"url(#clip322)\" style=\"stroke:#000000; stroke-linecap:round; stroke-linejoin:round; stroke-width:2; stroke-opacity:0.1; fill:none\" points=\"209.891,1486.45 209.891,47.2441 \"/>\n",
       "<polyline clip-path=\"url(#clip322)\" style=\"stroke:#000000; stroke-linecap:round; stroke-linejoin:round; stroke-width:2; stroke-opacity:0.1; fill:none\" points=\"730.004,1486.45 730.004,47.2441 \"/>\n",
       "<polyline clip-path=\"url(#clip322)\" style=\"stroke:#000000; stroke-linecap:round; stroke-linejoin:round; stroke-width:2; stroke-opacity:0.1; fill:none\" points=\"1250.12,1486.45 1250.12,47.2441 \"/>\n",
       "<polyline clip-path=\"url(#clip322)\" style=\"stroke:#000000; stroke-linecap:round; stroke-linejoin:round; stroke-width:2; stroke-opacity:0.1; fill:none\" points=\"1770.23,1486.45 1770.23,47.2441 \"/>\n",
       "<polyline clip-path=\"url(#clip322)\" style=\"stroke:#000000; stroke-linecap:round; stroke-linejoin:round; stroke-width:2; stroke-opacity:0.1; fill:none\" points=\"2290.34,1486.45 2290.34,47.2441 \"/>\n",
       "<polyline clip-path=\"url(#clip320)\" style=\"stroke:#000000; stroke-linecap:round; stroke-linejoin:round; stroke-width:4; stroke-opacity:1; fill:none\" points=\"147.478,1486.45 2352.76,1486.45 \"/>\n",
       "<polyline clip-path=\"url(#clip320)\" style=\"stroke:#000000; stroke-linecap:round; stroke-linejoin:round; stroke-width:4; stroke-opacity:1; fill:none\" points=\"209.891,1486.45 209.891,1467.55 \"/>\n",
       "<polyline clip-path=\"url(#clip320)\" style=\"stroke:#000000; stroke-linecap:round; stroke-linejoin:round; stroke-width:4; stroke-opacity:1; fill:none\" points=\"730.004,1486.45 730.004,1467.55 \"/>\n",
       "<polyline clip-path=\"url(#clip320)\" style=\"stroke:#000000; stroke-linecap:round; stroke-linejoin:round; stroke-width:4; stroke-opacity:1; fill:none\" points=\"1250.12,1486.45 1250.12,1467.55 \"/>\n",
       "<polyline clip-path=\"url(#clip320)\" style=\"stroke:#000000; stroke-linecap:round; stroke-linejoin:round; stroke-width:4; stroke-opacity:1; fill:none\" points=\"1770.23,1486.45 1770.23,1467.55 \"/>\n",
       "<polyline clip-path=\"url(#clip320)\" style=\"stroke:#000000; stroke-linecap:round; stroke-linejoin:round; stroke-width:4; stroke-opacity:1; fill:none\" points=\"2290.34,1486.45 2290.34,1467.55 \"/>\n",
       "<path clip-path=\"url(#clip320)\" d=\"M172.195 1517.37 Q168.584 1517.37 166.755 1520.93 Q164.95 1524.47 164.95 1531.6 Q164.95 1538.71 166.755 1542.27 Q168.584 1545.82 172.195 1545.82 Q175.829 1545.82 177.635 1542.27 Q179.463 1538.71 179.463 1531.6 Q179.463 1524.47 177.635 1520.93 Q175.829 1517.37 172.195 1517.37 M172.195 1513.66 Q178.005 1513.66 181.061 1518.27 Q184.139 1522.85 184.139 1531.6 Q184.139 1540.33 181.061 1544.94 Q178.005 1549.52 172.195 1549.52 Q166.385 1549.52 163.306 1544.94 Q160.251 1540.33 160.251 1531.6 Q160.251 1522.85 163.306 1518.27 Q166.385 1513.66 172.195 1513.66 Z\" fill=\"#000000\" fill-rule=\"nonzero\" fill-opacity=\"1\" /><path clip-path=\"url(#clip320)\" d=\"M192.357 1542.97 L197.241 1542.97 L197.241 1548.85 L192.357 1548.85 L192.357 1542.97 Z\" fill=\"#000000\" fill-rule=\"nonzero\" fill-opacity=\"1\" /><path clip-path=\"url(#clip320)\" d=\"M217.426 1517.37 Q213.815 1517.37 211.986 1520.93 Q210.181 1524.47 210.181 1531.6 Q210.181 1538.71 211.986 1542.27 Q213.815 1545.82 217.426 1545.82 Q221.06 1545.82 222.866 1542.27 Q224.695 1538.71 224.695 1531.6 Q224.695 1524.47 222.866 1520.93 Q221.06 1517.37 217.426 1517.37 M217.426 1513.66 Q223.236 1513.66 226.292 1518.27 Q229.371 1522.85 229.371 1531.6 Q229.371 1540.33 226.292 1544.94 Q223.236 1549.52 217.426 1549.52 Q211.616 1549.52 208.537 1544.94 Q205.482 1540.33 205.482 1531.6 Q205.482 1522.85 208.537 1518.27 Q211.616 1513.66 217.426 1513.66 Z\" fill=\"#000000\" fill-rule=\"nonzero\" fill-opacity=\"1\" /><path clip-path=\"url(#clip320)\" d=\"M247.588 1517.37 Q243.977 1517.37 242.148 1520.93 Q240.343 1524.47 240.343 1531.6 Q240.343 1538.71 242.148 1542.27 Q243.977 1545.82 247.588 1545.82 Q251.222 1545.82 253.028 1542.27 Q254.856 1538.71 254.856 1531.6 Q254.856 1524.47 253.028 1520.93 Q251.222 1517.37 247.588 1517.37 M247.588 1513.66 Q253.398 1513.66 256.454 1518.27 Q259.532 1522.85 259.532 1531.6 Q259.532 1540.33 256.454 1544.94 Q253.398 1549.52 247.588 1549.52 Q241.778 1549.52 238.699 1544.94 Q235.644 1540.33 235.644 1531.6 Q235.644 1522.85 238.699 1518.27 Q241.778 1513.66 247.588 1513.66 Z\" fill=\"#000000\" fill-rule=\"nonzero\" fill-opacity=\"1\" /><path clip-path=\"url(#clip320)\" d=\"M692.805 1517.37 Q689.194 1517.37 687.366 1520.93 Q685.56 1524.47 685.56 1531.6 Q685.56 1538.71 687.366 1542.27 Q689.194 1545.82 692.805 1545.82 Q696.44 1545.82 698.245 1542.27 Q700.074 1538.71 700.074 1531.6 Q700.074 1524.47 698.245 1520.93 Q696.44 1517.37 692.805 1517.37 M692.805 1513.66 Q698.615 1513.66 701.671 1518.27 Q704.75 1522.85 704.75 1531.6 Q704.75 1540.33 701.671 1544.94 Q698.615 1549.52 692.805 1549.52 Q686.995 1549.52 683.916 1544.94 Q680.861 1540.33 680.861 1531.6 Q680.861 1522.85 683.916 1518.27 Q686.995 1513.66 692.805 1513.66 Z\" fill=\"#000000\" fill-rule=\"nonzero\" fill-opacity=\"1\" /><path clip-path=\"url(#clip320)\" d=\"M712.967 1542.97 L717.851 1542.97 L717.851 1548.85 L712.967 1548.85 L712.967 1542.97 Z\" fill=\"#000000\" fill-rule=\"nonzero\" fill-opacity=\"1\" /><path clip-path=\"url(#clip320)\" d=\"M732.064 1544.91 L748.384 1544.91 L748.384 1548.85 L726.439 1548.85 L726.439 1544.91 Q729.101 1542.16 733.685 1537.53 Q738.291 1532.88 739.472 1531.53 Q741.717 1529.01 742.597 1527.27 Q743.499 1525.51 743.499 1523.82 Q743.499 1521.07 741.555 1519.33 Q739.634 1517.6 736.532 1517.6 Q734.333 1517.6 731.879 1518.36 Q729.449 1519.13 726.671 1520.68 L726.671 1515.95 Q729.495 1514.82 731.949 1514.24 Q734.402 1513.66 736.439 1513.66 Q741.81 1513.66 745.004 1516.35 Q748.199 1519.03 748.199 1523.52 Q748.199 1525.65 747.388 1527.57 Q746.601 1529.47 744.495 1532.07 Q743.916 1532.74 740.814 1535.95 Q737.712 1539.15 732.064 1544.91 Z\" fill=\"#000000\" fill-rule=\"nonzero\" fill-opacity=\"1\" /><path clip-path=\"url(#clip320)\" d=\"M758.245 1514.29 L776.601 1514.29 L776.601 1518.22 L762.527 1518.22 L762.527 1526.7 Q763.546 1526.35 764.564 1526.19 Q765.583 1526 766.601 1526 Q772.388 1526 775.768 1529.17 Q779.147 1532.34 779.147 1537.76 Q779.147 1543.34 775.675 1546.44 Q772.203 1549.52 765.884 1549.52 Q763.708 1549.52 761.439 1549.15 Q759.194 1548.78 756.786 1548.04 L756.786 1543.34 Q758.87 1544.47 761.092 1545.03 Q763.314 1545.58 765.791 1545.58 Q769.796 1545.58 772.134 1543.48 Q774.472 1541.37 774.472 1537.76 Q774.472 1534.15 772.134 1532.04 Q769.796 1529.94 765.791 1529.94 Q763.916 1529.94 762.041 1530.35 Q760.189 1530.77 758.245 1531.65 L758.245 1514.29 Z\" fill=\"#000000\" fill-rule=\"nonzero\" fill-opacity=\"1\" /><path clip-path=\"url(#clip320)\" d=\"M1212.42 1517.37 Q1208.81 1517.37 1206.98 1520.93 Q1205.18 1524.47 1205.18 1531.6 Q1205.18 1538.71 1206.98 1542.27 Q1208.81 1545.82 1212.42 1545.82 Q1216.05 1545.82 1217.86 1542.27 Q1219.69 1538.71 1219.69 1531.6 Q1219.69 1524.47 1217.86 1520.93 Q1216.05 1517.37 1212.42 1517.37 M1212.42 1513.66 Q1218.23 1513.66 1221.29 1518.27 Q1224.36 1522.85 1224.36 1531.6 Q1224.36 1540.33 1221.29 1544.94 Q1218.23 1549.52 1212.42 1549.52 Q1206.61 1549.52 1203.53 1544.94 Q1200.48 1540.33 1200.48 1531.6 Q1200.48 1522.85 1203.53 1518.27 Q1206.61 1513.66 1212.42 1513.66 Z\" fill=\"#000000\" fill-rule=\"nonzero\" fill-opacity=\"1\" /><path clip-path=\"url(#clip320)\" d=\"M1232.58 1542.97 L1237.47 1542.97 L1237.47 1548.85 L1232.58 1548.85 L1232.58 1542.97 Z\" fill=\"#000000\" fill-rule=\"nonzero\" fill-opacity=\"1\" /><path clip-path=\"url(#clip320)\" d=\"M1247.7 1514.29 L1266.05 1514.29 L1266.05 1518.22 L1251.98 1518.22 L1251.98 1526.7 Q1253 1526.35 1254.02 1526.19 Q1255.04 1526 1256.05 1526 Q1261.84 1526 1265.22 1529.17 Q1268.6 1532.34 1268.6 1537.76 Q1268.6 1543.34 1265.13 1546.44 Q1261.66 1549.52 1255.34 1549.52 Q1253.16 1549.52 1250.89 1549.15 Q1248.65 1548.78 1246.24 1548.04 L1246.24 1543.34 Q1248.32 1544.47 1250.55 1545.03 Q1252.77 1545.58 1255.24 1545.58 Q1259.25 1545.58 1261.59 1543.48 Q1263.92 1541.37 1263.92 1537.76 Q1263.92 1534.15 1261.59 1532.04 Q1259.25 1529.94 1255.24 1529.94 Q1253.37 1529.94 1251.49 1530.35 Q1249.64 1530.77 1247.7 1531.65 L1247.7 1514.29 Z\" fill=\"#000000\" fill-rule=\"nonzero\" fill-opacity=\"1\" /><path clip-path=\"url(#clip320)\" d=\"M1287.81 1517.37 Q1284.2 1517.37 1282.37 1520.93 Q1280.57 1524.47 1280.57 1531.6 Q1280.57 1538.71 1282.37 1542.27 Q1284.2 1545.82 1287.81 1545.82 Q1291.45 1545.82 1293.25 1542.27 Q1295.08 1538.71 1295.08 1531.6 Q1295.08 1524.47 1293.25 1520.93 Q1291.45 1517.37 1287.81 1517.37 M1287.81 1513.66 Q1293.62 1513.66 1296.68 1518.27 Q1299.76 1522.85 1299.76 1531.6 Q1299.76 1540.33 1296.68 1544.94 Q1293.62 1549.52 1287.81 1549.52 Q1282 1549.52 1278.92 1544.94 Q1275.87 1540.33 1275.87 1531.6 Q1275.87 1522.85 1278.92 1518.27 Q1282 1513.66 1287.81 1513.66 Z\" fill=\"#000000\" fill-rule=\"nonzero\" fill-opacity=\"1\" /><path clip-path=\"url(#clip320)\" d=\"M1733.03 1517.37 Q1729.42 1517.37 1727.59 1520.93 Q1725.79 1524.47 1725.79 1531.6 Q1725.79 1538.71 1727.59 1542.27 Q1729.42 1545.82 1733.03 1545.82 Q1736.67 1545.82 1738.47 1542.27 Q1740.3 1538.71 1740.3 1531.6 Q1740.3 1524.47 1738.47 1520.93 Q1736.67 1517.37 1733.03 1517.37 M1733.03 1513.66 Q1738.84 1513.66 1741.9 1518.27 Q1744.98 1522.85 1744.98 1531.6 Q1744.98 1540.33 1741.9 1544.94 Q1738.84 1549.52 1733.03 1549.52 Q1727.22 1549.52 1724.14 1544.94 Q1721.09 1540.33 1721.09 1531.6 Q1721.09 1522.85 1724.14 1518.27 Q1727.22 1513.66 1733.03 1513.66 Z\" fill=\"#000000\" fill-rule=\"nonzero\" fill-opacity=\"1\" /><path clip-path=\"url(#clip320)\" d=\"M1753.19 1542.97 L1758.08 1542.97 L1758.08 1548.85 L1753.19 1548.85 L1753.19 1542.97 Z\" fill=\"#000000\" fill-rule=\"nonzero\" fill-opacity=\"1\" /><path clip-path=\"url(#clip320)\" d=\"M1767.08 1514.29 L1789.3 1514.29 L1789.3 1516.28 L1776.76 1548.85 L1771.87 1548.85 L1783.68 1518.22 L1767.08 1518.22 L1767.08 1514.29 Z\" fill=\"#000000\" fill-rule=\"nonzero\" fill-opacity=\"1\" /><path clip-path=\"url(#clip320)\" d=\"M1798.47 1514.29 L1816.83 1514.29 L1816.83 1518.22 L1802.75 1518.22 L1802.75 1526.7 Q1803.77 1526.35 1804.79 1526.19 Q1805.81 1526 1806.83 1526 Q1812.61 1526 1815.99 1529.17 Q1819.37 1532.34 1819.37 1537.76 Q1819.37 1543.34 1815.9 1546.44 Q1812.43 1549.52 1806.11 1549.52 Q1803.93 1549.52 1801.66 1549.15 Q1799.42 1548.78 1797.01 1548.04 L1797.01 1543.34 Q1799.1 1544.47 1801.32 1545.03 Q1803.54 1545.58 1806.02 1545.58 Q1810.02 1545.58 1812.36 1543.48 Q1814.7 1541.37 1814.7 1537.76 Q1814.7 1534.15 1812.36 1532.04 Q1810.02 1529.94 1806.02 1529.94 Q1804.14 1529.94 1802.27 1530.35 Q1800.41 1530.77 1798.47 1531.65 L1798.47 1514.29 Z\" fill=\"#000000\" fill-rule=\"nonzero\" fill-opacity=\"1\" /><path clip-path=\"url(#clip320)\" d=\"M2242.41 1544.91 L2250.05 1544.91 L2250.05 1518.55 L2241.74 1520.21 L2241.74 1515.95 L2250.01 1514.29 L2254.68 1514.29 L2254.68 1544.91 L2262.32 1544.91 L2262.32 1548.85 L2242.41 1548.85 L2242.41 1544.91 Z\" fill=\"#000000\" fill-rule=\"nonzero\" fill-opacity=\"1\" /><path clip-path=\"url(#clip320)\" d=\"M2271.77 1542.97 L2276.65 1542.97 L2276.65 1548.85 L2271.77 1548.85 L2271.77 1542.97 Z\" fill=\"#000000\" fill-rule=\"nonzero\" fill-opacity=\"1\" /><path clip-path=\"url(#clip320)\" d=\"M2296.84 1517.37 Q2293.22 1517.37 2291.4 1520.93 Q2289.59 1524.47 2289.59 1531.6 Q2289.59 1538.71 2291.4 1542.27 Q2293.22 1545.82 2296.84 1545.82 Q2300.47 1545.82 2302.28 1542.27 Q2304.1 1538.71 2304.1 1531.6 Q2304.1 1524.47 2302.28 1520.93 Q2300.47 1517.37 2296.84 1517.37 M2296.84 1513.66 Q2302.65 1513.66 2305.7 1518.27 Q2308.78 1522.85 2308.78 1531.6 Q2308.78 1540.33 2305.7 1544.94 Q2302.65 1549.52 2296.84 1549.52 Q2291.03 1549.52 2287.95 1544.94 Q2284.89 1540.33 2284.89 1531.6 Q2284.89 1522.85 2287.95 1518.27 Q2291.03 1513.66 2296.84 1513.66 Z\" fill=\"#000000\" fill-rule=\"nonzero\" fill-opacity=\"1\" /><path clip-path=\"url(#clip320)\" d=\"M2327 1517.37 Q2323.39 1517.37 2321.56 1520.93 Q2319.75 1524.47 2319.75 1531.6 Q2319.75 1538.71 2321.56 1542.27 Q2323.39 1545.82 2327 1545.82 Q2330.63 1545.82 2332.44 1542.27 Q2334.27 1538.71 2334.27 1531.6 Q2334.27 1524.47 2332.44 1520.93 Q2330.63 1517.37 2327 1517.37 M2327 1513.66 Q2332.81 1513.66 2335.86 1518.27 Q2338.94 1522.85 2338.94 1531.6 Q2338.94 1540.33 2335.86 1544.94 Q2332.81 1549.52 2327 1549.52 Q2321.19 1549.52 2318.11 1544.94 Q2315.05 1540.33 2315.05 1531.6 Q2315.05 1522.85 2318.11 1518.27 Q2321.19 1513.66 2327 1513.66 Z\" fill=\"#000000\" fill-rule=\"nonzero\" fill-opacity=\"1\" /><polyline clip-path=\"url(#clip322)\" style=\"stroke:#000000; stroke-linecap:round; stroke-linejoin:round; stroke-width:2; stroke-opacity:0.1; fill:none\" points=\"147.478,1445.72 2352.76,1445.72 \"/>\n",
       "<polyline clip-path=\"url(#clip322)\" style=\"stroke:#000000; stroke-linecap:round; stroke-linejoin:round; stroke-width:2; stroke-opacity:0.1; fill:none\" points=\"147.478,993.136 2352.76,993.136 \"/>\n",
       "<polyline clip-path=\"url(#clip322)\" style=\"stroke:#000000; stroke-linecap:round; stroke-linejoin:round; stroke-width:2; stroke-opacity:0.1; fill:none\" points=\"147.478,540.556 2352.76,540.556 \"/>\n",
       "<polyline clip-path=\"url(#clip322)\" style=\"stroke:#000000; stroke-linecap:round; stroke-linejoin:round; stroke-width:2; stroke-opacity:0.1; fill:none\" points=\"147.478,87.9763 2352.76,87.9763 \"/>\n",
       "<polyline clip-path=\"url(#clip320)\" style=\"stroke:#000000; stroke-linecap:round; stroke-linejoin:round; stroke-width:4; stroke-opacity:1; fill:none\" points=\"147.478,1486.45 147.478,47.2441 \"/>\n",
       "<polyline clip-path=\"url(#clip320)\" style=\"stroke:#000000; stroke-linecap:round; stroke-linejoin:round; stroke-width:4; stroke-opacity:1; fill:none\" points=\"147.478,1445.72 166.376,1445.72 \"/>\n",
       "<polyline clip-path=\"url(#clip320)\" style=\"stroke:#000000; stroke-linecap:round; stroke-linejoin:round; stroke-width:4; stroke-opacity:1; fill:none\" points=\"147.478,993.136 166.376,993.136 \"/>\n",
       "<polyline clip-path=\"url(#clip320)\" style=\"stroke:#000000; stroke-linecap:round; stroke-linejoin:round; stroke-width:4; stroke-opacity:1; fill:none\" points=\"147.478,540.556 166.376,540.556 \"/>\n",
       "<polyline clip-path=\"url(#clip320)\" style=\"stroke:#000000; stroke-linecap:round; stroke-linejoin:round; stroke-width:4; stroke-opacity:1; fill:none\" points=\"147.478,87.9763 166.376,87.9763 \"/>\n",
       "<path clip-path=\"url(#clip320)\" d=\"M50.9921 1446.17 L80.6679 1446.17 L80.6679 1450.1 L50.9921 1450.1 L50.9921 1446.17 Z\" fill=\"#000000\" fill-rule=\"nonzero\" fill-opacity=\"1\" /><path clip-path=\"url(#clip320)\" d=\"M91.5706 1459.06 L99.2095 1459.06 L99.2095 1432.69 L90.8993 1434.36 L90.8993 1430.1 L99.1632 1428.44 L103.839 1428.44 L103.839 1459.06 L111.478 1459.06 L111.478 1463 L91.5706 1463 L91.5706 1459.06 Z\" fill=\"#000000\" fill-rule=\"nonzero\" fill-opacity=\"1\" /><path clip-path=\"url(#clip320)\" d=\"M99.5335 978.935 Q95.9224 978.935 94.0937 982.499 Q92.2882 986.041 92.2882 993.171 Q92.2882 1000.28 94.0937 1003.84 Q95.9224 1007.38 99.5335 1007.38 Q103.168 1007.38 104.973 1003.84 Q106.802 1000.28 106.802 993.171 Q106.802 986.041 104.973 982.499 Q103.168 978.935 99.5335 978.935 M99.5335 975.231 Q105.344 975.231 108.399 979.837 Q111.478 984.421 111.478 993.171 Q111.478 1001.9 108.399 1006.5 Q105.344 1011.09 99.5335 1011.09 Q93.7234 1011.09 90.6447 1006.5 Q87.5892 1001.9 87.5892 993.171 Q87.5892 984.421 90.6447 979.837 Q93.7234 975.231 99.5335 975.231 Z\" fill=\"#000000\" fill-rule=\"nonzero\" fill-opacity=\"1\" /><path clip-path=\"url(#clip320)\" d=\"M91.5706 553.901 L99.2095 553.901 L99.2095 527.535 L90.8993 529.202 L90.8993 524.943 L99.1632 523.276 L103.839 523.276 L103.839 553.901 L111.478 553.901 L111.478 557.836 L91.5706 557.836 L91.5706 553.901 Z\" fill=\"#000000\" fill-rule=\"nonzero\" fill-opacity=\"1\" /><path clip-path=\"url(#clip320)\" d=\"M95.1586 101.321 L111.478 101.321 L111.478 105.256 L89.5336 105.256 L89.5336 101.321 Q92.1956 98.5665 96.7789 93.9369 Q101.385 89.2841 102.566 87.9416 Q104.811 85.4184 105.691 83.6823 Q106.594 81.9231 106.594 80.2333 Q106.594 77.4786 104.649 75.7425 Q102.728 74.0064 99.6261 74.0064 Q97.4271 74.0064 94.9734 74.7703 Q92.5428 75.5342 89.7651 77.0851 L89.7651 72.3629 Q92.5891 71.2287 95.0428 70.65 Q97.4965 70.0713 99.5335 70.0713 Q104.904 70.0713 108.098 72.7565 Q111.293 75.4416 111.293 79.9323 Q111.293 82.062 110.483 83.9832 Q109.696 85.8814 107.589 88.474 Q107.01 89.1453 103.909 92.3628 Q100.807 95.5573 95.1586 101.321 Z\" fill=\"#000000\" fill-rule=\"nonzero\" fill-opacity=\"1\" /><polyline clip-path=\"url(#clip322)\" style=\"stroke:#009af9; stroke-linecap:round; stroke-linejoin:round; stroke-width:4; stroke-opacity:1; fill:none\" points=\"209.891,87.9763 417.937,305.215 625.982,504.35 834.027,685.382 1042.07,848.31 1250.12,993.136 1458.16,1119.86 1666.21,1228.48 1874.25,1318.99 2082.3,1391.41 2290.34,1445.72 \"/>\n",
       "<polyline clip-path=\"url(#clip322)\" style=\"stroke:#e26f46; stroke-linecap:round; stroke-linejoin:round; stroke-width:4; stroke-opacity:1; fill:none\" points=\"209.891,993.136 417.937,913.633 625.982,854.948 834.027,815.272 1042.07,792.794 1250.12,785.703 1458.16,792.19 1666.21,810.445 1874.25,838.655 2082.3,875.013 2290.34,917.706 \"/>\n",
       "<path clip-path=\"url(#clip320)\" d=\"M1960.09 250.738 L2279.25 250.738 L2279.25 95.2176 L1960.09 95.2176  Z\" fill=\"#ffffff\" fill-rule=\"evenodd\" fill-opacity=\"1\"/>\n",
       "<polyline clip-path=\"url(#clip320)\" style=\"stroke:#000000; stroke-linecap:round; stroke-linejoin:round; stroke-width:4; stroke-opacity:1; fill:none\" points=\"1960.09,250.738 2279.25,250.738 2279.25,95.2176 1960.09,95.2176 1960.09,250.738 \"/>\n",
       "<polyline clip-path=\"url(#clip320)\" style=\"stroke:#009af9; stroke-linecap:round; stroke-linejoin:round; stroke-width:4; stroke-opacity:1; fill:none\" points=\"1984.59,147.058 2131.61,147.058 \"/>\n",
       "<path clip-path=\"url(#clip320)\" d=\"M2172.61 128.319 L2172.61 131.861 L2168.54 131.861 Q2166.25 131.861 2165.35 132.787 Q2164.47 133.713 2164.47 136.12 L2164.47 138.412 L2171.48 138.412 L2171.48 141.722 L2164.47 141.722 L2164.47 164.338 L2160.18 164.338 L2160.18 141.722 L2156.11 141.722 L2156.11 138.412 L2160.18 138.412 L2160.18 136.606 Q2160.18 132.278 2162.2 130.31 Q2164.21 128.319 2168.59 128.319 L2172.61 128.319 Z\" fill=\"#000000\" fill-rule=\"nonzero\" fill-opacity=\"1\" /><polyline clip-path=\"url(#clip320)\" style=\"stroke:#e26f46; stroke-linecap:round; stroke-linejoin:round; stroke-width:4; stroke-opacity:1; fill:none\" points=\"1984.59,198.898 2131.61,198.898 \"/>\n",
       "<path clip-path=\"url(#clip320)\" d=\"M2156.11 190.252 L2160.37 190.252 L2160.37 216.178 L2156.11 216.178 L2156.11 190.252 M2156.11 180.159 L2160.37 180.159 L2160.37 185.553 L2156.11 185.553 L2156.11 180.159 Z\" fill=\"#000000\" fill-rule=\"nonzero\" fill-opacity=\"1\" /><path clip-path=\"url(#clip320)\" d=\"M2190.83 200.529 L2190.83 216.178 L2186.57 216.178 L2186.57 200.668 Q2186.57 196.988 2185.14 195.159 Q2183.7 193.33 2180.83 193.33 Q2177.38 193.33 2175.39 195.53 Q2173.4 197.729 2173.4 201.525 L2173.4 216.178 L2169.12 216.178 L2169.12 190.252 L2173.4 190.252 L2173.4 194.28 Q2174.93 191.942 2176.99 190.784 Q2179.07 189.627 2181.78 189.627 Q2186.25 189.627 2188.54 192.405 Q2190.83 195.159 2190.83 200.529 Z\" fill=\"#000000\" fill-rule=\"nonzero\" fill-opacity=\"1\" /><path clip-path=\"url(#clip320)\" d=\"M2203.54 182.891 L2203.54 190.252 L2212.31 190.252 L2212.31 193.562 L2203.54 193.562 L2203.54 207.636 Q2203.54 210.807 2204.4 211.71 Q2205.28 212.613 2207.94 212.613 L2212.31 212.613 L2212.31 216.178 L2207.94 216.178 Q2203.01 216.178 2201.13 214.349 Q2199.26 212.497 2199.26 207.636 L2199.26 193.562 L2196.13 193.562 L2196.13 190.252 L2199.26 190.252 L2199.26 182.891 L2203.54 182.891 Z\" fill=\"#000000\" fill-rule=\"nonzero\" fill-opacity=\"1\" /><path clip-path=\"url(#clip320)\" d=\"M2237.61 224.048 L2237.61 227.358 L2212.98 227.358 L2212.98 224.048 L2237.61 224.048 Z\" fill=\"#000000\" fill-rule=\"nonzero\" fill-opacity=\"1\" /><path clip-path=\"url(#clip320)\" d=\"M2254.74 180.159 L2254.74 183.701 L2250.67 183.701 Q2248.38 183.701 2247.48 184.627 Q2246.6 185.553 2246.6 187.96 L2246.6 190.252 L2253.61 190.252 L2253.61 193.562 L2246.6 193.562 L2246.6 216.178 L2242.31 216.178 L2242.31 193.562 L2238.24 193.562 L2238.24 190.252 L2242.31 190.252 L2242.31 188.446 Q2242.31 184.118 2244.33 182.15 Q2246.34 180.159 2250.72 180.159 L2254.74 180.159 Z\" fill=\"#000000\" fill-rule=\"nonzero\" fill-opacity=\"1\" /></svg>\n"
      ]
     },
     "execution_count": 34,
     "metadata": {},
     "output_type": "execute_result"
    }
   ],
   "source": [
    "using Polynomials\n",
    "p = Polynomial([2, -5, 2], :x)  # :x just gives a symbol for display\n",
    "@show p\n",
    "@show p(1.0) # call like a function\n",
    "\n",
    "plotfunctions(p)  # same generic function"
   ]
  },
  {
   "cell_type": "markdown",
   "id": "1b09a423",
   "metadata": {},
   "source": [
    "Similarly, the result of interpolating data is also a function"
   ]
  },
  {
   "cell_type": "code",
   "execution_count": 35,
   "id": "4ff82a5c",
   "metadata": {},
   "outputs": [
    {
     "name": "stdout",
     "output_type": "stream",
     "text": [
      "f_int(1.0) = 1.0\n"
     ]
    },
    {
     "data": {
      "image/png": "[encoded data removed]",
      "image/svg+xml": [
       "<?xml version=\"1.0\" encoding=\"utf-8\"?>\n",
       "<svg xmlns=\"http://www.w3.org/2000/svg\" xmlns:xlink=\"http://www.w3.org/1999/xlink\" width=\"600\" height=\"400\" viewBox=\"0 0 2400 1600\">\n",
       "<defs>\n",
       "  <clipPath id=\"clip360\">\n",
       "    <rect x=\"0\" y=\"0\" width=\"2400\" height=\"1600\"/>\n",
       "  </clipPath>\n",
       "</defs>\n",
       "<path clip-path=\"url(#clip360)\" d=\"M0 1600 L2400 1600 L2400 0 L0 0  Z\" fill=\"#ffffff\" fill-rule=\"evenodd\" fill-opacity=\"1\"/>\n",
       "<defs>\n",
       "  <clipPath id=\"clip361\">\n",
       "    <rect x=\"480\" y=\"0\" width=\"1681\" height=\"1600\"/>\n",
       "  </clipPath>\n",
       "</defs>\n",
       "<path clip-path=\"url(#clip360)\" d=\"M186.274 1486.45 L2352.76 1486.45 L2352.76 47.2441 L186.274 47.2441  Z\" fill=\"#ffffff\" fill-rule=\"evenodd\" fill-opacity=\"1\"/>\n",
       "<defs>\n",
       "  <clipPath id=\"clip362\">\n",
       "    <rect x=\"186\" y=\"47\" width=\"2167\" height=\"1440\"/>\n",
       "  </clipPath>\n",
       "</defs>\n",
       "<polyline clip-path=\"url(#clip362)\" style=\"stroke:#000000; stroke-linecap:round; stroke-linejoin:round; stroke-width:2; stroke-opacity:0.1; fill:none\" points=\"247.59,1486.45 247.59,47.2441 \"/>\n",
       "<polyline clip-path=\"url(#clip362)\" style=\"stroke:#000000; stroke-linecap:round; stroke-linejoin:round; stroke-width:2; stroke-opacity:0.1; fill:none\" points=\"758.552,1486.45 758.552,47.2441 \"/>\n",
       "<polyline clip-path=\"url(#clip362)\" style=\"stroke:#000000; stroke-linecap:round; stroke-linejoin:round; stroke-width:2; stroke-opacity:0.1; fill:none\" points=\"1269.51,1486.45 1269.51,47.2441 \"/>\n",
       "<polyline clip-path=\"url(#clip362)\" style=\"stroke:#000000; stroke-linecap:round; stroke-linejoin:round; stroke-width:2; stroke-opacity:0.1; fill:none\" points=\"1780.48,1486.45 1780.48,47.2441 \"/>\n",
       "<polyline clip-path=\"url(#clip362)\" style=\"stroke:#000000; stroke-linecap:round; stroke-linejoin:round; stroke-width:2; stroke-opacity:0.1; fill:none\" points=\"2291.44,1486.45 2291.44,47.2441 \"/>\n",
       "<polyline clip-path=\"url(#clip360)\" style=\"stroke:#000000; stroke-linecap:round; stroke-linejoin:round; stroke-width:4; stroke-opacity:1; fill:none\" points=\"186.274,1486.45 2352.76,1486.45 \"/>\n",
       "<polyline clip-path=\"url(#clip360)\" style=\"stroke:#000000; stroke-linecap:round; stroke-linejoin:round; stroke-width:4; stroke-opacity:1; fill:none\" points=\"247.59,1486.45 247.59,1467.55 \"/>\n",
       "<polyline clip-path=\"url(#clip360)\" style=\"stroke:#000000; stroke-linecap:round; stroke-linejoin:round; stroke-width:4; stroke-opacity:1; fill:none\" points=\"758.552,1486.45 758.552,1467.55 \"/>\n",
       "<polyline clip-path=\"url(#clip360)\" style=\"stroke:#000000; stroke-linecap:round; stroke-linejoin:round; stroke-width:4; stroke-opacity:1; fill:none\" points=\"1269.51,1486.45 1269.51,1467.55 \"/>\n",
       "<polyline clip-path=\"url(#clip360)\" style=\"stroke:#000000; stroke-linecap:round; stroke-linejoin:round; stroke-width:4; stroke-opacity:1; fill:none\" points=\"1780.48,1486.45 1780.48,1467.55 \"/>\n",
       "<polyline clip-path=\"url(#clip360)\" style=\"stroke:#000000; stroke-linecap:round; stroke-linejoin:round; stroke-width:4; stroke-opacity:1; fill:none\" points=\"2291.44,1486.45 2291.44,1467.55 \"/>\n",
       "<path clip-path=\"url(#clip360)\" d=\"M209.893 1517.37 Q206.282 1517.37 204.453 1520.93 Q202.648 1524.47 202.648 1531.6 Q202.648 1538.71 204.453 1542.27 Q206.282 1545.82 209.893 1545.82 Q213.527 1545.82 215.333 1542.27 Q217.161 1538.71 217.161 1531.6 Q217.161 1524.47 215.333 1520.93 Q213.527 1517.37 209.893 1517.37 M209.893 1513.66 Q215.703 1513.66 218.759 1518.27 Q221.837 1522.85 221.837 1531.6 Q221.837 1540.33 218.759 1544.94 Q215.703 1549.52 209.893 1549.52 Q204.083 1549.52 201.004 1544.94 Q197.949 1540.33 197.949 1531.6 Q197.949 1522.85 201.004 1518.27 Q204.083 1513.66 209.893 1513.66 Z\" fill=\"#000000\" fill-rule=\"nonzero\" fill-opacity=\"1\" /><path clip-path=\"url(#clip360)\" d=\"M230.055 1542.97 L234.939 1542.97 L234.939 1548.85 L230.055 1548.85 L230.055 1542.97 Z\" fill=\"#000000\" fill-rule=\"nonzero\" fill-opacity=\"1\" /><path clip-path=\"url(#clip360)\" d=\"M255.124 1517.37 Q251.513 1517.37 249.684 1520.93 Q247.879 1524.47 247.879 1531.6 Q247.879 1538.71 249.684 1542.27 Q251.513 1545.82 255.124 1545.82 Q258.758 1545.82 260.564 1542.27 Q262.393 1538.71 262.393 1531.6 Q262.393 1524.47 260.564 1520.93 Q258.758 1517.37 255.124 1517.37 M255.124 1513.66 Q260.934 1513.66 263.99 1518.27 Q267.069 1522.85 267.069 1531.6 Q267.069 1540.33 263.99 1544.94 Q260.934 1549.52 255.124 1549.52 Q249.314 1549.52 246.235 1544.94 Q243.18 1540.33 243.18 1531.6 Q243.18 1522.85 246.235 1518.27 Q249.314 1513.66 255.124 1513.66 Z\" fill=\"#000000\" fill-rule=\"nonzero\" fill-opacity=\"1\" /><path clip-path=\"url(#clip360)\" d=\"M285.286 1517.37 Q281.675 1517.37 279.846 1520.93 Q278.041 1524.47 278.041 1531.6 Q278.041 1538.71 279.846 1542.27 Q281.675 1545.82 285.286 1545.82 Q288.92 1545.82 290.726 1542.27 Q292.555 1538.71 292.555 1531.6 Q292.555 1524.47 290.726 1520.93 Q288.92 1517.37 285.286 1517.37 M285.286 1513.66 Q291.096 1513.66 294.152 1518.27 Q297.23 1522.85 297.23 1531.6 Q297.23 1540.33 294.152 1544.94 Q291.096 1549.52 285.286 1549.52 Q279.476 1549.52 276.397 1544.94 Q273.342 1540.33 273.342 1531.6 Q273.342 1522.85 276.397 1518.27 Q279.476 1513.66 285.286 1513.66 Z\" fill=\"#000000\" fill-rule=\"nonzero\" fill-opacity=\"1\" /><path clip-path=\"url(#clip360)\" d=\"M721.353 1517.37 Q717.742 1517.37 715.914 1520.93 Q714.108 1524.47 714.108 1531.6 Q714.108 1538.71 715.914 1542.27 Q717.742 1545.82 721.353 1545.82 Q724.988 1545.82 726.793 1542.27 Q728.622 1538.71 728.622 1531.6 Q728.622 1524.47 726.793 1520.93 Q724.988 1517.37 721.353 1517.37 M721.353 1513.66 Q727.164 1513.66 730.219 1518.27 Q733.298 1522.85 733.298 1531.6 Q733.298 1540.33 730.219 1544.94 Q727.164 1549.52 721.353 1549.52 Q715.543 1549.52 712.465 1544.94 Q709.409 1540.33 709.409 1531.6 Q709.409 1522.85 712.465 1518.27 Q715.543 1513.66 721.353 1513.66 Z\" fill=\"#000000\" fill-rule=\"nonzero\" fill-opacity=\"1\" /><path clip-path=\"url(#clip360)\" d=\"M741.515 1542.97 L746.4 1542.97 L746.4 1548.85 L741.515 1548.85 L741.515 1542.97 Z\" fill=\"#000000\" fill-rule=\"nonzero\" fill-opacity=\"1\" /><path clip-path=\"url(#clip360)\" d=\"M760.612 1544.91 L776.932 1544.91 L776.932 1548.85 L754.987 1548.85 L754.987 1544.91 Q757.649 1542.16 762.233 1537.53 Q766.839 1532.88 768.02 1531.53 Q770.265 1529.01 771.145 1527.27 Q772.048 1525.51 772.048 1523.82 Q772.048 1521.07 770.103 1519.33 Q768.182 1517.6 765.08 1517.6 Q762.881 1517.6 760.427 1518.36 Q757.997 1519.13 755.219 1520.68 L755.219 1515.95 Q758.043 1514.82 760.497 1514.24 Q762.95 1513.66 764.987 1513.66 Q770.358 1513.66 773.552 1516.35 Q776.747 1519.03 776.747 1523.52 Q776.747 1525.65 775.936 1527.57 Q775.149 1529.47 773.043 1532.07 Q772.464 1532.74 769.362 1535.95 Q766.261 1539.15 760.612 1544.91 Z\" fill=\"#000000\" fill-rule=\"nonzero\" fill-opacity=\"1\" /><path clip-path=\"url(#clip360)\" d=\"M786.793 1514.29 L805.149 1514.29 L805.149 1518.22 L791.075 1518.22 L791.075 1526.7 Q792.094 1526.35 793.112 1526.19 Q794.131 1526 795.149 1526 Q800.936 1526 804.316 1529.17 Q807.695 1532.34 807.695 1537.76 Q807.695 1543.34 804.223 1546.44 Q800.751 1549.52 794.432 1549.52 Q792.256 1549.52 789.987 1549.15 Q787.742 1548.78 785.335 1548.04 L785.335 1543.34 Q787.418 1544.47 789.64 1545.03 Q791.862 1545.58 794.339 1545.58 Q798.344 1545.58 800.682 1543.48 Q803.02 1541.37 803.02 1537.76 Q803.02 1534.15 800.682 1532.04 Q798.344 1529.94 794.339 1529.94 Q792.464 1529.94 790.589 1530.35 Q788.737 1530.77 786.793 1531.65 L786.793 1514.29 Z\" fill=\"#000000\" fill-rule=\"nonzero\" fill-opacity=\"1\" /><path clip-path=\"url(#clip360)\" d=\"M1231.82 1517.37 Q1228.21 1517.37 1226.38 1520.93 Q1224.57 1524.47 1224.57 1531.6 Q1224.57 1538.71 1226.38 1542.27 Q1228.21 1545.82 1231.82 1545.82 Q1235.45 1545.82 1237.26 1542.27 Q1239.09 1538.71 1239.09 1531.6 Q1239.09 1524.47 1237.26 1520.93 Q1235.45 1517.37 1231.82 1517.37 M1231.82 1513.66 Q1237.63 1513.66 1240.68 1518.27 Q1243.76 1522.85 1243.76 1531.6 Q1243.76 1540.33 1240.68 1544.94 Q1237.63 1549.52 1231.82 1549.52 Q1226.01 1549.52 1222.93 1544.94 Q1219.87 1540.33 1219.87 1531.6 Q1219.87 1522.85 1222.93 1518.27 Q1226.01 1513.66 1231.82 1513.66 Z\" fill=\"#000000\" fill-rule=\"nonzero\" fill-opacity=\"1\" /><path clip-path=\"url(#clip360)\" d=\"M1251.98 1542.97 L1256.86 1542.97 L1256.86 1548.85 L1251.98 1548.85 L1251.98 1542.97 Z\" fill=\"#000000\" fill-rule=\"nonzero\" fill-opacity=\"1\" /><path clip-path=\"url(#clip360)\" d=\"M1267.1 1514.29 L1285.45 1514.29 L1285.45 1518.22 L1271.38 1518.22 L1271.38 1526.7 Q1272.4 1526.35 1273.42 1526.19 Q1274.43 1526 1275.45 1526 Q1281.24 1526 1284.62 1529.17 Q1288 1532.34 1288 1537.76 Q1288 1543.34 1284.53 1546.44 Q1281.05 1549.52 1274.73 1549.52 Q1272.56 1549.52 1270.29 1549.15 Q1268.05 1548.78 1265.64 1548.04 L1265.64 1543.34 Q1267.72 1544.47 1269.94 1545.03 Q1272.17 1545.58 1274.64 1545.58 Q1278.65 1545.58 1280.98 1543.48 Q1283.32 1541.37 1283.32 1537.76 Q1283.32 1534.15 1280.98 1532.04 Q1278.65 1529.94 1274.64 1529.94 Q1272.77 1529.94 1270.89 1530.35 Q1269.04 1530.77 1267.1 1531.65 L1267.1 1514.29 Z\" fill=\"#000000\" fill-rule=\"nonzero\" fill-opacity=\"1\" /><path clip-path=\"url(#clip360)\" d=\"M1307.21 1517.37 Q1303.6 1517.37 1301.77 1520.93 Q1299.97 1524.47 1299.97 1531.6 Q1299.97 1538.71 1301.77 1542.27 Q1303.6 1545.82 1307.21 1545.82 Q1310.85 1545.82 1312.65 1542.27 Q1314.48 1538.71 1314.48 1531.6 Q1314.48 1524.47 1312.65 1520.93 Q1310.85 1517.37 1307.21 1517.37 M1307.21 1513.66 Q1313.02 1513.66 1316.08 1518.27 Q1319.16 1522.85 1319.16 1531.6 Q1319.16 1540.33 1316.08 1544.94 Q1313.02 1549.52 1307.21 1549.52 Q1301.4 1549.52 1298.32 1544.94 Q1295.27 1540.33 1295.27 1531.6 Q1295.27 1522.85 1298.32 1518.27 Q1301.4 1513.66 1307.21 1513.66 Z\" fill=\"#000000\" fill-rule=\"nonzero\" fill-opacity=\"1\" /><path clip-path=\"url(#clip360)\" d=\"M1743.28 1517.37 Q1739.67 1517.37 1737.84 1520.93 Q1736.03 1524.47 1736.03 1531.6 Q1736.03 1538.71 1737.84 1542.27 Q1739.67 1545.82 1743.28 1545.82 Q1746.91 1545.82 1748.72 1542.27 Q1750.55 1538.71 1750.55 1531.6 Q1750.55 1524.47 1748.72 1520.93 Q1746.91 1517.37 1743.28 1517.37 M1743.28 1513.66 Q1749.09 1513.66 1752.14 1518.27 Q1755.22 1522.85 1755.22 1531.6 Q1755.22 1540.33 1752.14 1544.94 Q1749.09 1549.52 1743.28 1549.52 Q1737.47 1549.52 1734.39 1544.94 Q1731.33 1540.33 1731.33 1531.6 Q1731.33 1522.85 1734.39 1518.27 Q1737.47 1513.66 1743.28 1513.66 Z\" fill=\"#000000\" fill-rule=\"nonzero\" fill-opacity=\"1\" /><path clip-path=\"url(#clip360)\" d=\"M1763.44 1542.97 L1768.32 1542.97 L1768.32 1548.85 L1763.44 1548.85 L1763.44 1542.97 Z\" fill=\"#000000\" fill-rule=\"nonzero\" fill-opacity=\"1\" /><path clip-path=\"url(#clip360)\" d=\"M1777.33 1514.29 L1799.55 1514.29 L1799.55 1516.28 L1787.01 1548.85 L1782.12 1548.85 L1793.93 1518.22 L1777.33 1518.22 L1777.33 1514.29 Z\" fill=\"#000000\" fill-rule=\"nonzero\" fill-opacity=\"1\" /><path clip-path=\"url(#clip360)\" d=\"M1808.72 1514.29 L1827.07 1514.29 L1827.07 1518.22 L1813 1518.22 L1813 1526.7 Q1814.02 1526.35 1815.04 1526.19 Q1816.06 1526 1817.07 1526 Q1822.86 1526 1826.24 1529.17 Q1829.62 1532.34 1829.62 1537.76 Q1829.62 1543.34 1826.15 1546.44 Q1822.68 1549.52 1816.36 1549.52 Q1814.18 1549.52 1811.91 1549.15 Q1809.67 1548.78 1807.26 1548.04 L1807.26 1543.34 Q1809.34 1544.47 1811.57 1545.03 Q1813.79 1545.58 1816.26 1545.58 Q1820.27 1545.58 1822.61 1543.48 Q1824.95 1541.37 1824.95 1537.76 Q1824.95 1534.15 1822.61 1532.04 Q1820.27 1529.94 1816.26 1529.94 Q1814.39 1529.94 1812.51 1530.35 Q1810.66 1530.77 1808.72 1531.65 L1808.72 1514.29 Z\" fill=\"#000000\" fill-rule=\"nonzero\" fill-opacity=\"1\" /><path clip-path=\"url(#clip360)\" d=\"M2243.51 1544.91 L2251.15 1544.91 L2251.15 1518.55 L2242.84 1520.21 L2242.84 1515.95 L2251.1 1514.29 L2255.78 1514.29 L2255.78 1544.91 L2263.42 1544.91 L2263.42 1548.85 L2243.51 1548.85 L2243.51 1544.91 Z\" fill=\"#000000\" fill-rule=\"nonzero\" fill-opacity=\"1\" /><path clip-path=\"url(#clip360)\" d=\"M2272.86 1542.97 L2277.75 1542.97 L2277.75 1548.85 L2272.86 1548.85 L2272.86 1542.97 Z\" fill=\"#000000\" fill-rule=\"nonzero\" fill-opacity=\"1\" /><path clip-path=\"url(#clip360)\" d=\"M2297.93 1517.37 Q2294.32 1517.37 2292.49 1520.93 Q2290.69 1524.47 2290.69 1531.6 Q2290.69 1538.71 2292.49 1542.27 Q2294.32 1545.82 2297.93 1545.82 Q2301.57 1545.82 2303.37 1542.27 Q2305.2 1538.71 2305.2 1531.6 Q2305.2 1524.47 2303.37 1520.93 Q2301.57 1517.37 2297.93 1517.37 M2297.93 1513.66 Q2303.74 1513.66 2306.8 1518.27 Q2309.88 1522.85 2309.88 1531.6 Q2309.88 1540.33 2306.8 1544.94 Q2303.74 1549.52 2297.93 1549.52 Q2292.12 1549.52 2289.04 1544.94 Q2285.99 1540.33 2285.99 1531.6 Q2285.99 1522.85 2289.04 1518.27 Q2292.12 1513.66 2297.93 1513.66 Z\" fill=\"#000000\" fill-rule=\"nonzero\" fill-opacity=\"1\" /><path clip-path=\"url(#clip360)\" d=\"M2328.1 1517.37 Q2324.48 1517.37 2322.66 1520.93 Q2320.85 1524.47 2320.85 1531.6 Q2320.85 1538.71 2322.66 1542.27 Q2324.48 1545.82 2328.1 1545.82 Q2331.73 1545.82 2333.54 1542.27 Q2335.36 1538.71 2335.36 1531.6 Q2335.36 1524.47 2333.54 1520.93 Q2331.73 1517.37 2328.1 1517.37 M2328.1 1513.66 Q2333.91 1513.66 2336.96 1518.27 Q2340.04 1522.85 2340.04 1531.6 Q2340.04 1540.33 2336.96 1544.94 Q2333.91 1549.52 2328.1 1549.52 Q2322.29 1549.52 2319.21 1544.94 Q2316.15 1540.33 2316.15 1531.6 Q2316.15 1522.85 2319.21 1518.27 Q2322.29 1513.66 2328.1 1513.66 Z\" fill=\"#000000\" fill-rule=\"nonzero\" fill-opacity=\"1\" /><polyline clip-path=\"url(#clip362)\" style=\"stroke:#000000; stroke-linecap:round; stroke-linejoin:round; stroke-width:2; stroke-opacity:0.1; fill:none\" points=\"186.274,1445.72 2352.76,1445.72 \"/>\n",
       "<polyline clip-path=\"url(#clip362)\" style=\"stroke:#000000; stroke-linecap:round; stroke-linejoin:round; stroke-width:2; stroke-opacity:0.1; fill:none\" points=\"186.274,1106.28 2352.76,1106.28 \"/>\n",
       "<polyline clip-path=\"url(#clip362)\" style=\"stroke:#000000; stroke-linecap:round; stroke-linejoin:round; stroke-width:2; stroke-opacity:0.1; fill:none\" points=\"186.274,766.846 2352.76,766.846 \"/>\n",
       "<polyline clip-path=\"url(#clip362)\" style=\"stroke:#000000; stroke-linecap:round; stroke-linejoin:round; stroke-width:2; stroke-opacity:0.1; fill:none\" points=\"186.274,427.411 2352.76,427.411 \"/>\n",
       "<polyline clip-path=\"url(#clip362)\" style=\"stroke:#000000; stroke-linecap:round; stroke-linejoin:round; stroke-width:2; stroke-opacity:0.1; fill:none\" points=\"186.274,87.9763 2352.76,87.9763 \"/>\n",
       "<polyline clip-path=\"url(#clip360)\" style=\"stroke:#000000; stroke-linecap:round; stroke-linejoin:round; stroke-width:4; stroke-opacity:1; fill:none\" points=\"186.274,1486.45 186.274,47.2441 \"/>\n",
       "<polyline clip-path=\"url(#clip360)\" style=\"stroke:#000000; stroke-linecap:round; stroke-linejoin:round; stroke-width:4; stroke-opacity:1; fill:none\" points=\"186.274,1445.72 205.172,1445.72 \"/>\n",
       "<polyline clip-path=\"url(#clip360)\" style=\"stroke:#000000; stroke-linecap:round; stroke-linejoin:round; stroke-width:4; stroke-opacity:1; fill:none\" points=\"186.274,1106.28 205.172,1106.28 \"/>\n",
       "<polyline clip-path=\"url(#clip360)\" style=\"stroke:#000000; stroke-linecap:round; stroke-linejoin:round; stroke-width:4; stroke-opacity:1; fill:none\" points=\"186.274,766.846 205.172,766.846 \"/>\n",
       "<polyline clip-path=\"url(#clip360)\" style=\"stroke:#000000; stroke-linecap:round; stroke-linejoin:round; stroke-width:4; stroke-opacity:1; fill:none\" points=\"186.274,427.411 205.172,427.411 \"/>\n",
       "<polyline clip-path=\"url(#clip360)\" style=\"stroke:#000000; stroke-linecap:round; stroke-linejoin:round; stroke-width:4; stroke-opacity:1; fill:none\" points=\"186.274,87.9763 205.172,87.9763 \"/>\n",
       "<path clip-path=\"url(#clip360)\" d=\"M62.9365 1431.51 Q59.3254 1431.51 57.4967 1435.08 Q55.6912 1438.62 55.6912 1445.75 Q55.6912 1452.86 57.4967 1456.42 Q59.3254 1459.96 62.9365 1459.96 Q66.5707 1459.96 68.3763 1456.42 Q70.205 1452.86 70.205 1445.75 Q70.205 1438.62 68.3763 1435.08 Q66.5707 1431.51 62.9365 1431.51 M62.9365 1427.81 Q68.7467 1427.81 71.8022 1432.42 Q74.8809 1437 74.8809 1445.75 Q74.8809 1454.48 71.8022 1459.08 Q68.7467 1463.67 62.9365 1463.67 Q57.1264 1463.67 54.0477 1459.08 Q50.9921 1454.48 50.9921 1445.75 Q50.9921 1437 54.0477 1432.42 Q57.1264 1427.81 62.9365 1427.81 Z\" fill=\"#000000\" fill-rule=\"nonzero\" fill-opacity=\"1\" /><path clip-path=\"url(#clip360)\" d=\"M83.0984 1457.12 L87.9827 1457.12 L87.9827 1463 L83.0984 1463 L83.0984 1457.12 Z\" fill=\"#000000\" fill-rule=\"nonzero\" fill-opacity=\"1\" /><path clip-path=\"url(#clip360)\" d=\"M108.168 1431.51 Q104.557 1431.51 102.728 1435.08 Q100.922 1438.62 100.922 1445.75 Q100.922 1452.86 102.728 1456.42 Q104.557 1459.96 108.168 1459.96 Q111.802 1459.96 113.608 1456.42 Q115.436 1452.86 115.436 1445.75 Q115.436 1438.62 113.608 1435.08 Q111.802 1431.51 108.168 1431.51 M108.168 1427.81 Q113.978 1427.81 117.033 1432.42 Q120.112 1437 120.112 1445.75 Q120.112 1454.48 117.033 1459.08 Q113.978 1463.67 108.168 1463.67 Q102.358 1463.67 99.2789 1459.08 Q96.2234 1454.48 96.2234 1445.75 Q96.2234 1437 99.2789 1432.42 Q102.358 1427.81 108.168 1427.81 Z\" fill=\"#000000\" fill-rule=\"nonzero\" fill-opacity=\"1\" /><path clip-path=\"url(#clip360)\" d=\"M138.33 1431.51 Q134.719 1431.51 132.89 1435.08 Q131.084 1438.62 131.084 1445.75 Q131.084 1452.86 132.89 1456.42 Q134.719 1459.96 138.33 1459.96 Q141.964 1459.96 143.769 1456.42 Q145.598 1452.86 145.598 1445.75 Q145.598 1438.62 143.769 1435.08 Q141.964 1431.51 138.33 1431.51 M138.33 1427.81 Q144.14 1427.81 147.195 1432.42 Q150.274 1437 150.274 1445.75 Q150.274 1454.48 147.195 1459.08 Q144.14 1463.67 138.33 1463.67 Q132.519 1463.67 129.441 1459.08 Q126.385 1454.48 126.385 1445.75 Q126.385 1437 129.441 1432.42 Q132.519 1427.81 138.33 1427.81 Z\" fill=\"#000000\" fill-rule=\"nonzero\" fill-opacity=\"1\" /><path clip-path=\"url(#clip360)\" d=\"M63.9319 1092.08 Q60.3208 1092.08 58.4921 1095.64 Q56.6865 1099.19 56.6865 1106.32 Q56.6865 1113.42 58.4921 1116.99 Q60.3208 1120.53 63.9319 1120.53 Q67.5661 1120.53 69.3717 1116.99 Q71.2004 1113.42 71.2004 1106.32 Q71.2004 1099.19 69.3717 1095.64 Q67.5661 1092.08 63.9319 1092.08 M63.9319 1088.38 Q69.742 1088.38 72.7976 1092.98 Q75.8763 1097.57 75.8763 1106.32 Q75.8763 1115.04 72.7976 1119.65 Q69.742 1124.23 63.9319 1124.23 Q58.1217 1124.23 55.043 1119.65 Q51.9875 1115.04 51.9875 1106.32 Q51.9875 1097.57 55.043 1092.98 Q58.1217 1088.38 63.9319 1088.38 Z\" fill=\"#000000\" fill-rule=\"nonzero\" fill-opacity=\"1\" /><path clip-path=\"url(#clip360)\" d=\"M84.0938 1117.68 L88.978 1117.68 L88.978 1123.56 L84.0938 1123.56 L84.0938 1117.68 Z\" fill=\"#000000\" fill-rule=\"nonzero\" fill-opacity=\"1\" /><path clip-path=\"url(#clip360)\" d=\"M103.191 1119.63 L119.51 1119.63 L119.51 1123.56 L97.566 1123.56 L97.566 1119.63 Q100.228 1116.87 104.811 1112.24 Q109.418 1107.59 110.598 1106.25 Q112.844 1103.72 113.723 1101.99 Q114.626 1100.23 114.626 1098.54 Q114.626 1095.78 112.682 1094.05 Q110.76 1092.31 107.658 1092.31 Q105.459 1092.31 103.006 1093.07 Q100.575 1093.84 97.7974 1095.39 L97.7974 1090.67 Q100.621 1089.53 103.075 1088.95 Q105.529 1088.38 107.566 1088.38 Q112.936 1088.38 116.131 1091.06 Q119.325 1093.75 119.325 1098.24 Q119.325 1100.37 118.515 1102.29 Q117.728 1104.19 115.621 1106.78 Q115.043 1107.45 111.941 1110.67 Q108.839 1113.86 103.191 1119.63 Z\" fill=\"#000000\" fill-rule=\"nonzero\" fill-opacity=\"1\" /><path clip-path=\"url(#clip360)\" d=\"M129.371 1089 L147.728 1089 L147.728 1092.94 L133.654 1092.94 L133.654 1101.41 Q134.672 1101.06 135.691 1100.9 Q136.709 1100.71 137.728 1100.71 Q143.515 1100.71 146.894 1103.89 Q150.274 1107.06 150.274 1112.47 Q150.274 1118.05 146.802 1121.15 Q143.33 1124.23 137.01 1124.23 Q134.834 1124.23 132.566 1123.86 Q130.32 1123.49 127.913 1122.75 L127.913 1118.05 Q129.996 1119.19 132.219 1119.74 Q134.441 1120.3 136.918 1120.3 Q140.922 1120.3 143.26 1118.19 Q145.598 1116.08 145.598 1112.47 Q145.598 1108.86 143.26 1106.76 Q140.922 1104.65 136.918 1104.65 Q135.043 1104.65 133.168 1105.07 Q131.316 1105.48 129.371 1106.36 L129.371 1089 Z\" fill=\"#000000\" fill-rule=\"nonzero\" fill-opacity=\"1\" /><path clip-path=\"url(#clip360)\" d=\"M62.9365 752.645 Q59.3254 752.645 57.4967 756.209 Q55.6912 759.751 55.6912 766.881 Q55.6912 773.987 57.4967 777.552 Q59.3254 781.094 62.9365 781.094 Q66.5707 781.094 68.3763 777.552 Q70.205 773.987 70.205 766.881 Q70.205 759.751 68.3763 756.209 Q66.5707 752.645 62.9365 752.645 M62.9365 748.941 Q68.7467 748.941 71.8022 753.547 Q74.8809 758.131 74.8809 766.881 Q74.8809 775.608 71.8022 780.214 Q68.7467 784.797 62.9365 784.797 Q57.1264 784.797 54.0477 780.214 Q50.9921 775.608 50.9921 766.881 Q50.9921 758.131 54.0477 753.547 Q57.1264 748.941 62.9365 748.941 Z\" fill=\"#000000\" fill-rule=\"nonzero\" fill-opacity=\"1\" /><path clip-path=\"url(#clip360)\" d=\"M83.0984 778.246 L87.9827 778.246 L87.9827 784.126 L83.0984 784.126 L83.0984 778.246 Z\" fill=\"#000000\" fill-rule=\"nonzero\" fill-opacity=\"1\" /><path clip-path=\"url(#clip360)\" d=\"M98.2141 749.566 L116.57 749.566 L116.57 753.501 L102.496 753.501 L102.496 761.973 Q103.515 761.626 104.534 761.464 Q105.552 761.279 106.571 761.279 Q112.358 761.279 115.737 764.45 Q119.117 767.621 119.117 773.038 Q119.117 778.617 115.645 781.719 Q112.172 784.797 105.853 784.797 Q103.677 784.797 101.409 784.427 Q99.1632 784.057 96.7558 783.316 L96.7558 778.617 Q98.8391 779.751 101.061 780.307 Q103.284 780.862 105.76 780.862 Q109.765 780.862 112.103 778.756 Q114.441 776.649 114.441 773.038 Q114.441 769.427 112.103 767.321 Q109.765 765.214 105.76 765.214 Q103.885 765.214 102.01 765.631 Q100.159 766.047 98.2141 766.927 L98.2141 749.566 Z\" fill=\"#000000\" fill-rule=\"nonzero\" fill-opacity=\"1\" /><path clip-path=\"url(#clip360)\" d=\"M138.33 752.645 Q134.719 752.645 132.89 756.209 Q131.084 759.751 131.084 766.881 Q131.084 773.987 132.89 777.552 Q134.719 781.094 138.33 781.094 Q141.964 781.094 143.769 777.552 Q145.598 773.987 145.598 766.881 Q145.598 759.751 143.769 756.209 Q141.964 752.645 138.33 752.645 M138.33 748.941 Q144.14 748.941 147.195 753.547 Q150.274 758.131 150.274 766.881 Q150.274 775.608 147.195 780.214 Q144.14 784.797 138.33 784.797 Q132.519 784.797 129.441 780.214 Q126.385 775.608 126.385 766.881 Q126.385 758.131 129.441 753.547 Q132.519 748.941 138.33 748.941 Z\" fill=\"#000000\" fill-rule=\"nonzero\" fill-opacity=\"1\" /><path clip-path=\"url(#clip360)\" d=\"M63.9319 413.21 Q60.3208 413.21 58.4921 416.775 Q56.6865 420.316 56.6865 427.446 Q56.6865 434.552 58.4921 438.117 Q60.3208 441.659 63.9319 441.659 Q67.5661 441.659 69.3717 438.117 Q71.2004 434.552 71.2004 427.446 Q71.2004 420.316 69.3717 416.775 Q67.5661 413.21 63.9319 413.21 M63.9319 409.506 Q69.742 409.506 72.7976 414.113 Q75.8763 418.696 75.8763 427.446 Q75.8763 436.173 72.7976 440.779 Q69.742 445.362 63.9319 445.362 Q58.1217 445.362 55.043 440.779 Q51.9875 436.173 51.9875 427.446 Q51.9875 418.696 55.043 414.113 Q58.1217 409.506 63.9319 409.506 Z\" fill=\"#000000\" fill-rule=\"nonzero\" fill-opacity=\"1\" /><path clip-path=\"url(#clip360)\" d=\"M84.0938 438.812 L88.978 438.812 L88.978 444.691 L84.0938 444.691 L84.0938 438.812 Z\" fill=\"#000000\" fill-rule=\"nonzero\" fill-opacity=\"1\" /><path clip-path=\"url(#clip360)\" d=\"M97.9826 410.131 L120.205 410.131 L120.205 412.122 L107.658 444.691 L102.774 444.691 L114.58 414.066 L97.9826 414.066 L97.9826 410.131 Z\" fill=\"#000000\" fill-rule=\"nonzero\" fill-opacity=\"1\" /><path clip-path=\"url(#clip360)\" d=\"M129.371 410.131 L147.728 410.131 L147.728 414.066 L133.654 414.066 L133.654 422.538 Q134.672 422.191 135.691 422.029 Q136.709 421.844 137.728 421.844 Q143.515 421.844 146.894 425.015 Q150.274 428.187 150.274 433.603 Q150.274 439.182 146.802 442.284 Q143.33 445.362 137.01 445.362 Q134.834 445.362 132.566 444.992 Q130.32 444.622 127.913 443.881 L127.913 439.182 Q129.996 440.316 132.219 440.872 Q134.441 441.427 136.918 441.427 Q140.922 441.427 143.26 439.321 Q145.598 437.214 145.598 433.603 Q145.598 429.992 143.26 427.886 Q140.922 425.779 136.918 425.779 Q135.043 425.779 133.168 426.196 Q131.316 426.613 129.371 427.492 L129.371 410.131 Z\" fill=\"#000000\" fill-rule=\"nonzero\" fill-opacity=\"1\" /><path clip-path=\"url(#clip360)\" d=\"M53.7467 101.321 L61.3856 101.321 L61.3856 74.9555 L53.0754 76.6222 L53.0754 72.3629 L61.3393 70.6963 L66.0152 70.6963 L66.0152 101.321 L73.654 101.321 L73.654 105.256 L53.7467 105.256 L53.7467 101.321 Z\" fill=\"#000000\" fill-rule=\"nonzero\" fill-opacity=\"1\" /><path clip-path=\"url(#clip360)\" d=\"M83.0984 99.3767 L87.9827 99.3767 L87.9827 105.256 L83.0984 105.256 L83.0984 99.3767 Z\" fill=\"#000000\" fill-rule=\"nonzero\" fill-opacity=\"1\" /><path clip-path=\"url(#clip360)\" d=\"M108.168 73.775 Q104.557 73.775 102.728 77.3398 Q100.922 80.8814 100.922 88.011 Q100.922 95.1174 102.728 98.6822 Q104.557 102.224 108.168 102.224 Q111.802 102.224 113.608 98.6822 Q115.436 95.1174 115.436 88.011 Q115.436 80.8814 113.608 77.3398 Q111.802 73.775 108.168 73.775 M108.168 70.0713 Q113.978 70.0713 117.033 74.6777 Q120.112 79.261 120.112 88.011 Q120.112 96.7378 117.033 101.344 Q113.978 105.928 108.168 105.928 Q102.358 105.928 99.2789 101.344 Q96.2234 96.7378 96.2234 88.011 Q96.2234 79.261 99.2789 74.6777 Q102.358 70.0713 108.168 70.0713 Z\" fill=\"#000000\" fill-rule=\"nonzero\" fill-opacity=\"1\" /><path clip-path=\"url(#clip360)\" d=\"M138.33 73.775 Q134.719 73.775 132.89 77.3398 Q131.084 80.8814 131.084 88.011 Q131.084 95.1174 132.89 98.6822 Q134.719 102.224 138.33 102.224 Q141.964 102.224 143.769 98.6822 Q145.598 95.1174 145.598 88.011 Q145.598 80.8814 143.769 77.3398 Q141.964 73.775 138.33 73.775 M138.33 70.0713 Q144.14 70.0713 147.195 74.6777 Q150.274 79.261 150.274 88.011 Q150.274 96.7378 147.195 101.344 Q144.14 105.928 138.33 105.928 Q132.519 105.928 129.441 101.344 Q126.385 96.7378 126.385 88.011 Q126.385 79.261 129.441 74.6777 Q132.519 70.0713 138.33 70.0713 Z\" fill=\"#000000\" fill-rule=\"nonzero\" fill-opacity=\"1\" /><polyline clip-path=\"url(#clip362)\" style=\"stroke:#009af9; stroke-linecap:round; stroke-linejoin:round; stroke-width:4; stroke-opacity:1; fill:none\" points=\"247.59,1445.72 451.975,1418.56 656.36,1391.41 860.745,1309.94 1065.13,1228.48 1269.51,1092.7 1473.9,956.93 1678.29,766.846 1882.67,576.762 2087.06,332.369 2291.44,87.9763 \"/>\n",
       "<polyline clip-path=\"url(#clip362)\" style=\"stroke:#e26f46; stroke-linecap:round; stroke-linejoin:round; stroke-width:4; stroke-opacity:1; fill:none\" points=\"247.59,1445.72 451.975,1444.36 656.36,1440.28 860.745,1430.78 1065.13,1413.13 1269.51,1384.62 1473.9,1342.53 1678.29,1284.14 1882.67,1206.75 2087.06,1107.64 2291.44,984.084 \"/>\n",
       "<path clip-path=\"url(#clip360)\" d=\"M258.49 250.738 L573.772 250.738 L573.772 95.2176 L258.49 95.2176  Z\" fill=\"#ffffff\" fill-rule=\"evenodd\" fill-opacity=\"1\"/>\n",
       "<polyline clip-path=\"url(#clip360)\" style=\"stroke:#000000; stroke-linecap:round; stroke-linejoin:round; stroke-width:4; stroke-opacity:1; fill:none\" points=\"258.49,250.738 573.772,250.738 573.772,95.2176 258.49,95.2176 258.49,250.738 \"/>\n",
       "<polyline clip-path=\"url(#clip360)\" style=\"stroke:#009af9; stroke-linecap:round; stroke-linejoin:round; stroke-width:4; stroke-opacity:1; fill:none\" points=\"282.562,147.058 426.994,147.058 \"/>\n",
       "<path clip-path=\"url(#clip360)\" d=\"M467.571 128.319 L467.571 131.861 L463.497 131.861 Q461.205 131.861 460.302 132.787 Q459.423 133.713 459.423 136.12 L459.423 138.412 L466.437 138.412 L466.437 141.722 L459.423 141.722 L459.423 164.338 L455.14 164.338 L455.14 141.722 L451.066 141.722 L451.066 138.412 L455.14 138.412 L455.14 136.606 Q455.14 132.278 457.154 130.31 Q459.168 128.319 463.543 128.319 L467.571 128.319 Z\" fill=\"#000000\" fill-rule=\"nonzero\" fill-opacity=\"1\" /><polyline clip-path=\"url(#clip360)\" style=\"stroke:#e26f46; stroke-linecap:round; stroke-linejoin:round; stroke-width:4; stroke-opacity:1; fill:none\" points=\"282.562,198.898 426.994,198.898 \"/>\n",
       "<path clip-path=\"url(#clip360)\" d=\"M451.066 190.252 L455.325 190.252 L455.325 216.178 L451.066 216.178 L451.066 190.252 M451.066 180.159 L455.325 180.159 L455.325 185.553 L451.066 185.553 L451.066 180.159 Z\" fill=\"#000000\" fill-rule=\"nonzero\" fill-opacity=\"1\" /><path clip-path=\"url(#clip360)\" d=\"M485.788 200.529 L485.788 216.178 L481.529 216.178 L481.529 200.668 Q481.529 196.988 480.094 195.159 Q478.659 193.33 475.788 193.33 Q472.339 193.33 470.349 195.53 Q468.358 197.729 468.358 201.525 L468.358 216.178 L464.075 216.178 L464.075 190.252 L468.358 190.252 L468.358 194.28 Q469.886 191.942 471.946 190.784 Q474.029 189.627 476.737 189.627 Q481.205 189.627 483.497 192.405 Q485.788 195.159 485.788 200.529 Z\" fill=\"#000000\" fill-rule=\"nonzero\" fill-opacity=\"1\" /><path clip-path=\"url(#clip360)\" d=\"M498.497 182.891 L498.497 190.252 L507.27 190.252 L507.27 193.562 L498.497 193.562 L498.497 207.636 Q498.497 210.807 499.353 211.71 Q500.233 212.613 502.895 212.613 L507.27 212.613 L507.27 216.178 L502.895 216.178 Q497.964 216.178 496.089 214.349 Q494.214 212.497 494.214 207.636 L494.214 193.562 L491.089 193.562 L491.089 190.252 L494.214 190.252 L494.214 182.891 L498.497 182.891 Z\" fill=\"#000000\" fill-rule=\"nonzero\" fill-opacity=\"1\" /><path clip-path=\"url(#clip360)\" d=\"M532.57 224.048 L532.57 227.358 L507.941 227.358 L507.941 224.048 L532.57 224.048 Z\" fill=\"#000000\" fill-rule=\"nonzero\" fill-opacity=\"1\" /><path clip-path=\"url(#clip360)\" d=\"M549.7 180.159 L549.7 183.701 L545.626 183.701 Q543.334 183.701 542.431 184.627 Q541.552 185.553 541.552 187.96 L541.552 190.252 L548.566 190.252 L548.566 193.562 L541.552 193.562 L541.552 216.178 L537.269 216.178 L537.269 193.562 L533.195 193.562 L533.195 190.252 L537.269 190.252 L537.269 188.446 Q537.269 184.118 539.283 182.15 Q541.297 180.159 545.672 180.159 L549.7 180.159 Z\" fill=\"#000000\" fill-rule=\"nonzero\" fill-opacity=\"1\" /></svg>\n"
      ],
      "text/html": [
       "<?xml version=\"1.0\" encoding=\"utf-8\"?>\n",
       "<svg xmlns=\"http://www.w3.org/2000/svg\" xmlns:xlink=\"http://www.w3.org/1999/xlink\" width=\"600\" height=\"400\" viewBox=\"0 0 2400 1600\">\n",
       "<defs>\n",
       "  <clipPath id=\"clip410\">\n",
       "    <rect x=\"0\" y=\"0\" width=\"2400\" height=\"1600\"/>\n",
       "  </clipPath>\n",
       "</defs>\n",
       "<path clip-path=\"url(#clip410)\" d=\"M0 1600 L2400 1600 L2400 0 L0 0  Z\" fill=\"#ffffff\" fill-rule=\"evenodd\" fill-opacity=\"1\"/>\n",
       "<defs>\n",
       "  <clipPath id=\"clip411\">\n",
       "    <rect x=\"480\" y=\"0\" width=\"1681\" height=\"1600\"/>\n",
       "  </clipPath>\n",
       "</defs>\n",
       "<path clip-path=\"url(#clip410)\" d=\"M186.274 1486.45 L2352.76 1486.45 L2352.76 47.2441 L186.274 47.2441  Z\" fill=\"#ffffff\" fill-rule=\"evenodd\" fill-opacity=\"1\"/>\n",
       "<defs>\n",
       "  <clipPath id=\"clip412\">\n",
       "    <rect x=\"186\" y=\"47\" width=\"2167\" height=\"1440\"/>\n",
       "  </clipPath>\n",
       "</defs>\n",
       "<polyline clip-path=\"url(#clip412)\" style=\"stroke:#000000; stroke-linecap:round; stroke-linejoin:round; stroke-width:2; stroke-opacity:0.1; fill:none\" points=\"247.59,1486.45 247.59,47.2441 \"/>\n",
       "<polyline clip-path=\"url(#clip412)\" style=\"stroke:#000000; stroke-linecap:round; stroke-linejoin:round; stroke-width:2; stroke-opacity:0.1; fill:none\" points=\"758.552,1486.45 758.552,47.2441 \"/>\n",
       "<polyline clip-path=\"url(#clip412)\" style=\"stroke:#000000; stroke-linecap:round; stroke-linejoin:round; stroke-width:2; stroke-opacity:0.1; fill:none\" points=\"1269.51,1486.45 1269.51,47.2441 \"/>\n",
       "<polyline clip-path=\"url(#clip412)\" style=\"stroke:#000000; stroke-linecap:round; stroke-linejoin:round; stroke-width:2; stroke-opacity:0.1; fill:none\" points=\"1780.48,1486.45 1780.48,47.2441 \"/>\n",
       "<polyline clip-path=\"url(#clip412)\" style=\"stroke:#000000; stroke-linecap:round; stroke-linejoin:round; stroke-width:2; stroke-opacity:0.1; fill:none\" points=\"2291.44,1486.45 2291.44,47.2441 \"/>\n",
       "<polyline clip-path=\"url(#clip410)\" style=\"stroke:#000000; stroke-linecap:round; stroke-linejoin:round; stroke-width:4; stroke-opacity:1; fill:none\" points=\"186.274,1486.45 2352.76,1486.45 \"/>\n",
       "<polyline clip-path=\"url(#clip410)\" style=\"stroke:#000000; stroke-linecap:round; stroke-linejoin:round; stroke-width:4; stroke-opacity:1; fill:none\" points=\"247.59,1486.45 247.59,1467.55 \"/>\n",
       "<polyline clip-path=\"url(#clip410)\" style=\"stroke:#000000; stroke-linecap:round; stroke-linejoin:round; stroke-width:4; stroke-opacity:1; fill:none\" points=\"758.552,1486.45 758.552,1467.55 \"/>\n",
       "<polyline clip-path=\"url(#clip410)\" style=\"stroke:#000000; stroke-linecap:round; stroke-linejoin:round; stroke-width:4; stroke-opacity:1; fill:none\" points=\"1269.51,1486.45 1269.51,1467.55 \"/>\n",
       "<polyline clip-path=\"url(#clip410)\" style=\"stroke:#000000; stroke-linecap:round; stroke-linejoin:round; stroke-width:4; stroke-opacity:1; fill:none\" points=\"1780.48,1486.45 1780.48,1467.55 \"/>\n",
       "<polyline clip-path=\"url(#clip410)\" style=\"stroke:#000000; stroke-linecap:round; stroke-linejoin:round; stroke-width:4; stroke-opacity:1; fill:none\" points=\"2291.44,1486.45 2291.44,1467.55 \"/>\n",
       "<path clip-path=\"url(#clip410)\" d=\"M209.893 1517.37 Q206.282 1517.37 204.453 1520.93 Q202.648 1524.47 202.648 1531.6 Q202.648 1538.71 204.453 1542.27 Q206.282 1545.82 209.893 1545.82 Q213.527 1545.82 215.333 1542.27 Q217.161 1538.71 217.161 1531.6 Q217.161 1524.47 215.333 1520.93 Q213.527 1517.37 209.893 1517.37 M209.893 1513.66 Q215.703 1513.66 218.759 1518.27 Q221.837 1522.85 221.837 1531.6 Q221.837 1540.33 218.759 1544.94 Q215.703 1549.52 209.893 1549.52 Q204.083 1549.52 201.004 1544.94 Q197.949 1540.33 197.949 1531.6 Q197.949 1522.85 201.004 1518.27 Q204.083 1513.66 209.893 1513.66 Z\" fill=\"#000000\" fill-rule=\"nonzero\" fill-opacity=\"1\" /><path clip-path=\"url(#clip410)\" d=\"M230.055 1542.97 L234.939 1542.97 L234.939 1548.85 L230.055 1548.85 L230.055 1542.97 Z\" fill=\"#000000\" fill-rule=\"nonzero\" fill-opacity=\"1\" /><path clip-path=\"url(#clip410)\" d=\"M255.124 1517.37 Q251.513 1517.37 249.684 1520.93 Q247.879 1524.47 247.879 1531.6 Q247.879 1538.71 249.684 1542.27 Q251.513 1545.82 255.124 1545.82 Q258.758 1545.82 260.564 1542.27 Q262.393 1538.71 262.393 1531.6 Q262.393 1524.47 260.564 1520.93 Q258.758 1517.37 255.124 1517.37 M255.124 1513.66 Q260.934 1513.66 263.99 1518.27 Q267.069 1522.85 267.069 1531.6 Q267.069 1540.33 263.99 1544.94 Q260.934 1549.52 255.124 1549.52 Q249.314 1549.52 246.235 1544.94 Q243.18 1540.33 243.18 1531.6 Q243.18 1522.85 246.235 1518.27 Q249.314 1513.66 255.124 1513.66 Z\" fill=\"#000000\" fill-rule=\"nonzero\" fill-opacity=\"1\" /><path clip-path=\"url(#clip410)\" d=\"M285.286 1517.37 Q281.675 1517.37 279.846 1520.93 Q278.041 1524.47 278.041 1531.6 Q278.041 1538.71 279.846 1542.27 Q281.675 1545.82 285.286 1545.82 Q288.92 1545.82 290.726 1542.27 Q292.555 1538.71 292.555 1531.6 Q292.555 1524.47 290.726 1520.93 Q288.92 1517.37 285.286 1517.37 M285.286 1513.66 Q291.096 1513.66 294.152 1518.27 Q297.23 1522.85 297.23 1531.6 Q297.23 1540.33 294.152 1544.94 Q291.096 1549.52 285.286 1549.52 Q279.476 1549.52 276.397 1544.94 Q273.342 1540.33 273.342 1531.6 Q273.342 1522.85 276.397 1518.27 Q279.476 1513.66 285.286 1513.66 Z\" fill=\"#000000\" fill-rule=\"nonzero\" fill-opacity=\"1\" /><path clip-path=\"url(#clip410)\" d=\"M721.353 1517.37 Q717.742 1517.37 715.914 1520.93 Q714.108 1524.47 714.108 1531.6 Q714.108 1538.71 715.914 1542.27 Q717.742 1545.82 721.353 1545.82 Q724.988 1545.82 726.793 1542.27 Q728.622 1538.71 728.622 1531.6 Q728.622 1524.47 726.793 1520.93 Q724.988 1517.37 721.353 1517.37 M721.353 1513.66 Q727.164 1513.66 730.219 1518.27 Q733.298 1522.85 733.298 1531.6 Q733.298 1540.33 730.219 1544.94 Q727.164 1549.52 721.353 1549.52 Q715.543 1549.52 712.465 1544.94 Q709.409 1540.33 709.409 1531.6 Q709.409 1522.85 712.465 1518.27 Q715.543 1513.66 721.353 1513.66 Z\" fill=\"#000000\" fill-rule=\"nonzero\" fill-opacity=\"1\" /><path clip-path=\"url(#clip410)\" d=\"M741.515 1542.97 L746.4 1542.97 L746.4 1548.85 L741.515 1548.85 L741.515 1542.97 Z\" fill=\"#000000\" fill-rule=\"nonzero\" fill-opacity=\"1\" /><path clip-path=\"url(#clip410)\" d=\"M760.612 1544.91 L776.932 1544.91 L776.932 1548.85 L754.987 1548.85 L754.987 1544.91 Q757.649 1542.16 762.233 1537.53 Q766.839 1532.88 768.02 1531.53 Q770.265 1529.01 771.145 1527.27 Q772.048 1525.51 772.048 1523.82 Q772.048 1521.07 770.103 1519.33 Q768.182 1517.6 765.08 1517.6 Q762.881 1517.6 760.427 1518.36 Q757.997 1519.13 755.219 1520.68 L755.219 1515.95 Q758.043 1514.82 760.497 1514.24 Q762.95 1513.66 764.987 1513.66 Q770.358 1513.66 773.552 1516.35 Q776.747 1519.03 776.747 1523.52 Q776.747 1525.65 775.936 1527.57 Q775.149 1529.47 773.043 1532.07 Q772.464 1532.74 769.362 1535.95 Q766.261 1539.15 760.612 1544.91 Z\" fill=\"#000000\" fill-rule=\"nonzero\" fill-opacity=\"1\" /><path clip-path=\"url(#clip410)\" d=\"M786.793 1514.29 L805.149 1514.29 L805.149 1518.22 L791.075 1518.22 L791.075 1526.7 Q792.094 1526.35 793.112 1526.19 Q794.131 1526 795.149 1526 Q800.936 1526 804.316 1529.17 Q807.695 1532.34 807.695 1537.76 Q807.695 1543.34 804.223 1546.44 Q800.751 1549.52 794.432 1549.52 Q792.256 1549.52 789.987 1549.15 Q787.742 1548.78 785.335 1548.04 L785.335 1543.34 Q787.418 1544.47 789.64 1545.03 Q791.862 1545.58 794.339 1545.58 Q798.344 1545.58 800.682 1543.48 Q803.02 1541.37 803.02 1537.76 Q803.02 1534.15 800.682 1532.04 Q798.344 1529.94 794.339 1529.94 Q792.464 1529.94 790.589 1530.35 Q788.737 1530.77 786.793 1531.65 L786.793 1514.29 Z\" fill=\"#000000\" fill-rule=\"nonzero\" fill-opacity=\"1\" /><path clip-path=\"url(#clip410)\" d=\"M1231.82 1517.37 Q1228.21 1517.37 1226.38 1520.93 Q1224.57 1524.47 1224.57 1531.6 Q1224.57 1538.71 1226.38 1542.27 Q1228.21 1545.82 1231.82 1545.82 Q1235.45 1545.82 1237.26 1542.27 Q1239.09 1538.71 1239.09 1531.6 Q1239.09 1524.47 1237.26 1520.93 Q1235.45 1517.37 1231.82 1517.37 M1231.82 1513.66 Q1237.63 1513.66 1240.68 1518.27 Q1243.76 1522.85 1243.76 1531.6 Q1243.76 1540.33 1240.68 1544.94 Q1237.63 1549.52 1231.82 1549.52 Q1226.01 1549.52 1222.93 1544.94 Q1219.87 1540.33 1219.87 1531.6 Q1219.87 1522.85 1222.93 1518.27 Q1226.01 1513.66 1231.82 1513.66 Z\" fill=\"#000000\" fill-rule=\"nonzero\" fill-opacity=\"1\" /><path clip-path=\"url(#clip410)\" d=\"M1251.98 1542.97 L1256.86 1542.97 L1256.86 1548.85 L1251.98 1548.85 L1251.98 1542.97 Z\" fill=\"#000000\" fill-rule=\"nonzero\" fill-opacity=\"1\" /><path clip-path=\"url(#clip410)\" d=\"M1267.1 1514.29 L1285.45 1514.29 L1285.45 1518.22 L1271.38 1518.22 L1271.38 1526.7 Q1272.4 1526.35 1273.42 1526.19 Q1274.43 1526 1275.45 1526 Q1281.24 1526 1284.62 1529.17 Q1288 1532.34 1288 1537.76 Q1288 1543.34 1284.53 1546.44 Q1281.05 1549.52 1274.73 1549.52 Q1272.56 1549.52 1270.29 1549.15 Q1268.05 1548.78 1265.64 1548.04 L1265.64 1543.34 Q1267.72 1544.47 1269.94 1545.03 Q1272.17 1545.58 1274.64 1545.58 Q1278.65 1545.58 1280.98 1543.48 Q1283.32 1541.37 1283.32 1537.76 Q1283.32 1534.15 1280.98 1532.04 Q1278.65 1529.94 1274.64 1529.94 Q1272.77 1529.94 1270.89 1530.35 Q1269.04 1530.77 1267.1 1531.65 L1267.1 1514.29 Z\" fill=\"#000000\" fill-rule=\"nonzero\" fill-opacity=\"1\" /><path clip-path=\"url(#clip410)\" d=\"M1307.21 1517.37 Q1303.6 1517.37 1301.77 1520.93 Q1299.97 1524.47 1299.97 1531.6 Q1299.97 1538.71 1301.77 1542.27 Q1303.6 1545.82 1307.21 1545.82 Q1310.85 1545.82 1312.65 1542.27 Q1314.48 1538.71 1314.48 1531.6 Q1314.48 1524.47 1312.65 1520.93 Q1310.85 1517.37 1307.21 1517.37 M1307.21 1513.66 Q1313.02 1513.66 1316.08 1518.27 Q1319.16 1522.85 1319.16 1531.6 Q1319.16 1540.33 1316.08 1544.94 Q1313.02 1549.52 1307.21 1549.52 Q1301.4 1549.52 1298.32 1544.94 Q1295.27 1540.33 1295.27 1531.6 Q1295.27 1522.85 1298.32 1518.27 Q1301.4 1513.66 1307.21 1513.66 Z\" fill=\"#000000\" fill-rule=\"nonzero\" fill-opacity=\"1\" /><path clip-path=\"url(#clip410)\" d=\"M1743.28 1517.37 Q1739.67 1517.37 1737.84 1520.93 Q1736.03 1524.47 1736.03 1531.6 Q1736.03 1538.71 1737.84 1542.27 Q1739.67 1545.82 1743.28 1545.82 Q1746.91 1545.82 1748.72 1542.27 Q1750.55 1538.71 1750.55 1531.6 Q1750.55 1524.47 1748.72 1520.93 Q1746.91 1517.37 1743.28 1517.37 M1743.28 1513.66 Q1749.09 1513.66 1752.14 1518.27 Q1755.22 1522.85 1755.22 1531.6 Q1755.22 1540.33 1752.14 1544.94 Q1749.09 1549.52 1743.28 1549.52 Q1737.47 1549.52 1734.39 1544.94 Q1731.33 1540.33 1731.33 1531.6 Q1731.33 1522.85 1734.39 1518.27 Q1737.47 1513.66 1743.28 1513.66 Z\" fill=\"#000000\" fill-rule=\"nonzero\" fill-opacity=\"1\" /><path clip-path=\"url(#clip410)\" d=\"M1763.44 1542.97 L1768.32 1542.97 L1768.32 1548.85 L1763.44 1548.85 L1763.44 1542.97 Z\" fill=\"#000000\" fill-rule=\"nonzero\" fill-opacity=\"1\" /><path clip-path=\"url(#clip410)\" d=\"M1777.33 1514.29 L1799.55 1514.29 L1799.55 1516.28 L1787.01 1548.85 L1782.12 1548.85 L1793.93 1518.22 L1777.33 1518.22 L1777.33 1514.29 Z\" fill=\"#000000\" fill-rule=\"nonzero\" fill-opacity=\"1\" /><path clip-path=\"url(#clip410)\" d=\"M1808.72 1514.29 L1827.07 1514.29 L1827.07 1518.22 L1813 1518.22 L1813 1526.7 Q1814.02 1526.35 1815.04 1526.19 Q1816.06 1526 1817.07 1526 Q1822.86 1526 1826.24 1529.17 Q1829.62 1532.34 1829.62 1537.76 Q1829.62 1543.34 1826.15 1546.44 Q1822.68 1549.52 1816.36 1549.52 Q1814.18 1549.52 1811.91 1549.15 Q1809.67 1548.78 1807.26 1548.04 L1807.26 1543.34 Q1809.34 1544.47 1811.57 1545.03 Q1813.79 1545.58 1816.26 1545.58 Q1820.27 1545.58 1822.61 1543.48 Q1824.95 1541.37 1824.95 1537.76 Q1824.95 1534.15 1822.61 1532.04 Q1820.27 1529.94 1816.26 1529.94 Q1814.39 1529.94 1812.51 1530.35 Q1810.66 1530.77 1808.72 1531.65 L1808.72 1514.29 Z\" fill=\"#000000\" fill-rule=\"nonzero\" fill-opacity=\"1\" /><path clip-path=\"url(#clip410)\" d=\"M2243.51 1544.91 L2251.15 1544.91 L2251.15 1518.55 L2242.84 1520.21 L2242.84 1515.95 L2251.1 1514.29 L2255.78 1514.29 L2255.78 1544.91 L2263.42 1544.91 L2263.42 1548.85 L2243.51 1548.85 L2243.51 1544.91 Z\" fill=\"#000000\" fill-rule=\"nonzero\" fill-opacity=\"1\" /><path clip-path=\"url(#clip410)\" d=\"M2272.86 1542.97 L2277.75 1542.97 L2277.75 1548.85 L2272.86 1548.85 L2272.86 1542.97 Z\" fill=\"#000000\" fill-rule=\"nonzero\" fill-opacity=\"1\" /><path clip-path=\"url(#clip410)\" d=\"M2297.93 1517.37 Q2294.32 1517.37 2292.49 1520.93 Q2290.69 1524.47 2290.69 1531.6 Q2290.69 1538.71 2292.49 1542.27 Q2294.32 1545.82 2297.93 1545.82 Q2301.57 1545.82 2303.37 1542.27 Q2305.2 1538.71 2305.2 1531.6 Q2305.2 1524.47 2303.37 1520.93 Q2301.57 1517.37 2297.93 1517.37 M2297.93 1513.66 Q2303.74 1513.66 2306.8 1518.27 Q2309.88 1522.85 2309.88 1531.6 Q2309.88 1540.33 2306.8 1544.94 Q2303.74 1549.52 2297.93 1549.52 Q2292.12 1549.52 2289.04 1544.94 Q2285.99 1540.33 2285.99 1531.6 Q2285.99 1522.85 2289.04 1518.27 Q2292.12 1513.66 2297.93 1513.66 Z\" fill=\"#000000\" fill-rule=\"nonzero\" fill-opacity=\"1\" /><path clip-path=\"url(#clip410)\" d=\"M2328.1 1517.37 Q2324.48 1517.37 2322.66 1520.93 Q2320.85 1524.47 2320.85 1531.6 Q2320.85 1538.71 2322.66 1542.27 Q2324.48 1545.82 2328.1 1545.82 Q2331.73 1545.82 2333.54 1542.27 Q2335.36 1538.71 2335.36 1531.6 Q2335.36 1524.47 2333.54 1520.93 Q2331.73 1517.37 2328.1 1517.37 M2328.1 1513.66 Q2333.91 1513.66 2336.96 1518.27 Q2340.04 1522.85 2340.04 1531.6 Q2340.04 1540.33 2336.96 1544.94 Q2333.91 1549.52 2328.1 1549.52 Q2322.29 1549.52 2319.21 1544.94 Q2316.15 1540.33 2316.15 1531.6 Q2316.15 1522.85 2319.21 1518.27 Q2322.29 1513.66 2328.1 1513.66 Z\" fill=\"#000000\" fill-rule=\"nonzero\" fill-opacity=\"1\" /><polyline clip-path=\"url(#clip412)\" style=\"stroke:#000000; stroke-linecap:round; stroke-linejoin:round; stroke-width:2; stroke-opacity:0.1; fill:none\" points=\"186.274,1445.72 2352.76,1445.72 \"/>\n",
       "<polyline clip-path=\"url(#clip412)\" style=\"stroke:#000000; stroke-linecap:round; stroke-linejoin:round; stroke-width:2; stroke-opacity:0.1; fill:none\" points=\"186.274,1106.28 2352.76,1106.28 \"/>\n",
       "<polyline clip-path=\"url(#clip412)\" style=\"stroke:#000000; stroke-linecap:round; stroke-linejoin:round; stroke-width:2; stroke-opacity:0.1; fill:none\" points=\"186.274,766.846 2352.76,766.846 \"/>\n",
       "<polyline clip-path=\"url(#clip412)\" style=\"stroke:#000000; stroke-linecap:round; stroke-linejoin:round; stroke-width:2; stroke-opacity:0.1; fill:none\" points=\"186.274,427.411 2352.76,427.411 \"/>\n",
       "<polyline clip-path=\"url(#clip412)\" style=\"stroke:#000000; stroke-linecap:round; stroke-linejoin:round; stroke-width:2; stroke-opacity:0.1; fill:none\" points=\"186.274,87.9763 2352.76,87.9763 \"/>\n",
       "<polyline clip-path=\"url(#clip410)\" style=\"stroke:#000000; stroke-linecap:round; stroke-linejoin:round; stroke-width:4; stroke-opacity:1; fill:none\" points=\"186.274,1486.45 186.274,47.2441 \"/>\n",
       "<polyline clip-path=\"url(#clip410)\" style=\"stroke:#000000; stroke-linecap:round; stroke-linejoin:round; stroke-width:4; stroke-opacity:1; fill:none\" points=\"186.274,1445.72 205.172,1445.72 \"/>\n",
       "<polyline clip-path=\"url(#clip410)\" style=\"stroke:#000000; stroke-linecap:round; stroke-linejoin:round; stroke-width:4; stroke-opacity:1; fill:none\" points=\"186.274,1106.28 205.172,1106.28 \"/>\n",
       "<polyline clip-path=\"url(#clip410)\" style=\"stroke:#000000; stroke-linecap:round; stroke-linejoin:round; stroke-width:4; stroke-opacity:1; fill:none\" points=\"186.274,766.846 205.172,766.846 \"/>\n",
       "<polyline clip-path=\"url(#clip410)\" style=\"stroke:#000000; stroke-linecap:round; stroke-linejoin:round; stroke-width:4; stroke-opacity:1; fill:none\" points=\"186.274,427.411 205.172,427.411 \"/>\n",
       "<polyline clip-path=\"url(#clip410)\" style=\"stroke:#000000; stroke-linecap:round; stroke-linejoin:round; stroke-width:4; stroke-opacity:1; fill:none\" points=\"186.274,87.9763 205.172,87.9763 \"/>\n",
       "<path clip-path=\"url(#clip410)\" d=\"M62.9365 1431.51 Q59.3254 1431.51 57.4967 1435.08 Q55.6912 1438.62 55.6912 1445.75 Q55.6912 1452.86 57.4967 1456.42 Q59.3254 1459.96 62.9365 1459.96 Q66.5707 1459.96 68.3763 1456.42 Q70.205 1452.86 70.205 1445.75 Q70.205 1438.62 68.3763 1435.08 Q66.5707 1431.51 62.9365 1431.51 M62.9365 1427.81 Q68.7467 1427.81 71.8022 1432.42 Q74.8809 1437 74.8809 1445.75 Q74.8809 1454.48 71.8022 1459.08 Q68.7467 1463.67 62.9365 1463.67 Q57.1264 1463.67 54.0477 1459.08 Q50.9921 1454.48 50.9921 1445.75 Q50.9921 1437 54.0477 1432.42 Q57.1264 1427.81 62.9365 1427.81 Z\" fill=\"#000000\" fill-rule=\"nonzero\" fill-opacity=\"1\" /><path clip-path=\"url(#clip410)\" d=\"M83.0984 1457.12 L87.9827 1457.12 L87.9827 1463 L83.0984 1463 L83.0984 1457.12 Z\" fill=\"#000000\" fill-rule=\"nonzero\" fill-opacity=\"1\" /><path clip-path=\"url(#clip410)\" d=\"M108.168 1431.51 Q104.557 1431.51 102.728 1435.08 Q100.922 1438.62 100.922 1445.75 Q100.922 1452.86 102.728 1456.42 Q104.557 1459.96 108.168 1459.96 Q111.802 1459.96 113.608 1456.42 Q115.436 1452.86 115.436 1445.75 Q115.436 1438.62 113.608 1435.08 Q111.802 1431.51 108.168 1431.51 M108.168 1427.81 Q113.978 1427.81 117.033 1432.42 Q120.112 1437 120.112 1445.75 Q120.112 1454.48 117.033 1459.08 Q113.978 1463.67 108.168 1463.67 Q102.358 1463.67 99.2789 1459.08 Q96.2234 1454.48 96.2234 1445.75 Q96.2234 1437 99.2789 1432.42 Q102.358 1427.81 108.168 1427.81 Z\" fill=\"#000000\" fill-rule=\"nonzero\" fill-opacity=\"1\" /><path clip-path=\"url(#clip410)\" d=\"M138.33 1431.51 Q134.719 1431.51 132.89 1435.08 Q131.084 1438.62 131.084 1445.75 Q131.084 1452.86 132.89 1456.42 Q134.719 1459.96 138.33 1459.96 Q141.964 1459.96 143.769 1456.42 Q145.598 1452.86 145.598 1445.75 Q145.598 1438.62 143.769 1435.08 Q141.964 1431.51 138.33 1431.51 M138.33 1427.81 Q144.14 1427.81 147.195 1432.42 Q150.274 1437 150.274 1445.75 Q150.274 1454.48 147.195 1459.08 Q144.14 1463.67 138.33 1463.67 Q132.519 1463.67 129.441 1459.08 Q126.385 1454.48 126.385 1445.75 Q126.385 1437 129.441 1432.42 Q132.519 1427.81 138.33 1427.81 Z\" fill=\"#000000\" fill-rule=\"nonzero\" fill-opacity=\"1\" /><path clip-path=\"url(#clip410)\" d=\"M63.9319 1092.08 Q60.3208 1092.08 58.4921 1095.64 Q56.6865 1099.19 56.6865 1106.32 Q56.6865 1113.42 58.4921 1116.99 Q60.3208 1120.53 63.9319 1120.53 Q67.5661 1120.53 69.3717 1116.99 Q71.2004 1113.42 71.2004 1106.32 Q71.2004 1099.19 69.3717 1095.64 Q67.5661 1092.08 63.9319 1092.08 M63.9319 1088.38 Q69.742 1088.38 72.7976 1092.98 Q75.8763 1097.57 75.8763 1106.32 Q75.8763 1115.04 72.7976 1119.65 Q69.742 1124.23 63.9319 1124.23 Q58.1217 1124.23 55.043 1119.65 Q51.9875 1115.04 51.9875 1106.32 Q51.9875 1097.57 55.043 1092.98 Q58.1217 1088.38 63.9319 1088.38 Z\" fill=\"#000000\" fill-rule=\"nonzero\" fill-opacity=\"1\" /><path clip-path=\"url(#clip410)\" d=\"M84.0938 1117.68 L88.978 1117.68 L88.978 1123.56 L84.0938 1123.56 L84.0938 1117.68 Z\" fill=\"#000000\" fill-rule=\"nonzero\" fill-opacity=\"1\" /><path clip-path=\"url(#clip410)\" d=\"M103.191 1119.63 L119.51 1119.63 L119.51 1123.56 L97.566 1123.56 L97.566 1119.63 Q100.228 1116.87 104.811 1112.24 Q109.418 1107.59 110.598 1106.25 Q112.844 1103.72 113.723 1101.99 Q114.626 1100.23 114.626 1098.54 Q114.626 1095.78 112.682 1094.05 Q110.76 1092.31 107.658 1092.31 Q105.459 1092.31 103.006 1093.07 Q100.575 1093.84 97.7974 1095.39 L97.7974 1090.67 Q100.621 1089.53 103.075 1088.95 Q105.529 1088.38 107.566 1088.38 Q112.936 1088.38 116.131 1091.06 Q119.325 1093.75 119.325 1098.24 Q119.325 1100.37 118.515 1102.29 Q117.728 1104.19 115.621 1106.78 Q115.043 1107.45 111.941 1110.67 Q108.839 1113.86 103.191 1119.63 Z\" fill=\"#000000\" fill-rule=\"nonzero\" fill-opacity=\"1\" /><path clip-path=\"url(#clip410)\" d=\"M129.371 1089 L147.728 1089 L147.728 1092.94 L133.654 1092.94 L133.654 1101.41 Q134.672 1101.06 135.691 1100.9 Q136.709 1100.71 137.728 1100.71 Q143.515 1100.71 146.894 1103.89 Q150.274 1107.06 150.274 1112.47 Q150.274 1118.05 146.802 1121.15 Q143.33 1124.23 137.01 1124.23 Q134.834 1124.23 132.566 1123.86 Q130.32 1123.49 127.913 1122.75 L127.913 1118.05 Q129.996 1119.19 132.219 1119.74 Q134.441 1120.3 136.918 1120.3 Q140.922 1120.3 143.26 1118.19 Q145.598 1116.08 145.598 1112.47 Q145.598 1108.86 143.26 1106.76 Q140.922 1104.65 136.918 1104.65 Q135.043 1104.65 133.168 1105.07 Q131.316 1105.48 129.371 1106.36 L129.371 1089 Z\" fill=\"#000000\" fill-rule=\"nonzero\" fill-opacity=\"1\" /><path clip-path=\"url(#clip410)\" d=\"M62.9365 752.645 Q59.3254 752.645 57.4967 756.209 Q55.6912 759.751 55.6912 766.881 Q55.6912 773.987 57.4967 777.552 Q59.3254 781.094 62.9365 781.094 Q66.5707 781.094 68.3763 777.552 Q70.205 773.987 70.205 766.881 Q70.205 759.751 68.3763 756.209 Q66.5707 752.645 62.9365 752.645 M62.9365 748.941 Q68.7467 748.941 71.8022 753.547 Q74.8809 758.131 74.8809 766.881 Q74.8809 775.608 71.8022 780.214 Q68.7467 784.797 62.9365 784.797 Q57.1264 784.797 54.0477 780.214 Q50.9921 775.608 50.9921 766.881 Q50.9921 758.131 54.0477 753.547 Q57.1264 748.941 62.9365 748.941 Z\" fill=\"#000000\" fill-rule=\"nonzero\" fill-opacity=\"1\" /><path clip-path=\"url(#clip410)\" d=\"M83.0984 778.246 L87.9827 778.246 L87.9827 784.126 L83.0984 784.126 L83.0984 778.246 Z\" fill=\"#000000\" fill-rule=\"nonzero\" fill-opacity=\"1\" /><path clip-path=\"url(#clip410)\" d=\"M98.2141 749.566 L116.57 749.566 L116.57 753.501 L102.496 753.501 L102.496 761.973 Q103.515 761.626 104.534 761.464 Q105.552 761.279 106.571 761.279 Q112.358 761.279 115.737 764.45 Q119.117 767.621 119.117 773.038 Q119.117 778.617 115.645 781.719 Q112.172 784.797 105.853 784.797 Q103.677 784.797 101.409 784.427 Q99.1632 784.057 96.7558 783.316 L96.7558 778.617 Q98.8391 779.751 101.061 780.307 Q103.284 780.862 105.76 780.862 Q109.765 780.862 112.103 778.756 Q114.441 776.649 114.441 773.038 Q114.441 769.427 112.103 767.321 Q109.765 765.214 105.76 765.214 Q103.885 765.214 102.01 765.631 Q100.159 766.047 98.2141 766.927 L98.2141 749.566 Z\" fill=\"#000000\" fill-rule=\"nonzero\" fill-opacity=\"1\" /><path clip-path=\"url(#clip410)\" d=\"M138.33 752.645 Q134.719 752.645 132.89 756.209 Q131.084 759.751 131.084 766.881 Q131.084 773.987 132.89 777.552 Q134.719 781.094 138.33 781.094 Q141.964 781.094 143.769 777.552 Q145.598 773.987 145.598 766.881 Q145.598 759.751 143.769 756.209 Q141.964 752.645 138.33 752.645 M138.33 748.941 Q144.14 748.941 147.195 753.547 Q150.274 758.131 150.274 766.881 Q150.274 775.608 147.195 780.214 Q144.14 784.797 138.33 784.797 Q132.519 784.797 129.441 780.214 Q126.385 775.608 126.385 766.881 Q126.385 758.131 129.441 753.547 Q132.519 748.941 138.33 748.941 Z\" fill=\"#000000\" fill-rule=\"nonzero\" fill-opacity=\"1\" /><path clip-path=\"url(#clip410)\" d=\"M63.9319 413.21 Q60.3208 413.21 58.4921 416.775 Q56.6865 420.316 56.6865 427.446 Q56.6865 434.552 58.4921 438.117 Q60.3208 441.659 63.9319 441.659 Q67.5661 441.659 69.3717 438.117 Q71.2004 434.552 71.2004 427.446 Q71.2004 420.316 69.3717 416.775 Q67.5661 413.21 63.9319 413.21 M63.9319 409.506 Q69.742 409.506 72.7976 414.113 Q75.8763 418.696 75.8763 427.446 Q75.8763 436.173 72.7976 440.779 Q69.742 445.362 63.9319 445.362 Q58.1217 445.362 55.043 440.779 Q51.9875 436.173 51.9875 427.446 Q51.9875 418.696 55.043 414.113 Q58.1217 409.506 63.9319 409.506 Z\" fill=\"#000000\" fill-rule=\"nonzero\" fill-opacity=\"1\" /><path clip-path=\"url(#clip410)\" d=\"M84.0938 438.812 L88.978 438.812 L88.978 444.691 L84.0938 444.691 L84.0938 438.812 Z\" fill=\"#000000\" fill-rule=\"nonzero\" fill-opacity=\"1\" /><path clip-path=\"url(#clip410)\" d=\"M97.9826 410.131 L120.205 410.131 L120.205 412.122 L107.658 444.691 L102.774 444.691 L114.58 414.066 L97.9826 414.066 L97.9826 410.131 Z\" fill=\"#000000\" fill-rule=\"nonzero\" fill-opacity=\"1\" /><path clip-path=\"url(#clip410)\" d=\"M129.371 410.131 L147.728 410.131 L147.728 414.066 L133.654 414.066 L133.654 422.538 Q134.672 422.191 135.691 422.029 Q136.709 421.844 137.728 421.844 Q143.515 421.844 146.894 425.015 Q150.274 428.187 150.274 433.603 Q150.274 439.182 146.802 442.284 Q143.33 445.362 137.01 445.362 Q134.834 445.362 132.566 444.992 Q130.32 444.622 127.913 443.881 L127.913 439.182 Q129.996 440.316 132.219 440.872 Q134.441 441.427 136.918 441.427 Q140.922 441.427 143.26 439.321 Q145.598 437.214 145.598 433.603 Q145.598 429.992 143.26 427.886 Q140.922 425.779 136.918 425.779 Q135.043 425.779 133.168 426.196 Q131.316 426.613 129.371 427.492 L129.371 410.131 Z\" fill=\"#000000\" fill-rule=\"nonzero\" fill-opacity=\"1\" /><path clip-path=\"url(#clip410)\" d=\"M53.7467 101.321 L61.3856 101.321 L61.3856 74.9555 L53.0754 76.6222 L53.0754 72.3629 L61.3393 70.6963 L66.0152 70.6963 L66.0152 101.321 L73.654 101.321 L73.654 105.256 L53.7467 105.256 L53.7467 101.321 Z\" fill=\"#000000\" fill-rule=\"nonzero\" fill-opacity=\"1\" /><path clip-path=\"url(#clip410)\" d=\"M83.0984 99.3767 L87.9827 99.3767 L87.9827 105.256 L83.0984 105.256 L83.0984 99.3767 Z\" fill=\"#000000\" fill-rule=\"nonzero\" fill-opacity=\"1\" /><path clip-path=\"url(#clip410)\" d=\"M108.168 73.775 Q104.557 73.775 102.728 77.3398 Q100.922 80.8814 100.922 88.011 Q100.922 95.1174 102.728 98.6822 Q104.557 102.224 108.168 102.224 Q111.802 102.224 113.608 98.6822 Q115.436 95.1174 115.436 88.011 Q115.436 80.8814 113.608 77.3398 Q111.802 73.775 108.168 73.775 M108.168 70.0713 Q113.978 70.0713 117.033 74.6777 Q120.112 79.261 120.112 88.011 Q120.112 96.7378 117.033 101.344 Q113.978 105.928 108.168 105.928 Q102.358 105.928 99.2789 101.344 Q96.2234 96.7378 96.2234 88.011 Q96.2234 79.261 99.2789 74.6777 Q102.358 70.0713 108.168 70.0713 Z\" fill=\"#000000\" fill-rule=\"nonzero\" fill-opacity=\"1\" /><path clip-path=\"url(#clip410)\" d=\"M138.33 73.775 Q134.719 73.775 132.89 77.3398 Q131.084 80.8814 131.084 88.011 Q131.084 95.1174 132.89 98.6822 Q134.719 102.224 138.33 102.224 Q141.964 102.224 143.769 98.6822 Q145.598 95.1174 145.598 88.011 Q145.598 80.8814 143.769 77.3398 Q141.964 73.775 138.33 73.775 M138.33 70.0713 Q144.14 70.0713 147.195 74.6777 Q150.274 79.261 150.274 88.011 Q150.274 96.7378 147.195 101.344 Q144.14 105.928 138.33 105.928 Q132.519 105.928 129.441 101.344 Q126.385 96.7378 126.385 88.011 Q126.385 79.261 129.441 74.6777 Q132.519 70.0713 138.33 70.0713 Z\" fill=\"#000000\" fill-rule=\"nonzero\" fill-opacity=\"1\" /><polyline clip-path=\"url(#clip412)\" style=\"stroke:#009af9; stroke-linecap:round; stroke-linejoin:round; stroke-width:4; stroke-opacity:1; fill:none\" points=\"247.59,1445.72 451.975,1418.56 656.36,1391.41 860.745,1309.94 1065.13,1228.48 1269.51,1092.7 1473.9,956.93 1678.29,766.846 1882.67,576.762 2087.06,332.369 2291.44,87.9763 \"/>\n",
       "<polyline clip-path=\"url(#clip412)\" style=\"stroke:#e26f46; stroke-linecap:round; stroke-linejoin:round; stroke-width:4; stroke-opacity:1; fill:none\" points=\"247.59,1445.72 451.975,1444.36 656.36,1440.28 860.745,1430.78 1065.13,1413.13 1269.51,1384.62 1473.9,1342.53 1678.29,1284.14 1882.67,1206.75 2087.06,1107.64 2291.44,984.084 \"/>\n",
       "<path clip-path=\"url(#clip410)\" d=\"M258.49 250.738 L573.772 250.738 L573.772 95.2176 L258.49 95.2176  Z\" fill=\"#ffffff\" fill-rule=\"evenodd\" fill-opacity=\"1\"/>\n",
       "<polyline clip-path=\"url(#clip410)\" style=\"stroke:#000000; stroke-linecap:round; stroke-linejoin:round; stroke-width:4; stroke-opacity:1; fill:none\" points=\"258.49,250.738 573.772,250.738 573.772,95.2176 258.49,95.2176 258.49,250.738 \"/>\n",
       "<polyline clip-path=\"url(#clip410)\" style=\"stroke:#009af9; stroke-linecap:round; stroke-linejoin:round; stroke-width:4; stroke-opacity:1; fill:none\" points=\"282.562,147.058 426.994,147.058 \"/>\n",
       "<path clip-path=\"url(#clip410)\" d=\"M467.571 128.319 L467.571 131.861 L463.497 131.861 Q461.205 131.861 460.302 132.787 Q459.423 133.713 459.423 136.12 L459.423 138.412 L466.437 138.412 L466.437 141.722 L459.423 141.722 L459.423 164.338 L455.14 164.338 L455.14 141.722 L451.066 141.722 L451.066 138.412 L455.14 138.412 L455.14 136.606 Q455.14 132.278 457.154 130.31 Q459.168 128.319 463.543 128.319 L467.571 128.319 Z\" fill=\"#000000\" fill-rule=\"nonzero\" fill-opacity=\"1\" /><polyline clip-path=\"url(#clip410)\" style=\"stroke:#e26f46; stroke-linecap:round; stroke-linejoin:round; stroke-width:4; stroke-opacity:1; fill:none\" points=\"282.562,198.898 426.994,198.898 \"/>\n",
       "<path clip-path=\"url(#clip410)\" d=\"M451.066 190.252 L455.325 190.252 L455.325 216.178 L451.066 216.178 L451.066 190.252 M451.066 180.159 L455.325 180.159 L455.325 185.553 L451.066 185.553 L451.066 180.159 Z\" fill=\"#000000\" fill-rule=\"nonzero\" fill-opacity=\"1\" /><path clip-path=\"url(#clip410)\" d=\"M485.788 200.529 L485.788 216.178 L481.529 216.178 L481.529 200.668 Q481.529 196.988 480.094 195.159 Q478.659 193.33 475.788 193.33 Q472.339 193.33 470.349 195.53 Q468.358 197.729 468.358 201.525 L468.358 216.178 L464.075 216.178 L464.075 190.252 L468.358 190.252 L468.358 194.28 Q469.886 191.942 471.946 190.784 Q474.029 189.627 476.737 189.627 Q481.205 189.627 483.497 192.405 Q485.788 195.159 485.788 200.529 Z\" fill=\"#000000\" fill-rule=\"nonzero\" fill-opacity=\"1\" /><path clip-path=\"url(#clip410)\" d=\"M498.497 182.891 L498.497 190.252 L507.27 190.252 L507.27 193.562 L498.497 193.562 L498.497 207.636 Q498.497 210.807 499.353 211.71 Q500.233 212.613 502.895 212.613 L507.27 212.613 L507.27 216.178 L502.895 216.178 Q497.964 216.178 496.089 214.349 Q494.214 212.497 494.214 207.636 L494.214 193.562 L491.089 193.562 L491.089 190.252 L494.214 190.252 L494.214 182.891 L498.497 182.891 Z\" fill=\"#000000\" fill-rule=\"nonzero\" fill-opacity=\"1\" /><path clip-path=\"url(#clip410)\" d=\"M532.57 224.048 L532.57 227.358 L507.941 227.358 L507.941 224.048 L532.57 224.048 Z\" fill=\"#000000\" fill-rule=\"nonzero\" fill-opacity=\"1\" /><path clip-path=\"url(#clip410)\" d=\"M549.7 180.159 L549.7 183.701 L545.626 183.701 Q543.334 183.701 542.431 184.627 Q541.552 185.553 541.552 187.96 L541.552 190.252 L548.566 190.252 L548.566 193.562 L541.552 193.562 L541.552 216.178 L537.269 216.178 L537.269 193.562 L533.195 193.562 L533.195 190.252 L537.269 190.252 L537.269 188.446 Q537.269 184.118 539.283 182.15 Q541.297 180.159 545.672 180.159 L549.7 180.159 Z\" fill=\"#000000\" fill-rule=\"nonzero\" fill-opacity=\"1\" /></svg>\n"
      ]
     },
     "execution_count": 35,
     "metadata": {},
     "output_type": "execute_result"
    }
   ],
   "source": [
    "using Interpolations\n",
    "x = 0.0:0.2:1.0\n",
    "f(x) = x^2\n",
    "f_int = LinearInterpolation(x, f.(x))  # interpolates the coarse grid\n",
    "@show f_int(1.0)  # call like a function\n",
    "\n",
    "plotfunctions(f_int)  # same generic function"
   ]
  },
  {
   "cell_type": "markdown",
   "id": "2fc2feb9",
   "metadata": {},
   "source": [
    "Note that the same generic `plotfunctions` could use any variable passed to it that \"looks\" like a function, i.e., can call `f(x)`.\n",
    "\n",
    "This approach to design with types -- generic, but without any specific type declarations -- is called [duck typing](https://en.wikipedia.org/wiki/Duck_typing).\n",
    "\n",
    "If you need to make an existing type callable, see [Function Like Objects](https://docs.julialang.org/en/v1/manual/methods/#Function-like-objects-1).\n",
    "\n",
    "## Limitations of Dispatching on Abstract Types\n",
    "\n",
    "You will notice that types in Julia represent a tree with `Any` at the root.\n",
    "\n",
    "The tree structure has worked well for the above examples, but it doesn't allow us to associate multiple categorizations of types.\n",
    "\n",
    "For example, a semi-group type would be useful for a writing generic code (e.g.\n",
    "continuous-time solutions for ODEs and matrix-free methods), but cannot be\n",
    "implemented rigorously since the `Matrix` type is a semi-group as well\n",
    "as an `AbstractArray`, but not all semi-groups are `AbstractArray` s.\n",
    "\n",
    "The main way to implement this in a generic language is with a design approach called \"traits\".\n",
    "\n",
    "* See the [original discussion](https://github.com/JuliaLang/julia/issues/2345#issuecomment-54537633) and an [example of a package to facilitate the pattern](https://github.com/mauro3/SimpleTraits.jl).\n",
    "* A complete description of the traits pattern as the natural evolution of Multiple Dispatch is given in this [blog post](https://white.ucc.asn.au/2018/10/03/Dispatch,-Traits-and-Metaprogramming-Over-Reflection.html).\n",
    "\n",
    "## Exercises\n",
    "\n",
    "### Exercise 1a\n",
    "\n",
    "In a previous exercise, we discussed the {ref}`trapezoidal rule <intro_types_ex_5>` for numerical integration.\n",
    "\n",
    "To summarize, the vector\n",
    "\n",
    "$$\n",
    "\\int_{\\underline{x}}^{\\bar{x}} f(x) \\, dx \\approx \\omega \\cdot \\vec{f}\n",
    "$$\n",
    "\n",
    "where $\\vec{f} \\equiv \\begin{bmatrix} f(x_1) & \\ldots & f(x_N) \\end{bmatrix}\\in R^N$ and, for a uniform grid spacing\n",
    "of $\\Delta$,\n",
    "\n",
    "$$\n",
    "\\omega \\equiv \\Delta \\begin{bmatrix} \\frac{1}{2} & 1 & \\ldots & 1 & \\frac{1}{2}\\end{bmatrix} \\in R^N\n",
    "$$\n",
    "\n",
    "The quadrature rule can be implemented easily as"
   ]
  },
  {
   "cell_type": "code",
   "execution_count": 36,
   "id": "4de1fdde",
   "metadata": {},
   "outputs": [
    {
     "data": {
      "text/plain": [
       "0.3333503384008434"
      ]
     },
     "execution_count": 36,
     "metadata": {},
     "output_type": "execute_result"
    }
   ],
   "source": [
    "using LinearAlgebra\n",
    "function trap_weights(x)\n",
    "    return step(x) * [0.5; ones(length(x) - 2); 0.5]\n",
    "end\n",
    "x = range(0.0, 1.0, length = 100)\n",
    "ω = trap_weights(x)\n",
    "f(x) = x^2\n",
    "dot(f.(x), ω)"
   ]
  },
  {
   "cell_type": "markdown",
   "id": "e8698032",
   "metadata": {},
   "source": [
    "However, in this case the creation of the `ω` temporary is inefficient as there are no reasons to allocate an entire vector just\n",
    "to iterate through it with the `dot`.  Instead, create an iterable by following the [interface definition for Iteration](https://docs.julialang.org/en/v1/manual/interfaces/#man-interface-iteration-1), and\n",
    "implement the modified `trap_weights` and integration.\n",
    "\n",
    "Hint:  create a type such as"
   ]
  },
  {
   "cell_type": "code",
   "execution_count": 37,
   "id": "ac8fe8e6",
   "metadata": {},
   "outputs": [],
   "source": [
    "struct UniformTrapezoidal\n",
    "    count::Int\n",
    "    Δ::Float64\n",
    "end"
   ]
  },
  {
   "cell_type": "markdown",
   "id": "8ea6827f",
   "metadata": {},
   "source": [
    "and then implement the function `Base.iterate(S::UniformTrapezoidal, state=1)`.\n",
    "\n",
    "### Exercise 1b (Advanced)\n",
    "\n",
    "Make the `UniformTrapezoidal` type operate as an array with [interface definition for AbstractArray](https://docs.julialang.org/en/v1/manual/interfaces/#man-interface-array-1).  With this, you should be able it go `ω[2]` or `length(ω)` to access the quadrature weights.\n",
    "\n",
    "### Exercise 2 (Advanced)\n",
    "\n",
    "Implement the same features as Exercise 1a and 1b, but for the  [non-uniform trapezoidal rule](https://en.wikipedia.org/wiki/Trapezoidal_rule#Non-uniform_grid).\n",
    "\n",
    "(spec_field_types)="
   ]
  }
 ],
 "metadata": {
  "jupytext": {
   "text_representation": {
    "extension": ".md",
    "format_name": "myst"
   }
  },
  "kernelspec": {
   "display_name": "Julia",
   "language": "julia",
   "name": "julia-1.9"
  },
  "language_info": {
   "file_extension": ".jl",
   "mimetype": "application/julia",
   "name": "julia",
   "version": "1.9.2"
  },
  "source_map": [
   10,
   63,
   70,
   78,
   92,
   96,
   102,
   104,
   108,
   119,
   123,
   125,
   137,
   148,
   156,
   159,
   165,
   168,
   181,
   189,
   193,
   195,
   217,
   240,
   284,
   289,
   293,
   295,
   306,
   317,
   325,
   343,
   351,
   355,
   362,
   373,
   377,
   381,
   399,
   401,
   409,
   413,
   458,
   469,
   474,
   485,
   495,
   501,
   507,
   509,
   523,
   525,
   539,
   543,
   545,
   593,
   602,
   620,
   625,
   631,
   633,
   651,
   654,
   668,
   682,
   686,
   693,
   697,
   705,
   750,
   759,
   767,
   772
  ]
 },
 "nbformat": 4,
 "nbformat_minor": 5
}